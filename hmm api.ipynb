{
 "cells": [
  {
   "cell_type": "code",
   "execution_count": null,
   "metadata": {},
   "outputs": [],
   "source": [
    "import pandas as pd\n",
    "import numpy as np\n",
    "import matplotlib.pyplot as plt\n",
    "from matplotlib import cm\n",
    "import seaborn as sns\n",
    "from hmmlearn import hmm"
   ]
  },
  {
   "cell_type": "code",
   "execution_count": null,
   "metadata": {},
   "outputs": [],
   "source": [
    "# Hidden Markov Model Modifiable Parameters\n",
    "hidden_states = 3;\n",
    "em_iterations = 75;\n",
    "num_models = 8;"
   ]
  },
  {
   "cell_type": "code",
   "execution_count": null,
   "metadata": {},
   "outputs": [],
   "source": [
    "df = pd.read_csv('data/SPY.csv')"
   ]
  },
  {
   "cell_type": "code",
   "execution_count": null,
   "metadata": {},
   "outputs": [],
   "source": [
    "# Volatility is computed by obtaining variance between current close and prices of past 10 days\n",
    "Volatility = []\n",
    "\n",
    "# MA is the 10 day SMA\n",
    "MA = []\n",
    "\n",
    "# Return is the single-day percentage return\n",
    "Return = []\n",
    "ma_sum = 0;\n",
    "\n",
    "# Warming up data for moving average and volatility calculations\n",
    "for i in range (0, 10):\n",
    "    Volatility.append(0);\n",
    "    MA.append(0);\n",
    "    Return.append(0);\n",
    "    ma_sum += df['Close'][i];\n",
    "\n",
    "# Filling in data for return, moving average, and volatility\n",
    "for ind in df.index: \n",
    "    if ind >= 10:\n",
    "        tail_close = df['Close'][ind-10];\n",
    "        prev_close = df['Close'][ind-1];\n",
    "        head_close = df['Close'][ind];\n",
    "        ma_sum = (ma_sum - tail_close + head_close);\n",
    "        ma_curr = ma_sum/10;\n",
    "        MA.append(ma_curr);\n",
    "        Return.append(((head_close-prev_close)/prev_close)*100);\n",
    "        #Computing Volatility\n",
    "        vol_sum = 0;\n",
    "        for i in range (0,10):\n",
    "            curr_vol = abs(ma_curr - df['Close'][ind-i]);\n",
    "            vol_sum += (curr_vol ** 2);\n",
    "        Volatility.append(vol_sum/10);\n",
    "\n",
    "        "
   ]
  },
  {
   "cell_type": "code",
   "execution_count": null,
   "metadata": {},
   "outputs": [],
   "source": [
    "# Adding columns to dataframe\n",
    "df['Volatility'] = Volatility;\n",
    "df['MA'] = MA;\n",
    "df['Return'] = Return;"
   ]
  },
  {
   "cell_type": "code",
   "execution_count": null,
   "metadata": {},
   "outputs": [],
   "source": [
    "# Dataframe readjustment\n",
    "total_length = 6843\n",
    "drop_length = 3508\n",
    "training_length = 2706\n",
    "test_length = total_length - drop_length - training_length\n",
    "data_length = training_length+test_length\n",
    "df = df.drop(range(0, drop_length));\n",
    "df.index = range(0, data_length);\n"
   ]
  },
  {
   "cell_type": "code",
   "execution_count": null,
   "metadata": {},
   "outputs": [],
   "source": [
    "# Creating testing and training dataset\n",
    "# 2000 datapoints in training, 838 datapoints in test\n",
    "test = pd.DataFrame(df, index = range(training_length, data_length))\n",
    "test.index = range(0,test_length)\n",
    "training = df.drop(range(training_length, data_length))"
   ]
  },
  {
   "cell_type": "code",
   "execution_count": null,
   "metadata": {},
   "outputs": [],
   "source": [
    "fig, a =  plt.subplots(3,3)\n",
    "x = np.arange(1,5)\n",
    "fig.tight_layout()\n",
    "a[0][0].plot(range(0,training_length), training.iloc[:,1])\n",
    "a[0][0].set_title('Open')\n",
    "a[0][1].plot(range(0,training_length), training.iloc[:,2])\n",
    "a[0][1].set_title('High')\n",
    "a[0][2].plot(range(0,training_length), training.iloc[:,3])\n",
    "a[0][2].set_title('Low')\n",
    "a[1][0].plot(range(0,training_length), training.iloc[:,4])\n",
    "a[1][0].set_title('Close')\n",
    "a[1][1].plot(range(0,training_length), training.iloc[:,7])\n",
    "a[1][1].set_title('Volatility')\n",
    "a[1][2].plot(range(0,training_length), training.iloc[:,9])\n",
    "a[1][2].set_title('Return')\n",
    "a[2][0].plot(range(0,training_length), training.iloc[:,8])\n",
    "a[2][0].set_title('MA')\n",
    "a[2][1].plot(range(0,training_length), training.iloc[:,6])\n",
    "a[2][1].set_title('Volume')\n",
    "a[2][2].plot(range(0,training_length), training.iloc[:,5])\n",
    "a[2][2].set_title('Adj Close')\n",
    "plt.show()\n"
   ]
  },
  {
   "cell_type": "code",
   "execution_count": null,
   "metadata": {},
   "outputs": [],
   "source": [
    "df.head()"
   ]
  },
  {
   "cell_type": "code",
   "execution_count": null,
   "metadata": {},
   "outputs": [],
   "source": [
    "# Creating the Hidden Markov Model\n",
    "model = hmm.GaussianHMM(n_components = hidden_states, covariance_type=\"full\", n_iter = em_iterations);\n",
    "vol = training.iloc[:,7];\n",
    "ret = training.iloc[:,9];\n",
    "obs = [];\n",
    "for i in range(0, len(vol)):\n",
    "    arr = [];\n",
    "    arr.append(vol[i]);\n",
    "    arr.append(ret[i]);\n",
    "    obs.append(arr);\n",
    "\n",
    "# Fitting the model and obtaining predictions\n",
    "model.fit(obs)\n",
    "predictions = model.predict(obs)"
   ]
  },
  {
   "cell_type": "code",
   "execution_count": null,
   "metadata": {},
   "outputs": [],
   "source": [
    "plt.plot(predictions, 'ro');"
   ]
  },
  {
   "cell_type": "code",
   "execution_count": null,
   "metadata": {},
   "outputs": [],
   "source": [
    "# Regime Classification\n",
    "regime_vol = [];\n",
    "regime_ret = [];\n",
    "regime_count = [];\n",
    "return_map = {};\n",
    "\n",
    "for i in range(0, hidden_states):\n",
    "    regime_vol.append(0);\n",
    "    regime_ret.append(0);\n",
    "    regime_count.append(0);\n",
    "\n",
    "for i in range(0, len(predictions)):\n",
    "    regime_count[predictions[i]] += 1;\n",
    "    regime_vol[predictions[i]] += training.iloc[i, 7];\n",
    "    regime_ret[predictions[i]] += training.iloc[i, 9];\n",
    "    \n",
    "    if not predictions[i] in return_map:\n",
    "        return_map[predictions[i]] = [];\n",
    "    return_map[predictions[i]].append(training.iloc[i,9]);\n",
    "    \n",
    "for i in range(0, hidden_states):\n",
    "    regime_vol[i] = regime_vol[i] / regime_count[i];\n",
    "    regime_ret[i] = regime_ret[i] / regime_count[i];"
   ]
  },
  {
   "cell_type": "code",
   "execution_count": null,
   "metadata": {},
   "outputs": [],
   "source": [
    "max_occurrence = np.argmax(regime_count)\n",
    "for i in range(0, hidden_states):\n",
    "    print(\"Regime {0}\".format(i))\n",
    "    print(\"Avg Vol: {0}\".format(regime_vol[i]));\n",
    "    print(\"Avg Return: {0}\".format(regime_ret[i]));\n",
    "    print(\"Occurrence: {0}\\n\".format(regime_count[i]));"
   ]
  },
  {
   "cell_type": "code",
   "execution_count": null,
   "metadata": {},
   "outputs": [],
   "source": [
    "plot = sns.relplot(x=range(0,training_length), y=\"Close\", data=training, hue=predictions, \n",
    "            linewidth = 0, palette=\"Set2\", s = 10);\n",
    "plot.fig.set_size_inches(18,10)"
   ]
  },
  {
   "cell_type": "code",
   "execution_count": null,
   "metadata": {},
   "outputs": [],
   "source": [
    "returns = pd.DataFrame(data = return_map[max_occurrence])\n",
    "for i in range(0, hidden_states):\n",
    "    if(i is not max_occurrence):\n",
    "        returns[i] = pd.Series(return_map[i]);\n",
    "\n",
    "#sns.pairplot(data = returns, height=3);\n"
   ]
  },
  {
   "cell_type": "code",
   "execution_count": null,
   "metadata": {},
   "outputs": [],
   "source": [
    "distribution = model.get_stationary_distribution();\n",
    "for i in range(0, hidden_states):\n",
    "    print(\"Regime {0}: {1}\".format(i, distribution[i]));\n"
   ]
  },
  {
   "cell_type": "code",
   "execution_count": null,
   "metadata": {},
   "outputs": [],
   "source": [
    "print(\"Model Score: {0}\".format(model.score(obs)));"
   ]
  },
  {
   "cell_type": "code",
   "execution_count": null,
   "metadata": {},
   "outputs": [],
   "source": [
    "# Boxplot of returns\n",
    "fig, ax = plt.subplots()\n",
    "ax.set(ylim=(-15, 15))\n",
    "ax.set_title(\"Boxplot of Returns\")\n",
    "ax.boxplot(return_map.values(), notch=True, vert = True, autorange = True)\n",
    "ax.set_xticklabels(return_map.keys())"
   ]
  }
 ],
 "metadata": {
  "kernelspec": {
   "display_name": "ml-env",
   "language": "python",
   "name": "python3"
  },
  "language_info": {
   "codemirror_mode": {
    "name": "ipython",
    "version": 3
   },
   "file_extension": ".py",
   "mimetype": "text/x-python",
   "name": "python",
   "nbconvert_exporter": "python",
   "pygments_lexer": "ipython3",
   "version": "3.9.18"
  }
 },
 "nbformat": 4,
 "nbformat_minor": 4
}
