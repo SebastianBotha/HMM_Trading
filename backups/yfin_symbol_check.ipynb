{
 "cells": [
  {
   "cell_type": "code",
   "execution_count": 16,
   "metadata": {},
   "outputs": [
    {
     "name": "stderr",
     "output_type": "stream",
     "text": [
      "[*********************100%***********************]  1 of 1 completed"
     ]
    },
    {
     "name": "stdout",
     "output_type": "stream",
     "text": [
      "Price           Close       High        Low       Open   Volume\n",
      "Ticker           VTIP       VTIP       VTIP       VTIP     VTIP\n",
      "Date                                                           \n",
      "2024-01-02  46.089645  46.109077  46.070214  46.079932  1907000\n",
      "2024-01-03  46.128510  46.138227  46.050789  46.070216  1951900\n",
      "2024-01-04  46.079933  46.099364  46.060502  46.079933  1379600\n",
      "2024-01-05  46.031353  46.138222  46.031353  46.041067   873500\n",
      "2024-01-08  46.060501  46.109077  46.021639  46.031356  1102800\n",
      "...               ...        ...        ...        ...      ...\n",
      "2024-12-24  48.235085  48.245063  48.185180  48.205141   714400\n",
      "2024-12-26  48.255043  48.255043  48.205142  48.205142  1085200\n",
      "2024-12-27  48.245064  48.284986  48.235085  48.284986  1641300\n",
      "2024-12-30  48.304947  48.314926  48.275003  48.275003  1430000\n",
      "2024-12-31  48.324905  48.374810  48.304948  48.364828   843700\n",
      "\n",
      "[252 rows x 5 columns]\n"
     ]
    },
    {
     "name": "stderr",
     "output_type": "stream",
     "text": [
      "\n"
     ]
    }
   ],
   "source": [
    "\n",
    "import yfinance as yf\n",
    "ticker = 'VTIP'\n",
    "start_date = \"2024-01-01\"\n",
    "end_date = \"2025-01-01\"\n",
    "\n",
    "df_ticker = yf.download(ticker, start=start_date, end=end_date, auto_adjust=True)\n",
    "print(df_ticker)"
   ]
  }
 ],
 "metadata": {
  "kernelspec": {
   "display_name": "ml-env",
   "language": "python",
   "name": "python3"
  },
  "language_info": {
   "codemirror_mode": {
    "name": "ipython",
    "version": 3
   },
   "file_extension": ".py",
   "mimetype": "text/x-python",
   "name": "python",
   "nbconvert_exporter": "python",
   "pygments_lexer": "ipython3",
   "version": "3.9.18"
  }
 },
 "nbformat": 4,
 "nbformat_minor": 4
}
