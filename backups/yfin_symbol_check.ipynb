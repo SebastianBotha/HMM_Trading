{
 "cells": [
  {
   "cell_type": "code",
   "execution_count": null,
   "metadata": {},
   "outputs": [
    {
     "name": "stderr",
     "output_type": "stream",
     "text": [
      "[*********************100%***********************]  1 of 1 completed"
     ]
    },
    {
     "name": "stdout",
     "output_type": "stream",
     "text": [
      "Price       Close   High    Low   Open Volume\n",
      "Ticker       ^FVX   ^FVX   ^FVX   ^FVX   ^FVX\n",
      "Date                                         \n",
      "2024-01-02  3.926  3.948  3.896  3.940      0\n",
      "2024-01-03  3.891  3.987  3.882  3.955      0\n",
      "2024-01-04  3.973  3.987  3.947  3.952      0\n",
      "2024-01-05  4.008  4.093  3.919  4.017      0\n",
      "2024-01-08  3.956  4.024  3.919  4.021      0\n",
      "...           ...    ...    ...    ...    ...\n",
      "2024-12-24  4.438  4.476  4.431  4.452      0\n",
      "2024-12-26  4.433  4.491  4.429  4.484      0\n",
      "2024-12-27  4.456  4.460  4.417  4.447      0\n",
      "2024-12-30  4.370  4.410  4.365  4.408      0\n",
      "2024-12-31  4.380  4.398  4.340  4.356      0\n",
      "\n",
      "[252 rows x 5 columns]\n"
     ]
    },
    {
     "name": "stderr",
     "output_type": "stream",
     "text": [
      "\n"
     ]
    }
   ],
   "source": [
    "\n",
    "import yfinance as yf\n",
    "ticker = '^IRX'\n",
    "start_date = \"2024-01-01\"\n",
    "end_date = \"2025-01-01\"\n",
    "\n",
    "df_ticker = yf.download(ticker, start=start_date, end=end_date, auto_adjust=True)\n",
    "print(df_ticker)"
   ]
  }
 ],
 "metadata": {
  "kernelspec": {
   "display_name": "ml-env",
   "language": "python",
   "name": "python3"
  },
  "language_info": {
   "codemirror_mode": {
    "name": "ipython",
    "version": 3
   },
   "file_extension": ".py",
   "mimetype": "text/x-python",
   "name": "python",
   "nbconvert_exporter": "python",
   "pygments_lexer": "ipython3",
   "version": "3.9.18"
  }
 },
 "nbformat": 4,
 "nbformat_minor": 4
}
