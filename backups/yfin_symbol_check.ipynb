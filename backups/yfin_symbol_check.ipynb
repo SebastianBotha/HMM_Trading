{
 "cells": [
  {
   "cell_type": "code",
   "execution_count": 16,
   "metadata": {},
   "outputs": [
    {
     "name": "stderr",
     "output_type": "stream",
     "text": [
      "[*********************100%***********************]  1 of 1 completed"
     ]
    },
    {
     "name": "stdout",
     "output_type": "stream",
     "text": [
      "Price            Close        High         Low        Open  Volume\n",
      "Ticker            SPUU        SPUU        SPUU        SPUU    SPUU\n",
      "Date                                                              \n",
      "2024-01-02  101.055038  101.501049  100.252230  100.985660   36000\n",
      "2024-01-03   99.429596  100.470280   99.211547  100.182853   32800\n",
      "2024-01-04   98.785355  100.301774   98.785355   99.251184   20700\n",
      "2024-01-05   99.092621  100.014367   98.527680   99.152086   20600\n",
      "2024-01-08  101.818207  101.818207   99.271018   99.271018   31300\n",
      "...                ...         ...         ...         ...     ...\n",
      "2025-04-10  114.970001  118.120003  107.800003  117.870003   84600\n",
      "2025-04-11  118.489998  119.220001  112.900002  113.699997   61900\n",
      "2025-04-14  120.660004  122.940002  118.489998  122.940002  112200\n",
      "2025-04-15  119.980003  122.500000  119.900002  120.949997   31600\n",
      "2025-04-16  114.610001  118.500000  112.470001  117.349998   74000\n",
      "\n",
      "[324 rows x 5 columns]\n"
     ]
    },
    {
     "name": "stderr",
     "output_type": "stream",
     "text": [
      "\n"
     ]
    }
   ],
   "source": [
    "import yfinance as yf\n",
    "from datetime import datetime, timedelta\n",
    "\n",
    "ticker = 'SPUU'\n",
    "start_date = \"2024-01-01\"\n",
    "end_date = (datetime.today() + timedelta(days=1)).strftime(\"%Y-%m-%d\")\n",
    "\n",
    "df_ticker = yf.download(ticker, start=start_date, end=end_date, auto_adjust=True, interval='1d')\n",
    "print(df_ticker)"
   ]
  }
 ],
 "metadata": {
  "kernelspec": {
   "display_name": "ml-env",
   "language": "python",
   "name": "python3"
  },
  "language_info": {
   "codemirror_mode": {
    "name": "ipython",
    "version": 3
   },
   "file_extension": ".py",
   "mimetype": "text/x-python",
   "name": "python",
   "nbconvert_exporter": "python",
   "pygments_lexer": "ipython3",
   "version": "3.9.18"
  }
 },
 "nbformat": 4,
 "nbformat_minor": 4
}
