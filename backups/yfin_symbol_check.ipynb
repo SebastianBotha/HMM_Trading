{
 "cells": [
  {
   "cell_type": "code",
   "execution_count": null,
   "metadata": {},
   "outputs": [
    {
     "name": "stderr",
     "output_type": "stream",
     "text": [
      "[*********************100%***********************]  1 of 1 completed"
     ]
    },
    {
     "name": "stdout",
     "output_type": "stream",
     "text": [
      "Price            Close        High         Low        Open     Volume\n",
      "Ticker             SPY         SPY         SPY         SPY        SPY\n",
      "Date                                                                 \n",
      "2024-01-02  465.264374  466.268455  463.138122  464.782040  123623700\n",
      "2024-01-03  461.464691  463.827183  460.854384  463.079049  103585900\n",
      "2024-01-04  459.978271  463.600761  459.751855  460.982322   84232200\n",
      "2024-01-05  460.608276  463.088888  459.141539  460.184973   86060800\n",
      "2024-01-08  467.183899  467.331549  460.982325  461.110298   74879100\n",
      "...                ...         ...         ...         ...        ...\n",
      "2025-04-09  548.619995  548.619995  493.049988  493.440002  241867300\n",
      "2025-04-10  524.580017  533.500000  509.320007  532.169983  162331200\n",
      "2025-04-11  533.940002  536.429993  520.070007  523.010010   97866300\n",
      "2025-04-14  539.119995  544.280029  533.859985  544.049988   68034000\n",
      "2025-04-15  537.609985  543.229980  536.809998  539.669983   56628300\n",
      "\n",
      "[323 rows x 5 columns]\n"
     ]
    },
    {
     "name": "stderr",
     "output_type": "stream",
     "text": [
      "\n"
     ]
    }
   ],
   "source": [
    "\n",
    "import yfinance as yf\n",
    "from datetime import datetime, timedelta\n",
    "ticker = 'SPY'\n",
    "start_date = \"2024-01-01\"\n",
    "end_date = datetime.today().strftime(\"%Y-%m-%d\")\n",
    "\n",
    "df_ticker = yf.download(ticker, start=start_date, end=end_date, auto_adjust=True)\n",
    "print(df_ticker(ta))"
   ]
  }
 ],
 "metadata": {
  "kernelspec": {
   "display_name": "ml-env",
   "language": "python",
   "name": "python3"
  },
  "language_info": {
   "codemirror_mode": {
    "name": "ipython",
    "version": 3
   },
   "file_extension": ".py",
   "mimetype": "text/x-python",
   "name": "python",
   "nbconvert_exporter": "python",
   "pygments_lexer": "ipython3",
   "version": "3.9.18"
  }
 },
 "nbformat": 4,
 "nbformat_minor": 4
}
