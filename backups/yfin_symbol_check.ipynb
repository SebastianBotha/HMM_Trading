{
 "cells": [
  {
   "cell_type": "code",
   "execution_count": 6,
   "metadata": {},
   "outputs": [
    {
     "name": "stderr",
     "output_type": "stream",
     "text": [
      "[*********************100%***********************]  1 of 1 completed"
     ]
    },
    {
     "name": "stdout",
     "output_type": "stream",
     "text": [
      "Price           Close       High        Low       Open   Volume\n",
      "Ticker            AHH        AHH        AHH        AHH      AHH\n",
      "Date                                                           \n",
      "2024-01-02  11.315696  11.388524  11.097210  11.197350   497900\n",
      "2024-01-03  11.006175  11.251970  11.006175  11.251970   274000\n",
      "2024-01-04  11.151833  11.224661  11.024383  11.088108   276400\n",
      "2024-01-05  11.179141  11.297487  11.015278  11.042588   291300\n",
      "2024-01-08  11.415833  11.470455  11.179141  11.206453   248300\n",
      "...               ...        ...        ...        ...      ...\n",
      "2025-04-16   6.560000   6.900000   6.550000   6.860000  2631400\n",
      "2025-04-17   6.820000   6.840000   6.590000   6.590000   887100\n",
      "2025-04-21   6.760000   6.800000   6.620000   6.730000  1161100\n",
      "2025-04-22   6.940000   6.970000   6.790000   6.830000   604000\n",
      "2025-04-23   6.800000   7.118000   6.800000   7.100000   713251\n",
      "\n",
      "[328 rows x 5 columns]\n"
     ]
    },
    {
     "name": "stderr",
     "output_type": "stream",
     "text": [
      "\n"
     ]
    }
   ],
   "source": [
    "import yfinance as yf\n",
    "from datetime import datetime, timedelta\n",
    "\n",
    "ticker = 'AHH'\n",
    "start_date = \"2024-01-01\"\n",
    "end_date = (datetime.today() + timedelta(days=1)).strftime(\"%Y-%m-%d\")\n",
    "\n",
    "df_ticker = yf.download(ticker, start=start_date, end=end_date, auto_adjust=True, interval='1d')\n",
    "print(df_ticker)"
   ]
  }
 ],
 "metadata": {
  "kernelspec": {
   "display_name": "trader_env",
   "language": "python",
   "name": "python3"
  },
  "language_info": {
   "codemirror_mode": {
    "name": "ipython",
    "version": 3
   },
   "file_extension": ".py",
   "mimetype": "text/x-python",
   "name": "python",
   "nbconvert_exporter": "python",
   "pygments_lexer": "ipython3",
   "version": "3.9.22"
  }
 },
 "nbformat": 4,
 "nbformat_minor": 4
}
