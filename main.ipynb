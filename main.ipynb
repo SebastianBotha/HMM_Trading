{
 "cells": [
  {
   "cell_type": "code",
   "execution_count": null,
   "metadata": {},
   "outputs": [
    {
     "name": "stderr",
     "output_type": "stream",
     "text": [
      "[*********************100%***********************]  1 of 1 completed"
     ]
    },
    {
     "name": "stdout",
     "output_type": "stream",
     "text": [
      "Downloading SPY data from 1995-01-01 to 2025-04-11...\n",
      "DataFrame structure:\n",
      "Data shape: (7620, 6)\n",
      "Data columns: ['Date', 'Close', 'High', 'Low', 'Open', 'Volume']\n"
     ]
    },
    {
     "name": "stderr",
     "output_type": "stream",
     "text": [
      "\n"
     ]
    },
    {
     "data": {
      "application/vnd.microsoft.datawrangler.viewer.v0+json": {
       "columns": [
        {
         "name": "index",
         "rawType": "int64",
         "type": "integer"
        },
        {
         "name": "Date",
         "rawType": "datetime64[ns]",
         "type": "datetime"
        },
        {
         "name": "Close",
         "rawType": "float64",
         "type": "float"
        },
        {
         "name": "High",
         "rawType": "float64",
         "type": "float"
        },
        {
         "name": "Low",
         "rawType": "float64",
         "type": "float"
        },
        {
         "name": "Open",
         "rawType": "float64",
         "type": "float"
        },
        {
         "name": "Volume",
         "rawType": "int64",
         "type": "integer"
        }
       ],
       "conversionMethod": "pd.DataFrame",
       "ref": "7c4c1ebd-47c8-4818-bb4b-590eee2e20dd",
       "rows": [
        [
         "0",
         "1995-01-03 00:00:00",
         "26.81586265563965",
         "26.852471341858948",
         "26.76094962631069",
         "26.770101797865518",
         "324300"
        ],
        [
         "1",
         "1995-01-04 00:00:00",
         "26.94400405883789",
         "26.94400405883789",
         "26.79756925417029",
         "26.934851883546166",
         "351800"
        ],
        [
         "2",
         "1995-01-05 00:00:00",
         "26.94400405883789",
         "27.008069285879962",
         "26.916547532962717",
         "26.96230840942134",
         "89800"
        ],
        [
         "3",
         "1995-01-06 00:00:00",
         "26.971464157104492",
         "27.09044245165568",
         "26.88909456856905",
         "26.9989206866163",
         "448400"
        ],
        [
         "4",
         "1995-01-09 00:00:00",
         "26.998920440673828",
         "26.99892044067383",
         "26.944007382150424",
         "26.96231173499156",
         "36800"
        ]
       ],
       "shape": {
        "columns": 6,
        "rows": 5
       }
      },
      "text/html": [
       "<div>\n",
       "<style scoped>\n",
       "    .dataframe tbody tr th:only-of-type {\n",
       "        vertical-align: middle;\n",
       "    }\n",
       "\n",
       "    .dataframe tbody tr th {\n",
       "        vertical-align: top;\n",
       "    }\n",
       "\n",
       "    .dataframe thead th {\n",
       "        text-align: right;\n",
       "    }\n",
       "</style>\n",
       "<table border=\"1\" class=\"dataframe\">\n",
       "  <thead>\n",
       "    <tr style=\"text-align: right;\">\n",
       "      <th>Price</th>\n",
       "      <th>Date</th>\n",
       "      <th>Close</th>\n",
       "      <th>High</th>\n",
       "      <th>Low</th>\n",
       "      <th>Open</th>\n",
       "      <th>Volume</th>\n",
       "    </tr>\n",
       "  </thead>\n",
       "  <tbody>\n",
       "    <tr>\n",
       "      <th>0</th>\n",
       "      <td>1995-01-03</td>\n",
       "      <td>26.815863</td>\n",
       "      <td>26.852471</td>\n",
       "      <td>26.760950</td>\n",
       "      <td>26.770102</td>\n",
       "      <td>324300</td>\n",
       "    </tr>\n",
       "    <tr>\n",
       "      <th>1</th>\n",
       "      <td>1995-01-04</td>\n",
       "      <td>26.944004</td>\n",
       "      <td>26.944004</td>\n",
       "      <td>26.797569</td>\n",
       "      <td>26.934852</td>\n",
       "      <td>351800</td>\n",
       "    </tr>\n",
       "    <tr>\n",
       "      <th>2</th>\n",
       "      <td>1995-01-05</td>\n",
       "      <td>26.944004</td>\n",
       "      <td>27.008069</td>\n",
       "      <td>26.916548</td>\n",
       "      <td>26.962308</td>\n",
       "      <td>89800</td>\n",
       "    </tr>\n",
       "    <tr>\n",
       "      <th>3</th>\n",
       "      <td>1995-01-06</td>\n",
       "      <td>26.971464</td>\n",
       "      <td>27.090442</td>\n",
       "      <td>26.889095</td>\n",
       "      <td>26.998921</td>\n",
       "      <td>448400</td>\n",
       "    </tr>\n",
       "    <tr>\n",
       "      <th>4</th>\n",
       "      <td>1995-01-09</td>\n",
       "      <td>26.998920</td>\n",
       "      <td>26.998920</td>\n",
       "      <td>26.944007</td>\n",
       "      <td>26.962312</td>\n",
       "      <td>36800</td>\n",
       "    </tr>\n",
       "  </tbody>\n",
       "</table>\n",
       "</div>"
      ],
      "text/plain": [
       "Price       Date      Close       High        Low       Open  Volume\n",
       "0     1995-01-03  26.815863  26.852471  26.760950  26.770102  324300\n",
       "1     1995-01-04  26.944004  26.944004  26.797569  26.934852  351800\n",
       "2     1995-01-05  26.944004  27.008069  26.916548  26.962308   89800\n",
       "3     1995-01-06  26.971464  27.090442  26.889095  26.998921  448400\n",
       "4     1995-01-09  26.998920  26.998920  26.944007  26.962312   36800"
      ]
     },
     "execution_count": 111,
     "metadata": {},
     "output_type": "execute_result"
    }
   ],
   "source": [
    "import pandas as pd\n",
    "import numpy as np\n",
    "import matplotlib.pyplot as plt\n",
    "from matplotlib import cm\n",
    "import seaborn as sns\n",
    "import plotly.graph_objects as go\n",
    "import plotly.express as px\n",
    "import plotly.figure_factory as ff\n",
    "from plotly.subplots import make_subplots\n",
    "from hmmlearn import hmm\n",
    "import yfinance as yf\n",
    "from datetime import datetime, timedelta\n",
    "import warnings\n",
    "warnings.filterwarnings('ignore')\n",
    "\n",
    "# Hidden Markov Model Modifiable Parameters\n",
    "hidden_states = 3\n",
    "em_iterations = 75 #75\n",
    "\n",
    "# Fixed training period (2007-2017)\n",
    "train_start_date = \"2018-01-01\"\n",
    "train_end_date = \"2024-12-31\"\n",
    "\n",
    "# Date parameters for yfinance API - download data from 1995 to present\n",
    "start_date = \"1995-01-01\"\n",
    "end_date = datetime.today().strftime(\"%Y-%m-%d\")\n",
    "\n",
    "print(f\"Downloading SPY data from {start_date} to {end_date}...\")\n",
    "# Download data using yfinance\n",
    "df = yf.download('SPY', start=start_date, end=end_date, auto_adjust=True)\n",
    "\n",
    "# Fix the multi-level column structure\n",
    "df.columns = df.columns.droplevel(1) if len(df.columns.names) > 1 else df.columns\n",
    "\n",
    "# Reset index to make Date a column\n",
    "df = df.reset_index()\n",
    "\n",
    "# Display first few rows to check the structure\n",
    "print(\"DataFrame structure:\")\n",
    "print(\"Data shape:\", df.shape)\n",
    "print(\"Data columns:\", df.columns.tolist())\n",
    "df.head()"
   ]
  },
  {
   "cell_type": "code",
   "execution_count": 112,
   "metadata": {},
   "outputs": [
    {
     "data": {
      "application/vnd.microsoft.datawrangler.viewer.v0+json": {
       "columns": [
        {
         "name": "index",
         "rawType": "int64",
         "type": "integer"
        },
        {
         "name": "Date",
         "rawType": "datetime64[ns]",
         "type": "datetime"
        },
        {
         "name": "Close",
         "rawType": "float64",
         "type": "float"
        },
        {
         "name": "High",
         "rawType": "float64",
         "type": "float"
        },
        {
         "name": "Low",
         "rawType": "float64",
         "type": "float"
        },
        {
         "name": "Open",
         "rawType": "float64",
         "type": "float"
        },
        {
         "name": "Volume",
         "rawType": "int64",
         "type": "integer"
        },
        {
         "name": "Volatility",
         "rawType": "float64",
         "type": "float"
        },
        {
         "name": "MA",
         "rawType": "float64",
         "type": "float"
        },
        {
         "name": "Return",
         "rawType": "float64",
         "type": "float"
        }
       ],
       "conversionMethod": "pd.DataFrame",
       "ref": "15564521-9556-423b-9c19-cef18485694d",
       "rows": [
        [
         "0",
         "1995-01-03 00:00:00",
         "26.81586265563965",
         "26.852471341858948",
         "26.76094962631069",
         "26.770101797865518",
         "324300",
         "0.0",
         "0.0",
         "0.0"
        ],
        [
         "1",
         "1995-01-04 00:00:00",
         "26.94400405883789",
         "26.94400405883789",
         "26.79756925417029",
         "26.934851883546166",
         "351800",
         "0.0",
         "0.0",
         "0.0"
        ],
        [
         "2",
         "1995-01-05 00:00:00",
         "26.94400405883789",
         "27.008069285879962",
         "26.916547532962717",
         "26.96230840942134",
         "89800",
         "0.0",
         "0.0",
         "0.0"
        ],
        [
         "3",
         "1995-01-06 00:00:00",
         "26.971464157104492",
         "27.09044245165568",
         "26.88909456856905",
         "26.9989206866163",
         "448400",
         "0.0",
         "0.0",
         "0.0"
        ],
        [
         "4",
         "1995-01-09 00:00:00",
         "26.998920440673828",
         "26.99892044067383",
         "26.944007382150424",
         "26.96231173499156",
         "36800",
         "0.0",
         "0.0",
         "0.0"
        ],
        [
         "5",
         "1995-01-10 00:00:00",
         "27.02637481689453",
         "27.172809627957964",
         "27.02637481689453",
         "27.06298351966039",
         "229800",
         "0.0",
         "0.0",
         "0.0"
        ],
        [
         "6",
         "1995-01-11 00:00:00",
         "27.044675827026367",
         "27.117893223512393",
         "26.83417581212904",
         "27.117893223512393",
         "222400",
         "0.0",
         "0.0",
         "0.0"
        ],
        [
         "7",
         "1995-01-12 00:00:00",
         "27.053829193115234",
         "27.072133543042916",
         "26.96230744347682",
         "27.01722049325987",
         "40300",
         "0.0",
         "0.0",
         "0.0"
        ],
        [
         "8",
         "1995-01-13 00:00:00",
         "27.374155044555664",
         "27.374155044555664",
         "27.16365502248118",
         "27.200263721972394",
         "170600",
         "0.0",
         "0.0",
         "0.0"
        ],
        [
         "9",
         "1995-01-16 00:00:00",
         "27.538896560668945",
         "27.548048736328855",
         "27.365005223130655",
         "27.365005223130655",
         "105100",
         "0.0",
         "0.0",
         "0.0"
        ],
        [
         "10",
         "1995-01-17 00:00:00",
         "27.548023223876953",
         "27.56632755824498",
         "27.447349384852817",
         "27.483958053588868",
         "89500",
         "0.05347927116541541",
         "27.14443473815918",
         "0.03314099091770624"
        ],
        [
         "11",
         "1995-01-18 00:00:00",
         "27.520584106445312",
         "27.57549714423669",
         "27.456518895688706",
         "27.529736279410542",
         "84500",
         "0.06028641465731198",
         "27.202092742919923",
         "-0.09960466930294318"
        ],
        [
         "12",
         "1995-01-19 00:00:00",
         "27.364994049072266",
         "27.45651576829993",
         "27.34668970522673",
         "27.42905925253163",
         "139100",
         "0.0545067956080311",
         "27.24419174194336",
         "-0.5653588483850811"
        ],
        [
         "13",
         "1995-01-20 00:00:00",
         "27.264328002929688",
         "27.337545399379312",
         "27.209414955592464",
         "27.32839322482311",
         "78700",
         "0.04625161663356266",
         "27.27347812652588",
         "-0.36786430854711233"
        ],
        [
         "14",
         "1995-01-23 00:00:00",
         "27.346683502197266",
         "27.346683502197266",
         "27.06296623694689",
         "27.081270576640463",
         "53700",
         "0.03803993558063666",
         "27.308254432678222",
         "0.302063191356591"
        ]
       ],
       "shape": {
        "columns": 9,
        "rows": 15
       }
      },
      "text/html": [
       "<div>\n",
       "<style scoped>\n",
       "    .dataframe tbody tr th:only-of-type {\n",
       "        vertical-align: middle;\n",
       "    }\n",
       "\n",
       "    .dataframe tbody tr th {\n",
       "        vertical-align: top;\n",
       "    }\n",
       "\n",
       "    .dataframe thead th {\n",
       "        text-align: right;\n",
       "    }\n",
       "</style>\n",
       "<table border=\"1\" class=\"dataframe\">\n",
       "  <thead>\n",
       "    <tr style=\"text-align: right;\">\n",
       "      <th>Price</th>\n",
       "      <th>Date</th>\n",
       "      <th>Close</th>\n",
       "      <th>High</th>\n",
       "      <th>Low</th>\n",
       "      <th>Open</th>\n",
       "      <th>Volume</th>\n",
       "      <th>Volatility</th>\n",
       "      <th>MA</th>\n",
       "      <th>Return</th>\n",
       "    </tr>\n",
       "  </thead>\n",
       "  <tbody>\n",
       "    <tr>\n",
       "      <th>0</th>\n",
       "      <td>1995-01-03</td>\n",
       "      <td>26.815863</td>\n",
       "      <td>26.852471</td>\n",
       "      <td>26.760950</td>\n",
       "      <td>26.770102</td>\n",
       "      <td>324300</td>\n",
       "      <td>0.000000</td>\n",
       "      <td>0.000000</td>\n",
       "      <td>0.000000</td>\n",
       "    </tr>\n",
       "    <tr>\n",
       "      <th>1</th>\n",
       "      <td>1995-01-04</td>\n",
       "      <td>26.944004</td>\n",
       "      <td>26.944004</td>\n",
       "      <td>26.797569</td>\n",
       "      <td>26.934852</td>\n",
       "      <td>351800</td>\n",
       "      <td>0.000000</td>\n",
       "      <td>0.000000</td>\n",
       "      <td>0.000000</td>\n",
       "    </tr>\n",
       "    <tr>\n",
       "      <th>2</th>\n",
       "      <td>1995-01-05</td>\n",
       "      <td>26.944004</td>\n",
       "      <td>27.008069</td>\n",
       "      <td>26.916548</td>\n",
       "      <td>26.962308</td>\n",
       "      <td>89800</td>\n",
       "      <td>0.000000</td>\n",
       "      <td>0.000000</td>\n",
       "      <td>0.000000</td>\n",
       "    </tr>\n",
       "    <tr>\n",
       "      <th>3</th>\n",
       "      <td>1995-01-06</td>\n",
       "      <td>26.971464</td>\n",
       "      <td>27.090442</td>\n",
       "      <td>26.889095</td>\n",
       "      <td>26.998921</td>\n",
       "      <td>448400</td>\n",
       "      <td>0.000000</td>\n",
       "      <td>0.000000</td>\n",
       "      <td>0.000000</td>\n",
       "    </tr>\n",
       "    <tr>\n",
       "      <th>4</th>\n",
       "      <td>1995-01-09</td>\n",
       "      <td>26.998920</td>\n",
       "      <td>26.998920</td>\n",
       "      <td>26.944007</td>\n",
       "      <td>26.962312</td>\n",
       "      <td>36800</td>\n",
       "      <td>0.000000</td>\n",
       "      <td>0.000000</td>\n",
       "      <td>0.000000</td>\n",
       "    </tr>\n",
       "    <tr>\n",
       "      <th>5</th>\n",
       "      <td>1995-01-10</td>\n",
       "      <td>27.026375</td>\n",
       "      <td>27.172810</td>\n",
       "      <td>27.026375</td>\n",
       "      <td>27.062984</td>\n",
       "      <td>229800</td>\n",
       "      <td>0.000000</td>\n",
       "      <td>0.000000</td>\n",
       "      <td>0.000000</td>\n",
       "    </tr>\n",
       "    <tr>\n",
       "      <th>6</th>\n",
       "      <td>1995-01-11</td>\n",
       "      <td>27.044676</td>\n",
       "      <td>27.117893</td>\n",
       "      <td>26.834176</td>\n",
       "      <td>27.117893</td>\n",
       "      <td>222400</td>\n",
       "      <td>0.000000</td>\n",
       "      <td>0.000000</td>\n",
       "      <td>0.000000</td>\n",
       "    </tr>\n",
       "    <tr>\n",
       "      <th>7</th>\n",
       "      <td>1995-01-12</td>\n",
       "      <td>27.053829</td>\n",
       "      <td>27.072134</td>\n",
       "      <td>26.962307</td>\n",
       "      <td>27.017220</td>\n",
       "      <td>40300</td>\n",
       "      <td>0.000000</td>\n",
       "      <td>0.000000</td>\n",
       "      <td>0.000000</td>\n",
       "    </tr>\n",
       "    <tr>\n",
       "      <th>8</th>\n",
       "      <td>1995-01-13</td>\n",
       "      <td>27.374155</td>\n",
       "      <td>27.374155</td>\n",
       "      <td>27.163655</td>\n",
       "      <td>27.200264</td>\n",
       "      <td>170600</td>\n",
       "      <td>0.000000</td>\n",
       "      <td>0.000000</td>\n",
       "      <td>0.000000</td>\n",
       "    </tr>\n",
       "    <tr>\n",
       "      <th>9</th>\n",
       "      <td>1995-01-16</td>\n",
       "      <td>27.538897</td>\n",
       "      <td>27.548049</td>\n",
       "      <td>27.365005</td>\n",
       "      <td>27.365005</td>\n",
       "      <td>105100</td>\n",
       "      <td>0.000000</td>\n",
       "      <td>0.000000</td>\n",
       "      <td>0.000000</td>\n",
       "    </tr>\n",
       "    <tr>\n",
       "      <th>10</th>\n",
       "      <td>1995-01-17</td>\n",
       "      <td>27.548023</td>\n",
       "      <td>27.566328</td>\n",
       "      <td>27.447349</td>\n",
       "      <td>27.483958</td>\n",
       "      <td>89500</td>\n",
       "      <td>0.053479</td>\n",
       "      <td>27.144435</td>\n",
       "      <td>0.033141</td>\n",
       "    </tr>\n",
       "    <tr>\n",
       "      <th>11</th>\n",
       "      <td>1995-01-18</td>\n",
       "      <td>27.520584</td>\n",
       "      <td>27.575497</td>\n",
       "      <td>27.456519</td>\n",
       "      <td>27.529736</td>\n",
       "      <td>84500</td>\n",
       "      <td>0.060286</td>\n",
       "      <td>27.202093</td>\n",
       "      <td>-0.099605</td>\n",
       "    </tr>\n",
       "    <tr>\n",
       "      <th>12</th>\n",
       "      <td>1995-01-19</td>\n",
       "      <td>27.364994</td>\n",
       "      <td>27.456516</td>\n",
       "      <td>27.346690</td>\n",
       "      <td>27.429059</td>\n",
       "      <td>139100</td>\n",
       "      <td>0.054507</td>\n",
       "      <td>27.244192</td>\n",
       "      <td>-0.565359</td>\n",
       "    </tr>\n",
       "    <tr>\n",
       "      <th>13</th>\n",
       "      <td>1995-01-20</td>\n",
       "      <td>27.264328</td>\n",
       "      <td>27.337545</td>\n",
       "      <td>27.209415</td>\n",
       "      <td>27.328393</td>\n",
       "      <td>78700</td>\n",
       "      <td>0.046252</td>\n",
       "      <td>27.273478</td>\n",
       "      <td>-0.367864</td>\n",
       "    </tr>\n",
       "    <tr>\n",
       "      <th>14</th>\n",
       "      <td>1995-01-23</td>\n",
       "      <td>27.346684</td>\n",
       "      <td>27.346684</td>\n",
       "      <td>27.062966</td>\n",
       "      <td>27.081271</td>\n",
       "      <td>53700</td>\n",
       "      <td>0.038040</td>\n",
       "      <td>27.308254</td>\n",
       "      <td>0.302063</td>\n",
       "    </tr>\n",
       "  </tbody>\n",
       "</table>\n",
       "</div>"
      ],
      "text/plain": [
       "Price       Date      Close       High        Low       Open  Volume  \\\n",
       "0     1995-01-03  26.815863  26.852471  26.760950  26.770102  324300   \n",
       "1     1995-01-04  26.944004  26.944004  26.797569  26.934852  351800   \n",
       "2     1995-01-05  26.944004  27.008069  26.916548  26.962308   89800   \n",
       "3     1995-01-06  26.971464  27.090442  26.889095  26.998921  448400   \n",
       "4     1995-01-09  26.998920  26.998920  26.944007  26.962312   36800   \n",
       "5     1995-01-10  27.026375  27.172810  27.026375  27.062984  229800   \n",
       "6     1995-01-11  27.044676  27.117893  26.834176  27.117893  222400   \n",
       "7     1995-01-12  27.053829  27.072134  26.962307  27.017220   40300   \n",
       "8     1995-01-13  27.374155  27.374155  27.163655  27.200264  170600   \n",
       "9     1995-01-16  27.538897  27.548049  27.365005  27.365005  105100   \n",
       "10    1995-01-17  27.548023  27.566328  27.447349  27.483958   89500   \n",
       "11    1995-01-18  27.520584  27.575497  27.456519  27.529736   84500   \n",
       "12    1995-01-19  27.364994  27.456516  27.346690  27.429059  139100   \n",
       "13    1995-01-20  27.264328  27.337545  27.209415  27.328393   78700   \n",
       "14    1995-01-23  27.346684  27.346684  27.062966  27.081271   53700   \n",
       "\n",
       "Price  Volatility         MA    Return  \n",
       "0        0.000000   0.000000  0.000000  \n",
       "1        0.000000   0.000000  0.000000  \n",
       "2        0.000000   0.000000  0.000000  \n",
       "3        0.000000   0.000000  0.000000  \n",
       "4        0.000000   0.000000  0.000000  \n",
       "5        0.000000   0.000000  0.000000  \n",
       "6        0.000000   0.000000  0.000000  \n",
       "7        0.000000   0.000000  0.000000  \n",
       "8        0.000000   0.000000  0.000000  \n",
       "9        0.000000   0.000000  0.000000  \n",
       "10       0.053479  27.144435  0.033141  \n",
       "11       0.060286  27.202093 -0.099605  \n",
       "12       0.054507  27.244192 -0.565359  \n",
       "13       0.046252  27.273478 -0.367864  \n",
       "14       0.038040  27.308254  0.302063  "
      ]
     },
     "execution_count": 112,
     "metadata": {},
     "output_type": "execute_result"
    }
   ],
   "source": [
    "# Function to calculate technical indicators\n",
    "def calculate_indicators(data):\n",
    "    # Create a copy of the dataframe to avoid modifying original\n",
    "    df_copy = data.copy()\n",
    "    \n",
    "    # Volatility is computed by obtaining variance between current close and prices of past 10 days\n",
    "    volatility = []\n",
    "    # MA is the 10 day SMA\n",
    "    ma = []\n",
    "    # Return is the single-day percentage return\n",
    "    returns = []\n",
    "    ma_sum = 0\n",
    "    \n",
    "    # Warming up data for moving average and volatility calculations\n",
    "    for i in range(0, 10):\n",
    "        volatility.append(0)\n",
    "        ma.append(0)\n",
    "        returns.append(0)\n",
    "        ma_sum += df_copy['Close'].iloc[i]\n",
    "    \n",
    "    # Filling in data for return, moving average, and volatility\n",
    "    for ind in range(len(df_copy)):\n",
    "        if ind >= 10:\n",
    "            tail_close = df_copy['Close'].iloc[ind-10]\n",
    "            prev_close = df_copy['Close'].iloc[ind-1]\n",
    "            head_close = df_copy['Close'].iloc[ind]\n",
    "            ma_sum = (ma_sum - tail_close + head_close)\n",
    "            ma_curr = ma_sum/10\n",
    "            ma.append(ma_curr)\n",
    "            returns.append(((head_close-prev_close)/prev_close)*100)\n",
    "            # Computing Volatility\n",
    "            vol_sum = 0\n",
    "            for i in range(0, 10):\n",
    "                curr_vol = abs(ma_curr - df_copy['Close'].iloc[ind-i])\n",
    "                vol_sum += (curr_vol ** 2)\n",
    "            volatility.append(vol_sum/10)\n",
    "    \n",
    "    # Adding columns to dataframe\n",
    "    df_copy['Volatility'] = volatility\n",
    "    df_copy['MA'] = ma\n",
    "    df_copy['Return'] = returns\n",
    "    \n",
    "    return df_copy\n",
    "\n",
    "# Calculate indicators for the entire dataset\n",
    "df = calculate_indicators(df)\n",
    "df.head(15)"
   ]
  },
  {
   "cell_type": "code",
   "execution_count": 113,
   "metadata": {},
   "outputs": [
    {
     "name": "stdout",
     "output_type": "stream",
     "text": [
      "Training model on data from 2020-01-01 to 2024-12-31\n",
      "Training data shape: (1258, 9)\n",
      "Regime 0\n",
      "Avg Vol: 9.178382289015254\n",
      "Avg Return: 0.11619144311037989\n",
      "Occurrence: 586\n",
      "\n",
      "Regime 1\n",
      "Avg Vol: 33.32243492762282\n",
      "Avg Return: 0.05294329672172074\n",
      "Occurrence: 528\n",
      "\n",
      "Regime 2\n",
      "Avg Vol: 120.87016427923929\n",
      "Avg Return: -0.12134007176305242\n",
      "Occurrence: 144\n",
      "\n"
     ]
    }
   ],
   "source": [
    "# Function to train HMM model on specified period\n",
    "def train_hmm_model(data, start_date, end_date, n_states=3, n_iter=75):\n",
    "    # Filter data to training period\n",
    "    training = data[(data['Date'] >= start_date) & (data['Date'] <= end_date)].copy()\n",
    "    \n",
    "    print(f\"Training model on data from {start_date} to {end_date}\")\n",
    "    print(f\"Training data shape: {training.shape}\")\n",
    "    \n",
    "    # Prepare observations for HMM (using Volatility and Return)\n",
    "    obs = np.column_stack([training['Volatility'].values, training['Return'].values])\n",
    "    \n",
    "    # Create and train the HMM model\n",
    "    model = hmm.GaussianHMM(n_components=n_states, covariance_type=\"full\", n_iter=n_iter)\n",
    "    model.fit(obs)\n",
    "    \n",
    "    # Get predictions for training data\n",
    "    predictions = model.predict(obs)\n",
    "    \n",
    "    # Analyze regime characteristics\n",
    "    regime_vol = [0] * n_states\n",
    "    regime_ret = [0] * n_states\n",
    "    regime_count = [0] * n_states\n",
    "    return_map = {i: [] for i in range(n_states)}\n",
    "    \n",
    "    for i in range(len(predictions)):\n",
    "        regime = predictions[i]\n",
    "        regime_count[regime] += 1\n",
    "        regime_vol[regime] += training['Volatility'].iloc[i]\n",
    "        regime_ret[regime] += training['Return'].iloc[i]\n",
    "        return_map[regime].append(training['Return'].iloc[i])\n",
    "    \n",
    "    # Calculate averages\n",
    "    for i in range(n_states):\n",
    "        if regime_count[i] > 0:  # Prevent division by zero\n",
    "            regime_vol[i] = regime_vol[i] / regime_count[i]\n",
    "            regime_ret[i] = regime_ret[i] / regime_count[i]\n",
    "    \n",
    "    # Print regime characteristics\n",
    "    for i in range(n_states):\n",
    "        print(f\"Regime {i}\")\n",
    "        print(f\"Avg Vol: {regime_vol[i]}\")\n",
    "        print(f\"Avg Return: {regime_ret[i]}\")\n",
    "        print(f\"Occurrence: {regime_count[i]}\\n\")\n",
    "    \n",
    "    return model, training, predictions\n",
    "\n",
    "# Train the model on the fixed period (2007-2017)\n",
    "model, training_data, train_predictions = train_hmm_model(df, train_start_date, train_end_date, \n",
    "                                                         hidden_states, em_iterations)"
   ]
  },
  {
   "cell_type": "code",
   "execution_count": 114,
   "metadata": {},
   "outputs": [
    {
     "data": {
      "application/vnd.plotly.v1+json": {
       "config": {
        "plotlyServerURL": "https://plot.ly"
       },
       "data": [
        {
         "hovertemplate": "Date=%{x}<br>Price=%{y}<br>Market Regime=%{marker.color}<extra></extra>",
         "legendgroup": "",
         "marker": {
          "color": {
           "bdata": "AAAAAAAAAAAAAAAAAAAAAAAAAAAAAAAAAAAAAAAAAAAAAAABAgICAgICAgICAgICAgICAgICAgICAgICAgICAgICAgICAgICAgIBAQAAAAAAAQEBAQAAAAAAAAAAAAEBAQEBAQEBAQEBAQEBAQEBAgEBAQEBAQEBAQAAAAAAAAEBAQEBAAAAAAAAAAAAAAAAAAAAAAAAAAAAAAAAAAAAAAAAAAAAAAABAQEBAQEBAQEBAQEAAAAAAQEBAQEBAQEBAQEBAQEBAQEBAQAAAAAAAAEBAQEBAQEBAgICAgIBAQAAAAAAAAAAAAAAAAAAAAAAAAAAAAAAAAAAAAAAAAAAAAAAAAAAAAAAAAAAAAAAAAEBAQEBAQEBAQEBAAAAAAAAAAAAAAAAAAAAAAABAQEBAQEAAAAAAAAAAAAAAQEBAQEBAQEAAAAAAAAAAAAAAAAAAAAAAAAAAAAAAAAAAAAAAAAAAAAAAAAAAAAAAAAAAAAAAAAAAAAAAAAAAAAAAAAAAAAAAAAAAAAAAAAAAAAAAAAAAAAAAAAAAAAAAAAAAAAAAAAAAAAAAAAAAAAAAAAAAQEBAQEBAQEBAQEBAQEAAAAAAAEBAQEBAQEBAAAAAAAAAAAAAAAAAAAAAAAAAAAAAAABAQEBAQEBAQEBAQEBAQEBAQEBAQEBAQEBAQEBAQEBAQEBAQECAgICAgICAgICAQEBAQEBAQEBAQEBAgIBAQEBAQEBAQEBAQEBAQECAgICAgICAQEBAQEBAQEBAQEBAQEBAQEBAQICAgICAgICAgICAgICAgICAQEBAQEBAgICAgIBAQEBAgICAgICAgICAgEBAQEBAQEAAAAAAAAAAAEBAQEBAQEBAQEBAQEBAQAAAAEBAQEBAQEBAQECAgICAgICAgEBAQEBAQEBAQICAgICAgICAQEBAQEBAQEBAQEBAQEBAQEBAQEBAQEBAQEBAQICAgICAgEBAQAAAAABAQEBAQEBAQEBAQEBAQEBAQEBAQAAAAAAAAAAAQEBAQEBAAAAAAABAQEBAQEBAQEBAAAAAAAAAQEBAQEBAQAAAAAAAAEBAQEBAQEBAQAAAAAAAAEBAQEBAQEAAAAAAAAAAAAAAAAAAAAAAAAAAAAAAAAAAAAAAAAAAAAAAAABAQEBAQEBAQEBAQEBAAAAAAAAAAAAAAAAAAAAAAABAQEBAAAAAAAAAAAAAAAAAAAAAAAAAAAAAAAAAAAAAQEBAQEBAAAAAAAAAAAAAQEBAQEBAQEBAAAAAAAAAQEBAQEBAQEBAQEBAQEBAQECAgICAgEBAQEBAQEBAQAAAAAAAAAAAAAAAAEBAQEBAQEBAAAAAAAAAAAAAAAAAAAAAAAAAAABAQEBAQAAAAAAAQEBAQAAAAAAAAABAQEBAQEAAAAAAAAAAAAAAAAAAAAAAAAAAAAAAAAAAAAAAQEBAQEBAQEAAAAAAAAAAQEBAQEBAQEBAQEBAAAAAAAAAAAAAAAAAAEBAQEBAQEBAAAAAAAAAAAAAAEBAQEBAQEBAQEBAQEBAQEBAQECAgICAgICAgICAgICAgIBAQAAAAAAAQEBAQEBAQEBAQEBAQEBAQEAAAAAAAAAAAAAAQEBAQEAAAAAAAAAAAEBAQEBAgICAgICAgEBAQEBAQEBAQEBAQEAAAAAAAAAAAEBAQEBAQEBAQ==",
           "dtype": "i1"
          },
          "coloraxis": "coloraxis",
          "opacity": 0.8,
          "symbol": "circle"
         },
         "mode": "markers",
         "name": "",
         "showlegend": false,
         "type": "scattergl",
         "x": [
          "2020-01-02T00:00:00.000000000",
          "2020-01-03T00:00:00.000000000",
          "2020-01-06T00:00:00.000000000",
          "2020-01-07T00:00:00.000000000",
          "2020-01-08T00:00:00.000000000",
          "2020-01-09T00:00:00.000000000",
          "2020-01-10T00:00:00.000000000",
          "2020-01-13T00:00:00.000000000",
          "2020-01-14T00:00:00.000000000",
          "2020-01-15T00:00:00.000000000",
          "2020-01-16T00:00:00.000000000",
          "2020-01-17T00:00:00.000000000",
          "2020-01-21T00:00:00.000000000",
          "2020-01-22T00:00:00.000000000",
          "2020-01-23T00:00:00.000000000",
          "2020-01-24T00:00:00.000000000",
          "2020-01-27T00:00:00.000000000",
          "2020-01-28T00:00:00.000000000",
          "2020-01-29T00:00:00.000000000",
          "2020-01-30T00:00:00.000000000",
          "2020-01-31T00:00:00.000000000",
          "2020-02-03T00:00:00.000000000",
          "2020-02-04T00:00:00.000000000",
          "2020-02-05T00:00:00.000000000",
          "2020-02-06T00:00:00.000000000",
          "2020-02-07T00:00:00.000000000",
          "2020-02-10T00:00:00.000000000",
          "2020-02-11T00:00:00.000000000",
          "2020-02-12T00:00:00.000000000",
          "2020-02-13T00:00:00.000000000",
          "2020-02-14T00:00:00.000000000",
          "2020-02-18T00:00:00.000000000",
          "2020-02-19T00:00:00.000000000",
          "2020-02-20T00:00:00.000000000",
          "2020-02-21T00:00:00.000000000",
          "2020-02-24T00:00:00.000000000",
          "2020-02-25T00:00:00.000000000",
          "2020-02-26T00:00:00.000000000",
          "2020-02-27T00:00:00.000000000",
          "2020-02-28T00:00:00.000000000",
          "2020-03-02T00:00:00.000000000",
          "2020-03-03T00:00:00.000000000",
          "2020-03-04T00:00:00.000000000",
          "2020-03-05T00:00:00.000000000",
          "2020-03-06T00:00:00.000000000",
          "2020-03-09T00:00:00.000000000",
          "2020-03-10T00:00:00.000000000",
          "2020-03-11T00:00:00.000000000",
          "2020-03-12T00:00:00.000000000",
          "2020-03-13T00:00:00.000000000",
          "2020-03-16T00:00:00.000000000",
          "2020-03-17T00:00:00.000000000",
          "2020-03-18T00:00:00.000000000",
          "2020-03-19T00:00:00.000000000",
          "2020-03-20T00:00:00.000000000",
          "2020-03-23T00:00:00.000000000",
          "2020-03-24T00:00:00.000000000",
          "2020-03-25T00:00:00.000000000",
          "2020-03-26T00:00:00.000000000",
          "2020-03-27T00:00:00.000000000",
          "2020-03-30T00:00:00.000000000",
          "2020-03-31T00:00:00.000000000",
          "2020-04-01T00:00:00.000000000",
          "2020-04-02T00:00:00.000000000",
          "2020-04-03T00:00:00.000000000",
          "2020-04-06T00:00:00.000000000",
          "2020-04-07T00:00:00.000000000",
          "2020-04-08T00:00:00.000000000",
          "2020-04-09T00:00:00.000000000",
          "2020-04-13T00:00:00.000000000",
          "2020-04-14T00:00:00.000000000",
          "2020-04-15T00:00:00.000000000",
          "2020-04-16T00:00:00.000000000",
          "2020-04-17T00:00:00.000000000",
          "2020-04-20T00:00:00.000000000",
          "2020-04-21T00:00:00.000000000",
          "2020-04-22T00:00:00.000000000",
          "2020-04-23T00:00:00.000000000",
          "2020-04-24T00:00:00.000000000",
          "2020-04-27T00:00:00.000000000",
          "2020-04-28T00:00:00.000000000",
          "2020-04-29T00:00:00.000000000",
          "2020-04-30T00:00:00.000000000",
          "2020-05-01T00:00:00.000000000",
          "2020-05-04T00:00:00.000000000",
          "2020-05-05T00:00:00.000000000",
          "2020-05-06T00:00:00.000000000",
          "2020-05-07T00:00:00.000000000",
          "2020-05-08T00:00:00.000000000",
          "2020-05-11T00:00:00.000000000",
          "2020-05-12T00:00:00.000000000",
          "2020-05-13T00:00:00.000000000",
          "2020-05-14T00:00:00.000000000",
          "2020-05-15T00:00:00.000000000",
          "2020-05-18T00:00:00.000000000",
          "2020-05-19T00:00:00.000000000",
          "2020-05-20T00:00:00.000000000",
          "2020-05-21T00:00:00.000000000",
          "2020-05-22T00:00:00.000000000",
          "2020-05-26T00:00:00.000000000",
          "2020-05-27T00:00:00.000000000",
          "2020-05-28T00:00:00.000000000",
          "2020-05-29T00:00:00.000000000",
          "2020-06-01T00:00:00.000000000",
          "2020-06-02T00:00:00.000000000",
          "2020-06-03T00:00:00.000000000",
          "2020-06-04T00:00:00.000000000",
          "2020-06-05T00:00:00.000000000",
          "2020-06-08T00:00:00.000000000",
          "2020-06-09T00:00:00.000000000",
          "2020-06-10T00:00:00.000000000",
          "2020-06-11T00:00:00.000000000",
          "2020-06-12T00:00:00.000000000",
          "2020-06-15T00:00:00.000000000",
          "2020-06-16T00:00:00.000000000",
          "2020-06-17T00:00:00.000000000",
          "2020-06-18T00:00:00.000000000",
          "2020-06-19T00:00:00.000000000",
          "2020-06-22T00:00:00.000000000",
          "2020-06-23T00:00:00.000000000",
          "2020-06-24T00:00:00.000000000",
          "2020-06-25T00:00:00.000000000",
          "2020-06-26T00:00:00.000000000",
          "2020-06-29T00:00:00.000000000",
          "2020-06-30T00:00:00.000000000",
          "2020-07-01T00:00:00.000000000",
          "2020-07-02T00:00:00.000000000",
          "2020-07-06T00:00:00.000000000",
          "2020-07-07T00:00:00.000000000",
          "2020-07-08T00:00:00.000000000",
          "2020-07-09T00:00:00.000000000",
          "2020-07-10T00:00:00.000000000",
          "2020-07-13T00:00:00.000000000",
          "2020-07-14T00:00:00.000000000",
          "2020-07-15T00:00:00.000000000",
          "2020-07-16T00:00:00.000000000",
          "2020-07-17T00:00:00.000000000",
          "2020-07-20T00:00:00.000000000",
          "2020-07-21T00:00:00.000000000",
          "2020-07-22T00:00:00.000000000",
          "2020-07-23T00:00:00.000000000",
          "2020-07-24T00:00:00.000000000",
          "2020-07-27T00:00:00.000000000",
          "2020-07-28T00:00:00.000000000",
          "2020-07-29T00:00:00.000000000",
          "2020-07-30T00:00:00.000000000",
          "2020-07-31T00:00:00.000000000",
          "2020-08-03T00:00:00.000000000",
          "2020-08-04T00:00:00.000000000",
          "2020-08-05T00:00:00.000000000",
          "2020-08-06T00:00:00.000000000",
          "2020-08-07T00:00:00.000000000",
          "2020-08-10T00:00:00.000000000",
          "2020-08-11T00:00:00.000000000",
          "2020-08-12T00:00:00.000000000",
          "2020-08-13T00:00:00.000000000",
          "2020-08-14T00:00:00.000000000",
          "2020-08-17T00:00:00.000000000",
          "2020-08-18T00:00:00.000000000",
          "2020-08-19T00:00:00.000000000",
          "2020-08-20T00:00:00.000000000",
          "2020-08-21T00:00:00.000000000",
          "2020-08-24T00:00:00.000000000",
          "2020-08-25T00:00:00.000000000",
          "2020-08-26T00:00:00.000000000",
          "2020-08-27T00:00:00.000000000",
          "2020-08-28T00:00:00.000000000",
          "2020-08-31T00:00:00.000000000",
          "2020-09-01T00:00:00.000000000",
          "2020-09-02T00:00:00.000000000",
          "2020-09-03T00:00:00.000000000",
          "2020-09-04T00:00:00.000000000",
          "2020-09-08T00:00:00.000000000",
          "2020-09-09T00:00:00.000000000",
          "2020-09-10T00:00:00.000000000",
          "2020-09-11T00:00:00.000000000",
          "2020-09-14T00:00:00.000000000",
          "2020-09-15T00:00:00.000000000",
          "2020-09-16T00:00:00.000000000",
          "2020-09-17T00:00:00.000000000",
          "2020-09-18T00:00:00.000000000",
          "2020-09-21T00:00:00.000000000",
          "2020-09-22T00:00:00.000000000",
          "2020-09-23T00:00:00.000000000",
          "2020-09-24T00:00:00.000000000",
          "2020-09-25T00:00:00.000000000",
          "2020-09-28T00:00:00.000000000",
          "2020-09-29T00:00:00.000000000",
          "2020-09-30T00:00:00.000000000",
          "2020-10-01T00:00:00.000000000",
          "2020-10-02T00:00:00.000000000",
          "2020-10-05T00:00:00.000000000",
          "2020-10-06T00:00:00.000000000",
          "2020-10-07T00:00:00.000000000",
          "2020-10-08T00:00:00.000000000",
          "2020-10-09T00:00:00.000000000",
          "2020-10-12T00:00:00.000000000",
          "2020-10-13T00:00:00.000000000",
          "2020-10-14T00:00:00.000000000",
          "2020-10-15T00:00:00.000000000",
          "2020-10-16T00:00:00.000000000",
          "2020-10-19T00:00:00.000000000",
          "2020-10-20T00:00:00.000000000",
          "2020-10-21T00:00:00.000000000",
          "2020-10-22T00:00:00.000000000",
          "2020-10-23T00:00:00.000000000",
          "2020-10-26T00:00:00.000000000",
          "2020-10-27T00:00:00.000000000",
          "2020-10-28T00:00:00.000000000",
          "2020-10-29T00:00:00.000000000",
          "2020-10-30T00:00:00.000000000",
          "2020-11-02T00:00:00.000000000",
          "2020-11-03T00:00:00.000000000",
          "2020-11-04T00:00:00.000000000",
          "2020-11-05T00:00:00.000000000",
          "2020-11-06T00:00:00.000000000",
          "2020-11-09T00:00:00.000000000",
          "2020-11-10T00:00:00.000000000",
          "2020-11-11T00:00:00.000000000",
          "2020-11-12T00:00:00.000000000",
          "2020-11-13T00:00:00.000000000",
          "2020-11-16T00:00:00.000000000",
          "2020-11-17T00:00:00.000000000",
          "2020-11-18T00:00:00.000000000",
          "2020-11-19T00:00:00.000000000",
          "2020-11-20T00:00:00.000000000",
          "2020-11-23T00:00:00.000000000",
          "2020-11-24T00:00:00.000000000",
          "2020-11-25T00:00:00.000000000",
          "2020-11-27T00:00:00.000000000",
          "2020-11-30T00:00:00.000000000",
          "2020-12-01T00:00:00.000000000",
          "2020-12-02T00:00:00.000000000",
          "2020-12-03T00:00:00.000000000",
          "2020-12-04T00:00:00.000000000",
          "2020-12-07T00:00:00.000000000",
          "2020-12-08T00:00:00.000000000",
          "2020-12-09T00:00:00.000000000",
          "2020-12-10T00:00:00.000000000",
          "2020-12-11T00:00:00.000000000",
          "2020-12-14T00:00:00.000000000",
          "2020-12-15T00:00:00.000000000",
          "2020-12-16T00:00:00.000000000",
          "2020-12-17T00:00:00.000000000",
          "2020-12-18T00:00:00.000000000",
          "2020-12-21T00:00:00.000000000",
          "2020-12-22T00:00:00.000000000",
          "2020-12-23T00:00:00.000000000",
          "2020-12-24T00:00:00.000000000",
          "2020-12-28T00:00:00.000000000",
          "2020-12-29T00:00:00.000000000",
          "2020-12-30T00:00:00.000000000",
          "2020-12-31T00:00:00.000000000",
          "2021-01-04T00:00:00.000000000",
          "2021-01-05T00:00:00.000000000",
          "2021-01-06T00:00:00.000000000",
          "2021-01-07T00:00:00.000000000",
          "2021-01-08T00:00:00.000000000",
          "2021-01-11T00:00:00.000000000",
          "2021-01-12T00:00:00.000000000",
          "2021-01-13T00:00:00.000000000",
          "2021-01-14T00:00:00.000000000",
          "2021-01-15T00:00:00.000000000",
          "2021-01-19T00:00:00.000000000",
          "2021-01-20T00:00:00.000000000",
          "2021-01-21T00:00:00.000000000",
          "2021-01-22T00:00:00.000000000",
          "2021-01-25T00:00:00.000000000",
          "2021-01-26T00:00:00.000000000",
          "2021-01-27T00:00:00.000000000",
          "2021-01-28T00:00:00.000000000",
          "2021-01-29T00:00:00.000000000",
          "2021-02-01T00:00:00.000000000",
          "2021-02-02T00:00:00.000000000",
          "2021-02-03T00:00:00.000000000",
          "2021-02-04T00:00:00.000000000",
          "2021-02-05T00:00:00.000000000",
          "2021-02-08T00:00:00.000000000",
          "2021-02-09T00:00:00.000000000",
          "2021-02-10T00:00:00.000000000",
          "2021-02-11T00:00:00.000000000",
          "2021-02-12T00:00:00.000000000",
          "2021-02-16T00:00:00.000000000",
          "2021-02-17T00:00:00.000000000",
          "2021-02-18T00:00:00.000000000",
          "2021-02-19T00:00:00.000000000",
          "2021-02-22T00:00:00.000000000",
          "2021-02-23T00:00:00.000000000",
          "2021-02-24T00:00:00.000000000",
          "2021-02-25T00:00:00.000000000",
          "2021-02-26T00:00:00.000000000",
          "2021-03-01T00:00:00.000000000",
          "2021-03-02T00:00:00.000000000",
          "2021-03-03T00:00:00.000000000",
          "2021-03-04T00:00:00.000000000",
          "2021-03-05T00:00:00.000000000",
          "2021-03-08T00:00:00.000000000",
          "2021-03-09T00:00:00.000000000",
          "2021-03-10T00:00:00.000000000",
          "2021-03-11T00:00:00.000000000",
          "2021-03-12T00:00:00.000000000",
          "2021-03-15T00:00:00.000000000",
          "2021-03-16T00:00:00.000000000",
          "2021-03-17T00:00:00.000000000",
          "2021-03-18T00:00:00.000000000",
          "2021-03-19T00:00:00.000000000",
          "2021-03-22T00:00:00.000000000",
          "2021-03-23T00:00:00.000000000",
          "2021-03-24T00:00:00.000000000",
          "2021-03-25T00:00:00.000000000",
          "2021-03-26T00:00:00.000000000",
          "2021-03-29T00:00:00.000000000",
          "2021-03-30T00:00:00.000000000",
          "2021-03-31T00:00:00.000000000",
          "2021-04-01T00:00:00.000000000",
          "2021-04-05T00:00:00.000000000",
          "2021-04-06T00:00:00.000000000",
          "2021-04-07T00:00:00.000000000",
          "2021-04-08T00:00:00.000000000",
          "2021-04-09T00:00:00.000000000",
          "2021-04-12T00:00:00.000000000",
          "2021-04-13T00:00:00.000000000",
          "2021-04-14T00:00:00.000000000",
          "2021-04-15T00:00:00.000000000",
          "2021-04-16T00:00:00.000000000",
          "2021-04-19T00:00:00.000000000",
          "2021-04-20T00:00:00.000000000",
          "2021-04-21T00:00:00.000000000",
          "2021-04-22T00:00:00.000000000",
          "2021-04-23T00:00:00.000000000",
          "2021-04-26T00:00:00.000000000",
          "2021-04-27T00:00:00.000000000",
          "2021-04-28T00:00:00.000000000",
          "2021-04-29T00:00:00.000000000",
          "2021-04-30T00:00:00.000000000",
          "2021-05-03T00:00:00.000000000",
          "2021-05-04T00:00:00.000000000",
          "2021-05-05T00:00:00.000000000",
          "2021-05-06T00:00:00.000000000",
          "2021-05-07T00:00:00.000000000",
          "2021-05-10T00:00:00.000000000",
          "2021-05-11T00:00:00.000000000",
          "2021-05-12T00:00:00.000000000",
          "2021-05-13T00:00:00.000000000",
          "2021-05-14T00:00:00.000000000",
          "2021-05-17T00:00:00.000000000",
          "2021-05-18T00:00:00.000000000",
          "2021-05-19T00:00:00.000000000",
          "2021-05-20T00:00:00.000000000",
          "2021-05-21T00:00:00.000000000",
          "2021-05-24T00:00:00.000000000",
          "2021-05-25T00:00:00.000000000",
          "2021-05-26T00:00:00.000000000",
          "2021-05-27T00:00:00.000000000",
          "2021-05-28T00:00:00.000000000",
          "2021-06-01T00:00:00.000000000",
          "2021-06-02T00:00:00.000000000",
          "2021-06-03T00:00:00.000000000",
          "2021-06-04T00:00:00.000000000",
          "2021-06-07T00:00:00.000000000",
          "2021-06-08T00:00:00.000000000",
          "2021-06-09T00:00:00.000000000",
          "2021-06-10T00:00:00.000000000",
          "2021-06-11T00:00:00.000000000",
          "2021-06-14T00:00:00.000000000",
          "2021-06-15T00:00:00.000000000",
          "2021-06-16T00:00:00.000000000",
          "2021-06-17T00:00:00.000000000",
          "2021-06-18T00:00:00.000000000",
          "2021-06-21T00:00:00.000000000",
          "2021-06-22T00:00:00.000000000",
          "2021-06-23T00:00:00.000000000",
          "2021-06-24T00:00:00.000000000",
          "2021-06-25T00:00:00.000000000",
          "2021-06-28T00:00:00.000000000",
          "2021-06-29T00:00:00.000000000",
          "2021-06-30T00:00:00.000000000",
          "2021-07-01T00:00:00.000000000",
          "2021-07-02T00:00:00.000000000",
          "2021-07-06T00:00:00.000000000",
          "2021-07-07T00:00:00.000000000",
          "2021-07-08T00:00:00.000000000",
          "2021-07-09T00:00:00.000000000",
          "2021-07-12T00:00:00.000000000",
          "2021-07-13T00:00:00.000000000",
          "2021-07-14T00:00:00.000000000",
          "2021-07-15T00:00:00.000000000",
          "2021-07-16T00:00:00.000000000",
          "2021-07-19T00:00:00.000000000",
          "2021-07-20T00:00:00.000000000",
          "2021-07-21T00:00:00.000000000",
          "2021-07-22T00:00:00.000000000",
          "2021-07-23T00:00:00.000000000",
          "2021-07-26T00:00:00.000000000",
          "2021-07-27T00:00:00.000000000",
          "2021-07-28T00:00:00.000000000",
          "2021-07-29T00:00:00.000000000",
          "2021-07-30T00:00:00.000000000",
          "2021-08-02T00:00:00.000000000",
          "2021-08-03T00:00:00.000000000",
          "2021-08-04T00:00:00.000000000",
          "2021-08-05T00:00:00.000000000",
          "2021-08-06T00:00:00.000000000",
          "2021-08-09T00:00:00.000000000",
          "2021-08-10T00:00:00.000000000",
          "2021-08-11T00:00:00.000000000",
          "2021-08-12T00:00:00.000000000",
          "2021-08-13T00:00:00.000000000",
          "2021-08-16T00:00:00.000000000",
          "2021-08-17T00:00:00.000000000",
          "2021-08-18T00:00:00.000000000",
          "2021-08-19T00:00:00.000000000",
          "2021-08-20T00:00:00.000000000",
          "2021-08-23T00:00:00.000000000",
          "2021-08-24T00:00:00.000000000",
          "2021-08-25T00:00:00.000000000",
          "2021-08-26T00:00:00.000000000",
          "2021-08-27T00:00:00.000000000",
          "2021-08-30T00:00:00.000000000",
          "2021-08-31T00:00:00.000000000",
          "2021-09-01T00:00:00.000000000",
          "2021-09-02T00:00:00.000000000",
          "2021-09-03T00:00:00.000000000",
          "2021-09-07T00:00:00.000000000",
          "2021-09-08T00:00:00.000000000",
          "2021-09-09T00:00:00.000000000",
          "2021-09-10T00:00:00.000000000",
          "2021-09-13T00:00:00.000000000",
          "2021-09-14T00:00:00.000000000",
          "2021-09-15T00:00:00.000000000",
          "2021-09-16T00:00:00.000000000",
          "2021-09-17T00:00:00.000000000",
          "2021-09-20T00:00:00.000000000",
          "2021-09-21T00:00:00.000000000",
          "2021-09-22T00:00:00.000000000",
          "2021-09-23T00:00:00.000000000",
          "2021-09-24T00:00:00.000000000",
          "2021-09-27T00:00:00.000000000",
          "2021-09-28T00:00:00.000000000",
          "2021-09-29T00:00:00.000000000",
          "2021-09-30T00:00:00.000000000",
          "2021-10-01T00:00:00.000000000",
          "2021-10-04T00:00:00.000000000",
          "2021-10-05T00:00:00.000000000",
          "2021-10-06T00:00:00.000000000",
          "2021-10-07T00:00:00.000000000",
          "2021-10-08T00:00:00.000000000",
          "2021-10-11T00:00:00.000000000",
          "2021-10-12T00:00:00.000000000",
          "2021-10-13T00:00:00.000000000",
          "2021-10-14T00:00:00.000000000",
          "2021-10-15T00:00:00.000000000",
          "2021-10-18T00:00:00.000000000",
          "2021-10-19T00:00:00.000000000",
          "2021-10-20T00:00:00.000000000",
          "2021-10-21T00:00:00.000000000",
          "2021-10-22T00:00:00.000000000",
          "2021-10-25T00:00:00.000000000",
          "2021-10-26T00:00:00.000000000",
          "2021-10-27T00:00:00.000000000",
          "2021-10-28T00:00:00.000000000",
          "2021-10-29T00:00:00.000000000",
          "2021-11-01T00:00:00.000000000",
          "2021-11-02T00:00:00.000000000",
          "2021-11-03T00:00:00.000000000",
          "2021-11-04T00:00:00.000000000",
          "2021-11-05T00:00:00.000000000",
          "2021-11-08T00:00:00.000000000",
          "2021-11-09T00:00:00.000000000",
          "2021-11-10T00:00:00.000000000",
          "2021-11-11T00:00:00.000000000",
          "2021-11-12T00:00:00.000000000",
          "2021-11-15T00:00:00.000000000",
          "2021-11-16T00:00:00.000000000",
          "2021-11-17T00:00:00.000000000",
          "2021-11-18T00:00:00.000000000",
          "2021-11-19T00:00:00.000000000",
          "2021-11-22T00:00:00.000000000",
          "2021-11-23T00:00:00.000000000",
          "2021-11-24T00:00:00.000000000",
          "2021-11-26T00:00:00.000000000",
          "2021-11-29T00:00:00.000000000",
          "2021-11-30T00:00:00.000000000",
          "2021-12-01T00:00:00.000000000",
          "2021-12-02T00:00:00.000000000",
          "2021-12-03T00:00:00.000000000",
          "2021-12-06T00:00:00.000000000",
          "2021-12-07T00:00:00.000000000",
          "2021-12-08T00:00:00.000000000",
          "2021-12-09T00:00:00.000000000",
          "2021-12-10T00:00:00.000000000",
          "2021-12-13T00:00:00.000000000",
          "2021-12-14T00:00:00.000000000",
          "2021-12-15T00:00:00.000000000",
          "2021-12-16T00:00:00.000000000",
          "2021-12-17T00:00:00.000000000",
          "2021-12-20T00:00:00.000000000",
          "2021-12-21T00:00:00.000000000",
          "2021-12-22T00:00:00.000000000",
          "2021-12-23T00:00:00.000000000",
          "2021-12-27T00:00:00.000000000",
          "2021-12-28T00:00:00.000000000",
          "2021-12-29T00:00:00.000000000",
          "2021-12-30T00:00:00.000000000",
          "2021-12-31T00:00:00.000000000",
          "2022-01-03T00:00:00.000000000",
          "2022-01-04T00:00:00.000000000",
          "2022-01-05T00:00:00.000000000",
          "2022-01-06T00:00:00.000000000",
          "2022-01-07T00:00:00.000000000",
          "2022-01-10T00:00:00.000000000",
          "2022-01-11T00:00:00.000000000",
          "2022-01-12T00:00:00.000000000",
          "2022-01-13T00:00:00.000000000",
          "2022-01-14T00:00:00.000000000",
          "2022-01-18T00:00:00.000000000",
          "2022-01-19T00:00:00.000000000",
          "2022-01-20T00:00:00.000000000",
          "2022-01-21T00:00:00.000000000",
          "2022-01-24T00:00:00.000000000",
          "2022-01-25T00:00:00.000000000",
          "2022-01-26T00:00:00.000000000",
          "2022-01-27T00:00:00.000000000",
          "2022-01-28T00:00:00.000000000",
          "2022-01-31T00:00:00.000000000",
          "2022-02-01T00:00:00.000000000",
          "2022-02-02T00:00:00.000000000",
          "2022-02-03T00:00:00.000000000",
          "2022-02-04T00:00:00.000000000",
          "2022-02-07T00:00:00.000000000",
          "2022-02-08T00:00:00.000000000",
          "2022-02-09T00:00:00.000000000",
          "2022-02-10T00:00:00.000000000",
          "2022-02-11T00:00:00.000000000",
          "2022-02-14T00:00:00.000000000",
          "2022-02-15T00:00:00.000000000",
          "2022-02-16T00:00:00.000000000",
          "2022-02-17T00:00:00.000000000",
          "2022-02-18T00:00:00.000000000",
          "2022-02-22T00:00:00.000000000",
          "2022-02-23T00:00:00.000000000",
          "2022-02-24T00:00:00.000000000",
          "2022-02-25T00:00:00.000000000",
          "2022-02-28T00:00:00.000000000",
          "2022-03-01T00:00:00.000000000",
          "2022-03-02T00:00:00.000000000",
          "2022-03-03T00:00:00.000000000",
          "2022-03-04T00:00:00.000000000",
          "2022-03-07T00:00:00.000000000",
          "2022-03-08T00:00:00.000000000",
          "2022-03-09T00:00:00.000000000",
          "2022-03-10T00:00:00.000000000",
          "2022-03-11T00:00:00.000000000",
          "2022-03-14T00:00:00.000000000",
          "2022-03-15T00:00:00.000000000",
          "2022-03-16T00:00:00.000000000",
          "2022-03-17T00:00:00.000000000",
          "2022-03-18T00:00:00.000000000",
          "2022-03-21T00:00:00.000000000",
          "2022-03-22T00:00:00.000000000",
          "2022-03-23T00:00:00.000000000",
          "2022-03-24T00:00:00.000000000",
          "2022-03-25T00:00:00.000000000",
          "2022-03-28T00:00:00.000000000",
          "2022-03-29T00:00:00.000000000",
          "2022-03-30T00:00:00.000000000",
          "2022-03-31T00:00:00.000000000",
          "2022-04-01T00:00:00.000000000",
          "2022-04-04T00:00:00.000000000",
          "2022-04-05T00:00:00.000000000",
          "2022-04-06T00:00:00.000000000",
          "2022-04-07T00:00:00.000000000",
          "2022-04-08T00:00:00.000000000",
          "2022-04-11T00:00:00.000000000",
          "2022-04-12T00:00:00.000000000",
          "2022-04-13T00:00:00.000000000",
          "2022-04-14T00:00:00.000000000",
          "2022-04-18T00:00:00.000000000",
          "2022-04-19T00:00:00.000000000",
          "2022-04-20T00:00:00.000000000",
          "2022-04-21T00:00:00.000000000",
          "2022-04-22T00:00:00.000000000",
          "2022-04-25T00:00:00.000000000",
          "2022-04-26T00:00:00.000000000",
          "2022-04-27T00:00:00.000000000",
          "2022-04-28T00:00:00.000000000",
          "2022-04-29T00:00:00.000000000",
          "2022-05-02T00:00:00.000000000",
          "2022-05-03T00:00:00.000000000",
          "2022-05-04T00:00:00.000000000",
          "2022-05-05T00:00:00.000000000",
          "2022-05-06T00:00:00.000000000",
          "2022-05-09T00:00:00.000000000",
          "2022-05-10T00:00:00.000000000",
          "2022-05-11T00:00:00.000000000",
          "2022-05-12T00:00:00.000000000",
          "2022-05-13T00:00:00.000000000",
          "2022-05-16T00:00:00.000000000",
          "2022-05-17T00:00:00.000000000",
          "2022-05-18T00:00:00.000000000",
          "2022-05-19T00:00:00.000000000",
          "2022-05-20T00:00:00.000000000",
          "2022-05-23T00:00:00.000000000",
          "2022-05-24T00:00:00.000000000",
          "2022-05-25T00:00:00.000000000",
          "2022-05-26T00:00:00.000000000",
          "2022-05-27T00:00:00.000000000",
          "2022-05-31T00:00:00.000000000",
          "2022-06-01T00:00:00.000000000",
          "2022-06-02T00:00:00.000000000",
          "2022-06-03T00:00:00.000000000",
          "2022-06-06T00:00:00.000000000",
          "2022-06-07T00:00:00.000000000",
          "2022-06-08T00:00:00.000000000",
          "2022-06-09T00:00:00.000000000",
          "2022-06-10T00:00:00.000000000",
          "2022-06-13T00:00:00.000000000",
          "2022-06-14T00:00:00.000000000",
          "2022-06-15T00:00:00.000000000",
          "2022-06-16T00:00:00.000000000",
          "2022-06-17T00:00:00.000000000",
          "2022-06-21T00:00:00.000000000",
          "2022-06-22T00:00:00.000000000",
          "2022-06-23T00:00:00.000000000",
          "2022-06-24T00:00:00.000000000",
          "2022-06-27T00:00:00.000000000",
          "2022-06-28T00:00:00.000000000",
          "2022-06-29T00:00:00.000000000",
          "2022-06-30T00:00:00.000000000",
          "2022-07-01T00:00:00.000000000",
          "2022-07-05T00:00:00.000000000",
          "2022-07-06T00:00:00.000000000",
          "2022-07-07T00:00:00.000000000",
          "2022-07-08T00:00:00.000000000",
          "2022-07-11T00:00:00.000000000",
          "2022-07-12T00:00:00.000000000",
          "2022-07-13T00:00:00.000000000",
          "2022-07-14T00:00:00.000000000",
          "2022-07-15T00:00:00.000000000",
          "2022-07-18T00:00:00.000000000",
          "2022-07-19T00:00:00.000000000",
          "2022-07-20T00:00:00.000000000",
          "2022-07-21T00:00:00.000000000",
          "2022-07-22T00:00:00.000000000",
          "2022-07-25T00:00:00.000000000",
          "2022-07-26T00:00:00.000000000",
          "2022-07-27T00:00:00.000000000",
          "2022-07-28T00:00:00.000000000",
          "2022-07-29T00:00:00.000000000",
          "2022-08-01T00:00:00.000000000",
          "2022-08-02T00:00:00.000000000",
          "2022-08-03T00:00:00.000000000",
          "2022-08-04T00:00:00.000000000",
          "2022-08-05T00:00:00.000000000",
          "2022-08-08T00:00:00.000000000",
          "2022-08-09T00:00:00.000000000",
          "2022-08-10T00:00:00.000000000",
          "2022-08-11T00:00:00.000000000",
          "2022-08-12T00:00:00.000000000",
          "2022-08-15T00:00:00.000000000",
          "2022-08-16T00:00:00.000000000",
          "2022-08-17T00:00:00.000000000",
          "2022-08-18T00:00:00.000000000",
          "2022-08-19T00:00:00.000000000",
          "2022-08-22T00:00:00.000000000",
          "2022-08-23T00:00:00.000000000",
          "2022-08-24T00:00:00.000000000",
          "2022-08-25T00:00:00.000000000",
          "2022-08-26T00:00:00.000000000",
          "2022-08-29T00:00:00.000000000",
          "2022-08-30T00:00:00.000000000",
          "2022-08-31T00:00:00.000000000",
          "2022-09-01T00:00:00.000000000",
          "2022-09-02T00:00:00.000000000",
          "2022-09-06T00:00:00.000000000",
          "2022-09-07T00:00:00.000000000",
          "2022-09-08T00:00:00.000000000",
          "2022-09-09T00:00:00.000000000",
          "2022-09-12T00:00:00.000000000",
          "2022-09-13T00:00:00.000000000",
          "2022-09-14T00:00:00.000000000",
          "2022-09-15T00:00:00.000000000",
          "2022-09-16T00:00:00.000000000",
          "2022-09-19T00:00:00.000000000",
          "2022-09-20T00:00:00.000000000",
          "2022-09-21T00:00:00.000000000",
          "2022-09-22T00:00:00.000000000",
          "2022-09-23T00:00:00.000000000",
          "2022-09-26T00:00:00.000000000",
          "2022-09-27T00:00:00.000000000",
          "2022-09-28T00:00:00.000000000",
          "2022-09-29T00:00:00.000000000",
          "2022-09-30T00:00:00.000000000",
          "2022-10-03T00:00:00.000000000",
          "2022-10-04T00:00:00.000000000",
          "2022-10-05T00:00:00.000000000",
          "2022-10-06T00:00:00.000000000",
          "2022-10-07T00:00:00.000000000",
          "2022-10-10T00:00:00.000000000",
          "2022-10-11T00:00:00.000000000",
          "2022-10-12T00:00:00.000000000",
          "2022-10-13T00:00:00.000000000",
          "2022-10-14T00:00:00.000000000",
          "2022-10-17T00:00:00.000000000",
          "2022-10-18T00:00:00.000000000",
          "2022-10-19T00:00:00.000000000",
          "2022-10-20T00:00:00.000000000",
          "2022-10-21T00:00:00.000000000",
          "2022-10-24T00:00:00.000000000",
          "2022-10-25T00:00:00.000000000",
          "2022-10-26T00:00:00.000000000",
          "2022-10-27T00:00:00.000000000",
          "2022-10-28T00:00:00.000000000",
          "2022-10-31T00:00:00.000000000",
          "2022-11-01T00:00:00.000000000",
          "2022-11-02T00:00:00.000000000",
          "2022-11-03T00:00:00.000000000",
          "2022-11-04T00:00:00.000000000",
          "2022-11-07T00:00:00.000000000",
          "2022-11-08T00:00:00.000000000",
          "2022-11-09T00:00:00.000000000",
          "2022-11-10T00:00:00.000000000",
          "2022-11-11T00:00:00.000000000",
          "2022-11-14T00:00:00.000000000",
          "2022-11-15T00:00:00.000000000",
          "2022-11-16T00:00:00.000000000",
          "2022-11-17T00:00:00.000000000",
          "2022-11-18T00:00:00.000000000",
          "2022-11-21T00:00:00.000000000",
          "2022-11-22T00:00:00.000000000",
          "2022-11-23T00:00:00.000000000",
          "2022-11-25T00:00:00.000000000",
          "2022-11-28T00:00:00.000000000",
          "2022-11-29T00:00:00.000000000",
          "2022-11-30T00:00:00.000000000",
          "2022-12-01T00:00:00.000000000",
          "2022-12-02T00:00:00.000000000",
          "2022-12-05T00:00:00.000000000",
          "2022-12-06T00:00:00.000000000",
          "2022-12-07T00:00:00.000000000",
          "2022-12-08T00:00:00.000000000",
          "2022-12-09T00:00:00.000000000",
          "2022-12-12T00:00:00.000000000",
          "2022-12-13T00:00:00.000000000",
          "2022-12-14T00:00:00.000000000",
          "2022-12-15T00:00:00.000000000",
          "2022-12-16T00:00:00.000000000",
          "2022-12-19T00:00:00.000000000",
          "2022-12-20T00:00:00.000000000",
          "2022-12-21T00:00:00.000000000",
          "2022-12-22T00:00:00.000000000",
          "2022-12-23T00:00:00.000000000",
          "2022-12-27T00:00:00.000000000",
          "2022-12-28T00:00:00.000000000",
          "2022-12-29T00:00:00.000000000",
          "2022-12-30T00:00:00.000000000",
          "2023-01-03T00:00:00.000000000",
          "2023-01-04T00:00:00.000000000",
          "2023-01-05T00:00:00.000000000",
          "2023-01-06T00:00:00.000000000",
          "2023-01-09T00:00:00.000000000",
          "2023-01-10T00:00:00.000000000",
          "2023-01-11T00:00:00.000000000",
          "2023-01-12T00:00:00.000000000",
          "2023-01-13T00:00:00.000000000",
          "2023-01-17T00:00:00.000000000",
          "2023-01-18T00:00:00.000000000",
          "2023-01-19T00:00:00.000000000",
          "2023-01-20T00:00:00.000000000",
          "2023-01-23T00:00:00.000000000",
          "2023-01-24T00:00:00.000000000",
          "2023-01-25T00:00:00.000000000",
          "2023-01-26T00:00:00.000000000",
          "2023-01-27T00:00:00.000000000",
          "2023-01-30T00:00:00.000000000",
          "2023-01-31T00:00:00.000000000",
          "2023-02-01T00:00:00.000000000",
          "2023-02-02T00:00:00.000000000",
          "2023-02-03T00:00:00.000000000",
          "2023-02-06T00:00:00.000000000",
          "2023-02-07T00:00:00.000000000",
          "2023-02-08T00:00:00.000000000",
          "2023-02-09T00:00:00.000000000",
          "2023-02-10T00:00:00.000000000",
          "2023-02-13T00:00:00.000000000",
          "2023-02-14T00:00:00.000000000",
          "2023-02-15T00:00:00.000000000",
          "2023-02-16T00:00:00.000000000",
          "2023-02-17T00:00:00.000000000",
          "2023-02-21T00:00:00.000000000",
          "2023-02-22T00:00:00.000000000",
          "2023-02-23T00:00:00.000000000",
          "2023-02-24T00:00:00.000000000",
          "2023-02-27T00:00:00.000000000",
          "2023-02-28T00:00:00.000000000",
          "2023-03-01T00:00:00.000000000",
          "2023-03-02T00:00:00.000000000",
          "2023-03-03T00:00:00.000000000",
          "2023-03-06T00:00:00.000000000",
          "2023-03-07T00:00:00.000000000",
          "2023-03-08T00:00:00.000000000",
          "2023-03-09T00:00:00.000000000",
          "2023-03-10T00:00:00.000000000",
          "2023-03-13T00:00:00.000000000",
          "2023-03-14T00:00:00.000000000",
          "2023-03-15T00:00:00.000000000",
          "2023-03-16T00:00:00.000000000",
          "2023-03-17T00:00:00.000000000",
          "2023-03-20T00:00:00.000000000",
          "2023-03-21T00:00:00.000000000",
          "2023-03-22T00:00:00.000000000",
          "2023-03-23T00:00:00.000000000",
          "2023-03-24T00:00:00.000000000",
          "2023-03-27T00:00:00.000000000",
          "2023-03-28T00:00:00.000000000",
          "2023-03-29T00:00:00.000000000",
          "2023-03-30T00:00:00.000000000",
          "2023-03-31T00:00:00.000000000",
          "2023-04-03T00:00:00.000000000",
          "2023-04-04T00:00:00.000000000",
          "2023-04-05T00:00:00.000000000",
          "2023-04-06T00:00:00.000000000",
          "2023-04-10T00:00:00.000000000",
          "2023-04-11T00:00:00.000000000",
          "2023-04-12T00:00:00.000000000",
          "2023-04-13T00:00:00.000000000",
          "2023-04-14T00:00:00.000000000",
          "2023-04-17T00:00:00.000000000",
          "2023-04-18T00:00:00.000000000",
          "2023-04-19T00:00:00.000000000",
          "2023-04-20T00:00:00.000000000",
          "2023-04-21T00:00:00.000000000",
          "2023-04-24T00:00:00.000000000",
          "2023-04-25T00:00:00.000000000",
          "2023-04-26T00:00:00.000000000",
          "2023-04-27T00:00:00.000000000",
          "2023-04-28T00:00:00.000000000",
          "2023-05-01T00:00:00.000000000",
          "2023-05-02T00:00:00.000000000",
          "2023-05-03T00:00:00.000000000",
          "2023-05-04T00:00:00.000000000",
          "2023-05-05T00:00:00.000000000",
          "2023-05-08T00:00:00.000000000",
          "2023-05-09T00:00:00.000000000",
          "2023-05-10T00:00:00.000000000",
          "2023-05-11T00:00:00.000000000",
          "2023-05-12T00:00:00.000000000",
          "2023-05-15T00:00:00.000000000",
          "2023-05-16T00:00:00.000000000",
          "2023-05-17T00:00:00.000000000",
          "2023-05-18T00:00:00.000000000",
          "2023-05-19T00:00:00.000000000",
          "2023-05-22T00:00:00.000000000",
          "2023-05-23T00:00:00.000000000",
          "2023-05-24T00:00:00.000000000",
          "2023-05-25T00:00:00.000000000",
          "2023-05-26T00:00:00.000000000",
          "2023-05-30T00:00:00.000000000",
          "2023-05-31T00:00:00.000000000",
          "2023-06-01T00:00:00.000000000",
          "2023-06-02T00:00:00.000000000",
          "2023-06-05T00:00:00.000000000",
          "2023-06-06T00:00:00.000000000",
          "2023-06-07T00:00:00.000000000",
          "2023-06-08T00:00:00.000000000",
          "2023-06-09T00:00:00.000000000",
          "2023-06-12T00:00:00.000000000",
          "2023-06-13T00:00:00.000000000",
          "2023-06-14T00:00:00.000000000",
          "2023-06-15T00:00:00.000000000",
          "2023-06-16T00:00:00.000000000",
          "2023-06-20T00:00:00.000000000",
          "2023-06-21T00:00:00.000000000",
          "2023-06-22T00:00:00.000000000",
          "2023-06-23T00:00:00.000000000",
          "2023-06-26T00:00:00.000000000",
          "2023-06-27T00:00:00.000000000",
          "2023-06-28T00:00:00.000000000",
          "2023-06-29T00:00:00.000000000",
          "2023-06-30T00:00:00.000000000",
          "2023-07-03T00:00:00.000000000",
          "2023-07-05T00:00:00.000000000",
          "2023-07-06T00:00:00.000000000",
          "2023-07-07T00:00:00.000000000",
          "2023-07-10T00:00:00.000000000",
          "2023-07-11T00:00:00.000000000",
          "2023-07-12T00:00:00.000000000",
          "2023-07-13T00:00:00.000000000",
          "2023-07-14T00:00:00.000000000",
          "2023-07-17T00:00:00.000000000",
          "2023-07-18T00:00:00.000000000",
          "2023-07-19T00:00:00.000000000",
          "2023-07-20T00:00:00.000000000",
          "2023-07-21T00:00:00.000000000",
          "2023-07-24T00:00:00.000000000",
          "2023-07-25T00:00:00.000000000",
          "2023-07-26T00:00:00.000000000",
          "2023-07-27T00:00:00.000000000",
          "2023-07-28T00:00:00.000000000",
          "2023-07-31T00:00:00.000000000",
          "2023-08-01T00:00:00.000000000",
          "2023-08-02T00:00:00.000000000",
          "2023-08-03T00:00:00.000000000",
          "2023-08-04T00:00:00.000000000",
          "2023-08-07T00:00:00.000000000",
          "2023-08-08T00:00:00.000000000",
          "2023-08-09T00:00:00.000000000",
          "2023-08-10T00:00:00.000000000",
          "2023-08-11T00:00:00.000000000",
          "2023-08-14T00:00:00.000000000",
          "2023-08-15T00:00:00.000000000",
          "2023-08-16T00:00:00.000000000",
          "2023-08-17T00:00:00.000000000",
          "2023-08-18T00:00:00.000000000",
          "2023-08-21T00:00:00.000000000",
          "2023-08-22T00:00:00.000000000",
          "2023-08-23T00:00:00.000000000",
          "2023-08-24T00:00:00.000000000",
          "2023-08-25T00:00:00.000000000",
          "2023-08-28T00:00:00.000000000",
          "2023-08-29T00:00:00.000000000",
          "2023-08-30T00:00:00.000000000",
          "2023-08-31T00:00:00.000000000",
          "2023-09-01T00:00:00.000000000",
          "2023-09-05T00:00:00.000000000",
          "2023-09-06T00:00:00.000000000",
          "2023-09-07T00:00:00.000000000",
          "2023-09-08T00:00:00.000000000",
          "2023-09-11T00:00:00.000000000",
          "2023-09-12T00:00:00.000000000",
          "2023-09-13T00:00:00.000000000",
          "2023-09-14T00:00:00.000000000",
          "2023-09-15T00:00:00.000000000",
          "2023-09-18T00:00:00.000000000",
          "2023-09-19T00:00:00.000000000",
          "2023-09-20T00:00:00.000000000",
          "2023-09-21T00:00:00.000000000",
          "2023-09-22T00:00:00.000000000",
          "2023-09-25T00:00:00.000000000",
          "2023-09-26T00:00:00.000000000",
          "2023-09-27T00:00:00.000000000",
          "2023-09-28T00:00:00.000000000",
          "2023-09-29T00:00:00.000000000",
          "2023-10-02T00:00:00.000000000",
          "2023-10-03T00:00:00.000000000",
          "2023-10-04T00:00:00.000000000",
          "2023-10-05T00:00:00.000000000",
          "2023-10-06T00:00:00.000000000",
          "2023-10-09T00:00:00.000000000",
          "2023-10-10T00:00:00.000000000",
          "2023-10-11T00:00:00.000000000",
          "2023-10-12T00:00:00.000000000",
          "2023-10-13T00:00:00.000000000",
          "2023-10-16T00:00:00.000000000",
          "2023-10-17T00:00:00.000000000",
          "2023-10-18T00:00:00.000000000",
          "2023-10-19T00:00:00.000000000",
          "2023-10-20T00:00:00.000000000",
          "2023-10-23T00:00:00.000000000",
          "2023-10-24T00:00:00.000000000",
          "2023-10-25T00:00:00.000000000",
          "2023-10-26T00:00:00.000000000",
          "2023-10-27T00:00:00.000000000",
          "2023-10-30T00:00:00.000000000",
          "2023-10-31T00:00:00.000000000",
          "2023-11-01T00:00:00.000000000",
          "2023-11-02T00:00:00.000000000",
          "2023-11-03T00:00:00.000000000",
          "2023-11-06T00:00:00.000000000",
          "2023-11-07T00:00:00.000000000",
          "2023-11-08T00:00:00.000000000",
          "2023-11-09T00:00:00.000000000",
          "2023-11-10T00:00:00.000000000",
          "2023-11-13T00:00:00.000000000",
          "2023-11-14T00:00:00.000000000",
          "2023-11-15T00:00:00.000000000",
          "2023-11-16T00:00:00.000000000",
          "2023-11-17T00:00:00.000000000",
          "2023-11-20T00:00:00.000000000",
          "2023-11-21T00:00:00.000000000",
          "2023-11-22T00:00:00.000000000",
          "2023-11-24T00:00:00.000000000",
          "2023-11-27T00:00:00.000000000",
          "2023-11-28T00:00:00.000000000",
          "2023-11-29T00:00:00.000000000",
          "2023-11-30T00:00:00.000000000",
          "2023-12-01T00:00:00.000000000",
          "2023-12-04T00:00:00.000000000",
          "2023-12-05T00:00:00.000000000",
          "2023-12-06T00:00:00.000000000",
          "2023-12-07T00:00:00.000000000",
          "2023-12-08T00:00:00.000000000",
          "2023-12-11T00:00:00.000000000",
          "2023-12-12T00:00:00.000000000",
          "2023-12-13T00:00:00.000000000",
          "2023-12-14T00:00:00.000000000",
          "2023-12-15T00:00:00.000000000",
          "2023-12-18T00:00:00.000000000",
          "2023-12-19T00:00:00.000000000",
          "2023-12-20T00:00:00.000000000",
          "2023-12-21T00:00:00.000000000",
          "2023-12-22T00:00:00.000000000",
          "2023-12-26T00:00:00.000000000",
          "2023-12-27T00:00:00.000000000",
          "2023-12-28T00:00:00.000000000",
          "2023-12-29T00:00:00.000000000",
          "2024-01-02T00:00:00.000000000",
          "2024-01-03T00:00:00.000000000",
          "2024-01-04T00:00:00.000000000",
          "2024-01-05T00:00:00.000000000",
          "2024-01-08T00:00:00.000000000",
          "2024-01-09T00:00:00.000000000",
          "2024-01-10T00:00:00.000000000",
          "2024-01-11T00:00:00.000000000",
          "2024-01-12T00:00:00.000000000",
          "2024-01-16T00:00:00.000000000",
          "2024-01-17T00:00:00.000000000",
          "2024-01-18T00:00:00.000000000",
          "2024-01-19T00:00:00.000000000",
          "2024-01-22T00:00:00.000000000",
          "2024-01-23T00:00:00.000000000",
          "2024-01-24T00:00:00.000000000",
          "2024-01-25T00:00:00.000000000",
          "2024-01-26T00:00:00.000000000",
          "2024-01-29T00:00:00.000000000",
          "2024-01-30T00:00:00.000000000",
          "2024-01-31T00:00:00.000000000",
          "2024-02-01T00:00:00.000000000",
          "2024-02-02T00:00:00.000000000",
          "2024-02-05T00:00:00.000000000",
          "2024-02-06T00:00:00.000000000",
          "2024-02-07T00:00:00.000000000",
          "2024-02-08T00:00:00.000000000",
          "2024-02-09T00:00:00.000000000",
          "2024-02-12T00:00:00.000000000",
          "2024-02-13T00:00:00.000000000",
          "2024-02-14T00:00:00.000000000",
          "2024-02-15T00:00:00.000000000",
          "2024-02-16T00:00:00.000000000",
          "2024-02-20T00:00:00.000000000",
          "2024-02-21T00:00:00.000000000",
          "2024-02-22T00:00:00.000000000",
          "2024-02-23T00:00:00.000000000",
          "2024-02-26T00:00:00.000000000",
          "2024-02-27T00:00:00.000000000",
          "2024-02-28T00:00:00.000000000",
          "2024-02-29T00:00:00.000000000",
          "2024-03-01T00:00:00.000000000",
          "2024-03-04T00:00:00.000000000",
          "2024-03-05T00:00:00.000000000",
          "2024-03-06T00:00:00.000000000",
          "2024-03-07T00:00:00.000000000",
          "2024-03-08T00:00:00.000000000",
          "2024-03-11T00:00:00.000000000",
          "2024-03-12T00:00:00.000000000",
          "2024-03-13T00:00:00.000000000",
          "2024-03-14T00:00:00.000000000",
          "2024-03-15T00:00:00.000000000",
          "2024-03-18T00:00:00.000000000",
          "2024-03-19T00:00:00.000000000",
          "2024-03-20T00:00:00.000000000",
          "2024-03-21T00:00:00.000000000",
          "2024-03-22T00:00:00.000000000",
          "2024-03-25T00:00:00.000000000",
          "2024-03-26T00:00:00.000000000",
          "2024-03-27T00:00:00.000000000",
          "2024-03-28T00:00:00.000000000",
          "2024-04-01T00:00:00.000000000",
          "2024-04-02T00:00:00.000000000",
          "2024-04-03T00:00:00.000000000",
          "2024-04-04T00:00:00.000000000",
          "2024-04-05T00:00:00.000000000",
          "2024-04-08T00:00:00.000000000",
          "2024-04-09T00:00:00.000000000",
          "2024-04-10T00:00:00.000000000",
          "2024-04-11T00:00:00.000000000",
          "2024-04-12T00:00:00.000000000",
          "2024-04-15T00:00:00.000000000",
          "2024-04-16T00:00:00.000000000",
          "2024-04-17T00:00:00.000000000",
          "2024-04-18T00:00:00.000000000",
          "2024-04-19T00:00:00.000000000",
          "2024-04-22T00:00:00.000000000",
          "2024-04-23T00:00:00.000000000",
          "2024-04-24T00:00:00.000000000",
          "2024-04-25T00:00:00.000000000",
          "2024-04-26T00:00:00.000000000",
          "2024-04-29T00:00:00.000000000",
          "2024-04-30T00:00:00.000000000",
          "2024-05-01T00:00:00.000000000",
          "2024-05-02T00:00:00.000000000",
          "2024-05-03T00:00:00.000000000",
          "2024-05-06T00:00:00.000000000",
          "2024-05-07T00:00:00.000000000",
          "2024-05-08T00:00:00.000000000",
          "2024-05-09T00:00:00.000000000",
          "2024-05-10T00:00:00.000000000",
          "2024-05-13T00:00:00.000000000",
          "2024-05-14T00:00:00.000000000",
          "2024-05-15T00:00:00.000000000",
          "2024-05-16T00:00:00.000000000",
          "2024-05-17T00:00:00.000000000",
          "2024-05-20T00:00:00.000000000",
          "2024-05-21T00:00:00.000000000",
          "2024-05-22T00:00:00.000000000",
          "2024-05-23T00:00:00.000000000",
          "2024-05-24T00:00:00.000000000",
          "2024-05-28T00:00:00.000000000",
          "2024-05-29T00:00:00.000000000",
          "2024-05-30T00:00:00.000000000",
          "2024-05-31T00:00:00.000000000",
          "2024-06-03T00:00:00.000000000",
          "2024-06-04T00:00:00.000000000",
          "2024-06-05T00:00:00.000000000",
          "2024-06-06T00:00:00.000000000",
          "2024-06-07T00:00:00.000000000",
          "2024-06-10T00:00:00.000000000",
          "2024-06-11T00:00:00.000000000",
          "2024-06-12T00:00:00.000000000",
          "2024-06-13T00:00:00.000000000",
          "2024-06-14T00:00:00.000000000",
          "2024-06-17T00:00:00.000000000",
          "2024-06-18T00:00:00.000000000",
          "2024-06-20T00:00:00.000000000",
          "2024-06-21T00:00:00.000000000",
          "2024-06-24T00:00:00.000000000",
          "2024-06-25T00:00:00.000000000",
          "2024-06-26T00:00:00.000000000",
          "2024-06-27T00:00:00.000000000",
          "2024-06-28T00:00:00.000000000",
          "2024-07-01T00:00:00.000000000",
          "2024-07-02T00:00:00.000000000",
          "2024-07-03T00:00:00.000000000",
          "2024-07-05T00:00:00.000000000",
          "2024-07-08T00:00:00.000000000",
          "2024-07-09T00:00:00.000000000",
          "2024-07-10T00:00:00.000000000",
          "2024-07-11T00:00:00.000000000",
          "2024-07-12T00:00:00.000000000",
          "2024-07-15T00:00:00.000000000",
          "2024-07-16T00:00:00.000000000",
          "2024-07-17T00:00:00.000000000",
          "2024-07-18T00:00:00.000000000",
          "2024-07-19T00:00:00.000000000",
          "2024-07-22T00:00:00.000000000",
          "2024-07-23T00:00:00.000000000",
          "2024-07-24T00:00:00.000000000",
          "2024-07-25T00:00:00.000000000",
          "2024-07-26T00:00:00.000000000",
          "2024-07-29T00:00:00.000000000",
          "2024-07-30T00:00:00.000000000",
          "2024-07-31T00:00:00.000000000",
          "2024-08-01T00:00:00.000000000",
          "2024-08-02T00:00:00.000000000",
          "2024-08-05T00:00:00.000000000",
          "2024-08-06T00:00:00.000000000",
          "2024-08-07T00:00:00.000000000",
          "2024-08-08T00:00:00.000000000",
          "2024-08-09T00:00:00.000000000",
          "2024-08-12T00:00:00.000000000",
          "2024-08-13T00:00:00.000000000",
          "2024-08-14T00:00:00.000000000",
          "2024-08-15T00:00:00.000000000",
          "2024-08-16T00:00:00.000000000",
          "2024-08-19T00:00:00.000000000",
          "2024-08-20T00:00:00.000000000",
          "2024-08-21T00:00:00.000000000",
          "2024-08-22T00:00:00.000000000",
          "2024-08-23T00:00:00.000000000",
          "2024-08-26T00:00:00.000000000",
          "2024-08-27T00:00:00.000000000",
          "2024-08-28T00:00:00.000000000",
          "2024-08-29T00:00:00.000000000",
          "2024-08-30T00:00:00.000000000",
          "2024-09-03T00:00:00.000000000",
          "2024-09-04T00:00:00.000000000",
          "2024-09-05T00:00:00.000000000",
          "2024-09-06T00:00:00.000000000",
          "2024-09-09T00:00:00.000000000",
          "2024-09-10T00:00:00.000000000",
          "2024-09-11T00:00:00.000000000",
          "2024-09-12T00:00:00.000000000",
          "2024-09-13T00:00:00.000000000",
          "2024-09-16T00:00:00.000000000",
          "2024-09-17T00:00:00.000000000",
          "2024-09-18T00:00:00.000000000",
          "2024-09-19T00:00:00.000000000",
          "2024-09-20T00:00:00.000000000",
          "2024-09-23T00:00:00.000000000",
          "2024-09-24T00:00:00.000000000",
          "2024-09-25T00:00:00.000000000",
          "2024-09-26T00:00:00.000000000",
          "2024-09-27T00:00:00.000000000",
          "2024-09-30T00:00:00.000000000",
          "2024-10-01T00:00:00.000000000",
          "2024-10-02T00:00:00.000000000",
          "2024-10-03T00:00:00.000000000",
          "2024-10-04T00:00:00.000000000",
          "2024-10-07T00:00:00.000000000",
          "2024-10-08T00:00:00.000000000",
          "2024-10-09T00:00:00.000000000",
          "2024-10-10T00:00:00.000000000",
          "2024-10-11T00:00:00.000000000",
          "2024-10-14T00:00:00.000000000",
          "2024-10-15T00:00:00.000000000",
          "2024-10-16T00:00:00.000000000",
          "2024-10-17T00:00:00.000000000",
          "2024-10-18T00:00:00.000000000",
          "2024-10-21T00:00:00.000000000",
          "2024-10-22T00:00:00.000000000",
          "2024-10-23T00:00:00.000000000",
          "2024-10-24T00:00:00.000000000",
          "2024-10-25T00:00:00.000000000",
          "2024-10-28T00:00:00.000000000",
          "2024-10-29T00:00:00.000000000",
          "2024-10-30T00:00:00.000000000",
          "2024-10-31T00:00:00.000000000",
          "2024-11-01T00:00:00.000000000",
          "2024-11-04T00:00:00.000000000",
          "2024-11-05T00:00:00.000000000",
          "2024-11-06T00:00:00.000000000",
          "2024-11-07T00:00:00.000000000",
          "2024-11-08T00:00:00.000000000",
          "2024-11-11T00:00:00.000000000",
          "2024-11-12T00:00:00.000000000",
          "2024-11-13T00:00:00.000000000",
          "2024-11-14T00:00:00.000000000",
          "2024-11-15T00:00:00.000000000",
          "2024-11-18T00:00:00.000000000",
          "2024-11-19T00:00:00.000000000",
          "2024-11-20T00:00:00.000000000",
          "2024-11-21T00:00:00.000000000",
          "2024-11-22T00:00:00.000000000",
          "2024-11-25T00:00:00.000000000",
          "2024-11-26T00:00:00.000000000",
          "2024-11-27T00:00:00.000000000",
          "2024-11-29T00:00:00.000000000",
          "2024-12-02T00:00:00.000000000",
          "2024-12-03T00:00:00.000000000",
          "2024-12-04T00:00:00.000000000",
          "2024-12-05T00:00:00.000000000",
          "2024-12-06T00:00:00.000000000",
          "2024-12-09T00:00:00.000000000",
          "2024-12-10T00:00:00.000000000",
          "2024-12-11T00:00:00.000000000",
          "2024-12-12T00:00:00.000000000",
          "2024-12-13T00:00:00.000000000",
          "2024-12-16T00:00:00.000000000",
          "2024-12-17T00:00:00.000000000",
          "2024-12-18T00:00:00.000000000",
          "2024-12-19T00:00:00.000000000",
          "2024-12-20T00:00:00.000000000",
          "2024-12-23T00:00:00.000000000",
          "2024-12-24T00:00:00.000000000",
          "2024-12-26T00:00:00.000000000",
          "2024-12-27T00:00:00.000000000",
          "2024-12-30T00:00:00.000000000",
          "2024-12-31T00:00:00.000000000"
         ],
         "xaxis": "x",
         "y": {
          "bdata": "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",
          "dtype": "f8"
         },
         "yaxis": "y"
        }
       ],
       "layout": {
        "coloraxis": {
         "colorbar": {
          "title": {
           "text": "Market Regime"
          }
         },
         "colorscale": [
          [
           0,
           "#0d0887"
          ],
          [
           0.1111111111111111,
           "#46039f"
          ],
          [
           0.2222222222222222,
           "#7201a8"
          ],
          [
           0.3333333333333333,
           "#9c179e"
          ],
          [
           0.4444444444444444,
           "#bd3786"
          ],
          [
           0.5555555555555556,
           "#d8576b"
          ],
          [
           0.6666666666666666,
           "#ed7953"
          ],
          [
           0.7777777777777778,
           "#fb9f3a"
          ],
          [
           0.8888888888888888,
           "#fdca26"
          ],
          [
           1,
           "#f0f921"
          ]
         ]
        },
        "height": 600,
        "hovermode": "closest",
        "legend": {
         "title": {
          "text": "Regime"
         },
         "tracegroupgap": 0
        },
        "template": {
         "data": {
          "bar": [
           {
            "error_x": {
             "color": "#2a3f5f"
            },
            "error_y": {
             "color": "#2a3f5f"
            },
            "marker": {
             "line": {
              "color": "white",
              "width": 0.5
             },
             "pattern": {
              "fillmode": "overlay",
              "size": 10,
              "solidity": 0.2
             }
            },
            "type": "bar"
           }
          ],
          "barpolar": [
           {
            "marker": {
             "line": {
              "color": "white",
              "width": 0.5
             },
             "pattern": {
              "fillmode": "overlay",
              "size": 10,
              "solidity": 0.2
             }
            },
            "type": "barpolar"
           }
          ],
          "carpet": [
           {
            "aaxis": {
             "endlinecolor": "#2a3f5f",
             "gridcolor": "#C8D4E3",
             "linecolor": "#C8D4E3",
             "minorgridcolor": "#C8D4E3",
             "startlinecolor": "#2a3f5f"
            },
            "baxis": {
             "endlinecolor": "#2a3f5f",
             "gridcolor": "#C8D4E3",
             "linecolor": "#C8D4E3",
             "minorgridcolor": "#C8D4E3",
             "startlinecolor": "#2a3f5f"
            },
            "type": "carpet"
           }
          ],
          "choropleth": [
           {
            "colorbar": {
             "outlinewidth": 0,
             "ticks": ""
            },
            "type": "choropleth"
           }
          ],
          "contour": [
           {
            "colorbar": {
             "outlinewidth": 0,
             "ticks": ""
            },
            "colorscale": [
             [
              0,
              "#0d0887"
             ],
             [
              0.1111111111111111,
              "#46039f"
             ],
             [
              0.2222222222222222,
              "#7201a8"
             ],
             [
              0.3333333333333333,
              "#9c179e"
             ],
             [
              0.4444444444444444,
              "#bd3786"
             ],
             [
              0.5555555555555556,
              "#d8576b"
             ],
             [
              0.6666666666666666,
              "#ed7953"
             ],
             [
              0.7777777777777778,
              "#fb9f3a"
             ],
             [
              0.8888888888888888,
              "#fdca26"
             ],
             [
              1,
              "#f0f921"
             ]
            ],
            "type": "contour"
           }
          ],
          "contourcarpet": [
           {
            "colorbar": {
             "outlinewidth": 0,
             "ticks": ""
            },
            "type": "contourcarpet"
           }
          ],
          "heatmap": [
           {
            "colorbar": {
             "outlinewidth": 0,
             "ticks": ""
            },
            "colorscale": [
             [
              0,
              "#0d0887"
             ],
             [
              0.1111111111111111,
              "#46039f"
             ],
             [
              0.2222222222222222,
              "#7201a8"
             ],
             [
              0.3333333333333333,
              "#9c179e"
             ],
             [
              0.4444444444444444,
              "#bd3786"
             ],
             [
              0.5555555555555556,
              "#d8576b"
             ],
             [
              0.6666666666666666,
              "#ed7953"
             ],
             [
              0.7777777777777778,
              "#fb9f3a"
             ],
             [
              0.8888888888888888,
              "#fdca26"
             ],
             [
              1,
              "#f0f921"
             ]
            ],
            "type": "heatmap"
           }
          ],
          "histogram": [
           {
            "marker": {
             "pattern": {
              "fillmode": "overlay",
              "size": 10,
              "solidity": 0.2
             }
            },
            "type": "histogram"
           }
          ],
          "histogram2d": [
           {
            "colorbar": {
             "outlinewidth": 0,
             "ticks": ""
            },
            "colorscale": [
             [
              0,
              "#0d0887"
             ],
             [
              0.1111111111111111,
              "#46039f"
             ],
             [
              0.2222222222222222,
              "#7201a8"
             ],
             [
              0.3333333333333333,
              "#9c179e"
             ],
             [
              0.4444444444444444,
              "#bd3786"
             ],
             [
              0.5555555555555556,
              "#d8576b"
             ],
             [
              0.6666666666666666,
              "#ed7953"
             ],
             [
              0.7777777777777778,
              "#fb9f3a"
             ],
             [
              0.8888888888888888,
              "#fdca26"
             ],
             [
              1,
              "#f0f921"
             ]
            ],
            "type": "histogram2d"
           }
          ],
          "histogram2dcontour": [
           {
            "colorbar": {
             "outlinewidth": 0,
             "ticks": ""
            },
            "colorscale": [
             [
              0,
              "#0d0887"
             ],
             [
              0.1111111111111111,
              "#46039f"
             ],
             [
              0.2222222222222222,
              "#7201a8"
             ],
             [
              0.3333333333333333,
              "#9c179e"
             ],
             [
              0.4444444444444444,
              "#bd3786"
             ],
             [
              0.5555555555555556,
              "#d8576b"
             ],
             [
              0.6666666666666666,
              "#ed7953"
             ],
             [
              0.7777777777777778,
              "#fb9f3a"
             ],
             [
              0.8888888888888888,
              "#fdca26"
             ],
             [
              1,
              "#f0f921"
             ]
            ],
            "type": "histogram2dcontour"
           }
          ],
          "mesh3d": [
           {
            "colorbar": {
             "outlinewidth": 0,
             "ticks": ""
            },
            "type": "mesh3d"
           }
          ],
          "parcoords": [
           {
            "line": {
             "colorbar": {
              "outlinewidth": 0,
              "ticks": ""
             }
            },
            "type": "parcoords"
           }
          ],
          "pie": [
           {
            "automargin": true,
            "type": "pie"
           }
          ],
          "scatter": [
           {
            "fillpattern": {
             "fillmode": "overlay",
             "size": 10,
             "solidity": 0.2
            },
            "type": "scatter"
           }
          ],
          "scatter3d": [
           {
            "line": {
             "colorbar": {
              "outlinewidth": 0,
              "ticks": ""
             }
            },
            "marker": {
             "colorbar": {
              "outlinewidth": 0,
              "ticks": ""
             }
            },
            "type": "scatter3d"
           }
          ],
          "scattercarpet": [
           {
            "marker": {
             "colorbar": {
              "outlinewidth": 0,
              "ticks": ""
             }
            },
            "type": "scattercarpet"
           }
          ],
          "scattergeo": [
           {
            "marker": {
             "colorbar": {
              "outlinewidth": 0,
              "ticks": ""
             }
            },
            "type": "scattergeo"
           }
          ],
          "scattergl": [
           {
            "marker": {
             "colorbar": {
              "outlinewidth": 0,
              "ticks": ""
             }
            },
            "type": "scattergl"
           }
          ],
          "scattermap": [
           {
            "marker": {
             "colorbar": {
              "outlinewidth": 0,
              "ticks": ""
             }
            },
            "type": "scattermap"
           }
          ],
          "scattermapbox": [
           {
            "marker": {
             "colorbar": {
              "outlinewidth": 0,
              "ticks": ""
             }
            },
            "type": "scattermapbox"
           }
          ],
          "scatterpolar": [
           {
            "marker": {
             "colorbar": {
              "outlinewidth": 0,
              "ticks": ""
             }
            },
            "type": "scatterpolar"
           }
          ],
          "scatterpolargl": [
           {
            "marker": {
             "colorbar": {
              "outlinewidth": 0,
              "ticks": ""
             }
            },
            "type": "scatterpolargl"
           }
          ],
          "scatterternary": [
           {
            "marker": {
             "colorbar": {
              "outlinewidth": 0,
              "ticks": ""
             }
            },
            "type": "scatterternary"
           }
          ],
          "surface": [
           {
            "colorbar": {
             "outlinewidth": 0,
             "ticks": ""
            },
            "colorscale": [
             [
              0,
              "#0d0887"
             ],
             [
              0.1111111111111111,
              "#46039f"
             ],
             [
              0.2222222222222222,
              "#7201a8"
             ],
             [
              0.3333333333333333,
              "#9c179e"
             ],
             [
              0.4444444444444444,
              "#bd3786"
             ],
             [
              0.5555555555555556,
              "#d8576b"
             ],
             [
              0.6666666666666666,
              "#ed7953"
             ],
             [
              0.7777777777777778,
              "#fb9f3a"
             ],
             [
              0.8888888888888888,
              "#fdca26"
             ],
             [
              1,
              "#f0f921"
             ]
            ],
            "type": "surface"
           }
          ],
          "table": [
           {
            "cells": {
             "fill": {
              "color": "#EBF0F8"
             },
             "line": {
              "color": "white"
             }
            },
            "header": {
             "fill": {
              "color": "#C8D4E3"
             },
             "line": {
              "color": "white"
             }
            },
            "type": "table"
           }
          ]
         },
         "layout": {
          "annotationdefaults": {
           "arrowcolor": "#2a3f5f",
           "arrowhead": 0,
           "arrowwidth": 1
          },
          "autotypenumbers": "strict",
          "coloraxis": {
           "colorbar": {
            "outlinewidth": 0,
            "ticks": ""
           }
          },
          "colorscale": {
           "diverging": [
            [
             0,
             "#8e0152"
            ],
            [
             0.1,
             "#c51b7d"
            ],
            [
             0.2,
             "#de77ae"
            ],
            [
             0.3,
             "#f1b6da"
            ],
            [
             0.4,
             "#fde0ef"
            ],
            [
             0.5,
             "#f7f7f7"
            ],
            [
             0.6,
             "#e6f5d0"
            ],
            [
             0.7,
             "#b8e186"
            ],
            [
             0.8,
             "#7fbc41"
            ],
            [
             0.9,
             "#4d9221"
            ],
            [
             1,
             "#276419"
            ]
           ],
           "sequential": [
            [
             0,
             "#0d0887"
            ],
            [
             0.1111111111111111,
             "#46039f"
            ],
            [
             0.2222222222222222,
             "#7201a8"
            ],
            [
             0.3333333333333333,
             "#9c179e"
            ],
            [
             0.4444444444444444,
             "#bd3786"
            ],
            [
             0.5555555555555556,
             "#d8576b"
            ],
            [
             0.6666666666666666,
             "#ed7953"
            ],
            [
             0.7777777777777778,
             "#fb9f3a"
            ],
            [
             0.8888888888888888,
             "#fdca26"
            ],
            [
             1,
             "#f0f921"
            ]
           ],
           "sequentialminus": [
            [
             0,
             "#0d0887"
            ],
            [
             0.1111111111111111,
             "#46039f"
            ],
            [
             0.2222222222222222,
             "#7201a8"
            ],
            [
             0.3333333333333333,
             "#9c179e"
            ],
            [
             0.4444444444444444,
             "#bd3786"
            ],
            [
             0.5555555555555556,
             "#d8576b"
            ],
            [
             0.6666666666666666,
             "#ed7953"
            ],
            [
             0.7777777777777778,
             "#fb9f3a"
            ],
            [
             0.8888888888888888,
             "#fdca26"
            ],
            [
             1,
             "#f0f921"
            ]
           ]
          },
          "colorway": [
           "#636efa",
           "#EF553B",
           "#00cc96",
           "#ab63fa",
           "#FFA15A",
           "#19d3f3",
           "#FF6692",
           "#B6E880",
           "#FF97FF",
           "#FECB52"
          ],
          "font": {
           "color": "#2a3f5f"
          },
          "geo": {
           "bgcolor": "white",
           "lakecolor": "white",
           "landcolor": "white",
           "showlakes": true,
           "showland": true,
           "subunitcolor": "#C8D4E3"
          },
          "hoverlabel": {
           "align": "left"
          },
          "hovermode": "closest",
          "mapbox": {
           "style": "light"
          },
          "paper_bgcolor": "white",
          "plot_bgcolor": "white",
          "polar": {
           "angularaxis": {
            "gridcolor": "#EBF0F8",
            "linecolor": "#EBF0F8",
            "ticks": ""
           },
           "bgcolor": "white",
           "radialaxis": {
            "gridcolor": "#EBF0F8",
            "linecolor": "#EBF0F8",
            "ticks": ""
           }
          },
          "scene": {
           "xaxis": {
            "backgroundcolor": "white",
            "gridcolor": "#DFE8F3",
            "gridwidth": 2,
            "linecolor": "#EBF0F8",
            "showbackground": true,
            "ticks": "",
            "zerolinecolor": "#EBF0F8"
           },
           "yaxis": {
            "backgroundcolor": "white",
            "gridcolor": "#DFE8F3",
            "gridwidth": 2,
            "linecolor": "#EBF0F8",
            "showbackground": true,
            "ticks": "",
            "zerolinecolor": "#EBF0F8"
           },
           "zaxis": {
            "backgroundcolor": "white",
            "gridcolor": "#DFE8F3",
            "gridwidth": 2,
            "linecolor": "#EBF0F8",
            "showbackground": true,
            "ticks": "",
            "zerolinecolor": "#EBF0F8"
           }
          },
          "shapedefaults": {
           "line": {
            "color": "#2a3f5f"
           }
          },
          "ternary": {
           "aaxis": {
            "gridcolor": "#DFE8F3",
            "linecolor": "#A2B1C6",
            "ticks": ""
           },
           "baxis": {
            "gridcolor": "#DFE8F3",
            "linecolor": "#A2B1C6",
            "ticks": ""
           },
           "bgcolor": "white",
           "caxis": {
            "gridcolor": "#DFE8F3",
            "linecolor": "#A2B1C6",
            "ticks": ""
           }
          },
          "title": {
           "x": 0.05
          },
          "xaxis": {
           "automargin": true,
           "gridcolor": "#EBF0F8",
           "linecolor": "#EBF0F8",
           "ticks": "",
           "title": {
            "standoff": 15
           },
           "zerolinecolor": "#EBF0F8",
           "zerolinewidth": 2
          },
          "yaxis": {
           "automargin": true,
           "gridcolor": "#EBF0F8",
           "linecolor": "#EBF0F8",
           "ticks": "",
           "title": {
            "standoff": 15
           },
           "zerolinecolor": "#EBF0F8",
           "zerolinewidth": 2
          }
         }
        },
        "title": {
         "text": "SPY Close Price Colored by Regime (Training Period: 2007-2017)"
        },
        "xaxis": {
         "anchor": "y",
         "domain": [
          0,
          1
         ],
         "title": {
          "text": "Date"
         }
        },
        "yaxis": {
         "anchor": "x",
         "domain": [
          0,
          1
         ],
         "title": {
          "text": "Price"
         }
        }
       }
      }
     },
     "metadata": {},
     "output_type": "display_data"
    },
    {
     "data": {
      "application/vnd.plotly.v1+json": {
       "config": {
        "plotlyServerURL": "https://plot.ly"
       },
       "data": [
        {
         "colorscale": [
          [
           0,
           "rgb(247,251,255)"
          ],
          [
           0.125,
           "rgb(222,235,247)"
          ],
          [
           0.25,
           "rgb(198,219,239)"
          ],
          [
           0.375,
           "rgb(158,202,225)"
          ],
          [
           0.5,
           "rgb(107,174,214)"
          ],
          [
           0.625,
           "rgb(66,146,198)"
          ],
          [
           0.75,
           "rgb(33,113,181)"
          ],
          [
           0.875,
           "rgb(8,81,156)"
          ],
          [
           1,
           "rgb(8,48,107)"
          ]
         ],
         "text": {
          "bdata": "w/UoXI/C7T/sUbgeheuxPwAAAAAAAAAAexSuR+F6tD97FK5H4XrsP7gehetRuJ4/AAAAAAAAAAApXI/C9Si8P3sUrkfheuw/",
          "dtype": "f8",
          "shape": "3, 3"
         },
         "textfont": {
          "size": 14
         },
         "texttemplate": "%{text:.2f}",
         "type": "heatmap",
         "x": [
          "Regime 0",
          "Regime 1",
          "Regime 2"
         ],
         "y": [
          "Regime 0",
          "Regime 1",
          "Regime 2"
         ],
         "z": {
          "bdata": "g6vrDdGq7T/ro6KQd6myP+c6uE9xJQw67aXvAAVwtD9ePrkGzXvsP66cGSVLxp4/V+pfc9JwpTFkgGVJ+P66P/NP0/YgoOw/",
          "dtype": "f8",
          "shape": "3, 3"
         }
        }
       ],
       "layout": {
        "height": 600,
        "template": {
         "data": {
          "bar": [
           {
            "error_x": {
             "color": "#2a3f5f"
            },
            "error_y": {
             "color": "#2a3f5f"
            },
            "marker": {
             "line": {
              "color": "white",
              "width": 0.5
             },
             "pattern": {
              "fillmode": "overlay",
              "size": 10,
              "solidity": 0.2
             }
            },
            "type": "bar"
           }
          ],
          "barpolar": [
           {
            "marker": {
             "line": {
              "color": "white",
              "width": 0.5
             },
             "pattern": {
              "fillmode": "overlay",
              "size": 10,
              "solidity": 0.2
             }
            },
            "type": "barpolar"
           }
          ],
          "carpet": [
           {
            "aaxis": {
             "endlinecolor": "#2a3f5f",
             "gridcolor": "#C8D4E3",
             "linecolor": "#C8D4E3",
             "minorgridcolor": "#C8D4E3",
             "startlinecolor": "#2a3f5f"
            },
            "baxis": {
             "endlinecolor": "#2a3f5f",
             "gridcolor": "#C8D4E3",
             "linecolor": "#C8D4E3",
             "minorgridcolor": "#C8D4E3",
             "startlinecolor": "#2a3f5f"
            },
            "type": "carpet"
           }
          ],
          "choropleth": [
           {
            "colorbar": {
             "outlinewidth": 0,
             "ticks": ""
            },
            "type": "choropleth"
           }
          ],
          "contour": [
           {
            "colorbar": {
             "outlinewidth": 0,
             "ticks": ""
            },
            "colorscale": [
             [
              0,
              "#0d0887"
             ],
             [
              0.1111111111111111,
              "#46039f"
             ],
             [
              0.2222222222222222,
              "#7201a8"
             ],
             [
              0.3333333333333333,
              "#9c179e"
             ],
             [
              0.4444444444444444,
              "#bd3786"
             ],
             [
              0.5555555555555556,
              "#d8576b"
             ],
             [
              0.6666666666666666,
              "#ed7953"
             ],
             [
              0.7777777777777778,
              "#fb9f3a"
             ],
             [
              0.8888888888888888,
              "#fdca26"
             ],
             [
              1,
              "#f0f921"
             ]
            ],
            "type": "contour"
           }
          ],
          "contourcarpet": [
           {
            "colorbar": {
             "outlinewidth": 0,
             "ticks": ""
            },
            "type": "contourcarpet"
           }
          ],
          "heatmap": [
           {
            "colorbar": {
             "outlinewidth": 0,
             "ticks": ""
            },
            "colorscale": [
             [
              0,
              "#0d0887"
             ],
             [
              0.1111111111111111,
              "#46039f"
             ],
             [
              0.2222222222222222,
              "#7201a8"
             ],
             [
              0.3333333333333333,
              "#9c179e"
             ],
             [
              0.4444444444444444,
              "#bd3786"
             ],
             [
              0.5555555555555556,
              "#d8576b"
             ],
             [
              0.6666666666666666,
              "#ed7953"
             ],
             [
              0.7777777777777778,
              "#fb9f3a"
             ],
             [
              0.8888888888888888,
              "#fdca26"
             ],
             [
              1,
              "#f0f921"
             ]
            ],
            "type": "heatmap"
           }
          ],
          "histogram": [
           {
            "marker": {
             "pattern": {
              "fillmode": "overlay",
              "size": 10,
              "solidity": 0.2
             }
            },
            "type": "histogram"
           }
          ],
          "histogram2d": [
           {
            "colorbar": {
             "outlinewidth": 0,
             "ticks": ""
            },
            "colorscale": [
             [
              0,
              "#0d0887"
             ],
             [
              0.1111111111111111,
              "#46039f"
             ],
             [
              0.2222222222222222,
              "#7201a8"
             ],
             [
              0.3333333333333333,
              "#9c179e"
             ],
             [
              0.4444444444444444,
              "#bd3786"
             ],
             [
              0.5555555555555556,
              "#d8576b"
             ],
             [
              0.6666666666666666,
              "#ed7953"
             ],
             [
              0.7777777777777778,
              "#fb9f3a"
             ],
             [
              0.8888888888888888,
              "#fdca26"
             ],
             [
              1,
              "#f0f921"
             ]
            ],
            "type": "histogram2d"
           }
          ],
          "histogram2dcontour": [
           {
            "colorbar": {
             "outlinewidth": 0,
             "ticks": ""
            },
            "colorscale": [
             [
              0,
              "#0d0887"
             ],
             [
              0.1111111111111111,
              "#46039f"
             ],
             [
              0.2222222222222222,
              "#7201a8"
             ],
             [
              0.3333333333333333,
              "#9c179e"
             ],
             [
              0.4444444444444444,
              "#bd3786"
             ],
             [
              0.5555555555555556,
              "#d8576b"
             ],
             [
              0.6666666666666666,
              "#ed7953"
             ],
             [
              0.7777777777777778,
              "#fb9f3a"
             ],
             [
              0.8888888888888888,
              "#fdca26"
             ],
             [
              1,
              "#f0f921"
             ]
            ],
            "type": "histogram2dcontour"
           }
          ],
          "mesh3d": [
           {
            "colorbar": {
             "outlinewidth": 0,
             "ticks": ""
            },
            "type": "mesh3d"
           }
          ],
          "parcoords": [
           {
            "line": {
             "colorbar": {
              "outlinewidth": 0,
              "ticks": ""
             }
            },
            "type": "parcoords"
           }
          ],
          "pie": [
           {
            "automargin": true,
            "type": "pie"
           }
          ],
          "scatter": [
           {
            "fillpattern": {
             "fillmode": "overlay",
             "size": 10,
             "solidity": 0.2
            },
            "type": "scatter"
           }
          ],
          "scatter3d": [
           {
            "line": {
             "colorbar": {
              "outlinewidth": 0,
              "ticks": ""
             }
            },
            "marker": {
             "colorbar": {
              "outlinewidth": 0,
              "ticks": ""
             }
            },
            "type": "scatter3d"
           }
          ],
          "scattercarpet": [
           {
            "marker": {
             "colorbar": {
              "outlinewidth": 0,
              "ticks": ""
             }
            },
            "type": "scattercarpet"
           }
          ],
          "scattergeo": [
           {
            "marker": {
             "colorbar": {
              "outlinewidth": 0,
              "ticks": ""
             }
            },
            "type": "scattergeo"
           }
          ],
          "scattergl": [
           {
            "marker": {
             "colorbar": {
              "outlinewidth": 0,
              "ticks": ""
             }
            },
            "type": "scattergl"
           }
          ],
          "scattermap": [
           {
            "marker": {
             "colorbar": {
              "outlinewidth": 0,
              "ticks": ""
             }
            },
            "type": "scattermap"
           }
          ],
          "scattermapbox": [
           {
            "marker": {
             "colorbar": {
              "outlinewidth": 0,
              "ticks": ""
             }
            },
            "type": "scattermapbox"
           }
          ],
          "scatterpolar": [
           {
            "marker": {
             "colorbar": {
              "outlinewidth": 0,
              "ticks": ""
             }
            },
            "type": "scatterpolar"
           }
          ],
          "scatterpolargl": [
           {
            "marker": {
             "colorbar": {
              "outlinewidth": 0,
              "ticks": ""
             }
            },
            "type": "scatterpolargl"
           }
          ],
          "scatterternary": [
           {
            "marker": {
             "colorbar": {
              "outlinewidth": 0,
              "ticks": ""
             }
            },
            "type": "scatterternary"
           }
          ],
          "surface": [
           {
            "colorbar": {
             "outlinewidth": 0,
             "ticks": ""
            },
            "colorscale": [
             [
              0,
              "#0d0887"
             ],
             [
              0.1111111111111111,
              "#46039f"
             ],
             [
              0.2222222222222222,
              "#7201a8"
             ],
             [
              0.3333333333333333,
              "#9c179e"
             ],
             [
              0.4444444444444444,
              "#bd3786"
             ],
             [
              0.5555555555555556,
              "#d8576b"
             ],
             [
              0.6666666666666666,
              "#ed7953"
             ],
             [
              0.7777777777777778,
              "#fb9f3a"
             ],
             [
              0.8888888888888888,
              "#fdca26"
             ],
             [
              1,
              "#f0f921"
             ]
            ],
            "type": "surface"
           }
          ],
          "table": [
           {
            "cells": {
             "fill": {
              "color": "#EBF0F8"
             },
             "line": {
              "color": "white"
             }
            },
            "header": {
             "fill": {
              "color": "#C8D4E3"
             },
             "line": {
              "color": "white"
             }
            },
            "type": "table"
           }
          ]
         },
         "layout": {
          "annotationdefaults": {
           "arrowcolor": "#2a3f5f",
           "arrowhead": 0,
           "arrowwidth": 1
          },
          "autotypenumbers": "strict",
          "coloraxis": {
           "colorbar": {
            "outlinewidth": 0,
            "ticks": ""
           }
          },
          "colorscale": {
           "diverging": [
            [
             0,
             "#8e0152"
            ],
            [
             0.1,
             "#c51b7d"
            ],
            [
             0.2,
             "#de77ae"
            ],
            [
             0.3,
             "#f1b6da"
            ],
            [
             0.4,
             "#fde0ef"
            ],
            [
             0.5,
             "#f7f7f7"
            ],
            [
             0.6,
             "#e6f5d0"
            ],
            [
             0.7,
             "#b8e186"
            ],
            [
             0.8,
             "#7fbc41"
            ],
            [
             0.9,
             "#4d9221"
            ],
            [
             1,
             "#276419"
            ]
           ],
           "sequential": [
            [
             0,
             "#0d0887"
            ],
            [
             0.1111111111111111,
             "#46039f"
            ],
            [
             0.2222222222222222,
             "#7201a8"
            ],
            [
             0.3333333333333333,
             "#9c179e"
            ],
            [
             0.4444444444444444,
             "#bd3786"
            ],
            [
             0.5555555555555556,
             "#d8576b"
            ],
            [
             0.6666666666666666,
             "#ed7953"
            ],
            [
             0.7777777777777778,
             "#fb9f3a"
            ],
            [
             0.8888888888888888,
             "#fdca26"
            ],
            [
             1,
             "#f0f921"
            ]
           ],
           "sequentialminus": [
            [
             0,
             "#0d0887"
            ],
            [
             0.1111111111111111,
             "#46039f"
            ],
            [
             0.2222222222222222,
             "#7201a8"
            ],
            [
             0.3333333333333333,
             "#9c179e"
            ],
            [
             0.4444444444444444,
             "#bd3786"
            ],
            [
             0.5555555555555556,
             "#d8576b"
            ],
            [
             0.6666666666666666,
             "#ed7953"
            ],
            [
             0.7777777777777778,
             "#fb9f3a"
            ],
            [
             0.8888888888888888,
             "#fdca26"
            ],
            [
             1,
             "#f0f921"
            ]
           ]
          },
          "colorway": [
           "#636efa",
           "#EF553B",
           "#00cc96",
           "#ab63fa",
           "#FFA15A",
           "#19d3f3",
           "#FF6692",
           "#B6E880",
           "#FF97FF",
           "#FECB52"
          ],
          "font": {
           "color": "#2a3f5f"
          },
          "geo": {
           "bgcolor": "white",
           "lakecolor": "white",
           "landcolor": "white",
           "showlakes": true,
           "showland": true,
           "subunitcolor": "#C8D4E3"
          },
          "hoverlabel": {
           "align": "left"
          },
          "hovermode": "closest",
          "mapbox": {
           "style": "light"
          },
          "paper_bgcolor": "white",
          "plot_bgcolor": "white",
          "polar": {
           "angularaxis": {
            "gridcolor": "#EBF0F8",
            "linecolor": "#EBF0F8",
            "ticks": ""
           },
           "bgcolor": "white",
           "radialaxis": {
            "gridcolor": "#EBF0F8",
            "linecolor": "#EBF0F8",
            "ticks": ""
           }
          },
          "scene": {
           "xaxis": {
            "backgroundcolor": "white",
            "gridcolor": "#DFE8F3",
            "gridwidth": 2,
            "linecolor": "#EBF0F8",
            "showbackground": true,
            "ticks": "",
            "zerolinecolor": "#EBF0F8"
           },
           "yaxis": {
            "backgroundcolor": "white",
            "gridcolor": "#DFE8F3",
            "gridwidth": 2,
            "linecolor": "#EBF0F8",
            "showbackground": true,
            "ticks": "",
            "zerolinecolor": "#EBF0F8"
           },
           "zaxis": {
            "backgroundcolor": "white",
            "gridcolor": "#DFE8F3",
            "gridwidth": 2,
            "linecolor": "#EBF0F8",
            "showbackground": true,
            "ticks": "",
            "zerolinecolor": "#EBF0F8"
           }
          },
          "shapedefaults": {
           "line": {
            "color": "#2a3f5f"
           }
          },
          "ternary": {
           "aaxis": {
            "gridcolor": "#DFE8F3",
            "linecolor": "#A2B1C6",
            "ticks": ""
           },
           "baxis": {
            "gridcolor": "#DFE8F3",
            "linecolor": "#A2B1C6",
            "ticks": ""
           },
           "bgcolor": "white",
           "caxis": {
            "gridcolor": "#DFE8F3",
            "linecolor": "#A2B1C6",
            "ticks": ""
           }
          },
          "title": {
           "x": 0.05
          },
          "xaxis": {
           "automargin": true,
           "gridcolor": "#EBF0F8",
           "linecolor": "#EBF0F8",
           "ticks": "",
           "title": {
            "standoff": 15
           },
           "zerolinecolor": "#EBF0F8",
           "zerolinewidth": 2
          },
          "yaxis": {
           "automargin": true,
           "gridcolor": "#EBF0F8",
           "linecolor": "#EBF0F8",
           "ticks": "",
           "title": {
            "standoff": 15
           },
           "zerolinecolor": "#EBF0F8",
           "zerolinewidth": 2
          }
         }
        },
        "title": {
         "text": "Regime Transition Probabilities"
        },
        "width": 700,
        "xaxis": {
         "title": {
          "text": "To Regime"
         }
        },
        "yaxis": {
         "title": {
          "text": "From Regime"
         }
        }
       }
      }
     },
     "metadata": {},
     "output_type": "display_data"
    },
    {
     "name": "stdout",
     "output_type": "stream",
     "text": [
      "\n",
      "Stationary Distribution:\n",
      "Regime 0: 46.01%\n",
      "Regime 1: 42.01%\n",
      "Regime 2: 11.97%\n"
     ]
    },
    {
     "data": {
      "application/vnd.plotly.v1+json": {
       "config": {
        "plotlyServerURL": "https://plot.ly"
       },
       "data": [
        {
         "domain": {
          "x": [
           0,
           1
          ],
          "y": [
           0,
           1
          ]
         },
         "hovertemplate": "label=%{label}<br>value=%{value}<extra></extra>",
         "labels": [
          "Regime 0",
          "Regime 1",
          "Regime 2"
         ],
         "legendgroup": "",
         "name": "",
         "showlegend": true,
         "textinfo": "percent+label",
         "textposition": "inside",
         "type": "pie",
         "values": {
          "bdata": "hdxJEIQBR0Am/tA81wFFQFeVlMuS8idA",
          "dtype": "f8"
         }
        }
       ],
       "layout": {
        "legend": {
         "tracegroupgap": 0
        },
        "piecolorway": [
         "rgb(102,194,165)",
         "rgb(252,141,98)",
         "rgb(141,160,203)"
        ],
        "template": {
         "data": {
          "bar": [
           {
            "error_x": {
             "color": "#2a3f5f"
            },
            "error_y": {
             "color": "#2a3f5f"
            },
            "marker": {
             "line": {
              "color": "#E5ECF6",
              "width": 0.5
             },
             "pattern": {
              "fillmode": "overlay",
              "size": 10,
              "solidity": 0.2
             }
            },
            "type": "bar"
           }
          ],
          "barpolar": [
           {
            "marker": {
             "line": {
              "color": "#E5ECF6",
              "width": 0.5
             },
             "pattern": {
              "fillmode": "overlay",
              "size": 10,
              "solidity": 0.2
             }
            },
            "type": "barpolar"
           }
          ],
          "carpet": [
           {
            "aaxis": {
             "endlinecolor": "#2a3f5f",
             "gridcolor": "white",
             "linecolor": "white",
             "minorgridcolor": "white",
             "startlinecolor": "#2a3f5f"
            },
            "baxis": {
             "endlinecolor": "#2a3f5f",
             "gridcolor": "white",
             "linecolor": "white",
             "minorgridcolor": "white",
             "startlinecolor": "#2a3f5f"
            },
            "type": "carpet"
           }
          ],
          "choropleth": [
           {
            "colorbar": {
             "outlinewidth": 0,
             "ticks": ""
            },
            "type": "choropleth"
           }
          ],
          "contour": [
           {
            "colorbar": {
             "outlinewidth": 0,
             "ticks": ""
            },
            "colorscale": [
             [
              0,
              "#0d0887"
             ],
             [
              0.1111111111111111,
              "#46039f"
             ],
             [
              0.2222222222222222,
              "#7201a8"
             ],
             [
              0.3333333333333333,
              "#9c179e"
             ],
             [
              0.4444444444444444,
              "#bd3786"
             ],
             [
              0.5555555555555556,
              "#d8576b"
             ],
             [
              0.6666666666666666,
              "#ed7953"
             ],
             [
              0.7777777777777778,
              "#fb9f3a"
             ],
             [
              0.8888888888888888,
              "#fdca26"
             ],
             [
              1,
              "#f0f921"
             ]
            ],
            "type": "contour"
           }
          ],
          "contourcarpet": [
           {
            "colorbar": {
             "outlinewidth": 0,
             "ticks": ""
            },
            "type": "contourcarpet"
           }
          ],
          "heatmap": [
           {
            "colorbar": {
             "outlinewidth": 0,
             "ticks": ""
            },
            "colorscale": [
             [
              0,
              "#0d0887"
             ],
             [
              0.1111111111111111,
              "#46039f"
             ],
             [
              0.2222222222222222,
              "#7201a8"
             ],
             [
              0.3333333333333333,
              "#9c179e"
             ],
             [
              0.4444444444444444,
              "#bd3786"
             ],
             [
              0.5555555555555556,
              "#d8576b"
             ],
             [
              0.6666666666666666,
              "#ed7953"
             ],
             [
              0.7777777777777778,
              "#fb9f3a"
             ],
             [
              0.8888888888888888,
              "#fdca26"
             ],
             [
              1,
              "#f0f921"
             ]
            ],
            "type": "heatmap"
           }
          ],
          "histogram": [
           {
            "marker": {
             "pattern": {
              "fillmode": "overlay",
              "size": 10,
              "solidity": 0.2
             }
            },
            "type": "histogram"
           }
          ],
          "histogram2d": [
           {
            "colorbar": {
             "outlinewidth": 0,
             "ticks": ""
            },
            "colorscale": [
             [
              0,
              "#0d0887"
             ],
             [
              0.1111111111111111,
              "#46039f"
             ],
             [
              0.2222222222222222,
              "#7201a8"
             ],
             [
              0.3333333333333333,
              "#9c179e"
             ],
             [
              0.4444444444444444,
              "#bd3786"
             ],
             [
              0.5555555555555556,
              "#d8576b"
             ],
             [
              0.6666666666666666,
              "#ed7953"
             ],
             [
              0.7777777777777778,
              "#fb9f3a"
             ],
             [
              0.8888888888888888,
              "#fdca26"
             ],
             [
              1,
              "#f0f921"
             ]
            ],
            "type": "histogram2d"
           }
          ],
          "histogram2dcontour": [
           {
            "colorbar": {
             "outlinewidth": 0,
             "ticks": ""
            },
            "colorscale": [
             [
              0,
              "#0d0887"
             ],
             [
              0.1111111111111111,
              "#46039f"
             ],
             [
              0.2222222222222222,
              "#7201a8"
             ],
             [
              0.3333333333333333,
              "#9c179e"
             ],
             [
              0.4444444444444444,
              "#bd3786"
             ],
             [
              0.5555555555555556,
              "#d8576b"
             ],
             [
              0.6666666666666666,
              "#ed7953"
             ],
             [
              0.7777777777777778,
              "#fb9f3a"
             ],
             [
              0.8888888888888888,
              "#fdca26"
             ],
             [
              1,
              "#f0f921"
             ]
            ],
            "type": "histogram2dcontour"
           }
          ],
          "mesh3d": [
           {
            "colorbar": {
             "outlinewidth": 0,
             "ticks": ""
            },
            "type": "mesh3d"
           }
          ],
          "parcoords": [
           {
            "line": {
             "colorbar": {
              "outlinewidth": 0,
              "ticks": ""
             }
            },
            "type": "parcoords"
           }
          ],
          "pie": [
           {
            "automargin": true,
            "type": "pie"
           }
          ],
          "scatter": [
           {
            "fillpattern": {
             "fillmode": "overlay",
             "size": 10,
             "solidity": 0.2
            },
            "type": "scatter"
           }
          ],
          "scatter3d": [
           {
            "line": {
             "colorbar": {
              "outlinewidth": 0,
              "ticks": ""
             }
            },
            "marker": {
             "colorbar": {
              "outlinewidth": 0,
              "ticks": ""
             }
            },
            "type": "scatter3d"
           }
          ],
          "scattercarpet": [
           {
            "marker": {
             "colorbar": {
              "outlinewidth": 0,
              "ticks": ""
             }
            },
            "type": "scattercarpet"
           }
          ],
          "scattergeo": [
           {
            "marker": {
             "colorbar": {
              "outlinewidth": 0,
              "ticks": ""
             }
            },
            "type": "scattergeo"
           }
          ],
          "scattergl": [
           {
            "marker": {
             "colorbar": {
              "outlinewidth": 0,
              "ticks": ""
             }
            },
            "type": "scattergl"
           }
          ],
          "scattermap": [
           {
            "marker": {
             "colorbar": {
              "outlinewidth": 0,
              "ticks": ""
             }
            },
            "type": "scattermap"
           }
          ],
          "scattermapbox": [
           {
            "marker": {
             "colorbar": {
              "outlinewidth": 0,
              "ticks": ""
             }
            },
            "type": "scattermapbox"
           }
          ],
          "scatterpolar": [
           {
            "marker": {
             "colorbar": {
              "outlinewidth": 0,
              "ticks": ""
             }
            },
            "type": "scatterpolar"
           }
          ],
          "scatterpolargl": [
           {
            "marker": {
             "colorbar": {
              "outlinewidth": 0,
              "ticks": ""
             }
            },
            "type": "scatterpolargl"
           }
          ],
          "scatterternary": [
           {
            "marker": {
             "colorbar": {
              "outlinewidth": 0,
              "ticks": ""
             }
            },
            "type": "scatterternary"
           }
          ],
          "surface": [
           {
            "colorbar": {
             "outlinewidth": 0,
             "ticks": ""
            },
            "colorscale": [
             [
              0,
              "#0d0887"
             ],
             [
              0.1111111111111111,
              "#46039f"
             ],
             [
              0.2222222222222222,
              "#7201a8"
             ],
             [
              0.3333333333333333,
              "#9c179e"
             ],
             [
              0.4444444444444444,
              "#bd3786"
             ],
             [
              0.5555555555555556,
              "#d8576b"
             ],
             [
              0.6666666666666666,
              "#ed7953"
             ],
             [
              0.7777777777777778,
              "#fb9f3a"
             ],
             [
              0.8888888888888888,
              "#fdca26"
             ],
             [
              1,
              "#f0f921"
             ]
            ],
            "type": "surface"
           }
          ],
          "table": [
           {
            "cells": {
             "fill": {
              "color": "#EBF0F8"
             },
             "line": {
              "color": "white"
             }
            },
            "header": {
             "fill": {
              "color": "#C8D4E3"
             },
             "line": {
              "color": "white"
             }
            },
            "type": "table"
           }
          ]
         },
         "layout": {
          "annotationdefaults": {
           "arrowcolor": "#2a3f5f",
           "arrowhead": 0,
           "arrowwidth": 1
          },
          "autotypenumbers": "strict",
          "coloraxis": {
           "colorbar": {
            "outlinewidth": 0,
            "ticks": ""
           }
          },
          "colorscale": {
           "diverging": [
            [
             0,
             "#8e0152"
            ],
            [
             0.1,
             "#c51b7d"
            ],
            [
             0.2,
             "#de77ae"
            ],
            [
             0.3,
             "#f1b6da"
            ],
            [
             0.4,
             "#fde0ef"
            ],
            [
             0.5,
             "#f7f7f7"
            ],
            [
             0.6,
             "#e6f5d0"
            ],
            [
             0.7,
             "#b8e186"
            ],
            [
             0.8,
             "#7fbc41"
            ],
            [
             0.9,
             "#4d9221"
            ],
            [
             1,
             "#276419"
            ]
           ],
           "sequential": [
            [
             0,
             "#0d0887"
            ],
            [
             0.1111111111111111,
             "#46039f"
            ],
            [
             0.2222222222222222,
             "#7201a8"
            ],
            [
             0.3333333333333333,
             "#9c179e"
            ],
            [
             0.4444444444444444,
             "#bd3786"
            ],
            [
             0.5555555555555556,
             "#d8576b"
            ],
            [
             0.6666666666666666,
             "#ed7953"
            ],
            [
             0.7777777777777778,
             "#fb9f3a"
            ],
            [
             0.8888888888888888,
             "#fdca26"
            ],
            [
             1,
             "#f0f921"
            ]
           ],
           "sequentialminus": [
            [
             0,
             "#0d0887"
            ],
            [
             0.1111111111111111,
             "#46039f"
            ],
            [
             0.2222222222222222,
             "#7201a8"
            ],
            [
             0.3333333333333333,
             "#9c179e"
            ],
            [
             0.4444444444444444,
             "#bd3786"
            ],
            [
             0.5555555555555556,
             "#d8576b"
            ],
            [
             0.6666666666666666,
             "#ed7953"
            ],
            [
             0.7777777777777778,
             "#fb9f3a"
            ],
            [
             0.8888888888888888,
             "#fdca26"
            ],
            [
             1,
             "#f0f921"
            ]
           ]
          },
          "colorway": [
           "#636efa",
           "#EF553B",
           "#00cc96",
           "#ab63fa",
           "#FFA15A",
           "#19d3f3",
           "#FF6692",
           "#B6E880",
           "#FF97FF",
           "#FECB52"
          ],
          "font": {
           "color": "#2a3f5f"
          },
          "geo": {
           "bgcolor": "white",
           "lakecolor": "white",
           "landcolor": "#E5ECF6",
           "showlakes": true,
           "showland": true,
           "subunitcolor": "white"
          },
          "hoverlabel": {
           "align": "left"
          },
          "hovermode": "closest",
          "mapbox": {
           "style": "light"
          },
          "paper_bgcolor": "white",
          "plot_bgcolor": "#E5ECF6",
          "polar": {
           "angularaxis": {
            "gridcolor": "white",
            "linecolor": "white",
            "ticks": ""
           },
           "bgcolor": "#E5ECF6",
           "radialaxis": {
            "gridcolor": "white",
            "linecolor": "white",
            "ticks": ""
           }
          },
          "scene": {
           "xaxis": {
            "backgroundcolor": "#E5ECF6",
            "gridcolor": "white",
            "gridwidth": 2,
            "linecolor": "white",
            "showbackground": true,
            "ticks": "",
            "zerolinecolor": "white"
           },
           "yaxis": {
            "backgroundcolor": "#E5ECF6",
            "gridcolor": "white",
            "gridwidth": 2,
            "linecolor": "white",
            "showbackground": true,
            "ticks": "",
            "zerolinecolor": "white"
           },
           "zaxis": {
            "backgroundcolor": "#E5ECF6",
            "gridcolor": "white",
            "gridwidth": 2,
            "linecolor": "white",
            "showbackground": true,
            "ticks": "",
            "zerolinecolor": "white"
           }
          },
          "shapedefaults": {
           "line": {
            "color": "#2a3f5f"
           }
          },
          "ternary": {
           "aaxis": {
            "gridcolor": "white",
            "linecolor": "white",
            "ticks": ""
           },
           "baxis": {
            "gridcolor": "white",
            "linecolor": "white",
            "ticks": ""
           },
           "bgcolor": "#E5ECF6",
           "caxis": {
            "gridcolor": "white",
            "linecolor": "white",
            "ticks": ""
           }
          },
          "title": {
           "x": 0.05
          },
          "xaxis": {
           "automargin": true,
           "gridcolor": "white",
           "linecolor": "white",
           "ticks": "",
           "title": {
            "standoff": 15
           },
           "zerolinecolor": "white",
           "zerolinewidth": 2
          },
          "yaxis": {
           "automargin": true,
           "gridcolor": "white",
           "linecolor": "white",
           "ticks": "",
           "title": {
            "standoff": 15
           },
           "zerolinecolor": "white",
           "zerolinewidth": 2
          }
         }
        },
        "title": {
         "text": "Stationary Distribution of Regimes"
        },
        "uniformtext": {
         "minsize": 12,
         "mode": "hide"
        }
       }
      }
     },
     "metadata": {},
     "output_type": "display_data"
    }
   ],
   "source": [
    "# Visualize the training data with regime classifications using Plotly\n",
    "training_with_predictions = training_data.copy()\n",
    "training_with_predictions['Regime'] = train_predictions\n",
    "\n",
    "# Create a categorical color map for regimes\n",
    "regime_colors = px.colors.qualitative.Set2[:hidden_states]\n",
    "\n",
    "# Create the scatter plot with Plotly\n",
    "fig = px.scatter(\n",
    "    training_with_predictions, \n",
    "    x='Date', \n",
    "    y='Close', \n",
    "    color='Regime',\n",
    "    color_discrete_sequence=regime_colors,\n",
    "    title='SPY Close Price Colored by Regime (Training Period: 2007-2017)',\n",
    "    labels={'Close': 'Price', 'Date': 'Date', 'Regime': 'Market Regime'},\n",
    "    height=600,\n",
    "    opacity=0.8,\n",
    "    size_max=10\n",
    ")\n",
    "\n",
    "fig.update_layout(\n",
    "    xaxis_title='Date',\n",
    "    yaxis_title='Price',\n",
    "    legend_title='Regime',\n",
    "    hovermode='closest',\n",
    "    template='plotly_white'\n",
    ")\n",
    "\n",
    "fig.show()\n",
    "\n",
    "# Visualize transition probabilities with Plotly\n",
    "transition_matrix = model.transmat_\n",
    "regime_labels = [f\"Regime {i}\" for i in range(hidden_states)]\n",
    "\n",
    "# Create the heatmap\n",
    "fig_heatmap = go.Figure(data=go.Heatmap(\n",
    "    z=transition_matrix,\n",
    "    x=regime_labels,\n",
    "    y=regime_labels,\n",
    "    colorscale='Blues',\n",
    "    text=np.round(transition_matrix, 2),\n",
    "    texttemplate=\"%{text:.2f}\",\n",
    "    textfont={\"size\": 14}\n",
    "))\n",
    "\n",
    "fig_heatmap.update_layout(\n",
    "    title='Regime Transition Probabilities',\n",
    "    xaxis_title='To Regime',\n",
    "    yaxis_title='From Regime',\n",
    "    width=700,\n",
    "    height=600,\n",
    "    template='plotly_white'\n",
    ")\n",
    "\n",
    "fig_heatmap.show()\n",
    "\n",
    "# Show stationary distribution\n",
    "stationary_dist = model.get_stationary_distribution()\n",
    "print(\"\\nStationary Distribution:\")\n",
    "for i in range(hidden_states):\n",
    "    print(f\"Regime {i}: {stationary_dist[i]*100:.2f}%\")\n",
    "\n",
    "# Create a pie chart for the stationary distribution\n",
    "fig_pie = px.pie(\n",
    "    values=stationary_dist * 100,\n",
    "    names=regime_labels,\n",
    "    title='Stationary Distribution of Regimes',\n",
    "    color_discrete_sequence=regime_colors\n",
    ")\n",
    "\n",
    "fig_pie.update_traces(textinfo='percent+label', textposition='inside')\n",
    "fig_pie.update_layout(uniformtext_minsize=12, uniformtext_mode='hide')\n",
    "fig_pie.show()"
   ]
  },
  {
   "cell_type": "code",
   "execution_count": 115,
   "metadata": {},
   "outputs": [],
   "source": [
    "# Function to predict regimes for a specific date range\n",
    "def predict_regimes(model, data, start_date, end_date):\n",
    "    \"\"\"\n",
    "    Predict market regimes for a specific date range using the trained HMM model\n",
    "    \n",
    "    Parameters:\n",
    "    -----------\n",
    "    model : hmm.GaussianHMM\n",
    "        The trained HMM model\n",
    "    data : DataFrame\n",
    "        The full dataset with calculated indicators\n",
    "    start_date : str\n",
    "        Start date for prediction period in 'YYYY-MM-DD' format\n",
    "    end_date : str\n",
    "        End date for prediction period in 'YYYY-MM-DD' format\n",
    "        \n",
    "    Returns:\n",
    "    --------\n",
    "    DataFrame with date, close price, and predicted regime\n",
    "    \"\"\"\n",
    "    # Filter data for prediction period\n",
    "    pred_data = data[(data['Date'] >= start_date) & (data['Date'] <= end_date)].copy()\n",
    "    \n",
    "    if len(pred_data) == 0:\n",
    "        print(f\"No data available for period {start_date} to {end_date}\")\n",
    "        if end_date > data['Date'].max().strftime('%Y-%m-%d'):\n",
    "            print(\"NOTE: Prediction period extends into the future\")\n",
    "            # Generate future dates for forecasting\n",
    "            last_date = data['Date'].max()\n",
    "            future_end = datetime.strptime(end_date, '%Y-%m-%d')\n",
    "            \n",
    "            # Get the most recent 30 days of data for calculating indicators\n",
    "            recent_data = data.tail(30).copy()\n",
    "            \n",
    "            # For future dates, we'll extend from the last value and assume zero returns\n",
    "            # This is a simplification - in reality you might want to use a forecasting model\n",
    "            current_date = last_date + timedelta(days=1)\n",
    "            while current_date <= future_end:\n",
    "                if current_date.weekday() < 5:  # Only include weekdays\n",
    "                    new_row = {\n",
    "                        'Date': current_date,\n",
    "                        'Close': recent_data['Close'].iloc[-1],  # Use the last known close price\n",
    "                        'High': recent_data['Close'].iloc[-1],\n",
    "                        'Low': recent_data['Close'].iloc[-1],\n",
    "                        'Open': recent_data['Close'].iloc[-1],\n",
    "                        'Volume': recent_data['Volume'].mean(),  # Use average volume\n",
    "                        'Volatility': recent_data['Volatility'].mean(),  # Use average volatility\n",
    "                        'MA': recent_data['MA'].iloc[-1],  # Use the last MA\n",
    "                        'Return': 0  # Assume zero returns for future dates\n",
    "                    }\n",
    "                    recent_data = pd.concat([recent_data, pd.DataFrame([new_row])], ignore_index=True)\n",
    "                current_date += timedelta(days=1)\n",
    "            \n",
    "            # Keep only the future dates we generated\n",
    "            future_data = recent_data[recent_data['Date'] > last_date].copy()\n",
    "            pred_data = future_data[(future_data['Date'] >= start_date) & (future_data['Date'] <= end_date)].copy()\n",
    "    \n",
    "    # Prepare observations for prediction\n",
    "    obs = np.column_stack([pred_data['Volatility'].values, pred_data['Return'].values])\n",
    "    \n",
    "    # Predict regimes\n",
    "    predictions = model.predict(obs)\n",
    "    \n",
    "    # Add predictions to dataframe\n",
    "    pred_data['Predicted_Regime'] = predictions\n",
    "    \n",
    "    print(f\"Predicted regimes for period {start_date} to {end_date}\")\n",
    "    print(f\"Data points: {len(pred_data)}\")\n",
    "    \n",
    "    # Calculate regime distribution\n",
    "    regime_counts = pd.Series(predictions).value_counts(normalize=True) * 100\n",
    "    print(\"\\nRegime Distribution:\")\n",
    "    for regime, percentage in regime_counts.items():\n",
    "        print(f\"Regime {regime}: {percentage:.2f}%\")\n",
    "    \n",
    "    return pred_data[['Date', 'Close', 'Volatility', 'Return', 'Predicted_Regime']]"
   ]
  },
  {
   "cell_type": "code",
   "execution_count": 116,
   "metadata": {},
   "outputs": [
    {
     "name": "stdout",
     "output_type": "stream",
     "text": [
      "Predicted regimes for period 2018-01-01 to 2019-12-31\n",
      "Data points: 503\n",
      "\n",
      "Regime Distribution:\n",
      "Regime 0: 86.68%\n",
      "Regime 1: 12.52%\n",
      "Regime 2: 0.80%\n"
     ]
    },
    {
     "data": {
      "application/vnd.plotly.v1+json": {
       "config": {
        "plotlyServerURL": "https://plot.ly"
       },
       "data": [
        {
         "hovertemplate": "Date=%{x}<br>Price=%{y}<br>Market Regime=%{marker.color}<extra></extra>",
         "legendgroup": "",
         "marker": {
          "color": {
           "bdata": "AAAAAAAAAAAAAAAAAAAAAAAAAAAAAAABAQECAgEBAQEAAAAAAAAAAAAAAAAAAAAAAAAAAAAAAAEBAQEBAQEAAAAAAAAAAAAAAAAAAAAAAAAAAAAAAAAAAAAAAAAAAAAAAAAAAAAAAAAAAAAAAAAAAAAAAAAAAAAAAAAAAAAAAAAAAAAAAAAAAAAAAAAAAAAAAAAAAAAAAAAAAAAAAAAAAAAAAAAAAAAAAAAAAAAAAAAAAAAAAAAAAAAAAAAAAAAAAAAAAQEBAQEBAQEAAAEBAQEBAAAAAAABAQEAAAAAAAAAAAAAAAAAAAEBAQEBAQEBAQEBAQEBAgIBAQEBAQEBAQAAAAAAAAAAAAAAAAAAAAAAAAAAAAAAAAAAAAAAAAAAAAAAAAAAAAAAAAAAAAAAAAAAAAAAAAAAAAAAAAAAAAAAAAAAAAAAAAAAAAAAAAAAAAAAAAAAAAAAAAAAAAAAAAAAAAAAAAAAAAEBAQAAAAAAAAAAAAAAAAAAAAAAAAAAAAAAAAAAAAAAAAAAAAAAAQEBAQEBAQEAAAAAAAAAAAAAAAAAAAAAAAAAAAAAAAAAAAAAAAAAAAAAAAAAAAAAAAAAAAAAAAAAAAAAAAAAAAAAAAAAAAAAAAAAAAAAAAAAAAAAAAAAAAAAAAAAAAAAAAAAAAAAAAA=",
           "dtype": "i1"
          },
          "coloraxis": "coloraxis",
          "opacity": 0.8,
          "symbol": "circle"
         },
         "mode": "markers",
         "name": "",
         "orientation": "v",
         "showlegend": false,
         "type": "scatter",
         "x": [
          "2018-01-02T00:00:00.000000000",
          "2018-01-03T00:00:00.000000000",
          "2018-01-04T00:00:00.000000000",
          "2018-01-05T00:00:00.000000000",
          "2018-01-08T00:00:00.000000000",
          "2018-01-09T00:00:00.000000000",
          "2018-01-10T00:00:00.000000000",
          "2018-01-11T00:00:00.000000000",
          "2018-01-12T00:00:00.000000000",
          "2018-01-16T00:00:00.000000000",
          "2018-01-17T00:00:00.000000000",
          "2018-01-18T00:00:00.000000000",
          "2018-01-19T00:00:00.000000000",
          "2018-01-22T00:00:00.000000000",
          "2018-01-23T00:00:00.000000000",
          "2018-01-24T00:00:00.000000000",
          "2018-01-25T00:00:00.000000000",
          "2018-01-26T00:00:00.000000000",
          "2018-01-29T00:00:00.000000000",
          "2018-01-30T00:00:00.000000000",
          "2018-01-31T00:00:00.000000000",
          "2018-02-01T00:00:00.000000000",
          "2018-02-02T00:00:00.000000000",
          "2018-02-05T00:00:00.000000000",
          "2018-02-06T00:00:00.000000000",
          "2018-02-07T00:00:00.000000000",
          "2018-02-08T00:00:00.000000000",
          "2018-02-09T00:00:00.000000000",
          "2018-02-12T00:00:00.000000000",
          "2018-02-13T00:00:00.000000000",
          "2018-02-14T00:00:00.000000000",
          "2018-02-15T00:00:00.000000000",
          "2018-02-16T00:00:00.000000000",
          "2018-02-20T00:00:00.000000000",
          "2018-02-21T00:00:00.000000000",
          "2018-02-22T00:00:00.000000000",
          "2018-02-23T00:00:00.000000000",
          "2018-02-26T00:00:00.000000000",
          "2018-02-27T00:00:00.000000000",
          "2018-02-28T00:00:00.000000000",
          "2018-03-01T00:00:00.000000000",
          "2018-03-02T00:00:00.000000000",
          "2018-03-05T00:00:00.000000000",
          "2018-03-06T00:00:00.000000000",
          "2018-03-07T00:00:00.000000000",
          "2018-03-08T00:00:00.000000000",
          "2018-03-09T00:00:00.000000000",
          "2018-03-12T00:00:00.000000000",
          "2018-03-13T00:00:00.000000000",
          "2018-03-14T00:00:00.000000000",
          "2018-03-15T00:00:00.000000000",
          "2018-03-16T00:00:00.000000000",
          "2018-03-19T00:00:00.000000000",
          "2018-03-20T00:00:00.000000000",
          "2018-03-21T00:00:00.000000000",
          "2018-03-22T00:00:00.000000000",
          "2018-03-23T00:00:00.000000000",
          "2018-03-26T00:00:00.000000000",
          "2018-03-27T00:00:00.000000000",
          "2018-03-28T00:00:00.000000000",
          "2018-03-29T00:00:00.000000000",
          "2018-04-02T00:00:00.000000000",
          "2018-04-03T00:00:00.000000000",
          "2018-04-04T00:00:00.000000000",
          "2018-04-05T00:00:00.000000000",
          "2018-04-06T00:00:00.000000000",
          "2018-04-09T00:00:00.000000000",
          "2018-04-10T00:00:00.000000000",
          "2018-04-11T00:00:00.000000000",
          "2018-04-12T00:00:00.000000000",
          "2018-04-13T00:00:00.000000000",
          "2018-04-16T00:00:00.000000000",
          "2018-04-17T00:00:00.000000000",
          "2018-04-18T00:00:00.000000000",
          "2018-04-19T00:00:00.000000000",
          "2018-04-20T00:00:00.000000000",
          "2018-04-23T00:00:00.000000000",
          "2018-04-24T00:00:00.000000000",
          "2018-04-25T00:00:00.000000000",
          "2018-04-26T00:00:00.000000000",
          "2018-04-27T00:00:00.000000000",
          "2018-04-30T00:00:00.000000000",
          "2018-05-01T00:00:00.000000000",
          "2018-05-02T00:00:00.000000000",
          "2018-05-03T00:00:00.000000000",
          "2018-05-04T00:00:00.000000000",
          "2018-05-07T00:00:00.000000000",
          "2018-05-08T00:00:00.000000000",
          "2018-05-09T00:00:00.000000000",
          "2018-05-10T00:00:00.000000000",
          "2018-05-11T00:00:00.000000000",
          "2018-05-14T00:00:00.000000000",
          "2018-05-15T00:00:00.000000000",
          "2018-05-16T00:00:00.000000000",
          "2018-05-17T00:00:00.000000000",
          "2018-05-18T00:00:00.000000000",
          "2018-05-21T00:00:00.000000000",
          "2018-05-22T00:00:00.000000000",
          "2018-05-23T00:00:00.000000000",
          "2018-05-24T00:00:00.000000000",
          "2018-05-25T00:00:00.000000000",
          "2018-05-29T00:00:00.000000000",
          "2018-05-30T00:00:00.000000000",
          "2018-05-31T00:00:00.000000000",
          "2018-06-01T00:00:00.000000000",
          "2018-06-04T00:00:00.000000000",
          "2018-06-05T00:00:00.000000000",
          "2018-06-06T00:00:00.000000000",
          "2018-06-07T00:00:00.000000000",
          "2018-06-08T00:00:00.000000000",
          "2018-06-11T00:00:00.000000000",
          "2018-06-12T00:00:00.000000000",
          "2018-06-13T00:00:00.000000000",
          "2018-06-14T00:00:00.000000000",
          "2018-06-15T00:00:00.000000000",
          "2018-06-18T00:00:00.000000000",
          "2018-06-19T00:00:00.000000000",
          "2018-06-20T00:00:00.000000000",
          "2018-06-21T00:00:00.000000000",
          "2018-06-22T00:00:00.000000000",
          "2018-06-25T00:00:00.000000000",
          "2018-06-26T00:00:00.000000000",
          "2018-06-27T00:00:00.000000000",
          "2018-06-28T00:00:00.000000000",
          "2018-06-29T00:00:00.000000000",
          "2018-07-02T00:00:00.000000000",
          "2018-07-03T00:00:00.000000000",
          "2018-07-05T00:00:00.000000000",
          "2018-07-06T00:00:00.000000000",
          "2018-07-09T00:00:00.000000000",
          "2018-07-10T00:00:00.000000000",
          "2018-07-11T00:00:00.000000000",
          "2018-07-12T00:00:00.000000000",
          "2018-07-13T00:00:00.000000000",
          "2018-07-16T00:00:00.000000000",
          "2018-07-17T00:00:00.000000000",
          "2018-07-18T00:00:00.000000000",
          "2018-07-19T00:00:00.000000000",
          "2018-07-20T00:00:00.000000000",
          "2018-07-23T00:00:00.000000000",
          "2018-07-24T00:00:00.000000000",
          "2018-07-25T00:00:00.000000000",
          "2018-07-26T00:00:00.000000000",
          "2018-07-27T00:00:00.000000000",
          "2018-07-30T00:00:00.000000000",
          "2018-07-31T00:00:00.000000000",
          "2018-08-01T00:00:00.000000000",
          "2018-08-02T00:00:00.000000000",
          "2018-08-03T00:00:00.000000000",
          "2018-08-06T00:00:00.000000000",
          "2018-08-07T00:00:00.000000000",
          "2018-08-08T00:00:00.000000000",
          "2018-08-09T00:00:00.000000000",
          "2018-08-10T00:00:00.000000000",
          "2018-08-13T00:00:00.000000000",
          "2018-08-14T00:00:00.000000000",
          "2018-08-15T00:00:00.000000000",
          "2018-08-16T00:00:00.000000000",
          "2018-08-17T00:00:00.000000000",
          "2018-08-20T00:00:00.000000000",
          "2018-08-21T00:00:00.000000000",
          "2018-08-22T00:00:00.000000000",
          "2018-08-23T00:00:00.000000000",
          "2018-08-24T00:00:00.000000000",
          "2018-08-27T00:00:00.000000000",
          "2018-08-28T00:00:00.000000000",
          "2018-08-29T00:00:00.000000000",
          "2018-08-30T00:00:00.000000000",
          "2018-08-31T00:00:00.000000000",
          "2018-09-04T00:00:00.000000000",
          "2018-09-05T00:00:00.000000000",
          "2018-09-06T00:00:00.000000000",
          "2018-09-07T00:00:00.000000000",
          "2018-09-10T00:00:00.000000000",
          "2018-09-11T00:00:00.000000000",
          "2018-09-12T00:00:00.000000000",
          "2018-09-13T00:00:00.000000000",
          "2018-09-14T00:00:00.000000000",
          "2018-09-17T00:00:00.000000000",
          "2018-09-18T00:00:00.000000000",
          "2018-09-19T00:00:00.000000000",
          "2018-09-20T00:00:00.000000000",
          "2018-09-21T00:00:00.000000000",
          "2018-09-24T00:00:00.000000000",
          "2018-09-25T00:00:00.000000000",
          "2018-09-26T00:00:00.000000000",
          "2018-09-27T00:00:00.000000000",
          "2018-09-28T00:00:00.000000000",
          "2018-10-01T00:00:00.000000000",
          "2018-10-02T00:00:00.000000000",
          "2018-10-03T00:00:00.000000000",
          "2018-10-04T00:00:00.000000000",
          "2018-10-05T00:00:00.000000000",
          "2018-10-08T00:00:00.000000000",
          "2018-10-09T00:00:00.000000000",
          "2018-10-10T00:00:00.000000000",
          "2018-10-11T00:00:00.000000000",
          "2018-10-12T00:00:00.000000000",
          "2018-10-15T00:00:00.000000000",
          "2018-10-16T00:00:00.000000000",
          "2018-10-17T00:00:00.000000000",
          "2018-10-18T00:00:00.000000000",
          "2018-10-19T00:00:00.000000000",
          "2018-10-22T00:00:00.000000000",
          "2018-10-23T00:00:00.000000000",
          "2018-10-24T00:00:00.000000000",
          "2018-10-25T00:00:00.000000000",
          "2018-10-26T00:00:00.000000000",
          "2018-10-29T00:00:00.000000000",
          "2018-10-30T00:00:00.000000000",
          "2018-10-31T00:00:00.000000000",
          "2018-11-01T00:00:00.000000000",
          "2018-11-02T00:00:00.000000000",
          "2018-11-05T00:00:00.000000000",
          "2018-11-06T00:00:00.000000000",
          "2018-11-07T00:00:00.000000000",
          "2018-11-08T00:00:00.000000000",
          "2018-11-09T00:00:00.000000000",
          "2018-11-12T00:00:00.000000000",
          "2018-11-13T00:00:00.000000000",
          "2018-11-14T00:00:00.000000000",
          "2018-11-15T00:00:00.000000000",
          "2018-11-16T00:00:00.000000000",
          "2018-11-19T00:00:00.000000000",
          "2018-11-20T00:00:00.000000000",
          "2018-11-21T00:00:00.000000000",
          "2018-11-23T00:00:00.000000000",
          "2018-11-26T00:00:00.000000000",
          "2018-11-27T00:00:00.000000000",
          "2018-11-28T00:00:00.000000000",
          "2018-11-29T00:00:00.000000000",
          "2018-11-30T00:00:00.000000000",
          "2018-12-03T00:00:00.000000000",
          "2018-12-04T00:00:00.000000000",
          "2018-12-06T00:00:00.000000000",
          "2018-12-07T00:00:00.000000000",
          "2018-12-10T00:00:00.000000000",
          "2018-12-11T00:00:00.000000000",
          "2018-12-12T00:00:00.000000000",
          "2018-12-13T00:00:00.000000000",
          "2018-12-14T00:00:00.000000000",
          "2018-12-17T00:00:00.000000000",
          "2018-12-18T00:00:00.000000000",
          "2018-12-19T00:00:00.000000000",
          "2018-12-20T00:00:00.000000000",
          "2018-12-21T00:00:00.000000000",
          "2018-12-24T00:00:00.000000000",
          "2018-12-26T00:00:00.000000000",
          "2018-12-27T00:00:00.000000000",
          "2018-12-28T00:00:00.000000000",
          "2018-12-31T00:00:00.000000000",
          "2019-01-02T00:00:00.000000000",
          "2019-01-03T00:00:00.000000000",
          "2019-01-04T00:00:00.000000000",
          "2019-01-07T00:00:00.000000000",
          "2019-01-08T00:00:00.000000000",
          "2019-01-09T00:00:00.000000000",
          "2019-01-10T00:00:00.000000000",
          "2019-01-11T00:00:00.000000000",
          "2019-01-14T00:00:00.000000000",
          "2019-01-15T00:00:00.000000000",
          "2019-01-16T00:00:00.000000000",
          "2019-01-17T00:00:00.000000000",
          "2019-01-18T00:00:00.000000000",
          "2019-01-22T00:00:00.000000000",
          "2019-01-23T00:00:00.000000000",
          "2019-01-24T00:00:00.000000000",
          "2019-01-25T00:00:00.000000000",
          "2019-01-28T00:00:00.000000000",
          "2019-01-29T00:00:00.000000000",
          "2019-01-30T00:00:00.000000000",
          "2019-01-31T00:00:00.000000000",
          "2019-02-01T00:00:00.000000000",
          "2019-02-04T00:00:00.000000000",
          "2019-02-05T00:00:00.000000000",
          "2019-02-06T00:00:00.000000000",
          "2019-02-07T00:00:00.000000000",
          "2019-02-08T00:00:00.000000000",
          "2019-02-11T00:00:00.000000000",
          "2019-02-12T00:00:00.000000000",
          "2019-02-13T00:00:00.000000000",
          "2019-02-14T00:00:00.000000000",
          "2019-02-15T00:00:00.000000000",
          "2019-02-19T00:00:00.000000000",
          "2019-02-20T00:00:00.000000000",
          "2019-02-21T00:00:00.000000000",
          "2019-02-22T00:00:00.000000000",
          "2019-02-25T00:00:00.000000000",
          "2019-02-26T00:00:00.000000000",
          "2019-02-27T00:00:00.000000000",
          "2019-02-28T00:00:00.000000000",
          "2019-03-01T00:00:00.000000000",
          "2019-03-04T00:00:00.000000000",
          "2019-03-05T00:00:00.000000000",
          "2019-03-06T00:00:00.000000000",
          "2019-03-07T00:00:00.000000000",
          "2019-03-08T00:00:00.000000000",
          "2019-03-11T00:00:00.000000000",
          "2019-03-12T00:00:00.000000000",
          "2019-03-13T00:00:00.000000000",
          "2019-03-14T00:00:00.000000000",
          "2019-03-15T00:00:00.000000000",
          "2019-03-18T00:00:00.000000000",
          "2019-03-19T00:00:00.000000000",
          "2019-03-20T00:00:00.000000000",
          "2019-03-21T00:00:00.000000000",
          "2019-03-22T00:00:00.000000000",
          "2019-03-25T00:00:00.000000000",
          "2019-03-26T00:00:00.000000000",
          "2019-03-27T00:00:00.000000000",
          "2019-03-28T00:00:00.000000000",
          "2019-03-29T00:00:00.000000000",
          "2019-04-01T00:00:00.000000000",
          "2019-04-02T00:00:00.000000000",
          "2019-04-03T00:00:00.000000000",
          "2019-04-04T00:00:00.000000000",
          "2019-04-05T00:00:00.000000000",
          "2019-04-08T00:00:00.000000000",
          "2019-04-09T00:00:00.000000000",
          "2019-04-10T00:00:00.000000000",
          "2019-04-11T00:00:00.000000000",
          "2019-04-12T00:00:00.000000000",
          "2019-04-15T00:00:00.000000000",
          "2019-04-16T00:00:00.000000000",
          "2019-04-17T00:00:00.000000000",
          "2019-04-18T00:00:00.000000000",
          "2019-04-22T00:00:00.000000000",
          "2019-04-23T00:00:00.000000000",
          "2019-04-24T00:00:00.000000000",
          "2019-04-25T00:00:00.000000000",
          "2019-04-26T00:00:00.000000000",
          "2019-04-29T00:00:00.000000000",
          "2019-04-30T00:00:00.000000000",
          "2019-05-01T00:00:00.000000000",
          "2019-05-02T00:00:00.000000000",
          "2019-05-03T00:00:00.000000000",
          "2019-05-06T00:00:00.000000000",
          "2019-05-07T00:00:00.000000000",
          "2019-05-08T00:00:00.000000000",
          "2019-05-09T00:00:00.000000000",
          "2019-05-10T00:00:00.000000000",
          "2019-05-13T00:00:00.000000000",
          "2019-05-14T00:00:00.000000000",
          "2019-05-15T00:00:00.000000000",
          "2019-05-16T00:00:00.000000000",
          "2019-05-17T00:00:00.000000000",
          "2019-05-20T00:00:00.000000000",
          "2019-05-21T00:00:00.000000000",
          "2019-05-22T00:00:00.000000000",
          "2019-05-23T00:00:00.000000000",
          "2019-05-24T00:00:00.000000000",
          "2019-05-28T00:00:00.000000000",
          "2019-05-29T00:00:00.000000000",
          "2019-05-30T00:00:00.000000000",
          "2019-05-31T00:00:00.000000000",
          "2019-06-03T00:00:00.000000000",
          "2019-06-04T00:00:00.000000000",
          "2019-06-05T00:00:00.000000000",
          "2019-06-06T00:00:00.000000000",
          "2019-06-07T00:00:00.000000000",
          "2019-06-10T00:00:00.000000000",
          "2019-06-11T00:00:00.000000000",
          "2019-06-12T00:00:00.000000000",
          "2019-06-13T00:00:00.000000000",
          "2019-06-14T00:00:00.000000000",
          "2019-06-17T00:00:00.000000000",
          "2019-06-18T00:00:00.000000000",
          "2019-06-19T00:00:00.000000000",
          "2019-06-20T00:00:00.000000000",
          "2019-06-21T00:00:00.000000000",
          "2019-06-24T00:00:00.000000000",
          "2019-06-25T00:00:00.000000000",
          "2019-06-26T00:00:00.000000000",
          "2019-06-27T00:00:00.000000000",
          "2019-06-28T00:00:00.000000000",
          "2019-07-01T00:00:00.000000000",
          "2019-07-02T00:00:00.000000000",
          "2019-07-03T00:00:00.000000000",
          "2019-07-05T00:00:00.000000000",
          "2019-07-08T00:00:00.000000000",
          "2019-07-09T00:00:00.000000000",
          "2019-07-10T00:00:00.000000000",
          "2019-07-11T00:00:00.000000000",
          "2019-07-12T00:00:00.000000000",
          "2019-07-15T00:00:00.000000000",
          "2019-07-16T00:00:00.000000000",
          "2019-07-17T00:00:00.000000000",
          "2019-07-18T00:00:00.000000000",
          "2019-07-19T00:00:00.000000000",
          "2019-07-22T00:00:00.000000000",
          "2019-07-23T00:00:00.000000000",
          "2019-07-24T00:00:00.000000000",
          "2019-07-25T00:00:00.000000000",
          "2019-07-26T00:00:00.000000000",
          "2019-07-29T00:00:00.000000000",
          "2019-07-30T00:00:00.000000000",
          "2019-07-31T00:00:00.000000000",
          "2019-08-01T00:00:00.000000000",
          "2019-08-02T00:00:00.000000000",
          "2019-08-05T00:00:00.000000000",
          "2019-08-06T00:00:00.000000000",
          "2019-08-07T00:00:00.000000000",
          "2019-08-08T00:00:00.000000000",
          "2019-08-09T00:00:00.000000000",
          "2019-08-12T00:00:00.000000000",
          "2019-08-13T00:00:00.000000000",
          "2019-08-14T00:00:00.000000000",
          "2019-08-15T00:00:00.000000000",
          "2019-08-16T00:00:00.000000000",
          "2019-08-19T00:00:00.000000000",
          "2019-08-20T00:00:00.000000000",
          "2019-08-21T00:00:00.000000000",
          "2019-08-22T00:00:00.000000000",
          "2019-08-23T00:00:00.000000000",
          "2019-08-26T00:00:00.000000000",
          "2019-08-27T00:00:00.000000000",
          "2019-08-28T00:00:00.000000000",
          "2019-08-29T00:00:00.000000000",
          "2019-08-30T00:00:00.000000000",
          "2019-09-03T00:00:00.000000000",
          "2019-09-04T00:00:00.000000000",
          "2019-09-05T00:00:00.000000000",
          "2019-09-06T00:00:00.000000000",
          "2019-09-09T00:00:00.000000000",
          "2019-09-10T00:00:00.000000000",
          "2019-09-11T00:00:00.000000000",
          "2019-09-12T00:00:00.000000000",
          "2019-09-13T00:00:00.000000000",
          "2019-09-16T00:00:00.000000000",
          "2019-09-17T00:00:00.000000000",
          "2019-09-18T00:00:00.000000000",
          "2019-09-19T00:00:00.000000000",
          "2019-09-20T00:00:00.000000000",
          "2019-09-23T00:00:00.000000000",
          "2019-09-24T00:00:00.000000000",
          "2019-09-25T00:00:00.000000000",
          "2019-09-26T00:00:00.000000000",
          "2019-09-27T00:00:00.000000000",
          "2019-09-30T00:00:00.000000000",
          "2019-10-01T00:00:00.000000000",
          "2019-10-02T00:00:00.000000000",
          "2019-10-03T00:00:00.000000000",
          "2019-10-04T00:00:00.000000000",
          "2019-10-07T00:00:00.000000000",
          "2019-10-08T00:00:00.000000000",
          "2019-10-09T00:00:00.000000000",
          "2019-10-10T00:00:00.000000000",
          "2019-10-11T00:00:00.000000000",
          "2019-10-14T00:00:00.000000000",
          "2019-10-15T00:00:00.000000000",
          "2019-10-16T00:00:00.000000000",
          "2019-10-17T00:00:00.000000000",
          "2019-10-18T00:00:00.000000000",
          "2019-10-21T00:00:00.000000000",
          "2019-10-22T00:00:00.000000000",
          "2019-10-23T00:00:00.000000000",
          "2019-10-24T00:00:00.000000000",
          "2019-10-25T00:00:00.000000000",
          "2019-10-28T00:00:00.000000000",
          "2019-10-29T00:00:00.000000000",
          "2019-10-30T00:00:00.000000000",
          "2019-10-31T00:00:00.000000000",
          "2019-11-01T00:00:00.000000000",
          "2019-11-04T00:00:00.000000000",
          "2019-11-05T00:00:00.000000000",
          "2019-11-06T00:00:00.000000000",
          "2019-11-07T00:00:00.000000000",
          "2019-11-08T00:00:00.000000000",
          "2019-11-11T00:00:00.000000000",
          "2019-11-12T00:00:00.000000000",
          "2019-11-13T00:00:00.000000000",
          "2019-11-14T00:00:00.000000000",
          "2019-11-15T00:00:00.000000000",
          "2019-11-18T00:00:00.000000000",
          "2019-11-19T00:00:00.000000000",
          "2019-11-20T00:00:00.000000000",
          "2019-11-21T00:00:00.000000000",
          "2019-11-22T00:00:00.000000000",
          "2019-11-25T00:00:00.000000000",
          "2019-11-26T00:00:00.000000000",
          "2019-11-27T00:00:00.000000000",
          "2019-11-29T00:00:00.000000000",
          "2019-12-02T00:00:00.000000000",
          "2019-12-03T00:00:00.000000000",
          "2019-12-04T00:00:00.000000000",
          "2019-12-05T00:00:00.000000000",
          "2019-12-06T00:00:00.000000000",
          "2019-12-09T00:00:00.000000000",
          "2019-12-10T00:00:00.000000000",
          "2019-12-11T00:00:00.000000000",
          "2019-12-12T00:00:00.000000000",
          "2019-12-13T00:00:00.000000000",
          "2019-12-16T00:00:00.000000000",
          "2019-12-17T00:00:00.000000000",
          "2019-12-18T00:00:00.000000000",
          "2019-12-19T00:00:00.000000000",
          "2019-12-20T00:00:00.000000000",
          "2019-12-23T00:00:00.000000000",
          "2019-12-24T00:00:00.000000000",
          "2019-12-26T00:00:00.000000000",
          "2019-12-27T00:00:00.000000000",
          "2019-12-30T00:00:00.000000000",
          "2019-12-31T00:00:00.000000000"
         ],
         "xaxis": "x",
         "y": {
          "bdata": "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",
          "dtype": "f8"
         },
         "yaxis": "y"
        }
       ],
       "layout": {
        "coloraxis": {
         "colorbar": {
          "title": {
           "text": "Market Regime"
          }
         },
         "colorscale": [
          [
           0,
           "#0d0887"
          ],
          [
           0.1111111111111111,
           "#46039f"
          ],
          [
           0.2222222222222222,
           "#7201a8"
          ],
          [
           0.3333333333333333,
           "#9c179e"
          ],
          [
           0.4444444444444444,
           "#bd3786"
          ],
          [
           0.5555555555555556,
           "#d8576b"
          ],
          [
           0.6666666666666666,
           "#ed7953"
          ],
          [
           0.7777777777777778,
           "#fb9f3a"
          ],
          [
           0.8888888888888888,
           "#fdca26"
          ],
          [
           1,
           "#f0f921"
          ]
         ]
        },
        "height": 600,
        "hovermode": "closest",
        "legend": {
         "title": {
          "text": "Regime"
         },
         "tracegroupgap": 0
        },
        "template": {
         "data": {
          "bar": [
           {
            "error_x": {
             "color": "#2a3f5f"
            },
            "error_y": {
             "color": "#2a3f5f"
            },
            "marker": {
             "line": {
              "color": "white",
              "width": 0.5
             },
             "pattern": {
              "fillmode": "overlay",
              "size": 10,
              "solidity": 0.2
             }
            },
            "type": "bar"
           }
          ],
          "barpolar": [
           {
            "marker": {
             "line": {
              "color": "white",
              "width": 0.5
             },
             "pattern": {
              "fillmode": "overlay",
              "size": 10,
              "solidity": 0.2
             }
            },
            "type": "barpolar"
           }
          ],
          "carpet": [
           {
            "aaxis": {
             "endlinecolor": "#2a3f5f",
             "gridcolor": "#C8D4E3",
             "linecolor": "#C8D4E3",
             "minorgridcolor": "#C8D4E3",
             "startlinecolor": "#2a3f5f"
            },
            "baxis": {
             "endlinecolor": "#2a3f5f",
             "gridcolor": "#C8D4E3",
             "linecolor": "#C8D4E3",
             "minorgridcolor": "#C8D4E3",
             "startlinecolor": "#2a3f5f"
            },
            "type": "carpet"
           }
          ],
          "choropleth": [
           {
            "colorbar": {
             "outlinewidth": 0,
             "ticks": ""
            },
            "type": "choropleth"
           }
          ],
          "contour": [
           {
            "colorbar": {
             "outlinewidth": 0,
             "ticks": ""
            },
            "colorscale": [
             [
              0,
              "#0d0887"
             ],
             [
              0.1111111111111111,
              "#46039f"
             ],
             [
              0.2222222222222222,
              "#7201a8"
             ],
             [
              0.3333333333333333,
              "#9c179e"
             ],
             [
              0.4444444444444444,
              "#bd3786"
             ],
             [
              0.5555555555555556,
              "#d8576b"
             ],
             [
              0.6666666666666666,
              "#ed7953"
             ],
             [
              0.7777777777777778,
              "#fb9f3a"
             ],
             [
              0.8888888888888888,
              "#fdca26"
             ],
             [
              1,
              "#f0f921"
             ]
            ],
            "type": "contour"
           }
          ],
          "contourcarpet": [
           {
            "colorbar": {
             "outlinewidth": 0,
             "ticks": ""
            },
            "type": "contourcarpet"
           }
          ],
          "heatmap": [
           {
            "colorbar": {
             "outlinewidth": 0,
             "ticks": ""
            },
            "colorscale": [
             [
              0,
              "#0d0887"
             ],
             [
              0.1111111111111111,
              "#46039f"
             ],
             [
              0.2222222222222222,
              "#7201a8"
             ],
             [
              0.3333333333333333,
              "#9c179e"
             ],
             [
              0.4444444444444444,
              "#bd3786"
             ],
             [
              0.5555555555555556,
              "#d8576b"
             ],
             [
              0.6666666666666666,
              "#ed7953"
             ],
             [
              0.7777777777777778,
              "#fb9f3a"
             ],
             [
              0.8888888888888888,
              "#fdca26"
             ],
             [
              1,
              "#f0f921"
             ]
            ],
            "type": "heatmap"
           }
          ],
          "histogram": [
           {
            "marker": {
             "pattern": {
              "fillmode": "overlay",
              "size": 10,
              "solidity": 0.2
             }
            },
            "type": "histogram"
           }
          ],
          "histogram2d": [
           {
            "colorbar": {
             "outlinewidth": 0,
             "ticks": ""
            },
            "colorscale": [
             [
              0,
              "#0d0887"
             ],
             [
              0.1111111111111111,
              "#46039f"
             ],
             [
              0.2222222222222222,
              "#7201a8"
             ],
             [
              0.3333333333333333,
              "#9c179e"
             ],
             [
              0.4444444444444444,
              "#bd3786"
             ],
             [
              0.5555555555555556,
              "#d8576b"
             ],
             [
              0.6666666666666666,
              "#ed7953"
             ],
             [
              0.7777777777777778,
              "#fb9f3a"
             ],
             [
              0.8888888888888888,
              "#fdca26"
             ],
             [
              1,
              "#f0f921"
             ]
            ],
            "type": "histogram2d"
           }
          ],
          "histogram2dcontour": [
           {
            "colorbar": {
             "outlinewidth": 0,
             "ticks": ""
            },
            "colorscale": [
             [
              0,
              "#0d0887"
             ],
             [
              0.1111111111111111,
              "#46039f"
             ],
             [
              0.2222222222222222,
              "#7201a8"
             ],
             [
              0.3333333333333333,
              "#9c179e"
             ],
             [
              0.4444444444444444,
              "#bd3786"
             ],
             [
              0.5555555555555556,
              "#d8576b"
             ],
             [
              0.6666666666666666,
              "#ed7953"
             ],
             [
              0.7777777777777778,
              "#fb9f3a"
             ],
             [
              0.8888888888888888,
              "#fdca26"
             ],
             [
              1,
              "#f0f921"
             ]
            ],
            "type": "histogram2dcontour"
           }
          ],
          "mesh3d": [
           {
            "colorbar": {
             "outlinewidth": 0,
             "ticks": ""
            },
            "type": "mesh3d"
           }
          ],
          "parcoords": [
           {
            "line": {
             "colorbar": {
              "outlinewidth": 0,
              "ticks": ""
             }
            },
            "type": "parcoords"
           }
          ],
          "pie": [
           {
            "automargin": true,
            "type": "pie"
           }
          ],
          "scatter": [
           {
            "fillpattern": {
             "fillmode": "overlay",
             "size": 10,
             "solidity": 0.2
            },
            "type": "scatter"
           }
          ],
          "scatter3d": [
           {
            "line": {
             "colorbar": {
              "outlinewidth": 0,
              "ticks": ""
             }
            },
            "marker": {
             "colorbar": {
              "outlinewidth": 0,
              "ticks": ""
             }
            },
            "type": "scatter3d"
           }
          ],
          "scattercarpet": [
           {
            "marker": {
             "colorbar": {
              "outlinewidth": 0,
              "ticks": ""
             }
            },
            "type": "scattercarpet"
           }
          ],
          "scattergeo": [
           {
            "marker": {
             "colorbar": {
              "outlinewidth": 0,
              "ticks": ""
             }
            },
            "type": "scattergeo"
           }
          ],
          "scattergl": [
           {
            "marker": {
             "colorbar": {
              "outlinewidth": 0,
              "ticks": ""
             }
            },
            "type": "scattergl"
           }
          ],
          "scattermap": [
           {
            "marker": {
             "colorbar": {
              "outlinewidth": 0,
              "ticks": ""
             }
            },
            "type": "scattermap"
           }
          ],
          "scattermapbox": [
           {
            "marker": {
             "colorbar": {
              "outlinewidth": 0,
              "ticks": ""
             }
            },
            "type": "scattermapbox"
           }
          ],
          "scatterpolar": [
           {
            "marker": {
             "colorbar": {
              "outlinewidth": 0,
              "ticks": ""
             }
            },
            "type": "scatterpolar"
           }
          ],
          "scatterpolargl": [
           {
            "marker": {
             "colorbar": {
              "outlinewidth": 0,
              "ticks": ""
             }
            },
            "type": "scatterpolargl"
           }
          ],
          "scatterternary": [
           {
            "marker": {
             "colorbar": {
              "outlinewidth": 0,
              "ticks": ""
             }
            },
            "type": "scatterternary"
           }
          ],
          "surface": [
           {
            "colorbar": {
             "outlinewidth": 0,
             "ticks": ""
            },
            "colorscale": [
             [
              0,
              "#0d0887"
             ],
             [
              0.1111111111111111,
              "#46039f"
             ],
             [
              0.2222222222222222,
              "#7201a8"
             ],
             [
              0.3333333333333333,
              "#9c179e"
             ],
             [
              0.4444444444444444,
              "#bd3786"
             ],
             [
              0.5555555555555556,
              "#d8576b"
             ],
             [
              0.6666666666666666,
              "#ed7953"
             ],
             [
              0.7777777777777778,
              "#fb9f3a"
             ],
             [
              0.8888888888888888,
              "#fdca26"
             ],
             [
              1,
              "#f0f921"
             ]
            ],
            "type": "surface"
           }
          ],
          "table": [
           {
            "cells": {
             "fill": {
              "color": "#EBF0F8"
             },
             "line": {
              "color": "white"
             }
            },
            "header": {
             "fill": {
              "color": "#C8D4E3"
             },
             "line": {
              "color": "white"
             }
            },
            "type": "table"
           }
          ]
         },
         "layout": {
          "annotationdefaults": {
           "arrowcolor": "#2a3f5f",
           "arrowhead": 0,
           "arrowwidth": 1
          },
          "autotypenumbers": "strict",
          "coloraxis": {
           "colorbar": {
            "outlinewidth": 0,
            "ticks": ""
           }
          },
          "colorscale": {
           "diverging": [
            [
             0,
             "#8e0152"
            ],
            [
             0.1,
             "#c51b7d"
            ],
            [
             0.2,
             "#de77ae"
            ],
            [
             0.3,
             "#f1b6da"
            ],
            [
             0.4,
             "#fde0ef"
            ],
            [
             0.5,
             "#f7f7f7"
            ],
            [
             0.6,
             "#e6f5d0"
            ],
            [
             0.7,
             "#b8e186"
            ],
            [
             0.8,
             "#7fbc41"
            ],
            [
             0.9,
             "#4d9221"
            ],
            [
             1,
             "#276419"
            ]
           ],
           "sequential": [
            [
             0,
             "#0d0887"
            ],
            [
             0.1111111111111111,
             "#46039f"
            ],
            [
             0.2222222222222222,
             "#7201a8"
            ],
            [
             0.3333333333333333,
             "#9c179e"
            ],
            [
             0.4444444444444444,
             "#bd3786"
            ],
            [
             0.5555555555555556,
             "#d8576b"
            ],
            [
             0.6666666666666666,
             "#ed7953"
            ],
            [
             0.7777777777777778,
             "#fb9f3a"
            ],
            [
             0.8888888888888888,
             "#fdca26"
            ],
            [
             1,
             "#f0f921"
            ]
           ],
           "sequentialminus": [
            [
             0,
             "#0d0887"
            ],
            [
             0.1111111111111111,
             "#46039f"
            ],
            [
             0.2222222222222222,
             "#7201a8"
            ],
            [
             0.3333333333333333,
             "#9c179e"
            ],
            [
             0.4444444444444444,
             "#bd3786"
            ],
            [
             0.5555555555555556,
             "#d8576b"
            ],
            [
             0.6666666666666666,
             "#ed7953"
            ],
            [
             0.7777777777777778,
             "#fb9f3a"
            ],
            [
             0.8888888888888888,
             "#fdca26"
            ],
            [
             1,
             "#f0f921"
            ]
           ]
          },
          "colorway": [
           "#636efa",
           "#EF553B",
           "#00cc96",
           "#ab63fa",
           "#FFA15A",
           "#19d3f3",
           "#FF6692",
           "#B6E880",
           "#FF97FF",
           "#FECB52"
          ],
          "font": {
           "color": "#2a3f5f"
          },
          "geo": {
           "bgcolor": "white",
           "lakecolor": "white",
           "landcolor": "white",
           "showlakes": true,
           "showland": true,
           "subunitcolor": "#C8D4E3"
          },
          "hoverlabel": {
           "align": "left"
          },
          "hovermode": "closest",
          "mapbox": {
           "style": "light"
          },
          "paper_bgcolor": "white",
          "plot_bgcolor": "white",
          "polar": {
           "angularaxis": {
            "gridcolor": "#EBF0F8",
            "linecolor": "#EBF0F8",
            "ticks": ""
           },
           "bgcolor": "white",
           "radialaxis": {
            "gridcolor": "#EBF0F8",
            "linecolor": "#EBF0F8",
            "ticks": ""
           }
          },
          "scene": {
           "xaxis": {
            "backgroundcolor": "white",
            "gridcolor": "#DFE8F3",
            "gridwidth": 2,
            "linecolor": "#EBF0F8",
            "showbackground": true,
            "ticks": "",
            "zerolinecolor": "#EBF0F8"
           },
           "yaxis": {
            "backgroundcolor": "white",
            "gridcolor": "#DFE8F3",
            "gridwidth": 2,
            "linecolor": "#EBF0F8",
            "showbackground": true,
            "ticks": "",
            "zerolinecolor": "#EBF0F8"
           },
           "zaxis": {
            "backgroundcolor": "white",
            "gridcolor": "#DFE8F3",
            "gridwidth": 2,
            "linecolor": "#EBF0F8",
            "showbackground": true,
            "ticks": "",
            "zerolinecolor": "#EBF0F8"
           }
          },
          "shapedefaults": {
           "line": {
            "color": "#2a3f5f"
           }
          },
          "ternary": {
           "aaxis": {
            "gridcolor": "#DFE8F3",
            "linecolor": "#A2B1C6",
            "ticks": ""
           },
           "baxis": {
            "gridcolor": "#DFE8F3",
            "linecolor": "#A2B1C6",
            "ticks": ""
           },
           "bgcolor": "white",
           "caxis": {
            "gridcolor": "#DFE8F3",
            "linecolor": "#A2B1C6",
            "ticks": ""
           }
          },
          "title": {
           "x": 0.05
          },
          "xaxis": {
           "automargin": true,
           "gridcolor": "#EBF0F8",
           "linecolor": "#EBF0F8",
           "ticks": "",
           "title": {
            "standoff": 15
           },
           "zerolinecolor": "#EBF0F8",
           "zerolinewidth": 2
          },
          "yaxis": {
           "automargin": true,
           "gridcolor": "#EBF0F8",
           "linecolor": "#EBF0F8",
           "ticks": "",
           "title": {
            "standoff": 15
           },
           "zerolinecolor": "#EBF0F8",
           "zerolinewidth": 2
          }
         }
        },
        "title": {
         "text": "Market Regimes in 2018-2019"
        },
        "xaxis": {
         "anchor": "y",
         "domain": [
          0,
          1
         ],
         "title": {
          "text": "Date"
         }
        },
        "yaxis": {
         "anchor": "x",
         "domain": [
          0,
          1
         ],
         "title": {
          "text": "Price"
         }
        }
       }
      }
     },
     "metadata": {},
     "output_type": "display_data"
    },
    {
     "data": {
      "application/vnd.plotly.v1+json": {
       "config": {
        "plotlyServerURL": "https://plot.ly"
       },
       "data": [
        {
         "hovertemplate": "Regime=%{marker.color}<br>Count=%{text}<extra></extra>",
         "legendgroup": "",
         "marker": {
          "color": {
           "bdata": "AAEC",
           "dtype": "i1"
          },
          "coloraxis": "coloraxis",
          "pattern": {
           "shape": ""
          }
         },
         "name": "",
         "orientation": "v",
         "showlegend": false,
         "text": {
          "bdata": "AAAAAABAe0AAAAAAAIBPQAAAAAAAABBA",
          "dtype": "f8"
         },
         "textposition": "outside",
         "type": "bar",
         "x": {
          "bdata": "AAEC",
          "dtype": "i1"
         },
         "xaxis": "x",
         "y": {
          "bdata": "tAE/AAQA",
          "dtype": "i2"
         },
         "yaxis": "y"
        }
       ],
       "layout": {
        "barmode": "relative",
        "coloraxis": {
         "colorbar": {
          "title": {
           "text": "Regime"
          }
         },
         "colorscale": [
          [
           0,
           "#0d0887"
          ],
          [
           0.1111111111111111,
           "#46039f"
          ],
          [
           0.2222222222222222,
           "#7201a8"
          ],
          [
           0.3333333333333333,
           "#9c179e"
          ],
          [
           0.4444444444444444,
           "#bd3786"
          ],
          [
           0.5555555555555556,
           "#d8576b"
          ],
          [
           0.6666666666666666,
           "#ed7953"
          ],
          [
           0.7777777777777778,
           "#fb9f3a"
          ],
          [
           0.8888888888888888,
           "#fdca26"
          ],
          [
           1,
           "#f0f921"
          ]
         ]
        },
        "legend": {
         "tracegroupgap": 0
        },
        "showlegend": false,
        "template": {
         "data": {
          "bar": [
           {
            "error_x": {
             "color": "#2a3f5f"
            },
            "error_y": {
             "color": "#2a3f5f"
            },
            "marker": {
             "line": {
              "color": "white",
              "width": 0.5
             },
             "pattern": {
              "fillmode": "overlay",
              "size": 10,
              "solidity": 0.2
             }
            },
            "type": "bar"
           }
          ],
          "barpolar": [
           {
            "marker": {
             "line": {
              "color": "white",
              "width": 0.5
             },
             "pattern": {
              "fillmode": "overlay",
              "size": 10,
              "solidity": 0.2
             }
            },
            "type": "barpolar"
           }
          ],
          "carpet": [
           {
            "aaxis": {
             "endlinecolor": "#2a3f5f",
             "gridcolor": "#C8D4E3",
             "linecolor": "#C8D4E3",
             "minorgridcolor": "#C8D4E3",
             "startlinecolor": "#2a3f5f"
            },
            "baxis": {
             "endlinecolor": "#2a3f5f",
             "gridcolor": "#C8D4E3",
             "linecolor": "#C8D4E3",
             "minorgridcolor": "#C8D4E3",
             "startlinecolor": "#2a3f5f"
            },
            "type": "carpet"
           }
          ],
          "choropleth": [
           {
            "colorbar": {
             "outlinewidth": 0,
             "ticks": ""
            },
            "type": "choropleth"
           }
          ],
          "contour": [
           {
            "colorbar": {
             "outlinewidth": 0,
             "ticks": ""
            },
            "colorscale": [
             [
              0,
              "#0d0887"
             ],
             [
              0.1111111111111111,
              "#46039f"
             ],
             [
              0.2222222222222222,
              "#7201a8"
             ],
             [
              0.3333333333333333,
              "#9c179e"
             ],
             [
              0.4444444444444444,
              "#bd3786"
             ],
             [
              0.5555555555555556,
              "#d8576b"
             ],
             [
              0.6666666666666666,
              "#ed7953"
             ],
             [
              0.7777777777777778,
              "#fb9f3a"
             ],
             [
              0.8888888888888888,
              "#fdca26"
             ],
             [
              1,
              "#f0f921"
             ]
            ],
            "type": "contour"
           }
          ],
          "contourcarpet": [
           {
            "colorbar": {
             "outlinewidth": 0,
             "ticks": ""
            },
            "type": "contourcarpet"
           }
          ],
          "heatmap": [
           {
            "colorbar": {
             "outlinewidth": 0,
             "ticks": ""
            },
            "colorscale": [
             [
              0,
              "#0d0887"
             ],
             [
              0.1111111111111111,
              "#46039f"
             ],
             [
              0.2222222222222222,
              "#7201a8"
             ],
             [
              0.3333333333333333,
              "#9c179e"
             ],
             [
              0.4444444444444444,
              "#bd3786"
             ],
             [
              0.5555555555555556,
              "#d8576b"
             ],
             [
              0.6666666666666666,
              "#ed7953"
             ],
             [
              0.7777777777777778,
              "#fb9f3a"
             ],
             [
              0.8888888888888888,
              "#fdca26"
             ],
             [
              1,
              "#f0f921"
             ]
            ],
            "type": "heatmap"
           }
          ],
          "histogram": [
           {
            "marker": {
             "pattern": {
              "fillmode": "overlay",
              "size": 10,
              "solidity": 0.2
             }
            },
            "type": "histogram"
           }
          ],
          "histogram2d": [
           {
            "colorbar": {
             "outlinewidth": 0,
             "ticks": ""
            },
            "colorscale": [
             [
              0,
              "#0d0887"
             ],
             [
              0.1111111111111111,
              "#46039f"
             ],
             [
              0.2222222222222222,
              "#7201a8"
             ],
             [
              0.3333333333333333,
              "#9c179e"
             ],
             [
              0.4444444444444444,
              "#bd3786"
             ],
             [
              0.5555555555555556,
              "#d8576b"
             ],
             [
              0.6666666666666666,
              "#ed7953"
             ],
             [
              0.7777777777777778,
              "#fb9f3a"
             ],
             [
              0.8888888888888888,
              "#fdca26"
             ],
             [
              1,
              "#f0f921"
             ]
            ],
            "type": "histogram2d"
           }
          ],
          "histogram2dcontour": [
           {
            "colorbar": {
             "outlinewidth": 0,
             "ticks": ""
            },
            "colorscale": [
             [
              0,
              "#0d0887"
             ],
             [
              0.1111111111111111,
              "#46039f"
             ],
             [
              0.2222222222222222,
              "#7201a8"
             ],
             [
              0.3333333333333333,
              "#9c179e"
             ],
             [
              0.4444444444444444,
              "#bd3786"
             ],
             [
              0.5555555555555556,
              "#d8576b"
             ],
             [
              0.6666666666666666,
              "#ed7953"
             ],
             [
              0.7777777777777778,
              "#fb9f3a"
             ],
             [
              0.8888888888888888,
              "#fdca26"
             ],
             [
              1,
              "#f0f921"
             ]
            ],
            "type": "histogram2dcontour"
           }
          ],
          "mesh3d": [
           {
            "colorbar": {
             "outlinewidth": 0,
             "ticks": ""
            },
            "type": "mesh3d"
           }
          ],
          "parcoords": [
           {
            "line": {
             "colorbar": {
              "outlinewidth": 0,
              "ticks": ""
             }
            },
            "type": "parcoords"
           }
          ],
          "pie": [
           {
            "automargin": true,
            "type": "pie"
           }
          ],
          "scatter": [
           {
            "fillpattern": {
             "fillmode": "overlay",
             "size": 10,
             "solidity": 0.2
            },
            "type": "scatter"
           }
          ],
          "scatter3d": [
           {
            "line": {
             "colorbar": {
              "outlinewidth": 0,
              "ticks": ""
             }
            },
            "marker": {
             "colorbar": {
              "outlinewidth": 0,
              "ticks": ""
             }
            },
            "type": "scatter3d"
           }
          ],
          "scattercarpet": [
           {
            "marker": {
             "colorbar": {
              "outlinewidth": 0,
              "ticks": ""
             }
            },
            "type": "scattercarpet"
           }
          ],
          "scattergeo": [
           {
            "marker": {
             "colorbar": {
              "outlinewidth": 0,
              "ticks": ""
             }
            },
            "type": "scattergeo"
           }
          ],
          "scattergl": [
           {
            "marker": {
             "colorbar": {
              "outlinewidth": 0,
              "ticks": ""
             }
            },
            "type": "scattergl"
           }
          ],
          "scattermap": [
           {
            "marker": {
             "colorbar": {
              "outlinewidth": 0,
              "ticks": ""
             }
            },
            "type": "scattermap"
           }
          ],
          "scattermapbox": [
           {
            "marker": {
             "colorbar": {
              "outlinewidth": 0,
              "ticks": ""
             }
            },
            "type": "scattermapbox"
           }
          ],
          "scatterpolar": [
           {
            "marker": {
             "colorbar": {
              "outlinewidth": 0,
              "ticks": ""
             }
            },
            "type": "scatterpolar"
           }
          ],
          "scatterpolargl": [
           {
            "marker": {
             "colorbar": {
              "outlinewidth": 0,
              "ticks": ""
             }
            },
            "type": "scatterpolargl"
           }
          ],
          "scatterternary": [
           {
            "marker": {
             "colorbar": {
              "outlinewidth": 0,
              "ticks": ""
             }
            },
            "type": "scatterternary"
           }
          ],
          "surface": [
           {
            "colorbar": {
             "outlinewidth": 0,
             "ticks": ""
            },
            "colorscale": [
             [
              0,
              "#0d0887"
             ],
             [
              0.1111111111111111,
              "#46039f"
             ],
             [
              0.2222222222222222,
              "#7201a8"
             ],
             [
              0.3333333333333333,
              "#9c179e"
             ],
             [
              0.4444444444444444,
              "#bd3786"
             ],
             [
              0.5555555555555556,
              "#d8576b"
             ],
             [
              0.6666666666666666,
              "#ed7953"
             ],
             [
              0.7777777777777778,
              "#fb9f3a"
             ],
             [
              0.8888888888888888,
              "#fdca26"
             ],
             [
              1,
              "#f0f921"
             ]
            ],
            "type": "surface"
           }
          ],
          "table": [
           {
            "cells": {
             "fill": {
              "color": "#EBF0F8"
             },
             "line": {
              "color": "white"
             }
            },
            "header": {
             "fill": {
              "color": "#C8D4E3"
             },
             "line": {
              "color": "white"
             }
            },
            "type": "table"
           }
          ]
         },
         "layout": {
          "annotationdefaults": {
           "arrowcolor": "#2a3f5f",
           "arrowhead": 0,
           "arrowwidth": 1
          },
          "autotypenumbers": "strict",
          "coloraxis": {
           "colorbar": {
            "outlinewidth": 0,
            "ticks": ""
           }
          },
          "colorscale": {
           "diverging": [
            [
             0,
             "#8e0152"
            ],
            [
             0.1,
             "#c51b7d"
            ],
            [
             0.2,
             "#de77ae"
            ],
            [
             0.3,
             "#f1b6da"
            ],
            [
             0.4,
             "#fde0ef"
            ],
            [
             0.5,
             "#f7f7f7"
            ],
            [
             0.6,
             "#e6f5d0"
            ],
            [
             0.7,
             "#b8e186"
            ],
            [
             0.8,
             "#7fbc41"
            ],
            [
             0.9,
             "#4d9221"
            ],
            [
             1,
             "#276419"
            ]
           ],
           "sequential": [
            [
             0,
             "#0d0887"
            ],
            [
             0.1111111111111111,
             "#46039f"
            ],
            [
             0.2222222222222222,
             "#7201a8"
            ],
            [
             0.3333333333333333,
             "#9c179e"
            ],
            [
             0.4444444444444444,
             "#bd3786"
            ],
            [
             0.5555555555555556,
             "#d8576b"
            ],
            [
             0.6666666666666666,
             "#ed7953"
            ],
            [
             0.7777777777777778,
             "#fb9f3a"
            ],
            [
             0.8888888888888888,
             "#fdca26"
            ],
            [
             1,
             "#f0f921"
            ]
           ],
           "sequentialminus": [
            [
             0,
             "#0d0887"
            ],
            [
             0.1111111111111111,
             "#46039f"
            ],
            [
             0.2222222222222222,
             "#7201a8"
            ],
            [
             0.3333333333333333,
             "#9c179e"
            ],
            [
             0.4444444444444444,
             "#bd3786"
            ],
            [
             0.5555555555555556,
             "#d8576b"
            ],
            [
             0.6666666666666666,
             "#ed7953"
            ],
            [
             0.7777777777777778,
             "#fb9f3a"
            ],
            [
             0.8888888888888888,
             "#fdca26"
            ],
            [
             1,
             "#f0f921"
            ]
           ]
          },
          "colorway": [
           "#636efa",
           "#EF553B",
           "#00cc96",
           "#ab63fa",
           "#FFA15A",
           "#19d3f3",
           "#FF6692",
           "#B6E880",
           "#FF97FF",
           "#FECB52"
          ],
          "font": {
           "color": "#2a3f5f"
          },
          "geo": {
           "bgcolor": "white",
           "lakecolor": "white",
           "landcolor": "white",
           "showlakes": true,
           "showland": true,
           "subunitcolor": "#C8D4E3"
          },
          "hoverlabel": {
           "align": "left"
          },
          "hovermode": "closest",
          "mapbox": {
           "style": "light"
          },
          "paper_bgcolor": "white",
          "plot_bgcolor": "white",
          "polar": {
           "angularaxis": {
            "gridcolor": "#EBF0F8",
            "linecolor": "#EBF0F8",
            "ticks": ""
           },
           "bgcolor": "white",
           "radialaxis": {
            "gridcolor": "#EBF0F8",
            "linecolor": "#EBF0F8",
            "ticks": ""
           }
          },
          "scene": {
           "xaxis": {
            "backgroundcolor": "white",
            "gridcolor": "#DFE8F3",
            "gridwidth": 2,
            "linecolor": "#EBF0F8",
            "showbackground": true,
            "ticks": "",
            "zerolinecolor": "#EBF0F8"
           },
           "yaxis": {
            "backgroundcolor": "white",
            "gridcolor": "#DFE8F3",
            "gridwidth": 2,
            "linecolor": "#EBF0F8",
            "showbackground": true,
            "ticks": "",
            "zerolinecolor": "#EBF0F8"
           },
           "zaxis": {
            "backgroundcolor": "white",
            "gridcolor": "#DFE8F3",
            "gridwidth": 2,
            "linecolor": "#EBF0F8",
            "showbackground": true,
            "ticks": "",
            "zerolinecolor": "#EBF0F8"
           }
          },
          "shapedefaults": {
           "line": {
            "color": "#2a3f5f"
           }
          },
          "ternary": {
           "aaxis": {
            "gridcolor": "#DFE8F3",
            "linecolor": "#A2B1C6",
            "ticks": ""
           },
           "baxis": {
            "gridcolor": "#DFE8F3",
            "linecolor": "#A2B1C6",
            "ticks": ""
           },
           "bgcolor": "white",
           "caxis": {
            "gridcolor": "#DFE8F3",
            "linecolor": "#A2B1C6",
            "ticks": ""
           }
          },
          "title": {
           "x": 0.05
          },
          "xaxis": {
           "automargin": true,
           "gridcolor": "#EBF0F8",
           "linecolor": "#EBF0F8",
           "ticks": "",
           "title": {
            "standoff": 15
           },
           "zerolinecolor": "#EBF0F8",
           "zerolinewidth": 2
          },
          "yaxis": {
           "automargin": true,
           "gridcolor": "#EBF0F8",
           "linecolor": "#EBF0F8",
           "ticks": "",
           "title": {
            "standoff": 15
           },
           "zerolinecolor": "#EBF0F8",
           "zerolinewidth": 2
          }
         }
        },
        "title": {
         "text": "Distribution of Market Regimes in 2018-2019"
        },
        "xaxis": {
         "anchor": "y",
         "domain": [
          0,
          1
         ],
         "title": {
          "text": "Regime"
         }
        },
        "yaxis": {
         "anchor": "x",
         "domain": [
          0,
          1
         ],
         "title": {
          "text": "Number of Days"
         }
        }
       }
      }
     },
     "metadata": {},
     "output_type": "display_data"
    }
   ],
   "source": [
    "# Example 1: Predict regimes for a historical period (2018-2019)\n",
    "results_2018_2019 = predict_regimes(model, df, \"2018-01-01\", \"2019-12-31\")\n",
    "\n",
    "# Visualize the results with Plotly\n",
    "fig = px.scatter(\n",
    "    results_2018_2019, \n",
    "    x='Date', \n",
    "    y='Close', \n",
    "    color='Predicted_Regime',\n",
    "    color_discrete_sequence=regime_colors,\n",
    "    title='Market Regimes in 2018-2019',\n",
    "    labels={'Close': 'Price', 'Date': 'Date', 'Predicted_Regime': 'Market Regime'},\n",
    "    height=600,\n",
    "    opacity=0.8,\n",
    "    size_max=10\n",
    ")\n",
    "\n",
    "fig.update_layout(\n",
    "    xaxis_title='Date',\n",
    "    yaxis_title='Price',\n",
    "    legend_title='Regime',\n",
    "    hovermode='closest',\n",
    "    template='plotly_white'\n",
    ")\n",
    "\n",
    "fig.show()\n",
    "\n",
    "# Show distribution of regimes over time with Plotly\n",
    "regime_counts = results_2018_2019['Predicted_Regime'].value_counts().reset_index()\n",
    "regime_counts.columns = ['Regime', 'Count']\n",
    "\n",
    "fig_bar = px.bar(\n",
    "    regime_counts, \n",
    "    x='Regime', \n",
    "    y='Count',\n",
    "    color='Regime',\n",
    "    color_discrete_sequence=regime_colors,\n",
    "    title='Distribution of Market Regimes in 2018-2019',\n",
    "    text='Count'\n",
    ")\n",
    "\n",
    "fig_bar.update_layout(\n",
    "    xaxis_title='Regime',\n",
    "    yaxis_title='Number of Days',\n",
    "    template='plotly_white',\n",
    "    showlegend=False\n",
    ")\n",
    "\n",
    "fig_bar.update_traces(textposition='outside')\n",
    "fig_bar.show()"
   ]
  },
  {
   "cell_type": "code",
   "execution_count": 117,
   "metadata": {},
   "outputs": [
    {
     "name": "stdout",
     "output_type": "stream",
     "text": [
      "Predicted regimes for period 2025-01-11 to 2025-04-11\n",
      "Data points: 62\n",
      "\n",
      "Regime Distribution:\n",
      "Regime 2: 40.32%\n",
      "Regime 1: 35.48%\n",
      "Regime 0: 24.19%\n"
     ]
    },
    {
     "data": {
      "application/vnd.plotly.v1+json": {
       "config": {
        "plotlyServerURL": "https://plot.ly"
       },
       "data": [
        {
         "hovertemplate": "Date=%{x}<br>Price=%{y}<br>Market Regime=%{marker.color}<extra></extra>",
         "legendgroup": "",
         "marker": {
          "color": {
           "bdata": "AAEBAQEBAgICAgIBAQAAAAAAAAAAAAAAAAAAAQEBAQICAgICAgICAgICAgICAQEBAQEBAQEBAQECAgICAgI=",
           "dtype": "i1"
          },
          "coloraxis": "coloraxis",
          "opacity": 0.8,
          "symbol": "circle"
         },
         "mode": "markers",
         "name": "",
         "orientation": "v",
         "showlegend": false,
         "type": "scatter",
         "x": [
          "2025-01-13T00:00:00.000000000",
          "2025-01-14T00:00:00.000000000",
          "2025-01-15T00:00:00.000000000",
          "2025-01-16T00:00:00.000000000",
          "2025-01-17T00:00:00.000000000",
          "2025-01-21T00:00:00.000000000",
          "2025-01-22T00:00:00.000000000",
          "2025-01-23T00:00:00.000000000",
          "2025-01-24T00:00:00.000000000",
          "2025-01-27T00:00:00.000000000",
          "2025-01-28T00:00:00.000000000",
          "2025-01-29T00:00:00.000000000",
          "2025-01-30T00:00:00.000000000",
          "2025-01-31T00:00:00.000000000",
          "2025-02-03T00:00:00.000000000",
          "2025-02-04T00:00:00.000000000",
          "2025-02-05T00:00:00.000000000",
          "2025-02-06T00:00:00.000000000",
          "2025-02-07T00:00:00.000000000",
          "2025-02-10T00:00:00.000000000",
          "2025-02-11T00:00:00.000000000",
          "2025-02-12T00:00:00.000000000",
          "2025-02-13T00:00:00.000000000",
          "2025-02-14T00:00:00.000000000",
          "2025-02-18T00:00:00.000000000",
          "2025-02-19T00:00:00.000000000",
          "2025-02-20T00:00:00.000000000",
          "2025-02-21T00:00:00.000000000",
          "2025-02-24T00:00:00.000000000",
          "2025-02-25T00:00:00.000000000",
          "2025-02-26T00:00:00.000000000",
          "2025-02-27T00:00:00.000000000",
          "2025-02-28T00:00:00.000000000",
          "2025-03-03T00:00:00.000000000",
          "2025-03-04T00:00:00.000000000",
          "2025-03-05T00:00:00.000000000",
          "2025-03-06T00:00:00.000000000",
          "2025-03-07T00:00:00.000000000",
          "2025-03-10T00:00:00.000000000",
          "2025-03-11T00:00:00.000000000",
          "2025-03-12T00:00:00.000000000",
          "2025-03-13T00:00:00.000000000",
          "2025-03-14T00:00:00.000000000",
          "2025-03-17T00:00:00.000000000",
          "2025-03-18T00:00:00.000000000",
          "2025-03-19T00:00:00.000000000",
          "2025-03-20T00:00:00.000000000",
          "2025-03-21T00:00:00.000000000",
          "2025-03-24T00:00:00.000000000",
          "2025-03-25T00:00:00.000000000",
          "2025-03-26T00:00:00.000000000",
          "2025-03-27T00:00:00.000000000",
          "2025-03-28T00:00:00.000000000",
          "2025-03-31T00:00:00.000000000",
          "2025-04-01T00:00:00.000000000",
          "2025-04-02T00:00:00.000000000",
          "2025-04-03T00:00:00.000000000",
          "2025-04-04T00:00:00.000000000",
          "2025-04-07T00:00:00.000000000",
          "2025-04-08T00:00:00.000000000",
          "2025-04-09T00:00:00.000000000",
          "2025-04-10T00:00:00.000000000"
         ],
         "xaxis": "x",
         "y": {
          "bdata": "AAAAoCsdgkAAAAAgjSOCQAAAAIAEeIJAAAAAwOxugkAAAABgTZ6CQAAAAEDuyYJAAAAAIPjkgkAAAADAXv+CQAAAACAs8YJAAAAAQJSsgkAAAADgp9WCQAAAAGAKwIJAAAAAgM3ZgkAAAADAHsCCQAAAAEDRn4JAAAAAIM2/gkAAAAAgQ9OCQAAAACAD5IJAAAAA4L63gkAAAACASdiCQAAAAOD024JAAAAAQGfMgkAAAADgNf+CQAAAAKD4/oJAAAAAgD8Ng0AAAADAuxiDQAAAACBlBINAAAAAICCxgkAAAADgWZuCQAAAAICpg4JAAAAAAA6GgkAAAADAXDqCQAAAAAAvg4JAAAAAQCcwgkAAAAAACvmBQAAAAIB9KoJAAAAAYPDXgUAAAACgivGBQAAAAKAwd4FAAAAAgAVSgUAAAAAAjWmBQAAAACAhLoFAAAAA4PmIgUAAAACgl6uBQAAAAACzeoFAAAAAwG6rgUAAAAAgWp6BQAAAAADXn4FAAAAA4KPwgUAAAAAgrvuBQAAAAGC4xIFAAAAA4KO4gUAAAACgR12BQAAAAMAee4FAAAAAgMKHgUAAAAAAKaSBQAAAAKCZxYBAAAAA4HqUf0AAAACAFIZ/QAAAACCuB39AAAAAwPUkgUAAAADgo2SAQA==",
          "dtype": "f8"
         },
         "yaxis": "y"
        }
       ],
       "layout": {
        "coloraxis": {
         "colorbar": {
          "title": {
           "text": "Market Regime"
          }
         },
         "colorscale": [
          [
           0,
           "#0d0887"
          ],
          [
           0.1111111111111111,
           "#46039f"
          ],
          [
           0.2222222222222222,
           "#7201a8"
          ],
          [
           0.3333333333333333,
           "#9c179e"
          ],
          [
           0.4444444444444444,
           "#bd3786"
          ],
          [
           0.5555555555555556,
           "#d8576b"
          ],
          [
           0.6666666666666666,
           "#ed7953"
          ],
          [
           0.7777777777777778,
           "#fb9f3a"
          ],
          [
           0.8888888888888888,
           "#fdca26"
          ],
          [
           1,
           "#f0f921"
          ]
         ]
        },
        "height": 600,
        "hovermode": "closest",
        "legend": {
         "title": {
          "text": "Regime"
         },
         "tracegroupgap": 0
        },
        "template": {
         "data": {
          "bar": [
           {
            "error_x": {
             "color": "#2a3f5f"
            },
            "error_y": {
             "color": "#2a3f5f"
            },
            "marker": {
             "line": {
              "color": "white",
              "width": 0.5
             },
             "pattern": {
              "fillmode": "overlay",
              "size": 10,
              "solidity": 0.2
             }
            },
            "type": "bar"
           }
          ],
          "barpolar": [
           {
            "marker": {
             "line": {
              "color": "white",
              "width": 0.5
             },
             "pattern": {
              "fillmode": "overlay",
              "size": 10,
              "solidity": 0.2
             }
            },
            "type": "barpolar"
           }
          ],
          "carpet": [
           {
            "aaxis": {
             "endlinecolor": "#2a3f5f",
             "gridcolor": "#C8D4E3",
             "linecolor": "#C8D4E3",
             "minorgridcolor": "#C8D4E3",
             "startlinecolor": "#2a3f5f"
            },
            "baxis": {
             "endlinecolor": "#2a3f5f",
             "gridcolor": "#C8D4E3",
             "linecolor": "#C8D4E3",
             "minorgridcolor": "#C8D4E3",
             "startlinecolor": "#2a3f5f"
            },
            "type": "carpet"
           }
          ],
          "choropleth": [
           {
            "colorbar": {
             "outlinewidth": 0,
             "ticks": ""
            },
            "type": "choropleth"
           }
          ],
          "contour": [
           {
            "colorbar": {
             "outlinewidth": 0,
             "ticks": ""
            },
            "colorscale": [
             [
              0,
              "#0d0887"
             ],
             [
              0.1111111111111111,
              "#46039f"
             ],
             [
              0.2222222222222222,
              "#7201a8"
             ],
             [
              0.3333333333333333,
              "#9c179e"
             ],
             [
              0.4444444444444444,
              "#bd3786"
             ],
             [
              0.5555555555555556,
              "#d8576b"
             ],
             [
              0.6666666666666666,
              "#ed7953"
             ],
             [
              0.7777777777777778,
              "#fb9f3a"
             ],
             [
              0.8888888888888888,
              "#fdca26"
             ],
             [
              1,
              "#f0f921"
             ]
            ],
            "type": "contour"
           }
          ],
          "contourcarpet": [
           {
            "colorbar": {
             "outlinewidth": 0,
             "ticks": ""
            },
            "type": "contourcarpet"
           }
          ],
          "heatmap": [
           {
            "colorbar": {
             "outlinewidth": 0,
             "ticks": ""
            },
            "colorscale": [
             [
              0,
              "#0d0887"
             ],
             [
              0.1111111111111111,
              "#46039f"
             ],
             [
              0.2222222222222222,
              "#7201a8"
             ],
             [
              0.3333333333333333,
              "#9c179e"
             ],
             [
              0.4444444444444444,
              "#bd3786"
             ],
             [
              0.5555555555555556,
              "#d8576b"
             ],
             [
              0.6666666666666666,
              "#ed7953"
             ],
             [
              0.7777777777777778,
              "#fb9f3a"
             ],
             [
              0.8888888888888888,
              "#fdca26"
             ],
             [
              1,
              "#f0f921"
             ]
            ],
            "type": "heatmap"
           }
          ],
          "histogram": [
           {
            "marker": {
             "pattern": {
              "fillmode": "overlay",
              "size": 10,
              "solidity": 0.2
             }
            },
            "type": "histogram"
           }
          ],
          "histogram2d": [
           {
            "colorbar": {
             "outlinewidth": 0,
             "ticks": ""
            },
            "colorscale": [
             [
              0,
              "#0d0887"
             ],
             [
              0.1111111111111111,
              "#46039f"
             ],
             [
              0.2222222222222222,
              "#7201a8"
             ],
             [
              0.3333333333333333,
              "#9c179e"
             ],
             [
              0.4444444444444444,
              "#bd3786"
             ],
             [
              0.5555555555555556,
              "#d8576b"
             ],
             [
              0.6666666666666666,
              "#ed7953"
             ],
             [
              0.7777777777777778,
              "#fb9f3a"
             ],
             [
              0.8888888888888888,
              "#fdca26"
             ],
             [
              1,
              "#f0f921"
             ]
            ],
            "type": "histogram2d"
           }
          ],
          "histogram2dcontour": [
           {
            "colorbar": {
             "outlinewidth": 0,
             "ticks": ""
            },
            "colorscale": [
             [
              0,
              "#0d0887"
             ],
             [
              0.1111111111111111,
              "#46039f"
             ],
             [
              0.2222222222222222,
              "#7201a8"
             ],
             [
              0.3333333333333333,
              "#9c179e"
             ],
             [
              0.4444444444444444,
              "#bd3786"
             ],
             [
              0.5555555555555556,
              "#d8576b"
             ],
             [
              0.6666666666666666,
              "#ed7953"
             ],
             [
              0.7777777777777778,
              "#fb9f3a"
             ],
             [
              0.8888888888888888,
              "#fdca26"
             ],
             [
              1,
              "#f0f921"
             ]
            ],
            "type": "histogram2dcontour"
           }
          ],
          "mesh3d": [
           {
            "colorbar": {
             "outlinewidth": 0,
             "ticks": ""
            },
            "type": "mesh3d"
           }
          ],
          "parcoords": [
           {
            "line": {
             "colorbar": {
              "outlinewidth": 0,
              "ticks": ""
             }
            },
            "type": "parcoords"
           }
          ],
          "pie": [
           {
            "automargin": true,
            "type": "pie"
           }
          ],
          "scatter": [
           {
            "fillpattern": {
             "fillmode": "overlay",
             "size": 10,
             "solidity": 0.2
            },
            "type": "scatter"
           }
          ],
          "scatter3d": [
           {
            "line": {
             "colorbar": {
              "outlinewidth": 0,
              "ticks": ""
             }
            },
            "marker": {
             "colorbar": {
              "outlinewidth": 0,
              "ticks": ""
             }
            },
            "type": "scatter3d"
           }
          ],
          "scattercarpet": [
           {
            "marker": {
             "colorbar": {
              "outlinewidth": 0,
              "ticks": ""
             }
            },
            "type": "scattercarpet"
           }
          ],
          "scattergeo": [
           {
            "marker": {
             "colorbar": {
              "outlinewidth": 0,
              "ticks": ""
             }
            },
            "type": "scattergeo"
           }
          ],
          "scattergl": [
           {
            "marker": {
             "colorbar": {
              "outlinewidth": 0,
              "ticks": ""
             }
            },
            "type": "scattergl"
           }
          ],
          "scattermap": [
           {
            "marker": {
             "colorbar": {
              "outlinewidth": 0,
              "ticks": ""
             }
            },
            "type": "scattermap"
           }
          ],
          "scattermapbox": [
           {
            "marker": {
             "colorbar": {
              "outlinewidth": 0,
              "ticks": ""
             }
            },
            "type": "scattermapbox"
           }
          ],
          "scatterpolar": [
           {
            "marker": {
             "colorbar": {
              "outlinewidth": 0,
              "ticks": ""
             }
            },
            "type": "scatterpolar"
           }
          ],
          "scatterpolargl": [
           {
            "marker": {
             "colorbar": {
              "outlinewidth": 0,
              "ticks": ""
             }
            },
            "type": "scatterpolargl"
           }
          ],
          "scatterternary": [
           {
            "marker": {
             "colorbar": {
              "outlinewidth": 0,
              "ticks": ""
             }
            },
            "type": "scatterternary"
           }
          ],
          "surface": [
           {
            "colorbar": {
             "outlinewidth": 0,
             "ticks": ""
            },
            "colorscale": [
             [
              0,
              "#0d0887"
             ],
             [
              0.1111111111111111,
              "#46039f"
             ],
             [
              0.2222222222222222,
              "#7201a8"
             ],
             [
              0.3333333333333333,
              "#9c179e"
             ],
             [
              0.4444444444444444,
              "#bd3786"
             ],
             [
              0.5555555555555556,
              "#d8576b"
             ],
             [
              0.6666666666666666,
              "#ed7953"
             ],
             [
              0.7777777777777778,
              "#fb9f3a"
             ],
             [
              0.8888888888888888,
              "#fdca26"
             ],
             [
              1,
              "#f0f921"
             ]
            ],
            "type": "surface"
           }
          ],
          "table": [
           {
            "cells": {
             "fill": {
              "color": "#EBF0F8"
             },
             "line": {
              "color": "white"
             }
            },
            "header": {
             "fill": {
              "color": "#C8D4E3"
             },
             "line": {
              "color": "white"
             }
            },
            "type": "table"
           }
          ]
         },
         "layout": {
          "annotationdefaults": {
           "arrowcolor": "#2a3f5f",
           "arrowhead": 0,
           "arrowwidth": 1
          },
          "autotypenumbers": "strict",
          "coloraxis": {
           "colorbar": {
            "outlinewidth": 0,
            "ticks": ""
           }
          },
          "colorscale": {
           "diverging": [
            [
             0,
             "#8e0152"
            ],
            [
             0.1,
             "#c51b7d"
            ],
            [
             0.2,
             "#de77ae"
            ],
            [
             0.3,
             "#f1b6da"
            ],
            [
             0.4,
             "#fde0ef"
            ],
            [
             0.5,
             "#f7f7f7"
            ],
            [
             0.6,
             "#e6f5d0"
            ],
            [
             0.7,
             "#b8e186"
            ],
            [
             0.8,
             "#7fbc41"
            ],
            [
             0.9,
             "#4d9221"
            ],
            [
             1,
             "#276419"
            ]
           ],
           "sequential": [
            [
             0,
             "#0d0887"
            ],
            [
             0.1111111111111111,
             "#46039f"
            ],
            [
             0.2222222222222222,
             "#7201a8"
            ],
            [
             0.3333333333333333,
             "#9c179e"
            ],
            [
             0.4444444444444444,
             "#bd3786"
            ],
            [
             0.5555555555555556,
             "#d8576b"
            ],
            [
             0.6666666666666666,
             "#ed7953"
            ],
            [
             0.7777777777777778,
             "#fb9f3a"
            ],
            [
             0.8888888888888888,
             "#fdca26"
            ],
            [
             1,
             "#f0f921"
            ]
           ],
           "sequentialminus": [
            [
             0,
             "#0d0887"
            ],
            [
             0.1111111111111111,
             "#46039f"
            ],
            [
             0.2222222222222222,
             "#7201a8"
            ],
            [
             0.3333333333333333,
             "#9c179e"
            ],
            [
             0.4444444444444444,
             "#bd3786"
            ],
            [
             0.5555555555555556,
             "#d8576b"
            ],
            [
             0.6666666666666666,
             "#ed7953"
            ],
            [
             0.7777777777777778,
             "#fb9f3a"
            ],
            [
             0.8888888888888888,
             "#fdca26"
            ],
            [
             1,
             "#f0f921"
            ]
           ]
          },
          "colorway": [
           "#636efa",
           "#EF553B",
           "#00cc96",
           "#ab63fa",
           "#FFA15A",
           "#19d3f3",
           "#FF6692",
           "#B6E880",
           "#FF97FF",
           "#FECB52"
          ],
          "font": {
           "color": "#2a3f5f"
          },
          "geo": {
           "bgcolor": "white",
           "lakecolor": "white",
           "landcolor": "white",
           "showlakes": true,
           "showland": true,
           "subunitcolor": "#C8D4E3"
          },
          "hoverlabel": {
           "align": "left"
          },
          "hovermode": "closest",
          "mapbox": {
           "style": "light"
          },
          "paper_bgcolor": "white",
          "plot_bgcolor": "white",
          "polar": {
           "angularaxis": {
            "gridcolor": "#EBF0F8",
            "linecolor": "#EBF0F8",
            "ticks": ""
           },
           "bgcolor": "white",
           "radialaxis": {
            "gridcolor": "#EBF0F8",
            "linecolor": "#EBF0F8",
            "ticks": ""
           }
          },
          "scene": {
           "xaxis": {
            "backgroundcolor": "white",
            "gridcolor": "#DFE8F3",
            "gridwidth": 2,
            "linecolor": "#EBF0F8",
            "showbackground": true,
            "ticks": "",
            "zerolinecolor": "#EBF0F8"
           },
           "yaxis": {
            "backgroundcolor": "white",
            "gridcolor": "#DFE8F3",
            "gridwidth": 2,
            "linecolor": "#EBF0F8",
            "showbackground": true,
            "ticks": "",
            "zerolinecolor": "#EBF0F8"
           },
           "zaxis": {
            "backgroundcolor": "white",
            "gridcolor": "#DFE8F3",
            "gridwidth": 2,
            "linecolor": "#EBF0F8",
            "showbackground": true,
            "ticks": "",
            "zerolinecolor": "#EBF0F8"
           }
          },
          "shapedefaults": {
           "line": {
            "color": "#2a3f5f"
           }
          },
          "ternary": {
           "aaxis": {
            "gridcolor": "#DFE8F3",
            "linecolor": "#A2B1C6",
            "ticks": ""
           },
           "baxis": {
            "gridcolor": "#DFE8F3",
            "linecolor": "#A2B1C6",
            "ticks": ""
           },
           "bgcolor": "white",
           "caxis": {
            "gridcolor": "#DFE8F3",
            "linecolor": "#A2B1C6",
            "ticks": ""
           }
          },
          "title": {
           "x": 0.05
          },
          "xaxis": {
           "automargin": true,
           "gridcolor": "#EBF0F8",
           "linecolor": "#EBF0F8",
           "ticks": "",
           "title": {
            "standoff": 15
           },
           "zerolinecolor": "#EBF0F8",
           "zerolinewidth": 2
          },
          "yaxis": {
           "automargin": true,
           "gridcolor": "#EBF0F8",
           "linecolor": "#EBF0F8",
           "ticks": "",
           "title": {
            "standoff": 15
           },
           "zerolinecolor": "#EBF0F8",
           "zerolinewidth": 2
          }
         }
        },
        "title": {
         "text": "Market Regimes in Recent 3 Months (2025-01-11 to 2025-04-11)"
        },
        "xaxis": {
         "anchor": "y",
         "domain": [
          0,
          1
         ],
         "title": {
          "text": "Date"
         }
        },
        "yaxis": {
         "anchor": "x",
         "domain": [
          0,
          1
         ],
         "title": {
          "text": "Price"
         }
        }
       }
      }
     },
     "metadata": {},
     "output_type": "display_data"
    },
    {
     "data": {
      "application/vnd.plotly.v1+json": {
       "config": {
        "plotlyServerURL": "https://plot.ly"
       },
       "data": [
        {
         "domain": {
          "x": [
           0,
           1
          ],
          "y": [
           0,
           1
          ]
         },
         "hovertemplate": "label=%{label}<br>value=%{value}<extra></extra>",
         "labels": [
          "Regime 2",
          "Regime 1",
          "Regime 0"
         ],
         "legendgroup": "",
         "name": "",
         "showlegend": true,
         "textinfo": "percent+label",
         "textposition": "inside",
         "type": "pie",
         "values": {
          "bdata": "KaWUUkopREC+9957771BQDLGGGOMMThA",
          "dtype": "f8"
         }
        }
       ],
       "layout": {
        "legend": {
         "tracegroupgap": 0
        },
        "piecolorway": [
         "rgb(102,194,165)",
         "rgb(252,141,98)",
         "rgb(141,160,203)"
        ],
        "template": {
         "data": {
          "bar": [
           {
            "error_x": {
             "color": "#2a3f5f"
            },
            "error_y": {
             "color": "#2a3f5f"
            },
            "marker": {
             "line": {
              "color": "#E5ECF6",
              "width": 0.5
             },
             "pattern": {
              "fillmode": "overlay",
              "size": 10,
              "solidity": 0.2
             }
            },
            "type": "bar"
           }
          ],
          "barpolar": [
           {
            "marker": {
             "line": {
              "color": "#E5ECF6",
              "width": 0.5
             },
             "pattern": {
              "fillmode": "overlay",
              "size": 10,
              "solidity": 0.2
             }
            },
            "type": "barpolar"
           }
          ],
          "carpet": [
           {
            "aaxis": {
             "endlinecolor": "#2a3f5f",
             "gridcolor": "white",
             "linecolor": "white",
             "minorgridcolor": "white",
             "startlinecolor": "#2a3f5f"
            },
            "baxis": {
             "endlinecolor": "#2a3f5f",
             "gridcolor": "white",
             "linecolor": "white",
             "minorgridcolor": "white",
             "startlinecolor": "#2a3f5f"
            },
            "type": "carpet"
           }
          ],
          "choropleth": [
           {
            "colorbar": {
             "outlinewidth": 0,
             "ticks": ""
            },
            "type": "choropleth"
           }
          ],
          "contour": [
           {
            "colorbar": {
             "outlinewidth": 0,
             "ticks": ""
            },
            "colorscale": [
             [
              0,
              "#0d0887"
             ],
             [
              0.1111111111111111,
              "#46039f"
             ],
             [
              0.2222222222222222,
              "#7201a8"
             ],
             [
              0.3333333333333333,
              "#9c179e"
             ],
             [
              0.4444444444444444,
              "#bd3786"
             ],
             [
              0.5555555555555556,
              "#d8576b"
             ],
             [
              0.6666666666666666,
              "#ed7953"
             ],
             [
              0.7777777777777778,
              "#fb9f3a"
             ],
             [
              0.8888888888888888,
              "#fdca26"
             ],
             [
              1,
              "#f0f921"
             ]
            ],
            "type": "contour"
           }
          ],
          "contourcarpet": [
           {
            "colorbar": {
             "outlinewidth": 0,
             "ticks": ""
            },
            "type": "contourcarpet"
           }
          ],
          "heatmap": [
           {
            "colorbar": {
             "outlinewidth": 0,
             "ticks": ""
            },
            "colorscale": [
             [
              0,
              "#0d0887"
             ],
             [
              0.1111111111111111,
              "#46039f"
             ],
             [
              0.2222222222222222,
              "#7201a8"
             ],
             [
              0.3333333333333333,
              "#9c179e"
             ],
             [
              0.4444444444444444,
              "#bd3786"
             ],
             [
              0.5555555555555556,
              "#d8576b"
             ],
             [
              0.6666666666666666,
              "#ed7953"
             ],
             [
              0.7777777777777778,
              "#fb9f3a"
             ],
             [
              0.8888888888888888,
              "#fdca26"
             ],
             [
              1,
              "#f0f921"
             ]
            ],
            "type": "heatmap"
           }
          ],
          "histogram": [
           {
            "marker": {
             "pattern": {
              "fillmode": "overlay",
              "size": 10,
              "solidity": 0.2
             }
            },
            "type": "histogram"
           }
          ],
          "histogram2d": [
           {
            "colorbar": {
             "outlinewidth": 0,
             "ticks": ""
            },
            "colorscale": [
             [
              0,
              "#0d0887"
             ],
             [
              0.1111111111111111,
              "#46039f"
             ],
             [
              0.2222222222222222,
              "#7201a8"
             ],
             [
              0.3333333333333333,
              "#9c179e"
             ],
             [
              0.4444444444444444,
              "#bd3786"
             ],
             [
              0.5555555555555556,
              "#d8576b"
             ],
             [
              0.6666666666666666,
              "#ed7953"
             ],
             [
              0.7777777777777778,
              "#fb9f3a"
             ],
             [
              0.8888888888888888,
              "#fdca26"
             ],
             [
              1,
              "#f0f921"
             ]
            ],
            "type": "histogram2d"
           }
          ],
          "histogram2dcontour": [
           {
            "colorbar": {
             "outlinewidth": 0,
             "ticks": ""
            },
            "colorscale": [
             [
              0,
              "#0d0887"
             ],
             [
              0.1111111111111111,
              "#46039f"
             ],
             [
              0.2222222222222222,
              "#7201a8"
             ],
             [
              0.3333333333333333,
              "#9c179e"
             ],
             [
              0.4444444444444444,
              "#bd3786"
             ],
             [
              0.5555555555555556,
              "#d8576b"
             ],
             [
              0.6666666666666666,
              "#ed7953"
             ],
             [
              0.7777777777777778,
              "#fb9f3a"
             ],
             [
              0.8888888888888888,
              "#fdca26"
             ],
             [
              1,
              "#f0f921"
             ]
            ],
            "type": "histogram2dcontour"
           }
          ],
          "mesh3d": [
           {
            "colorbar": {
             "outlinewidth": 0,
             "ticks": ""
            },
            "type": "mesh3d"
           }
          ],
          "parcoords": [
           {
            "line": {
             "colorbar": {
              "outlinewidth": 0,
              "ticks": ""
             }
            },
            "type": "parcoords"
           }
          ],
          "pie": [
           {
            "automargin": true,
            "type": "pie"
           }
          ],
          "scatter": [
           {
            "fillpattern": {
             "fillmode": "overlay",
             "size": 10,
             "solidity": 0.2
            },
            "type": "scatter"
           }
          ],
          "scatter3d": [
           {
            "line": {
             "colorbar": {
              "outlinewidth": 0,
              "ticks": ""
             }
            },
            "marker": {
             "colorbar": {
              "outlinewidth": 0,
              "ticks": ""
             }
            },
            "type": "scatter3d"
           }
          ],
          "scattercarpet": [
           {
            "marker": {
             "colorbar": {
              "outlinewidth": 0,
              "ticks": ""
             }
            },
            "type": "scattercarpet"
           }
          ],
          "scattergeo": [
           {
            "marker": {
             "colorbar": {
              "outlinewidth": 0,
              "ticks": ""
             }
            },
            "type": "scattergeo"
           }
          ],
          "scattergl": [
           {
            "marker": {
             "colorbar": {
              "outlinewidth": 0,
              "ticks": ""
             }
            },
            "type": "scattergl"
           }
          ],
          "scattermap": [
           {
            "marker": {
             "colorbar": {
              "outlinewidth": 0,
              "ticks": ""
             }
            },
            "type": "scattermap"
           }
          ],
          "scattermapbox": [
           {
            "marker": {
             "colorbar": {
              "outlinewidth": 0,
              "ticks": ""
             }
            },
            "type": "scattermapbox"
           }
          ],
          "scatterpolar": [
           {
            "marker": {
             "colorbar": {
              "outlinewidth": 0,
              "ticks": ""
             }
            },
            "type": "scatterpolar"
           }
          ],
          "scatterpolargl": [
           {
            "marker": {
             "colorbar": {
              "outlinewidth": 0,
              "ticks": ""
             }
            },
            "type": "scatterpolargl"
           }
          ],
          "scatterternary": [
           {
            "marker": {
             "colorbar": {
              "outlinewidth": 0,
              "ticks": ""
             }
            },
            "type": "scatterternary"
           }
          ],
          "surface": [
           {
            "colorbar": {
             "outlinewidth": 0,
             "ticks": ""
            },
            "colorscale": [
             [
              0,
              "#0d0887"
             ],
             [
              0.1111111111111111,
              "#46039f"
             ],
             [
              0.2222222222222222,
              "#7201a8"
             ],
             [
              0.3333333333333333,
              "#9c179e"
             ],
             [
              0.4444444444444444,
              "#bd3786"
             ],
             [
              0.5555555555555556,
              "#d8576b"
             ],
             [
              0.6666666666666666,
              "#ed7953"
             ],
             [
              0.7777777777777778,
              "#fb9f3a"
             ],
             [
              0.8888888888888888,
              "#fdca26"
             ],
             [
              1,
              "#f0f921"
             ]
            ],
            "type": "surface"
           }
          ],
          "table": [
           {
            "cells": {
             "fill": {
              "color": "#EBF0F8"
             },
             "line": {
              "color": "white"
             }
            },
            "header": {
             "fill": {
              "color": "#C8D4E3"
             },
             "line": {
              "color": "white"
             }
            },
            "type": "table"
           }
          ]
         },
         "layout": {
          "annotationdefaults": {
           "arrowcolor": "#2a3f5f",
           "arrowhead": 0,
           "arrowwidth": 1
          },
          "autotypenumbers": "strict",
          "coloraxis": {
           "colorbar": {
            "outlinewidth": 0,
            "ticks": ""
           }
          },
          "colorscale": {
           "diverging": [
            [
             0,
             "#8e0152"
            ],
            [
             0.1,
             "#c51b7d"
            ],
            [
             0.2,
             "#de77ae"
            ],
            [
             0.3,
             "#f1b6da"
            ],
            [
             0.4,
             "#fde0ef"
            ],
            [
             0.5,
             "#f7f7f7"
            ],
            [
             0.6,
             "#e6f5d0"
            ],
            [
             0.7,
             "#b8e186"
            ],
            [
             0.8,
             "#7fbc41"
            ],
            [
             0.9,
             "#4d9221"
            ],
            [
             1,
             "#276419"
            ]
           ],
           "sequential": [
            [
             0,
             "#0d0887"
            ],
            [
             0.1111111111111111,
             "#46039f"
            ],
            [
             0.2222222222222222,
             "#7201a8"
            ],
            [
             0.3333333333333333,
             "#9c179e"
            ],
            [
             0.4444444444444444,
             "#bd3786"
            ],
            [
             0.5555555555555556,
             "#d8576b"
            ],
            [
             0.6666666666666666,
             "#ed7953"
            ],
            [
             0.7777777777777778,
             "#fb9f3a"
            ],
            [
             0.8888888888888888,
             "#fdca26"
            ],
            [
             1,
             "#f0f921"
            ]
           ],
           "sequentialminus": [
            [
             0,
             "#0d0887"
            ],
            [
             0.1111111111111111,
             "#46039f"
            ],
            [
             0.2222222222222222,
             "#7201a8"
            ],
            [
             0.3333333333333333,
             "#9c179e"
            ],
            [
             0.4444444444444444,
             "#bd3786"
            ],
            [
             0.5555555555555556,
             "#d8576b"
            ],
            [
             0.6666666666666666,
             "#ed7953"
            ],
            [
             0.7777777777777778,
             "#fb9f3a"
            ],
            [
             0.8888888888888888,
             "#fdca26"
            ],
            [
             1,
             "#f0f921"
            ]
           ]
          },
          "colorway": [
           "#636efa",
           "#EF553B",
           "#00cc96",
           "#ab63fa",
           "#FFA15A",
           "#19d3f3",
           "#FF6692",
           "#B6E880",
           "#FF97FF",
           "#FECB52"
          ],
          "font": {
           "color": "#2a3f5f"
          },
          "geo": {
           "bgcolor": "white",
           "lakecolor": "white",
           "landcolor": "#E5ECF6",
           "showlakes": true,
           "showland": true,
           "subunitcolor": "white"
          },
          "hoverlabel": {
           "align": "left"
          },
          "hovermode": "closest",
          "mapbox": {
           "style": "light"
          },
          "paper_bgcolor": "white",
          "plot_bgcolor": "#E5ECF6",
          "polar": {
           "angularaxis": {
            "gridcolor": "white",
            "linecolor": "white",
            "ticks": ""
           },
           "bgcolor": "#E5ECF6",
           "radialaxis": {
            "gridcolor": "white",
            "linecolor": "white",
            "ticks": ""
           }
          },
          "scene": {
           "xaxis": {
            "backgroundcolor": "#E5ECF6",
            "gridcolor": "white",
            "gridwidth": 2,
            "linecolor": "white",
            "showbackground": true,
            "ticks": "",
            "zerolinecolor": "white"
           },
           "yaxis": {
            "backgroundcolor": "#E5ECF6",
            "gridcolor": "white",
            "gridwidth": 2,
            "linecolor": "white",
            "showbackground": true,
            "ticks": "",
            "zerolinecolor": "white"
           },
           "zaxis": {
            "backgroundcolor": "#E5ECF6",
            "gridcolor": "white",
            "gridwidth": 2,
            "linecolor": "white",
            "showbackground": true,
            "ticks": "",
            "zerolinecolor": "white"
           }
          },
          "shapedefaults": {
           "line": {
            "color": "#2a3f5f"
           }
          },
          "ternary": {
           "aaxis": {
            "gridcolor": "white",
            "linecolor": "white",
            "ticks": ""
           },
           "baxis": {
            "gridcolor": "white",
            "linecolor": "white",
            "ticks": ""
           },
           "bgcolor": "#E5ECF6",
           "caxis": {
            "gridcolor": "white",
            "linecolor": "white",
            "ticks": ""
           }
          },
          "title": {
           "x": 0.05
          },
          "xaxis": {
           "automargin": true,
           "gridcolor": "white",
           "linecolor": "white",
           "ticks": "",
           "title": {
            "standoff": 15
           },
           "zerolinecolor": "white",
           "zerolinewidth": 2
          },
          "yaxis": {
           "automargin": true,
           "gridcolor": "white",
           "linecolor": "white",
           "ticks": "",
           "title": {
            "standoff": 15
           },
           "zerolinecolor": "white",
           "zerolinewidth": 2
          }
         }
        },
        "title": {
         "text": "Percentage of Time in Each Regime (Recent 3 Months)"
        },
        "uniformtext": {
         "minsize": 12,
         "mode": "hide"
        }
       }
      }
     },
     "metadata": {},
     "output_type": "display_data"
    },
    {
     "data": {
      "application/vnd.plotly.v1+json": {
       "config": {
        "plotlyServerURL": "https://plot.ly"
       },
       "data": [
        {
         "hovertemplate": "Date=%{x}<br>Close=%{y}<extra></extra>",
         "legendgroup": "",
         "line": {
          "color": "#636efa",
          "dash": "solid"
         },
         "marker": {
          "symbol": "circle"
         },
         "mode": "lines",
         "name": "",
         "orientation": "v",
         "showlegend": false,
         "type": "scatter",
         "x": [
          "2025-01-13T00:00:00.000000000",
          "2025-01-14T00:00:00.000000000",
          "2025-01-15T00:00:00.000000000",
          "2025-01-16T00:00:00.000000000",
          "2025-01-17T00:00:00.000000000",
          "2025-01-21T00:00:00.000000000",
          "2025-01-22T00:00:00.000000000",
          "2025-01-23T00:00:00.000000000",
          "2025-01-24T00:00:00.000000000",
          "2025-01-27T00:00:00.000000000",
          "2025-01-28T00:00:00.000000000",
          "2025-01-29T00:00:00.000000000",
          "2025-01-30T00:00:00.000000000",
          "2025-01-31T00:00:00.000000000",
          "2025-02-03T00:00:00.000000000",
          "2025-02-04T00:00:00.000000000",
          "2025-02-05T00:00:00.000000000",
          "2025-02-06T00:00:00.000000000",
          "2025-02-07T00:00:00.000000000",
          "2025-02-10T00:00:00.000000000",
          "2025-02-11T00:00:00.000000000",
          "2025-02-12T00:00:00.000000000",
          "2025-02-13T00:00:00.000000000",
          "2025-02-14T00:00:00.000000000",
          "2025-02-18T00:00:00.000000000",
          "2025-02-19T00:00:00.000000000",
          "2025-02-20T00:00:00.000000000",
          "2025-02-21T00:00:00.000000000",
          "2025-02-24T00:00:00.000000000",
          "2025-02-25T00:00:00.000000000",
          "2025-02-26T00:00:00.000000000",
          "2025-02-27T00:00:00.000000000",
          "2025-02-28T00:00:00.000000000",
          "2025-03-03T00:00:00.000000000",
          "2025-03-04T00:00:00.000000000",
          "2025-03-05T00:00:00.000000000",
          "2025-03-06T00:00:00.000000000",
          "2025-03-07T00:00:00.000000000",
          "2025-03-10T00:00:00.000000000",
          "2025-03-11T00:00:00.000000000",
          "2025-03-12T00:00:00.000000000",
          "2025-03-13T00:00:00.000000000",
          "2025-03-14T00:00:00.000000000",
          "2025-03-17T00:00:00.000000000",
          "2025-03-18T00:00:00.000000000",
          "2025-03-19T00:00:00.000000000",
          "2025-03-20T00:00:00.000000000",
          "2025-03-21T00:00:00.000000000",
          "2025-03-24T00:00:00.000000000",
          "2025-03-25T00:00:00.000000000",
          "2025-03-26T00:00:00.000000000",
          "2025-03-27T00:00:00.000000000",
          "2025-03-28T00:00:00.000000000",
          "2025-03-31T00:00:00.000000000",
          "2025-04-01T00:00:00.000000000",
          "2025-04-02T00:00:00.000000000",
          "2025-04-03T00:00:00.000000000",
          "2025-04-04T00:00:00.000000000",
          "2025-04-07T00:00:00.000000000",
          "2025-04-08T00:00:00.000000000",
          "2025-04-09T00:00:00.000000000",
          "2025-04-10T00:00:00.000000000"
         ],
         "xaxis": "x",
         "y": {
          "bdata": "AAAAoCsdgkAAAAAgjSOCQAAAAIAEeIJAAAAAwOxugkAAAABgTZ6CQAAAAEDuyYJAAAAAIPjkgkAAAADAXv+CQAAAACAs8YJAAAAAQJSsgkAAAADgp9WCQAAAAGAKwIJAAAAAgM3ZgkAAAADAHsCCQAAAAEDRn4JAAAAAIM2/gkAAAAAgQ9OCQAAAACAD5IJAAAAA4L63gkAAAACASdiCQAAAAOD024JAAAAAQGfMgkAAAADgNf+CQAAAAKD4/oJAAAAAgD8Ng0AAAADAuxiDQAAAACBlBINAAAAAICCxgkAAAADgWZuCQAAAAICpg4JAAAAAAA6GgkAAAADAXDqCQAAAAAAvg4JAAAAAQCcwgkAAAAAACvmBQAAAAIB9KoJAAAAAYPDXgUAAAACgivGBQAAAAKAwd4FAAAAAgAVSgUAAAAAAjWmBQAAAACAhLoFAAAAA4PmIgUAAAACgl6uBQAAAAACzeoFAAAAAwG6rgUAAAAAgWp6BQAAAAADXn4FAAAAA4KPwgUAAAAAgrvuBQAAAAGC4xIFAAAAA4KO4gUAAAACgR12BQAAAAMAee4FAAAAAgMKHgUAAAAAAKaSBQAAAAKCZxYBAAAAA4HqUf0AAAACAFIZ/QAAAACCuB39AAAAAwPUkgUAAAADgo2SAQA==",
          "dtype": "f8"
         },
         "yaxis": "y"
        },
        {
         "marker": {
          "color": "rgb(102,194,165)",
          "size": 8
         },
         "mode": "markers",
         "name": "Regime 0",
         "showlegend": true,
         "type": "scatter",
         "x": [
          "2025-01-13T00:00:00.000000000",
          "2025-01-31T00:00:00.000000000",
          "2025-02-03T00:00:00.000000000",
          "2025-02-04T00:00:00.000000000",
          "2025-02-05T00:00:00.000000000",
          "2025-02-06T00:00:00.000000000",
          "2025-02-07T00:00:00.000000000",
          "2025-02-10T00:00:00.000000000",
          "2025-02-11T00:00:00.000000000",
          "2025-02-12T00:00:00.000000000",
          "2025-02-13T00:00:00.000000000",
          "2025-02-14T00:00:00.000000000",
          "2025-02-18T00:00:00.000000000",
          "2025-02-19T00:00:00.000000000",
          "2025-02-20T00:00:00.000000000"
         ],
         "y": {
          "bdata": "AAAAoCsdgkAAAADAHsCCQAAAAEDRn4JAAAAAIM2/gkAAAAAgQ9OCQAAAACAD5IJAAAAA4L63gkAAAACASdiCQAAAAOD024JAAAAAQGfMgkAAAADgNf+CQAAAAKD4/oJAAAAAgD8Ng0AAAADAuxiDQAAAACBlBINA",
          "dtype": "f8"
         }
        },
        {
         "marker": {
          "color": "rgb(252,141,98)",
          "size": 8
         },
         "mode": "markers",
         "name": "Regime 1",
         "showlegend": true,
         "type": "scatter",
         "x": [
          "2025-01-14T00:00:00.000000000",
          "2025-01-15T00:00:00.000000000",
          "2025-01-16T00:00:00.000000000",
          "2025-01-17T00:00:00.000000000",
          "2025-01-21T00:00:00.000000000",
          "2025-01-29T00:00:00.000000000",
          "2025-01-30T00:00:00.000000000",
          "2025-02-21T00:00:00.000000000",
          "2025-02-24T00:00:00.000000000",
          "2025-02-25T00:00:00.000000000",
          "2025-02-26T00:00:00.000000000",
          "2025-03-19T00:00:00.000000000",
          "2025-03-20T00:00:00.000000000",
          "2025-03-21T00:00:00.000000000",
          "2025-03-24T00:00:00.000000000",
          "2025-03-25T00:00:00.000000000",
          "2025-03-26T00:00:00.000000000",
          "2025-03-27T00:00:00.000000000",
          "2025-03-28T00:00:00.000000000",
          "2025-03-31T00:00:00.000000000",
          "2025-04-01T00:00:00.000000000",
          "2025-04-02T00:00:00.000000000"
         ],
         "y": {
          "bdata": "AAAAII0jgkAAAACABHiCQAAAAMDsboJAAAAAYE2egkAAAABA7smCQAAAAGAKwIJAAAAAgM3ZgkAAAAAgILGCQAAAAOBZm4JAAAAAgKmDgkAAAAAADoaCQAAAAMBuq4FAAAAAIFqegUAAAAAA15+BQAAAAOCj8IFAAAAAIK77gUAAAABguMSBQAAAAOCjuIFAAAAAoEddgUAAAADAHnuBQAAAAIDCh4FAAAAAACmkgUA=",
          "dtype": "f8"
         }
        },
        {
         "marker": {
          "color": "rgb(141,160,203)",
          "size": 8
         },
         "mode": "markers",
         "name": "Regime 2",
         "showlegend": true,
         "type": "scatter",
         "x": [
          "2025-01-22T00:00:00.000000000",
          "2025-01-23T00:00:00.000000000",
          "2025-01-24T00:00:00.000000000",
          "2025-01-27T00:00:00.000000000",
          "2025-01-28T00:00:00.000000000",
          "2025-02-27T00:00:00.000000000",
          "2025-02-28T00:00:00.000000000",
          "2025-03-03T00:00:00.000000000",
          "2025-03-04T00:00:00.000000000",
          "2025-03-05T00:00:00.000000000",
          "2025-03-06T00:00:00.000000000",
          "2025-03-07T00:00:00.000000000",
          "2025-03-10T00:00:00.000000000",
          "2025-03-11T00:00:00.000000000",
          "2025-03-12T00:00:00.000000000",
          "2025-03-13T00:00:00.000000000",
          "2025-03-14T00:00:00.000000000",
          "2025-03-17T00:00:00.000000000",
          "2025-03-18T00:00:00.000000000",
          "2025-04-03T00:00:00.000000000",
          "2025-04-04T00:00:00.000000000",
          "2025-04-07T00:00:00.000000000",
          "2025-04-08T00:00:00.000000000",
          "2025-04-09T00:00:00.000000000",
          "2025-04-10T00:00:00.000000000"
         ],
         "y": {
          "bdata": "AAAAIPjkgkAAAADAXv+CQAAAACAs8YJAAAAAQJSsgkAAAADgp9WCQAAAAMBcOoJAAAAAAC+DgkAAAABAJzCCQAAAAAAK+YFAAAAAgH0qgkAAAABg8NeBQAAAAKCK8YFAAAAAoDB3gUAAAACABVKBQAAAAACNaYFAAAAAICEugUAAAADg+YiBQAAAAKCXq4FAAAAAALN6gUAAAACgmcWAQAAAAOB6lH9AAAAAgBSGf0AAAAAgrgd/QAAAAMD1JIFAAAAA4KNkgEA=",
          "dtype": "f8"
         }
        }
       ],
       "layout": {
        "hovermode": "closest",
        "legend": {
         "tracegroupgap": 0
        },
        "template": {
         "data": {
          "bar": [
           {
            "error_x": {
             "color": "#2a3f5f"
            },
            "error_y": {
             "color": "#2a3f5f"
            },
            "marker": {
             "line": {
              "color": "white",
              "width": 0.5
             },
             "pattern": {
              "fillmode": "overlay",
              "size": 10,
              "solidity": 0.2
             }
            },
            "type": "bar"
           }
          ],
          "barpolar": [
           {
            "marker": {
             "line": {
              "color": "white",
              "width": 0.5
             },
             "pattern": {
              "fillmode": "overlay",
              "size": 10,
              "solidity": 0.2
             }
            },
            "type": "barpolar"
           }
          ],
          "carpet": [
           {
            "aaxis": {
             "endlinecolor": "#2a3f5f",
             "gridcolor": "#C8D4E3",
             "linecolor": "#C8D4E3",
             "minorgridcolor": "#C8D4E3",
             "startlinecolor": "#2a3f5f"
            },
            "baxis": {
             "endlinecolor": "#2a3f5f",
             "gridcolor": "#C8D4E3",
             "linecolor": "#C8D4E3",
             "minorgridcolor": "#C8D4E3",
             "startlinecolor": "#2a3f5f"
            },
            "type": "carpet"
           }
          ],
          "choropleth": [
           {
            "colorbar": {
             "outlinewidth": 0,
             "ticks": ""
            },
            "type": "choropleth"
           }
          ],
          "contour": [
           {
            "colorbar": {
             "outlinewidth": 0,
             "ticks": ""
            },
            "colorscale": [
             [
              0,
              "#0d0887"
             ],
             [
              0.1111111111111111,
              "#46039f"
             ],
             [
              0.2222222222222222,
              "#7201a8"
             ],
             [
              0.3333333333333333,
              "#9c179e"
             ],
             [
              0.4444444444444444,
              "#bd3786"
             ],
             [
              0.5555555555555556,
              "#d8576b"
             ],
             [
              0.6666666666666666,
              "#ed7953"
             ],
             [
              0.7777777777777778,
              "#fb9f3a"
             ],
             [
              0.8888888888888888,
              "#fdca26"
             ],
             [
              1,
              "#f0f921"
             ]
            ],
            "type": "contour"
           }
          ],
          "contourcarpet": [
           {
            "colorbar": {
             "outlinewidth": 0,
             "ticks": ""
            },
            "type": "contourcarpet"
           }
          ],
          "heatmap": [
           {
            "colorbar": {
             "outlinewidth": 0,
             "ticks": ""
            },
            "colorscale": [
             [
              0,
              "#0d0887"
             ],
             [
              0.1111111111111111,
              "#46039f"
             ],
             [
              0.2222222222222222,
              "#7201a8"
             ],
             [
              0.3333333333333333,
              "#9c179e"
             ],
             [
              0.4444444444444444,
              "#bd3786"
             ],
             [
              0.5555555555555556,
              "#d8576b"
             ],
             [
              0.6666666666666666,
              "#ed7953"
             ],
             [
              0.7777777777777778,
              "#fb9f3a"
             ],
             [
              0.8888888888888888,
              "#fdca26"
             ],
             [
              1,
              "#f0f921"
             ]
            ],
            "type": "heatmap"
           }
          ],
          "histogram": [
           {
            "marker": {
             "pattern": {
              "fillmode": "overlay",
              "size": 10,
              "solidity": 0.2
             }
            },
            "type": "histogram"
           }
          ],
          "histogram2d": [
           {
            "colorbar": {
             "outlinewidth": 0,
             "ticks": ""
            },
            "colorscale": [
             [
              0,
              "#0d0887"
             ],
             [
              0.1111111111111111,
              "#46039f"
             ],
             [
              0.2222222222222222,
              "#7201a8"
             ],
             [
              0.3333333333333333,
              "#9c179e"
             ],
             [
              0.4444444444444444,
              "#bd3786"
             ],
             [
              0.5555555555555556,
              "#d8576b"
             ],
             [
              0.6666666666666666,
              "#ed7953"
             ],
             [
              0.7777777777777778,
              "#fb9f3a"
             ],
             [
              0.8888888888888888,
              "#fdca26"
             ],
             [
              1,
              "#f0f921"
             ]
            ],
            "type": "histogram2d"
           }
          ],
          "histogram2dcontour": [
           {
            "colorbar": {
             "outlinewidth": 0,
             "ticks": ""
            },
            "colorscale": [
             [
              0,
              "#0d0887"
             ],
             [
              0.1111111111111111,
              "#46039f"
             ],
             [
              0.2222222222222222,
              "#7201a8"
             ],
             [
              0.3333333333333333,
              "#9c179e"
             ],
             [
              0.4444444444444444,
              "#bd3786"
             ],
             [
              0.5555555555555556,
              "#d8576b"
             ],
             [
              0.6666666666666666,
              "#ed7953"
             ],
             [
              0.7777777777777778,
              "#fb9f3a"
             ],
             [
              0.8888888888888888,
              "#fdca26"
             ],
             [
              1,
              "#f0f921"
             ]
            ],
            "type": "histogram2dcontour"
           }
          ],
          "mesh3d": [
           {
            "colorbar": {
             "outlinewidth": 0,
             "ticks": ""
            },
            "type": "mesh3d"
           }
          ],
          "parcoords": [
           {
            "line": {
             "colorbar": {
              "outlinewidth": 0,
              "ticks": ""
             }
            },
            "type": "parcoords"
           }
          ],
          "pie": [
           {
            "automargin": true,
            "type": "pie"
           }
          ],
          "scatter": [
           {
            "fillpattern": {
             "fillmode": "overlay",
             "size": 10,
             "solidity": 0.2
            },
            "type": "scatter"
           }
          ],
          "scatter3d": [
           {
            "line": {
             "colorbar": {
              "outlinewidth": 0,
              "ticks": ""
             }
            },
            "marker": {
             "colorbar": {
              "outlinewidth": 0,
              "ticks": ""
             }
            },
            "type": "scatter3d"
           }
          ],
          "scattercarpet": [
           {
            "marker": {
             "colorbar": {
              "outlinewidth": 0,
              "ticks": ""
             }
            },
            "type": "scattercarpet"
           }
          ],
          "scattergeo": [
           {
            "marker": {
             "colorbar": {
              "outlinewidth": 0,
              "ticks": ""
             }
            },
            "type": "scattergeo"
           }
          ],
          "scattergl": [
           {
            "marker": {
             "colorbar": {
              "outlinewidth": 0,
              "ticks": ""
             }
            },
            "type": "scattergl"
           }
          ],
          "scattermap": [
           {
            "marker": {
             "colorbar": {
              "outlinewidth": 0,
              "ticks": ""
             }
            },
            "type": "scattermap"
           }
          ],
          "scattermapbox": [
           {
            "marker": {
             "colorbar": {
              "outlinewidth": 0,
              "ticks": ""
             }
            },
            "type": "scattermapbox"
           }
          ],
          "scatterpolar": [
           {
            "marker": {
             "colorbar": {
              "outlinewidth": 0,
              "ticks": ""
             }
            },
            "type": "scatterpolar"
           }
          ],
          "scatterpolargl": [
           {
            "marker": {
             "colorbar": {
              "outlinewidth": 0,
              "ticks": ""
             }
            },
            "type": "scatterpolargl"
           }
          ],
          "scatterternary": [
           {
            "marker": {
             "colorbar": {
              "outlinewidth": 0,
              "ticks": ""
             }
            },
            "type": "scatterternary"
           }
          ],
          "surface": [
           {
            "colorbar": {
             "outlinewidth": 0,
             "ticks": ""
            },
            "colorscale": [
             [
              0,
              "#0d0887"
             ],
             [
              0.1111111111111111,
              "#46039f"
             ],
             [
              0.2222222222222222,
              "#7201a8"
             ],
             [
              0.3333333333333333,
              "#9c179e"
             ],
             [
              0.4444444444444444,
              "#bd3786"
             ],
             [
              0.5555555555555556,
              "#d8576b"
             ],
             [
              0.6666666666666666,
              "#ed7953"
             ],
             [
              0.7777777777777778,
              "#fb9f3a"
             ],
             [
              0.8888888888888888,
              "#fdca26"
             ],
             [
              1,
              "#f0f921"
             ]
            ],
            "type": "surface"
           }
          ],
          "table": [
           {
            "cells": {
             "fill": {
              "color": "#EBF0F8"
             },
             "line": {
              "color": "white"
             }
            },
            "header": {
             "fill": {
              "color": "#C8D4E3"
             },
             "line": {
              "color": "white"
             }
            },
            "type": "table"
           }
          ]
         },
         "layout": {
          "annotationdefaults": {
           "arrowcolor": "#2a3f5f",
           "arrowhead": 0,
           "arrowwidth": 1
          },
          "autotypenumbers": "strict",
          "coloraxis": {
           "colorbar": {
            "outlinewidth": 0,
            "ticks": ""
           }
          },
          "colorscale": {
           "diverging": [
            [
             0,
             "#8e0152"
            ],
            [
             0.1,
             "#c51b7d"
            ],
            [
             0.2,
             "#de77ae"
            ],
            [
             0.3,
             "#f1b6da"
            ],
            [
             0.4,
             "#fde0ef"
            ],
            [
             0.5,
             "#f7f7f7"
            ],
            [
             0.6,
             "#e6f5d0"
            ],
            [
             0.7,
             "#b8e186"
            ],
            [
             0.8,
             "#7fbc41"
            ],
            [
             0.9,
             "#4d9221"
            ],
            [
             1,
             "#276419"
            ]
           ],
           "sequential": [
            [
             0,
             "#0d0887"
            ],
            [
             0.1111111111111111,
             "#46039f"
            ],
            [
             0.2222222222222222,
             "#7201a8"
            ],
            [
             0.3333333333333333,
             "#9c179e"
            ],
            [
             0.4444444444444444,
             "#bd3786"
            ],
            [
             0.5555555555555556,
             "#d8576b"
            ],
            [
             0.6666666666666666,
             "#ed7953"
            ],
            [
             0.7777777777777778,
             "#fb9f3a"
            ],
            [
             0.8888888888888888,
             "#fdca26"
            ],
            [
             1,
             "#f0f921"
            ]
           ],
           "sequentialminus": [
            [
             0,
             "#0d0887"
            ],
            [
             0.1111111111111111,
             "#46039f"
            ],
            [
             0.2222222222222222,
             "#7201a8"
            ],
            [
             0.3333333333333333,
             "#9c179e"
            ],
            [
             0.4444444444444444,
             "#bd3786"
            ],
            [
             0.5555555555555556,
             "#d8576b"
            ],
            [
             0.6666666666666666,
             "#ed7953"
            ],
            [
             0.7777777777777778,
             "#fb9f3a"
            ],
            [
             0.8888888888888888,
             "#fdca26"
            ],
            [
             1,
             "#f0f921"
            ]
           ]
          },
          "colorway": [
           "#636efa",
           "#EF553B",
           "#00cc96",
           "#ab63fa",
           "#FFA15A",
           "#19d3f3",
           "#FF6692",
           "#B6E880",
           "#FF97FF",
           "#FECB52"
          ],
          "font": {
           "color": "#2a3f5f"
          },
          "geo": {
           "bgcolor": "white",
           "lakecolor": "white",
           "landcolor": "white",
           "showlakes": true,
           "showland": true,
           "subunitcolor": "#C8D4E3"
          },
          "hoverlabel": {
           "align": "left"
          },
          "hovermode": "closest",
          "mapbox": {
           "style": "light"
          },
          "paper_bgcolor": "white",
          "plot_bgcolor": "white",
          "polar": {
           "angularaxis": {
            "gridcolor": "#EBF0F8",
            "linecolor": "#EBF0F8",
            "ticks": ""
           },
           "bgcolor": "white",
           "radialaxis": {
            "gridcolor": "#EBF0F8",
            "linecolor": "#EBF0F8",
            "ticks": ""
           }
          },
          "scene": {
           "xaxis": {
            "backgroundcolor": "white",
            "gridcolor": "#DFE8F3",
            "gridwidth": 2,
            "linecolor": "#EBF0F8",
            "showbackground": true,
            "ticks": "",
            "zerolinecolor": "#EBF0F8"
           },
           "yaxis": {
            "backgroundcolor": "white",
            "gridcolor": "#DFE8F3",
            "gridwidth": 2,
            "linecolor": "#EBF0F8",
            "showbackground": true,
            "ticks": "",
            "zerolinecolor": "#EBF0F8"
           },
           "zaxis": {
            "backgroundcolor": "white",
            "gridcolor": "#DFE8F3",
            "gridwidth": 2,
            "linecolor": "#EBF0F8",
            "showbackground": true,
            "ticks": "",
            "zerolinecolor": "#EBF0F8"
           }
          },
          "shapedefaults": {
           "line": {
            "color": "#2a3f5f"
           }
          },
          "ternary": {
           "aaxis": {
            "gridcolor": "#DFE8F3",
            "linecolor": "#A2B1C6",
            "ticks": ""
           },
           "baxis": {
            "gridcolor": "#DFE8F3",
            "linecolor": "#A2B1C6",
            "ticks": ""
           },
           "bgcolor": "white",
           "caxis": {
            "gridcolor": "#DFE8F3",
            "linecolor": "#A2B1C6",
            "ticks": ""
           }
          },
          "title": {
           "x": 0.05
          },
          "xaxis": {
           "automargin": true,
           "gridcolor": "#EBF0F8",
           "linecolor": "#EBF0F8",
           "ticks": "",
           "title": {
            "standoff": 15
           },
           "zerolinecolor": "#EBF0F8",
           "zerolinewidth": 2
          },
          "yaxis": {
           "automargin": true,
           "gridcolor": "#EBF0F8",
           "linecolor": "#EBF0F8",
           "ticks": "",
           "title": {
            "standoff": 15
           },
           "zerolinecolor": "#EBF0F8",
           "zerolinewidth": 2
          }
         }
        },
        "title": {
         "text": "Price Evolution with Regime Changes (Recent 3 Months)"
        },
        "xaxis": {
         "anchor": "y",
         "domain": [
          0,
          1
         ],
         "title": {
          "text": "Date"
         }
        },
        "yaxis": {
         "anchor": "x",
         "domain": [
          0,
          1
         ],
         "title": {
          "text": "Price"
         }
        }
       }
      }
     },
     "metadata": {},
     "output_type": "display_data"
    }
   ],
   "source": [
    "# Example 2: Predict regimes for the most recent 3 months\n",
    "from datetime import datetime, timedelta\n",
    "\n",
    "today = datetime.today()\n",
    "three_months_ago = today - timedelta(days=90)\n",
    "\n",
    "start_date = three_months_ago.strftime('%Y-%m-%d')\n",
    "end_date = today.strftime('%Y-%m-%d')\n",
    "\n",
    "recent_results = predict_regimes(model, df, start_date, end_date)\n",
    "\n",
    "# Visualize recent results with Plotly\n",
    "fig = px.scatter(\n",
    "    recent_results, \n",
    "    x='Date', \n",
    "    y='Close', \n",
    "    color='Predicted_Regime',\n",
    "    color_discrete_sequence=regime_colors,\n",
    "    title=f'Market Regimes in Recent 3 Months ({start_date} to {end_date})',\n",
    "    labels={'Close': 'Price', 'Date': 'Date', 'Predicted_Regime': 'Market Regime'},\n",
    "    height=600,\n",
    "    opacity=0.8,\n",
    "    size_max=10\n",
    ")\n",
    "\n",
    "fig.update_layout(\n",
    "    xaxis_title='Date',\n",
    "    yaxis_title='Price',\n",
    "    legend_title='Regime',\n",
    "    hovermode='closest',\n",
    "    template='plotly_white'\n",
    ")\n",
    "\n",
    "fig.show()\n",
    "\n",
    "# Calculate percentage of time in each regime with Plotly\n",
    "regime_percentages = recent_results['Predicted_Regime'].value_counts(normalize=True) * 100\n",
    "labels = [f\"Regime {i}\" for i in regime_percentages.index]\n",
    "\n",
    "fig_pie = px.pie(\n",
    "    values=regime_percentages.values,\n",
    "    names=labels,\n",
    "    title='Percentage of Time in Each Regime (Recent 3 Months)',\n",
    "    color_discrete_sequence=regime_colors\n",
    ")\n",
    "\n",
    "fig_pie.update_traces(textinfo='percent+label', textposition='inside')\n",
    "fig_pie.update_layout(uniformtext_minsize=12, uniformtext_mode='hide')\n",
    "fig_pie.show()\n",
    "\n",
    "# Add a time series view to show how the regimes evolve over time\n",
    "fig_time = px.line(\n",
    "    recent_results, \n",
    "    x='Date', \n",
    "    y='Close',\n",
    "    title=f'Price Evolution with Regime Changes (Recent 3 Months)'\n",
    ")\n",
    "\n",
    "# Add markers for each regime\n",
    "for regime in recent_results['Predicted_Regime'].unique():\n",
    "    regime_data = recent_results[recent_results['Predicted_Regime'] == regime]\n",
    "    fig_time.add_scatter(\n",
    "        x=regime_data['Date'],\n",
    "        y=regime_data['Close'],\n",
    "        mode='markers',\n",
    "        name=f'Regime {regime}',\n",
    "        marker=dict(color=regime_colors[regime], size=8),\n",
    "        showlegend=True\n",
    "    )\n",
    "\n",
    "fig_time.update_layout(\n",
    "    xaxis_title='Date',\n",
    "    yaxis_title='Price',\n",
    "    template='plotly_white',\n",
    "    hovermode='closest'\n",
    ")\n",
    "\n",
    "fig_time.show()"
   ]
  },
  {
   "cell_type": "code",
   "execution_count": 118,
   "metadata": {},
   "outputs": [
    {
     "name": "stdout",
     "output_type": "stream",
     "text": [
      "Predicted regimes for period 2025-01-01 to 2025-03-31\n",
      "Data points: 60\n",
      "\n",
      "Regime Distribution:\n",
      "Regime 1: 43.33%\n",
      "Regime 2: 31.67%\n",
      "Regime 0: 25.00%\n",
      "\n",
      "Predicted regimes for Q1 2025:\n"
     ]
    },
    {
     "data": {
      "application/vnd.microsoft.datawrangler.viewer.v0+json": {
       "columns": [
        {
         "name": "index",
         "rawType": "int64",
         "type": "integer"
        },
        {
         "name": "Date",
         "rawType": "datetime64[ns]",
         "type": "datetime"
        },
        {
         "name": "Close",
         "rawType": "float64",
         "type": "float"
        },
        {
         "name": "Volatility",
         "rawType": "float64",
         "type": "float"
        },
        {
         "name": "Return",
         "rawType": "float64",
         "type": "float"
        },
        {
         "name": "Predicted_Regime",
         "rawType": "int64",
         "type": "integer"
        }
       ],
       "conversionMethod": "pd.DataFrame",
       "ref": "1a3804b7-ed9d-4d6b-9ccf-48457cd69a19",
       "rows": [
        [
         "7552",
         "2025-01-02 00:00:00",
         "582.8865966796875",
         "40.44466020107269",
         "-0.24569814120926686",
         "0"
        ],
        [
         "7553",
         "2025-01-03 00:00:00",
         "590.1746215820312",
         "35.37722575202584",
         "1.2503332455847709",
         "1"
        ],
        [
         "7554",
         "2025-01-06 00:00:00",
         "593.5744018554688",
         "29.428018976040185",
         "0.5760634478527722",
         "1"
        ],
        [
         "7555",
         "2025-01-07 00:00:00",
         "586.8646240234375",
         "30.909914324767886",
         "-1.130402155324925",
         "1"
        ],
        [
         "7556",
         "2025-01-08 00:00:00",
         "587.7219848632812",
         "31.294495075233282",
         "0.14609175689715959",
         "1"
        ]
       ],
       "shape": {
        "columns": 5,
        "rows": 5
       }
      },
      "text/html": [
       "<div>\n",
       "<style scoped>\n",
       "    .dataframe tbody tr th:only-of-type {\n",
       "        vertical-align: middle;\n",
       "    }\n",
       "\n",
       "    .dataframe tbody tr th {\n",
       "        vertical-align: top;\n",
       "    }\n",
       "\n",
       "    .dataframe thead th {\n",
       "        text-align: right;\n",
       "    }\n",
       "</style>\n",
       "<table border=\"1\" class=\"dataframe\">\n",
       "  <thead>\n",
       "    <tr style=\"text-align: right;\">\n",
       "      <th>Price</th>\n",
       "      <th>Date</th>\n",
       "      <th>Close</th>\n",
       "      <th>Volatility</th>\n",
       "      <th>Return</th>\n",
       "      <th>Predicted_Regime</th>\n",
       "    </tr>\n",
       "  </thead>\n",
       "  <tbody>\n",
       "    <tr>\n",
       "      <th>7552</th>\n",
       "      <td>2025-01-02</td>\n",
       "      <td>582.886597</td>\n",
       "      <td>40.444660</td>\n",
       "      <td>-0.245698</td>\n",
       "      <td>0</td>\n",
       "    </tr>\n",
       "    <tr>\n",
       "      <th>7553</th>\n",
       "      <td>2025-01-03</td>\n",
       "      <td>590.174622</td>\n",
       "      <td>35.377226</td>\n",
       "      <td>1.250333</td>\n",
       "      <td>1</td>\n",
       "    </tr>\n",
       "    <tr>\n",
       "      <th>7554</th>\n",
       "      <td>2025-01-06</td>\n",
       "      <td>593.574402</td>\n",
       "      <td>29.428019</td>\n",
       "      <td>0.576063</td>\n",
       "      <td>1</td>\n",
       "    </tr>\n",
       "    <tr>\n",
       "      <th>7555</th>\n",
       "      <td>2025-01-07</td>\n",
       "      <td>586.864624</td>\n",
       "      <td>30.909914</td>\n",
       "      <td>-1.130402</td>\n",
       "      <td>1</td>\n",
       "    </tr>\n",
       "    <tr>\n",
       "      <th>7556</th>\n",
       "      <td>2025-01-08</td>\n",
       "      <td>587.721985</td>\n",
       "      <td>31.294495</td>\n",
       "      <td>0.146092</td>\n",
       "      <td>1</td>\n",
       "    </tr>\n",
       "  </tbody>\n",
       "</table>\n",
       "</div>"
      ],
      "text/plain": [
       "Price       Date       Close  Volatility    Return  Predicted_Regime\n",
       "7552  2025-01-02  582.886597   40.444660 -0.245698                 0\n",
       "7553  2025-01-03  590.174622   35.377226  1.250333                 1\n",
       "7554  2025-01-06  593.574402   29.428019  0.576063                 1\n",
       "7555  2025-01-07  586.864624   30.909914 -1.130402                 1\n",
       "7556  2025-01-08  587.721985   31.294495  0.146092                 1"
      ]
     },
     "metadata": {},
     "output_type": "display_data"
    },
    {
     "data": {
      "application/vnd.plotly.v1+json": {
       "config": {
        "plotlyServerURL": "https://plot.ly"
       },
       "data": [
        {
         "hovertemplate": "Regime=%{marker.color}<br>Count=%{text}<extra></extra>",
         "legendgroup": "",
         "marker": {
          "color": {
           "bdata": "AQIA",
           "dtype": "i1"
          },
          "coloraxis": "coloraxis",
          "pattern": {
           "shape": ""
          }
         },
         "name": "",
         "orientation": "v",
         "showlegend": false,
         "text": {
          "bdata": "AAAAAAAAOkAAAAAAAAAzQAAAAAAAAC5A",
          "dtype": "f8"
         },
         "textposition": "outside",
         "type": "bar",
         "x": {
          "bdata": "AQIA",
          "dtype": "i1"
         },
         "xaxis": "x",
         "y": {
          "bdata": "GhMP",
          "dtype": "i1"
         },
         "yaxis": "y"
        }
       ],
       "layout": {
        "barmode": "relative",
        "coloraxis": {
         "colorbar": {
          "title": {
           "text": "Regime"
          }
         },
         "colorscale": [
          [
           0,
           "#0d0887"
          ],
          [
           0.1111111111111111,
           "#46039f"
          ],
          [
           0.2222222222222222,
           "#7201a8"
          ],
          [
           0.3333333333333333,
           "#9c179e"
          ],
          [
           0.4444444444444444,
           "#bd3786"
          ],
          [
           0.5555555555555556,
           "#d8576b"
          ],
          [
           0.6666666666666666,
           "#ed7953"
          ],
          [
           0.7777777777777778,
           "#fb9f3a"
          ],
          [
           0.8888888888888888,
           "#fdca26"
          ],
          [
           1,
           "#f0f921"
          ]
         ]
        },
        "legend": {
         "tracegroupgap": 0
        },
        "showlegend": false,
        "template": {
         "data": {
          "bar": [
           {
            "error_x": {
             "color": "#2a3f5f"
            },
            "error_y": {
             "color": "#2a3f5f"
            },
            "marker": {
             "line": {
              "color": "white",
              "width": 0.5
             },
             "pattern": {
              "fillmode": "overlay",
              "size": 10,
              "solidity": 0.2
             }
            },
            "type": "bar"
           }
          ],
          "barpolar": [
           {
            "marker": {
             "line": {
              "color": "white",
              "width": 0.5
             },
             "pattern": {
              "fillmode": "overlay",
              "size": 10,
              "solidity": 0.2
             }
            },
            "type": "barpolar"
           }
          ],
          "carpet": [
           {
            "aaxis": {
             "endlinecolor": "#2a3f5f",
             "gridcolor": "#C8D4E3",
             "linecolor": "#C8D4E3",
             "minorgridcolor": "#C8D4E3",
             "startlinecolor": "#2a3f5f"
            },
            "baxis": {
             "endlinecolor": "#2a3f5f",
             "gridcolor": "#C8D4E3",
             "linecolor": "#C8D4E3",
             "minorgridcolor": "#C8D4E3",
             "startlinecolor": "#2a3f5f"
            },
            "type": "carpet"
           }
          ],
          "choropleth": [
           {
            "colorbar": {
             "outlinewidth": 0,
             "ticks": ""
            },
            "type": "choropleth"
           }
          ],
          "contour": [
           {
            "colorbar": {
             "outlinewidth": 0,
             "ticks": ""
            },
            "colorscale": [
             [
              0,
              "#0d0887"
             ],
             [
              0.1111111111111111,
              "#46039f"
             ],
             [
              0.2222222222222222,
              "#7201a8"
             ],
             [
              0.3333333333333333,
              "#9c179e"
             ],
             [
              0.4444444444444444,
              "#bd3786"
             ],
             [
              0.5555555555555556,
              "#d8576b"
             ],
             [
              0.6666666666666666,
              "#ed7953"
             ],
             [
              0.7777777777777778,
              "#fb9f3a"
             ],
             [
              0.8888888888888888,
              "#fdca26"
             ],
             [
              1,
              "#f0f921"
             ]
            ],
            "type": "contour"
           }
          ],
          "contourcarpet": [
           {
            "colorbar": {
             "outlinewidth": 0,
             "ticks": ""
            },
            "type": "contourcarpet"
           }
          ],
          "heatmap": [
           {
            "colorbar": {
             "outlinewidth": 0,
             "ticks": ""
            },
            "colorscale": [
             [
              0,
              "#0d0887"
             ],
             [
              0.1111111111111111,
              "#46039f"
             ],
             [
              0.2222222222222222,
              "#7201a8"
             ],
             [
              0.3333333333333333,
              "#9c179e"
             ],
             [
              0.4444444444444444,
              "#bd3786"
             ],
             [
              0.5555555555555556,
              "#d8576b"
             ],
             [
              0.6666666666666666,
              "#ed7953"
             ],
             [
              0.7777777777777778,
              "#fb9f3a"
             ],
             [
              0.8888888888888888,
              "#fdca26"
             ],
             [
              1,
              "#f0f921"
             ]
            ],
            "type": "heatmap"
           }
          ],
          "histogram": [
           {
            "marker": {
             "pattern": {
              "fillmode": "overlay",
              "size": 10,
              "solidity": 0.2
             }
            },
            "type": "histogram"
           }
          ],
          "histogram2d": [
           {
            "colorbar": {
             "outlinewidth": 0,
             "ticks": ""
            },
            "colorscale": [
             [
              0,
              "#0d0887"
             ],
             [
              0.1111111111111111,
              "#46039f"
             ],
             [
              0.2222222222222222,
              "#7201a8"
             ],
             [
              0.3333333333333333,
              "#9c179e"
             ],
             [
              0.4444444444444444,
              "#bd3786"
             ],
             [
              0.5555555555555556,
              "#d8576b"
             ],
             [
              0.6666666666666666,
              "#ed7953"
             ],
             [
              0.7777777777777778,
              "#fb9f3a"
             ],
             [
              0.8888888888888888,
              "#fdca26"
             ],
             [
              1,
              "#f0f921"
             ]
            ],
            "type": "histogram2d"
           }
          ],
          "histogram2dcontour": [
           {
            "colorbar": {
             "outlinewidth": 0,
             "ticks": ""
            },
            "colorscale": [
             [
              0,
              "#0d0887"
             ],
             [
              0.1111111111111111,
              "#46039f"
             ],
             [
              0.2222222222222222,
              "#7201a8"
             ],
             [
              0.3333333333333333,
              "#9c179e"
             ],
             [
              0.4444444444444444,
              "#bd3786"
             ],
             [
              0.5555555555555556,
              "#d8576b"
             ],
             [
              0.6666666666666666,
              "#ed7953"
             ],
             [
              0.7777777777777778,
              "#fb9f3a"
             ],
             [
              0.8888888888888888,
              "#fdca26"
             ],
             [
              1,
              "#f0f921"
             ]
            ],
            "type": "histogram2dcontour"
           }
          ],
          "mesh3d": [
           {
            "colorbar": {
             "outlinewidth": 0,
             "ticks": ""
            },
            "type": "mesh3d"
           }
          ],
          "parcoords": [
           {
            "line": {
             "colorbar": {
              "outlinewidth": 0,
              "ticks": ""
             }
            },
            "type": "parcoords"
           }
          ],
          "pie": [
           {
            "automargin": true,
            "type": "pie"
           }
          ],
          "scatter": [
           {
            "fillpattern": {
             "fillmode": "overlay",
             "size": 10,
             "solidity": 0.2
            },
            "type": "scatter"
           }
          ],
          "scatter3d": [
           {
            "line": {
             "colorbar": {
              "outlinewidth": 0,
              "ticks": ""
             }
            },
            "marker": {
             "colorbar": {
              "outlinewidth": 0,
              "ticks": ""
             }
            },
            "type": "scatter3d"
           }
          ],
          "scattercarpet": [
           {
            "marker": {
             "colorbar": {
              "outlinewidth": 0,
              "ticks": ""
             }
            },
            "type": "scattercarpet"
           }
          ],
          "scattergeo": [
           {
            "marker": {
             "colorbar": {
              "outlinewidth": 0,
              "ticks": ""
             }
            },
            "type": "scattergeo"
           }
          ],
          "scattergl": [
           {
            "marker": {
             "colorbar": {
              "outlinewidth": 0,
              "ticks": ""
             }
            },
            "type": "scattergl"
           }
          ],
          "scattermap": [
           {
            "marker": {
             "colorbar": {
              "outlinewidth": 0,
              "ticks": ""
             }
            },
            "type": "scattermap"
           }
          ],
          "scattermapbox": [
           {
            "marker": {
             "colorbar": {
              "outlinewidth": 0,
              "ticks": ""
             }
            },
            "type": "scattermapbox"
           }
          ],
          "scatterpolar": [
           {
            "marker": {
             "colorbar": {
              "outlinewidth": 0,
              "ticks": ""
             }
            },
            "type": "scatterpolar"
           }
          ],
          "scatterpolargl": [
           {
            "marker": {
             "colorbar": {
              "outlinewidth": 0,
              "ticks": ""
             }
            },
            "type": "scatterpolargl"
           }
          ],
          "scatterternary": [
           {
            "marker": {
             "colorbar": {
              "outlinewidth": 0,
              "ticks": ""
             }
            },
            "type": "scatterternary"
           }
          ],
          "surface": [
           {
            "colorbar": {
             "outlinewidth": 0,
             "ticks": ""
            },
            "colorscale": [
             [
              0,
              "#0d0887"
             ],
             [
              0.1111111111111111,
              "#46039f"
             ],
             [
              0.2222222222222222,
              "#7201a8"
             ],
             [
              0.3333333333333333,
              "#9c179e"
             ],
             [
              0.4444444444444444,
              "#bd3786"
             ],
             [
              0.5555555555555556,
              "#d8576b"
             ],
             [
              0.6666666666666666,
              "#ed7953"
             ],
             [
              0.7777777777777778,
              "#fb9f3a"
             ],
             [
              0.8888888888888888,
              "#fdca26"
             ],
             [
              1,
              "#f0f921"
             ]
            ],
            "type": "surface"
           }
          ],
          "table": [
           {
            "cells": {
             "fill": {
              "color": "#EBF0F8"
             },
             "line": {
              "color": "white"
             }
            },
            "header": {
             "fill": {
              "color": "#C8D4E3"
             },
             "line": {
              "color": "white"
             }
            },
            "type": "table"
           }
          ]
         },
         "layout": {
          "annotationdefaults": {
           "arrowcolor": "#2a3f5f",
           "arrowhead": 0,
           "arrowwidth": 1
          },
          "autotypenumbers": "strict",
          "coloraxis": {
           "colorbar": {
            "outlinewidth": 0,
            "ticks": ""
           }
          },
          "colorscale": {
           "diverging": [
            [
             0,
             "#8e0152"
            ],
            [
             0.1,
             "#c51b7d"
            ],
            [
             0.2,
             "#de77ae"
            ],
            [
             0.3,
             "#f1b6da"
            ],
            [
             0.4,
             "#fde0ef"
            ],
            [
             0.5,
             "#f7f7f7"
            ],
            [
             0.6,
             "#e6f5d0"
            ],
            [
             0.7,
             "#b8e186"
            ],
            [
             0.8,
             "#7fbc41"
            ],
            [
             0.9,
             "#4d9221"
            ],
            [
             1,
             "#276419"
            ]
           ],
           "sequential": [
            [
             0,
             "#0d0887"
            ],
            [
             0.1111111111111111,
             "#46039f"
            ],
            [
             0.2222222222222222,
             "#7201a8"
            ],
            [
             0.3333333333333333,
             "#9c179e"
            ],
            [
             0.4444444444444444,
             "#bd3786"
            ],
            [
             0.5555555555555556,
             "#d8576b"
            ],
            [
             0.6666666666666666,
             "#ed7953"
            ],
            [
             0.7777777777777778,
             "#fb9f3a"
            ],
            [
             0.8888888888888888,
             "#fdca26"
            ],
            [
             1,
             "#f0f921"
            ]
           ],
           "sequentialminus": [
            [
             0,
             "#0d0887"
            ],
            [
             0.1111111111111111,
             "#46039f"
            ],
            [
             0.2222222222222222,
             "#7201a8"
            ],
            [
             0.3333333333333333,
             "#9c179e"
            ],
            [
             0.4444444444444444,
             "#bd3786"
            ],
            [
             0.5555555555555556,
             "#d8576b"
            ],
            [
             0.6666666666666666,
             "#ed7953"
            ],
            [
             0.7777777777777778,
             "#fb9f3a"
            ],
            [
             0.8888888888888888,
             "#fdca26"
            ],
            [
             1,
             "#f0f921"
            ]
           ]
          },
          "colorway": [
           "#636efa",
           "#EF553B",
           "#00cc96",
           "#ab63fa",
           "#FFA15A",
           "#19d3f3",
           "#FF6692",
           "#B6E880",
           "#FF97FF",
           "#FECB52"
          ],
          "font": {
           "color": "#2a3f5f"
          },
          "geo": {
           "bgcolor": "white",
           "lakecolor": "white",
           "landcolor": "white",
           "showlakes": true,
           "showland": true,
           "subunitcolor": "#C8D4E3"
          },
          "hoverlabel": {
           "align": "left"
          },
          "hovermode": "closest",
          "mapbox": {
           "style": "light"
          },
          "paper_bgcolor": "white",
          "plot_bgcolor": "white",
          "polar": {
           "angularaxis": {
            "gridcolor": "#EBF0F8",
            "linecolor": "#EBF0F8",
            "ticks": ""
           },
           "bgcolor": "white",
           "radialaxis": {
            "gridcolor": "#EBF0F8",
            "linecolor": "#EBF0F8",
            "ticks": ""
           }
          },
          "scene": {
           "xaxis": {
            "backgroundcolor": "white",
            "gridcolor": "#DFE8F3",
            "gridwidth": 2,
            "linecolor": "#EBF0F8",
            "showbackground": true,
            "ticks": "",
            "zerolinecolor": "#EBF0F8"
           },
           "yaxis": {
            "backgroundcolor": "white",
            "gridcolor": "#DFE8F3",
            "gridwidth": 2,
            "linecolor": "#EBF0F8",
            "showbackground": true,
            "ticks": "",
            "zerolinecolor": "#EBF0F8"
           },
           "zaxis": {
            "backgroundcolor": "white",
            "gridcolor": "#DFE8F3",
            "gridwidth": 2,
            "linecolor": "#EBF0F8",
            "showbackground": true,
            "ticks": "",
            "zerolinecolor": "#EBF0F8"
           }
          },
          "shapedefaults": {
           "line": {
            "color": "#2a3f5f"
           }
          },
          "ternary": {
           "aaxis": {
            "gridcolor": "#DFE8F3",
            "linecolor": "#A2B1C6",
            "ticks": ""
           },
           "baxis": {
            "gridcolor": "#DFE8F3",
            "linecolor": "#A2B1C6",
            "ticks": ""
           },
           "bgcolor": "white",
           "caxis": {
            "gridcolor": "#DFE8F3",
            "linecolor": "#A2B1C6",
            "ticks": ""
           }
          },
          "title": {
           "x": 0.05
          },
          "xaxis": {
           "automargin": true,
           "gridcolor": "#EBF0F8",
           "linecolor": "#EBF0F8",
           "ticks": "",
           "title": {
            "standoff": 15
           },
           "zerolinecolor": "#EBF0F8",
           "zerolinewidth": 2
          },
          "yaxis": {
           "automargin": true,
           "gridcolor": "#EBF0F8",
           "linecolor": "#EBF0F8",
           "ticks": "",
           "title": {
            "standoff": 15
           },
           "zerolinecolor": "#EBF0F8",
           "zerolinewidth": 2
          }
         }
        },
        "title": {
         "text": "Predicted Market Regime Distribution for Q1 2025"
        },
        "xaxis": {
         "anchor": "y",
         "domain": [
          0,
          1
         ],
         "title": {
          "text": "Regime"
         }
        },
        "yaxis": {
         "anchor": "x",
         "domain": [
          0,
          1
         ],
         "title": {
          "text": "Number of Trading Days"
         }
        }
       }
      }
     },
     "metadata": {},
     "output_type": "display_data"
    },
    {
     "data": {
      "application/vnd.plotly.v1+json": {
       "config": {
        "plotlyServerURL": "https://plot.ly"
       },
       "data": [
        {
         "hovertemplate": "Day=%{x}<br>MonthName=%{y}<br>size=%{marker.size}<br>Predicted_Regime=%{marker.color}<extra></extra>",
         "legendgroup": "",
         "marker": {
          "color": {
           "bdata": "AAEBAQEBAQEBAQEBAgICAgIBAQAAAAAAAAAAAAAAAAAAAQEBAQICAgICAgICAgICAgICAQEBAQEBAQEB",
           "dtype": "i1"
          },
          "coloraxis": "coloraxis",
          "size": {
           "bdata": "CgoKCgoKCgoKCgoKCgoKCgoKCgoKCgoKCgoKCgoKCgoKCgoKCgoKCgoKCgoKCgoKCgoKCgoKCgoKCgoK",
           "dtype": "i1"
          },
          "sizemode": "area",
          "sizeref": 0.044444444444444446,
          "symbol": "circle"
         },
         "mode": "markers",
         "name": "",
         "orientation": "h",
         "showlegend": false,
         "type": "scatter",
         "x": {
          "bdata": "AgAAAAMAAAAGAAAABwAAAAgAAAAKAAAADQAAAA4AAAAPAAAAEAAAABEAAAAVAAAAFgAAABcAAAAYAAAAGwAAABwAAAAdAAAAHgAAAB8AAAADAAAABAAAAAUAAAAGAAAABwAAAAoAAAALAAAADAAAAA0AAAAOAAAAEgAAABMAAAAUAAAAFQAAABgAAAAZAAAAGgAAABsAAAAcAAAAAwAAAAQAAAAFAAAABgAAAAcAAAAKAAAACwAAAAwAAAANAAAADgAAABEAAAASAAAAEwAAABQAAAAVAAAAGAAAABkAAAAaAAAAGwAAABwAAAAfAAAA",
          "dtype": "i4"
         },
         "xaxis": "x",
         "y": [
          "Jan",
          "Jan",
          "Jan",
          "Jan",
          "Jan",
          "Jan",
          "Jan",
          "Jan",
          "Jan",
          "Jan",
          "Jan",
          "Jan",
          "Jan",
          "Jan",
          "Jan",
          "Jan",
          "Jan",
          "Jan",
          "Jan",
          "Jan",
          "Feb",
          "Feb",
          "Feb",
          "Feb",
          "Feb",
          "Feb",
          "Feb",
          "Feb",
          "Feb",
          "Feb",
          "Feb",
          "Feb",
          "Feb",
          "Feb",
          "Feb",
          "Feb",
          "Feb",
          "Feb",
          "Feb",
          "Mar",
          "Mar",
          "Mar",
          "Mar",
          "Mar",
          "Mar",
          "Mar",
          "Mar",
          "Mar",
          "Mar",
          "Mar",
          "Mar",
          "Mar",
          "Mar",
          "Mar",
          "Mar",
          "Mar",
          "Mar",
          "Mar",
          "Mar",
          "Mar"
         ],
         "yaxis": "y"
        }
       ],
       "layout": {
        "coloraxis": {
         "colorbar": {
          "title": {
           "text": "Predicted_Regime"
          }
         },
         "colorscale": [
          [
           0,
           "#0d0887"
          ],
          [
           0.1111111111111111,
           "#46039f"
          ],
          [
           0.2222222222222222,
           "#7201a8"
          ],
          [
           0.3333333333333333,
           "#9c179e"
          ],
          [
           0.4444444444444444,
           "#bd3786"
          ],
          [
           0.5555555555555556,
           "#d8576b"
          ],
          [
           0.6666666666666666,
           "#ed7953"
          ],
          [
           0.7777777777777778,
           "#fb9f3a"
          ],
          [
           0.8888888888888888,
           "#fdca26"
          ],
          [
           1,
           "#f0f921"
          ]
         ]
        },
        "legend": {
         "itemsizing": "constant",
         "tracegroupgap": 0
        },
        "template": {
         "data": {
          "bar": [
           {
            "error_x": {
             "color": "#2a3f5f"
            },
            "error_y": {
             "color": "#2a3f5f"
            },
            "marker": {
             "line": {
              "color": "white",
              "width": 0.5
             },
             "pattern": {
              "fillmode": "overlay",
              "size": 10,
              "solidity": 0.2
             }
            },
            "type": "bar"
           }
          ],
          "barpolar": [
           {
            "marker": {
             "line": {
              "color": "white",
              "width": 0.5
             },
             "pattern": {
              "fillmode": "overlay",
              "size": 10,
              "solidity": 0.2
             }
            },
            "type": "barpolar"
           }
          ],
          "carpet": [
           {
            "aaxis": {
             "endlinecolor": "#2a3f5f",
             "gridcolor": "#C8D4E3",
             "linecolor": "#C8D4E3",
             "minorgridcolor": "#C8D4E3",
             "startlinecolor": "#2a3f5f"
            },
            "baxis": {
             "endlinecolor": "#2a3f5f",
             "gridcolor": "#C8D4E3",
             "linecolor": "#C8D4E3",
             "minorgridcolor": "#C8D4E3",
             "startlinecolor": "#2a3f5f"
            },
            "type": "carpet"
           }
          ],
          "choropleth": [
           {
            "colorbar": {
             "outlinewidth": 0,
             "ticks": ""
            },
            "type": "choropleth"
           }
          ],
          "contour": [
           {
            "colorbar": {
             "outlinewidth": 0,
             "ticks": ""
            },
            "colorscale": [
             [
              0,
              "#0d0887"
             ],
             [
              0.1111111111111111,
              "#46039f"
             ],
             [
              0.2222222222222222,
              "#7201a8"
             ],
             [
              0.3333333333333333,
              "#9c179e"
             ],
             [
              0.4444444444444444,
              "#bd3786"
             ],
             [
              0.5555555555555556,
              "#d8576b"
             ],
             [
              0.6666666666666666,
              "#ed7953"
             ],
             [
              0.7777777777777778,
              "#fb9f3a"
             ],
             [
              0.8888888888888888,
              "#fdca26"
             ],
             [
              1,
              "#f0f921"
             ]
            ],
            "type": "contour"
           }
          ],
          "contourcarpet": [
           {
            "colorbar": {
             "outlinewidth": 0,
             "ticks": ""
            },
            "type": "contourcarpet"
           }
          ],
          "heatmap": [
           {
            "colorbar": {
             "outlinewidth": 0,
             "ticks": ""
            },
            "colorscale": [
             [
              0,
              "#0d0887"
             ],
             [
              0.1111111111111111,
              "#46039f"
             ],
             [
              0.2222222222222222,
              "#7201a8"
             ],
             [
              0.3333333333333333,
              "#9c179e"
             ],
             [
              0.4444444444444444,
              "#bd3786"
             ],
             [
              0.5555555555555556,
              "#d8576b"
             ],
             [
              0.6666666666666666,
              "#ed7953"
             ],
             [
              0.7777777777777778,
              "#fb9f3a"
             ],
             [
              0.8888888888888888,
              "#fdca26"
             ],
             [
              1,
              "#f0f921"
             ]
            ],
            "type": "heatmap"
           }
          ],
          "histogram": [
           {
            "marker": {
             "pattern": {
              "fillmode": "overlay",
              "size": 10,
              "solidity": 0.2
             }
            },
            "type": "histogram"
           }
          ],
          "histogram2d": [
           {
            "colorbar": {
             "outlinewidth": 0,
             "ticks": ""
            },
            "colorscale": [
             [
              0,
              "#0d0887"
             ],
             [
              0.1111111111111111,
              "#46039f"
             ],
             [
              0.2222222222222222,
              "#7201a8"
             ],
             [
              0.3333333333333333,
              "#9c179e"
             ],
             [
              0.4444444444444444,
              "#bd3786"
             ],
             [
              0.5555555555555556,
              "#d8576b"
             ],
             [
              0.6666666666666666,
              "#ed7953"
             ],
             [
              0.7777777777777778,
              "#fb9f3a"
             ],
             [
              0.8888888888888888,
              "#fdca26"
             ],
             [
              1,
              "#f0f921"
             ]
            ],
            "type": "histogram2d"
           }
          ],
          "histogram2dcontour": [
           {
            "colorbar": {
             "outlinewidth": 0,
             "ticks": ""
            },
            "colorscale": [
             [
              0,
              "#0d0887"
             ],
             [
              0.1111111111111111,
              "#46039f"
             ],
             [
              0.2222222222222222,
              "#7201a8"
             ],
             [
              0.3333333333333333,
              "#9c179e"
             ],
             [
              0.4444444444444444,
              "#bd3786"
             ],
             [
              0.5555555555555556,
              "#d8576b"
             ],
             [
              0.6666666666666666,
              "#ed7953"
             ],
             [
              0.7777777777777778,
              "#fb9f3a"
             ],
             [
              0.8888888888888888,
              "#fdca26"
             ],
             [
              1,
              "#f0f921"
             ]
            ],
            "type": "histogram2dcontour"
           }
          ],
          "mesh3d": [
           {
            "colorbar": {
             "outlinewidth": 0,
             "ticks": ""
            },
            "type": "mesh3d"
           }
          ],
          "parcoords": [
           {
            "line": {
             "colorbar": {
              "outlinewidth": 0,
              "ticks": ""
             }
            },
            "type": "parcoords"
           }
          ],
          "pie": [
           {
            "automargin": true,
            "type": "pie"
           }
          ],
          "scatter": [
           {
            "fillpattern": {
             "fillmode": "overlay",
             "size": 10,
             "solidity": 0.2
            },
            "type": "scatter"
           }
          ],
          "scatter3d": [
           {
            "line": {
             "colorbar": {
              "outlinewidth": 0,
              "ticks": ""
             }
            },
            "marker": {
             "colorbar": {
              "outlinewidth": 0,
              "ticks": ""
             }
            },
            "type": "scatter3d"
           }
          ],
          "scattercarpet": [
           {
            "marker": {
             "colorbar": {
              "outlinewidth": 0,
              "ticks": ""
             }
            },
            "type": "scattercarpet"
           }
          ],
          "scattergeo": [
           {
            "marker": {
             "colorbar": {
              "outlinewidth": 0,
              "ticks": ""
             }
            },
            "type": "scattergeo"
           }
          ],
          "scattergl": [
           {
            "marker": {
             "colorbar": {
              "outlinewidth": 0,
              "ticks": ""
             }
            },
            "type": "scattergl"
           }
          ],
          "scattermap": [
           {
            "marker": {
             "colorbar": {
              "outlinewidth": 0,
              "ticks": ""
             }
            },
            "type": "scattermap"
           }
          ],
          "scattermapbox": [
           {
            "marker": {
             "colorbar": {
              "outlinewidth": 0,
              "ticks": ""
             }
            },
            "type": "scattermapbox"
           }
          ],
          "scatterpolar": [
           {
            "marker": {
             "colorbar": {
              "outlinewidth": 0,
              "ticks": ""
             }
            },
            "type": "scatterpolar"
           }
          ],
          "scatterpolargl": [
           {
            "marker": {
             "colorbar": {
              "outlinewidth": 0,
              "ticks": ""
             }
            },
            "type": "scatterpolargl"
           }
          ],
          "scatterternary": [
           {
            "marker": {
             "colorbar": {
              "outlinewidth": 0,
              "ticks": ""
             }
            },
            "type": "scatterternary"
           }
          ],
          "surface": [
           {
            "colorbar": {
             "outlinewidth": 0,
             "ticks": ""
            },
            "colorscale": [
             [
              0,
              "#0d0887"
             ],
             [
              0.1111111111111111,
              "#46039f"
             ],
             [
              0.2222222222222222,
              "#7201a8"
             ],
             [
              0.3333333333333333,
              "#9c179e"
             ],
             [
              0.4444444444444444,
              "#bd3786"
             ],
             [
              0.5555555555555556,
              "#d8576b"
             ],
             [
              0.6666666666666666,
              "#ed7953"
             ],
             [
              0.7777777777777778,
              "#fb9f3a"
             ],
             [
              0.8888888888888888,
              "#fdca26"
             ],
             [
              1,
              "#f0f921"
             ]
            ],
            "type": "surface"
           }
          ],
          "table": [
           {
            "cells": {
             "fill": {
              "color": "#EBF0F8"
             },
             "line": {
              "color": "white"
             }
            },
            "header": {
             "fill": {
              "color": "#C8D4E3"
             },
             "line": {
              "color": "white"
             }
            },
            "type": "table"
           }
          ]
         },
         "layout": {
          "annotationdefaults": {
           "arrowcolor": "#2a3f5f",
           "arrowhead": 0,
           "arrowwidth": 1
          },
          "autotypenumbers": "strict",
          "coloraxis": {
           "colorbar": {
            "outlinewidth": 0,
            "ticks": ""
           }
          },
          "colorscale": {
           "diverging": [
            [
             0,
             "#8e0152"
            ],
            [
             0.1,
             "#c51b7d"
            ],
            [
             0.2,
             "#de77ae"
            ],
            [
             0.3,
             "#f1b6da"
            ],
            [
             0.4,
             "#fde0ef"
            ],
            [
             0.5,
             "#f7f7f7"
            ],
            [
             0.6,
             "#e6f5d0"
            ],
            [
             0.7,
             "#b8e186"
            ],
            [
             0.8,
             "#7fbc41"
            ],
            [
             0.9,
             "#4d9221"
            ],
            [
             1,
             "#276419"
            ]
           ],
           "sequential": [
            [
             0,
             "#0d0887"
            ],
            [
             0.1111111111111111,
             "#46039f"
            ],
            [
             0.2222222222222222,
             "#7201a8"
            ],
            [
             0.3333333333333333,
             "#9c179e"
            ],
            [
             0.4444444444444444,
             "#bd3786"
            ],
            [
             0.5555555555555556,
             "#d8576b"
            ],
            [
             0.6666666666666666,
             "#ed7953"
            ],
            [
             0.7777777777777778,
             "#fb9f3a"
            ],
            [
             0.8888888888888888,
             "#fdca26"
            ],
            [
             1,
             "#f0f921"
            ]
           ],
           "sequentialminus": [
            [
             0,
             "#0d0887"
            ],
            [
             0.1111111111111111,
             "#46039f"
            ],
            [
             0.2222222222222222,
             "#7201a8"
            ],
            [
             0.3333333333333333,
             "#9c179e"
            ],
            [
             0.4444444444444444,
             "#bd3786"
            ],
            [
             0.5555555555555556,
             "#d8576b"
            ],
            [
             0.6666666666666666,
             "#ed7953"
            ],
            [
             0.7777777777777778,
             "#fb9f3a"
            ],
            [
             0.8888888888888888,
             "#fdca26"
            ],
            [
             1,
             "#f0f921"
            ]
           ]
          },
          "colorway": [
           "#636efa",
           "#EF553B",
           "#00cc96",
           "#ab63fa",
           "#FFA15A",
           "#19d3f3",
           "#FF6692",
           "#B6E880",
           "#FF97FF",
           "#FECB52"
          ],
          "font": {
           "color": "#2a3f5f"
          },
          "geo": {
           "bgcolor": "white",
           "lakecolor": "white",
           "landcolor": "white",
           "showlakes": true,
           "showland": true,
           "subunitcolor": "#C8D4E3"
          },
          "hoverlabel": {
           "align": "left"
          },
          "hovermode": "closest",
          "mapbox": {
           "style": "light"
          },
          "paper_bgcolor": "white",
          "plot_bgcolor": "white",
          "polar": {
           "angularaxis": {
            "gridcolor": "#EBF0F8",
            "linecolor": "#EBF0F8",
            "ticks": ""
           },
           "bgcolor": "white",
           "radialaxis": {
            "gridcolor": "#EBF0F8",
            "linecolor": "#EBF0F8",
            "ticks": ""
           }
          },
          "scene": {
           "xaxis": {
            "backgroundcolor": "white",
            "gridcolor": "#DFE8F3",
            "gridwidth": 2,
            "linecolor": "#EBF0F8",
            "showbackground": true,
            "ticks": "",
            "zerolinecolor": "#EBF0F8"
           },
           "yaxis": {
            "backgroundcolor": "white",
            "gridcolor": "#DFE8F3",
            "gridwidth": 2,
            "linecolor": "#EBF0F8",
            "showbackground": true,
            "ticks": "",
            "zerolinecolor": "#EBF0F8"
           },
           "zaxis": {
            "backgroundcolor": "white",
            "gridcolor": "#DFE8F3",
            "gridwidth": 2,
            "linecolor": "#EBF0F8",
            "showbackground": true,
            "ticks": "",
            "zerolinecolor": "#EBF0F8"
           }
          },
          "shapedefaults": {
           "line": {
            "color": "#2a3f5f"
           }
          },
          "ternary": {
           "aaxis": {
            "gridcolor": "#DFE8F3",
            "linecolor": "#A2B1C6",
            "ticks": ""
           },
           "baxis": {
            "gridcolor": "#DFE8F3",
            "linecolor": "#A2B1C6",
            "ticks": ""
           },
           "bgcolor": "white",
           "caxis": {
            "gridcolor": "#DFE8F3",
            "linecolor": "#A2B1C6",
            "ticks": ""
           }
          },
          "title": {
           "x": 0.05
          },
          "xaxis": {
           "automargin": true,
           "gridcolor": "#EBF0F8",
           "linecolor": "#EBF0F8",
           "ticks": "",
           "title": {
            "standoff": 15
           },
           "zerolinecolor": "#EBF0F8",
           "zerolinewidth": 2
          },
          "yaxis": {
           "automargin": true,
           "gridcolor": "#EBF0F8",
           "linecolor": "#EBF0F8",
           "ticks": "",
           "title": {
            "standoff": 15
           },
           "zerolinecolor": "#EBF0F8",
           "zerolinewidth": 2
          }
         }
        },
        "title": {
         "text": "Calendar View of Predicted Regimes for Q1 2025"
        },
        "xaxis": {
         "anchor": "y",
         "domain": [
          0,
          1
         ],
         "title": {
          "text": "Day of Month"
         }
        },
        "yaxis": {
         "anchor": "x",
         "categoryarray": [
          "Jan",
          "Feb",
          "Mar"
         ],
         "categoryorder": "array",
         "domain": [
          0,
          1
         ],
         "title": {
          "text": "Month"
         }
        }
       }
      }
     },
     "metadata": {},
     "output_type": "display_data"
    }
   ],
   "source": [
    "# Example 3: Predict regimes for future dates (Q1 2025)\n",
    "future_start = \"2025-01-01\"\n",
    "future_end = \"2025-03-31\"\n",
    "\n",
    "future_results = predict_regimes(model, df, future_start, future_end)\n",
    "\n",
    "# Display predictions for future dates\n",
    "if future_results is not None and not future_results.empty:\n",
    "    print(\"\\nPredicted regimes for Q1 2025:\")\n",
    "    display(future_results.head())\n",
    "\n",
    "    # Visualize the distribution of predicted regimes for Q1 2025 with Plotly\n",
    "    regime_counts = future_results['Predicted_Regime'].value_counts().reset_index()\n",
    "    regime_counts.columns = ['Regime', 'Count']\n",
    "    \n",
    "    fig_bar = px.bar(\n",
    "        regime_counts, \n",
    "        x='Regime', \n",
    "        y='Count',\n",
    "        color='Regime',\n",
    "        color_discrete_sequence=regime_colors,\n",
    "        title='Predicted Market Regime Distribution for Q1 2025',\n",
    "        text='Count'\n",
    "    )\n",
    "    \n",
    "    fig_bar.update_layout(\n",
    "        xaxis_title='Regime',\n",
    "        yaxis_title='Number of Trading Days',\n",
    "        template='plotly_white',\n",
    "        showlegend=False\n",
    "    )\n",
    "    \n",
    "    fig_bar.update_traces(textposition='outside')\n",
    "    fig_bar.show()\n",
    "    \n",
    "    # Create a calendar heatmap to visualize regimes by day\n",
    "    regime_cal_data = future_results.copy()\n",
    "    regime_cal_data['Day'] = regime_cal_data['Date'].dt.day\n",
    "    regime_cal_data['Month'] = regime_cal_data['Date'].dt.month\n",
    "    regime_cal_data['MonthName'] = regime_cal_data['Date'].dt.strftime('%b')\n",
    "    \n",
    "    # Create a calendar heatmap\n",
    "    fig_cal = px.scatter(\n",
    "        regime_cal_data,\n",
    "        x='Day', \n",
    "        y='MonthName',\n",
    "        color='Predicted_Regime',\n",
    "        color_discrete_sequence=regime_colors,\n",
    "        title='Calendar View of Predicted Regimes for Q1 2025',\n",
    "        size_max=15,\n",
    "        size=[10] * len(regime_cal_data)  # Fixed size for all points\n",
    "    )\n",
    "    \n",
    "    fig_cal.update_layout(\n",
    "        xaxis_title='Day of Month',\n",
    "        yaxis_title='Month',\n",
    "        yaxis=dict(\n",
    "            categoryorder='array',\n",
    "            categoryarray=['Jan', 'Feb', 'Mar']\n",
    "        ),\n",
    "        template='plotly_white'\n",
    "    )\n",
    "    \n",
    "    fig_cal.show()"
   ]
  },
  {
   "cell_type": "code",
   "execution_count": 119,
   "metadata": {},
   "outputs": [],
   "source": [
    "# Function to create a custom prediction for any date range with Plotly visualizations\n",
    "def custom_regime_prediction(start_date, end_date):\n",
    "    \"\"\"\n",
    "    Predict regimes for a custom date range\n",
    "    \n",
    "    Parameters:\n",
    "    -----------\n",
    "    start_date : str\n",
    "        Start date in 'YYYY-MM-DD' format\n",
    "    end_date : str\n",
    "        End date in 'YYYY-MM-DD' format\n",
    "    \"\"\"\n",
    "    results = predict_regimes(model, df, start_date, end_date)\n",
    "    \n",
    "    if results is None or results.empty:\n",
    "        return None\n",
    "    \n",
    "    # Visualize the results with Plotly\n",
    "    fig = px.scatter(\n",
    "        results, \n",
    "        x='Date', \n",
    "        y='Close', \n",
    "        color='Predicted_Regime',\n",
    "        color_discrete_sequence=regime_colors,\n",
    "        title=f'Market Regimes from {start_date} to {end_date}',\n",
    "        labels={'Close': 'Price', 'Date': 'Date', 'Predicted_Regime': 'Market Regime'},\n",
    "        height=600,\n",
    "        opacity=0.8\n",
    "    )\n",
    "    \n",
    "    fig.update_layout(\n",
    "        xaxis_title='Date',\n",
    "        yaxis_title='Price',\n",
    "        legend_title='Regime',\n",
    "        hovermode='closest',\n",
    "        template='plotly_white'\n",
    "    )\n",
    "    \n",
    "    fig.show()\n",
    "    \n",
    "    # Add additional visualizations\n",
    "    \n",
    "    # 1. Distribution of regimes\n",
    "    regime_counts = results['Predicted_Regime'].value_counts().reset_index()\n",
    "    regime_counts.columns = ['Regime', 'Count']\n",
    "    \n",
    "    fig_bar = px.bar(\n",
    "        regime_counts, \n",
    "        x='Regime', \n",
    "        y='Count',\n",
    "        color='Regime',\n",
    "        color_discrete_sequence=regime_colors,\n",
    "        title=f'Regime Distribution ({start_date} to {end_date})',\n",
    "        text='Count'\n",
    "    )\n",
    "    \n",
    "    fig_bar.update_layout(\n",
    "        xaxis_title='Regime',\n",
    "        yaxis_title='Number of Days',\n",
    "        template='plotly_white',\n",
    "        showlegend=False\n",
    "    )\n",
    "    \n",
    "    fig_bar.update_traces(textposition='outside')\n",
    "    fig_bar.show()\n",
    "    \n",
    "    # 2. Volatility vs Return colored by regime\n",
    "    fig_vr = px.scatter(\n",
    "        results,\n",
    "        x='Volatility',\n",
    "        y='Return',\n",
    "        color='Predicted_Regime',\n",
    "        color_discrete_sequence=regime_colors,\n",
    "        title=f'Volatility vs Return by Regime ({start_date} to {end_date})',\n",
    "        labels={'Volatility': 'Volatility', 'Return': 'Return (%)'},\n",
    "        opacity=0.8\n",
    "    )\n",
    "    \n",
    "    fig_vr.update_layout(\n",
    "        legend_title='Regime',\n",
    "        hovermode='closest',\n",
    "        template='plotly_white'\n",
    "    )\n",
    "    \n",
    "    fig_vr.update_xaxes(rangemode='tozero')\n",
    "    fig_vr.show()\n",
    "    \n",
    "    return results\n",
    "\n",
    "# Example usage - uncomment and modify dates as needed:\n",
    "# custom_results = custom_regime_prediction(\"2020-03-01\", \"2020-06-30\")  # COVID-19 market crash period"
   ]
  },
  {
   "cell_type": "code",
   "execution_count": 120,
   "metadata": {},
   "outputs": [
    {
     "name": "stdout",
     "output_type": "stream",
     "text": [
      "HMM Market Regime Summary (Training Period: 2007-2017)\n"
     ]
    },
    {
     "data": {
      "application/vnd.microsoft.datawrangler.viewer.v0+json": {
       "columns": [
        {
         "name": "index",
         "rawType": "int64",
         "type": "integer"
        },
        {
         "name": "Regime",
         "rawType": "int64",
         "type": "integer"
        },
        {
         "name": "Average_Volatility",
         "rawType": "float64",
         "type": "float"
        },
        {
         "name": "Average_Return",
         "rawType": "float64",
         "type": "float"
        },
        {
         "name": "Occurrence_Count",
         "rawType": "int64",
         "type": "integer"
        },
        {
         "name": "Occurrence_Percentage",
         "rawType": "float64",
         "type": "float"
        }
       ],
       "conversionMethod": "pd.DataFrame",
       "ref": "a78c8318-61e8-4f28-b2bb-f5e4c7c65321",
       "rows": [
        [
         "0",
         "0",
         "9.178382289015254",
         "0.11619144311037989",
         "586",
         "46.5818759936407"
        ],
        [
         "1",
         "1",
         "33.32243492762282",
         "0.05294329672172074",
         "528",
         "41.971383147853736"
        ],
        [
         "2",
         "2",
         "120.87016427923929",
         "-0.12134007176305242",
         "144",
         "11.446740858505565"
        ]
       ],
       "shape": {
        "columns": 5,
        "rows": 3
       }
      },
      "text/html": [
       "<div>\n",
       "<style scoped>\n",
       "    .dataframe tbody tr th:only-of-type {\n",
       "        vertical-align: middle;\n",
       "    }\n",
       "\n",
       "    .dataframe tbody tr th {\n",
       "        vertical-align: top;\n",
       "    }\n",
       "\n",
       "    .dataframe thead th {\n",
       "        text-align: right;\n",
       "    }\n",
       "</style>\n",
       "<table border=\"1\" class=\"dataframe\">\n",
       "  <thead>\n",
       "    <tr style=\"text-align: right;\">\n",
       "      <th></th>\n",
       "      <th>Regime</th>\n",
       "      <th>Average_Volatility</th>\n",
       "      <th>Average_Return</th>\n",
       "      <th>Occurrence_Count</th>\n",
       "      <th>Occurrence_Percentage</th>\n",
       "    </tr>\n",
       "  </thead>\n",
       "  <tbody>\n",
       "    <tr>\n",
       "      <th>0</th>\n",
       "      <td>0</td>\n",
       "      <td>9.178382</td>\n",
       "      <td>0.116191</td>\n",
       "      <td>586</td>\n",
       "      <td>46.581876</td>\n",
       "    </tr>\n",
       "    <tr>\n",
       "      <th>1</th>\n",
       "      <td>1</td>\n",
       "      <td>33.322435</td>\n",
       "      <td>0.052943</td>\n",
       "      <td>528</td>\n",
       "      <td>41.971383</td>\n",
       "    </tr>\n",
       "    <tr>\n",
       "      <th>2</th>\n",
       "      <td>2</td>\n",
       "      <td>120.870164</td>\n",
       "      <td>-0.121340</td>\n",
       "      <td>144</td>\n",
       "      <td>11.446741</td>\n",
       "    </tr>\n",
       "  </tbody>\n",
       "</table>\n",
       "</div>"
      ],
      "text/plain": [
       "   Regime  Average_Volatility  Average_Return  Occurrence_Count  \\\n",
       "0       0            9.178382        0.116191               586   \n",
       "1       1           33.322435        0.052943               528   \n",
       "2       2          120.870164       -0.121340               144   \n",
       "\n",
       "   Occurrence_Percentage  \n",
       "0              46.581876  \n",
       "1              41.971383  \n",
       "2              11.446741  "
      ]
     },
     "metadata": {},
     "output_type": "display_data"
    },
    {
     "name": "stdout",
     "output_type": "stream",
     "text": [
      "\n",
      "Market Regime Interpretation:\n",
      "Regime 0: Volatile Growth (High Volatility, Positive Returns)\n",
      "Regime 1: Volatile Growth (High Volatility, Positive Returns)\n",
      "Regime 2: Bear Market (High Volatility, Negative Returns)\n"
     ]
    },
    {
     "data": {
      "application/vnd.plotly.v1+json": {
       "config": {
        "plotlyServerURL": "https://plot.ly"
       },
       "data": [
        {
         "fill": "toself",
         "line": {
          "color": "rgb(102,194,165)"
         },
         "name": "Regime 0",
         "r": [
          7.593587998946516,
          100,
          100
         ],
         "theta": [
          "Volatility",
          "Return",
          "Frequency"
         ],
         "type": "scatterpolar"
        },
        {
         "fill": "toself",
         "line": {
          "color": "rgb(252,141,98)"
         },
         "name": "Regime 1",
         "r": [
          27.568784345026575,
          73.37273480432242,
          90.10238907849829
         ],
         "theta": [
          "Volatility",
          "Return",
          "Frequency"
         ],
         "type": "scatterpolar"
        },
        {
         "fill": "toself",
         "line": {
          "color": "rgb(141,160,203)"
         },
         "name": "Regime 2",
         "r": [
          100,
          0,
          24.573378839590443
         ],
         "theta": [
          "Volatility",
          "Return",
          "Frequency"
         ],
         "type": "scatterpolar"
        }
       ],
       "layout": {
        "polar": {
         "radialaxis": {
          "range": [
           0,
           100
          ],
          "visible": true
         }
        },
        "showlegend": true,
        "template": {
         "data": {
          "bar": [
           {
            "error_x": {
             "color": "#2a3f5f"
            },
            "error_y": {
             "color": "#2a3f5f"
            },
            "marker": {
             "line": {
              "color": "white",
              "width": 0.5
             },
             "pattern": {
              "fillmode": "overlay",
              "size": 10,
              "solidity": 0.2
             }
            },
            "type": "bar"
           }
          ],
          "barpolar": [
           {
            "marker": {
             "line": {
              "color": "white",
              "width": 0.5
             },
             "pattern": {
              "fillmode": "overlay",
              "size": 10,
              "solidity": 0.2
             }
            },
            "type": "barpolar"
           }
          ],
          "carpet": [
           {
            "aaxis": {
             "endlinecolor": "#2a3f5f",
             "gridcolor": "#C8D4E3",
             "linecolor": "#C8D4E3",
             "minorgridcolor": "#C8D4E3",
             "startlinecolor": "#2a3f5f"
            },
            "baxis": {
             "endlinecolor": "#2a3f5f",
             "gridcolor": "#C8D4E3",
             "linecolor": "#C8D4E3",
             "minorgridcolor": "#C8D4E3",
             "startlinecolor": "#2a3f5f"
            },
            "type": "carpet"
           }
          ],
          "choropleth": [
           {
            "colorbar": {
             "outlinewidth": 0,
             "ticks": ""
            },
            "type": "choropleth"
           }
          ],
          "contour": [
           {
            "colorbar": {
             "outlinewidth": 0,
             "ticks": ""
            },
            "colorscale": [
             [
              0,
              "#0d0887"
             ],
             [
              0.1111111111111111,
              "#46039f"
             ],
             [
              0.2222222222222222,
              "#7201a8"
             ],
             [
              0.3333333333333333,
              "#9c179e"
             ],
             [
              0.4444444444444444,
              "#bd3786"
             ],
             [
              0.5555555555555556,
              "#d8576b"
             ],
             [
              0.6666666666666666,
              "#ed7953"
             ],
             [
              0.7777777777777778,
              "#fb9f3a"
             ],
             [
              0.8888888888888888,
              "#fdca26"
             ],
             [
              1,
              "#f0f921"
             ]
            ],
            "type": "contour"
           }
          ],
          "contourcarpet": [
           {
            "colorbar": {
             "outlinewidth": 0,
             "ticks": ""
            },
            "type": "contourcarpet"
           }
          ],
          "heatmap": [
           {
            "colorbar": {
             "outlinewidth": 0,
             "ticks": ""
            },
            "colorscale": [
             [
              0,
              "#0d0887"
             ],
             [
              0.1111111111111111,
              "#46039f"
             ],
             [
              0.2222222222222222,
              "#7201a8"
             ],
             [
              0.3333333333333333,
              "#9c179e"
             ],
             [
              0.4444444444444444,
              "#bd3786"
             ],
             [
              0.5555555555555556,
              "#d8576b"
             ],
             [
              0.6666666666666666,
              "#ed7953"
             ],
             [
              0.7777777777777778,
              "#fb9f3a"
             ],
             [
              0.8888888888888888,
              "#fdca26"
             ],
             [
              1,
              "#f0f921"
             ]
            ],
            "type": "heatmap"
           }
          ],
          "histogram": [
           {
            "marker": {
             "pattern": {
              "fillmode": "overlay",
              "size": 10,
              "solidity": 0.2
             }
            },
            "type": "histogram"
           }
          ],
          "histogram2d": [
           {
            "colorbar": {
             "outlinewidth": 0,
             "ticks": ""
            },
            "colorscale": [
             [
              0,
              "#0d0887"
             ],
             [
              0.1111111111111111,
              "#46039f"
             ],
             [
              0.2222222222222222,
              "#7201a8"
             ],
             [
              0.3333333333333333,
              "#9c179e"
             ],
             [
              0.4444444444444444,
              "#bd3786"
             ],
             [
              0.5555555555555556,
              "#d8576b"
             ],
             [
              0.6666666666666666,
              "#ed7953"
             ],
             [
              0.7777777777777778,
              "#fb9f3a"
             ],
             [
              0.8888888888888888,
              "#fdca26"
             ],
             [
              1,
              "#f0f921"
             ]
            ],
            "type": "histogram2d"
           }
          ],
          "histogram2dcontour": [
           {
            "colorbar": {
             "outlinewidth": 0,
             "ticks": ""
            },
            "colorscale": [
             [
              0,
              "#0d0887"
             ],
             [
              0.1111111111111111,
              "#46039f"
             ],
             [
              0.2222222222222222,
              "#7201a8"
             ],
             [
              0.3333333333333333,
              "#9c179e"
             ],
             [
              0.4444444444444444,
              "#bd3786"
             ],
             [
              0.5555555555555556,
              "#d8576b"
             ],
             [
              0.6666666666666666,
              "#ed7953"
             ],
             [
              0.7777777777777778,
              "#fb9f3a"
             ],
             [
              0.8888888888888888,
              "#fdca26"
             ],
             [
              1,
              "#f0f921"
             ]
            ],
            "type": "histogram2dcontour"
           }
          ],
          "mesh3d": [
           {
            "colorbar": {
             "outlinewidth": 0,
             "ticks": ""
            },
            "type": "mesh3d"
           }
          ],
          "parcoords": [
           {
            "line": {
             "colorbar": {
              "outlinewidth": 0,
              "ticks": ""
             }
            },
            "type": "parcoords"
           }
          ],
          "pie": [
           {
            "automargin": true,
            "type": "pie"
           }
          ],
          "scatter": [
           {
            "fillpattern": {
             "fillmode": "overlay",
             "size": 10,
             "solidity": 0.2
            },
            "type": "scatter"
           }
          ],
          "scatter3d": [
           {
            "line": {
             "colorbar": {
              "outlinewidth": 0,
              "ticks": ""
             }
            },
            "marker": {
             "colorbar": {
              "outlinewidth": 0,
              "ticks": ""
             }
            },
            "type": "scatter3d"
           }
          ],
          "scattercarpet": [
           {
            "marker": {
             "colorbar": {
              "outlinewidth": 0,
              "ticks": ""
             }
            },
            "type": "scattercarpet"
           }
          ],
          "scattergeo": [
           {
            "marker": {
             "colorbar": {
              "outlinewidth": 0,
              "ticks": ""
             }
            },
            "type": "scattergeo"
           }
          ],
          "scattergl": [
           {
            "marker": {
             "colorbar": {
              "outlinewidth": 0,
              "ticks": ""
             }
            },
            "type": "scattergl"
           }
          ],
          "scattermap": [
           {
            "marker": {
             "colorbar": {
              "outlinewidth": 0,
              "ticks": ""
             }
            },
            "type": "scattermap"
           }
          ],
          "scattermapbox": [
           {
            "marker": {
             "colorbar": {
              "outlinewidth": 0,
              "ticks": ""
             }
            },
            "type": "scattermapbox"
           }
          ],
          "scatterpolar": [
           {
            "marker": {
             "colorbar": {
              "outlinewidth": 0,
              "ticks": ""
             }
            },
            "type": "scatterpolar"
           }
          ],
          "scatterpolargl": [
           {
            "marker": {
             "colorbar": {
              "outlinewidth": 0,
              "ticks": ""
             }
            },
            "type": "scatterpolargl"
           }
          ],
          "scatterternary": [
           {
            "marker": {
             "colorbar": {
              "outlinewidth": 0,
              "ticks": ""
             }
            },
            "type": "scatterternary"
           }
          ],
          "surface": [
           {
            "colorbar": {
             "outlinewidth": 0,
             "ticks": ""
            },
            "colorscale": [
             [
              0,
              "#0d0887"
             ],
             [
              0.1111111111111111,
              "#46039f"
             ],
             [
              0.2222222222222222,
              "#7201a8"
             ],
             [
              0.3333333333333333,
              "#9c179e"
             ],
             [
              0.4444444444444444,
              "#bd3786"
             ],
             [
              0.5555555555555556,
              "#d8576b"
             ],
             [
              0.6666666666666666,
              "#ed7953"
             ],
             [
              0.7777777777777778,
              "#fb9f3a"
             ],
             [
              0.8888888888888888,
              "#fdca26"
             ],
             [
              1,
              "#f0f921"
             ]
            ],
            "type": "surface"
           }
          ],
          "table": [
           {
            "cells": {
             "fill": {
              "color": "#EBF0F8"
             },
             "line": {
              "color": "white"
             }
            },
            "header": {
             "fill": {
              "color": "#C8D4E3"
             },
             "line": {
              "color": "white"
             }
            },
            "type": "table"
           }
          ]
         },
         "layout": {
          "annotationdefaults": {
           "arrowcolor": "#2a3f5f",
           "arrowhead": 0,
           "arrowwidth": 1
          },
          "autotypenumbers": "strict",
          "coloraxis": {
           "colorbar": {
            "outlinewidth": 0,
            "ticks": ""
           }
          },
          "colorscale": {
           "diverging": [
            [
             0,
             "#8e0152"
            ],
            [
             0.1,
             "#c51b7d"
            ],
            [
             0.2,
             "#de77ae"
            ],
            [
             0.3,
             "#f1b6da"
            ],
            [
             0.4,
             "#fde0ef"
            ],
            [
             0.5,
             "#f7f7f7"
            ],
            [
             0.6,
             "#e6f5d0"
            ],
            [
             0.7,
             "#b8e186"
            ],
            [
             0.8,
             "#7fbc41"
            ],
            [
             0.9,
             "#4d9221"
            ],
            [
             1,
             "#276419"
            ]
           ],
           "sequential": [
            [
             0,
             "#0d0887"
            ],
            [
             0.1111111111111111,
             "#46039f"
            ],
            [
             0.2222222222222222,
             "#7201a8"
            ],
            [
             0.3333333333333333,
             "#9c179e"
            ],
            [
             0.4444444444444444,
             "#bd3786"
            ],
            [
             0.5555555555555556,
             "#d8576b"
            ],
            [
             0.6666666666666666,
             "#ed7953"
            ],
            [
             0.7777777777777778,
             "#fb9f3a"
            ],
            [
             0.8888888888888888,
             "#fdca26"
            ],
            [
             1,
             "#f0f921"
            ]
           ],
           "sequentialminus": [
            [
             0,
             "#0d0887"
            ],
            [
             0.1111111111111111,
             "#46039f"
            ],
            [
             0.2222222222222222,
             "#7201a8"
            ],
            [
             0.3333333333333333,
             "#9c179e"
            ],
            [
             0.4444444444444444,
             "#bd3786"
            ],
            [
             0.5555555555555556,
             "#d8576b"
            ],
            [
             0.6666666666666666,
             "#ed7953"
            ],
            [
             0.7777777777777778,
             "#fb9f3a"
            ],
            [
             0.8888888888888888,
             "#fdca26"
            ],
            [
             1,
             "#f0f921"
            ]
           ]
          },
          "colorway": [
           "#636efa",
           "#EF553B",
           "#00cc96",
           "#ab63fa",
           "#FFA15A",
           "#19d3f3",
           "#FF6692",
           "#B6E880",
           "#FF97FF",
           "#FECB52"
          ],
          "font": {
           "color": "#2a3f5f"
          },
          "geo": {
           "bgcolor": "white",
           "lakecolor": "white",
           "landcolor": "white",
           "showlakes": true,
           "showland": true,
           "subunitcolor": "#C8D4E3"
          },
          "hoverlabel": {
           "align": "left"
          },
          "hovermode": "closest",
          "mapbox": {
           "style": "light"
          },
          "paper_bgcolor": "white",
          "plot_bgcolor": "white",
          "polar": {
           "angularaxis": {
            "gridcolor": "#EBF0F8",
            "linecolor": "#EBF0F8",
            "ticks": ""
           },
           "bgcolor": "white",
           "radialaxis": {
            "gridcolor": "#EBF0F8",
            "linecolor": "#EBF0F8",
            "ticks": ""
           }
          },
          "scene": {
           "xaxis": {
            "backgroundcolor": "white",
            "gridcolor": "#DFE8F3",
            "gridwidth": 2,
            "linecolor": "#EBF0F8",
            "showbackground": true,
            "ticks": "",
            "zerolinecolor": "#EBF0F8"
           },
           "yaxis": {
            "backgroundcolor": "white",
            "gridcolor": "#DFE8F3",
            "gridwidth": 2,
            "linecolor": "#EBF0F8",
            "showbackground": true,
            "ticks": "",
            "zerolinecolor": "#EBF0F8"
           },
           "zaxis": {
            "backgroundcolor": "white",
            "gridcolor": "#DFE8F3",
            "gridwidth": 2,
            "linecolor": "#EBF0F8",
            "showbackground": true,
            "ticks": "",
            "zerolinecolor": "#EBF0F8"
           }
          },
          "shapedefaults": {
           "line": {
            "color": "#2a3f5f"
           }
          },
          "ternary": {
           "aaxis": {
            "gridcolor": "#DFE8F3",
            "linecolor": "#A2B1C6",
            "ticks": ""
           },
           "baxis": {
            "gridcolor": "#DFE8F3",
            "linecolor": "#A2B1C6",
            "ticks": ""
           },
           "bgcolor": "white",
           "caxis": {
            "gridcolor": "#DFE8F3",
            "linecolor": "#A2B1C6",
            "ticks": ""
           }
          },
          "title": {
           "x": 0.05
          },
          "xaxis": {
           "automargin": true,
           "gridcolor": "#EBF0F8",
           "linecolor": "#EBF0F8",
           "ticks": "",
           "title": {
            "standoff": 15
           },
           "zerolinecolor": "#EBF0F8",
           "zerolinewidth": 2
          },
          "yaxis": {
           "automargin": true,
           "gridcolor": "#EBF0F8",
           "linecolor": "#EBF0F8",
           "ticks": "",
           "title": {
            "standoff": 15
           },
           "zerolinecolor": "#EBF0F8",
           "zerolinewidth": 2
          }
         }
        },
        "title": {
         "text": "Regime Characteristics Comparison"
        }
       }
      }
     },
     "metadata": {},
     "output_type": "display_data"
    },
    {
     "data": {
      "application/vnd.plotly.v1+json": {
       "config": {
        "plotlyServerURL": "https://plot.ly"
       },
       "data": [
        {
         "hovertemplate": "Average Volatility=%{x}<br>Average Return (%)=%{y}<br>Occurrence Count=%{marker.size}<br>text=%{text}<br>color=%{marker.color}<extra></extra>",
         "legendgroup": "",
         "marker": {
          "color": {
           "bdata": "AAEC",
           "dtype": "i1"
          },
          "coloraxis": "coloraxis",
          "size": {
           "bdata": "SgIQApAA",
           "dtype": "i2"
          },
          "sizemode": "area",
          "sizeref": 1.465,
          "symbol": "circle"
         },
         "mode": "markers+text",
         "name": "",
         "orientation": "v",
         "showlegend": false,
         "text": [
          "Regime 0",
          "Regime 1",
          "Regime 2"
         ],
         "textposition": "top center",
         "type": "scatter",
         "x": {
          "bdata": "JANj7FRbIkA0nTaMRalAQLtehMWwN15A",
          "dtype": "f8"
         },
         "xaxis": "x",
         "y": {
          "bdata": "se878Li+vT9kp+w/YhurP4Km6pckEL+/",
          "dtype": "f8"
         },
         "yaxis": "y"
        }
       ],
       "layout": {
        "coloraxis": {
         "colorbar": {
          "title": {
           "text": "color"
          }
         },
         "colorscale": [
          [
           0,
           "#0d0887"
          ],
          [
           0.1111111111111111,
           "#46039f"
          ],
          [
           0.2222222222222222,
           "#7201a8"
          ],
          [
           0.3333333333333333,
           "#9c179e"
          ],
          [
           0.4444444444444444,
           "#bd3786"
          ],
          [
           0.5555555555555556,
           "#d8576b"
          ],
          [
           0.6666666666666666,
           "#ed7953"
          ],
          [
           0.7777777777777778,
           "#fb9f3a"
          ],
          [
           0.8888888888888888,
           "#fdca26"
          ],
          [
           1,
           "#f0f921"
          ]
         ]
        },
        "legend": {
         "itemsizing": "constant",
         "tracegroupgap": 0
        },
        "template": {
         "data": {
          "bar": [
           {
            "error_x": {
             "color": "#2a3f5f"
            },
            "error_y": {
             "color": "#2a3f5f"
            },
            "marker": {
             "line": {
              "color": "white",
              "width": 0.5
             },
             "pattern": {
              "fillmode": "overlay",
              "size": 10,
              "solidity": 0.2
             }
            },
            "type": "bar"
           }
          ],
          "barpolar": [
           {
            "marker": {
             "line": {
              "color": "white",
              "width": 0.5
             },
             "pattern": {
              "fillmode": "overlay",
              "size": 10,
              "solidity": 0.2
             }
            },
            "type": "barpolar"
           }
          ],
          "carpet": [
           {
            "aaxis": {
             "endlinecolor": "#2a3f5f",
             "gridcolor": "#C8D4E3",
             "linecolor": "#C8D4E3",
             "minorgridcolor": "#C8D4E3",
             "startlinecolor": "#2a3f5f"
            },
            "baxis": {
             "endlinecolor": "#2a3f5f",
             "gridcolor": "#C8D4E3",
             "linecolor": "#C8D4E3",
             "minorgridcolor": "#C8D4E3",
             "startlinecolor": "#2a3f5f"
            },
            "type": "carpet"
           }
          ],
          "choropleth": [
           {
            "colorbar": {
             "outlinewidth": 0,
             "ticks": ""
            },
            "type": "choropleth"
           }
          ],
          "contour": [
           {
            "colorbar": {
             "outlinewidth": 0,
             "ticks": ""
            },
            "colorscale": [
             [
              0,
              "#0d0887"
             ],
             [
              0.1111111111111111,
              "#46039f"
             ],
             [
              0.2222222222222222,
              "#7201a8"
             ],
             [
              0.3333333333333333,
              "#9c179e"
             ],
             [
              0.4444444444444444,
              "#bd3786"
             ],
             [
              0.5555555555555556,
              "#d8576b"
             ],
             [
              0.6666666666666666,
              "#ed7953"
             ],
             [
              0.7777777777777778,
              "#fb9f3a"
             ],
             [
              0.8888888888888888,
              "#fdca26"
             ],
             [
              1,
              "#f0f921"
             ]
            ],
            "type": "contour"
           }
          ],
          "contourcarpet": [
           {
            "colorbar": {
             "outlinewidth": 0,
             "ticks": ""
            },
            "type": "contourcarpet"
           }
          ],
          "heatmap": [
           {
            "colorbar": {
             "outlinewidth": 0,
             "ticks": ""
            },
            "colorscale": [
             [
              0,
              "#0d0887"
             ],
             [
              0.1111111111111111,
              "#46039f"
             ],
             [
              0.2222222222222222,
              "#7201a8"
             ],
             [
              0.3333333333333333,
              "#9c179e"
             ],
             [
              0.4444444444444444,
              "#bd3786"
             ],
             [
              0.5555555555555556,
              "#d8576b"
             ],
             [
              0.6666666666666666,
              "#ed7953"
             ],
             [
              0.7777777777777778,
              "#fb9f3a"
             ],
             [
              0.8888888888888888,
              "#fdca26"
             ],
             [
              1,
              "#f0f921"
             ]
            ],
            "type": "heatmap"
           }
          ],
          "histogram": [
           {
            "marker": {
             "pattern": {
              "fillmode": "overlay",
              "size": 10,
              "solidity": 0.2
             }
            },
            "type": "histogram"
           }
          ],
          "histogram2d": [
           {
            "colorbar": {
             "outlinewidth": 0,
             "ticks": ""
            },
            "colorscale": [
             [
              0,
              "#0d0887"
             ],
             [
              0.1111111111111111,
              "#46039f"
             ],
             [
              0.2222222222222222,
              "#7201a8"
             ],
             [
              0.3333333333333333,
              "#9c179e"
             ],
             [
              0.4444444444444444,
              "#bd3786"
             ],
             [
              0.5555555555555556,
              "#d8576b"
             ],
             [
              0.6666666666666666,
              "#ed7953"
             ],
             [
              0.7777777777777778,
              "#fb9f3a"
             ],
             [
              0.8888888888888888,
              "#fdca26"
             ],
             [
              1,
              "#f0f921"
             ]
            ],
            "type": "histogram2d"
           }
          ],
          "histogram2dcontour": [
           {
            "colorbar": {
             "outlinewidth": 0,
             "ticks": ""
            },
            "colorscale": [
             [
              0,
              "#0d0887"
             ],
             [
              0.1111111111111111,
              "#46039f"
             ],
             [
              0.2222222222222222,
              "#7201a8"
             ],
             [
              0.3333333333333333,
              "#9c179e"
             ],
             [
              0.4444444444444444,
              "#bd3786"
             ],
             [
              0.5555555555555556,
              "#d8576b"
             ],
             [
              0.6666666666666666,
              "#ed7953"
             ],
             [
              0.7777777777777778,
              "#fb9f3a"
             ],
             [
              0.8888888888888888,
              "#fdca26"
             ],
             [
              1,
              "#f0f921"
             ]
            ],
            "type": "histogram2dcontour"
           }
          ],
          "mesh3d": [
           {
            "colorbar": {
             "outlinewidth": 0,
             "ticks": ""
            },
            "type": "mesh3d"
           }
          ],
          "parcoords": [
           {
            "line": {
             "colorbar": {
              "outlinewidth": 0,
              "ticks": ""
             }
            },
            "type": "parcoords"
           }
          ],
          "pie": [
           {
            "automargin": true,
            "type": "pie"
           }
          ],
          "scatter": [
           {
            "fillpattern": {
             "fillmode": "overlay",
             "size": 10,
             "solidity": 0.2
            },
            "type": "scatter"
           }
          ],
          "scatter3d": [
           {
            "line": {
             "colorbar": {
              "outlinewidth": 0,
              "ticks": ""
             }
            },
            "marker": {
             "colorbar": {
              "outlinewidth": 0,
              "ticks": ""
             }
            },
            "type": "scatter3d"
           }
          ],
          "scattercarpet": [
           {
            "marker": {
             "colorbar": {
              "outlinewidth": 0,
              "ticks": ""
             }
            },
            "type": "scattercarpet"
           }
          ],
          "scattergeo": [
           {
            "marker": {
             "colorbar": {
              "outlinewidth": 0,
              "ticks": ""
             }
            },
            "type": "scattergeo"
           }
          ],
          "scattergl": [
           {
            "marker": {
             "colorbar": {
              "outlinewidth": 0,
              "ticks": ""
             }
            },
            "type": "scattergl"
           }
          ],
          "scattermap": [
           {
            "marker": {
             "colorbar": {
              "outlinewidth": 0,
              "ticks": ""
             }
            },
            "type": "scattermap"
           }
          ],
          "scattermapbox": [
           {
            "marker": {
             "colorbar": {
              "outlinewidth": 0,
              "ticks": ""
             }
            },
            "type": "scattermapbox"
           }
          ],
          "scatterpolar": [
           {
            "marker": {
             "colorbar": {
              "outlinewidth": 0,
              "ticks": ""
             }
            },
            "type": "scatterpolar"
           }
          ],
          "scatterpolargl": [
           {
            "marker": {
             "colorbar": {
              "outlinewidth": 0,
              "ticks": ""
             }
            },
            "type": "scatterpolargl"
           }
          ],
          "scatterternary": [
           {
            "marker": {
             "colorbar": {
              "outlinewidth": 0,
              "ticks": ""
             }
            },
            "type": "scatterternary"
           }
          ],
          "surface": [
           {
            "colorbar": {
             "outlinewidth": 0,
             "ticks": ""
            },
            "colorscale": [
             [
              0,
              "#0d0887"
             ],
             [
              0.1111111111111111,
              "#46039f"
             ],
             [
              0.2222222222222222,
              "#7201a8"
             ],
             [
              0.3333333333333333,
              "#9c179e"
             ],
             [
              0.4444444444444444,
              "#bd3786"
             ],
             [
              0.5555555555555556,
              "#d8576b"
             ],
             [
              0.6666666666666666,
              "#ed7953"
             ],
             [
              0.7777777777777778,
              "#fb9f3a"
             ],
             [
              0.8888888888888888,
              "#fdca26"
             ],
             [
              1,
              "#f0f921"
             ]
            ],
            "type": "surface"
           }
          ],
          "table": [
           {
            "cells": {
             "fill": {
              "color": "#EBF0F8"
             },
             "line": {
              "color": "white"
             }
            },
            "header": {
             "fill": {
              "color": "#C8D4E3"
             },
             "line": {
              "color": "white"
             }
            },
            "type": "table"
           }
          ]
         },
         "layout": {
          "annotationdefaults": {
           "arrowcolor": "#2a3f5f",
           "arrowhead": 0,
           "arrowwidth": 1
          },
          "autotypenumbers": "strict",
          "coloraxis": {
           "colorbar": {
            "outlinewidth": 0,
            "ticks": ""
           }
          },
          "colorscale": {
           "diverging": [
            [
             0,
             "#8e0152"
            ],
            [
             0.1,
             "#c51b7d"
            ],
            [
             0.2,
             "#de77ae"
            ],
            [
             0.3,
             "#f1b6da"
            ],
            [
             0.4,
             "#fde0ef"
            ],
            [
             0.5,
             "#f7f7f7"
            ],
            [
             0.6,
             "#e6f5d0"
            ],
            [
             0.7,
             "#b8e186"
            ],
            [
             0.8,
             "#7fbc41"
            ],
            [
             0.9,
             "#4d9221"
            ],
            [
             1,
             "#276419"
            ]
           ],
           "sequential": [
            [
             0,
             "#0d0887"
            ],
            [
             0.1111111111111111,
             "#46039f"
            ],
            [
             0.2222222222222222,
             "#7201a8"
            ],
            [
             0.3333333333333333,
             "#9c179e"
            ],
            [
             0.4444444444444444,
             "#bd3786"
            ],
            [
             0.5555555555555556,
             "#d8576b"
            ],
            [
             0.6666666666666666,
             "#ed7953"
            ],
            [
             0.7777777777777778,
             "#fb9f3a"
            ],
            [
             0.8888888888888888,
             "#fdca26"
            ],
            [
             1,
             "#f0f921"
            ]
           ],
           "sequentialminus": [
            [
             0,
             "#0d0887"
            ],
            [
             0.1111111111111111,
             "#46039f"
            ],
            [
             0.2222222222222222,
             "#7201a8"
            ],
            [
             0.3333333333333333,
             "#9c179e"
            ],
            [
             0.4444444444444444,
             "#bd3786"
            ],
            [
             0.5555555555555556,
             "#d8576b"
            ],
            [
             0.6666666666666666,
             "#ed7953"
            ],
            [
             0.7777777777777778,
             "#fb9f3a"
            ],
            [
             0.8888888888888888,
             "#fdca26"
            ],
            [
             1,
             "#f0f921"
            ]
           ]
          },
          "colorway": [
           "#636efa",
           "#EF553B",
           "#00cc96",
           "#ab63fa",
           "#FFA15A",
           "#19d3f3",
           "#FF6692",
           "#B6E880",
           "#FF97FF",
           "#FECB52"
          ],
          "font": {
           "color": "#2a3f5f"
          },
          "geo": {
           "bgcolor": "white",
           "lakecolor": "white",
           "landcolor": "white",
           "showlakes": true,
           "showland": true,
           "subunitcolor": "#C8D4E3"
          },
          "hoverlabel": {
           "align": "left"
          },
          "hovermode": "closest",
          "mapbox": {
           "style": "light"
          },
          "paper_bgcolor": "white",
          "plot_bgcolor": "white",
          "polar": {
           "angularaxis": {
            "gridcolor": "#EBF0F8",
            "linecolor": "#EBF0F8",
            "ticks": ""
           },
           "bgcolor": "white",
           "radialaxis": {
            "gridcolor": "#EBF0F8",
            "linecolor": "#EBF0F8",
            "ticks": ""
           }
          },
          "scene": {
           "xaxis": {
            "backgroundcolor": "white",
            "gridcolor": "#DFE8F3",
            "gridwidth": 2,
            "linecolor": "#EBF0F8",
            "showbackground": true,
            "ticks": "",
            "zerolinecolor": "#EBF0F8"
           },
           "yaxis": {
            "backgroundcolor": "white",
            "gridcolor": "#DFE8F3",
            "gridwidth": 2,
            "linecolor": "#EBF0F8",
            "showbackground": true,
            "ticks": "",
            "zerolinecolor": "#EBF0F8"
           },
           "zaxis": {
            "backgroundcolor": "white",
            "gridcolor": "#DFE8F3",
            "gridwidth": 2,
            "linecolor": "#EBF0F8",
            "showbackground": true,
            "ticks": "",
            "zerolinecolor": "#EBF0F8"
           }
          },
          "shapedefaults": {
           "line": {
            "color": "#2a3f5f"
           }
          },
          "ternary": {
           "aaxis": {
            "gridcolor": "#DFE8F3",
            "linecolor": "#A2B1C6",
            "ticks": ""
           },
           "baxis": {
            "gridcolor": "#DFE8F3",
            "linecolor": "#A2B1C6",
            "ticks": ""
           },
           "bgcolor": "white",
           "caxis": {
            "gridcolor": "#DFE8F3",
            "linecolor": "#A2B1C6",
            "ticks": ""
           }
          },
          "title": {
           "x": 0.05
          },
          "xaxis": {
           "automargin": true,
           "gridcolor": "#EBF0F8",
           "linecolor": "#EBF0F8",
           "ticks": "",
           "title": {
            "standoff": 15
           },
           "zerolinecolor": "#EBF0F8",
           "zerolinewidth": 2
          },
          "yaxis": {
           "automargin": true,
           "gridcolor": "#EBF0F8",
           "linecolor": "#EBF0F8",
           "ticks": "",
           "title": {
            "standoff": 15
           },
           "zerolinecolor": "#EBF0F8",
           "zerolinewidth": 2
          }
         }
        },
        "title": {
         "text": "Regime Characteristics: Volatility vs Return (size = frequency)"
        },
        "xaxis": {
         "anchor": "y",
         "domain": [
          0,
          1
         ],
         "title": {
          "text": "Average Volatility"
         }
        },
        "yaxis": {
         "anchor": "x",
         "domain": [
          0,
          1
         ],
         "title": {
          "text": "Average Return (%)"
         }
        }
       }
      }
     },
     "metadata": {},
     "output_type": "display_data"
    }
   ],
   "source": [
    "# Regime Characteristics Summary\n",
    "regime_vol = [0] * hidden_states\n",
    "regime_ret = [0] * hidden_states\n",
    "regime_count = [0] * hidden_states\n",
    "\n",
    "for i in range(len(train_predictions)):\n",
    "    regime = train_predictions[i]\n",
    "    regime_count[regime] += 1\n",
    "    regime_vol[regime] += training_data['Volatility'].iloc[i]\n",
    "    regime_ret[regime] += training_data['Return'].iloc[i]\n",
    "\n",
    "for i in range(hidden_states):\n",
    "    if regime_count[i] > 0:\n",
    "        regime_vol[i] = regime_vol[i] / regime_count[i]\n",
    "        regime_ret[i] = regime_ret[i] / regime_count[i]\n",
    "\n",
    "# Create a summary dataframe\n",
    "regime_summary = pd.DataFrame({\n",
    "    'Regime': range(hidden_states),\n",
    "    'Average_Volatility': regime_vol,\n",
    "    'Average_Return': regime_ret,\n",
    "    'Occurrence_Count': regime_count,\n",
    "    'Occurrence_Percentage': [count/sum(regime_count)*100 for count in regime_count]\n",
    "})\n",
    "\n",
    "# Display the summary\n",
    "print(\"HMM Market Regime Summary (Training Period: 2007-2017)\")\n",
    "display(regime_summary)\n",
    "\n",
    "# Interpret the regimes based on their characteristics\n",
    "print(\"\\nMarket Regime Interpretation:\")\n",
    "regime_types = []\n",
    "for i in range(hidden_states):\n",
    "    if regime_ret[i] > 0.05:\n",
    "        if regime_vol[i] < 1:\n",
    "            regime_type = \"Stable Growth (Low Volatility, Positive Returns)\"\n",
    "        else:\n",
    "            regime_type = \"Volatile Growth (High Volatility, Positive Returns)\"\n",
    "    elif regime_ret[i] < 0:\n",
    "        if regime_vol[i] > 2:\n",
    "            regime_type = \"Bear Market (High Volatility, Negative Returns)\"\n",
    "        else:\n",
    "            regime_type = \"Correction (Moderate Volatility, Negative Returns)\"\n",
    "    else:\n",
    "        regime_type = \"Sideways Market (Moderate Volatility, Flat Returns)\"\n",
    "    \n",
    "    regime_types.append(regime_type)\n",
    "    print(f\"Regime {i}: {regime_type}\")\n",
    "\n",
    "# Create interactive visualizations of regime characteristics\n",
    "# 1. Radar chart for regime characteristics\n",
    "categories = ['Volatility', 'Return', 'Frequency']\n",
    "fig_radar = go.Figure()\n",
    "\n",
    "# Scale values for better visualization\n",
    "scaled_vol = [vol / max(regime_vol) * 100 for vol in regime_vol]\n",
    "scaled_ret = [(ret - min(regime_ret)) / (max(regime_ret) - min(regime_ret)) * 100 if max(regime_ret) != min(regime_ret) else 50 for ret in regime_ret]\n",
    "scaled_freq = [count / max(regime_count) * 100 for count in regime_count]\n",
    "\n",
    "for i in range(hidden_states):\n",
    "    fig_radar.add_trace(go.Scatterpolar(\n",
    "        r=[scaled_vol[i], scaled_ret[i], scaled_freq[i]],\n",
    "        theta=categories,\n",
    "        fill='toself',\n",
    "        name=f'Regime {i}',\n",
    "        line_color=regime_colors[i]\n",
    "    ))\n",
    "\n",
    "fig_radar.update_layout(\n",
    "    polar=dict(\n",
    "        radialaxis=dict(\n",
    "            visible=True,\n",
    "            range=[0, 100]\n",
    "        )),\n",
    "    title='Regime Characteristics Comparison',\n",
    "    showlegend=True,\n",
    "    template='plotly_white'\n",
    ")\n",
    "\n",
    "fig_radar.show()\n",
    "\n",
    "# 2. Bubble chart showing regimes by volatility, return, and frequency\n",
    "fig_bubble = px.scatter(\n",
    "    x=regime_vol,\n",
    "    y=regime_ret,\n",
    "    size=[count for count in regime_count],\n",
    "    color=range(hidden_states),\n",
    "    color_discrete_sequence=regime_colors,\n",
    "    labels={'x': 'Average Volatility', 'y': 'Average Return (%)', 'size': 'Occurrence Count'},\n",
    "    title='Regime Characteristics: Volatility vs Return (size = frequency)',\n",
    "    text=[f'Regime {i}' for i in range(hidden_states)]\n",
    ")\n",
    "\n",
    "fig_bubble.update_traces(textposition='top center')\n",
    "fig_bubble.update_layout(\n",
    "    xaxis_title='Average Volatility',\n",
    "    yaxis_title='Average Return (%)',\n",
    "    template='plotly_white'\n",
    ")\n",
    "\n",
    "fig_bubble.show()"
   ]
  },
  {
   "cell_type": "code",
   "execution_count": 121,
   "metadata": {},
   "outputs": [
    {
     "data": {
      "application/vnd.plotly.v1+json": {
       "config": {
        "plotlyServerURL": "https://plot.ly"
       },
       "data": [
        {
         "hoverinfo": "text",
         "hovertext": "Regime 0",
         "marker": {
          "color": "rgb(102,194,165)",
          "size": 30
         },
         "mode": "markers+text",
         "name": "Regime 0",
         "text": [
          "0"
         ],
         "textfont": {
          "color": "white",
          "size": 14
         },
         "textposition": "middle center",
         "type": "scatter",
         "x": [
          1
         ],
         "xaxis": "x",
         "y": [
          0
         ],
         "yaxis": "y"
        },
        {
         "hoverinfo": "text",
         "hovertext": "Regime 1",
         "marker": {
          "color": "rgb(252,141,98)",
          "size": 30
         },
         "mode": "markers+text",
         "name": "Regime 1",
         "text": [
          "1"
         ],
         "textfont": {
          "color": "white",
          "size": 14
         },
         "textposition": "middle center",
         "type": "scatter",
         "x": [
          -0.49999999999999983
         ],
         "xaxis": "x",
         "y": [
          0.8660254037844387
         ],
         "yaxis": "y"
        },
        {
         "hoverinfo": "text",
         "hovertext": "Regime 2",
         "marker": {
          "color": "rgb(141,160,203)",
          "size": 30
         },
         "mode": "markers+text",
         "name": "Regime 2",
         "text": [
          "2"
         ],
         "textfont": {
          "color": "white",
          "size": 14
         },
         "textposition": "middle center",
         "type": "scatter",
         "x": [
          -0.5000000000000004
         ],
         "xaxis": "x",
         "y": [
          -0.8660254037844384
         ],
         "yaxis": "y"
        },
        {
         "hoverinfo": "text",
         "hovertext": "P(0->0) = 0.93",
         "line": {
          "color": "rgba(150,150,150,0.8)",
          "width": 9.271016380201761
         },
         "mode": "lines",
         "showlegend": false,
         "type": "scatter",
         "x": [
          1,
          null,
          1
         ],
         "xaxis": "x",
         "y": [
          0,
          null,
          0
         ],
         "yaxis": "y"
        },
        {
         "hoverinfo": "text",
         "hovertext": "P(0->1) = 0.07",
         "line": {
          "color": "rgba(150,150,150,0.8)",
          "width": 0.7289836197982396
         },
         "mode": "lines",
         "showlegend": false,
         "type": "scatter",
         "x": [
          1,
          null,
          -0.49999999999999983
         ],
         "xaxis": "x",
         "y": [
          0,
          null,
          0.8660254037844387
         ],
         "yaxis": "y"
        },
        {
         "hoverinfo": "text",
         "hovertext": "P(1->0) = 0.08",
         "line": {
          "color": "rgba(150,150,150,0.8)",
          "width": 0.798342826161826
         },
         "mode": "lines",
         "showlegend": false,
         "type": "scatter",
         "x": [
          -0.49999999999999983,
          null,
          1
         ],
         "xaxis": "x",
         "y": [
          0.8660254037844387,
          null,
          0
         ],
         "yaxis": "y"
        },
        {
         "hoverinfo": "text",
         "hovertext": "P(1->1) = 0.89",
         "line": {
          "color": "rgba(150,150,150,0.8)",
          "width": 8.901124125786273
         },
         "mode": "lines",
         "showlegend": false,
         "type": "scatter",
         "x": [
          -0.49999999999999983,
          null,
          -0.49999999999999983
         ],
         "xaxis": "x",
         "y": [
          0.8660254037844387,
          null,
          0.8660254037844387
         ],
         "yaxis": "y"
        },
        {
         "hoverinfo": "text",
         "hovertext": "P(2->1) = 0.11",
         "line": {
          "color": "rgba(150,150,150,0.8)",
          "width": 1.0545303146273137
         },
         "mode": "lines",
         "showlegend": false,
         "type": "scatter",
         "x": [
          -0.5000000000000004,
          null,
          -0.49999999999999983
         ],
         "xaxis": "x",
         "y": [
          -0.8660254037844384,
          null,
          0.8660254037844387
         ],
         "yaxis": "y"
        },
        {
         "hoverinfo": "text",
         "hovertext": "P(2->2) = 0.89",
         "line": {
          "color": "rgba(150,150,150,0.8)",
          "width": 8.945469685372686
         },
         "mode": "lines",
         "showlegend": false,
         "type": "scatter",
         "x": [
          -0.5000000000000004,
          null,
          -0.5000000000000004
         ],
         "xaxis": "x",
         "y": [
          -0.8660254037844384,
          null,
          -0.8660254037844384
         ],
         "yaxis": "y"
        },
        {
         "domain": {
          "x": [
           0.525,
           1
          ],
          "y": [
           0.55,
           1
          ]
         },
         "labels": [
          "Regime 0",
          "Regime 1",
          "Regime 2"
         ],
         "marker": {
          "colors": [
           "rgb(102,194,165)",
           "rgb(252,141,98)",
           "rgb(141,160,203)"
          ]
         },
         "textinfo": "percent",
         "type": "pie",
         "values": [
          46.5818759936407,
          41.971383147853736,
          11.446740858505565
         ]
        },
        {
         "boxmean": true,
         "marker": {
          "color": "rgb(102,194,165)"
         },
         "name": "Regime 0",
         "type": "box",
         "xaxis": "x2",
         "y": [
          0.9352039121190819,
          -0.7572393122975981,
          0.38152906954954013,
          -0.28118783600436614,
          0.5329746818867789,
          0.6780442311596293,
          -0.28777420519457103,
          0.6877372180498381,
          -0.15245774693544223,
          0.2259707000332725,
          0.8318585602029351,
          0.3112478117025067,
          -0.19582471355824319,
          0.012068110382052856,
          0.11470794611596224,
          -0.8893116391707574,
          -1.6029293194140517,
          1.0478993637775733,
          -0.08259656617249451,
          0.3245034853067232,
          -1.815746660751675,
          0.7428334702774769,
          1.5241253725462673,
          1.1548065670405454,
          0.33647220650107584,
          -0.5329340932602535,
          0.7465234952902879,
          0.1733140549520676,
          0.6442659122542581,
          -0.1066821290359636,
          0.16018919446795815,
          -0.2576883041390903,
          0.4781167744628932,
          -0.41080427238785217,
          -1.029860627932204,
          2.2194605762515716,
          -0.007161890837965925,
          1.393893162809318,
          1.4418209143893386,
          -0.4598565168084263,
          0.923904425356472,
          -0.677871552596059,
          1.206686415915485,
          1.6546170699507927,
          0.020516803464062486,
          -1.9931329936561322,
          -1.7686099049024395,
          1.1967469463283908,
          0.45970005469822506,
          1.0720672120084078,
          -2.375143816091475,
          1.469725119755239,
          1.280997629980505,
          0.7004764337655117,
          0.5506907997655712,
          -0.8659070575530722,
          1.2959236555602967,
          0.9187343021463843,
          -0.3293343316115268,
          0.28988882213068945,
          0.8081784633568034,
          0.2127352148370746,
          0.5691931664242995,
          -1.1931595107389155,
          -0.6440300461685226,
          0.7292188068874739,
          -0.6342206794765157,
          1.2298755340400314,
          -0.35680890475376326,
          0.7902437115197382,
          0.6952155578563161,
          0.3862511218695739,
          0.6210773022928673,
          0.6684691666432154,
          0.07177306145779758,
          0.29890993544666683,
          -0.8254612708549116,
          1.3942307173018487,
          -0.18078587429745493,
          0.002988156036075193,
          0.31765671925017375,
          0.21604557110931083,
          -0.4163855717463442,
          0.3113492167624294,
          0.3547425686831923,
          1.0133365368898972,
          0.3499329694586974,
          1.002540728335792,
          0.21864387768466337,
          0.6459634391541936,
          -0.8795018178563492,
          -1.1512720506736016,
          -1.1129715762273902,
          1.018437167954483,
          0.400551211151367,
          -0.18927267179589793,
          0.548533693273748,
          0.33950873522370545,
          -1.8479804909768323,
          -0.34474011666518817,
          -1.2034532502407818,
          0.4210138389628689,
          -0.6847896264660629,
          0.5994408540729157,
          1.6113802678601346,
          -0.1541747207761839,
          0.2784994577378352,
          -0.4427362762986538,
          1.0937563911531831,
          0.21037856937948726,
          -0.027260384591493554,
          0.861767785416475,
          -0.20548942785494997,
          0.29261629319478843,
          -0.8968915444695205,
          -0.03269468821777484,
          -0.11727785790670117,
          -0.44773234867996353,
          1.3519692721760403,
          0.15693351558287283,
          0.5591866382565573,
          -0.39930772786846513,
          -0.3575405438528169,
          -0.16853523244496613,
          0.08987716904568167,
          0.3890415867662728,
          0.8590619188242832,
          -0.1907580448645853,
          0.1426723209764259,
          0.5080774867175833,
          -1.3614028213675662,
          0.6887254374235697,
          0.5978416742499529,
          1.4857566258391024,
          0.5697979149101552,
          -0.6740961931476266,
          0.021130910225297953,
          0.26929587241098357,
          -0.35020599499276595,
          -0.7292753541771286,
          0.7852019949191037,
          1.3838571539843552,
          0.09117965964152716,
          -0.3539355881259633,
          0.3943679759896783,
          -0.15607695501963503,
          -2.4440568487672003,
          0.8600058499441711,
          -0.08658057970110096,
          0.022934118028257375,
          -0.42560456489143933,
          -0.17660840687869464,
          -0.7691665931262202,
          0.12144069767354225,
          1.101944918143684,
          -2.409603071108481,
          -0.5152495890133888,
          2.4240209321351,
          -0.7803292926721525,
          -1.3245532306511745,
          -1.2374858085612834,
          1.8396605667860142,
          -0.4978656684402707,
          1.4277204325834818,
          0.6224703769896911,
          -0.18504113276202472,
          0.7985013998574222,
          -0.7870824119793396,
          -0.5083599813024645,
          0.5625584053231476,
          1.611511652524986,
          -0.050531102774829764,
          -0.26527140979021274,
          0.40534071936377,
          1.0798758981441452,
          1.0742282191456658,
          0.3342680700664155,
          -0.49130834809219687,
          -0.7321518155348387,
          0.9462050535748658,
          -0.9133058595957326,
          1.0842369294055358,
          0.20876041844793747,
          -0.02155118231751018,
          -0.028751420065597496,
          0.6372716745003797,
          -0.6570226845629739,
          0.21564867620340045,
          -0.6169187479293201,
          0.031300125767900436,
          0.7985289581259679,
          0.7278286419818942,
          -0.9902519917192784,
          -0.8924852335224026,
          -2.124501301072405,
          1.2012310404966362,
          1.5355270596498078,
          -0.25443800885566176,
          -0.8615630909543806,
          -0.2621972909338317,
          1.0758181858066727,
          -0.08187322834890674,
          1.0194075929282977,
          -0.2218462189384659,
          0.19842635312058843,
          0.05251084230952428,
          0.17886845209987448,
          -0.0880901623653816,
          0.1572765054441364,
          -0.3711467452224233,
          0.9145915541545719,
          -0.09701239138182001,
          0.021294433766621115,
          -0.1491746510804911,
          0.464840788984362,
          0.1652393534129499,
          0.22390956763831438,
          -0.18342962116051767,
          -0.5583320586026059,
          -0.03315306545319712,
          -1.3490545678172499,
          1.4315874101697834,
          0.534620048932753,
          -0.12052842253956081,
          0.5915975847244772,
          0.3552039057507963,
          0.20157487589223508,
          0.0538194159361814,
          0.08416005904679981,
          0.5536624161420144,
          0.7643437700738798,
          -0.18213831450269832,
          0.35340582527217945,
          -0.8148023199643429,
          1.0674791386850133,
          0.3581946498735832,
          -0.3408933107957038,
          0.14921576713765558,
          -0.3415423412342571,
          -0.784366789626465,
          -1.4767914378464309,
          1.4330398825237038,
          0.8096285955429793,
          0.20940649437997608,
          1.0287989771090287,
          0.2454923119159064,
          -0.4557521487476654,
          -0.041014279012688316,
          0.4147429054778877,
          -0.48564844611788144,
          -0.20979905198320023,
          0.8135436676528203,
          -0.4918859833515513,
          0.6332855680895311,
          0.16524435478898128,
          -0.08135433575312757,
          0.12440306447235061,
          0.24848244377195508,
          0.2996789314965582,
          0.18199153339332683,
          0.23547033918560042,
          -0.6555205032774584,
          -1.094500471774321,
          0.15482909816339316,
          0.7957001825605517,
          0.8796625495819671,
          0.15874164311639002,
          0.2098322053944839,
          -0.590313775800406,
          0.8940983032645335,
          0.43976570715683033,
          -0.14816820031315395,
          0.05315159206274313,
          0.3076507966757351,
          -0.024284776734587073,
          -0.35753060337313486,
          -0.12183924409030099,
          -0.42802511966172735,
          -0.7884373329692079,
          0.2559207146002609,
          -0.5396493685079993,
          0.8352441148774188,
          -0.1585291121018152,
          -0.9740779914769166,
          -0.18237293344211075,
          -0.7239634587720022,
          -0.24616489215638573,
          0.3597625525702327,
          1.6820730950171499,
          -0.44302235912785076,
          0.9648861753903082,
          0.20292607963929482,
          0.17201590013139686,
          0.4042998431470936,
          0.6105360922841115,
          0.47124847002407483,
          0.34695981045997937,
          0.08535596485772991,
          -0.330516775630861,
          -0.8044850308291619,
          0.03235093474332548,
          0.754675613574472,
          0.034241322537940724,
          0.39577247593937087,
          -0.24290995123744824,
          0.3396514630243378,
          -0.1788305906083192,
          -0.28151316990975644,
          0.13258023767791144,
          0.2669962547720259,
          -2.2303093187952476,
          1.22665034573471,
          1.4977084977147106,
          -0.08226025957808869,
          -1.1423650863353354,
          -0.8848811689216288,
          -0.5251698380099017,
          -0.24285670348276742,
          1.9105105593514284,
          -0.8256786275746145,
          -0.3970853909244368,
          2.1003973023756797,
          0,
          0.6301645655910207,
          -0.02236858925228178,
          -1.5957158379111314,
          -0.17174888214685305,
          1.8000290784147919,
          -0.2634067087080989,
          -0.42098696647263556,
          0.7720282688596256,
          -1.1413628710358126,
          2.293218857943393,
          -0.05668064854210544,
          0.7012862744003366,
          1.862890422669255,
          1.199858264049433,
          -0.10733554341535367,
          0.037481583613422846,
          1.0990268816629487,
          0.23336821422096496,
          1.1738893671112594,
          -0.04602469598122906,
          0.32474669422250335,
          -1.3768747893607218,
          -0.24982453002762423,
          0.777708801190997,
          1.60378789299283,
          0.06927858697534534,
          -1.5328704626297414,
          0.16320991135314475,
          -1.8449836602377183,
          0.27033246703483954,
          0.6561939538544597,
          0.18698836080244802,
          -0.22446226716932716,
          1.453485676478493,
          0.5855265907520515,
          -0.40759914050944224,
          1.328274659058524,
          -0.24428723143286235,
          0.3588257964763556,
          0.06522331581673362,
          -0.016887512588993445,
          -0.5457079319001077,
          0.07768352819173681,
          0.10432166274506463,
          -1.5873725063072959,
          -0.4235523423045997,
          1.9907823567556233,
          0.8535195402969968,
          -0.10097390252411388,
          -1.1239164139893358,
          -0.6863987023888265,
          -0.7083017732095718,
          1.851254505529068,
          0.026655414859846693,
          -0.43852729032477133,
          0.46722450894540835,
          -0.17439058037212488,
          -0.1310271300638452,
          0.3450040270783598,
          -0.6682622425987497,
          1.2138884929625526,
          0.9633194543004489,
          -0.14550085987979258,
          0.04061685490877497,
          -1.1222934930934836,
          -0.7244805414777092,
          0.8659997933101907,
          1.2950643403619515,
          0.0380927441496323,
          -0.5545110923484976,
          0.9500832255137167,
          0.36097587952005383,
          -0.756009092947956,
          -0.4085731867482746,
          1.0963320686958788,
          0.050447535672975066,
          0.3941284453579851,
          1.18006791383321,
          0.11505478509024722,
          -0.14871586162217135,
          -0.7830630988810665,
          -0.25246636777672576,
          0.2531053737204054,
          0.6368427536809546,
          0.8046028135364909,
          0.7936983181596582,
          -0.06229296188893661,
          0.3472224877802923,
          0.4467396564343518,
          0.2729946253194503,
          0.015370468412452836,
          -0.663002460268542,
          0.9790501763560557,
          0.1903975637862603,
          -0.28615902490989853,
          -1.3910778343499142,
          -0.28659423508249876,
          -0.452263272010357,
          0.8728548639164385,
          -0.43486885112286194,
          -0.6685348610231994,
          0.03590123774825587,
          -0.058312444579009234,
          0.5519993618617934,
          -1.1648801174855543,
          -0.7338193958759635,
          -0.7619951135795054,
          0.048135364980337034,
          0.6506347512109455,
          -0.27086632715470477,
          1.1137706979250424,
          -1.385906758606374,
          0.7049800265549936,
          0.6341363080665936,
          1.4454791648220313,
          0.15060853276546632,
          0.6576620205617016,
          -0.5485597485507767,
          0.11659696553718128,
          0.8622268563234144,
          -1.2048318958338955,
          0.05865099756893932,
          -0.20738242417816924,
          -0.9193260619270692,
          0.7282108228956548,
          -0.03769101693031809,
          1.1872747273923718,
          0.6402218550693844,
          0.520484964131736,
          0.4096302067320214,
          -0.18007995714179062,
          0.09900348590897184,
          -0.07033892895022364,
          0.3937438919370385,
          0.5915834048097636,
          -0.5249267488489832,
          -0.01972532585979315,
          -0.40296960855159997,
          0.7630451165646439,
          0.4299106166055532,
          0.38896112039200625,
          0.4567248396904976,
          0.4222531715132532,
          0.180810882154531,
          0.037767664906279266,
          -0.2894948106463435,
          -0.5596291002696852,
          -0.8166717314551832,
          -0.3221090814101324,
          0.13696405284089613,
          1.4275887730192884,
          -0.15169824232407744,
          0.5655375193860727,
          -0.04406741312380127,
          0.06927374316219538,
          -0.3671230057831889,
          -0.5558600003590236,
          0.8892771388741796,
          1.2466130479916746,
          0.2114355245997348,
          0.2916478855816865,
          0.10931846392500282,
          1.3088092453396019,
          1.0527377785697982,
          -0.36411614992246205,
          0.29033197116632864,
          0.834044504883392,
          0.908764225598664,
          0.689970069998757,
          -0.4979924123146701,
          -0.550540094579392,
          0.09058584923593972,
          2.069542509350767,
          0.06896803658323672,
          -0.9994171765942815,
          0.5067245002622317,
          0.9926423498939758,
          -0.6002158416393703,
          -0.08598073563813645,
          1.0757204582074604,
          -0.15673182881735978,
          -0.19769140517058378,
          -0.6866560198008346,
          0.5943203488522234,
          0.5557124377357526,
          0.9249443109692258,
          0.33043658981933705,
          -0.18956703079555773,
          -0.27627480614749395,
          -0.18470932185087968,
          0.8403908996592065,
          -0.019104683861197205,
          -0.17399574298923834,
          -0.6358054972612184,
          0.10985434321970798,
          -1.2206084852630523,
          1.0446847473966763,
          0.055948293165717776,
          0.11565913372905613,
          -1.0013143914015497,
          0.7546936839827878,
          -1.380304554087395,
          -0.3798842301845395,
          0.947387139796122,
          0.35414253118023103,
          -1.584121424203549,
          -0.324722840110111,
          0.9353456026242329,
          1.2395381780769708,
          -0.287946384948476,
          -0.7304204015124761,
          0.6616500353154238,
          0.06987471586033463,
          -0.7002542783691884,
          -0.6633656409941896,
          0.9108163342788675,
          0.08152988317527249,
          0.11178389649033697,
          1.1885111756174471,
          -0.0018612845869451116,
          -0.12156379949129337,
          0.30897307918822714,
          -0.3250786727955125,
          0.3851024836005351,
          0.12480284689814149,
          0.15765012537578568,
          -0.39350495238866356,
          0.20580003319428417,
          0.6729729803014883,
          0.44626679560688975,
          0.5766364101352863,
          0.11539702720461589,
          -0.5805176690333926,
          0.00893904662750187,
          0.9546048472447962,
          -2.0579127912016224,
          -0.20466685973808135,
          0.4007278926261639,
          -0.8958390519408723,
          0.04219430705248784,
          -0.18281887024179364,
          0.9087478910982386,
          -0.9040588309326797,
          0.9457559870798031,
          0.6926513350950131,
          -0.17500225364758315,
          0.5988206540350614,
          -0.16421907154073717,
          -0.05311772749163925,
          -0.9137376982166777,
          0.21627645297690173,
          -0.03452785648288607,
          0.30912893023950516,
          0.16184515319028694,
          -0.30253643233801303,
          0.1895617318988391,
          -0.5149573711990111,
          -0.3109130300870601,
          0.7730578659771491,
          -0.5152540727580492,
          -0.019860682495989747,
          0.42699800133786336,
          -0.41200245136397107
         ],
         "yaxis": "y2"
        },
        {
         "boxmean": true,
         "marker": {
          "color": "rgb(252,141,98)"
         },
         "name": "Regime 1",
         "type": "box",
         "xaxis": "x2",
         "y": [
          -3.3165289556479074,
          -1.7618098571349234,
          -3.036347773482508,
          2.617876826594996,
          -0.9310963825858323,
          -2.6473394798111425,
          0.2758432101900656,
          3.0459883777922623,
          -1.0271514543820608,
          1.6988121231852102,
          -0.6904165203865156,
          0.1899353625384554,
          1.23206164352135,
          1.487883163359205,
          -0.18447930014652372,
          0.4455511511181842,
          0.40418619334477096,
          0.8280310471628471,
          1.3308261264452619,
          -0.2626695502876086,
          2.562931633265013,
          1.208767467283468,
          -0.7456531914442024,
          -0.5580183911353063,
          1.1975407825969795,
          0.9335842945330703,
          1.9248108984250274,
          -0.4154187585743701,
          0.03848200597619023,
          -0.5714811483860249,
          0.6415439066669659,
          0.46036383039876244,
          -2.5508984280872675,
          1.5437316678135866,
          -1.031398241530263,
          0.7648923323826639,
          -0.5693171893813724,
          1.0210526293906075,
          -0.3622906402953657,
          0.9418799804663748,
          1.446402853027913,
          -3.441437908950534,
          -0.8164585262267929,
          -2.7322967864579377,
          1.974719967518537,
          -1.7363537139427343,
          0.05090339082548837,
          1.317131315483006,
          0.5052407784313195,
          -0.396875221250755,
          -2.319088647560429,
          0.2665481918364143,
          1.6166895192269382,
          1.6609503592164565,
          -0.544611002159043,
          0.7581970062656233,
          0.6420049027030568,
          -0.9494475848265304,
          1.7733088759625606,
          -1.421612121576734,
          1.7406874180352365,
          0.8862427772608199,
          0.8930284080419232,
          1.6087405279401543,
          -0.6526006685686653,
          -0.6283393192216037,
          -0.123605508990797,
          -0.06042276264372769,
          -1.5203295898430635,
          -3.417917324907846,
          1.016374687492558,
          -1.0424765189285714,
          1.1208397367031355,
          1.7655722673580863,
          2.2349095441494713,
          1.9502831656761987,
          -0.02283325045399323,
          1.2482604474723078,
          -0.5378454188834885,
          -2.001931580709494,
          1.6645589463967616,
          1.4140185494906492,
          0.07860658905674642,
          1.1365746705682764,
          0.3935979324107588,
          0.7222000745154926,
          -0.06659469946361556,
          -0.04356787149354833,
          0.16149405723970206,
          0.4939953583415718,
          1.0139089590867456,
          0.13467921959680237,
          0.5963792686258825,
          -0.12614617110928097,
          0.3409814647148487,
          -1.4549484212352943,
          1.435330266190516,
          -0.05905820878495824,
          0.11572035763540388,
          0.4746773339825082,
          0.7270137588409532,
          0.03645808309616738,
          0.29638471390364257,
          -0.34152490777426897,
          -1.6674374401014511,
          -0.09444575126115617,
          0.9754754415786138,
          1.214986668132714,
          0.16473932447969003,
          -0.2861042692078491,
          -2.015190719315684,
          0.16833250253679088,
          -1.2222401745050544,
          1.188419949018888,
          -1.2896047619177846,
          1.0404973049519637,
          0.41559762798098476,
          0.8645745825006397,
          0.761575002908602,
          0.2960403372145991,
          0.7715024955836269,
          0.3927621230450478,
          0.26085013248956224,
          -0.10363553689873733,
          0.5362749345284019,
          0.09000033184716064,
          -1.9457562241083848,
          -1.1107194633522322,
          1.5316250238138631,
          -0.8701262795665122,
          1.184320516030424,
          2.0684854102288988,
          0.2647996035065625,
          -0.6751462125223066,
          0.9413293574964119,
          -0.8858187723024593,
          -0.688013895935267,
          1.5625135289715848,
          -0.8818603775630987,
          -1.0642759507145347,
          -1.063351744288147,
          1.7759033115871385,
          0.9998720813551529,
          0.6222101192849782,
          1.4151983692473753,
          -0.08171197750960416,
          0.1279365718981401,
          -0.27646549386029307,
          -0.2520229340870019,
          0.5790162891428924,
          -0.03350964562260922,
          -1.9202004849911858,
          -0.09394789285761111,
          -0.39535819960042456,
          -0.12444513492947457,
          0.9108284473476065,
          0.270366162349471,
          -1.377859509189623,
          0.0409118396674505,
          -1.77098119699061,
          -1.0383580098670635,
          -1.1067990887216346,
          0.4702321425655625,
          -0.3209286265797304,
          0.8227859461484175,
          1.4635991134413613,
          -1.7965498815688996,
          -1.9718955115119834,
          -0.3269180302108538,
          1.612697240578885,
          0.1120687770049295,
          -2.136154477919142,
          -0.6474917962174711,
          -1.0731512361233237,
          2.206389711654382,
          -0.25586315620964806,
          -1.5230162865962757,
          1.8396304939764252,
          -0.497860198881133,
          -0.8124523318576243,
          -2.9479318281745077,
          -0.7581695100024997,
          2.681084648024799,
          -0.4515343637556045,
          -1.2715192320760516,
          -0.7308376213678353,
          2.199044059958673,
          2.217424897116639,
          1.2510997600076417,
          1.2370999482959375,
          -0.6174885524385496,
          -1.5391291660535207,
          0.28340745504778936,
          0.8566615949458036,
          -1.2631471381515094,
          -0.9999271153050718,
          0.5039136515263115,
          -0.2673936610188711,
          -1.7092467478547413,
          -0.37052472278775606,
          1.1453602586572393,
          -1.245174779606013,
          0.04112047242368332,
          1.614257915658764,
          -0.07413792806987478,
          -1.495351828510219,
          -2.743932774029164,
          0.5797690622990551,
          -0.6124548266761791,
          0.04364443384875955,
          1.8710064781786697,
          -0.7633800569912255,
          0.883502908029779,
          1.9981389261088511,
          0.30447939801244944,
          0.9592060427324856,
          -1.0871985245918865,
          -2.378291201687204,
          -0.3819838156190312,
          -2.0432723141405367,
          -0.08144369775905977,
          -0.8124130381741809,
          1.0576476810781312,
          0.18886680168810946,
          0.33772352302686454,
          2.7019004843224423,
          0.6373155343172797,
          1.0183330672753965,
          -0.9278208612972855,
          0.1214973585172501,
          -1.1831135805570459,
          2.59666234609749,
          1.2542299863372244,
          1.4578788480793934,
          -0.29613070469074615,
          -0.6597385144355913,
          1.5659385758465756,
          -0.06753980459187942,
          -0.16902878471822186,
          -0.11608875418699634,
          1.6928832564267007,
          0.4120797027870405,
          0.19587047098116678,
          -0.7097885492264576,
          0.2906284761735175,
          -1.3437886003301414,
          -2.0822607028033167,
          -0.24192240832997114,
          0.3201169291410422,
          1.41174679241075,
          0.6536281566434531,
          1.5535061132263144,
          1.07478085479941,
          -4.3482489490851695,
          0.3815850948571863,
          -1.135343044325244,
          -0.7628801949973341,
          0.7754773821215336,
          -1.147840558731072,
          2.640131187302627,
          3.0986515310464546,
          -0.23281031944225905,
          -1.0315820117425547,
          -2.789375087262223,
          -0.763561223120271,
          -0.6332768548985491,
          -0.3298676446179243,
          2.639135637655219,
          -2.27889189963469,
          2.5697065650268964,
          1.1749465747274175,
          -0.7086366173957765,
          -0.8385262345222201,
          2.430137463265082,
          1.2236549180949652,
          1.5968593072390056,
          -0.7534057932265352,
          -0.534013680324424,
          2.379068292902111,
          -0.7223183303119225,
          -0.4376019547143008,
          -2.509602205446371,
          -1.0296868599143258,
          1.439300713126713,
          0.9565634453657613,
          0.5395360169999281,
          -2.0602014860665125,
          0.45404778204294954,
          -0.36361627381818323,
          1.3457027559727057,
          3.1500694705327827,
          -0.07358443608519322,
          -0.11537079739653941,
          -1.7989183567762923,
          -1.441506965846223,
          -0.17009496560809373,
          0.7833984570394239,
          -0.7470270606700653,
          1.4417147408416275,
          0.7569948137252416,
          -0.6393550382953092,
          -2.446170498409891,
          -1.180631671336604,
          -0.8479545081656917,
          0.13685155457452658,
          1.4952376249915122,
          -1.4266146630432648,
          0.5752176286322176,
          -0.3943377323163865,
          -1.2427954707963076,
          1.264770339795072,
          0.3640920203092606,
          0.3879443729156315,
          -0.18318433514093008,
          -1.5788034041417844,
          -0.7279621224947612,
          0.2297874736083826,
          -1.2546844591745576,
          1.4703208759920083,
          1.0627859828083566,
          1.4556970947502876,
          -1.0629060119502733,
          -0.6111381179473898,
          1.3078625343584236,
          -1.0934852533259913,
          -0.866902393197832,
          -2.006113340778524,
          -0.13779633743912215,
          0.5319266972996174,
          -1.068224265588453,
          0.3405852135962532,
          -0.3696022322844824,
          -0.3835782078905883,
          -1.4429479033898964,
          -0.14253510223551835,
          1.6529969134431184,
          -0.6254309458964148,
          1.7545377355943033,
          -1.169286295334058,
          0.9615737119953074,
          1.3130601527989694,
          -1.7046499542087832,
          1.4094649494626987,
          0.38105366411951824,
          -0.5548116342059505,
          -0.2618255347525888,
          0.3900885568407996,
          0.1026370952299841,
          0.026859596492162723,
          1.4461193871318743,
          -0.19161477283076608,
          0.2177496583667748,
          -0.34577310255325205,
          0.6048356123915554,
          0.17944286206104448,
          0.9071815445402676,
          0.6593134960831556,
          0.11906389441613167,
          1.2397696484641867,
          -0.340617377231319,
          -0.5188244272975148,
          -0.512370070265466,
          0.7430583256060617,
          0.22237441653624387,
          -0.6634539337678358,
          0,
          0.4118752889222774,
          -0.1463420715620972,
          0.18653029580922081,
          -0.43219769683338655,
          -0.6722420521969065,
          -0.3070127448511696,
          -1.6528469924511897,
          -0.22484773476784853,
          0.4205155345295779,
          -1.469130323877129,
          0.039914633409198666,
          0.5797550404905035,
          -0.24269764192992385,
          -0.03977251751079381,
          -1.33860600500931,
          -0.6096414291923032,
          -0.4980964908792491,
          1.0521455940217477,
          -0.004590202694213404,
          -1.33249063909049,
          -0.8786463596006165,
          -1.2288084217601556,
          -0.1733275293898543,
          0.7539472105174747,
          -1.4352267992082246,
          -1.1974572112266124,
          -0.45327775842434537,
          1.1955913067970108,
          0.6280069090796605,
          1.0664852099070092,
          1.9164318242660783,
          0.9123477713184107,
          -0.09530261937377207,
          1.9400668391151665,
          0.21170560884941794,
          0.1223082019939788,
          0.12437810085356286,
          0.769765068256342,
          -0.21794056886428603,
          0.38608333700165154,
          0.06152070452528462,
          1.3790092185911775,
          0.3209296845171688,
          -0.16464364996889272,
          0.5625122698843467,
          0.6080853797223028,
          -1.3857413052642904,
          0.9482079030191449,
          0.20096546321745692,
          0.5438813381394473,
          -0.12703693930292181,
          0.7919409129188112,
          -0.07733623586649525,
          -1.6317407463989346,
          0.04415966766535773,
          0.5779470083972718,
          -0.04389272015483689,
          -1.3773056427036472,
          -0.36625539826405795,
          0.18577683803177403,
          -0.13215899981383988,
          0.3594938023525671,
          0.9388288000734167,
          -0.10724515658844701,
          -1.2528103367394758,
          -0.18237872761184404,
          -0.5918251867399291,
          -0.2057744406620717,
          -0.8728381057409091,
          0.9209131560743199,
          1.1866634201315565,
          -0.04746069975957932,
          1.0326900856807204,
          0.11032510787061353,
          0.009675678314952234,
          0.5761939432647779,
          0.12881209227081103,
          0.013410554391131755,
          0.4588167852471406,
          1.2383187091416896,
          -0.20575601128992044,
          0.14374743663070508,
          0.11521814686396845,
          0.24526084036122098,
          0.24082741236772812,
          0.821312545996369,
          0.20134336236564404,
          0.060837709853919994,
          0.7958870060923711,
          0.254072010117688,
          -0.2716508732383827,
          -0.13406532882335637,
          0.0972443045672978,
          0.9895448645661064,
          -0.8622687186106844,
          0.6307471055973269,
          0.2750198953722918,
          0.593002276878573,
          -1.4021081088038423,
          -0.7684891354912081,
          -0.664059482070394,
          1.031001999491822,
          -0.15687400169448806,
          -2.2662421157437906,
          -0.5210422164864952,
          1.1199802438551854,
          0.05876816361201605,
          -0.5066498069921654,
          1.6254748594206947,
          -1.4160936861703008,
          -1.8618532547966644,
          -0.23838360809905812,
          0.13731378507129538,
          -0.2432321085170826,
          -1.6829990294076698,
          1.119621372245116,
          0.43556947766167253,
          1.0258876764367155,
          0.8423280865452213,
          0.5222835316430448,
          0.14768269937356268,
          0.040864564128466015,
          -0.2965820299783768,
          1.7064465478002253,
          -0.17286832688602097,
          0.24988247405808728,
          0.2861358516134862,
          -0.22055084921162185,
          0.3964639036064606,
          -0.14503466374615318,
          0.817828051670683,
          -0.7769662019544467,
          0.4346500392314409,
          0.008576054306149737,
          0.3846552632153522,
          -1.9603071272092165,
          0.4220578821621133,
          -0.2154020246176816,
          1.2091894126530944,
          2.48654874638875,
          0.4097293952946975,
          0.36555147809082744,
          0.03389134208882216,
          0.5368246613756388,
          0.30993313183627336,
          0.3392077704840555,
          0.5221514481802672,
          -0.3030078979422768,
          0.6212026206193809,
          0.17924362310457745,
          0.04639194508024056,
          0.6209406800210259,
          -0.16455493394401655,
          -2.9803467860256916,
          -0.030708209254601437,
          1.2011006788274015,
          0.5988285019376879,
          1.1114989748490325,
          0.006658418643897998,
          -1.0526523683762052,
          -1.1411602725516354,
          -0.3638031857652585
         ],
         "yaxis": "y2"
        },
        {
         "boxmean": true,
         "marker": {
          "color": "rgb(141,160,203)"
         },
         "name": "Regime 2",
         "type": "box",
         "xaxis": "x2",
         "y": [
          -3.0302443837629625,
          -0.36781054256463774,
          -4.491175931294045,
          -0.42013048581062246,
          4.330660355858862,
          -2.8632676194264555,
          4.203317001206408,
          -3.324154533090535,
          -1.6531274734119978,
          -7.80943057703695,
          5.174482062997841,
          -4.874858701282348,
          -9.567709551109193,
          8.548613944803702,
          -10.942358507392976,
          5.399218215799006,
          -5.0632983304437245,
          0.21247470195352092,
          -4.309415457416259,
          -2.5568044069231157,
          9.060319738233515,
          1.4970264787558185,
          5.838971585470183,
          -2.97856290702844,
          3.247580268149697,
          -1.4905617596263279,
          -4.500463174639538,
          2.307547989493635,
          -1.4454466157250416,
          6.716629160302003,
          0.10197050235079896,
          3.3568201617313007,
          1.5217202656142772,
          -0.9129982349998584,
          2.949300086265045,
          -2.1248328607383122,
          0.48243341370739073,
          2.701573416848742,
          -5.764898047376396,
          1.256580350219545,
          -0.14665826888346845,
          0.7428446661074019,
          -0.9700701129394059,
          1.3844243506306513,
          -1.9630647352241972,
          0.42465187725398457,
          -1.2208735979085448,
          -0.2508822471511099,
          -0.49378663381250243,
          2.483536024500051,
          1.8011017713143884,
          0.6757042074796511,
          0.9713980992321911,
          -2.350500271899064,
          -1.7738773411473767,
          1.5049178275056028,
          1.0952823254003126,
          -0.029243706954385915,
          1.1701335056851414,
          -1.2878365047406222,
          1.5074202455528207,
          0.4883678216565649,
          0.7112985593788287,
          -2.896094599883625,
          0.2811927304292281,
          2.5259306691770806,
          -3.6955489982249894,
          0.6019407287274936,
          0.4584009714971201,
          3.045293147428035,
          -3.5542811034802355,
          -0.5969115841330269,
          -3.2017152378121265,
          0.23105775266666545,
          -1.588613111137405,
          -0.1044017600545552,
          2.3907958917312886,
          -0.40575036712864054,
          2.0570361583375205,
          -4.031165719020949,
          2.4549236810536796,
          -0.561119650190705,
          -0.8088518437956611,
          1.9043432440307457,
          -1.6411340611135548,
          -2.8995631176111534,
          -3.796829193278191,
          -0.3013321790202232,
          1.4256417140278672,
          -3.3096151270265044,
          0.21557103060675561,
          2.5173691634382633,
          -0.18128312086294726,
          0.980233534305121,
          3.179396951503389,
          -3.384895928206548,
          -0.6612238311911601,
          -1.097781507235251,
          -0.7609110139678805,
          0.31379669091507967,
          -1.0544495263326075,
          -0.37730641455708624,
          1.7964989398642173,
          -1.7443875833670772,
          -0.8399865817964173,
          -1.6754813356773028,
          -0.9892711096590947,
          -0.2552521707630166,
          1.9676287662317322,
          -2.08888803178549,
          -1.5463742324123735,
          5.495406965551523,
          0.9678459463670529,
          -0.8506662526183151,
          0.8528993657168624,
          -0.7628673918166332,
          -0.30599118605305115,
          0.23004386479994454,
          0.28459968822991855,
          0.0732437737449176,
          -0.7798764274342742,
          1.5604753247014154,
          -2.9123659877959827,
          0.9219593377574139,
          -0.6683938581962854,
          2.3117248752672843,
          0.44097015524114025,
          0.05253982969928028,
          1.6445516384800913,
          0.3154886812254851,
          1.7140199822825906,
          0.22419691273331518,
          0.9561491446388299,
          -0.16260708627346926,
          0.34365326067525737,
          -0.7848534947103661,
          1.0625294028573902,
          0.7732246703992269,
          0.433163390113537,
          0.09529115864396574,
          -0.310642732236244,
          0.0485820893756085,
          -0.6430169669833066,
          -1.2808575932076285
         ],
         "yaxis": "y2"
        },
        {
         "marker": {
          "color": [
           "rgb(102,194,165)",
           "rgb(252,141,98)",
           "rgb(141,160,203)"
          ],
          "line": {
           "color": "DarkSlateGrey",
           "width": 2
          },
          "size": {
           "bdata": "SuIEpBkdfUDGco7aazt6QMGrsgXqnVxA",
           "dtype": "f8"
          }
         },
         "mode": "markers",
         "showlegend": false,
         "text": [
          "Regime 0",
          "Regime 1",
          "Regime 2"
         ],
         "type": "scatter",
         "x": {
          "bdata": "JANj7FRbIkA0nTaMRalAQLtehMWwN15A",
          "dtype": "f8"
         },
         "xaxis": "x3",
         "y": {
          "bdata": "se878Li+vT9kp+w/YhurP4Km6pckEL+/",
          "dtype": "f8"
         },
         "yaxis": "y3"
        }
       ],
       "layout": {
        "annotations": [
         {
          "font": {
           "size": 16
          },
          "showarrow": false,
          "text": "Regime Transition Network",
          "x": 0.2375,
          "xanchor": "center",
          "xref": "paper",
          "y": 1,
          "yanchor": "bottom",
          "yref": "paper"
         },
         {
          "font": {
           "size": 16
          },
          "showarrow": false,
          "text": "Training Data Regime Distribution",
          "x": 0.7625,
          "xanchor": "center",
          "xref": "paper",
          "y": 1,
          "yanchor": "bottom",
          "yref": "paper"
         },
         {
          "font": {
           "size": 16
          },
          "showarrow": false,
          "text": "Regime Return Distribution",
          "x": 0.2375,
          "xanchor": "center",
          "xref": "paper",
          "y": 0.45,
          "yanchor": "bottom",
          "yref": "paper"
         },
         {
          "font": {
           "size": 16
          },
          "showarrow": false,
          "text": "Regime Characteristics",
          "x": 0.7625,
          "xanchor": "center",
          "xref": "paper",
          "y": 0.45,
          "yanchor": "bottom",
          "yref": "paper"
         }
        ],
        "height": 900,
        "showlegend": false,
        "template": {
         "data": {
          "bar": [
           {
            "error_x": {
             "color": "#2a3f5f"
            },
            "error_y": {
             "color": "#2a3f5f"
            },
            "marker": {
             "line": {
              "color": "white",
              "width": 0.5
             },
             "pattern": {
              "fillmode": "overlay",
              "size": 10,
              "solidity": 0.2
             }
            },
            "type": "bar"
           }
          ],
          "barpolar": [
           {
            "marker": {
             "line": {
              "color": "white",
              "width": 0.5
             },
             "pattern": {
              "fillmode": "overlay",
              "size": 10,
              "solidity": 0.2
             }
            },
            "type": "barpolar"
           }
          ],
          "carpet": [
           {
            "aaxis": {
             "endlinecolor": "#2a3f5f",
             "gridcolor": "#C8D4E3",
             "linecolor": "#C8D4E3",
             "minorgridcolor": "#C8D4E3",
             "startlinecolor": "#2a3f5f"
            },
            "baxis": {
             "endlinecolor": "#2a3f5f",
             "gridcolor": "#C8D4E3",
             "linecolor": "#C8D4E3",
             "minorgridcolor": "#C8D4E3",
             "startlinecolor": "#2a3f5f"
            },
            "type": "carpet"
           }
          ],
          "choropleth": [
           {
            "colorbar": {
             "outlinewidth": 0,
             "ticks": ""
            },
            "type": "choropleth"
           }
          ],
          "contour": [
           {
            "colorbar": {
             "outlinewidth": 0,
             "ticks": ""
            },
            "colorscale": [
             [
              0,
              "#0d0887"
             ],
             [
              0.1111111111111111,
              "#46039f"
             ],
             [
              0.2222222222222222,
              "#7201a8"
             ],
             [
              0.3333333333333333,
              "#9c179e"
             ],
             [
              0.4444444444444444,
              "#bd3786"
             ],
             [
              0.5555555555555556,
              "#d8576b"
             ],
             [
              0.6666666666666666,
              "#ed7953"
             ],
             [
              0.7777777777777778,
              "#fb9f3a"
             ],
             [
              0.8888888888888888,
              "#fdca26"
             ],
             [
              1,
              "#f0f921"
             ]
            ],
            "type": "contour"
           }
          ],
          "contourcarpet": [
           {
            "colorbar": {
             "outlinewidth": 0,
             "ticks": ""
            },
            "type": "contourcarpet"
           }
          ],
          "heatmap": [
           {
            "colorbar": {
             "outlinewidth": 0,
             "ticks": ""
            },
            "colorscale": [
             [
              0,
              "#0d0887"
             ],
             [
              0.1111111111111111,
              "#46039f"
             ],
             [
              0.2222222222222222,
              "#7201a8"
             ],
             [
              0.3333333333333333,
              "#9c179e"
             ],
             [
              0.4444444444444444,
              "#bd3786"
             ],
             [
              0.5555555555555556,
              "#d8576b"
             ],
             [
              0.6666666666666666,
              "#ed7953"
             ],
             [
              0.7777777777777778,
              "#fb9f3a"
             ],
             [
              0.8888888888888888,
              "#fdca26"
             ],
             [
              1,
              "#f0f921"
             ]
            ],
            "type": "heatmap"
           }
          ],
          "histogram": [
           {
            "marker": {
             "pattern": {
              "fillmode": "overlay",
              "size": 10,
              "solidity": 0.2
             }
            },
            "type": "histogram"
           }
          ],
          "histogram2d": [
           {
            "colorbar": {
             "outlinewidth": 0,
             "ticks": ""
            },
            "colorscale": [
             [
              0,
              "#0d0887"
             ],
             [
              0.1111111111111111,
              "#46039f"
             ],
             [
              0.2222222222222222,
              "#7201a8"
             ],
             [
              0.3333333333333333,
              "#9c179e"
             ],
             [
              0.4444444444444444,
              "#bd3786"
             ],
             [
              0.5555555555555556,
              "#d8576b"
             ],
             [
              0.6666666666666666,
              "#ed7953"
             ],
             [
              0.7777777777777778,
              "#fb9f3a"
             ],
             [
              0.8888888888888888,
              "#fdca26"
             ],
             [
              1,
              "#f0f921"
             ]
            ],
            "type": "histogram2d"
           }
          ],
          "histogram2dcontour": [
           {
            "colorbar": {
             "outlinewidth": 0,
             "ticks": ""
            },
            "colorscale": [
             [
              0,
              "#0d0887"
             ],
             [
              0.1111111111111111,
              "#46039f"
             ],
             [
              0.2222222222222222,
              "#7201a8"
             ],
             [
              0.3333333333333333,
              "#9c179e"
             ],
             [
              0.4444444444444444,
              "#bd3786"
             ],
             [
              0.5555555555555556,
              "#d8576b"
             ],
             [
              0.6666666666666666,
              "#ed7953"
             ],
             [
              0.7777777777777778,
              "#fb9f3a"
             ],
             [
              0.8888888888888888,
              "#fdca26"
             ],
             [
              1,
              "#f0f921"
             ]
            ],
            "type": "histogram2dcontour"
           }
          ],
          "mesh3d": [
           {
            "colorbar": {
             "outlinewidth": 0,
             "ticks": ""
            },
            "type": "mesh3d"
           }
          ],
          "parcoords": [
           {
            "line": {
             "colorbar": {
              "outlinewidth": 0,
              "ticks": ""
             }
            },
            "type": "parcoords"
           }
          ],
          "pie": [
           {
            "automargin": true,
            "type": "pie"
           }
          ],
          "scatter": [
           {
            "fillpattern": {
             "fillmode": "overlay",
             "size": 10,
             "solidity": 0.2
            },
            "type": "scatter"
           }
          ],
          "scatter3d": [
           {
            "line": {
             "colorbar": {
              "outlinewidth": 0,
              "ticks": ""
             }
            },
            "marker": {
             "colorbar": {
              "outlinewidth": 0,
              "ticks": ""
             }
            },
            "type": "scatter3d"
           }
          ],
          "scattercarpet": [
           {
            "marker": {
             "colorbar": {
              "outlinewidth": 0,
              "ticks": ""
             }
            },
            "type": "scattercarpet"
           }
          ],
          "scattergeo": [
           {
            "marker": {
             "colorbar": {
              "outlinewidth": 0,
              "ticks": ""
             }
            },
            "type": "scattergeo"
           }
          ],
          "scattergl": [
           {
            "marker": {
             "colorbar": {
              "outlinewidth": 0,
              "ticks": ""
             }
            },
            "type": "scattergl"
           }
          ],
          "scattermap": [
           {
            "marker": {
             "colorbar": {
              "outlinewidth": 0,
              "ticks": ""
             }
            },
            "type": "scattermap"
           }
          ],
          "scattermapbox": [
           {
            "marker": {
             "colorbar": {
              "outlinewidth": 0,
              "ticks": ""
             }
            },
            "type": "scattermapbox"
           }
          ],
          "scatterpolar": [
           {
            "marker": {
             "colorbar": {
              "outlinewidth": 0,
              "ticks": ""
             }
            },
            "type": "scatterpolar"
           }
          ],
          "scatterpolargl": [
           {
            "marker": {
             "colorbar": {
              "outlinewidth": 0,
              "ticks": ""
             }
            },
            "type": "scatterpolargl"
           }
          ],
          "scatterternary": [
           {
            "marker": {
             "colorbar": {
              "outlinewidth": 0,
              "ticks": ""
             }
            },
            "type": "scatterternary"
           }
          ],
          "surface": [
           {
            "colorbar": {
             "outlinewidth": 0,
             "ticks": ""
            },
            "colorscale": [
             [
              0,
              "#0d0887"
             ],
             [
              0.1111111111111111,
              "#46039f"
             ],
             [
              0.2222222222222222,
              "#7201a8"
             ],
             [
              0.3333333333333333,
              "#9c179e"
             ],
             [
              0.4444444444444444,
              "#bd3786"
             ],
             [
              0.5555555555555556,
              "#d8576b"
             ],
             [
              0.6666666666666666,
              "#ed7953"
             ],
             [
              0.7777777777777778,
              "#fb9f3a"
             ],
             [
              0.8888888888888888,
              "#fdca26"
             ],
             [
              1,
              "#f0f921"
             ]
            ],
            "type": "surface"
           }
          ],
          "table": [
           {
            "cells": {
             "fill": {
              "color": "#EBF0F8"
             },
             "line": {
              "color": "white"
             }
            },
            "header": {
             "fill": {
              "color": "#C8D4E3"
             },
             "line": {
              "color": "white"
             }
            },
            "type": "table"
           }
          ]
         },
         "layout": {
          "annotationdefaults": {
           "arrowcolor": "#2a3f5f",
           "arrowhead": 0,
           "arrowwidth": 1
          },
          "autotypenumbers": "strict",
          "coloraxis": {
           "colorbar": {
            "outlinewidth": 0,
            "ticks": ""
           }
          },
          "colorscale": {
           "diverging": [
            [
             0,
             "#8e0152"
            ],
            [
             0.1,
             "#c51b7d"
            ],
            [
             0.2,
             "#de77ae"
            ],
            [
             0.3,
             "#f1b6da"
            ],
            [
             0.4,
             "#fde0ef"
            ],
            [
             0.5,
             "#f7f7f7"
            ],
            [
             0.6,
             "#e6f5d0"
            ],
            [
             0.7,
             "#b8e186"
            ],
            [
             0.8,
             "#7fbc41"
            ],
            [
             0.9,
             "#4d9221"
            ],
            [
             1,
             "#276419"
            ]
           ],
           "sequential": [
            [
             0,
             "#0d0887"
            ],
            [
             0.1111111111111111,
             "#46039f"
            ],
            [
             0.2222222222222222,
             "#7201a8"
            ],
            [
             0.3333333333333333,
             "#9c179e"
            ],
            [
             0.4444444444444444,
             "#bd3786"
            ],
            [
             0.5555555555555556,
             "#d8576b"
            ],
            [
             0.6666666666666666,
             "#ed7953"
            ],
            [
             0.7777777777777778,
             "#fb9f3a"
            ],
            [
             0.8888888888888888,
             "#fdca26"
            ],
            [
             1,
             "#f0f921"
            ]
           ],
           "sequentialminus": [
            [
             0,
             "#0d0887"
            ],
            [
             0.1111111111111111,
             "#46039f"
            ],
            [
             0.2222222222222222,
             "#7201a8"
            ],
            [
             0.3333333333333333,
             "#9c179e"
            ],
            [
             0.4444444444444444,
             "#bd3786"
            ],
            [
             0.5555555555555556,
             "#d8576b"
            ],
            [
             0.6666666666666666,
             "#ed7953"
            ],
            [
             0.7777777777777778,
             "#fb9f3a"
            ],
            [
             0.8888888888888888,
             "#fdca26"
            ],
            [
             1,
             "#f0f921"
            ]
           ]
          },
          "colorway": [
           "#636efa",
           "#EF553B",
           "#00cc96",
           "#ab63fa",
           "#FFA15A",
           "#19d3f3",
           "#FF6692",
           "#B6E880",
           "#FF97FF",
           "#FECB52"
          ],
          "font": {
           "color": "#2a3f5f"
          },
          "geo": {
           "bgcolor": "white",
           "lakecolor": "white",
           "landcolor": "white",
           "showlakes": true,
           "showland": true,
           "subunitcolor": "#C8D4E3"
          },
          "hoverlabel": {
           "align": "left"
          },
          "hovermode": "closest",
          "mapbox": {
           "style": "light"
          },
          "paper_bgcolor": "white",
          "plot_bgcolor": "white",
          "polar": {
           "angularaxis": {
            "gridcolor": "#EBF0F8",
            "linecolor": "#EBF0F8",
            "ticks": ""
           },
           "bgcolor": "white",
           "radialaxis": {
            "gridcolor": "#EBF0F8",
            "linecolor": "#EBF0F8",
            "ticks": ""
           }
          },
          "scene": {
           "xaxis": {
            "backgroundcolor": "white",
            "gridcolor": "#DFE8F3",
            "gridwidth": 2,
            "linecolor": "#EBF0F8",
            "showbackground": true,
            "ticks": "",
            "zerolinecolor": "#EBF0F8"
           },
           "yaxis": {
            "backgroundcolor": "white",
            "gridcolor": "#DFE8F3",
            "gridwidth": 2,
            "linecolor": "#EBF0F8",
            "showbackground": true,
            "ticks": "",
            "zerolinecolor": "#EBF0F8"
           },
           "zaxis": {
            "backgroundcolor": "white",
            "gridcolor": "#DFE8F3",
            "gridwidth": 2,
            "linecolor": "#EBF0F8",
            "showbackground": true,
            "ticks": "",
            "zerolinecolor": "#EBF0F8"
           }
          },
          "shapedefaults": {
           "line": {
            "color": "#2a3f5f"
           }
          },
          "ternary": {
           "aaxis": {
            "gridcolor": "#DFE8F3",
            "linecolor": "#A2B1C6",
            "ticks": ""
           },
           "baxis": {
            "gridcolor": "#DFE8F3",
            "linecolor": "#A2B1C6",
            "ticks": ""
           },
           "bgcolor": "white",
           "caxis": {
            "gridcolor": "#DFE8F3",
            "linecolor": "#A2B1C6",
            "ticks": ""
           }
          },
          "title": {
           "x": 0.05
          },
          "xaxis": {
           "automargin": true,
           "gridcolor": "#EBF0F8",
           "linecolor": "#EBF0F8",
           "ticks": "",
           "title": {
            "standoff": 15
           },
           "zerolinecolor": "#EBF0F8",
           "zerolinewidth": 2
          },
          "yaxis": {
           "automargin": true,
           "gridcolor": "#EBF0F8",
           "linecolor": "#EBF0F8",
           "ticks": "",
           "title": {
            "standoff": 15
           },
           "zerolinecolor": "#EBF0F8",
           "zerolinewidth": 2
          }
         }
        },
        "title": {
         "text": "HMM Market Regime Analysis Dashboard"
        },
        "width": 1200,
        "xaxis": {
         "anchor": "y",
         "domain": [
          0,
          0.475
         ],
         "showticklabels": false,
         "title": {
          "text": ""
         }
        },
        "xaxis2": {
         "anchor": "y2",
         "domain": [
          0,
          0.475
         ],
         "title": {
          "text": "Regime"
         }
        },
        "xaxis3": {
         "anchor": "y3",
         "domain": [
          0.525,
          1
         ],
         "title": {
          "text": "Volatility"
         }
        },
        "yaxis": {
         "anchor": "x",
         "domain": [
          0.55,
          1
         ],
         "showticklabels": false,
         "title": {
          "text": ""
         }
        },
        "yaxis2": {
         "anchor": "x2",
         "domain": [
          0,
          0.45
         ],
         "title": {
          "text": "Return (%)"
         }
        },
        "yaxis3": {
         "anchor": "x3",
         "domain": [
          0,
          0.45
         ],
         "title": {
          "text": "Return (%)"
         }
        }
       }
      }
     },
     "metadata": {},
     "output_type": "display_data"
    },
    {
     "data": {
      "text/html": [
       "\n",
       "<div style=\"background-color: #f9f9f9; padding: 20px; border-radius: 10px; margin-top: 20px;\">\n",
       "    <h2 style=\"color: #333;\">HMM Model Insights</h2>\n",
       "    <p>The Hidden Markov Model has identified <b>3 distinct market regimes</b> based on volatility and return patterns:</p>\n",
       "    <ul>\n",
       "\n",
       "        <li style=\"margin-bottom: 10px;\">\n",
       "            <span style=\"color: rgb(102,194,165); font-weight: bold;\">Regime 0:</span> \n",
       "            Volatile Growth (High Volatility, Positive Returns) \n",
       "            <ul>\n",
       "                <li>Average Volatility: 9.1784</li>\n",
       "                <li>Average Return: 0.1162%</li>\n",
       "                <li>Frequency: 586 days (46.58%)</li>\n",
       "                <li>Most likely to transition to: Regime 0 (p=0.93)</li>\n",
       "            </ul>\n",
       "        </li>\n",
       "    \n",
       "        <li style=\"margin-bottom: 10px;\">\n",
       "            <span style=\"color: rgb(252,141,98); font-weight: bold;\">Regime 1:</span> \n",
       "            Volatile Growth (High Volatility, Positive Returns) \n",
       "            <ul>\n",
       "                <li>Average Volatility: 33.3224</li>\n",
       "                <li>Average Return: 0.0529%</li>\n",
       "                <li>Frequency: 528 days (41.97%)</li>\n",
       "                <li>Most likely to transition to: Regime 1 (p=0.89)</li>\n",
       "            </ul>\n",
       "        </li>\n",
       "    \n",
       "        <li style=\"margin-bottom: 10px;\">\n",
       "            <span style=\"color: rgb(141,160,203); font-weight: bold;\">Regime 2:</span> \n",
       "            Bear Market (High Volatility, Negative Returns) \n",
       "            <ul>\n",
       "                <li>Average Volatility: 120.8702</li>\n",
       "                <li>Average Return: -0.1213%</li>\n",
       "                <li>Frequency: 144 days (11.45%)</li>\n",
       "                <li>Most likely to transition to: Regime 2 (p=0.89)</li>\n",
       "            </ul>\n",
       "        </li>\n",
       "    \n",
       "    </ul>\n",
       "    <p><b>Model Score:</b> -6876.57</p>\n",
       "    <p>This model has been trained on data from 2007-01-01 to 2017-12-31 and can be used to identify market regimes in any time period.</p>\n",
       "</div>\n"
      ],
      "text/plain": [
       "<IPython.core.display.HTML object>"
      ]
     },
     "metadata": {},
     "output_type": "display_data"
    }
   ],
   "source": [
    "# Add a dashboard-style visualization for a deeper analysis of the model\n",
    "from IPython.display import HTML\n",
    "\n",
    "# Create a dashboard layout with 4 subplots\n",
    "fig = make_subplots(\n",
    "    rows=2, cols=2,\n",
    "    subplot_titles=(\n",
    "        \"Regime Transition Network\", \n",
    "        \"Training Data Regime Distribution\", \n",
    "        \"Regime Return Distribution\", \n",
    "        \"Regime Characteristics\"\n",
    "    ),\n",
    "    specs=[\n",
    "        [{\"type\": \"scatter\"}, {\"type\": \"pie\"}],\n",
    "        [{\"type\": \"box\"}, {\"type\": \"scatter\"}]\n",
    "    ],\n",
    "    vertical_spacing=0.1,\n",
    "    horizontal_spacing=0.05\n",
    ")\n",
    "\n",
    "# 1. Regime Transition Network (top left)\n",
    "# Create node positions for a circular layout\n",
    "import math\n",
    "angles = np.linspace(0, 2*math.pi, hidden_states, endpoint=False).tolist()\n",
    "node_x = [math.cos(angle) for angle in angles]\n",
    "node_y = [math.sin(angle) for angle in angles]\n",
    "\n",
    "# Add nodes\n",
    "for i in range(hidden_states):\n",
    "    fig.add_trace(\n",
    "        go.Scatter(\n",
    "            x=[node_x[i]], \n",
    "            y=[node_y[i]],\n",
    "            mode='markers+text',\n",
    "            marker=dict(size=30, color=regime_colors[i]),\n",
    "            text=[f'{i}'],\n",
    "            textposition=\"middle center\",\n",
    "            textfont=dict(color='white', size=14),\n",
    "            name=f'Regime {i}',\n",
    "            hoverinfo='text',\n",
    "            hovertext=f'Regime {i}'\n",
    "        ),\n",
    "        row=1, col=1\n",
    "    )\n",
    "\n",
    "# Add edges for transitions\n",
    "for i in range(hidden_states):\n",
    "    for j in range(hidden_states):\n",
    "        if transition_matrix[i, j] > 0.05:  # Only show significant transitions\n",
    "            # Calculate edge curvature based on whether it's a self-loop\n",
    "            curve = 0.2 if i != j else 0.5\n",
    "            fig.add_trace(\n",
    "                go.Scatter(\n",
    "                    x=[node_x[i], None, node_x[j]],\n",
    "                    y=[node_y[i], None, node_y[j]],\n",
    "                    mode='lines',\n",
    "                    line=dict(\n",
    "                        width=transition_matrix[i, j] * 10,  # Line width based on probability\n",
    "                        color='rgba(150,150,150,0.8)',\n",
    "                    ),\n",
    "                    hoverinfo='text',\n",
    "                    hovertext=f'P({i}->{j}) = {transition_matrix[i, j]:.2f}',\n",
    "                    showlegend=False\n",
    "                ),\n",
    "                row=1, col=1\n",
    "            )\n",
    "\n",
    "# 2. Training Data Regime Distribution (top right)\n",
    "regime_counts_train = pd.Series(train_predictions).value_counts(normalize=True) * 100\n",
    "labels = [f\"Regime {i}\" for i in range(hidden_states)]\n",
    "values = [regime_counts_train.get(i, 0) for i in range(hidden_states)]\n",
    "\n",
    "fig.add_trace(\n",
    "    go.Pie(\n",
    "        labels=labels,\n",
    "        values=values,\n",
    "        textinfo='percent',\n",
    "        marker=dict(colors=regime_colors)\n",
    "    ),\n",
    "    row=1, col=2\n",
    ")\n",
    "\n",
    "# 3. Regime Return Distribution (bottom left)\n",
    "# Prepare return data by regime\n",
    "regime_returns = {i: [] for i in range(hidden_states)}\n",
    "for i in range(len(train_predictions)):\n",
    "    regime_returns[train_predictions[i]].append(training_data['Return'].iloc[i])\n",
    "\n",
    "for i in range(hidden_states):\n",
    "    if regime_returns[i]:  # Check if list is not empty\n",
    "        fig.add_trace(\n",
    "            go.Box(\n",
    "                y=regime_returns[i],\n",
    "                name=f'Regime {i}',\n",
    "                marker_color=regime_colors[i],\n",
    "                boxmean=True  # Show mean as a dashed line\n",
    "            ),\n",
    "            row=2, col=1\n",
    "        )\n",
    "\n",
    "# 4. Regime Characteristics (bottom right)\n",
    "df_characteristics = pd.DataFrame({\n",
    "    'Regime': range(hidden_states),\n",
    "    'Volatility': regime_vol,\n",
    "    'Return': regime_ret,\n",
    "    'Frequency': [c / sum(regime_count) for c in regime_count]\n",
    "})\n",
    "\n",
    "fig.add_trace(\n",
    "    go.Scatter(\n",
    "        x=df_characteristics['Volatility'],\n",
    "        y=df_characteristics['Return'],\n",
    "        mode='markers',\n",
    "        marker=dict(\n",
    "            size=df_characteristics['Frequency'] * 1000,  # Scale size for visibility\n",
    "            color=[regime_colors[i] for i in range(hidden_states)],\n",
    "            line=dict(width=2, color='DarkSlateGrey')\n",
    "        ),\n",
    "        text=[f'Regime {i}' for i in range(hidden_states)],\n",
    "        showlegend=False\n",
    "    ),\n",
    "    row=2, col=2\n",
    ")\n",
    "\n",
    "# Update layout\n",
    "fig.update_layout(\n",
    "    height=900,\n",
    "    width=1200,\n",
    "    title_text='HMM Market Regime Analysis Dashboard',\n",
    "    template='plotly_white',\n",
    "    showlegend=False\n",
    ")\n",
    "\n",
    "# Update axes for specific subplots\n",
    "fig.update_xaxes(title_text=\"\", showticklabels=False, row=1, col=1)\n",
    "fig.update_yaxes(title_text=\"\", showticklabels=False, row=1, col=1)\n",
    "fig.update_xaxes(title_text=\"Volatility\", row=2, col=2)\n",
    "fig.update_yaxes(title_text=\"Return (%)\", row=2, col=2)\n",
    "fig.update_xaxes(title_text=\"Regime\", row=2, col=1)\n",
    "fig.update_yaxes(title_text=\"Return (%)\", row=2, col=1)\n",
    "\n",
    "# Show the dashboard\n",
    "fig.show()\n",
    "\n",
    "# Add an HTML section with model insights\n",
    "insights_html = f\"\"\"\n",
    "<div style=\"background-color: #f9f9f9; padding: 20px; border-radius: 10px; margin-top: 20px;\">\n",
    "    <h2 style=\"color: #333;\">HMM Model Insights</h2>\n",
    "    <p>The Hidden Markov Model has identified <b>{hidden_states} distinct market regimes</b> based on volatility and return patterns:</p>\n",
    "    <ul>\n",
    "\"\"\"\n",
    "\n",
    "for i in range(hidden_states):\n",
    "    insights_html += f\"\"\"\n",
    "        <li style=\"margin-bottom: 10px;\">\n",
    "            <span style=\"color: {regime_colors[i]}; font-weight: bold;\">Regime {i}:</span> \n",
    "            {regime_types[i]} \n",
    "            <ul>\n",
    "                <li>Average Volatility: {regime_vol[i]:.4f}</li>\n",
    "                <li>Average Return: {regime_ret[i]:.4f}%</li>\n",
    "                <li>Frequency: {regime_count[i]} days ({regime_count[i]/sum(regime_count)*100:.2f}%)</li>\n",
    "                <li>Most likely to transition to: Regime {np.argmax(transition_matrix[i])} (p={np.max(transition_matrix[i]):.2f})</li>\n",
    "            </ul>\n",
    "        </li>\n",
    "    \"\"\"\n",
    "\n",
    "insights_html += \"\"\"\n",
    "    </ul>\n",
    "    <p><b>Model Score:</b> {:.2f}</p>\n",
    "    <p>This model has been trained on data from 2007-01-01 to 2017-12-31 and can be used to identify market regimes in any time period.</p>\n",
    "</div>\n",
    "\"\"\".format(model.score(np.column_stack([training_data['Volatility'].values, training_data['Return'].values])))\n",
    "\n",
    "display(HTML(insights_html))"
   ]
  }
 ],
 "metadata": {
  "kernelspec": {
   "display_name": "ml-env",
   "language": "python",
   "name": "python3"
  },
  "language_info": {
   "codemirror_mode": {
    "name": "ipython",
    "version": 3
   },
   "file_extension": ".py",
   "mimetype": "text/x-python",
   "name": "python",
   "nbconvert_exporter": "python",
   "pygments_lexer": "ipython3",
   "version": "3.9.18"
  }
 },
 "nbformat": 4,
 "nbformat_minor": 4
}
