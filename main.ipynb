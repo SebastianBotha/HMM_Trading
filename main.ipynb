{
 "cells": [
  {
   "cell_type": "code",
   "execution_count": 12,
   "metadata": {},
   "outputs": [
    {
     "name": "stderr",
     "output_type": "stream",
     "text": [
      "[*********************100%***********************]  1 of 1 completed"
     ]
    },
    {
     "name": "stdout",
     "output_type": "stream",
     "text": [
      "Downloading market data from 1995-01-01 to 2025-04-11...\n",
      "YF.download() has changed argument auto_adjust default to True\n"
     ]
    },
    {
     "name": "stderr",
     "output_type": "stream",
     "text": [
      "\n",
      "[*********************100%***********************]  1 of 1 completed"
     ]
    },
    {
     "name": "stdout",
     "output_type": "stream",
     "text": [
      "DataFrame structure:\n",
      "Data shape: (7620, 7)\n",
      "Data columns: ['Date', 'Close', 'High', 'Low', 'Open', 'Volume', 'VIX']\n"
     ]
    },
    {
     "name": "stderr",
     "output_type": "stream",
     "text": [
      "\n"
     ]
    },
    {
     "data": {
      "application/vnd.microsoft.datawrangler.viewer.v0+json": {
       "columns": [
        {
         "name": "index",
         "rawType": "int64",
         "type": "integer"
        },
        {
         "name": "Date",
         "rawType": "datetime64[ns]",
         "type": "datetime"
        },
        {
         "name": "Close",
         "rawType": "float64",
         "type": "float"
        },
        {
         "name": "High",
         "rawType": "float64",
         "type": "float"
        },
        {
         "name": "Low",
         "rawType": "float64",
         "type": "float"
        },
        {
         "name": "Open",
         "rawType": "float64",
         "type": "float"
        },
        {
         "name": "Volume",
         "rawType": "int64",
         "type": "integer"
        },
        {
         "name": "VIX",
         "rawType": "float64",
         "type": "float"
        }
       ],
       "conversionMethod": "pd.DataFrame",
       "ref": "6b0cb539-0fca-42a8-b4a6-fc70cba0f001",
       "rows": [
        [
         "0",
         "1995-01-03 00:00:00",
         "26.815872192382812",
         "26.852480891621564",
         "26.760959143524694",
         "26.77011131833438",
         "324300",
         "14.25"
        ],
        [
         "1",
         "1995-01-04 00:00:00",
         "26.944002151489258",
         "26.944002151489258",
         "26.797567357187685",
         "26.93484997684541",
         "351800",
         "13.529999732971191"
        ],
        [
         "2",
         "1995-01-05 00:00:00",
         "26.944002151489258",
         "27.008067373996195",
         "26.916545627557714",
         "26.962306500776954",
         "89800",
         "13.5"
        ],
        [
         "3",
         "1995-01-06 00:00:00",
         "26.971464157104492",
         "27.09044245165568",
         "26.88909456856905",
         "26.9989206866163",
         "448400",
         "13.130000114440918"
        ],
        [
         "4",
         "1995-01-09 00:00:00",
         "26.998912811279297",
         "26.998912811279293",
         "26.9439997682733",
         "26.962304115941965",
         "36800",
         "13.329999923706055"
        ]
       ],
       "shape": {
        "columns": 7,
        "rows": 5
       }
      },
      "text/html": [
       "<div>\n",
       "<style scoped>\n",
       "    .dataframe tbody tr th:only-of-type {\n",
       "        vertical-align: middle;\n",
       "    }\n",
       "\n",
       "    .dataframe tbody tr th {\n",
       "        vertical-align: top;\n",
       "    }\n",
       "\n",
       "    .dataframe thead th {\n",
       "        text-align: right;\n",
       "    }\n",
       "</style>\n",
       "<table border=\"1\" class=\"dataframe\">\n",
       "  <thead>\n",
       "    <tr style=\"text-align: right;\">\n",
       "      <th>Price</th>\n",
       "      <th>Date</th>\n",
       "      <th>Close</th>\n",
       "      <th>High</th>\n",
       "      <th>Low</th>\n",
       "      <th>Open</th>\n",
       "      <th>Volume</th>\n",
       "      <th>VIX</th>\n",
       "    </tr>\n",
       "  </thead>\n",
       "  <tbody>\n",
       "    <tr>\n",
       "      <th>0</th>\n",
       "      <td>1995-01-03</td>\n",
       "      <td>26.815872</td>\n",
       "      <td>26.852481</td>\n",
       "      <td>26.760959</td>\n",
       "      <td>26.770111</td>\n",
       "      <td>324300</td>\n",
       "      <td>14.25</td>\n",
       "    </tr>\n",
       "    <tr>\n",
       "      <th>1</th>\n",
       "      <td>1995-01-04</td>\n",
       "      <td>26.944002</td>\n",
       "      <td>26.944002</td>\n",
       "      <td>26.797567</td>\n",
       "      <td>26.934850</td>\n",
       "      <td>351800</td>\n",
       "      <td>13.53</td>\n",
       "    </tr>\n",
       "    <tr>\n",
       "      <th>2</th>\n",
       "      <td>1995-01-05</td>\n",
       "      <td>26.944002</td>\n",
       "      <td>27.008067</td>\n",
       "      <td>26.916546</td>\n",
       "      <td>26.962307</td>\n",
       "      <td>89800</td>\n",
       "      <td>13.50</td>\n",
       "    </tr>\n",
       "    <tr>\n",
       "      <th>3</th>\n",
       "      <td>1995-01-06</td>\n",
       "      <td>26.971464</td>\n",
       "      <td>27.090442</td>\n",
       "      <td>26.889095</td>\n",
       "      <td>26.998921</td>\n",
       "      <td>448400</td>\n",
       "      <td>13.13</td>\n",
       "    </tr>\n",
       "    <tr>\n",
       "      <th>4</th>\n",
       "      <td>1995-01-09</td>\n",
       "      <td>26.998913</td>\n",
       "      <td>26.998913</td>\n",
       "      <td>26.944000</td>\n",
       "      <td>26.962304</td>\n",
       "      <td>36800</td>\n",
       "      <td>13.33</td>\n",
       "    </tr>\n",
       "  </tbody>\n",
       "</table>\n",
       "</div>"
      ],
      "text/plain": [
       "Price       Date      Close       High        Low       Open  Volume    VIX\n",
       "0     1995-01-03  26.815872  26.852481  26.760959  26.770111  324300  14.25\n",
       "1     1995-01-04  26.944002  26.944002  26.797567  26.934850  351800  13.53\n",
       "2     1995-01-05  26.944002  27.008067  26.916546  26.962307   89800  13.50\n",
       "3     1995-01-06  26.971464  27.090442  26.889095  26.998921  448400  13.13\n",
       "4     1995-01-09  26.998913  26.998913  26.944000  26.962304   36800  13.33"
      ]
     },
     "execution_count": 12,
     "metadata": {},
     "output_type": "execute_result"
    }
   ],
   "source": [
    "import pandas as pd\n",
    "import numpy as np\n",
    "import matplotlib.pyplot as plt\n",
    "from matplotlib import cm\n",
    "import seaborn as sns\n",
    "import plotly.graph_objects as go\n",
    "import plotly.express as px\n",
    "import plotly.figure_factory as ff\n",
    "from plotly.subplots import make_subplots\n",
    "from hmmlearn import hmm\n",
    "import yfinance as yf\n",
    "from datetime import datetime, timedelta\n",
    "import warnings\n",
    "warnings.filterwarnings('ignore')\n",
    "\n",
    "# Hidden Markov Model Modifiable Parameters\n",
    "hidden_states = 3\n",
    "em_iterations = 75\n",
    "\n",
    "# Fixed training period \n",
    "train_start_date = \"2018-01-01\"\n",
    "train_end_date = \"2024-12-31\"\n",
    "\n",
    "# Date parameters for yfinance API - download data from 1995 to present\n",
    "start_date = \"1995-01-01\"\n",
    "end_date = datetime.today().strftime(\"%Y-%m-%d\")\n",
    "\n",
    "print(f\"Downloading market data from {start_date} to {end_date}...\")\n",
    "# Download SPY and VIX data using yfinance\n",
    "df_spy = yf.download('SPY', start=start_date, end=end_date, auto_adjust=True)\n",
    "df_vix = yf.download('^VIX', start=start_date, end=end_date)\n",
    "\n",
    "# Fix the multi-level column structure\n",
    "df_spy.columns = df_spy.columns.droplevel(1) if len(df_spy.columns.names) > 1 else df_spy.columns\n",
    "df_vix.columns = df_vix.columns.droplevel(1) if len(df_vix.columns.names) > 1 else df_vix.columns\n",
    "\n",
    "# Reset index to make Date a column\n",
    "df_spy = df_spy.reset_index()\n",
    "df_vix = df_vix.reset_index()\n",
    "\n",
    "# Keep only the Date and Close columns from VIX\n",
    "df_vix = df_vix[['Date', 'Close']].rename(columns={'Close': 'VIX'})\n",
    "\n",
    "# Merge SPY and VIX data\n",
    "df = pd.merge(df_spy, df_vix, on='Date', how='left')\n",
    "\n",
    "# Forward fill any missing VIX values\n",
    "df['VIX'] = df['VIX'].fillna(method='ffill')\n",
    "\n",
    "# Display first few rows to check the structure\n",
    "print(\"DataFrame structure:\")\n",
    "print(\"Data shape:\", df.shape)\n",
    "print(\"Data columns:\", df.columns.tolist())\n",
    "df.head()"
   ]
  },
  {
   "cell_type": "code",
   "execution_count": 13,
   "metadata": {},
   "outputs": [
    {
     "data": {
      "application/vnd.microsoft.datawrangler.viewer.v0+json": {
       "columns": [
        {
         "name": "index",
         "rawType": "int64",
         "type": "integer"
        },
        {
         "name": "Date",
         "rawType": "datetime64[ns]",
         "type": "datetime"
        },
        {
         "name": "Close",
         "rawType": "float64",
         "type": "float"
        },
        {
         "name": "High",
         "rawType": "float64",
         "type": "float"
        },
        {
         "name": "Low",
         "rawType": "float64",
         "type": "float"
        },
        {
         "name": "Open",
         "rawType": "float64",
         "type": "float"
        },
        {
         "name": "Volume",
         "rawType": "int64",
         "type": "integer"
        },
        {
         "name": "VIX",
         "rawType": "float64",
         "type": "float"
        },
        {
         "name": "Volatility",
         "rawType": "float64",
         "type": "float"
        },
        {
         "name": "MA",
         "rawType": "float64",
         "type": "float"
        },
        {
         "name": "Return",
         "rawType": "float64",
         "type": "float"
        },
        {
         "name": "VIX_Ratio",
         "rawType": "float64",
         "type": "float"
        }
       ],
       "conversionMethod": "pd.DataFrame",
       "ref": "02586698-c86d-4e7d-b404-e896b296adfc",
       "rows": [
        [
         "0",
         "1995-01-03 00:00:00",
         "26.815872192382812",
         "26.852480891621564",
         "26.760959143524694",
         "26.77011131833438",
         "324300",
         "14.25",
         "0.0",
         "0.0",
         "0.0",
         "0.0"
        ],
        [
         "1",
         "1995-01-04 00:00:00",
         "26.944002151489258",
         "26.944002151489258",
         "26.797567357187685",
         "26.93484997684541",
         "351800",
         "13.529999732971191",
         "0.0",
         "0.0",
         "0.0",
         "0.0"
        ],
        [
         "2",
         "1995-01-05 00:00:00",
         "26.944002151489258",
         "27.008067373996195",
         "26.916545627557714",
         "26.962306500776954",
         "89800",
         "13.5",
         "0.0",
         "0.0",
         "0.0",
         "0.0"
        ],
        [
         "3",
         "1995-01-06 00:00:00",
         "26.971464157104492",
         "27.09044245165568",
         "26.88909456856905",
         "26.9989206866163",
         "448400",
         "13.130000114440918",
         "0.0",
         "0.0",
         "0.0",
         "0.0"
        ],
        [
         "4",
         "1995-01-09 00:00:00",
         "26.998912811279297",
         "26.998912811279293",
         "26.9439997682733",
         "26.962304115941965",
         "36800",
         "13.329999923706055",
         "0.0",
         "0.0",
         "0.0",
         "0.0"
        ],
        [
         "5",
         "1995-01-10 00:00:00",
         "27.02637481689453",
         "27.172809627957964",
         "27.02637481689453",
         "27.06298351966039",
         "229800",
         "12.520000457763672",
         "0.0",
         "0.0",
         "0.0",
         "0.0"
        ],
        [
         "6",
         "1995-01-11 00:00:00",
         "27.044675827026367",
         "27.117893223512393",
         "26.83417581212904",
         "27.117893223512393",
         "222400",
         "12.149999618530273",
         "0.0",
         "0.0",
         "0.0",
         "0.0"
        ],
        [
         "7",
         "1995-01-12 00:00:00",
         "27.053829193115234",
         "27.072133543042916",
         "26.96230744347682",
         "27.01722049325987",
         "40300",
         "12.829999923706055",
         "0.0",
         "0.0",
         "0.0",
         "0.0"
        ],
        [
         "8",
         "1995-01-13 00:00:00",
         "27.37415885925293",
         "27.37415885925293",
         "27.16365880784443",
         "27.200267512437215",
         "170600",
         "11.100000381469727",
         "0.0",
         "0.0",
         "0.0",
         "0.0"
        ],
        [
         "9",
         "1995-01-16 00:00:00",
         "27.538894653320312",
         "27.54804682834634",
         "27.365003327825768",
         "27.365003327825768",
         "105100",
         "11.140000343322754",
         "0.0",
         "0.0",
         "0.0",
         "0.0"
        ],
        [
         "10",
         "1995-01-17 00:00:00",
         "27.54804801940918",
         "27.56635237025264",
         "27.447374089770143",
         "27.483982791457066",
         "89500",
         "11.789999961853027",
         "0.053481672412308404",
         "27.144436264038085",
         "0.03323795745652262",
         "0.9248509504227082"
        ],
        [
         "11",
         "1995-01-18 00:00:00",
         "27.520587921142578",
         "27.57550096654559",
         "27.45652270150573",
         "27.52974009537641",
         "84500",
         "11.569999694824219",
         "0.0602887844815632",
         "27.20209484100342",
         "-0.099680740527439",
         "0.9254518998928486"
        ],
        [
         "12",
         "1995-01-19 00:00:00",
         "27.364988327026367",
         "27.456510027116757",
         "27.346683987008287",
         "27.42905351708964",
         "139100",
         "11.859999656677246",
         "0.05450873602243519",
         "27.244193458557127",
         "-0.5653934231422149",
         "0.9637574854734579"
        ],
        [
         "13",
         "1995-01-20 00:00:00",
         "27.26433753967285",
         "27.337554961733066",
         "27.20942447312769",
         "27.32840278397554",
         "78700",
         "12.149999618530273",
         "0.046253439053580224",
         "27.273480796813963",
         "-0.36780862520635654",
         "1.0006588379917518"
        ],
        [
         "14",
         "1995-01-23 00:00:00",
         "27.346689224243164",
         "27.34668922424316",
         "27.06297189962752",
         "27.08127624315111",
         "53700",
         "12.789999961853027",
         "0.03804114423604915",
         "27.30825843811035",
         "0.3020490941710247",
         "1.0619395554976572"
        ]
       ],
       "shape": {
        "columns": 11,
        "rows": 15
       }
      },
      "text/html": [
       "<div>\n",
       "<style scoped>\n",
       "    .dataframe tbody tr th:only-of-type {\n",
       "        vertical-align: middle;\n",
       "    }\n",
       "\n",
       "    .dataframe tbody tr th {\n",
       "        vertical-align: top;\n",
       "    }\n",
       "\n",
       "    .dataframe thead th {\n",
       "        text-align: right;\n",
       "    }\n",
       "</style>\n",
       "<table border=\"1\" class=\"dataframe\">\n",
       "  <thead>\n",
       "    <tr style=\"text-align: right;\">\n",
       "      <th>Price</th>\n",
       "      <th>Date</th>\n",
       "      <th>Close</th>\n",
       "      <th>High</th>\n",
       "      <th>Low</th>\n",
       "      <th>Open</th>\n",
       "      <th>Volume</th>\n",
       "      <th>VIX</th>\n",
       "      <th>Volatility</th>\n",
       "      <th>MA</th>\n",
       "      <th>Return</th>\n",
       "      <th>VIX_Ratio</th>\n",
       "    </tr>\n",
       "  </thead>\n",
       "  <tbody>\n",
       "    <tr>\n",
       "      <th>0</th>\n",
       "      <td>1995-01-03</td>\n",
       "      <td>26.815872</td>\n",
       "      <td>26.852481</td>\n",
       "      <td>26.760959</td>\n",
       "      <td>26.770111</td>\n",
       "      <td>324300</td>\n",
       "      <td>14.25</td>\n",
       "      <td>0.000000</td>\n",
       "      <td>0.000000</td>\n",
       "      <td>0.000000</td>\n",
       "      <td>0.000000</td>\n",
       "    </tr>\n",
       "    <tr>\n",
       "      <th>1</th>\n",
       "      <td>1995-01-04</td>\n",
       "      <td>26.944002</td>\n",
       "      <td>26.944002</td>\n",
       "      <td>26.797567</td>\n",
       "      <td>26.934850</td>\n",
       "      <td>351800</td>\n",
       "      <td>13.53</td>\n",
       "      <td>0.000000</td>\n",
       "      <td>0.000000</td>\n",
       "      <td>0.000000</td>\n",
       "      <td>0.000000</td>\n",
       "    </tr>\n",
       "    <tr>\n",
       "      <th>2</th>\n",
       "      <td>1995-01-05</td>\n",
       "      <td>26.944002</td>\n",
       "      <td>27.008067</td>\n",
       "      <td>26.916546</td>\n",
       "      <td>26.962307</td>\n",
       "      <td>89800</td>\n",
       "      <td>13.50</td>\n",
       "      <td>0.000000</td>\n",
       "      <td>0.000000</td>\n",
       "      <td>0.000000</td>\n",
       "      <td>0.000000</td>\n",
       "    </tr>\n",
       "    <tr>\n",
       "      <th>3</th>\n",
       "      <td>1995-01-06</td>\n",
       "      <td>26.971464</td>\n",
       "      <td>27.090442</td>\n",
       "      <td>26.889095</td>\n",
       "      <td>26.998921</td>\n",
       "      <td>448400</td>\n",
       "      <td>13.13</td>\n",
       "      <td>0.000000</td>\n",
       "      <td>0.000000</td>\n",
       "      <td>0.000000</td>\n",
       "      <td>0.000000</td>\n",
       "    </tr>\n",
       "    <tr>\n",
       "      <th>4</th>\n",
       "      <td>1995-01-09</td>\n",
       "      <td>26.998913</td>\n",
       "      <td>26.998913</td>\n",
       "      <td>26.944000</td>\n",
       "      <td>26.962304</td>\n",
       "      <td>36800</td>\n",
       "      <td>13.33</td>\n",
       "      <td>0.000000</td>\n",
       "      <td>0.000000</td>\n",
       "      <td>0.000000</td>\n",
       "      <td>0.000000</td>\n",
       "    </tr>\n",
       "    <tr>\n",
       "      <th>5</th>\n",
       "      <td>1995-01-10</td>\n",
       "      <td>27.026375</td>\n",
       "      <td>27.172810</td>\n",
       "      <td>27.026375</td>\n",
       "      <td>27.062984</td>\n",
       "      <td>229800</td>\n",
       "      <td>12.52</td>\n",
       "      <td>0.000000</td>\n",
       "      <td>0.000000</td>\n",
       "      <td>0.000000</td>\n",
       "      <td>0.000000</td>\n",
       "    </tr>\n",
       "    <tr>\n",
       "      <th>6</th>\n",
       "      <td>1995-01-11</td>\n",
       "      <td>27.044676</td>\n",
       "      <td>27.117893</td>\n",
       "      <td>26.834176</td>\n",
       "      <td>27.117893</td>\n",
       "      <td>222400</td>\n",
       "      <td>12.15</td>\n",
       "      <td>0.000000</td>\n",
       "      <td>0.000000</td>\n",
       "      <td>0.000000</td>\n",
       "      <td>0.000000</td>\n",
       "    </tr>\n",
       "    <tr>\n",
       "      <th>7</th>\n",
       "      <td>1995-01-12</td>\n",
       "      <td>27.053829</td>\n",
       "      <td>27.072134</td>\n",
       "      <td>26.962307</td>\n",
       "      <td>27.017220</td>\n",
       "      <td>40300</td>\n",
       "      <td>12.83</td>\n",
       "      <td>0.000000</td>\n",
       "      <td>0.000000</td>\n",
       "      <td>0.000000</td>\n",
       "      <td>0.000000</td>\n",
       "    </tr>\n",
       "    <tr>\n",
       "      <th>8</th>\n",
       "      <td>1995-01-13</td>\n",
       "      <td>27.374159</td>\n",
       "      <td>27.374159</td>\n",
       "      <td>27.163659</td>\n",
       "      <td>27.200268</td>\n",
       "      <td>170600</td>\n",
       "      <td>11.10</td>\n",
       "      <td>0.000000</td>\n",
       "      <td>0.000000</td>\n",
       "      <td>0.000000</td>\n",
       "      <td>0.000000</td>\n",
       "    </tr>\n",
       "    <tr>\n",
       "      <th>9</th>\n",
       "      <td>1995-01-16</td>\n",
       "      <td>27.538895</td>\n",
       "      <td>27.548047</td>\n",
       "      <td>27.365003</td>\n",
       "      <td>27.365003</td>\n",
       "      <td>105100</td>\n",
       "      <td>11.14</td>\n",
       "      <td>0.000000</td>\n",
       "      <td>0.000000</td>\n",
       "      <td>0.000000</td>\n",
       "      <td>0.000000</td>\n",
       "    </tr>\n",
       "    <tr>\n",
       "      <th>10</th>\n",
       "      <td>1995-01-17</td>\n",
       "      <td>27.548048</td>\n",
       "      <td>27.566352</td>\n",
       "      <td>27.447374</td>\n",
       "      <td>27.483983</td>\n",
       "      <td>89500</td>\n",
       "      <td>11.79</td>\n",
       "      <td>0.053482</td>\n",
       "      <td>27.144436</td>\n",
       "      <td>0.033238</td>\n",
       "      <td>0.924851</td>\n",
       "    </tr>\n",
       "    <tr>\n",
       "      <th>11</th>\n",
       "      <td>1995-01-18</td>\n",
       "      <td>27.520588</td>\n",
       "      <td>27.575501</td>\n",
       "      <td>27.456523</td>\n",
       "      <td>27.529740</td>\n",
       "      <td>84500</td>\n",
       "      <td>11.57</td>\n",
       "      <td>0.060289</td>\n",
       "      <td>27.202095</td>\n",
       "      <td>-0.099681</td>\n",
       "      <td>0.925452</td>\n",
       "    </tr>\n",
       "    <tr>\n",
       "      <th>12</th>\n",
       "      <td>1995-01-19</td>\n",
       "      <td>27.364988</td>\n",
       "      <td>27.456510</td>\n",
       "      <td>27.346684</td>\n",
       "      <td>27.429054</td>\n",
       "      <td>139100</td>\n",
       "      <td>11.86</td>\n",
       "      <td>0.054509</td>\n",
       "      <td>27.244193</td>\n",
       "      <td>-0.565393</td>\n",
       "      <td>0.963757</td>\n",
       "    </tr>\n",
       "    <tr>\n",
       "      <th>13</th>\n",
       "      <td>1995-01-20</td>\n",
       "      <td>27.264338</td>\n",
       "      <td>27.337555</td>\n",
       "      <td>27.209424</td>\n",
       "      <td>27.328403</td>\n",
       "      <td>78700</td>\n",
       "      <td>12.15</td>\n",
       "      <td>0.046253</td>\n",
       "      <td>27.273481</td>\n",
       "      <td>-0.367809</td>\n",
       "      <td>1.000659</td>\n",
       "    </tr>\n",
       "    <tr>\n",
       "      <th>14</th>\n",
       "      <td>1995-01-23</td>\n",
       "      <td>27.346689</td>\n",
       "      <td>27.346689</td>\n",
       "      <td>27.062972</td>\n",
       "      <td>27.081276</td>\n",
       "      <td>53700</td>\n",
       "      <td>12.79</td>\n",
       "      <td>0.038041</td>\n",
       "      <td>27.308258</td>\n",
       "      <td>0.302049</td>\n",
       "      <td>1.061940</td>\n",
       "    </tr>\n",
       "  </tbody>\n",
       "</table>\n",
       "</div>"
      ],
      "text/plain": [
       "Price       Date      Close       High        Low       Open  Volume    VIX  \\\n",
       "0     1995-01-03  26.815872  26.852481  26.760959  26.770111  324300  14.25   \n",
       "1     1995-01-04  26.944002  26.944002  26.797567  26.934850  351800  13.53   \n",
       "2     1995-01-05  26.944002  27.008067  26.916546  26.962307   89800  13.50   \n",
       "3     1995-01-06  26.971464  27.090442  26.889095  26.998921  448400  13.13   \n",
       "4     1995-01-09  26.998913  26.998913  26.944000  26.962304   36800  13.33   \n",
       "5     1995-01-10  27.026375  27.172810  27.026375  27.062984  229800  12.52   \n",
       "6     1995-01-11  27.044676  27.117893  26.834176  27.117893  222400  12.15   \n",
       "7     1995-01-12  27.053829  27.072134  26.962307  27.017220   40300  12.83   \n",
       "8     1995-01-13  27.374159  27.374159  27.163659  27.200268  170600  11.10   \n",
       "9     1995-01-16  27.538895  27.548047  27.365003  27.365003  105100  11.14   \n",
       "10    1995-01-17  27.548048  27.566352  27.447374  27.483983   89500  11.79   \n",
       "11    1995-01-18  27.520588  27.575501  27.456523  27.529740   84500  11.57   \n",
       "12    1995-01-19  27.364988  27.456510  27.346684  27.429054  139100  11.86   \n",
       "13    1995-01-20  27.264338  27.337555  27.209424  27.328403   78700  12.15   \n",
       "14    1995-01-23  27.346689  27.346689  27.062972  27.081276   53700  12.79   \n",
       "\n",
       "Price  Volatility         MA    Return  VIX_Ratio  \n",
       "0        0.000000   0.000000  0.000000   0.000000  \n",
       "1        0.000000   0.000000  0.000000   0.000000  \n",
       "2        0.000000   0.000000  0.000000   0.000000  \n",
       "3        0.000000   0.000000  0.000000   0.000000  \n",
       "4        0.000000   0.000000  0.000000   0.000000  \n",
       "5        0.000000   0.000000  0.000000   0.000000  \n",
       "6        0.000000   0.000000  0.000000   0.000000  \n",
       "7        0.000000   0.000000  0.000000   0.000000  \n",
       "8        0.000000   0.000000  0.000000   0.000000  \n",
       "9        0.000000   0.000000  0.000000   0.000000  \n",
       "10       0.053482  27.144436  0.033238   0.924851  \n",
       "11       0.060289  27.202095 -0.099681   0.925452  \n",
       "12       0.054509  27.244193 -0.565393   0.963757  \n",
       "13       0.046253  27.273481 -0.367809   1.000659  \n",
       "14       0.038041  27.308258  0.302049   1.061940  "
      ]
     },
     "execution_count": 13,
     "metadata": {},
     "output_type": "execute_result"
    }
   ],
   "source": [
    "# Function to calculate technical indicators\n",
    "def calculate_indicators(data):\n",
    "    # Create a copy of the dataframe to avoid modifying original\n",
    "    df_copy = data.copy()\n",
    "    \n",
    "    # Volatility is computed by obtaining variance between current close and prices of past 10 days\n",
    "    volatility = []\n",
    "    # MA is the 10 day SMA\n",
    "    ma = []\n",
    "    # Return is the single-day percentage return\n",
    "    returns = []\n",
    "    ma_sum = 0\n",
    "    \n",
    "    # Normalize VIX relative to its recent history (10-day window)\n",
    "    vix_ratio = []\n",
    "    \n",
    "    # Warming up data for calculations\n",
    "    for i in range(0, 10):\n",
    "        volatility.append(0)\n",
    "        ma.append(0)\n",
    "        returns.append(0)\n",
    "        vix_ratio.append(0)\n",
    "        ma_sum += df_copy['Close'].iloc[i]\n",
    "    \n",
    "    # Filling in data for return, moving average, and volatility\n",
    "    for ind in range(len(df_copy)):\n",
    "        if ind >= 10:\n",
    "            # SPY indicators\n",
    "            tail_close = df_copy['Close'].iloc[ind-10]\n",
    "            prev_close = df_copy['Close'].iloc[ind-1]\n",
    "            head_close = df_copy['Close'].iloc[ind]\n",
    "            ma_sum = (ma_sum - tail_close + head_close)\n",
    "            ma_curr = ma_sum/10\n",
    "            ma.append(ma_curr)\n",
    "            returns.append(((head_close-prev_close)/prev_close)*100)\n",
    "            \n",
    "            # Computing Volatility\n",
    "            vol_sum = 0\n",
    "            for i in range(0, 10):\n",
    "                curr_vol = abs(ma_curr - df_copy['Close'].iloc[ind-i])\n",
    "                vol_sum += (curr_vol ** 2)\n",
    "            volatility.append(vol_sum/10)\n",
    "            \n",
    "            # VIX-based indicator: current VIX relative to 10-day average\n",
    "            vix_10day_avg = sum(df_copy['VIX'].iloc[ind-10:ind]) / 10\n",
    "            vix_ratio.append(df_copy['VIX'].iloc[ind] / vix_10day_avg if vix_10day_avg > 0 else 1)\n",
    "    \n",
    "    # Adding columns to dataframe\n",
    "    df_copy['Volatility'] = volatility\n",
    "    df_copy['MA'] = ma\n",
    "    df_copy['Return'] = returns\n",
    "    df_copy['VIX_Ratio'] = vix_ratio\n",
    "    \n",
    "    return df_copy\n",
    "\n",
    "# Calculate indicators for the entire dataset\n",
    "df = calculate_indicators(df)\n",
    "df.head(15)"
   ]
  },
  {
   "cell_type": "code",
   "execution_count": 14,
   "metadata": {},
   "outputs": [
    {
     "name": "stdout",
     "output_type": "stream",
     "text": [
      "Training model on data from 2018-01-01 to 2024-12-31\n",
      "Training data shape: (1761, 11)\n",
      "Regime 0\n",
      "Avg Vol: 5.6755\n",
      "Avg Return: 0.1116%\n",
      "Avg VIX: 16.24\n",
      "Occurrence: 811 days\n",
      "\n",
      "Regime 1\n",
      "Avg Vol: 98.6563\n",
      "Avg Return: -0.1834%\n",
      "Avg VIX: 30.90\n",
      "Occurrence: 199 days\n",
      "\n",
      "Regime 2\n",
      "Avg Vol: 27.1617\n",
      "Avg Return: 0.0656%\n",
      "Avg VIX: 20.87\n",
      "Occurrence: 751 days\n",
      "\n"
     ]
    }
   ],
   "source": [
    "# Function to train HMM model on specified period\n",
    "def train_hmm_model(data, start_date, end_date, n_states=3, n_iter=75):\n",
    "    # Filter data to training period\n",
    "    training = data[(data['Date'] >= start_date) & (data['Date'] <= end_date)].copy()\n",
    "    \n",
    "    print(f\"Training model on data from {start_date} to {end_date}\")\n",
    "    print(f\"Training data shape: {training.shape}\")\n",
    "    \n",
    "    # Prepare observations for HMM (using Volatility, Return, and VIX_Ratio)\n",
    "    obs = np.column_stack([\n",
    "        training['Volatility'].values, \n",
    "        training['Return'].values,\n",
    "        training['VIX_Ratio'].values\n",
    "    ])\n",
    "    \n",
    "    # Create and train the HMM model\n",
    "    model = hmm.GaussianHMM(n_components=n_states, covariance_type=\"full\", n_iter=n_iter)\n",
    "    model.fit(obs)\n",
    "    \n",
    "    # Get predictions for training data\n",
    "    predictions = model.predict(obs)\n",
    "    \n",
    "    # Analyze regime characteristics\n",
    "    regime_vol = [0] * n_states\n",
    "    regime_ret = [0] * n_states\n",
    "    regime_vix = [0] * n_states\n",
    "    regime_count = [0] * n_states\n",
    "    \n",
    "    for i in range(len(predictions)):\n",
    "        regime = predictions[i]\n",
    "        regime_count[regime] += 1\n",
    "        regime_vol[regime] += training['Volatility'].iloc[i]\n",
    "        regime_ret[regime] += training['Return'].iloc[i]\n",
    "        regime_vix[regime] += training['VIX'].iloc[i]\n",
    "    \n",
    "    # Calculate averages\n",
    "    for i in range(n_states):\n",
    "        if regime_count[i] > 0:  # Prevent division by zero\n",
    "            regime_vol[i] = regime_vol[i] / regime_count[i]\n",
    "            regime_ret[i] = regime_ret[i] / regime_count[i]\n",
    "            regime_vix[i] = regime_vix[i] / regime_count[i]\n",
    "    \n",
    "    # Print regime characteristics\n",
    "    for i in range(n_states):\n",
    "        print(f\"Regime {i}\")\n",
    "        print(f\"Avg Vol: {regime_vol[i]:.4f}\")\n",
    "        print(f\"Avg Return: {regime_ret[i]:.4f}%\")\n",
    "        print(f\"Avg VIX: {regime_vix[i]:.2f}\")\n",
    "        print(f\"Occurrence: {regime_count[i]} days\\n\")\n",
    "    \n",
    "    return model, training, predictions\n",
    "\n",
    "# Train the model on the fixed period\n",
    "model, training_data, train_predictions = train_hmm_model(df, train_start_date, train_end_date, \n",
    "                                                         hidden_states, em_iterations)"
   ]
  },
  {
   "cell_type": "code",
   "execution_count": 15,
   "metadata": {},
   "outputs": [
    {
     "data": {
      "application/vnd.plotly.v1+json": {
       "config": {
        "plotlyServerURL": "https://plot.ly"
       },
       "data": [
        {
         "marker": {
          "color": "rgb(102,194,165)",
          "size": 6
         },
         "mode": "markers",
         "name": "Regime 0",
         "showlegend": true,
         "type": "scatter",
         "x": [
          "2018-01-02T00:00:00.000000000",
          "2018-01-03T00:00:00.000000000",
          "2018-01-04T00:00:00.000000000",
          "2018-01-05T00:00:00.000000000",
          "2018-01-08T00:00:00.000000000",
          "2018-01-09T00:00:00.000000000",
          "2018-01-10T00:00:00.000000000",
          "2018-01-11T00:00:00.000000000",
          "2018-01-12T00:00:00.000000000",
          "2018-01-16T00:00:00.000000000",
          "2018-01-17T00:00:00.000000000",
          "2018-01-18T00:00:00.000000000",
          "2018-01-19T00:00:00.000000000",
          "2018-01-22T00:00:00.000000000",
          "2018-01-23T00:00:00.000000000",
          "2018-01-24T00:00:00.000000000",
          "2018-01-25T00:00:00.000000000",
          "2018-01-26T00:00:00.000000000",
          "2018-01-29T00:00:00.000000000",
          "2018-01-30T00:00:00.000000000",
          "2018-01-31T00:00:00.000000000",
          "2018-02-01T00:00:00.000000000",
          "2018-02-23T00:00:00.000000000",
          "2018-02-26T00:00:00.000000000",
          "2018-02-27T00:00:00.000000000",
          "2018-02-28T00:00:00.000000000",
          "2018-03-01T00:00:00.000000000",
          "2018-03-02T00:00:00.000000000",
          "2018-03-05T00:00:00.000000000",
          "2018-03-06T00:00:00.000000000",
          "2018-03-07T00:00:00.000000000",
          "2018-03-08T00:00:00.000000000",
          "2018-03-09T00:00:00.000000000",
          "2018-03-12T00:00:00.000000000",
          "2018-03-13T00:00:00.000000000",
          "2018-03-14T00:00:00.000000000",
          "2018-03-15T00:00:00.000000000",
          "2018-03-16T00:00:00.000000000",
          "2018-03-19T00:00:00.000000000",
          "2018-03-20T00:00:00.000000000",
          "2018-03-21T00:00:00.000000000",
          "2018-04-04T00:00:00.000000000",
          "2018-04-05T00:00:00.000000000",
          "2018-04-06T00:00:00.000000000",
          "2018-04-09T00:00:00.000000000",
          "2018-04-10T00:00:00.000000000",
          "2018-04-11T00:00:00.000000000",
          "2018-04-12T00:00:00.000000000",
          "2018-04-13T00:00:00.000000000",
          "2018-04-16T00:00:00.000000000",
          "2018-04-17T00:00:00.000000000",
          "2018-04-18T00:00:00.000000000",
          "2018-04-19T00:00:00.000000000",
          "2018-04-20T00:00:00.000000000",
          "2018-04-23T00:00:00.000000000",
          "2018-04-24T00:00:00.000000000",
          "2018-04-25T00:00:00.000000000",
          "2018-04-26T00:00:00.000000000",
          "2018-04-27T00:00:00.000000000",
          "2018-04-30T00:00:00.000000000",
          "2018-05-01T00:00:00.000000000",
          "2018-05-02T00:00:00.000000000",
          "2018-05-03T00:00:00.000000000",
          "2018-05-04T00:00:00.000000000",
          "2018-05-07T00:00:00.000000000",
          "2018-05-08T00:00:00.000000000",
          "2018-05-09T00:00:00.000000000",
          "2018-05-10T00:00:00.000000000",
          "2018-05-11T00:00:00.000000000",
          "2018-05-14T00:00:00.000000000",
          "2018-05-15T00:00:00.000000000",
          "2018-05-16T00:00:00.000000000",
          "2018-05-17T00:00:00.000000000",
          "2018-05-18T00:00:00.000000000",
          "2018-05-21T00:00:00.000000000",
          "2018-05-22T00:00:00.000000000",
          "2018-05-23T00:00:00.000000000",
          "2018-05-24T00:00:00.000000000",
          "2018-05-25T00:00:00.000000000",
          "2018-05-29T00:00:00.000000000",
          "2018-05-30T00:00:00.000000000",
          "2018-05-31T00:00:00.000000000",
          "2018-06-01T00:00:00.000000000",
          "2018-06-04T00:00:00.000000000",
          "2018-06-05T00:00:00.000000000",
          "2018-06-06T00:00:00.000000000",
          "2018-06-07T00:00:00.000000000",
          "2018-06-08T00:00:00.000000000",
          "2018-06-11T00:00:00.000000000",
          "2018-06-12T00:00:00.000000000",
          "2018-06-13T00:00:00.000000000",
          "2018-06-14T00:00:00.000000000",
          "2018-06-15T00:00:00.000000000",
          "2018-06-18T00:00:00.000000000",
          "2018-06-19T00:00:00.000000000",
          "2018-06-20T00:00:00.000000000",
          "2018-06-21T00:00:00.000000000",
          "2018-06-22T00:00:00.000000000",
          "2018-06-25T00:00:00.000000000",
          "2018-06-26T00:00:00.000000000",
          "2018-06-27T00:00:00.000000000",
          "2018-06-28T00:00:00.000000000",
          "2018-06-29T00:00:00.000000000",
          "2018-07-02T00:00:00.000000000",
          "2018-07-03T00:00:00.000000000",
          "2018-07-05T00:00:00.000000000",
          "2018-07-06T00:00:00.000000000",
          "2018-07-09T00:00:00.000000000",
          "2018-07-10T00:00:00.000000000",
          "2018-07-11T00:00:00.000000000",
          "2018-07-12T00:00:00.000000000",
          "2018-07-13T00:00:00.000000000",
          "2018-07-16T00:00:00.000000000",
          "2018-07-17T00:00:00.000000000",
          "2018-07-18T00:00:00.000000000",
          "2018-07-19T00:00:00.000000000",
          "2018-07-20T00:00:00.000000000",
          "2018-07-23T00:00:00.000000000",
          "2018-07-24T00:00:00.000000000",
          "2018-07-25T00:00:00.000000000",
          "2018-07-26T00:00:00.000000000",
          "2018-07-27T00:00:00.000000000",
          "2018-07-30T00:00:00.000000000",
          "2018-07-31T00:00:00.000000000",
          "2018-08-01T00:00:00.000000000",
          "2018-08-02T00:00:00.000000000",
          "2018-08-03T00:00:00.000000000",
          "2018-08-06T00:00:00.000000000",
          "2018-08-07T00:00:00.000000000",
          "2018-08-08T00:00:00.000000000",
          "2018-08-09T00:00:00.000000000",
          "2018-08-10T00:00:00.000000000",
          "2018-08-13T00:00:00.000000000",
          "2018-08-14T00:00:00.000000000",
          "2018-08-15T00:00:00.000000000",
          "2018-08-16T00:00:00.000000000",
          "2018-08-17T00:00:00.000000000",
          "2018-08-20T00:00:00.000000000",
          "2018-08-21T00:00:00.000000000",
          "2018-08-22T00:00:00.000000000",
          "2018-08-23T00:00:00.000000000",
          "2018-08-24T00:00:00.000000000",
          "2018-08-27T00:00:00.000000000",
          "2018-08-28T00:00:00.000000000",
          "2018-08-29T00:00:00.000000000",
          "2018-08-30T00:00:00.000000000",
          "2018-08-31T00:00:00.000000000",
          "2018-09-04T00:00:00.000000000",
          "2018-09-05T00:00:00.000000000",
          "2018-09-06T00:00:00.000000000",
          "2018-09-07T00:00:00.000000000",
          "2018-09-10T00:00:00.000000000",
          "2018-09-11T00:00:00.000000000",
          "2018-09-12T00:00:00.000000000",
          "2018-09-13T00:00:00.000000000",
          "2018-09-14T00:00:00.000000000",
          "2018-09-17T00:00:00.000000000",
          "2018-09-18T00:00:00.000000000",
          "2018-09-19T00:00:00.000000000",
          "2018-09-20T00:00:00.000000000",
          "2018-09-21T00:00:00.000000000",
          "2018-09-24T00:00:00.000000000",
          "2018-09-25T00:00:00.000000000",
          "2018-09-26T00:00:00.000000000",
          "2018-09-27T00:00:00.000000000",
          "2018-09-28T00:00:00.000000000",
          "2018-10-01T00:00:00.000000000",
          "2018-10-02T00:00:00.000000000",
          "2018-10-03T00:00:00.000000000",
          "2018-10-04T00:00:00.000000000",
          "2018-10-05T00:00:00.000000000",
          "2018-10-08T00:00:00.000000000",
          "2018-10-09T00:00:00.000000000",
          "2018-11-13T00:00:00.000000000",
          "2018-11-14T00:00:00.000000000",
          "2018-11-15T00:00:00.000000000",
          "2018-11-16T00:00:00.000000000",
          "2019-01-17T00:00:00.000000000",
          "2019-01-18T00:00:00.000000000",
          "2019-01-22T00:00:00.000000000",
          "2019-01-23T00:00:00.000000000",
          "2019-01-24T00:00:00.000000000",
          "2019-01-25T00:00:00.000000000",
          "2019-01-28T00:00:00.000000000",
          "2019-01-29T00:00:00.000000000",
          "2019-01-30T00:00:00.000000000",
          "2019-01-31T00:00:00.000000000",
          "2019-02-01T00:00:00.000000000",
          "2019-02-04T00:00:00.000000000",
          "2019-02-05T00:00:00.000000000",
          "2019-02-06T00:00:00.000000000",
          "2019-02-07T00:00:00.000000000",
          "2019-02-08T00:00:00.000000000",
          "2019-02-11T00:00:00.000000000",
          "2019-02-12T00:00:00.000000000",
          "2019-02-13T00:00:00.000000000",
          "2019-02-14T00:00:00.000000000",
          "2019-02-15T00:00:00.000000000",
          "2019-02-19T00:00:00.000000000",
          "2019-02-20T00:00:00.000000000",
          "2019-02-21T00:00:00.000000000",
          "2019-02-22T00:00:00.000000000",
          "2019-02-25T00:00:00.000000000",
          "2019-02-26T00:00:00.000000000",
          "2019-02-27T00:00:00.000000000",
          "2019-02-28T00:00:00.000000000",
          "2019-03-01T00:00:00.000000000",
          "2019-03-04T00:00:00.000000000",
          "2019-03-05T00:00:00.000000000",
          "2019-03-06T00:00:00.000000000",
          "2019-03-07T00:00:00.000000000",
          "2019-03-08T00:00:00.000000000",
          "2019-03-11T00:00:00.000000000",
          "2019-03-12T00:00:00.000000000",
          "2019-03-13T00:00:00.000000000",
          "2019-03-14T00:00:00.000000000",
          "2019-03-15T00:00:00.000000000",
          "2019-03-18T00:00:00.000000000",
          "2019-03-19T00:00:00.000000000",
          "2019-03-20T00:00:00.000000000",
          "2019-03-21T00:00:00.000000000",
          "2019-03-22T00:00:00.000000000",
          "2019-03-25T00:00:00.000000000",
          "2019-03-26T00:00:00.000000000",
          "2019-03-27T00:00:00.000000000",
          "2019-03-28T00:00:00.000000000",
          "2019-03-29T00:00:00.000000000",
          "2019-04-01T00:00:00.000000000",
          "2019-04-02T00:00:00.000000000",
          "2019-04-03T00:00:00.000000000",
          "2019-04-04T00:00:00.000000000",
          "2019-04-05T00:00:00.000000000",
          "2019-04-08T00:00:00.000000000",
          "2019-04-09T00:00:00.000000000",
          "2019-04-10T00:00:00.000000000",
          "2019-04-11T00:00:00.000000000",
          "2019-04-12T00:00:00.000000000",
          "2019-04-15T00:00:00.000000000",
          "2019-04-16T00:00:00.000000000",
          "2019-04-17T00:00:00.000000000",
          "2019-04-18T00:00:00.000000000",
          "2019-04-22T00:00:00.000000000",
          "2019-04-23T00:00:00.000000000",
          "2019-04-24T00:00:00.000000000",
          "2019-04-25T00:00:00.000000000",
          "2019-04-26T00:00:00.000000000",
          "2019-04-29T00:00:00.000000000",
          "2019-04-30T00:00:00.000000000",
          "2019-05-01T00:00:00.000000000",
          "2019-05-02T00:00:00.000000000",
          "2019-05-03T00:00:00.000000000",
          "2019-05-06T00:00:00.000000000",
          "2019-05-07T00:00:00.000000000",
          "2019-05-08T00:00:00.000000000",
          "2019-05-09T00:00:00.000000000",
          "2019-05-10T00:00:00.000000000",
          "2019-05-15T00:00:00.000000000",
          "2019-05-16T00:00:00.000000000",
          "2019-05-17T00:00:00.000000000",
          "2019-05-20T00:00:00.000000000",
          "2019-05-21T00:00:00.000000000",
          "2019-05-22T00:00:00.000000000",
          "2019-05-23T00:00:00.000000000",
          "2019-05-24T00:00:00.000000000",
          "2019-05-28T00:00:00.000000000",
          "2019-05-29T00:00:00.000000000",
          "2019-05-30T00:00:00.000000000",
          "2019-05-31T00:00:00.000000000",
          "2019-06-03T00:00:00.000000000",
          "2019-06-04T00:00:00.000000000",
          "2019-06-05T00:00:00.000000000",
          "2019-06-06T00:00:00.000000000",
          "2019-06-07T00:00:00.000000000",
          "2019-06-17T00:00:00.000000000",
          "2019-06-18T00:00:00.000000000",
          "2019-06-19T00:00:00.000000000",
          "2019-06-20T00:00:00.000000000",
          "2019-06-21T00:00:00.000000000",
          "2019-06-24T00:00:00.000000000",
          "2019-06-25T00:00:00.000000000",
          "2019-06-26T00:00:00.000000000",
          "2019-06-27T00:00:00.000000000",
          "2019-06-28T00:00:00.000000000",
          "2019-07-01T00:00:00.000000000",
          "2019-07-02T00:00:00.000000000",
          "2019-07-03T00:00:00.000000000",
          "2019-07-05T00:00:00.000000000",
          "2019-07-08T00:00:00.000000000",
          "2019-07-09T00:00:00.000000000",
          "2019-07-10T00:00:00.000000000",
          "2019-07-11T00:00:00.000000000",
          "2019-07-12T00:00:00.000000000",
          "2019-07-15T00:00:00.000000000",
          "2019-07-16T00:00:00.000000000",
          "2019-07-17T00:00:00.000000000",
          "2019-07-18T00:00:00.000000000",
          "2019-07-19T00:00:00.000000000",
          "2019-07-22T00:00:00.000000000",
          "2019-07-23T00:00:00.000000000",
          "2019-07-24T00:00:00.000000000",
          "2019-07-25T00:00:00.000000000",
          "2019-07-26T00:00:00.000000000",
          "2019-07-29T00:00:00.000000000",
          "2019-07-30T00:00:00.000000000",
          "2019-07-31T00:00:00.000000000",
          "2019-08-01T00:00:00.000000000",
          "2019-08-02T00:00:00.000000000",
          "2019-08-15T00:00:00.000000000",
          "2019-08-16T00:00:00.000000000",
          "2019-08-19T00:00:00.000000000",
          "2019-08-20T00:00:00.000000000",
          "2019-08-21T00:00:00.000000000",
          "2019-08-22T00:00:00.000000000",
          "2019-08-23T00:00:00.000000000",
          "2019-08-26T00:00:00.000000000",
          "2019-08-27T00:00:00.000000000",
          "2019-08-28T00:00:00.000000000",
          "2019-08-29T00:00:00.000000000",
          "2019-08-30T00:00:00.000000000",
          "2019-09-03T00:00:00.000000000",
          "2019-09-04T00:00:00.000000000",
          "2019-09-05T00:00:00.000000000",
          "2019-09-06T00:00:00.000000000",
          "2019-09-09T00:00:00.000000000",
          "2019-09-10T00:00:00.000000000",
          "2019-09-11T00:00:00.000000000",
          "2019-09-12T00:00:00.000000000",
          "2019-09-13T00:00:00.000000000",
          "2019-09-16T00:00:00.000000000",
          "2019-09-17T00:00:00.000000000",
          "2019-09-18T00:00:00.000000000",
          "2019-09-19T00:00:00.000000000",
          "2019-09-20T00:00:00.000000000",
          "2019-09-23T00:00:00.000000000",
          "2019-09-24T00:00:00.000000000",
          "2019-09-25T00:00:00.000000000",
          "2019-09-26T00:00:00.000000000",
          "2019-09-27T00:00:00.000000000",
          "2019-09-30T00:00:00.000000000",
          "2019-10-01T00:00:00.000000000",
          "2019-10-02T00:00:00.000000000",
          "2019-10-03T00:00:00.000000000",
          "2019-10-04T00:00:00.000000000",
          "2019-10-07T00:00:00.000000000",
          "2019-10-08T00:00:00.000000000",
          "2019-10-09T00:00:00.000000000",
          "2019-10-10T00:00:00.000000000",
          "2019-10-11T00:00:00.000000000",
          "2019-10-14T00:00:00.000000000",
          "2019-10-15T00:00:00.000000000",
          "2019-10-16T00:00:00.000000000",
          "2019-10-17T00:00:00.000000000",
          "2019-10-18T00:00:00.000000000",
          "2019-10-21T00:00:00.000000000",
          "2019-10-22T00:00:00.000000000",
          "2019-10-23T00:00:00.000000000",
          "2019-10-24T00:00:00.000000000",
          "2019-10-25T00:00:00.000000000",
          "2019-10-28T00:00:00.000000000",
          "2019-10-29T00:00:00.000000000",
          "2019-10-30T00:00:00.000000000",
          "2019-10-31T00:00:00.000000000",
          "2019-11-01T00:00:00.000000000",
          "2019-11-04T00:00:00.000000000",
          "2019-11-05T00:00:00.000000000",
          "2019-11-06T00:00:00.000000000",
          "2019-11-07T00:00:00.000000000",
          "2019-11-08T00:00:00.000000000",
          "2019-11-11T00:00:00.000000000",
          "2019-11-12T00:00:00.000000000",
          "2019-11-13T00:00:00.000000000",
          "2019-11-14T00:00:00.000000000",
          "2019-11-15T00:00:00.000000000",
          "2019-11-18T00:00:00.000000000",
          "2019-11-19T00:00:00.000000000",
          "2019-11-20T00:00:00.000000000",
          "2019-11-21T00:00:00.000000000",
          "2019-11-22T00:00:00.000000000",
          "2019-11-25T00:00:00.000000000",
          "2019-11-26T00:00:00.000000000",
          "2019-11-27T00:00:00.000000000",
          "2019-11-29T00:00:00.000000000",
          "2019-12-02T00:00:00.000000000",
          "2019-12-03T00:00:00.000000000",
          "2019-12-04T00:00:00.000000000",
          "2019-12-05T00:00:00.000000000",
          "2019-12-06T00:00:00.000000000",
          "2019-12-09T00:00:00.000000000",
          "2019-12-10T00:00:00.000000000",
          "2019-12-11T00:00:00.000000000",
          "2019-12-12T00:00:00.000000000",
          "2019-12-13T00:00:00.000000000",
          "2019-12-16T00:00:00.000000000",
          "2019-12-17T00:00:00.000000000",
          "2019-12-18T00:00:00.000000000",
          "2019-12-19T00:00:00.000000000",
          "2019-12-20T00:00:00.000000000",
          "2019-12-23T00:00:00.000000000",
          "2019-12-24T00:00:00.000000000",
          "2019-12-26T00:00:00.000000000",
          "2019-12-27T00:00:00.000000000",
          "2019-12-30T00:00:00.000000000",
          "2019-12-31T00:00:00.000000000",
          "2020-01-02T00:00:00.000000000",
          "2020-01-03T00:00:00.000000000",
          "2020-01-06T00:00:00.000000000",
          "2020-01-07T00:00:00.000000000",
          "2020-01-08T00:00:00.000000000",
          "2020-01-09T00:00:00.000000000",
          "2020-01-10T00:00:00.000000000",
          "2020-01-13T00:00:00.000000000",
          "2020-01-14T00:00:00.000000000",
          "2020-01-15T00:00:00.000000000",
          "2020-01-16T00:00:00.000000000",
          "2020-01-17T00:00:00.000000000",
          "2020-01-21T00:00:00.000000000",
          "2020-01-22T00:00:00.000000000",
          "2020-01-23T00:00:00.000000000",
          "2020-01-24T00:00:00.000000000",
          "2020-01-27T00:00:00.000000000",
          "2020-01-28T00:00:00.000000000",
          "2020-01-29T00:00:00.000000000",
          "2020-01-30T00:00:00.000000000",
          "2020-01-31T00:00:00.000000000",
          "2020-02-03T00:00:00.000000000",
          "2020-02-04T00:00:00.000000000",
          "2020-02-05T00:00:00.000000000",
          "2020-02-06T00:00:00.000000000",
          "2020-02-18T00:00:00.000000000",
          "2020-02-19T00:00:00.000000000",
          "2020-02-20T00:00:00.000000000",
          "2020-02-21T00:00:00.000000000",
          "2020-07-14T00:00:00.000000000",
          "2020-07-15T00:00:00.000000000",
          "2020-07-16T00:00:00.000000000",
          "2020-07-17T00:00:00.000000000",
          "2020-07-20T00:00:00.000000000",
          "2020-07-21T00:00:00.000000000",
          "2020-07-22T00:00:00.000000000",
          "2020-07-23T00:00:00.000000000",
          "2020-07-24T00:00:00.000000000",
          "2020-07-27T00:00:00.000000000",
          "2020-07-28T00:00:00.000000000",
          "2020-07-29T00:00:00.000000000",
          "2020-07-30T00:00:00.000000000",
          "2020-07-31T00:00:00.000000000",
          "2020-08-03T00:00:00.000000000",
          "2020-08-04T00:00:00.000000000",
          "2020-08-05T00:00:00.000000000",
          "2020-08-13T00:00:00.000000000",
          "2020-08-14T00:00:00.000000000",
          "2020-08-17T00:00:00.000000000",
          "2020-08-18T00:00:00.000000000",
          "2020-08-19T00:00:00.000000000",
          "2020-08-20T00:00:00.000000000",
          "2020-08-21T00:00:00.000000000",
          "2020-08-24T00:00:00.000000000",
          "2020-08-25T00:00:00.000000000",
          "2020-08-26T00:00:00.000000000",
          "2020-10-20T00:00:00.000000000",
          "2020-10-21T00:00:00.000000000",
          "2020-10-22T00:00:00.000000000",
          "2020-10-23T00:00:00.000000000",
          "2020-10-26T00:00:00.000000000",
          "2020-10-27T00:00:00.000000000",
          "2020-11-19T00:00:00.000000000",
          "2020-11-20T00:00:00.000000000",
          "2020-11-23T00:00:00.000000000",
          "2020-11-24T00:00:00.000000000",
          "2020-11-25T00:00:00.000000000",
          "2020-11-27T00:00:00.000000000",
          "2020-11-30T00:00:00.000000000",
          "2020-12-01T00:00:00.000000000",
          "2020-12-02T00:00:00.000000000",
          "2020-12-03T00:00:00.000000000",
          "2020-12-04T00:00:00.000000000",
          "2020-12-07T00:00:00.000000000",
          "2020-12-08T00:00:00.000000000",
          "2020-12-09T00:00:00.000000000",
          "2020-12-10T00:00:00.000000000",
          "2020-12-11T00:00:00.000000000",
          "2020-12-14T00:00:00.000000000",
          "2020-12-15T00:00:00.000000000",
          "2020-12-16T00:00:00.000000000",
          "2020-12-17T00:00:00.000000000",
          "2020-12-18T00:00:00.000000000",
          "2020-12-21T00:00:00.000000000",
          "2020-12-22T00:00:00.000000000",
          "2020-12-23T00:00:00.000000000",
          "2020-12-24T00:00:00.000000000",
          "2020-12-28T00:00:00.000000000",
          "2020-12-29T00:00:00.000000000",
          "2020-12-30T00:00:00.000000000",
          "2020-12-31T00:00:00.000000000",
          "2021-01-04T00:00:00.000000000",
          "2021-01-05T00:00:00.000000000",
          "2021-01-06T00:00:00.000000000",
          "2021-01-07T00:00:00.000000000",
          "2021-01-08T00:00:00.000000000",
          "2021-01-11T00:00:00.000000000",
          "2021-01-12T00:00:00.000000000",
          "2021-01-13T00:00:00.000000000",
          "2021-01-14T00:00:00.000000000",
          "2021-01-15T00:00:00.000000000",
          "2021-01-19T00:00:00.000000000",
          "2021-01-20T00:00:00.000000000",
          "2021-01-21T00:00:00.000000000",
          "2021-01-22T00:00:00.000000000",
          "2021-01-25T00:00:00.000000000",
          "2021-01-26T00:00:00.000000000",
          "2021-02-16T00:00:00.000000000",
          "2021-02-17T00:00:00.000000000",
          "2021-02-18T00:00:00.000000000",
          "2021-02-19T00:00:00.000000000",
          "2021-02-22T00:00:00.000000000",
          "2021-02-23T00:00:00.000000000",
          "2021-02-24T00:00:00.000000000",
          "2021-03-22T00:00:00.000000000",
          "2021-03-23T00:00:00.000000000",
          "2021-03-24T00:00:00.000000000",
          "2021-03-25T00:00:00.000000000",
          "2021-03-26T00:00:00.000000000",
          "2021-03-29T00:00:00.000000000",
          "2021-03-30T00:00:00.000000000",
          "2021-03-31T00:00:00.000000000",
          "2021-04-16T00:00:00.000000000",
          "2021-04-19T00:00:00.000000000",
          "2021-04-20T00:00:00.000000000",
          "2021-04-21T00:00:00.000000000",
          "2021-04-22T00:00:00.000000000",
          "2021-04-23T00:00:00.000000000",
          "2021-04-26T00:00:00.000000000",
          "2021-04-27T00:00:00.000000000",
          "2021-04-28T00:00:00.000000000",
          "2021-04-29T00:00:00.000000000",
          "2021-04-30T00:00:00.000000000",
          "2021-05-03T00:00:00.000000000",
          "2021-05-04T00:00:00.000000000",
          "2021-05-05T00:00:00.000000000",
          "2021-05-06T00:00:00.000000000",
          "2021-05-07T00:00:00.000000000",
          "2021-05-10T00:00:00.000000000",
          "2021-05-11T00:00:00.000000000",
          "2021-05-21T00:00:00.000000000",
          "2021-05-24T00:00:00.000000000",
          "2021-05-25T00:00:00.000000000",
          "2021-05-26T00:00:00.000000000",
          "2021-05-27T00:00:00.000000000",
          "2021-05-28T00:00:00.000000000",
          "2021-06-01T00:00:00.000000000",
          "2021-06-02T00:00:00.000000000",
          "2021-06-03T00:00:00.000000000",
          "2021-06-04T00:00:00.000000000",
          "2021-06-07T00:00:00.000000000",
          "2021-06-08T00:00:00.000000000",
          "2021-06-09T00:00:00.000000000",
          "2021-06-10T00:00:00.000000000",
          "2021-06-11T00:00:00.000000000",
          "2021-06-14T00:00:00.000000000",
          "2021-06-15T00:00:00.000000000",
          "2021-06-16T00:00:00.000000000",
          "2021-06-17T00:00:00.000000000",
          "2021-06-18T00:00:00.000000000",
          "2021-06-21T00:00:00.000000000",
          "2021-06-22T00:00:00.000000000",
          "2021-06-23T00:00:00.000000000",
          "2021-06-24T00:00:00.000000000",
          "2021-06-25T00:00:00.000000000",
          "2021-06-28T00:00:00.000000000",
          "2021-06-29T00:00:00.000000000",
          "2021-06-30T00:00:00.000000000",
          "2021-07-01T00:00:00.000000000",
          "2021-07-02T00:00:00.000000000",
          "2021-07-06T00:00:00.000000000",
          "2021-07-07T00:00:00.000000000",
          "2021-07-08T00:00:00.000000000",
          "2021-07-09T00:00:00.000000000",
          "2021-07-12T00:00:00.000000000",
          "2021-07-13T00:00:00.000000000",
          "2021-07-14T00:00:00.000000000",
          "2021-07-15T00:00:00.000000000",
          "2021-07-16T00:00:00.000000000",
          "2021-07-19T00:00:00.000000000",
          "2021-07-20T00:00:00.000000000",
          "2021-07-21T00:00:00.000000000",
          "2021-07-22T00:00:00.000000000",
          "2021-08-02T00:00:00.000000000",
          "2021-08-03T00:00:00.000000000",
          "2021-08-04T00:00:00.000000000",
          "2021-08-05T00:00:00.000000000",
          "2021-08-06T00:00:00.000000000",
          "2021-08-09T00:00:00.000000000",
          "2021-08-10T00:00:00.000000000",
          "2021-08-11T00:00:00.000000000",
          "2021-08-12T00:00:00.000000000",
          "2021-08-13T00:00:00.000000000",
          "2021-08-16T00:00:00.000000000",
          "2021-08-17T00:00:00.000000000",
          "2021-08-18T00:00:00.000000000",
          "2021-08-19T00:00:00.000000000",
          "2021-08-20T00:00:00.000000000",
          "2021-08-23T00:00:00.000000000",
          "2021-08-24T00:00:00.000000000",
          "2021-08-25T00:00:00.000000000",
          "2021-08-26T00:00:00.000000000",
          "2021-08-27T00:00:00.000000000",
          "2021-08-30T00:00:00.000000000",
          "2021-08-31T00:00:00.000000000",
          "2021-09-01T00:00:00.000000000",
          "2021-09-02T00:00:00.000000000",
          "2021-09-03T00:00:00.000000000",
          "2021-09-07T00:00:00.000000000",
          "2021-09-08T00:00:00.000000000",
          "2021-09-09T00:00:00.000000000",
          "2021-09-10T00:00:00.000000000",
          "2021-09-13T00:00:00.000000000",
          "2021-09-14T00:00:00.000000000",
          "2021-09-15T00:00:00.000000000",
          "2021-09-16T00:00:00.000000000",
          "2021-09-17T00:00:00.000000000",
          "2021-10-11T00:00:00.000000000",
          "2021-10-12T00:00:00.000000000",
          "2021-10-13T00:00:00.000000000",
          "2021-10-14T00:00:00.000000000",
          "2021-10-29T00:00:00.000000000",
          "2021-11-01T00:00:00.000000000",
          "2021-11-02T00:00:00.000000000",
          "2021-11-03T00:00:00.000000000",
          "2021-11-11T00:00:00.000000000",
          "2021-11-12T00:00:00.000000000",
          "2021-11-15T00:00:00.000000000",
          "2021-11-16T00:00:00.000000000",
          "2021-11-17T00:00:00.000000000",
          "2021-11-18T00:00:00.000000000",
          "2021-11-19T00:00:00.000000000",
          "2021-11-22T00:00:00.000000000",
          "2021-11-23T00:00:00.000000000",
          "2021-11-24T00:00:00.000000000",
          "2022-11-23T00:00:00.000000000",
          "2022-11-25T00:00:00.000000000",
          "2022-11-28T00:00:00.000000000",
          "2022-11-29T00:00:00.000000000",
          "2022-12-30T00:00:00.000000000",
          "2023-01-03T00:00:00.000000000",
          "2023-01-04T00:00:00.000000000",
          "2023-01-05T00:00:00.000000000",
          "2023-01-06T00:00:00.000000000",
          "2023-01-09T00:00:00.000000000",
          "2023-02-13T00:00:00.000000000",
          "2023-02-14T00:00:00.000000000",
          "2023-02-15T00:00:00.000000000",
          "2023-02-16T00:00:00.000000000",
          "2023-02-17T00:00:00.000000000",
          "2023-04-12T00:00:00.000000000",
          "2023-04-13T00:00:00.000000000",
          "2023-04-14T00:00:00.000000000",
          "2023-04-17T00:00:00.000000000",
          "2023-04-18T00:00:00.000000000",
          "2023-04-19T00:00:00.000000000",
          "2023-04-20T00:00:00.000000000",
          "2023-04-21T00:00:00.000000000",
          "2023-04-24T00:00:00.000000000",
          "2023-04-25T00:00:00.000000000",
          "2023-04-26T00:00:00.000000000",
          "2023-04-27T00:00:00.000000000",
          "2023-04-28T00:00:00.000000000",
          "2023-05-01T00:00:00.000000000",
          "2023-05-10T00:00:00.000000000",
          "2023-05-11T00:00:00.000000000",
          "2023-05-12T00:00:00.000000000",
          "2023-05-15T00:00:00.000000000",
          "2023-05-16T00:00:00.000000000",
          "2023-05-17T00:00:00.000000000",
          "2023-05-18T00:00:00.000000000",
          "2023-05-19T00:00:00.000000000",
          "2023-05-22T00:00:00.000000000",
          "2023-05-23T00:00:00.000000000",
          "2023-05-24T00:00:00.000000000",
          "2023-05-25T00:00:00.000000000",
          "2023-05-26T00:00:00.000000000",
          "2023-05-30T00:00:00.000000000",
          "2023-05-31T00:00:00.000000000",
          "2023-06-01T00:00:00.000000000",
          "2023-06-23T00:00:00.000000000",
          "2023-06-26T00:00:00.000000000",
          "2023-06-27T00:00:00.000000000",
          "2023-06-28T00:00:00.000000000",
          "2023-06-29T00:00:00.000000000",
          "2023-06-30T00:00:00.000000000",
          "2023-07-11T00:00:00.000000000",
          "2023-07-12T00:00:00.000000000",
          "2023-07-13T00:00:00.000000000",
          "2023-07-14T00:00:00.000000000",
          "2023-07-25T00:00:00.000000000",
          "2023-07-26T00:00:00.000000000",
          "2023-07-27T00:00:00.000000000",
          "2023-07-28T00:00:00.000000000",
          "2023-07-31T00:00:00.000000000",
          "2023-08-01T00:00:00.000000000",
          "2023-08-02T00:00:00.000000000",
          "2023-08-03T00:00:00.000000000",
          "2023-08-14T00:00:00.000000000",
          "2023-08-15T00:00:00.000000000",
          "2023-08-16T00:00:00.000000000",
          "2023-09-08T00:00:00.000000000",
          "2023-09-11T00:00:00.000000000",
          "2023-09-12T00:00:00.000000000",
          "2023-09-13T00:00:00.000000000",
          "2023-09-14T00:00:00.000000000",
          "2023-09-15T00:00:00.000000000",
          "2023-09-18T00:00:00.000000000",
          "2023-09-19T00:00:00.000000000",
          "2023-09-20T00:00:00.000000000",
          "2023-10-04T00:00:00.000000000",
          "2023-10-05T00:00:00.000000000",
          "2023-10-06T00:00:00.000000000",
          "2023-10-09T00:00:00.000000000",
          "2023-10-10T00:00:00.000000000",
          "2023-11-28T00:00:00.000000000",
          "2023-11-29T00:00:00.000000000",
          "2023-11-30T00:00:00.000000000",
          "2023-12-01T00:00:00.000000000",
          "2023-12-04T00:00:00.000000000",
          "2023-12-05T00:00:00.000000000",
          "2023-12-06T00:00:00.000000000",
          "2023-12-07T00:00:00.000000000",
          "2023-12-08T00:00:00.000000000",
          "2023-12-11T00:00:00.000000000",
          "2023-12-12T00:00:00.000000000",
          "2023-12-27T00:00:00.000000000",
          "2023-12-28T00:00:00.000000000",
          "2023-12-29T00:00:00.000000000",
          "2024-01-02T00:00:00.000000000",
          "2024-01-03T00:00:00.000000000",
          "2024-01-04T00:00:00.000000000",
          "2024-01-05T00:00:00.000000000",
          "2024-01-08T00:00:00.000000000",
          "2024-01-09T00:00:00.000000000",
          "2024-01-10T00:00:00.000000000",
          "2024-01-11T00:00:00.000000000",
          "2024-01-12T00:00:00.000000000",
          "2024-01-16T00:00:00.000000000",
          "2024-01-17T00:00:00.000000000",
          "2024-01-18T00:00:00.000000000",
          "2024-01-19T00:00:00.000000000",
          "2024-01-22T00:00:00.000000000",
          "2024-02-15T00:00:00.000000000",
          "2024-02-16T00:00:00.000000000",
          "2024-02-20T00:00:00.000000000",
          "2024-02-21T00:00:00.000000000",
          "2024-03-06T00:00:00.000000000",
          "2024-03-07T00:00:00.000000000",
          "2024-03-08T00:00:00.000000000",
          "2024-03-11T00:00:00.000000000",
          "2024-03-12T00:00:00.000000000",
          "2024-03-13T00:00:00.000000000",
          "2024-03-14T00:00:00.000000000",
          "2024-03-15T00:00:00.000000000",
          "2024-03-18T00:00:00.000000000",
          "2024-03-19T00:00:00.000000000",
          "2024-03-20T00:00:00.000000000",
          "2024-04-01T00:00:00.000000000",
          "2024-04-02T00:00:00.000000000",
          "2024-04-03T00:00:00.000000000",
          "2024-04-04T00:00:00.000000000",
          "2024-04-05T00:00:00.000000000",
          "2024-04-08T00:00:00.000000000",
          "2024-04-09T00:00:00.000000000",
          "2024-04-10T00:00:00.000000000",
          "2024-04-11T00:00:00.000000000",
          "2024-05-24T00:00:00.000000000",
          "2024-05-28T00:00:00.000000000",
          "2024-05-29T00:00:00.000000000",
          "2024-05-30T00:00:00.000000000",
          "2024-05-31T00:00:00.000000000",
          "2024-06-03T00:00:00.000000000",
          "2024-06-04T00:00:00.000000000",
          "2024-06-05T00:00:00.000000000",
          "2024-06-06T00:00:00.000000000",
          "2024-06-25T00:00:00.000000000",
          "2024-06-26T00:00:00.000000000",
          "2024-06-27T00:00:00.000000000",
          "2024-06-28T00:00:00.000000000",
          "2024-07-01T00:00:00.000000000",
          "2024-07-02T00:00:00.000000000",
          "2024-07-03T00:00:00.000000000",
          "2024-07-05T00:00:00.000000000",
          "2024-08-28T00:00:00.000000000",
          "2024-08-29T00:00:00.000000000",
          "2024-08-30T00:00:00.000000000",
          "2024-10-02T00:00:00.000000000",
          "2024-10-03T00:00:00.000000000",
          "2024-10-04T00:00:00.000000000",
          "2024-10-07T00:00:00.000000000",
          "2024-10-08T00:00:00.000000000",
          "2024-10-09T00:00:00.000000000",
          "2024-10-10T00:00:00.000000000",
          "2024-10-22T00:00:00.000000000",
          "2024-10-23T00:00:00.000000000",
          "2024-10-24T00:00:00.000000000",
          "2024-10-25T00:00:00.000000000",
          "2024-10-28T00:00:00.000000000",
          "2024-10-29T00:00:00.000000000",
          "2024-10-30T00:00:00.000000000",
          "2024-12-09T00:00:00.000000000",
          "2024-12-10T00:00:00.000000000",
          "2024-12-11T00:00:00.000000000",
          "2024-12-12T00:00:00.000000000",
          "2024-12-13T00:00:00.000000000",
          "2024-12-16T00:00:00.000000000",
          "2024-12-17T00:00:00.000000000"
         ],
         "xaxis": "x",
         "y": {
          "bdata": "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",
          "dtype": "f8"
         },
         "yaxis": "y"
        },
        {
         "marker": {
          "color": "rgb(252,141,98)",
          "size": 6
         },
         "mode": "markers",
         "name": "Regime 1",
         "showlegend": true,
         "type": "scatter",
         "x": [
          "2018-02-02T00:00:00.000000000",
          "2018-02-05T00:00:00.000000000",
          "2018-02-06T00:00:00.000000000",
          "2018-02-07T00:00:00.000000000",
          "2018-02-08T00:00:00.000000000",
          "2018-02-09T00:00:00.000000000",
          "2018-02-12T00:00:00.000000000",
          "2018-03-22T00:00:00.000000000",
          "2018-03-23T00:00:00.000000000",
          "2018-03-26T00:00:00.000000000",
          "2018-10-10T00:00:00.000000000",
          "2018-10-11T00:00:00.000000000",
          "2018-10-12T00:00:00.000000000",
          "2018-10-15T00:00:00.000000000",
          "2018-12-21T00:00:00.000000000",
          "2018-12-24T00:00:00.000000000",
          "2018-12-26T00:00:00.000000000",
          "2018-12-27T00:00:00.000000000",
          "2019-08-05T00:00:00.000000000",
          "2019-08-06T00:00:00.000000000",
          "2020-02-24T00:00:00.000000000",
          "2020-02-25T00:00:00.000000000",
          "2020-02-26T00:00:00.000000000",
          "2020-02-27T00:00:00.000000000",
          "2020-02-28T00:00:00.000000000",
          "2020-03-02T00:00:00.000000000",
          "2020-03-03T00:00:00.000000000",
          "2020-03-04T00:00:00.000000000",
          "2020-03-05T00:00:00.000000000",
          "2020-03-06T00:00:00.000000000",
          "2020-03-09T00:00:00.000000000",
          "2020-03-10T00:00:00.000000000",
          "2020-03-11T00:00:00.000000000",
          "2020-03-12T00:00:00.000000000",
          "2020-03-13T00:00:00.000000000",
          "2020-03-16T00:00:00.000000000",
          "2020-03-17T00:00:00.000000000",
          "2020-03-18T00:00:00.000000000",
          "2020-03-19T00:00:00.000000000",
          "2020-03-20T00:00:00.000000000",
          "2020-03-23T00:00:00.000000000",
          "2020-03-24T00:00:00.000000000",
          "2020-03-25T00:00:00.000000000",
          "2020-03-26T00:00:00.000000000",
          "2020-03-27T00:00:00.000000000",
          "2020-03-30T00:00:00.000000000",
          "2020-03-31T00:00:00.000000000",
          "2020-04-01T00:00:00.000000000",
          "2020-04-02T00:00:00.000000000",
          "2020-04-03T00:00:00.000000000",
          "2020-04-06T00:00:00.000000000",
          "2020-04-07T00:00:00.000000000",
          "2020-04-08T00:00:00.000000000",
          "2020-04-09T00:00:00.000000000",
          "2020-04-13T00:00:00.000000000",
          "2020-04-14T00:00:00.000000000",
          "2020-04-15T00:00:00.000000000",
          "2020-04-16T00:00:00.000000000",
          "2020-04-17T00:00:00.000000000",
          "2020-06-11T00:00:00.000000000",
          "2020-06-12T00:00:00.000000000",
          "2020-06-15T00:00:00.000000000",
          "2020-06-16T00:00:00.000000000",
          "2020-10-28T00:00:00.000000000",
          "2020-10-29T00:00:00.000000000",
          "2020-10-30T00:00:00.000000000",
          "2020-11-02T00:00:00.000000000",
          "2020-11-03T00:00:00.000000000",
          "2020-11-04T00:00:00.000000000",
          "2020-11-05T00:00:00.000000000",
          "2020-11-06T00:00:00.000000000",
          "2020-11-09T00:00:00.000000000",
          "2020-11-10T00:00:00.000000000",
          "2020-11-11T00:00:00.000000000",
          "2020-11-12T00:00:00.000000000",
          "2020-11-13T00:00:00.000000000",
          "2021-01-27T00:00:00.000000000",
          "2021-01-28T00:00:00.000000000",
          "2021-01-29T00:00:00.000000000",
          "2021-05-12T00:00:00.000000000",
          "2021-11-26T00:00:00.000000000",
          "2021-11-29T00:00:00.000000000",
          "2021-11-30T00:00:00.000000000",
          "2021-12-01T00:00:00.000000000",
          "2021-12-02T00:00:00.000000000",
          "2021-12-03T00:00:00.000000000",
          "2022-01-20T00:00:00.000000000",
          "2022-01-21T00:00:00.000000000",
          "2022-01-24T00:00:00.000000000",
          "2022-01-25T00:00:00.000000000",
          "2022-01-26T00:00:00.000000000",
          "2022-01-27T00:00:00.000000000",
          "2022-01-28T00:00:00.000000000",
          "2022-01-31T00:00:00.000000000",
          "2022-02-01T00:00:00.000000000",
          "2022-02-02T00:00:00.000000000",
          "2022-02-03T00:00:00.000000000",
          "2022-02-04T00:00:00.000000000",
          "2022-02-07T00:00:00.000000000",
          "2022-02-22T00:00:00.000000000",
          "2022-02-23T00:00:00.000000000",
          "2022-02-24T00:00:00.000000000",
          "2022-03-18T00:00:00.000000000",
          "2022-03-21T00:00:00.000000000",
          "2022-03-22T00:00:00.000000000",
          "2022-03-23T00:00:00.000000000",
          "2022-03-24T00:00:00.000000000",
          "2022-03-25T00:00:00.000000000",
          "2022-03-28T00:00:00.000000000",
          "2022-04-26T00:00:00.000000000",
          "2022-04-27T00:00:00.000000000",
          "2022-04-28T00:00:00.000000000",
          "2022-04-29T00:00:00.000000000",
          "2022-05-02T00:00:00.000000000",
          "2022-05-03T00:00:00.000000000",
          "2022-05-04T00:00:00.000000000",
          "2022-05-05T00:00:00.000000000",
          "2022-05-06T00:00:00.000000000",
          "2022-05-09T00:00:00.000000000",
          "2022-05-10T00:00:00.000000000",
          "2022-05-11T00:00:00.000000000",
          "2022-05-12T00:00:00.000000000",
          "2022-05-13T00:00:00.000000000",
          "2022-05-16T00:00:00.000000000",
          "2022-05-17T00:00:00.000000000",
          "2022-05-18T00:00:00.000000000",
          "2022-05-27T00:00:00.000000000",
          "2022-05-31T00:00:00.000000000",
          "2022-06-01T00:00:00.000000000",
          "2022-06-02T00:00:00.000000000",
          "2022-06-03T00:00:00.000000000",
          "2022-06-10T00:00:00.000000000",
          "2022-06-13T00:00:00.000000000",
          "2022-06-14T00:00:00.000000000",
          "2022-06-15T00:00:00.000000000",
          "2022-06-16T00:00:00.000000000",
          "2022-06-17T00:00:00.000000000",
          "2022-06-21T00:00:00.000000000",
          "2022-06-22T00:00:00.000000000",
          "2022-06-23T00:00:00.000000000",
          "2022-06-24T00:00:00.000000000",
          "2022-08-26T00:00:00.000000000",
          "2022-08-29T00:00:00.000000000",
          "2022-08-30T00:00:00.000000000",
          "2022-08-31T00:00:00.000000000",
          "2022-09-01T00:00:00.000000000",
          "2022-09-02T00:00:00.000000000",
          "2022-09-06T00:00:00.000000000",
          "2022-09-07T00:00:00.000000000",
          "2022-09-21T00:00:00.000000000",
          "2022-09-22T00:00:00.000000000",
          "2022-09-23T00:00:00.000000000",
          "2022-09-26T00:00:00.000000000",
          "2022-09-27T00:00:00.000000000",
          "2022-09-28T00:00:00.000000000",
          "2022-09-29T00:00:00.000000000",
          "2022-09-30T00:00:00.000000000",
          "2022-10-03T00:00:00.000000000",
          "2022-10-04T00:00:00.000000000",
          "2022-11-10T00:00:00.000000000",
          "2022-11-11T00:00:00.000000000",
          "2022-11-14T00:00:00.000000000",
          "2022-11-15T00:00:00.000000000",
          "2022-11-16T00:00:00.000000000",
          "2022-11-17T00:00:00.000000000",
          "2023-11-06T00:00:00.000000000",
          "2023-11-07T00:00:00.000000000",
          "2023-11-08T00:00:00.000000000",
          "2023-11-09T00:00:00.000000000",
          "2023-11-10T00:00:00.000000000",
          "2024-07-24T00:00:00.000000000",
          "2024-07-25T00:00:00.000000000",
          "2024-07-26T00:00:00.000000000",
          "2024-08-02T00:00:00.000000000",
          "2024-08-05T00:00:00.000000000",
          "2024-08-06T00:00:00.000000000",
          "2024-08-07T00:00:00.000000000",
          "2024-08-08T00:00:00.000000000",
          "2024-08-09T00:00:00.000000000",
          "2024-08-12T00:00:00.000000000",
          "2024-08-13T00:00:00.000000000",
          "2024-08-14T00:00:00.000000000",
          "2024-08-15T00:00:00.000000000",
          "2024-08-16T00:00:00.000000000",
          "2024-08-19T00:00:00.000000000",
          "2024-08-20T00:00:00.000000000",
          "2024-08-21T00:00:00.000000000",
          "2024-08-22T00:00:00.000000000",
          "2024-08-23T00:00:00.000000000",
          "2024-11-07T00:00:00.000000000",
          "2024-11-08T00:00:00.000000000",
          "2024-11-11T00:00:00.000000000",
          "2024-11-12T00:00:00.000000000",
          "2024-11-13T00:00:00.000000000",
          "2024-11-14T00:00:00.000000000",
          "2024-11-15T00:00:00.000000000",
          "2024-12-18T00:00:00.000000000",
          "2024-12-19T00:00:00.000000000",
          "2024-12-20T00:00:00.000000000"
         ],
         "xaxis": "x",
         "y": {
          "bdata": "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",
          "dtype": "f8"
         },
         "yaxis": "y"
        },
        {
         "marker": {
          "color": "rgb(141,160,203)",
          "size": 6
         },
         "mode": "markers",
         "name": "Regime 2",
         "showlegend": true,
         "type": "scatter",
         "x": [
          "2018-02-13T00:00:00.000000000",
          "2018-02-14T00:00:00.000000000",
          "2018-02-15T00:00:00.000000000",
          "2018-02-16T00:00:00.000000000",
          "2018-02-20T00:00:00.000000000",
          "2018-02-21T00:00:00.000000000",
          "2018-02-22T00:00:00.000000000",
          "2018-03-27T00:00:00.000000000",
          "2018-03-28T00:00:00.000000000",
          "2018-03-29T00:00:00.000000000",
          "2018-04-02T00:00:00.000000000",
          "2018-04-03T00:00:00.000000000",
          "2018-10-16T00:00:00.000000000",
          "2018-10-17T00:00:00.000000000",
          "2018-10-18T00:00:00.000000000",
          "2018-10-19T00:00:00.000000000",
          "2018-10-22T00:00:00.000000000",
          "2018-10-23T00:00:00.000000000",
          "2018-10-24T00:00:00.000000000",
          "2018-10-25T00:00:00.000000000",
          "2018-10-26T00:00:00.000000000",
          "2018-10-29T00:00:00.000000000",
          "2018-10-30T00:00:00.000000000",
          "2018-10-31T00:00:00.000000000",
          "2018-11-01T00:00:00.000000000",
          "2018-11-02T00:00:00.000000000",
          "2018-11-05T00:00:00.000000000",
          "2018-11-06T00:00:00.000000000",
          "2018-11-07T00:00:00.000000000",
          "2018-11-08T00:00:00.000000000",
          "2018-11-09T00:00:00.000000000",
          "2018-11-12T00:00:00.000000000",
          "2018-11-19T00:00:00.000000000",
          "2018-11-20T00:00:00.000000000",
          "2018-11-21T00:00:00.000000000",
          "2018-11-23T00:00:00.000000000",
          "2018-11-26T00:00:00.000000000",
          "2018-11-27T00:00:00.000000000",
          "2018-11-28T00:00:00.000000000",
          "2018-11-29T00:00:00.000000000",
          "2018-11-30T00:00:00.000000000",
          "2018-12-03T00:00:00.000000000",
          "2018-12-04T00:00:00.000000000",
          "2018-12-06T00:00:00.000000000",
          "2018-12-07T00:00:00.000000000",
          "2018-12-10T00:00:00.000000000",
          "2018-12-11T00:00:00.000000000",
          "2018-12-12T00:00:00.000000000",
          "2018-12-13T00:00:00.000000000",
          "2018-12-14T00:00:00.000000000",
          "2018-12-17T00:00:00.000000000",
          "2018-12-18T00:00:00.000000000",
          "2018-12-19T00:00:00.000000000",
          "2018-12-20T00:00:00.000000000",
          "2018-12-28T00:00:00.000000000",
          "2018-12-31T00:00:00.000000000",
          "2019-01-02T00:00:00.000000000",
          "2019-01-03T00:00:00.000000000",
          "2019-01-04T00:00:00.000000000",
          "2019-01-07T00:00:00.000000000",
          "2019-01-08T00:00:00.000000000",
          "2019-01-09T00:00:00.000000000",
          "2019-01-10T00:00:00.000000000",
          "2019-01-11T00:00:00.000000000",
          "2019-01-14T00:00:00.000000000",
          "2019-01-15T00:00:00.000000000",
          "2019-01-16T00:00:00.000000000",
          "2019-05-13T00:00:00.000000000",
          "2019-05-14T00:00:00.000000000",
          "2019-06-10T00:00:00.000000000",
          "2019-06-11T00:00:00.000000000",
          "2019-06-12T00:00:00.000000000",
          "2019-06-13T00:00:00.000000000",
          "2019-06-14T00:00:00.000000000",
          "2019-08-07T00:00:00.000000000",
          "2019-08-08T00:00:00.000000000",
          "2019-08-09T00:00:00.000000000",
          "2019-08-12T00:00:00.000000000",
          "2019-08-13T00:00:00.000000000",
          "2019-08-14T00:00:00.000000000",
          "2020-02-07T00:00:00.000000000",
          "2020-02-10T00:00:00.000000000",
          "2020-02-11T00:00:00.000000000",
          "2020-02-12T00:00:00.000000000",
          "2020-02-13T00:00:00.000000000",
          "2020-02-14T00:00:00.000000000",
          "2020-04-20T00:00:00.000000000",
          "2020-04-21T00:00:00.000000000",
          "2020-04-22T00:00:00.000000000",
          "2020-04-23T00:00:00.000000000",
          "2020-04-24T00:00:00.000000000",
          "2020-04-27T00:00:00.000000000",
          "2020-04-28T00:00:00.000000000",
          "2020-04-29T00:00:00.000000000",
          "2020-04-30T00:00:00.000000000",
          "2020-05-01T00:00:00.000000000",
          "2020-05-04T00:00:00.000000000",
          "2020-05-05T00:00:00.000000000",
          "2020-05-06T00:00:00.000000000",
          "2020-05-07T00:00:00.000000000",
          "2020-05-08T00:00:00.000000000",
          "2020-05-11T00:00:00.000000000",
          "2020-05-12T00:00:00.000000000",
          "2020-05-13T00:00:00.000000000",
          "2020-05-14T00:00:00.000000000",
          "2020-05-15T00:00:00.000000000",
          "2020-05-18T00:00:00.000000000",
          "2020-05-19T00:00:00.000000000",
          "2020-05-20T00:00:00.000000000",
          "2020-05-21T00:00:00.000000000",
          "2020-05-22T00:00:00.000000000",
          "2020-05-26T00:00:00.000000000",
          "2020-05-27T00:00:00.000000000",
          "2020-05-28T00:00:00.000000000",
          "2020-05-29T00:00:00.000000000",
          "2020-06-01T00:00:00.000000000",
          "2020-06-02T00:00:00.000000000",
          "2020-06-03T00:00:00.000000000",
          "2020-06-04T00:00:00.000000000",
          "2020-06-05T00:00:00.000000000",
          "2020-06-08T00:00:00.000000000",
          "2020-06-09T00:00:00.000000000",
          "2020-06-10T00:00:00.000000000",
          "2020-06-17T00:00:00.000000000",
          "2020-06-18T00:00:00.000000000",
          "2020-06-19T00:00:00.000000000",
          "2020-06-22T00:00:00.000000000",
          "2020-06-23T00:00:00.000000000",
          "2020-06-24T00:00:00.000000000",
          "2020-06-25T00:00:00.000000000",
          "2020-06-26T00:00:00.000000000",
          "2020-06-29T00:00:00.000000000",
          "2020-06-30T00:00:00.000000000",
          "2020-07-01T00:00:00.000000000",
          "2020-07-02T00:00:00.000000000",
          "2020-07-06T00:00:00.000000000",
          "2020-07-07T00:00:00.000000000",
          "2020-07-08T00:00:00.000000000",
          "2020-07-09T00:00:00.000000000",
          "2020-07-10T00:00:00.000000000",
          "2020-07-13T00:00:00.000000000",
          "2020-08-06T00:00:00.000000000",
          "2020-08-07T00:00:00.000000000",
          "2020-08-10T00:00:00.000000000",
          "2020-08-11T00:00:00.000000000",
          "2020-08-12T00:00:00.000000000",
          "2020-08-27T00:00:00.000000000",
          "2020-08-28T00:00:00.000000000",
          "2020-08-31T00:00:00.000000000",
          "2020-09-01T00:00:00.000000000",
          "2020-09-02T00:00:00.000000000",
          "2020-09-03T00:00:00.000000000",
          "2020-09-04T00:00:00.000000000",
          "2020-09-08T00:00:00.000000000",
          "2020-09-09T00:00:00.000000000",
          "2020-09-10T00:00:00.000000000",
          "2020-09-11T00:00:00.000000000",
          "2020-09-14T00:00:00.000000000",
          "2020-09-15T00:00:00.000000000",
          "2020-09-16T00:00:00.000000000",
          "2020-09-17T00:00:00.000000000",
          "2020-09-18T00:00:00.000000000",
          "2020-09-21T00:00:00.000000000",
          "2020-09-22T00:00:00.000000000",
          "2020-09-23T00:00:00.000000000",
          "2020-09-24T00:00:00.000000000",
          "2020-09-25T00:00:00.000000000",
          "2020-09-28T00:00:00.000000000",
          "2020-09-29T00:00:00.000000000",
          "2020-09-30T00:00:00.000000000",
          "2020-10-01T00:00:00.000000000",
          "2020-10-02T00:00:00.000000000",
          "2020-10-05T00:00:00.000000000",
          "2020-10-06T00:00:00.000000000",
          "2020-10-07T00:00:00.000000000",
          "2020-10-08T00:00:00.000000000",
          "2020-10-09T00:00:00.000000000",
          "2020-10-12T00:00:00.000000000",
          "2020-10-13T00:00:00.000000000",
          "2020-10-14T00:00:00.000000000",
          "2020-10-15T00:00:00.000000000",
          "2020-10-16T00:00:00.000000000",
          "2020-10-19T00:00:00.000000000",
          "2020-11-16T00:00:00.000000000",
          "2020-11-17T00:00:00.000000000",
          "2020-11-18T00:00:00.000000000",
          "2021-02-01T00:00:00.000000000",
          "2021-02-02T00:00:00.000000000",
          "2021-02-03T00:00:00.000000000",
          "2021-02-04T00:00:00.000000000",
          "2021-02-05T00:00:00.000000000",
          "2021-02-08T00:00:00.000000000",
          "2021-02-09T00:00:00.000000000",
          "2021-02-10T00:00:00.000000000",
          "2021-02-11T00:00:00.000000000",
          "2021-02-12T00:00:00.000000000",
          "2021-02-25T00:00:00.000000000",
          "2021-02-26T00:00:00.000000000",
          "2021-03-01T00:00:00.000000000",
          "2021-03-02T00:00:00.000000000",
          "2021-03-03T00:00:00.000000000",
          "2021-03-04T00:00:00.000000000",
          "2021-03-05T00:00:00.000000000",
          "2021-03-08T00:00:00.000000000",
          "2021-03-09T00:00:00.000000000",
          "2021-03-10T00:00:00.000000000",
          "2021-03-11T00:00:00.000000000",
          "2021-03-12T00:00:00.000000000",
          "2021-03-15T00:00:00.000000000",
          "2021-03-16T00:00:00.000000000",
          "2021-03-17T00:00:00.000000000",
          "2021-03-18T00:00:00.000000000",
          "2021-03-19T00:00:00.000000000",
          "2021-04-01T00:00:00.000000000",
          "2021-04-05T00:00:00.000000000",
          "2021-04-06T00:00:00.000000000",
          "2021-04-07T00:00:00.000000000",
          "2021-04-08T00:00:00.000000000",
          "2021-04-09T00:00:00.000000000",
          "2021-04-12T00:00:00.000000000",
          "2021-04-13T00:00:00.000000000",
          "2021-04-14T00:00:00.000000000",
          "2021-04-15T00:00:00.000000000",
          "2021-05-13T00:00:00.000000000",
          "2021-05-14T00:00:00.000000000",
          "2021-05-17T00:00:00.000000000",
          "2021-05-18T00:00:00.000000000",
          "2021-05-19T00:00:00.000000000",
          "2021-05-20T00:00:00.000000000",
          "2021-07-23T00:00:00.000000000",
          "2021-07-26T00:00:00.000000000",
          "2021-07-27T00:00:00.000000000",
          "2021-07-28T00:00:00.000000000",
          "2021-07-29T00:00:00.000000000",
          "2021-07-30T00:00:00.000000000",
          "2021-09-20T00:00:00.000000000",
          "2021-09-21T00:00:00.000000000",
          "2021-09-22T00:00:00.000000000",
          "2021-09-23T00:00:00.000000000",
          "2021-09-24T00:00:00.000000000",
          "2021-09-27T00:00:00.000000000",
          "2021-09-28T00:00:00.000000000",
          "2021-09-29T00:00:00.000000000",
          "2021-09-30T00:00:00.000000000",
          "2021-10-01T00:00:00.000000000",
          "2021-10-04T00:00:00.000000000",
          "2021-10-05T00:00:00.000000000",
          "2021-10-06T00:00:00.000000000",
          "2021-10-07T00:00:00.000000000",
          "2021-10-08T00:00:00.000000000",
          "2021-10-15T00:00:00.000000000",
          "2021-10-18T00:00:00.000000000",
          "2021-10-19T00:00:00.000000000",
          "2021-10-20T00:00:00.000000000",
          "2021-10-21T00:00:00.000000000",
          "2021-10-22T00:00:00.000000000",
          "2021-10-25T00:00:00.000000000",
          "2021-10-26T00:00:00.000000000",
          "2021-10-27T00:00:00.000000000",
          "2021-10-28T00:00:00.000000000",
          "2021-11-04T00:00:00.000000000",
          "2021-11-05T00:00:00.000000000",
          "2021-11-08T00:00:00.000000000",
          "2021-11-09T00:00:00.000000000",
          "2021-11-10T00:00:00.000000000",
          "2021-12-06T00:00:00.000000000",
          "2021-12-07T00:00:00.000000000",
          "2021-12-08T00:00:00.000000000",
          "2021-12-09T00:00:00.000000000",
          "2021-12-10T00:00:00.000000000",
          "2021-12-13T00:00:00.000000000",
          "2021-12-14T00:00:00.000000000",
          "2021-12-15T00:00:00.000000000",
          "2021-12-16T00:00:00.000000000",
          "2021-12-17T00:00:00.000000000",
          "2021-12-20T00:00:00.000000000",
          "2021-12-21T00:00:00.000000000",
          "2021-12-22T00:00:00.000000000",
          "2021-12-23T00:00:00.000000000",
          "2021-12-27T00:00:00.000000000",
          "2021-12-28T00:00:00.000000000",
          "2021-12-29T00:00:00.000000000",
          "2021-12-30T00:00:00.000000000",
          "2021-12-31T00:00:00.000000000",
          "2022-01-03T00:00:00.000000000",
          "2022-01-04T00:00:00.000000000",
          "2022-01-05T00:00:00.000000000",
          "2022-01-06T00:00:00.000000000",
          "2022-01-07T00:00:00.000000000",
          "2022-01-10T00:00:00.000000000",
          "2022-01-11T00:00:00.000000000",
          "2022-01-12T00:00:00.000000000",
          "2022-01-13T00:00:00.000000000",
          "2022-01-14T00:00:00.000000000",
          "2022-01-18T00:00:00.000000000",
          "2022-01-19T00:00:00.000000000",
          "2022-02-08T00:00:00.000000000",
          "2022-02-09T00:00:00.000000000",
          "2022-02-10T00:00:00.000000000",
          "2022-02-11T00:00:00.000000000",
          "2022-02-14T00:00:00.000000000",
          "2022-02-15T00:00:00.000000000",
          "2022-02-16T00:00:00.000000000",
          "2022-02-17T00:00:00.000000000",
          "2022-02-18T00:00:00.000000000",
          "2022-02-25T00:00:00.000000000",
          "2022-02-28T00:00:00.000000000",
          "2022-03-01T00:00:00.000000000",
          "2022-03-02T00:00:00.000000000",
          "2022-03-03T00:00:00.000000000",
          "2022-03-04T00:00:00.000000000",
          "2022-03-07T00:00:00.000000000",
          "2022-03-08T00:00:00.000000000",
          "2022-03-09T00:00:00.000000000",
          "2022-03-10T00:00:00.000000000",
          "2022-03-11T00:00:00.000000000",
          "2022-03-14T00:00:00.000000000",
          "2022-03-15T00:00:00.000000000",
          "2022-03-16T00:00:00.000000000",
          "2022-03-17T00:00:00.000000000",
          "2022-03-29T00:00:00.000000000",
          "2022-03-30T00:00:00.000000000",
          "2022-03-31T00:00:00.000000000",
          "2022-04-01T00:00:00.000000000",
          "2022-04-04T00:00:00.000000000",
          "2022-04-05T00:00:00.000000000",
          "2022-04-06T00:00:00.000000000",
          "2022-04-07T00:00:00.000000000",
          "2022-04-08T00:00:00.000000000",
          "2022-04-11T00:00:00.000000000",
          "2022-04-12T00:00:00.000000000",
          "2022-04-13T00:00:00.000000000",
          "2022-04-14T00:00:00.000000000",
          "2022-04-18T00:00:00.000000000",
          "2022-04-19T00:00:00.000000000",
          "2022-04-20T00:00:00.000000000",
          "2022-04-21T00:00:00.000000000",
          "2022-04-22T00:00:00.000000000",
          "2022-04-25T00:00:00.000000000",
          "2022-05-19T00:00:00.000000000",
          "2022-05-20T00:00:00.000000000",
          "2022-05-23T00:00:00.000000000",
          "2022-05-24T00:00:00.000000000",
          "2022-05-25T00:00:00.000000000",
          "2022-05-26T00:00:00.000000000",
          "2022-06-06T00:00:00.000000000",
          "2022-06-07T00:00:00.000000000",
          "2022-06-08T00:00:00.000000000",
          "2022-06-09T00:00:00.000000000",
          "2022-06-27T00:00:00.000000000",
          "2022-06-28T00:00:00.000000000",
          "2022-06-29T00:00:00.000000000",
          "2022-06-30T00:00:00.000000000",
          "2022-07-01T00:00:00.000000000",
          "2022-07-05T00:00:00.000000000",
          "2022-07-06T00:00:00.000000000",
          "2022-07-07T00:00:00.000000000",
          "2022-07-08T00:00:00.000000000",
          "2022-07-11T00:00:00.000000000",
          "2022-07-12T00:00:00.000000000",
          "2022-07-13T00:00:00.000000000",
          "2022-07-14T00:00:00.000000000",
          "2022-07-15T00:00:00.000000000",
          "2022-07-18T00:00:00.000000000",
          "2022-07-19T00:00:00.000000000",
          "2022-07-20T00:00:00.000000000",
          "2022-07-21T00:00:00.000000000",
          "2022-07-22T00:00:00.000000000",
          "2022-07-25T00:00:00.000000000",
          "2022-07-26T00:00:00.000000000",
          "2022-07-27T00:00:00.000000000",
          "2022-07-28T00:00:00.000000000",
          "2022-07-29T00:00:00.000000000",
          "2022-08-01T00:00:00.000000000",
          "2022-08-02T00:00:00.000000000",
          "2022-08-03T00:00:00.000000000",
          "2022-08-04T00:00:00.000000000",
          "2022-08-05T00:00:00.000000000",
          "2022-08-08T00:00:00.000000000",
          "2022-08-09T00:00:00.000000000",
          "2022-08-10T00:00:00.000000000",
          "2022-08-11T00:00:00.000000000",
          "2022-08-12T00:00:00.000000000",
          "2022-08-15T00:00:00.000000000",
          "2022-08-16T00:00:00.000000000",
          "2022-08-17T00:00:00.000000000",
          "2022-08-18T00:00:00.000000000",
          "2022-08-19T00:00:00.000000000",
          "2022-08-22T00:00:00.000000000",
          "2022-08-23T00:00:00.000000000",
          "2022-08-24T00:00:00.000000000",
          "2022-08-25T00:00:00.000000000",
          "2022-09-08T00:00:00.000000000",
          "2022-09-09T00:00:00.000000000",
          "2022-09-12T00:00:00.000000000",
          "2022-09-13T00:00:00.000000000",
          "2022-09-14T00:00:00.000000000",
          "2022-09-15T00:00:00.000000000",
          "2022-09-16T00:00:00.000000000",
          "2022-09-19T00:00:00.000000000",
          "2022-09-20T00:00:00.000000000",
          "2022-10-05T00:00:00.000000000",
          "2022-10-06T00:00:00.000000000",
          "2022-10-07T00:00:00.000000000",
          "2022-10-10T00:00:00.000000000",
          "2022-10-11T00:00:00.000000000",
          "2022-10-12T00:00:00.000000000",
          "2022-10-13T00:00:00.000000000",
          "2022-10-14T00:00:00.000000000",
          "2022-10-17T00:00:00.000000000",
          "2022-10-18T00:00:00.000000000",
          "2022-10-19T00:00:00.000000000",
          "2022-10-20T00:00:00.000000000",
          "2022-10-21T00:00:00.000000000",
          "2022-10-24T00:00:00.000000000",
          "2022-10-25T00:00:00.000000000",
          "2022-10-26T00:00:00.000000000",
          "2022-10-27T00:00:00.000000000",
          "2022-10-28T00:00:00.000000000",
          "2022-10-31T00:00:00.000000000",
          "2022-11-01T00:00:00.000000000",
          "2022-11-02T00:00:00.000000000",
          "2022-11-03T00:00:00.000000000",
          "2022-11-04T00:00:00.000000000",
          "2022-11-07T00:00:00.000000000",
          "2022-11-08T00:00:00.000000000",
          "2022-11-09T00:00:00.000000000",
          "2022-11-18T00:00:00.000000000",
          "2022-11-21T00:00:00.000000000",
          "2022-11-22T00:00:00.000000000",
          "2022-11-30T00:00:00.000000000",
          "2022-12-01T00:00:00.000000000",
          "2022-12-02T00:00:00.000000000",
          "2022-12-05T00:00:00.000000000",
          "2022-12-06T00:00:00.000000000",
          "2022-12-07T00:00:00.000000000",
          "2022-12-08T00:00:00.000000000",
          "2022-12-09T00:00:00.000000000",
          "2022-12-12T00:00:00.000000000",
          "2022-12-13T00:00:00.000000000",
          "2022-12-14T00:00:00.000000000",
          "2022-12-15T00:00:00.000000000",
          "2022-12-16T00:00:00.000000000",
          "2022-12-19T00:00:00.000000000",
          "2022-12-20T00:00:00.000000000",
          "2022-12-21T00:00:00.000000000",
          "2022-12-22T00:00:00.000000000",
          "2022-12-23T00:00:00.000000000",
          "2022-12-27T00:00:00.000000000",
          "2022-12-28T00:00:00.000000000",
          "2022-12-29T00:00:00.000000000",
          "2023-01-10T00:00:00.000000000",
          "2023-01-11T00:00:00.000000000",
          "2023-01-12T00:00:00.000000000",
          "2023-01-13T00:00:00.000000000",
          "2023-01-17T00:00:00.000000000",
          "2023-01-18T00:00:00.000000000",
          "2023-01-19T00:00:00.000000000",
          "2023-01-20T00:00:00.000000000",
          "2023-01-23T00:00:00.000000000",
          "2023-01-24T00:00:00.000000000",
          "2023-01-25T00:00:00.000000000",
          "2023-01-26T00:00:00.000000000",
          "2023-01-27T00:00:00.000000000",
          "2023-01-30T00:00:00.000000000",
          "2023-01-31T00:00:00.000000000",
          "2023-02-01T00:00:00.000000000",
          "2023-02-02T00:00:00.000000000",
          "2023-02-03T00:00:00.000000000",
          "2023-02-06T00:00:00.000000000",
          "2023-02-07T00:00:00.000000000",
          "2023-02-08T00:00:00.000000000",
          "2023-02-09T00:00:00.000000000",
          "2023-02-10T00:00:00.000000000",
          "2023-02-21T00:00:00.000000000",
          "2023-02-22T00:00:00.000000000",
          "2023-02-23T00:00:00.000000000",
          "2023-02-24T00:00:00.000000000",
          "2023-02-27T00:00:00.000000000",
          "2023-02-28T00:00:00.000000000",
          "2023-03-01T00:00:00.000000000",
          "2023-03-02T00:00:00.000000000",
          "2023-03-03T00:00:00.000000000",
          "2023-03-06T00:00:00.000000000",
          "2023-03-07T00:00:00.000000000",
          "2023-03-08T00:00:00.000000000",
          "2023-03-09T00:00:00.000000000",
          "2023-03-10T00:00:00.000000000",
          "2023-03-13T00:00:00.000000000",
          "2023-03-14T00:00:00.000000000",
          "2023-03-15T00:00:00.000000000",
          "2023-03-16T00:00:00.000000000",
          "2023-03-17T00:00:00.000000000",
          "2023-03-20T00:00:00.000000000",
          "2023-03-21T00:00:00.000000000",
          "2023-03-22T00:00:00.000000000",
          "2023-03-23T00:00:00.000000000",
          "2023-03-24T00:00:00.000000000",
          "2023-03-27T00:00:00.000000000",
          "2023-03-28T00:00:00.000000000",
          "2023-03-29T00:00:00.000000000",
          "2023-03-30T00:00:00.000000000",
          "2023-03-31T00:00:00.000000000",
          "2023-04-03T00:00:00.000000000",
          "2023-04-04T00:00:00.000000000",
          "2023-04-05T00:00:00.000000000",
          "2023-04-06T00:00:00.000000000",
          "2023-04-10T00:00:00.000000000",
          "2023-04-11T00:00:00.000000000",
          "2023-05-02T00:00:00.000000000",
          "2023-05-03T00:00:00.000000000",
          "2023-05-04T00:00:00.000000000",
          "2023-05-05T00:00:00.000000000",
          "2023-05-08T00:00:00.000000000",
          "2023-05-09T00:00:00.000000000",
          "2023-06-02T00:00:00.000000000",
          "2023-06-05T00:00:00.000000000",
          "2023-06-06T00:00:00.000000000",
          "2023-06-07T00:00:00.000000000",
          "2023-06-08T00:00:00.000000000",
          "2023-06-09T00:00:00.000000000",
          "2023-06-12T00:00:00.000000000",
          "2023-06-13T00:00:00.000000000",
          "2023-06-14T00:00:00.000000000",
          "2023-06-15T00:00:00.000000000",
          "2023-06-16T00:00:00.000000000",
          "2023-06-20T00:00:00.000000000",
          "2023-06-21T00:00:00.000000000",
          "2023-06-22T00:00:00.000000000",
          "2023-07-03T00:00:00.000000000",
          "2023-07-05T00:00:00.000000000",
          "2023-07-06T00:00:00.000000000",
          "2023-07-07T00:00:00.000000000",
          "2023-07-10T00:00:00.000000000",
          "2023-07-17T00:00:00.000000000",
          "2023-07-18T00:00:00.000000000",
          "2023-07-19T00:00:00.000000000",
          "2023-07-20T00:00:00.000000000",
          "2023-07-21T00:00:00.000000000",
          "2023-07-24T00:00:00.000000000",
          "2023-08-04T00:00:00.000000000",
          "2023-08-07T00:00:00.000000000",
          "2023-08-08T00:00:00.000000000",
          "2023-08-09T00:00:00.000000000",
          "2023-08-10T00:00:00.000000000",
          "2023-08-11T00:00:00.000000000",
          "2023-08-17T00:00:00.000000000",
          "2023-08-18T00:00:00.000000000",
          "2023-08-21T00:00:00.000000000",
          "2023-08-22T00:00:00.000000000",
          "2023-08-23T00:00:00.000000000",
          "2023-08-24T00:00:00.000000000",
          "2023-08-25T00:00:00.000000000",
          "2023-08-28T00:00:00.000000000",
          "2023-08-29T00:00:00.000000000",
          "2023-08-30T00:00:00.000000000",
          "2023-08-31T00:00:00.000000000",
          "2023-09-01T00:00:00.000000000",
          "2023-09-05T00:00:00.000000000",
          "2023-09-06T00:00:00.000000000",
          "2023-09-07T00:00:00.000000000",
          "2023-09-21T00:00:00.000000000",
          "2023-09-22T00:00:00.000000000",
          "2023-09-25T00:00:00.000000000",
          "2023-09-26T00:00:00.000000000",
          "2023-09-27T00:00:00.000000000",
          "2023-09-28T00:00:00.000000000",
          "2023-09-29T00:00:00.000000000",
          "2023-10-02T00:00:00.000000000",
          "2023-10-03T00:00:00.000000000",
          "2023-10-11T00:00:00.000000000",
          "2023-10-12T00:00:00.000000000",
          "2023-10-13T00:00:00.000000000",
          "2023-10-16T00:00:00.000000000",
          "2023-10-17T00:00:00.000000000",
          "2023-10-18T00:00:00.000000000",
          "2023-10-19T00:00:00.000000000",
          "2023-10-20T00:00:00.000000000",
          "2023-10-23T00:00:00.000000000",
          "2023-10-24T00:00:00.000000000",
          "2023-10-25T00:00:00.000000000",
          "2023-10-26T00:00:00.000000000",
          "2023-10-27T00:00:00.000000000",
          "2023-10-30T00:00:00.000000000",
          "2023-10-31T00:00:00.000000000",
          "2023-11-01T00:00:00.000000000",
          "2023-11-02T00:00:00.000000000",
          "2023-11-03T00:00:00.000000000",
          "2023-11-13T00:00:00.000000000",
          "2023-11-14T00:00:00.000000000",
          "2023-11-15T00:00:00.000000000",
          "2023-11-16T00:00:00.000000000",
          "2023-11-17T00:00:00.000000000",
          "2023-11-20T00:00:00.000000000",
          "2023-11-21T00:00:00.000000000",
          "2023-11-22T00:00:00.000000000",
          "2023-11-24T00:00:00.000000000",
          "2023-11-27T00:00:00.000000000",
          "2023-12-13T00:00:00.000000000",
          "2023-12-14T00:00:00.000000000",
          "2023-12-15T00:00:00.000000000",
          "2023-12-18T00:00:00.000000000",
          "2023-12-19T00:00:00.000000000",
          "2023-12-20T00:00:00.000000000",
          "2023-12-21T00:00:00.000000000",
          "2023-12-22T00:00:00.000000000",
          "2023-12-26T00:00:00.000000000",
          "2024-01-23T00:00:00.000000000",
          "2024-01-24T00:00:00.000000000",
          "2024-01-25T00:00:00.000000000",
          "2024-01-26T00:00:00.000000000",
          "2024-01-29T00:00:00.000000000",
          "2024-01-30T00:00:00.000000000",
          "2024-01-31T00:00:00.000000000",
          "2024-02-01T00:00:00.000000000",
          "2024-02-02T00:00:00.000000000",
          "2024-02-05T00:00:00.000000000",
          "2024-02-06T00:00:00.000000000",
          "2024-02-07T00:00:00.000000000",
          "2024-02-08T00:00:00.000000000",
          "2024-02-09T00:00:00.000000000",
          "2024-02-12T00:00:00.000000000",
          "2024-02-13T00:00:00.000000000",
          "2024-02-14T00:00:00.000000000",
          "2024-02-22T00:00:00.000000000",
          "2024-02-23T00:00:00.000000000",
          "2024-02-26T00:00:00.000000000",
          "2024-02-27T00:00:00.000000000",
          "2024-02-28T00:00:00.000000000",
          "2024-02-29T00:00:00.000000000",
          "2024-03-01T00:00:00.000000000",
          "2024-03-04T00:00:00.000000000",
          "2024-03-05T00:00:00.000000000",
          "2024-03-21T00:00:00.000000000",
          "2024-03-22T00:00:00.000000000",
          "2024-03-25T00:00:00.000000000",
          "2024-03-26T00:00:00.000000000",
          "2024-03-27T00:00:00.000000000",
          "2024-03-28T00:00:00.000000000",
          "2024-04-12T00:00:00.000000000",
          "2024-04-15T00:00:00.000000000",
          "2024-04-16T00:00:00.000000000",
          "2024-04-17T00:00:00.000000000",
          "2024-04-18T00:00:00.000000000",
          "2024-04-19T00:00:00.000000000",
          "2024-04-22T00:00:00.000000000",
          "2024-04-23T00:00:00.000000000",
          "2024-04-24T00:00:00.000000000",
          "2024-04-25T00:00:00.000000000",
          "2024-04-26T00:00:00.000000000",
          "2024-04-29T00:00:00.000000000",
          "2024-04-30T00:00:00.000000000",
          "2024-05-01T00:00:00.000000000",
          "2024-05-02T00:00:00.000000000",
          "2024-05-03T00:00:00.000000000",
          "2024-05-06T00:00:00.000000000",
          "2024-05-07T00:00:00.000000000",
          "2024-05-08T00:00:00.000000000",
          "2024-05-09T00:00:00.000000000",
          "2024-05-10T00:00:00.000000000",
          "2024-05-13T00:00:00.000000000",
          "2024-05-14T00:00:00.000000000",
          "2024-05-15T00:00:00.000000000",
          "2024-05-16T00:00:00.000000000",
          "2024-05-17T00:00:00.000000000",
          "2024-05-20T00:00:00.000000000",
          "2024-05-21T00:00:00.000000000",
          "2024-05-22T00:00:00.000000000",
          "2024-05-23T00:00:00.000000000",
          "2024-06-07T00:00:00.000000000",
          "2024-06-10T00:00:00.000000000",
          "2024-06-11T00:00:00.000000000",
          "2024-06-12T00:00:00.000000000",
          "2024-06-13T00:00:00.000000000",
          "2024-06-14T00:00:00.000000000",
          "2024-06-17T00:00:00.000000000",
          "2024-06-18T00:00:00.000000000",
          "2024-06-20T00:00:00.000000000",
          "2024-06-21T00:00:00.000000000",
          "2024-06-24T00:00:00.000000000",
          "2024-07-08T00:00:00.000000000",
          "2024-07-09T00:00:00.000000000",
          "2024-07-10T00:00:00.000000000",
          "2024-07-11T00:00:00.000000000",
          "2024-07-12T00:00:00.000000000",
          "2024-07-15T00:00:00.000000000",
          "2024-07-16T00:00:00.000000000",
          "2024-07-17T00:00:00.000000000",
          "2024-07-18T00:00:00.000000000",
          "2024-07-19T00:00:00.000000000",
          "2024-07-22T00:00:00.000000000",
          "2024-07-23T00:00:00.000000000",
          "2024-07-29T00:00:00.000000000",
          "2024-07-30T00:00:00.000000000",
          "2024-07-31T00:00:00.000000000",
          "2024-08-01T00:00:00.000000000",
          "2024-08-26T00:00:00.000000000",
          "2024-08-27T00:00:00.000000000",
          "2024-09-03T00:00:00.000000000",
          "2024-09-04T00:00:00.000000000",
          "2024-09-05T00:00:00.000000000",
          "2024-09-06T00:00:00.000000000",
          "2024-09-09T00:00:00.000000000",
          "2024-09-10T00:00:00.000000000",
          "2024-09-11T00:00:00.000000000",
          "2024-09-12T00:00:00.000000000",
          "2024-09-13T00:00:00.000000000",
          "2024-09-16T00:00:00.000000000",
          "2024-09-17T00:00:00.000000000",
          "2024-09-18T00:00:00.000000000",
          "2024-09-19T00:00:00.000000000",
          "2024-09-20T00:00:00.000000000",
          "2024-09-23T00:00:00.000000000",
          "2024-09-24T00:00:00.000000000",
          "2024-09-25T00:00:00.000000000",
          "2024-09-26T00:00:00.000000000",
          "2024-09-27T00:00:00.000000000",
          "2024-09-30T00:00:00.000000000",
          "2024-10-01T00:00:00.000000000",
          "2024-10-11T00:00:00.000000000",
          "2024-10-14T00:00:00.000000000",
          "2024-10-15T00:00:00.000000000",
          "2024-10-16T00:00:00.000000000",
          "2024-10-17T00:00:00.000000000",
          "2024-10-18T00:00:00.000000000",
          "2024-10-21T00:00:00.000000000",
          "2024-10-31T00:00:00.000000000",
          "2024-11-01T00:00:00.000000000",
          "2024-11-04T00:00:00.000000000",
          "2024-11-05T00:00:00.000000000",
          "2024-11-06T00:00:00.000000000",
          "2024-11-18T00:00:00.000000000",
          "2024-11-19T00:00:00.000000000",
          "2024-11-20T00:00:00.000000000",
          "2024-11-21T00:00:00.000000000",
          "2024-11-22T00:00:00.000000000",
          "2024-11-25T00:00:00.000000000",
          "2024-11-26T00:00:00.000000000",
          "2024-11-27T00:00:00.000000000",
          "2024-11-29T00:00:00.000000000",
          "2024-12-02T00:00:00.000000000",
          "2024-12-03T00:00:00.000000000",
          "2024-12-04T00:00:00.000000000",
          "2024-12-05T00:00:00.000000000",
          "2024-12-06T00:00:00.000000000",
          "2024-12-23T00:00:00.000000000",
          "2024-12-24T00:00:00.000000000",
          "2024-12-26T00:00:00.000000000",
          "2024-12-27T00:00:00.000000000",
          "2024-12-30T00:00:00.000000000",
          "2024-12-31T00:00:00.000000000"
         ],
         "xaxis": "x",
         "y": {
          "bdata": "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",
          "dtype": "f8"
         },
         "yaxis": "y"
        },
        {
         "marker": {
          "color": "rgb(102,194,165)",
          "size": 6
         },
         "mode": "markers",
         "name": "Regime 0",
         "showlegend": false,
         "type": "scatter",
         "x": [
          "2018-01-02T00:00:00.000000000",
          "2018-01-03T00:00:00.000000000",
          "2018-01-04T00:00:00.000000000",
          "2018-01-05T00:00:00.000000000",
          "2018-01-08T00:00:00.000000000",
          "2018-01-09T00:00:00.000000000",
          "2018-01-10T00:00:00.000000000",
          "2018-01-11T00:00:00.000000000",
          "2018-01-12T00:00:00.000000000",
          "2018-01-16T00:00:00.000000000",
          "2018-01-17T00:00:00.000000000",
          "2018-01-18T00:00:00.000000000",
          "2018-01-19T00:00:00.000000000",
          "2018-01-22T00:00:00.000000000",
          "2018-01-23T00:00:00.000000000",
          "2018-01-24T00:00:00.000000000",
          "2018-01-25T00:00:00.000000000",
          "2018-01-26T00:00:00.000000000",
          "2018-01-29T00:00:00.000000000",
          "2018-01-30T00:00:00.000000000",
          "2018-01-31T00:00:00.000000000",
          "2018-02-01T00:00:00.000000000",
          "2018-02-23T00:00:00.000000000",
          "2018-02-26T00:00:00.000000000",
          "2018-02-27T00:00:00.000000000",
          "2018-02-28T00:00:00.000000000",
          "2018-03-01T00:00:00.000000000",
          "2018-03-02T00:00:00.000000000",
          "2018-03-05T00:00:00.000000000",
          "2018-03-06T00:00:00.000000000",
          "2018-03-07T00:00:00.000000000",
          "2018-03-08T00:00:00.000000000",
          "2018-03-09T00:00:00.000000000",
          "2018-03-12T00:00:00.000000000",
          "2018-03-13T00:00:00.000000000",
          "2018-03-14T00:00:00.000000000",
          "2018-03-15T00:00:00.000000000",
          "2018-03-16T00:00:00.000000000",
          "2018-03-19T00:00:00.000000000",
          "2018-03-20T00:00:00.000000000",
          "2018-03-21T00:00:00.000000000",
          "2018-04-04T00:00:00.000000000",
          "2018-04-05T00:00:00.000000000",
          "2018-04-06T00:00:00.000000000",
          "2018-04-09T00:00:00.000000000",
          "2018-04-10T00:00:00.000000000",
          "2018-04-11T00:00:00.000000000",
          "2018-04-12T00:00:00.000000000",
          "2018-04-13T00:00:00.000000000",
          "2018-04-16T00:00:00.000000000",
          "2018-04-17T00:00:00.000000000",
          "2018-04-18T00:00:00.000000000",
          "2018-04-19T00:00:00.000000000",
          "2018-04-20T00:00:00.000000000",
          "2018-04-23T00:00:00.000000000",
          "2018-04-24T00:00:00.000000000",
          "2018-04-25T00:00:00.000000000",
          "2018-04-26T00:00:00.000000000",
          "2018-04-27T00:00:00.000000000",
          "2018-04-30T00:00:00.000000000",
          "2018-05-01T00:00:00.000000000",
          "2018-05-02T00:00:00.000000000",
          "2018-05-03T00:00:00.000000000",
          "2018-05-04T00:00:00.000000000",
          "2018-05-07T00:00:00.000000000",
          "2018-05-08T00:00:00.000000000",
          "2018-05-09T00:00:00.000000000",
          "2018-05-10T00:00:00.000000000",
          "2018-05-11T00:00:00.000000000",
          "2018-05-14T00:00:00.000000000",
          "2018-05-15T00:00:00.000000000",
          "2018-05-16T00:00:00.000000000",
          "2018-05-17T00:00:00.000000000",
          "2018-05-18T00:00:00.000000000",
          "2018-05-21T00:00:00.000000000",
          "2018-05-22T00:00:00.000000000",
          "2018-05-23T00:00:00.000000000",
          "2018-05-24T00:00:00.000000000",
          "2018-05-25T00:00:00.000000000",
          "2018-05-29T00:00:00.000000000",
          "2018-05-30T00:00:00.000000000",
          "2018-05-31T00:00:00.000000000",
          "2018-06-01T00:00:00.000000000",
          "2018-06-04T00:00:00.000000000",
          "2018-06-05T00:00:00.000000000",
          "2018-06-06T00:00:00.000000000",
          "2018-06-07T00:00:00.000000000",
          "2018-06-08T00:00:00.000000000",
          "2018-06-11T00:00:00.000000000",
          "2018-06-12T00:00:00.000000000",
          "2018-06-13T00:00:00.000000000",
          "2018-06-14T00:00:00.000000000",
          "2018-06-15T00:00:00.000000000",
          "2018-06-18T00:00:00.000000000",
          "2018-06-19T00:00:00.000000000",
          "2018-06-20T00:00:00.000000000",
          "2018-06-21T00:00:00.000000000",
          "2018-06-22T00:00:00.000000000",
          "2018-06-25T00:00:00.000000000",
          "2018-06-26T00:00:00.000000000",
          "2018-06-27T00:00:00.000000000",
          "2018-06-28T00:00:00.000000000",
          "2018-06-29T00:00:00.000000000",
          "2018-07-02T00:00:00.000000000",
          "2018-07-03T00:00:00.000000000",
          "2018-07-05T00:00:00.000000000",
          "2018-07-06T00:00:00.000000000",
          "2018-07-09T00:00:00.000000000",
          "2018-07-10T00:00:00.000000000",
          "2018-07-11T00:00:00.000000000",
          "2018-07-12T00:00:00.000000000",
          "2018-07-13T00:00:00.000000000",
          "2018-07-16T00:00:00.000000000",
          "2018-07-17T00:00:00.000000000",
          "2018-07-18T00:00:00.000000000",
          "2018-07-19T00:00:00.000000000",
          "2018-07-20T00:00:00.000000000",
          "2018-07-23T00:00:00.000000000",
          "2018-07-24T00:00:00.000000000",
          "2018-07-25T00:00:00.000000000",
          "2018-07-26T00:00:00.000000000",
          "2018-07-27T00:00:00.000000000",
          "2018-07-30T00:00:00.000000000",
          "2018-07-31T00:00:00.000000000",
          "2018-08-01T00:00:00.000000000",
          "2018-08-02T00:00:00.000000000",
          "2018-08-03T00:00:00.000000000",
          "2018-08-06T00:00:00.000000000",
          "2018-08-07T00:00:00.000000000",
          "2018-08-08T00:00:00.000000000",
          "2018-08-09T00:00:00.000000000",
          "2018-08-10T00:00:00.000000000",
          "2018-08-13T00:00:00.000000000",
          "2018-08-14T00:00:00.000000000",
          "2018-08-15T00:00:00.000000000",
          "2018-08-16T00:00:00.000000000",
          "2018-08-17T00:00:00.000000000",
          "2018-08-20T00:00:00.000000000",
          "2018-08-21T00:00:00.000000000",
          "2018-08-22T00:00:00.000000000",
          "2018-08-23T00:00:00.000000000",
          "2018-08-24T00:00:00.000000000",
          "2018-08-27T00:00:00.000000000",
          "2018-08-28T00:00:00.000000000",
          "2018-08-29T00:00:00.000000000",
          "2018-08-30T00:00:00.000000000",
          "2018-08-31T00:00:00.000000000",
          "2018-09-04T00:00:00.000000000",
          "2018-09-05T00:00:00.000000000",
          "2018-09-06T00:00:00.000000000",
          "2018-09-07T00:00:00.000000000",
          "2018-09-10T00:00:00.000000000",
          "2018-09-11T00:00:00.000000000",
          "2018-09-12T00:00:00.000000000",
          "2018-09-13T00:00:00.000000000",
          "2018-09-14T00:00:00.000000000",
          "2018-09-17T00:00:00.000000000",
          "2018-09-18T00:00:00.000000000",
          "2018-09-19T00:00:00.000000000",
          "2018-09-20T00:00:00.000000000",
          "2018-09-21T00:00:00.000000000",
          "2018-09-24T00:00:00.000000000",
          "2018-09-25T00:00:00.000000000",
          "2018-09-26T00:00:00.000000000",
          "2018-09-27T00:00:00.000000000",
          "2018-09-28T00:00:00.000000000",
          "2018-10-01T00:00:00.000000000",
          "2018-10-02T00:00:00.000000000",
          "2018-10-03T00:00:00.000000000",
          "2018-10-04T00:00:00.000000000",
          "2018-10-05T00:00:00.000000000",
          "2018-10-08T00:00:00.000000000",
          "2018-10-09T00:00:00.000000000",
          "2018-11-13T00:00:00.000000000",
          "2018-11-14T00:00:00.000000000",
          "2018-11-15T00:00:00.000000000",
          "2018-11-16T00:00:00.000000000",
          "2019-01-17T00:00:00.000000000",
          "2019-01-18T00:00:00.000000000",
          "2019-01-22T00:00:00.000000000",
          "2019-01-23T00:00:00.000000000",
          "2019-01-24T00:00:00.000000000",
          "2019-01-25T00:00:00.000000000",
          "2019-01-28T00:00:00.000000000",
          "2019-01-29T00:00:00.000000000",
          "2019-01-30T00:00:00.000000000",
          "2019-01-31T00:00:00.000000000",
          "2019-02-01T00:00:00.000000000",
          "2019-02-04T00:00:00.000000000",
          "2019-02-05T00:00:00.000000000",
          "2019-02-06T00:00:00.000000000",
          "2019-02-07T00:00:00.000000000",
          "2019-02-08T00:00:00.000000000",
          "2019-02-11T00:00:00.000000000",
          "2019-02-12T00:00:00.000000000",
          "2019-02-13T00:00:00.000000000",
          "2019-02-14T00:00:00.000000000",
          "2019-02-15T00:00:00.000000000",
          "2019-02-19T00:00:00.000000000",
          "2019-02-20T00:00:00.000000000",
          "2019-02-21T00:00:00.000000000",
          "2019-02-22T00:00:00.000000000",
          "2019-02-25T00:00:00.000000000",
          "2019-02-26T00:00:00.000000000",
          "2019-02-27T00:00:00.000000000",
          "2019-02-28T00:00:00.000000000",
          "2019-03-01T00:00:00.000000000",
          "2019-03-04T00:00:00.000000000",
          "2019-03-05T00:00:00.000000000",
          "2019-03-06T00:00:00.000000000",
          "2019-03-07T00:00:00.000000000",
          "2019-03-08T00:00:00.000000000",
          "2019-03-11T00:00:00.000000000",
          "2019-03-12T00:00:00.000000000",
          "2019-03-13T00:00:00.000000000",
          "2019-03-14T00:00:00.000000000",
          "2019-03-15T00:00:00.000000000",
          "2019-03-18T00:00:00.000000000",
          "2019-03-19T00:00:00.000000000",
          "2019-03-20T00:00:00.000000000",
          "2019-03-21T00:00:00.000000000",
          "2019-03-22T00:00:00.000000000",
          "2019-03-25T00:00:00.000000000",
          "2019-03-26T00:00:00.000000000",
          "2019-03-27T00:00:00.000000000",
          "2019-03-28T00:00:00.000000000",
          "2019-03-29T00:00:00.000000000",
          "2019-04-01T00:00:00.000000000",
          "2019-04-02T00:00:00.000000000",
          "2019-04-03T00:00:00.000000000",
          "2019-04-04T00:00:00.000000000",
          "2019-04-05T00:00:00.000000000",
          "2019-04-08T00:00:00.000000000",
          "2019-04-09T00:00:00.000000000",
          "2019-04-10T00:00:00.000000000",
          "2019-04-11T00:00:00.000000000",
          "2019-04-12T00:00:00.000000000",
          "2019-04-15T00:00:00.000000000",
          "2019-04-16T00:00:00.000000000",
          "2019-04-17T00:00:00.000000000",
          "2019-04-18T00:00:00.000000000",
          "2019-04-22T00:00:00.000000000",
          "2019-04-23T00:00:00.000000000",
          "2019-04-24T00:00:00.000000000",
          "2019-04-25T00:00:00.000000000",
          "2019-04-26T00:00:00.000000000",
          "2019-04-29T00:00:00.000000000",
          "2019-04-30T00:00:00.000000000",
          "2019-05-01T00:00:00.000000000",
          "2019-05-02T00:00:00.000000000",
          "2019-05-03T00:00:00.000000000",
          "2019-05-06T00:00:00.000000000",
          "2019-05-07T00:00:00.000000000",
          "2019-05-08T00:00:00.000000000",
          "2019-05-09T00:00:00.000000000",
          "2019-05-10T00:00:00.000000000",
          "2019-05-15T00:00:00.000000000",
          "2019-05-16T00:00:00.000000000",
          "2019-05-17T00:00:00.000000000",
          "2019-05-20T00:00:00.000000000",
          "2019-05-21T00:00:00.000000000",
          "2019-05-22T00:00:00.000000000",
          "2019-05-23T00:00:00.000000000",
          "2019-05-24T00:00:00.000000000",
          "2019-05-28T00:00:00.000000000",
          "2019-05-29T00:00:00.000000000",
          "2019-05-30T00:00:00.000000000",
          "2019-05-31T00:00:00.000000000",
          "2019-06-03T00:00:00.000000000",
          "2019-06-04T00:00:00.000000000",
          "2019-06-05T00:00:00.000000000",
          "2019-06-06T00:00:00.000000000",
          "2019-06-07T00:00:00.000000000",
          "2019-06-17T00:00:00.000000000",
          "2019-06-18T00:00:00.000000000",
          "2019-06-19T00:00:00.000000000",
          "2019-06-20T00:00:00.000000000",
          "2019-06-21T00:00:00.000000000",
          "2019-06-24T00:00:00.000000000",
          "2019-06-25T00:00:00.000000000",
          "2019-06-26T00:00:00.000000000",
          "2019-06-27T00:00:00.000000000",
          "2019-06-28T00:00:00.000000000",
          "2019-07-01T00:00:00.000000000",
          "2019-07-02T00:00:00.000000000",
          "2019-07-03T00:00:00.000000000",
          "2019-07-05T00:00:00.000000000",
          "2019-07-08T00:00:00.000000000",
          "2019-07-09T00:00:00.000000000",
          "2019-07-10T00:00:00.000000000",
          "2019-07-11T00:00:00.000000000",
          "2019-07-12T00:00:00.000000000",
          "2019-07-15T00:00:00.000000000",
          "2019-07-16T00:00:00.000000000",
          "2019-07-17T00:00:00.000000000",
          "2019-07-18T00:00:00.000000000",
          "2019-07-19T00:00:00.000000000",
          "2019-07-22T00:00:00.000000000",
          "2019-07-23T00:00:00.000000000",
          "2019-07-24T00:00:00.000000000",
          "2019-07-25T00:00:00.000000000",
          "2019-07-26T00:00:00.000000000",
          "2019-07-29T00:00:00.000000000",
          "2019-07-30T00:00:00.000000000",
          "2019-07-31T00:00:00.000000000",
          "2019-08-01T00:00:00.000000000",
          "2019-08-02T00:00:00.000000000",
          "2019-08-15T00:00:00.000000000",
          "2019-08-16T00:00:00.000000000",
          "2019-08-19T00:00:00.000000000",
          "2019-08-20T00:00:00.000000000",
          "2019-08-21T00:00:00.000000000",
          "2019-08-22T00:00:00.000000000",
          "2019-08-23T00:00:00.000000000",
          "2019-08-26T00:00:00.000000000",
          "2019-08-27T00:00:00.000000000",
          "2019-08-28T00:00:00.000000000",
          "2019-08-29T00:00:00.000000000",
          "2019-08-30T00:00:00.000000000",
          "2019-09-03T00:00:00.000000000",
          "2019-09-04T00:00:00.000000000",
          "2019-09-05T00:00:00.000000000",
          "2019-09-06T00:00:00.000000000",
          "2019-09-09T00:00:00.000000000",
          "2019-09-10T00:00:00.000000000",
          "2019-09-11T00:00:00.000000000",
          "2019-09-12T00:00:00.000000000",
          "2019-09-13T00:00:00.000000000",
          "2019-09-16T00:00:00.000000000",
          "2019-09-17T00:00:00.000000000",
          "2019-09-18T00:00:00.000000000",
          "2019-09-19T00:00:00.000000000",
          "2019-09-20T00:00:00.000000000",
          "2019-09-23T00:00:00.000000000",
          "2019-09-24T00:00:00.000000000",
          "2019-09-25T00:00:00.000000000",
          "2019-09-26T00:00:00.000000000",
          "2019-09-27T00:00:00.000000000",
          "2019-09-30T00:00:00.000000000",
          "2019-10-01T00:00:00.000000000",
          "2019-10-02T00:00:00.000000000",
          "2019-10-03T00:00:00.000000000",
          "2019-10-04T00:00:00.000000000",
          "2019-10-07T00:00:00.000000000",
          "2019-10-08T00:00:00.000000000",
          "2019-10-09T00:00:00.000000000",
          "2019-10-10T00:00:00.000000000",
          "2019-10-11T00:00:00.000000000",
          "2019-10-14T00:00:00.000000000",
          "2019-10-15T00:00:00.000000000",
          "2019-10-16T00:00:00.000000000",
          "2019-10-17T00:00:00.000000000",
          "2019-10-18T00:00:00.000000000",
          "2019-10-21T00:00:00.000000000",
          "2019-10-22T00:00:00.000000000",
          "2019-10-23T00:00:00.000000000",
          "2019-10-24T00:00:00.000000000",
          "2019-10-25T00:00:00.000000000",
          "2019-10-28T00:00:00.000000000",
          "2019-10-29T00:00:00.000000000",
          "2019-10-30T00:00:00.000000000",
          "2019-10-31T00:00:00.000000000",
          "2019-11-01T00:00:00.000000000",
          "2019-11-04T00:00:00.000000000",
          "2019-11-05T00:00:00.000000000",
          "2019-11-06T00:00:00.000000000",
          "2019-11-07T00:00:00.000000000",
          "2019-11-08T00:00:00.000000000",
          "2019-11-11T00:00:00.000000000",
          "2019-11-12T00:00:00.000000000",
          "2019-11-13T00:00:00.000000000",
          "2019-11-14T00:00:00.000000000",
          "2019-11-15T00:00:00.000000000",
          "2019-11-18T00:00:00.000000000",
          "2019-11-19T00:00:00.000000000",
          "2019-11-20T00:00:00.000000000",
          "2019-11-21T00:00:00.000000000",
          "2019-11-22T00:00:00.000000000",
          "2019-11-25T00:00:00.000000000",
          "2019-11-26T00:00:00.000000000",
          "2019-11-27T00:00:00.000000000",
          "2019-11-29T00:00:00.000000000",
          "2019-12-02T00:00:00.000000000",
          "2019-12-03T00:00:00.000000000",
          "2019-12-04T00:00:00.000000000",
          "2019-12-05T00:00:00.000000000",
          "2019-12-06T00:00:00.000000000",
          "2019-12-09T00:00:00.000000000",
          "2019-12-10T00:00:00.000000000",
          "2019-12-11T00:00:00.000000000",
          "2019-12-12T00:00:00.000000000",
          "2019-12-13T00:00:00.000000000",
          "2019-12-16T00:00:00.000000000",
          "2019-12-17T00:00:00.000000000",
          "2019-12-18T00:00:00.000000000",
          "2019-12-19T00:00:00.000000000",
          "2019-12-20T00:00:00.000000000",
          "2019-12-23T00:00:00.000000000",
          "2019-12-24T00:00:00.000000000",
          "2019-12-26T00:00:00.000000000",
          "2019-12-27T00:00:00.000000000",
          "2019-12-30T00:00:00.000000000",
          "2019-12-31T00:00:00.000000000",
          "2020-01-02T00:00:00.000000000",
          "2020-01-03T00:00:00.000000000",
          "2020-01-06T00:00:00.000000000",
          "2020-01-07T00:00:00.000000000",
          "2020-01-08T00:00:00.000000000",
          "2020-01-09T00:00:00.000000000",
          "2020-01-10T00:00:00.000000000",
          "2020-01-13T00:00:00.000000000",
          "2020-01-14T00:00:00.000000000",
          "2020-01-15T00:00:00.000000000",
          "2020-01-16T00:00:00.000000000",
          "2020-01-17T00:00:00.000000000",
          "2020-01-21T00:00:00.000000000",
          "2020-01-22T00:00:00.000000000",
          "2020-01-23T00:00:00.000000000",
          "2020-01-24T00:00:00.000000000",
          "2020-01-27T00:00:00.000000000",
          "2020-01-28T00:00:00.000000000",
          "2020-01-29T00:00:00.000000000",
          "2020-01-30T00:00:00.000000000",
          "2020-01-31T00:00:00.000000000",
          "2020-02-03T00:00:00.000000000",
          "2020-02-04T00:00:00.000000000",
          "2020-02-05T00:00:00.000000000",
          "2020-02-06T00:00:00.000000000",
          "2020-02-18T00:00:00.000000000",
          "2020-02-19T00:00:00.000000000",
          "2020-02-20T00:00:00.000000000",
          "2020-02-21T00:00:00.000000000",
          "2020-07-14T00:00:00.000000000",
          "2020-07-15T00:00:00.000000000",
          "2020-07-16T00:00:00.000000000",
          "2020-07-17T00:00:00.000000000",
          "2020-07-20T00:00:00.000000000",
          "2020-07-21T00:00:00.000000000",
          "2020-07-22T00:00:00.000000000",
          "2020-07-23T00:00:00.000000000",
          "2020-07-24T00:00:00.000000000",
          "2020-07-27T00:00:00.000000000",
          "2020-07-28T00:00:00.000000000",
          "2020-07-29T00:00:00.000000000",
          "2020-07-30T00:00:00.000000000",
          "2020-07-31T00:00:00.000000000",
          "2020-08-03T00:00:00.000000000",
          "2020-08-04T00:00:00.000000000",
          "2020-08-05T00:00:00.000000000",
          "2020-08-13T00:00:00.000000000",
          "2020-08-14T00:00:00.000000000",
          "2020-08-17T00:00:00.000000000",
          "2020-08-18T00:00:00.000000000",
          "2020-08-19T00:00:00.000000000",
          "2020-08-20T00:00:00.000000000",
          "2020-08-21T00:00:00.000000000",
          "2020-08-24T00:00:00.000000000",
          "2020-08-25T00:00:00.000000000",
          "2020-08-26T00:00:00.000000000",
          "2020-10-20T00:00:00.000000000",
          "2020-10-21T00:00:00.000000000",
          "2020-10-22T00:00:00.000000000",
          "2020-10-23T00:00:00.000000000",
          "2020-10-26T00:00:00.000000000",
          "2020-10-27T00:00:00.000000000",
          "2020-11-19T00:00:00.000000000",
          "2020-11-20T00:00:00.000000000",
          "2020-11-23T00:00:00.000000000",
          "2020-11-24T00:00:00.000000000",
          "2020-11-25T00:00:00.000000000",
          "2020-11-27T00:00:00.000000000",
          "2020-11-30T00:00:00.000000000",
          "2020-12-01T00:00:00.000000000",
          "2020-12-02T00:00:00.000000000",
          "2020-12-03T00:00:00.000000000",
          "2020-12-04T00:00:00.000000000",
          "2020-12-07T00:00:00.000000000",
          "2020-12-08T00:00:00.000000000",
          "2020-12-09T00:00:00.000000000",
          "2020-12-10T00:00:00.000000000",
          "2020-12-11T00:00:00.000000000",
          "2020-12-14T00:00:00.000000000",
          "2020-12-15T00:00:00.000000000",
          "2020-12-16T00:00:00.000000000",
          "2020-12-17T00:00:00.000000000",
          "2020-12-18T00:00:00.000000000",
          "2020-12-21T00:00:00.000000000",
          "2020-12-22T00:00:00.000000000",
          "2020-12-23T00:00:00.000000000",
          "2020-12-24T00:00:00.000000000",
          "2020-12-28T00:00:00.000000000",
          "2020-12-29T00:00:00.000000000",
          "2020-12-30T00:00:00.000000000",
          "2020-12-31T00:00:00.000000000",
          "2021-01-04T00:00:00.000000000",
          "2021-01-05T00:00:00.000000000",
          "2021-01-06T00:00:00.000000000",
          "2021-01-07T00:00:00.000000000",
          "2021-01-08T00:00:00.000000000",
          "2021-01-11T00:00:00.000000000",
          "2021-01-12T00:00:00.000000000",
          "2021-01-13T00:00:00.000000000",
          "2021-01-14T00:00:00.000000000",
          "2021-01-15T00:00:00.000000000",
          "2021-01-19T00:00:00.000000000",
          "2021-01-20T00:00:00.000000000",
          "2021-01-21T00:00:00.000000000",
          "2021-01-22T00:00:00.000000000",
          "2021-01-25T00:00:00.000000000",
          "2021-01-26T00:00:00.000000000",
          "2021-02-16T00:00:00.000000000",
          "2021-02-17T00:00:00.000000000",
          "2021-02-18T00:00:00.000000000",
          "2021-02-19T00:00:00.000000000",
          "2021-02-22T00:00:00.000000000",
          "2021-02-23T00:00:00.000000000",
          "2021-02-24T00:00:00.000000000",
          "2021-03-22T00:00:00.000000000",
          "2021-03-23T00:00:00.000000000",
          "2021-03-24T00:00:00.000000000",
          "2021-03-25T00:00:00.000000000",
          "2021-03-26T00:00:00.000000000",
          "2021-03-29T00:00:00.000000000",
          "2021-03-30T00:00:00.000000000",
          "2021-03-31T00:00:00.000000000",
          "2021-04-16T00:00:00.000000000",
          "2021-04-19T00:00:00.000000000",
          "2021-04-20T00:00:00.000000000",
          "2021-04-21T00:00:00.000000000",
          "2021-04-22T00:00:00.000000000",
          "2021-04-23T00:00:00.000000000",
          "2021-04-26T00:00:00.000000000",
          "2021-04-27T00:00:00.000000000",
          "2021-04-28T00:00:00.000000000",
          "2021-04-29T00:00:00.000000000",
          "2021-04-30T00:00:00.000000000",
          "2021-05-03T00:00:00.000000000",
          "2021-05-04T00:00:00.000000000",
          "2021-05-05T00:00:00.000000000",
          "2021-05-06T00:00:00.000000000",
          "2021-05-07T00:00:00.000000000",
          "2021-05-10T00:00:00.000000000",
          "2021-05-11T00:00:00.000000000",
          "2021-05-21T00:00:00.000000000",
          "2021-05-24T00:00:00.000000000",
          "2021-05-25T00:00:00.000000000",
          "2021-05-26T00:00:00.000000000",
          "2021-05-27T00:00:00.000000000",
          "2021-05-28T00:00:00.000000000",
          "2021-06-01T00:00:00.000000000",
          "2021-06-02T00:00:00.000000000",
          "2021-06-03T00:00:00.000000000",
          "2021-06-04T00:00:00.000000000",
          "2021-06-07T00:00:00.000000000",
          "2021-06-08T00:00:00.000000000",
          "2021-06-09T00:00:00.000000000",
          "2021-06-10T00:00:00.000000000",
          "2021-06-11T00:00:00.000000000",
          "2021-06-14T00:00:00.000000000",
          "2021-06-15T00:00:00.000000000",
          "2021-06-16T00:00:00.000000000",
          "2021-06-17T00:00:00.000000000",
          "2021-06-18T00:00:00.000000000",
          "2021-06-21T00:00:00.000000000",
          "2021-06-22T00:00:00.000000000",
          "2021-06-23T00:00:00.000000000",
          "2021-06-24T00:00:00.000000000",
          "2021-06-25T00:00:00.000000000",
          "2021-06-28T00:00:00.000000000",
          "2021-06-29T00:00:00.000000000",
          "2021-06-30T00:00:00.000000000",
          "2021-07-01T00:00:00.000000000",
          "2021-07-02T00:00:00.000000000",
          "2021-07-06T00:00:00.000000000",
          "2021-07-07T00:00:00.000000000",
          "2021-07-08T00:00:00.000000000",
          "2021-07-09T00:00:00.000000000",
          "2021-07-12T00:00:00.000000000",
          "2021-07-13T00:00:00.000000000",
          "2021-07-14T00:00:00.000000000",
          "2021-07-15T00:00:00.000000000",
          "2021-07-16T00:00:00.000000000",
          "2021-07-19T00:00:00.000000000",
          "2021-07-20T00:00:00.000000000",
          "2021-07-21T00:00:00.000000000",
          "2021-07-22T00:00:00.000000000",
          "2021-08-02T00:00:00.000000000",
          "2021-08-03T00:00:00.000000000",
          "2021-08-04T00:00:00.000000000",
          "2021-08-05T00:00:00.000000000",
          "2021-08-06T00:00:00.000000000",
          "2021-08-09T00:00:00.000000000",
          "2021-08-10T00:00:00.000000000",
          "2021-08-11T00:00:00.000000000",
          "2021-08-12T00:00:00.000000000",
          "2021-08-13T00:00:00.000000000",
          "2021-08-16T00:00:00.000000000",
          "2021-08-17T00:00:00.000000000",
          "2021-08-18T00:00:00.000000000",
          "2021-08-19T00:00:00.000000000",
          "2021-08-20T00:00:00.000000000",
          "2021-08-23T00:00:00.000000000",
          "2021-08-24T00:00:00.000000000",
          "2021-08-25T00:00:00.000000000",
          "2021-08-26T00:00:00.000000000",
          "2021-08-27T00:00:00.000000000",
          "2021-08-30T00:00:00.000000000",
          "2021-08-31T00:00:00.000000000",
          "2021-09-01T00:00:00.000000000",
          "2021-09-02T00:00:00.000000000",
          "2021-09-03T00:00:00.000000000",
          "2021-09-07T00:00:00.000000000",
          "2021-09-08T00:00:00.000000000",
          "2021-09-09T00:00:00.000000000",
          "2021-09-10T00:00:00.000000000",
          "2021-09-13T00:00:00.000000000",
          "2021-09-14T00:00:00.000000000",
          "2021-09-15T00:00:00.000000000",
          "2021-09-16T00:00:00.000000000",
          "2021-09-17T00:00:00.000000000",
          "2021-10-11T00:00:00.000000000",
          "2021-10-12T00:00:00.000000000",
          "2021-10-13T00:00:00.000000000",
          "2021-10-14T00:00:00.000000000",
          "2021-10-29T00:00:00.000000000",
          "2021-11-01T00:00:00.000000000",
          "2021-11-02T00:00:00.000000000",
          "2021-11-03T00:00:00.000000000",
          "2021-11-11T00:00:00.000000000",
          "2021-11-12T00:00:00.000000000",
          "2021-11-15T00:00:00.000000000",
          "2021-11-16T00:00:00.000000000",
          "2021-11-17T00:00:00.000000000",
          "2021-11-18T00:00:00.000000000",
          "2021-11-19T00:00:00.000000000",
          "2021-11-22T00:00:00.000000000",
          "2021-11-23T00:00:00.000000000",
          "2021-11-24T00:00:00.000000000",
          "2022-11-23T00:00:00.000000000",
          "2022-11-25T00:00:00.000000000",
          "2022-11-28T00:00:00.000000000",
          "2022-11-29T00:00:00.000000000",
          "2022-12-30T00:00:00.000000000",
          "2023-01-03T00:00:00.000000000",
          "2023-01-04T00:00:00.000000000",
          "2023-01-05T00:00:00.000000000",
          "2023-01-06T00:00:00.000000000",
          "2023-01-09T00:00:00.000000000",
          "2023-02-13T00:00:00.000000000",
          "2023-02-14T00:00:00.000000000",
          "2023-02-15T00:00:00.000000000",
          "2023-02-16T00:00:00.000000000",
          "2023-02-17T00:00:00.000000000",
          "2023-04-12T00:00:00.000000000",
          "2023-04-13T00:00:00.000000000",
          "2023-04-14T00:00:00.000000000",
          "2023-04-17T00:00:00.000000000",
          "2023-04-18T00:00:00.000000000",
          "2023-04-19T00:00:00.000000000",
          "2023-04-20T00:00:00.000000000",
          "2023-04-21T00:00:00.000000000",
          "2023-04-24T00:00:00.000000000",
          "2023-04-25T00:00:00.000000000",
          "2023-04-26T00:00:00.000000000",
          "2023-04-27T00:00:00.000000000",
          "2023-04-28T00:00:00.000000000",
          "2023-05-01T00:00:00.000000000",
          "2023-05-10T00:00:00.000000000",
          "2023-05-11T00:00:00.000000000",
          "2023-05-12T00:00:00.000000000",
          "2023-05-15T00:00:00.000000000",
          "2023-05-16T00:00:00.000000000",
          "2023-05-17T00:00:00.000000000",
          "2023-05-18T00:00:00.000000000",
          "2023-05-19T00:00:00.000000000",
          "2023-05-22T00:00:00.000000000",
          "2023-05-23T00:00:00.000000000",
          "2023-05-24T00:00:00.000000000",
          "2023-05-25T00:00:00.000000000",
          "2023-05-26T00:00:00.000000000",
          "2023-05-30T00:00:00.000000000",
          "2023-05-31T00:00:00.000000000",
          "2023-06-01T00:00:00.000000000",
          "2023-06-23T00:00:00.000000000",
          "2023-06-26T00:00:00.000000000",
          "2023-06-27T00:00:00.000000000",
          "2023-06-28T00:00:00.000000000",
          "2023-06-29T00:00:00.000000000",
          "2023-06-30T00:00:00.000000000",
          "2023-07-11T00:00:00.000000000",
          "2023-07-12T00:00:00.000000000",
          "2023-07-13T00:00:00.000000000",
          "2023-07-14T00:00:00.000000000",
          "2023-07-25T00:00:00.000000000",
          "2023-07-26T00:00:00.000000000",
          "2023-07-27T00:00:00.000000000",
          "2023-07-28T00:00:00.000000000",
          "2023-07-31T00:00:00.000000000",
          "2023-08-01T00:00:00.000000000",
          "2023-08-02T00:00:00.000000000",
          "2023-08-03T00:00:00.000000000",
          "2023-08-14T00:00:00.000000000",
          "2023-08-15T00:00:00.000000000",
          "2023-08-16T00:00:00.000000000",
          "2023-09-08T00:00:00.000000000",
          "2023-09-11T00:00:00.000000000",
          "2023-09-12T00:00:00.000000000",
          "2023-09-13T00:00:00.000000000",
          "2023-09-14T00:00:00.000000000",
          "2023-09-15T00:00:00.000000000",
          "2023-09-18T00:00:00.000000000",
          "2023-09-19T00:00:00.000000000",
          "2023-09-20T00:00:00.000000000",
          "2023-10-04T00:00:00.000000000",
          "2023-10-05T00:00:00.000000000",
          "2023-10-06T00:00:00.000000000",
          "2023-10-09T00:00:00.000000000",
          "2023-10-10T00:00:00.000000000",
          "2023-11-28T00:00:00.000000000",
          "2023-11-29T00:00:00.000000000",
          "2023-11-30T00:00:00.000000000",
          "2023-12-01T00:00:00.000000000",
          "2023-12-04T00:00:00.000000000",
          "2023-12-05T00:00:00.000000000",
          "2023-12-06T00:00:00.000000000",
          "2023-12-07T00:00:00.000000000",
          "2023-12-08T00:00:00.000000000",
          "2023-12-11T00:00:00.000000000",
          "2023-12-12T00:00:00.000000000",
          "2023-12-27T00:00:00.000000000",
          "2023-12-28T00:00:00.000000000",
          "2023-12-29T00:00:00.000000000",
          "2024-01-02T00:00:00.000000000",
          "2024-01-03T00:00:00.000000000",
          "2024-01-04T00:00:00.000000000",
          "2024-01-05T00:00:00.000000000",
          "2024-01-08T00:00:00.000000000",
          "2024-01-09T00:00:00.000000000",
          "2024-01-10T00:00:00.000000000",
          "2024-01-11T00:00:00.000000000",
          "2024-01-12T00:00:00.000000000",
          "2024-01-16T00:00:00.000000000",
          "2024-01-17T00:00:00.000000000",
          "2024-01-18T00:00:00.000000000",
          "2024-01-19T00:00:00.000000000",
          "2024-01-22T00:00:00.000000000",
          "2024-02-15T00:00:00.000000000",
          "2024-02-16T00:00:00.000000000",
          "2024-02-20T00:00:00.000000000",
          "2024-02-21T00:00:00.000000000",
          "2024-03-06T00:00:00.000000000",
          "2024-03-07T00:00:00.000000000",
          "2024-03-08T00:00:00.000000000",
          "2024-03-11T00:00:00.000000000",
          "2024-03-12T00:00:00.000000000",
          "2024-03-13T00:00:00.000000000",
          "2024-03-14T00:00:00.000000000",
          "2024-03-15T00:00:00.000000000",
          "2024-03-18T00:00:00.000000000",
          "2024-03-19T00:00:00.000000000",
          "2024-03-20T00:00:00.000000000",
          "2024-04-01T00:00:00.000000000",
          "2024-04-02T00:00:00.000000000",
          "2024-04-03T00:00:00.000000000",
          "2024-04-04T00:00:00.000000000",
          "2024-04-05T00:00:00.000000000",
          "2024-04-08T00:00:00.000000000",
          "2024-04-09T00:00:00.000000000",
          "2024-04-10T00:00:00.000000000",
          "2024-04-11T00:00:00.000000000",
          "2024-05-24T00:00:00.000000000",
          "2024-05-28T00:00:00.000000000",
          "2024-05-29T00:00:00.000000000",
          "2024-05-30T00:00:00.000000000",
          "2024-05-31T00:00:00.000000000",
          "2024-06-03T00:00:00.000000000",
          "2024-06-04T00:00:00.000000000",
          "2024-06-05T00:00:00.000000000",
          "2024-06-06T00:00:00.000000000",
          "2024-06-25T00:00:00.000000000",
          "2024-06-26T00:00:00.000000000",
          "2024-06-27T00:00:00.000000000",
          "2024-06-28T00:00:00.000000000",
          "2024-07-01T00:00:00.000000000",
          "2024-07-02T00:00:00.000000000",
          "2024-07-03T00:00:00.000000000",
          "2024-07-05T00:00:00.000000000",
          "2024-08-28T00:00:00.000000000",
          "2024-08-29T00:00:00.000000000",
          "2024-08-30T00:00:00.000000000",
          "2024-10-02T00:00:00.000000000",
          "2024-10-03T00:00:00.000000000",
          "2024-10-04T00:00:00.000000000",
          "2024-10-07T00:00:00.000000000",
          "2024-10-08T00:00:00.000000000",
          "2024-10-09T00:00:00.000000000",
          "2024-10-10T00:00:00.000000000",
          "2024-10-22T00:00:00.000000000",
          "2024-10-23T00:00:00.000000000",
          "2024-10-24T00:00:00.000000000",
          "2024-10-25T00:00:00.000000000",
          "2024-10-28T00:00:00.000000000",
          "2024-10-29T00:00:00.000000000",
          "2024-10-30T00:00:00.000000000",
          "2024-12-09T00:00:00.000000000",
          "2024-12-10T00:00:00.000000000",
          "2024-12-11T00:00:00.000000000",
          "2024-12-12T00:00:00.000000000",
          "2024-12-13T00:00:00.000000000",
          "2024-12-16T00:00:00.000000000",
          "2024-12-17T00:00:00.000000000"
         ],
         "xaxis": "x2",
         "y": {
          "bdata": "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",
          "dtype": "f8"
         },
         "yaxis": "y2"
        },
        {
         "marker": {
          "color": "rgb(252,141,98)",
          "size": 6
         },
         "mode": "markers",
         "name": "Regime 1",
         "showlegend": false,
         "type": "scatter",
         "x": [
          "2018-02-02T00:00:00.000000000",
          "2018-02-05T00:00:00.000000000",
          "2018-02-06T00:00:00.000000000",
          "2018-02-07T00:00:00.000000000",
          "2018-02-08T00:00:00.000000000",
          "2018-02-09T00:00:00.000000000",
          "2018-02-12T00:00:00.000000000",
          "2018-03-22T00:00:00.000000000",
          "2018-03-23T00:00:00.000000000",
          "2018-03-26T00:00:00.000000000",
          "2018-10-10T00:00:00.000000000",
          "2018-10-11T00:00:00.000000000",
          "2018-10-12T00:00:00.000000000",
          "2018-10-15T00:00:00.000000000",
          "2018-12-21T00:00:00.000000000",
          "2018-12-24T00:00:00.000000000",
          "2018-12-26T00:00:00.000000000",
          "2018-12-27T00:00:00.000000000",
          "2019-08-05T00:00:00.000000000",
          "2019-08-06T00:00:00.000000000",
          "2020-02-24T00:00:00.000000000",
          "2020-02-25T00:00:00.000000000",
          "2020-02-26T00:00:00.000000000",
          "2020-02-27T00:00:00.000000000",
          "2020-02-28T00:00:00.000000000",
          "2020-03-02T00:00:00.000000000",
          "2020-03-03T00:00:00.000000000",
          "2020-03-04T00:00:00.000000000",
          "2020-03-05T00:00:00.000000000",
          "2020-03-06T00:00:00.000000000",
          "2020-03-09T00:00:00.000000000",
          "2020-03-10T00:00:00.000000000",
          "2020-03-11T00:00:00.000000000",
          "2020-03-12T00:00:00.000000000",
          "2020-03-13T00:00:00.000000000",
          "2020-03-16T00:00:00.000000000",
          "2020-03-17T00:00:00.000000000",
          "2020-03-18T00:00:00.000000000",
          "2020-03-19T00:00:00.000000000",
          "2020-03-20T00:00:00.000000000",
          "2020-03-23T00:00:00.000000000",
          "2020-03-24T00:00:00.000000000",
          "2020-03-25T00:00:00.000000000",
          "2020-03-26T00:00:00.000000000",
          "2020-03-27T00:00:00.000000000",
          "2020-03-30T00:00:00.000000000",
          "2020-03-31T00:00:00.000000000",
          "2020-04-01T00:00:00.000000000",
          "2020-04-02T00:00:00.000000000",
          "2020-04-03T00:00:00.000000000",
          "2020-04-06T00:00:00.000000000",
          "2020-04-07T00:00:00.000000000",
          "2020-04-08T00:00:00.000000000",
          "2020-04-09T00:00:00.000000000",
          "2020-04-13T00:00:00.000000000",
          "2020-04-14T00:00:00.000000000",
          "2020-04-15T00:00:00.000000000",
          "2020-04-16T00:00:00.000000000",
          "2020-04-17T00:00:00.000000000",
          "2020-06-11T00:00:00.000000000",
          "2020-06-12T00:00:00.000000000",
          "2020-06-15T00:00:00.000000000",
          "2020-06-16T00:00:00.000000000",
          "2020-10-28T00:00:00.000000000",
          "2020-10-29T00:00:00.000000000",
          "2020-10-30T00:00:00.000000000",
          "2020-11-02T00:00:00.000000000",
          "2020-11-03T00:00:00.000000000",
          "2020-11-04T00:00:00.000000000",
          "2020-11-05T00:00:00.000000000",
          "2020-11-06T00:00:00.000000000",
          "2020-11-09T00:00:00.000000000",
          "2020-11-10T00:00:00.000000000",
          "2020-11-11T00:00:00.000000000",
          "2020-11-12T00:00:00.000000000",
          "2020-11-13T00:00:00.000000000",
          "2021-01-27T00:00:00.000000000",
          "2021-01-28T00:00:00.000000000",
          "2021-01-29T00:00:00.000000000",
          "2021-05-12T00:00:00.000000000",
          "2021-11-26T00:00:00.000000000",
          "2021-11-29T00:00:00.000000000",
          "2021-11-30T00:00:00.000000000",
          "2021-12-01T00:00:00.000000000",
          "2021-12-02T00:00:00.000000000",
          "2021-12-03T00:00:00.000000000",
          "2022-01-20T00:00:00.000000000",
          "2022-01-21T00:00:00.000000000",
          "2022-01-24T00:00:00.000000000",
          "2022-01-25T00:00:00.000000000",
          "2022-01-26T00:00:00.000000000",
          "2022-01-27T00:00:00.000000000",
          "2022-01-28T00:00:00.000000000",
          "2022-01-31T00:00:00.000000000",
          "2022-02-01T00:00:00.000000000",
          "2022-02-02T00:00:00.000000000",
          "2022-02-03T00:00:00.000000000",
          "2022-02-04T00:00:00.000000000",
          "2022-02-07T00:00:00.000000000",
          "2022-02-22T00:00:00.000000000",
          "2022-02-23T00:00:00.000000000",
          "2022-02-24T00:00:00.000000000",
          "2022-03-18T00:00:00.000000000",
          "2022-03-21T00:00:00.000000000",
          "2022-03-22T00:00:00.000000000",
          "2022-03-23T00:00:00.000000000",
          "2022-03-24T00:00:00.000000000",
          "2022-03-25T00:00:00.000000000",
          "2022-03-28T00:00:00.000000000",
          "2022-04-26T00:00:00.000000000",
          "2022-04-27T00:00:00.000000000",
          "2022-04-28T00:00:00.000000000",
          "2022-04-29T00:00:00.000000000",
          "2022-05-02T00:00:00.000000000",
          "2022-05-03T00:00:00.000000000",
          "2022-05-04T00:00:00.000000000",
          "2022-05-05T00:00:00.000000000",
          "2022-05-06T00:00:00.000000000",
          "2022-05-09T00:00:00.000000000",
          "2022-05-10T00:00:00.000000000",
          "2022-05-11T00:00:00.000000000",
          "2022-05-12T00:00:00.000000000",
          "2022-05-13T00:00:00.000000000",
          "2022-05-16T00:00:00.000000000",
          "2022-05-17T00:00:00.000000000",
          "2022-05-18T00:00:00.000000000",
          "2022-05-27T00:00:00.000000000",
          "2022-05-31T00:00:00.000000000",
          "2022-06-01T00:00:00.000000000",
          "2022-06-02T00:00:00.000000000",
          "2022-06-03T00:00:00.000000000",
          "2022-06-10T00:00:00.000000000",
          "2022-06-13T00:00:00.000000000",
          "2022-06-14T00:00:00.000000000",
          "2022-06-15T00:00:00.000000000",
          "2022-06-16T00:00:00.000000000",
          "2022-06-17T00:00:00.000000000",
          "2022-06-21T00:00:00.000000000",
          "2022-06-22T00:00:00.000000000",
          "2022-06-23T00:00:00.000000000",
          "2022-06-24T00:00:00.000000000",
          "2022-08-26T00:00:00.000000000",
          "2022-08-29T00:00:00.000000000",
          "2022-08-30T00:00:00.000000000",
          "2022-08-31T00:00:00.000000000",
          "2022-09-01T00:00:00.000000000",
          "2022-09-02T00:00:00.000000000",
          "2022-09-06T00:00:00.000000000",
          "2022-09-07T00:00:00.000000000",
          "2022-09-21T00:00:00.000000000",
          "2022-09-22T00:00:00.000000000",
          "2022-09-23T00:00:00.000000000",
          "2022-09-26T00:00:00.000000000",
          "2022-09-27T00:00:00.000000000",
          "2022-09-28T00:00:00.000000000",
          "2022-09-29T00:00:00.000000000",
          "2022-09-30T00:00:00.000000000",
          "2022-10-03T00:00:00.000000000",
          "2022-10-04T00:00:00.000000000",
          "2022-11-10T00:00:00.000000000",
          "2022-11-11T00:00:00.000000000",
          "2022-11-14T00:00:00.000000000",
          "2022-11-15T00:00:00.000000000",
          "2022-11-16T00:00:00.000000000",
          "2022-11-17T00:00:00.000000000",
          "2023-11-06T00:00:00.000000000",
          "2023-11-07T00:00:00.000000000",
          "2023-11-08T00:00:00.000000000",
          "2023-11-09T00:00:00.000000000",
          "2023-11-10T00:00:00.000000000",
          "2024-07-24T00:00:00.000000000",
          "2024-07-25T00:00:00.000000000",
          "2024-07-26T00:00:00.000000000",
          "2024-08-02T00:00:00.000000000",
          "2024-08-05T00:00:00.000000000",
          "2024-08-06T00:00:00.000000000",
          "2024-08-07T00:00:00.000000000",
          "2024-08-08T00:00:00.000000000",
          "2024-08-09T00:00:00.000000000",
          "2024-08-12T00:00:00.000000000",
          "2024-08-13T00:00:00.000000000",
          "2024-08-14T00:00:00.000000000",
          "2024-08-15T00:00:00.000000000",
          "2024-08-16T00:00:00.000000000",
          "2024-08-19T00:00:00.000000000",
          "2024-08-20T00:00:00.000000000",
          "2024-08-21T00:00:00.000000000",
          "2024-08-22T00:00:00.000000000",
          "2024-08-23T00:00:00.000000000",
          "2024-11-07T00:00:00.000000000",
          "2024-11-08T00:00:00.000000000",
          "2024-11-11T00:00:00.000000000",
          "2024-11-12T00:00:00.000000000",
          "2024-11-13T00:00:00.000000000",
          "2024-11-14T00:00:00.000000000",
          "2024-11-15T00:00:00.000000000",
          "2024-12-18T00:00:00.000000000",
          "2024-12-19T00:00:00.000000000",
          "2024-12-20T00:00:00.000000000"
         ],
         "xaxis": "x2",
         "y": {
          "bdata": "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",
          "dtype": "f8"
         },
         "yaxis": "y2"
        },
        {
         "marker": {
          "color": "rgb(141,160,203)",
          "size": 6
         },
         "mode": "markers",
         "name": "Regime 2",
         "showlegend": false,
         "type": "scatter",
         "x": [
          "2018-02-13T00:00:00.000000000",
          "2018-02-14T00:00:00.000000000",
          "2018-02-15T00:00:00.000000000",
          "2018-02-16T00:00:00.000000000",
          "2018-02-20T00:00:00.000000000",
          "2018-02-21T00:00:00.000000000",
          "2018-02-22T00:00:00.000000000",
          "2018-03-27T00:00:00.000000000",
          "2018-03-28T00:00:00.000000000",
          "2018-03-29T00:00:00.000000000",
          "2018-04-02T00:00:00.000000000",
          "2018-04-03T00:00:00.000000000",
          "2018-10-16T00:00:00.000000000",
          "2018-10-17T00:00:00.000000000",
          "2018-10-18T00:00:00.000000000",
          "2018-10-19T00:00:00.000000000",
          "2018-10-22T00:00:00.000000000",
          "2018-10-23T00:00:00.000000000",
          "2018-10-24T00:00:00.000000000",
          "2018-10-25T00:00:00.000000000",
          "2018-10-26T00:00:00.000000000",
          "2018-10-29T00:00:00.000000000",
          "2018-10-30T00:00:00.000000000",
          "2018-10-31T00:00:00.000000000",
          "2018-11-01T00:00:00.000000000",
          "2018-11-02T00:00:00.000000000",
          "2018-11-05T00:00:00.000000000",
          "2018-11-06T00:00:00.000000000",
          "2018-11-07T00:00:00.000000000",
          "2018-11-08T00:00:00.000000000",
          "2018-11-09T00:00:00.000000000",
          "2018-11-12T00:00:00.000000000",
          "2018-11-19T00:00:00.000000000",
          "2018-11-20T00:00:00.000000000",
          "2018-11-21T00:00:00.000000000",
          "2018-11-23T00:00:00.000000000",
          "2018-11-26T00:00:00.000000000",
          "2018-11-27T00:00:00.000000000",
          "2018-11-28T00:00:00.000000000",
          "2018-11-29T00:00:00.000000000",
          "2018-11-30T00:00:00.000000000",
          "2018-12-03T00:00:00.000000000",
          "2018-12-04T00:00:00.000000000",
          "2018-12-06T00:00:00.000000000",
          "2018-12-07T00:00:00.000000000",
          "2018-12-10T00:00:00.000000000",
          "2018-12-11T00:00:00.000000000",
          "2018-12-12T00:00:00.000000000",
          "2018-12-13T00:00:00.000000000",
          "2018-12-14T00:00:00.000000000",
          "2018-12-17T00:00:00.000000000",
          "2018-12-18T00:00:00.000000000",
          "2018-12-19T00:00:00.000000000",
          "2018-12-20T00:00:00.000000000",
          "2018-12-28T00:00:00.000000000",
          "2018-12-31T00:00:00.000000000",
          "2019-01-02T00:00:00.000000000",
          "2019-01-03T00:00:00.000000000",
          "2019-01-04T00:00:00.000000000",
          "2019-01-07T00:00:00.000000000",
          "2019-01-08T00:00:00.000000000",
          "2019-01-09T00:00:00.000000000",
          "2019-01-10T00:00:00.000000000",
          "2019-01-11T00:00:00.000000000",
          "2019-01-14T00:00:00.000000000",
          "2019-01-15T00:00:00.000000000",
          "2019-01-16T00:00:00.000000000",
          "2019-05-13T00:00:00.000000000",
          "2019-05-14T00:00:00.000000000",
          "2019-06-10T00:00:00.000000000",
          "2019-06-11T00:00:00.000000000",
          "2019-06-12T00:00:00.000000000",
          "2019-06-13T00:00:00.000000000",
          "2019-06-14T00:00:00.000000000",
          "2019-08-07T00:00:00.000000000",
          "2019-08-08T00:00:00.000000000",
          "2019-08-09T00:00:00.000000000",
          "2019-08-12T00:00:00.000000000",
          "2019-08-13T00:00:00.000000000",
          "2019-08-14T00:00:00.000000000",
          "2020-02-07T00:00:00.000000000",
          "2020-02-10T00:00:00.000000000",
          "2020-02-11T00:00:00.000000000",
          "2020-02-12T00:00:00.000000000",
          "2020-02-13T00:00:00.000000000",
          "2020-02-14T00:00:00.000000000",
          "2020-04-20T00:00:00.000000000",
          "2020-04-21T00:00:00.000000000",
          "2020-04-22T00:00:00.000000000",
          "2020-04-23T00:00:00.000000000",
          "2020-04-24T00:00:00.000000000",
          "2020-04-27T00:00:00.000000000",
          "2020-04-28T00:00:00.000000000",
          "2020-04-29T00:00:00.000000000",
          "2020-04-30T00:00:00.000000000",
          "2020-05-01T00:00:00.000000000",
          "2020-05-04T00:00:00.000000000",
          "2020-05-05T00:00:00.000000000",
          "2020-05-06T00:00:00.000000000",
          "2020-05-07T00:00:00.000000000",
          "2020-05-08T00:00:00.000000000",
          "2020-05-11T00:00:00.000000000",
          "2020-05-12T00:00:00.000000000",
          "2020-05-13T00:00:00.000000000",
          "2020-05-14T00:00:00.000000000",
          "2020-05-15T00:00:00.000000000",
          "2020-05-18T00:00:00.000000000",
          "2020-05-19T00:00:00.000000000",
          "2020-05-20T00:00:00.000000000",
          "2020-05-21T00:00:00.000000000",
          "2020-05-22T00:00:00.000000000",
          "2020-05-26T00:00:00.000000000",
          "2020-05-27T00:00:00.000000000",
          "2020-05-28T00:00:00.000000000",
          "2020-05-29T00:00:00.000000000",
          "2020-06-01T00:00:00.000000000",
          "2020-06-02T00:00:00.000000000",
          "2020-06-03T00:00:00.000000000",
          "2020-06-04T00:00:00.000000000",
          "2020-06-05T00:00:00.000000000",
          "2020-06-08T00:00:00.000000000",
          "2020-06-09T00:00:00.000000000",
          "2020-06-10T00:00:00.000000000",
          "2020-06-17T00:00:00.000000000",
          "2020-06-18T00:00:00.000000000",
          "2020-06-19T00:00:00.000000000",
          "2020-06-22T00:00:00.000000000",
          "2020-06-23T00:00:00.000000000",
          "2020-06-24T00:00:00.000000000",
          "2020-06-25T00:00:00.000000000",
          "2020-06-26T00:00:00.000000000",
          "2020-06-29T00:00:00.000000000",
          "2020-06-30T00:00:00.000000000",
          "2020-07-01T00:00:00.000000000",
          "2020-07-02T00:00:00.000000000",
          "2020-07-06T00:00:00.000000000",
          "2020-07-07T00:00:00.000000000",
          "2020-07-08T00:00:00.000000000",
          "2020-07-09T00:00:00.000000000",
          "2020-07-10T00:00:00.000000000",
          "2020-07-13T00:00:00.000000000",
          "2020-08-06T00:00:00.000000000",
          "2020-08-07T00:00:00.000000000",
          "2020-08-10T00:00:00.000000000",
          "2020-08-11T00:00:00.000000000",
          "2020-08-12T00:00:00.000000000",
          "2020-08-27T00:00:00.000000000",
          "2020-08-28T00:00:00.000000000",
          "2020-08-31T00:00:00.000000000",
          "2020-09-01T00:00:00.000000000",
          "2020-09-02T00:00:00.000000000",
          "2020-09-03T00:00:00.000000000",
          "2020-09-04T00:00:00.000000000",
          "2020-09-08T00:00:00.000000000",
          "2020-09-09T00:00:00.000000000",
          "2020-09-10T00:00:00.000000000",
          "2020-09-11T00:00:00.000000000",
          "2020-09-14T00:00:00.000000000",
          "2020-09-15T00:00:00.000000000",
          "2020-09-16T00:00:00.000000000",
          "2020-09-17T00:00:00.000000000",
          "2020-09-18T00:00:00.000000000",
          "2020-09-21T00:00:00.000000000",
          "2020-09-22T00:00:00.000000000",
          "2020-09-23T00:00:00.000000000",
          "2020-09-24T00:00:00.000000000",
          "2020-09-25T00:00:00.000000000",
          "2020-09-28T00:00:00.000000000",
          "2020-09-29T00:00:00.000000000",
          "2020-09-30T00:00:00.000000000",
          "2020-10-01T00:00:00.000000000",
          "2020-10-02T00:00:00.000000000",
          "2020-10-05T00:00:00.000000000",
          "2020-10-06T00:00:00.000000000",
          "2020-10-07T00:00:00.000000000",
          "2020-10-08T00:00:00.000000000",
          "2020-10-09T00:00:00.000000000",
          "2020-10-12T00:00:00.000000000",
          "2020-10-13T00:00:00.000000000",
          "2020-10-14T00:00:00.000000000",
          "2020-10-15T00:00:00.000000000",
          "2020-10-16T00:00:00.000000000",
          "2020-10-19T00:00:00.000000000",
          "2020-11-16T00:00:00.000000000",
          "2020-11-17T00:00:00.000000000",
          "2020-11-18T00:00:00.000000000",
          "2021-02-01T00:00:00.000000000",
          "2021-02-02T00:00:00.000000000",
          "2021-02-03T00:00:00.000000000",
          "2021-02-04T00:00:00.000000000",
          "2021-02-05T00:00:00.000000000",
          "2021-02-08T00:00:00.000000000",
          "2021-02-09T00:00:00.000000000",
          "2021-02-10T00:00:00.000000000",
          "2021-02-11T00:00:00.000000000",
          "2021-02-12T00:00:00.000000000",
          "2021-02-25T00:00:00.000000000",
          "2021-02-26T00:00:00.000000000",
          "2021-03-01T00:00:00.000000000",
          "2021-03-02T00:00:00.000000000",
          "2021-03-03T00:00:00.000000000",
          "2021-03-04T00:00:00.000000000",
          "2021-03-05T00:00:00.000000000",
          "2021-03-08T00:00:00.000000000",
          "2021-03-09T00:00:00.000000000",
          "2021-03-10T00:00:00.000000000",
          "2021-03-11T00:00:00.000000000",
          "2021-03-12T00:00:00.000000000",
          "2021-03-15T00:00:00.000000000",
          "2021-03-16T00:00:00.000000000",
          "2021-03-17T00:00:00.000000000",
          "2021-03-18T00:00:00.000000000",
          "2021-03-19T00:00:00.000000000",
          "2021-04-01T00:00:00.000000000",
          "2021-04-05T00:00:00.000000000",
          "2021-04-06T00:00:00.000000000",
          "2021-04-07T00:00:00.000000000",
          "2021-04-08T00:00:00.000000000",
          "2021-04-09T00:00:00.000000000",
          "2021-04-12T00:00:00.000000000",
          "2021-04-13T00:00:00.000000000",
          "2021-04-14T00:00:00.000000000",
          "2021-04-15T00:00:00.000000000",
          "2021-05-13T00:00:00.000000000",
          "2021-05-14T00:00:00.000000000",
          "2021-05-17T00:00:00.000000000",
          "2021-05-18T00:00:00.000000000",
          "2021-05-19T00:00:00.000000000",
          "2021-05-20T00:00:00.000000000",
          "2021-07-23T00:00:00.000000000",
          "2021-07-26T00:00:00.000000000",
          "2021-07-27T00:00:00.000000000",
          "2021-07-28T00:00:00.000000000",
          "2021-07-29T00:00:00.000000000",
          "2021-07-30T00:00:00.000000000",
          "2021-09-20T00:00:00.000000000",
          "2021-09-21T00:00:00.000000000",
          "2021-09-22T00:00:00.000000000",
          "2021-09-23T00:00:00.000000000",
          "2021-09-24T00:00:00.000000000",
          "2021-09-27T00:00:00.000000000",
          "2021-09-28T00:00:00.000000000",
          "2021-09-29T00:00:00.000000000",
          "2021-09-30T00:00:00.000000000",
          "2021-10-01T00:00:00.000000000",
          "2021-10-04T00:00:00.000000000",
          "2021-10-05T00:00:00.000000000",
          "2021-10-06T00:00:00.000000000",
          "2021-10-07T00:00:00.000000000",
          "2021-10-08T00:00:00.000000000",
          "2021-10-15T00:00:00.000000000",
          "2021-10-18T00:00:00.000000000",
          "2021-10-19T00:00:00.000000000",
          "2021-10-20T00:00:00.000000000",
          "2021-10-21T00:00:00.000000000",
          "2021-10-22T00:00:00.000000000",
          "2021-10-25T00:00:00.000000000",
          "2021-10-26T00:00:00.000000000",
          "2021-10-27T00:00:00.000000000",
          "2021-10-28T00:00:00.000000000",
          "2021-11-04T00:00:00.000000000",
          "2021-11-05T00:00:00.000000000",
          "2021-11-08T00:00:00.000000000",
          "2021-11-09T00:00:00.000000000",
          "2021-11-10T00:00:00.000000000",
          "2021-12-06T00:00:00.000000000",
          "2021-12-07T00:00:00.000000000",
          "2021-12-08T00:00:00.000000000",
          "2021-12-09T00:00:00.000000000",
          "2021-12-10T00:00:00.000000000",
          "2021-12-13T00:00:00.000000000",
          "2021-12-14T00:00:00.000000000",
          "2021-12-15T00:00:00.000000000",
          "2021-12-16T00:00:00.000000000",
          "2021-12-17T00:00:00.000000000",
          "2021-12-20T00:00:00.000000000",
          "2021-12-21T00:00:00.000000000",
          "2021-12-22T00:00:00.000000000",
          "2021-12-23T00:00:00.000000000",
          "2021-12-27T00:00:00.000000000",
          "2021-12-28T00:00:00.000000000",
          "2021-12-29T00:00:00.000000000",
          "2021-12-30T00:00:00.000000000",
          "2021-12-31T00:00:00.000000000",
          "2022-01-03T00:00:00.000000000",
          "2022-01-04T00:00:00.000000000",
          "2022-01-05T00:00:00.000000000",
          "2022-01-06T00:00:00.000000000",
          "2022-01-07T00:00:00.000000000",
          "2022-01-10T00:00:00.000000000",
          "2022-01-11T00:00:00.000000000",
          "2022-01-12T00:00:00.000000000",
          "2022-01-13T00:00:00.000000000",
          "2022-01-14T00:00:00.000000000",
          "2022-01-18T00:00:00.000000000",
          "2022-01-19T00:00:00.000000000",
          "2022-02-08T00:00:00.000000000",
          "2022-02-09T00:00:00.000000000",
          "2022-02-10T00:00:00.000000000",
          "2022-02-11T00:00:00.000000000",
          "2022-02-14T00:00:00.000000000",
          "2022-02-15T00:00:00.000000000",
          "2022-02-16T00:00:00.000000000",
          "2022-02-17T00:00:00.000000000",
          "2022-02-18T00:00:00.000000000",
          "2022-02-25T00:00:00.000000000",
          "2022-02-28T00:00:00.000000000",
          "2022-03-01T00:00:00.000000000",
          "2022-03-02T00:00:00.000000000",
          "2022-03-03T00:00:00.000000000",
          "2022-03-04T00:00:00.000000000",
          "2022-03-07T00:00:00.000000000",
          "2022-03-08T00:00:00.000000000",
          "2022-03-09T00:00:00.000000000",
          "2022-03-10T00:00:00.000000000",
          "2022-03-11T00:00:00.000000000",
          "2022-03-14T00:00:00.000000000",
          "2022-03-15T00:00:00.000000000",
          "2022-03-16T00:00:00.000000000",
          "2022-03-17T00:00:00.000000000",
          "2022-03-29T00:00:00.000000000",
          "2022-03-30T00:00:00.000000000",
          "2022-03-31T00:00:00.000000000",
          "2022-04-01T00:00:00.000000000",
          "2022-04-04T00:00:00.000000000",
          "2022-04-05T00:00:00.000000000",
          "2022-04-06T00:00:00.000000000",
          "2022-04-07T00:00:00.000000000",
          "2022-04-08T00:00:00.000000000",
          "2022-04-11T00:00:00.000000000",
          "2022-04-12T00:00:00.000000000",
          "2022-04-13T00:00:00.000000000",
          "2022-04-14T00:00:00.000000000",
          "2022-04-18T00:00:00.000000000",
          "2022-04-19T00:00:00.000000000",
          "2022-04-20T00:00:00.000000000",
          "2022-04-21T00:00:00.000000000",
          "2022-04-22T00:00:00.000000000",
          "2022-04-25T00:00:00.000000000",
          "2022-05-19T00:00:00.000000000",
          "2022-05-20T00:00:00.000000000",
          "2022-05-23T00:00:00.000000000",
          "2022-05-24T00:00:00.000000000",
          "2022-05-25T00:00:00.000000000",
          "2022-05-26T00:00:00.000000000",
          "2022-06-06T00:00:00.000000000",
          "2022-06-07T00:00:00.000000000",
          "2022-06-08T00:00:00.000000000",
          "2022-06-09T00:00:00.000000000",
          "2022-06-27T00:00:00.000000000",
          "2022-06-28T00:00:00.000000000",
          "2022-06-29T00:00:00.000000000",
          "2022-06-30T00:00:00.000000000",
          "2022-07-01T00:00:00.000000000",
          "2022-07-05T00:00:00.000000000",
          "2022-07-06T00:00:00.000000000",
          "2022-07-07T00:00:00.000000000",
          "2022-07-08T00:00:00.000000000",
          "2022-07-11T00:00:00.000000000",
          "2022-07-12T00:00:00.000000000",
          "2022-07-13T00:00:00.000000000",
          "2022-07-14T00:00:00.000000000",
          "2022-07-15T00:00:00.000000000",
          "2022-07-18T00:00:00.000000000",
          "2022-07-19T00:00:00.000000000",
          "2022-07-20T00:00:00.000000000",
          "2022-07-21T00:00:00.000000000",
          "2022-07-22T00:00:00.000000000",
          "2022-07-25T00:00:00.000000000",
          "2022-07-26T00:00:00.000000000",
          "2022-07-27T00:00:00.000000000",
          "2022-07-28T00:00:00.000000000",
          "2022-07-29T00:00:00.000000000",
          "2022-08-01T00:00:00.000000000",
          "2022-08-02T00:00:00.000000000",
          "2022-08-03T00:00:00.000000000",
          "2022-08-04T00:00:00.000000000",
          "2022-08-05T00:00:00.000000000",
          "2022-08-08T00:00:00.000000000",
          "2022-08-09T00:00:00.000000000",
          "2022-08-10T00:00:00.000000000",
          "2022-08-11T00:00:00.000000000",
          "2022-08-12T00:00:00.000000000",
          "2022-08-15T00:00:00.000000000",
          "2022-08-16T00:00:00.000000000",
          "2022-08-17T00:00:00.000000000",
          "2022-08-18T00:00:00.000000000",
          "2022-08-19T00:00:00.000000000",
          "2022-08-22T00:00:00.000000000",
          "2022-08-23T00:00:00.000000000",
          "2022-08-24T00:00:00.000000000",
          "2022-08-25T00:00:00.000000000",
          "2022-09-08T00:00:00.000000000",
          "2022-09-09T00:00:00.000000000",
          "2022-09-12T00:00:00.000000000",
          "2022-09-13T00:00:00.000000000",
          "2022-09-14T00:00:00.000000000",
          "2022-09-15T00:00:00.000000000",
          "2022-09-16T00:00:00.000000000",
          "2022-09-19T00:00:00.000000000",
          "2022-09-20T00:00:00.000000000",
          "2022-10-05T00:00:00.000000000",
          "2022-10-06T00:00:00.000000000",
          "2022-10-07T00:00:00.000000000",
          "2022-10-10T00:00:00.000000000",
          "2022-10-11T00:00:00.000000000",
          "2022-10-12T00:00:00.000000000",
          "2022-10-13T00:00:00.000000000",
          "2022-10-14T00:00:00.000000000",
          "2022-10-17T00:00:00.000000000",
          "2022-10-18T00:00:00.000000000",
          "2022-10-19T00:00:00.000000000",
          "2022-10-20T00:00:00.000000000",
          "2022-10-21T00:00:00.000000000",
          "2022-10-24T00:00:00.000000000",
          "2022-10-25T00:00:00.000000000",
          "2022-10-26T00:00:00.000000000",
          "2022-10-27T00:00:00.000000000",
          "2022-10-28T00:00:00.000000000",
          "2022-10-31T00:00:00.000000000",
          "2022-11-01T00:00:00.000000000",
          "2022-11-02T00:00:00.000000000",
          "2022-11-03T00:00:00.000000000",
          "2022-11-04T00:00:00.000000000",
          "2022-11-07T00:00:00.000000000",
          "2022-11-08T00:00:00.000000000",
          "2022-11-09T00:00:00.000000000",
          "2022-11-18T00:00:00.000000000",
          "2022-11-21T00:00:00.000000000",
          "2022-11-22T00:00:00.000000000",
          "2022-11-30T00:00:00.000000000",
          "2022-12-01T00:00:00.000000000",
          "2022-12-02T00:00:00.000000000",
          "2022-12-05T00:00:00.000000000",
          "2022-12-06T00:00:00.000000000",
          "2022-12-07T00:00:00.000000000",
          "2022-12-08T00:00:00.000000000",
          "2022-12-09T00:00:00.000000000",
          "2022-12-12T00:00:00.000000000",
          "2022-12-13T00:00:00.000000000",
          "2022-12-14T00:00:00.000000000",
          "2022-12-15T00:00:00.000000000",
          "2022-12-16T00:00:00.000000000",
          "2022-12-19T00:00:00.000000000",
          "2022-12-20T00:00:00.000000000",
          "2022-12-21T00:00:00.000000000",
          "2022-12-22T00:00:00.000000000",
          "2022-12-23T00:00:00.000000000",
          "2022-12-27T00:00:00.000000000",
          "2022-12-28T00:00:00.000000000",
          "2022-12-29T00:00:00.000000000",
          "2023-01-10T00:00:00.000000000",
          "2023-01-11T00:00:00.000000000",
          "2023-01-12T00:00:00.000000000",
          "2023-01-13T00:00:00.000000000",
          "2023-01-17T00:00:00.000000000",
          "2023-01-18T00:00:00.000000000",
          "2023-01-19T00:00:00.000000000",
          "2023-01-20T00:00:00.000000000",
          "2023-01-23T00:00:00.000000000",
          "2023-01-24T00:00:00.000000000",
          "2023-01-25T00:00:00.000000000",
          "2023-01-26T00:00:00.000000000",
          "2023-01-27T00:00:00.000000000",
          "2023-01-30T00:00:00.000000000",
          "2023-01-31T00:00:00.000000000",
          "2023-02-01T00:00:00.000000000",
          "2023-02-02T00:00:00.000000000",
          "2023-02-03T00:00:00.000000000",
          "2023-02-06T00:00:00.000000000",
          "2023-02-07T00:00:00.000000000",
          "2023-02-08T00:00:00.000000000",
          "2023-02-09T00:00:00.000000000",
          "2023-02-10T00:00:00.000000000",
          "2023-02-21T00:00:00.000000000",
          "2023-02-22T00:00:00.000000000",
          "2023-02-23T00:00:00.000000000",
          "2023-02-24T00:00:00.000000000",
          "2023-02-27T00:00:00.000000000",
          "2023-02-28T00:00:00.000000000",
          "2023-03-01T00:00:00.000000000",
          "2023-03-02T00:00:00.000000000",
          "2023-03-03T00:00:00.000000000",
          "2023-03-06T00:00:00.000000000",
          "2023-03-07T00:00:00.000000000",
          "2023-03-08T00:00:00.000000000",
          "2023-03-09T00:00:00.000000000",
          "2023-03-10T00:00:00.000000000",
          "2023-03-13T00:00:00.000000000",
          "2023-03-14T00:00:00.000000000",
          "2023-03-15T00:00:00.000000000",
          "2023-03-16T00:00:00.000000000",
          "2023-03-17T00:00:00.000000000",
          "2023-03-20T00:00:00.000000000",
          "2023-03-21T00:00:00.000000000",
          "2023-03-22T00:00:00.000000000",
          "2023-03-23T00:00:00.000000000",
          "2023-03-24T00:00:00.000000000",
          "2023-03-27T00:00:00.000000000",
          "2023-03-28T00:00:00.000000000",
          "2023-03-29T00:00:00.000000000",
          "2023-03-30T00:00:00.000000000",
          "2023-03-31T00:00:00.000000000",
          "2023-04-03T00:00:00.000000000",
          "2023-04-04T00:00:00.000000000",
          "2023-04-05T00:00:00.000000000",
          "2023-04-06T00:00:00.000000000",
          "2023-04-10T00:00:00.000000000",
          "2023-04-11T00:00:00.000000000",
          "2023-05-02T00:00:00.000000000",
          "2023-05-03T00:00:00.000000000",
          "2023-05-04T00:00:00.000000000",
          "2023-05-05T00:00:00.000000000",
          "2023-05-08T00:00:00.000000000",
          "2023-05-09T00:00:00.000000000",
          "2023-06-02T00:00:00.000000000",
          "2023-06-05T00:00:00.000000000",
          "2023-06-06T00:00:00.000000000",
          "2023-06-07T00:00:00.000000000",
          "2023-06-08T00:00:00.000000000",
          "2023-06-09T00:00:00.000000000",
          "2023-06-12T00:00:00.000000000",
          "2023-06-13T00:00:00.000000000",
          "2023-06-14T00:00:00.000000000",
          "2023-06-15T00:00:00.000000000",
          "2023-06-16T00:00:00.000000000",
          "2023-06-20T00:00:00.000000000",
          "2023-06-21T00:00:00.000000000",
          "2023-06-22T00:00:00.000000000",
          "2023-07-03T00:00:00.000000000",
          "2023-07-05T00:00:00.000000000",
          "2023-07-06T00:00:00.000000000",
          "2023-07-07T00:00:00.000000000",
          "2023-07-10T00:00:00.000000000",
          "2023-07-17T00:00:00.000000000",
          "2023-07-18T00:00:00.000000000",
          "2023-07-19T00:00:00.000000000",
          "2023-07-20T00:00:00.000000000",
          "2023-07-21T00:00:00.000000000",
          "2023-07-24T00:00:00.000000000",
          "2023-08-04T00:00:00.000000000",
          "2023-08-07T00:00:00.000000000",
          "2023-08-08T00:00:00.000000000",
          "2023-08-09T00:00:00.000000000",
          "2023-08-10T00:00:00.000000000",
          "2023-08-11T00:00:00.000000000",
          "2023-08-17T00:00:00.000000000",
          "2023-08-18T00:00:00.000000000",
          "2023-08-21T00:00:00.000000000",
          "2023-08-22T00:00:00.000000000",
          "2023-08-23T00:00:00.000000000",
          "2023-08-24T00:00:00.000000000",
          "2023-08-25T00:00:00.000000000",
          "2023-08-28T00:00:00.000000000",
          "2023-08-29T00:00:00.000000000",
          "2023-08-30T00:00:00.000000000",
          "2023-08-31T00:00:00.000000000",
          "2023-09-01T00:00:00.000000000",
          "2023-09-05T00:00:00.000000000",
          "2023-09-06T00:00:00.000000000",
          "2023-09-07T00:00:00.000000000",
          "2023-09-21T00:00:00.000000000",
          "2023-09-22T00:00:00.000000000",
          "2023-09-25T00:00:00.000000000",
          "2023-09-26T00:00:00.000000000",
          "2023-09-27T00:00:00.000000000",
          "2023-09-28T00:00:00.000000000",
          "2023-09-29T00:00:00.000000000",
          "2023-10-02T00:00:00.000000000",
          "2023-10-03T00:00:00.000000000",
          "2023-10-11T00:00:00.000000000",
          "2023-10-12T00:00:00.000000000",
          "2023-10-13T00:00:00.000000000",
          "2023-10-16T00:00:00.000000000",
          "2023-10-17T00:00:00.000000000",
          "2023-10-18T00:00:00.000000000",
          "2023-10-19T00:00:00.000000000",
          "2023-10-20T00:00:00.000000000",
          "2023-10-23T00:00:00.000000000",
          "2023-10-24T00:00:00.000000000",
          "2023-10-25T00:00:00.000000000",
          "2023-10-26T00:00:00.000000000",
          "2023-10-27T00:00:00.000000000",
          "2023-10-30T00:00:00.000000000",
          "2023-10-31T00:00:00.000000000",
          "2023-11-01T00:00:00.000000000",
          "2023-11-02T00:00:00.000000000",
          "2023-11-03T00:00:00.000000000",
          "2023-11-13T00:00:00.000000000",
          "2023-11-14T00:00:00.000000000",
          "2023-11-15T00:00:00.000000000",
          "2023-11-16T00:00:00.000000000",
          "2023-11-17T00:00:00.000000000",
          "2023-11-20T00:00:00.000000000",
          "2023-11-21T00:00:00.000000000",
          "2023-11-22T00:00:00.000000000",
          "2023-11-24T00:00:00.000000000",
          "2023-11-27T00:00:00.000000000",
          "2023-12-13T00:00:00.000000000",
          "2023-12-14T00:00:00.000000000",
          "2023-12-15T00:00:00.000000000",
          "2023-12-18T00:00:00.000000000",
          "2023-12-19T00:00:00.000000000",
          "2023-12-20T00:00:00.000000000",
          "2023-12-21T00:00:00.000000000",
          "2023-12-22T00:00:00.000000000",
          "2023-12-26T00:00:00.000000000",
          "2024-01-23T00:00:00.000000000",
          "2024-01-24T00:00:00.000000000",
          "2024-01-25T00:00:00.000000000",
          "2024-01-26T00:00:00.000000000",
          "2024-01-29T00:00:00.000000000",
          "2024-01-30T00:00:00.000000000",
          "2024-01-31T00:00:00.000000000",
          "2024-02-01T00:00:00.000000000",
          "2024-02-02T00:00:00.000000000",
          "2024-02-05T00:00:00.000000000",
          "2024-02-06T00:00:00.000000000",
          "2024-02-07T00:00:00.000000000",
          "2024-02-08T00:00:00.000000000",
          "2024-02-09T00:00:00.000000000",
          "2024-02-12T00:00:00.000000000",
          "2024-02-13T00:00:00.000000000",
          "2024-02-14T00:00:00.000000000",
          "2024-02-22T00:00:00.000000000",
          "2024-02-23T00:00:00.000000000",
          "2024-02-26T00:00:00.000000000",
          "2024-02-27T00:00:00.000000000",
          "2024-02-28T00:00:00.000000000",
          "2024-02-29T00:00:00.000000000",
          "2024-03-01T00:00:00.000000000",
          "2024-03-04T00:00:00.000000000",
          "2024-03-05T00:00:00.000000000",
          "2024-03-21T00:00:00.000000000",
          "2024-03-22T00:00:00.000000000",
          "2024-03-25T00:00:00.000000000",
          "2024-03-26T00:00:00.000000000",
          "2024-03-27T00:00:00.000000000",
          "2024-03-28T00:00:00.000000000",
          "2024-04-12T00:00:00.000000000",
          "2024-04-15T00:00:00.000000000",
          "2024-04-16T00:00:00.000000000",
          "2024-04-17T00:00:00.000000000",
          "2024-04-18T00:00:00.000000000",
          "2024-04-19T00:00:00.000000000",
          "2024-04-22T00:00:00.000000000",
          "2024-04-23T00:00:00.000000000",
          "2024-04-24T00:00:00.000000000",
          "2024-04-25T00:00:00.000000000",
          "2024-04-26T00:00:00.000000000",
          "2024-04-29T00:00:00.000000000",
          "2024-04-30T00:00:00.000000000",
          "2024-05-01T00:00:00.000000000",
          "2024-05-02T00:00:00.000000000",
          "2024-05-03T00:00:00.000000000",
          "2024-05-06T00:00:00.000000000",
          "2024-05-07T00:00:00.000000000",
          "2024-05-08T00:00:00.000000000",
          "2024-05-09T00:00:00.000000000",
          "2024-05-10T00:00:00.000000000",
          "2024-05-13T00:00:00.000000000",
          "2024-05-14T00:00:00.000000000",
          "2024-05-15T00:00:00.000000000",
          "2024-05-16T00:00:00.000000000",
          "2024-05-17T00:00:00.000000000",
          "2024-05-20T00:00:00.000000000",
          "2024-05-21T00:00:00.000000000",
          "2024-05-22T00:00:00.000000000",
          "2024-05-23T00:00:00.000000000",
          "2024-06-07T00:00:00.000000000",
          "2024-06-10T00:00:00.000000000",
          "2024-06-11T00:00:00.000000000",
          "2024-06-12T00:00:00.000000000",
          "2024-06-13T00:00:00.000000000",
          "2024-06-14T00:00:00.000000000",
          "2024-06-17T00:00:00.000000000",
          "2024-06-18T00:00:00.000000000",
          "2024-06-20T00:00:00.000000000",
          "2024-06-21T00:00:00.000000000",
          "2024-06-24T00:00:00.000000000",
          "2024-07-08T00:00:00.000000000",
          "2024-07-09T00:00:00.000000000",
          "2024-07-10T00:00:00.000000000",
          "2024-07-11T00:00:00.000000000",
          "2024-07-12T00:00:00.000000000",
          "2024-07-15T00:00:00.000000000",
          "2024-07-16T00:00:00.000000000",
          "2024-07-17T00:00:00.000000000",
          "2024-07-18T00:00:00.000000000",
          "2024-07-19T00:00:00.000000000",
          "2024-07-22T00:00:00.000000000",
          "2024-07-23T00:00:00.000000000",
          "2024-07-29T00:00:00.000000000",
          "2024-07-30T00:00:00.000000000",
          "2024-07-31T00:00:00.000000000",
          "2024-08-01T00:00:00.000000000",
          "2024-08-26T00:00:00.000000000",
          "2024-08-27T00:00:00.000000000",
          "2024-09-03T00:00:00.000000000",
          "2024-09-04T00:00:00.000000000",
          "2024-09-05T00:00:00.000000000",
          "2024-09-06T00:00:00.000000000",
          "2024-09-09T00:00:00.000000000",
          "2024-09-10T00:00:00.000000000",
          "2024-09-11T00:00:00.000000000",
          "2024-09-12T00:00:00.000000000",
          "2024-09-13T00:00:00.000000000",
          "2024-09-16T00:00:00.000000000",
          "2024-09-17T00:00:00.000000000",
          "2024-09-18T00:00:00.000000000",
          "2024-09-19T00:00:00.000000000",
          "2024-09-20T00:00:00.000000000",
          "2024-09-23T00:00:00.000000000",
          "2024-09-24T00:00:00.000000000",
          "2024-09-25T00:00:00.000000000",
          "2024-09-26T00:00:00.000000000",
          "2024-09-27T00:00:00.000000000",
          "2024-09-30T00:00:00.000000000",
          "2024-10-01T00:00:00.000000000",
          "2024-10-11T00:00:00.000000000",
          "2024-10-14T00:00:00.000000000",
          "2024-10-15T00:00:00.000000000",
          "2024-10-16T00:00:00.000000000",
          "2024-10-17T00:00:00.000000000",
          "2024-10-18T00:00:00.000000000",
          "2024-10-21T00:00:00.000000000",
          "2024-10-31T00:00:00.000000000",
          "2024-11-01T00:00:00.000000000",
          "2024-11-04T00:00:00.000000000",
          "2024-11-05T00:00:00.000000000",
          "2024-11-06T00:00:00.000000000",
          "2024-11-18T00:00:00.000000000",
          "2024-11-19T00:00:00.000000000",
          "2024-11-20T00:00:00.000000000",
          "2024-11-21T00:00:00.000000000",
          "2024-11-22T00:00:00.000000000",
          "2024-11-25T00:00:00.000000000",
          "2024-11-26T00:00:00.000000000",
          "2024-11-27T00:00:00.000000000",
          "2024-11-29T00:00:00.000000000",
          "2024-12-02T00:00:00.000000000",
          "2024-12-03T00:00:00.000000000",
          "2024-12-04T00:00:00.000000000",
          "2024-12-05T00:00:00.000000000",
          "2024-12-06T00:00:00.000000000",
          "2024-12-23T00:00:00.000000000",
          "2024-12-24T00:00:00.000000000",
          "2024-12-26T00:00:00.000000000",
          "2024-12-27T00:00:00.000000000",
          "2024-12-30T00:00:00.000000000",
          "2024-12-31T00:00:00.000000000"
         ],
         "xaxis": "x2",
         "y": {
          "bdata": "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",
          "dtype": "f8"
         },
         "yaxis": "y2"
        }
       ],
       "layout": {
        "annotations": [
         {
          "font": {
           "size": 16
          },
          "showarrow": false,
          "text": "SPY Close Price by Regime",
          "x": 0.5,
          "xanchor": "center",
          "xref": "paper",
          "y": 1,
          "yanchor": "bottom",
          "yref": "paper"
         },
         {
          "font": {
           "size": 16
          },
          "showarrow": false,
          "text": "VIX by Regime",
          "x": 0.5,
          "xanchor": "center",
          "xref": "paper",
          "y": 0.45,
          "yanchor": "bottom",
          "yref": "paper"
         }
        ],
        "height": 800,
        "hovermode": "closest",
        "legend": {
         "title": {
          "text": "Regime"
         }
        },
        "template": {
         "data": {
          "bar": [
           {
            "error_x": {
             "color": "#2a3f5f"
            },
            "error_y": {
             "color": "#2a3f5f"
            },
            "marker": {
             "line": {
              "color": "white",
              "width": 0.5
             },
             "pattern": {
              "fillmode": "overlay",
              "size": 10,
              "solidity": 0.2
             }
            },
            "type": "bar"
           }
          ],
          "barpolar": [
           {
            "marker": {
             "line": {
              "color": "white",
              "width": 0.5
             },
             "pattern": {
              "fillmode": "overlay",
              "size": 10,
              "solidity": 0.2
             }
            },
            "type": "barpolar"
           }
          ],
          "carpet": [
           {
            "aaxis": {
             "endlinecolor": "#2a3f5f",
             "gridcolor": "#C8D4E3",
             "linecolor": "#C8D4E3",
             "minorgridcolor": "#C8D4E3",
             "startlinecolor": "#2a3f5f"
            },
            "baxis": {
             "endlinecolor": "#2a3f5f",
             "gridcolor": "#C8D4E3",
             "linecolor": "#C8D4E3",
             "minorgridcolor": "#C8D4E3",
             "startlinecolor": "#2a3f5f"
            },
            "type": "carpet"
           }
          ],
          "choropleth": [
           {
            "colorbar": {
             "outlinewidth": 0,
             "ticks": ""
            },
            "type": "choropleth"
           }
          ],
          "contour": [
           {
            "colorbar": {
             "outlinewidth": 0,
             "ticks": ""
            },
            "colorscale": [
             [
              0,
              "#0d0887"
             ],
             [
              0.1111111111111111,
              "#46039f"
             ],
             [
              0.2222222222222222,
              "#7201a8"
             ],
             [
              0.3333333333333333,
              "#9c179e"
             ],
             [
              0.4444444444444444,
              "#bd3786"
             ],
             [
              0.5555555555555556,
              "#d8576b"
             ],
             [
              0.6666666666666666,
              "#ed7953"
             ],
             [
              0.7777777777777778,
              "#fb9f3a"
             ],
             [
              0.8888888888888888,
              "#fdca26"
             ],
             [
              1,
              "#f0f921"
             ]
            ],
            "type": "contour"
           }
          ],
          "contourcarpet": [
           {
            "colorbar": {
             "outlinewidth": 0,
             "ticks": ""
            },
            "type": "contourcarpet"
           }
          ],
          "heatmap": [
           {
            "colorbar": {
             "outlinewidth": 0,
             "ticks": ""
            },
            "colorscale": [
             [
              0,
              "#0d0887"
             ],
             [
              0.1111111111111111,
              "#46039f"
             ],
             [
              0.2222222222222222,
              "#7201a8"
             ],
             [
              0.3333333333333333,
              "#9c179e"
             ],
             [
              0.4444444444444444,
              "#bd3786"
             ],
             [
              0.5555555555555556,
              "#d8576b"
             ],
             [
              0.6666666666666666,
              "#ed7953"
             ],
             [
              0.7777777777777778,
              "#fb9f3a"
             ],
             [
              0.8888888888888888,
              "#fdca26"
             ],
             [
              1,
              "#f0f921"
             ]
            ],
            "type": "heatmap"
           }
          ],
          "histogram": [
           {
            "marker": {
             "pattern": {
              "fillmode": "overlay",
              "size": 10,
              "solidity": 0.2
             }
            },
            "type": "histogram"
           }
          ],
          "histogram2d": [
           {
            "colorbar": {
             "outlinewidth": 0,
             "ticks": ""
            },
            "colorscale": [
             [
              0,
              "#0d0887"
             ],
             [
              0.1111111111111111,
              "#46039f"
             ],
             [
              0.2222222222222222,
              "#7201a8"
             ],
             [
              0.3333333333333333,
              "#9c179e"
             ],
             [
              0.4444444444444444,
              "#bd3786"
             ],
             [
              0.5555555555555556,
              "#d8576b"
             ],
             [
              0.6666666666666666,
              "#ed7953"
             ],
             [
              0.7777777777777778,
              "#fb9f3a"
             ],
             [
              0.8888888888888888,
              "#fdca26"
             ],
             [
              1,
              "#f0f921"
             ]
            ],
            "type": "histogram2d"
           }
          ],
          "histogram2dcontour": [
           {
            "colorbar": {
             "outlinewidth": 0,
             "ticks": ""
            },
            "colorscale": [
             [
              0,
              "#0d0887"
             ],
             [
              0.1111111111111111,
              "#46039f"
             ],
             [
              0.2222222222222222,
              "#7201a8"
             ],
             [
              0.3333333333333333,
              "#9c179e"
             ],
             [
              0.4444444444444444,
              "#bd3786"
             ],
             [
              0.5555555555555556,
              "#d8576b"
             ],
             [
              0.6666666666666666,
              "#ed7953"
             ],
             [
              0.7777777777777778,
              "#fb9f3a"
             ],
             [
              0.8888888888888888,
              "#fdca26"
             ],
             [
              1,
              "#f0f921"
             ]
            ],
            "type": "histogram2dcontour"
           }
          ],
          "mesh3d": [
           {
            "colorbar": {
             "outlinewidth": 0,
             "ticks": ""
            },
            "type": "mesh3d"
           }
          ],
          "parcoords": [
           {
            "line": {
             "colorbar": {
              "outlinewidth": 0,
              "ticks": ""
             }
            },
            "type": "parcoords"
           }
          ],
          "pie": [
           {
            "automargin": true,
            "type": "pie"
           }
          ],
          "scatter": [
           {
            "fillpattern": {
             "fillmode": "overlay",
             "size": 10,
             "solidity": 0.2
            },
            "type": "scatter"
           }
          ],
          "scatter3d": [
           {
            "line": {
             "colorbar": {
              "outlinewidth": 0,
              "ticks": ""
             }
            },
            "marker": {
             "colorbar": {
              "outlinewidth": 0,
              "ticks": ""
             }
            },
            "type": "scatter3d"
           }
          ],
          "scattercarpet": [
           {
            "marker": {
             "colorbar": {
              "outlinewidth": 0,
              "ticks": ""
             }
            },
            "type": "scattercarpet"
           }
          ],
          "scattergeo": [
           {
            "marker": {
             "colorbar": {
              "outlinewidth": 0,
              "ticks": ""
             }
            },
            "type": "scattergeo"
           }
          ],
          "scattergl": [
           {
            "marker": {
             "colorbar": {
              "outlinewidth": 0,
              "ticks": ""
             }
            },
            "type": "scattergl"
           }
          ],
          "scattermap": [
           {
            "marker": {
             "colorbar": {
              "outlinewidth": 0,
              "ticks": ""
             }
            },
            "type": "scattermap"
           }
          ],
          "scattermapbox": [
           {
            "marker": {
             "colorbar": {
              "outlinewidth": 0,
              "ticks": ""
             }
            },
            "type": "scattermapbox"
           }
          ],
          "scatterpolar": [
           {
            "marker": {
             "colorbar": {
              "outlinewidth": 0,
              "ticks": ""
             }
            },
            "type": "scatterpolar"
           }
          ],
          "scatterpolargl": [
           {
            "marker": {
             "colorbar": {
              "outlinewidth": 0,
              "ticks": ""
             }
            },
            "type": "scatterpolargl"
           }
          ],
          "scatterternary": [
           {
            "marker": {
             "colorbar": {
              "outlinewidth": 0,
              "ticks": ""
             }
            },
            "type": "scatterternary"
           }
          ],
          "surface": [
           {
            "colorbar": {
             "outlinewidth": 0,
             "ticks": ""
            },
            "colorscale": [
             [
              0,
              "#0d0887"
             ],
             [
              0.1111111111111111,
              "#46039f"
             ],
             [
              0.2222222222222222,
              "#7201a8"
             ],
             [
              0.3333333333333333,
              "#9c179e"
             ],
             [
              0.4444444444444444,
              "#bd3786"
             ],
             [
              0.5555555555555556,
              "#d8576b"
             ],
             [
              0.6666666666666666,
              "#ed7953"
             ],
             [
              0.7777777777777778,
              "#fb9f3a"
             ],
             [
              0.8888888888888888,
              "#fdca26"
             ],
             [
              1,
              "#f0f921"
             ]
            ],
            "type": "surface"
           }
          ],
          "table": [
           {
            "cells": {
             "fill": {
              "color": "#EBF0F8"
             },
             "line": {
              "color": "white"
             }
            },
            "header": {
             "fill": {
              "color": "#C8D4E3"
             },
             "line": {
              "color": "white"
             }
            },
            "type": "table"
           }
          ]
         },
         "layout": {
          "annotationdefaults": {
           "arrowcolor": "#2a3f5f",
           "arrowhead": 0,
           "arrowwidth": 1
          },
          "autotypenumbers": "strict",
          "coloraxis": {
           "colorbar": {
            "outlinewidth": 0,
            "ticks": ""
           }
          },
          "colorscale": {
           "diverging": [
            [
             0,
             "#8e0152"
            ],
            [
             0.1,
             "#c51b7d"
            ],
            [
             0.2,
             "#de77ae"
            ],
            [
             0.3,
             "#f1b6da"
            ],
            [
             0.4,
             "#fde0ef"
            ],
            [
             0.5,
             "#f7f7f7"
            ],
            [
             0.6,
             "#e6f5d0"
            ],
            [
             0.7,
             "#b8e186"
            ],
            [
             0.8,
             "#7fbc41"
            ],
            [
             0.9,
             "#4d9221"
            ],
            [
             1,
             "#276419"
            ]
           ],
           "sequential": [
            [
             0,
             "#0d0887"
            ],
            [
             0.1111111111111111,
             "#46039f"
            ],
            [
             0.2222222222222222,
             "#7201a8"
            ],
            [
             0.3333333333333333,
             "#9c179e"
            ],
            [
             0.4444444444444444,
             "#bd3786"
            ],
            [
             0.5555555555555556,
             "#d8576b"
            ],
            [
             0.6666666666666666,
             "#ed7953"
            ],
            [
             0.7777777777777778,
             "#fb9f3a"
            ],
            [
             0.8888888888888888,
             "#fdca26"
            ],
            [
             1,
             "#f0f921"
            ]
           ],
           "sequentialminus": [
            [
             0,
             "#0d0887"
            ],
            [
             0.1111111111111111,
             "#46039f"
            ],
            [
             0.2222222222222222,
             "#7201a8"
            ],
            [
             0.3333333333333333,
             "#9c179e"
            ],
            [
             0.4444444444444444,
             "#bd3786"
            ],
            [
             0.5555555555555556,
             "#d8576b"
            ],
            [
             0.6666666666666666,
             "#ed7953"
            ],
            [
             0.7777777777777778,
             "#fb9f3a"
            ],
            [
             0.8888888888888888,
             "#fdca26"
            ],
            [
             1,
             "#f0f921"
            ]
           ]
          },
          "colorway": [
           "#636efa",
           "#EF553B",
           "#00cc96",
           "#ab63fa",
           "#FFA15A",
           "#19d3f3",
           "#FF6692",
           "#B6E880",
           "#FF97FF",
           "#FECB52"
          ],
          "font": {
           "color": "#2a3f5f"
          },
          "geo": {
           "bgcolor": "white",
           "lakecolor": "white",
           "landcolor": "white",
           "showlakes": true,
           "showland": true,
           "subunitcolor": "#C8D4E3"
          },
          "hoverlabel": {
           "align": "left"
          },
          "hovermode": "closest",
          "mapbox": {
           "style": "light"
          },
          "paper_bgcolor": "white",
          "plot_bgcolor": "white",
          "polar": {
           "angularaxis": {
            "gridcolor": "#EBF0F8",
            "linecolor": "#EBF0F8",
            "ticks": ""
           },
           "bgcolor": "white",
           "radialaxis": {
            "gridcolor": "#EBF0F8",
            "linecolor": "#EBF0F8",
            "ticks": ""
           }
          },
          "scene": {
           "xaxis": {
            "backgroundcolor": "white",
            "gridcolor": "#DFE8F3",
            "gridwidth": 2,
            "linecolor": "#EBF0F8",
            "showbackground": true,
            "ticks": "",
            "zerolinecolor": "#EBF0F8"
           },
           "yaxis": {
            "backgroundcolor": "white",
            "gridcolor": "#DFE8F3",
            "gridwidth": 2,
            "linecolor": "#EBF0F8",
            "showbackground": true,
            "ticks": "",
            "zerolinecolor": "#EBF0F8"
           },
           "zaxis": {
            "backgroundcolor": "white",
            "gridcolor": "#DFE8F3",
            "gridwidth": 2,
            "linecolor": "#EBF0F8",
            "showbackground": true,
            "ticks": "",
            "zerolinecolor": "#EBF0F8"
           }
          },
          "shapedefaults": {
           "line": {
            "color": "#2a3f5f"
           }
          },
          "ternary": {
           "aaxis": {
            "gridcolor": "#DFE8F3",
            "linecolor": "#A2B1C6",
            "ticks": ""
           },
           "baxis": {
            "gridcolor": "#DFE8F3",
            "linecolor": "#A2B1C6",
            "ticks": ""
           },
           "bgcolor": "white",
           "caxis": {
            "gridcolor": "#DFE8F3",
            "linecolor": "#A2B1C6",
            "ticks": ""
           }
          },
          "title": {
           "x": 0.05
          },
          "xaxis": {
           "automargin": true,
           "gridcolor": "#EBF0F8",
           "linecolor": "#EBF0F8",
           "ticks": "",
           "title": {
            "standoff": 15
           },
           "zerolinecolor": "#EBF0F8",
           "zerolinewidth": 2
          },
          "yaxis": {
           "automargin": true,
           "gridcolor": "#EBF0F8",
           "linecolor": "#EBF0F8",
           "ticks": "",
           "title": {
            "standoff": 15
           },
           "zerolinecolor": "#EBF0F8",
           "zerolinewidth": 2
          }
         }
        },
        "title": {
         "text": "Market Regimes with SPY and VIX (Training Period: 2018-01-01 to 2024-12-31)"
        },
        "xaxis": {
         "anchor": "y",
         "domain": [
          0,
          1
         ],
         "matches": "x2",
         "showticklabels": false
        },
        "xaxis2": {
         "anchor": "y2",
         "domain": [
          0,
          1
         ],
         "title": {
          "text": "Date"
         }
        },
        "yaxis": {
         "anchor": "x",
         "domain": [
          0.55,
          1
         ],
         "title": {
          "text": "SPY Price"
         }
        },
        "yaxis2": {
         "anchor": "x2",
         "domain": [
          0,
          0.45
         ],
         "title": {
          "text": "VIX"
         }
        }
       }
      }
     },
     "metadata": {},
     "output_type": "display_data"
    },
    {
     "data": {
      "application/vnd.plotly.v1+json": {
       "config": {
        "plotlyServerURL": "https://plot.ly"
       },
       "data": [
        {
         "colorscale": [
          [
           0,
           "rgb(247,251,255)"
          ],
          [
           0.125,
           "rgb(222,235,247)"
          ],
          [
           0.25,
           "rgb(198,219,239)"
          ],
          [
           0.375,
           "rgb(158,202,225)"
          ],
          [
           0.5,
           "rgb(107,174,214)"
          ],
          [
           0.625,
           "rgb(66,146,198)"
          ],
          [
           0.75,
           "rgb(33,113,181)"
          ],
          [
           0.875,
           "rgb(8,81,156)"
          ],
          [
           1,
           "rgb(8,48,107)"
          ]
         ],
         "text": {
          "bdata": "FK5H4XoU7j97FK5H4XqEP3sUrkfheqQ/AAAAAAAAAACF61G4HoXrP+xRuB6F68E/uB6F61G4rj97FK5H4XqUP3E9CtejcO0/",
          "dtype": "f8",
          "shape": "3, 3"
         },
         "textfont": {
          "size": 14
         },
         "texttemplate": "%{text:.2f}",
         "type": "heatmap",
         "x": [
          "Regime 0",
          "Regime 1",
          "Regime 2"
         ],
         "y": [
          "Regime 0",
          "Regime 1",
          "Regime 2"
         ],
         "z": {
          "bdata": "re8hHRkl7j9QLi6JaDmLP615lQsU4KY/6TCTthjjAzWUksgRYpjrP7C13bh3nsE/vHEgyS9nrj83q2hI7i+XP4uzKpENYO0/",
          "dtype": "f8",
          "shape": "3, 3"
         }
        }
       ],
       "layout": {
        "height": 600,
        "template": {
         "data": {
          "bar": [
           {
            "error_x": {
             "color": "#2a3f5f"
            },
            "error_y": {
             "color": "#2a3f5f"
            },
            "marker": {
             "line": {
              "color": "white",
              "width": 0.5
             },
             "pattern": {
              "fillmode": "overlay",
              "size": 10,
              "solidity": 0.2
             }
            },
            "type": "bar"
           }
          ],
          "barpolar": [
           {
            "marker": {
             "line": {
              "color": "white",
              "width": 0.5
             },
             "pattern": {
              "fillmode": "overlay",
              "size": 10,
              "solidity": 0.2
             }
            },
            "type": "barpolar"
           }
          ],
          "carpet": [
           {
            "aaxis": {
             "endlinecolor": "#2a3f5f",
             "gridcolor": "#C8D4E3",
             "linecolor": "#C8D4E3",
             "minorgridcolor": "#C8D4E3",
             "startlinecolor": "#2a3f5f"
            },
            "baxis": {
             "endlinecolor": "#2a3f5f",
             "gridcolor": "#C8D4E3",
             "linecolor": "#C8D4E3",
             "minorgridcolor": "#C8D4E3",
             "startlinecolor": "#2a3f5f"
            },
            "type": "carpet"
           }
          ],
          "choropleth": [
           {
            "colorbar": {
             "outlinewidth": 0,
             "ticks": ""
            },
            "type": "choropleth"
           }
          ],
          "contour": [
           {
            "colorbar": {
             "outlinewidth": 0,
             "ticks": ""
            },
            "colorscale": [
             [
              0,
              "#0d0887"
             ],
             [
              0.1111111111111111,
              "#46039f"
             ],
             [
              0.2222222222222222,
              "#7201a8"
             ],
             [
              0.3333333333333333,
              "#9c179e"
             ],
             [
              0.4444444444444444,
              "#bd3786"
             ],
             [
              0.5555555555555556,
              "#d8576b"
             ],
             [
              0.6666666666666666,
              "#ed7953"
             ],
             [
              0.7777777777777778,
              "#fb9f3a"
             ],
             [
              0.8888888888888888,
              "#fdca26"
             ],
             [
              1,
              "#f0f921"
             ]
            ],
            "type": "contour"
           }
          ],
          "contourcarpet": [
           {
            "colorbar": {
             "outlinewidth": 0,
             "ticks": ""
            },
            "type": "contourcarpet"
           }
          ],
          "heatmap": [
           {
            "colorbar": {
             "outlinewidth": 0,
             "ticks": ""
            },
            "colorscale": [
             [
              0,
              "#0d0887"
             ],
             [
              0.1111111111111111,
              "#46039f"
             ],
             [
              0.2222222222222222,
              "#7201a8"
             ],
             [
              0.3333333333333333,
              "#9c179e"
             ],
             [
              0.4444444444444444,
              "#bd3786"
             ],
             [
              0.5555555555555556,
              "#d8576b"
             ],
             [
              0.6666666666666666,
              "#ed7953"
             ],
             [
              0.7777777777777778,
              "#fb9f3a"
             ],
             [
              0.8888888888888888,
              "#fdca26"
             ],
             [
              1,
              "#f0f921"
             ]
            ],
            "type": "heatmap"
           }
          ],
          "histogram": [
           {
            "marker": {
             "pattern": {
              "fillmode": "overlay",
              "size": 10,
              "solidity": 0.2
             }
            },
            "type": "histogram"
           }
          ],
          "histogram2d": [
           {
            "colorbar": {
             "outlinewidth": 0,
             "ticks": ""
            },
            "colorscale": [
             [
              0,
              "#0d0887"
             ],
             [
              0.1111111111111111,
              "#46039f"
             ],
             [
              0.2222222222222222,
              "#7201a8"
             ],
             [
              0.3333333333333333,
              "#9c179e"
             ],
             [
              0.4444444444444444,
              "#bd3786"
             ],
             [
              0.5555555555555556,
              "#d8576b"
             ],
             [
              0.6666666666666666,
              "#ed7953"
             ],
             [
              0.7777777777777778,
              "#fb9f3a"
             ],
             [
              0.8888888888888888,
              "#fdca26"
             ],
             [
              1,
              "#f0f921"
             ]
            ],
            "type": "histogram2d"
           }
          ],
          "histogram2dcontour": [
           {
            "colorbar": {
             "outlinewidth": 0,
             "ticks": ""
            },
            "colorscale": [
             [
              0,
              "#0d0887"
             ],
             [
              0.1111111111111111,
              "#46039f"
             ],
             [
              0.2222222222222222,
              "#7201a8"
             ],
             [
              0.3333333333333333,
              "#9c179e"
             ],
             [
              0.4444444444444444,
              "#bd3786"
             ],
             [
              0.5555555555555556,
              "#d8576b"
             ],
             [
              0.6666666666666666,
              "#ed7953"
             ],
             [
              0.7777777777777778,
              "#fb9f3a"
             ],
             [
              0.8888888888888888,
              "#fdca26"
             ],
             [
              1,
              "#f0f921"
             ]
            ],
            "type": "histogram2dcontour"
           }
          ],
          "mesh3d": [
           {
            "colorbar": {
             "outlinewidth": 0,
             "ticks": ""
            },
            "type": "mesh3d"
           }
          ],
          "parcoords": [
           {
            "line": {
             "colorbar": {
              "outlinewidth": 0,
              "ticks": ""
             }
            },
            "type": "parcoords"
           }
          ],
          "pie": [
           {
            "automargin": true,
            "type": "pie"
           }
          ],
          "scatter": [
           {
            "fillpattern": {
             "fillmode": "overlay",
             "size": 10,
             "solidity": 0.2
            },
            "type": "scatter"
           }
          ],
          "scatter3d": [
           {
            "line": {
             "colorbar": {
              "outlinewidth": 0,
              "ticks": ""
             }
            },
            "marker": {
             "colorbar": {
              "outlinewidth": 0,
              "ticks": ""
             }
            },
            "type": "scatter3d"
           }
          ],
          "scattercarpet": [
           {
            "marker": {
             "colorbar": {
              "outlinewidth": 0,
              "ticks": ""
             }
            },
            "type": "scattercarpet"
           }
          ],
          "scattergeo": [
           {
            "marker": {
             "colorbar": {
              "outlinewidth": 0,
              "ticks": ""
             }
            },
            "type": "scattergeo"
           }
          ],
          "scattergl": [
           {
            "marker": {
             "colorbar": {
              "outlinewidth": 0,
              "ticks": ""
             }
            },
            "type": "scattergl"
           }
          ],
          "scattermap": [
           {
            "marker": {
             "colorbar": {
              "outlinewidth": 0,
              "ticks": ""
             }
            },
            "type": "scattermap"
           }
          ],
          "scattermapbox": [
           {
            "marker": {
             "colorbar": {
              "outlinewidth": 0,
              "ticks": ""
             }
            },
            "type": "scattermapbox"
           }
          ],
          "scatterpolar": [
           {
            "marker": {
             "colorbar": {
              "outlinewidth": 0,
              "ticks": ""
             }
            },
            "type": "scatterpolar"
           }
          ],
          "scatterpolargl": [
           {
            "marker": {
             "colorbar": {
              "outlinewidth": 0,
              "ticks": ""
             }
            },
            "type": "scatterpolargl"
           }
          ],
          "scatterternary": [
           {
            "marker": {
             "colorbar": {
              "outlinewidth": 0,
              "ticks": ""
             }
            },
            "type": "scatterternary"
           }
          ],
          "surface": [
           {
            "colorbar": {
             "outlinewidth": 0,
             "ticks": ""
            },
            "colorscale": [
             [
              0,
              "#0d0887"
             ],
             [
              0.1111111111111111,
              "#46039f"
             ],
             [
              0.2222222222222222,
              "#7201a8"
             ],
             [
              0.3333333333333333,
              "#9c179e"
             ],
             [
              0.4444444444444444,
              "#bd3786"
             ],
             [
              0.5555555555555556,
              "#d8576b"
             ],
             [
              0.6666666666666666,
              "#ed7953"
             ],
             [
              0.7777777777777778,
              "#fb9f3a"
             ],
             [
              0.8888888888888888,
              "#fdca26"
             ],
             [
              1,
              "#f0f921"
             ]
            ],
            "type": "surface"
           }
          ],
          "table": [
           {
            "cells": {
             "fill": {
              "color": "#EBF0F8"
             },
             "line": {
              "color": "white"
             }
            },
            "header": {
             "fill": {
              "color": "#C8D4E3"
             },
             "line": {
              "color": "white"
             }
            },
            "type": "table"
           }
          ]
         },
         "layout": {
          "annotationdefaults": {
           "arrowcolor": "#2a3f5f",
           "arrowhead": 0,
           "arrowwidth": 1
          },
          "autotypenumbers": "strict",
          "coloraxis": {
           "colorbar": {
            "outlinewidth": 0,
            "ticks": ""
           }
          },
          "colorscale": {
           "diverging": [
            [
             0,
             "#8e0152"
            ],
            [
             0.1,
             "#c51b7d"
            ],
            [
             0.2,
             "#de77ae"
            ],
            [
             0.3,
             "#f1b6da"
            ],
            [
             0.4,
             "#fde0ef"
            ],
            [
             0.5,
             "#f7f7f7"
            ],
            [
             0.6,
             "#e6f5d0"
            ],
            [
             0.7,
             "#b8e186"
            ],
            [
             0.8,
             "#7fbc41"
            ],
            [
             0.9,
             "#4d9221"
            ],
            [
             1,
             "#276419"
            ]
           ],
           "sequential": [
            [
             0,
             "#0d0887"
            ],
            [
             0.1111111111111111,
             "#46039f"
            ],
            [
             0.2222222222222222,
             "#7201a8"
            ],
            [
             0.3333333333333333,
             "#9c179e"
            ],
            [
             0.4444444444444444,
             "#bd3786"
            ],
            [
             0.5555555555555556,
             "#d8576b"
            ],
            [
             0.6666666666666666,
             "#ed7953"
            ],
            [
             0.7777777777777778,
             "#fb9f3a"
            ],
            [
             0.8888888888888888,
             "#fdca26"
            ],
            [
             1,
             "#f0f921"
            ]
           ],
           "sequentialminus": [
            [
             0,
             "#0d0887"
            ],
            [
             0.1111111111111111,
             "#46039f"
            ],
            [
             0.2222222222222222,
             "#7201a8"
            ],
            [
             0.3333333333333333,
             "#9c179e"
            ],
            [
             0.4444444444444444,
             "#bd3786"
            ],
            [
             0.5555555555555556,
             "#d8576b"
            ],
            [
             0.6666666666666666,
             "#ed7953"
            ],
            [
             0.7777777777777778,
             "#fb9f3a"
            ],
            [
             0.8888888888888888,
             "#fdca26"
            ],
            [
             1,
             "#f0f921"
            ]
           ]
          },
          "colorway": [
           "#636efa",
           "#EF553B",
           "#00cc96",
           "#ab63fa",
           "#FFA15A",
           "#19d3f3",
           "#FF6692",
           "#B6E880",
           "#FF97FF",
           "#FECB52"
          ],
          "font": {
           "color": "#2a3f5f"
          },
          "geo": {
           "bgcolor": "white",
           "lakecolor": "white",
           "landcolor": "white",
           "showlakes": true,
           "showland": true,
           "subunitcolor": "#C8D4E3"
          },
          "hoverlabel": {
           "align": "left"
          },
          "hovermode": "closest",
          "mapbox": {
           "style": "light"
          },
          "paper_bgcolor": "white",
          "plot_bgcolor": "white",
          "polar": {
           "angularaxis": {
            "gridcolor": "#EBF0F8",
            "linecolor": "#EBF0F8",
            "ticks": ""
           },
           "bgcolor": "white",
           "radialaxis": {
            "gridcolor": "#EBF0F8",
            "linecolor": "#EBF0F8",
            "ticks": ""
           }
          },
          "scene": {
           "xaxis": {
            "backgroundcolor": "white",
            "gridcolor": "#DFE8F3",
            "gridwidth": 2,
            "linecolor": "#EBF0F8",
            "showbackground": true,
            "ticks": "",
            "zerolinecolor": "#EBF0F8"
           },
           "yaxis": {
            "backgroundcolor": "white",
            "gridcolor": "#DFE8F3",
            "gridwidth": 2,
            "linecolor": "#EBF0F8",
            "showbackground": true,
            "ticks": "",
            "zerolinecolor": "#EBF0F8"
           },
           "zaxis": {
            "backgroundcolor": "white",
            "gridcolor": "#DFE8F3",
            "gridwidth": 2,
            "linecolor": "#EBF0F8",
            "showbackground": true,
            "ticks": "",
            "zerolinecolor": "#EBF0F8"
           }
          },
          "shapedefaults": {
           "line": {
            "color": "#2a3f5f"
           }
          },
          "ternary": {
           "aaxis": {
            "gridcolor": "#DFE8F3",
            "linecolor": "#A2B1C6",
            "ticks": ""
           },
           "baxis": {
            "gridcolor": "#DFE8F3",
            "linecolor": "#A2B1C6",
            "ticks": ""
           },
           "bgcolor": "white",
           "caxis": {
            "gridcolor": "#DFE8F3",
            "linecolor": "#A2B1C6",
            "ticks": ""
           }
          },
          "title": {
           "x": 0.05
          },
          "xaxis": {
           "automargin": true,
           "gridcolor": "#EBF0F8",
           "linecolor": "#EBF0F8",
           "ticks": "",
           "title": {
            "standoff": 15
           },
           "zerolinecolor": "#EBF0F8",
           "zerolinewidth": 2
          },
          "yaxis": {
           "automargin": true,
           "gridcolor": "#EBF0F8",
           "linecolor": "#EBF0F8",
           "ticks": "",
           "title": {
            "standoff": 15
           },
           "zerolinecolor": "#EBF0F8",
           "zerolinewidth": 2
          }
         }
        },
        "title": {
         "text": "Regime Transition Probabilities"
        },
        "width": 700,
        "xaxis": {
         "title": {
          "text": "To Regime"
         }
        },
        "yaxis": {
         "title": {
          "text": "From Regime"
         }
        }
       }
      }
     },
     "metadata": {},
     "output_type": "display_data"
    },
    {
     "name": "stdout",
     "output_type": "stream",
     "text": [
      "\n",
      "Stationary Distribution:\n",
      "Regime 0: 44.77%\n",
      "Regime 1: 11.51%\n",
      "Regime 2: 43.71%\n"
     ]
    },
    {
     "data": {
      "application/vnd.plotly.v1+json": {
       "config": {
        "plotlyServerURL": "https://plot.ly"
       },
       "data": [
        {
         "domain": {
          "x": [
           0,
           1
          ],
          "y": [
           0,
           1
          ]
         },
         "hovertemplate": "label=%{label}<br>value=%{value}<extra></extra>",
         "labels": [
          "Regime 0",
          "Regime 1",
          "Regime 2"
         ],
         "legendgroup": "",
         "name": "",
         "showlegend": true,
         "textinfo": "percent+label",
         "textposition": "inside",
         "type": "pie",
         "values": {
          "bdata": "QXS5phVjRkBhh+uUfwcnQOepC3QK20VA",
          "dtype": "f8"
         }
        }
       ],
       "layout": {
        "legend": {
         "tracegroupgap": 0
        },
        "piecolorway": [
         "rgb(102,194,165)",
         "rgb(252,141,98)",
         "rgb(141,160,203)"
        ],
        "template": {
         "data": {
          "bar": [
           {
            "error_x": {
             "color": "#2a3f5f"
            },
            "error_y": {
             "color": "#2a3f5f"
            },
            "marker": {
             "line": {
              "color": "#E5ECF6",
              "width": 0.5
             },
             "pattern": {
              "fillmode": "overlay",
              "size": 10,
              "solidity": 0.2
             }
            },
            "type": "bar"
           }
          ],
          "barpolar": [
           {
            "marker": {
             "line": {
              "color": "#E5ECF6",
              "width": 0.5
             },
             "pattern": {
              "fillmode": "overlay",
              "size": 10,
              "solidity": 0.2
             }
            },
            "type": "barpolar"
           }
          ],
          "carpet": [
           {
            "aaxis": {
             "endlinecolor": "#2a3f5f",
             "gridcolor": "white",
             "linecolor": "white",
             "minorgridcolor": "white",
             "startlinecolor": "#2a3f5f"
            },
            "baxis": {
             "endlinecolor": "#2a3f5f",
             "gridcolor": "white",
             "linecolor": "white",
             "minorgridcolor": "white",
             "startlinecolor": "#2a3f5f"
            },
            "type": "carpet"
           }
          ],
          "choropleth": [
           {
            "colorbar": {
             "outlinewidth": 0,
             "ticks": ""
            },
            "type": "choropleth"
           }
          ],
          "contour": [
           {
            "colorbar": {
             "outlinewidth": 0,
             "ticks": ""
            },
            "colorscale": [
             [
              0,
              "#0d0887"
             ],
             [
              0.1111111111111111,
              "#46039f"
             ],
             [
              0.2222222222222222,
              "#7201a8"
             ],
             [
              0.3333333333333333,
              "#9c179e"
             ],
             [
              0.4444444444444444,
              "#bd3786"
             ],
             [
              0.5555555555555556,
              "#d8576b"
             ],
             [
              0.6666666666666666,
              "#ed7953"
             ],
             [
              0.7777777777777778,
              "#fb9f3a"
             ],
             [
              0.8888888888888888,
              "#fdca26"
             ],
             [
              1,
              "#f0f921"
             ]
            ],
            "type": "contour"
           }
          ],
          "contourcarpet": [
           {
            "colorbar": {
             "outlinewidth": 0,
             "ticks": ""
            },
            "type": "contourcarpet"
           }
          ],
          "heatmap": [
           {
            "colorbar": {
             "outlinewidth": 0,
             "ticks": ""
            },
            "colorscale": [
             [
              0,
              "#0d0887"
             ],
             [
              0.1111111111111111,
              "#46039f"
             ],
             [
              0.2222222222222222,
              "#7201a8"
             ],
             [
              0.3333333333333333,
              "#9c179e"
             ],
             [
              0.4444444444444444,
              "#bd3786"
             ],
             [
              0.5555555555555556,
              "#d8576b"
             ],
             [
              0.6666666666666666,
              "#ed7953"
             ],
             [
              0.7777777777777778,
              "#fb9f3a"
             ],
             [
              0.8888888888888888,
              "#fdca26"
             ],
             [
              1,
              "#f0f921"
             ]
            ],
            "type": "heatmap"
           }
          ],
          "histogram": [
           {
            "marker": {
             "pattern": {
              "fillmode": "overlay",
              "size": 10,
              "solidity": 0.2
             }
            },
            "type": "histogram"
           }
          ],
          "histogram2d": [
           {
            "colorbar": {
             "outlinewidth": 0,
             "ticks": ""
            },
            "colorscale": [
             [
              0,
              "#0d0887"
             ],
             [
              0.1111111111111111,
              "#46039f"
             ],
             [
              0.2222222222222222,
              "#7201a8"
             ],
             [
              0.3333333333333333,
              "#9c179e"
             ],
             [
              0.4444444444444444,
              "#bd3786"
             ],
             [
              0.5555555555555556,
              "#d8576b"
             ],
             [
              0.6666666666666666,
              "#ed7953"
             ],
             [
              0.7777777777777778,
              "#fb9f3a"
             ],
             [
              0.8888888888888888,
              "#fdca26"
             ],
             [
              1,
              "#f0f921"
             ]
            ],
            "type": "histogram2d"
           }
          ],
          "histogram2dcontour": [
           {
            "colorbar": {
             "outlinewidth": 0,
             "ticks": ""
            },
            "colorscale": [
             [
              0,
              "#0d0887"
             ],
             [
              0.1111111111111111,
              "#46039f"
             ],
             [
              0.2222222222222222,
              "#7201a8"
             ],
             [
              0.3333333333333333,
              "#9c179e"
             ],
             [
              0.4444444444444444,
              "#bd3786"
             ],
             [
              0.5555555555555556,
              "#d8576b"
             ],
             [
              0.6666666666666666,
              "#ed7953"
             ],
             [
              0.7777777777777778,
              "#fb9f3a"
             ],
             [
              0.8888888888888888,
              "#fdca26"
             ],
             [
              1,
              "#f0f921"
             ]
            ],
            "type": "histogram2dcontour"
           }
          ],
          "mesh3d": [
           {
            "colorbar": {
             "outlinewidth": 0,
             "ticks": ""
            },
            "type": "mesh3d"
           }
          ],
          "parcoords": [
           {
            "line": {
             "colorbar": {
              "outlinewidth": 0,
              "ticks": ""
             }
            },
            "type": "parcoords"
           }
          ],
          "pie": [
           {
            "automargin": true,
            "type": "pie"
           }
          ],
          "scatter": [
           {
            "fillpattern": {
             "fillmode": "overlay",
             "size": 10,
             "solidity": 0.2
            },
            "type": "scatter"
           }
          ],
          "scatter3d": [
           {
            "line": {
             "colorbar": {
              "outlinewidth": 0,
              "ticks": ""
             }
            },
            "marker": {
             "colorbar": {
              "outlinewidth": 0,
              "ticks": ""
             }
            },
            "type": "scatter3d"
           }
          ],
          "scattercarpet": [
           {
            "marker": {
             "colorbar": {
              "outlinewidth": 0,
              "ticks": ""
             }
            },
            "type": "scattercarpet"
           }
          ],
          "scattergeo": [
           {
            "marker": {
             "colorbar": {
              "outlinewidth": 0,
              "ticks": ""
             }
            },
            "type": "scattergeo"
           }
          ],
          "scattergl": [
           {
            "marker": {
             "colorbar": {
              "outlinewidth": 0,
              "ticks": ""
             }
            },
            "type": "scattergl"
           }
          ],
          "scattermap": [
           {
            "marker": {
             "colorbar": {
              "outlinewidth": 0,
              "ticks": ""
             }
            },
            "type": "scattermap"
           }
          ],
          "scattermapbox": [
           {
            "marker": {
             "colorbar": {
              "outlinewidth": 0,
              "ticks": ""
             }
            },
            "type": "scattermapbox"
           }
          ],
          "scatterpolar": [
           {
            "marker": {
             "colorbar": {
              "outlinewidth": 0,
              "ticks": ""
             }
            },
            "type": "scatterpolar"
           }
          ],
          "scatterpolargl": [
           {
            "marker": {
             "colorbar": {
              "outlinewidth": 0,
              "ticks": ""
             }
            },
            "type": "scatterpolargl"
           }
          ],
          "scatterternary": [
           {
            "marker": {
             "colorbar": {
              "outlinewidth": 0,
              "ticks": ""
             }
            },
            "type": "scatterternary"
           }
          ],
          "surface": [
           {
            "colorbar": {
             "outlinewidth": 0,
             "ticks": ""
            },
            "colorscale": [
             [
              0,
              "#0d0887"
             ],
             [
              0.1111111111111111,
              "#46039f"
             ],
             [
              0.2222222222222222,
              "#7201a8"
             ],
             [
              0.3333333333333333,
              "#9c179e"
             ],
             [
              0.4444444444444444,
              "#bd3786"
             ],
             [
              0.5555555555555556,
              "#d8576b"
             ],
             [
              0.6666666666666666,
              "#ed7953"
             ],
             [
              0.7777777777777778,
              "#fb9f3a"
             ],
             [
              0.8888888888888888,
              "#fdca26"
             ],
             [
              1,
              "#f0f921"
             ]
            ],
            "type": "surface"
           }
          ],
          "table": [
           {
            "cells": {
             "fill": {
              "color": "#EBF0F8"
             },
             "line": {
              "color": "white"
             }
            },
            "header": {
             "fill": {
              "color": "#C8D4E3"
             },
             "line": {
              "color": "white"
             }
            },
            "type": "table"
           }
          ]
         },
         "layout": {
          "annotationdefaults": {
           "arrowcolor": "#2a3f5f",
           "arrowhead": 0,
           "arrowwidth": 1
          },
          "autotypenumbers": "strict",
          "coloraxis": {
           "colorbar": {
            "outlinewidth": 0,
            "ticks": ""
           }
          },
          "colorscale": {
           "diverging": [
            [
             0,
             "#8e0152"
            ],
            [
             0.1,
             "#c51b7d"
            ],
            [
             0.2,
             "#de77ae"
            ],
            [
             0.3,
             "#f1b6da"
            ],
            [
             0.4,
             "#fde0ef"
            ],
            [
             0.5,
             "#f7f7f7"
            ],
            [
             0.6,
             "#e6f5d0"
            ],
            [
             0.7,
             "#b8e186"
            ],
            [
             0.8,
             "#7fbc41"
            ],
            [
             0.9,
             "#4d9221"
            ],
            [
             1,
             "#276419"
            ]
           ],
           "sequential": [
            [
             0,
             "#0d0887"
            ],
            [
             0.1111111111111111,
             "#46039f"
            ],
            [
             0.2222222222222222,
             "#7201a8"
            ],
            [
             0.3333333333333333,
             "#9c179e"
            ],
            [
             0.4444444444444444,
             "#bd3786"
            ],
            [
             0.5555555555555556,
             "#d8576b"
            ],
            [
             0.6666666666666666,
             "#ed7953"
            ],
            [
             0.7777777777777778,
             "#fb9f3a"
            ],
            [
             0.8888888888888888,
             "#fdca26"
            ],
            [
             1,
             "#f0f921"
            ]
           ],
           "sequentialminus": [
            [
             0,
             "#0d0887"
            ],
            [
             0.1111111111111111,
             "#46039f"
            ],
            [
             0.2222222222222222,
             "#7201a8"
            ],
            [
             0.3333333333333333,
             "#9c179e"
            ],
            [
             0.4444444444444444,
             "#bd3786"
            ],
            [
             0.5555555555555556,
             "#d8576b"
            ],
            [
             0.6666666666666666,
             "#ed7953"
            ],
            [
             0.7777777777777778,
             "#fb9f3a"
            ],
            [
             0.8888888888888888,
             "#fdca26"
            ],
            [
             1,
             "#f0f921"
            ]
           ]
          },
          "colorway": [
           "#636efa",
           "#EF553B",
           "#00cc96",
           "#ab63fa",
           "#FFA15A",
           "#19d3f3",
           "#FF6692",
           "#B6E880",
           "#FF97FF",
           "#FECB52"
          ],
          "font": {
           "color": "#2a3f5f"
          },
          "geo": {
           "bgcolor": "white",
           "lakecolor": "white",
           "landcolor": "#E5ECF6",
           "showlakes": true,
           "showland": true,
           "subunitcolor": "white"
          },
          "hoverlabel": {
           "align": "left"
          },
          "hovermode": "closest",
          "mapbox": {
           "style": "light"
          },
          "paper_bgcolor": "white",
          "plot_bgcolor": "#E5ECF6",
          "polar": {
           "angularaxis": {
            "gridcolor": "white",
            "linecolor": "white",
            "ticks": ""
           },
           "bgcolor": "#E5ECF6",
           "radialaxis": {
            "gridcolor": "white",
            "linecolor": "white",
            "ticks": ""
           }
          },
          "scene": {
           "xaxis": {
            "backgroundcolor": "#E5ECF6",
            "gridcolor": "white",
            "gridwidth": 2,
            "linecolor": "white",
            "showbackground": true,
            "ticks": "",
            "zerolinecolor": "white"
           },
           "yaxis": {
            "backgroundcolor": "#E5ECF6",
            "gridcolor": "white",
            "gridwidth": 2,
            "linecolor": "white",
            "showbackground": true,
            "ticks": "",
            "zerolinecolor": "white"
           },
           "zaxis": {
            "backgroundcolor": "#E5ECF6",
            "gridcolor": "white",
            "gridwidth": 2,
            "linecolor": "white",
            "showbackground": true,
            "ticks": "",
            "zerolinecolor": "white"
           }
          },
          "shapedefaults": {
           "line": {
            "color": "#2a3f5f"
           }
          },
          "ternary": {
           "aaxis": {
            "gridcolor": "white",
            "linecolor": "white",
            "ticks": ""
           },
           "baxis": {
            "gridcolor": "white",
            "linecolor": "white",
            "ticks": ""
           },
           "bgcolor": "#E5ECF6",
           "caxis": {
            "gridcolor": "white",
            "linecolor": "white",
            "ticks": ""
           }
          },
          "title": {
           "x": 0.05
          },
          "xaxis": {
           "automargin": true,
           "gridcolor": "white",
           "linecolor": "white",
           "ticks": "",
           "title": {
            "standoff": 15
           },
           "zerolinecolor": "white",
           "zerolinewidth": 2
          },
          "yaxis": {
           "automargin": true,
           "gridcolor": "white",
           "linecolor": "white",
           "ticks": "",
           "title": {
            "standoff": 15
           },
           "zerolinecolor": "white",
           "zerolinewidth": 2
          }
         }
        },
        "title": {
         "text": "Stationary Distribution of Regimes"
        },
        "uniformtext": {
         "minsize": 12,
         "mode": "hide"
        }
       }
      }
     },
     "metadata": {},
     "output_type": "display_data"
    }
   ],
   "source": [
    "# Visualize the training data with regime classifications using Plotly\n",
    "training_with_predictions = training_data.copy()\n",
    "training_with_predictions['Regime'] = train_predictions\n",
    "\n",
    "# Create a categorical color map for regimes\n",
    "regime_colors = px.colors.qualitative.Set2[:hidden_states]\n",
    "\n",
    "# Create subplot figures for SPY and VIX\n",
    "fig = make_subplots(rows=2, cols=1, \n",
    "                   shared_xaxes=True,\n",
    "                   vertical_spacing=0.1,\n",
    "                   subplot_titles=('SPY Close Price by Regime', 'VIX by Regime'))\n",
    "\n",
    "# SPY price by regime\n",
    "for regime in range(hidden_states):\n",
    "    regime_data = training_with_predictions[training_with_predictions['Regime'] == regime]\n",
    "    fig.add_trace(\n",
    "        go.Scatter(\n",
    "            x=regime_data['Date'], \n",
    "            y=regime_data['Close'],\n",
    "            mode='markers',\n",
    "            marker=dict(color=regime_colors[regime], size=6),\n",
    "            name=f'Regime {regime}',\n",
    "            showlegend=True\n",
    "        ),\n",
    "        row=1, col=1\n",
    "    )\n",
    "\n",
    "# VIX by regime\n",
    "for regime in range(hidden_states):\n",
    "    regime_data = training_with_predictions[training_with_predictions['Regime'] == regime]\n",
    "    fig.add_trace(\n",
    "        go.Scatter(\n",
    "            x=regime_data['Date'], \n",
    "            y=regime_data['VIX'],\n",
    "            mode='markers',\n",
    "            marker=dict(color=regime_colors[regime], size=6),\n",
    "            name=f'Regime {regime}',\n",
    "            showlegend=False\n",
    "        ),\n",
    "        row=2, col=1\n",
    "    )\n",
    "\n",
    "fig.update_layout(\n",
    "    height=800,\n",
    "    title_text=f'Market Regimes with SPY and VIX (Training Period: {train_start_date} to {train_end_date})',\n",
    "    template='plotly_white',\n",
    "    legend_title='Regime',\n",
    "    hovermode='closest'\n",
    ")\n",
    "\n",
    "fig.update_xaxes(title_text=\"Date\", row=2, col=1)\n",
    "fig.update_yaxes(title_text=\"SPY Price\", row=1, col=1)\n",
    "fig.update_yaxes(title_text=\"VIX\", row=2, col=1)\n",
    "\n",
    "fig.show()\n",
    "\n",
    "# Visualize transition probabilities with Plotly\n",
    "transition_matrix = model.transmat_\n",
    "regime_labels = [f\"Regime {i}\" for i in range(hidden_states)]\n",
    "\n",
    "# Create the heatmap\n",
    "fig_heatmap = go.Figure(data=go.Heatmap(\n",
    "    z=transition_matrix,\n",
    "    x=regime_labels,\n",
    "    y=regime_labels,\n",
    "    colorscale='Blues',\n",
    "    text=np.round(transition_matrix, 2),\n",
    "    texttemplate=\"%{text:.2f}\",\n",
    "    textfont={\"size\": 14}\n",
    "))\n",
    "\n",
    "fig_heatmap.update_layout(\n",
    "    title='Regime Transition Probabilities',\n",
    "    xaxis_title='To Regime',\n",
    "    yaxis_title='From Regime',\n",
    "    width=700,\n",
    "    height=600,\n",
    "    template='plotly_white'\n",
    ")\n",
    "\n",
    "fig_heatmap.show()\n",
    "\n",
    "# Show stationary distribution\n",
    "stationary_dist = model.get_stationary_distribution()\n",
    "print(\"\\nStationary Distribution:\")\n",
    "for i in range(hidden_states):\n",
    "    print(f\"Regime {i}: {stationary_dist[i]*100:.2f}%\")\n",
    "\n",
    "# Create a pie chart for the stationary distribution\n",
    "fig_pie = px.pie(\n",
    "    values=stationary_dist * 100,\n",
    "    names=regime_labels,\n",
    "    title='Stationary Distribution of Regimes',\n",
    "    color_discrete_sequence=regime_colors\n",
    ")\n",
    "\n",
    "fig_pie.update_traces(textinfo='percent+label', textposition='inside')\n",
    "fig_pie.update_layout(uniformtext_minsize=12, uniformtext_mode='hide')\n",
    "fig_pie.show()"
   ]
  },
  {
   "cell_type": "code",
   "execution_count": 16,
   "metadata": {},
   "outputs": [],
   "source": [
    "# Function to predict regimes for a specific date range\n",
    "def predict_regimes(model, data, start_date, end_date):\n",
    "    \"\"\"\n",
    "    Predict market regimes for a specific date range using the trained HMM model\n",
    "    \n",
    "    Parameters:\n",
    "    -----------\n",
    "    model : hmm.GaussianHMM\n",
    "        The trained HMM model\n",
    "    data : DataFrame\n",
    "        The full dataset with calculated indicators\n",
    "    start_date : str\n",
    "        Start date for prediction period in 'YYYY-MM-DD' format\n",
    "    end_date : str\n",
    "        End date for prediction period in 'YYYY-MM-DD' format\n",
    "        \n",
    "    Returns:\n",
    "    --------\n",
    "    DataFrame with date, close price, VIX, and predicted regime\n",
    "    \"\"\"\n",
    "    # Filter data for prediction period\n",
    "    pred_data = data[(data['Date'] >= start_date) & (data['Date'] <= end_date)].copy()\n",
    "    \n",
    "    if len(pred_data) == 0:\n",
    "        print(f\"No data available for period {start_date} to {end_date}\")\n",
    "        if end_date > data['Date'].max().strftime('%Y-%m-%d'):\n",
    "            print(\"NOTE: Prediction period extends into the future\")\n",
    "            # Generate future dates for forecasting\n",
    "            last_date = data['Date'].max()\n",
    "            future_end = datetime.strptime(end_date, '%Y-%m-%d')\n",
    "            \n",
    "            # Get the most recent 30 days of data for calculating indicators\n",
    "            recent_data = data.tail(30).copy()\n",
    "            \n",
    "            # For future dates, we'll extend from the last value and assume zero returns\n",
    "            # This is a simplification - in reality you might want to use a forecasting model\n",
    "            current_date = last_date + timedelta(days=1)\n",
    "            while current_date <= future_end:\n",
    "                if current_date.weekday() < 5:  # Only include weekdays\n",
    "                    new_row = {\n",
    "                        'Date': current_date,\n",
    "                        'Close': recent_data['Close'].iloc[-1],  # Use the last known close price\n",
    "                        'High': recent_data['Close'].iloc[-1],\n",
    "                        'Low': recent_data['Close'].iloc[-1],\n",
    "                        'Open': recent_data['Close'].iloc[-1],\n",
    "                        'Volume': recent_data['Volume'].mean(),  # Use average volume\n",
    "                        'VIX': recent_data['VIX'].mean(),  # Use average VIX\n",
    "                        'Volatility': recent_data['Volatility'].mean(),  # Use average volatility\n",
    "                        'MA': recent_data['MA'].iloc[-1],  # Use the last MA\n",
    "                        'Return': 0,  # Assume zero returns for future dates\n",
    "                        'VIX_Ratio': 1.0  # Assume neutral VIX ratio\n",
    "                    }\n",
    "                    recent_data = pd.concat([recent_data, pd.DataFrame([new_row])], ignore_index=True)\n",
    "                current_date += timedelta(days=1)\n",
    "            \n",
    "            # Keep only the future dates we generated\n",
    "            future_data = recent_data[recent_data['Date'] > last_date].copy()\n",
    "            pred_data = future_data[(future_data['Date'] >= start_date) & (future_data['Date'] <= end_date)].copy()\n",
    "    \n",
    "    # Prepare observations for prediction\n",
    "    obs = np.column_stack([\n",
    "        pred_data['Volatility'].values, \n",
    "        pred_data['Return'].values,\n",
    "        pred_data['VIX_Ratio'].values\n",
    "    ])\n",
    "    \n",
    "    # Predict regimes\n",
    "    predictions = model.predict(obs)\n",
    "    \n",
    "    # Add predictions to dataframe\n",
    "    pred_data['Predicted_Regime'] = predictions\n",
    "    \n",
    "    print(f\"Predicted regimes for period {start_date} to {end_date}\")\n",
    "    print(f\"Data points: {len(pred_data)}\")\n",
    "    \n",
    "    # Calculate regime distribution\n",
    "    regime_counts = pd.Series(predictions).value_counts(normalize=True) * 100\n",
    "    print(\"\\nRegime Distribution:\")\n",
    "    for regime, percentage in regime_counts.items():\n",
    "        print(f\"Regime {regime}: {percentage:.2f}%\")\n",
    "    \n",
    "    return pred_data[['Date', 'Close', 'VIX', 'Volatility', 'Return', 'Predicted_Regime']]"
   ]
  },
  {
   "cell_type": "code",
   "execution_count": 17,
   "metadata": {},
   "outputs": [
    {
     "name": "stdout",
     "output_type": "stream",
     "text": [
      "Predicted regimes for period 2025-01-11 to 2025-04-11\n",
      "Data points: 62\n",
      "\n",
      "Regime Distribution:\n",
      "Regime 2: 43.55%\n",
      "Regime 1: 40.32%\n",
      "Regime 0: 16.13%\n"
     ]
    },
    {
     "data": {
      "application/vnd.plotly.v1+json": {
       "config": {
        "plotlyServerURL": "https://plot.ly"
       },
       "data": [
        {
         "marker": {
          "color": "rgb(102,194,165)",
          "size": 6
         },
         "mode": "markers",
         "name": "Regime 0",
         "showlegend": true,
         "type": "scatter",
         "x": [
          "2025-01-13T00:00:00.000000000",
          "2025-02-05T00:00:00.000000000",
          "2025-02-06T00:00:00.000000000",
          "2025-02-07T00:00:00.000000000",
          "2025-02-10T00:00:00.000000000",
          "2025-02-11T00:00:00.000000000",
          "2025-02-12T00:00:00.000000000",
          "2025-02-13T00:00:00.000000000",
          "2025-02-14T00:00:00.000000000",
          "2025-02-18T00:00:00.000000000"
         ],
         "xaxis": "x",
         "y": {
          "bdata": "AAAAoCsdgkAAAAAgQ9OCQAAAACAD5IJAAAAA4L63gkAAAACASdiCQAAAAOD024JAAAAAQGfMgkAAAADgNf+CQAAAAKD4/oJAAAAAgD8Ng0A=",
          "dtype": "f8"
         },
         "yaxis": "y"
        },
        {
         "marker": {
          "color": "rgb(252,141,98)",
          "size": 6
         },
         "mode": "markers",
         "name": "Regime 1",
         "showlegend": true,
         "type": "scatter",
         "x": [
          "2025-01-22T00:00:00.000000000",
          "2025-01-23T00:00:00.000000000",
          "2025-01-24T00:00:00.000000000",
          "2025-01-27T00:00:00.000000000",
          "2025-01-28T00:00:00.000000000",
          "2025-02-27T00:00:00.000000000",
          "2025-02-28T00:00:00.000000000",
          "2025-03-03T00:00:00.000000000",
          "2025-03-04T00:00:00.000000000",
          "2025-03-05T00:00:00.000000000",
          "2025-03-06T00:00:00.000000000",
          "2025-03-07T00:00:00.000000000",
          "2025-03-10T00:00:00.000000000",
          "2025-03-11T00:00:00.000000000",
          "2025-03-12T00:00:00.000000000",
          "2025-03-13T00:00:00.000000000",
          "2025-03-14T00:00:00.000000000",
          "2025-03-17T00:00:00.000000000",
          "2025-03-18T00:00:00.000000000",
          "2025-04-03T00:00:00.000000000",
          "2025-04-04T00:00:00.000000000",
          "2025-04-07T00:00:00.000000000",
          "2025-04-08T00:00:00.000000000",
          "2025-04-09T00:00:00.000000000",
          "2025-04-10T00:00:00.000000000"
         ],
         "xaxis": "x",
         "y": {
          "bdata": "AAAAIPjkgkAAAADAXv+CQAAAACAs8YJAAAAAQJSsgkAAAADgp9WCQAAAAMBcOoJAAAAAAC+DgkAAAABAJzCCQAAAAAAK+YFAAAAAgH0qgkAAAABg8NeBQAAAAKCK8YFAAAAAoDB3gUAAAACABVKBQAAAAACNaYFAAAAAICEugUAAAADg+YiBQAAAAKCXq4FAAAAAALN6gUAAAACgmcWAQAAAAOB6lH9AAAAAgBSGf0AAAAAgrgd/QAAAAMD1JIFAAAAA4KNkgEA=",
          "dtype": "f8"
         },
         "yaxis": "y"
        },
        {
         "marker": {
          "color": "rgb(141,160,203)",
          "size": 6
         },
         "mode": "markers",
         "name": "Regime 2",
         "showlegend": true,
         "type": "scatter",
         "x": [
          "2025-01-14T00:00:00.000000000",
          "2025-01-15T00:00:00.000000000",
          "2025-01-16T00:00:00.000000000",
          "2025-01-17T00:00:00.000000000",
          "2025-01-21T00:00:00.000000000",
          "2025-01-29T00:00:00.000000000",
          "2025-01-30T00:00:00.000000000",
          "2025-01-31T00:00:00.000000000",
          "2025-02-03T00:00:00.000000000",
          "2025-02-04T00:00:00.000000000",
          "2025-02-19T00:00:00.000000000",
          "2025-02-20T00:00:00.000000000",
          "2025-02-21T00:00:00.000000000",
          "2025-02-24T00:00:00.000000000",
          "2025-02-25T00:00:00.000000000",
          "2025-02-26T00:00:00.000000000",
          "2025-03-19T00:00:00.000000000",
          "2025-03-20T00:00:00.000000000",
          "2025-03-21T00:00:00.000000000",
          "2025-03-24T00:00:00.000000000",
          "2025-03-25T00:00:00.000000000",
          "2025-03-26T00:00:00.000000000",
          "2025-03-27T00:00:00.000000000",
          "2025-03-28T00:00:00.000000000",
          "2025-03-31T00:00:00.000000000",
          "2025-04-01T00:00:00.000000000",
          "2025-04-02T00:00:00.000000000"
         ],
         "xaxis": "x",
         "y": {
          "bdata": "AAAAII0jgkAAAACABHiCQAAAAMDsboJAAAAAYE2egkAAAABA7smCQAAAAGAKwIJAAAAAgM3ZgkAAAADAHsCCQAAAAEDRn4JAAAAAIM2/gkAAAADAuxiDQAAAACBlBINAAAAAICCxgkAAAADgWZuCQAAAAICpg4JAAAAAAA6GgkAAAADAbquBQAAAACBanoFAAAAAANefgUAAAADgo/CBQAAAACCu+4FAAAAAYLjEgUAAAADgo7iBQAAAAKBHXYFAAAAAwB57gUAAAACAwoeBQAAAAAAppIFA",
          "dtype": "f8"
         },
         "yaxis": "y"
        },
        {
         "line": {
          "color": "rgba(0,0,0,0.3)"
         },
         "mode": "lines",
         "name": "SPY Price",
         "showlegend": true,
         "type": "scatter",
         "x": [
          "2025-01-13T00:00:00.000000000",
          "2025-01-14T00:00:00.000000000",
          "2025-01-15T00:00:00.000000000",
          "2025-01-16T00:00:00.000000000",
          "2025-01-17T00:00:00.000000000",
          "2025-01-21T00:00:00.000000000",
          "2025-01-22T00:00:00.000000000",
          "2025-01-23T00:00:00.000000000",
          "2025-01-24T00:00:00.000000000",
          "2025-01-27T00:00:00.000000000",
          "2025-01-28T00:00:00.000000000",
          "2025-01-29T00:00:00.000000000",
          "2025-01-30T00:00:00.000000000",
          "2025-01-31T00:00:00.000000000",
          "2025-02-03T00:00:00.000000000",
          "2025-02-04T00:00:00.000000000",
          "2025-02-05T00:00:00.000000000",
          "2025-02-06T00:00:00.000000000",
          "2025-02-07T00:00:00.000000000",
          "2025-02-10T00:00:00.000000000",
          "2025-02-11T00:00:00.000000000",
          "2025-02-12T00:00:00.000000000",
          "2025-02-13T00:00:00.000000000",
          "2025-02-14T00:00:00.000000000",
          "2025-02-18T00:00:00.000000000",
          "2025-02-19T00:00:00.000000000",
          "2025-02-20T00:00:00.000000000",
          "2025-02-21T00:00:00.000000000",
          "2025-02-24T00:00:00.000000000",
          "2025-02-25T00:00:00.000000000",
          "2025-02-26T00:00:00.000000000",
          "2025-02-27T00:00:00.000000000",
          "2025-02-28T00:00:00.000000000",
          "2025-03-03T00:00:00.000000000",
          "2025-03-04T00:00:00.000000000",
          "2025-03-05T00:00:00.000000000",
          "2025-03-06T00:00:00.000000000",
          "2025-03-07T00:00:00.000000000",
          "2025-03-10T00:00:00.000000000",
          "2025-03-11T00:00:00.000000000",
          "2025-03-12T00:00:00.000000000",
          "2025-03-13T00:00:00.000000000",
          "2025-03-14T00:00:00.000000000",
          "2025-03-17T00:00:00.000000000",
          "2025-03-18T00:00:00.000000000",
          "2025-03-19T00:00:00.000000000",
          "2025-03-20T00:00:00.000000000",
          "2025-03-21T00:00:00.000000000",
          "2025-03-24T00:00:00.000000000",
          "2025-03-25T00:00:00.000000000",
          "2025-03-26T00:00:00.000000000",
          "2025-03-27T00:00:00.000000000",
          "2025-03-28T00:00:00.000000000",
          "2025-03-31T00:00:00.000000000",
          "2025-04-01T00:00:00.000000000",
          "2025-04-02T00:00:00.000000000",
          "2025-04-03T00:00:00.000000000",
          "2025-04-04T00:00:00.000000000",
          "2025-04-07T00:00:00.000000000",
          "2025-04-08T00:00:00.000000000",
          "2025-04-09T00:00:00.000000000",
          "2025-04-10T00:00:00.000000000"
         ],
         "xaxis": "x",
         "y": {
          "bdata": "AAAAoCsdgkAAAAAgjSOCQAAAAIAEeIJAAAAAwOxugkAAAABgTZ6CQAAAAEDuyYJAAAAAIPjkgkAAAADAXv+CQAAAACAs8YJAAAAAQJSsgkAAAADgp9WCQAAAAGAKwIJAAAAAgM3ZgkAAAADAHsCCQAAAAEDRn4JAAAAAIM2/gkAAAAAgQ9OCQAAAACAD5IJAAAAA4L63gkAAAACASdiCQAAAAOD024JAAAAAQGfMgkAAAADgNf+CQAAAAKD4/oJAAAAAgD8Ng0AAAADAuxiDQAAAACBlBINAAAAAICCxgkAAAADgWZuCQAAAAICpg4JAAAAAAA6GgkAAAADAXDqCQAAAAAAvg4JAAAAAQCcwgkAAAAAACvmBQAAAAIB9KoJAAAAAYPDXgUAAAACgivGBQAAAAKAwd4FAAAAAgAVSgUAAAAAAjWmBQAAAACAhLoFAAAAA4PmIgUAAAACgl6uBQAAAAACzeoFAAAAAwG6rgUAAAAAgWp6BQAAAAADXn4FAAAAA4KPwgUAAAAAgrvuBQAAAAGC4xIFAAAAA4KO4gUAAAACgR12BQAAAAMAee4FAAAAAgMKHgUAAAAAAKaSBQAAAAKCZxYBAAAAA4HqUf0AAAACAFIZ/QAAAACCuB39AAAAAwPUkgUAAAADgo2SAQA==",
          "dtype": "f8"
         },
         "yaxis": "y"
        },
        {
         "marker": {
          "color": "rgb(102,194,165)",
          "size": 6
         },
         "mode": "markers",
         "name": "Regime 0",
         "showlegend": false,
         "type": "scatter",
         "x": [
          "2025-01-13T00:00:00.000000000",
          "2025-02-05T00:00:00.000000000",
          "2025-02-06T00:00:00.000000000",
          "2025-02-07T00:00:00.000000000",
          "2025-02-10T00:00:00.000000000",
          "2025-02-11T00:00:00.000000000",
          "2025-02-12T00:00:00.000000000",
          "2025-02-13T00:00:00.000000000",
          "2025-02-14T00:00:00.000000000",
          "2025-02-18T00:00:00.000000000"
         ],
         "xaxis": "x2",
         "y": {
          "bdata": "AAAA4KMwM0AAAACAPYovQAAAAAAAAC9AAAAAgD2KMEAAAABguJ4vQAAAAMAeBTBAAAAAIK7HL0AAAABAMzMuQAAAAIA9ii1AAAAAQDOzLkA=",
          "dtype": "f8"
         },
         "yaxis": "y2"
        },
        {
         "marker": {
          "color": "rgb(252,141,98)",
          "size": 6
         },
         "mode": "markers",
         "name": "Regime 1",
         "showlegend": false,
         "type": "scatter",
         "x": [
          "2025-01-22T00:00:00.000000000",
          "2025-01-23T00:00:00.000000000",
          "2025-01-24T00:00:00.000000000",
          "2025-01-27T00:00:00.000000000",
          "2025-01-28T00:00:00.000000000",
          "2025-02-27T00:00:00.000000000",
          "2025-02-28T00:00:00.000000000",
          "2025-03-03T00:00:00.000000000",
          "2025-03-04T00:00:00.000000000",
          "2025-03-05T00:00:00.000000000",
          "2025-03-06T00:00:00.000000000",
          "2025-03-07T00:00:00.000000000",
          "2025-03-10T00:00:00.000000000",
          "2025-03-11T00:00:00.000000000",
          "2025-03-12T00:00:00.000000000",
          "2025-03-13T00:00:00.000000000",
          "2025-03-14T00:00:00.000000000",
          "2025-03-17T00:00:00.000000000",
          "2025-03-18T00:00:00.000000000",
          "2025-04-03T00:00:00.000000000",
          "2025-04-04T00:00:00.000000000",
          "2025-04-07T00:00:00.000000000",
          "2025-04-08T00:00:00.000000000",
          "2025-04-09T00:00:00.000000000",
          "2025-04-10T00:00:00.000000000"
         ],
         "xaxis": "x2",
         "y": {
          "bdata": "AAAAQDMzLkAAAACAPQouQAAAAEAzsy1AAAAAYGbmMUAAAADA9WgwQAAAAKBHITVAAAAAoEehM0AAAAAgrsc2QAAAAGCPgjdAAAAAgBTuNUAAAABguN44QAAAAGC4XjdAAAAAACncO0AAAAAghes6QAAAAEDhOjhAAAAAwPWoOEAAAADAHsU1QAAAAGCPgjRAAAAAQDOzNUAAAADAHgU+QAAAACCup0ZAAAAAoHB9R0AAAACAPSpKQAAAACBcz0BAAAAAAClcREA=",
          "dtype": "f8"
         },
         "yaxis": "y2"
        },
        {
         "marker": {
          "color": "rgb(141,160,203)",
          "size": 6
         },
         "mode": "markers",
         "name": "Regime 2",
         "showlegend": false,
         "type": "scatter",
         "x": [
          "2025-01-14T00:00:00.000000000",
          "2025-01-15T00:00:00.000000000",
          "2025-01-16T00:00:00.000000000",
          "2025-01-17T00:00:00.000000000",
          "2025-01-21T00:00:00.000000000",
          "2025-01-29T00:00:00.000000000",
          "2025-01-30T00:00:00.000000000",
          "2025-01-31T00:00:00.000000000",
          "2025-02-03T00:00:00.000000000",
          "2025-02-04T00:00:00.000000000",
          "2025-02-19T00:00:00.000000000",
          "2025-02-20T00:00:00.000000000",
          "2025-02-21T00:00:00.000000000",
          "2025-02-24T00:00:00.000000000",
          "2025-02-25T00:00:00.000000000",
          "2025-02-26T00:00:00.000000000",
          "2025-03-19T00:00:00.000000000",
          "2025-03-20T00:00:00.000000000",
          "2025-03-21T00:00:00.000000000",
          "2025-03-24T00:00:00.000000000",
          "2025-03-25T00:00:00.000000000",
          "2025-03-26T00:00:00.000000000",
          "2025-03-27T00:00:00.000000000",
          "2025-03-28T00:00:00.000000000",
          "2025-03-31T00:00:00.000000000",
          "2025-04-01T00:00:00.000000000",
          "2025-04-02T00:00:00.000000000"
         ],
         "xaxis": "x2",
         "y": {
          "bdata": "AAAAgMK1MkAAAABguB4wQAAAAKCZmTBAAAAA4KPwL0AAAABguB4uQAAAACBcjzBAAAAAgBSuL0AAAACAFG4wQAAAAGC4njJAAAAAgMI1MUAAAACAPYouQAAAAIDrUS9AAAAAgMI1MkAAAABA4foyQAAAAIAUbjNAAAAAoJkZM0AAAABgZuYzQAAAAMDMzDNAAAAAIK5HM0AAAABA4XoxQAAAAGBmJjFAAAAA4HpUMkAAAADgo7AyQAAAAGBmpjVAAAAAIK5HNkAAAADAHsU1QAAAAGCPgjVA",
          "dtype": "f8"
         },
         "yaxis": "y2"
        },
        {
         "line": {
          "color": "rgba(0,0,0,0.3)"
         },
         "mode": "lines",
         "name": "VIX",
         "showlegend": true,
         "type": "scatter",
         "x": [
          "2025-01-13T00:00:00.000000000",
          "2025-01-14T00:00:00.000000000",
          "2025-01-15T00:00:00.000000000",
          "2025-01-16T00:00:00.000000000",
          "2025-01-17T00:00:00.000000000",
          "2025-01-21T00:00:00.000000000",
          "2025-01-22T00:00:00.000000000",
          "2025-01-23T00:00:00.000000000",
          "2025-01-24T00:00:00.000000000",
          "2025-01-27T00:00:00.000000000",
          "2025-01-28T00:00:00.000000000",
          "2025-01-29T00:00:00.000000000",
          "2025-01-30T00:00:00.000000000",
          "2025-01-31T00:00:00.000000000",
          "2025-02-03T00:00:00.000000000",
          "2025-02-04T00:00:00.000000000",
          "2025-02-05T00:00:00.000000000",
          "2025-02-06T00:00:00.000000000",
          "2025-02-07T00:00:00.000000000",
          "2025-02-10T00:00:00.000000000",
          "2025-02-11T00:00:00.000000000",
          "2025-02-12T00:00:00.000000000",
          "2025-02-13T00:00:00.000000000",
          "2025-02-14T00:00:00.000000000",
          "2025-02-18T00:00:00.000000000",
          "2025-02-19T00:00:00.000000000",
          "2025-02-20T00:00:00.000000000",
          "2025-02-21T00:00:00.000000000",
          "2025-02-24T00:00:00.000000000",
          "2025-02-25T00:00:00.000000000",
          "2025-02-26T00:00:00.000000000",
          "2025-02-27T00:00:00.000000000",
          "2025-02-28T00:00:00.000000000",
          "2025-03-03T00:00:00.000000000",
          "2025-03-04T00:00:00.000000000",
          "2025-03-05T00:00:00.000000000",
          "2025-03-06T00:00:00.000000000",
          "2025-03-07T00:00:00.000000000",
          "2025-03-10T00:00:00.000000000",
          "2025-03-11T00:00:00.000000000",
          "2025-03-12T00:00:00.000000000",
          "2025-03-13T00:00:00.000000000",
          "2025-03-14T00:00:00.000000000",
          "2025-03-17T00:00:00.000000000",
          "2025-03-18T00:00:00.000000000",
          "2025-03-19T00:00:00.000000000",
          "2025-03-20T00:00:00.000000000",
          "2025-03-21T00:00:00.000000000",
          "2025-03-24T00:00:00.000000000",
          "2025-03-25T00:00:00.000000000",
          "2025-03-26T00:00:00.000000000",
          "2025-03-27T00:00:00.000000000",
          "2025-03-28T00:00:00.000000000",
          "2025-03-31T00:00:00.000000000",
          "2025-04-01T00:00:00.000000000",
          "2025-04-02T00:00:00.000000000",
          "2025-04-03T00:00:00.000000000",
          "2025-04-04T00:00:00.000000000",
          "2025-04-07T00:00:00.000000000",
          "2025-04-08T00:00:00.000000000",
          "2025-04-09T00:00:00.000000000",
          "2025-04-10T00:00:00.000000000"
         ],
         "xaxis": "x2",
         "y": {
          "bdata": "AAAA4KMwM0AAAACAwrUyQAAAAGC4HjBAAAAAoJmZMEAAAADgo/AvQAAAAGC4Hi5AAAAAQDMzLkAAAACAPQouQAAAAEAzsy1AAAAAYGbmMUAAAADA9WgwQAAAACBcjzBAAAAAgBSuL0AAAACAFG4wQAAAAGC4njJAAAAAgMI1MUAAAACAPYovQAAAAAAAAC9AAAAAgD2KMEAAAABguJ4vQAAAAMAeBTBAAAAAIK7HL0AAAABAMzMuQAAAAIA9ii1AAAAAQDOzLkAAAACAPYouQAAAAIDrUS9AAAAAgMI1MkAAAABA4foyQAAAAIAUbjNAAAAAoJkZM0AAAACgRyE1QAAAAKBHoTNAAAAAIK7HNkAAAABgj4I3QAAAAIAU7jVAAAAAYLjeOEAAAABguF43QAAAAAAp3DtAAAAAIIXrOkAAAABA4To4QAAAAMD1qDhAAAAAwB7FNUAAAABgj4I0QAAAAEAzszVAAAAAYGbmM0AAAADAzMwzQAAAACCuRzNAAAAAQOF6MUAAAABgZiYxQAAAAOB6VDJAAAAA4KOwMkAAAABgZqY1QAAAACCuRzZAAAAAwB7FNUAAAABgj4I1QAAAAMAeBT5AAAAAIK6nRkAAAACgcH1HQAAAAIA9KkpAAAAAIFzPQEAAAAAAKVxEQA==",
          "dtype": "f8"
         },
         "yaxis": "y2"
        }
       ],
       "layout": {
        "annotations": [
         {
          "font": {
           "size": 16
          },
          "showarrow": false,
          "text": "SPY Close Price by Regime",
          "x": 0.5,
          "xanchor": "center",
          "xref": "paper",
          "y": 1,
          "yanchor": "bottom",
          "yref": "paper"
         },
         {
          "font": {
           "size": 16
          },
          "showarrow": false,
          "text": "VIX by Regime",
          "x": 0.5,
          "xanchor": "center",
          "xref": "paper",
          "y": 0.45,
          "yanchor": "bottom",
          "yref": "paper"
         }
        ],
        "height": 800,
        "hovermode": "closest",
        "legend": {
         "title": {
          "text": "Regime"
         }
        },
        "template": {
         "data": {
          "bar": [
           {
            "error_x": {
             "color": "#2a3f5f"
            },
            "error_y": {
             "color": "#2a3f5f"
            },
            "marker": {
             "line": {
              "color": "white",
              "width": 0.5
             },
             "pattern": {
              "fillmode": "overlay",
              "size": 10,
              "solidity": 0.2
             }
            },
            "type": "bar"
           }
          ],
          "barpolar": [
           {
            "marker": {
             "line": {
              "color": "white",
              "width": 0.5
             },
             "pattern": {
              "fillmode": "overlay",
              "size": 10,
              "solidity": 0.2
             }
            },
            "type": "barpolar"
           }
          ],
          "carpet": [
           {
            "aaxis": {
             "endlinecolor": "#2a3f5f",
             "gridcolor": "#C8D4E3",
             "linecolor": "#C8D4E3",
             "minorgridcolor": "#C8D4E3",
             "startlinecolor": "#2a3f5f"
            },
            "baxis": {
             "endlinecolor": "#2a3f5f",
             "gridcolor": "#C8D4E3",
             "linecolor": "#C8D4E3",
             "minorgridcolor": "#C8D4E3",
             "startlinecolor": "#2a3f5f"
            },
            "type": "carpet"
           }
          ],
          "choropleth": [
           {
            "colorbar": {
             "outlinewidth": 0,
             "ticks": ""
            },
            "type": "choropleth"
           }
          ],
          "contour": [
           {
            "colorbar": {
             "outlinewidth": 0,
             "ticks": ""
            },
            "colorscale": [
             [
              0,
              "#0d0887"
             ],
             [
              0.1111111111111111,
              "#46039f"
             ],
             [
              0.2222222222222222,
              "#7201a8"
             ],
             [
              0.3333333333333333,
              "#9c179e"
             ],
             [
              0.4444444444444444,
              "#bd3786"
             ],
             [
              0.5555555555555556,
              "#d8576b"
             ],
             [
              0.6666666666666666,
              "#ed7953"
             ],
             [
              0.7777777777777778,
              "#fb9f3a"
             ],
             [
              0.8888888888888888,
              "#fdca26"
             ],
             [
              1,
              "#f0f921"
             ]
            ],
            "type": "contour"
           }
          ],
          "contourcarpet": [
           {
            "colorbar": {
             "outlinewidth": 0,
             "ticks": ""
            },
            "type": "contourcarpet"
           }
          ],
          "heatmap": [
           {
            "colorbar": {
             "outlinewidth": 0,
             "ticks": ""
            },
            "colorscale": [
             [
              0,
              "#0d0887"
             ],
             [
              0.1111111111111111,
              "#46039f"
             ],
             [
              0.2222222222222222,
              "#7201a8"
             ],
             [
              0.3333333333333333,
              "#9c179e"
             ],
             [
              0.4444444444444444,
              "#bd3786"
             ],
             [
              0.5555555555555556,
              "#d8576b"
             ],
             [
              0.6666666666666666,
              "#ed7953"
             ],
             [
              0.7777777777777778,
              "#fb9f3a"
             ],
             [
              0.8888888888888888,
              "#fdca26"
             ],
             [
              1,
              "#f0f921"
             ]
            ],
            "type": "heatmap"
           }
          ],
          "histogram": [
           {
            "marker": {
             "pattern": {
              "fillmode": "overlay",
              "size": 10,
              "solidity": 0.2
             }
            },
            "type": "histogram"
           }
          ],
          "histogram2d": [
           {
            "colorbar": {
             "outlinewidth": 0,
             "ticks": ""
            },
            "colorscale": [
             [
              0,
              "#0d0887"
             ],
             [
              0.1111111111111111,
              "#46039f"
             ],
             [
              0.2222222222222222,
              "#7201a8"
             ],
             [
              0.3333333333333333,
              "#9c179e"
             ],
             [
              0.4444444444444444,
              "#bd3786"
             ],
             [
              0.5555555555555556,
              "#d8576b"
             ],
             [
              0.6666666666666666,
              "#ed7953"
             ],
             [
              0.7777777777777778,
              "#fb9f3a"
             ],
             [
              0.8888888888888888,
              "#fdca26"
             ],
             [
              1,
              "#f0f921"
             ]
            ],
            "type": "histogram2d"
           }
          ],
          "histogram2dcontour": [
           {
            "colorbar": {
             "outlinewidth": 0,
             "ticks": ""
            },
            "colorscale": [
             [
              0,
              "#0d0887"
             ],
             [
              0.1111111111111111,
              "#46039f"
             ],
             [
              0.2222222222222222,
              "#7201a8"
             ],
             [
              0.3333333333333333,
              "#9c179e"
             ],
             [
              0.4444444444444444,
              "#bd3786"
             ],
             [
              0.5555555555555556,
              "#d8576b"
             ],
             [
              0.6666666666666666,
              "#ed7953"
             ],
             [
              0.7777777777777778,
              "#fb9f3a"
             ],
             [
              0.8888888888888888,
              "#fdca26"
             ],
             [
              1,
              "#f0f921"
             ]
            ],
            "type": "histogram2dcontour"
           }
          ],
          "mesh3d": [
           {
            "colorbar": {
             "outlinewidth": 0,
             "ticks": ""
            },
            "type": "mesh3d"
           }
          ],
          "parcoords": [
           {
            "line": {
             "colorbar": {
              "outlinewidth": 0,
              "ticks": ""
             }
            },
            "type": "parcoords"
           }
          ],
          "pie": [
           {
            "automargin": true,
            "type": "pie"
           }
          ],
          "scatter": [
           {
            "fillpattern": {
             "fillmode": "overlay",
             "size": 10,
             "solidity": 0.2
            },
            "type": "scatter"
           }
          ],
          "scatter3d": [
           {
            "line": {
             "colorbar": {
              "outlinewidth": 0,
              "ticks": ""
             }
            },
            "marker": {
             "colorbar": {
              "outlinewidth": 0,
              "ticks": ""
             }
            },
            "type": "scatter3d"
           }
          ],
          "scattercarpet": [
           {
            "marker": {
             "colorbar": {
              "outlinewidth": 0,
              "ticks": ""
             }
            },
            "type": "scattercarpet"
           }
          ],
          "scattergeo": [
           {
            "marker": {
             "colorbar": {
              "outlinewidth": 0,
              "ticks": ""
             }
            },
            "type": "scattergeo"
           }
          ],
          "scattergl": [
           {
            "marker": {
             "colorbar": {
              "outlinewidth": 0,
              "ticks": ""
             }
            },
            "type": "scattergl"
           }
          ],
          "scattermap": [
           {
            "marker": {
             "colorbar": {
              "outlinewidth": 0,
              "ticks": ""
             }
            },
            "type": "scattermap"
           }
          ],
          "scattermapbox": [
           {
            "marker": {
             "colorbar": {
              "outlinewidth": 0,
              "ticks": ""
             }
            },
            "type": "scattermapbox"
           }
          ],
          "scatterpolar": [
           {
            "marker": {
             "colorbar": {
              "outlinewidth": 0,
              "ticks": ""
             }
            },
            "type": "scatterpolar"
           }
          ],
          "scatterpolargl": [
           {
            "marker": {
             "colorbar": {
              "outlinewidth": 0,
              "ticks": ""
             }
            },
            "type": "scatterpolargl"
           }
          ],
          "scatterternary": [
           {
            "marker": {
             "colorbar": {
              "outlinewidth": 0,
              "ticks": ""
             }
            },
            "type": "scatterternary"
           }
          ],
          "surface": [
           {
            "colorbar": {
             "outlinewidth": 0,
             "ticks": ""
            },
            "colorscale": [
             [
              0,
              "#0d0887"
             ],
             [
              0.1111111111111111,
              "#46039f"
             ],
             [
              0.2222222222222222,
              "#7201a8"
             ],
             [
              0.3333333333333333,
              "#9c179e"
             ],
             [
              0.4444444444444444,
              "#bd3786"
             ],
             [
              0.5555555555555556,
              "#d8576b"
             ],
             [
              0.6666666666666666,
              "#ed7953"
             ],
             [
              0.7777777777777778,
              "#fb9f3a"
             ],
             [
              0.8888888888888888,
              "#fdca26"
             ],
             [
              1,
              "#f0f921"
             ]
            ],
            "type": "surface"
           }
          ],
          "table": [
           {
            "cells": {
             "fill": {
              "color": "#EBF0F8"
             },
             "line": {
              "color": "white"
             }
            },
            "header": {
             "fill": {
              "color": "#C8D4E3"
             },
             "line": {
              "color": "white"
             }
            },
            "type": "table"
           }
          ]
         },
         "layout": {
          "annotationdefaults": {
           "arrowcolor": "#2a3f5f",
           "arrowhead": 0,
           "arrowwidth": 1
          },
          "autotypenumbers": "strict",
          "coloraxis": {
           "colorbar": {
            "outlinewidth": 0,
            "ticks": ""
           }
          },
          "colorscale": {
           "diverging": [
            [
             0,
             "#8e0152"
            ],
            [
             0.1,
             "#c51b7d"
            ],
            [
             0.2,
             "#de77ae"
            ],
            [
             0.3,
             "#f1b6da"
            ],
            [
             0.4,
             "#fde0ef"
            ],
            [
             0.5,
             "#f7f7f7"
            ],
            [
             0.6,
             "#e6f5d0"
            ],
            [
             0.7,
             "#b8e186"
            ],
            [
             0.8,
             "#7fbc41"
            ],
            [
             0.9,
             "#4d9221"
            ],
            [
             1,
             "#276419"
            ]
           ],
           "sequential": [
            [
             0,
             "#0d0887"
            ],
            [
             0.1111111111111111,
             "#46039f"
            ],
            [
             0.2222222222222222,
             "#7201a8"
            ],
            [
             0.3333333333333333,
             "#9c179e"
            ],
            [
             0.4444444444444444,
             "#bd3786"
            ],
            [
             0.5555555555555556,
             "#d8576b"
            ],
            [
             0.6666666666666666,
             "#ed7953"
            ],
            [
             0.7777777777777778,
             "#fb9f3a"
            ],
            [
             0.8888888888888888,
             "#fdca26"
            ],
            [
             1,
             "#f0f921"
            ]
           ],
           "sequentialminus": [
            [
             0,
             "#0d0887"
            ],
            [
             0.1111111111111111,
             "#46039f"
            ],
            [
             0.2222222222222222,
             "#7201a8"
            ],
            [
             0.3333333333333333,
             "#9c179e"
            ],
            [
             0.4444444444444444,
             "#bd3786"
            ],
            [
             0.5555555555555556,
             "#d8576b"
            ],
            [
             0.6666666666666666,
             "#ed7953"
            ],
            [
             0.7777777777777778,
             "#fb9f3a"
            ],
            [
             0.8888888888888888,
             "#fdca26"
            ],
            [
             1,
             "#f0f921"
            ]
           ]
          },
          "colorway": [
           "#636efa",
           "#EF553B",
           "#00cc96",
           "#ab63fa",
           "#FFA15A",
           "#19d3f3",
           "#FF6692",
           "#B6E880",
           "#FF97FF",
           "#FECB52"
          ],
          "font": {
           "color": "#2a3f5f"
          },
          "geo": {
           "bgcolor": "white",
           "lakecolor": "white",
           "landcolor": "white",
           "showlakes": true,
           "showland": true,
           "subunitcolor": "#C8D4E3"
          },
          "hoverlabel": {
           "align": "left"
          },
          "hovermode": "closest",
          "mapbox": {
           "style": "light"
          },
          "paper_bgcolor": "white",
          "plot_bgcolor": "white",
          "polar": {
           "angularaxis": {
            "gridcolor": "#EBF0F8",
            "linecolor": "#EBF0F8",
            "ticks": ""
           },
           "bgcolor": "white",
           "radialaxis": {
            "gridcolor": "#EBF0F8",
            "linecolor": "#EBF0F8",
            "ticks": ""
           }
          },
          "scene": {
           "xaxis": {
            "backgroundcolor": "white",
            "gridcolor": "#DFE8F3",
            "gridwidth": 2,
            "linecolor": "#EBF0F8",
            "showbackground": true,
            "ticks": "",
            "zerolinecolor": "#EBF0F8"
           },
           "yaxis": {
            "backgroundcolor": "white",
            "gridcolor": "#DFE8F3",
            "gridwidth": 2,
            "linecolor": "#EBF0F8",
            "showbackground": true,
            "ticks": "",
            "zerolinecolor": "#EBF0F8"
           },
           "zaxis": {
            "backgroundcolor": "white",
            "gridcolor": "#DFE8F3",
            "gridwidth": 2,
            "linecolor": "#EBF0F8",
            "showbackground": true,
            "ticks": "",
            "zerolinecolor": "#EBF0F8"
           }
          },
          "shapedefaults": {
           "line": {
            "color": "#2a3f5f"
           }
          },
          "ternary": {
           "aaxis": {
            "gridcolor": "#DFE8F3",
            "linecolor": "#A2B1C6",
            "ticks": ""
           },
           "baxis": {
            "gridcolor": "#DFE8F3",
            "linecolor": "#A2B1C6",
            "ticks": ""
           },
           "bgcolor": "white",
           "caxis": {
            "gridcolor": "#DFE8F3",
            "linecolor": "#A2B1C6",
            "ticks": ""
           }
          },
          "title": {
           "x": 0.05
          },
          "xaxis": {
           "automargin": true,
           "gridcolor": "#EBF0F8",
           "linecolor": "#EBF0F8",
           "ticks": "",
           "title": {
            "standoff": 15
           },
           "zerolinecolor": "#EBF0F8",
           "zerolinewidth": 2
          },
          "yaxis": {
           "automargin": true,
           "gridcolor": "#EBF0F8",
           "linecolor": "#EBF0F8",
           "ticks": "",
           "title": {
            "standoff": 15
           },
           "zerolinecolor": "#EBF0F8",
           "zerolinewidth": 2
          }
         }
        },
        "title": {
         "text": "Market Regimes in Recent 3 Months (2025-01-11 to 2025-04-11)"
        },
        "xaxis": {
         "anchor": "y",
         "domain": [
          0,
          1
         ],
         "matches": "x2",
         "showticklabels": false
        },
        "xaxis2": {
         "anchor": "y2",
         "domain": [
          0,
          1
         ],
         "title": {
          "text": "Date"
         }
        },
        "yaxis": {
         "anchor": "x",
         "domain": [
          0.55,
          1
         ],
         "title": {
          "text": "SPY Price"
         }
        },
        "yaxis2": {
         "anchor": "x2",
         "domain": [
          0,
          0.45
         ],
         "title": {
          "text": "VIX"
         }
        }
       }
      }
     },
     "metadata": {},
     "output_type": "display_data"
    },
    {
     "data": {
      "application/vnd.plotly.v1+json": {
       "config": {
        "plotlyServerURL": "https://plot.ly"
       },
       "data": [
        {
         "domain": {
          "x": [
           0,
           1
          ],
          "y": [
           0,
           1
          ]
         },
         "hovertemplate": "label=%{label}<br>value=%{value}<extra></extra>",
         "labels": [
          "Regime 0",
          "Regime 1",
          "Regime 2"
         ],
         "legendgroup": "",
         "name": "",
         "showlegend": true,
         "textinfo": "percent+label",
         "textposition": "inside",
         "type": "pie",
         "values": {
          "bdata": "xhhjjDHGRUAppZRSSilEQCGEEEIIITBA",
          "dtype": "f8"
         }
        }
       ],
       "layout": {
        "legend": {
         "tracegroupgap": 0
        },
        "piecolorway": [
         "rgb(102,194,165)",
         "rgb(252,141,98)",
         "rgb(141,160,203)"
        ],
        "template": {
         "data": {
          "bar": [
           {
            "error_x": {
             "color": "#2a3f5f"
            },
            "error_y": {
             "color": "#2a3f5f"
            },
            "marker": {
             "line": {
              "color": "#E5ECF6",
              "width": 0.5
             },
             "pattern": {
              "fillmode": "overlay",
              "size": 10,
              "solidity": 0.2
             }
            },
            "type": "bar"
           }
          ],
          "barpolar": [
           {
            "marker": {
             "line": {
              "color": "#E5ECF6",
              "width": 0.5
             },
             "pattern": {
              "fillmode": "overlay",
              "size": 10,
              "solidity": 0.2
             }
            },
            "type": "barpolar"
           }
          ],
          "carpet": [
           {
            "aaxis": {
             "endlinecolor": "#2a3f5f",
             "gridcolor": "white",
             "linecolor": "white",
             "minorgridcolor": "white",
             "startlinecolor": "#2a3f5f"
            },
            "baxis": {
             "endlinecolor": "#2a3f5f",
             "gridcolor": "white",
             "linecolor": "white",
             "minorgridcolor": "white",
             "startlinecolor": "#2a3f5f"
            },
            "type": "carpet"
           }
          ],
          "choropleth": [
           {
            "colorbar": {
             "outlinewidth": 0,
             "ticks": ""
            },
            "type": "choropleth"
           }
          ],
          "contour": [
           {
            "colorbar": {
             "outlinewidth": 0,
             "ticks": ""
            },
            "colorscale": [
             [
              0,
              "#0d0887"
             ],
             [
              0.1111111111111111,
              "#46039f"
             ],
             [
              0.2222222222222222,
              "#7201a8"
             ],
             [
              0.3333333333333333,
              "#9c179e"
             ],
             [
              0.4444444444444444,
              "#bd3786"
             ],
             [
              0.5555555555555556,
              "#d8576b"
             ],
             [
              0.6666666666666666,
              "#ed7953"
             ],
             [
              0.7777777777777778,
              "#fb9f3a"
             ],
             [
              0.8888888888888888,
              "#fdca26"
             ],
             [
              1,
              "#f0f921"
             ]
            ],
            "type": "contour"
           }
          ],
          "contourcarpet": [
           {
            "colorbar": {
             "outlinewidth": 0,
             "ticks": ""
            },
            "type": "contourcarpet"
           }
          ],
          "heatmap": [
           {
            "colorbar": {
             "outlinewidth": 0,
             "ticks": ""
            },
            "colorscale": [
             [
              0,
              "#0d0887"
             ],
             [
              0.1111111111111111,
              "#46039f"
             ],
             [
              0.2222222222222222,
              "#7201a8"
             ],
             [
              0.3333333333333333,
              "#9c179e"
             ],
             [
              0.4444444444444444,
              "#bd3786"
             ],
             [
              0.5555555555555556,
              "#d8576b"
             ],
             [
              0.6666666666666666,
              "#ed7953"
             ],
             [
              0.7777777777777778,
              "#fb9f3a"
             ],
             [
              0.8888888888888888,
              "#fdca26"
             ],
             [
              1,
              "#f0f921"
             ]
            ],
            "type": "heatmap"
           }
          ],
          "histogram": [
           {
            "marker": {
             "pattern": {
              "fillmode": "overlay",
              "size": 10,
              "solidity": 0.2
             }
            },
            "type": "histogram"
           }
          ],
          "histogram2d": [
           {
            "colorbar": {
             "outlinewidth": 0,
             "ticks": ""
            },
            "colorscale": [
             [
              0,
              "#0d0887"
             ],
             [
              0.1111111111111111,
              "#46039f"
             ],
             [
              0.2222222222222222,
              "#7201a8"
             ],
             [
              0.3333333333333333,
              "#9c179e"
             ],
             [
              0.4444444444444444,
              "#bd3786"
             ],
             [
              0.5555555555555556,
              "#d8576b"
             ],
             [
              0.6666666666666666,
              "#ed7953"
             ],
             [
              0.7777777777777778,
              "#fb9f3a"
             ],
             [
              0.8888888888888888,
              "#fdca26"
             ],
             [
              1,
              "#f0f921"
             ]
            ],
            "type": "histogram2d"
           }
          ],
          "histogram2dcontour": [
           {
            "colorbar": {
             "outlinewidth": 0,
             "ticks": ""
            },
            "colorscale": [
             [
              0,
              "#0d0887"
             ],
             [
              0.1111111111111111,
              "#46039f"
             ],
             [
              0.2222222222222222,
              "#7201a8"
             ],
             [
              0.3333333333333333,
              "#9c179e"
             ],
             [
              0.4444444444444444,
              "#bd3786"
             ],
             [
              0.5555555555555556,
              "#d8576b"
             ],
             [
              0.6666666666666666,
              "#ed7953"
             ],
             [
              0.7777777777777778,
              "#fb9f3a"
             ],
             [
              0.8888888888888888,
              "#fdca26"
             ],
             [
              1,
              "#f0f921"
             ]
            ],
            "type": "histogram2dcontour"
           }
          ],
          "mesh3d": [
           {
            "colorbar": {
             "outlinewidth": 0,
             "ticks": ""
            },
            "type": "mesh3d"
           }
          ],
          "parcoords": [
           {
            "line": {
             "colorbar": {
              "outlinewidth": 0,
              "ticks": ""
             }
            },
            "type": "parcoords"
           }
          ],
          "pie": [
           {
            "automargin": true,
            "type": "pie"
           }
          ],
          "scatter": [
           {
            "fillpattern": {
             "fillmode": "overlay",
             "size": 10,
             "solidity": 0.2
            },
            "type": "scatter"
           }
          ],
          "scatter3d": [
           {
            "line": {
             "colorbar": {
              "outlinewidth": 0,
              "ticks": ""
             }
            },
            "marker": {
             "colorbar": {
              "outlinewidth": 0,
              "ticks": ""
             }
            },
            "type": "scatter3d"
           }
          ],
          "scattercarpet": [
           {
            "marker": {
             "colorbar": {
              "outlinewidth": 0,
              "ticks": ""
             }
            },
            "type": "scattercarpet"
           }
          ],
          "scattergeo": [
           {
            "marker": {
             "colorbar": {
              "outlinewidth": 0,
              "ticks": ""
             }
            },
            "type": "scattergeo"
           }
          ],
          "scattergl": [
           {
            "marker": {
             "colorbar": {
              "outlinewidth": 0,
              "ticks": ""
             }
            },
            "type": "scattergl"
           }
          ],
          "scattermap": [
           {
            "marker": {
             "colorbar": {
              "outlinewidth": 0,
              "ticks": ""
             }
            },
            "type": "scattermap"
           }
          ],
          "scattermapbox": [
           {
            "marker": {
             "colorbar": {
              "outlinewidth": 0,
              "ticks": ""
             }
            },
            "type": "scattermapbox"
           }
          ],
          "scatterpolar": [
           {
            "marker": {
             "colorbar": {
              "outlinewidth": 0,
              "ticks": ""
             }
            },
            "type": "scatterpolar"
           }
          ],
          "scatterpolargl": [
           {
            "marker": {
             "colorbar": {
              "outlinewidth": 0,
              "ticks": ""
             }
            },
            "type": "scatterpolargl"
           }
          ],
          "scatterternary": [
           {
            "marker": {
             "colorbar": {
              "outlinewidth": 0,
              "ticks": ""
             }
            },
            "type": "scatterternary"
           }
          ],
          "surface": [
           {
            "colorbar": {
             "outlinewidth": 0,
             "ticks": ""
            },
            "colorscale": [
             [
              0,
              "#0d0887"
             ],
             [
              0.1111111111111111,
              "#46039f"
             ],
             [
              0.2222222222222222,
              "#7201a8"
             ],
             [
              0.3333333333333333,
              "#9c179e"
             ],
             [
              0.4444444444444444,
              "#bd3786"
             ],
             [
              0.5555555555555556,
              "#d8576b"
             ],
             [
              0.6666666666666666,
              "#ed7953"
             ],
             [
              0.7777777777777778,
              "#fb9f3a"
             ],
             [
              0.8888888888888888,
              "#fdca26"
             ],
             [
              1,
              "#f0f921"
             ]
            ],
            "type": "surface"
           }
          ],
          "table": [
           {
            "cells": {
             "fill": {
              "color": "#EBF0F8"
             },
             "line": {
              "color": "white"
             }
            },
            "header": {
             "fill": {
              "color": "#C8D4E3"
             },
             "line": {
              "color": "white"
             }
            },
            "type": "table"
           }
          ]
         },
         "layout": {
          "annotationdefaults": {
           "arrowcolor": "#2a3f5f",
           "arrowhead": 0,
           "arrowwidth": 1
          },
          "autotypenumbers": "strict",
          "coloraxis": {
           "colorbar": {
            "outlinewidth": 0,
            "ticks": ""
           }
          },
          "colorscale": {
           "diverging": [
            [
             0,
             "#8e0152"
            ],
            [
             0.1,
             "#c51b7d"
            ],
            [
             0.2,
             "#de77ae"
            ],
            [
             0.3,
             "#f1b6da"
            ],
            [
             0.4,
             "#fde0ef"
            ],
            [
             0.5,
             "#f7f7f7"
            ],
            [
             0.6,
             "#e6f5d0"
            ],
            [
             0.7,
             "#b8e186"
            ],
            [
             0.8,
             "#7fbc41"
            ],
            [
             0.9,
             "#4d9221"
            ],
            [
             1,
             "#276419"
            ]
           ],
           "sequential": [
            [
             0,
             "#0d0887"
            ],
            [
             0.1111111111111111,
             "#46039f"
            ],
            [
             0.2222222222222222,
             "#7201a8"
            ],
            [
             0.3333333333333333,
             "#9c179e"
            ],
            [
             0.4444444444444444,
             "#bd3786"
            ],
            [
             0.5555555555555556,
             "#d8576b"
            ],
            [
             0.6666666666666666,
             "#ed7953"
            ],
            [
             0.7777777777777778,
             "#fb9f3a"
            ],
            [
             0.8888888888888888,
             "#fdca26"
            ],
            [
             1,
             "#f0f921"
            ]
           ],
           "sequentialminus": [
            [
             0,
             "#0d0887"
            ],
            [
             0.1111111111111111,
             "#46039f"
            ],
            [
             0.2222222222222222,
             "#7201a8"
            ],
            [
             0.3333333333333333,
             "#9c179e"
            ],
            [
             0.4444444444444444,
             "#bd3786"
            ],
            [
             0.5555555555555556,
             "#d8576b"
            ],
            [
             0.6666666666666666,
             "#ed7953"
            ],
            [
             0.7777777777777778,
             "#fb9f3a"
            ],
            [
             0.8888888888888888,
             "#fdca26"
            ],
            [
             1,
             "#f0f921"
            ]
           ]
          },
          "colorway": [
           "#636efa",
           "#EF553B",
           "#00cc96",
           "#ab63fa",
           "#FFA15A",
           "#19d3f3",
           "#FF6692",
           "#B6E880",
           "#FF97FF",
           "#FECB52"
          ],
          "font": {
           "color": "#2a3f5f"
          },
          "geo": {
           "bgcolor": "white",
           "lakecolor": "white",
           "landcolor": "#E5ECF6",
           "showlakes": true,
           "showland": true,
           "subunitcolor": "white"
          },
          "hoverlabel": {
           "align": "left"
          },
          "hovermode": "closest",
          "mapbox": {
           "style": "light"
          },
          "paper_bgcolor": "white",
          "plot_bgcolor": "#E5ECF6",
          "polar": {
           "angularaxis": {
            "gridcolor": "white",
            "linecolor": "white",
            "ticks": ""
           },
           "bgcolor": "#E5ECF6",
           "radialaxis": {
            "gridcolor": "white",
            "linecolor": "white",
            "ticks": ""
           }
          },
          "scene": {
           "xaxis": {
            "backgroundcolor": "#E5ECF6",
            "gridcolor": "white",
            "gridwidth": 2,
            "linecolor": "white",
            "showbackground": true,
            "ticks": "",
            "zerolinecolor": "white"
           },
           "yaxis": {
            "backgroundcolor": "#E5ECF6",
            "gridcolor": "white",
            "gridwidth": 2,
            "linecolor": "white",
            "showbackground": true,
            "ticks": "",
            "zerolinecolor": "white"
           },
           "zaxis": {
            "backgroundcolor": "#E5ECF6",
            "gridcolor": "white",
            "gridwidth": 2,
            "linecolor": "white",
            "showbackground": true,
            "ticks": "",
            "zerolinecolor": "white"
           }
          },
          "shapedefaults": {
           "line": {
            "color": "#2a3f5f"
           }
          },
          "ternary": {
           "aaxis": {
            "gridcolor": "white",
            "linecolor": "white",
            "ticks": ""
           },
           "baxis": {
            "gridcolor": "white",
            "linecolor": "white",
            "ticks": ""
           },
           "bgcolor": "#E5ECF6",
           "caxis": {
            "gridcolor": "white",
            "linecolor": "white",
            "ticks": ""
           }
          },
          "title": {
           "x": 0.05
          },
          "xaxis": {
           "automargin": true,
           "gridcolor": "white",
           "linecolor": "white",
           "ticks": "",
           "title": {
            "standoff": 15
           },
           "zerolinecolor": "white",
           "zerolinewidth": 2
          },
          "yaxis": {
           "automargin": true,
           "gridcolor": "white",
           "linecolor": "white",
           "ticks": "",
           "title": {
            "standoff": 15
           },
           "zerolinecolor": "white",
           "zerolinewidth": 2
          }
         }
        },
        "title": {
         "text": "Percentage of Time in Each Regime (2025-01-11 to 2025-04-11)"
        },
        "uniformtext": {
         "minsize": 12,
         "mode": "hide"
        }
       }
      }
     },
     "metadata": {},
     "output_type": "display_data"
    },
    {
     "data": {
      "application/vnd.plotly.v1+json": {
       "config": {
        "plotlyServerURL": "https://plot.ly"
       },
       "data": [
        {
         "hovertemplate": "Volatility=%{x}<br>Return (%)=%{y}<br>VIX=%{marker.size}<br>Predicted_Regime=%{marker.color}<extra></extra>",
         "legendgroup": "",
         "marker": {
          "color": {
           "bdata": "AAICAgICAQEBAQECAgICAgAAAAAAAAAAAAICAgICAgEBAQEBAQEBAQEBAQEBAgICAgICAgICAgIBAQEBAQE=",
           "dtype": "i1"
          },
          "coloraxis": "coloraxis",
          "opacity": 0.8,
          "size": {
           "bdata": "AAAA4KMwM0AAAACAwrUyQAAAAGC4HjBAAAAAoJmZMEAAAADgo/AvQAAAAGC4Hi5AAAAAQDMzLkAAAACAPQouQAAAAEAzsy1AAAAAYGbmMUAAAADA9WgwQAAAACBcjzBAAAAAgBSuL0AAAACAFG4wQAAAAGC4njJAAAAAgMI1MUAAAACAPYovQAAAAAAAAC9AAAAAgD2KMEAAAABguJ4vQAAAAMAeBTBAAAAAIK7HL0AAAABAMzMuQAAAAIA9ii1AAAAAQDOzLkAAAACAPYouQAAAAIDrUS9AAAAAgMI1MkAAAABA4foyQAAAAIAUbjNAAAAAoJkZM0AAAACgRyE1QAAAAKBHoTNAAAAAIK7HNkAAAABgj4I3QAAAAIAU7jVAAAAAYLjeOEAAAABguF43QAAAAAAp3DtAAAAAIIXrOkAAAABA4To4QAAAAMD1qDhAAAAAwB7FNUAAAABgj4I0QAAAAEAzszVAAAAAYGbmM0AAAADAzMwzQAAAACCuRzNAAAAAQOF6MUAAAABgZiYxQAAAAOB6VDJAAAAA4KOwMkAAAABgZqY1QAAAACCuRzZAAAAAwB7FNUAAAABgj4I1QAAAAMAeBT5AAAAAIK6nRkAAAACgcH1HQAAAAIA9KkpAAAAAIFzPQEAAAAAAKVxEQA==",
           "dtype": "f8"
          },
          "sizemode": "area",
          "sizeref": 0.1308250045776367,
          "symbol": "circle"
         },
         "mode": "markers",
         "name": "",
         "orientation": "v",
         "showlegend": false,
         "type": "scatter",
         "x": {
          "bdata": "j8I5S9CBN0BwPSpSU6o0QPQo/J/jxTdACtdzHKkwOUDD9XxLi+U/QLkeJSyHjEhAkMK58SDUUUDC9exZRe5YQF2PBvtr51xAPgqgevXzVkAK17xPo7lQQOF69pmJ2kBA9ihg0S/sOUDNzNTZVo0pQLgeZXb7FylAHYUzwNy8KUBH4UKy9SIoQGZmBk2aliFAzczMVmWgGUAoXE9t5msXQKRw/bo0qxhAPQpnM5cZGECG69GD+Y4jQFO4Ru8QHSlAehTW9si6JkAWrqeDNFwrQLge5TvzqStAkMKlESHzMkDNzPxNOWI4QHsURrj09EJAuR5nxs9FSEAqXDgWholUQNejFGytX1RAwvU1dtAnWEA9CtymlGZcQPYooaSMmlVAo3D6wPfIUkDWoxUy/p5RQD4K1OkSxlpAZuYEbBc9YkAULq7sAwliQAAAkFO0BmZAAACRwjJvXkAAAFiQkb5XQPYo1PM+OVVASOFipJIdSUCF6/GqX7tEQAvXR9n2yTdAUrjA8za2REAzM/uCEbVJQDMznWWXS0hAZmbans7aN0AzM+0DmStAQO1RsLpJFkJArke5V6A8QUDhehRAekZBQDMzQ+YFRFtAKOxmsKg3eUDiwn3Rk7uCQB4lF/aYnIdA4boUCRhnhUBIIXuX5UODQA==",
          "dtype": "f8"
         },
         "xaxis": "x",
         "y": {
          "bdata": "HGXyJZ3Ywz+LPfTh9JzBP70UJECiGv0/yqGLe9adyL+dDpvHVRDwP1sH0S2PSu0/9mwkVQ794T+xpzfyT3fhP4yGX00Fr9K/wcJh6u+h9r8vC2Fs5X7rP5N379/csNy/Ffcmf7Ys4T81WKEKuwfhv+D/567ciOW/aeKouG135T8Wiy4T8fLZP6I9okp7PtY/NsECMJNK7b8lt9QpUbvlPyPdoSfHeLM/ysOFnRee1L9XlnYNXuTwP2Vw4Wy7JnS/SgNyPhDK0j/AM9iPeyTOP3l4q4gpoNq/oKx/ONdd+78oGR3Jbx/dvy2jNJQL1N+/GlO2YoHYqT/xdP2BAor5vzxafKML+Pg/WQgYNywI/L9wiL0+YfDyv51YPVhPMvE/z24mq9hm/L8Gy5Dbeu/hP7heQJb2TgXAmv655eiZ6r+C3VldHfvgPz3x7WAsVPW//nfOZ0yGAECggVQYKq3oP/uKri0lS/G/Yq8tN+ds8T8YFo9h0YHSv+5p/5+Q46A/HdutilKn/D/0Qe9h88TOP6oD3vnpGfO/HysYLB3/0L+9YDdsVBwAwJ8G9ewie+U/CGVKZIoT0j+oJroWPEDkP8chOQdbthPAZCAe3sxqF8ABB2vdkMzGv/LaDLJ5D/m/dow5/vwAJUAc/Va4EIcRwA==",
          "dtype": "f8"
         },
         "yaxis": "y"
        }
       ],
       "layout": {
        "coloraxis": {
         "colorbar": {
          "title": {
           "text": "Predicted_Regime"
          }
         },
         "colorscale": [
          [
           0,
           "#0d0887"
          ],
          [
           0.1111111111111111,
           "#46039f"
          ],
          [
           0.2222222222222222,
           "#7201a8"
          ],
          [
           0.3333333333333333,
           "#9c179e"
          ],
          [
           0.4444444444444444,
           "#bd3786"
          ],
          [
           0.5555555555555556,
           "#d8576b"
          ],
          [
           0.6666666666666666,
           "#ed7953"
          ],
          [
           0.7777777777777778,
           "#fb9f3a"
          ],
          [
           0.8888888888888888,
           "#fdca26"
          ],
          [
           1,
           "#f0f921"
          ]
         ]
        },
        "hovermode": "closest",
        "legend": {
         "itemsizing": "constant",
         "title": {
          "text": "Regime"
         },
         "tracegroupgap": 0
        },
        "template": {
         "data": {
          "bar": [
           {
            "error_x": {
             "color": "#2a3f5f"
            },
            "error_y": {
             "color": "#2a3f5f"
            },
            "marker": {
             "line": {
              "color": "white",
              "width": 0.5
             },
             "pattern": {
              "fillmode": "overlay",
              "size": 10,
              "solidity": 0.2
             }
            },
            "type": "bar"
           }
          ],
          "barpolar": [
           {
            "marker": {
             "line": {
              "color": "white",
              "width": 0.5
             },
             "pattern": {
              "fillmode": "overlay",
              "size": 10,
              "solidity": 0.2
             }
            },
            "type": "barpolar"
           }
          ],
          "carpet": [
           {
            "aaxis": {
             "endlinecolor": "#2a3f5f",
             "gridcolor": "#C8D4E3",
             "linecolor": "#C8D4E3",
             "minorgridcolor": "#C8D4E3",
             "startlinecolor": "#2a3f5f"
            },
            "baxis": {
             "endlinecolor": "#2a3f5f",
             "gridcolor": "#C8D4E3",
             "linecolor": "#C8D4E3",
             "minorgridcolor": "#C8D4E3",
             "startlinecolor": "#2a3f5f"
            },
            "type": "carpet"
           }
          ],
          "choropleth": [
           {
            "colorbar": {
             "outlinewidth": 0,
             "ticks": ""
            },
            "type": "choropleth"
           }
          ],
          "contour": [
           {
            "colorbar": {
             "outlinewidth": 0,
             "ticks": ""
            },
            "colorscale": [
             [
              0,
              "#0d0887"
             ],
             [
              0.1111111111111111,
              "#46039f"
             ],
             [
              0.2222222222222222,
              "#7201a8"
             ],
             [
              0.3333333333333333,
              "#9c179e"
             ],
             [
              0.4444444444444444,
              "#bd3786"
             ],
             [
              0.5555555555555556,
              "#d8576b"
             ],
             [
              0.6666666666666666,
              "#ed7953"
             ],
             [
              0.7777777777777778,
              "#fb9f3a"
             ],
             [
              0.8888888888888888,
              "#fdca26"
             ],
             [
              1,
              "#f0f921"
             ]
            ],
            "type": "contour"
           }
          ],
          "contourcarpet": [
           {
            "colorbar": {
             "outlinewidth": 0,
             "ticks": ""
            },
            "type": "contourcarpet"
           }
          ],
          "heatmap": [
           {
            "colorbar": {
             "outlinewidth": 0,
             "ticks": ""
            },
            "colorscale": [
             [
              0,
              "#0d0887"
             ],
             [
              0.1111111111111111,
              "#46039f"
             ],
             [
              0.2222222222222222,
              "#7201a8"
             ],
             [
              0.3333333333333333,
              "#9c179e"
             ],
             [
              0.4444444444444444,
              "#bd3786"
             ],
             [
              0.5555555555555556,
              "#d8576b"
             ],
             [
              0.6666666666666666,
              "#ed7953"
             ],
             [
              0.7777777777777778,
              "#fb9f3a"
             ],
             [
              0.8888888888888888,
              "#fdca26"
             ],
             [
              1,
              "#f0f921"
             ]
            ],
            "type": "heatmap"
           }
          ],
          "histogram": [
           {
            "marker": {
             "pattern": {
              "fillmode": "overlay",
              "size": 10,
              "solidity": 0.2
             }
            },
            "type": "histogram"
           }
          ],
          "histogram2d": [
           {
            "colorbar": {
             "outlinewidth": 0,
             "ticks": ""
            },
            "colorscale": [
             [
              0,
              "#0d0887"
             ],
             [
              0.1111111111111111,
              "#46039f"
             ],
             [
              0.2222222222222222,
              "#7201a8"
             ],
             [
              0.3333333333333333,
              "#9c179e"
             ],
             [
              0.4444444444444444,
              "#bd3786"
             ],
             [
              0.5555555555555556,
              "#d8576b"
             ],
             [
              0.6666666666666666,
              "#ed7953"
             ],
             [
              0.7777777777777778,
              "#fb9f3a"
             ],
             [
              0.8888888888888888,
              "#fdca26"
             ],
             [
              1,
              "#f0f921"
             ]
            ],
            "type": "histogram2d"
           }
          ],
          "histogram2dcontour": [
           {
            "colorbar": {
             "outlinewidth": 0,
             "ticks": ""
            },
            "colorscale": [
             [
              0,
              "#0d0887"
             ],
             [
              0.1111111111111111,
              "#46039f"
             ],
             [
              0.2222222222222222,
              "#7201a8"
             ],
             [
              0.3333333333333333,
              "#9c179e"
             ],
             [
              0.4444444444444444,
              "#bd3786"
             ],
             [
              0.5555555555555556,
              "#d8576b"
             ],
             [
              0.6666666666666666,
              "#ed7953"
             ],
             [
              0.7777777777777778,
              "#fb9f3a"
             ],
             [
              0.8888888888888888,
              "#fdca26"
             ],
             [
              1,
              "#f0f921"
             ]
            ],
            "type": "histogram2dcontour"
           }
          ],
          "mesh3d": [
           {
            "colorbar": {
             "outlinewidth": 0,
             "ticks": ""
            },
            "type": "mesh3d"
           }
          ],
          "parcoords": [
           {
            "line": {
             "colorbar": {
              "outlinewidth": 0,
              "ticks": ""
             }
            },
            "type": "parcoords"
           }
          ],
          "pie": [
           {
            "automargin": true,
            "type": "pie"
           }
          ],
          "scatter": [
           {
            "fillpattern": {
             "fillmode": "overlay",
             "size": 10,
             "solidity": 0.2
            },
            "type": "scatter"
           }
          ],
          "scatter3d": [
           {
            "line": {
             "colorbar": {
              "outlinewidth": 0,
              "ticks": ""
             }
            },
            "marker": {
             "colorbar": {
              "outlinewidth": 0,
              "ticks": ""
             }
            },
            "type": "scatter3d"
           }
          ],
          "scattercarpet": [
           {
            "marker": {
             "colorbar": {
              "outlinewidth": 0,
              "ticks": ""
             }
            },
            "type": "scattercarpet"
           }
          ],
          "scattergeo": [
           {
            "marker": {
             "colorbar": {
              "outlinewidth": 0,
              "ticks": ""
             }
            },
            "type": "scattergeo"
           }
          ],
          "scattergl": [
           {
            "marker": {
             "colorbar": {
              "outlinewidth": 0,
              "ticks": ""
             }
            },
            "type": "scattergl"
           }
          ],
          "scattermap": [
           {
            "marker": {
             "colorbar": {
              "outlinewidth": 0,
              "ticks": ""
             }
            },
            "type": "scattermap"
           }
          ],
          "scattermapbox": [
           {
            "marker": {
             "colorbar": {
              "outlinewidth": 0,
              "ticks": ""
             }
            },
            "type": "scattermapbox"
           }
          ],
          "scatterpolar": [
           {
            "marker": {
             "colorbar": {
              "outlinewidth": 0,
              "ticks": ""
             }
            },
            "type": "scatterpolar"
           }
          ],
          "scatterpolargl": [
           {
            "marker": {
             "colorbar": {
              "outlinewidth": 0,
              "ticks": ""
             }
            },
            "type": "scatterpolargl"
           }
          ],
          "scatterternary": [
           {
            "marker": {
             "colorbar": {
              "outlinewidth": 0,
              "ticks": ""
             }
            },
            "type": "scatterternary"
           }
          ],
          "surface": [
           {
            "colorbar": {
             "outlinewidth": 0,
             "ticks": ""
            },
            "colorscale": [
             [
              0,
              "#0d0887"
             ],
             [
              0.1111111111111111,
              "#46039f"
             ],
             [
              0.2222222222222222,
              "#7201a8"
             ],
             [
              0.3333333333333333,
              "#9c179e"
             ],
             [
              0.4444444444444444,
              "#bd3786"
             ],
             [
              0.5555555555555556,
              "#d8576b"
             ],
             [
              0.6666666666666666,
              "#ed7953"
             ],
             [
              0.7777777777777778,
              "#fb9f3a"
             ],
             [
              0.8888888888888888,
              "#fdca26"
             ],
             [
              1,
              "#f0f921"
             ]
            ],
            "type": "surface"
           }
          ],
          "table": [
           {
            "cells": {
             "fill": {
              "color": "#EBF0F8"
             },
             "line": {
              "color": "white"
             }
            },
            "header": {
             "fill": {
              "color": "#C8D4E3"
             },
             "line": {
              "color": "white"
             }
            },
            "type": "table"
           }
          ]
         },
         "layout": {
          "annotationdefaults": {
           "arrowcolor": "#2a3f5f",
           "arrowhead": 0,
           "arrowwidth": 1
          },
          "autotypenumbers": "strict",
          "coloraxis": {
           "colorbar": {
            "outlinewidth": 0,
            "ticks": ""
           }
          },
          "colorscale": {
           "diverging": [
            [
             0,
             "#8e0152"
            ],
            [
             0.1,
             "#c51b7d"
            ],
            [
             0.2,
             "#de77ae"
            ],
            [
             0.3,
             "#f1b6da"
            ],
            [
             0.4,
             "#fde0ef"
            ],
            [
             0.5,
             "#f7f7f7"
            ],
            [
             0.6,
             "#e6f5d0"
            ],
            [
             0.7,
             "#b8e186"
            ],
            [
             0.8,
             "#7fbc41"
            ],
            [
             0.9,
             "#4d9221"
            ],
            [
             1,
             "#276419"
            ]
           ],
           "sequential": [
            [
             0,
             "#0d0887"
            ],
            [
             0.1111111111111111,
             "#46039f"
            ],
            [
             0.2222222222222222,
             "#7201a8"
            ],
            [
             0.3333333333333333,
             "#9c179e"
            ],
            [
             0.4444444444444444,
             "#bd3786"
            ],
            [
             0.5555555555555556,
             "#d8576b"
            ],
            [
             0.6666666666666666,
             "#ed7953"
            ],
            [
             0.7777777777777778,
             "#fb9f3a"
            ],
            [
             0.8888888888888888,
             "#fdca26"
            ],
            [
             1,
             "#f0f921"
            ]
           ],
           "sequentialminus": [
            [
             0,
             "#0d0887"
            ],
            [
             0.1111111111111111,
             "#46039f"
            ],
            [
             0.2222222222222222,
             "#7201a8"
            ],
            [
             0.3333333333333333,
             "#9c179e"
            ],
            [
             0.4444444444444444,
             "#bd3786"
            ],
            [
             0.5555555555555556,
             "#d8576b"
            ],
            [
             0.6666666666666666,
             "#ed7953"
            ],
            [
             0.7777777777777778,
             "#fb9f3a"
            ],
            [
             0.8888888888888888,
             "#fdca26"
            ],
            [
             1,
             "#f0f921"
            ]
           ]
          },
          "colorway": [
           "#636efa",
           "#EF553B",
           "#00cc96",
           "#ab63fa",
           "#FFA15A",
           "#19d3f3",
           "#FF6692",
           "#B6E880",
           "#FF97FF",
           "#FECB52"
          ],
          "font": {
           "color": "#2a3f5f"
          },
          "geo": {
           "bgcolor": "white",
           "lakecolor": "white",
           "landcolor": "white",
           "showlakes": true,
           "showland": true,
           "subunitcolor": "#C8D4E3"
          },
          "hoverlabel": {
           "align": "left"
          },
          "hovermode": "closest",
          "mapbox": {
           "style": "light"
          },
          "paper_bgcolor": "white",
          "plot_bgcolor": "white",
          "polar": {
           "angularaxis": {
            "gridcolor": "#EBF0F8",
            "linecolor": "#EBF0F8",
            "ticks": ""
           },
           "bgcolor": "white",
           "radialaxis": {
            "gridcolor": "#EBF0F8",
            "linecolor": "#EBF0F8",
            "ticks": ""
           }
          },
          "scene": {
           "xaxis": {
            "backgroundcolor": "white",
            "gridcolor": "#DFE8F3",
            "gridwidth": 2,
            "linecolor": "#EBF0F8",
            "showbackground": true,
            "ticks": "",
            "zerolinecolor": "#EBF0F8"
           },
           "yaxis": {
            "backgroundcolor": "white",
            "gridcolor": "#DFE8F3",
            "gridwidth": 2,
            "linecolor": "#EBF0F8",
            "showbackground": true,
            "ticks": "",
            "zerolinecolor": "#EBF0F8"
           },
           "zaxis": {
            "backgroundcolor": "white",
            "gridcolor": "#DFE8F3",
            "gridwidth": 2,
            "linecolor": "#EBF0F8",
            "showbackground": true,
            "ticks": "",
            "zerolinecolor": "#EBF0F8"
           }
          },
          "shapedefaults": {
           "line": {
            "color": "#2a3f5f"
           }
          },
          "ternary": {
           "aaxis": {
            "gridcolor": "#DFE8F3",
            "linecolor": "#A2B1C6",
            "ticks": ""
           },
           "baxis": {
            "gridcolor": "#DFE8F3",
            "linecolor": "#A2B1C6",
            "ticks": ""
           },
           "bgcolor": "white",
           "caxis": {
            "gridcolor": "#DFE8F3",
            "linecolor": "#A2B1C6",
            "ticks": ""
           }
          },
          "title": {
           "x": 0.05
          },
          "xaxis": {
           "automargin": true,
           "gridcolor": "#EBF0F8",
           "linecolor": "#EBF0F8",
           "ticks": "",
           "title": {
            "standoff": 15
           },
           "zerolinecolor": "#EBF0F8",
           "zerolinewidth": 2
          },
          "yaxis": {
           "automargin": true,
           "gridcolor": "#EBF0F8",
           "linecolor": "#EBF0F8",
           "ticks": "",
           "title": {
            "standoff": 15
           },
           "zerolinecolor": "#EBF0F8",
           "zerolinewidth": 2
          }
         }
        },
        "title": {
         "text": "Volatility vs Return by Regime (2025-01-11 to 2025-04-11)"
        },
        "xaxis": {
         "anchor": "y",
         "domain": [
          0,
          1
         ],
         "rangemode": "tozero",
         "title": {
          "text": "Volatility"
         }
        },
        "yaxis": {
         "anchor": "x",
         "domain": [
          0,
          1
         ],
         "title": {
          "text": "Return (%)"
         }
        }
       }
      }
     },
     "metadata": {},
     "output_type": "display_data"
    }
   ],
   "source": [
    "# Unified function for regime prediction and visualization\n",
    "def analyze_market_regimes(start_date, end_date, title=None):\n",
    "    \"\"\"\n",
    "    Comprehensive function to predict and visualize market regimes for any date range\n",
    "    \n",
    "    Parameters:\n",
    "    -----------\n",
    "    start_date : str\n",
    "        Start date in 'YYYY-MM-DD' format\n",
    "    end_date : str\n",
    "        End date in 'YYYY-MM-DD' format\n",
    "    title : str, optional\n",
    "        Custom title for the plots\n",
    "    \n",
    "    Returns:\n",
    "    --------\n",
    "    DataFrame with prediction results\n",
    "    \"\"\"\n",
    "    # Get predictions\n",
    "    results = predict_regimes(model, df, start_date, end_date)\n",
    "    \n",
    "    if results is None or results.empty:\n",
    "        print(\"No data available for the specified period\")\n",
    "        return None\n",
    "    \n",
    "    # Set plot title\n",
    "    if title is None:\n",
    "        title = f'Market Regimes from {start_date} to {end_date}'\n",
    "    \n",
    "    # Create subplot figures for SPY and VIX\n",
    "    fig = make_subplots(rows=2, cols=1, \n",
    "                       shared_xaxes=True,\n",
    "                       vertical_spacing=0.1,\n",
    "                       subplot_titles=('SPY Close Price by Regime', 'VIX by Regime'))\n",
    "    \n",
    "    # SPY price by regime\n",
    "    for regime in sorted(results['Predicted_Regime'].unique()):\n",
    "        regime_data = results[results['Predicted_Regime'] == regime]\n",
    "        fig.add_trace(\n",
    "            go.Scatter(\n",
    "                x=regime_data['Date'], \n",
    "                y=regime_data['Close'],\n",
    "                mode='markers',\n",
    "                marker=dict(color=regime_colors[regime], size=6),\n",
    "                name=f'Regime {regime}',\n",
    "                showlegend=True\n",
    "            ),\n",
    "            row=1, col=1\n",
    "        )\n",
    "    \n",
    "    # Add a line for the price trend\n",
    "    fig.add_trace(\n",
    "        go.Scatter(\n",
    "            x=results['Date'],\n",
    "            y=results['Close'],\n",
    "            mode='lines',\n",
    "            line=dict(color='rgba(0,0,0,0.3)'),\n",
    "            name='SPY Price',\n",
    "            showlegend=True\n",
    "        ),\n",
    "        row=1, col=1\n",
    "    )\n",
    "    \n",
    "    # VIX by regime\n",
    "    for regime in sorted(results['Predicted_Regime'].unique()):\n",
    "        regime_data = results[results['Predicted_Regime'] == regime]\n",
    "        fig.add_trace(\n",
    "            go.Scatter(\n",
    "                x=regime_data['Date'], \n",
    "                y=regime_data['VIX'],\n",
    "                mode='markers',\n",
    "                marker=dict(color=regime_colors[regime], size=6),\n",
    "                name=f'Regime {regime}',\n",
    "                showlegend=False\n",
    "            ),\n",
    "            row=2, col=1\n",
    "        )\n",
    "    \n",
    "    # Add a line for the VIX trend\n",
    "    fig.add_trace(\n",
    "        go.Scatter(\n",
    "            x=results['Date'],\n",
    "            y=results['VIX'],\n",
    "            mode='lines',\n",
    "            line=dict(color='rgba(0,0,0,0.3)'),\n",
    "            name='VIX',\n",
    "            showlegend=True\n",
    "        ),\n",
    "        row=2, col=1\n",
    "    )\n",
    "    \n",
    "    fig.update_layout(\n",
    "        height=800,\n",
    "        title_text=title,\n",
    "        template='plotly_white',\n",
    "        legend_title='Regime',\n",
    "        hovermode='closest'\n",
    "    )\n",
    "    \n",
    "    fig.update_xaxes(title_text=\"Date\", row=2, col=1)\n",
    "    fig.update_yaxes(title_text=\"SPY Price\", row=1, col=1)\n",
    "    fig.update_yaxes(title_text=\"VIX\", row=2, col=1)\n",
    "    \n",
    "    fig.show()\n",
    "    \n",
    "    # Distribution of regimes pie chart\n",
    "    regime_percentages = results['Predicted_Regime'].value_counts(normalize=True) * 100\n",
    "    labels = [f\"Regime {i}\" for i in sorted(regime_percentages.index)]\n",
    "    \n",
    "    fig_pie = px.pie(\n",
    "        values=regime_percentages.values,\n",
    "        names=labels,\n",
    "        title=f'Percentage of Time in Each Regime ({start_date} to {end_date})',\n",
    "        color_discrete_sequence=[regime_colors[i] for i in sorted(regime_percentages.index)]\n",
    "    )\n",
    "    \n",
    "    fig_pie.update_traces(textinfo='percent+label', textposition='inside')\n",
    "    fig_pie.update_layout(uniformtext_minsize=12, uniformtext_mode='hide')\n",
    "    fig_pie.show()\n",
    "    \n",
    "    # Scatter plot of Volatility vs Return colored by regime\n",
    "    fig_scatter = px.scatter(\n",
    "        results,\n",
    "        x='Volatility',\n",
    "        y='Return',\n",
    "        color='Predicted_Regime',\n",
    "        color_discrete_sequence=regime_colors,\n",
    "        size='VIX',  # Use VIX for point size\n",
    "        title=f'Volatility vs Return by Regime ({start_date} to {end_date})',\n",
    "        labels={'Volatility': 'Volatility', 'Return': 'Return (%)', 'VIX': 'VIX'},\n",
    "        opacity=0.8\n",
    "    )\n",
    "    \n",
    "    fig_scatter.update_layout(\n",
    "        legend_title='Regime',\n",
    "        hovermode='closest',\n",
    "        template='plotly_white'\n",
    "    )\n",
    "    \n",
    "    fig_scatter.update_xaxes(rangemode='tozero')\n",
    "    fig_scatter.show()\n",
    "    \n",
    "    return results\n",
    "\n",
    "# Example: Analyze the most recent 3 months\n",
    "from datetime import datetime, timedelta\n",
    "\n",
    "today = datetime.today()\n",
    "three_months_ago = today - timedelta(days=90)\n",
    "\n",
    "start_date = three_months_ago.strftime('%Y-%m-%d')\n",
    "end_date = today.strftime('%Y-%m-%d')\n",
    "\n",
    "recent_results = analyze_market_regimes(\n",
    "    start_date, \n",
    "    end_date, \n",
    "    title=f'Market Regimes in Recent 3 Months ({start_date} to {end_date})'\n",
    ")"
   ]
  },
  {
   "cell_type": "code",
   "execution_count": 18,
   "metadata": {},
   "outputs": [
    {
     "name": "stdout",
     "output_type": "stream",
     "text": [
      "HMM Market Regime Summary\n"
     ]
    },
    {
     "data": {
      "application/vnd.microsoft.datawrangler.viewer.v0+json": {
       "columns": [
        {
         "name": "index",
         "rawType": "int64",
         "type": "integer"
        },
        {
         "name": "Regime",
         "rawType": "int64",
         "type": "integer"
        },
        {
         "name": "Average_Volatility",
         "rawType": "float64",
         "type": "float"
        },
        {
         "name": "Average_Return",
         "rawType": "float64",
         "type": "float"
        },
        {
         "name": "Average_VIX",
         "rawType": "float64",
         "type": "float"
        },
        {
         "name": "Occurrence_Count",
         "rawType": "int64",
         "type": "integer"
        },
        {
         "name": "Occurrence_Percentage",
         "rawType": "float64",
         "type": "float"
        }
       ],
       "conversionMethod": "pd.DataFrame",
       "ref": "14df4959-ea54-4a91-814c-62ef3f3f9928",
       "rows": [
        [
         "0",
         "0",
         "5.6754676243914455",
         "0.11162426610534731",
         "16.235807634017323",
         "811",
         "46.05337876206701"
        ],
        [
         "1",
         "1",
         "98.65625964090896",
         "-0.18338651079836335",
         "30.90211058381814",
         "199",
         "11.30039750141965"
        ],
        [
         "2",
         "2",
         "27.161722626538232",
         "0.06561055606689782",
         "20.870559266975494",
         "751",
         "42.64622373651334"
        ]
       ],
       "shape": {
        "columns": 6,
        "rows": 3
       }
      },
      "text/html": [
       "<div>\n",
       "<style scoped>\n",
       "    .dataframe tbody tr th:only-of-type {\n",
       "        vertical-align: middle;\n",
       "    }\n",
       "\n",
       "    .dataframe tbody tr th {\n",
       "        vertical-align: top;\n",
       "    }\n",
       "\n",
       "    .dataframe thead th {\n",
       "        text-align: right;\n",
       "    }\n",
       "</style>\n",
       "<table border=\"1\" class=\"dataframe\">\n",
       "  <thead>\n",
       "    <tr style=\"text-align: right;\">\n",
       "      <th></th>\n",
       "      <th>Regime</th>\n",
       "      <th>Average_Volatility</th>\n",
       "      <th>Average_Return</th>\n",
       "      <th>Average_VIX</th>\n",
       "      <th>Occurrence_Count</th>\n",
       "      <th>Occurrence_Percentage</th>\n",
       "    </tr>\n",
       "  </thead>\n",
       "  <tbody>\n",
       "    <tr>\n",
       "      <th>0</th>\n",
       "      <td>0</td>\n",
       "      <td>5.675468</td>\n",
       "      <td>0.111624</td>\n",
       "      <td>16.235808</td>\n",
       "      <td>811</td>\n",
       "      <td>46.053379</td>\n",
       "    </tr>\n",
       "    <tr>\n",
       "      <th>1</th>\n",
       "      <td>1</td>\n",
       "      <td>98.656260</td>\n",
       "      <td>-0.183387</td>\n",
       "      <td>30.902111</td>\n",
       "      <td>199</td>\n",
       "      <td>11.300398</td>\n",
       "    </tr>\n",
       "    <tr>\n",
       "      <th>2</th>\n",
       "      <td>2</td>\n",
       "      <td>27.161723</td>\n",
       "      <td>0.065611</td>\n",
       "      <td>20.870559</td>\n",
       "      <td>751</td>\n",
       "      <td>42.646224</td>\n",
       "    </tr>\n",
       "  </tbody>\n",
       "</table>\n",
       "</div>"
      ],
      "text/plain": [
       "   Regime  Average_Volatility  Average_Return  Average_VIX  Occurrence_Count  \\\n",
       "0       0            5.675468        0.111624    16.235808               811   \n",
       "1       1           98.656260       -0.183387    30.902111               199   \n",
       "2       2           27.161723        0.065611    20.870559               751   \n",
       "\n",
       "   Occurrence_Percentage  \n",
       "0              46.053379  \n",
       "1              11.300398  \n",
       "2              42.646224  "
      ]
     },
     "metadata": {},
     "output_type": "display_data"
    },
    {
     "name": "stdout",
     "output_type": "stream",
     "text": [
      "\n",
      "Market Regime Interpretation:\n",
      "Regime 0: Stable Growth (Low Volatility, Positive Returns)\n",
      "Regime 1: Crisis Regime (High VIX, Negative Returns)\n",
      "Regime 2: Volatile Growth (High Volatility, Positive Returns)\n"
     ]
    },
    {
     "data": {
      "application/vnd.plotly.v1+json": {
       "config": {
        "plotlyServerURL": "https://plot.ly"
       },
       "data": [
        {
         "hoverinfo": "text",
         "hovertext": "Regime 0",
         "marker": {
          "color": "rgb(102,194,165)",
          "size": 30
         },
         "mode": "markers+text",
         "name": "Regime 0",
         "text": [
          "0"
         ],
         "textfont": {
          "color": "white",
          "size": 14
         },
         "textposition": "middle center",
         "type": "scatter",
         "x": [
          1
         ],
         "xaxis": "x",
         "y": [
          0
         ],
         "yaxis": "y"
        },
        {
         "hoverinfo": "text",
         "hovertext": "Regime 1",
         "marker": {
          "color": "rgb(252,141,98)",
          "size": 30
         },
         "mode": "markers+text",
         "name": "Regime 1",
         "text": [
          "1"
         ],
         "textfont": {
          "color": "white",
          "size": 14
         },
         "textposition": "middle center",
         "type": "scatter",
         "x": [
          -0.49999999999999983
         ],
         "xaxis": "x",
         "y": [
          0.8660254037844387
         ],
         "yaxis": "y"
        },
        {
         "hoverinfo": "text",
         "hovertext": "Regime 2",
         "marker": {
          "color": "rgb(141,160,203)",
          "size": 30
         },
         "mode": "markers+text",
         "name": "Regime 2",
         "text": [
          "2"
         ],
         "textfont": {
          "color": "white",
          "size": 14
         },
         "textposition": "middle center",
         "type": "scatter",
         "x": [
          -0.5000000000000004
         ],
         "xaxis": "x",
         "y": [
          -0.8660254037844384
         ],
         "yaxis": "y"
        },
        {
         "hoverinfo": "text",
         "hovertext": "P(0->0) = 0.94",
         "line": {
          "color": "rgba(150,150,150,0.8)",
          "width": 9.42028576755083
         },
         "mode": "lines",
         "showlegend": false,
         "type": "scatter",
         "x": [
          1,
          null,
          1
         ],
         "xaxis": "x",
         "y": [
          0,
          null,
          0
         ],
         "yaxis": "y"
        },
        {
         "hoverinfo": "text",
         "hovertext": "P(1->1) = 0.86",
         "line": {
          "color": "rgba(150,150,150,0.8)",
          "width": 8.623514506658289
         },
         "mode": "lines",
         "showlegend": false,
         "type": "scatter",
         "x": [
          -0.49999999999999983,
          null,
          -0.49999999999999983
         ],
         "xaxis": "x",
         "y": [
          0.8660254037844387,
          null,
          0.8660254037844387
         ],
         "yaxis": "y"
        },
        {
         "hoverinfo": "text",
         "hovertext": "P(1->2) = 0.14",
         "line": {
          "color": "rgba(150,150,150,0.8)",
          "width": 1.3764854933417103
         },
         "mode": "lines",
         "showlegend": false,
         "type": "scatter",
         "x": [
          -0.49999999999999983,
          null,
          -0.5000000000000004
         ],
         "xaxis": "x",
         "y": [
          0.8660254037844387,
          null,
          -0.8660254037844384
         ],
         "yaxis": "y"
        },
        {
         "hoverinfo": "text",
         "hovertext": "P(2->0) = 0.06",
         "line": {
          "color": "rgba(150,150,150,0.8)",
          "width": 0.5938100176010461
         },
         "mode": "lines",
         "showlegend": false,
         "type": "scatter",
         "x": [
          -0.5000000000000004,
          null,
          1
         ],
         "xaxis": "x",
         "y": [
          -0.8660254037844384,
          null,
          0
         ],
         "yaxis": "y"
        },
        {
         "hoverinfo": "text",
         "hovertext": "P(2->2) = 0.92",
         "line": {
          "color": "rgba(150,150,150,0.8)",
          "width": 9.179752192772964
         },
         "mode": "lines",
         "showlegend": false,
         "type": "scatter",
         "x": [
          -0.5000000000000004,
          null,
          -0.5000000000000004
         ],
         "xaxis": "x",
         "y": [
          -0.8660254037844384,
          null,
          -0.8660254037844384
         ],
         "yaxis": "y"
        },
        {
         "domain": {
          "x": [
           0.525,
           1
          ],
          "y": [
           0.7333333333333334,
           1
          ]
         },
         "labels": [
          "Regime 0",
          "Regime 1",
          "Regime 2"
         ],
         "marker": {
          "colors": [
           "rgb(102,194,165)",
           "rgb(252,141,98)",
           "rgb(141,160,203)"
          ]
         },
         "textinfo": "percent",
         "type": "pie",
         "values": [
          46.05337876206701,
          11.30039750141965,
          42.64622373651334
         ]
        },
        {
         "boxmean": true,
         "marker": {
          "color": "rgb(102,194,165)"
         },
         "name": "Regime 0",
         "type": "box",
         "xaxis": "x2",
         "y": [
          0.7157334049942375,
          0.632508221223041,
          0.42147000886234653,
          0.666439322526241,
          0.18285065353640712,
          0.22636127750455962,
          -0.1529931748037859,
          0.7296162457023928,
          0.6518604005452302,
          -0.3418213057677489,
          0.9531681064717495,
          -0.16807545845755045,
          0.4549527458621583,
          0.8130961387285385,
          0.21226317140907422,
          -0.03881242099116093,
          0.04234405708482472,
          1.1577552991612516,
          -0.6629303383377119,
          -1.0257196037283898,
          0.04965037304694034,
          -0.1134910493708561,
          1.5939364720012383,
          1.1611889572652814,
          -1.2486018798259624,
          -1.0130726506109127,
          -1.4540272485148038,
          0.5154996269199983,
          1.1558143155284604,
          0.25349166571214776,
          -0.036662599255806394,
          0.4839265046478107,
          1.7402160837922023,
          -0.12547991488557733,
          -0.6462617624446944,
          -0.5131713420337072,
          -0.10897737891348731,
          0.10841691054498585,
          -1.353018377605694,
          0.17004511121409735,
          -0.1919029771612901,
          1.0699141696198111,
          0.7892127537361364,
          -2.228601614856059,
          0.49286375248476083,
          1.5900414429696246,
          -0.5242335443281656,
          0.8226844685847837,
          -0.29327550121479673,
          0.8221510192818381,
          1.0698480853140198,
          0.07403782108171039,
          -0.5547591971191691,
          -0.8479517071313463,
          -0.015008960874699702,
          -1.3467249072734135,
          0.24719076032759352,
          1.0165332267549478,
          0.09388604774867719,
          -0.7690397227996092,
          0.17767147937435424,
          -0.6717044662700131,
          -0.22039753930493047,
          1.2946501846282554,
          0.33833502997122655,
          0,
          0.9665376248576876,
          0.9351207705966773,
          0.3050787210039658,
          0.04764478948073123,
          -0.6886787290558911,
          0.420500754643222,
          -0.08447915609135663,
          -0.25001165771297823,
          0.7518770973952708,
          -0.27801225267235286,
          0.27508634961015244,
          -0.20482451089545495,
          -0.23826130946473248,
          -1.1501041911044259,
          1.3344660967989872,
          -0.6125881437332439,
          0.9817666595404531,
          0.47513548714693277,
          0.07274445309572547,
          0.836052389563292,
          -0.010831177816123156,
          0.29566163723477895,
          0.13301083447653103,
          0.12926739284711847,
          -0.3191003690500796,
          0.2517699388633279,
          -0.12759610421832734,
          -0.20570365084578707,
          -0.38326852732376016,
          0.17061722003859708,
          -0.6268854444214124,
          0.18229571257414673,
          -1.3612535325270858,
          0.22138776931346776,
          -0.8283983828626339,
          0.5717001756359452,
          0.14399629494371113,
          0.21379190190656694,
          -0.35311745903463015,
          0.8157772220650693,
          0.8458658021117086,
          0.9004153128606914,
          0.359844726337049,
          -0.7314777214944277,
          0.9066100547948704,
          0.07879175591978425,
          -0.08942801810443238,
          0.4045263142268419,
          0.21033753988214748,
          -0.37717434880645506,
          -0.11427385933420228,
          0.18595076099685068,
          0.5031870962451389,
          0.8522716471488442,
          -0.2359183380865069,
          -0.6776146113458446,
          -0.5223597347528321,
          0.4929640481003434,
          -0.16708147067215165,
          0.5447556003309463,
          0.428485392576262,
          0.36671895035981544,
          0.33024724031205205,
          -0.04201462632691236,
          -0.13663469752114293,
          -0.6700206550006791,
          -0.37434710128726645,
          0.6380963466021612,
          -0.7467904026029373,
          0.8091521441615058,
          0.3520413654736931,
          0.21402164302658966,
          0.2345295677878618,
          -0.059388463823546345,
          -0.13274432985968249,
          0.6018304437099073,
          0.789490670934661,
          0.04833791923849186,
          0.5380959934551995,
          -0.40485499478975717,
          0.003465758887622534,
          -0.1722399055660266,
          -0.26912078803858613,
          -0.3010582786498994,
          -0.19433252057713044,
          0.17385113473616584,
          0.3297792866706025,
          0.02420059257349901,
          0.591430830678927,
          0.017192032667433275,
          -0.5294025539393487,
          0.5425814292116669,
          0.10660569749266298,
          0.8104096213645424,
          -0.09141851525957487,
          -0.3321936508436833,
          -0.09277218736563497,
          -0.29922053231717916,
          0.27944607577867875,
          0.010313252832536054,
          0.34740206155329506,
          -0.05826049901051101,
          0.054870837090132664,
          -0.7815966149990599,
          -0.5596834114980659,
          0,
          -0.14591936015559717,
          -0.18710480208968455,
          -0.683680404472143,
          1.0436754919470206,
          0.2600550090147983,
          0.7586528126535331,
          1.330993998530336,
          -1.3510516782253796,
          0.20926495420877364,
          0.05310895221407563,
          0.8461585247977528,
          -0.760013917967278,
          -0.13268867482040603,
          1.5830899359269897,
          0.8782025041714399,
          0.04817458154291015,
          0.7035670329124152,
          0.41915258456604865,
          -0.1318338498083251,
          -0.9532627963308655,
          0.12217028623873548,
          0.05544157331928855,
          1.285942002520246,
          0.32470329778225065,
          -0.22185232562342982,
          1.089726413143635,
          0.17306638535217636,
          0.20155286634098005,
          -0.3555816121000696,
          0.6200077474442316,
          0.13611570407292606,
          -0.07153676287362358,
          -0.042966032866997815,
          -0.18626416545665445,
          0.6244051818169967,
          -0.36375763726686317,
          -0.136007112439931,
          -0.6056978459039574,
          -0.836562533490613,
          -0.1999645502375611,
          1.4501075061634334,
          0.3770670227737753,
          0.6619548104745718,
          -0.06397137143619674,
          0.49403153905002845,
          0.3626121792734803,
          0.024770117178788048,
          -0.30097490393282417,
          1.1294608767814036,
          -1.9246296508903245,
          -0.07518993584687687,
          0.745407400036705,
          -0.52290583596487,
          0.37902290024588914,
          0.6305823239840107,
          1.185915281873637,
          0.0489687617031708,
          0.15735183249004384,
          0.26534135145760585,
          0.4840618792144027,
          0.07620863105110574,
          -0.5124682396570417,
          0.34107384520367384,
          -0.027766614978938616,
          0.6766244407801959,
          -0.06551781176049337,
          0.06556076573957938,
          -0.24469909998426695,
          0.19690829560520864,
          0.08619822519886856,
          0.8991787413136101,
          -0.22194514656807823,
          -0.061580991381755726,
          0.46565704732329766,
          0.1568092328984104,
          0.05102539154323374,
          -0.7516853599801334,
          -0.21587243142165102,
          0.9787956743612793,
          -0.41151227400343027,
          -1.6699850492633121,
          -0.1389135914886519,
          -0.3025823991303668,
          0.5023255031404544,
          0.585750184631323,
          0.9261522120732885,
          -0.6465192328848774,
          -0.661225101970751,
          0.901593429205583,
          -0.30714323706807617,
          -1.2218632626179917,
          0.22682054739881097,
          -0.9300721655602007,
          -0.671026681283338,
          0.2730945727245569,
          -1.347523974810417,
          -0.25428529242656533,
          2.1706495840816267,
          0.8662309613738728,
          0.650271142600862,
          1.0007104334937935,
          0.038025006188905544,
          1.047072666593053,
          0.2257344358700919,
          0.9554305734812043,
          -0.14535614292720103,
          -0.12245148762515537,
          -0.9808015700634575,
          -0.09975436261983248,
          0.3546296234672209,
          0.5145655013343233,
          0.9078413352030508,
          0.26041555106974423,
          0.7995355729069804,
          -0.11379145521099833,
          -0.549503687777823,
          0.12467941624026035,
          0.4777856210540152,
          0.23445846234315815,
          0.4476751981191874,
          0.03329213297917806,
          -0.3225480408619959,
          -0.6805167150542225,
          0.3661096882716609,
          -0.5554932181486772,
          0.24563292145141466,
          0.715009538868357,
          0.46995250150307477,
          -0.47772790595510695,
          0.6700407948496141,
          -0.1821110668920734,
          -0.2454874827698259,
          -1.0940397350993378,
          -0.8708088255976354,
          -0.7529531408902448,
          0.2641819955896094,
          1.4754719345114207,
          1.2047718691243903,
          -0.7662251615609503,
          0.8135509558586045,
          -0.030795065449771505,
          -2.568737073802439,
          1.1058356802084128,
          -0.39232129353650697,
          0.7041239737818912,
          1.2772683613456286,
          -0.04439492687994915,
          -0.5847415351465496,
          1.1350334014419867,
          1.2855490139578687,
          0.07722229826318099,
          0.0503458734667965,
          -0.02349484080345202,
          0.7111151458492625,
          0.34638636638892184,
          -0.06639856485287883,
          -0.30884444862647853,
          0.2531910950378832,
          0.059801166383038486,
          -0.006641832853626956,
          -0.47249816258094857,
          -0.023491802895765135,
          -0.784668174856574,
          0.591507031497926,
          -0.20829433968910688,
          -0.5387523439435715,
          0.4637580043771226,
          -1.189465633715553,
          -1.7664613782874643,
          0.8192844020149883,
          1.3532125446080445,
          -0.4314737318949824,
          -1.5524745804079156,
          0.9496235209134158,
          0.6763576560330959,
          1.0367076349604303,
          -0.11136505903076005,
          0.9899951177923678,
          -0.16059359352892294,
          0.29491926105741534,
          -0.437735685069761,
          0.6779403600434961,
          -0.32664551479819753,
          0.29091104377901633,
          0.16343248037997055,
          0.4094830133363643,
          0.563658146762769,
          -0.029655387118207404,
          0.30670862472749927,
          -0.2663467654674699,
          0.9263795420571063,
          0.40177621217789516,
          -0.11059600626012686,
          0.02280069716103225,
          0.3516773004251307,
          0.24659898274959052,
          -0.1909861291276292,
          0.21081599119937652,
          0.03235095796630261,
          0.14560199852025865,
          0.7236182240239021,
          0.07376373386657746,
          -0.028837246493807648,
          -0.3718971872596203,
          -0.16088692574337074,
          0.22238601794293844,
          0.775039546317898,
          0.22654905483687737,
          0.4457781167945004,
          -0.3708672593882315,
          -0.8494934516475806,
          -0.670634067674071,
          0.6170165287289747,
          0.17978986380582268,
          0.9134027695665822,
          -0.3144122932582961,
          -0.11150495646877787,
          0.2838407592282638,
          0.8619328805804467,
          0.0599151082321915,
          0.686995772068299,
          0.02190040931646943,
          0.006260339162958393,
          0.4098863980481422,
          0.438444308981083,
          0.15278099602874406,
          0.003114271885802631,
          0.5322977965208397,
          -0.02476104112919344,
          -0.55132015069322,
          0.2429471847195506,
          0.9351420782033784,
          -0.7571887299032282,
          0.38151875122114265,
          -0.2811980085896734,
          0.5329337617399901,
          0.6781055619838385,
          -0.28779436155922805,
          0.6877372180498381,
          -0.152447679730811,
          0.2260009249754565,
          0.8318381057884721,
          0.31124774959706003,
          -0.1958445663899255,
          0.012098006609258602,
          0.11463816240157236,
          -0.8892522764527844,
          -1.6029390395721748,
          1.0478890511479302,
          -0.08260666602162296,
          0.3245540591040557,
          -1.81581645746069,
          0.7428644844669685,
          1.5241355587116823,
          1.1548164844211295,
          0.3364622210513745,
          -0.2576981087828104,
          0.4781364776383984,
          -0.4108237884938113,
          -1.0298216365229924,
          1.2959027621942194,
          0.9187343962857972,
          -0.32934451840941126,
          0.2899296288297686,
          0.8081376693362841,
          0.21277556183449067,
          0.569182997325768,
          -1.1931693891825335,
          -0.644040164631439,
          0.7292290652038023,
          -0.6342307898013918,
          1.2298858340350594,
          -0.3567787510391724,
          0.790193036242298,
          0.6952457214435386,
          0.3862212663513406,
          0.6211269292953895,
          -0.18079554105455253,
          0.002988156036075193,
          0.3176373162193427,
          0.21606495449067825,
          -0.4163855717463442,
          0.3113492167624294,
          0.35473290846401356,
          1.0133173822897403,
          0.34992353999120046,
          1.0025695979873968,
          0.4005511349123297,
          -0.18928211471222225,
          0.5484956540864807,
          0.339537166328159,
          -1.8479899039844978,
          -0.34474973996079894,
          0.4210229745566405,
          -0.6847986614608322,
          0.5994591741124651,
          1.611361763540922,
          -0.1541657597345811,
          0.2784904578650579,
          -0.4427094264395753,
          1.0937291269207279,
          0.21037856937948726,
          -0.027260384591493554,
          0.8617411566880537,
          -0.20547188129449045,
          0.2925986819478783,
          -0.8968829882570424,
          -0.03270356639223235,
          -0.11725126330670041,
          -0.4477412343739518,
          1.351951541532514,
          0.15693355704437925,
          0.559213164155209,
          -0.39930772786846513,
          -0.3575405438528169,
          -0.1685176115309147,
          0.08985067719399009,
          0.38904162106965196,
          0.8590795607503519,
          -0.19078415352463884,
          0.1426810709430213,
          0.5080949562621176,
          -1.3614113719471812,
          0.6887254374235697,
          0.5978765867513691,
          1.485721405198845,
          0.5697808164416137,
          -0.6740963077547427,
          0.021139472333095093,
          0.26929589545377497,
          -0.35019749117721977,
          -0.7292582267953093,
          0.7851932328455077,
          1.3838655949279088,
          0.09115431656677571,
          -0.35393561797997325,
          0.3943849390341712,
          -0.15607694185988472,
          -0.08659709568314591,
          0.022967170000183407,
          -0.4256127894128148,
          -0.1766001118992724,
          -0.7691665292111355,
          0.121449061568804,
          1.101928005998594,
          0.7985013998574222,
          -0.7870824119793396,
          -0.5083682750992685,
          0.5625584522190024,
          1.6115366547371872,
          -0.05052293645865787,
          -0.26531215581043005,
          0.40534896961732286,
          0.33423689463257245,
          -0.49130834809219687,
          -0.7321673760171887,
          0.9462052018948871,
          -0.913282708934344,
          1.0842446801708565,
          0.20875263440708514,
          -0.02156665170615576,
          -0.028735947897099615,
          0.6372793645997666,
          -0.6570456547408385,
          0.21565643417218563,
          -0.6169187479293201,
          0.03127680806804851,
          0.7985524546754348,
          0.7278132248232596,
          -0.9902368375236044,
          -0.8924852335224026,
          -0.08185768959374301,
          1.019423242899764,
          -0.22186161532025817,
          0.19843409232256018,
          0.052518550888841595,
          0.1788530292528791,
          -0.08809016914020026,
          0.1572765175505876,
          -0.3711237173332891,
          0.9145914130495573,
          -0.09703530911104527,
          0.021332693454551188,
          -0.14921285533199766,
          0.4648331631861512,
          0.16525463054227388,
          0.22390956763831438,
          -0.1834220247874212,
          -0.5583396264438036,
          -0.03315306545319712,
          -1.3490622234175167,
          1.4316185624308462,
          0.534619926225235,
          -0.1205360050993602,
          0.5915670175310808,
          0.35521910846570826,
          0.20158242353427244,
          0.05379681450847812,
          0.08417512853438988,
          0.5536548940658492,
          0.7643662692292214,
          -0.18216798311208215,
          0.35342075276485785,
          -0.8148023199643429,
          1.067486610837236,
          0.3581872301609499,
          -0.34090804448247375,
          0.14924535737166728,
          -0.34156443389843216,
          -0.7843594413942319,
          -1.4767914378464309,
          1.4330398825237038,
          0.8096285955429793,
          0.20941390411403998,
          -0.20978438174736364,
          0.8135436077901866,
          -0.49188594744939634,
          0.6332855216383066,
          0.1652443427446538,
          -0.08136888338053291,
          0.12438850813317319,
          0.24850431894905622,
          0.2996934427393976,
          0.1819842731212332,
          0.23546310138170748,
          -0.6555277071161247,
          -1.0945005511406374,
          0.1548364411328992,
          0.7957148231276747,
          0.8796333718318182,
          0.15874886514107164,
          0.20983222047671513,
          -0.5902994727271071,
          0.8940910234534024,
          0.4397585557972318,
          -0.14815397076565015,
          0.05315158827270887,
          0.30764364792516036,
          -0.02427056680086291,
          -0.3575447659393323,
          -0.12183211189782364,
          -0.42802508909691417,
          -0.7884516196028776,
          0.2559062759347985,
          -0.5396422751050101,
          0.8352732329804978,
          -0.15851471090422187,
          -0.9741137139977308,
          -0.7239781192446192,
          -0.24614277743062116,
          0.3597625259409255,
          1.6820582202017949,
          0.2029190908445996,
          0.1720229129991357,
          0.4043208018210623,
          0.6105290587080578,
          0.03234401179559526,
          0.7546756658033774,
          0.03424819376152597,
          0.3957862089792382,
          -0.24292359691070234,
          0.3396514630243378,
          -0.17884425640310814,
          -0.28149951817062824,
          0.13258710214087496,
          0.26698938109481274,
          0.6301645655910207,
          -0.022376446150508787,
          -1.5956923873428162,
          -0.1717728129852548,
          -0.26341489520450606,
          -0.42098696647263556,
          0.7720200042711394,
          -1.1413383608230436,
          2.293201885538511,
          -0.056672538562345505,
          1.1738894576564525,
          -0.046001828180046,
          0.32473139012645724,
          -1.376882391951411,
          -0.24982454928592482,
          -0.40760679294148855,
          1.328282444871388,
          -0.2442796484053462,
          0.3588257691998658,
          0.06522331087644724,
          -0.01689508079133773,
          -0.5457003611403806,
          0.07768352227823352,
          0.1043140484187872,
          -1.5873801047721932,
          -0.4235523750071902,
          1.9907980188555476,
          0.8535270779258841,
          -0.1009889636558834,
          0.46722450894540835,
          -0.17439058037212488,
          -0.13101952238051107,
          0.3449963831331513,
          -0.6682698340724013,
          1.2139038708275136,
          0.9633193815612953,
          -0.14551580667974168,
          0.0406093682112532,
          -1.1222712010410105,
          -0.7244880582964385,
          0.8659921663799577,
          1.2950795611849364,
          0.03807781175825807,
          -0.5545036717931636,
          0.9500907290536993,
          -0.756009092947956,
          -0.40855876533050794,
          1.096324669650921,
          0.05044037028660415,
          0.39413560352081395,
          1.1800678296936513,
          0.6368499038526098,
          0.8045886936103098,
          0.7936984293347724,
          -0.0622860220827712,
          0.2730152765310437,
          0.015370466304007796,
          -0.6630160847337326,
          0.9790501763560557,
          0.1903975637862603,
          -0.28616584845533355,
          -1.391071086415022,
          -0.28658729541871153,
          0.5520064099809757,
          -1.1648801174855543,
          -0.7338264489833227,
          0.15060854334124574,
          0.6576620666734911,
          -0.5485528210999364,
          0.1165899614544314,
          0.8622409084965733,
          -1.2048248761451708,
          0.05863694791877799,
          -0.20738242417816924,
          -0.9193330931015389,
          0.7281960560784649,
          -0.03767636239265718,
          1.1872820601866958,
          0.6402145619191726,
          0.520484964131736,
          0.09901034177265908,
          -0.07033892895022364,
          0.3937438919370385,
          0.5915902250798245,
          -0.5249334934174146,
          -0.01971850992134816,
          -0.40296958108002257,
          0.7630313746043582,
          0.42992423187445716,
          0.3889543301302636,
          0.4567248396904976,
          0.18080436433317798,
          0.03777417342158151,
          -0.28950131424777786,
          -0.5596291367714044,
          -0.8166717850222441,
          -0.32210248951245773,
          0.13696405284089613,
          1.427595398514246,
          -0.15170476465576854,
          0.5655309772203096,
          -0.04406091061470467,
          0.06927374316219538,
          -0.3671230057831889,
          -0.5558600003590236,
          0.8892705746837158,
          1.2466196354320245,
          0.21142909837869656,
          0.6899638089081498,
          -0.4979924123146701,
          -0.550540094579392,
          0.09059209007984162,
          0.5067245002622317,
          0.9926545135106765,
          -0.600227813409797,
          -0.08598679403269946,
          1.0757387142603336,
          -0.1567558063088543,
          -0.1976673949560746,
          -0.6866679779082878,
          0.5943203488522234,
          0.5557124377357526,
          0.9249443109692258,
          -0.1740075601410306,
          -0.6357818970255403,
          0.1098424166380048,
          -1.220602535051802,
          1.0446786607304743,
          0.055936370247621714,
          0.11568298001644443,
          -1.0013261747036994,
          0.7547057068543773,
          0.6616500353154238,
          0.06988639083374487,
          -0.7002658634916739,
          -0.6633656409941896,
          0.9108163342788675,
          0.08152988317527249,
          0.11178389649033697,
          1.188522873792368,
          -0.0018728451442616776,
          0.3851024836005351,
          0.12480284689814149,
          0.15765012537578568,
          -0.39350495238866356,
          0.20580003319428417,
          0.6729729803014883,
          0.44626679560688975,
          0.5766364101352863,
          -0.5805176690333926,
          0.00893904662750187,
          0.9546048472447962,
          0.04219430705248784,
          -0.18281887024179364,
          0.9087478910982386,
          -0.9040588309326797,
          0.9457559870798031,
          0.6926513350950131,
          -0.17500225364758315,
          -0.05311772749163925,
          -0.9137376982166777,
          0.21627645297690173,
          -0.03452785648288607,
          0.30912893023950516,
          0.16184515319028694,
          -0.30253643233801303,
          -0.5149573711990111,
          -0.3109130300870601,
          0.7730578659771491,
          -0.5152540727580492,
          -0.019860682495989747,
          0.42699800133786336,
          -0.41200245136397107
         ],
         "yaxis": "y2"
        },
        {
         "boxmean": true,
         "marker": {
          "color": "rgb(252,141,98)"
         },
         "name": "Regime 1",
         "type": "box",
         "xaxis": "x2",
         "y": [
          -2.1769861860336635,
          -4.182249534419597,
          1.9702143300594597,
          -0.5424890875831825,
          -3.750888861639181,
          1.5021442523916892,
          1.468456702415733,
          -2.4997184539663397,
          -2.131469219308803,
          2.7359114861272356,
          -3.166310243786657,
          -2.202640199141114,
          1.3888440807828921,
          -0.5617286584677985,
          -2.0489621611224793,
          -2.6423080253161,
          5.052510101574894,
          0.7677217822121097,
          -3.007267948639237,
          1.4022427616633566,
          -3.316538199219602,
          -3.0302133538567655,
          -0.36783150691802646,
          -4.491174979268663,
          -0.42016368428353446,
          4.330660838470375,
          -2.863235880813865,
          4.203261095109611,
          -3.3241133743646305,
          -1.653138208584875,
          -7.809441676142528,
          5.174482685969691,
          -4.87483636533468,
          -9.56772043337342,
          8.548627251561665,
          -10.94238168358912,
          5.39922584151245,
          -5.063311720961406,
          0.21250225863179087,
          -4.309415161634212,
          -2.5568042235305435,
          9.060311710379185,
          1.4970264787558185,
          5.838958285745255,
          -2.978550715313344,
          3.2475737922614036,
          -1.4905430365347783,
          -4.500488069935701,
          2.3075416300362175,
          -1.4454012808852805,
          6.716594322040651,
          0.10196431249062828,
          3.3568329570306856,
          1.5217442209419032,
          -0.9130452120725037,
          2.949312695443359,
          -2.1248331064907813,
          0.48246892117401513,
          2.7015139810307547,
          -5.764887758225533,
          1.1975515704379898,
          0.9335733036898518,
          1.924778623894616,
          -3.4178698656937527,
          1.0163145998809904,
          -1.0424768274094627,
          1.1208500394967342,
          1.7655726154281688,
          2.234939035493857,
          1.9502735065149652,
          -0.02283325045399323,
          1.256580350219545,
          -0.14665826888346845,
          0.7428630528964939,
          -0.9701064383051236,
          1.3844522507773545,
          -2.4440566423725043,
          0.8600230881469997,
          -2.0019739778227885,
          -2.1245246981484724,
          -2.2303093187952476,
          1.2266573388214146,
          -1.9457629980338158,
          -1.1107194633522322,
          1.531639272946554,
          -0.8701472087209515,
          -1.1068271735515798,
          -1.9630433981087492,
          0.42465911780412857,
          -1.2208878749565788,
          -0.2508895902499863,
          -0.49377925372889797,
          2.4835284235977326,
          1.8011090082878545,
          0.6756828326428308,
          0.9714123588620529,
          -2.350493278610383,
          0.47020346240080346,
          -0.320914438997067,
          -1.0731512361233237,
          -1.7738698956083307,
          1.504910133434501,
          1.0952825636706773,
          -0.029229367545345688,
          1.1701479395378602,
          -1.2878435053694306,
          1.507427430039445,
          0.4883677870908964,
          0.7113125960719261,
          -2.896065052008882,
          0.28116201474514385,
          2.5259461447430427,
          -3.695563628829314,
          0.6019407753117915,
          0.45841639218429703,
          3.0452775990151704,
          -3.5542739363053992,
          -0.5968961737989802,
          -3.201730244324458,
          0.2310737683145941,
          -1.588628836022566,
          -0.10439364172173601,
          2.3907794438022907,
          -0.4057583363924082,
          2.0570603943910437,
          -4.0311732130013125,
          2.4549238741765667,
          -0.5610966584895738,
          -0.8088594404706153,
          1.9043586648930342,
          -1.6411489631670395,
          -2.8995710602052602,
          -3.796813144305337,
          -0.30133215339915254,
          1.425633064146111,
          -3.3096067186010263,
          0.21556231562347627,
          2.5173691634382633,
          -0.18130004976250025,
          0.9802676198440764,
          3.1793712250062938,
          -3.384881048798137,
          -0.6612472781581923,
          -1.09776591023711,
          -0.7609110139678805,
          0.3137886572056348,
          -1.0544496107790353,
          -0.3773145390217876,
          1.7964992317802413,
          -1.7443793515126156,
          -0.8399697554252776,
          -1.675497808929308,
          -0.9892796175934641,
          -0.25526084956247136,
          1.9676376384450287,
          -2.0889050980036106,
          -1.546348356468889,
          2.6401221015531267,
          3.098668779747541,
          5.495433247392274,
          0.9678378580596331,
          -0.8506583186309936,
          0.8528912954098757,
          -0.7628594574308301,
          -0.30599116158789513,
          0.23005104217218136,
          0.28459968822991855,
          0.07325089793261771,
          -0.7798834908880705,
          1.5604753247014154,
          -2.2662421157437906,
          -0.5210422164864952,
          1.1199802438551854,
          -1.8618532547966644,
          -2.9123659877959827,
          0.9219593377574139,
          -0.6683938581962854,
          2.3117248752672843,
          0.44097015524114025,
          0.05253982969928028,
          1.6445516384800913,
          0.3154886812254851,
          1.7140199822825906,
          0.22419691273331518,
          0.9561491446388299,
          -0.16260708627346926,
          0.34365326067525737,
          -0.7848534947103661,
          1.0625294028573902,
          0.7732246703992269,
          0.433163390113537,
          0.09529115864396574,
          -0.310642732236244,
          0.0485820893756085,
          -0.6430169669833066,
          -1.2808575932076285,
          -2.9803467860256916,
          -0.030708209254601437,
          1.2011006788274015
         ],
         "yaxis": "y2"
        },
        {
         "boxmean": true,
         "marker": {
          "color": "rgb(141,160,203)"
         },
         "name": "Regime 2",
         "type": "box",
         "xaxis": "x2",
         "y": [
          0.24873807751892119,
          1.3496419009694287,
          1.275981859387941,
          0.02934787146322837,
          -0.6261657257183884,
          -0.49743897898923906,
          0.12962896438110358,
          -1.7011590414122928,
          -0.2954938949734987,
          1.277770528630998,
          -2.1584645941938003,
          1.2816851624071464,
          2.186594017370944,
          0.017841665326681376,
          -1.444132852476533,
          -0.054256759217573954,
          -0.448890148871243,
          -0.5090626100624578,
          -3.0298239073690962,
          1.794023390923119,
          -1.7587095125278915,
          -0.5540455174312642,
          1.4818667195180386,
          1.068057669377132,
          1.0641412995300727,
          -0.5922625143113973,
          0.5516981233514892,
          0.6327964367103002,
          2.1409059937963826,
          -0.18148515472024862,
          -0.9768581992232687,
          -1.868515959260841,
          -1.6914554078011061,
          -1.8506311120164494,
          0.3407787948473221,
          -0.6678859842318619,
          1.6144405750198956,
          0.3364664940114163,
          2.3025181787289095,
          -0.21848403662921012,
          0.609487330634326,
          1.3241613490324533,
          -3.2402126753016285,
          -0.15175632545480885,
          -2.3235931298451296,
          0.1897130162963834,
          0.022725017232764336,
          0.5035583121998763,
          -0.03393133595202859,
          -1.8464746387786133,
          -1.9618443338613643,
          -0.10966290383950683,
          -1.4975417814249874,
          -1.6277886399818036,
          -0.1290117942016769,
          0.8758770057131947,
          0.10405668986388501,
          -2.3862711302386734,
          3.34955806551528,
          0.7884721297351247,
          0.9395237462034846,
          0.4673611959520474,
          0.3527519358616247,
          0.03862661808657443,
          -0.6100973924207791,
          1.146099281511081,
          0.24198982099950403,
          -2.5130013697155453,
          0.9043335241758423,
          0.4588656822636054,
          -0.024189358050136067,
          -0.17653113252367295,
          0.4125918201459227,
          -0.11046761307258303,
          0.05905297511644982,
          1.9620545529316407,
          -0.6811942240160468,
          -1.2172961108449925,
          1.5551811622332452,
          -2.956774153929307,
          -0.5329636969020806,
          0.7465236436754147,
          0.17332395391299296,
          0.6442659756996223,
          -0.10668213947444638,
          0.1601892101586641,
          -1.761799011618147,
          -3.0363076849912516,
          2.2194661865923475,
          -0.007161889153477639,
          1.3938222694018183,
          1.4418331826010786,
          -0.45979950262710717,
          2.6178302763396117,
          -0.9310630085646513,
          -2.647339180678631,
          0.27579675165234896,
          0.9239278955896544,
          -0.6778372241050078,
          1.2066745902282001,
          1.6546282905110337,
          0.020483127963319376,
          -1.993133217312228,
          -1.7685986578622774,
          1.1967352906483681,
          0.45971162548769423,
          3.045953982386113,
          -1.0271184185258049,
          1.6988008814842552,
          -0.6903723810369171,
          0.1899019068328623,
          1.2320505338581982,
          1.4879162500032923,
          -0.18449007380468035,
          0.44556193639172187,
          0.40416453518489937,
          0.8280310471628471,
          1.33081547259163,
          -0.2626800918370984,
          2.5629427152375475,
          1.2087675915229938,
          -0.7456634226118664,
          -0.5579980418500577,
          -0.41540835798386044,
          0.03851360445422421,
          -0.5714810280615765,
          0.6415014191000726,
          0.4603744477032092,
          -2.550888222994794,
          1.0720779583643187,
          -2.3751435635574287,
          1.469746741780037,
          1.2809435510288723,
          0.7004977773237318,
          0.5506697521123162,
          1.5437424571459133,
          -1.031388040759545,
          0.7648923323826639,
          -0.5693068539447778,
          1.0210317340284418,
          -0.8658865675425891,
          0.668449289943594,
          0.07175350574179548,
          0.29891973198413785,
          -0.8254612708549116,
          1.3942405365886756,
          0.2186627022749872,
          0.6459352340445732,
          -0.36224410136906493,
          0.9418610057587694,
          1.4464119868681395,
          -3.441446415898837,
          -0.8164679103369786,
          -2.7323158649441592,
          1.9747497764692348,
          -1.736343929662991,
          0.05089359363188037,
          1.3171311866379147,
          0.5052214194880664,
          -0.3968464397369804,
          -0.8795305826687569,
          -1.1512624322934193,
          -1.1129617324966163,
          1.018407203011601,
          -2.319029979622572,
          0.26650773183136145,
          1.6166895192269382,
          1.6609503592164565,
          -0.544611002159043,
          0.7581774206847628,
          0.6420050274972845,
          -0.9494284539981954,
          1.7733186256319982,
          -1.4216311449677894,
          1.7406875871942395,
          0.886252413589554,
          0.8930189402725771,
          1.6087688308100467,
          -0.6526190188134183,
          -0.6283393192216037,
          -0.12359615415018617,
          -0.060422756984279694,
          -1.5203200752765467,
          1.2482330665239547,
          -0.5378006299057655,
          -1.2034800013285754,
          1.6645679957976371,
          1.414018671300551,
          0.07861509007097783,
          1.1365916458973515,
          0.39358947406848854,
          0.7221832953901213,
          -0.06659470499060255,
          -0.04355957014137219,
          0.16151067441902395,
          0.49397039080972355,
          -2.4095782528669414,
          -0.5152833660093707,
          2.424038180512158,
          -0.7803292277545897,
          -1.3245615042720367,
          -1.2375028030242328,
          1.8396694870463945,
          -0.4978657105013667,
          1.427763006572962,
          0.6224450554555961,
          1.0139088747371012,
          0.13468744425427184,
          0.5963380471668474,
          -0.1261216743032444,
          0.3409814647148487,
          -1.4549484212352943,
          -0.18504113276202472,
          1.079924891375411,
          1.4352893685515418,
          -0.05905820878495824,
          0.11572831201797436,
          0.4746614058930252,
          0.7270217239838408,
          0.0364659336739228,
          0.29636899521218696,
          -0.3414936363908088,
          1.0742358174601518,
          1.2012552325926997,
          1.5355349333803658,
          -0.25444574377999113,
          -0.8615630909543806,
          -0.2621816069325795,
          1.0757787035570077,
          1.0287989010370657,
          0.24549229394844146,
          -0.45577401855921496,
          -0.04099961611450672,
          0.4147575804090842,
          -0.48567029661948924,
          -1.6674230184522447,
          -0.09446792852648962,
          0.9754903894670841,
          1.215001328605331,
          0.16472481613212514,
          -0.2861042692078491,
          -2.015168966080325,
          0.1682954641404932,
          -1.2222255795540755,
          1.1884049906502718,
          -1.2895901698656778,
          1.0404898170434382,
          0.4155976587800934,
          0.864589406563886,
          -0.18238023696553118,
          0.7615823115205816,
          0.2960475357638323,
          0.77149526290956,
          0.3927621230450478,
          0.26082884902574943,
          -0.10362848286698156,
          0.5362820938730958,
          0.09000738377598412,
          -0.44302235912785076,
          0.9648791048141503,
          0.47123462435597185,
          0.34696670847764216,
          0.0853696656546573,
          -0.33053041949663364,
          -0.8044850308291619,
          1.1843276785495604,
          2.0684714185663906,
          0.2648133479196806,
          -0.6751530484768297,
          0.9413500695468683,
          -0.8858322879838239,
          -0.6880070167593922,
          1.5624926402399677,
          -0.8818400370531455,
          -1.0642965203195016,
          -1.063337982265251,
          1.7759033115871385,
          0.9998789884094105,
          0.6222100767340454,
          1.4152050694529683,
          -0.0817253696523244,
          0.12792986486946914,
          -0.27646551237922173,
          -0.25200951695623447,
          0.5789960481521399,
          -0.033502954874920964,
          -1.9202073110748434,
          -0.09394107708631202,
          -0.39534455657755097,
          -0.12444512638986026,
          0.9108215140650489,
          0.27035254497495387,
          -1.3778529059825926,
          0.040904957286989896,
          -1.7709607936157372,
          -1.038343924187259,
          0.8228003070948756,
          1.4635919169371585,
          -1.7965638623386304,
          -1.971860200896062,
          -0.3269397433584011,
          1.612689955305577,
          0.11208312433806215,
          -2.1361400016915755,
          -0.647513607899164,
          2.206397179271806,
          -0.2558485246971969,
          -1.5230232770568892,
          1.8396079049783989,
          -0.4978456270988711,
          -0.8124522722186013,
          -2.947931610005571,
          -0.7581694521879699,
          2.6810921258132723,
          -0.4515567456784337,
          -1.271511810546552,
          -0.7308300074448939,
          2.1990515612699277,
          2.2174245642838257,
          1.25106286562449,
          1.2370717141421246,
          -0.6174747787151195,
          -1.539142961290371,
          0.2834074750557087,
          0.8566686950735619,
          -1.2631471381515094,
          -0.9999271153050718,
          0.5039065108037347,
          -0.2674007849373982,
          -1.7092184955073038,
          -0.37053191692918386,
          1.1453601753344902,
          -1.2451818824755847,
          0.04112047242368332,
          1.6142651957810525,
          -0.07415941616457473,
          -1.4953520429372662,
          -2.743911337589632,
          0.5797540509477975,
          -0.6124629634481557,
          0.043660811249474504,
          1.87101450840871,
          -0.7633799343459517,
          0.8834946701576996,
          1.9981227178898182,
          0.30447160782646504,
          0.9592137856958354,
          -1.0872137800051753,
          -2.3782836323959993,
          -0.381967569218193,
          -2.0432803171575102,
          -0.08144369775905977,
          -0.8124130381741809,
          1.0576392655425475,
          0.18887514487700424,
          0.3377318347890969,
          1.4977000898625024,
          -0.08225209802837363,
          -1.1423731612921775,
          -0.8848811689216288,
          -0.5251781744360491,
          -0.24283158252008163,
          1.9104850358388163,
          -0.8256704522879006,
          2.7019087963022996,
          0.6373235760434902,
          1.0183087773290045,
          -0.9278129741761575,
          0.12148932297766561,
          -1.183089598143924,
          2.5966456805455755,
          1.2542220700177873,
          1.4578789620601682,
          -0.2961153156740917,
          -0.6597461922499879,
          1.5659541361134344,
          -0.06756277478017969,
          -0.16902113231740773,
          -0.11608107585151205,
          -0.39709304765839176,
          2.1003895844694735,
          0,
          1.6928985026638768,
          0.41207967215593333,
          0.19587045648128448,
          -0.7097958851048296,
          0.2906284761735175,
          -1.3437886003301414,
          -2.0822607028033167,
          -0.24192240832997114,
          0.3201092299508661,
          1.4117469007569943,
          0.6536202797793295,
          1.5535302708887184,
          1.0747652386591295,
          -4.348241895849411,
          0.3815770494573024,
          -1.1353432270136945,
          -0.762880319162355,
          0.775510311189821,
          -1.1478566466522762,
          -0.2328437410623681,
          -1.031573800066306,
          -2.789383795641006,
          -0.7635439258904584,
          -0.6332856371151226,
          -0.32984999739715376,
          2.639108801321177,
          -2.2788750145358456,
          2.569697724120944,
          1.1749725342401875,
          -0.7086620545943166,
          -0.8385263064687565,
          2.4301463262093863,
          1.2236464707063992,
          1.596851095229317,
          -0.7533894887877878,
          -0.5340054038655366,
          2.3790680949423866,
          -0.7223426542053158,
          -0.4375774663568831,
          -2.5096184443898095,
          -1.0296953810802372,
          1.4393265246537525,
          0.9565465627029929,
          0.5395527049991133,
          -2.0602261462233904,
          0.4540317057895719,
          -0.3636163028481108,
          1.3457108766083006,
          3.150069722533038,
          -0.07357668626488383,
          -0.1153785586341712,
          -1.7989262667586763,
          -1.4414755437915374,
          -0.17012705137329565,
          0.7834146669418085,
          -0.7470350401086481,
          1.4417148567482327,
          0.7569869484817584,
          -0.6393551388747415,
          -2.4461629693945235,
          -1.1806155375233667,
          -0.847970862051565,
          0.13684328392078576,
          1.4952461429937625,
          -1.4266147792955959,
          0.5752342097035557,
          -0.39435413886085585,
          -1.2427873213313745,
          1.8000374342811112,
          0.7012781029154138,
          1.264770339795072,
          0.3640999777351224,
          0.3879284850412689,
          -0.18316855376927427,
          -1.5787953668075865,
          -0.7279941627978694,
          1.862906920978967,
          1.1998503138614944,
          -0.10732769591900224,
          0.03746585487502023,
          1.0990506387328265,
          0.22977190381601453,
          -1.2546767983786116,
          1.4703287327044297,
          1.062793643385079,
          1.455689210254012,
          -1.0629134831996916,
          -0.6111304853040703,
          1.3078624339201321,
          -1.0934851704350645,
          -0.8669099909975821,
          0.23336048295662104,
          -2.0060903116995688,
          -0.13780420194774418,
          0.5319345524177996,
          -1.0682319531029927,
          0.34058518655324516,
          -0.3695942898291539,
          -0.383594032085096,
          0.7777167743387111,
          1.6037798544895268,
          0.06927080023970686,
          -1.5328628005622489,
          0.1632020088735363,
          -1.844983805799616,
          -1.4429319435694297,
          -0.14253509061095251,
          1.6530049456614286,
          -0.6254308453970044,
          1.7545131969494403,
          -1.1692625515220738,
          0.9615494386526442,
          1.3130602573580585,
          -1.7046500881909348,
          0.27033248865092113,
          0.656209955287483,
          0.1869883459881762,
          -0.22447015719632615,
          1.453485676478493,
          0.5855265907520515,
          1.4094727160084117,
          0.38105363493614297,
          -0.5548192214036927,
          -0.2618255347525888,
          0.3900885568407996,
          0.10262943288618194,
          0.02686725303617182,
          -1.1239164139893358,
          -0.6864139655295703,
          -0.7082788291160907,
          1.8512466231268305,
          0.026655414859846693,
          -0.43852729032477133,
          1.446111846722476,
          -0.19162209979516007,
          0.21775701538327819,
          -0.34577310255325205,
          0.604857663881343,
          0.179413597513694,
          0.9071889039218337,
          0.6592990407823787,
          0.11908545244645391,
          1.2397623877806232,
          -0.3406244611773546,
          -0.5188102478600534,
          -0.5123771788837925,
          0.36097587952005383,
          0.11505477698244869,
          -0.1487158511543533,
          -0.7830771422555366,
          -0.25247349063872915,
          0.2531125326852437,
          0.34722946471554594,
          0.7430513968710803,
          0.22238818709163638,
          -0.6634607506087264,
          0,
          0.44673274823158643,
          -0.45227715975288657,
          0.8728619161685941,
          -0.43488271258915,
          -0.6685140710806355,
          0.035887219524665684,
          -0.05831244866399413,
          -0.7619880624735995,
          0.048135364980337034,
          0.6506275948512855,
          -0.2708663464135699,
          1.1137850361514587,
          -1.3859066608877664,
          0.7049799761491272,
          0.6341362630434366,
          1.445472007662488,
          0.41188224357315495,
          -0.1463420614262647,
          0.18653028287096823,
          -0.4321976669107844,
          -0.6722420054531442,
          -0.3070267243038905,
          -1.652832916915751,
          -0.22484771854356175,
          0.4205010402419749,
          -1.469116026368716,
          0.039914630491824844,
          0.5797403858988727,
          -0.24269039555483593,
          -0.03977251751079381,
          -1.33860600500931,
          0.4096302067320214,
          -0.6096414291923032,
          -0.49808213506552496,
          1.0521454422215966,
          -0.004590202038849243,
          -1.3325047269471864,
          -0.8786535950691728,
          -1.2288012118515248,
          -0.173320138969465,
          0.7539397514491495,
          -1.4352194513548964,
          -1.19747203165149,
          -0.45326270222829323,
          1.1955836366228572,
          0.6280143990840623,
          1.0664776872660864,
          1.9164391889826784,
          0.9123332529294776,
          -0.09530968406016005,
          1.9400669763055605,
          0.21171256038178182,
          0.1223082019939788,
          0.12438501458901888,
          0.7697442996634708,
          -0.21792689393155523,
          0.38608333700165154,
          0.0615275454798632,
          -0.18009361832636817,
          1.3790159257039702,
          0.3209230474060793,
          -0.16465024468370362,
          0.5625189126325387,
          0.6080788110812186,
          -1.3857218089185581,
          0.9481812947264462,
          0.20098516507148695,
          0.4222465985327044,
          0.29165431694688504,
          0.10931206991061872,
          0.5438941469424987,
          -0.12704328371473317,
          0.7919409129188112,
          -0.07734254645285728,
          -1.6317345339801386,
          1.3088156655716534,
          1.0527377118547665,
          -0.3641223983563758,
          0.29033197116632864,
          0.834044504883392,
          0.044165891719996964,
          0.5779407511344709,
          -0.04389272015483689,
          -1.3773118309779318,
          0.9087768320137019,
          2.0695423803107498,
          0.06896192359844772,
          -0.36625539826405795,
          0.18577683803177403,
          -0.13215899981383988,
          0.35949992608653103,
          0.9388226409899753,
          -0.10725120163419348,
          -0.9994111855382811,
          0.3304484657749803,
          -0.1895788451977936,
          -0.27627480614749395,
          -0.18470932185087968,
          0.8403789854737486,
          -0.019092871222836965,
          -1.3803222885991628,
          -1.2528043626181298,
          -0.18237872761184404,
          -0.5918313246045941,
          -0.20576827896068434,
          -0.8728381057409091,
          0.9209131560743199,
          1.1866634201315565,
          -0.04746069975957932,
          -0.3798903452181049,
          0.947393336302659,
          0.3541486119242417,
          -1.584127387502252,
          -0.32471668329315084,
          0.9353393679748092,
          1.2395442977119175,
          1.032683978549507,
          0.11033707371745417,
          0.009651771841197695,
          0.5762059636337213,
          0.12881209227081103,
          0.013422422138380545,
          0.45880486464870845,
          1.2383068971810165,
          -0.2057443678150191,
          0.1437357450945822,
          0.1152298350707315,
          0.2452491790432122,
          -0.2879347856559805,
          -0.7304204015124761,
          -0.12156379949129337,
          0.30896150412812945,
          0.24082744015778523,
          0.8213241522277527,
          0.20135478027209558,
          0.06082630795933548,
          0.7958870060923711,
          0.254072010117688,
          -0.2716396037559833,
          -0.134076613851894,
          -0.3250786727955125,
          0.11539702720461589,
          0.0972443045672978,
          0.9895448645661064,
          -0.8622687186106844,
          0.6307471055973269,
          0.2750198953722918,
          0.593002276878573,
          -1.4021081088038423,
          -0.7684891354912081,
          -0.664059482070394,
          1.031001999491822,
          -0.15687400169448806,
          0.05876816361201605,
          -0.5066498069921654,
          1.6254748594206947,
          -1.4160936861703008,
          -0.23838360809905812,
          0.13731378507129538,
          -2.0579127912016224,
          -0.20466685973808135,
          -0.2432321085170826,
          -1.6829990294076698,
          1.119621372245116,
          0.43556947766167253,
          1.0258876764367155,
          0.8423280865452213,
          0.5222835316430448,
          0.14768269937356268,
          0.040864564128466015,
          -0.2965820299783768,
          1.7064465478002253,
          -0.17286832688602097,
          0.24988247405808728,
          0.2861358516134862,
          -0.22055084921162185,
          0.3964639036064606,
          -0.14503466374615318,
          0.4007278926261639,
          -0.8958390519408723,
          0.5988206540350614,
          0.817828051670683,
          -0.7769662019544467,
          0.4346500392314409,
          0.008576054306149737,
          0.3846552632153522,
          -0.16421907154073717,
          -1.9603071272092165,
          0.4220578821621133,
          -0.2154020246176816,
          1.2091894126530944,
          2.48654874638875,
          0.4097293952946975,
          0.36555147809082744,
          0.03389134208882216,
          0.5368246613756388,
          0.30993313183627336,
          0.3392077704840555,
          0.5221514481802672,
          -0.3030078979422768,
          0.6212026206193809,
          0.17924362310457745,
          0.04639194508024056,
          0.6209406800210259,
          -0.16455493394401655,
          0.1895617318988391,
          0.5988285019376879,
          1.1114989748490325,
          0.006658418643897998,
          -1.0526523683762052,
          -1.1411602725516354,
          -0.3638031857652585
         ],
         "yaxis": "y2"
        },
        {
         "boxmean": true,
         "marker": {
          "color": "rgb(102,194,165)"
         },
         "name": "Regime 0",
         "type": "box",
         "xaxis": "x3",
         "y": [
          0.24482499226927762,
          0.8462473350483926,
          1.8251820079050958,
          3.531432146721054,
          5.112221920387818,
          6.426600392060354,
          6.549125514647457,
          7.093181906735991,
          8.084816492220853,
          5.896506447112188,
          5.659348810149822,
          4.9742580413841635,
          4.741234524231404,
          6.173160825585947,
          7.0531868076324455,
          6.980680482063908,
          5.3887774743046615,
          6.323862830617,
          5.952069573823828,
          3.780925154965371,
          3.1190039502549913,
          2.1694966613897124,
          11.961406366210431,
          10.315741325656418,
          7.8338775137998145,
          4.6818878327962015,
          5.84654826405691,
          6.588806280167773,
          6.493559512004721,
          6.5205461751227265,
          6.165469589375425,
          5.985432489449158,
          8.51753728782991,
          9.011103962289635,
          9.824419578465168,
          9.73382967655547,
          6.460276603747625,
          3.8326745075848883,
          4.15071055931272,
          4.499502483978867,
          5.06376173324883,
          10.457041590570007,
          5.8568544209213,
          5.789009391851723,
          4.840372753106058,
          4.86241480286466,
          5.0305677063390615,
          5.58609336260939,
          6.044686449980363,
          4.614152758298442,
          6.432358689550311,
          8.495520624760537,
          9.366129031872841,
          6.1398731346149,
          3.529102955581621,
          4.508111376026646,
          4.57204751610756,
          4.531606984420213,
          4.301707748326008,
          4.7004724808991885,
          3.7169104550988408,
          2.5547840561158957,
          1.90907600495033,
          1.7632018347643317,
          1.8744947994686665,
          1.8619090380263514,
          2.8978146132919935,
          5.749477834682912,
          8.830360517706724,
          10.68103552894667,
          10.615492445696145,
          8.961664415253328,
          5.253507866393774,
          3.6868479922320687,
          2.6928756306879222,
          0.9186867601261474,
          0.44744461897993465,
          0.4454588850052096,
          0.4376286367909052,
          1.1950062905997039,
          1.1420500147715211,
          1.2448646039143205,
          1.424107664115727,
          1.8561933922138998,
          2.301916078478098,
          3.875849745657761,
          5.142197201345116,
          6.5515980370552285,
          7.480069670660887,
          5.433238105708734,
          4.81838143286528,
          2.5088576745730826,
          1.4930959377530961,
          0.8663981829327531,
          0.34037458726437764,
          0.36162334974855187,
          0.8095617097243668,
          1.0255152306426318,
          2.92603162425803,
          3.678166430511046,
          5.669306757077575,
          5.49994869233109,
          4.7458881269698034,
          3.736609662484843,
          3.1529664032254368,
          2.0002030524075964,
          2.54699979175115,
          4.6597609691531385,
          7.492377201281488,
          8.20976212104084,
          8.552267890286165,
          8.771105950940399,
          7.975877462720964,
          7.156203266642987,
          4.348627607312519,
          2.1363509555812925,
          1.0691010448988527,
          0.9274565728963353,
          1.177573965806514,
          1.4766894254391087,
          1.8757485529151743,
          1.7233861396182326,
          1.5760311228781938,
          1.5320886511565186,
          1.5414382408279923,
          1.47803609469207,
          1.4558974954858424,
          1.689977707967628,
          2.382192451357841,
          2.83817856274778,
          3.190027561618481,
          2.958034860456828,
          2.1654727118671873,
          1.7791176335536876,
          1.4228710163407958,
          1.2541905990825035,
          1.3299767049984073,
          1.499780467581004,
          1.7127349315118046,
          1.8866501604299994,
          2.010063910726458,
          2.5111797693301923,
          3.4001333298650565,
          4.373622251730413,
          4.275071873853449,
          3.963155361907557,
          3.6419199123978614,
          3.111968002738431,
          2.5956670920271425,
          1.9718019144982102,
          1.2118483885750173,
          1.058311310634017,
          1.058018922023475,
          1.0342870884109288,
          0.8360297482088208,
          0.9603806167840958,
          0.8689623606298118,
          1.0663240790367126,
          1.318270239131525,
          2.260321699418127,
          2.35909593500197,
          1.9304924147203564,
          1.6141223561484366,
          1.1774599569756539,
          1.13809944819659,
          1.0851357227563858,
          0.6124275755975396,
          0.4934473583102226,
          0.3969610026944429,
          0.5080210648104548,
          1.0755112413689494,
          1.571640468612313,
          2.1005570167768743,
          9.914828166693916,
          10.223164999587462,
          10.343633394083009,
          9.734770102149342,
          7.166067569071892,
          8.591368036475032,
          6.753189099384471,
          6.094178372158203,
          5.59454311626032,
          6.0510794318304395,
          5.152633862933143,
          2.53473708242178,
          2.834070434330497,
          4.207709219874813,
          5.5924819992505945,
          8.539099259360228,
          10.625568997403606,
          11.169923773745541,
          9.356886264625937,
          8.61930796124274,
          5.832734134700149,
          2.7000529763288794,
          2.5104544596769847,
          2.5994110783934596,
          3.9150155782909133,
          5.488895345760975,
          7.161243482483552,
          7.730479565812274,
          7.160216429121792,
          5.7712610691878945,
          3.1293599237431775,
          2.4116789171029813,
          1.737848278405145,
          0.7128956999839284,
          0.5626941350498237,
          0.45494373048655695,
          0.655635397983715,
          1.6907620396208949,
          2.9771135461633094,
          2.8352661557053214,
          2.870730657279491,
          3.5815138144325465,
          4.168085185354576,
          5.139103454155848,
          6.827736251158639,
          8.245910872323439,
          8.32447634257609,
          7.787458814589772,
          3.6516915824287572,
          2.844271152876318,
          2.208197747441008,
          2.304805597590748,
          2.1941288922005326,
          2.316047431679908,
          3.814858914131764,
          5.19632254494587,
          6.577847761570011,
          7.925371942503844,
          8.976207802745048,
          8.539917046597692,
          7.752113806924318,
          5.237226214073599,
          2.65932559334673,
          1.4236961138993502,
          1.4374283166695387,
          1.2763784360606223,
          0.9128708208072931,
          0.7473327195364982,
          0.8156450051814318,
          1.744345892081037,
          1.623458904856816,
          1.5098400422930718,
          1.518441960113123,
          1.9925071264524015,
          2.235592643320561,
          1.9798543380200861,
          1.4707123035658152,
          1.2380072466004637,
          0.7478981564659624,
          2.537610621573404,
          4.2700837085861725,
          6.275260078683496,
          6.544642076417804,
          12.613539903089407,
          11.54053091131151,
          7.548541531534866,
          4.251626017140224,
          3.877207753630355,
          3.525750880958512,
          4.084865888617932,
          3.3896864565182483,
          3.8432208469347104,
          6.589802756311838,
          8.048136338023468,
          10.305011259682942,
          12.529034295352176,
          11.631258154215756,
          9.023189590966794,
          8.317065351011696,
          12.497730518879832,
          7.4912679346487865,
          5.186161965541542,
          3.9736502786073826,
          4.963466166295111,
          6.005923593379558,
          6.60552518390119,
          5.867035545222461,
          4.650650958986953,
          3.915458433525637,
          2.9223607554659248,
          2.394755653105676,
          3.1494295104965575,
          5.201649135015904,
          6.806223715506493,
          7.277592279026285,
          7.684428806826472,
          6.873016151124611,
          5.026291252756491,
          3.5528438166622065,
          2.246381339393556,
          1.7255449836701153,
          1.3608157282322642,
          1.3608283570129425,
          1.5629347176849842,
          1.3132106168568136,
          1.1584555040672422,
          1.541114161349833,
          1.5712437392771241,
          1.9892303506005553,
          2.168329332061112,
          2.2576912833750247,
          2.368353733429685,
          4.1508606337103995,
          7.3377735911402855,
          10.722243666797876,
          9.292793105738237,
          8.386121291890742,
          8.268824832150711,
          8.735280953729525,
          8.050790092358366,
          9.314703430570663,
          9.32610973146744,
          8.382300150664523,
          6.466816905708983,
          5.515479806959629,
          5.96394690562971,
          5.556772416653112,
          6.841203830242158,
          10.931894025988877,
          14.8055715732649,
          13.526439133333042,
          13.177380907200277,
          11.18996406286955,
          9.849094052882865,
          9.92680703801103,
          8.263855467187241,
          3.73056300856173,
          1.6259076259005816,
          1.3996143991220742,
          1.0617326783388852,
          0.7446339719090611,
          1.1340181321278215,
          1.2502401324361563,
          1.316185365281999,
          1.806712789796293,
          1.8527222560346126,
          3.031856982046738,
          8.37577900261618,
          9.149230919070543,
          8.201932310694827,
          7.153808388523757,
          9.158484536604956,
          7.744968636902049,
          6.156817916631698,
          6.657157123237849,
          6.119273534268141,
          9.302999506415798,
          8.790324409874156,
          9.340581390531733,
          9.98559030521661,
          11.039707020753994,
          6.193149917954579,
          3.4503959492687137,
          1.713634021067992,
          1.7793585712462665,
          1.934239944079891,
          2.63801637198776,
          3.300430180504918,
          3.4563170331437134,
          3.9629067345429205,
          5.478897643871606,
          5.185834576711058,
          4.565166087634862,
          3.9381246177107094,
          3.6437617395073176,
          3.386108037168161,
          2.834064158760011,
          2.3422516405209897,
          0.9476688039023429,
          1.5275027493853124,
          2.1738757728040214,
          2.2808439990971237,
          1.7563993298355491,
          1.45845296763815,
          1.3480462285131218,
          1.5476742585748435,
          1.9001084885094315,
          2.5338660592678934,
          2.268102145055309,
          2.28778539210558,
          2.945842429958284,
          2.986998354047537,
          2.8058206942770627,
          2.826034080246463,
          2.578962535494939,
          2.589141467669978,
          2.6553527177870273,
          3.5226878776121877,
          4.736698866598308,
          6.858091037869454,
          6.334192118644713,
          5.988208166221156,
          5.73723157272674,
          7.178909224728121,
          7.29816896919161,
          5.726572632053868,
          4.587243631631136,
          4.3117273068148645,
          2.8169581555295737,
          2.392137510739267,
          2.8222512206900867,
          1.7618448056653144,
          1.3320882072765379,
          1.1085803650319577,
          1.213167011924088,
          2.011587839052081,
          2.4079997386876495,
          3.7339953008666624,
          3.5288274366408587,
          3.4602058766409756,
          5.721779697984457,
          6.851554203368724,
          7.0125439000874765,
          5.35658975363709,
          4.276266264170408,
          3.6553417105320847,
          5.473444803580642,
          5.8060131694749,
          6.107649689167738,
          6.20870828469284,
          9.79634046010673,
          9.426346990289167,
          8.306750249760226,
          9.574554551392794,
          11.67629184409976,
          5.790682424688712,
          3.492884362116456,
          2.855158000895753,
          3.0488331922888756,
          8.513447249205782,
          8.620511467279865,
          7.559204562604426,
          7.128042427599428,
          10.439586031446233,
          11.216289991894735,
          13.872699097776785,
          10.300436892323194,
          8.914240656010806,
          4.2309883103612815,
          3.1633043629676103,
          3.4162600900605318,
          2.8696983887348324,
          3.1694261308852587,
          4.985726532377302,
          7.481508615994825,
          11.390301119945942,
          9.969601250626146,
          6.841100600222125,
          5.186794191608206,
          3.802474029026926,
          2.6504679755214604,
          2.575714702568948,
          2.7199712749663734,
          4.996157025583089,
          5.108651830852032,
          10.461488923067227,
          10.68199317351915,
          9.102684452049434,
          8.774433939382433,
          8.796540497699752,
          8.37693568878807,
          9.014609140567483,
          10.446260650493205,
          6.889764718571678,
          6.353881289102138,
          7.911447931304575,
          9.219010245241225,
          7.7366714153438805,
          7.815347283743323,
          10.215910536274315,
          13.347236831262709,
          13.049822827056051,
          15.264251681230963,
          10.781213730396704,
          7.269384893300012,
          6.5236111501604315,
          5.168670403668657,
          4.272305075163021,
          2.52382092484273,
          2.719334728354588,
          3.0990792913828047,
          4.248132846131921,
          4.51690747834742,
          4.551779775964097,
          4.343827893780544,
          4.0729733571037645,
          3.8553673718217767,
          4.497412451580166,
          2.3176112283393744,
          2.7617975280527025,
          4.075205960506573,
          4.1688818956259635,
          4.257880213120951,
          4.551996134929359,
          8.503621522895992,
          12.986137329936028,
          13.170818734578788,
          14.245204469421878,
          14.727484697140756,
          13.794158331686631,
          13.257476660944523,
          7.457993867099285,
          6.237459557773545,
          5.430897064777092,
          6.064980241432787,
          7.416753620104863,
          7.8137763894069945,
          12.802900443561379,
          9.052755303131416,
          3.356566018760204,
          1.700585345327854,
          2.1021323927119377,
          2.9083245454821736,
          3.0616931844875213,
          8.285165295153856,
          5.593090617246927,
          6.173632878288627,
          6.5829038977716126,
          7.996718722730876,
          8.393602219372987,
          8.444479995043949,
          8.705370190637186,
          12.299705601893363,
          11.551743079246952,
          8.464992853524162,
          6.011471408568323,
          3.972289207810536,
          4.181724026286974,
          4.365532177686691,
          4.5368329839408394,
          3.3798335887864233,
          4.8332922136783605,
          4.840760017940774,
          5.01178572062403,
          3.2804994252044706,
          3.3349286794662474,
          1.4937621890101582,
          3.0628638809919364,
          3.0448137077409783,
          4.266291707791389,
          11.051090371087193,
          12.192142361300066,
          14.065605685450137,
          8.543144805030897,
          7.17058340032585,
          8.435336588518693,
          9.140850097136573,
          7.4419619394559415,
          2.825979999648407,
          2.9488139481842515,
          1.6424877770245074,
          1.9936101343855264,
          1.7054164397437126,
          2.129985134201125,
          2.583368604294956,
          3.3697429908905177,
          3.1701107267662882,
          2.7199089080560954,
          1.282883048625663,
          4.996997621925549,
          4.995301132099702,
          5.334398781927303,
          5.359295684667304,
          6.404733817465603,
          8.259564144201578,
          10.419166458994152,
          12.618063779957595,
          14.01417363175191,
          16.342844403199855,
          11.931693277889861,
          11.3364029802382,
          12.242819273136556,
          8.410334385596215,
          8.502091990308836,
          9.51693845448084,
          8.48846836407669,
          6.803855726392941,
          3.8898285733163354,
          3.346285948390141,
          10.377044232944025,
          10.810929951453582,
          10.832070047743619,
          10.637128241211176,
          7.85276582130231,
          4.11580417827703,
          2.42255284533836,
          1.495582962119952,
          2.1110867910180238,
          2.414293093690649,
          2.7778832938615237,
          3.29411941729486,
          4.644262759909034,
          5.2120245393738145,
          4.625582248428836,
          4.289908509338274,
          4.1348876090347755,
          4.988624685220421,
          4.936346957171336,
          5.9828464751690635,
          7.165580392107367,
          8.77244629584253,
          8.931443457575515,
          11.183922024266796,
          14.89875442852266,
          16.914516786523162,
          12.776723140515388,
          7.77744502428919,
          5.0794549018517134,
          4.248655724534765,
          3.5207866000477224,
          3.4953266005963086,
          4.243893923386932,
          5.754849758930504,
          8.535095614381135,
          8.411443270742893,
          8.105705219516532,
          8.78639354580082,
          8.259667991250751,
          8.264459195137025,
          8.37646463546902,
          11.152067053141073,
          10.270740366727114,
          7.890421597929671,
          8.755796167152003,
          12.186938044466078,
          9.541197870867327,
          7.154274117387831,
          4.560039186337963,
          3.4591940439864985,
          3.1345768033433705,
          3.671508718505502,
          3.755076066860929,
          3.5401620100811124,
          3.604087011525407,
          2.39394842363894,
          6.325208828449249,
          8.010640133256093,
          8.188909108713268,
          8.142237358773126,
          5.508807204067707,
          5.32199925580062,
          5.452799001671375,
          5.861339931525291,
          7.700671058045701,
          10.349639637172222,
          9.603838820792735,
          7.574463404724375,
          7.93982632946223,
          6.3143162943050255,
          7.298709787810222,
          7.637082866402343,
          5.296982911797241,
          2.984844975369051,
          4.3008816529531035,
          5.567767646806315,
          6.023297693477943,
          4.634129577875138,
          3.9939426865056156,
          3.4222714124619964,
          6.310742424577477,
          10.167658821493387,
          9.87522550240159,
          11.578474927330388,
          12.431789952227843,
          8.92646021806635,
          8.89542152326554,
          6.999086918160319,
          5.507896890267729,
          5.554014000566676,
          6.013706202330068,
          5.548907732367516,
          8.121279197223483,
          10.189811771400272,
          9.045611866563558,
          9.886321829296648,
          9.342472239853816,
          10.506156148724257,
          11.509427533941343,
          7.8445592704787845,
          9.368558626519517,
          11.214535154588521,
          7.8560186349321155,
          6.5911652575805775,
          6.488875775234774,
          6.744815409183502,
          9.20848995488137,
          7.104211084404961,
          8.01139969356358,
          11.057151118153707,
          12.580630214521662,
          7.840810606777668,
          4.90881467946805,
          3.8016771376226095,
          3.170203783744946,
          3.239857098609209,
          3.5067120834160597,
          5.365360074164346,
          7.69565306325443,
          9.195323400907219,
          4.913657914660871,
          8.809344865428283,
          12.346045134030282,
          7.0997694722935565,
          4.8422284631896755,
          4.9588313632179055,
          4.613328790143132,
          4.567048296527937,
          3.2329038359224795,
          2.9698803864512593,
          6.107669839346782,
          9.112112570740283,
          8.13659721911885,
          7.601994707891717,
          7.665228382209316,
          12.651204540589825,
          5.542400275506078,
          4.080855373190716,
          3.366485505225137,
          3.8652633890509605,
          2.3103240035101775,
          2.2684784269053493,
          1.7816846885252744,
          2.1985179913789032,
          3.51256476458162,
          5.33089241143316,
          8.337368135377764,
          7.8441310952976355,
          7.968243912011384,
          7.439859887361527,
          5.723852552296594,
          7.7477226271852855,
          10.776104639321566,
          11.08197069988586,
          11.391280106315389,
          11.429102680869402,
          11.98134272623807,
          11.87532649547793,
          11.868180152922868,
          11.71080957655795,
          11.744014748223126,
          10.73970638051629,
          11.912653889963403,
          10.996218774700537,
          10.34459429317154,
          9.60260822866112,
          6.758782880650834,
          4.932506402404979,
          5.0425467636808765,
          8.329978918693959,
          8.623608080493286,
          7.376435116082431,
          9.755915179895236,
          8.868634587675333,
          7.669761970276015,
          7.824259720453992,
          8.097057519117369,
          5.954326982432976,
          9.453294156724587,
          9.895918137729169,
          4.7731155849993225,
          2.48811303883791,
          7.930571388304235,
          7.6861366119328896,
          7.542653572047129,
          7.540675159776583,
          10.101967473179101,
          8.274693592302501,
          10.04995704252273,
          4.9075465672090655,
          2.6098827914893628,
          6.097651509530842,
          6.158138478696346,
          5.994546121694148,
          5.579490117765964,
          8.795544825531543,
          12.379828265346585,
          10.744819150455296,
          5.203319024145603,
          3.9198447504639624,
          2.530948914736509,
          1.1111707291007042,
          2.4860150978341697,
          5.651149806715547,
          12.19505748540163,
          8.421813535876572,
          5.224908786267042,
          4.245608237981796,
          2.864732986092567,
          3.3541450560465456,
          3.5124922080337995,
          4.196951690465212,
          4.804936272688209,
          8.384393423944712,
          10.37465246129781,
          7.983421404100954,
          7.34706687837839,
          4.970694881714881,
          5.223728601485491,
          4.470128632523119,
          4.221976317502557,
          4.328924303092062,
          11.236101475395262,
          7.604693302847444,
          7.33105236157775,
          3.7534779467061172,
          3.1463592462614174,
          2.982230359911919,
          2.8659281806647776
         ],
         "yaxis": "y3"
        },
        {
         "boxmean": true,
         "marker": {
          "color": "rgb(252,141,98)"
         },
         "name": "Regime 1",
         "type": "box",
         "xaxis": "x3",
         "y": [
          5.911016529297922,
          30.274169032508507,
          38.459882418441126,
          45.70871381370583,
          69.5102038481296,
          68.46495754851261,
          57.876281362886075,
          12.50991868916899,
          25.022636611387135,
          23.091950758369638,
          11.913671837954315,
          31.08765908764675,
          37.802267528045924,
          41.91710960070834,
          49.80291540551931,
          76.28841520856368,
          69.60479827695526,
          54.75422091274754,
          24.525688991844653,
          30.49379657059908,
          16.707689966857433,
          55.209426216371355,
          88.5961646422837,
          163.30500559472475,
          217.1568706741184,
          205.33548551402987,
          200.24431813032368,
          152.2188367447257,
          104.281978086764,
          58.58577485852875,
          103.96346473690122,
          102.6363360707555,
          129.393394044498,
          298.3009905971796,
          326.89836240127914,
          441.93998625026086,
          456.8479540129564,
          405.9762660074164,
          343.7134759347071,
          290.0822022037208,
          324.4984235019074,
          190.2933884615288,
          117.93121375808491,
          145.19846970858288,
          101.88206314806826,
          128.00049910899486,
          138.57659964483233,
          134.20799141852416,
          131.42304847279797,
          98.42277831478278,
          44.08755000942387,
          42.34704753690399,
          58.12939373916015,
          88.78309516626409,
          101.49917971768649,
          136.97676101436141,
          144.5723977350071,
          112.76903256293387,
          98.56212610993535,
          47.52462622970343,
          47.680086165070534,
          46.07026623357088,
          44.1246100531891,
          29.678402094962074,
          36.273702569501474,
          43.76190539129078,
          46.325214972570535,
          42.03025507685729,
          43.03855200578458,
          53.97526419047266,
          62.51798491952011,
          86.84450736247001,
          105.55304361769,
          105.39247654188425,
          94.10933178901672,
          67.60197702989913,
          11.098031791336833,
          11.78822352857329,
          20.297469985568892,
          16.598454529196026,
          7.9145317314285775,
          8.601252667382358,
          19.623175529772418,
          37.30757280812599,
          38.96204275385476,
          41.01011566632427,
          53.3019091801811,
          96.92693992410787,
          121.69285825122147,
          151.60236310236155,
          153.89714687009342,
          131.97912783749402,
          98.04342297055759,
          59.755094272727135,
          51.68439694941044,
          64.17316117418001,
          64.06121179861017,
          64.52380214785225,
          63.902298161163934,
          59.33631665945053,
          86.72940002349205,
          64.38421130050905,
          86.63838218599558,
          105.07077325582505,
          116.50233620219865,
          122.51405268147587,
          132.32182910376227,
          116.31369271808303,
          70.63149616689421,
          71.19379288637079,
          97.19334961035291,
          89.08557092123665,
          116.23390981280245,
          124.63266652644612,
          97.6373065475002,
          58.838086976259945,
          38.504782669814304,
          40.44665747274645,
          61.67571161379105,
          84.10349509608932,
          118.71796454958617,
          116.38176773913206,
          117.45160420946777,
          114.57656397636981,
          103.8289161688555,
          51.68261702013202,
          59.98337731022389,
          76.58496727406978,
          78.6316808283422,
          93.25596751697363,
          78.46752339791507,
          55.73718087416141,
          147.4023411452863,
          220.33351620737463,
          252.20164658241907,
          289.77763356947344,
          308.5700453734491,
          264.9683943128213,
          176.48242040690033,
          88.09951084848493,
          55.29324854426086,
          59.36424165763892,
          73.35636514359153,
          83.77600022220051,
          93.56096067264676,
          77.83228509844282,
          73.36750737787224,
          80.47491056309082,
          71.95152275279165,
          79.57648141981102,
          99.90288412474095,
          109.62714253164827,
          84.12292552203871,
          98.08526321314275,
          80.57655044496991,
          78.21145033397713,
          83.96481909007767,
          52.74109475478531,
          38.49758839871734,
          46.470550514943895,
          67.71646009963936,
          80.990247091474,
          101.01071619224733,
          99.54984759544023,
          77.4472967049107,
          69.26845689043402,
          88.22665630363862,
          99.15237985522488,
          85.3617961049173,
          65.33617224056273,
          39.58769445255398,
          63.57108193129302,
          64.52172559589147,
          41.19046134337782,
          90.3493204472959,
          98.57778280321509,
          127.97101659387349,
          128.7843495054543,
          118.42119987923653,
          104.75884436964989,
          104.83446756783874,
          83.70771957788615,
          115.01606368605049,
          156.39960771683602,
          169.30024406328798,
          166.05444530878216,
          123.53583400040864,
          99.72556056290867,
          80.53777900174259,
          68.25768148530274,
          99.29863614454865,
          125.97571616083383,
          142.17375553119928,
          152.59224008698018,
          120.24843453843145,
          87.71616199392827,
          35.07907153576612,
          59.93842612281442,
          60.71093960493803
         ],
         "yaxis": "y3"
        },
        {
         "boxmean": true,
         "marker": {
          "color": "rgb(141,160,203)"
         },
         "name": "Regime 2",
         "type": "box",
         "xaxis": "x3",
         "y": [
          47.68634116688976,
          33.34956090986729,
          19.863953233000355,
          17.09326307493262,
          17.801913832549467,
          18.108704977938906,
          18.700032110942992,
          25.01899331105873,
          25.99719533045078,
          21.975219709335356,
          19.23922648766078,
          15.914055145366584,
          36.688284164164216,
          29.159213682692496,
          24.583496642021927,
          19.873200869644062,
          13.409808523163665,
          5.509665578315034,
          13.607721759276464,
          14.88842595179798,
          21.135727946916596,
          28.11110364222899,
          23.908163548142184,
          16.522587835744492,
          14.325273327671459,
          11.38094033301808,
          10.173933171443643,
          11.340927630031949,
          18.208637082728092,
          24.158770060362293,
          21.373271585851906,
          13.205088454894721,
          12.161104560273234,
          19.922411516963034,
          18.862283511376006,
          16.25372090778314,
          11.146142526019831,
          10.035939426582775,
          11.902907062203159,
          13.75334972613491,
          15.864147682944312,
          21.938543893026655,
          21.850144404582675,
          18.582899766473567,
          20.094873673582917,
          19.159282923138235,
          21.752739706190763,
          23.33106676435331,
          22.802942647936288,
          25.57550256923074,
          29.838697342409283,
          19.519378363806755,
          24.63369882074418,
          31.35516003302531,
          36.004762596033984,
          25.607329253163194,
          22.43289506412344,
          18.18871687012957,
          20.437373476186767,
          25.670398498885334,
          28.63141997944564,
          15.230947158588098,
          17.55748659010045,
          19.222994448281824,
          17.55444668188924,
          18.422215464825275,
          18.22494362430647,
          12.54890842936933,
          12.99509005778469,
          17.600241652524566,
          21.766424110028893,
          22.991481998553503,
          24.165946343422405,
          18.134416064843535,
          32.38083168506623,
          29.961262349793685,
          24.55140265598893,
          19.51236995924264,
          12.3996493747551,
          11.702053121672943,
          13.31303280950524,
          14.587329600462695,
          16.982382853887977,
          20.047789681786675,
          21.65392105364241,
          13.611671848632398,
          40.14453970102825,
          28.639081036637073,
          13.959653545136097,
          11.699537717141212,
          12.483410833040253,
          14.280245744893326,
          15.504903117902575,
          24.871633212305607,
          27.76402145774104,
          27.08605547528714,
          26.73583146821708,
          15.948742349594832,
          12.743729257434605,
          8.90460379179567,
          10.27917557270266,
          12.317770505407827,
          12.036458522910252,
          12.021423370400445,
          10.893926879772916,
          9.744142002994195,
          13.891209536008535,
          14.923509567985311,
          18.475104545066134,
          20.113395811254158,
          21.91120652031153,
          27.414128939071666,
          36.086555049903694,
          29.615095476144923,
          24.83919722527266,
          17.880791314924135,
          22.220577163659037,
          24.979184691384436,
          27.792062237672507,
          36.87600226466544,
          45.26106486074626,
          44.84258870025165,
          43.129549743831156,
          44.22566769440658,
          44.11897631776519,
          40.7656384300068,
          29.078491338118916,
          20.837056928882372,
          14.677769503705202,
          8.159003140600399,
          11.491465767137706,
          12.128813607096673,
          10.900980851650239,
          11.009668621243907,
          12.1422732865531,
          18.871642301417886,
          20.725783533686773,
          24.266090280944482,
          23.033914504386484,
          25.752292621470986,
          13.487108686752617,
          16.541648039491847,
          17.555177718074994,
          19.262285421043636,
          13.548891266705471,
          14.152779599102214,
          14.51932989194989,
          19.051258461372928,
          20.113082279087976,
          23.220208498658614,
          28.21726003718562,
          21.26062054872513,
          17.52578240764327,
          33.71466467072256,
          37.4656000271067,
          50.09036306809634,
          58.6239974320773,
          56.053429643819115,
          52.06947191782295,
          40.97705688503571,
          12.544148306371643,
          9.89364860393107,
          11.736659136833623,
          12.554751268820837,
          19.84806083162315,
          26.04666962792166,
          26.425779588343573,
          23.998047428913416,
          18.17735916249454,
          15.376452132649721,
          17.951959249153735,
          19.049872621372344,
          24.17377242349088,
          24.708938339734452,
          20.264876485802233,
          15.362101233974098,
          18.0860833311826,
          32.700487209148704,
          34.87696396750398,
          33.31098094224931,
          31.475495794499295,
          22.2563053045515,
          20.530108035318552,
          45.357180830547584,
          24.533026563981547,
          13.113609698647632,
          19.95664558891207,
          20.129942982271313,
          19.02154270564206,
          20.893512473106384,
          25.308264598818493,
          32.64655587618239,
          39.17931566033512,
          38.68328706611879,
          39.399998396681625,
          22.236436446160077,
          8.45497005567886,
          15.226447584191337,
          13.839550539338962,
          12.504632634148,
          13.22721094106324,
          18.987559016244482,
          16.917562393061818,
          16.960391503842544,
          16.773356552422047,
          14.18601551219821,
          21.071573122553527,
          24.720406069010487,
          32.30256485120393,
          38.417805371806026,
          39.92052764225751,
          23.55056597833522,
          18.195030239634217,
          13.729458248391747,
          25.341046516187486,
          34.441748275058345,
          37.27094631116837,
          33.51487778093666,
          31.311377322943876,
          33.480509094791486,
          32.4104947685171,
          22.64884036887437,
          15.415506934234873,
          18.18520809147507,
          18.00708259587176,
          17.30106387346983,
          18.145726027050987,
          19.308731421465055,
          17.29862504140474,
          13.696740911537779,
          17.062600054182116,
          18.682828613566233,
          19.87935170378536,
          22.330077140862123,
          20.891845714906232,
          17.38156876094639,
          23.353446604320776,
          20.780986295826732,
          17.84237354067154,
          17.79287786003202,
          16.606183314556255,
          20.644512445703146,
          18.924694986464452,
          21.284353369995948,
          20.273291301392018,
          25.22447062503547,
          25.48795798094012,
          25.25248117674142,
          20.87685714788735,
          14.480197197655215,
          19.84621188562363,
          21.474624986350534,
          29.83454261180944,
          38.282865951033315,
          47.77566290591843,
          51.56114607617259,
          48.52857192718424,
          35.223139107460156,
          16.29921529070474,
          12.128704398954287,
          16.871272795423867,
          19.890202730605377,
          22.45213831156492,
          20.901450838977475,
          12.682266542911531,
          35.730692329220474,
          36.68633464951999,
          38.675926434444264,
          34.54068201072514,
          42.89894794308581,
          44.31323587560095,
          40.58577018886805,
          29.87189050951041,
          24.91307300598361,
          12.72353561524302,
          16.090313594425098,
          15.655271989516914,
          15.526842051418498,
          19.146507561029868,
          31.33316286247224,
          42.01546700884589,
          48.430672753648835,
          53.72985376981087,
          54.658169412277644,
          48.17759847437031,
          21.29857690674253,
          13.084156822310764,
          12.780886441878973,
          17.642774913683535,
          22.066124990023674,
          21.027713217968124,
          18.181130735585462,
          19.41043475367129,
          19.395496231354773,
          23.873618662739172,
          29.783306463584303,
          56.406621860722076,
          48.593671845356006,
          18.741384813571347,
          21.17565038093366,
          31.275510785812514,
          30.21096957297064,
          22.02221382226795,
          30.615494838319723,
          41.44830320590176,
          49.94809568818658,
          48.11224087383598,
          49.378032072344794,
          38.033955872282384,
          22.758776674233378,
          21.0202941209916,
          34.08495731133968,
          51.940462966645136,
          46.77178420633077,
          48.37432412863709,
          48.619016407663004,
          49.71094635393471,
          48.235683715725315,
          43.64348042652942,
          55.93168038282543,
          52.76985255145469,
          41.90501175891608,
          30.841062508299945,
          26.180816729329525,
          21.193409587293864,
          20.356843605488542,
          16.10648855190724,
          17.40133688942529,
          20.466006140597166,
          33.43384532429278,
          35.389910703562194,
          28.175620357142765,
          33.93459098618477,
          34.207140983501446,
          19.747468772167338,
          14.461608843542635,
          14.88944637872279,
          29.887878588810565,
          32.95047378841788,
          43.19053693599999,
          31.032927923174576,
          30.743340224670256,
          30.236445950614286,
          29.500878050820905,
          34.29266235906631,
          57.02624562736601,
          51.129927928084506,
          27.97527528829873,
          19.3905399272684,
          56.35773894660175,
          57.191646301783614,
          55.902842645989736,
          55.91125486289151,
          40.410611514709885,
          22.415783051811157,
          19.37428946667351,
          17.698731187321247,
          17.29388278190978,
          13.67714215055108,
          11.409923610547557,
          12.388700883546845,
          13.876204816773534,
          11.662721777530386,
          11.46005042587407,
          17.984791318699717,
          26.98593828779645,
          41.55052763413637,
          47.74483936153352,
          52.67587296538055,
          47.55030297663994,
          46.33743345387279,
          42.38760980289429,
          57.57669837252238,
          47.32964755267837,
          46.3097588133905,
          54.75474054962397,
          61.68702497486024,
          56.76515057777054,
          46.33789129172452,
          14.981617674604058,
          11.9402062606439,
          11.947895430224017,
          26.095423984946684,
          38.38626085286029,
          41.40557246129959,
          43.05820986674168,
          42.84772970975377,
          35.75374779858627,
          35.12081494182348,
          33.10619222764858,
          39.71217936690897,
          39.924744011694564,
          55.94192192704418,
          22.878398045534272,
          32.61222330532968,
          33.97801495011896,
          35.031089293062685,
          39.61316592246294,
          48.272424563216035,
          50.234883229061964,
          57.472937989458444,
          37.99314429392107,
          36.93675383642316,
          39.314368334561586,
          43.47533389642835,
          50.11053694527596,
          56.223537001982336,
          55.64644039906561,
          54.96475826181472,
          55.00962010961026,
          43.1405730985105,
          29.809109855778512,
          21.596019637919962,
          31.684000642932954,
          46.06818637944758,
          64.69962983705103,
          59.989067980311816,
          61.864657730693,
          54.83739736796357,
          52.84844290883281,
          50.65423106387258,
          41.1502122752741,
          28.544778648661453,
          26.48975213994272,
          26.2038032045681,
          24.72341969040222,
          27.84520523850806,
          63.92764323599636,
          52.13540079522878,
          44.564555835621434,
          16.98889880166389,
          22.413833270259197,
          23.288502397723498,
          21.161915581496434,
          22.145468355910854,
          27.48399500665255,
          28.41088457036763,
          31.055748458066954,
          30.12513064142317,
          28.91699258353561,
          22.661113545717672,
          21.59778802767396,
          22.543657355345783,
          34.298248422527685,
          44.38406777576544,
          45.66345548168756,
          49.80205178820529,
          51.20388697260059,
          44.07033507488668,
          28.598626193450762,
          8.674318425767122,
          15.667974192732947,
          27.119348662206903,
          30.71521984533407,
          40.15660141714849,
          42.87962552093901,
          34.24921409756877,
          29.62986160829663,
          15.131234869509935,
          16.54592658755369,
          14.295162376947701,
          13.118427269617095,
          18.463181542940436,
          23.984049511291083,
          24.3972981229797,
          29.46063176010735,
          32.040647977413606,
          31.527477829800922,
          28.670536628933625,
          26.78314263042062,
          27.24684562929906,
          20.86496159144677,
          19.32181567781605,
          18.078348548002545,
          18.571783158034087,
          24.230697987796738,
          27.39693155427463,
          36.601404722929,
          41.1950659081433,
          39.21814879738726,
          34.15916788958945,
          17.70505442205816,
          12.50263111297041,
          8.967387175895274,
          9.008404673486947,
          8.99454439416528,
          13.063714549690484,
          25.59389887884259,
          36.811292872661724,
          38.11243664958514,
          41.20586359077133,
          40.47222237586975,
          31.174569850824774,
          19.01354286860674,
          21.801743749799204,
          17.87852030530572,
          18.3983371256385,
          15.486382549256087,
          9.61974590498954,
          8.98193450701423,
          9.190129860527815,
          15.266806019432844,
          24.96752984681167,
          36.2617111887876,
          42.84521564092487,
          38.03910060863942,
          32.30815951492637,
          27.365672034919264,
          20.317848906479774,
          11.947468617148697,
          12.19334074725397,
          14.934777658469978,
          15.104442236199976,
          15.152905833497645,
          13.220765609517693,
          18.435314471237362,
          24.754737327815967,
          31.052312850775202,
          29.68774943818338,
          21.781500536398962,
          16.544125268878418,
          20.123759706886485,
          24.395395219521596,
          19.533382398160178,
          24.896012639449907,
          29.789333320744333,
          27.93214797802269,
          23.88057311516255,
          16.275766368666662,
          13.125918179946021,
          16.255578017793596,
          15.685228343121707,
          15.39667582254857,
          12.613444552579896,
          17.116359724886713,
          25.404701025076204,
          32.8387383350078,
          29.856121597522865,
          21.763180500119923,
          13.564357406655327,
          12.036297873826697,
          12.5902304640878,
          13.46181658972986,
          15.93032610286958,
          18.364565553367136,
          16.12826049664058,
          16.268177409507334,
          21.93714147243649,
          18.521983499499036,
          16.302350465478376,
          14.89890000227839,
          14.382336340472103,
          11.731400524349883,
          5.990504516065121,
          13.369742614300923,
          23.317736252592873,
          26.825529021592807,
          27.931789700351658,
          27.194745445633306,
          21.967123738080264,
          21.226089243860915,
          20.120471458658574,
          33.14739007525146,
          36.61931271423585,
          50.78714034318924,
          57.17473225951195,
          44.12301213127561,
          38.210730959149075,
          26.944717272566628,
          18.24412401892245,
          18.620412344262004,
          20.75273448494263,
          20.830029029669237,
          23.5949357079342,
          16.991483513684944,
          11.924151647500693,
          9.292365411147475,
          20.323943673484024,
          31.361601338433104,
          33.4725508531183,
          39.50746011637152,
          53.74550653599202,
          67.46155105683953,
          54.246571309128775,
          31.73996587280184,
          21.34289822258055,
          29.237740424238144,
          49.83836139873601,
          46.59992300067097,
          39.88871990829706,
          33.05316044059582,
          35.61520382739603,
          39.17759736721404,
          45.07666167281568,
          45.177151741134004,
          42.99607861746103,
          25.813762790942565,
          17.930717956461013,
          19.00572594963946,
          29.711027201497927,
          37.03876224718988,
          42.97443099250086,
          48.10562867842615,
          34.25858992062509,
          27.00362878642976,
          19.826642710193994,
          13.59988942743279,
          15.869723443873227,
          18.697081380756572,
          24.87333407510072,
          27.52474098597653,
          33.31973332051187,
          31.640248695621267,
          16.872822772944346,
          9.2356987753883,
          12.037822610475121,
          11.635686868699269,
          12.132323803044855,
          15.862815883755683,
          19.441381458230317,
          24.039362032189967,
          28.49071606043726,
          27.304070650264624,
          13.245449129948392,
          11.592669277461246,
          17.123187991753223,
          19.711698495792227,
          22.72299592596479,
          17.81316416514106,
          17.795702980281785,
          24.261867179870602,
          25.18265567570925,
          15.643132552169263,
          16.067516120523216,
          17.659180758195,
          15.184503993289542,
          15.408582370020445,
          17.93279592552222,
          17.908705291897057,
          10.52179526303895,
          21.233012190051376,
          31.892737540612,
          43.172624594951046,
          56.73164505884982,
          69.39429700718262,
          62.91788704149426,
          45.200114306332544,
          36.630462331697345,
          16.296001472510397,
          12.835631062546744,
          17.649692438924685,
          17.741119005018845,
          17.839383010054007,
          16.807336974153294,
          13.371007072031498,
          20.529256247878077,
          29.517443708293143,
          35.841371845677486,
          41.891337852142755,
          49.537917448207736,
          55.63240772579796,
          49.09255446441472,
          39.41947576481849,
          27.677252495326098,
          23.689738934077326,
          24.311982454815883,
          23.718611110784117,
          18.056774427331987,
          13.920444430410862,
          13.795038400627671,
          17.134150792695582,
          21.192749662734567,
          27.575853374451395,
          24.44222868386656,
          24.359673563241955,
          26.662861713357266,
          25.220362849123777,
          26.195434285104277,
          23.563126172870398,
          16.450126733630896,
          17.465766523182392,
          19.226719474382698,
          28.94420518804342,
          27.97423469949514,
          29.324095777757464,
          24.749628907591106,
          21.0601774930954,
          14.11794294580817,
          12.744500531591475,
          19.236548627913,
          19.532089845240115,
          20.50182568445802,
          57.167052992470566,
          36.972993273623295,
          29.278569914996627,
          27.110933356024326,
          44.252604393512016,
          27.778790494948623,
          9.823917783834041,
          15.954475258886811,
          22.010391701348127,
          47.796426105089495,
          50.033244527466586,
          47.25181725338101,
          39.77147447202354,
          40.7575996285677,
          46.23353551566602,
          44.492311815209696,
          53.917149742133915,
          57.80895829930902,
          76.37453383598476,
          57.51843809936196,
          46.53900707367808,
          33.71538479536772,
          24.88144379943609,
          22.708806771822275,
          20.497380516827107,
          18.914647202044726,
          13.048654792308806,
          15.730833391435445,
          28.08820776849985,
          28.088268683142964,
          28.486361303031448,
          23.483755218274894,
          24.97286518648267,
          13.117570895552635,
          18.126795556247234,
          21.908949513025583,
          25.020128844827415,
          20.873540254719554,
          39.82852099299431,
          43.289668315798046,
          18.19554506674409,
          18.486295185089112,
          18.000902400016784,
          16.03853878904134,
          14.775846575051549,
          18.998624928891658,
          20.51034761998803,
          27.897067444063726,
          25.962190983593466,
          23.19241801932454,
          24.57725698757917,
          19.24183541029692,
          16.37425156921148,
          59.0116029940918,
          59.40738173946738,
          54.26692316100002,
          51.10922328516842,
          51.70339731499553,
          45.63889745116234
         ],
         "yaxis": "y3"
        },
        {
         "boxmean": true,
         "marker": {
          "color": "rgb(102,194,165)"
         },
         "name": "Regime 0",
         "type": "box",
         "xaxis": "x4",
         "y": [
          9.770000457763672,
          9.149999618530273,
          9.220000267028809,
          9.220000267028809,
          9.520000457763672,
          10.079999923706055,
          9.819999694824219,
          9.880000114440918,
          10.15999984741211,
          11.65999984741211,
          11.90999984741211,
          12.220000267028809,
          11.270000457763672,
          11.029999732971191,
          11.100000381469727,
          11.470000267028809,
          11.579999923706055,
          11.079999923706055,
          13.84000015258789,
          14.789999961853027,
          13.539999961853027,
          13.470000267028809,
          16.489999771118164,
          15.800000190734863,
          18.59000015258789,
          19.850000381469727,
          22.469999313354492,
          19.59000015258789,
          18.729999542236328,
          18.360000610351562,
          17.760000228881836,
          16.540000915527344,
          14.640000343322754,
          15.779999732971191,
          16.350000381469727,
          17.229999542236328,
          16.59000015258789,
          15.800000190734863,
          19.020000457763672,
          18.200000762939453,
          17.860000610351562,
          20.059999465942383,
          18.940000534057617,
          21.489999771118164,
          21.770000457763672,
          20.469999313354492,
          20.239999771118164,
          18.489999771118164,
          17.40999984741211,
          16.559999465942383,
          15.25,
          15.600000381469727,
          15.960000038146973,
          16.8799991607666,
          16.34000015258789,
          18.020000457763672,
          17.84000015258789,
          16.239999771118164,
          15.40999984741211,
          15.930000305175781,
          15.489999771118164,
          15.970000267028809,
          15.899999618530273,
          14.770000457763672,
          14.75,
          14.710000038146973,
          13.420000076293945,
          13.229999542236328,
          12.649999618530273,
          12.930000305175781,
          14.630000114440918,
          13.420000076293945,
          13.430000305175781,
          13.420000076293945,
          13.079999923706055,
          13.220000267028809,
          12.579999923706055,
          12.529999732971191,
          13.220000267028809,
          17.020000457763672,
          14.9399995803833,
          15.430000305175781,
          13.460000038146973,
          12.739999771118164,
          12.399999618530273,
          11.640000343322754,
          12.130000114440918,
          12.180000305175781,
          12.350000381469727,
          12.34000015258789,
          12.9399995803833,
          12.119999885559082,
          11.979999542236328,
          12.3100004196167,
          13.350000381469727,
          12.789999961853027,
          14.640000343322754,
          13.770000457763672,
          17.329999923706055,
          15.920000076293945,
          17.90999984741211,
          16.850000381469727,
          16.09000015258789,
          15.600000381469727,
          16.139999389648438,
          14.970000267028809,
          13.369999885559082,
          12.6899995803833,
          12.640000343322754,
          13.630000114440918,
          12.579999923706055,
          12.180000305175781,
          12.829999923706055,
          12.0600004196167,
          12.100000381469727,
          12.869999885559082,
          12.859999656677246,
          12.619999885559082,
          12.40999984741211,
          12.289999961853027,
          12.140000343322754,
          13.029999732971191,
          14.260000228881836,
          12.829999923706055,
          13.149999618530273,
          12.1899995803833,
          11.640000343322754,
          11.270000457763672,
          10.930000305175781,
          10.850000381469727,
          11.270000457763672,
          13.15999984741211,
          14.779999732971191,
          13.3100004196167,
          14.640000343322754,
          13.449999809265137,
          12.640000343322754,
          12.489999771118164,
          12.859999656677246,
          12.25,
          12.40999984741211,
          11.989999771118164,
          12.15999984741211,
          12.5,
          12.25,
          13.529999732971191,
          12.859999656677246,
          13.15999984741211,
          13.90999984741211,
          14.649999618530273,
          14.880000114440918,
          14.15999984741211,
          13.220000267028809,
          13.140000343322754,
          12.369999885559082,
          12.069999694824219,
          13.680000305175781,
          12.789999961853027,
          11.75,
          11.800000190734863,
          11.680000305175781,
          12.199999809265137,
          12.420000076293945,
          12.890000343322754,
          12.40999984741211,
          12.119999885559082,
          12,
          12.050000190734863,
          11.609999656677246,
          14.220000267028809,
          14.819999694824219,
          15.6899995803833,
          15.949999809265137,
          20.020000457763672,
          21.25,
          19.979999542236328,
          18.139999389648438,
          18.059999465942383,
          17.799999237060547,
          20.799999237060547,
          19.520000457763672,
          18.889999389648438,
          17.420000076293945,
          18.8700008392334,
          19.1299991607666,
          17.65999984741211,
          16.56999969482422,
          16.139999389648438,
          15.729999542236328,
          15.569999694824219,
          15.380000114440918,
          16.3700008392334,
          15.720000267028809,
          15.970000267028809,
          15.430000305175781,
          15.649999618530273,
          16.219999313354492,
          14.90999984741211,
          14.880000114440918,
          14.020000457763672,
          14.460000038146973,
          13.510000228881836,
          14.850000381469727,
          15.170000076293945,
          14.699999809265137,
          14.779999732971191,
          13.569999694824219,
          14.630000114440918,
          14.739999771118164,
          15.739999771118164,
          16.59000015258789,
          16.049999237060547,
          14.329999923706055,
          13.770000457763672,
          13.40999984741211,
          13.5,
          12.880000114440918,
          13.100000381469727,
          13.5600004196167,
          13.90999984741211,
          13.630000114440918,
          16.479999542236328,
          16.329999923706055,
          14.680000305175781,
          15.149999618530273,
          14.430000305175781,
          13.710000038146973,
          13.399999618530273,
          13.359999656677246,
          13.739999771118164,
          13.579999923706055,
          12.819999694824219,
          13.180000305175781,
          14.279999732971191,
          13.300000190734863,
          13.020000457763672,
          12.010000228881836,
          12.319999694824219,
          12.180000305175781,
          12.600000381469727,
          12.09000015258789,
          12.420000076293945,
          12.279999732971191,
          13.140000343322754,
          13.25,
          12.729999542236328,
          13.109999656677246,
          13.119999885559082,
          14.800000190734863,
          14.420000076293945,
          12.869999885559082,
          15.4399995803833,
          19.31999969482422,
          19.399999618530273,
          19.100000381469727,
          16.040000915527344,
          16.440000534057617,
          15.289999961853027,
          15.960000038146973,
          16.309999465942383,
          14.949999809265137,
          14.75,
          16.920000076293945,
          15.850000381469727,
          17.5,
          17.899999618530273,
          17.299999237060547,
          18.709999084472656,
          18.860000610351562,
          16.969999313354492,
          16.09000015258789,
          15.930000305175781,
          16.299999237060547,
          15.350000381469727,
          15.149999618530273,
          14.329999923706055,
          14.75,
          15.399999618530273,
          15.260000228881836,
          16.280000686645508,
          16.209999084472656,
          15.819999694824219,
          15.079999923706055,
          14.0600004196167,
          12.930000305175781,
          12.569999694824219,
          13.279999732971191,
          13.960000038146973,
          14.09000015258789,
          13.029999732971191,
          12.930000305175781,
          12.390000343322754,
          12.680000305175781,
          12.859999656677246,
          13.970000267028809,
          13.529999732971191,
          14.449999809265137,
          13.529999732971191,
          12.609999656677246,
          12.069999694824219,
          12.739999771118164,
          12.15999984741211,
          12.829999923706055,
          13.9399995803833,
          16.1200008392334,
          17.8700008392334,
          17.610000610351562,
          21.18000030517578,
          18.469999313354492,
          16.8799991607666,
          17.5,
          15.800000190734863,
          16.68000030517578,
          19.8700008392334,
          19.31999969482422,
          20.309999465942383,
          19.350000381469727,
          17.8799991607666,
          18.979999542236328,
          19.65999984741211,
          17.329999923706055,
          16.270000457763672,
          15,
          15.270000457763672,
          15.199999809265137,
          14.609999656677246,
          14.220000267028809,
          13.739999771118164,
          14.670000076293945,
          14.4399995803833,
          13.949999809265137,
          14.050000190734863,
          15.319999694824219,
          14.90999984741211,
          17.049999237060547,
          15.960000038146973,
          16.06999969482422,
          17.219999313354492,
          16.239999771118164,
          18.559999465942383,
          20.559999465942383,
          19.1200008392334,
          17.040000915527344,
          17.860000610351562,
          20.280000686645508,
          18.639999389648438,
          17.56999969482422,
          15.579999923706055,
          14.569999694824219,
          13.539999961853027,
          13.680000305175781,
          13.789999961853027,
          14.25,
          14,
          14.460000038146973,
          14.010000228881836,
          13.710000038146973,
          12.649999618530273,
          13.109999656677246,
          13.199999809265137,
          12.329999923706055,
          13.220000267028809,
          12.300000190734863,
          12.829999923706055,
          13.100000381469727,
          12.619999885559082,
          12.729999542236328,
          12.069999694824219,
          12.6899995803833,
          12.680000305175781,
          13,
          13.050000190734863,
          12.050000190734863,
          12.460000038146973,
          12.859999656677246,
          12.779999732971191,
          13.130000114440918,
          12.34000015258789,
          11.869999885559082,
          11.539999961853027,
          11.75,
          12.619999885559082,
          14.90999984741211,
          15.960000038146973,
          14.800000190734863,
          14.520000457763672,
          13.619999885559082,
          15.859999656677246,
          15.680000305175781,
          14.989999771118164,
          13.9399995803833,
          12.630000114440918,
          12.140000343322754,
          12.289999961853027,
          12.579999923706055,
          12.5,
          12.510000228881836,
          12.609999656677246,
          12.670000076293945,
          12.649999618530273,
          13.430000305175781,
          14.819999694824219,
          13.779999732971191,
          12.470000267028809,
          14.020000457763672,
          13.850000381469727,
          13.789999961853027,
          13.449999809265137,
          12.539999961853027,
          12.5600004196167,
          12.319999694824219,
          12.390000343322754,
          12.420000076293945,
          12.319999694824219,
          12.100000381469727,
          12.850000381469727,
          12.90999984741211,
          12.979999542236328,
          14.5600004196167,
          18.229999542236328,
          16.280000686645508,
          16.389999389648438,
          15.489999771118164,
          18.84000015258789,
          17.969999313354492,
          16.049999237060547,
          15.149999618530273,
          14.960000038146973,
          14.829999923706055,
          14.380000114440918,
          15.5600004196167,
          17.079999923706055,
          29.520000457763672,
          27.760000228881836,
          28,
          25.68000030517578,
          24.459999084472656,
          24.84000015258789,
          24.31999969482422,
          26.079999923706055,
          25.84000015258789,
          24.739999771118164,
          25.440000534057617,
          24.100000381469727,
          24.760000228881836,
          24.459999084472656,
          24.280000686645508,
          23.760000228881836,
          22.989999771118164,
          22.1299991607666,
          22.049999237060547,
          21.350000381469727,
          21.510000228881836,
          22.540000915527344,
          22.719999313354492,
          22.540000915527344,
          22.3700008392334,
          22.030000686645508,
          23.270000457763672,
          29.350000381469727,
          28.649999618530273,
          28.110000610351562,
          27.549999237060547,
          32.459999084472656,
          33.349998474121094,
          23.110000610351562,
          23.700000762939453,
          22.65999984741211,
          21.639999389648438,
          21.25,
          20.84000015258789,
          20.56999969482422,
          20.770000457763672,
          21.170000076293945,
          21.280000686645508,
          20.790000915527344,
          21.299999237060547,
          20.68000030517578,
          22.270000457763672,
          22.520000457763672,
          23.309999465942383,
          24.719999313354492,
          22.889999389648438,
          22.5,
          21.93000030517578,
          21.56999969482422,
          25.15999984741211,
          24.229999542236328,
          23.309999465942383,
          21.530000686645508,
          21.700000762939453,
          23.079999923706055,
          22.770000457763672,
          22.75,
          26.969999313354492,
          25.34000015258789,
          25.06999969482422,
          22.3700008392334,
          21.559999465942383,
          24.079999923706055,
          23.329999923706055,
          22.209999084472656,
          23.25,
          24.34000015258789,
          23.239999771118164,
          21.579999923706055,
          21.31999969482422,
          21.90999984741211,
          23.190000534057617,
          23.020000457763672,
          21.459999084472656,
          21.5,
          22.489999771118164,
          22.049999237060547,
          23.450000762939453,
          23.110000610351562,
          21.34000015258789,
          18.8799991607666,
          20.299999237060547,
          21.200000762939453,
          19.809999465942383,
          18.860000610351562,
          20.739999771118164,
          19.610000610351562,
          19.399999618530273,
          16.25,
          17.290000915527344,
          18.68000030517578,
          17.5,
          18.709999084472656,
          17.329999923706055,
          17.639999389648438,
          17.559999465942383,
          17.280000686645508,
          17.610000610351562,
          18.610000610351562,
          18.309999465942383,
          19.479999542236328,
          19.149999618530273,
          18.389999389648438,
          16.690000534057617,
          19.65999984741211,
          21.84000015258789,
          20.149999618530273,
          18.399999618530273,
          18.84000015258789,
          17.360000610351562,
          16.739999771118164,
          16.760000228881836,
          17.899999618530273,
          17.479999542236328,
          18.040000915527344,
          16.420000076293945,
          16.420000076293945,
          17.06999969482422,
          17.889999389648438,
          16.100000381469727,
          15.649999618530273,
          16.389999389648438,
          17.020000457763672,
          18.149999618530273,
          17.75,
          20.700000762939453,
          17.889999389648438,
          16.65999984741211,
          16.31999969482422,
          15.970000267028809,
          15.619999885559082,
          15.760000228881836,
          16.020000457763672,
          15.829999923706055,
          15.479999542236328,
          15.069999694824219,
          16.440000534057617,
          16.200000762939453,
          19,
          16.18000030517578,
          16.170000076293945,
          17.1200008392334,
          16.329999923706055,
          17.010000228881836,
          18.450000762939453,
          22.5,
          19.729999542236328,
          17.90999984741211,
          17.690000534057617,
          19.459999084472656,
          18.040000915527344,
          17.969999313354492,
          17.280000686645508,
          16.149999618530273,
          16.719999313354492,
          16.790000915527344,
          16.170000076293945,
          15.59000015258789,
          15.449999809265137,
          16.1200008392334,
          17.90999984741211,
          21.56999969482422,
          21.670000076293945,
          18.559999465942383,
          17.149999618530273,
          17.219999313354492,
          16.790000915527344,
          18.84000015258789,
          16.389999389648438,
          16.190000534057617,
          16.479999542236328,
          16.110000610351562,
          16.40999984741211,
          16.40999984741211,
          18.139999389648438,
          17.959999084472656,
          18.799999237060547,
          20.950000762939453,
          19.3700008392334,
          19.459999084472656,
          18.18000030517578,
          18.690000534057617,
          20.809999465942383,
          20,
          19.850000381469727,
          18.639999389648438,
          16.860000610351562,
          16.260000228881836,
          16.40999984741211,
          16.030000686645508,
          15.100000381469727,
          17.65999984741211,
          16.290000915527344,
          16.489999771118164,
          16.3700008392334,
          17.110000610351562,
          17.59000015258789,
          17.90999984741211,
          19.170000076293945,
          19.3799991607666,
          18.579999923706055,
          20.350000381469727,
          20.5,
          22.209999084472656,
          21.889999389648438,
          21.670000076293945,
          22.899999618530273,
          22.010000228881836,
          22.459999084472656,
          21.1299991607666,
          21.969999313354492,
          20.34000015258789,
          18.90999984741211,
          18.229999542236328,
          20.170000076293945,
          20.020000457763672,
          19.09000015258789,
          17.799999237060547,
          17.06999969482422,
          16.950000762939453,
          16.829999923706055,
          16.459999084472656,
          17.170000076293945,
          16.770000457763672,
          16.889999389648438,
          18.760000228881836,
          18.84000015258789,
          17.030000686645508,
          15.779999732971191,
          16.079999923706055,
          16.940000534057617,
          16.93000030517578,
          17.030000686645508,
          17.1200008392334,
          17.989999771118164,
          16.8700008392334,
          16.049999237060547,
          16.809999465942383,
          17.209999084472656,
          18.530000686645508,
          20.030000686645508,
          19.139999389648438,
          17.950000762939453,
          17.459999084472656,
          17.940000534057617,
          15.649999618530273,
          13.4399995803833,
          14.25,
          13.739999771118164,
          13.430000305175781,
          13.539999961853027,
          13.59000015258789,
          14.84000015258789,
          13.539999961853027,
          13.609999656677246,
          13.34000015258789,
          13.859999656677246,
          13.1899995803833,
          14.40999984741211,
          13.329999923706055,
          13.630000114440918,
          13.930000305175781,
          16.09000015258789,
          15.920000076293945,
          14.819999694824219,
          16.459999084472656,
          16.780000686645508,
          13.84000015258789,
          13.800000190734863,
          14.229999542236328,
          13.479999542236328,
          12.819999694824219,
          13.789999961853027,
          14,
          14.109999656677246,
          15.140000343322754,
          18.579999923706055,
          18.489999771118164,
          17.450000762939453,
          17.700000762939453,
          17.030000686645508,
          12.6899995803833,
          12.979999542236328,
          12.920000076293945,
          12.630000114440918,
          13.079999923706055,
          12.850000381469727,
          12.970000267028809,
          13.0600004196167,
          12.350000381469727,
          12.630000114440918,
          12.069999694824219,
          12.430000305175781,
          12.470000267028809,
          12.449999809265137,
          13.199999809265137,
          14.039999961853027,
          14.130000114440918,
          13.350000381469727,
          13.079999923706055,
          12.760000228881836,
          12.6899995803833,
          12.4399995803833,
          12.699999809265137,
          13.84000015258789,
          14.789999961853027,
          14.130000114440918,
          13.300000190734863,
          13.1899995803833,
          14.010000228881836,
          14.239999771118164,
          15.420000076293945,
          15.34000015258789,
          14.5,
          14.4399995803833,
          14.739999771118164,
          15.220000267028809,
          13.84000015258789,
          13.75,
          14.399999618530273,
          14.40999984741211,
          14.329999923706055,
          13.819999694824219,
          13.039999961853027,
          13.649999618530273,
          14.609999656677246,
          14.329999923706055,
          16.350000381469727,
          16.030000686645508,
          15.1899995803833,
          14.979999542236328,
          15.800000190734863,
          14.90999984741211,
          11.930000305175781,
          12.920000076293945,
          14.279999732971191,
          14.470000267028809,
          12.920000076293945,
          13.109999656677246,
          13.15999984741211,
          12.630000114440918,
          12.579999923706055,
          12.84000015258789,
          12.550000190734863,
          12.239999771118164,
          12.4399995803833,
          12.220000267028809,
          12.029999732971191,
          12.09000015258789,
          12.479999542236328,
          17.110000610351562,
          15.649999618530273,
          15,
          18.899999618530273,
          20.489999771118164,
          19.209999084472656,
          22.639999389648438,
          21.420000076293945,
          20.860000610351562,
          20.93000030517578,
          18.200000762939453,
          19.239999771118164,
          19.079999923706055,
          20.329999923706055,
          19.799999237060547,
          19.34000015258789,
          20.350000381469727,
          14.1899995803833,
          14.180000305175781,
          13.579999923706055,
          13.920000076293945,
          13.8100004196167,
          14.6899995803833,
          15.869999885559082
         ],
         "yaxis": "y4"
        },
        {
         "boxmean": true,
         "marker": {
          "color": "rgb(252,141,98)"
         },
         "name": "Regime 1",
         "type": "box",
         "xaxis": "x4",
         "y": [
          17.309999465942383,
          37.31999969482422,
          29.979999542236328,
          27.729999542236328,
          33.459999084472656,
          29.059999465942383,
          25.610000610351562,
          23.34000015258789,
          24.8700008392334,
          21.030000686645508,
          22.959999084472656,
          24.979999542236328,
          21.309999465942383,
          21.299999237060547,
          30.110000610351562,
          36.06999969482422,
          30.40999984741211,
          29.959999084472656,
          24.59000015258789,
          20.170000076293945,
          25.030000686645508,
          27.850000381469727,
          27.559999465942383,
          39.15999984741211,
          40.11000061035156,
          33.41999816894531,
          36.81999969482422,
          31.989999771118164,
          39.619998931884766,
          41.939998626708984,
          54.459999084472656,
          47.29999923706055,
          53.900001525878906,
          75.47000122070312,
          57.83000183105469,
          82.69000244140625,
          75.91000366210938,
          76.44999694824219,
          72,
          66.04000091552734,
          61.59000015258789,
          61.66999816894531,
          63.95000076293945,
          61,
          65.54000091552734,
          57.08000183105469,
          53.540000915527344,
          57.060001373291016,
          50.90999984741211,
          46.79999923706055,
          45.2400016784668,
          46.70000076293945,
          43.349998474121094,
          41.66999816894531,
          41.16999816894531,
          37.7599983215332,
          40.84000015258789,
          40.11000061035156,
          38.150001525878906,
          40.790000915527344,
          36.09000015258789,
          34.400001525878906,
          33.66999816894531,
          40.279998779296875,
          37.59000015258789,
          38.02000045776367,
          37.130001068115234,
          35.54999923706055,
          29.56999969482422,
          27.579999923706055,
          24.860000610351562,
          25.75,
          24.799999237060547,
          23.450000762939453,
          25.350000381469727,
          23.100000381469727,
          37.209999084472656,
          30.209999084472656,
          33.09000015258789,
          27.59000015258789,
          28.6200008392334,
          22.959999084472656,
          27.190000534057617,
          31.1200008392334,
          27.950000762939453,
          30.670000076293945,
          25.59000015258789,
          28.850000381469727,
          29.899999618530273,
          31.15999984741211,
          31.959999084472656,
          30.489999771118164,
          27.65999984741211,
          24.829999923706055,
          21.959999084472656,
          22.09000015258789,
          24.350000381469727,
          23.219999313354492,
          22.860000610351562,
          28.809999465942383,
          31.020000457763672,
          30.31999969482422,
          23.8700008392334,
          23.530000686645508,
          22.940000534057617,
          23.56999969482422,
          21.670000076293945,
          20.809999465942383,
          19.6299991607666,
          33.52000045776367,
          31.600000381469727,
          29.989999771118164,
          33.400001525878906,
          32.34000015258789,
          29.25,
          25.420000076293945,
          31.200000762939453,
          30.190000534057617,
          34.75,
          32.9900016784668,
          32.560001373291016,
          31.770000457763672,
          28.8700008392334,
          27.469999313354492,
          26.100000381469727,
          30.959999084472656,
          25.719999313354492,
          26.190000534057617,
          25.690000534057617,
          24.719999313354492,
          24.790000915527344,
          27.75,
          34.02000045776367,
          32.689998626708984,
          29.6200008392334,
          32.95000076293945,
          31.1299991607666,
          30.190000534057617,
          28.950000762939453,
          29.049999237060547,
          27.229999542236328,
          25.559999465942383,
          26.209999084472656,
          26.209999084472656,
          25.8700008392334,
          25.559999465942383,
          25.469999313354492,
          26.90999984741211,
          24.639999389648438,
          27.989999771118164,
          27.350000381469727,
          29.920000076293945,
          32.2599983215332,
          32.599998474121094,
          30.18000030517578,
          31.84000015258789,
          31.6200008392334,
          30.100000381469727,
          29.06999969482422,
          23.530000686645508,
          22.520000457763672,
          23.729999542236328,
          24.540000915527344,
          24.110000610351562,
          23.93000030517578,
          14.890000343322754,
          14.8100004196167,
          14.449999809265137,
          15.289999961853027,
          14.170000076293945,
          18.040000915527344,
          18.459999084472656,
          16.389999389648438,
          23.389999389648438,
          38.56999969482422,
          27.709999084472656,
          27.850000381469727,
          23.790000915527344,
          20.3700008392334,
          20.709999084472656,
          18.1200008392334,
          16.190000534057617,
          15.229999542236328,
          14.800000190734863,
          14.649999618530273,
          15.880000114440918,
          16.270000457763672,
          17.549999237060547,
          15.859999656677246,
          15.199999809265137,
          14.9399995803833,
          14.970000267028809,
          14.710000038146973,
          14.020000457763672,
          14.3100004196167,
          16.139999389648438,
          27.6200008392334,
          24.09000015258789,
          18.360000610351562
         ],
         "yaxis": "y4"
        },
        {
         "boxmean": true,
         "marker": {
          "color": "rgb(141,160,203)"
         },
         "name": "Regime 2",
         "type": "box",
         "xaxis": "x4",
         "y": [
          24.969999313354492,
          19.260000228881836,
          19.1299991607666,
          19.459999084472656,
          20.600000381469727,
          20.020000457763672,
          18.719999313354492,
          22.5,
          22.8700008392334,
          19.969999313354492,
          23.6200008392334,
          21.100000381469727,
          17.6200008392334,
          17.399999618530273,
          20.059999465942383,
          19.889999389648438,
          19.639999389648438,
          20.709999084472656,
          25.229999542236328,
          24.219999313354492,
          24.15999984741211,
          24.700000762939453,
          23.350000381469727,
          21.229999542236328,
          19.34000015258789,
          19.510000228881836,
          19.959999084472656,
          19.90999984741211,
          16.360000610351562,
          16.719999313354492,
          17.360000610351562,
          20.450000762939453,
          20.100000381469727,
          22.479999542236328,
          20.799999237060547,
          21.520000457763672,
          18.899999618530273,
          19.020000457763672,
          18.489999771118164,
          18.790000915527344,
          18.06999969482422,
          16.440000534057617,
          20.739999771118164,
          21.190000534057617,
          23.229999542236328,
          22.639999389648438,
          21.760000228881836,
          21.459999084472656,
          20.649999618530273,
          21.6299991607666,
          24.520000457763672,
          25.579999923706055,
          25.579999923706055,
          28.3799991607666,
          28.34000015258789,
          25.420000076293945,
          23.219999313354492,
          25.450000762939453,
          21.3799991607666,
          21.399999618530273,
          20.469999313354492,
          19.979999542236328,
          19.5,
          18.190000534057617,
          19.06999969482422,
          18.600000381469727,
          19.040000915527344,
          20.549999237060547,
          18.059999465942383,
          15.9399995803833,
          15.989999771118164,
          15.90999984741211,
          15.819999694824219,
          15.279999732971191,
          19.489999771118164,
          16.90999984741211,
          17.969999313354492,
          21.09000015258789,
          17.520000457763672,
          22.100000381469727,
          15.470000267028809,
          15.039999961853027,
          15.180000305175781,
          13.739999771118164,
          14.149999618530273,
          13.680000305175781,
          43.83000183105469,
          45.40999984741211,
          41.97999954223633,
          41.380001068115234,
          35.93000030517578,
          33.290000915527344,
          33.56999969482422,
          31.229999542236328,
          34.150001525878906,
          37.189998626708984,
          35.970001220703125,
          33.61000061035156,
          34.119998931884766,
          31.440000534057617,
          27.979999542236328,
          27.56999969482422,
          33.040000915527344,
          35.279998779296875,
          32.61000061035156,
          31.889999389648438,
          29.299999237060547,
          30.530000686645508,
          27.989999771118164,
          29.530000686645508,
          28.15999984741211,
          28.010000228881836,
          27.6200008392334,
          28.59000015258789,
          27.510000228881836,
          28.229999542236328,
          26.84000015258789,
          25.65999984741211,
          25.809999465942383,
          24.520000457763672,
          25.809999465942383,
          27.56999969482422,
          27.56999969482422,
          33.470001220703125,
          32.939998626708984,
          35.119998931884766,
          31.770000457763672,
          31.3700008392334,
          33.84000015258789,
          32.220001220703125,
          34.72999954223633,
          31.780000686645508,
          30.43000030517578,
          28.6200008392334,
          27.68000030517578,
          27.940000534057617,
          29.43000030517578,
          28.079999923706055,
          29.260000228881836,
          27.290000915527344,
          32.189998626708984,
          22.649999618530273,
          22.209999084472656,
          22.1299991607666,
          24.030000686645508,
          22.280000686645508,
          24.469999313354492,
          22.959999084472656,
          26.40999984741211,
          26.1200008392334,
          26.56999969482422,
          33.599998474121094,
          30.75,
          31.459999084472656,
          28.809999465942383,
          29.709999084472656,
          26.8700008392334,
          25.850000381469727,
          25.59000015258789,
          26.040000915527344,
          26.459999084472656,
          25.829999923706055,
          27.780000686645508,
          26.860000610351562,
          28.579999923706055,
          28.510000228881836,
          26.3799991607666,
          26.190000534057617,
          26.270000457763672,
          26.3700008392334,
          26.700000762939453,
          27.6299991607666,
          27.959999084472656,
          29.479999542236328,
          28.059999465942383,
          26.360000610351562,
          25,
          25.06999969482422,
          26.06999969482422,
          26.399999618530273,
          26.969999313354492,
          27.40999984741211,
          29.18000030517578,
          22.450000762939453,
          22.709999084472656,
          23.84000015258789,
          30.239999771118164,
          25.559999465942383,
          22.90999984741211,
          21.770000457763672,
          20.8700008392334,
          21.239999771118164,
          21.6299991607666,
          21.989999771118164,
          21.25,
          19.969999313354492,
          28.889999389648438,
          27.950000762939453,
          23.350000381469727,
          24.100000381469727,
          26.670000076293945,
          28.56999969482422,
          24.65999984741211,
          25.469999313354492,
          24.030000686645508,
          22.559999465942383,
          21.90999984741211,
          20.690000534057617,
          20.030000686645508,
          19.790000915527344,
          19.229999542236328,
          21.579999923706055,
          20.950000762939453,
          17.329999923706055,
          17.90999984741211,
          18.1200008392334,
          17.15999984741211,
          16.950000762939453,
          16.690000534057617,
          16.90999984741211,
          16.649999618530273,
          16.989999771118164,
          16.56999969482422,
          23.1299991607666,
          18.809999465942383,
          19.719999313354492,
          21.34000015258789,
          22.18000030517578,
          20.670000076293945,
          17.200000762939453,
          17.579999923706055,
          19.360000610351562,
          18.309999465942383,
          17.700000762939453,
          18.239999771118164,
          25.709999084472656,
          24.360000610351562,
          20.8700008392334,
          18.6299991607666,
          17.75,
          18.760000228881836,
          23.25,
          22.559999465942383,
          23.139999389648438,
          21.100000381469727,
          22.959999084472656,
          21.299999237060547,
          21,
          19.540000915527344,
          18.770000457763672,
          16.299999237060547,
          16.309999465942383,
          15.699999809265137,
          15.489999771118164,
          15.010000228881836,
          15.430000305175781,
          15.239999771118164,
          15.979999542236328,
          16.979999542236328,
          16.530000686645508,
          15.4399995803833,
          16.479999542236328,
          17.219999313354492,
          17.780000686645508,
          18.729999542236328,
          27.18000030517578,
          21.889999389648438,
          19.899999618530273,
          21.579999923706055,
          18.690000534057617,
          20.309999465942383,
          21.889999389648438,
          19.290000915527344,
          20.56999969482422,
          21.56999969482422,
          22.8700008392334,
          21.010000228881836,
          18.6299991607666,
          17.959999084472656,
          17.68000030517578,
          17.540000915527344,
          16.950000762939453,
          17.329999923706055,
          17.219999313354492,
          16.600000381469727,
          16.90999984741211,
          19.729999542236328,
          19.610000610351562,
          18.760000228881836,
          19.399999618530273,
          18.40999984741211,
          17.6200008392334,
          20.309999465942383,
          19.190000534057617,
          22.790000915527344,
          23.850000381469727,
          21.440000534057617,
          19.959999084472656,
          23.90999984741211,
          27.360000610351562,
          28.329999923706055,
          25.700000762939453,
          24.290000915527344,
          28.110000610351562,
          27.75,
          27.59000015258789,
          30.149999618530273,
          33.31999969482422,
          30.739999771118164,
          30.479999542236328,
          31.979999542236328,
          36.45000076293945,
          35.130001068115234,
          32.45000076293945,
          30.229999542236328,
          30.75,
          31.770000457763672,
          29.829999923706055,
          26.670000076293945,
          25.670000076293945,
          18.899999618530273,
          19.329999923706055,
          20.559999465942383,
          19.6299991607666,
          18.56999969482422,
          21.030000686645508,
          22.100000381469727,
          21.549999237060547,
          21.15999984741211,
          24.3700008392334,
          24.260000228881836,
          21.81999969482422,
          22.700000762939453,
          22.170000076293945,
          21.3700008392334,
          20.31999969482422,
          22.68000030517578,
          28.209999084472656,
          27.020000457763672,
          29.350000381469727,
          29.43000030517578,
          28.479999542236328,
          29.450000762939453,
          28.3700008392334,
          27.5,
          25.06999969482422,
          24.020000457763672,
          23.959999084472656,
          26.09000015258789,
          26.950000762939453,
          28.360000610351562,
          28.15999984741211,
          28.709999084472656,
          26.700000762939453,
          27.540000915527344,
          26.729999542236328,
          26.079999923706055,
          24.639999389648438,
          26.170000076293945,
          27.290000915527344,
          26.81999969482422,
          26.399999618530273,
          24.229999542236328,
          25.299999237060547,
          24.5,
          23.8799991607666,
          23.110000610351562,
          23.030000686645508,
          23.360000610351562,
          24.690000534057617,
          23.239999771118164,
          22.329999923706055,
          21.329999923706055,
          22.84000015258789,
          23.93000030517578,
          21.950000762939453,
          21.440000534057617,
          21.149999618530273,
          21.290000915527344,
          21.770000457763672,
          19.739999771118164,
          20.200000762939453,
          19.530000686645508,
          19.950000762939453,
          19.690000534057617,
          19.899999618530273,
          19.559999465942383,
          20.600000381469727,
          23.799999237060547,
          24.110000610351562,
          22.81999969482422,
          21.780000686645508,
          23.610000610351562,
          22.790000915527344,
          23.8700008392334,
          27.270000457763672,
          26.15999984741211,
          26.270000457763672,
          26.299999237060547,
          25.760000228881836,
          27.15999984741211,
          28.549999237060547,
          30.520000457763672,
          31.360000610351562,
          32.45000076293945,
          33.630001068115234,
          33.56999969482422,
          31.940000534057617,
          32.02000045776367,
          31.3700008392334,
          30.5,
          30.760000228881836,
          29.979999542236328,
          29.690000534057617,
          29.850000381469727,
          28.459999084472656,
          27.280000686645508,
          27.389999389648438,
          25.75,
          25.8799991607666,
          25.809999465942383,
          25.860000610351562,
          25.299999237060547,
          24.549999237060547,
          24.350000381469727,
          25.540000915527344,
          26.09000015258789,
          23.1200008392334,
          22.360000610351562,
          21.290000915527344,
          20.579999923706055,
          19.84000015258789,
          19.059999465942383,
          20.75,
          22.170000076293945,
          22.68000030517578,
          22.290000915527344,
          22.829999923706055,
          25,
          22.549999237060547,
          21.139999389648438,
          22.829999923706055,
          22.6200008392334,
          22.420000076293945,
          21.479999542236328,
          20.06999969482422,
          21.969999313354492,
          20.8700008392334,
          21.649999618530273,
          22.139999389648438,
          21.440000534057617,
          20.579999923706055,
          21.09000015258789,
          18.829999923706055,
          18.350000381469727,
          19.360000610351562,
          20.34000015258789,
          20.520000457763672,
          19.850000381469727,
          19.809999465942383,
          19.200000762939453,
          19.079999923706055,
          18.729999542236328,
          18.510000228881836,
          19.940000534057617,
          19.399999618530273,
          17.8700008392334,
          18.729999542236328,
          18.329999923706055,
          19.43000030517578,
          18.65999984741211,
          19.6299991607666,
          20.709999084472656,
          20.530000686645508,
          22.8700008392334,
          22.290000915527344,
          21.139999389648438,
          21.670000076293945,
          20.950000762939453,
          20.700000762939453,
          20.579999923706055,
          19.59000015258789,
          18.489999771118164,
          18.610000610351562,
          19.59000015258789,
          19.110000610351562,
          22.610000610351562,
          24.799999237060547,
          26.520000457763672,
          23.729999542236328,
          26.139999389648438,
          22.989999771118164,
          25.510000228881836,
          24.149999618530273,
          21.3799991607666,
          22.260000228881836,
          22.610000610351562,
          21.739999771118164,
          20.600000381469727,
          19.969999313354492,
          19.1200008392334,
          19.020000457763672,
          18.700000762939453,
          18.549999237060547,
          19,
          19.079999923706055,
          18.399999618530273,
          18.969999313354492,
          19.100000381469727,
          17.780000686645508,
          18.34000015258789,
          20.09000015258789,
          17.190000534057617,
          16.979999542236328,
          17.709999084472656,
          14.600000381469727,
          14.729999542236328,
          13.960000038146973,
          13.9399995803833,
          13.649999618530273,
          13.829999923706055,
          15.010000228881836,
          14.609999656677246,
          13.880000114440918,
          14.5,
          13.539999961853027,
          13.880000114440918,
          13.199999809265137,
          12.90999984741211,
          13.569999694824219,
          14.180000305175781,
          15.4399995803833,
          14.829999923706055,
          15.069999694824219,
          13.479999542236328,
          13.300000190734863,
          13.760000228881836,
          13.989999771118164,
          13.600000381469727,
          13.90999984741211,
          17.100000381469727,
          15.770000457763672,
          15.989999771118164,
          15.960000038146973,
          15.850000381469727,
          14.84000015258789,
          17.889999389648438,
          17.299999237060547,
          17.1299991607666,
          16.969999313354492,
          15.979999542236328,
          17.200000762939453,
          15.680000305175781,
          15.079999923706055,
          14.449999809265137,
          13.880000114440918,
          13.569999694824219,
          13.09000015258789,
          14.010000228881836,
          14.449999809265137,
          14.399999618530273,
          17.540000915527344,
          17.200000762939453,
          16.899999618530273,
          18.940000534057617,
          18.219999313354492,
          17.34000015258789,
          17.520000457763672,
          17.610000610351562,
          19.780000686645508,
          16.09000015258789,
          16.690000534057617,
          19.31999969482422,
          17.209999084472656,
          17.8799991607666,
          19.219999313354492,
          21.399999618530273,
          21.709999084472656,
          20.3700008392334,
          18.969999313354492,
          20.190000534057617,
          20.68000030517578,
          21.270000457763672,
          19.75,
          18.139999389648438,
          16.8700008392334,
          15.65999984741211,
          14.90999984741211,
          14.760000228881836,
          14.15999984741211,
          14.180000305175781,
          14.319999694824219,
          13.800000190734863,
          13.40999984741211,
          13.350000381469727,
          12.850000381469727,
          12.460000038146973,
          12.6899995803833,
          12.1899995803833,
          12.479999542236328,
          12.279999732971191,
          12.5600004196167,
          12.529999732971191,
          13.670000076293945,
          13.649999618530273,
          13.029999732971191,
          12.989999771118164,
          12.550000190734863,
          13.140000343322754,
          13.449999809265137,
          13.260000228881836,
          13.600000381469727,
          13.3100004196167,
          14.350000381469727,
          13.880000114440918,
          13.850000381469727,
          13.670000076293945,
          13.0600004196167,
          12.829999923706055,
          12.789999961853027,
          12.930000305175781,
          13.930000305175781,
          15.850000381469727,
          14.380000114440918,
          14.539999961853027,
          13.75,
          13.739999771118164,
          13.430000305175781,
          13.84000015258789,
          13.399999618530273,
          13.109999656677246,
          13.489999771118164,
          14.460000038146973,
          12.920000076293945,
          13.0600004196167,
          13.1899995803833,
          13.239999771118164,
          12.779999732971191,
          13.010000228881836,
          17.309999465942383,
          19.229999542236328,
          18.399999618530273,
          18.209999084472656,
          18,
          18.709999084472656,
          16.940000534057617,
          15.6899995803833,
          15.970000267028809,
          15.369999885559082,
          15.029999732971191,
          14.670000076293945,
          15.649999618530273,
          15.390000343322754,
          14.680000305175781,
          13.489999771118164,
          13.489999771118164,
          13.229999542236328,
          13,
          12.6899995803833,
          12.550000190734863,
          13.600000381469727,
          13.420000076293945,
          12.449999809265137,
          12.420000076293945,
          11.989999771118164,
          12.149999618530273,
          11.859999656677246,
          12.289999961853027,
          12.770000457763672,
          12.220000267028809,
          12.739999771118164,
          12.850000381469727,
          12.039999961853027,
          11.9399995803833,
          12.65999984741211,
          12.75,
          12.300000190734863,
          13.279999732971191,
          13.199999809265137,
          13.329999923706055,
          12.369999885559082,
          12.510000228881836,
          12.850000381469727,
          12.920000076293945,
          12.460000038146973,
          13.119999885559082,
          13.1899995803833,
          14.479999542236328,
          15.930000305175781,
          16.520000457763672,
          14.90999984741211,
          14.720000267028809,
          16.600000381469727,
          17.690000534057617,
          16.360000610351562,
          18.59000015258789,
          16.149999618530273,
          15.430000305175781,
          20.719999313354492,
          21.31999969482422,
          19.899999618530273,
          22.3799991607666,
          19.450000762939453,
          19.079999923706055,
          17.690000534057617,
          17.06999969482422,
          16.559999465942383,
          17.139999389648438,
          17.610000610351562,
          18.229999542236328,
          16.329999923706055,
          16.149999618530273,
          15.890000343322754,
          15.390000343322754,
          15.40999984741211,
          15.369999885559082,
          16.959999084472656,
          16.729999542236328,
          19.260000228881836,
          20.459999084472656,
          19.700000762939453,
          20.639999389648438,
          19.579999923706055,
          19.110000610351562,
          18.030000686645508,
          18.3700008392334,
          23.15999984741211,
          21.8799991607666,
          21.979999542236328,
          20.489999771118164,
          16.270000457763672,
          15.579999923706055,
          16.350000381469727,
          17.15999984741211,
          16.8700008392334,
          15.239999771118164,
          14.600000381469727,
          14.100000381469727,
          14.100000381469727,
          13.510000228881836,
          13.34000015258789,
          13.300000190734863,
          13.449999809265137,
          13.539999961853027,
          12.770000457763672,
          16.780000686645508,
          14.270000457763672,
          14.729999542236328,
          15.949999809265137,
          17.399999618530273,
          17.350000381469727
         ],
         "yaxis": "y4"
        },
        {
         "hoverinfo": "text",
         "marker": {
          "color": [
           "rgb(102,194,165)",
           "rgb(252,141,98)",
           "rgb(141,160,203)"
          ],
          "line": {
           "color": "DarkSlateGrey",
           "width": 2
          },
          "size": {
           "bdata": "mGBq1YxaOEDhJxeKNC1HQJBVS3VLTj9A",
           "dtype": "f8"
          }
         },
         "mode": "markers",
         "showlegend": false,
         "text": [
          "Regime 0<br>VIX: 16.24",
          "Regime 1<br>VIX: 30.90",
          "Regime 2<br>VIX: 20.87"
         ],
         "type": "scatter",
         "x": {
          "bdata": "gRLxyK2zFkDg2G8oAKpYQEMBcKdmKTtA",
          "dtype": "f8"
         },
         "xaxis": "x5",
         "y": {
          "bdata": "tMpcbGiTvD/lCDSNNXnHv0FnlHjay7A/",
          "dtype": "f8"
         },
         "yaxis": "y5"
        }
       ],
       "layout": {
        "annotations": [
         {
          "font": {
           "size": 16
          },
          "showarrow": false,
          "text": "Regime Transition Network",
          "x": 0.2375,
          "xanchor": "center",
          "xref": "paper",
          "y": 1,
          "yanchor": "bottom",
          "yref": "paper"
         },
         {
          "font": {
           "size": 16
          },
          "showarrow": false,
          "text": "Training Data Regime Distribution",
          "x": 0.7625,
          "xanchor": "center",
          "xref": "paper",
          "y": 1,
          "yanchor": "bottom",
          "yref": "paper"
         },
         {
          "font": {
           "size": 16
          },
          "showarrow": false,
          "text": "Regime Return Distribution",
          "x": 0.2375,
          "xanchor": "center",
          "xref": "paper",
          "y": 0.6333333333333333,
          "yanchor": "bottom",
          "yref": "paper"
         },
         {
          "font": {
           "size": 16
          },
          "showarrow": false,
          "text": "Volatility by Regime",
          "x": 0.7625,
          "xanchor": "center",
          "xref": "paper",
          "y": 0.6333333333333333,
          "yanchor": "bottom",
          "yref": "paper"
         },
         {
          "font": {
           "size": 16
          },
          "showarrow": false,
          "text": "VIX by Regime",
          "x": 0.2375,
          "xanchor": "center",
          "xref": "paper",
          "y": 0.26666666666666666,
          "yanchor": "bottom",
          "yref": "paper"
         },
         {
          "font": {
           "size": 16
          },
          "showarrow": false,
          "text": "Regime Characteristics",
          "x": 0.7625,
          "xanchor": "center",
          "xref": "paper",
          "y": 0.26666666666666666,
          "yanchor": "bottom",
          "yref": "paper"
         }
        ],
        "height": 1200,
        "showlegend": false,
        "template": {
         "data": {
          "bar": [
           {
            "error_x": {
             "color": "#2a3f5f"
            },
            "error_y": {
             "color": "#2a3f5f"
            },
            "marker": {
             "line": {
              "color": "white",
              "width": 0.5
             },
             "pattern": {
              "fillmode": "overlay",
              "size": 10,
              "solidity": 0.2
             }
            },
            "type": "bar"
           }
          ],
          "barpolar": [
           {
            "marker": {
             "line": {
              "color": "white",
              "width": 0.5
             },
             "pattern": {
              "fillmode": "overlay",
              "size": 10,
              "solidity": 0.2
             }
            },
            "type": "barpolar"
           }
          ],
          "carpet": [
           {
            "aaxis": {
             "endlinecolor": "#2a3f5f",
             "gridcolor": "#C8D4E3",
             "linecolor": "#C8D4E3",
             "minorgridcolor": "#C8D4E3",
             "startlinecolor": "#2a3f5f"
            },
            "baxis": {
             "endlinecolor": "#2a3f5f",
             "gridcolor": "#C8D4E3",
             "linecolor": "#C8D4E3",
             "minorgridcolor": "#C8D4E3",
             "startlinecolor": "#2a3f5f"
            },
            "type": "carpet"
           }
          ],
          "choropleth": [
           {
            "colorbar": {
             "outlinewidth": 0,
             "ticks": ""
            },
            "type": "choropleth"
           }
          ],
          "contour": [
           {
            "colorbar": {
             "outlinewidth": 0,
             "ticks": ""
            },
            "colorscale": [
             [
              0,
              "#0d0887"
             ],
             [
              0.1111111111111111,
              "#46039f"
             ],
             [
              0.2222222222222222,
              "#7201a8"
             ],
             [
              0.3333333333333333,
              "#9c179e"
             ],
             [
              0.4444444444444444,
              "#bd3786"
             ],
             [
              0.5555555555555556,
              "#d8576b"
             ],
             [
              0.6666666666666666,
              "#ed7953"
             ],
             [
              0.7777777777777778,
              "#fb9f3a"
             ],
             [
              0.8888888888888888,
              "#fdca26"
             ],
             [
              1,
              "#f0f921"
             ]
            ],
            "type": "contour"
           }
          ],
          "contourcarpet": [
           {
            "colorbar": {
             "outlinewidth": 0,
             "ticks": ""
            },
            "type": "contourcarpet"
           }
          ],
          "heatmap": [
           {
            "colorbar": {
             "outlinewidth": 0,
             "ticks": ""
            },
            "colorscale": [
             [
              0,
              "#0d0887"
             ],
             [
              0.1111111111111111,
              "#46039f"
             ],
             [
              0.2222222222222222,
              "#7201a8"
             ],
             [
              0.3333333333333333,
              "#9c179e"
             ],
             [
              0.4444444444444444,
              "#bd3786"
             ],
             [
              0.5555555555555556,
              "#d8576b"
             ],
             [
              0.6666666666666666,
              "#ed7953"
             ],
             [
              0.7777777777777778,
              "#fb9f3a"
             ],
             [
              0.8888888888888888,
              "#fdca26"
             ],
             [
              1,
              "#f0f921"
             ]
            ],
            "type": "heatmap"
           }
          ],
          "histogram": [
           {
            "marker": {
             "pattern": {
              "fillmode": "overlay",
              "size": 10,
              "solidity": 0.2
             }
            },
            "type": "histogram"
           }
          ],
          "histogram2d": [
           {
            "colorbar": {
             "outlinewidth": 0,
             "ticks": ""
            },
            "colorscale": [
             [
              0,
              "#0d0887"
             ],
             [
              0.1111111111111111,
              "#46039f"
             ],
             [
              0.2222222222222222,
              "#7201a8"
             ],
             [
              0.3333333333333333,
              "#9c179e"
             ],
             [
              0.4444444444444444,
              "#bd3786"
             ],
             [
              0.5555555555555556,
              "#d8576b"
             ],
             [
              0.6666666666666666,
              "#ed7953"
             ],
             [
              0.7777777777777778,
              "#fb9f3a"
             ],
             [
              0.8888888888888888,
              "#fdca26"
             ],
             [
              1,
              "#f0f921"
             ]
            ],
            "type": "histogram2d"
           }
          ],
          "histogram2dcontour": [
           {
            "colorbar": {
             "outlinewidth": 0,
             "ticks": ""
            },
            "colorscale": [
             [
              0,
              "#0d0887"
             ],
             [
              0.1111111111111111,
              "#46039f"
             ],
             [
              0.2222222222222222,
              "#7201a8"
             ],
             [
              0.3333333333333333,
              "#9c179e"
             ],
             [
              0.4444444444444444,
              "#bd3786"
             ],
             [
              0.5555555555555556,
              "#d8576b"
             ],
             [
              0.6666666666666666,
              "#ed7953"
             ],
             [
              0.7777777777777778,
              "#fb9f3a"
             ],
             [
              0.8888888888888888,
              "#fdca26"
             ],
             [
              1,
              "#f0f921"
             ]
            ],
            "type": "histogram2dcontour"
           }
          ],
          "mesh3d": [
           {
            "colorbar": {
             "outlinewidth": 0,
             "ticks": ""
            },
            "type": "mesh3d"
           }
          ],
          "parcoords": [
           {
            "line": {
             "colorbar": {
              "outlinewidth": 0,
              "ticks": ""
             }
            },
            "type": "parcoords"
           }
          ],
          "pie": [
           {
            "automargin": true,
            "type": "pie"
           }
          ],
          "scatter": [
           {
            "fillpattern": {
             "fillmode": "overlay",
             "size": 10,
             "solidity": 0.2
            },
            "type": "scatter"
           }
          ],
          "scatter3d": [
           {
            "line": {
             "colorbar": {
              "outlinewidth": 0,
              "ticks": ""
             }
            },
            "marker": {
             "colorbar": {
              "outlinewidth": 0,
              "ticks": ""
             }
            },
            "type": "scatter3d"
           }
          ],
          "scattercarpet": [
           {
            "marker": {
             "colorbar": {
              "outlinewidth": 0,
              "ticks": ""
             }
            },
            "type": "scattercarpet"
           }
          ],
          "scattergeo": [
           {
            "marker": {
             "colorbar": {
              "outlinewidth": 0,
              "ticks": ""
             }
            },
            "type": "scattergeo"
           }
          ],
          "scattergl": [
           {
            "marker": {
             "colorbar": {
              "outlinewidth": 0,
              "ticks": ""
             }
            },
            "type": "scattergl"
           }
          ],
          "scattermap": [
           {
            "marker": {
             "colorbar": {
              "outlinewidth": 0,
              "ticks": ""
             }
            },
            "type": "scattermap"
           }
          ],
          "scattermapbox": [
           {
            "marker": {
             "colorbar": {
              "outlinewidth": 0,
              "ticks": ""
             }
            },
            "type": "scattermapbox"
           }
          ],
          "scatterpolar": [
           {
            "marker": {
             "colorbar": {
              "outlinewidth": 0,
              "ticks": ""
             }
            },
            "type": "scatterpolar"
           }
          ],
          "scatterpolargl": [
           {
            "marker": {
             "colorbar": {
              "outlinewidth": 0,
              "ticks": ""
             }
            },
            "type": "scatterpolargl"
           }
          ],
          "scatterternary": [
           {
            "marker": {
             "colorbar": {
              "outlinewidth": 0,
              "ticks": ""
             }
            },
            "type": "scatterternary"
           }
          ],
          "surface": [
           {
            "colorbar": {
             "outlinewidth": 0,
             "ticks": ""
            },
            "colorscale": [
             [
              0,
              "#0d0887"
             ],
             [
              0.1111111111111111,
              "#46039f"
             ],
             [
              0.2222222222222222,
              "#7201a8"
             ],
             [
              0.3333333333333333,
              "#9c179e"
             ],
             [
              0.4444444444444444,
              "#bd3786"
             ],
             [
              0.5555555555555556,
              "#d8576b"
             ],
             [
              0.6666666666666666,
              "#ed7953"
             ],
             [
              0.7777777777777778,
              "#fb9f3a"
             ],
             [
              0.8888888888888888,
              "#fdca26"
             ],
             [
              1,
              "#f0f921"
             ]
            ],
            "type": "surface"
           }
          ],
          "table": [
           {
            "cells": {
             "fill": {
              "color": "#EBF0F8"
             },
             "line": {
              "color": "white"
             }
            },
            "header": {
             "fill": {
              "color": "#C8D4E3"
             },
             "line": {
              "color": "white"
             }
            },
            "type": "table"
           }
          ]
         },
         "layout": {
          "annotationdefaults": {
           "arrowcolor": "#2a3f5f",
           "arrowhead": 0,
           "arrowwidth": 1
          },
          "autotypenumbers": "strict",
          "coloraxis": {
           "colorbar": {
            "outlinewidth": 0,
            "ticks": ""
           }
          },
          "colorscale": {
           "diverging": [
            [
             0,
             "#8e0152"
            ],
            [
             0.1,
             "#c51b7d"
            ],
            [
             0.2,
             "#de77ae"
            ],
            [
             0.3,
             "#f1b6da"
            ],
            [
             0.4,
             "#fde0ef"
            ],
            [
             0.5,
             "#f7f7f7"
            ],
            [
             0.6,
             "#e6f5d0"
            ],
            [
             0.7,
             "#b8e186"
            ],
            [
             0.8,
             "#7fbc41"
            ],
            [
             0.9,
             "#4d9221"
            ],
            [
             1,
             "#276419"
            ]
           ],
           "sequential": [
            [
             0,
             "#0d0887"
            ],
            [
             0.1111111111111111,
             "#46039f"
            ],
            [
             0.2222222222222222,
             "#7201a8"
            ],
            [
             0.3333333333333333,
             "#9c179e"
            ],
            [
             0.4444444444444444,
             "#bd3786"
            ],
            [
             0.5555555555555556,
             "#d8576b"
            ],
            [
             0.6666666666666666,
             "#ed7953"
            ],
            [
             0.7777777777777778,
             "#fb9f3a"
            ],
            [
             0.8888888888888888,
             "#fdca26"
            ],
            [
             1,
             "#f0f921"
            ]
           ],
           "sequentialminus": [
            [
             0,
             "#0d0887"
            ],
            [
             0.1111111111111111,
             "#46039f"
            ],
            [
             0.2222222222222222,
             "#7201a8"
            ],
            [
             0.3333333333333333,
             "#9c179e"
            ],
            [
             0.4444444444444444,
             "#bd3786"
            ],
            [
             0.5555555555555556,
             "#d8576b"
            ],
            [
             0.6666666666666666,
             "#ed7953"
            ],
            [
             0.7777777777777778,
             "#fb9f3a"
            ],
            [
             0.8888888888888888,
             "#fdca26"
            ],
            [
             1,
             "#f0f921"
            ]
           ]
          },
          "colorway": [
           "#636efa",
           "#EF553B",
           "#00cc96",
           "#ab63fa",
           "#FFA15A",
           "#19d3f3",
           "#FF6692",
           "#B6E880",
           "#FF97FF",
           "#FECB52"
          ],
          "font": {
           "color": "#2a3f5f"
          },
          "geo": {
           "bgcolor": "white",
           "lakecolor": "white",
           "landcolor": "white",
           "showlakes": true,
           "showland": true,
           "subunitcolor": "#C8D4E3"
          },
          "hoverlabel": {
           "align": "left"
          },
          "hovermode": "closest",
          "mapbox": {
           "style": "light"
          },
          "paper_bgcolor": "white",
          "plot_bgcolor": "white",
          "polar": {
           "angularaxis": {
            "gridcolor": "#EBF0F8",
            "linecolor": "#EBF0F8",
            "ticks": ""
           },
           "bgcolor": "white",
           "radialaxis": {
            "gridcolor": "#EBF0F8",
            "linecolor": "#EBF0F8",
            "ticks": ""
           }
          },
          "scene": {
           "xaxis": {
            "backgroundcolor": "white",
            "gridcolor": "#DFE8F3",
            "gridwidth": 2,
            "linecolor": "#EBF0F8",
            "showbackground": true,
            "ticks": "",
            "zerolinecolor": "#EBF0F8"
           },
           "yaxis": {
            "backgroundcolor": "white",
            "gridcolor": "#DFE8F3",
            "gridwidth": 2,
            "linecolor": "#EBF0F8",
            "showbackground": true,
            "ticks": "",
            "zerolinecolor": "#EBF0F8"
           },
           "zaxis": {
            "backgroundcolor": "white",
            "gridcolor": "#DFE8F3",
            "gridwidth": 2,
            "linecolor": "#EBF0F8",
            "showbackground": true,
            "ticks": "",
            "zerolinecolor": "#EBF0F8"
           }
          },
          "shapedefaults": {
           "line": {
            "color": "#2a3f5f"
           }
          },
          "ternary": {
           "aaxis": {
            "gridcolor": "#DFE8F3",
            "linecolor": "#A2B1C6",
            "ticks": ""
           },
           "baxis": {
            "gridcolor": "#DFE8F3",
            "linecolor": "#A2B1C6",
            "ticks": ""
           },
           "bgcolor": "white",
           "caxis": {
            "gridcolor": "#DFE8F3",
            "linecolor": "#A2B1C6",
            "ticks": ""
           }
          },
          "title": {
           "x": 0.05
          },
          "xaxis": {
           "automargin": true,
           "gridcolor": "#EBF0F8",
           "linecolor": "#EBF0F8",
           "ticks": "",
           "title": {
            "standoff": 15
           },
           "zerolinecolor": "#EBF0F8",
           "zerolinewidth": 2
          },
          "yaxis": {
           "automargin": true,
           "gridcolor": "#EBF0F8",
           "linecolor": "#EBF0F8",
           "ticks": "",
           "title": {
            "standoff": 15
           },
           "zerolinecolor": "#EBF0F8",
           "zerolinewidth": 2
          }
         }
        },
        "title": {
         "text": "HMM Market Regime Analysis Dashboard"
        },
        "width": 1200,
        "xaxis": {
         "anchor": "y",
         "domain": [
          0,
          0.475
         ],
         "showticklabels": false,
         "title": {
          "text": ""
         }
        },
        "xaxis2": {
         "anchor": "y2",
         "domain": [
          0,
          0.475
         ],
         "title": {
          "text": "Regime"
         }
        },
        "xaxis3": {
         "anchor": "y3",
         "domain": [
          0.525,
          1
         ],
         "title": {
          "text": "Regime"
         }
        },
        "xaxis4": {
         "anchor": "y4",
         "domain": [
          0,
          0.475
         ],
         "title": {
          "text": "Regime"
         }
        },
        "xaxis5": {
         "anchor": "y5",
         "domain": [
          0.525,
          1
         ],
         "title": {
          "text": "Volatility"
         }
        },
        "yaxis": {
         "anchor": "x",
         "domain": [
          0.7333333333333334,
          1
         ],
         "showticklabels": false,
         "title": {
          "text": ""
         }
        },
        "yaxis2": {
         "anchor": "x2",
         "domain": [
          0.3666666666666667,
          0.6333333333333333
         ],
         "title": {
          "text": "Return (%)"
         }
        },
        "yaxis3": {
         "anchor": "x3",
         "domain": [
          0.3666666666666667,
          0.6333333333333333
         ],
         "title": {
          "text": "Volatility"
         }
        },
        "yaxis4": {
         "anchor": "x4",
         "domain": [
          0,
          0.26666666666666666
         ],
         "title": {
          "text": "VIX"
         }
        },
        "yaxis5": {
         "anchor": "x5",
         "domain": [
          0,
          0.26666666666666666
         ],
         "title": {
          "text": "Return (%)"
         }
        }
       }
      }
     },
     "metadata": {},
     "output_type": "display_data"
    }
   ],
   "source": [
    "# Create a comprehensive regime analysis dashboard\n",
    "def create_regime_dashboard():\n",
    "    \"\"\"\n",
    "    Creates a comprehensive dashboard for analyzing the HMM model and regime characteristics\n",
    "    \"\"\"\n",
    "    # Gather regime statistics\n",
    "    regime_vol = [0] * hidden_states\n",
    "    regime_ret = [0] * hidden_states\n",
    "    regime_vix = [0] * hidden_states\n",
    "    regime_count = [0] * hidden_states\n",
    "    \n",
    "    for i in range(len(train_predictions)):\n",
    "        regime = train_predictions[i]\n",
    "        regime_count[regime] += 1\n",
    "        regime_vol[regime] += training_data['Volatility'].iloc[i]\n",
    "        regime_ret[regime] += training_data['Return'].iloc[i]\n",
    "        regime_vix[regime] += training_data['VIX'].iloc[i]\n",
    "    \n",
    "    for i in range(hidden_states):\n",
    "        if regime_count[i] > 0:\n",
    "            regime_vol[i] = regime_vol[i] / regime_count[i]\n",
    "            regime_ret[i] = regime_ret[i] / regime_count[i]\n",
    "            regime_vix[i] = regime_vix[i] / regime_count[i]\n",
    "    \n",
    "    # Create a summary dataframe\n",
    "    regime_summary = pd.DataFrame({\n",
    "        'Regime': range(hidden_states),\n",
    "        'Average_Volatility': regime_vol,\n",
    "        'Average_Return': regime_ret,\n",
    "        'Average_VIX': regime_vix,\n",
    "        'Occurrence_Count': regime_count,\n",
    "        'Occurrence_Percentage': [count/sum(regime_count)*100 for count in regime_count]\n",
    "    })\n",
    "    \n",
    "    # Display the summary\n",
    "    print(\"HMM Market Regime Summary\")\n",
    "    display(regime_summary)\n",
    "    \n",
    "    # Interpret the regimes based on their characteristics\n",
    "    print(\"\\nMarket Regime Interpretation:\")\n",
    "    regime_types = []\n",
    "    for i in range(hidden_states):\n",
    "        if regime_vix[i] > 25:  # High VIX\n",
    "            if regime_ret[i] < 0:\n",
    "                regime_type = \"Crisis Regime (High VIX, Negative Returns)\"\n",
    "            else:\n",
    "                regime_type = \"Volatile Recovery (High VIX, Positive Returns)\"\n",
    "        elif regime_ret[i] > 0.05:\n",
    "            if regime_vol[i] < 10:\n",
    "                regime_type = \"Stable Growth (Low Volatility, Positive Returns)\"\n",
    "            else:\n",
    "                regime_type = \"Volatile Growth (High Volatility, Positive Returns)\"\n",
    "        elif regime_ret[i] < 0:\n",
    "            if regime_vol[i] > 10:\n",
    "                regime_type = \"Bear Market (High Volatility, Negative Returns)\"\n",
    "            else:\n",
    "                regime_type = \"Correction (Moderate Volatility, Negative Returns)\"\n",
    "        else:\n",
    "            regime_type = \"Sideways Market (Moderate Volatility, Flat Returns)\"\n",
    "        \n",
    "        regime_types.append(regime_type)\n",
    "        print(f\"Regime {i}: {regime_type}\")\n",
    "    \n",
    "    # Create a dashboard layout with 6 subplots\n",
    "    fig = make_subplots(\n",
    "        rows=3, cols=2,\n",
    "        subplot_titles=(\n",
    "            \"Regime Transition Network\", \n",
    "            \"Training Data Regime Distribution\", \n",
    "            \"Regime Return Distribution\", \n",
    "            \"Volatility by Regime\",\n",
    "            \"VIX by Regime\",\n",
    "            \"Regime Characteristics\"\n",
    "        ),\n",
    "        specs=[\n",
    "            [{\"type\": \"scatter\"}, {\"type\": \"pie\"}],\n",
    "            [{\"type\": \"box\"}, {\"type\": \"box\"}],\n",
    "            [{\"type\": \"box\"}, {\"type\": \"scatter\"}]\n",
    "        ],\n",
    "        vertical_spacing=0.1,\n",
    "        horizontal_spacing=0.05\n",
    "    )\n",
    "    \n",
    "    # 1. Regime Transition Network (top left)\n",
    "    # Create node positions for a circular layout\n",
    "    import math\n",
    "    angles = np.linspace(0, 2*math.pi, hidden_states, endpoint=False).tolist()\n",
    "    node_x = [math.cos(angle) for angle in angles]\n",
    "    node_y = [math.sin(angle) for angle in angles]\n",
    "    \n",
    "    # Add nodes\n",
    "    for i in range(hidden_states):\n",
    "        fig.add_trace(\n",
    "            go.Scatter(\n",
    "                x=[node_x[i]], \n",
    "                y=[node_y[i]],\n",
    "                mode='markers+text',\n",
    "                marker=dict(size=30, color=regime_colors[i]),\n",
    "                text=[f'{i}'],\n",
    "                textposition=\"middle center\",\n",
    "                textfont=dict(color='white', size=14),\n",
    "                name=f'Regime {i}',\n",
    "                hoverinfo='text',\n",
    "                hovertext=f'Regime {i}'\n",
    "            ),\n",
    "            row=1, col=1\n",
    "        )\n",
    "    \n",
    "    # Add edges for transitions\n",
    "    for i in range(hidden_states):\n",
    "        for j in range(hidden_states):\n",
    "            if transition_matrix[i, j] > 0.05:  # Only show significant transitions\n",
    "                # Calculate edge curvature based on whether it's a self-loop\n",
    "                curve = 0.2 if i != j else 0.5\n",
    "                fig.add_trace(\n",
    "                    go.Scatter(\n",
    "                        x=[node_x[i], None, node_x[j]],\n",
    "                        y=[node_y[i], None, node_y[j]],\n",
    "                        mode='lines',\n",
    "                        line=dict(\n",
    "                            width=transition_matrix[i, j] * 10,  # Line width based on probability\n",
    "                            color='rgba(150,150,150,0.8)',\n",
    "                        ),\n",
    "                        hoverinfo='text',\n",
    "                        hovertext=f'P({i}->{j}) = {transition_matrix[i, j]:.2f}',\n",
    "                        showlegend=False\n",
    "                    ),\n",
    "                    row=1, col=1\n",
    "                )\n",
    "    \n",
    "    # 2. Training Data Regime Distribution (top right)\n",
    "    regime_counts_train = pd.Series(train_predictions).value_counts(normalize=True) * 100\n",
    "    labels = [f\"Regime {i}\" for i in range(hidden_states)]\n",
    "    values = [regime_counts_train.get(i, 0) for i in range(hidden_states)]\n",
    "    \n",
    "    fig.add_trace(\n",
    "        go.Pie(\n",
    "            labels=labels,\n",
    "            values=values,\n",
    "            textinfo='percent',\n",
    "            marker=dict(colors=regime_colors)\n",
    "        ),\n",
    "        row=1, col=2\n",
    "    )\n",
    "    \n",
    "    # 3. Regime Return Distribution (middle left)\n",
    "    # Prepare return data by regime\n",
    "    regime_returns = {i: [] for i in range(hidden_states)}\n",
    "    for i in range(len(train_predictions)):\n",
    "        regime_returns[train_predictions[i]].append(training_data['Return'].iloc[i])\n",
    "    \n",
    "    for i in range(hidden_states):\n",
    "        if regime_returns[i]:  # Check if list is not empty\n",
    "            fig.add_trace(\n",
    "                go.Box(\n",
    "                    y=regime_returns[i],\n",
    "                    name=f'Regime {i}',\n",
    "                    marker_color=regime_colors[i],\n",
    "                    boxmean=True  # Show mean as a dashed line\n",
    "                ),\n",
    "                row=2, col=1\n",
    "            )\n",
    "    \n",
    "    # 4. Volatility by Regime (middle right)\n",
    "    regime_volatility = {i: [] for i in range(hidden_states)}\n",
    "    for i in range(len(train_predictions)):\n",
    "        regime_volatility[train_predictions[i]].append(training_data['Volatility'].iloc[i])\n",
    "    \n",
    "    for i in range(hidden_states):\n",
    "        if regime_volatility[i]:  # Check if list is not empty\n",
    "            fig.add_trace(\n",
    "                go.Box(\n",
    "                    y=regime_volatility[i],\n",
    "                    name=f'Regime {i}',\n",
    "                    marker_color=regime_colors[i],\n",
    "                    boxmean=True  # Show mean as a dashed line\n",
    "                ),\n",
    "                row=2, col=2\n",
    "            )\n",
    "    \n",
    "    # 5. VIX by Regime (bottom left)\n",
    "    regime_vix_values = {i: [] for i in range(hidden_states)}\n",
    "    for i in range(len(train_predictions)):\n",
    "        regime_vix_values[train_predictions[i]].append(training_data['VIX'].iloc[i])\n",
    "    \n",
    "    for i in range(hidden_states):\n",
    "        if regime_vix_values[i]:  # Check if list is not empty\n",
    "            fig.add_trace(\n",
    "                go.Box(\n",
    "                    y=regime_vix_values[i],\n",
    "                    name=f'Regime {i}',\n",
    "                    marker_color=regime_colors[i],\n",
    "                    boxmean=True  # Show mean as a dashed line\n",
    "                ),\n",
    "                row=3, col=1\n",
    "            )\n",
    "    \n",
    "    # 6. Regime Characteristics (bottom right)\n",
    "    # 3D scatter plot with Volatility, Return, and VIX\n",
    "    fig.add_trace(\n",
    "        go.Scatter(\n",
    "            x=regime_summary['Average_Volatility'],\n",
    "            y=regime_summary['Average_Return'],\n",
    "            mode='markers',\n",
    "            marker=dict(\n",
    "                size=regime_summary['Average_VIX'] * 1.5,  # Scale by VIX\n",
    "                color=[regime_colors[i] for i in range(hidden_states)],\n",
    "                line=dict(width=2, color='DarkSlateGrey')\n",
    "            ),\n",
    "            text=[f'Regime {i}<br>VIX: {vix:.2f}' for i, vix in enumerate(regime_summary['Average_VIX'])],\n",
    "            hoverinfo='text',\n",
    "            showlegend=False\n",
    "        ),\n",
    "        row=3, col=2\n",
    "    )\n",
    "    \n",
    "    # Update layout\n",
    "    fig.update_layout(\n",
    "        height=1200,\n",
    "        width=1200,\n",
    "        title_text='HMM Market Regime Analysis Dashboard',\n",
    "        template='plotly_white',\n",
    "        showlegend=False\n",
    "    )\n",
    "    \n",
    "    # Update axes for specific subplots\n",
    "    fig.update_xaxes(title_text=\"\", showticklabels=False, row=1, col=1)\n",
    "    fig.update_yaxes(title_text=\"\", showticklabels=False, row=1, col=1)\n",
    "    \n",
    "    fig.update_xaxes(title_text=\"Regime\", row=2, col=1)\n",
    "    fig.update_yaxes(title_text=\"Return (%)\", row=2, col=1)\n",
    "    \n",
    "    fig.update_xaxes(title_text=\"Regime\", row=2, col=2)\n",
    "    fig.update_yaxes(title_text=\"Volatility\", row=2, col=2)\n",
    "    \n",
    "    fig.update_xaxes(title_text=\"Regime\", row=3, col=1)\n",
    "    fig.update_yaxes(title_text=\"VIX\", row=3, col=1)\n",
    "    \n",
    "    fig.update_xaxes(title_text=\"Volatility\", row=3, col=2)\n",
    "    fig.update_yaxes(title_text=\"Return (%)\", row=3, col=2)\n",
    "    \n",
    "    # Show the dashboard\n",
    "    fig.show()\n",
    "    \n",
    "    return regime_summary, regime_types\n",
    "\n",
    "# Generate the comprehensive dashboard\n",
    "regime_summary, regime_types = create_regime_dashboard()"
   ]
  },
  {
   "cell_type": "code",
   "execution_count": 19,
   "metadata": {},
   "outputs": [
    {
     "name": "stdout",
     "output_type": "stream",
     "text": [
      "Predicting regimes from 2025-04-11 to 2025-05-11\n",
      "No data available for period 2025-04-11 to 2025-05-11\n",
      "NOTE: Prediction period extends into the future\n",
      "Predicted regimes for period 2025-04-11 to 2025-05-11\n",
      "Data points: 21\n",
      "\n",
      "Regime Distribution:\n",
      "Regime 1: 95.24%\n",
      "Regime 2: 4.76%\n"
     ]
    },
    {
     "data": {
      "application/vnd.plotly.v1+json": {
       "config": {
        "plotlyServerURL": "https://plot.ly"
       },
       "data": [
        {
         "customdata": [
          [
           "2025-04-11T00:00:00",
           524.5800170898438,
           25.685333569844563
          ],
          [
           "2025-04-14T00:00:00",
           524.5800170898438,
           25.685333569844566
          ],
          [
           "2025-04-15T00:00:00",
           524.5800170898438,
           25.685333569844566
          ],
          [
           "2025-04-16T00:00:00",
           524.5800170898438,
           25.685333569844566
          ],
          [
           "2025-04-17T00:00:00",
           524.5800170898438,
           25.68533356984457
          ],
          [
           "2025-04-18T00:00:00",
           524.5800170898438,
           25.68533356984457
          ],
          [
           "2025-04-21T00:00:00",
           524.5800170898438,
           25.68533356984457
          ],
          [
           "2025-04-22T00:00:00",
           524.5800170898438,
           25.68533356984457
          ],
          [
           "2025-04-23T00:00:00",
           524.5800170898438,
           25.685333569844573
          ],
          [
           "2025-04-24T00:00:00",
           524.5800170898438,
           25.685333569844573
          ],
          [
           "2025-04-25T00:00:00",
           524.5800170898438,
           25.685333569844566
          ],
          [
           "2025-04-28T00:00:00",
           524.5800170898438,
           25.685333569844566
          ],
          [
           "2025-04-29T00:00:00",
           524.5800170898438,
           25.685333569844563
          ],
          [
           "2025-04-30T00:00:00",
           524.5800170898438,
           25.685333569844563
          ],
          [
           "2025-05-01T00:00:00",
           524.5800170898438,
           25.68533356984456
          ],
          [
           "2025-05-02T00:00:00",
           524.5800170898438,
           25.68533356984456
          ],
          [
           "2025-05-05T00:00:00",
           524.5800170898438,
           25.685333569844556
          ],
          [
           "2025-05-06T00:00:00",
           524.5800170898438,
           25.685333569844556
          ],
          [
           "2025-05-07T00:00:00",
           524.5800170898438,
           25.685333569844563
          ],
          [
           "2025-05-08T00:00:00",
           524.5800170898438,
           25.685333569844563
          ],
          [
           "2025-05-09T00:00:00",
           524.5800170898438,
           25.68533356984456
          ]
         ],
         "hovertemplate": "Day=%{x}<br>Weekday=%{y}<br>size=%{marker.size}<br>Date=%{customdata[0]}<br>Close=%{customdata[1]}<br>VIX=%{customdata[2]}<br>Predicted_Regime=%{marker.color}<extra></extra>",
         "legendgroup": "",
         "marker": {
          "color": {
           "bdata": "AgEBAQEBAQEBAQEBAQEBAQEBAQEB",
           "dtype": "i1"
          },
          "coloraxis": "coloraxis",
          "size": {
           "bdata": "CgoKCgoKCgoKCgoKCgoKCgoKCgoK",
           "dtype": "i1"
          },
          "sizemode": "area",
          "sizeref": 0.044444444444444446,
          "symbol": "circle"
         },
         "mode": "markers",
         "name": "",
         "orientation": "h",
         "showlegend": false,
         "type": "scatter",
         "x": {
          "bdata": "CwAAAA4AAAAPAAAAEAAAABEAAAASAAAAFQAAABYAAAAXAAAAGAAAABkAAAAcAAAAHQAAAB4AAAABAAAAAgAAAAUAAAAGAAAABwAAAAgAAAAJAAAA",
          "dtype": "i4"
         },
         "xaxis": "x",
         "y": [
          "Friday",
          "Monday",
          "Tuesday",
          "Wednesday",
          "Thursday",
          "Friday",
          "Monday",
          "Tuesday",
          "Wednesday",
          "Thursday",
          "Friday",
          "Monday",
          "Tuesday",
          "Wednesday",
          "Thursday",
          "Friday",
          "Monday",
          "Tuesday",
          "Wednesday",
          "Thursday",
          "Friday"
         ],
         "yaxis": "y"
        }
       ],
       "layout": {
        "coloraxis": {
         "colorbar": {
          "title": {
           "text": "Predicted_Regime"
          }
         },
         "colorscale": [
          [
           0,
           "#0d0887"
          ],
          [
           0.1111111111111111,
           "#46039f"
          ],
          [
           0.2222222222222222,
           "#7201a8"
          ],
          [
           0.3333333333333333,
           "#9c179e"
          ],
          [
           0.4444444444444444,
           "#bd3786"
          ],
          [
           0.5555555555555556,
           "#d8576b"
          ],
          [
           0.6666666666666666,
           "#ed7953"
          ],
          [
           0.7777777777777778,
           "#fb9f3a"
          ],
          [
           0.8888888888888888,
           "#fdca26"
          ],
          [
           1,
           "#f0f921"
          ]
         ]
        },
        "legend": {
         "itemsizing": "constant",
         "tracegroupgap": 0
        },
        "template": {
         "data": {
          "bar": [
           {
            "error_x": {
             "color": "#2a3f5f"
            },
            "error_y": {
             "color": "#2a3f5f"
            },
            "marker": {
             "line": {
              "color": "white",
              "width": 0.5
             },
             "pattern": {
              "fillmode": "overlay",
              "size": 10,
              "solidity": 0.2
             }
            },
            "type": "bar"
           }
          ],
          "barpolar": [
           {
            "marker": {
             "line": {
              "color": "white",
              "width": 0.5
             },
             "pattern": {
              "fillmode": "overlay",
              "size": 10,
              "solidity": 0.2
             }
            },
            "type": "barpolar"
           }
          ],
          "carpet": [
           {
            "aaxis": {
             "endlinecolor": "#2a3f5f",
             "gridcolor": "#C8D4E3",
             "linecolor": "#C8D4E3",
             "minorgridcolor": "#C8D4E3",
             "startlinecolor": "#2a3f5f"
            },
            "baxis": {
             "endlinecolor": "#2a3f5f",
             "gridcolor": "#C8D4E3",
             "linecolor": "#C8D4E3",
             "minorgridcolor": "#C8D4E3",
             "startlinecolor": "#2a3f5f"
            },
            "type": "carpet"
           }
          ],
          "choropleth": [
           {
            "colorbar": {
             "outlinewidth": 0,
             "ticks": ""
            },
            "type": "choropleth"
           }
          ],
          "contour": [
           {
            "colorbar": {
             "outlinewidth": 0,
             "ticks": ""
            },
            "colorscale": [
             [
              0,
              "#0d0887"
             ],
             [
              0.1111111111111111,
              "#46039f"
             ],
             [
              0.2222222222222222,
              "#7201a8"
             ],
             [
              0.3333333333333333,
              "#9c179e"
             ],
             [
              0.4444444444444444,
              "#bd3786"
             ],
             [
              0.5555555555555556,
              "#d8576b"
             ],
             [
              0.6666666666666666,
              "#ed7953"
             ],
             [
              0.7777777777777778,
              "#fb9f3a"
             ],
             [
              0.8888888888888888,
              "#fdca26"
             ],
             [
              1,
              "#f0f921"
             ]
            ],
            "type": "contour"
           }
          ],
          "contourcarpet": [
           {
            "colorbar": {
             "outlinewidth": 0,
             "ticks": ""
            },
            "type": "contourcarpet"
           }
          ],
          "heatmap": [
           {
            "colorbar": {
             "outlinewidth": 0,
             "ticks": ""
            },
            "colorscale": [
             [
              0,
              "#0d0887"
             ],
             [
              0.1111111111111111,
              "#46039f"
             ],
             [
              0.2222222222222222,
              "#7201a8"
             ],
             [
              0.3333333333333333,
              "#9c179e"
             ],
             [
              0.4444444444444444,
              "#bd3786"
             ],
             [
              0.5555555555555556,
              "#d8576b"
             ],
             [
              0.6666666666666666,
              "#ed7953"
             ],
             [
              0.7777777777777778,
              "#fb9f3a"
             ],
             [
              0.8888888888888888,
              "#fdca26"
             ],
             [
              1,
              "#f0f921"
             ]
            ],
            "type": "heatmap"
           }
          ],
          "histogram": [
           {
            "marker": {
             "pattern": {
              "fillmode": "overlay",
              "size": 10,
              "solidity": 0.2
             }
            },
            "type": "histogram"
           }
          ],
          "histogram2d": [
           {
            "colorbar": {
             "outlinewidth": 0,
             "ticks": ""
            },
            "colorscale": [
             [
              0,
              "#0d0887"
             ],
             [
              0.1111111111111111,
              "#46039f"
             ],
             [
              0.2222222222222222,
              "#7201a8"
             ],
             [
              0.3333333333333333,
              "#9c179e"
             ],
             [
              0.4444444444444444,
              "#bd3786"
             ],
             [
              0.5555555555555556,
              "#d8576b"
             ],
             [
              0.6666666666666666,
              "#ed7953"
             ],
             [
              0.7777777777777778,
              "#fb9f3a"
             ],
             [
              0.8888888888888888,
              "#fdca26"
             ],
             [
              1,
              "#f0f921"
             ]
            ],
            "type": "histogram2d"
           }
          ],
          "histogram2dcontour": [
           {
            "colorbar": {
             "outlinewidth": 0,
             "ticks": ""
            },
            "colorscale": [
             [
              0,
              "#0d0887"
             ],
             [
              0.1111111111111111,
              "#46039f"
             ],
             [
              0.2222222222222222,
              "#7201a8"
             ],
             [
              0.3333333333333333,
              "#9c179e"
             ],
             [
              0.4444444444444444,
              "#bd3786"
             ],
             [
              0.5555555555555556,
              "#d8576b"
             ],
             [
              0.6666666666666666,
              "#ed7953"
             ],
             [
              0.7777777777777778,
              "#fb9f3a"
             ],
             [
              0.8888888888888888,
              "#fdca26"
             ],
             [
              1,
              "#f0f921"
             ]
            ],
            "type": "histogram2dcontour"
           }
          ],
          "mesh3d": [
           {
            "colorbar": {
             "outlinewidth": 0,
             "ticks": ""
            },
            "type": "mesh3d"
           }
          ],
          "parcoords": [
           {
            "line": {
             "colorbar": {
              "outlinewidth": 0,
              "ticks": ""
             }
            },
            "type": "parcoords"
           }
          ],
          "pie": [
           {
            "automargin": true,
            "type": "pie"
           }
          ],
          "scatter": [
           {
            "fillpattern": {
             "fillmode": "overlay",
             "size": 10,
             "solidity": 0.2
            },
            "type": "scatter"
           }
          ],
          "scatter3d": [
           {
            "line": {
             "colorbar": {
              "outlinewidth": 0,
              "ticks": ""
             }
            },
            "marker": {
             "colorbar": {
              "outlinewidth": 0,
              "ticks": ""
             }
            },
            "type": "scatter3d"
           }
          ],
          "scattercarpet": [
           {
            "marker": {
             "colorbar": {
              "outlinewidth": 0,
              "ticks": ""
             }
            },
            "type": "scattercarpet"
           }
          ],
          "scattergeo": [
           {
            "marker": {
             "colorbar": {
              "outlinewidth": 0,
              "ticks": ""
             }
            },
            "type": "scattergeo"
           }
          ],
          "scattergl": [
           {
            "marker": {
             "colorbar": {
              "outlinewidth": 0,
              "ticks": ""
             }
            },
            "type": "scattergl"
           }
          ],
          "scattermap": [
           {
            "marker": {
             "colorbar": {
              "outlinewidth": 0,
              "ticks": ""
             }
            },
            "type": "scattermap"
           }
          ],
          "scattermapbox": [
           {
            "marker": {
             "colorbar": {
              "outlinewidth": 0,
              "ticks": ""
             }
            },
            "type": "scattermapbox"
           }
          ],
          "scatterpolar": [
           {
            "marker": {
             "colorbar": {
              "outlinewidth": 0,
              "ticks": ""
             }
            },
            "type": "scatterpolar"
           }
          ],
          "scatterpolargl": [
           {
            "marker": {
             "colorbar": {
              "outlinewidth": 0,
              "ticks": ""
             }
            },
            "type": "scatterpolargl"
           }
          ],
          "scatterternary": [
           {
            "marker": {
             "colorbar": {
              "outlinewidth": 0,
              "ticks": ""
             }
            },
            "type": "scatterternary"
           }
          ],
          "surface": [
           {
            "colorbar": {
             "outlinewidth": 0,
             "ticks": ""
            },
            "colorscale": [
             [
              0,
              "#0d0887"
             ],
             [
              0.1111111111111111,
              "#46039f"
             ],
             [
              0.2222222222222222,
              "#7201a8"
             ],
             [
              0.3333333333333333,
              "#9c179e"
             ],
             [
              0.4444444444444444,
              "#bd3786"
             ],
             [
              0.5555555555555556,
              "#d8576b"
             ],
             [
              0.6666666666666666,
              "#ed7953"
             ],
             [
              0.7777777777777778,
              "#fb9f3a"
             ],
             [
              0.8888888888888888,
              "#fdca26"
             ],
             [
              1,
              "#f0f921"
             ]
            ],
            "type": "surface"
           }
          ],
          "table": [
           {
            "cells": {
             "fill": {
              "color": "#EBF0F8"
             },
             "line": {
              "color": "white"
             }
            },
            "header": {
             "fill": {
              "color": "#C8D4E3"
             },
             "line": {
              "color": "white"
             }
            },
            "type": "table"
           }
          ]
         },
         "layout": {
          "annotationdefaults": {
           "arrowcolor": "#2a3f5f",
           "arrowhead": 0,
           "arrowwidth": 1
          },
          "autotypenumbers": "strict",
          "coloraxis": {
           "colorbar": {
            "outlinewidth": 0,
            "ticks": ""
           }
          },
          "colorscale": {
           "diverging": [
            [
             0,
             "#8e0152"
            ],
            [
             0.1,
             "#c51b7d"
            ],
            [
             0.2,
             "#de77ae"
            ],
            [
             0.3,
             "#f1b6da"
            ],
            [
             0.4,
             "#fde0ef"
            ],
            [
             0.5,
             "#f7f7f7"
            ],
            [
             0.6,
             "#e6f5d0"
            ],
            [
             0.7,
             "#b8e186"
            ],
            [
             0.8,
             "#7fbc41"
            ],
            [
             0.9,
             "#4d9221"
            ],
            [
             1,
             "#276419"
            ]
           ],
           "sequential": [
            [
             0,
             "#0d0887"
            ],
            [
             0.1111111111111111,
             "#46039f"
            ],
            [
             0.2222222222222222,
             "#7201a8"
            ],
            [
             0.3333333333333333,
             "#9c179e"
            ],
            [
             0.4444444444444444,
             "#bd3786"
            ],
            [
             0.5555555555555556,
             "#d8576b"
            ],
            [
             0.6666666666666666,
             "#ed7953"
            ],
            [
             0.7777777777777778,
             "#fb9f3a"
            ],
            [
             0.8888888888888888,
             "#fdca26"
            ],
            [
             1,
             "#f0f921"
            ]
           ],
           "sequentialminus": [
            [
             0,
             "#0d0887"
            ],
            [
             0.1111111111111111,
             "#46039f"
            ],
            [
             0.2222222222222222,
             "#7201a8"
            ],
            [
             0.3333333333333333,
             "#9c179e"
            ],
            [
             0.4444444444444444,
             "#bd3786"
            ],
            [
             0.5555555555555556,
             "#d8576b"
            ],
            [
             0.6666666666666666,
             "#ed7953"
            ],
            [
             0.7777777777777778,
             "#fb9f3a"
            ],
            [
             0.8888888888888888,
             "#fdca26"
            ],
            [
             1,
             "#f0f921"
            ]
           ]
          },
          "colorway": [
           "#636efa",
           "#EF553B",
           "#00cc96",
           "#ab63fa",
           "#FFA15A",
           "#19d3f3",
           "#FF6692",
           "#B6E880",
           "#FF97FF",
           "#FECB52"
          ],
          "font": {
           "color": "#2a3f5f"
          },
          "geo": {
           "bgcolor": "white",
           "lakecolor": "white",
           "landcolor": "white",
           "showlakes": true,
           "showland": true,
           "subunitcolor": "#C8D4E3"
          },
          "hoverlabel": {
           "align": "left"
          },
          "hovermode": "closest",
          "mapbox": {
           "style": "light"
          },
          "paper_bgcolor": "white",
          "plot_bgcolor": "white",
          "polar": {
           "angularaxis": {
            "gridcolor": "#EBF0F8",
            "linecolor": "#EBF0F8",
            "ticks": ""
           },
           "bgcolor": "white",
           "radialaxis": {
            "gridcolor": "#EBF0F8",
            "linecolor": "#EBF0F8",
            "ticks": ""
           }
          },
          "scene": {
           "xaxis": {
            "backgroundcolor": "white",
            "gridcolor": "#DFE8F3",
            "gridwidth": 2,
            "linecolor": "#EBF0F8",
            "showbackground": true,
            "ticks": "",
            "zerolinecolor": "#EBF0F8"
           },
           "yaxis": {
            "backgroundcolor": "white",
            "gridcolor": "#DFE8F3",
            "gridwidth": 2,
            "linecolor": "#EBF0F8",
            "showbackground": true,
            "ticks": "",
            "zerolinecolor": "#EBF0F8"
           },
           "zaxis": {
            "backgroundcolor": "white",
            "gridcolor": "#DFE8F3",
            "gridwidth": 2,
            "linecolor": "#EBF0F8",
            "showbackground": true,
            "ticks": "",
            "zerolinecolor": "#EBF0F8"
           }
          },
          "shapedefaults": {
           "line": {
            "color": "#2a3f5f"
           }
          },
          "ternary": {
           "aaxis": {
            "gridcolor": "#DFE8F3",
            "linecolor": "#A2B1C6",
            "ticks": ""
           },
           "baxis": {
            "gridcolor": "#DFE8F3",
            "linecolor": "#A2B1C6",
            "ticks": ""
           },
           "bgcolor": "white",
           "caxis": {
            "gridcolor": "#DFE8F3",
            "linecolor": "#A2B1C6",
            "ticks": ""
           }
          },
          "title": {
           "x": 0.05
          },
          "xaxis": {
           "automargin": true,
           "gridcolor": "#EBF0F8",
           "linecolor": "#EBF0F8",
           "ticks": "",
           "title": {
            "standoff": 15
           },
           "zerolinecolor": "#EBF0F8",
           "zerolinewidth": 2
          },
          "yaxis": {
           "automargin": true,
           "gridcolor": "#EBF0F8",
           "linecolor": "#EBF0F8",
           "ticks": "",
           "title": {
            "standoff": 15
           },
           "zerolinecolor": "#EBF0F8",
           "zerolinewidth": 2
          }
         }
        },
        "title": {
         "text": "Calendar View of Predicted Regimes (2025-04-11 to 2025-05-11)"
        },
        "xaxis": {
         "anchor": "y",
         "domain": [
          0,
          1
         ],
         "title": {
          "text": "Day of Month"
         }
        },
        "yaxis": {
         "anchor": "x",
         "categoryarray": [
          "Monday",
          "Tuesday",
          "Wednesday",
          "Thursday",
          "Friday"
         ],
         "categoryorder": "array",
         "domain": [
          0,
          1
         ],
         "title": {
          "text": "Weekday"
         }
        }
       }
      }
     },
     "metadata": {},
     "output_type": "display_data"
    },
    {
     "name": "stdout",
     "output_type": "stream",
     "text": [
      "\n",
      "Predicted Regime Distribution:\n",
      "Regime 1: 95.24% (20 days)\n",
      "  → Crisis Regime (High VIX, Negative Returns)\n",
      "Regime 2: 4.76% (1 days)\n",
      "  → Volatile Growth (High Volatility, Positive Returns)\n"
     ]
    },
    {
     "data": {
      "application/vnd.plotly.v1+json": {
       "config": {
        "plotlyServerURL": "https://plot.ly"
       },
       "data": [
        {
         "domain": {
          "x": [
           0,
           0.45
          ],
          "y": [
           0,
           1
          ]
         },
         "labels": [
          "Regime 1",
          "Regime 2"
         ],
         "marker": {
          "colors": [
           "rgb(252,141,98)",
           "rgb(141,160,203)"
          ]
         },
         "type": "pie",
         "values": {
          "bdata": "8zzP8zzPV0DDMAzDMAwTQA==",
          "dtype": "f8"
         }
        },
        {
         "marker": {
          "color": "rgb(252,141,98)"
         },
         "mode": "markers+lines",
         "name": "Regime 1",
         "type": "scatter",
         "x": [
          "2025-04-14T00:00:00.000000000",
          "2025-04-15T00:00:00.000000000",
          "2025-04-16T00:00:00.000000000",
          "2025-04-17T00:00:00.000000000",
          "2025-04-18T00:00:00.000000000",
          "2025-04-21T00:00:00.000000000",
          "2025-04-22T00:00:00.000000000",
          "2025-04-23T00:00:00.000000000",
          "2025-04-24T00:00:00.000000000",
          "2025-04-25T00:00:00.000000000",
          "2025-04-28T00:00:00.000000000",
          "2025-04-29T00:00:00.000000000",
          "2025-04-30T00:00:00.000000000",
          "2025-05-01T00:00:00.000000000",
          "2025-05-02T00:00:00.000000000",
          "2025-05-05T00:00:00.000000000",
          "2025-05-06T00:00:00.000000000",
          "2025-05-07T00:00:00.000000000",
          "2025-05-08T00:00:00.000000000",
          "2025-05-09T00:00:00.000000000"
         ],
         "xaxis": "x",
         "y": {
          "bdata": "AAAA4KNkgEAAAADgo2SAQAAAAOCjZIBAAAAA4KNkgEAAAADgo2SAQAAAAOCjZIBAAAAA4KNkgEAAAADgo2SAQAAAAOCjZIBAAAAA4KNkgEAAAADgo2SAQAAAAOCjZIBAAAAA4KNkgEAAAADgo2SAQAAAAOCjZIBAAAAA4KNkgEAAAADgo2SAQAAAAOCjZIBAAAAA4KNkgEAAAADgo2SAQA==",
          "dtype": "f8"
         },
         "yaxis": "y"
        },
        {
         "marker": {
          "color": "rgb(141,160,203)"
         },
         "mode": "markers+lines",
         "name": "Regime 2",
         "type": "scatter",
         "x": [
          "2025-04-11T00:00:00.000000000"
         ],
         "xaxis": "x",
         "y": {
          "bdata": "AAAA4KNkgEA=",
          "dtype": "f8"
         },
         "yaxis": "y"
        }
       ],
       "layout": {
        "annotations": [
         {
          "font": {
           "size": 16
          },
          "showarrow": false,
          "text": "Predicted Regimes",
          "x": 0.225,
          "xanchor": "center",
          "xref": "paper",
          "y": 1,
          "yanchor": "bottom",
          "yref": "paper"
         },
         {
          "font": {
           "size": 16
          },
          "showarrow": false,
          "text": "Daily Close Prices",
          "x": 0.775,
          "xanchor": "center",
          "xref": "paper",
          "y": 1,
          "yanchor": "bottom",
          "yref": "paper"
         }
        ],
        "height": 500,
        "template": {
         "data": {
          "bar": [
           {
            "error_x": {
             "color": "#2a3f5f"
            },
            "error_y": {
             "color": "#2a3f5f"
            },
            "marker": {
             "line": {
              "color": "white",
              "width": 0.5
             },
             "pattern": {
              "fillmode": "overlay",
              "size": 10,
              "solidity": 0.2
             }
            },
            "type": "bar"
           }
          ],
          "barpolar": [
           {
            "marker": {
             "line": {
              "color": "white",
              "width": 0.5
             },
             "pattern": {
              "fillmode": "overlay",
              "size": 10,
              "solidity": 0.2
             }
            },
            "type": "barpolar"
           }
          ],
          "carpet": [
           {
            "aaxis": {
             "endlinecolor": "#2a3f5f",
             "gridcolor": "#C8D4E3",
             "linecolor": "#C8D4E3",
             "minorgridcolor": "#C8D4E3",
             "startlinecolor": "#2a3f5f"
            },
            "baxis": {
             "endlinecolor": "#2a3f5f",
             "gridcolor": "#C8D4E3",
             "linecolor": "#C8D4E3",
             "minorgridcolor": "#C8D4E3",
             "startlinecolor": "#2a3f5f"
            },
            "type": "carpet"
           }
          ],
          "choropleth": [
           {
            "colorbar": {
             "outlinewidth": 0,
             "ticks": ""
            },
            "type": "choropleth"
           }
          ],
          "contour": [
           {
            "colorbar": {
             "outlinewidth": 0,
             "ticks": ""
            },
            "colorscale": [
             [
              0,
              "#0d0887"
             ],
             [
              0.1111111111111111,
              "#46039f"
             ],
             [
              0.2222222222222222,
              "#7201a8"
             ],
             [
              0.3333333333333333,
              "#9c179e"
             ],
             [
              0.4444444444444444,
              "#bd3786"
             ],
             [
              0.5555555555555556,
              "#d8576b"
             ],
             [
              0.6666666666666666,
              "#ed7953"
             ],
             [
              0.7777777777777778,
              "#fb9f3a"
             ],
             [
              0.8888888888888888,
              "#fdca26"
             ],
             [
              1,
              "#f0f921"
             ]
            ],
            "type": "contour"
           }
          ],
          "contourcarpet": [
           {
            "colorbar": {
             "outlinewidth": 0,
             "ticks": ""
            },
            "type": "contourcarpet"
           }
          ],
          "heatmap": [
           {
            "colorbar": {
             "outlinewidth": 0,
             "ticks": ""
            },
            "colorscale": [
             [
              0,
              "#0d0887"
             ],
             [
              0.1111111111111111,
              "#46039f"
             ],
             [
              0.2222222222222222,
              "#7201a8"
             ],
             [
              0.3333333333333333,
              "#9c179e"
             ],
             [
              0.4444444444444444,
              "#bd3786"
             ],
             [
              0.5555555555555556,
              "#d8576b"
             ],
             [
              0.6666666666666666,
              "#ed7953"
             ],
             [
              0.7777777777777778,
              "#fb9f3a"
             ],
             [
              0.8888888888888888,
              "#fdca26"
             ],
             [
              1,
              "#f0f921"
             ]
            ],
            "type": "heatmap"
           }
          ],
          "histogram": [
           {
            "marker": {
             "pattern": {
              "fillmode": "overlay",
              "size": 10,
              "solidity": 0.2
             }
            },
            "type": "histogram"
           }
          ],
          "histogram2d": [
           {
            "colorbar": {
             "outlinewidth": 0,
             "ticks": ""
            },
            "colorscale": [
             [
              0,
              "#0d0887"
             ],
             [
              0.1111111111111111,
              "#46039f"
             ],
             [
              0.2222222222222222,
              "#7201a8"
             ],
             [
              0.3333333333333333,
              "#9c179e"
             ],
             [
              0.4444444444444444,
              "#bd3786"
             ],
             [
              0.5555555555555556,
              "#d8576b"
             ],
             [
              0.6666666666666666,
              "#ed7953"
             ],
             [
              0.7777777777777778,
              "#fb9f3a"
             ],
             [
              0.8888888888888888,
              "#fdca26"
             ],
             [
              1,
              "#f0f921"
             ]
            ],
            "type": "histogram2d"
           }
          ],
          "histogram2dcontour": [
           {
            "colorbar": {
             "outlinewidth": 0,
             "ticks": ""
            },
            "colorscale": [
             [
              0,
              "#0d0887"
             ],
             [
              0.1111111111111111,
              "#46039f"
             ],
             [
              0.2222222222222222,
              "#7201a8"
             ],
             [
              0.3333333333333333,
              "#9c179e"
             ],
             [
              0.4444444444444444,
              "#bd3786"
             ],
             [
              0.5555555555555556,
              "#d8576b"
             ],
             [
              0.6666666666666666,
              "#ed7953"
             ],
             [
              0.7777777777777778,
              "#fb9f3a"
             ],
             [
              0.8888888888888888,
              "#fdca26"
             ],
             [
              1,
              "#f0f921"
             ]
            ],
            "type": "histogram2dcontour"
           }
          ],
          "mesh3d": [
           {
            "colorbar": {
             "outlinewidth": 0,
             "ticks": ""
            },
            "type": "mesh3d"
           }
          ],
          "parcoords": [
           {
            "line": {
             "colorbar": {
              "outlinewidth": 0,
              "ticks": ""
             }
            },
            "type": "parcoords"
           }
          ],
          "pie": [
           {
            "automargin": true,
            "type": "pie"
           }
          ],
          "scatter": [
           {
            "fillpattern": {
             "fillmode": "overlay",
             "size": 10,
             "solidity": 0.2
            },
            "type": "scatter"
           }
          ],
          "scatter3d": [
           {
            "line": {
             "colorbar": {
              "outlinewidth": 0,
              "ticks": ""
             }
            },
            "marker": {
             "colorbar": {
              "outlinewidth": 0,
              "ticks": ""
             }
            },
            "type": "scatter3d"
           }
          ],
          "scattercarpet": [
           {
            "marker": {
             "colorbar": {
              "outlinewidth": 0,
              "ticks": ""
             }
            },
            "type": "scattercarpet"
           }
          ],
          "scattergeo": [
           {
            "marker": {
             "colorbar": {
              "outlinewidth": 0,
              "ticks": ""
             }
            },
            "type": "scattergeo"
           }
          ],
          "scattergl": [
           {
            "marker": {
             "colorbar": {
              "outlinewidth": 0,
              "ticks": ""
             }
            },
            "type": "scattergl"
           }
          ],
          "scattermap": [
           {
            "marker": {
             "colorbar": {
              "outlinewidth": 0,
              "ticks": ""
             }
            },
            "type": "scattermap"
           }
          ],
          "scattermapbox": [
           {
            "marker": {
             "colorbar": {
              "outlinewidth": 0,
              "ticks": ""
             }
            },
            "type": "scattermapbox"
           }
          ],
          "scatterpolar": [
           {
            "marker": {
             "colorbar": {
              "outlinewidth": 0,
              "ticks": ""
             }
            },
            "type": "scatterpolar"
           }
          ],
          "scatterpolargl": [
           {
            "marker": {
             "colorbar": {
              "outlinewidth": 0,
              "ticks": ""
             }
            },
            "type": "scatterpolargl"
           }
          ],
          "scatterternary": [
           {
            "marker": {
             "colorbar": {
              "outlinewidth": 0,
              "ticks": ""
             }
            },
            "type": "scatterternary"
           }
          ],
          "surface": [
           {
            "colorbar": {
             "outlinewidth": 0,
             "ticks": ""
            },
            "colorscale": [
             [
              0,
              "#0d0887"
             ],
             [
              0.1111111111111111,
              "#46039f"
             ],
             [
              0.2222222222222222,
              "#7201a8"
             ],
             [
              0.3333333333333333,
              "#9c179e"
             ],
             [
              0.4444444444444444,
              "#bd3786"
             ],
             [
              0.5555555555555556,
              "#d8576b"
             ],
             [
              0.6666666666666666,
              "#ed7953"
             ],
             [
              0.7777777777777778,
              "#fb9f3a"
             ],
             [
              0.8888888888888888,
              "#fdca26"
             ],
             [
              1,
              "#f0f921"
             ]
            ],
            "type": "surface"
           }
          ],
          "table": [
           {
            "cells": {
             "fill": {
              "color": "#EBF0F8"
             },
             "line": {
              "color": "white"
             }
            },
            "header": {
             "fill": {
              "color": "#C8D4E3"
             },
             "line": {
              "color": "white"
             }
            },
            "type": "table"
           }
          ]
         },
         "layout": {
          "annotationdefaults": {
           "arrowcolor": "#2a3f5f",
           "arrowhead": 0,
           "arrowwidth": 1
          },
          "autotypenumbers": "strict",
          "coloraxis": {
           "colorbar": {
            "outlinewidth": 0,
            "ticks": ""
           }
          },
          "colorscale": {
           "diverging": [
            [
             0,
             "#8e0152"
            ],
            [
             0.1,
             "#c51b7d"
            ],
            [
             0.2,
             "#de77ae"
            ],
            [
             0.3,
             "#f1b6da"
            ],
            [
             0.4,
             "#fde0ef"
            ],
            [
             0.5,
             "#f7f7f7"
            ],
            [
             0.6,
             "#e6f5d0"
            ],
            [
             0.7,
             "#b8e186"
            ],
            [
             0.8,
             "#7fbc41"
            ],
            [
             0.9,
             "#4d9221"
            ],
            [
             1,
             "#276419"
            ]
           ],
           "sequential": [
            [
             0,
             "#0d0887"
            ],
            [
             0.1111111111111111,
             "#46039f"
            ],
            [
             0.2222222222222222,
             "#7201a8"
            ],
            [
             0.3333333333333333,
             "#9c179e"
            ],
            [
             0.4444444444444444,
             "#bd3786"
            ],
            [
             0.5555555555555556,
             "#d8576b"
            ],
            [
             0.6666666666666666,
             "#ed7953"
            ],
            [
             0.7777777777777778,
             "#fb9f3a"
            ],
            [
             0.8888888888888888,
             "#fdca26"
            ],
            [
             1,
             "#f0f921"
            ]
           ],
           "sequentialminus": [
            [
             0,
             "#0d0887"
            ],
            [
             0.1111111111111111,
             "#46039f"
            ],
            [
             0.2222222222222222,
             "#7201a8"
            ],
            [
             0.3333333333333333,
             "#9c179e"
            ],
            [
             0.4444444444444444,
             "#bd3786"
            ],
            [
             0.5555555555555556,
             "#d8576b"
            ],
            [
             0.6666666666666666,
             "#ed7953"
            ],
            [
             0.7777777777777778,
             "#fb9f3a"
            ],
            [
             0.8888888888888888,
             "#fdca26"
            ],
            [
             1,
             "#f0f921"
            ]
           ]
          },
          "colorway": [
           "#636efa",
           "#EF553B",
           "#00cc96",
           "#ab63fa",
           "#FFA15A",
           "#19d3f3",
           "#FF6692",
           "#B6E880",
           "#FF97FF",
           "#FECB52"
          ],
          "font": {
           "color": "#2a3f5f"
          },
          "geo": {
           "bgcolor": "white",
           "lakecolor": "white",
           "landcolor": "white",
           "showlakes": true,
           "showland": true,
           "subunitcolor": "#C8D4E3"
          },
          "hoverlabel": {
           "align": "left"
          },
          "hovermode": "closest",
          "mapbox": {
           "style": "light"
          },
          "paper_bgcolor": "white",
          "plot_bgcolor": "white",
          "polar": {
           "angularaxis": {
            "gridcolor": "#EBF0F8",
            "linecolor": "#EBF0F8",
            "ticks": ""
           },
           "bgcolor": "white",
           "radialaxis": {
            "gridcolor": "#EBF0F8",
            "linecolor": "#EBF0F8",
            "ticks": ""
           }
          },
          "scene": {
           "xaxis": {
            "backgroundcolor": "white",
            "gridcolor": "#DFE8F3",
            "gridwidth": 2,
            "linecolor": "#EBF0F8",
            "showbackground": true,
            "ticks": "",
            "zerolinecolor": "#EBF0F8"
           },
           "yaxis": {
            "backgroundcolor": "white",
            "gridcolor": "#DFE8F3",
            "gridwidth": 2,
            "linecolor": "#EBF0F8",
            "showbackground": true,
            "ticks": "",
            "zerolinecolor": "#EBF0F8"
           },
           "zaxis": {
            "backgroundcolor": "white",
            "gridcolor": "#DFE8F3",
            "gridwidth": 2,
            "linecolor": "#EBF0F8",
            "showbackground": true,
            "ticks": "",
            "zerolinecolor": "#EBF0F8"
           }
          },
          "shapedefaults": {
           "line": {
            "color": "#2a3f5f"
           }
          },
          "ternary": {
           "aaxis": {
            "gridcolor": "#DFE8F3",
            "linecolor": "#A2B1C6",
            "ticks": ""
           },
           "baxis": {
            "gridcolor": "#DFE8F3",
            "linecolor": "#A2B1C6",
            "ticks": ""
           },
           "bgcolor": "white",
           "caxis": {
            "gridcolor": "#DFE8F3",
            "linecolor": "#A2B1C6",
            "ticks": ""
           }
          },
          "title": {
           "x": 0.05
          },
          "xaxis": {
           "automargin": true,
           "gridcolor": "#EBF0F8",
           "linecolor": "#EBF0F8",
           "ticks": "",
           "title": {
            "standoff": 15
           },
           "zerolinecolor": "#EBF0F8",
           "zerolinewidth": 2
          },
          "yaxis": {
           "automargin": true,
           "gridcolor": "#EBF0F8",
           "linecolor": "#EBF0F8",
           "ticks": "",
           "title": {
            "standoff": 15
           },
           "zerolinecolor": "#EBF0F8",
           "zerolinewidth": 2
          }
         }
        },
        "title": {
         "text": "Future Market Regime Predictions (2025-04-11 to 2025-05-11)"
        },
        "xaxis": {
         "anchor": "y",
         "domain": [
          0.55,
          1
         ]
        },
        "yaxis": {
         "anchor": "x",
         "domain": [
          0,
          1
         ]
        }
       }
      }
     },
     "metadata": {},
     "output_type": "display_data"
    }
   ],
   "source": [
    "# Function to predict regimes for future periods\n",
    "def predict_future_regimes(days=30):\n",
    "    \"\"\"\n",
    "    Predict market regimes for the coming periods\n",
    "    \n",
    "    Parameters:\n",
    "    -----------\n",
    "    days : int\n",
    "        Number of days to predict into the future\n",
    "    \n",
    "    Returns:\n",
    "    --------\n",
    "    DataFrame with date, predicted close price, VIX, and regime\n",
    "    \"\"\"\n",
    "    today = datetime.today()\n",
    "    future_date = today + timedelta(days=days)\n",
    "    \n",
    "    # Format dates\n",
    "    start_date = today.strftime('%Y-%m-%d')\n",
    "    end_date = future_date.strftime('%Y-%m-%d')\n",
    "    \n",
    "    print(f\"Predicting regimes from {start_date} to {end_date}\")\n",
    "    \n",
    "    # Use our existing function to generate predictions\n",
    "    results = predict_regimes(model, df, start_date, end_date)\n",
    "    \n",
    "    if results is None or results.empty:\n",
    "        print(\"Failed to generate predictions\")\n",
    "        return None\n",
    "    \n",
    "    # Create a calendar view of predicted regimes\n",
    "    results['Day'] = results['Date'].dt.day\n",
    "    results['Month'] = results['Date'].dt.month_name()\n",
    "    results['Weekday'] = results['Date'].dt.day_name()\n",
    "    \n",
    "    # Create a calendar heatmap\n",
    "    fig_cal = px.scatter(\n",
    "        results,\n",
    "        x='Day', \n",
    "        y='Weekday',\n",
    "        color='Predicted_Regime',\n",
    "        color_discrete_sequence=regime_colors,\n",
    "        title=f'Calendar View of Predicted Regimes ({start_date} to {end_date})',\n",
    "        hover_data=['Date', 'Close', 'VIX'],\n",
    "        size_max=15,\n",
    "        size=[10] * len(results)  # Fixed size for all points\n",
    "    )\n",
    "    \n",
    "    fig_cal.update_layout(\n",
    "        xaxis_title='Day of Month',\n",
    "        yaxis_title='Weekday',\n",
    "        yaxis=dict(\n",
    "            categoryorder='array',\n",
    "            categoryarray=['Monday', 'Tuesday', 'Wednesday', 'Thursday', 'Friday']\n",
    "        ),\n",
    "        template='plotly_white'\n",
    "    )\n",
    "    \n",
    "    fig_cal.show()\n",
    "    \n",
    "    # Show distribution of predicted regimes\n",
    "    regime_percentages = results['Predicted_Regime'].value_counts(normalize=True) * 100\n",
    "    regime_counts = results['Predicted_Regime'].value_counts()\n",
    "    \n",
    "    print(\"\\nPredicted Regime Distribution:\")\n",
    "    for regime in sorted(regime_percentages.index):\n",
    "        print(f\"Regime {regime}: {regime_percentages[regime]:.2f}% ({regime_counts[regime]} days)\")\n",
    "        # Get the interpretation\n",
    "        for i, r_type in enumerate(regime_types):\n",
    "            if i == regime:\n",
    "                print(f\"  → {r_type}\")\n",
    "    \n",
    "    # Create prediction summary visualization\n",
    "    fig_summary = make_subplots(rows=1, cols=2, \n",
    "                              subplot_titles=('Predicted Regimes', 'Daily Close Prices'),\n",
    "                              specs=[[{\"type\": \"pie\"}, {\"type\": \"scatter\"}]])\n",
    "    \n",
    "    # Pie chart of regime distribution\n",
    "    fig_summary.add_trace(\n",
    "        go.Pie(\n",
    "            labels=[f\"Regime {i}\" for i in sorted(regime_percentages.index)],\n",
    "            values=regime_percentages.values,\n",
    "            marker=dict(colors=[regime_colors[i] for i in sorted(regime_percentages.index)])\n",
    "        ),\n",
    "        row=1, col=1\n",
    "    )\n",
    "    \n",
    "    # Line chart of predicted prices\n",
    "    for regime in sorted(results['Predicted_Regime'].unique()):\n",
    "        regime_data = results[results['Predicted_Regime'] == regime]\n",
    "        fig_summary.add_trace(\n",
    "            go.Scatter(\n",
    "                x=regime_data['Date'],\n",
    "                y=regime_data['Close'],\n",
    "                mode='markers+lines',\n",
    "                marker=dict(color=regime_colors[regime]),\n",
    "                name=f'Regime {regime}'\n",
    "            ),\n",
    "            row=1, col=2\n",
    "        )\n",
    "    \n",
    "    fig_summary.update_layout(\n",
    "        height=500,\n",
    "        title_text=f'Future Market Regime Predictions ({start_date} to {end_date})',\n",
    "        template='plotly_white'\n",
    "    )\n",
    "    \n",
    "    fig_summary.show()\n",
    "    \n",
    "    return results\n",
    "\n",
    "# Example: Predict regimes for the next 30 days\n",
    "future_predictions = predict_future_regimes(30)"
   ]
  },
  {
   "cell_type": "code",
   "execution_count": 20,
   "metadata": {},
   "outputs": [
    {
     "name": "stdout",
     "output_type": "stream",
     "text": [
      "Predicted regimes for period 2022-01-01 to 2022-02-28\n",
      "Data points: 39\n",
      "\n",
      "Regime Distribution:\n",
      "Regime 2: 56.41%\n",
      "Regime 1: 41.03%\n",
      "Regime 0: 2.56%\n"
     ]
    },
    {
     "data": {
      "application/vnd.plotly.v1+json": {
       "config": {
        "plotlyServerURL": "https://plot.ly"
       },
       "data": [
        {
         "marker": {
          "color": "rgb(102,194,165)",
          "size": 6
         },
         "mode": "markers",
         "name": "Regime 0",
         "showlegend": true,
         "type": "scatter",
         "x": [
          "2022-01-03T00:00:00.000000000"
         ],
         "xaxis": "x",
         "y": {
          "bdata": "AAAAgPd8fEA=",
          "dtype": "f8"
         },
         "yaxis": "y"
        },
        {
         "marker": {
          "color": "rgb(252,141,98)",
          "size": 6
         },
         "mode": "markers",
         "name": "Regime 1",
         "showlegend": true,
         "type": "scatter",
         "x": [
          "2022-01-20T00:00:00.000000000",
          "2022-01-21T00:00:00.000000000",
          "2022-01-24T00:00:00.000000000",
          "2022-01-25T00:00:00.000000000",
          "2022-01-26T00:00:00.000000000",
          "2022-01-27T00:00:00.000000000",
          "2022-01-28T00:00:00.000000000",
          "2022-01-31T00:00:00.000000000",
          "2022-02-01T00:00:00.000000000",
          "2022-02-02T00:00:00.000000000",
          "2022-02-03T00:00:00.000000000",
          "2022-02-04T00:00:00.000000000",
          "2022-02-07T00:00:00.000000000",
          "2022-02-22T00:00:00.000000000",
          "2022-02-23T00:00:00.000000000",
          "2022-02-24T00:00:00.000000000"
         ],
         "xaxis": "x",
         "y": {
          "bdata": "AAAAoFCkekAAAADgbR56QAAAAODSOnpAAAAA4NfoeUAAAADAM9h5QAAAAGCIt3lAAAAAYAlbekAAAADgjtR6QAAAAMD3AntAAAAAACRGe0AAAACgBqJ6QAAAAKAVwnpAAAAAABqsekAAAACgCZ55QAAAAOC0KXlAAAAAAKaKeUA=",
          "dtype": "f8"
         },
         "yaxis": "y"
        },
        {
         "marker": {
          "color": "rgb(141,160,203)",
          "size": 6
         },
         "mode": "markers",
         "name": "Regime 2",
         "showlegend": true,
         "type": "scatter",
         "x": [
          "2022-01-04T00:00:00.000000000",
          "2022-01-05T00:00:00.000000000",
          "2022-01-06T00:00:00.000000000",
          "2022-01-07T00:00:00.000000000",
          "2022-01-10T00:00:00.000000000",
          "2022-01-11T00:00:00.000000000",
          "2022-01-12T00:00:00.000000000",
          "2022-01-13T00:00:00.000000000",
          "2022-01-14T00:00:00.000000000",
          "2022-01-18T00:00:00.000000000",
          "2022-01-19T00:00:00.000000000",
          "2022-02-08T00:00:00.000000000",
          "2022-02-09T00:00:00.000000000",
          "2022-02-10T00:00:00.000000000",
          "2022-02-11T00:00:00.000000000",
          "2022-02-14T00:00:00.000000000",
          "2022-02-15T00:00:00.000000000",
          "2022-02-16T00:00:00.000000000",
          "2022-02-17T00:00:00.000000000",
          "2022-02-18T00:00:00.000000000",
          "2022-02-25T00:00:00.000000000",
          "2022-02-28T00:00:00.000000000"
         ],
         "xaxis": "x",
         "y": {
          "bdata": "AAAAAIZ6fEAAAADAh+57QAAAACDQ53tAAAAAAJLLe0AAAAAgt8J7QAAAAOBxA3xAAAAAQNUWfEAAAAAAwbN7QAAAAKCntntAAAAA4AI5e0AAAAAgpvB6QAAAAIBI5HpAAAAAgApJe0AAAADgjMt6QAAAACBKRHpAAAAAIE4uekAAAACAZJp6QAAAAKAGonpAAAAAIGIQekAAAADALeV5QAAAAMDqGnpAAAAAoNEJekA=",
          "dtype": "f8"
         },
         "yaxis": "y"
        },
        {
         "line": {
          "color": "rgba(0,0,0,0.3)"
         },
         "mode": "lines",
         "name": "SPY Price",
         "showlegend": true,
         "type": "scatter",
         "x": [
          "2022-01-03T00:00:00.000000000",
          "2022-01-04T00:00:00.000000000",
          "2022-01-05T00:00:00.000000000",
          "2022-01-06T00:00:00.000000000",
          "2022-01-07T00:00:00.000000000",
          "2022-01-10T00:00:00.000000000",
          "2022-01-11T00:00:00.000000000",
          "2022-01-12T00:00:00.000000000",
          "2022-01-13T00:00:00.000000000",
          "2022-01-14T00:00:00.000000000",
          "2022-01-18T00:00:00.000000000",
          "2022-01-19T00:00:00.000000000",
          "2022-01-20T00:00:00.000000000",
          "2022-01-21T00:00:00.000000000",
          "2022-01-24T00:00:00.000000000",
          "2022-01-25T00:00:00.000000000",
          "2022-01-26T00:00:00.000000000",
          "2022-01-27T00:00:00.000000000",
          "2022-01-28T00:00:00.000000000",
          "2022-01-31T00:00:00.000000000",
          "2022-02-01T00:00:00.000000000",
          "2022-02-02T00:00:00.000000000",
          "2022-02-03T00:00:00.000000000",
          "2022-02-04T00:00:00.000000000",
          "2022-02-07T00:00:00.000000000",
          "2022-02-08T00:00:00.000000000",
          "2022-02-09T00:00:00.000000000",
          "2022-02-10T00:00:00.000000000",
          "2022-02-11T00:00:00.000000000",
          "2022-02-14T00:00:00.000000000",
          "2022-02-15T00:00:00.000000000",
          "2022-02-16T00:00:00.000000000",
          "2022-02-17T00:00:00.000000000",
          "2022-02-18T00:00:00.000000000",
          "2022-02-22T00:00:00.000000000",
          "2022-02-23T00:00:00.000000000",
          "2022-02-24T00:00:00.000000000",
          "2022-02-25T00:00:00.000000000",
          "2022-02-28T00:00:00.000000000"
         ],
         "xaxis": "x",
         "y": {
          "bdata": "AAAAgPd8fEAAAAAAhnp8QAAAAMCH7ntAAAAAINDne0AAAAAAkst7QAAAACC3wntAAAAA4HEDfEAAAABA1RZ8QAAAAADBs3tAAAAAoKe2e0AAAADgAjl7QAAAACCm8HpAAAAAoFCkekAAAADgbR56QAAAAODSOnpAAAAA4NfoeUAAAADAM9h5QAAAAGCIt3lAAAAAYAlbekAAAADgjtR6QAAAAMD3AntAAAAAACRGe0AAAACgBqJ6QAAAAKAVwnpAAAAAABqsekAAAACASOR6QAAAAIAKSXtAAAAA4IzLekAAAAAgSkR6QAAAACBOLnpAAAAAgGSaekAAAACgBqJ6QAAAACBiEHpAAAAAwC3leUAAAACgCZ55QAAAAOC0KXlAAAAAAKaKeUAAAADA6hp6QAAAAKDRCXpA",
          "dtype": "f8"
         },
         "yaxis": "y"
        },
        {
         "marker": {
          "color": "rgb(102,194,165)",
          "size": 6
         },
         "mode": "markers",
         "name": "Regime 0",
         "showlegend": false,
         "type": "scatter",
         "x": [
          "2022-01-03T00:00:00.000000000"
         ],
         "xaxis": "x2",
         "y": {
          "bdata": "AAAAoJmZMEA=",
          "dtype": "f8"
         },
         "yaxis": "y2"
        },
        {
         "marker": {
          "color": "rgb(252,141,98)",
          "size": 6
         },
         "mode": "markers",
         "name": "Regime 1",
         "showlegend": false,
         "type": "scatter",
         "x": [
          "2022-01-20T00:00:00.000000000",
          "2022-01-21T00:00:00.000000000",
          "2022-01-24T00:00:00.000000000",
          "2022-01-25T00:00:00.000000000",
          "2022-01-26T00:00:00.000000000",
          "2022-01-27T00:00:00.000000000",
          "2022-01-28T00:00:00.000000000",
          "2022-01-31T00:00:00.000000000",
          "2022-02-01T00:00:00.000000000",
          "2022-02-02T00:00:00.000000000",
          "2022-02-03T00:00:00.000000000",
          "2022-02-04T00:00:00.000000000",
          "2022-02-07T00:00:00.000000000",
          "2022-02-22T00:00:00.000000000",
          "2022-02-23T00:00:00.000000000",
          "2022-02-24T00:00:00.000000000"
         ],
         "xaxis": "x2",
         "y": {
          "bdata": "AAAAQAqXOUAAAACgmdk8QAAAAGBm5j1AAAAAwPUoP0AAAACAwvU/QAAAAKBwfT5AAAAAwPWoO0AAAADgetQ4QAAAAIDC9TVAAAAAQAoXNkAAAACgmVk4QAAAAOBRODdAAAAAACncNkAAAAAgXM88QAAAAMAeBT9AAAAAgOtRPkA=",
          "dtype": "f8"
         },
         "yaxis": "y2"
        },
        {
         "marker": {
          "color": "rgb(141,160,203)",
          "size": 6
         },
         "mode": "markers",
         "name": "Regime 2",
         "showlegend": false,
         "type": "scatter",
         "x": [
          "2022-01-04T00:00:00.000000000",
          "2022-01-05T00:00:00.000000000",
          "2022-01-06T00:00:00.000000000",
          "2022-01-07T00:00:00.000000000",
          "2022-01-10T00:00:00.000000000",
          "2022-01-11T00:00:00.000000000",
          "2022-01-12T00:00:00.000000000",
          "2022-01-13T00:00:00.000000000",
          "2022-01-14T00:00:00.000000000",
          "2022-01-18T00:00:00.000000000",
          "2022-01-19T00:00:00.000000000",
          "2022-02-08T00:00:00.000000000",
          "2022-02-09T00:00:00.000000000",
          "2022-02-10T00:00:00.000000000",
          "2022-02-11T00:00:00.000000000",
          "2022-02-14T00:00:00.000000000",
          "2022-02-15T00:00:00.000000000",
          "2022-02-16T00:00:00.000000000",
          "2022-02-17T00:00:00.000000000",
          "2022-02-18T00:00:00.000000000",
          "2022-02-25T00:00:00.000000000",
          "2022-02-28T00:00:00.000000000"
         ],
         "xaxis": "x2",
         "y": {
          "bdata": "AAAAwPXoMEAAAABA4bozQAAAAAApnDNAAAAAYI/CMkAAAABgZmYzQAAAAMD1aDJAAAAAYLieMUAAAAAgXE80QAAAAOCjMDNAAAAAgD3KNkAAAACgmdk3QAAAAOCjcDVAAAAAgML1M0AAAADA9eg3QAAAAAApXDtAAAAA4HpUPEAAAABAM7M5QAAAAIA9SjhAAAAAACkcPEAAAAAAAMA7QAAAAEAKlztAAAAAYGYmPkA=",
          "dtype": "f8"
         },
         "yaxis": "y2"
        },
        {
         "line": {
          "color": "rgba(0,0,0,0.3)"
         },
         "mode": "lines",
         "name": "VIX",
         "showlegend": true,
         "type": "scatter",
         "x": [
          "2022-01-03T00:00:00.000000000",
          "2022-01-04T00:00:00.000000000",
          "2022-01-05T00:00:00.000000000",
          "2022-01-06T00:00:00.000000000",
          "2022-01-07T00:00:00.000000000",
          "2022-01-10T00:00:00.000000000",
          "2022-01-11T00:00:00.000000000",
          "2022-01-12T00:00:00.000000000",
          "2022-01-13T00:00:00.000000000",
          "2022-01-14T00:00:00.000000000",
          "2022-01-18T00:00:00.000000000",
          "2022-01-19T00:00:00.000000000",
          "2022-01-20T00:00:00.000000000",
          "2022-01-21T00:00:00.000000000",
          "2022-01-24T00:00:00.000000000",
          "2022-01-25T00:00:00.000000000",
          "2022-01-26T00:00:00.000000000",
          "2022-01-27T00:00:00.000000000",
          "2022-01-28T00:00:00.000000000",
          "2022-01-31T00:00:00.000000000",
          "2022-02-01T00:00:00.000000000",
          "2022-02-02T00:00:00.000000000",
          "2022-02-03T00:00:00.000000000",
          "2022-02-04T00:00:00.000000000",
          "2022-02-07T00:00:00.000000000",
          "2022-02-08T00:00:00.000000000",
          "2022-02-09T00:00:00.000000000",
          "2022-02-10T00:00:00.000000000",
          "2022-02-11T00:00:00.000000000",
          "2022-02-14T00:00:00.000000000",
          "2022-02-15T00:00:00.000000000",
          "2022-02-16T00:00:00.000000000",
          "2022-02-17T00:00:00.000000000",
          "2022-02-18T00:00:00.000000000",
          "2022-02-22T00:00:00.000000000",
          "2022-02-23T00:00:00.000000000",
          "2022-02-24T00:00:00.000000000",
          "2022-02-25T00:00:00.000000000",
          "2022-02-28T00:00:00.000000000"
         ],
         "xaxis": "x2",
         "y": {
          "bdata": "AAAAoJmZMEAAAADA9egwQAAAAEDhujNAAAAAACmcM0AAAABgj8IyQAAAAGBmZjNAAAAAwPVoMkAAAABguJ4xQAAAACBcTzRAAAAA4KMwM0AAAACAPco2QAAAAKCZ2TdAAAAAQAqXOUAAAACgmdk8QAAAAGBm5j1AAAAAwPUoP0AAAACAwvU/QAAAAKBwfT5AAAAAwPWoO0AAAADgetQ4QAAAAIDC9TVAAAAAQAoXNkAAAACgmVk4QAAAAOBRODdAAAAAACncNkAAAADgo3A1QAAAAIDC9TNAAAAAwPXoN0AAAAAAKVw7QAAAAOB6VDxAAAAAQDOzOUAAAACAPUo4QAAAAAApHDxAAAAAAADAO0AAAAAgXM88QAAAAMAeBT9AAAAAgOtRPkAAAABACpc7QAAAAGBmJj5A",
          "dtype": "f8"
         },
         "yaxis": "y2"
        }
       ],
       "layout": {
        "annotations": [
         {
          "font": {
           "size": 16
          },
          "showarrow": false,
          "text": "SPY Close Price by Regime",
          "x": 0.5,
          "xanchor": "center",
          "xref": "paper",
          "y": 1,
          "yanchor": "bottom",
          "yref": "paper"
         },
         {
          "font": {
           "size": 16
          },
          "showarrow": false,
          "text": "VIX by Regime",
          "x": 0.5,
          "xanchor": "center",
          "xref": "paper",
          "y": 0.45,
          "yanchor": "bottom",
          "yref": "paper"
         }
        ],
        "height": 800,
        "hovermode": "closest",
        "legend": {
         "title": {
          "text": "Regime"
         }
        },
        "template": {
         "data": {
          "bar": [
           {
            "error_x": {
             "color": "#2a3f5f"
            },
            "error_y": {
             "color": "#2a3f5f"
            },
            "marker": {
             "line": {
              "color": "white",
              "width": 0.5
             },
             "pattern": {
              "fillmode": "overlay",
              "size": 10,
              "solidity": 0.2
             }
            },
            "type": "bar"
           }
          ],
          "barpolar": [
           {
            "marker": {
             "line": {
              "color": "white",
              "width": 0.5
             },
             "pattern": {
              "fillmode": "overlay",
              "size": 10,
              "solidity": 0.2
             }
            },
            "type": "barpolar"
           }
          ],
          "carpet": [
           {
            "aaxis": {
             "endlinecolor": "#2a3f5f",
             "gridcolor": "#C8D4E3",
             "linecolor": "#C8D4E3",
             "minorgridcolor": "#C8D4E3",
             "startlinecolor": "#2a3f5f"
            },
            "baxis": {
             "endlinecolor": "#2a3f5f",
             "gridcolor": "#C8D4E3",
             "linecolor": "#C8D4E3",
             "minorgridcolor": "#C8D4E3",
             "startlinecolor": "#2a3f5f"
            },
            "type": "carpet"
           }
          ],
          "choropleth": [
           {
            "colorbar": {
             "outlinewidth": 0,
             "ticks": ""
            },
            "type": "choropleth"
           }
          ],
          "contour": [
           {
            "colorbar": {
             "outlinewidth": 0,
             "ticks": ""
            },
            "colorscale": [
             [
              0,
              "#0d0887"
             ],
             [
              0.1111111111111111,
              "#46039f"
             ],
             [
              0.2222222222222222,
              "#7201a8"
             ],
             [
              0.3333333333333333,
              "#9c179e"
             ],
             [
              0.4444444444444444,
              "#bd3786"
             ],
             [
              0.5555555555555556,
              "#d8576b"
             ],
             [
              0.6666666666666666,
              "#ed7953"
             ],
             [
              0.7777777777777778,
              "#fb9f3a"
             ],
             [
              0.8888888888888888,
              "#fdca26"
             ],
             [
              1,
              "#f0f921"
             ]
            ],
            "type": "contour"
           }
          ],
          "contourcarpet": [
           {
            "colorbar": {
             "outlinewidth": 0,
             "ticks": ""
            },
            "type": "contourcarpet"
           }
          ],
          "heatmap": [
           {
            "colorbar": {
             "outlinewidth": 0,
             "ticks": ""
            },
            "colorscale": [
             [
              0,
              "#0d0887"
             ],
             [
              0.1111111111111111,
              "#46039f"
             ],
             [
              0.2222222222222222,
              "#7201a8"
             ],
             [
              0.3333333333333333,
              "#9c179e"
             ],
             [
              0.4444444444444444,
              "#bd3786"
             ],
             [
              0.5555555555555556,
              "#d8576b"
             ],
             [
              0.6666666666666666,
              "#ed7953"
             ],
             [
              0.7777777777777778,
              "#fb9f3a"
             ],
             [
              0.8888888888888888,
              "#fdca26"
             ],
             [
              1,
              "#f0f921"
             ]
            ],
            "type": "heatmap"
           }
          ],
          "histogram": [
           {
            "marker": {
             "pattern": {
              "fillmode": "overlay",
              "size": 10,
              "solidity": 0.2
             }
            },
            "type": "histogram"
           }
          ],
          "histogram2d": [
           {
            "colorbar": {
             "outlinewidth": 0,
             "ticks": ""
            },
            "colorscale": [
             [
              0,
              "#0d0887"
             ],
             [
              0.1111111111111111,
              "#46039f"
             ],
             [
              0.2222222222222222,
              "#7201a8"
             ],
             [
              0.3333333333333333,
              "#9c179e"
             ],
             [
              0.4444444444444444,
              "#bd3786"
             ],
             [
              0.5555555555555556,
              "#d8576b"
             ],
             [
              0.6666666666666666,
              "#ed7953"
             ],
             [
              0.7777777777777778,
              "#fb9f3a"
             ],
             [
              0.8888888888888888,
              "#fdca26"
             ],
             [
              1,
              "#f0f921"
             ]
            ],
            "type": "histogram2d"
           }
          ],
          "histogram2dcontour": [
           {
            "colorbar": {
             "outlinewidth": 0,
             "ticks": ""
            },
            "colorscale": [
             [
              0,
              "#0d0887"
             ],
             [
              0.1111111111111111,
              "#46039f"
             ],
             [
              0.2222222222222222,
              "#7201a8"
             ],
             [
              0.3333333333333333,
              "#9c179e"
             ],
             [
              0.4444444444444444,
              "#bd3786"
             ],
             [
              0.5555555555555556,
              "#d8576b"
             ],
             [
              0.6666666666666666,
              "#ed7953"
             ],
             [
              0.7777777777777778,
              "#fb9f3a"
             ],
             [
              0.8888888888888888,
              "#fdca26"
             ],
             [
              1,
              "#f0f921"
             ]
            ],
            "type": "histogram2dcontour"
           }
          ],
          "mesh3d": [
           {
            "colorbar": {
             "outlinewidth": 0,
             "ticks": ""
            },
            "type": "mesh3d"
           }
          ],
          "parcoords": [
           {
            "line": {
             "colorbar": {
              "outlinewidth": 0,
              "ticks": ""
             }
            },
            "type": "parcoords"
           }
          ],
          "pie": [
           {
            "automargin": true,
            "type": "pie"
           }
          ],
          "scatter": [
           {
            "fillpattern": {
             "fillmode": "overlay",
             "size": 10,
             "solidity": 0.2
            },
            "type": "scatter"
           }
          ],
          "scatter3d": [
           {
            "line": {
             "colorbar": {
              "outlinewidth": 0,
              "ticks": ""
             }
            },
            "marker": {
             "colorbar": {
              "outlinewidth": 0,
              "ticks": ""
             }
            },
            "type": "scatter3d"
           }
          ],
          "scattercarpet": [
           {
            "marker": {
             "colorbar": {
              "outlinewidth": 0,
              "ticks": ""
             }
            },
            "type": "scattercarpet"
           }
          ],
          "scattergeo": [
           {
            "marker": {
             "colorbar": {
              "outlinewidth": 0,
              "ticks": ""
             }
            },
            "type": "scattergeo"
           }
          ],
          "scattergl": [
           {
            "marker": {
             "colorbar": {
              "outlinewidth": 0,
              "ticks": ""
             }
            },
            "type": "scattergl"
           }
          ],
          "scattermap": [
           {
            "marker": {
             "colorbar": {
              "outlinewidth": 0,
              "ticks": ""
             }
            },
            "type": "scattermap"
           }
          ],
          "scattermapbox": [
           {
            "marker": {
             "colorbar": {
              "outlinewidth": 0,
              "ticks": ""
             }
            },
            "type": "scattermapbox"
           }
          ],
          "scatterpolar": [
           {
            "marker": {
             "colorbar": {
              "outlinewidth": 0,
              "ticks": ""
             }
            },
            "type": "scatterpolar"
           }
          ],
          "scatterpolargl": [
           {
            "marker": {
             "colorbar": {
              "outlinewidth": 0,
              "ticks": ""
             }
            },
            "type": "scatterpolargl"
           }
          ],
          "scatterternary": [
           {
            "marker": {
             "colorbar": {
              "outlinewidth": 0,
              "ticks": ""
             }
            },
            "type": "scatterternary"
           }
          ],
          "surface": [
           {
            "colorbar": {
             "outlinewidth": 0,
             "ticks": ""
            },
            "colorscale": [
             [
              0,
              "#0d0887"
             ],
             [
              0.1111111111111111,
              "#46039f"
             ],
             [
              0.2222222222222222,
              "#7201a8"
             ],
             [
              0.3333333333333333,
              "#9c179e"
             ],
             [
              0.4444444444444444,
              "#bd3786"
             ],
             [
              0.5555555555555556,
              "#d8576b"
             ],
             [
              0.6666666666666666,
              "#ed7953"
             ],
             [
              0.7777777777777778,
              "#fb9f3a"
             ],
             [
              0.8888888888888888,
              "#fdca26"
             ],
             [
              1,
              "#f0f921"
             ]
            ],
            "type": "surface"
           }
          ],
          "table": [
           {
            "cells": {
             "fill": {
              "color": "#EBF0F8"
             },
             "line": {
              "color": "white"
             }
            },
            "header": {
             "fill": {
              "color": "#C8D4E3"
             },
             "line": {
              "color": "white"
             }
            },
            "type": "table"
           }
          ]
         },
         "layout": {
          "annotationdefaults": {
           "arrowcolor": "#2a3f5f",
           "arrowhead": 0,
           "arrowwidth": 1
          },
          "autotypenumbers": "strict",
          "coloraxis": {
           "colorbar": {
            "outlinewidth": 0,
            "ticks": ""
           }
          },
          "colorscale": {
           "diverging": [
            [
             0,
             "#8e0152"
            ],
            [
             0.1,
             "#c51b7d"
            ],
            [
             0.2,
             "#de77ae"
            ],
            [
             0.3,
             "#f1b6da"
            ],
            [
             0.4,
             "#fde0ef"
            ],
            [
             0.5,
             "#f7f7f7"
            ],
            [
             0.6,
             "#e6f5d0"
            ],
            [
             0.7,
             "#b8e186"
            ],
            [
             0.8,
             "#7fbc41"
            ],
            [
             0.9,
             "#4d9221"
            ],
            [
             1,
             "#276419"
            ]
           ],
           "sequential": [
            [
             0,
             "#0d0887"
            ],
            [
             0.1111111111111111,
             "#46039f"
            ],
            [
             0.2222222222222222,
             "#7201a8"
            ],
            [
             0.3333333333333333,
             "#9c179e"
            ],
            [
             0.4444444444444444,
             "#bd3786"
            ],
            [
             0.5555555555555556,
             "#d8576b"
            ],
            [
             0.6666666666666666,
             "#ed7953"
            ],
            [
             0.7777777777777778,
             "#fb9f3a"
            ],
            [
             0.8888888888888888,
             "#fdca26"
            ],
            [
             1,
             "#f0f921"
            ]
           ],
           "sequentialminus": [
            [
             0,
             "#0d0887"
            ],
            [
             0.1111111111111111,
             "#46039f"
            ],
            [
             0.2222222222222222,
             "#7201a8"
            ],
            [
             0.3333333333333333,
             "#9c179e"
            ],
            [
             0.4444444444444444,
             "#bd3786"
            ],
            [
             0.5555555555555556,
             "#d8576b"
            ],
            [
             0.6666666666666666,
             "#ed7953"
            ],
            [
             0.7777777777777778,
             "#fb9f3a"
            ],
            [
             0.8888888888888888,
             "#fdca26"
            ],
            [
             1,
             "#f0f921"
            ]
           ]
          },
          "colorway": [
           "#636efa",
           "#EF553B",
           "#00cc96",
           "#ab63fa",
           "#FFA15A",
           "#19d3f3",
           "#FF6692",
           "#B6E880",
           "#FF97FF",
           "#FECB52"
          ],
          "font": {
           "color": "#2a3f5f"
          },
          "geo": {
           "bgcolor": "white",
           "lakecolor": "white",
           "landcolor": "white",
           "showlakes": true,
           "showland": true,
           "subunitcolor": "#C8D4E3"
          },
          "hoverlabel": {
           "align": "left"
          },
          "hovermode": "closest",
          "mapbox": {
           "style": "light"
          },
          "paper_bgcolor": "white",
          "plot_bgcolor": "white",
          "polar": {
           "angularaxis": {
            "gridcolor": "#EBF0F8",
            "linecolor": "#EBF0F8",
            "ticks": ""
           },
           "bgcolor": "white",
           "radialaxis": {
            "gridcolor": "#EBF0F8",
            "linecolor": "#EBF0F8",
            "ticks": ""
           }
          },
          "scene": {
           "xaxis": {
            "backgroundcolor": "white",
            "gridcolor": "#DFE8F3",
            "gridwidth": 2,
            "linecolor": "#EBF0F8",
            "showbackground": true,
            "ticks": "",
            "zerolinecolor": "#EBF0F8"
           },
           "yaxis": {
            "backgroundcolor": "white",
            "gridcolor": "#DFE8F3",
            "gridwidth": 2,
            "linecolor": "#EBF0F8",
            "showbackground": true,
            "ticks": "",
            "zerolinecolor": "#EBF0F8"
           },
           "zaxis": {
            "backgroundcolor": "white",
            "gridcolor": "#DFE8F3",
            "gridwidth": 2,
            "linecolor": "#EBF0F8",
            "showbackground": true,
            "ticks": "",
            "zerolinecolor": "#EBF0F8"
           }
          },
          "shapedefaults": {
           "line": {
            "color": "#2a3f5f"
           }
          },
          "ternary": {
           "aaxis": {
            "gridcolor": "#DFE8F3",
            "linecolor": "#A2B1C6",
            "ticks": ""
           },
           "baxis": {
            "gridcolor": "#DFE8F3",
            "linecolor": "#A2B1C6",
            "ticks": ""
           },
           "bgcolor": "white",
           "caxis": {
            "gridcolor": "#DFE8F3",
            "linecolor": "#A2B1C6",
            "ticks": ""
           }
          },
          "title": {
           "x": 0.05
          },
          "xaxis": {
           "automargin": true,
           "gridcolor": "#EBF0F8",
           "linecolor": "#EBF0F8",
           "ticks": "",
           "title": {
            "standoff": 15
           },
           "zerolinecolor": "#EBF0F8",
           "zerolinewidth": 2
          },
          "yaxis": {
           "automargin": true,
           "gridcolor": "#EBF0F8",
           "linecolor": "#EBF0F8",
           "ticks": "",
           "title": {
            "standoff": 15
           },
           "zerolinecolor": "#EBF0F8",
           "zerolinewidth": 2
          }
         }
        },
        "title": {
         "text": "Market Regimes During Early 2022 Correction"
        },
        "xaxis": {
         "anchor": "y",
         "domain": [
          0,
          1
         ],
         "matches": "x2",
         "showticklabels": false
        },
        "xaxis2": {
         "anchor": "y2",
         "domain": [
          0,
          1
         ],
         "title": {
          "text": "Date"
         }
        },
        "yaxis": {
         "anchor": "x",
         "domain": [
          0.55,
          1
         ],
         "title": {
          "text": "SPY Price"
         }
        },
        "yaxis2": {
         "anchor": "x2",
         "domain": [
          0,
          0.45
         ],
         "title": {
          "text": "VIX"
         }
        }
       }
      }
     },
     "metadata": {},
     "output_type": "display_data"
    },
    {
     "data": {
      "application/vnd.plotly.v1+json": {
       "config": {
        "plotlyServerURL": "https://plot.ly"
       },
       "data": [
        {
         "domain": {
          "x": [
           0,
           1
          ],
          "y": [
           0,
           1
          ]
         },
         "hovertemplate": "label=%{label}<br>value=%{value}<extra></extra>",
         "labels": [
          "Regime 0",
          "Regime 1",
          "Regime 2"
         ],
         "legendgroup": "",
         "name": "",
         "showlegend": true,
         "textinfo": "percent+label",
         "textposition": "inside",
         "type": "pie",
         "values": {
          "bdata": "SIM0SIM0TEA0SIM0SINEQDRIgzRIgwRA",
          "dtype": "f8"
         }
        }
       ],
       "layout": {
        "legend": {
         "tracegroupgap": 0
        },
        "piecolorway": [
         "rgb(102,194,165)",
         "rgb(252,141,98)",
         "rgb(141,160,203)"
        ],
        "template": {
         "data": {
          "bar": [
           {
            "error_x": {
             "color": "#2a3f5f"
            },
            "error_y": {
             "color": "#2a3f5f"
            },
            "marker": {
             "line": {
              "color": "#E5ECF6",
              "width": 0.5
             },
             "pattern": {
              "fillmode": "overlay",
              "size": 10,
              "solidity": 0.2
             }
            },
            "type": "bar"
           }
          ],
          "barpolar": [
           {
            "marker": {
             "line": {
              "color": "#E5ECF6",
              "width": 0.5
             },
             "pattern": {
              "fillmode": "overlay",
              "size": 10,
              "solidity": 0.2
             }
            },
            "type": "barpolar"
           }
          ],
          "carpet": [
           {
            "aaxis": {
             "endlinecolor": "#2a3f5f",
             "gridcolor": "white",
             "linecolor": "white",
             "minorgridcolor": "white",
             "startlinecolor": "#2a3f5f"
            },
            "baxis": {
             "endlinecolor": "#2a3f5f",
             "gridcolor": "white",
             "linecolor": "white",
             "minorgridcolor": "white",
             "startlinecolor": "#2a3f5f"
            },
            "type": "carpet"
           }
          ],
          "choropleth": [
           {
            "colorbar": {
             "outlinewidth": 0,
             "ticks": ""
            },
            "type": "choropleth"
           }
          ],
          "contour": [
           {
            "colorbar": {
             "outlinewidth": 0,
             "ticks": ""
            },
            "colorscale": [
             [
              0,
              "#0d0887"
             ],
             [
              0.1111111111111111,
              "#46039f"
             ],
             [
              0.2222222222222222,
              "#7201a8"
             ],
             [
              0.3333333333333333,
              "#9c179e"
             ],
             [
              0.4444444444444444,
              "#bd3786"
             ],
             [
              0.5555555555555556,
              "#d8576b"
             ],
             [
              0.6666666666666666,
              "#ed7953"
             ],
             [
              0.7777777777777778,
              "#fb9f3a"
             ],
             [
              0.8888888888888888,
              "#fdca26"
             ],
             [
              1,
              "#f0f921"
             ]
            ],
            "type": "contour"
           }
          ],
          "contourcarpet": [
           {
            "colorbar": {
             "outlinewidth": 0,
             "ticks": ""
            },
            "type": "contourcarpet"
           }
          ],
          "heatmap": [
           {
            "colorbar": {
             "outlinewidth": 0,
             "ticks": ""
            },
            "colorscale": [
             [
              0,
              "#0d0887"
             ],
             [
              0.1111111111111111,
              "#46039f"
             ],
             [
              0.2222222222222222,
              "#7201a8"
             ],
             [
              0.3333333333333333,
              "#9c179e"
             ],
             [
              0.4444444444444444,
              "#bd3786"
             ],
             [
              0.5555555555555556,
              "#d8576b"
             ],
             [
              0.6666666666666666,
              "#ed7953"
             ],
             [
              0.7777777777777778,
              "#fb9f3a"
             ],
             [
              0.8888888888888888,
              "#fdca26"
             ],
             [
              1,
              "#f0f921"
             ]
            ],
            "type": "heatmap"
           }
          ],
          "histogram": [
           {
            "marker": {
             "pattern": {
              "fillmode": "overlay",
              "size": 10,
              "solidity": 0.2
             }
            },
            "type": "histogram"
           }
          ],
          "histogram2d": [
           {
            "colorbar": {
             "outlinewidth": 0,
             "ticks": ""
            },
            "colorscale": [
             [
              0,
              "#0d0887"
             ],
             [
              0.1111111111111111,
              "#46039f"
             ],
             [
              0.2222222222222222,
              "#7201a8"
             ],
             [
              0.3333333333333333,
              "#9c179e"
             ],
             [
              0.4444444444444444,
              "#bd3786"
             ],
             [
              0.5555555555555556,
              "#d8576b"
             ],
             [
              0.6666666666666666,
              "#ed7953"
             ],
             [
              0.7777777777777778,
              "#fb9f3a"
             ],
             [
              0.8888888888888888,
              "#fdca26"
             ],
             [
              1,
              "#f0f921"
             ]
            ],
            "type": "histogram2d"
           }
          ],
          "histogram2dcontour": [
           {
            "colorbar": {
             "outlinewidth": 0,
             "ticks": ""
            },
            "colorscale": [
             [
              0,
              "#0d0887"
             ],
             [
              0.1111111111111111,
              "#46039f"
             ],
             [
              0.2222222222222222,
              "#7201a8"
             ],
             [
              0.3333333333333333,
              "#9c179e"
             ],
             [
              0.4444444444444444,
              "#bd3786"
             ],
             [
              0.5555555555555556,
              "#d8576b"
             ],
             [
              0.6666666666666666,
              "#ed7953"
             ],
             [
              0.7777777777777778,
              "#fb9f3a"
             ],
             [
              0.8888888888888888,
              "#fdca26"
             ],
             [
              1,
              "#f0f921"
             ]
            ],
            "type": "histogram2dcontour"
           }
          ],
          "mesh3d": [
           {
            "colorbar": {
             "outlinewidth": 0,
             "ticks": ""
            },
            "type": "mesh3d"
           }
          ],
          "parcoords": [
           {
            "line": {
             "colorbar": {
              "outlinewidth": 0,
              "ticks": ""
             }
            },
            "type": "parcoords"
           }
          ],
          "pie": [
           {
            "automargin": true,
            "type": "pie"
           }
          ],
          "scatter": [
           {
            "fillpattern": {
             "fillmode": "overlay",
             "size": 10,
             "solidity": 0.2
            },
            "type": "scatter"
           }
          ],
          "scatter3d": [
           {
            "line": {
             "colorbar": {
              "outlinewidth": 0,
              "ticks": ""
             }
            },
            "marker": {
             "colorbar": {
              "outlinewidth": 0,
              "ticks": ""
             }
            },
            "type": "scatter3d"
           }
          ],
          "scattercarpet": [
           {
            "marker": {
             "colorbar": {
              "outlinewidth": 0,
              "ticks": ""
             }
            },
            "type": "scattercarpet"
           }
          ],
          "scattergeo": [
           {
            "marker": {
             "colorbar": {
              "outlinewidth": 0,
              "ticks": ""
             }
            },
            "type": "scattergeo"
           }
          ],
          "scattergl": [
           {
            "marker": {
             "colorbar": {
              "outlinewidth": 0,
              "ticks": ""
             }
            },
            "type": "scattergl"
           }
          ],
          "scattermap": [
           {
            "marker": {
             "colorbar": {
              "outlinewidth": 0,
              "ticks": ""
             }
            },
            "type": "scattermap"
           }
          ],
          "scattermapbox": [
           {
            "marker": {
             "colorbar": {
              "outlinewidth": 0,
              "ticks": ""
             }
            },
            "type": "scattermapbox"
           }
          ],
          "scatterpolar": [
           {
            "marker": {
             "colorbar": {
              "outlinewidth": 0,
              "ticks": ""
             }
            },
            "type": "scatterpolar"
           }
          ],
          "scatterpolargl": [
           {
            "marker": {
             "colorbar": {
              "outlinewidth": 0,
              "ticks": ""
             }
            },
            "type": "scatterpolargl"
           }
          ],
          "scatterternary": [
           {
            "marker": {
             "colorbar": {
              "outlinewidth": 0,
              "ticks": ""
             }
            },
            "type": "scatterternary"
           }
          ],
          "surface": [
           {
            "colorbar": {
             "outlinewidth": 0,
             "ticks": ""
            },
            "colorscale": [
             [
              0,
              "#0d0887"
             ],
             [
              0.1111111111111111,
              "#46039f"
             ],
             [
              0.2222222222222222,
              "#7201a8"
             ],
             [
              0.3333333333333333,
              "#9c179e"
             ],
             [
              0.4444444444444444,
              "#bd3786"
             ],
             [
              0.5555555555555556,
              "#d8576b"
             ],
             [
              0.6666666666666666,
              "#ed7953"
             ],
             [
              0.7777777777777778,
              "#fb9f3a"
             ],
             [
              0.8888888888888888,
              "#fdca26"
             ],
             [
              1,
              "#f0f921"
             ]
            ],
            "type": "surface"
           }
          ],
          "table": [
           {
            "cells": {
             "fill": {
              "color": "#EBF0F8"
             },
             "line": {
              "color": "white"
             }
            },
            "header": {
             "fill": {
              "color": "#C8D4E3"
             },
             "line": {
              "color": "white"
             }
            },
            "type": "table"
           }
          ]
         },
         "layout": {
          "annotationdefaults": {
           "arrowcolor": "#2a3f5f",
           "arrowhead": 0,
           "arrowwidth": 1
          },
          "autotypenumbers": "strict",
          "coloraxis": {
           "colorbar": {
            "outlinewidth": 0,
            "ticks": ""
           }
          },
          "colorscale": {
           "diverging": [
            [
             0,
             "#8e0152"
            ],
            [
             0.1,
             "#c51b7d"
            ],
            [
             0.2,
             "#de77ae"
            ],
            [
             0.3,
             "#f1b6da"
            ],
            [
             0.4,
             "#fde0ef"
            ],
            [
             0.5,
             "#f7f7f7"
            ],
            [
             0.6,
             "#e6f5d0"
            ],
            [
             0.7,
             "#b8e186"
            ],
            [
             0.8,
             "#7fbc41"
            ],
            [
             0.9,
             "#4d9221"
            ],
            [
             1,
             "#276419"
            ]
           ],
           "sequential": [
            [
             0,
             "#0d0887"
            ],
            [
             0.1111111111111111,
             "#46039f"
            ],
            [
             0.2222222222222222,
             "#7201a8"
            ],
            [
             0.3333333333333333,
             "#9c179e"
            ],
            [
             0.4444444444444444,
             "#bd3786"
            ],
            [
             0.5555555555555556,
             "#d8576b"
            ],
            [
             0.6666666666666666,
             "#ed7953"
            ],
            [
             0.7777777777777778,
             "#fb9f3a"
            ],
            [
             0.8888888888888888,
             "#fdca26"
            ],
            [
             1,
             "#f0f921"
            ]
           ],
           "sequentialminus": [
            [
             0,
             "#0d0887"
            ],
            [
             0.1111111111111111,
             "#46039f"
            ],
            [
             0.2222222222222222,
             "#7201a8"
            ],
            [
             0.3333333333333333,
             "#9c179e"
            ],
            [
             0.4444444444444444,
             "#bd3786"
            ],
            [
             0.5555555555555556,
             "#d8576b"
            ],
            [
             0.6666666666666666,
             "#ed7953"
            ],
            [
             0.7777777777777778,
             "#fb9f3a"
            ],
            [
             0.8888888888888888,
             "#fdca26"
            ],
            [
             1,
             "#f0f921"
            ]
           ]
          },
          "colorway": [
           "#636efa",
           "#EF553B",
           "#00cc96",
           "#ab63fa",
           "#FFA15A",
           "#19d3f3",
           "#FF6692",
           "#B6E880",
           "#FF97FF",
           "#FECB52"
          ],
          "font": {
           "color": "#2a3f5f"
          },
          "geo": {
           "bgcolor": "white",
           "lakecolor": "white",
           "landcolor": "#E5ECF6",
           "showlakes": true,
           "showland": true,
           "subunitcolor": "white"
          },
          "hoverlabel": {
           "align": "left"
          },
          "hovermode": "closest",
          "mapbox": {
           "style": "light"
          },
          "paper_bgcolor": "white",
          "plot_bgcolor": "#E5ECF6",
          "polar": {
           "angularaxis": {
            "gridcolor": "white",
            "linecolor": "white",
            "ticks": ""
           },
           "bgcolor": "#E5ECF6",
           "radialaxis": {
            "gridcolor": "white",
            "linecolor": "white",
            "ticks": ""
           }
          },
          "scene": {
           "xaxis": {
            "backgroundcolor": "#E5ECF6",
            "gridcolor": "white",
            "gridwidth": 2,
            "linecolor": "white",
            "showbackground": true,
            "ticks": "",
            "zerolinecolor": "white"
           },
           "yaxis": {
            "backgroundcolor": "#E5ECF6",
            "gridcolor": "white",
            "gridwidth": 2,
            "linecolor": "white",
            "showbackground": true,
            "ticks": "",
            "zerolinecolor": "white"
           },
           "zaxis": {
            "backgroundcolor": "#E5ECF6",
            "gridcolor": "white",
            "gridwidth": 2,
            "linecolor": "white",
            "showbackground": true,
            "ticks": "",
            "zerolinecolor": "white"
           }
          },
          "shapedefaults": {
           "line": {
            "color": "#2a3f5f"
           }
          },
          "ternary": {
           "aaxis": {
            "gridcolor": "white",
            "linecolor": "white",
            "ticks": ""
           },
           "baxis": {
            "gridcolor": "white",
            "linecolor": "white",
            "ticks": ""
           },
           "bgcolor": "#E5ECF6",
           "caxis": {
            "gridcolor": "white",
            "linecolor": "white",
            "ticks": ""
           }
          },
          "title": {
           "x": 0.05
          },
          "xaxis": {
           "automargin": true,
           "gridcolor": "white",
           "linecolor": "white",
           "ticks": "",
           "title": {
            "standoff": 15
           },
           "zerolinecolor": "white",
           "zerolinewidth": 2
          },
          "yaxis": {
           "automargin": true,
           "gridcolor": "white",
           "linecolor": "white",
           "ticks": "",
           "title": {
            "standoff": 15
           },
           "zerolinecolor": "white",
           "zerolinewidth": 2
          }
         }
        },
        "title": {
         "text": "Percentage of Time in Each Regime (2022-01-01 to 2022-02-28)"
        },
        "uniformtext": {
         "minsize": 12,
         "mode": "hide"
        }
       }
      }
     },
     "metadata": {},
     "output_type": "display_data"
    },
    {
     "data": {
      "application/vnd.plotly.v1+json": {
       "config": {
        "plotlyServerURL": "https://plot.ly"
       },
       "data": [
        {
         "hovertemplate": "Volatility=%{x}<br>Return (%)=%{y}<br>VIX=%{marker.size}<br>Predicted_Regime=%{marker.color}<extra></extra>",
         "legendgroup": "",
         "marker": {
          "color": {
           "bdata": "AAICAgICAgICAgICAQEBAQEBAQEBAQEBAQICAgICAgICAgEBAQIC",
           "dtype": "i1"
          },
          "coloraxis": "coloraxis",
          "opacity": 0.8,
          "size": {
           "bdata": "AAAAoJmZMEAAAADA9egwQAAAAEDhujNAAAAAACmcM0AAAABgj8IyQAAAAGBmZjNAAAAAwPVoMkAAAABguJ4xQAAAACBcTzRAAAAA4KMwM0AAAACAPco2QAAAAKCZ2TdAAAAAQAqXOUAAAACgmdk8QAAAAGBm5j1AAAAAwPUoP0AAAACAwvU/QAAAAKBwfT5AAAAAwPWoO0AAAADgetQ4QAAAAIDC9TVAAAAAQAoXNkAAAACgmVk4QAAAAOBRODdAAAAAACncNkAAAADgo3A1QAAAAIDC9TNAAAAAwPXoN0AAAAAAKVw7QAAAAOB6VDxAAAAAQDOzOUAAAACAPUo4QAAAAAApHDxAAAAAAADAO0AAAAAgXM88QAAAAMAeBT9AAAAAgOtRPkAAAABACpc7QAAAAGBmJj5A",
           "dtype": "f8"
          },
          "sizemode": "area",
          "sizeref": 0.07989999771118164,
          "symbol": "circle"
         },
         "mode": "markers",
         "name": "",
         "orientation": "v",
         "showlegend": false,
         "type": "scatter",
         "x": {
          "bdata": "uJ77i7sWSEDNzEGJb0w1QLoeX5oWKypAHoUDWdCPKUDD9ZDljKQxQJqZPZHtEDZAC9ekNhgHNUDWo3mVXi4yQPYohEASaTNAKVyzPT9lM0DXowF5pd83QArXu8WGyD1AuJ7D9aSmSkCa2dT7UjtYQKNwIspXbF5AuB78jkbzYkBSWFpttTxjQHsU5wNVf2BAKZwjcceCWEBGYdvtpuBNQJqZuVGa10lAkQKbEhULUEA+SuTk6gNQQGamcfmFIVBAU7iSgX7zT0Dr0WQvDDRMQBUuZHD9S0hAPQooZcu9MkDYo2Fs9yw1QJDC9t+HRj9AKFwYGgI2PkD2KBjOrwU2QKVw2RGRnT5AHwXc/2G5REBSuJ5sDKtNQGamb32urlVAKZz+6pYYUEC3HhMzW/lIQDMzsehdDkhA",
          "dtype": "f8"
         },
         "xaxis": "x",
         "y": {
          "bdata": "LnRquCKH4j8TqQOfTCehv2+0KU0ruf6/njPWvYUMuL+yvUlBU03Zv4+0/cOi27+/AuLsKHMl7T/ussPCdE3RP/9MHn2vC/a/uHOVm37xpD+oPjH82lX8vz4nxoQOnfC/gqYLaZC18b+zF7gxoGj/vzSvum+dLds/1VdwucGI87879EE2kw7Qv6pejUwUmt+/QE9wJkTeA0CJCfKtV9H8P1xtlZoxn+U/eMQHX88V7z+Yy4hrz80CwP6NXkPQF94/K58Tt9yJ1L9Xj0NPYVTqP/H1nlvfavc/w7eev7m+/L8IHzJIvYz/v3MqX6yU7NS/ogCK+5PN+T+bKXfJerG8P6eKt5HQFgHAQYo0dW645L+E/GyhoCvxv4vyT2bFYfy/plLopRwU+D8lrHeQs6YBQMx5k33SX9C/",
          "dtype": "f8"
         },
         "yaxis": "y"
        }
       ],
       "layout": {
        "coloraxis": {
         "colorbar": {
          "title": {
           "text": "Predicted_Regime"
          }
         },
         "colorscale": [
          [
           0,
           "#0d0887"
          ],
          [
           0.1111111111111111,
           "#46039f"
          ],
          [
           0.2222222222222222,
           "#7201a8"
          ],
          [
           0.3333333333333333,
           "#9c179e"
          ],
          [
           0.4444444444444444,
           "#bd3786"
          ],
          [
           0.5555555555555556,
           "#d8576b"
          ],
          [
           0.6666666666666666,
           "#ed7953"
          ],
          [
           0.7777777777777778,
           "#fb9f3a"
          ],
          [
           0.8888888888888888,
           "#fdca26"
          ],
          [
           1,
           "#f0f921"
          ]
         ]
        },
        "hovermode": "closest",
        "legend": {
         "itemsizing": "constant",
         "title": {
          "text": "Regime"
         },
         "tracegroupgap": 0
        },
        "template": {
         "data": {
          "bar": [
           {
            "error_x": {
             "color": "#2a3f5f"
            },
            "error_y": {
             "color": "#2a3f5f"
            },
            "marker": {
             "line": {
              "color": "white",
              "width": 0.5
             },
             "pattern": {
              "fillmode": "overlay",
              "size": 10,
              "solidity": 0.2
             }
            },
            "type": "bar"
           }
          ],
          "barpolar": [
           {
            "marker": {
             "line": {
              "color": "white",
              "width": 0.5
             },
             "pattern": {
              "fillmode": "overlay",
              "size": 10,
              "solidity": 0.2
             }
            },
            "type": "barpolar"
           }
          ],
          "carpet": [
           {
            "aaxis": {
             "endlinecolor": "#2a3f5f",
             "gridcolor": "#C8D4E3",
             "linecolor": "#C8D4E3",
             "minorgridcolor": "#C8D4E3",
             "startlinecolor": "#2a3f5f"
            },
            "baxis": {
             "endlinecolor": "#2a3f5f",
             "gridcolor": "#C8D4E3",
             "linecolor": "#C8D4E3",
             "minorgridcolor": "#C8D4E3",
             "startlinecolor": "#2a3f5f"
            },
            "type": "carpet"
           }
          ],
          "choropleth": [
           {
            "colorbar": {
             "outlinewidth": 0,
             "ticks": ""
            },
            "type": "choropleth"
           }
          ],
          "contour": [
           {
            "colorbar": {
             "outlinewidth": 0,
             "ticks": ""
            },
            "colorscale": [
             [
              0,
              "#0d0887"
             ],
             [
              0.1111111111111111,
              "#46039f"
             ],
             [
              0.2222222222222222,
              "#7201a8"
             ],
             [
              0.3333333333333333,
              "#9c179e"
             ],
             [
              0.4444444444444444,
              "#bd3786"
             ],
             [
              0.5555555555555556,
              "#d8576b"
             ],
             [
              0.6666666666666666,
              "#ed7953"
             ],
             [
              0.7777777777777778,
              "#fb9f3a"
             ],
             [
              0.8888888888888888,
              "#fdca26"
             ],
             [
              1,
              "#f0f921"
             ]
            ],
            "type": "contour"
           }
          ],
          "contourcarpet": [
           {
            "colorbar": {
             "outlinewidth": 0,
             "ticks": ""
            },
            "type": "contourcarpet"
           }
          ],
          "heatmap": [
           {
            "colorbar": {
             "outlinewidth": 0,
             "ticks": ""
            },
            "colorscale": [
             [
              0,
              "#0d0887"
             ],
             [
              0.1111111111111111,
              "#46039f"
             ],
             [
              0.2222222222222222,
              "#7201a8"
             ],
             [
              0.3333333333333333,
              "#9c179e"
             ],
             [
              0.4444444444444444,
              "#bd3786"
             ],
             [
              0.5555555555555556,
              "#d8576b"
             ],
             [
              0.6666666666666666,
              "#ed7953"
             ],
             [
              0.7777777777777778,
              "#fb9f3a"
             ],
             [
              0.8888888888888888,
              "#fdca26"
             ],
             [
              1,
              "#f0f921"
             ]
            ],
            "type": "heatmap"
           }
          ],
          "histogram": [
           {
            "marker": {
             "pattern": {
              "fillmode": "overlay",
              "size": 10,
              "solidity": 0.2
             }
            },
            "type": "histogram"
           }
          ],
          "histogram2d": [
           {
            "colorbar": {
             "outlinewidth": 0,
             "ticks": ""
            },
            "colorscale": [
             [
              0,
              "#0d0887"
             ],
             [
              0.1111111111111111,
              "#46039f"
             ],
             [
              0.2222222222222222,
              "#7201a8"
             ],
             [
              0.3333333333333333,
              "#9c179e"
             ],
             [
              0.4444444444444444,
              "#bd3786"
             ],
             [
              0.5555555555555556,
              "#d8576b"
             ],
             [
              0.6666666666666666,
              "#ed7953"
             ],
             [
              0.7777777777777778,
              "#fb9f3a"
             ],
             [
              0.8888888888888888,
              "#fdca26"
             ],
             [
              1,
              "#f0f921"
             ]
            ],
            "type": "histogram2d"
           }
          ],
          "histogram2dcontour": [
           {
            "colorbar": {
             "outlinewidth": 0,
             "ticks": ""
            },
            "colorscale": [
             [
              0,
              "#0d0887"
             ],
             [
              0.1111111111111111,
              "#46039f"
             ],
             [
              0.2222222222222222,
              "#7201a8"
             ],
             [
              0.3333333333333333,
              "#9c179e"
             ],
             [
              0.4444444444444444,
              "#bd3786"
             ],
             [
              0.5555555555555556,
              "#d8576b"
             ],
             [
              0.6666666666666666,
              "#ed7953"
             ],
             [
              0.7777777777777778,
              "#fb9f3a"
             ],
             [
              0.8888888888888888,
              "#fdca26"
             ],
             [
              1,
              "#f0f921"
             ]
            ],
            "type": "histogram2dcontour"
           }
          ],
          "mesh3d": [
           {
            "colorbar": {
             "outlinewidth": 0,
             "ticks": ""
            },
            "type": "mesh3d"
           }
          ],
          "parcoords": [
           {
            "line": {
             "colorbar": {
              "outlinewidth": 0,
              "ticks": ""
             }
            },
            "type": "parcoords"
           }
          ],
          "pie": [
           {
            "automargin": true,
            "type": "pie"
           }
          ],
          "scatter": [
           {
            "fillpattern": {
             "fillmode": "overlay",
             "size": 10,
             "solidity": 0.2
            },
            "type": "scatter"
           }
          ],
          "scatter3d": [
           {
            "line": {
             "colorbar": {
              "outlinewidth": 0,
              "ticks": ""
             }
            },
            "marker": {
             "colorbar": {
              "outlinewidth": 0,
              "ticks": ""
             }
            },
            "type": "scatter3d"
           }
          ],
          "scattercarpet": [
           {
            "marker": {
             "colorbar": {
              "outlinewidth": 0,
              "ticks": ""
             }
            },
            "type": "scattercarpet"
           }
          ],
          "scattergeo": [
           {
            "marker": {
             "colorbar": {
              "outlinewidth": 0,
              "ticks": ""
             }
            },
            "type": "scattergeo"
           }
          ],
          "scattergl": [
           {
            "marker": {
             "colorbar": {
              "outlinewidth": 0,
              "ticks": ""
             }
            },
            "type": "scattergl"
           }
          ],
          "scattermap": [
           {
            "marker": {
             "colorbar": {
              "outlinewidth": 0,
              "ticks": ""
             }
            },
            "type": "scattermap"
           }
          ],
          "scattermapbox": [
           {
            "marker": {
             "colorbar": {
              "outlinewidth": 0,
              "ticks": ""
             }
            },
            "type": "scattermapbox"
           }
          ],
          "scatterpolar": [
           {
            "marker": {
             "colorbar": {
              "outlinewidth": 0,
              "ticks": ""
             }
            },
            "type": "scatterpolar"
           }
          ],
          "scatterpolargl": [
           {
            "marker": {
             "colorbar": {
              "outlinewidth": 0,
              "ticks": ""
             }
            },
            "type": "scatterpolargl"
           }
          ],
          "scatterternary": [
           {
            "marker": {
             "colorbar": {
              "outlinewidth": 0,
              "ticks": ""
             }
            },
            "type": "scatterternary"
           }
          ],
          "surface": [
           {
            "colorbar": {
             "outlinewidth": 0,
             "ticks": ""
            },
            "colorscale": [
             [
              0,
              "#0d0887"
             ],
             [
              0.1111111111111111,
              "#46039f"
             ],
             [
              0.2222222222222222,
              "#7201a8"
             ],
             [
              0.3333333333333333,
              "#9c179e"
             ],
             [
              0.4444444444444444,
              "#bd3786"
             ],
             [
              0.5555555555555556,
              "#d8576b"
             ],
             [
              0.6666666666666666,
              "#ed7953"
             ],
             [
              0.7777777777777778,
              "#fb9f3a"
             ],
             [
              0.8888888888888888,
              "#fdca26"
             ],
             [
              1,
              "#f0f921"
             ]
            ],
            "type": "surface"
           }
          ],
          "table": [
           {
            "cells": {
             "fill": {
              "color": "#EBF0F8"
             },
             "line": {
              "color": "white"
             }
            },
            "header": {
             "fill": {
              "color": "#C8D4E3"
             },
             "line": {
              "color": "white"
             }
            },
            "type": "table"
           }
          ]
         },
         "layout": {
          "annotationdefaults": {
           "arrowcolor": "#2a3f5f",
           "arrowhead": 0,
           "arrowwidth": 1
          },
          "autotypenumbers": "strict",
          "coloraxis": {
           "colorbar": {
            "outlinewidth": 0,
            "ticks": ""
           }
          },
          "colorscale": {
           "diverging": [
            [
             0,
             "#8e0152"
            ],
            [
             0.1,
             "#c51b7d"
            ],
            [
             0.2,
             "#de77ae"
            ],
            [
             0.3,
             "#f1b6da"
            ],
            [
             0.4,
             "#fde0ef"
            ],
            [
             0.5,
             "#f7f7f7"
            ],
            [
             0.6,
             "#e6f5d0"
            ],
            [
             0.7,
             "#b8e186"
            ],
            [
             0.8,
             "#7fbc41"
            ],
            [
             0.9,
             "#4d9221"
            ],
            [
             1,
             "#276419"
            ]
           ],
           "sequential": [
            [
             0,
             "#0d0887"
            ],
            [
             0.1111111111111111,
             "#46039f"
            ],
            [
             0.2222222222222222,
             "#7201a8"
            ],
            [
             0.3333333333333333,
             "#9c179e"
            ],
            [
             0.4444444444444444,
             "#bd3786"
            ],
            [
             0.5555555555555556,
             "#d8576b"
            ],
            [
             0.6666666666666666,
             "#ed7953"
            ],
            [
             0.7777777777777778,
             "#fb9f3a"
            ],
            [
             0.8888888888888888,
             "#fdca26"
            ],
            [
             1,
             "#f0f921"
            ]
           ],
           "sequentialminus": [
            [
             0,
             "#0d0887"
            ],
            [
             0.1111111111111111,
             "#46039f"
            ],
            [
             0.2222222222222222,
             "#7201a8"
            ],
            [
             0.3333333333333333,
             "#9c179e"
            ],
            [
             0.4444444444444444,
             "#bd3786"
            ],
            [
             0.5555555555555556,
             "#d8576b"
            ],
            [
             0.6666666666666666,
             "#ed7953"
            ],
            [
             0.7777777777777778,
             "#fb9f3a"
            ],
            [
             0.8888888888888888,
             "#fdca26"
            ],
            [
             1,
             "#f0f921"
            ]
           ]
          },
          "colorway": [
           "#636efa",
           "#EF553B",
           "#00cc96",
           "#ab63fa",
           "#FFA15A",
           "#19d3f3",
           "#FF6692",
           "#B6E880",
           "#FF97FF",
           "#FECB52"
          ],
          "font": {
           "color": "#2a3f5f"
          },
          "geo": {
           "bgcolor": "white",
           "lakecolor": "white",
           "landcolor": "white",
           "showlakes": true,
           "showland": true,
           "subunitcolor": "#C8D4E3"
          },
          "hoverlabel": {
           "align": "left"
          },
          "hovermode": "closest",
          "mapbox": {
           "style": "light"
          },
          "paper_bgcolor": "white",
          "plot_bgcolor": "white",
          "polar": {
           "angularaxis": {
            "gridcolor": "#EBF0F8",
            "linecolor": "#EBF0F8",
            "ticks": ""
           },
           "bgcolor": "white",
           "radialaxis": {
            "gridcolor": "#EBF0F8",
            "linecolor": "#EBF0F8",
            "ticks": ""
           }
          },
          "scene": {
           "xaxis": {
            "backgroundcolor": "white",
            "gridcolor": "#DFE8F3",
            "gridwidth": 2,
            "linecolor": "#EBF0F8",
            "showbackground": true,
            "ticks": "",
            "zerolinecolor": "#EBF0F8"
           },
           "yaxis": {
            "backgroundcolor": "white",
            "gridcolor": "#DFE8F3",
            "gridwidth": 2,
            "linecolor": "#EBF0F8",
            "showbackground": true,
            "ticks": "",
            "zerolinecolor": "#EBF0F8"
           },
           "zaxis": {
            "backgroundcolor": "white",
            "gridcolor": "#DFE8F3",
            "gridwidth": 2,
            "linecolor": "#EBF0F8",
            "showbackground": true,
            "ticks": "",
            "zerolinecolor": "#EBF0F8"
           }
          },
          "shapedefaults": {
           "line": {
            "color": "#2a3f5f"
           }
          },
          "ternary": {
           "aaxis": {
            "gridcolor": "#DFE8F3",
            "linecolor": "#A2B1C6",
            "ticks": ""
           },
           "baxis": {
            "gridcolor": "#DFE8F3",
            "linecolor": "#A2B1C6",
            "ticks": ""
           },
           "bgcolor": "white",
           "caxis": {
            "gridcolor": "#DFE8F3",
            "linecolor": "#A2B1C6",
            "ticks": ""
           }
          },
          "title": {
           "x": 0.05
          },
          "xaxis": {
           "automargin": true,
           "gridcolor": "#EBF0F8",
           "linecolor": "#EBF0F8",
           "ticks": "",
           "title": {
            "standoff": 15
           },
           "zerolinecolor": "#EBF0F8",
           "zerolinewidth": 2
          },
          "yaxis": {
           "automargin": true,
           "gridcolor": "#EBF0F8",
           "linecolor": "#EBF0F8",
           "ticks": "",
           "title": {
            "standoff": 15
           },
           "zerolinecolor": "#EBF0F8",
           "zerolinewidth": 2
          }
         }
        },
        "title": {
         "text": "Volatility vs Return by Regime (2022-01-01 to 2022-02-28)"
        },
        "xaxis": {
         "anchor": "y",
         "domain": [
          0,
          1
         ],
         "rangemode": "tozero",
         "title": {
          "text": "Volatility"
         }
        },
        "yaxis": {
         "anchor": "x",
         "domain": [
          0,
          1
         ],
         "title": {
          "text": "Return (%)"
         }
        }
       }
      }
     },
     "metadata": {},
     "output_type": "display_data"
    }
   ],
   "source": [
    "# Example: Analyze a custom time period (e.g., market correction in early 2022)\n",
    "# This function can be used to analyze any specific period of interest\n",
    "\n",
    "# Jan-Feb 2022 correction period\n",
    "custom_results = analyze_market_regimes(\n",
    "    \"2022-01-01\", \n",
    "    \"2022-02-28\", \n",
    "    title=\"Market Regimes During Early 2022 Correction\"\n",
    ")"
   ]
  }
 ],
 "metadata": {
  "kernelspec": {
   "display_name": "ml-env",
   "language": "python",
   "name": "python3"
  },
  "language_info": {
   "codemirror_mode": {
    "name": "ipython",
    "version": 3
   },
   "file_extension": ".py",
   "mimetype": "text/x-python",
   "name": "python",
   "nbconvert_exporter": "python",
   "pygments_lexer": "ipython3",
   "version": "3.9.18"
  }
 },
 "nbformat": 4,
 "nbformat_minor": 4
}
