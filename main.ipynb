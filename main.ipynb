{
 "cells": [
  {
   "cell_type": "code",
   "execution_count": 57,
   "metadata": {},
   "outputs": [
    {
     "name": "stderr",
     "output_type": "stream",
     "text": [
      "[*********************100%***********************]  1 of 1 completed\n",
      "[*********************100%***********************]  1 of 1 completed"
     ]
    },
    {
     "name": "stdout",
     "output_type": "stream",
     "text": [
      "Downloading market data from 1995-01-01 to 2025-04-11...\n",
      "DataFrame structure:\n",
      "Data shape: (7620, 8)\n",
      "Data columns: ['Date', 'Close', 'High', 'Low', 'Open', 'Volume', 'VIX', 'LogVIX']\n"
     ]
    },
    {
     "name": "stderr",
     "output_type": "stream",
     "text": [
      "\n"
     ]
    },
    {
     "data": {
      "application/vnd.microsoft.datawrangler.viewer.v0+json": {
       "columns": [
        {
         "name": "index",
         "rawType": "int64",
         "type": "integer"
        },
        {
         "name": "Date",
         "rawType": "datetime64[ns]",
         "type": "datetime"
        },
        {
         "name": "Close",
         "rawType": "float64",
         "type": "float"
        },
        {
         "name": "High",
         "rawType": "float64",
         "type": "float"
        },
        {
         "name": "Low",
         "rawType": "float64",
         "type": "float"
        },
        {
         "name": "Open",
         "rawType": "float64",
         "type": "float"
        },
        {
         "name": "Volume",
         "rawType": "int64",
         "type": "integer"
        },
        {
         "name": "VIX",
         "rawType": "float64",
         "type": "float"
        },
        {
         "name": "LogVIX",
         "rawType": "float64",
         "type": "float"
        }
       ],
       "conversionMethod": "pd.DataFrame",
       "ref": "bbe105bb-da21-4ab8-8070-95b7cba05266",
       "rows": [
        [
         "0",
         "1995-01-03 00:00:00",
         "26.815872192382812",
         "26.852480891621564",
         "26.760959143524694",
         "26.77011131833438",
         "324300",
         "14.25",
         "2.6567569067146595"
        ],
        [
         "1",
         "1995-01-04 00:00:00",
         "26.944002151489258",
         "26.944002151489258",
         "26.797567357187685",
         "26.93484997684541",
         "351800",
         "13.529999732971191",
         "2.6049094224466427"
        ],
        [
         "2",
         "1995-01-05 00:00:00",
         "26.944002151489258",
         "27.008067373996195",
         "26.916545627557714",
         "26.962306500776954",
         "89800",
         "13.5",
         "2.6026896854443837"
        ],
        [
         "3",
         "1995-01-06 00:00:00",
         "26.971464157104492",
         "27.09044245165568",
         "26.88909456856905",
         "26.9989206866163",
         "448400",
         "13.130000114440918",
         "2.5748996970306925"
        ],
        [
         "4",
         "1995-01-09 00:00:00",
         "26.998912811279297",
         "26.998912811279293",
         "26.9439997682733",
         "26.962304115941965",
         "36800",
         "13.329999923706055",
         "2.5900171284671405"
        ]
       ],
       "shape": {
        "columns": 8,
        "rows": 5
       }
      },
      "text/html": [
       "<div>\n",
       "<style scoped>\n",
       "    .dataframe tbody tr th:only-of-type {\n",
       "        vertical-align: middle;\n",
       "    }\n",
       "\n",
       "    .dataframe tbody tr th {\n",
       "        vertical-align: top;\n",
       "    }\n",
       "\n",
       "    .dataframe thead th {\n",
       "        text-align: right;\n",
       "    }\n",
       "</style>\n",
       "<table border=\"1\" class=\"dataframe\">\n",
       "  <thead>\n",
       "    <tr style=\"text-align: right;\">\n",
       "      <th>Price</th>\n",
       "      <th>Date</th>\n",
       "      <th>Close</th>\n",
       "      <th>High</th>\n",
       "      <th>Low</th>\n",
       "      <th>Open</th>\n",
       "      <th>Volume</th>\n",
       "      <th>VIX</th>\n",
       "      <th>LogVIX</th>\n",
       "    </tr>\n",
       "  </thead>\n",
       "  <tbody>\n",
       "    <tr>\n",
       "      <th>0</th>\n",
       "      <td>1995-01-03</td>\n",
       "      <td>26.815872</td>\n",
       "      <td>26.852481</td>\n",
       "      <td>26.760959</td>\n",
       "      <td>26.770111</td>\n",
       "      <td>324300</td>\n",
       "      <td>14.25</td>\n",
       "      <td>2.656757</td>\n",
       "    </tr>\n",
       "    <tr>\n",
       "      <th>1</th>\n",
       "      <td>1995-01-04</td>\n",
       "      <td>26.944002</td>\n",
       "      <td>26.944002</td>\n",
       "      <td>26.797567</td>\n",
       "      <td>26.934850</td>\n",
       "      <td>351800</td>\n",
       "      <td>13.53</td>\n",
       "      <td>2.604909</td>\n",
       "    </tr>\n",
       "    <tr>\n",
       "      <th>2</th>\n",
       "      <td>1995-01-05</td>\n",
       "      <td>26.944002</td>\n",
       "      <td>27.008067</td>\n",
       "      <td>26.916546</td>\n",
       "      <td>26.962307</td>\n",
       "      <td>89800</td>\n",
       "      <td>13.50</td>\n",
       "      <td>2.602690</td>\n",
       "    </tr>\n",
       "    <tr>\n",
       "      <th>3</th>\n",
       "      <td>1995-01-06</td>\n",
       "      <td>26.971464</td>\n",
       "      <td>27.090442</td>\n",
       "      <td>26.889095</td>\n",
       "      <td>26.998921</td>\n",
       "      <td>448400</td>\n",
       "      <td>13.13</td>\n",
       "      <td>2.574900</td>\n",
       "    </tr>\n",
       "    <tr>\n",
       "      <th>4</th>\n",
       "      <td>1995-01-09</td>\n",
       "      <td>26.998913</td>\n",
       "      <td>26.998913</td>\n",
       "      <td>26.944000</td>\n",
       "      <td>26.962304</td>\n",
       "      <td>36800</td>\n",
       "      <td>13.33</td>\n",
       "      <td>2.590017</td>\n",
       "    </tr>\n",
       "  </tbody>\n",
       "</table>\n",
       "</div>"
      ],
      "text/plain": [
       "Price       Date      Close       High        Low       Open  Volume    VIX  \\\n",
       "0     1995-01-03  26.815872  26.852481  26.760959  26.770111  324300  14.25   \n",
       "1     1995-01-04  26.944002  26.944002  26.797567  26.934850  351800  13.53   \n",
       "2     1995-01-05  26.944002  27.008067  26.916546  26.962307   89800  13.50   \n",
       "3     1995-01-06  26.971464  27.090442  26.889095  26.998921  448400  13.13   \n",
       "4     1995-01-09  26.998913  26.998913  26.944000  26.962304   36800  13.33   \n",
       "\n",
       "Price    LogVIX  \n",
       "0      2.656757  \n",
       "1      2.604909  \n",
       "2      2.602690  \n",
       "3      2.574900  \n",
       "4      2.590017  "
      ]
     },
     "execution_count": 57,
     "metadata": {},
     "output_type": "execute_result"
    }
   ],
   "source": [
    "import pandas as pd\n",
    "import numpy as np\n",
    "import matplotlib.pyplot as plt\n",
    "from matplotlib import cm\n",
    "import seaborn as sns\n",
    "import plotly.graph_objects as go\n",
    "import plotly.express as px\n",
    "import plotly.figure_factory as ff\n",
    "from plotly.subplots import make_subplots\n",
    "from hmmlearn import hmm\n",
    "import yfinance as yf\n",
    "from datetime import datetime, timedelta\n",
    "import warnings\n",
    "warnings.filterwarnings('ignore')\n",
    "\n",
    "# Hidden Markov Model Modifiable Parameters\n",
    "hidden_states = 3\n",
    "em_iterations = 75\n",
    "\n",
    "# Fixed training period \n",
    "train_start_date = \"2018-01-01\"\n",
    "train_end_date = \"2024-07-31\"\n",
    "\n",
    "# Date parameters for yfinance API - download data from 1995 to present\n",
    "start_date = \"1995-01-01\"\n",
    "end_date = datetime.today().strftime(\"%Y-%m-%d\")\n",
    "\n",
    "print(f\"Downloading market data from {start_date} to {end_date}...\")\n",
    "# Download SPY and VIX data using yfinance\n",
    "df_spy = yf.download('SPY', start=start_date, end=end_date, auto_adjust=True)\n",
    "df_vix = yf.download('^VIX', start=start_date, end=end_date)\n",
    "\n",
    "# Fix the multi-level column structure\n",
    "df_spy.columns = df_spy.columns.droplevel(1) if len(df_spy.columns.names) > 1 else df_spy.columns\n",
    "df_vix.columns = df_vix.columns.droplevel(1) if len(df_vix.columns.names) > 1 else df_vix.columns\n",
    "\n",
    "# Reset index to make Date a column\n",
    "df_spy = df_spy.reset_index()\n",
    "df_vix = df_vix.reset_index()\n",
    "\n",
    "# Keep only the Date and Close columns from VIX\n",
    "df_vix = df_vix[['Date', 'Close']].rename(columns={'Close': 'VIX'})\n",
    "\n",
    "# Merge SPY and VIX data\n",
    "df = pd.merge(df_spy, df_vix, on='Date', how='left')\n",
    "\n",
    "# Forward fill any missing VIX values\n",
    "df['VIX'] = df['VIX'].fillna(method='ffill')\n",
    "\n",
    "# Add log of VIX\n",
    "df['LogVIX'] = np.log(df['VIX'])\n",
    "\n",
    "# Display first few rows to check the structure\n",
    "print(\"DataFrame structure:\")\n",
    "print(\"Data shape:\", df.shape)\n",
    "print(\"Data columns:\", df.columns.tolist())\n",
    "df.head()"
   ]
  },
  {
   "cell_type": "code",
   "execution_count": null,
   "metadata": {},
   "outputs": [
    {
     "data": {
      "application/vnd.microsoft.datawrangler.viewer.v0+json": {
       "columns": [
        {
         "name": "index",
         "rawType": "int64",
         "type": "integer"
        },
        {
         "name": "Date",
         "rawType": "datetime64[ns]",
         "type": "datetime"
        },
        {
         "name": "Close",
         "rawType": "float64",
         "type": "float"
        },
        {
         "name": "High",
         "rawType": "float64",
         "type": "float"
        },
        {
         "name": "Low",
         "rawType": "float64",
         "type": "float"
        },
        {
         "name": "Open",
         "rawType": "float64",
         "type": "float"
        },
        {
         "name": "Volume",
         "rawType": "int64",
         "type": "integer"
        },
        {
         "name": "VIX",
         "rawType": "float64",
         "type": "float"
        },
        {
         "name": "LogVIX",
         "rawType": "float64",
         "type": "float"
        },
        {
         "name": "Volatility",
         "rawType": "float64",
         "type": "float"
        },
        {
         "name": "MA",
         "rawType": "float64",
         "type": "float"
        },
        {
         "name": "Return",
         "rawType": "float64",
         "type": "float"
        },
        {
         "name": "LogVIX_Ratio",
         "rawType": "float64",
         "type": "float"
        }
       ],
       "conversionMethod": "pd.DataFrame",
       "ref": "1276dfb9-8fa5-4334-bfee-4f0704e5c14f",
       "rows": [
        [
         "0",
         "1995-01-03 00:00:00",
         "26.815872192382812",
         "26.852480891621564",
         "26.760959143524694",
         "26.77011131833438",
         "324300",
         "14.25",
         "2.6567569067146595",
         "0.0",
         "0.0",
         "0.0",
         "0.0"
        ],
        [
         "1",
         "1995-01-04 00:00:00",
         "26.944002151489258",
         "26.944002151489258",
         "26.797567357187685",
         "26.93484997684541",
         "351800",
         "13.529999732971191",
         "2.6049094224466427",
         "0.0",
         "0.0",
         "0.0",
         "0.0"
        ],
        [
         "2",
         "1995-01-05 00:00:00",
         "26.944002151489258",
         "27.008067373996195",
         "26.916545627557714",
         "26.962306500776954",
         "89800",
         "13.5",
         "2.6026896854443837",
         "0.0",
         "0.0",
         "0.0",
         "0.0"
        ],
        [
         "3",
         "1995-01-06 00:00:00",
         "26.971464157104492",
         "27.09044245165568",
         "26.88909456856905",
         "26.9989206866163",
         "448400",
         "13.130000114440918",
         "2.5748996970306925",
         "0.0",
         "0.0",
         "0.0",
         "0.0"
        ],
        [
         "4",
         "1995-01-09 00:00:00",
         "26.998912811279297",
         "26.998912811279293",
         "26.9439997682733",
         "26.962304115941965",
         "36800",
         "13.329999923706055",
         "2.5900171284671405",
         "0.0",
         "0.0",
         "0.0",
         "0.0"
        ],
        [
         "5",
         "1995-01-10 00:00:00",
         "27.02637481689453",
         "27.172809627957964",
         "27.02637481689453",
         "27.06298351966039",
         "229800",
         "12.520000457763672",
         "2.5273274022345453",
         "0.0",
         "0.0",
         "0.0",
         "0.0"
        ],
        [
         "6",
         "1995-01-11 00:00:00",
         "27.044675827026367",
         "27.117893223512393",
         "26.83417581212904",
         "27.117893223512393",
         "222400",
         "12.149999618530273",
         "2.4973291383898717",
         "0.0",
         "0.0",
         "0.0",
         "0.0"
        ],
        [
         "7",
         "1995-01-12 00:00:00",
         "27.053829193115234",
         "27.072133543042916",
         "26.96230744347682",
         "27.01722049325987",
         "40300",
         "12.829999923706055",
         "2.551786172681018",
         "0.0",
         "0.0",
         "0.0",
         "0.0"
        ],
        [
         "8",
         "1995-01-13 00:00:00",
         "27.37415885925293",
         "27.37415885925293",
         "27.16365880784443",
         "27.200267512437215",
         "170600",
         "11.100000381469727",
         "2.40694514268493",
         "0.0",
         "0.0",
         "0.0",
         "0.0"
        ],
        [
         "9",
         "1995-01-16 00:00:00",
         "27.538894653320312",
         "27.54804682834634",
         "27.365003327825768",
         "27.365003327825768",
         "105100",
         "11.140000343322754",
         "2.410542265318056",
         "0.0",
         "0.0",
         "0.0",
         "0.0"
        ],
        [
         "10",
         "1995-01-17 00:00:00",
         "27.54804801940918",
         "27.56635237025264",
         "27.447374089770143",
         "27.483982791457066",
         "89500",
         "11.789999961853027",
         "2.467251711313743",
         "0.053481672412308404",
         "27.144436264038085",
         "0.03323795745652262",
         "0.9704724125668224"
        ],
        [
         "11",
         "1995-01-18 00:00:00",
         "27.520587921142578",
         "27.57550096654559",
         "27.45652270150573",
         "27.52974009537641",
         "84500",
         "11.569999694824219",
         "2.448415514829113",
         "0.0602887844815632",
         "27.20209484100342",
         "-0.099680740527439",
         "0.9702959659471905"
        ],
        [
         "12",
         "1995-01-19 00:00:00",
         "27.364988327026367",
         "27.456510027116757",
         "27.346683987008287",
         "27.42905351708964",
         "139100",
         "11.859999656677246",
         "2.4731713646216233",
         "0.05450873602243519",
         "27.244193458557127",
         "-0.5653934231422149",
         "0.9862229372091009"
        ],
        [
         "13",
         "1995-01-20 00:00:00",
         "27.26433753967285",
         "27.337554961733066",
         "27.20942447312769",
         "27.32840278397554",
         "78700",
         "12.149999618530273",
         "2.4973291383898717",
         "0.046253439053580224",
         "27.273480796813963",
         "-0.36780862520635654",
         "1.0010263816372633"
        ],
        [
         "14",
         "1995-01-23 00:00:00",
         "27.346689224243164",
         "27.34668922424316",
         "27.06297189962752",
         "27.08127624315111",
         "53700",
         "12.789999961853027",
         "2.548663612608189",
         "0.03804114423604915",
         "27.30825843811035",
         "0.3020490941710247",
         "1.0247896379921966"
        ]
       ],
       "shape": {
        "columns": 12,
        "rows": 15
       }
      },
      "text/html": [
       "<div>\n",
       "<style scoped>\n",
       "    .dataframe tbody tr th:only-of-type {\n",
       "        vertical-align: middle;\n",
       "    }\n",
       "\n",
       "    .dataframe tbody tr th {\n",
       "        vertical-align: top;\n",
       "    }\n",
       "\n",
       "    .dataframe thead th {\n",
       "        text-align: right;\n",
       "    }\n",
       "</style>\n",
       "<table border=\"1\" class=\"dataframe\">\n",
       "  <thead>\n",
       "    <tr style=\"text-align: right;\">\n",
       "      <th>Price</th>\n",
       "      <th>Date</th>\n",
       "      <th>Close</th>\n",
       "      <th>High</th>\n",
       "      <th>Low</th>\n",
       "      <th>Open</th>\n",
       "      <th>Volume</th>\n",
       "      <th>VIX</th>\n",
       "      <th>LogVIX</th>\n",
       "      <th>Volatility</th>\n",
       "      <th>MA</th>\n",
       "      <th>Return</th>\n",
       "      <th>LogVIX_Ratio</th>\n",
       "    </tr>\n",
       "  </thead>\n",
       "  <tbody>\n",
       "    <tr>\n",
       "      <th>0</th>\n",
       "      <td>1995-01-03</td>\n",
       "      <td>26.815872</td>\n",
       "      <td>26.852481</td>\n",
       "      <td>26.760959</td>\n",
       "      <td>26.770111</td>\n",
       "      <td>324300</td>\n",
       "      <td>14.25</td>\n",
       "      <td>2.656757</td>\n",
       "      <td>0.000000</td>\n",
       "      <td>0.000000</td>\n",
       "      <td>0.000000</td>\n",
       "      <td>0.000000</td>\n",
       "    </tr>\n",
       "    <tr>\n",
       "      <th>1</th>\n",
       "      <td>1995-01-04</td>\n",
       "      <td>26.944002</td>\n",
       "      <td>26.944002</td>\n",
       "      <td>26.797567</td>\n",
       "      <td>26.934850</td>\n",
       "      <td>351800</td>\n",
       "      <td>13.53</td>\n",
       "      <td>2.604909</td>\n",
       "      <td>0.000000</td>\n",
       "      <td>0.000000</td>\n",
       "      <td>0.000000</td>\n",
       "      <td>0.000000</td>\n",
       "    </tr>\n",
       "    <tr>\n",
       "      <th>2</th>\n",
       "      <td>1995-01-05</td>\n",
       "      <td>26.944002</td>\n",
       "      <td>27.008067</td>\n",
       "      <td>26.916546</td>\n",
       "      <td>26.962307</td>\n",
       "      <td>89800</td>\n",
       "      <td>13.50</td>\n",
       "      <td>2.602690</td>\n",
       "      <td>0.000000</td>\n",
       "      <td>0.000000</td>\n",
       "      <td>0.000000</td>\n",
       "      <td>0.000000</td>\n",
       "    </tr>\n",
       "    <tr>\n",
       "      <th>3</th>\n",
       "      <td>1995-01-06</td>\n",
       "      <td>26.971464</td>\n",
       "      <td>27.090442</td>\n",
       "      <td>26.889095</td>\n",
       "      <td>26.998921</td>\n",
       "      <td>448400</td>\n",
       "      <td>13.13</td>\n",
       "      <td>2.574900</td>\n",
       "      <td>0.000000</td>\n",
       "      <td>0.000000</td>\n",
       "      <td>0.000000</td>\n",
       "      <td>0.000000</td>\n",
       "    </tr>\n",
       "    <tr>\n",
       "      <th>4</th>\n",
       "      <td>1995-01-09</td>\n",
       "      <td>26.998913</td>\n",
       "      <td>26.998913</td>\n",
       "      <td>26.944000</td>\n",
       "      <td>26.962304</td>\n",
       "      <td>36800</td>\n",
       "      <td>13.33</td>\n",
       "      <td>2.590017</td>\n",
       "      <td>0.000000</td>\n",
       "      <td>0.000000</td>\n",
       "      <td>0.000000</td>\n",
       "      <td>0.000000</td>\n",
       "    </tr>\n",
       "    <tr>\n",
       "      <th>5</th>\n",
       "      <td>1995-01-10</td>\n",
       "      <td>27.026375</td>\n",
       "      <td>27.172810</td>\n",
       "      <td>27.026375</td>\n",
       "      <td>27.062984</td>\n",
       "      <td>229800</td>\n",
       "      <td>12.52</td>\n",
       "      <td>2.527327</td>\n",
       "      <td>0.000000</td>\n",
       "      <td>0.000000</td>\n",
       "      <td>0.000000</td>\n",
       "      <td>0.000000</td>\n",
       "    </tr>\n",
       "    <tr>\n",
       "      <th>6</th>\n",
       "      <td>1995-01-11</td>\n",
       "      <td>27.044676</td>\n",
       "      <td>27.117893</td>\n",
       "      <td>26.834176</td>\n",
       "      <td>27.117893</td>\n",
       "      <td>222400</td>\n",
       "      <td>12.15</td>\n",
       "      <td>2.497329</td>\n",
       "      <td>0.000000</td>\n",
       "      <td>0.000000</td>\n",
       "      <td>0.000000</td>\n",
       "      <td>0.000000</td>\n",
       "    </tr>\n",
       "    <tr>\n",
       "      <th>7</th>\n",
       "      <td>1995-01-12</td>\n",
       "      <td>27.053829</td>\n",
       "      <td>27.072134</td>\n",
       "      <td>26.962307</td>\n",
       "      <td>27.017220</td>\n",
       "      <td>40300</td>\n",
       "      <td>12.83</td>\n",
       "      <td>2.551786</td>\n",
       "      <td>0.000000</td>\n",
       "      <td>0.000000</td>\n",
       "      <td>0.000000</td>\n",
       "      <td>0.000000</td>\n",
       "    </tr>\n",
       "    <tr>\n",
       "      <th>8</th>\n",
       "      <td>1995-01-13</td>\n",
       "      <td>27.374159</td>\n",
       "      <td>27.374159</td>\n",
       "      <td>27.163659</td>\n",
       "      <td>27.200268</td>\n",
       "      <td>170600</td>\n",
       "      <td>11.10</td>\n",
       "      <td>2.406945</td>\n",
       "      <td>0.000000</td>\n",
       "      <td>0.000000</td>\n",
       "      <td>0.000000</td>\n",
       "      <td>0.000000</td>\n",
       "    </tr>\n",
       "    <tr>\n",
       "      <th>9</th>\n",
       "      <td>1995-01-16</td>\n",
       "      <td>27.538895</td>\n",
       "      <td>27.548047</td>\n",
       "      <td>27.365003</td>\n",
       "      <td>27.365003</td>\n",
       "      <td>105100</td>\n",
       "      <td>11.14</td>\n",
       "      <td>2.410542</td>\n",
       "      <td>0.000000</td>\n",
       "      <td>0.000000</td>\n",
       "      <td>0.000000</td>\n",
       "      <td>0.000000</td>\n",
       "    </tr>\n",
       "    <tr>\n",
       "      <th>10</th>\n",
       "      <td>1995-01-17</td>\n",
       "      <td>27.548048</td>\n",
       "      <td>27.566352</td>\n",
       "      <td>27.447374</td>\n",
       "      <td>27.483983</td>\n",
       "      <td>89500</td>\n",
       "      <td>11.79</td>\n",
       "      <td>2.467252</td>\n",
       "      <td>0.053482</td>\n",
       "      <td>27.144436</td>\n",
       "      <td>0.033238</td>\n",
       "      <td>0.970472</td>\n",
       "    </tr>\n",
       "    <tr>\n",
       "      <th>11</th>\n",
       "      <td>1995-01-18</td>\n",
       "      <td>27.520588</td>\n",
       "      <td>27.575501</td>\n",
       "      <td>27.456523</td>\n",
       "      <td>27.529740</td>\n",
       "      <td>84500</td>\n",
       "      <td>11.57</td>\n",
       "      <td>2.448416</td>\n",
       "      <td>0.060289</td>\n",
       "      <td>27.202095</td>\n",
       "      <td>-0.099681</td>\n",
       "      <td>0.970296</td>\n",
       "    </tr>\n",
       "    <tr>\n",
       "      <th>12</th>\n",
       "      <td>1995-01-19</td>\n",
       "      <td>27.364988</td>\n",
       "      <td>27.456510</td>\n",
       "      <td>27.346684</td>\n",
       "      <td>27.429054</td>\n",
       "      <td>139100</td>\n",
       "      <td>11.86</td>\n",
       "      <td>2.473171</td>\n",
       "      <td>0.054509</td>\n",
       "      <td>27.244193</td>\n",
       "      <td>-0.565393</td>\n",
       "      <td>0.986223</td>\n",
       "    </tr>\n",
       "    <tr>\n",
       "      <th>13</th>\n",
       "      <td>1995-01-20</td>\n",
       "      <td>27.264338</td>\n",
       "      <td>27.337555</td>\n",
       "      <td>27.209424</td>\n",
       "      <td>27.328403</td>\n",
       "      <td>78700</td>\n",
       "      <td>12.15</td>\n",
       "      <td>2.497329</td>\n",
       "      <td>0.046253</td>\n",
       "      <td>27.273481</td>\n",
       "      <td>-0.367809</td>\n",
       "      <td>1.001026</td>\n",
       "    </tr>\n",
       "    <tr>\n",
       "      <th>14</th>\n",
       "      <td>1995-01-23</td>\n",
       "      <td>27.346689</td>\n",
       "      <td>27.346689</td>\n",
       "      <td>27.062972</td>\n",
       "      <td>27.081276</td>\n",
       "      <td>53700</td>\n",
       "      <td>12.79</td>\n",
       "      <td>2.548664</td>\n",
       "      <td>0.038041</td>\n",
       "      <td>27.308258</td>\n",
       "      <td>0.302049</td>\n",
       "      <td>1.024790</td>\n",
       "    </tr>\n",
       "  </tbody>\n",
       "</table>\n",
       "</div>"
      ],
      "text/plain": [
       "Price       Date      Close       High        Low       Open  Volume    VIX  \\\n",
       "0     1995-01-03  26.815872  26.852481  26.760959  26.770111  324300  14.25   \n",
       "1     1995-01-04  26.944002  26.944002  26.797567  26.934850  351800  13.53   \n",
       "2     1995-01-05  26.944002  27.008067  26.916546  26.962307   89800  13.50   \n",
       "3     1995-01-06  26.971464  27.090442  26.889095  26.998921  448400  13.13   \n",
       "4     1995-01-09  26.998913  26.998913  26.944000  26.962304   36800  13.33   \n",
       "5     1995-01-10  27.026375  27.172810  27.026375  27.062984  229800  12.52   \n",
       "6     1995-01-11  27.044676  27.117893  26.834176  27.117893  222400  12.15   \n",
       "7     1995-01-12  27.053829  27.072134  26.962307  27.017220   40300  12.83   \n",
       "8     1995-01-13  27.374159  27.374159  27.163659  27.200268  170600  11.10   \n",
       "9     1995-01-16  27.538895  27.548047  27.365003  27.365003  105100  11.14   \n",
       "10    1995-01-17  27.548048  27.566352  27.447374  27.483983   89500  11.79   \n",
       "11    1995-01-18  27.520588  27.575501  27.456523  27.529740   84500  11.57   \n",
       "12    1995-01-19  27.364988  27.456510  27.346684  27.429054  139100  11.86   \n",
       "13    1995-01-20  27.264338  27.337555  27.209424  27.328403   78700  12.15   \n",
       "14    1995-01-23  27.346689  27.346689  27.062972  27.081276   53700  12.79   \n",
       "\n",
       "Price    LogVIX  Volatility         MA    Return  LogVIX_Ratio  \n",
       "0      2.656757    0.000000   0.000000  0.000000      0.000000  \n",
       "1      2.604909    0.000000   0.000000  0.000000      0.000000  \n",
       "2      2.602690    0.000000   0.000000  0.000000      0.000000  \n",
       "3      2.574900    0.000000   0.000000  0.000000      0.000000  \n",
       "4      2.590017    0.000000   0.000000  0.000000      0.000000  \n",
       "5      2.527327    0.000000   0.000000  0.000000      0.000000  \n",
       "6      2.497329    0.000000   0.000000  0.000000      0.000000  \n",
       "7      2.551786    0.000000   0.000000  0.000000      0.000000  \n",
       "8      2.406945    0.000000   0.000000  0.000000      0.000000  \n",
       "9      2.410542    0.000000   0.000000  0.000000      0.000000  \n",
       "10     2.467252    0.053482  27.144436  0.033238      0.970472  \n",
       "11     2.448416    0.060289  27.202095 -0.099681      0.970296  \n",
       "12     2.473171    0.054509  27.244193 -0.565393      0.986223  \n",
       "13     2.497329    0.046253  27.273481 -0.367809      1.001026  \n",
       "14     2.548664    0.038041  27.308258  0.302049      1.024790  "
      ]
     },
     "execution_count": 58,
     "metadata": {},
     "output_type": "execute_result"
    }
   ],
   "source": [
    "# Function to calculate technical indicators\n",
    "def calculate_indicators(data):\n",
    "    # Create a copy of the dataframe to avoid modifying original\n",
    "    df_copy = data.copy()\n",
    "    \n",
    "    # Volatility is computed by obtaining variance between current close and prices of past 10 days\n",
    "    volatility = []\n",
    "    # MA is the 10 day SMA\n",
    "    ma = []\n",
    "    # Return is the single-day percentage return\n",
    "    returns = []\n",
    "    ma_sum = 0\n",
    "    \n",
    "    # Normalize LogVIX relative to its recent history (10-day window)\n",
    "    log_vix_ratio = []\n",
    "    \n",
    "    # Warming up data for calculations\n",
    "    for i in range(0, 10):\n",
    "        volatility.append(0)\n",
    "        ma.append(0)\n",
    "        returns.append(0)\n",
    "        log_vix_ratio.append(0)\n",
    "        ma_sum += df_copy['Close'].iloc[i]\n",
    "    \n",
    "    # Filling in data for return, moving average, and volatility\n",
    "    for ind in range(len(df_copy)):\n",
    "        if ind >= 10:\n",
    "            # SPY indicators\n",
    "            tail_close = df_copy['Close'].iloc[ind-10]\n",
    "            prev_close = df_copy['Close'].iloc[ind-1]\n",
    "            head_close = df_copy['Close'].iloc[ind]\n",
    "            ma_sum = (ma_sum - tail_close + head_close)\n",
    "            ma_curr = ma_sum/10\n",
    "            ma.append(ma_curr)\n",
    "            returns.append(((head_close-prev_close)/prev_close)*100)\n",
    "            \n",
    "            # Computing Volatility\n",
    "            vol_sum = 0\n",
    "            for i in range(0, 10):\n",
    "                curr_vol = abs(ma_curr - df_copy['Close'].iloc[ind-i])\n",
    "                vol_sum += (curr_vol ** 2)\n",
    "            volatility.append(vol_sum/10)\n",
    "            \n",
    "            # LogVIX-based indicator: current LogVIX relative to 10-day average\n",
    "            log_vix_10day_avg = sum(df_copy['LogVIX'].iloc[ind-10:ind]) / 10\n",
    "            log_vix_ratio.append(df_copy['LogVIX'].iloc[ind] / log_vix_10day_avg if log_vix_10day_avg > 0 else 1)\n",
    "    \n",
    "    # Adding columns to dataframe\n",
    "    df_copy['Volatility'] = volatility\n",
    "    df_copy['MA'] = ma\n",
    "    df_copy['Return'] = returns\n",
    "    df_copy['LogVIX_Ratio'] = log_vix_ratio\n",
    "    \n",
    "    return df_copy\n",
    "\n",
    "# Calculate indicators for the entire dataset\n",
    "df = calculate_indicators(df)\n",
    "df.tail(5)"
   ]
  },
  {
   "cell_type": "code",
   "execution_count": 59,
   "metadata": {},
   "outputs": [
    {
     "name": "stdout",
     "output_type": "stream",
     "text": [
      "Training model on data from 2018-01-01 to 2024-07-31\n",
      "Training data shape: (1655, 12)\n",
      "Regime 0 [Bull]\n",
      "Avg Vol: 5.6103\n",
      "Avg Return: 0.1097%\n",
      "Avg VIX: 16.15\n",
      "Avg LogVIX: 2.7581\n",
      "Occurrence: 774 days\n",
      "Classification scores: Bull=4, Bear=0, Neutral=1\n",
      "\n",
      "Regime 1 [Neutral]\n",
      "Avg Vol: 26.4383\n",
      "Avg Return: 0.0700%\n",
      "Avg VIX: 21.25\n",
      "Avg LogVIX: 3.0173\n",
      "Occurrence: 714 days\n",
      "Classification scores: Bull=2, Bear=1, Neutral=3\n",
      "\n",
      "Regime 2 [Bear]\n",
      "Avg Vol: 100.1014\n",
      "Avg Return: -0.2328%\n",
      "Avg VIX: 32.46\n",
      "Avg LogVIX: 3.4170\n",
      "Occurrence: 167 days\n",
      "Classification scores: Bull=0, Bear=4, Neutral=0\n",
      "\n"
     ]
    }
   ],
   "source": [
    "# Function to train HMM model on specified period\n",
    "def train_hmm_model(data, start_date, end_date, n_states=3, n_iter=75):\n",
    "    # Filter data to training period\n",
    "    training = data[(data['Date'] >= start_date) & (data['Date'] <= end_date)].copy()\n",
    "    \n",
    "    print(f\"Training model on data from {start_date} to {end_date}\")\n",
    "    print(f\"Training data shape: {training.shape}\")\n",
    "    \n",
    "    # Prepare observations for HMM (using Volatility, Return, and LogVIX_Ratio)\n",
    "    obs = np.column_stack([\n",
    "        training['Volatility'].values, \n",
    "        training['Return'].values,\n",
    "        training['LogVIX_Ratio'].values\n",
    "    ])\n",
    "    \n",
    "    # Create and train the HMM model\n",
    "    model = hmm.GaussianHMM(n_components=n_states, covariance_type=\"full\", n_iter=n_iter)\n",
    "    model.fit(obs)\n",
    "    \n",
    "    # Get predictions for training data\n",
    "    predictions = model.predict(obs)\n",
    "    \n",
    "    # Analyze regime characteristics\n",
    "    regime_vol = [0] * n_states\n",
    "    regime_ret = [0] * n_states\n",
    "    regime_vix = [0] * n_states\n",
    "    regime_logvix = [0] * n_states\n",
    "    regime_count = [0] * n_states\n",
    "    \n",
    "    for i in range(len(predictions)):\n",
    "        regime = predictions[i]\n",
    "        regime_count[regime] += 1\n",
    "        regime_vol[regime] += training['Volatility'].iloc[i]\n",
    "        regime_ret[regime] += training['Return'].iloc[i]\n",
    "        regime_vix[regime] += training['VIX'].iloc[i]\n",
    "        regime_logvix[regime] += training['LogVIX'].iloc[i]\n",
    "    \n",
    "    # Calculate averages\n",
    "    for i in range(n_states):\n",
    "        if regime_count[i] > 0:  # Prevent division by zero\n",
    "            regime_vol[i] = regime_vol[i] / regime_count[i]\n",
    "            regime_ret[i] = regime_ret[i] / regime_count[i]\n",
    "            regime_vix[i] = regime_vix[i] / regime_count[i]\n",
    "            regime_logvix[i] = regime_logvix[i] / regime_count[i]\n",
    "    \n",
    "    # Assign labels to regimes (Bull, Bear, Neutral) based on characteristics\n",
    "    regime_labels = [\"\"] * n_states\n",
    "    \n",
    "    # Create a scoring system for each regime\n",
    "    bull_scores = []\n",
    "    bear_scores = []\n",
    "    neutral_scores = []\n",
    "    \n",
    "    for i in range(n_states):\n",
    "        # Bull regime: high returns, lower VIX\n",
    "        bull_score = 0\n",
    "        if regime_ret[i] > 0.05:\n",
    "            bull_score += 2\n",
    "        elif regime_ret[i] > 0:\n",
    "            bull_score += 1\n",
    "        \n",
    "        if regime_logvix[i] < 2.8:  # Log(16.5) ≈ 2.8\n",
    "            bull_score += 2\n",
    "        elif regime_logvix[i] < 3.0:  # Log(20) ≈ 3.0\n",
    "            bull_score += 1\n",
    "        \n",
    "        # Bear regime: negative returns, higher VIX\n",
    "        bear_score = 0\n",
    "        if regime_ret[i] < -0.1:\n",
    "            bear_score += 2\n",
    "        elif regime_ret[i] < 0:\n",
    "            bear_score += 1\n",
    "        \n",
    "        if regime_logvix[i] > 3.2:  # Log(25) ≈ 3.2\n",
    "            bear_score += 2\n",
    "        elif regime_logvix[i] > 3.0:\n",
    "            bear_score += 1\n",
    "        \n",
    "        # Neutral regime: modest returns, moderate VIX\n",
    "        neutral_score = 0\n",
    "        if -0.05 < regime_ret[i] < 0.05:\n",
    "            neutral_score += 2\n",
    "        elif -0.1 < regime_ret[i] < 0.1:\n",
    "            neutral_score += 1\n",
    "        \n",
    "        if 2.8 <= regime_logvix[i] <= 3.2:\n",
    "            neutral_score += 2\n",
    "        elif 2.7 <= regime_logvix[i] <= 3.3:\n",
    "            neutral_score += 1\n",
    "        \n",
    "        bull_scores.append(bull_score)\n",
    "        bear_scores.append(bear_score)\n",
    "        neutral_scores.append(neutral_score)\n",
    "    \n",
    "    # Assign labels based on highest score\n",
    "    # We need to ensure each label is used only once\n",
    "    labels_to_assign = [\"Bull\", \"Bear\", \"Neutral\"]\n",
    "    scores = [\n",
    "        (i, max(bull_scores[i], bear_scores[i], neutral_scores[i]), \n",
    "         \"Bull\" if bull_scores[i] >= max(bear_scores[i], neutral_scores[i]) else\n",
    "         \"Bear\" if bear_scores[i] >= max(bull_scores[i], neutral_scores[i]) else\n",
    "         \"Neutral\") \n",
    "        for i in range(n_states)\n",
    "    ]\n",
    "    \n",
    "    # Sort regimes by their maximum score (descending)\n",
    "    scores.sort(key=lambda x: x[1], reverse=True)\n",
    "    \n",
    "    # Assign labels, handling ties by prioritizing the regime with the most clear characteristics\n",
    "    assigned_labels = set()\n",
    "    for regime_idx, _, preferred_label in scores:\n",
    "        if preferred_label not in assigned_labels:\n",
    "            regime_labels[regime_idx] = preferred_label\n",
    "            assigned_labels.add(preferred_label)\n",
    "        else:\n",
    "            # Find the next best label that hasn't been assigned\n",
    "            for label in labels_to_assign:\n",
    "                if label not in assigned_labels:\n",
    "                    regime_labels[regime_idx] = label\n",
    "                    assigned_labels.add(label)\n",
    "                    break\n",
    "    \n",
    "    # Print regime characteristics with labels\n",
    "    for i in range(n_states):\n",
    "        print(f\"Regime {i} [{regime_labels[i]}]\")\n",
    "        print(f\"Avg Vol: {regime_vol[i]:.4f}\")\n",
    "        print(f\"Avg Return: {regime_ret[i]:.4f}%\")\n",
    "        print(f\"Avg VIX: {regime_vix[i]:.2f}\")\n",
    "        print(f\"Avg LogVIX: {regime_logvix[i]:.4f}\")\n",
    "        print(f\"Occurrence: {regime_count[i]} days\")\n",
    "        print(f\"Classification scores: Bull={bull_scores[i]}, Bear={bear_scores[i]}, Neutral={neutral_scores[i]}\\n\")\n",
    "    \n",
    "    return model, training, predictions, regime_labels\n",
    "\n",
    "# Train the model on the fixed period\n",
    "model, training_data, train_predictions, regime_labels = train_hmm_model(df, train_start_date, train_end_date, \n",
    "                                                                        hidden_states, em_iterations)"
   ]
  },
  {
   "cell_type": "code",
   "execution_count": 60,
   "metadata": {},
   "outputs": [
    {
     "data": {
      "application/vnd.plotly.v1+json": {
       "config": {
        "plotlyServerURL": "https://plot.ly"
       },
       "data": [
        {
         "marker": {
          "color": "rgb(102,194,165)",
          "size": 6
         },
         "mode": "markers",
         "name": "Regime 0: Bull",
         "showlegend": true,
         "type": "scatter",
         "x": [
          "2018-01-02T00:00:00.000000000",
          "2018-01-03T00:00:00.000000000",
          "2018-01-04T00:00:00.000000000",
          "2018-01-05T00:00:00.000000000",
          "2018-01-08T00:00:00.000000000",
          "2018-01-09T00:00:00.000000000",
          "2018-01-10T00:00:00.000000000",
          "2018-01-11T00:00:00.000000000",
          "2018-01-12T00:00:00.000000000",
          "2018-01-16T00:00:00.000000000",
          "2018-01-17T00:00:00.000000000",
          "2018-01-18T00:00:00.000000000",
          "2018-01-19T00:00:00.000000000",
          "2018-01-22T00:00:00.000000000",
          "2018-01-23T00:00:00.000000000",
          "2018-01-24T00:00:00.000000000",
          "2018-01-25T00:00:00.000000000",
          "2018-01-26T00:00:00.000000000",
          "2018-01-29T00:00:00.000000000",
          "2018-01-30T00:00:00.000000000",
          "2018-01-31T00:00:00.000000000",
          "2018-02-01T00:00:00.000000000",
          "2018-02-23T00:00:00.000000000",
          "2018-02-26T00:00:00.000000000",
          "2018-02-27T00:00:00.000000000",
          "2018-02-28T00:00:00.000000000",
          "2018-03-01T00:00:00.000000000",
          "2018-03-02T00:00:00.000000000",
          "2018-03-05T00:00:00.000000000",
          "2018-03-06T00:00:00.000000000",
          "2018-03-07T00:00:00.000000000",
          "2018-03-08T00:00:00.000000000",
          "2018-03-09T00:00:00.000000000",
          "2018-03-12T00:00:00.000000000",
          "2018-03-13T00:00:00.000000000",
          "2018-03-14T00:00:00.000000000",
          "2018-03-15T00:00:00.000000000",
          "2018-03-16T00:00:00.000000000",
          "2018-03-19T00:00:00.000000000",
          "2018-03-20T00:00:00.000000000",
          "2018-03-21T00:00:00.000000000",
          "2018-04-04T00:00:00.000000000",
          "2018-04-05T00:00:00.000000000",
          "2018-04-06T00:00:00.000000000",
          "2018-04-09T00:00:00.000000000",
          "2018-04-10T00:00:00.000000000",
          "2018-04-11T00:00:00.000000000",
          "2018-04-12T00:00:00.000000000",
          "2018-04-13T00:00:00.000000000",
          "2018-04-16T00:00:00.000000000",
          "2018-04-17T00:00:00.000000000",
          "2018-04-18T00:00:00.000000000",
          "2018-04-19T00:00:00.000000000",
          "2018-04-20T00:00:00.000000000",
          "2018-04-23T00:00:00.000000000",
          "2018-04-24T00:00:00.000000000",
          "2018-04-25T00:00:00.000000000",
          "2018-04-26T00:00:00.000000000",
          "2018-04-27T00:00:00.000000000",
          "2018-04-30T00:00:00.000000000",
          "2018-05-01T00:00:00.000000000",
          "2018-05-02T00:00:00.000000000",
          "2018-05-03T00:00:00.000000000",
          "2018-05-04T00:00:00.000000000",
          "2018-05-07T00:00:00.000000000",
          "2018-05-08T00:00:00.000000000",
          "2018-05-09T00:00:00.000000000",
          "2018-05-10T00:00:00.000000000",
          "2018-05-11T00:00:00.000000000",
          "2018-05-14T00:00:00.000000000",
          "2018-05-15T00:00:00.000000000",
          "2018-05-16T00:00:00.000000000",
          "2018-05-17T00:00:00.000000000",
          "2018-05-18T00:00:00.000000000",
          "2018-05-21T00:00:00.000000000",
          "2018-05-22T00:00:00.000000000",
          "2018-05-23T00:00:00.000000000",
          "2018-05-24T00:00:00.000000000",
          "2018-05-25T00:00:00.000000000",
          "2018-05-29T00:00:00.000000000",
          "2018-05-30T00:00:00.000000000",
          "2018-05-31T00:00:00.000000000",
          "2018-06-01T00:00:00.000000000",
          "2018-06-04T00:00:00.000000000",
          "2018-06-05T00:00:00.000000000",
          "2018-06-06T00:00:00.000000000",
          "2018-06-07T00:00:00.000000000",
          "2018-06-08T00:00:00.000000000",
          "2018-06-11T00:00:00.000000000",
          "2018-06-12T00:00:00.000000000",
          "2018-06-13T00:00:00.000000000",
          "2018-06-14T00:00:00.000000000",
          "2018-06-15T00:00:00.000000000",
          "2018-06-18T00:00:00.000000000",
          "2018-06-19T00:00:00.000000000",
          "2018-06-20T00:00:00.000000000",
          "2018-06-21T00:00:00.000000000",
          "2018-06-22T00:00:00.000000000",
          "2018-06-25T00:00:00.000000000",
          "2018-06-26T00:00:00.000000000",
          "2018-06-27T00:00:00.000000000",
          "2018-06-28T00:00:00.000000000",
          "2018-06-29T00:00:00.000000000",
          "2018-07-02T00:00:00.000000000",
          "2018-07-03T00:00:00.000000000",
          "2018-07-05T00:00:00.000000000",
          "2018-07-06T00:00:00.000000000",
          "2018-07-09T00:00:00.000000000",
          "2018-07-10T00:00:00.000000000",
          "2018-07-11T00:00:00.000000000",
          "2018-07-12T00:00:00.000000000",
          "2018-07-13T00:00:00.000000000",
          "2018-07-16T00:00:00.000000000",
          "2018-07-17T00:00:00.000000000",
          "2018-07-18T00:00:00.000000000",
          "2018-07-19T00:00:00.000000000",
          "2018-07-20T00:00:00.000000000",
          "2018-07-23T00:00:00.000000000",
          "2018-07-24T00:00:00.000000000",
          "2018-07-25T00:00:00.000000000",
          "2018-07-26T00:00:00.000000000",
          "2018-07-27T00:00:00.000000000",
          "2018-07-30T00:00:00.000000000",
          "2018-07-31T00:00:00.000000000",
          "2018-08-01T00:00:00.000000000",
          "2018-08-02T00:00:00.000000000",
          "2018-08-03T00:00:00.000000000",
          "2018-08-06T00:00:00.000000000",
          "2018-08-07T00:00:00.000000000",
          "2018-08-08T00:00:00.000000000",
          "2018-08-09T00:00:00.000000000",
          "2018-08-10T00:00:00.000000000",
          "2018-08-13T00:00:00.000000000",
          "2018-08-14T00:00:00.000000000",
          "2018-08-15T00:00:00.000000000",
          "2018-08-16T00:00:00.000000000",
          "2018-08-17T00:00:00.000000000",
          "2018-08-20T00:00:00.000000000",
          "2018-08-21T00:00:00.000000000",
          "2018-08-22T00:00:00.000000000",
          "2018-08-23T00:00:00.000000000",
          "2018-08-24T00:00:00.000000000",
          "2018-08-27T00:00:00.000000000",
          "2018-08-28T00:00:00.000000000",
          "2018-08-29T00:00:00.000000000",
          "2018-08-30T00:00:00.000000000",
          "2018-08-31T00:00:00.000000000",
          "2018-09-04T00:00:00.000000000",
          "2018-09-05T00:00:00.000000000",
          "2018-09-06T00:00:00.000000000",
          "2018-09-07T00:00:00.000000000",
          "2018-09-10T00:00:00.000000000",
          "2018-09-11T00:00:00.000000000",
          "2018-09-12T00:00:00.000000000",
          "2018-09-13T00:00:00.000000000",
          "2018-09-14T00:00:00.000000000",
          "2018-09-17T00:00:00.000000000",
          "2018-09-18T00:00:00.000000000",
          "2018-09-19T00:00:00.000000000",
          "2018-09-20T00:00:00.000000000",
          "2018-09-21T00:00:00.000000000",
          "2018-09-24T00:00:00.000000000",
          "2018-09-25T00:00:00.000000000",
          "2018-09-26T00:00:00.000000000",
          "2018-09-27T00:00:00.000000000",
          "2018-09-28T00:00:00.000000000",
          "2018-10-01T00:00:00.000000000",
          "2018-10-02T00:00:00.000000000",
          "2018-10-03T00:00:00.000000000",
          "2018-10-04T00:00:00.000000000",
          "2018-10-05T00:00:00.000000000",
          "2018-10-08T00:00:00.000000000",
          "2018-10-09T00:00:00.000000000",
          "2019-01-17T00:00:00.000000000",
          "2019-01-18T00:00:00.000000000",
          "2019-01-22T00:00:00.000000000",
          "2019-01-23T00:00:00.000000000",
          "2019-01-24T00:00:00.000000000",
          "2019-01-25T00:00:00.000000000",
          "2019-01-28T00:00:00.000000000",
          "2019-01-29T00:00:00.000000000",
          "2019-01-30T00:00:00.000000000",
          "2019-01-31T00:00:00.000000000",
          "2019-02-01T00:00:00.000000000",
          "2019-02-04T00:00:00.000000000",
          "2019-02-05T00:00:00.000000000",
          "2019-02-06T00:00:00.000000000",
          "2019-02-07T00:00:00.000000000",
          "2019-02-08T00:00:00.000000000",
          "2019-02-11T00:00:00.000000000",
          "2019-02-12T00:00:00.000000000",
          "2019-02-13T00:00:00.000000000",
          "2019-02-14T00:00:00.000000000",
          "2019-02-15T00:00:00.000000000",
          "2019-02-19T00:00:00.000000000",
          "2019-02-20T00:00:00.000000000",
          "2019-02-21T00:00:00.000000000",
          "2019-02-22T00:00:00.000000000",
          "2019-02-25T00:00:00.000000000",
          "2019-02-26T00:00:00.000000000",
          "2019-02-27T00:00:00.000000000",
          "2019-02-28T00:00:00.000000000",
          "2019-03-01T00:00:00.000000000",
          "2019-03-04T00:00:00.000000000",
          "2019-03-05T00:00:00.000000000",
          "2019-03-06T00:00:00.000000000",
          "2019-03-07T00:00:00.000000000",
          "2019-03-08T00:00:00.000000000",
          "2019-03-11T00:00:00.000000000",
          "2019-03-12T00:00:00.000000000",
          "2019-03-13T00:00:00.000000000",
          "2019-03-14T00:00:00.000000000",
          "2019-03-15T00:00:00.000000000",
          "2019-03-18T00:00:00.000000000",
          "2019-03-19T00:00:00.000000000",
          "2019-03-20T00:00:00.000000000",
          "2019-03-21T00:00:00.000000000",
          "2019-03-22T00:00:00.000000000",
          "2019-03-25T00:00:00.000000000",
          "2019-03-26T00:00:00.000000000",
          "2019-03-27T00:00:00.000000000",
          "2019-03-28T00:00:00.000000000",
          "2019-03-29T00:00:00.000000000",
          "2019-04-01T00:00:00.000000000",
          "2019-04-02T00:00:00.000000000",
          "2019-04-03T00:00:00.000000000",
          "2019-04-04T00:00:00.000000000",
          "2019-04-05T00:00:00.000000000",
          "2019-04-08T00:00:00.000000000",
          "2019-04-09T00:00:00.000000000",
          "2019-04-10T00:00:00.000000000",
          "2019-04-11T00:00:00.000000000",
          "2019-04-12T00:00:00.000000000",
          "2019-04-15T00:00:00.000000000",
          "2019-04-16T00:00:00.000000000",
          "2019-04-17T00:00:00.000000000",
          "2019-04-18T00:00:00.000000000",
          "2019-04-22T00:00:00.000000000",
          "2019-04-23T00:00:00.000000000",
          "2019-04-24T00:00:00.000000000",
          "2019-04-25T00:00:00.000000000",
          "2019-04-26T00:00:00.000000000",
          "2019-04-29T00:00:00.000000000",
          "2019-04-30T00:00:00.000000000",
          "2019-05-01T00:00:00.000000000",
          "2019-05-02T00:00:00.000000000",
          "2019-05-03T00:00:00.000000000",
          "2019-05-06T00:00:00.000000000",
          "2019-05-07T00:00:00.000000000",
          "2019-05-08T00:00:00.000000000",
          "2019-05-09T00:00:00.000000000",
          "2019-05-10T00:00:00.000000000",
          "2019-05-15T00:00:00.000000000",
          "2019-05-16T00:00:00.000000000",
          "2019-05-17T00:00:00.000000000",
          "2019-05-20T00:00:00.000000000",
          "2019-05-21T00:00:00.000000000",
          "2019-05-22T00:00:00.000000000",
          "2019-05-23T00:00:00.000000000",
          "2019-05-24T00:00:00.000000000",
          "2019-05-28T00:00:00.000000000",
          "2019-05-29T00:00:00.000000000",
          "2019-05-30T00:00:00.000000000",
          "2019-05-31T00:00:00.000000000",
          "2019-06-03T00:00:00.000000000",
          "2019-06-04T00:00:00.000000000",
          "2019-06-05T00:00:00.000000000",
          "2019-06-06T00:00:00.000000000",
          "2019-06-17T00:00:00.000000000",
          "2019-06-18T00:00:00.000000000",
          "2019-06-19T00:00:00.000000000",
          "2019-06-20T00:00:00.000000000",
          "2019-06-21T00:00:00.000000000",
          "2019-06-24T00:00:00.000000000",
          "2019-06-25T00:00:00.000000000",
          "2019-06-26T00:00:00.000000000",
          "2019-06-27T00:00:00.000000000",
          "2019-06-28T00:00:00.000000000",
          "2019-07-01T00:00:00.000000000",
          "2019-07-02T00:00:00.000000000",
          "2019-07-03T00:00:00.000000000",
          "2019-07-05T00:00:00.000000000",
          "2019-07-08T00:00:00.000000000",
          "2019-07-09T00:00:00.000000000",
          "2019-07-10T00:00:00.000000000",
          "2019-07-11T00:00:00.000000000",
          "2019-07-12T00:00:00.000000000",
          "2019-07-15T00:00:00.000000000",
          "2019-07-16T00:00:00.000000000",
          "2019-07-17T00:00:00.000000000",
          "2019-07-18T00:00:00.000000000",
          "2019-07-19T00:00:00.000000000",
          "2019-07-22T00:00:00.000000000",
          "2019-07-23T00:00:00.000000000",
          "2019-07-24T00:00:00.000000000",
          "2019-07-25T00:00:00.000000000",
          "2019-07-26T00:00:00.000000000",
          "2019-07-29T00:00:00.000000000",
          "2019-07-30T00:00:00.000000000",
          "2019-07-31T00:00:00.000000000",
          "2019-08-01T00:00:00.000000000",
          "2019-08-02T00:00:00.000000000",
          "2019-08-15T00:00:00.000000000",
          "2019-08-16T00:00:00.000000000",
          "2019-08-19T00:00:00.000000000",
          "2019-08-20T00:00:00.000000000",
          "2019-08-21T00:00:00.000000000",
          "2019-08-22T00:00:00.000000000",
          "2019-08-23T00:00:00.000000000",
          "2019-08-26T00:00:00.000000000",
          "2019-08-27T00:00:00.000000000",
          "2019-08-28T00:00:00.000000000",
          "2019-08-29T00:00:00.000000000",
          "2019-08-30T00:00:00.000000000",
          "2019-09-03T00:00:00.000000000",
          "2019-09-04T00:00:00.000000000",
          "2019-09-05T00:00:00.000000000",
          "2019-09-06T00:00:00.000000000",
          "2019-09-09T00:00:00.000000000",
          "2019-09-10T00:00:00.000000000",
          "2019-09-11T00:00:00.000000000",
          "2019-09-12T00:00:00.000000000",
          "2019-09-13T00:00:00.000000000",
          "2019-09-16T00:00:00.000000000",
          "2019-09-17T00:00:00.000000000",
          "2019-09-18T00:00:00.000000000",
          "2019-09-19T00:00:00.000000000",
          "2019-09-20T00:00:00.000000000",
          "2019-09-23T00:00:00.000000000",
          "2019-09-24T00:00:00.000000000",
          "2019-09-25T00:00:00.000000000",
          "2019-09-26T00:00:00.000000000",
          "2019-09-27T00:00:00.000000000",
          "2019-09-30T00:00:00.000000000",
          "2019-10-01T00:00:00.000000000",
          "2019-10-02T00:00:00.000000000",
          "2019-10-03T00:00:00.000000000",
          "2019-10-04T00:00:00.000000000",
          "2019-10-07T00:00:00.000000000",
          "2019-10-08T00:00:00.000000000",
          "2019-10-09T00:00:00.000000000",
          "2019-10-10T00:00:00.000000000",
          "2019-10-11T00:00:00.000000000",
          "2019-10-14T00:00:00.000000000",
          "2019-10-15T00:00:00.000000000",
          "2019-10-16T00:00:00.000000000",
          "2019-10-17T00:00:00.000000000",
          "2019-10-18T00:00:00.000000000",
          "2019-10-21T00:00:00.000000000",
          "2019-10-22T00:00:00.000000000",
          "2019-10-23T00:00:00.000000000",
          "2019-10-24T00:00:00.000000000",
          "2019-10-25T00:00:00.000000000",
          "2019-10-28T00:00:00.000000000",
          "2019-10-29T00:00:00.000000000",
          "2019-10-30T00:00:00.000000000",
          "2019-10-31T00:00:00.000000000",
          "2019-11-01T00:00:00.000000000",
          "2019-11-04T00:00:00.000000000",
          "2019-11-05T00:00:00.000000000",
          "2019-11-06T00:00:00.000000000",
          "2019-11-07T00:00:00.000000000",
          "2019-11-08T00:00:00.000000000",
          "2019-11-11T00:00:00.000000000",
          "2019-11-12T00:00:00.000000000",
          "2019-11-13T00:00:00.000000000",
          "2019-11-14T00:00:00.000000000",
          "2019-11-15T00:00:00.000000000",
          "2019-11-18T00:00:00.000000000",
          "2019-11-19T00:00:00.000000000",
          "2019-11-20T00:00:00.000000000",
          "2019-11-21T00:00:00.000000000",
          "2019-11-22T00:00:00.000000000",
          "2019-11-25T00:00:00.000000000",
          "2019-11-26T00:00:00.000000000",
          "2019-11-27T00:00:00.000000000",
          "2019-11-29T00:00:00.000000000",
          "2019-12-02T00:00:00.000000000",
          "2019-12-03T00:00:00.000000000",
          "2019-12-04T00:00:00.000000000",
          "2019-12-05T00:00:00.000000000",
          "2019-12-06T00:00:00.000000000",
          "2019-12-09T00:00:00.000000000",
          "2019-12-10T00:00:00.000000000",
          "2019-12-11T00:00:00.000000000",
          "2019-12-12T00:00:00.000000000",
          "2019-12-13T00:00:00.000000000",
          "2019-12-16T00:00:00.000000000",
          "2019-12-17T00:00:00.000000000",
          "2019-12-18T00:00:00.000000000",
          "2019-12-19T00:00:00.000000000",
          "2019-12-20T00:00:00.000000000",
          "2019-12-23T00:00:00.000000000",
          "2019-12-24T00:00:00.000000000",
          "2019-12-26T00:00:00.000000000",
          "2019-12-27T00:00:00.000000000",
          "2019-12-30T00:00:00.000000000",
          "2019-12-31T00:00:00.000000000",
          "2020-01-02T00:00:00.000000000",
          "2020-01-03T00:00:00.000000000",
          "2020-01-06T00:00:00.000000000",
          "2020-01-07T00:00:00.000000000",
          "2020-01-08T00:00:00.000000000",
          "2020-01-09T00:00:00.000000000",
          "2020-01-10T00:00:00.000000000",
          "2020-01-13T00:00:00.000000000",
          "2020-01-14T00:00:00.000000000",
          "2020-01-15T00:00:00.000000000",
          "2020-01-16T00:00:00.000000000",
          "2020-01-17T00:00:00.000000000",
          "2020-01-21T00:00:00.000000000",
          "2020-01-22T00:00:00.000000000",
          "2020-01-23T00:00:00.000000000",
          "2020-01-24T00:00:00.000000000",
          "2020-01-27T00:00:00.000000000",
          "2020-01-28T00:00:00.000000000",
          "2020-01-29T00:00:00.000000000",
          "2020-01-30T00:00:00.000000000",
          "2020-01-31T00:00:00.000000000",
          "2020-02-03T00:00:00.000000000",
          "2020-02-04T00:00:00.000000000",
          "2020-02-05T00:00:00.000000000",
          "2020-02-06T00:00:00.000000000",
          "2020-02-18T00:00:00.000000000",
          "2020-02-19T00:00:00.000000000",
          "2020-02-20T00:00:00.000000000",
          "2020-02-21T00:00:00.000000000",
          "2020-07-14T00:00:00.000000000",
          "2020-07-15T00:00:00.000000000",
          "2020-07-16T00:00:00.000000000",
          "2020-07-17T00:00:00.000000000",
          "2020-07-20T00:00:00.000000000",
          "2020-07-21T00:00:00.000000000",
          "2020-07-22T00:00:00.000000000",
          "2020-07-23T00:00:00.000000000",
          "2020-07-24T00:00:00.000000000",
          "2020-07-27T00:00:00.000000000",
          "2020-07-28T00:00:00.000000000",
          "2020-07-29T00:00:00.000000000",
          "2020-07-30T00:00:00.000000000",
          "2020-07-31T00:00:00.000000000",
          "2020-08-03T00:00:00.000000000",
          "2020-08-04T00:00:00.000000000",
          "2020-08-05T00:00:00.000000000",
          "2020-08-13T00:00:00.000000000",
          "2020-08-14T00:00:00.000000000",
          "2020-08-17T00:00:00.000000000",
          "2020-08-18T00:00:00.000000000",
          "2020-08-19T00:00:00.000000000",
          "2020-08-20T00:00:00.000000000",
          "2020-08-21T00:00:00.000000000",
          "2020-08-24T00:00:00.000000000",
          "2020-08-25T00:00:00.000000000",
          "2020-08-26T00:00:00.000000000",
          "2020-10-20T00:00:00.000000000",
          "2020-10-21T00:00:00.000000000",
          "2020-10-22T00:00:00.000000000",
          "2020-10-23T00:00:00.000000000",
          "2020-10-26T00:00:00.000000000",
          "2020-10-27T00:00:00.000000000",
          "2020-11-19T00:00:00.000000000",
          "2020-11-20T00:00:00.000000000",
          "2020-11-23T00:00:00.000000000",
          "2020-11-24T00:00:00.000000000",
          "2020-11-25T00:00:00.000000000",
          "2020-11-27T00:00:00.000000000",
          "2020-11-30T00:00:00.000000000",
          "2020-12-01T00:00:00.000000000",
          "2020-12-02T00:00:00.000000000",
          "2020-12-03T00:00:00.000000000",
          "2020-12-04T00:00:00.000000000",
          "2020-12-07T00:00:00.000000000",
          "2020-12-08T00:00:00.000000000",
          "2020-12-09T00:00:00.000000000",
          "2020-12-10T00:00:00.000000000",
          "2020-12-11T00:00:00.000000000",
          "2020-12-14T00:00:00.000000000",
          "2020-12-15T00:00:00.000000000",
          "2020-12-16T00:00:00.000000000",
          "2020-12-17T00:00:00.000000000",
          "2020-12-18T00:00:00.000000000",
          "2020-12-21T00:00:00.000000000",
          "2020-12-22T00:00:00.000000000",
          "2020-12-23T00:00:00.000000000",
          "2020-12-24T00:00:00.000000000",
          "2020-12-28T00:00:00.000000000",
          "2020-12-29T00:00:00.000000000",
          "2020-12-30T00:00:00.000000000",
          "2020-12-31T00:00:00.000000000",
          "2021-01-04T00:00:00.000000000",
          "2021-01-05T00:00:00.000000000",
          "2021-01-06T00:00:00.000000000",
          "2021-01-07T00:00:00.000000000",
          "2021-01-08T00:00:00.000000000",
          "2021-01-11T00:00:00.000000000",
          "2021-01-12T00:00:00.000000000",
          "2021-01-13T00:00:00.000000000",
          "2021-01-14T00:00:00.000000000",
          "2021-01-15T00:00:00.000000000",
          "2021-01-19T00:00:00.000000000",
          "2021-01-20T00:00:00.000000000",
          "2021-01-21T00:00:00.000000000",
          "2021-01-22T00:00:00.000000000",
          "2021-01-25T00:00:00.000000000",
          "2021-01-26T00:00:00.000000000",
          "2021-02-16T00:00:00.000000000",
          "2021-02-17T00:00:00.000000000",
          "2021-02-18T00:00:00.000000000",
          "2021-02-19T00:00:00.000000000",
          "2021-02-22T00:00:00.000000000",
          "2021-02-23T00:00:00.000000000",
          "2021-02-24T00:00:00.000000000",
          "2021-03-22T00:00:00.000000000",
          "2021-03-23T00:00:00.000000000",
          "2021-03-24T00:00:00.000000000",
          "2021-03-25T00:00:00.000000000",
          "2021-03-26T00:00:00.000000000",
          "2021-03-29T00:00:00.000000000",
          "2021-03-30T00:00:00.000000000",
          "2021-03-31T00:00:00.000000000",
          "2021-04-16T00:00:00.000000000",
          "2021-04-19T00:00:00.000000000",
          "2021-04-20T00:00:00.000000000",
          "2021-04-21T00:00:00.000000000",
          "2021-04-22T00:00:00.000000000",
          "2021-04-23T00:00:00.000000000",
          "2021-04-26T00:00:00.000000000",
          "2021-04-27T00:00:00.000000000",
          "2021-04-28T00:00:00.000000000",
          "2021-04-29T00:00:00.000000000",
          "2021-04-30T00:00:00.000000000",
          "2021-05-03T00:00:00.000000000",
          "2021-05-04T00:00:00.000000000",
          "2021-05-05T00:00:00.000000000",
          "2021-05-06T00:00:00.000000000",
          "2021-05-07T00:00:00.000000000",
          "2021-05-10T00:00:00.000000000",
          "2021-05-11T00:00:00.000000000",
          "2021-05-21T00:00:00.000000000",
          "2021-05-24T00:00:00.000000000",
          "2021-05-25T00:00:00.000000000",
          "2021-05-26T00:00:00.000000000",
          "2021-05-27T00:00:00.000000000",
          "2021-05-28T00:00:00.000000000",
          "2021-06-01T00:00:00.000000000",
          "2021-06-02T00:00:00.000000000",
          "2021-06-03T00:00:00.000000000",
          "2021-06-04T00:00:00.000000000",
          "2021-06-07T00:00:00.000000000",
          "2021-06-08T00:00:00.000000000",
          "2021-06-09T00:00:00.000000000",
          "2021-06-10T00:00:00.000000000",
          "2021-06-11T00:00:00.000000000",
          "2021-06-14T00:00:00.000000000",
          "2021-06-15T00:00:00.000000000",
          "2021-06-16T00:00:00.000000000",
          "2021-06-17T00:00:00.000000000",
          "2021-06-18T00:00:00.000000000",
          "2021-06-21T00:00:00.000000000",
          "2021-06-22T00:00:00.000000000",
          "2021-06-23T00:00:00.000000000",
          "2021-06-24T00:00:00.000000000",
          "2021-06-25T00:00:00.000000000",
          "2021-06-28T00:00:00.000000000",
          "2021-06-29T00:00:00.000000000",
          "2021-06-30T00:00:00.000000000",
          "2021-07-01T00:00:00.000000000",
          "2021-07-02T00:00:00.000000000",
          "2021-07-06T00:00:00.000000000",
          "2021-07-07T00:00:00.000000000",
          "2021-07-08T00:00:00.000000000",
          "2021-07-09T00:00:00.000000000",
          "2021-07-12T00:00:00.000000000",
          "2021-07-13T00:00:00.000000000",
          "2021-07-14T00:00:00.000000000",
          "2021-07-15T00:00:00.000000000",
          "2021-07-16T00:00:00.000000000",
          "2021-07-19T00:00:00.000000000",
          "2021-07-20T00:00:00.000000000",
          "2021-07-21T00:00:00.000000000",
          "2021-07-22T00:00:00.000000000",
          "2021-08-02T00:00:00.000000000",
          "2021-08-03T00:00:00.000000000",
          "2021-08-04T00:00:00.000000000",
          "2021-08-05T00:00:00.000000000",
          "2021-08-06T00:00:00.000000000",
          "2021-08-09T00:00:00.000000000",
          "2021-08-10T00:00:00.000000000",
          "2021-08-11T00:00:00.000000000",
          "2021-08-12T00:00:00.000000000",
          "2021-08-13T00:00:00.000000000",
          "2021-08-16T00:00:00.000000000",
          "2021-08-17T00:00:00.000000000",
          "2021-08-18T00:00:00.000000000",
          "2021-08-19T00:00:00.000000000",
          "2021-08-20T00:00:00.000000000",
          "2021-08-23T00:00:00.000000000",
          "2021-08-24T00:00:00.000000000",
          "2021-08-25T00:00:00.000000000",
          "2021-08-26T00:00:00.000000000",
          "2021-08-27T00:00:00.000000000",
          "2021-08-30T00:00:00.000000000",
          "2021-08-31T00:00:00.000000000",
          "2021-09-01T00:00:00.000000000",
          "2021-09-02T00:00:00.000000000",
          "2021-09-03T00:00:00.000000000",
          "2021-09-07T00:00:00.000000000",
          "2021-09-08T00:00:00.000000000",
          "2021-09-09T00:00:00.000000000",
          "2021-09-10T00:00:00.000000000",
          "2021-09-13T00:00:00.000000000",
          "2021-09-14T00:00:00.000000000",
          "2021-09-15T00:00:00.000000000",
          "2021-09-16T00:00:00.000000000",
          "2021-09-17T00:00:00.000000000",
          "2021-10-11T00:00:00.000000000",
          "2021-10-12T00:00:00.000000000",
          "2021-10-13T00:00:00.000000000",
          "2021-10-14T00:00:00.000000000",
          "2021-10-29T00:00:00.000000000",
          "2021-11-01T00:00:00.000000000",
          "2021-11-02T00:00:00.000000000",
          "2021-11-03T00:00:00.000000000",
          "2021-11-11T00:00:00.000000000",
          "2021-11-12T00:00:00.000000000",
          "2021-11-15T00:00:00.000000000",
          "2021-11-16T00:00:00.000000000",
          "2021-11-17T00:00:00.000000000",
          "2021-11-18T00:00:00.000000000",
          "2021-11-19T00:00:00.000000000",
          "2021-11-22T00:00:00.000000000",
          "2021-11-23T00:00:00.000000000",
          "2021-11-24T00:00:00.000000000",
          "2022-11-23T00:00:00.000000000",
          "2022-11-25T00:00:00.000000000",
          "2022-11-28T00:00:00.000000000",
          "2022-11-29T00:00:00.000000000",
          "2022-12-30T00:00:00.000000000",
          "2023-01-03T00:00:00.000000000",
          "2023-01-04T00:00:00.000000000",
          "2023-01-05T00:00:00.000000000",
          "2023-02-13T00:00:00.000000000",
          "2023-02-14T00:00:00.000000000",
          "2023-02-15T00:00:00.000000000",
          "2023-02-16T00:00:00.000000000",
          "2023-02-17T00:00:00.000000000",
          "2023-04-12T00:00:00.000000000",
          "2023-04-13T00:00:00.000000000",
          "2023-04-14T00:00:00.000000000",
          "2023-04-17T00:00:00.000000000",
          "2023-04-18T00:00:00.000000000",
          "2023-04-19T00:00:00.000000000",
          "2023-04-20T00:00:00.000000000",
          "2023-04-21T00:00:00.000000000",
          "2023-04-24T00:00:00.000000000",
          "2023-04-25T00:00:00.000000000",
          "2023-04-26T00:00:00.000000000",
          "2023-05-10T00:00:00.000000000",
          "2023-05-11T00:00:00.000000000",
          "2023-05-12T00:00:00.000000000",
          "2023-05-15T00:00:00.000000000",
          "2023-05-16T00:00:00.000000000",
          "2023-05-17T00:00:00.000000000",
          "2023-05-18T00:00:00.000000000",
          "2023-05-19T00:00:00.000000000",
          "2023-05-22T00:00:00.000000000",
          "2023-05-23T00:00:00.000000000",
          "2023-05-24T00:00:00.000000000",
          "2023-05-25T00:00:00.000000000",
          "2023-05-26T00:00:00.000000000",
          "2023-05-30T00:00:00.000000000",
          "2023-05-31T00:00:00.000000000",
          "2023-06-01T00:00:00.000000000",
          "2023-06-23T00:00:00.000000000",
          "2023-06-26T00:00:00.000000000",
          "2023-06-27T00:00:00.000000000",
          "2023-06-28T00:00:00.000000000",
          "2023-06-29T00:00:00.000000000",
          "2023-06-30T00:00:00.000000000",
          "2023-07-11T00:00:00.000000000",
          "2023-07-12T00:00:00.000000000",
          "2023-07-13T00:00:00.000000000",
          "2023-07-14T00:00:00.000000000",
          "2023-07-25T00:00:00.000000000",
          "2023-07-26T00:00:00.000000000",
          "2023-07-27T00:00:00.000000000",
          "2023-07-28T00:00:00.000000000",
          "2023-07-31T00:00:00.000000000",
          "2023-08-01T00:00:00.000000000",
          "2023-08-02T00:00:00.000000000",
          "2023-08-03T00:00:00.000000000",
          "2023-09-08T00:00:00.000000000",
          "2023-09-11T00:00:00.000000000",
          "2023-09-12T00:00:00.000000000",
          "2023-09-13T00:00:00.000000000",
          "2023-09-14T00:00:00.000000000",
          "2023-09-15T00:00:00.000000000",
          "2023-09-18T00:00:00.000000000",
          "2023-09-19T00:00:00.000000000",
          "2023-09-20T00:00:00.000000000",
          "2023-10-04T00:00:00.000000000",
          "2023-10-05T00:00:00.000000000",
          "2023-10-06T00:00:00.000000000",
          "2023-10-09T00:00:00.000000000",
          "2023-10-10T00:00:00.000000000",
          "2023-11-28T00:00:00.000000000",
          "2023-11-29T00:00:00.000000000",
          "2023-11-30T00:00:00.000000000",
          "2023-12-01T00:00:00.000000000",
          "2023-12-04T00:00:00.000000000",
          "2023-12-05T00:00:00.000000000",
          "2023-12-06T00:00:00.000000000",
          "2023-12-07T00:00:00.000000000",
          "2023-12-08T00:00:00.000000000",
          "2023-12-11T00:00:00.000000000",
          "2023-12-12T00:00:00.000000000",
          "2023-12-27T00:00:00.000000000",
          "2023-12-28T00:00:00.000000000",
          "2023-12-29T00:00:00.000000000",
          "2024-01-02T00:00:00.000000000",
          "2024-01-03T00:00:00.000000000",
          "2024-01-04T00:00:00.000000000",
          "2024-01-05T00:00:00.000000000",
          "2024-01-08T00:00:00.000000000",
          "2024-01-09T00:00:00.000000000",
          "2024-01-10T00:00:00.000000000",
          "2024-01-11T00:00:00.000000000",
          "2024-01-12T00:00:00.000000000",
          "2024-01-16T00:00:00.000000000",
          "2024-01-17T00:00:00.000000000",
          "2024-01-18T00:00:00.000000000",
          "2024-01-19T00:00:00.000000000",
          "2024-01-22T00:00:00.000000000",
          "2024-02-15T00:00:00.000000000",
          "2024-02-16T00:00:00.000000000",
          "2024-02-20T00:00:00.000000000",
          "2024-02-21T00:00:00.000000000",
          "2024-03-06T00:00:00.000000000",
          "2024-03-07T00:00:00.000000000",
          "2024-03-08T00:00:00.000000000",
          "2024-03-11T00:00:00.000000000",
          "2024-03-12T00:00:00.000000000",
          "2024-03-13T00:00:00.000000000",
          "2024-03-14T00:00:00.000000000",
          "2024-03-15T00:00:00.000000000",
          "2024-03-18T00:00:00.000000000",
          "2024-03-19T00:00:00.000000000",
          "2024-03-20T00:00:00.000000000",
          "2024-04-01T00:00:00.000000000",
          "2024-04-02T00:00:00.000000000",
          "2024-04-03T00:00:00.000000000",
          "2024-04-04T00:00:00.000000000",
          "2024-04-05T00:00:00.000000000",
          "2024-04-08T00:00:00.000000000",
          "2024-04-09T00:00:00.000000000",
          "2024-04-10T00:00:00.000000000",
          "2024-04-11T00:00:00.000000000",
          "2024-05-24T00:00:00.000000000",
          "2024-05-28T00:00:00.000000000",
          "2024-05-29T00:00:00.000000000",
          "2024-05-30T00:00:00.000000000",
          "2024-05-31T00:00:00.000000000",
          "2024-06-03T00:00:00.000000000",
          "2024-06-04T00:00:00.000000000",
          "2024-06-05T00:00:00.000000000",
          "2024-06-06T00:00:00.000000000",
          "2024-06-25T00:00:00.000000000",
          "2024-06-26T00:00:00.000000000",
          "2024-06-27T00:00:00.000000000",
          "2024-06-28T00:00:00.000000000",
          "2024-07-01T00:00:00.000000000",
          "2024-07-02T00:00:00.000000000",
          "2024-07-03T00:00:00.000000000",
          "2024-07-05T00:00:00.000000000"
         ],
         "xaxis": "x",
         "y": {
          "bdata": "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",
          "dtype": "f8"
         },
         "yaxis": "y"
        },
        {
         "marker": {
          "color": "rgb(252,141,98)",
          "size": 6
         },
         "mode": "markers",
         "name": "Regime 1: Neutral",
         "showlegend": true,
         "type": "scatter",
         "x": [
          "2018-02-13T00:00:00.000000000",
          "2018-02-14T00:00:00.000000000",
          "2018-02-15T00:00:00.000000000",
          "2018-02-16T00:00:00.000000000",
          "2018-02-20T00:00:00.000000000",
          "2018-02-21T00:00:00.000000000",
          "2018-02-22T00:00:00.000000000",
          "2018-03-27T00:00:00.000000000",
          "2018-03-28T00:00:00.000000000",
          "2018-03-29T00:00:00.000000000",
          "2018-04-02T00:00:00.000000000",
          "2018-04-03T00:00:00.000000000",
          "2018-10-16T00:00:00.000000000",
          "2018-10-17T00:00:00.000000000",
          "2018-10-18T00:00:00.000000000",
          "2018-10-19T00:00:00.000000000",
          "2018-10-22T00:00:00.000000000",
          "2018-10-23T00:00:00.000000000",
          "2018-10-24T00:00:00.000000000",
          "2018-10-25T00:00:00.000000000",
          "2018-10-26T00:00:00.000000000",
          "2018-10-29T00:00:00.000000000",
          "2018-10-30T00:00:00.000000000",
          "2018-10-31T00:00:00.000000000",
          "2018-11-01T00:00:00.000000000",
          "2018-11-02T00:00:00.000000000",
          "2018-11-05T00:00:00.000000000",
          "2018-11-06T00:00:00.000000000",
          "2018-11-07T00:00:00.000000000",
          "2018-11-08T00:00:00.000000000",
          "2018-11-09T00:00:00.000000000",
          "2018-11-12T00:00:00.000000000",
          "2018-11-13T00:00:00.000000000",
          "2018-11-14T00:00:00.000000000",
          "2018-11-15T00:00:00.000000000",
          "2018-11-16T00:00:00.000000000",
          "2018-11-19T00:00:00.000000000",
          "2018-11-20T00:00:00.000000000",
          "2018-11-21T00:00:00.000000000",
          "2018-11-23T00:00:00.000000000",
          "2018-11-26T00:00:00.000000000",
          "2018-11-27T00:00:00.000000000",
          "2018-11-28T00:00:00.000000000",
          "2018-11-29T00:00:00.000000000",
          "2018-11-30T00:00:00.000000000",
          "2018-12-03T00:00:00.000000000",
          "2018-12-04T00:00:00.000000000",
          "2018-12-06T00:00:00.000000000",
          "2018-12-07T00:00:00.000000000",
          "2018-12-10T00:00:00.000000000",
          "2018-12-11T00:00:00.000000000",
          "2018-12-12T00:00:00.000000000",
          "2018-12-13T00:00:00.000000000",
          "2018-12-14T00:00:00.000000000",
          "2018-12-17T00:00:00.000000000",
          "2018-12-18T00:00:00.000000000",
          "2018-12-19T00:00:00.000000000",
          "2018-12-20T00:00:00.000000000",
          "2018-12-28T00:00:00.000000000",
          "2018-12-31T00:00:00.000000000",
          "2019-01-02T00:00:00.000000000",
          "2019-01-03T00:00:00.000000000",
          "2019-01-04T00:00:00.000000000",
          "2019-01-07T00:00:00.000000000",
          "2019-01-08T00:00:00.000000000",
          "2019-01-09T00:00:00.000000000",
          "2019-01-10T00:00:00.000000000",
          "2019-01-11T00:00:00.000000000",
          "2019-01-14T00:00:00.000000000",
          "2019-01-15T00:00:00.000000000",
          "2019-01-16T00:00:00.000000000",
          "2019-05-13T00:00:00.000000000",
          "2019-05-14T00:00:00.000000000",
          "2019-06-07T00:00:00.000000000",
          "2019-06-10T00:00:00.000000000",
          "2019-06-11T00:00:00.000000000",
          "2019-06-12T00:00:00.000000000",
          "2019-06-13T00:00:00.000000000",
          "2019-06-14T00:00:00.000000000",
          "2019-08-07T00:00:00.000000000",
          "2019-08-08T00:00:00.000000000",
          "2019-08-09T00:00:00.000000000",
          "2019-08-12T00:00:00.000000000",
          "2019-08-13T00:00:00.000000000",
          "2019-08-14T00:00:00.000000000",
          "2020-02-07T00:00:00.000000000",
          "2020-02-10T00:00:00.000000000",
          "2020-02-11T00:00:00.000000000",
          "2020-02-12T00:00:00.000000000",
          "2020-02-13T00:00:00.000000000",
          "2020-02-14T00:00:00.000000000",
          "2020-04-20T00:00:00.000000000",
          "2020-04-21T00:00:00.000000000",
          "2020-04-22T00:00:00.000000000",
          "2020-04-23T00:00:00.000000000",
          "2020-04-24T00:00:00.000000000",
          "2020-04-27T00:00:00.000000000",
          "2020-04-28T00:00:00.000000000",
          "2020-04-29T00:00:00.000000000",
          "2020-04-30T00:00:00.000000000",
          "2020-05-01T00:00:00.000000000",
          "2020-05-04T00:00:00.000000000",
          "2020-05-05T00:00:00.000000000",
          "2020-05-06T00:00:00.000000000",
          "2020-05-07T00:00:00.000000000",
          "2020-05-08T00:00:00.000000000",
          "2020-05-11T00:00:00.000000000",
          "2020-05-12T00:00:00.000000000",
          "2020-05-13T00:00:00.000000000",
          "2020-05-14T00:00:00.000000000",
          "2020-05-15T00:00:00.000000000",
          "2020-05-18T00:00:00.000000000",
          "2020-05-19T00:00:00.000000000",
          "2020-05-20T00:00:00.000000000",
          "2020-05-21T00:00:00.000000000",
          "2020-05-22T00:00:00.000000000",
          "2020-05-26T00:00:00.000000000",
          "2020-05-27T00:00:00.000000000",
          "2020-05-28T00:00:00.000000000",
          "2020-05-29T00:00:00.000000000",
          "2020-06-01T00:00:00.000000000",
          "2020-06-02T00:00:00.000000000",
          "2020-06-03T00:00:00.000000000",
          "2020-06-04T00:00:00.000000000",
          "2020-06-05T00:00:00.000000000",
          "2020-06-08T00:00:00.000000000",
          "2020-06-09T00:00:00.000000000",
          "2020-06-10T00:00:00.000000000",
          "2020-06-17T00:00:00.000000000",
          "2020-06-18T00:00:00.000000000",
          "2020-06-19T00:00:00.000000000",
          "2020-06-22T00:00:00.000000000",
          "2020-06-23T00:00:00.000000000",
          "2020-06-24T00:00:00.000000000",
          "2020-06-25T00:00:00.000000000",
          "2020-06-26T00:00:00.000000000",
          "2020-06-29T00:00:00.000000000",
          "2020-06-30T00:00:00.000000000",
          "2020-07-01T00:00:00.000000000",
          "2020-07-02T00:00:00.000000000",
          "2020-07-06T00:00:00.000000000",
          "2020-07-07T00:00:00.000000000",
          "2020-07-08T00:00:00.000000000",
          "2020-07-09T00:00:00.000000000",
          "2020-07-10T00:00:00.000000000",
          "2020-07-13T00:00:00.000000000",
          "2020-08-06T00:00:00.000000000",
          "2020-08-07T00:00:00.000000000",
          "2020-08-10T00:00:00.000000000",
          "2020-08-11T00:00:00.000000000",
          "2020-08-12T00:00:00.000000000",
          "2020-08-27T00:00:00.000000000",
          "2020-08-28T00:00:00.000000000",
          "2020-08-31T00:00:00.000000000",
          "2020-09-01T00:00:00.000000000",
          "2020-09-02T00:00:00.000000000",
          "2020-09-03T00:00:00.000000000",
          "2020-09-04T00:00:00.000000000",
          "2020-09-08T00:00:00.000000000",
          "2020-09-09T00:00:00.000000000",
          "2020-09-10T00:00:00.000000000",
          "2020-09-11T00:00:00.000000000",
          "2020-09-14T00:00:00.000000000",
          "2020-09-15T00:00:00.000000000",
          "2020-09-16T00:00:00.000000000",
          "2020-09-17T00:00:00.000000000",
          "2020-09-18T00:00:00.000000000",
          "2020-09-21T00:00:00.000000000",
          "2020-09-22T00:00:00.000000000",
          "2020-09-23T00:00:00.000000000",
          "2020-09-24T00:00:00.000000000",
          "2020-09-25T00:00:00.000000000",
          "2020-09-28T00:00:00.000000000",
          "2020-09-29T00:00:00.000000000",
          "2020-09-30T00:00:00.000000000",
          "2020-10-01T00:00:00.000000000",
          "2020-10-02T00:00:00.000000000",
          "2020-10-05T00:00:00.000000000",
          "2020-10-06T00:00:00.000000000",
          "2020-10-07T00:00:00.000000000",
          "2020-10-08T00:00:00.000000000",
          "2020-10-09T00:00:00.000000000",
          "2020-10-12T00:00:00.000000000",
          "2020-10-13T00:00:00.000000000",
          "2020-10-14T00:00:00.000000000",
          "2020-10-15T00:00:00.000000000",
          "2020-10-16T00:00:00.000000000",
          "2020-10-19T00:00:00.000000000",
          "2020-10-28T00:00:00.000000000",
          "2020-10-29T00:00:00.000000000",
          "2020-10-30T00:00:00.000000000",
          "2020-11-02T00:00:00.000000000",
          "2020-11-03T00:00:00.000000000",
          "2020-11-04T00:00:00.000000000",
          "2020-11-05T00:00:00.000000000",
          "2020-11-16T00:00:00.000000000",
          "2020-11-17T00:00:00.000000000",
          "2020-11-18T00:00:00.000000000",
          "2021-01-29T00:00:00.000000000",
          "2021-02-01T00:00:00.000000000",
          "2021-02-02T00:00:00.000000000",
          "2021-02-03T00:00:00.000000000",
          "2021-02-04T00:00:00.000000000",
          "2021-02-05T00:00:00.000000000",
          "2021-02-08T00:00:00.000000000",
          "2021-02-09T00:00:00.000000000",
          "2021-02-10T00:00:00.000000000",
          "2021-02-11T00:00:00.000000000",
          "2021-02-12T00:00:00.000000000",
          "2021-02-25T00:00:00.000000000",
          "2021-02-26T00:00:00.000000000",
          "2021-03-01T00:00:00.000000000",
          "2021-03-02T00:00:00.000000000",
          "2021-03-03T00:00:00.000000000",
          "2021-03-04T00:00:00.000000000",
          "2021-03-05T00:00:00.000000000",
          "2021-03-08T00:00:00.000000000",
          "2021-03-09T00:00:00.000000000",
          "2021-03-10T00:00:00.000000000",
          "2021-03-11T00:00:00.000000000",
          "2021-03-12T00:00:00.000000000",
          "2021-03-15T00:00:00.000000000",
          "2021-03-16T00:00:00.000000000",
          "2021-03-17T00:00:00.000000000",
          "2021-03-18T00:00:00.000000000",
          "2021-03-19T00:00:00.000000000",
          "2021-04-01T00:00:00.000000000",
          "2021-04-05T00:00:00.000000000",
          "2021-04-06T00:00:00.000000000",
          "2021-04-07T00:00:00.000000000",
          "2021-04-08T00:00:00.000000000",
          "2021-04-09T00:00:00.000000000",
          "2021-04-12T00:00:00.000000000",
          "2021-04-13T00:00:00.000000000",
          "2021-04-14T00:00:00.000000000",
          "2021-04-15T00:00:00.000000000",
          "2021-05-12T00:00:00.000000000",
          "2021-05-13T00:00:00.000000000",
          "2021-05-14T00:00:00.000000000",
          "2021-05-17T00:00:00.000000000",
          "2021-05-18T00:00:00.000000000",
          "2021-05-19T00:00:00.000000000",
          "2021-05-20T00:00:00.000000000",
          "2021-07-23T00:00:00.000000000",
          "2021-07-26T00:00:00.000000000",
          "2021-07-27T00:00:00.000000000",
          "2021-07-28T00:00:00.000000000",
          "2021-07-29T00:00:00.000000000",
          "2021-07-30T00:00:00.000000000",
          "2021-09-20T00:00:00.000000000",
          "2021-09-21T00:00:00.000000000",
          "2021-09-22T00:00:00.000000000",
          "2021-09-23T00:00:00.000000000",
          "2021-09-24T00:00:00.000000000",
          "2021-09-27T00:00:00.000000000",
          "2021-09-28T00:00:00.000000000",
          "2021-09-29T00:00:00.000000000",
          "2021-09-30T00:00:00.000000000",
          "2021-10-01T00:00:00.000000000",
          "2021-10-04T00:00:00.000000000",
          "2021-10-05T00:00:00.000000000",
          "2021-10-06T00:00:00.000000000",
          "2021-10-07T00:00:00.000000000",
          "2021-10-08T00:00:00.000000000",
          "2021-10-15T00:00:00.000000000",
          "2021-10-18T00:00:00.000000000",
          "2021-10-19T00:00:00.000000000",
          "2021-10-20T00:00:00.000000000",
          "2021-10-21T00:00:00.000000000",
          "2021-10-22T00:00:00.000000000",
          "2021-10-25T00:00:00.000000000",
          "2021-10-26T00:00:00.000000000",
          "2021-10-27T00:00:00.000000000",
          "2021-10-28T00:00:00.000000000",
          "2021-11-04T00:00:00.000000000",
          "2021-11-05T00:00:00.000000000",
          "2021-11-08T00:00:00.000000000",
          "2021-11-09T00:00:00.000000000",
          "2021-11-10T00:00:00.000000000",
          "2021-12-06T00:00:00.000000000",
          "2021-12-07T00:00:00.000000000",
          "2021-12-08T00:00:00.000000000",
          "2021-12-09T00:00:00.000000000",
          "2021-12-10T00:00:00.000000000",
          "2021-12-13T00:00:00.000000000",
          "2021-12-14T00:00:00.000000000",
          "2021-12-15T00:00:00.000000000",
          "2021-12-16T00:00:00.000000000",
          "2021-12-17T00:00:00.000000000",
          "2021-12-20T00:00:00.000000000",
          "2021-12-21T00:00:00.000000000",
          "2021-12-22T00:00:00.000000000",
          "2021-12-23T00:00:00.000000000",
          "2021-12-27T00:00:00.000000000",
          "2021-12-28T00:00:00.000000000",
          "2021-12-29T00:00:00.000000000",
          "2021-12-30T00:00:00.000000000",
          "2021-12-31T00:00:00.000000000",
          "2022-01-03T00:00:00.000000000",
          "2022-01-04T00:00:00.000000000",
          "2022-01-05T00:00:00.000000000",
          "2022-01-06T00:00:00.000000000",
          "2022-01-07T00:00:00.000000000",
          "2022-01-10T00:00:00.000000000",
          "2022-01-11T00:00:00.000000000",
          "2022-01-12T00:00:00.000000000",
          "2022-01-13T00:00:00.000000000",
          "2022-01-14T00:00:00.000000000",
          "2022-01-18T00:00:00.000000000",
          "2022-01-19T00:00:00.000000000",
          "2022-02-08T00:00:00.000000000",
          "2022-02-09T00:00:00.000000000",
          "2022-02-10T00:00:00.000000000",
          "2022-02-11T00:00:00.000000000",
          "2022-02-14T00:00:00.000000000",
          "2022-02-15T00:00:00.000000000",
          "2022-02-16T00:00:00.000000000",
          "2022-02-17T00:00:00.000000000",
          "2022-02-18T00:00:00.000000000",
          "2022-02-25T00:00:00.000000000",
          "2022-02-28T00:00:00.000000000",
          "2022-03-01T00:00:00.000000000",
          "2022-03-02T00:00:00.000000000",
          "2022-03-03T00:00:00.000000000",
          "2022-03-04T00:00:00.000000000",
          "2022-03-07T00:00:00.000000000",
          "2022-03-08T00:00:00.000000000",
          "2022-03-09T00:00:00.000000000",
          "2022-03-10T00:00:00.000000000",
          "2022-03-11T00:00:00.000000000",
          "2022-03-14T00:00:00.000000000",
          "2022-03-15T00:00:00.000000000",
          "2022-03-16T00:00:00.000000000",
          "2022-03-17T00:00:00.000000000",
          "2022-03-29T00:00:00.000000000",
          "2022-03-30T00:00:00.000000000",
          "2022-03-31T00:00:00.000000000",
          "2022-04-01T00:00:00.000000000",
          "2022-04-04T00:00:00.000000000",
          "2022-04-05T00:00:00.000000000",
          "2022-04-06T00:00:00.000000000",
          "2022-04-07T00:00:00.000000000",
          "2022-04-08T00:00:00.000000000",
          "2022-04-11T00:00:00.000000000",
          "2022-04-12T00:00:00.000000000",
          "2022-04-13T00:00:00.000000000",
          "2022-04-14T00:00:00.000000000",
          "2022-04-18T00:00:00.000000000",
          "2022-04-19T00:00:00.000000000",
          "2022-04-20T00:00:00.000000000",
          "2022-04-21T00:00:00.000000000",
          "2022-04-22T00:00:00.000000000",
          "2022-04-25T00:00:00.000000000",
          "2022-05-19T00:00:00.000000000",
          "2022-05-20T00:00:00.000000000",
          "2022-05-23T00:00:00.000000000",
          "2022-05-24T00:00:00.000000000",
          "2022-05-25T00:00:00.000000000",
          "2022-05-26T00:00:00.000000000",
          "2022-06-06T00:00:00.000000000",
          "2022-06-07T00:00:00.000000000",
          "2022-06-08T00:00:00.000000000",
          "2022-06-09T00:00:00.000000000",
          "2022-06-29T00:00:00.000000000",
          "2022-06-30T00:00:00.000000000",
          "2022-07-01T00:00:00.000000000",
          "2022-07-05T00:00:00.000000000",
          "2022-07-06T00:00:00.000000000",
          "2022-07-07T00:00:00.000000000",
          "2022-07-08T00:00:00.000000000",
          "2022-07-11T00:00:00.000000000",
          "2022-07-12T00:00:00.000000000",
          "2022-07-13T00:00:00.000000000",
          "2022-07-14T00:00:00.000000000",
          "2022-07-15T00:00:00.000000000",
          "2022-07-18T00:00:00.000000000",
          "2022-07-19T00:00:00.000000000",
          "2022-07-20T00:00:00.000000000",
          "2022-07-21T00:00:00.000000000",
          "2022-07-22T00:00:00.000000000",
          "2022-07-25T00:00:00.000000000",
          "2022-07-26T00:00:00.000000000",
          "2022-07-27T00:00:00.000000000",
          "2022-07-28T00:00:00.000000000",
          "2022-07-29T00:00:00.000000000",
          "2022-08-01T00:00:00.000000000",
          "2022-08-02T00:00:00.000000000",
          "2022-08-03T00:00:00.000000000",
          "2022-08-04T00:00:00.000000000",
          "2022-08-05T00:00:00.000000000",
          "2022-08-08T00:00:00.000000000",
          "2022-08-09T00:00:00.000000000",
          "2022-08-10T00:00:00.000000000",
          "2022-08-11T00:00:00.000000000",
          "2022-08-12T00:00:00.000000000",
          "2022-08-15T00:00:00.000000000",
          "2022-08-16T00:00:00.000000000",
          "2022-08-17T00:00:00.000000000",
          "2022-08-18T00:00:00.000000000",
          "2022-08-19T00:00:00.000000000",
          "2022-08-22T00:00:00.000000000",
          "2022-08-23T00:00:00.000000000",
          "2022-08-24T00:00:00.000000000",
          "2022-08-25T00:00:00.000000000",
          "2022-09-08T00:00:00.000000000",
          "2022-09-09T00:00:00.000000000",
          "2022-09-12T00:00:00.000000000",
          "2022-09-13T00:00:00.000000000",
          "2022-09-14T00:00:00.000000000",
          "2022-09-15T00:00:00.000000000",
          "2022-09-16T00:00:00.000000000",
          "2022-09-19T00:00:00.000000000",
          "2022-09-20T00:00:00.000000000",
          "2022-10-05T00:00:00.000000000",
          "2022-10-06T00:00:00.000000000",
          "2022-10-07T00:00:00.000000000",
          "2022-10-10T00:00:00.000000000",
          "2022-10-11T00:00:00.000000000",
          "2022-10-12T00:00:00.000000000",
          "2022-10-13T00:00:00.000000000",
          "2022-10-14T00:00:00.000000000",
          "2022-10-17T00:00:00.000000000",
          "2022-10-18T00:00:00.000000000",
          "2022-10-19T00:00:00.000000000",
          "2022-10-20T00:00:00.000000000",
          "2022-10-21T00:00:00.000000000",
          "2022-10-24T00:00:00.000000000",
          "2022-10-25T00:00:00.000000000",
          "2022-10-26T00:00:00.000000000",
          "2022-10-27T00:00:00.000000000",
          "2022-10-28T00:00:00.000000000",
          "2022-10-31T00:00:00.000000000",
          "2022-11-01T00:00:00.000000000",
          "2022-11-02T00:00:00.000000000",
          "2022-11-03T00:00:00.000000000",
          "2022-11-04T00:00:00.000000000",
          "2022-11-07T00:00:00.000000000",
          "2022-11-08T00:00:00.000000000",
          "2022-11-09T00:00:00.000000000",
          "2022-11-21T00:00:00.000000000",
          "2022-11-22T00:00:00.000000000",
          "2022-11-30T00:00:00.000000000",
          "2022-12-01T00:00:00.000000000",
          "2022-12-02T00:00:00.000000000",
          "2022-12-05T00:00:00.000000000",
          "2022-12-06T00:00:00.000000000",
          "2022-12-07T00:00:00.000000000",
          "2022-12-08T00:00:00.000000000",
          "2022-12-09T00:00:00.000000000",
          "2022-12-12T00:00:00.000000000",
          "2022-12-13T00:00:00.000000000",
          "2022-12-14T00:00:00.000000000",
          "2022-12-15T00:00:00.000000000",
          "2022-12-16T00:00:00.000000000",
          "2022-12-19T00:00:00.000000000",
          "2022-12-20T00:00:00.000000000",
          "2022-12-21T00:00:00.000000000",
          "2022-12-22T00:00:00.000000000",
          "2022-12-23T00:00:00.000000000",
          "2022-12-27T00:00:00.000000000",
          "2022-12-28T00:00:00.000000000",
          "2022-12-29T00:00:00.000000000",
          "2023-01-06T00:00:00.000000000",
          "2023-01-09T00:00:00.000000000",
          "2023-01-10T00:00:00.000000000",
          "2023-01-11T00:00:00.000000000",
          "2023-01-12T00:00:00.000000000",
          "2023-01-13T00:00:00.000000000",
          "2023-01-17T00:00:00.000000000",
          "2023-01-18T00:00:00.000000000",
          "2023-01-19T00:00:00.000000000",
          "2023-01-20T00:00:00.000000000",
          "2023-01-23T00:00:00.000000000",
          "2023-01-24T00:00:00.000000000",
          "2023-01-25T00:00:00.000000000",
          "2023-01-26T00:00:00.000000000",
          "2023-01-27T00:00:00.000000000",
          "2023-01-30T00:00:00.000000000",
          "2023-01-31T00:00:00.000000000",
          "2023-02-01T00:00:00.000000000",
          "2023-02-02T00:00:00.000000000",
          "2023-02-03T00:00:00.000000000",
          "2023-02-06T00:00:00.000000000",
          "2023-02-07T00:00:00.000000000",
          "2023-02-08T00:00:00.000000000",
          "2023-02-09T00:00:00.000000000",
          "2023-02-10T00:00:00.000000000",
          "2023-02-21T00:00:00.000000000",
          "2023-02-22T00:00:00.000000000",
          "2023-02-23T00:00:00.000000000",
          "2023-02-24T00:00:00.000000000",
          "2023-02-27T00:00:00.000000000",
          "2023-02-28T00:00:00.000000000",
          "2023-03-01T00:00:00.000000000",
          "2023-03-02T00:00:00.000000000",
          "2023-03-03T00:00:00.000000000",
          "2023-03-06T00:00:00.000000000",
          "2023-03-07T00:00:00.000000000",
          "2023-03-08T00:00:00.000000000",
          "2023-03-09T00:00:00.000000000",
          "2023-03-10T00:00:00.000000000",
          "2023-03-13T00:00:00.000000000",
          "2023-03-14T00:00:00.000000000",
          "2023-03-15T00:00:00.000000000",
          "2023-03-16T00:00:00.000000000",
          "2023-03-17T00:00:00.000000000",
          "2023-03-20T00:00:00.000000000",
          "2023-03-21T00:00:00.000000000",
          "2023-03-22T00:00:00.000000000",
          "2023-03-23T00:00:00.000000000",
          "2023-03-24T00:00:00.000000000",
          "2023-03-27T00:00:00.000000000",
          "2023-03-28T00:00:00.000000000",
          "2023-03-29T00:00:00.000000000",
          "2023-03-30T00:00:00.000000000",
          "2023-03-31T00:00:00.000000000",
          "2023-04-03T00:00:00.000000000",
          "2023-04-04T00:00:00.000000000",
          "2023-04-05T00:00:00.000000000",
          "2023-04-06T00:00:00.000000000",
          "2023-04-10T00:00:00.000000000",
          "2023-04-11T00:00:00.000000000",
          "2023-04-27T00:00:00.000000000",
          "2023-04-28T00:00:00.000000000",
          "2023-05-01T00:00:00.000000000",
          "2023-05-02T00:00:00.000000000",
          "2023-05-03T00:00:00.000000000",
          "2023-05-04T00:00:00.000000000",
          "2023-05-05T00:00:00.000000000",
          "2023-05-08T00:00:00.000000000",
          "2023-05-09T00:00:00.000000000",
          "2023-06-02T00:00:00.000000000",
          "2023-06-05T00:00:00.000000000",
          "2023-06-06T00:00:00.000000000",
          "2023-06-07T00:00:00.000000000",
          "2023-06-08T00:00:00.000000000",
          "2023-06-09T00:00:00.000000000",
          "2023-06-12T00:00:00.000000000",
          "2023-06-13T00:00:00.000000000",
          "2023-06-14T00:00:00.000000000",
          "2023-06-15T00:00:00.000000000",
          "2023-06-16T00:00:00.000000000",
          "2023-06-20T00:00:00.000000000",
          "2023-06-21T00:00:00.000000000",
          "2023-06-22T00:00:00.000000000",
          "2023-07-03T00:00:00.000000000",
          "2023-07-05T00:00:00.000000000",
          "2023-07-06T00:00:00.000000000",
          "2023-07-07T00:00:00.000000000",
          "2023-07-10T00:00:00.000000000",
          "2023-07-17T00:00:00.000000000",
          "2023-07-18T00:00:00.000000000",
          "2023-07-19T00:00:00.000000000",
          "2023-07-20T00:00:00.000000000",
          "2023-07-21T00:00:00.000000000",
          "2023-07-24T00:00:00.000000000",
          "2023-08-04T00:00:00.000000000",
          "2023-08-07T00:00:00.000000000",
          "2023-08-08T00:00:00.000000000",
          "2023-08-09T00:00:00.000000000",
          "2023-08-10T00:00:00.000000000",
          "2023-08-11T00:00:00.000000000",
          "2023-08-14T00:00:00.000000000",
          "2023-08-15T00:00:00.000000000",
          "2023-08-16T00:00:00.000000000",
          "2023-08-17T00:00:00.000000000",
          "2023-08-18T00:00:00.000000000",
          "2023-08-21T00:00:00.000000000",
          "2023-08-22T00:00:00.000000000",
          "2023-08-23T00:00:00.000000000",
          "2023-08-24T00:00:00.000000000",
          "2023-08-25T00:00:00.000000000",
          "2023-08-28T00:00:00.000000000",
          "2023-08-29T00:00:00.000000000",
          "2023-08-30T00:00:00.000000000",
          "2023-08-31T00:00:00.000000000",
          "2023-09-01T00:00:00.000000000",
          "2023-09-05T00:00:00.000000000",
          "2023-09-06T00:00:00.000000000",
          "2023-09-07T00:00:00.000000000",
          "2023-09-21T00:00:00.000000000",
          "2023-09-22T00:00:00.000000000",
          "2023-09-25T00:00:00.000000000",
          "2023-09-26T00:00:00.000000000",
          "2023-09-27T00:00:00.000000000",
          "2023-09-28T00:00:00.000000000",
          "2023-09-29T00:00:00.000000000",
          "2023-10-02T00:00:00.000000000",
          "2023-10-03T00:00:00.000000000",
          "2023-10-11T00:00:00.000000000",
          "2023-10-12T00:00:00.000000000",
          "2023-10-13T00:00:00.000000000",
          "2023-10-16T00:00:00.000000000",
          "2023-10-17T00:00:00.000000000",
          "2023-10-18T00:00:00.000000000",
          "2023-10-19T00:00:00.000000000",
          "2023-10-20T00:00:00.000000000",
          "2023-10-23T00:00:00.000000000",
          "2023-10-24T00:00:00.000000000",
          "2023-10-25T00:00:00.000000000",
          "2023-10-26T00:00:00.000000000",
          "2023-10-27T00:00:00.000000000",
          "2023-10-30T00:00:00.000000000",
          "2023-10-31T00:00:00.000000000",
          "2023-11-01T00:00:00.000000000",
          "2023-11-02T00:00:00.000000000",
          "2023-11-03T00:00:00.000000000",
          "2023-11-13T00:00:00.000000000",
          "2023-11-14T00:00:00.000000000",
          "2023-11-15T00:00:00.000000000",
          "2023-11-16T00:00:00.000000000",
          "2023-11-17T00:00:00.000000000",
          "2023-11-20T00:00:00.000000000",
          "2023-11-21T00:00:00.000000000",
          "2023-11-22T00:00:00.000000000",
          "2023-11-24T00:00:00.000000000",
          "2023-11-27T00:00:00.000000000",
          "2023-12-13T00:00:00.000000000",
          "2023-12-14T00:00:00.000000000",
          "2023-12-15T00:00:00.000000000",
          "2023-12-18T00:00:00.000000000",
          "2023-12-19T00:00:00.000000000",
          "2023-12-20T00:00:00.000000000",
          "2023-12-21T00:00:00.000000000",
          "2023-12-22T00:00:00.000000000",
          "2023-12-26T00:00:00.000000000",
          "2024-01-23T00:00:00.000000000",
          "2024-01-24T00:00:00.000000000",
          "2024-01-25T00:00:00.000000000",
          "2024-01-26T00:00:00.000000000",
          "2024-01-29T00:00:00.000000000",
          "2024-01-30T00:00:00.000000000",
          "2024-01-31T00:00:00.000000000",
          "2024-02-01T00:00:00.000000000",
          "2024-02-02T00:00:00.000000000",
          "2024-02-05T00:00:00.000000000",
          "2024-02-06T00:00:00.000000000",
          "2024-02-07T00:00:00.000000000",
          "2024-02-08T00:00:00.000000000",
          "2024-02-09T00:00:00.000000000",
          "2024-02-12T00:00:00.000000000",
          "2024-02-13T00:00:00.000000000",
          "2024-02-14T00:00:00.000000000",
          "2024-02-22T00:00:00.000000000",
          "2024-02-23T00:00:00.000000000",
          "2024-02-26T00:00:00.000000000",
          "2024-02-27T00:00:00.000000000",
          "2024-02-28T00:00:00.000000000",
          "2024-02-29T00:00:00.000000000",
          "2024-03-01T00:00:00.000000000",
          "2024-03-04T00:00:00.000000000",
          "2024-03-05T00:00:00.000000000",
          "2024-03-21T00:00:00.000000000",
          "2024-03-22T00:00:00.000000000",
          "2024-03-25T00:00:00.000000000",
          "2024-03-26T00:00:00.000000000",
          "2024-03-27T00:00:00.000000000",
          "2024-03-28T00:00:00.000000000",
          "2024-04-12T00:00:00.000000000",
          "2024-04-15T00:00:00.000000000",
          "2024-04-16T00:00:00.000000000",
          "2024-04-17T00:00:00.000000000",
          "2024-04-18T00:00:00.000000000",
          "2024-04-19T00:00:00.000000000",
          "2024-04-22T00:00:00.000000000",
          "2024-04-23T00:00:00.000000000",
          "2024-04-24T00:00:00.000000000",
          "2024-04-25T00:00:00.000000000",
          "2024-04-26T00:00:00.000000000",
          "2024-04-29T00:00:00.000000000",
          "2024-04-30T00:00:00.000000000",
          "2024-05-01T00:00:00.000000000",
          "2024-05-02T00:00:00.000000000",
          "2024-05-03T00:00:00.000000000",
          "2024-05-06T00:00:00.000000000",
          "2024-05-07T00:00:00.000000000",
          "2024-05-08T00:00:00.000000000",
          "2024-05-09T00:00:00.000000000",
          "2024-05-10T00:00:00.000000000",
          "2024-05-13T00:00:00.000000000",
          "2024-05-14T00:00:00.000000000",
          "2024-05-15T00:00:00.000000000",
          "2024-05-16T00:00:00.000000000",
          "2024-05-17T00:00:00.000000000",
          "2024-05-20T00:00:00.000000000",
          "2024-05-21T00:00:00.000000000",
          "2024-05-22T00:00:00.000000000",
          "2024-05-23T00:00:00.000000000",
          "2024-06-07T00:00:00.000000000",
          "2024-06-10T00:00:00.000000000",
          "2024-06-11T00:00:00.000000000",
          "2024-06-12T00:00:00.000000000",
          "2024-06-13T00:00:00.000000000",
          "2024-06-14T00:00:00.000000000",
          "2024-06-17T00:00:00.000000000",
          "2024-06-18T00:00:00.000000000",
          "2024-06-20T00:00:00.000000000",
          "2024-06-21T00:00:00.000000000",
          "2024-06-24T00:00:00.000000000",
          "2024-07-08T00:00:00.000000000",
          "2024-07-09T00:00:00.000000000",
          "2024-07-10T00:00:00.000000000",
          "2024-07-11T00:00:00.000000000",
          "2024-07-12T00:00:00.000000000",
          "2024-07-15T00:00:00.000000000",
          "2024-07-16T00:00:00.000000000",
          "2024-07-17T00:00:00.000000000",
          "2024-07-18T00:00:00.000000000",
          "2024-07-19T00:00:00.000000000",
          "2024-07-22T00:00:00.000000000",
          "2024-07-23T00:00:00.000000000",
          "2024-07-29T00:00:00.000000000",
          "2024-07-30T00:00:00.000000000",
          "2024-07-31T00:00:00.000000000"
         ],
         "xaxis": "x",
         "y": {
          "bdata": "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",
          "dtype": "f8"
         },
         "yaxis": "y"
        },
        {
         "marker": {
          "color": "rgb(141,160,203)",
          "size": 6
         },
         "mode": "markers",
         "name": "Regime 2: Bear",
         "showlegend": true,
         "type": "scatter",
         "x": [
          "2018-02-02T00:00:00.000000000",
          "2018-02-05T00:00:00.000000000",
          "2018-02-06T00:00:00.000000000",
          "2018-02-07T00:00:00.000000000",
          "2018-02-08T00:00:00.000000000",
          "2018-02-09T00:00:00.000000000",
          "2018-02-12T00:00:00.000000000",
          "2018-03-22T00:00:00.000000000",
          "2018-03-23T00:00:00.000000000",
          "2018-03-26T00:00:00.000000000",
          "2018-10-10T00:00:00.000000000",
          "2018-10-11T00:00:00.000000000",
          "2018-10-12T00:00:00.000000000",
          "2018-10-15T00:00:00.000000000",
          "2018-12-21T00:00:00.000000000",
          "2018-12-24T00:00:00.000000000",
          "2018-12-26T00:00:00.000000000",
          "2018-12-27T00:00:00.000000000",
          "2019-08-05T00:00:00.000000000",
          "2019-08-06T00:00:00.000000000",
          "2020-02-24T00:00:00.000000000",
          "2020-02-25T00:00:00.000000000",
          "2020-02-26T00:00:00.000000000",
          "2020-02-27T00:00:00.000000000",
          "2020-02-28T00:00:00.000000000",
          "2020-03-02T00:00:00.000000000",
          "2020-03-03T00:00:00.000000000",
          "2020-03-04T00:00:00.000000000",
          "2020-03-05T00:00:00.000000000",
          "2020-03-06T00:00:00.000000000",
          "2020-03-09T00:00:00.000000000",
          "2020-03-10T00:00:00.000000000",
          "2020-03-11T00:00:00.000000000",
          "2020-03-12T00:00:00.000000000",
          "2020-03-13T00:00:00.000000000",
          "2020-03-16T00:00:00.000000000",
          "2020-03-17T00:00:00.000000000",
          "2020-03-18T00:00:00.000000000",
          "2020-03-19T00:00:00.000000000",
          "2020-03-20T00:00:00.000000000",
          "2020-03-23T00:00:00.000000000",
          "2020-03-24T00:00:00.000000000",
          "2020-03-25T00:00:00.000000000",
          "2020-03-26T00:00:00.000000000",
          "2020-03-27T00:00:00.000000000",
          "2020-03-30T00:00:00.000000000",
          "2020-03-31T00:00:00.000000000",
          "2020-04-01T00:00:00.000000000",
          "2020-04-02T00:00:00.000000000",
          "2020-04-03T00:00:00.000000000",
          "2020-04-06T00:00:00.000000000",
          "2020-04-07T00:00:00.000000000",
          "2020-04-08T00:00:00.000000000",
          "2020-04-09T00:00:00.000000000",
          "2020-04-13T00:00:00.000000000",
          "2020-04-14T00:00:00.000000000",
          "2020-04-15T00:00:00.000000000",
          "2020-04-16T00:00:00.000000000",
          "2020-04-17T00:00:00.000000000",
          "2020-06-11T00:00:00.000000000",
          "2020-06-12T00:00:00.000000000",
          "2020-06-15T00:00:00.000000000",
          "2020-06-16T00:00:00.000000000",
          "2020-11-06T00:00:00.000000000",
          "2020-11-09T00:00:00.000000000",
          "2020-11-10T00:00:00.000000000",
          "2020-11-11T00:00:00.000000000",
          "2020-11-12T00:00:00.000000000",
          "2020-11-13T00:00:00.000000000",
          "2021-01-27T00:00:00.000000000",
          "2021-01-28T00:00:00.000000000",
          "2021-11-26T00:00:00.000000000",
          "2021-11-29T00:00:00.000000000",
          "2021-11-30T00:00:00.000000000",
          "2021-12-01T00:00:00.000000000",
          "2021-12-02T00:00:00.000000000",
          "2021-12-03T00:00:00.000000000",
          "2022-01-20T00:00:00.000000000",
          "2022-01-21T00:00:00.000000000",
          "2022-01-24T00:00:00.000000000",
          "2022-01-25T00:00:00.000000000",
          "2022-01-26T00:00:00.000000000",
          "2022-01-27T00:00:00.000000000",
          "2022-01-28T00:00:00.000000000",
          "2022-01-31T00:00:00.000000000",
          "2022-02-01T00:00:00.000000000",
          "2022-02-02T00:00:00.000000000",
          "2022-02-03T00:00:00.000000000",
          "2022-02-04T00:00:00.000000000",
          "2022-02-07T00:00:00.000000000",
          "2022-02-22T00:00:00.000000000",
          "2022-02-23T00:00:00.000000000",
          "2022-02-24T00:00:00.000000000",
          "2022-03-18T00:00:00.000000000",
          "2022-03-21T00:00:00.000000000",
          "2022-03-22T00:00:00.000000000",
          "2022-03-23T00:00:00.000000000",
          "2022-03-24T00:00:00.000000000",
          "2022-03-25T00:00:00.000000000",
          "2022-03-28T00:00:00.000000000",
          "2022-04-26T00:00:00.000000000",
          "2022-04-27T00:00:00.000000000",
          "2022-04-28T00:00:00.000000000",
          "2022-04-29T00:00:00.000000000",
          "2022-05-02T00:00:00.000000000",
          "2022-05-03T00:00:00.000000000",
          "2022-05-04T00:00:00.000000000",
          "2022-05-05T00:00:00.000000000",
          "2022-05-06T00:00:00.000000000",
          "2022-05-09T00:00:00.000000000",
          "2022-05-10T00:00:00.000000000",
          "2022-05-11T00:00:00.000000000",
          "2022-05-12T00:00:00.000000000",
          "2022-05-13T00:00:00.000000000",
          "2022-05-16T00:00:00.000000000",
          "2022-05-17T00:00:00.000000000",
          "2022-05-18T00:00:00.000000000",
          "2022-05-27T00:00:00.000000000",
          "2022-05-31T00:00:00.000000000",
          "2022-06-01T00:00:00.000000000",
          "2022-06-02T00:00:00.000000000",
          "2022-06-03T00:00:00.000000000",
          "2022-06-10T00:00:00.000000000",
          "2022-06-13T00:00:00.000000000",
          "2022-06-14T00:00:00.000000000",
          "2022-06-15T00:00:00.000000000",
          "2022-06-16T00:00:00.000000000",
          "2022-06-17T00:00:00.000000000",
          "2022-06-21T00:00:00.000000000",
          "2022-06-22T00:00:00.000000000",
          "2022-06-23T00:00:00.000000000",
          "2022-06-24T00:00:00.000000000",
          "2022-06-27T00:00:00.000000000",
          "2022-06-28T00:00:00.000000000",
          "2022-08-26T00:00:00.000000000",
          "2022-08-29T00:00:00.000000000",
          "2022-08-30T00:00:00.000000000",
          "2022-08-31T00:00:00.000000000",
          "2022-09-01T00:00:00.000000000",
          "2022-09-02T00:00:00.000000000",
          "2022-09-06T00:00:00.000000000",
          "2022-09-07T00:00:00.000000000",
          "2022-09-21T00:00:00.000000000",
          "2022-09-22T00:00:00.000000000",
          "2022-09-23T00:00:00.000000000",
          "2022-09-26T00:00:00.000000000",
          "2022-09-27T00:00:00.000000000",
          "2022-09-28T00:00:00.000000000",
          "2022-09-29T00:00:00.000000000",
          "2022-09-30T00:00:00.000000000",
          "2022-10-03T00:00:00.000000000",
          "2022-10-04T00:00:00.000000000",
          "2022-11-10T00:00:00.000000000",
          "2022-11-11T00:00:00.000000000",
          "2022-11-14T00:00:00.000000000",
          "2022-11-15T00:00:00.000000000",
          "2022-11-16T00:00:00.000000000",
          "2022-11-17T00:00:00.000000000",
          "2022-11-18T00:00:00.000000000",
          "2023-11-06T00:00:00.000000000",
          "2023-11-07T00:00:00.000000000",
          "2023-11-08T00:00:00.000000000",
          "2023-11-09T00:00:00.000000000",
          "2023-11-10T00:00:00.000000000",
          "2024-07-24T00:00:00.000000000",
          "2024-07-25T00:00:00.000000000",
          "2024-07-26T00:00:00.000000000"
         ],
         "xaxis": "x",
         "y": {
          "bdata": "AAAAIBKnbkAAAAAA415tQAAAAGAG821AAAAAoG7JbUAAAAAgaatsQAAAAMCoGW1AAAAA4A2HbUAAAAAgkHVtQAAAACDR1GxAAAAA4L+ebUAAAAAg9F9vQAAAAOAJr25AAAAAACIcb0AAAABgZe9uQAAAAOBaS2tAAAAAQLqSakAAAACgb+prQAAAAABNIWxAAAAAANI9cEAAAACAH3hwQAAAAIBuoHJAAAAAIPAPckAAAAAA7v5xQAAAAEAGMHFAAAAAgIkdcUAAAABgSdtxQAAAAGBmWHFAAAAAoAoTckAAAADAO3lxQAAAAOBIL3FAAAAAQHOvb0AAAACAlqlwQAAAAIBLs29AAAAAoNiqbEAAAACANx5vQAAAAOCFtmtAAAAAgJI1bUAAAACg9bprQAAAAIALymtAAAAAoHiXakAAAADgaulpQAAAAABtQmxAAAAAILqubEAAAABAd1tuQAAAACD9c21AAAAAANtobkAAAACg0fRtQAAAAECvm2xAAAAAgK5EbUAAAADgYdhsQAAAAIBcyG5AAAAAgGXQbkAAAABgMtlvQAAAAECiKnBAAAAAoNgEcEAAAAAAy31wQAAAAEAWJHBAAAAA4AU4cEAAAADAMKhwQAAAAOADeHFAAAAA4JGtcUAAAADA0ddxQAAAAGC9L3JAAAAAwAKFdEAAAADgBMd0QAAAAOA3v3RAAAAAYKzmdEAAAAAgxLJ0QAAAAAAg/HRAAAAAAL8IdkAAAAAAQjl2QAAAAKBXRntAAAAA4P2be0AAAAAgdxJ7QAAAAMB8xXpAAAAAQHUue0AAAADA6PF6QAAAAKBQpHpAAAAA4G0eekAAAADg0jp6QAAAAODX6HlAAAAAwDPYeUAAAABgiLd5QAAAAGAJW3pAAAAA4I7UekAAAADA9wJ7QAAAAAAkRntAAAAAoAaiekAAAACgFcJ6QAAAAAAarHpAAAAAoAmeeUAAAADgtCl5QAAAAACminlAAAAAQFqXekAAAADgXJV6QAAAAOD+5HpAAAAA4FOMekAAAAAAx/J6QAAAAAB4FHtAAAAAwMdFe0AAAADgIeR4QAAAAGAM9nhAAAAAIHWXeUAAAAAgWKV4QAAAAKBSy3hAAAAAgGvoeEAAAACAmap5QAAAAAAQwXhAAAAAoDybeEAAAABgjdF3QAAAAGCk33dAAAAAAI1+d0AAAACgRXh3QAAAAKDqB3hAAAAAYPTud0AAAABg/Wx4QAAAAMDrcHdAAAAAoETXeEAAAAAglrN4QAAAAABwgHhAAAAAIOP3eEAAAACg/I54QAAAAOBfUXdAAAAAgLpudkAAAACAbF12QAAAACAMr3ZAAAAAYNvudUAAAADg9fp1QAAAAKCciHZAAAAAQCd+dkAAAABAmbZ2QAAAAGB3b3dAAAAA4IxYd0AAAADAbt52QAAAAOC0WXhAAAAAgHwweEAAAADggex3QAAAAMDnvXdAAAAAIPrQd0AAAAAAsJB3QAAAAODseXdAAAAAwOTld0AAAAAgI8R2QAAAAMAuk3ZAAAAAQFoydkAAAABgI/p1QAAAAODG63VAAAAAQDJadkAAAABAquJ1QAAAAEAHjHVAAAAAgKgddkAAAAAgGM12QAAAAEBOz3dAAAAAYEwKeEAAAABA8tV3QAAAAED9CXhAAAAAAAvbd0AAAAAgW8h3QAAAAMD/43dAAAAAoGayekAAAAAA2sV6QAAAAEDfynpAAAAAgGGVekAAAADAk/96QAAAAKA3wYBAAAAAYN6qgEAAAAAgqNqAQA==",
          "dtype": "f8"
         },
         "yaxis": "y"
        },
        {
         "marker": {
          "color": "rgb(102,194,165)",
          "size": 6
         },
         "mode": "markers",
         "name": "Regime 0: Bull",
         "showlegend": false,
         "type": "scatter",
         "x": [
          "2018-01-02T00:00:00.000000000",
          "2018-01-03T00:00:00.000000000",
          "2018-01-04T00:00:00.000000000",
          "2018-01-05T00:00:00.000000000",
          "2018-01-08T00:00:00.000000000",
          "2018-01-09T00:00:00.000000000",
          "2018-01-10T00:00:00.000000000",
          "2018-01-11T00:00:00.000000000",
          "2018-01-12T00:00:00.000000000",
          "2018-01-16T00:00:00.000000000",
          "2018-01-17T00:00:00.000000000",
          "2018-01-18T00:00:00.000000000",
          "2018-01-19T00:00:00.000000000",
          "2018-01-22T00:00:00.000000000",
          "2018-01-23T00:00:00.000000000",
          "2018-01-24T00:00:00.000000000",
          "2018-01-25T00:00:00.000000000",
          "2018-01-26T00:00:00.000000000",
          "2018-01-29T00:00:00.000000000",
          "2018-01-30T00:00:00.000000000",
          "2018-01-31T00:00:00.000000000",
          "2018-02-01T00:00:00.000000000",
          "2018-02-23T00:00:00.000000000",
          "2018-02-26T00:00:00.000000000",
          "2018-02-27T00:00:00.000000000",
          "2018-02-28T00:00:00.000000000",
          "2018-03-01T00:00:00.000000000",
          "2018-03-02T00:00:00.000000000",
          "2018-03-05T00:00:00.000000000",
          "2018-03-06T00:00:00.000000000",
          "2018-03-07T00:00:00.000000000",
          "2018-03-08T00:00:00.000000000",
          "2018-03-09T00:00:00.000000000",
          "2018-03-12T00:00:00.000000000",
          "2018-03-13T00:00:00.000000000",
          "2018-03-14T00:00:00.000000000",
          "2018-03-15T00:00:00.000000000",
          "2018-03-16T00:00:00.000000000",
          "2018-03-19T00:00:00.000000000",
          "2018-03-20T00:00:00.000000000",
          "2018-03-21T00:00:00.000000000",
          "2018-04-04T00:00:00.000000000",
          "2018-04-05T00:00:00.000000000",
          "2018-04-06T00:00:00.000000000",
          "2018-04-09T00:00:00.000000000",
          "2018-04-10T00:00:00.000000000",
          "2018-04-11T00:00:00.000000000",
          "2018-04-12T00:00:00.000000000",
          "2018-04-13T00:00:00.000000000",
          "2018-04-16T00:00:00.000000000",
          "2018-04-17T00:00:00.000000000",
          "2018-04-18T00:00:00.000000000",
          "2018-04-19T00:00:00.000000000",
          "2018-04-20T00:00:00.000000000",
          "2018-04-23T00:00:00.000000000",
          "2018-04-24T00:00:00.000000000",
          "2018-04-25T00:00:00.000000000",
          "2018-04-26T00:00:00.000000000",
          "2018-04-27T00:00:00.000000000",
          "2018-04-30T00:00:00.000000000",
          "2018-05-01T00:00:00.000000000",
          "2018-05-02T00:00:00.000000000",
          "2018-05-03T00:00:00.000000000",
          "2018-05-04T00:00:00.000000000",
          "2018-05-07T00:00:00.000000000",
          "2018-05-08T00:00:00.000000000",
          "2018-05-09T00:00:00.000000000",
          "2018-05-10T00:00:00.000000000",
          "2018-05-11T00:00:00.000000000",
          "2018-05-14T00:00:00.000000000",
          "2018-05-15T00:00:00.000000000",
          "2018-05-16T00:00:00.000000000",
          "2018-05-17T00:00:00.000000000",
          "2018-05-18T00:00:00.000000000",
          "2018-05-21T00:00:00.000000000",
          "2018-05-22T00:00:00.000000000",
          "2018-05-23T00:00:00.000000000",
          "2018-05-24T00:00:00.000000000",
          "2018-05-25T00:00:00.000000000",
          "2018-05-29T00:00:00.000000000",
          "2018-05-30T00:00:00.000000000",
          "2018-05-31T00:00:00.000000000",
          "2018-06-01T00:00:00.000000000",
          "2018-06-04T00:00:00.000000000",
          "2018-06-05T00:00:00.000000000",
          "2018-06-06T00:00:00.000000000",
          "2018-06-07T00:00:00.000000000",
          "2018-06-08T00:00:00.000000000",
          "2018-06-11T00:00:00.000000000",
          "2018-06-12T00:00:00.000000000",
          "2018-06-13T00:00:00.000000000",
          "2018-06-14T00:00:00.000000000",
          "2018-06-15T00:00:00.000000000",
          "2018-06-18T00:00:00.000000000",
          "2018-06-19T00:00:00.000000000",
          "2018-06-20T00:00:00.000000000",
          "2018-06-21T00:00:00.000000000",
          "2018-06-22T00:00:00.000000000",
          "2018-06-25T00:00:00.000000000",
          "2018-06-26T00:00:00.000000000",
          "2018-06-27T00:00:00.000000000",
          "2018-06-28T00:00:00.000000000",
          "2018-06-29T00:00:00.000000000",
          "2018-07-02T00:00:00.000000000",
          "2018-07-03T00:00:00.000000000",
          "2018-07-05T00:00:00.000000000",
          "2018-07-06T00:00:00.000000000",
          "2018-07-09T00:00:00.000000000",
          "2018-07-10T00:00:00.000000000",
          "2018-07-11T00:00:00.000000000",
          "2018-07-12T00:00:00.000000000",
          "2018-07-13T00:00:00.000000000",
          "2018-07-16T00:00:00.000000000",
          "2018-07-17T00:00:00.000000000",
          "2018-07-18T00:00:00.000000000",
          "2018-07-19T00:00:00.000000000",
          "2018-07-20T00:00:00.000000000",
          "2018-07-23T00:00:00.000000000",
          "2018-07-24T00:00:00.000000000",
          "2018-07-25T00:00:00.000000000",
          "2018-07-26T00:00:00.000000000",
          "2018-07-27T00:00:00.000000000",
          "2018-07-30T00:00:00.000000000",
          "2018-07-31T00:00:00.000000000",
          "2018-08-01T00:00:00.000000000",
          "2018-08-02T00:00:00.000000000",
          "2018-08-03T00:00:00.000000000",
          "2018-08-06T00:00:00.000000000",
          "2018-08-07T00:00:00.000000000",
          "2018-08-08T00:00:00.000000000",
          "2018-08-09T00:00:00.000000000",
          "2018-08-10T00:00:00.000000000",
          "2018-08-13T00:00:00.000000000",
          "2018-08-14T00:00:00.000000000",
          "2018-08-15T00:00:00.000000000",
          "2018-08-16T00:00:00.000000000",
          "2018-08-17T00:00:00.000000000",
          "2018-08-20T00:00:00.000000000",
          "2018-08-21T00:00:00.000000000",
          "2018-08-22T00:00:00.000000000",
          "2018-08-23T00:00:00.000000000",
          "2018-08-24T00:00:00.000000000",
          "2018-08-27T00:00:00.000000000",
          "2018-08-28T00:00:00.000000000",
          "2018-08-29T00:00:00.000000000",
          "2018-08-30T00:00:00.000000000",
          "2018-08-31T00:00:00.000000000",
          "2018-09-04T00:00:00.000000000",
          "2018-09-05T00:00:00.000000000",
          "2018-09-06T00:00:00.000000000",
          "2018-09-07T00:00:00.000000000",
          "2018-09-10T00:00:00.000000000",
          "2018-09-11T00:00:00.000000000",
          "2018-09-12T00:00:00.000000000",
          "2018-09-13T00:00:00.000000000",
          "2018-09-14T00:00:00.000000000",
          "2018-09-17T00:00:00.000000000",
          "2018-09-18T00:00:00.000000000",
          "2018-09-19T00:00:00.000000000",
          "2018-09-20T00:00:00.000000000",
          "2018-09-21T00:00:00.000000000",
          "2018-09-24T00:00:00.000000000",
          "2018-09-25T00:00:00.000000000",
          "2018-09-26T00:00:00.000000000",
          "2018-09-27T00:00:00.000000000",
          "2018-09-28T00:00:00.000000000",
          "2018-10-01T00:00:00.000000000",
          "2018-10-02T00:00:00.000000000",
          "2018-10-03T00:00:00.000000000",
          "2018-10-04T00:00:00.000000000",
          "2018-10-05T00:00:00.000000000",
          "2018-10-08T00:00:00.000000000",
          "2018-10-09T00:00:00.000000000",
          "2019-01-17T00:00:00.000000000",
          "2019-01-18T00:00:00.000000000",
          "2019-01-22T00:00:00.000000000",
          "2019-01-23T00:00:00.000000000",
          "2019-01-24T00:00:00.000000000",
          "2019-01-25T00:00:00.000000000",
          "2019-01-28T00:00:00.000000000",
          "2019-01-29T00:00:00.000000000",
          "2019-01-30T00:00:00.000000000",
          "2019-01-31T00:00:00.000000000",
          "2019-02-01T00:00:00.000000000",
          "2019-02-04T00:00:00.000000000",
          "2019-02-05T00:00:00.000000000",
          "2019-02-06T00:00:00.000000000",
          "2019-02-07T00:00:00.000000000",
          "2019-02-08T00:00:00.000000000",
          "2019-02-11T00:00:00.000000000",
          "2019-02-12T00:00:00.000000000",
          "2019-02-13T00:00:00.000000000",
          "2019-02-14T00:00:00.000000000",
          "2019-02-15T00:00:00.000000000",
          "2019-02-19T00:00:00.000000000",
          "2019-02-20T00:00:00.000000000",
          "2019-02-21T00:00:00.000000000",
          "2019-02-22T00:00:00.000000000",
          "2019-02-25T00:00:00.000000000",
          "2019-02-26T00:00:00.000000000",
          "2019-02-27T00:00:00.000000000",
          "2019-02-28T00:00:00.000000000",
          "2019-03-01T00:00:00.000000000",
          "2019-03-04T00:00:00.000000000",
          "2019-03-05T00:00:00.000000000",
          "2019-03-06T00:00:00.000000000",
          "2019-03-07T00:00:00.000000000",
          "2019-03-08T00:00:00.000000000",
          "2019-03-11T00:00:00.000000000",
          "2019-03-12T00:00:00.000000000",
          "2019-03-13T00:00:00.000000000",
          "2019-03-14T00:00:00.000000000",
          "2019-03-15T00:00:00.000000000",
          "2019-03-18T00:00:00.000000000",
          "2019-03-19T00:00:00.000000000",
          "2019-03-20T00:00:00.000000000",
          "2019-03-21T00:00:00.000000000",
          "2019-03-22T00:00:00.000000000",
          "2019-03-25T00:00:00.000000000",
          "2019-03-26T00:00:00.000000000",
          "2019-03-27T00:00:00.000000000",
          "2019-03-28T00:00:00.000000000",
          "2019-03-29T00:00:00.000000000",
          "2019-04-01T00:00:00.000000000",
          "2019-04-02T00:00:00.000000000",
          "2019-04-03T00:00:00.000000000",
          "2019-04-04T00:00:00.000000000",
          "2019-04-05T00:00:00.000000000",
          "2019-04-08T00:00:00.000000000",
          "2019-04-09T00:00:00.000000000",
          "2019-04-10T00:00:00.000000000",
          "2019-04-11T00:00:00.000000000",
          "2019-04-12T00:00:00.000000000",
          "2019-04-15T00:00:00.000000000",
          "2019-04-16T00:00:00.000000000",
          "2019-04-17T00:00:00.000000000",
          "2019-04-18T00:00:00.000000000",
          "2019-04-22T00:00:00.000000000",
          "2019-04-23T00:00:00.000000000",
          "2019-04-24T00:00:00.000000000",
          "2019-04-25T00:00:00.000000000",
          "2019-04-26T00:00:00.000000000",
          "2019-04-29T00:00:00.000000000",
          "2019-04-30T00:00:00.000000000",
          "2019-05-01T00:00:00.000000000",
          "2019-05-02T00:00:00.000000000",
          "2019-05-03T00:00:00.000000000",
          "2019-05-06T00:00:00.000000000",
          "2019-05-07T00:00:00.000000000",
          "2019-05-08T00:00:00.000000000",
          "2019-05-09T00:00:00.000000000",
          "2019-05-10T00:00:00.000000000",
          "2019-05-15T00:00:00.000000000",
          "2019-05-16T00:00:00.000000000",
          "2019-05-17T00:00:00.000000000",
          "2019-05-20T00:00:00.000000000",
          "2019-05-21T00:00:00.000000000",
          "2019-05-22T00:00:00.000000000",
          "2019-05-23T00:00:00.000000000",
          "2019-05-24T00:00:00.000000000",
          "2019-05-28T00:00:00.000000000",
          "2019-05-29T00:00:00.000000000",
          "2019-05-30T00:00:00.000000000",
          "2019-05-31T00:00:00.000000000",
          "2019-06-03T00:00:00.000000000",
          "2019-06-04T00:00:00.000000000",
          "2019-06-05T00:00:00.000000000",
          "2019-06-06T00:00:00.000000000",
          "2019-06-17T00:00:00.000000000",
          "2019-06-18T00:00:00.000000000",
          "2019-06-19T00:00:00.000000000",
          "2019-06-20T00:00:00.000000000",
          "2019-06-21T00:00:00.000000000",
          "2019-06-24T00:00:00.000000000",
          "2019-06-25T00:00:00.000000000",
          "2019-06-26T00:00:00.000000000",
          "2019-06-27T00:00:00.000000000",
          "2019-06-28T00:00:00.000000000",
          "2019-07-01T00:00:00.000000000",
          "2019-07-02T00:00:00.000000000",
          "2019-07-03T00:00:00.000000000",
          "2019-07-05T00:00:00.000000000",
          "2019-07-08T00:00:00.000000000",
          "2019-07-09T00:00:00.000000000",
          "2019-07-10T00:00:00.000000000",
          "2019-07-11T00:00:00.000000000",
          "2019-07-12T00:00:00.000000000",
          "2019-07-15T00:00:00.000000000",
          "2019-07-16T00:00:00.000000000",
          "2019-07-17T00:00:00.000000000",
          "2019-07-18T00:00:00.000000000",
          "2019-07-19T00:00:00.000000000",
          "2019-07-22T00:00:00.000000000",
          "2019-07-23T00:00:00.000000000",
          "2019-07-24T00:00:00.000000000",
          "2019-07-25T00:00:00.000000000",
          "2019-07-26T00:00:00.000000000",
          "2019-07-29T00:00:00.000000000",
          "2019-07-30T00:00:00.000000000",
          "2019-07-31T00:00:00.000000000",
          "2019-08-01T00:00:00.000000000",
          "2019-08-02T00:00:00.000000000",
          "2019-08-15T00:00:00.000000000",
          "2019-08-16T00:00:00.000000000",
          "2019-08-19T00:00:00.000000000",
          "2019-08-20T00:00:00.000000000",
          "2019-08-21T00:00:00.000000000",
          "2019-08-22T00:00:00.000000000",
          "2019-08-23T00:00:00.000000000",
          "2019-08-26T00:00:00.000000000",
          "2019-08-27T00:00:00.000000000",
          "2019-08-28T00:00:00.000000000",
          "2019-08-29T00:00:00.000000000",
          "2019-08-30T00:00:00.000000000",
          "2019-09-03T00:00:00.000000000",
          "2019-09-04T00:00:00.000000000",
          "2019-09-05T00:00:00.000000000",
          "2019-09-06T00:00:00.000000000",
          "2019-09-09T00:00:00.000000000",
          "2019-09-10T00:00:00.000000000",
          "2019-09-11T00:00:00.000000000",
          "2019-09-12T00:00:00.000000000",
          "2019-09-13T00:00:00.000000000",
          "2019-09-16T00:00:00.000000000",
          "2019-09-17T00:00:00.000000000",
          "2019-09-18T00:00:00.000000000",
          "2019-09-19T00:00:00.000000000",
          "2019-09-20T00:00:00.000000000",
          "2019-09-23T00:00:00.000000000",
          "2019-09-24T00:00:00.000000000",
          "2019-09-25T00:00:00.000000000",
          "2019-09-26T00:00:00.000000000",
          "2019-09-27T00:00:00.000000000",
          "2019-09-30T00:00:00.000000000",
          "2019-10-01T00:00:00.000000000",
          "2019-10-02T00:00:00.000000000",
          "2019-10-03T00:00:00.000000000",
          "2019-10-04T00:00:00.000000000",
          "2019-10-07T00:00:00.000000000",
          "2019-10-08T00:00:00.000000000",
          "2019-10-09T00:00:00.000000000",
          "2019-10-10T00:00:00.000000000",
          "2019-10-11T00:00:00.000000000",
          "2019-10-14T00:00:00.000000000",
          "2019-10-15T00:00:00.000000000",
          "2019-10-16T00:00:00.000000000",
          "2019-10-17T00:00:00.000000000",
          "2019-10-18T00:00:00.000000000",
          "2019-10-21T00:00:00.000000000",
          "2019-10-22T00:00:00.000000000",
          "2019-10-23T00:00:00.000000000",
          "2019-10-24T00:00:00.000000000",
          "2019-10-25T00:00:00.000000000",
          "2019-10-28T00:00:00.000000000",
          "2019-10-29T00:00:00.000000000",
          "2019-10-30T00:00:00.000000000",
          "2019-10-31T00:00:00.000000000",
          "2019-11-01T00:00:00.000000000",
          "2019-11-04T00:00:00.000000000",
          "2019-11-05T00:00:00.000000000",
          "2019-11-06T00:00:00.000000000",
          "2019-11-07T00:00:00.000000000",
          "2019-11-08T00:00:00.000000000",
          "2019-11-11T00:00:00.000000000",
          "2019-11-12T00:00:00.000000000",
          "2019-11-13T00:00:00.000000000",
          "2019-11-14T00:00:00.000000000",
          "2019-11-15T00:00:00.000000000",
          "2019-11-18T00:00:00.000000000",
          "2019-11-19T00:00:00.000000000",
          "2019-11-20T00:00:00.000000000",
          "2019-11-21T00:00:00.000000000",
          "2019-11-22T00:00:00.000000000",
          "2019-11-25T00:00:00.000000000",
          "2019-11-26T00:00:00.000000000",
          "2019-11-27T00:00:00.000000000",
          "2019-11-29T00:00:00.000000000",
          "2019-12-02T00:00:00.000000000",
          "2019-12-03T00:00:00.000000000",
          "2019-12-04T00:00:00.000000000",
          "2019-12-05T00:00:00.000000000",
          "2019-12-06T00:00:00.000000000",
          "2019-12-09T00:00:00.000000000",
          "2019-12-10T00:00:00.000000000",
          "2019-12-11T00:00:00.000000000",
          "2019-12-12T00:00:00.000000000",
          "2019-12-13T00:00:00.000000000",
          "2019-12-16T00:00:00.000000000",
          "2019-12-17T00:00:00.000000000",
          "2019-12-18T00:00:00.000000000",
          "2019-12-19T00:00:00.000000000",
          "2019-12-20T00:00:00.000000000",
          "2019-12-23T00:00:00.000000000",
          "2019-12-24T00:00:00.000000000",
          "2019-12-26T00:00:00.000000000",
          "2019-12-27T00:00:00.000000000",
          "2019-12-30T00:00:00.000000000",
          "2019-12-31T00:00:00.000000000",
          "2020-01-02T00:00:00.000000000",
          "2020-01-03T00:00:00.000000000",
          "2020-01-06T00:00:00.000000000",
          "2020-01-07T00:00:00.000000000",
          "2020-01-08T00:00:00.000000000",
          "2020-01-09T00:00:00.000000000",
          "2020-01-10T00:00:00.000000000",
          "2020-01-13T00:00:00.000000000",
          "2020-01-14T00:00:00.000000000",
          "2020-01-15T00:00:00.000000000",
          "2020-01-16T00:00:00.000000000",
          "2020-01-17T00:00:00.000000000",
          "2020-01-21T00:00:00.000000000",
          "2020-01-22T00:00:00.000000000",
          "2020-01-23T00:00:00.000000000",
          "2020-01-24T00:00:00.000000000",
          "2020-01-27T00:00:00.000000000",
          "2020-01-28T00:00:00.000000000",
          "2020-01-29T00:00:00.000000000",
          "2020-01-30T00:00:00.000000000",
          "2020-01-31T00:00:00.000000000",
          "2020-02-03T00:00:00.000000000",
          "2020-02-04T00:00:00.000000000",
          "2020-02-05T00:00:00.000000000",
          "2020-02-06T00:00:00.000000000",
          "2020-02-18T00:00:00.000000000",
          "2020-02-19T00:00:00.000000000",
          "2020-02-20T00:00:00.000000000",
          "2020-02-21T00:00:00.000000000",
          "2020-07-14T00:00:00.000000000",
          "2020-07-15T00:00:00.000000000",
          "2020-07-16T00:00:00.000000000",
          "2020-07-17T00:00:00.000000000",
          "2020-07-20T00:00:00.000000000",
          "2020-07-21T00:00:00.000000000",
          "2020-07-22T00:00:00.000000000",
          "2020-07-23T00:00:00.000000000",
          "2020-07-24T00:00:00.000000000",
          "2020-07-27T00:00:00.000000000",
          "2020-07-28T00:00:00.000000000",
          "2020-07-29T00:00:00.000000000",
          "2020-07-30T00:00:00.000000000",
          "2020-07-31T00:00:00.000000000",
          "2020-08-03T00:00:00.000000000",
          "2020-08-04T00:00:00.000000000",
          "2020-08-05T00:00:00.000000000",
          "2020-08-13T00:00:00.000000000",
          "2020-08-14T00:00:00.000000000",
          "2020-08-17T00:00:00.000000000",
          "2020-08-18T00:00:00.000000000",
          "2020-08-19T00:00:00.000000000",
          "2020-08-20T00:00:00.000000000",
          "2020-08-21T00:00:00.000000000",
          "2020-08-24T00:00:00.000000000",
          "2020-08-25T00:00:00.000000000",
          "2020-08-26T00:00:00.000000000",
          "2020-10-20T00:00:00.000000000",
          "2020-10-21T00:00:00.000000000",
          "2020-10-22T00:00:00.000000000",
          "2020-10-23T00:00:00.000000000",
          "2020-10-26T00:00:00.000000000",
          "2020-10-27T00:00:00.000000000",
          "2020-11-19T00:00:00.000000000",
          "2020-11-20T00:00:00.000000000",
          "2020-11-23T00:00:00.000000000",
          "2020-11-24T00:00:00.000000000",
          "2020-11-25T00:00:00.000000000",
          "2020-11-27T00:00:00.000000000",
          "2020-11-30T00:00:00.000000000",
          "2020-12-01T00:00:00.000000000",
          "2020-12-02T00:00:00.000000000",
          "2020-12-03T00:00:00.000000000",
          "2020-12-04T00:00:00.000000000",
          "2020-12-07T00:00:00.000000000",
          "2020-12-08T00:00:00.000000000",
          "2020-12-09T00:00:00.000000000",
          "2020-12-10T00:00:00.000000000",
          "2020-12-11T00:00:00.000000000",
          "2020-12-14T00:00:00.000000000",
          "2020-12-15T00:00:00.000000000",
          "2020-12-16T00:00:00.000000000",
          "2020-12-17T00:00:00.000000000",
          "2020-12-18T00:00:00.000000000",
          "2020-12-21T00:00:00.000000000",
          "2020-12-22T00:00:00.000000000",
          "2020-12-23T00:00:00.000000000",
          "2020-12-24T00:00:00.000000000",
          "2020-12-28T00:00:00.000000000",
          "2020-12-29T00:00:00.000000000",
          "2020-12-30T00:00:00.000000000",
          "2020-12-31T00:00:00.000000000",
          "2021-01-04T00:00:00.000000000",
          "2021-01-05T00:00:00.000000000",
          "2021-01-06T00:00:00.000000000",
          "2021-01-07T00:00:00.000000000",
          "2021-01-08T00:00:00.000000000",
          "2021-01-11T00:00:00.000000000",
          "2021-01-12T00:00:00.000000000",
          "2021-01-13T00:00:00.000000000",
          "2021-01-14T00:00:00.000000000",
          "2021-01-15T00:00:00.000000000",
          "2021-01-19T00:00:00.000000000",
          "2021-01-20T00:00:00.000000000",
          "2021-01-21T00:00:00.000000000",
          "2021-01-22T00:00:00.000000000",
          "2021-01-25T00:00:00.000000000",
          "2021-01-26T00:00:00.000000000",
          "2021-02-16T00:00:00.000000000",
          "2021-02-17T00:00:00.000000000",
          "2021-02-18T00:00:00.000000000",
          "2021-02-19T00:00:00.000000000",
          "2021-02-22T00:00:00.000000000",
          "2021-02-23T00:00:00.000000000",
          "2021-02-24T00:00:00.000000000",
          "2021-03-22T00:00:00.000000000",
          "2021-03-23T00:00:00.000000000",
          "2021-03-24T00:00:00.000000000",
          "2021-03-25T00:00:00.000000000",
          "2021-03-26T00:00:00.000000000",
          "2021-03-29T00:00:00.000000000",
          "2021-03-30T00:00:00.000000000",
          "2021-03-31T00:00:00.000000000",
          "2021-04-16T00:00:00.000000000",
          "2021-04-19T00:00:00.000000000",
          "2021-04-20T00:00:00.000000000",
          "2021-04-21T00:00:00.000000000",
          "2021-04-22T00:00:00.000000000",
          "2021-04-23T00:00:00.000000000",
          "2021-04-26T00:00:00.000000000",
          "2021-04-27T00:00:00.000000000",
          "2021-04-28T00:00:00.000000000",
          "2021-04-29T00:00:00.000000000",
          "2021-04-30T00:00:00.000000000",
          "2021-05-03T00:00:00.000000000",
          "2021-05-04T00:00:00.000000000",
          "2021-05-05T00:00:00.000000000",
          "2021-05-06T00:00:00.000000000",
          "2021-05-07T00:00:00.000000000",
          "2021-05-10T00:00:00.000000000",
          "2021-05-11T00:00:00.000000000",
          "2021-05-21T00:00:00.000000000",
          "2021-05-24T00:00:00.000000000",
          "2021-05-25T00:00:00.000000000",
          "2021-05-26T00:00:00.000000000",
          "2021-05-27T00:00:00.000000000",
          "2021-05-28T00:00:00.000000000",
          "2021-06-01T00:00:00.000000000",
          "2021-06-02T00:00:00.000000000",
          "2021-06-03T00:00:00.000000000",
          "2021-06-04T00:00:00.000000000",
          "2021-06-07T00:00:00.000000000",
          "2021-06-08T00:00:00.000000000",
          "2021-06-09T00:00:00.000000000",
          "2021-06-10T00:00:00.000000000",
          "2021-06-11T00:00:00.000000000",
          "2021-06-14T00:00:00.000000000",
          "2021-06-15T00:00:00.000000000",
          "2021-06-16T00:00:00.000000000",
          "2021-06-17T00:00:00.000000000",
          "2021-06-18T00:00:00.000000000",
          "2021-06-21T00:00:00.000000000",
          "2021-06-22T00:00:00.000000000",
          "2021-06-23T00:00:00.000000000",
          "2021-06-24T00:00:00.000000000",
          "2021-06-25T00:00:00.000000000",
          "2021-06-28T00:00:00.000000000",
          "2021-06-29T00:00:00.000000000",
          "2021-06-30T00:00:00.000000000",
          "2021-07-01T00:00:00.000000000",
          "2021-07-02T00:00:00.000000000",
          "2021-07-06T00:00:00.000000000",
          "2021-07-07T00:00:00.000000000",
          "2021-07-08T00:00:00.000000000",
          "2021-07-09T00:00:00.000000000",
          "2021-07-12T00:00:00.000000000",
          "2021-07-13T00:00:00.000000000",
          "2021-07-14T00:00:00.000000000",
          "2021-07-15T00:00:00.000000000",
          "2021-07-16T00:00:00.000000000",
          "2021-07-19T00:00:00.000000000",
          "2021-07-20T00:00:00.000000000",
          "2021-07-21T00:00:00.000000000",
          "2021-07-22T00:00:00.000000000",
          "2021-08-02T00:00:00.000000000",
          "2021-08-03T00:00:00.000000000",
          "2021-08-04T00:00:00.000000000",
          "2021-08-05T00:00:00.000000000",
          "2021-08-06T00:00:00.000000000",
          "2021-08-09T00:00:00.000000000",
          "2021-08-10T00:00:00.000000000",
          "2021-08-11T00:00:00.000000000",
          "2021-08-12T00:00:00.000000000",
          "2021-08-13T00:00:00.000000000",
          "2021-08-16T00:00:00.000000000",
          "2021-08-17T00:00:00.000000000",
          "2021-08-18T00:00:00.000000000",
          "2021-08-19T00:00:00.000000000",
          "2021-08-20T00:00:00.000000000",
          "2021-08-23T00:00:00.000000000",
          "2021-08-24T00:00:00.000000000",
          "2021-08-25T00:00:00.000000000",
          "2021-08-26T00:00:00.000000000",
          "2021-08-27T00:00:00.000000000",
          "2021-08-30T00:00:00.000000000",
          "2021-08-31T00:00:00.000000000",
          "2021-09-01T00:00:00.000000000",
          "2021-09-02T00:00:00.000000000",
          "2021-09-03T00:00:00.000000000",
          "2021-09-07T00:00:00.000000000",
          "2021-09-08T00:00:00.000000000",
          "2021-09-09T00:00:00.000000000",
          "2021-09-10T00:00:00.000000000",
          "2021-09-13T00:00:00.000000000",
          "2021-09-14T00:00:00.000000000",
          "2021-09-15T00:00:00.000000000",
          "2021-09-16T00:00:00.000000000",
          "2021-09-17T00:00:00.000000000",
          "2021-10-11T00:00:00.000000000",
          "2021-10-12T00:00:00.000000000",
          "2021-10-13T00:00:00.000000000",
          "2021-10-14T00:00:00.000000000",
          "2021-10-29T00:00:00.000000000",
          "2021-11-01T00:00:00.000000000",
          "2021-11-02T00:00:00.000000000",
          "2021-11-03T00:00:00.000000000",
          "2021-11-11T00:00:00.000000000",
          "2021-11-12T00:00:00.000000000",
          "2021-11-15T00:00:00.000000000",
          "2021-11-16T00:00:00.000000000",
          "2021-11-17T00:00:00.000000000",
          "2021-11-18T00:00:00.000000000",
          "2021-11-19T00:00:00.000000000",
          "2021-11-22T00:00:00.000000000",
          "2021-11-23T00:00:00.000000000",
          "2021-11-24T00:00:00.000000000",
          "2022-11-23T00:00:00.000000000",
          "2022-11-25T00:00:00.000000000",
          "2022-11-28T00:00:00.000000000",
          "2022-11-29T00:00:00.000000000",
          "2022-12-30T00:00:00.000000000",
          "2023-01-03T00:00:00.000000000",
          "2023-01-04T00:00:00.000000000",
          "2023-01-05T00:00:00.000000000",
          "2023-02-13T00:00:00.000000000",
          "2023-02-14T00:00:00.000000000",
          "2023-02-15T00:00:00.000000000",
          "2023-02-16T00:00:00.000000000",
          "2023-02-17T00:00:00.000000000",
          "2023-04-12T00:00:00.000000000",
          "2023-04-13T00:00:00.000000000",
          "2023-04-14T00:00:00.000000000",
          "2023-04-17T00:00:00.000000000",
          "2023-04-18T00:00:00.000000000",
          "2023-04-19T00:00:00.000000000",
          "2023-04-20T00:00:00.000000000",
          "2023-04-21T00:00:00.000000000",
          "2023-04-24T00:00:00.000000000",
          "2023-04-25T00:00:00.000000000",
          "2023-04-26T00:00:00.000000000",
          "2023-05-10T00:00:00.000000000",
          "2023-05-11T00:00:00.000000000",
          "2023-05-12T00:00:00.000000000",
          "2023-05-15T00:00:00.000000000",
          "2023-05-16T00:00:00.000000000",
          "2023-05-17T00:00:00.000000000",
          "2023-05-18T00:00:00.000000000",
          "2023-05-19T00:00:00.000000000",
          "2023-05-22T00:00:00.000000000",
          "2023-05-23T00:00:00.000000000",
          "2023-05-24T00:00:00.000000000",
          "2023-05-25T00:00:00.000000000",
          "2023-05-26T00:00:00.000000000",
          "2023-05-30T00:00:00.000000000",
          "2023-05-31T00:00:00.000000000",
          "2023-06-01T00:00:00.000000000",
          "2023-06-23T00:00:00.000000000",
          "2023-06-26T00:00:00.000000000",
          "2023-06-27T00:00:00.000000000",
          "2023-06-28T00:00:00.000000000",
          "2023-06-29T00:00:00.000000000",
          "2023-06-30T00:00:00.000000000",
          "2023-07-11T00:00:00.000000000",
          "2023-07-12T00:00:00.000000000",
          "2023-07-13T00:00:00.000000000",
          "2023-07-14T00:00:00.000000000",
          "2023-07-25T00:00:00.000000000",
          "2023-07-26T00:00:00.000000000",
          "2023-07-27T00:00:00.000000000",
          "2023-07-28T00:00:00.000000000",
          "2023-07-31T00:00:00.000000000",
          "2023-08-01T00:00:00.000000000",
          "2023-08-02T00:00:00.000000000",
          "2023-08-03T00:00:00.000000000",
          "2023-09-08T00:00:00.000000000",
          "2023-09-11T00:00:00.000000000",
          "2023-09-12T00:00:00.000000000",
          "2023-09-13T00:00:00.000000000",
          "2023-09-14T00:00:00.000000000",
          "2023-09-15T00:00:00.000000000",
          "2023-09-18T00:00:00.000000000",
          "2023-09-19T00:00:00.000000000",
          "2023-09-20T00:00:00.000000000",
          "2023-10-04T00:00:00.000000000",
          "2023-10-05T00:00:00.000000000",
          "2023-10-06T00:00:00.000000000",
          "2023-10-09T00:00:00.000000000",
          "2023-10-10T00:00:00.000000000",
          "2023-11-28T00:00:00.000000000",
          "2023-11-29T00:00:00.000000000",
          "2023-11-30T00:00:00.000000000",
          "2023-12-01T00:00:00.000000000",
          "2023-12-04T00:00:00.000000000",
          "2023-12-05T00:00:00.000000000",
          "2023-12-06T00:00:00.000000000",
          "2023-12-07T00:00:00.000000000",
          "2023-12-08T00:00:00.000000000",
          "2023-12-11T00:00:00.000000000",
          "2023-12-12T00:00:00.000000000",
          "2023-12-27T00:00:00.000000000",
          "2023-12-28T00:00:00.000000000",
          "2023-12-29T00:00:00.000000000",
          "2024-01-02T00:00:00.000000000",
          "2024-01-03T00:00:00.000000000",
          "2024-01-04T00:00:00.000000000",
          "2024-01-05T00:00:00.000000000",
          "2024-01-08T00:00:00.000000000",
          "2024-01-09T00:00:00.000000000",
          "2024-01-10T00:00:00.000000000",
          "2024-01-11T00:00:00.000000000",
          "2024-01-12T00:00:00.000000000",
          "2024-01-16T00:00:00.000000000",
          "2024-01-17T00:00:00.000000000",
          "2024-01-18T00:00:00.000000000",
          "2024-01-19T00:00:00.000000000",
          "2024-01-22T00:00:00.000000000",
          "2024-02-15T00:00:00.000000000",
          "2024-02-16T00:00:00.000000000",
          "2024-02-20T00:00:00.000000000",
          "2024-02-21T00:00:00.000000000",
          "2024-03-06T00:00:00.000000000",
          "2024-03-07T00:00:00.000000000",
          "2024-03-08T00:00:00.000000000",
          "2024-03-11T00:00:00.000000000",
          "2024-03-12T00:00:00.000000000",
          "2024-03-13T00:00:00.000000000",
          "2024-03-14T00:00:00.000000000",
          "2024-03-15T00:00:00.000000000",
          "2024-03-18T00:00:00.000000000",
          "2024-03-19T00:00:00.000000000",
          "2024-03-20T00:00:00.000000000",
          "2024-04-01T00:00:00.000000000",
          "2024-04-02T00:00:00.000000000",
          "2024-04-03T00:00:00.000000000",
          "2024-04-04T00:00:00.000000000",
          "2024-04-05T00:00:00.000000000",
          "2024-04-08T00:00:00.000000000",
          "2024-04-09T00:00:00.000000000",
          "2024-04-10T00:00:00.000000000",
          "2024-04-11T00:00:00.000000000",
          "2024-05-24T00:00:00.000000000",
          "2024-05-28T00:00:00.000000000",
          "2024-05-29T00:00:00.000000000",
          "2024-05-30T00:00:00.000000000",
          "2024-05-31T00:00:00.000000000",
          "2024-06-03T00:00:00.000000000",
          "2024-06-04T00:00:00.000000000",
          "2024-06-05T00:00:00.000000000",
          "2024-06-06T00:00:00.000000000",
          "2024-06-25T00:00:00.000000000",
          "2024-06-26T00:00:00.000000000",
          "2024-06-27T00:00:00.000000000",
          "2024-06-28T00:00:00.000000000",
          "2024-07-01T00:00:00.000000000",
          "2024-07-02T00:00:00.000000000",
          "2024-07-03T00:00:00.000000000",
          "2024-07-05T00:00:00.000000000"
         ],
         "xaxis": "x2",
         "y": {
          "bdata": "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",
          "dtype": "f8"
         },
         "yaxis": "y2"
        },
        {
         "marker": {
          "color": "rgb(252,141,98)",
          "size": 6
         },
         "mode": "markers",
         "name": "Regime 1: Neutral",
         "showlegend": false,
         "type": "scatter",
         "x": [
          "2018-02-13T00:00:00.000000000",
          "2018-02-14T00:00:00.000000000",
          "2018-02-15T00:00:00.000000000",
          "2018-02-16T00:00:00.000000000",
          "2018-02-20T00:00:00.000000000",
          "2018-02-21T00:00:00.000000000",
          "2018-02-22T00:00:00.000000000",
          "2018-03-27T00:00:00.000000000",
          "2018-03-28T00:00:00.000000000",
          "2018-03-29T00:00:00.000000000",
          "2018-04-02T00:00:00.000000000",
          "2018-04-03T00:00:00.000000000",
          "2018-10-16T00:00:00.000000000",
          "2018-10-17T00:00:00.000000000",
          "2018-10-18T00:00:00.000000000",
          "2018-10-19T00:00:00.000000000",
          "2018-10-22T00:00:00.000000000",
          "2018-10-23T00:00:00.000000000",
          "2018-10-24T00:00:00.000000000",
          "2018-10-25T00:00:00.000000000",
          "2018-10-26T00:00:00.000000000",
          "2018-10-29T00:00:00.000000000",
          "2018-10-30T00:00:00.000000000",
          "2018-10-31T00:00:00.000000000",
          "2018-11-01T00:00:00.000000000",
          "2018-11-02T00:00:00.000000000",
          "2018-11-05T00:00:00.000000000",
          "2018-11-06T00:00:00.000000000",
          "2018-11-07T00:00:00.000000000",
          "2018-11-08T00:00:00.000000000",
          "2018-11-09T00:00:00.000000000",
          "2018-11-12T00:00:00.000000000",
          "2018-11-13T00:00:00.000000000",
          "2018-11-14T00:00:00.000000000",
          "2018-11-15T00:00:00.000000000",
          "2018-11-16T00:00:00.000000000",
          "2018-11-19T00:00:00.000000000",
          "2018-11-20T00:00:00.000000000",
          "2018-11-21T00:00:00.000000000",
          "2018-11-23T00:00:00.000000000",
          "2018-11-26T00:00:00.000000000",
          "2018-11-27T00:00:00.000000000",
          "2018-11-28T00:00:00.000000000",
          "2018-11-29T00:00:00.000000000",
          "2018-11-30T00:00:00.000000000",
          "2018-12-03T00:00:00.000000000",
          "2018-12-04T00:00:00.000000000",
          "2018-12-06T00:00:00.000000000",
          "2018-12-07T00:00:00.000000000",
          "2018-12-10T00:00:00.000000000",
          "2018-12-11T00:00:00.000000000",
          "2018-12-12T00:00:00.000000000",
          "2018-12-13T00:00:00.000000000",
          "2018-12-14T00:00:00.000000000",
          "2018-12-17T00:00:00.000000000",
          "2018-12-18T00:00:00.000000000",
          "2018-12-19T00:00:00.000000000",
          "2018-12-20T00:00:00.000000000",
          "2018-12-28T00:00:00.000000000",
          "2018-12-31T00:00:00.000000000",
          "2019-01-02T00:00:00.000000000",
          "2019-01-03T00:00:00.000000000",
          "2019-01-04T00:00:00.000000000",
          "2019-01-07T00:00:00.000000000",
          "2019-01-08T00:00:00.000000000",
          "2019-01-09T00:00:00.000000000",
          "2019-01-10T00:00:00.000000000",
          "2019-01-11T00:00:00.000000000",
          "2019-01-14T00:00:00.000000000",
          "2019-01-15T00:00:00.000000000",
          "2019-01-16T00:00:00.000000000",
          "2019-05-13T00:00:00.000000000",
          "2019-05-14T00:00:00.000000000",
          "2019-06-07T00:00:00.000000000",
          "2019-06-10T00:00:00.000000000",
          "2019-06-11T00:00:00.000000000",
          "2019-06-12T00:00:00.000000000",
          "2019-06-13T00:00:00.000000000",
          "2019-06-14T00:00:00.000000000",
          "2019-08-07T00:00:00.000000000",
          "2019-08-08T00:00:00.000000000",
          "2019-08-09T00:00:00.000000000",
          "2019-08-12T00:00:00.000000000",
          "2019-08-13T00:00:00.000000000",
          "2019-08-14T00:00:00.000000000",
          "2020-02-07T00:00:00.000000000",
          "2020-02-10T00:00:00.000000000",
          "2020-02-11T00:00:00.000000000",
          "2020-02-12T00:00:00.000000000",
          "2020-02-13T00:00:00.000000000",
          "2020-02-14T00:00:00.000000000",
          "2020-04-20T00:00:00.000000000",
          "2020-04-21T00:00:00.000000000",
          "2020-04-22T00:00:00.000000000",
          "2020-04-23T00:00:00.000000000",
          "2020-04-24T00:00:00.000000000",
          "2020-04-27T00:00:00.000000000",
          "2020-04-28T00:00:00.000000000",
          "2020-04-29T00:00:00.000000000",
          "2020-04-30T00:00:00.000000000",
          "2020-05-01T00:00:00.000000000",
          "2020-05-04T00:00:00.000000000",
          "2020-05-05T00:00:00.000000000",
          "2020-05-06T00:00:00.000000000",
          "2020-05-07T00:00:00.000000000",
          "2020-05-08T00:00:00.000000000",
          "2020-05-11T00:00:00.000000000",
          "2020-05-12T00:00:00.000000000",
          "2020-05-13T00:00:00.000000000",
          "2020-05-14T00:00:00.000000000",
          "2020-05-15T00:00:00.000000000",
          "2020-05-18T00:00:00.000000000",
          "2020-05-19T00:00:00.000000000",
          "2020-05-20T00:00:00.000000000",
          "2020-05-21T00:00:00.000000000",
          "2020-05-22T00:00:00.000000000",
          "2020-05-26T00:00:00.000000000",
          "2020-05-27T00:00:00.000000000",
          "2020-05-28T00:00:00.000000000",
          "2020-05-29T00:00:00.000000000",
          "2020-06-01T00:00:00.000000000",
          "2020-06-02T00:00:00.000000000",
          "2020-06-03T00:00:00.000000000",
          "2020-06-04T00:00:00.000000000",
          "2020-06-05T00:00:00.000000000",
          "2020-06-08T00:00:00.000000000",
          "2020-06-09T00:00:00.000000000",
          "2020-06-10T00:00:00.000000000",
          "2020-06-17T00:00:00.000000000",
          "2020-06-18T00:00:00.000000000",
          "2020-06-19T00:00:00.000000000",
          "2020-06-22T00:00:00.000000000",
          "2020-06-23T00:00:00.000000000",
          "2020-06-24T00:00:00.000000000",
          "2020-06-25T00:00:00.000000000",
          "2020-06-26T00:00:00.000000000",
          "2020-06-29T00:00:00.000000000",
          "2020-06-30T00:00:00.000000000",
          "2020-07-01T00:00:00.000000000",
          "2020-07-02T00:00:00.000000000",
          "2020-07-06T00:00:00.000000000",
          "2020-07-07T00:00:00.000000000",
          "2020-07-08T00:00:00.000000000",
          "2020-07-09T00:00:00.000000000",
          "2020-07-10T00:00:00.000000000",
          "2020-07-13T00:00:00.000000000",
          "2020-08-06T00:00:00.000000000",
          "2020-08-07T00:00:00.000000000",
          "2020-08-10T00:00:00.000000000",
          "2020-08-11T00:00:00.000000000",
          "2020-08-12T00:00:00.000000000",
          "2020-08-27T00:00:00.000000000",
          "2020-08-28T00:00:00.000000000",
          "2020-08-31T00:00:00.000000000",
          "2020-09-01T00:00:00.000000000",
          "2020-09-02T00:00:00.000000000",
          "2020-09-03T00:00:00.000000000",
          "2020-09-04T00:00:00.000000000",
          "2020-09-08T00:00:00.000000000",
          "2020-09-09T00:00:00.000000000",
          "2020-09-10T00:00:00.000000000",
          "2020-09-11T00:00:00.000000000",
          "2020-09-14T00:00:00.000000000",
          "2020-09-15T00:00:00.000000000",
          "2020-09-16T00:00:00.000000000",
          "2020-09-17T00:00:00.000000000",
          "2020-09-18T00:00:00.000000000",
          "2020-09-21T00:00:00.000000000",
          "2020-09-22T00:00:00.000000000",
          "2020-09-23T00:00:00.000000000",
          "2020-09-24T00:00:00.000000000",
          "2020-09-25T00:00:00.000000000",
          "2020-09-28T00:00:00.000000000",
          "2020-09-29T00:00:00.000000000",
          "2020-09-30T00:00:00.000000000",
          "2020-10-01T00:00:00.000000000",
          "2020-10-02T00:00:00.000000000",
          "2020-10-05T00:00:00.000000000",
          "2020-10-06T00:00:00.000000000",
          "2020-10-07T00:00:00.000000000",
          "2020-10-08T00:00:00.000000000",
          "2020-10-09T00:00:00.000000000",
          "2020-10-12T00:00:00.000000000",
          "2020-10-13T00:00:00.000000000",
          "2020-10-14T00:00:00.000000000",
          "2020-10-15T00:00:00.000000000",
          "2020-10-16T00:00:00.000000000",
          "2020-10-19T00:00:00.000000000",
          "2020-10-28T00:00:00.000000000",
          "2020-10-29T00:00:00.000000000",
          "2020-10-30T00:00:00.000000000",
          "2020-11-02T00:00:00.000000000",
          "2020-11-03T00:00:00.000000000",
          "2020-11-04T00:00:00.000000000",
          "2020-11-05T00:00:00.000000000",
          "2020-11-16T00:00:00.000000000",
          "2020-11-17T00:00:00.000000000",
          "2020-11-18T00:00:00.000000000",
          "2021-01-29T00:00:00.000000000",
          "2021-02-01T00:00:00.000000000",
          "2021-02-02T00:00:00.000000000",
          "2021-02-03T00:00:00.000000000",
          "2021-02-04T00:00:00.000000000",
          "2021-02-05T00:00:00.000000000",
          "2021-02-08T00:00:00.000000000",
          "2021-02-09T00:00:00.000000000",
          "2021-02-10T00:00:00.000000000",
          "2021-02-11T00:00:00.000000000",
          "2021-02-12T00:00:00.000000000",
          "2021-02-25T00:00:00.000000000",
          "2021-02-26T00:00:00.000000000",
          "2021-03-01T00:00:00.000000000",
          "2021-03-02T00:00:00.000000000",
          "2021-03-03T00:00:00.000000000",
          "2021-03-04T00:00:00.000000000",
          "2021-03-05T00:00:00.000000000",
          "2021-03-08T00:00:00.000000000",
          "2021-03-09T00:00:00.000000000",
          "2021-03-10T00:00:00.000000000",
          "2021-03-11T00:00:00.000000000",
          "2021-03-12T00:00:00.000000000",
          "2021-03-15T00:00:00.000000000",
          "2021-03-16T00:00:00.000000000",
          "2021-03-17T00:00:00.000000000",
          "2021-03-18T00:00:00.000000000",
          "2021-03-19T00:00:00.000000000",
          "2021-04-01T00:00:00.000000000",
          "2021-04-05T00:00:00.000000000",
          "2021-04-06T00:00:00.000000000",
          "2021-04-07T00:00:00.000000000",
          "2021-04-08T00:00:00.000000000",
          "2021-04-09T00:00:00.000000000",
          "2021-04-12T00:00:00.000000000",
          "2021-04-13T00:00:00.000000000",
          "2021-04-14T00:00:00.000000000",
          "2021-04-15T00:00:00.000000000",
          "2021-05-12T00:00:00.000000000",
          "2021-05-13T00:00:00.000000000",
          "2021-05-14T00:00:00.000000000",
          "2021-05-17T00:00:00.000000000",
          "2021-05-18T00:00:00.000000000",
          "2021-05-19T00:00:00.000000000",
          "2021-05-20T00:00:00.000000000",
          "2021-07-23T00:00:00.000000000",
          "2021-07-26T00:00:00.000000000",
          "2021-07-27T00:00:00.000000000",
          "2021-07-28T00:00:00.000000000",
          "2021-07-29T00:00:00.000000000",
          "2021-07-30T00:00:00.000000000",
          "2021-09-20T00:00:00.000000000",
          "2021-09-21T00:00:00.000000000",
          "2021-09-22T00:00:00.000000000",
          "2021-09-23T00:00:00.000000000",
          "2021-09-24T00:00:00.000000000",
          "2021-09-27T00:00:00.000000000",
          "2021-09-28T00:00:00.000000000",
          "2021-09-29T00:00:00.000000000",
          "2021-09-30T00:00:00.000000000",
          "2021-10-01T00:00:00.000000000",
          "2021-10-04T00:00:00.000000000",
          "2021-10-05T00:00:00.000000000",
          "2021-10-06T00:00:00.000000000",
          "2021-10-07T00:00:00.000000000",
          "2021-10-08T00:00:00.000000000",
          "2021-10-15T00:00:00.000000000",
          "2021-10-18T00:00:00.000000000",
          "2021-10-19T00:00:00.000000000",
          "2021-10-20T00:00:00.000000000",
          "2021-10-21T00:00:00.000000000",
          "2021-10-22T00:00:00.000000000",
          "2021-10-25T00:00:00.000000000",
          "2021-10-26T00:00:00.000000000",
          "2021-10-27T00:00:00.000000000",
          "2021-10-28T00:00:00.000000000",
          "2021-11-04T00:00:00.000000000",
          "2021-11-05T00:00:00.000000000",
          "2021-11-08T00:00:00.000000000",
          "2021-11-09T00:00:00.000000000",
          "2021-11-10T00:00:00.000000000",
          "2021-12-06T00:00:00.000000000",
          "2021-12-07T00:00:00.000000000",
          "2021-12-08T00:00:00.000000000",
          "2021-12-09T00:00:00.000000000",
          "2021-12-10T00:00:00.000000000",
          "2021-12-13T00:00:00.000000000",
          "2021-12-14T00:00:00.000000000",
          "2021-12-15T00:00:00.000000000",
          "2021-12-16T00:00:00.000000000",
          "2021-12-17T00:00:00.000000000",
          "2021-12-20T00:00:00.000000000",
          "2021-12-21T00:00:00.000000000",
          "2021-12-22T00:00:00.000000000",
          "2021-12-23T00:00:00.000000000",
          "2021-12-27T00:00:00.000000000",
          "2021-12-28T00:00:00.000000000",
          "2021-12-29T00:00:00.000000000",
          "2021-12-30T00:00:00.000000000",
          "2021-12-31T00:00:00.000000000",
          "2022-01-03T00:00:00.000000000",
          "2022-01-04T00:00:00.000000000",
          "2022-01-05T00:00:00.000000000",
          "2022-01-06T00:00:00.000000000",
          "2022-01-07T00:00:00.000000000",
          "2022-01-10T00:00:00.000000000",
          "2022-01-11T00:00:00.000000000",
          "2022-01-12T00:00:00.000000000",
          "2022-01-13T00:00:00.000000000",
          "2022-01-14T00:00:00.000000000",
          "2022-01-18T00:00:00.000000000",
          "2022-01-19T00:00:00.000000000",
          "2022-02-08T00:00:00.000000000",
          "2022-02-09T00:00:00.000000000",
          "2022-02-10T00:00:00.000000000",
          "2022-02-11T00:00:00.000000000",
          "2022-02-14T00:00:00.000000000",
          "2022-02-15T00:00:00.000000000",
          "2022-02-16T00:00:00.000000000",
          "2022-02-17T00:00:00.000000000",
          "2022-02-18T00:00:00.000000000",
          "2022-02-25T00:00:00.000000000",
          "2022-02-28T00:00:00.000000000",
          "2022-03-01T00:00:00.000000000",
          "2022-03-02T00:00:00.000000000",
          "2022-03-03T00:00:00.000000000",
          "2022-03-04T00:00:00.000000000",
          "2022-03-07T00:00:00.000000000",
          "2022-03-08T00:00:00.000000000",
          "2022-03-09T00:00:00.000000000",
          "2022-03-10T00:00:00.000000000",
          "2022-03-11T00:00:00.000000000",
          "2022-03-14T00:00:00.000000000",
          "2022-03-15T00:00:00.000000000",
          "2022-03-16T00:00:00.000000000",
          "2022-03-17T00:00:00.000000000",
          "2022-03-29T00:00:00.000000000",
          "2022-03-30T00:00:00.000000000",
          "2022-03-31T00:00:00.000000000",
          "2022-04-01T00:00:00.000000000",
          "2022-04-04T00:00:00.000000000",
          "2022-04-05T00:00:00.000000000",
          "2022-04-06T00:00:00.000000000",
          "2022-04-07T00:00:00.000000000",
          "2022-04-08T00:00:00.000000000",
          "2022-04-11T00:00:00.000000000",
          "2022-04-12T00:00:00.000000000",
          "2022-04-13T00:00:00.000000000",
          "2022-04-14T00:00:00.000000000",
          "2022-04-18T00:00:00.000000000",
          "2022-04-19T00:00:00.000000000",
          "2022-04-20T00:00:00.000000000",
          "2022-04-21T00:00:00.000000000",
          "2022-04-22T00:00:00.000000000",
          "2022-04-25T00:00:00.000000000",
          "2022-05-19T00:00:00.000000000",
          "2022-05-20T00:00:00.000000000",
          "2022-05-23T00:00:00.000000000",
          "2022-05-24T00:00:00.000000000",
          "2022-05-25T00:00:00.000000000",
          "2022-05-26T00:00:00.000000000",
          "2022-06-06T00:00:00.000000000",
          "2022-06-07T00:00:00.000000000",
          "2022-06-08T00:00:00.000000000",
          "2022-06-09T00:00:00.000000000",
          "2022-06-29T00:00:00.000000000",
          "2022-06-30T00:00:00.000000000",
          "2022-07-01T00:00:00.000000000",
          "2022-07-05T00:00:00.000000000",
          "2022-07-06T00:00:00.000000000",
          "2022-07-07T00:00:00.000000000",
          "2022-07-08T00:00:00.000000000",
          "2022-07-11T00:00:00.000000000",
          "2022-07-12T00:00:00.000000000",
          "2022-07-13T00:00:00.000000000",
          "2022-07-14T00:00:00.000000000",
          "2022-07-15T00:00:00.000000000",
          "2022-07-18T00:00:00.000000000",
          "2022-07-19T00:00:00.000000000",
          "2022-07-20T00:00:00.000000000",
          "2022-07-21T00:00:00.000000000",
          "2022-07-22T00:00:00.000000000",
          "2022-07-25T00:00:00.000000000",
          "2022-07-26T00:00:00.000000000",
          "2022-07-27T00:00:00.000000000",
          "2022-07-28T00:00:00.000000000",
          "2022-07-29T00:00:00.000000000",
          "2022-08-01T00:00:00.000000000",
          "2022-08-02T00:00:00.000000000",
          "2022-08-03T00:00:00.000000000",
          "2022-08-04T00:00:00.000000000",
          "2022-08-05T00:00:00.000000000",
          "2022-08-08T00:00:00.000000000",
          "2022-08-09T00:00:00.000000000",
          "2022-08-10T00:00:00.000000000",
          "2022-08-11T00:00:00.000000000",
          "2022-08-12T00:00:00.000000000",
          "2022-08-15T00:00:00.000000000",
          "2022-08-16T00:00:00.000000000",
          "2022-08-17T00:00:00.000000000",
          "2022-08-18T00:00:00.000000000",
          "2022-08-19T00:00:00.000000000",
          "2022-08-22T00:00:00.000000000",
          "2022-08-23T00:00:00.000000000",
          "2022-08-24T00:00:00.000000000",
          "2022-08-25T00:00:00.000000000",
          "2022-09-08T00:00:00.000000000",
          "2022-09-09T00:00:00.000000000",
          "2022-09-12T00:00:00.000000000",
          "2022-09-13T00:00:00.000000000",
          "2022-09-14T00:00:00.000000000",
          "2022-09-15T00:00:00.000000000",
          "2022-09-16T00:00:00.000000000",
          "2022-09-19T00:00:00.000000000",
          "2022-09-20T00:00:00.000000000",
          "2022-10-05T00:00:00.000000000",
          "2022-10-06T00:00:00.000000000",
          "2022-10-07T00:00:00.000000000",
          "2022-10-10T00:00:00.000000000",
          "2022-10-11T00:00:00.000000000",
          "2022-10-12T00:00:00.000000000",
          "2022-10-13T00:00:00.000000000",
          "2022-10-14T00:00:00.000000000",
          "2022-10-17T00:00:00.000000000",
          "2022-10-18T00:00:00.000000000",
          "2022-10-19T00:00:00.000000000",
          "2022-10-20T00:00:00.000000000",
          "2022-10-21T00:00:00.000000000",
          "2022-10-24T00:00:00.000000000",
          "2022-10-25T00:00:00.000000000",
          "2022-10-26T00:00:00.000000000",
          "2022-10-27T00:00:00.000000000",
          "2022-10-28T00:00:00.000000000",
          "2022-10-31T00:00:00.000000000",
          "2022-11-01T00:00:00.000000000",
          "2022-11-02T00:00:00.000000000",
          "2022-11-03T00:00:00.000000000",
          "2022-11-04T00:00:00.000000000",
          "2022-11-07T00:00:00.000000000",
          "2022-11-08T00:00:00.000000000",
          "2022-11-09T00:00:00.000000000",
          "2022-11-21T00:00:00.000000000",
          "2022-11-22T00:00:00.000000000",
          "2022-11-30T00:00:00.000000000",
          "2022-12-01T00:00:00.000000000",
          "2022-12-02T00:00:00.000000000",
          "2022-12-05T00:00:00.000000000",
          "2022-12-06T00:00:00.000000000",
          "2022-12-07T00:00:00.000000000",
          "2022-12-08T00:00:00.000000000",
          "2022-12-09T00:00:00.000000000",
          "2022-12-12T00:00:00.000000000",
          "2022-12-13T00:00:00.000000000",
          "2022-12-14T00:00:00.000000000",
          "2022-12-15T00:00:00.000000000",
          "2022-12-16T00:00:00.000000000",
          "2022-12-19T00:00:00.000000000",
          "2022-12-20T00:00:00.000000000",
          "2022-12-21T00:00:00.000000000",
          "2022-12-22T00:00:00.000000000",
          "2022-12-23T00:00:00.000000000",
          "2022-12-27T00:00:00.000000000",
          "2022-12-28T00:00:00.000000000",
          "2022-12-29T00:00:00.000000000",
          "2023-01-06T00:00:00.000000000",
          "2023-01-09T00:00:00.000000000",
          "2023-01-10T00:00:00.000000000",
          "2023-01-11T00:00:00.000000000",
          "2023-01-12T00:00:00.000000000",
          "2023-01-13T00:00:00.000000000",
          "2023-01-17T00:00:00.000000000",
          "2023-01-18T00:00:00.000000000",
          "2023-01-19T00:00:00.000000000",
          "2023-01-20T00:00:00.000000000",
          "2023-01-23T00:00:00.000000000",
          "2023-01-24T00:00:00.000000000",
          "2023-01-25T00:00:00.000000000",
          "2023-01-26T00:00:00.000000000",
          "2023-01-27T00:00:00.000000000",
          "2023-01-30T00:00:00.000000000",
          "2023-01-31T00:00:00.000000000",
          "2023-02-01T00:00:00.000000000",
          "2023-02-02T00:00:00.000000000",
          "2023-02-03T00:00:00.000000000",
          "2023-02-06T00:00:00.000000000",
          "2023-02-07T00:00:00.000000000",
          "2023-02-08T00:00:00.000000000",
          "2023-02-09T00:00:00.000000000",
          "2023-02-10T00:00:00.000000000",
          "2023-02-21T00:00:00.000000000",
          "2023-02-22T00:00:00.000000000",
          "2023-02-23T00:00:00.000000000",
          "2023-02-24T00:00:00.000000000",
          "2023-02-27T00:00:00.000000000",
          "2023-02-28T00:00:00.000000000",
          "2023-03-01T00:00:00.000000000",
          "2023-03-02T00:00:00.000000000",
          "2023-03-03T00:00:00.000000000",
          "2023-03-06T00:00:00.000000000",
          "2023-03-07T00:00:00.000000000",
          "2023-03-08T00:00:00.000000000",
          "2023-03-09T00:00:00.000000000",
          "2023-03-10T00:00:00.000000000",
          "2023-03-13T00:00:00.000000000",
          "2023-03-14T00:00:00.000000000",
          "2023-03-15T00:00:00.000000000",
          "2023-03-16T00:00:00.000000000",
          "2023-03-17T00:00:00.000000000",
          "2023-03-20T00:00:00.000000000",
          "2023-03-21T00:00:00.000000000",
          "2023-03-22T00:00:00.000000000",
          "2023-03-23T00:00:00.000000000",
          "2023-03-24T00:00:00.000000000",
          "2023-03-27T00:00:00.000000000",
          "2023-03-28T00:00:00.000000000",
          "2023-03-29T00:00:00.000000000",
          "2023-03-30T00:00:00.000000000",
          "2023-03-31T00:00:00.000000000",
          "2023-04-03T00:00:00.000000000",
          "2023-04-04T00:00:00.000000000",
          "2023-04-05T00:00:00.000000000",
          "2023-04-06T00:00:00.000000000",
          "2023-04-10T00:00:00.000000000",
          "2023-04-11T00:00:00.000000000",
          "2023-04-27T00:00:00.000000000",
          "2023-04-28T00:00:00.000000000",
          "2023-05-01T00:00:00.000000000",
          "2023-05-02T00:00:00.000000000",
          "2023-05-03T00:00:00.000000000",
          "2023-05-04T00:00:00.000000000",
          "2023-05-05T00:00:00.000000000",
          "2023-05-08T00:00:00.000000000",
          "2023-05-09T00:00:00.000000000",
          "2023-06-02T00:00:00.000000000",
          "2023-06-05T00:00:00.000000000",
          "2023-06-06T00:00:00.000000000",
          "2023-06-07T00:00:00.000000000",
          "2023-06-08T00:00:00.000000000",
          "2023-06-09T00:00:00.000000000",
          "2023-06-12T00:00:00.000000000",
          "2023-06-13T00:00:00.000000000",
          "2023-06-14T00:00:00.000000000",
          "2023-06-15T00:00:00.000000000",
          "2023-06-16T00:00:00.000000000",
          "2023-06-20T00:00:00.000000000",
          "2023-06-21T00:00:00.000000000",
          "2023-06-22T00:00:00.000000000",
          "2023-07-03T00:00:00.000000000",
          "2023-07-05T00:00:00.000000000",
          "2023-07-06T00:00:00.000000000",
          "2023-07-07T00:00:00.000000000",
          "2023-07-10T00:00:00.000000000",
          "2023-07-17T00:00:00.000000000",
          "2023-07-18T00:00:00.000000000",
          "2023-07-19T00:00:00.000000000",
          "2023-07-20T00:00:00.000000000",
          "2023-07-21T00:00:00.000000000",
          "2023-07-24T00:00:00.000000000",
          "2023-08-04T00:00:00.000000000",
          "2023-08-07T00:00:00.000000000",
          "2023-08-08T00:00:00.000000000",
          "2023-08-09T00:00:00.000000000",
          "2023-08-10T00:00:00.000000000",
          "2023-08-11T00:00:00.000000000",
          "2023-08-14T00:00:00.000000000",
          "2023-08-15T00:00:00.000000000",
          "2023-08-16T00:00:00.000000000",
          "2023-08-17T00:00:00.000000000",
          "2023-08-18T00:00:00.000000000",
          "2023-08-21T00:00:00.000000000",
          "2023-08-22T00:00:00.000000000",
          "2023-08-23T00:00:00.000000000",
          "2023-08-24T00:00:00.000000000",
          "2023-08-25T00:00:00.000000000",
          "2023-08-28T00:00:00.000000000",
          "2023-08-29T00:00:00.000000000",
          "2023-08-30T00:00:00.000000000",
          "2023-08-31T00:00:00.000000000",
          "2023-09-01T00:00:00.000000000",
          "2023-09-05T00:00:00.000000000",
          "2023-09-06T00:00:00.000000000",
          "2023-09-07T00:00:00.000000000",
          "2023-09-21T00:00:00.000000000",
          "2023-09-22T00:00:00.000000000",
          "2023-09-25T00:00:00.000000000",
          "2023-09-26T00:00:00.000000000",
          "2023-09-27T00:00:00.000000000",
          "2023-09-28T00:00:00.000000000",
          "2023-09-29T00:00:00.000000000",
          "2023-10-02T00:00:00.000000000",
          "2023-10-03T00:00:00.000000000",
          "2023-10-11T00:00:00.000000000",
          "2023-10-12T00:00:00.000000000",
          "2023-10-13T00:00:00.000000000",
          "2023-10-16T00:00:00.000000000",
          "2023-10-17T00:00:00.000000000",
          "2023-10-18T00:00:00.000000000",
          "2023-10-19T00:00:00.000000000",
          "2023-10-20T00:00:00.000000000",
          "2023-10-23T00:00:00.000000000",
          "2023-10-24T00:00:00.000000000",
          "2023-10-25T00:00:00.000000000",
          "2023-10-26T00:00:00.000000000",
          "2023-10-27T00:00:00.000000000",
          "2023-10-30T00:00:00.000000000",
          "2023-10-31T00:00:00.000000000",
          "2023-11-01T00:00:00.000000000",
          "2023-11-02T00:00:00.000000000",
          "2023-11-03T00:00:00.000000000",
          "2023-11-13T00:00:00.000000000",
          "2023-11-14T00:00:00.000000000",
          "2023-11-15T00:00:00.000000000",
          "2023-11-16T00:00:00.000000000",
          "2023-11-17T00:00:00.000000000",
          "2023-11-20T00:00:00.000000000",
          "2023-11-21T00:00:00.000000000",
          "2023-11-22T00:00:00.000000000",
          "2023-11-24T00:00:00.000000000",
          "2023-11-27T00:00:00.000000000",
          "2023-12-13T00:00:00.000000000",
          "2023-12-14T00:00:00.000000000",
          "2023-12-15T00:00:00.000000000",
          "2023-12-18T00:00:00.000000000",
          "2023-12-19T00:00:00.000000000",
          "2023-12-20T00:00:00.000000000",
          "2023-12-21T00:00:00.000000000",
          "2023-12-22T00:00:00.000000000",
          "2023-12-26T00:00:00.000000000",
          "2024-01-23T00:00:00.000000000",
          "2024-01-24T00:00:00.000000000",
          "2024-01-25T00:00:00.000000000",
          "2024-01-26T00:00:00.000000000",
          "2024-01-29T00:00:00.000000000",
          "2024-01-30T00:00:00.000000000",
          "2024-01-31T00:00:00.000000000",
          "2024-02-01T00:00:00.000000000",
          "2024-02-02T00:00:00.000000000",
          "2024-02-05T00:00:00.000000000",
          "2024-02-06T00:00:00.000000000",
          "2024-02-07T00:00:00.000000000",
          "2024-02-08T00:00:00.000000000",
          "2024-02-09T00:00:00.000000000",
          "2024-02-12T00:00:00.000000000",
          "2024-02-13T00:00:00.000000000",
          "2024-02-14T00:00:00.000000000",
          "2024-02-22T00:00:00.000000000",
          "2024-02-23T00:00:00.000000000",
          "2024-02-26T00:00:00.000000000",
          "2024-02-27T00:00:00.000000000",
          "2024-02-28T00:00:00.000000000",
          "2024-02-29T00:00:00.000000000",
          "2024-03-01T00:00:00.000000000",
          "2024-03-04T00:00:00.000000000",
          "2024-03-05T00:00:00.000000000",
          "2024-03-21T00:00:00.000000000",
          "2024-03-22T00:00:00.000000000",
          "2024-03-25T00:00:00.000000000",
          "2024-03-26T00:00:00.000000000",
          "2024-03-27T00:00:00.000000000",
          "2024-03-28T00:00:00.000000000",
          "2024-04-12T00:00:00.000000000",
          "2024-04-15T00:00:00.000000000",
          "2024-04-16T00:00:00.000000000",
          "2024-04-17T00:00:00.000000000",
          "2024-04-18T00:00:00.000000000",
          "2024-04-19T00:00:00.000000000",
          "2024-04-22T00:00:00.000000000",
          "2024-04-23T00:00:00.000000000",
          "2024-04-24T00:00:00.000000000",
          "2024-04-25T00:00:00.000000000",
          "2024-04-26T00:00:00.000000000",
          "2024-04-29T00:00:00.000000000",
          "2024-04-30T00:00:00.000000000",
          "2024-05-01T00:00:00.000000000",
          "2024-05-02T00:00:00.000000000",
          "2024-05-03T00:00:00.000000000",
          "2024-05-06T00:00:00.000000000",
          "2024-05-07T00:00:00.000000000",
          "2024-05-08T00:00:00.000000000",
          "2024-05-09T00:00:00.000000000",
          "2024-05-10T00:00:00.000000000",
          "2024-05-13T00:00:00.000000000",
          "2024-05-14T00:00:00.000000000",
          "2024-05-15T00:00:00.000000000",
          "2024-05-16T00:00:00.000000000",
          "2024-05-17T00:00:00.000000000",
          "2024-05-20T00:00:00.000000000",
          "2024-05-21T00:00:00.000000000",
          "2024-05-22T00:00:00.000000000",
          "2024-05-23T00:00:00.000000000",
          "2024-06-07T00:00:00.000000000",
          "2024-06-10T00:00:00.000000000",
          "2024-06-11T00:00:00.000000000",
          "2024-06-12T00:00:00.000000000",
          "2024-06-13T00:00:00.000000000",
          "2024-06-14T00:00:00.000000000",
          "2024-06-17T00:00:00.000000000",
          "2024-06-18T00:00:00.000000000",
          "2024-06-20T00:00:00.000000000",
          "2024-06-21T00:00:00.000000000",
          "2024-06-24T00:00:00.000000000",
          "2024-07-08T00:00:00.000000000",
          "2024-07-09T00:00:00.000000000",
          "2024-07-10T00:00:00.000000000",
          "2024-07-11T00:00:00.000000000",
          "2024-07-12T00:00:00.000000000",
          "2024-07-15T00:00:00.000000000",
          "2024-07-16T00:00:00.000000000",
          "2024-07-17T00:00:00.000000000",
          "2024-07-18T00:00:00.000000000",
          "2024-07-19T00:00:00.000000000",
          "2024-07-22T00:00:00.000000000",
          "2024-07-23T00:00:00.000000000",
          "2024-07-29T00:00:00.000000000",
          "2024-07-30T00:00:00.000000000",
          "2024-07-31T00:00:00.000000000"
         ],
         "xaxis": "x2",
         "y": {
          "bdata": "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",
          "dtype": "f8"
         },
         "yaxis": "y2"
        },
        {
         "marker": {
          "color": "rgb(141,160,203)",
          "size": 6
         },
         "mode": "markers",
         "name": "Regime 2: Bear",
         "showlegend": false,
         "type": "scatter",
         "x": [
          "2018-02-02T00:00:00.000000000",
          "2018-02-05T00:00:00.000000000",
          "2018-02-06T00:00:00.000000000",
          "2018-02-07T00:00:00.000000000",
          "2018-02-08T00:00:00.000000000",
          "2018-02-09T00:00:00.000000000",
          "2018-02-12T00:00:00.000000000",
          "2018-03-22T00:00:00.000000000",
          "2018-03-23T00:00:00.000000000",
          "2018-03-26T00:00:00.000000000",
          "2018-10-10T00:00:00.000000000",
          "2018-10-11T00:00:00.000000000",
          "2018-10-12T00:00:00.000000000",
          "2018-10-15T00:00:00.000000000",
          "2018-12-21T00:00:00.000000000",
          "2018-12-24T00:00:00.000000000",
          "2018-12-26T00:00:00.000000000",
          "2018-12-27T00:00:00.000000000",
          "2019-08-05T00:00:00.000000000",
          "2019-08-06T00:00:00.000000000",
          "2020-02-24T00:00:00.000000000",
          "2020-02-25T00:00:00.000000000",
          "2020-02-26T00:00:00.000000000",
          "2020-02-27T00:00:00.000000000",
          "2020-02-28T00:00:00.000000000",
          "2020-03-02T00:00:00.000000000",
          "2020-03-03T00:00:00.000000000",
          "2020-03-04T00:00:00.000000000",
          "2020-03-05T00:00:00.000000000",
          "2020-03-06T00:00:00.000000000",
          "2020-03-09T00:00:00.000000000",
          "2020-03-10T00:00:00.000000000",
          "2020-03-11T00:00:00.000000000",
          "2020-03-12T00:00:00.000000000",
          "2020-03-13T00:00:00.000000000",
          "2020-03-16T00:00:00.000000000",
          "2020-03-17T00:00:00.000000000",
          "2020-03-18T00:00:00.000000000",
          "2020-03-19T00:00:00.000000000",
          "2020-03-20T00:00:00.000000000",
          "2020-03-23T00:00:00.000000000",
          "2020-03-24T00:00:00.000000000",
          "2020-03-25T00:00:00.000000000",
          "2020-03-26T00:00:00.000000000",
          "2020-03-27T00:00:00.000000000",
          "2020-03-30T00:00:00.000000000",
          "2020-03-31T00:00:00.000000000",
          "2020-04-01T00:00:00.000000000",
          "2020-04-02T00:00:00.000000000",
          "2020-04-03T00:00:00.000000000",
          "2020-04-06T00:00:00.000000000",
          "2020-04-07T00:00:00.000000000",
          "2020-04-08T00:00:00.000000000",
          "2020-04-09T00:00:00.000000000",
          "2020-04-13T00:00:00.000000000",
          "2020-04-14T00:00:00.000000000",
          "2020-04-15T00:00:00.000000000",
          "2020-04-16T00:00:00.000000000",
          "2020-04-17T00:00:00.000000000",
          "2020-06-11T00:00:00.000000000",
          "2020-06-12T00:00:00.000000000",
          "2020-06-15T00:00:00.000000000",
          "2020-06-16T00:00:00.000000000",
          "2020-11-06T00:00:00.000000000",
          "2020-11-09T00:00:00.000000000",
          "2020-11-10T00:00:00.000000000",
          "2020-11-11T00:00:00.000000000",
          "2020-11-12T00:00:00.000000000",
          "2020-11-13T00:00:00.000000000",
          "2021-01-27T00:00:00.000000000",
          "2021-01-28T00:00:00.000000000",
          "2021-11-26T00:00:00.000000000",
          "2021-11-29T00:00:00.000000000",
          "2021-11-30T00:00:00.000000000",
          "2021-12-01T00:00:00.000000000",
          "2021-12-02T00:00:00.000000000",
          "2021-12-03T00:00:00.000000000",
          "2022-01-20T00:00:00.000000000",
          "2022-01-21T00:00:00.000000000",
          "2022-01-24T00:00:00.000000000",
          "2022-01-25T00:00:00.000000000",
          "2022-01-26T00:00:00.000000000",
          "2022-01-27T00:00:00.000000000",
          "2022-01-28T00:00:00.000000000",
          "2022-01-31T00:00:00.000000000",
          "2022-02-01T00:00:00.000000000",
          "2022-02-02T00:00:00.000000000",
          "2022-02-03T00:00:00.000000000",
          "2022-02-04T00:00:00.000000000",
          "2022-02-07T00:00:00.000000000",
          "2022-02-22T00:00:00.000000000",
          "2022-02-23T00:00:00.000000000",
          "2022-02-24T00:00:00.000000000",
          "2022-03-18T00:00:00.000000000",
          "2022-03-21T00:00:00.000000000",
          "2022-03-22T00:00:00.000000000",
          "2022-03-23T00:00:00.000000000",
          "2022-03-24T00:00:00.000000000",
          "2022-03-25T00:00:00.000000000",
          "2022-03-28T00:00:00.000000000",
          "2022-04-26T00:00:00.000000000",
          "2022-04-27T00:00:00.000000000",
          "2022-04-28T00:00:00.000000000",
          "2022-04-29T00:00:00.000000000",
          "2022-05-02T00:00:00.000000000",
          "2022-05-03T00:00:00.000000000",
          "2022-05-04T00:00:00.000000000",
          "2022-05-05T00:00:00.000000000",
          "2022-05-06T00:00:00.000000000",
          "2022-05-09T00:00:00.000000000",
          "2022-05-10T00:00:00.000000000",
          "2022-05-11T00:00:00.000000000",
          "2022-05-12T00:00:00.000000000",
          "2022-05-13T00:00:00.000000000",
          "2022-05-16T00:00:00.000000000",
          "2022-05-17T00:00:00.000000000",
          "2022-05-18T00:00:00.000000000",
          "2022-05-27T00:00:00.000000000",
          "2022-05-31T00:00:00.000000000",
          "2022-06-01T00:00:00.000000000",
          "2022-06-02T00:00:00.000000000",
          "2022-06-03T00:00:00.000000000",
          "2022-06-10T00:00:00.000000000",
          "2022-06-13T00:00:00.000000000",
          "2022-06-14T00:00:00.000000000",
          "2022-06-15T00:00:00.000000000",
          "2022-06-16T00:00:00.000000000",
          "2022-06-17T00:00:00.000000000",
          "2022-06-21T00:00:00.000000000",
          "2022-06-22T00:00:00.000000000",
          "2022-06-23T00:00:00.000000000",
          "2022-06-24T00:00:00.000000000",
          "2022-06-27T00:00:00.000000000",
          "2022-06-28T00:00:00.000000000",
          "2022-08-26T00:00:00.000000000",
          "2022-08-29T00:00:00.000000000",
          "2022-08-30T00:00:00.000000000",
          "2022-08-31T00:00:00.000000000",
          "2022-09-01T00:00:00.000000000",
          "2022-09-02T00:00:00.000000000",
          "2022-09-06T00:00:00.000000000",
          "2022-09-07T00:00:00.000000000",
          "2022-09-21T00:00:00.000000000",
          "2022-09-22T00:00:00.000000000",
          "2022-09-23T00:00:00.000000000",
          "2022-09-26T00:00:00.000000000",
          "2022-09-27T00:00:00.000000000",
          "2022-09-28T00:00:00.000000000",
          "2022-09-29T00:00:00.000000000",
          "2022-09-30T00:00:00.000000000",
          "2022-10-03T00:00:00.000000000",
          "2022-10-04T00:00:00.000000000",
          "2022-11-10T00:00:00.000000000",
          "2022-11-11T00:00:00.000000000",
          "2022-11-14T00:00:00.000000000",
          "2022-11-15T00:00:00.000000000",
          "2022-11-16T00:00:00.000000000",
          "2022-11-17T00:00:00.000000000",
          "2022-11-18T00:00:00.000000000",
          "2023-11-06T00:00:00.000000000",
          "2023-11-07T00:00:00.000000000",
          "2023-11-08T00:00:00.000000000",
          "2023-11-09T00:00:00.000000000",
          "2023-11-10T00:00:00.000000000",
          "2024-07-24T00:00:00.000000000",
          "2024-07-25T00:00:00.000000000",
          "2024-07-26T00:00:00.000000000"
         ],
         "xaxis": "x2",
         "y": {
          "bdata": "AAAAIFxPMUAAAADA9ahCQAAAAEDh+j1AAAAAQOG6O0AAAABA4bpAQAAAACBcDz1AAAAAACmcOUAAAABAClc3QAAAAGC43jhAAAAAIK4HNUAAAACAwvU2QAAAAEDh+jhAAAAAIFxPNUAAAADAzEw1QAAAAAApHD5AAAAAwPUIQkAAAADA9Wg+QAAAAIDC9T1AAAAAQAqXOEAAAAAghSs0QAAAACCuBzlAAAAAoJnZO0AAAAAgXI87QAAAAOB6lENAAAAAgBQOREAAAACAwrVAQAAAAMD1aEJAAAAAoHD9P0AAAAAgXM9DQAAAAOBR+ERAAAAAQOE6S0AAAABgZqZHQAAAAEAz80pAAAAAgBTeUkAAAACAPepMQAAAAAAprFRAAAAAgD36UkAAAADAzBxTQAAAAAAAAFJAAAAAYI+CUEAAAAAghctOQAAAAIDC1U5AAAAAoJn5T0AAAAAAAIBOQAAAAGCPYlBAAAAAgD2KTEAAAADAHsVKQAAAACCuh0xAAAAA4Hp0SUAAAABgZmZHQAAAAGC4nkZAAAAAoJlZR0AAAADAzKxFQAAAAIDC1URAAAAAgMKVREAAAACgR+FCQAAAACCFa0RAAAAAgBQOREAAAABAMxNDQAAAAMAeZURAAAAAIIULQkAAAABAMzNBQAAAAIDC1UBAAAAAACncOEAAAAAAAMA5QAAAAMDMzDhAAAAAQDNzN0AAAACgmVk5QAAAAKCZGTdAAAAAQOGaQkAAAACAwjU+QAAAAGC4njxAAAAAgML1NkAAAADgozA7QAAAAGC4Hj9AAAAAQDPzO0AAAAAghas+QAAAAEAKlzlAAAAAoJnZPEAAAABgZuY9QAAAAMD1KD9AAAAAgML1P0AAAACgcH0+QAAAAMD1qDtAAAAA4HrUOEAAAACAwvU1QAAAAEAKFzZAAAAAoJlZOEAAAADgUTg3QAAAAAAp3DZAAAAAIFzPPEAAAADAHgU/QAAAAIDrUT5AAAAAYLjeN0AAAAAgroc3QAAAAOCj8DZAAAAAgOuRN0AAAAAghas1QAAAACBczzRAAAAAoEehM0AAAABgj8JAQAAAAKCZmT9AAAAAoHD9PUAAAABAM7NAQAAAACCFK0BAAAAAAABAPUAAAAAghWs5QAAAAEAzMz9AAAAA4KMwPkAAAAAAAGBBQAAAAGC4fkBAAAAAIK5HQEAAAADAHsU/QAAAAGC43jxAAAAA4FF4O0AAAACgmRk6QAAAAIDC9T5AAAAA4FG4OUAAAADgozA6QAAAAOCjsDlAAAAA4FG4OEAAAACAPco4QAAAAAAAwDtAAAAAYI8CQUAAAADgUVhAQAAAAGC4nj1AAAAAoJl5QEAAAACgRyE/QAAAAOCjMD5AAAAAQDPzPEAAAADAzAw9QAAAAEDhOjtAAAAAQDPzOkAAAAAAKVw8QAAAACBcjzlAAAAAgMI1OkAAAACAwjU6QAAAAGC43jlAAAAAIFyPOUAAAADgUXg5QAAAAMD16DpAAAAAANejOEAAAACgcP07QAAAAKCZWTtAAAAAIIXrPUAAAACgRyFAQAAAAMDMTEBAAAAAgBQuPkAAAABACtc/QAAAAGC4nj9AAAAAoJkZPkAAAACA6xE9QAAAACCuhzdAAAAAwB6FNkAAAABA4bo3QAAAAIA9ijhAAAAAACkcOEAAAACAFO43QAAAAGC4HjdAAAAAIK7HLUAAAABguJ4tQAAAAGBm5ixAAAAA4HqULkAAAABAClcsQAAAAIA9CjJAAAAAgMJ1MkAAAAAA12MwQA==",
          "dtype": "f8"
         },
         "yaxis": "y2"
        },
        {
         "marker": {
          "color": "rgb(102,194,165)",
          "size": 6
         },
         "mode": "markers",
         "name": "Regime 0: Bull",
         "showlegend": false,
         "type": "scatter",
         "x": [
          "2018-01-02T00:00:00.000000000",
          "2018-01-03T00:00:00.000000000",
          "2018-01-04T00:00:00.000000000",
          "2018-01-05T00:00:00.000000000",
          "2018-01-08T00:00:00.000000000",
          "2018-01-09T00:00:00.000000000",
          "2018-01-10T00:00:00.000000000",
          "2018-01-11T00:00:00.000000000",
          "2018-01-12T00:00:00.000000000",
          "2018-01-16T00:00:00.000000000",
          "2018-01-17T00:00:00.000000000",
          "2018-01-18T00:00:00.000000000",
          "2018-01-19T00:00:00.000000000",
          "2018-01-22T00:00:00.000000000",
          "2018-01-23T00:00:00.000000000",
          "2018-01-24T00:00:00.000000000",
          "2018-01-25T00:00:00.000000000",
          "2018-01-26T00:00:00.000000000",
          "2018-01-29T00:00:00.000000000",
          "2018-01-30T00:00:00.000000000",
          "2018-01-31T00:00:00.000000000",
          "2018-02-01T00:00:00.000000000",
          "2018-02-23T00:00:00.000000000",
          "2018-02-26T00:00:00.000000000",
          "2018-02-27T00:00:00.000000000",
          "2018-02-28T00:00:00.000000000",
          "2018-03-01T00:00:00.000000000",
          "2018-03-02T00:00:00.000000000",
          "2018-03-05T00:00:00.000000000",
          "2018-03-06T00:00:00.000000000",
          "2018-03-07T00:00:00.000000000",
          "2018-03-08T00:00:00.000000000",
          "2018-03-09T00:00:00.000000000",
          "2018-03-12T00:00:00.000000000",
          "2018-03-13T00:00:00.000000000",
          "2018-03-14T00:00:00.000000000",
          "2018-03-15T00:00:00.000000000",
          "2018-03-16T00:00:00.000000000",
          "2018-03-19T00:00:00.000000000",
          "2018-03-20T00:00:00.000000000",
          "2018-03-21T00:00:00.000000000",
          "2018-04-04T00:00:00.000000000",
          "2018-04-05T00:00:00.000000000",
          "2018-04-06T00:00:00.000000000",
          "2018-04-09T00:00:00.000000000",
          "2018-04-10T00:00:00.000000000",
          "2018-04-11T00:00:00.000000000",
          "2018-04-12T00:00:00.000000000",
          "2018-04-13T00:00:00.000000000",
          "2018-04-16T00:00:00.000000000",
          "2018-04-17T00:00:00.000000000",
          "2018-04-18T00:00:00.000000000",
          "2018-04-19T00:00:00.000000000",
          "2018-04-20T00:00:00.000000000",
          "2018-04-23T00:00:00.000000000",
          "2018-04-24T00:00:00.000000000",
          "2018-04-25T00:00:00.000000000",
          "2018-04-26T00:00:00.000000000",
          "2018-04-27T00:00:00.000000000",
          "2018-04-30T00:00:00.000000000",
          "2018-05-01T00:00:00.000000000",
          "2018-05-02T00:00:00.000000000",
          "2018-05-03T00:00:00.000000000",
          "2018-05-04T00:00:00.000000000",
          "2018-05-07T00:00:00.000000000",
          "2018-05-08T00:00:00.000000000",
          "2018-05-09T00:00:00.000000000",
          "2018-05-10T00:00:00.000000000",
          "2018-05-11T00:00:00.000000000",
          "2018-05-14T00:00:00.000000000",
          "2018-05-15T00:00:00.000000000",
          "2018-05-16T00:00:00.000000000",
          "2018-05-17T00:00:00.000000000",
          "2018-05-18T00:00:00.000000000",
          "2018-05-21T00:00:00.000000000",
          "2018-05-22T00:00:00.000000000",
          "2018-05-23T00:00:00.000000000",
          "2018-05-24T00:00:00.000000000",
          "2018-05-25T00:00:00.000000000",
          "2018-05-29T00:00:00.000000000",
          "2018-05-30T00:00:00.000000000",
          "2018-05-31T00:00:00.000000000",
          "2018-06-01T00:00:00.000000000",
          "2018-06-04T00:00:00.000000000",
          "2018-06-05T00:00:00.000000000",
          "2018-06-06T00:00:00.000000000",
          "2018-06-07T00:00:00.000000000",
          "2018-06-08T00:00:00.000000000",
          "2018-06-11T00:00:00.000000000",
          "2018-06-12T00:00:00.000000000",
          "2018-06-13T00:00:00.000000000",
          "2018-06-14T00:00:00.000000000",
          "2018-06-15T00:00:00.000000000",
          "2018-06-18T00:00:00.000000000",
          "2018-06-19T00:00:00.000000000",
          "2018-06-20T00:00:00.000000000",
          "2018-06-21T00:00:00.000000000",
          "2018-06-22T00:00:00.000000000",
          "2018-06-25T00:00:00.000000000",
          "2018-06-26T00:00:00.000000000",
          "2018-06-27T00:00:00.000000000",
          "2018-06-28T00:00:00.000000000",
          "2018-06-29T00:00:00.000000000",
          "2018-07-02T00:00:00.000000000",
          "2018-07-03T00:00:00.000000000",
          "2018-07-05T00:00:00.000000000",
          "2018-07-06T00:00:00.000000000",
          "2018-07-09T00:00:00.000000000",
          "2018-07-10T00:00:00.000000000",
          "2018-07-11T00:00:00.000000000",
          "2018-07-12T00:00:00.000000000",
          "2018-07-13T00:00:00.000000000",
          "2018-07-16T00:00:00.000000000",
          "2018-07-17T00:00:00.000000000",
          "2018-07-18T00:00:00.000000000",
          "2018-07-19T00:00:00.000000000",
          "2018-07-20T00:00:00.000000000",
          "2018-07-23T00:00:00.000000000",
          "2018-07-24T00:00:00.000000000",
          "2018-07-25T00:00:00.000000000",
          "2018-07-26T00:00:00.000000000",
          "2018-07-27T00:00:00.000000000",
          "2018-07-30T00:00:00.000000000",
          "2018-07-31T00:00:00.000000000",
          "2018-08-01T00:00:00.000000000",
          "2018-08-02T00:00:00.000000000",
          "2018-08-03T00:00:00.000000000",
          "2018-08-06T00:00:00.000000000",
          "2018-08-07T00:00:00.000000000",
          "2018-08-08T00:00:00.000000000",
          "2018-08-09T00:00:00.000000000",
          "2018-08-10T00:00:00.000000000",
          "2018-08-13T00:00:00.000000000",
          "2018-08-14T00:00:00.000000000",
          "2018-08-15T00:00:00.000000000",
          "2018-08-16T00:00:00.000000000",
          "2018-08-17T00:00:00.000000000",
          "2018-08-20T00:00:00.000000000",
          "2018-08-21T00:00:00.000000000",
          "2018-08-22T00:00:00.000000000",
          "2018-08-23T00:00:00.000000000",
          "2018-08-24T00:00:00.000000000",
          "2018-08-27T00:00:00.000000000",
          "2018-08-28T00:00:00.000000000",
          "2018-08-29T00:00:00.000000000",
          "2018-08-30T00:00:00.000000000",
          "2018-08-31T00:00:00.000000000",
          "2018-09-04T00:00:00.000000000",
          "2018-09-05T00:00:00.000000000",
          "2018-09-06T00:00:00.000000000",
          "2018-09-07T00:00:00.000000000",
          "2018-09-10T00:00:00.000000000",
          "2018-09-11T00:00:00.000000000",
          "2018-09-12T00:00:00.000000000",
          "2018-09-13T00:00:00.000000000",
          "2018-09-14T00:00:00.000000000",
          "2018-09-17T00:00:00.000000000",
          "2018-09-18T00:00:00.000000000",
          "2018-09-19T00:00:00.000000000",
          "2018-09-20T00:00:00.000000000",
          "2018-09-21T00:00:00.000000000",
          "2018-09-24T00:00:00.000000000",
          "2018-09-25T00:00:00.000000000",
          "2018-09-26T00:00:00.000000000",
          "2018-09-27T00:00:00.000000000",
          "2018-09-28T00:00:00.000000000",
          "2018-10-01T00:00:00.000000000",
          "2018-10-02T00:00:00.000000000",
          "2018-10-03T00:00:00.000000000",
          "2018-10-04T00:00:00.000000000",
          "2018-10-05T00:00:00.000000000",
          "2018-10-08T00:00:00.000000000",
          "2018-10-09T00:00:00.000000000",
          "2019-01-17T00:00:00.000000000",
          "2019-01-18T00:00:00.000000000",
          "2019-01-22T00:00:00.000000000",
          "2019-01-23T00:00:00.000000000",
          "2019-01-24T00:00:00.000000000",
          "2019-01-25T00:00:00.000000000",
          "2019-01-28T00:00:00.000000000",
          "2019-01-29T00:00:00.000000000",
          "2019-01-30T00:00:00.000000000",
          "2019-01-31T00:00:00.000000000",
          "2019-02-01T00:00:00.000000000",
          "2019-02-04T00:00:00.000000000",
          "2019-02-05T00:00:00.000000000",
          "2019-02-06T00:00:00.000000000",
          "2019-02-07T00:00:00.000000000",
          "2019-02-08T00:00:00.000000000",
          "2019-02-11T00:00:00.000000000",
          "2019-02-12T00:00:00.000000000",
          "2019-02-13T00:00:00.000000000",
          "2019-02-14T00:00:00.000000000",
          "2019-02-15T00:00:00.000000000",
          "2019-02-19T00:00:00.000000000",
          "2019-02-20T00:00:00.000000000",
          "2019-02-21T00:00:00.000000000",
          "2019-02-22T00:00:00.000000000",
          "2019-02-25T00:00:00.000000000",
          "2019-02-26T00:00:00.000000000",
          "2019-02-27T00:00:00.000000000",
          "2019-02-28T00:00:00.000000000",
          "2019-03-01T00:00:00.000000000",
          "2019-03-04T00:00:00.000000000",
          "2019-03-05T00:00:00.000000000",
          "2019-03-06T00:00:00.000000000",
          "2019-03-07T00:00:00.000000000",
          "2019-03-08T00:00:00.000000000",
          "2019-03-11T00:00:00.000000000",
          "2019-03-12T00:00:00.000000000",
          "2019-03-13T00:00:00.000000000",
          "2019-03-14T00:00:00.000000000",
          "2019-03-15T00:00:00.000000000",
          "2019-03-18T00:00:00.000000000",
          "2019-03-19T00:00:00.000000000",
          "2019-03-20T00:00:00.000000000",
          "2019-03-21T00:00:00.000000000",
          "2019-03-22T00:00:00.000000000",
          "2019-03-25T00:00:00.000000000",
          "2019-03-26T00:00:00.000000000",
          "2019-03-27T00:00:00.000000000",
          "2019-03-28T00:00:00.000000000",
          "2019-03-29T00:00:00.000000000",
          "2019-04-01T00:00:00.000000000",
          "2019-04-02T00:00:00.000000000",
          "2019-04-03T00:00:00.000000000",
          "2019-04-04T00:00:00.000000000",
          "2019-04-05T00:00:00.000000000",
          "2019-04-08T00:00:00.000000000",
          "2019-04-09T00:00:00.000000000",
          "2019-04-10T00:00:00.000000000",
          "2019-04-11T00:00:00.000000000",
          "2019-04-12T00:00:00.000000000",
          "2019-04-15T00:00:00.000000000",
          "2019-04-16T00:00:00.000000000",
          "2019-04-17T00:00:00.000000000",
          "2019-04-18T00:00:00.000000000",
          "2019-04-22T00:00:00.000000000",
          "2019-04-23T00:00:00.000000000",
          "2019-04-24T00:00:00.000000000",
          "2019-04-25T00:00:00.000000000",
          "2019-04-26T00:00:00.000000000",
          "2019-04-29T00:00:00.000000000",
          "2019-04-30T00:00:00.000000000",
          "2019-05-01T00:00:00.000000000",
          "2019-05-02T00:00:00.000000000",
          "2019-05-03T00:00:00.000000000",
          "2019-05-06T00:00:00.000000000",
          "2019-05-07T00:00:00.000000000",
          "2019-05-08T00:00:00.000000000",
          "2019-05-09T00:00:00.000000000",
          "2019-05-10T00:00:00.000000000",
          "2019-05-15T00:00:00.000000000",
          "2019-05-16T00:00:00.000000000",
          "2019-05-17T00:00:00.000000000",
          "2019-05-20T00:00:00.000000000",
          "2019-05-21T00:00:00.000000000",
          "2019-05-22T00:00:00.000000000",
          "2019-05-23T00:00:00.000000000",
          "2019-05-24T00:00:00.000000000",
          "2019-05-28T00:00:00.000000000",
          "2019-05-29T00:00:00.000000000",
          "2019-05-30T00:00:00.000000000",
          "2019-05-31T00:00:00.000000000",
          "2019-06-03T00:00:00.000000000",
          "2019-06-04T00:00:00.000000000",
          "2019-06-05T00:00:00.000000000",
          "2019-06-06T00:00:00.000000000",
          "2019-06-17T00:00:00.000000000",
          "2019-06-18T00:00:00.000000000",
          "2019-06-19T00:00:00.000000000",
          "2019-06-20T00:00:00.000000000",
          "2019-06-21T00:00:00.000000000",
          "2019-06-24T00:00:00.000000000",
          "2019-06-25T00:00:00.000000000",
          "2019-06-26T00:00:00.000000000",
          "2019-06-27T00:00:00.000000000",
          "2019-06-28T00:00:00.000000000",
          "2019-07-01T00:00:00.000000000",
          "2019-07-02T00:00:00.000000000",
          "2019-07-03T00:00:00.000000000",
          "2019-07-05T00:00:00.000000000",
          "2019-07-08T00:00:00.000000000",
          "2019-07-09T00:00:00.000000000",
          "2019-07-10T00:00:00.000000000",
          "2019-07-11T00:00:00.000000000",
          "2019-07-12T00:00:00.000000000",
          "2019-07-15T00:00:00.000000000",
          "2019-07-16T00:00:00.000000000",
          "2019-07-17T00:00:00.000000000",
          "2019-07-18T00:00:00.000000000",
          "2019-07-19T00:00:00.000000000",
          "2019-07-22T00:00:00.000000000",
          "2019-07-23T00:00:00.000000000",
          "2019-07-24T00:00:00.000000000",
          "2019-07-25T00:00:00.000000000",
          "2019-07-26T00:00:00.000000000",
          "2019-07-29T00:00:00.000000000",
          "2019-07-30T00:00:00.000000000",
          "2019-07-31T00:00:00.000000000",
          "2019-08-01T00:00:00.000000000",
          "2019-08-02T00:00:00.000000000",
          "2019-08-15T00:00:00.000000000",
          "2019-08-16T00:00:00.000000000",
          "2019-08-19T00:00:00.000000000",
          "2019-08-20T00:00:00.000000000",
          "2019-08-21T00:00:00.000000000",
          "2019-08-22T00:00:00.000000000",
          "2019-08-23T00:00:00.000000000",
          "2019-08-26T00:00:00.000000000",
          "2019-08-27T00:00:00.000000000",
          "2019-08-28T00:00:00.000000000",
          "2019-08-29T00:00:00.000000000",
          "2019-08-30T00:00:00.000000000",
          "2019-09-03T00:00:00.000000000",
          "2019-09-04T00:00:00.000000000",
          "2019-09-05T00:00:00.000000000",
          "2019-09-06T00:00:00.000000000",
          "2019-09-09T00:00:00.000000000",
          "2019-09-10T00:00:00.000000000",
          "2019-09-11T00:00:00.000000000",
          "2019-09-12T00:00:00.000000000",
          "2019-09-13T00:00:00.000000000",
          "2019-09-16T00:00:00.000000000",
          "2019-09-17T00:00:00.000000000",
          "2019-09-18T00:00:00.000000000",
          "2019-09-19T00:00:00.000000000",
          "2019-09-20T00:00:00.000000000",
          "2019-09-23T00:00:00.000000000",
          "2019-09-24T00:00:00.000000000",
          "2019-09-25T00:00:00.000000000",
          "2019-09-26T00:00:00.000000000",
          "2019-09-27T00:00:00.000000000",
          "2019-09-30T00:00:00.000000000",
          "2019-10-01T00:00:00.000000000",
          "2019-10-02T00:00:00.000000000",
          "2019-10-03T00:00:00.000000000",
          "2019-10-04T00:00:00.000000000",
          "2019-10-07T00:00:00.000000000",
          "2019-10-08T00:00:00.000000000",
          "2019-10-09T00:00:00.000000000",
          "2019-10-10T00:00:00.000000000",
          "2019-10-11T00:00:00.000000000",
          "2019-10-14T00:00:00.000000000",
          "2019-10-15T00:00:00.000000000",
          "2019-10-16T00:00:00.000000000",
          "2019-10-17T00:00:00.000000000",
          "2019-10-18T00:00:00.000000000",
          "2019-10-21T00:00:00.000000000",
          "2019-10-22T00:00:00.000000000",
          "2019-10-23T00:00:00.000000000",
          "2019-10-24T00:00:00.000000000",
          "2019-10-25T00:00:00.000000000",
          "2019-10-28T00:00:00.000000000",
          "2019-10-29T00:00:00.000000000",
          "2019-10-30T00:00:00.000000000",
          "2019-10-31T00:00:00.000000000",
          "2019-11-01T00:00:00.000000000",
          "2019-11-04T00:00:00.000000000",
          "2019-11-05T00:00:00.000000000",
          "2019-11-06T00:00:00.000000000",
          "2019-11-07T00:00:00.000000000",
          "2019-11-08T00:00:00.000000000",
          "2019-11-11T00:00:00.000000000",
          "2019-11-12T00:00:00.000000000",
          "2019-11-13T00:00:00.000000000",
          "2019-11-14T00:00:00.000000000",
          "2019-11-15T00:00:00.000000000",
          "2019-11-18T00:00:00.000000000",
          "2019-11-19T00:00:00.000000000",
          "2019-11-20T00:00:00.000000000",
          "2019-11-21T00:00:00.000000000",
          "2019-11-22T00:00:00.000000000",
          "2019-11-25T00:00:00.000000000",
          "2019-11-26T00:00:00.000000000",
          "2019-11-27T00:00:00.000000000",
          "2019-11-29T00:00:00.000000000",
          "2019-12-02T00:00:00.000000000",
          "2019-12-03T00:00:00.000000000",
          "2019-12-04T00:00:00.000000000",
          "2019-12-05T00:00:00.000000000",
          "2019-12-06T00:00:00.000000000",
          "2019-12-09T00:00:00.000000000",
          "2019-12-10T00:00:00.000000000",
          "2019-12-11T00:00:00.000000000",
          "2019-12-12T00:00:00.000000000",
          "2019-12-13T00:00:00.000000000",
          "2019-12-16T00:00:00.000000000",
          "2019-12-17T00:00:00.000000000",
          "2019-12-18T00:00:00.000000000",
          "2019-12-19T00:00:00.000000000",
          "2019-12-20T00:00:00.000000000",
          "2019-12-23T00:00:00.000000000",
          "2019-12-24T00:00:00.000000000",
          "2019-12-26T00:00:00.000000000",
          "2019-12-27T00:00:00.000000000",
          "2019-12-30T00:00:00.000000000",
          "2019-12-31T00:00:00.000000000",
          "2020-01-02T00:00:00.000000000",
          "2020-01-03T00:00:00.000000000",
          "2020-01-06T00:00:00.000000000",
          "2020-01-07T00:00:00.000000000",
          "2020-01-08T00:00:00.000000000",
          "2020-01-09T00:00:00.000000000",
          "2020-01-10T00:00:00.000000000",
          "2020-01-13T00:00:00.000000000",
          "2020-01-14T00:00:00.000000000",
          "2020-01-15T00:00:00.000000000",
          "2020-01-16T00:00:00.000000000",
          "2020-01-17T00:00:00.000000000",
          "2020-01-21T00:00:00.000000000",
          "2020-01-22T00:00:00.000000000",
          "2020-01-23T00:00:00.000000000",
          "2020-01-24T00:00:00.000000000",
          "2020-01-27T00:00:00.000000000",
          "2020-01-28T00:00:00.000000000",
          "2020-01-29T00:00:00.000000000",
          "2020-01-30T00:00:00.000000000",
          "2020-01-31T00:00:00.000000000",
          "2020-02-03T00:00:00.000000000",
          "2020-02-04T00:00:00.000000000",
          "2020-02-05T00:00:00.000000000",
          "2020-02-06T00:00:00.000000000",
          "2020-02-18T00:00:00.000000000",
          "2020-02-19T00:00:00.000000000",
          "2020-02-20T00:00:00.000000000",
          "2020-02-21T00:00:00.000000000",
          "2020-07-14T00:00:00.000000000",
          "2020-07-15T00:00:00.000000000",
          "2020-07-16T00:00:00.000000000",
          "2020-07-17T00:00:00.000000000",
          "2020-07-20T00:00:00.000000000",
          "2020-07-21T00:00:00.000000000",
          "2020-07-22T00:00:00.000000000",
          "2020-07-23T00:00:00.000000000",
          "2020-07-24T00:00:00.000000000",
          "2020-07-27T00:00:00.000000000",
          "2020-07-28T00:00:00.000000000",
          "2020-07-29T00:00:00.000000000",
          "2020-07-30T00:00:00.000000000",
          "2020-07-31T00:00:00.000000000",
          "2020-08-03T00:00:00.000000000",
          "2020-08-04T00:00:00.000000000",
          "2020-08-05T00:00:00.000000000",
          "2020-08-13T00:00:00.000000000",
          "2020-08-14T00:00:00.000000000",
          "2020-08-17T00:00:00.000000000",
          "2020-08-18T00:00:00.000000000",
          "2020-08-19T00:00:00.000000000",
          "2020-08-20T00:00:00.000000000",
          "2020-08-21T00:00:00.000000000",
          "2020-08-24T00:00:00.000000000",
          "2020-08-25T00:00:00.000000000",
          "2020-08-26T00:00:00.000000000",
          "2020-10-20T00:00:00.000000000",
          "2020-10-21T00:00:00.000000000",
          "2020-10-22T00:00:00.000000000",
          "2020-10-23T00:00:00.000000000",
          "2020-10-26T00:00:00.000000000",
          "2020-10-27T00:00:00.000000000",
          "2020-11-19T00:00:00.000000000",
          "2020-11-20T00:00:00.000000000",
          "2020-11-23T00:00:00.000000000",
          "2020-11-24T00:00:00.000000000",
          "2020-11-25T00:00:00.000000000",
          "2020-11-27T00:00:00.000000000",
          "2020-11-30T00:00:00.000000000",
          "2020-12-01T00:00:00.000000000",
          "2020-12-02T00:00:00.000000000",
          "2020-12-03T00:00:00.000000000",
          "2020-12-04T00:00:00.000000000",
          "2020-12-07T00:00:00.000000000",
          "2020-12-08T00:00:00.000000000",
          "2020-12-09T00:00:00.000000000",
          "2020-12-10T00:00:00.000000000",
          "2020-12-11T00:00:00.000000000",
          "2020-12-14T00:00:00.000000000",
          "2020-12-15T00:00:00.000000000",
          "2020-12-16T00:00:00.000000000",
          "2020-12-17T00:00:00.000000000",
          "2020-12-18T00:00:00.000000000",
          "2020-12-21T00:00:00.000000000",
          "2020-12-22T00:00:00.000000000",
          "2020-12-23T00:00:00.000000000",
          "2020-12-24T00:00:00.000000000",
          "2020-12-28T00:00:00.000000000",
          "2020-12-29T00:00:00.000000000",
          "2020-12-30T00:00:00.000000000",
          "2020-12-31T00:00:00.000000000",
          "2021-01-04T00:00:00.000000000",
          "2021-01-05T00:00:00.000000000",
          "2021-01-06T00:00:00.000000000",
          "2021-01-07T00:00:00.000000000",
          "2021-01-08T00:00:00.000000000",
          "2021-01-11T00:00:00.000000000",
          "2021-01-12T00:00:00.000000000",
          "2021-01-13T00:00:00.000000000",
          "2021-01-14T00:00:00.000000000",
          "2021-01-15T00:00:00.000000000",
          "2021-01-19T00:00:00.000000000",
          "2021-01-20T00:00:00.000000000",
          "2021-01-21T00:00:00.000000000",
          "2021-01-22T00:00:00.000000000",
          "2021-01-25T00:00:00.000000000",
          "2021-01-26T00:00:00.000000000",
          "2021-02-16T00:00:00.000000000",
          "2021-02-17T00:00:00.000000000",
          "2021-02-18T00:00:00.000000000",
          "2021-02-19T00:00:00.000000000",
          "2021-02-22T00:00:00.000000000",
          "2021-02-23T00:00:00.000000000",
          "2021-02-24T00:00:00.000000000",
          "2021-03-22T00:00:00.000000000",
          "2021-03-23T00:00:00.000000000",
          "2021-03-24T00:00:00.000000000",
          "2021-03-25T00:00:00.000000000",
          "2021-03-26T00:00:00.000000000",
          "2021-03-29T00:00:00.000000000",
          "2021-03-30T00:00:00.000000000",
          "2021-03-31T00:00:00.000000000",
          "2021-04-16T00:00:00.000000000",
          "2021-04-19T00:00:00.000000000",
          "2021-04-20T00:00:00.000000000",
          "2021-04-21T00:00:00.000000000",
          "2021-04-22T00:00:00.000000000",
          "2021-04-23T00:00:00.000000000",
          "2021-04-26T00:00:00.000000000",
          "2021-04-27T00:00:00.000000000",
          "2021-04-28T00:00:00.000000000",
          "2021-04-29T00:00:00.000000000",
          "2021-04-30T00:00:00.000000000",
          "2021-05-03T00:00:00.000000000",
          "2021-05-04T00:00:00.000000000",
          "2021-05-05T00:00:00.000000000",
          "2021-05-06T00:00:00.000000000",
          "2021-05-07T00:00:00.000000000",
          "2021-05-10T00:00:00.000000000",
          "2021-05-11T00:00:00.000000000",
          "2021-05-21T00:00:00.000000000",
          "2021-05-24T00:00:00.000000000",
          "2021-05-25T00:00:00.000000000",
          "2021-05-26T00:00:00.000000000",
          "2021-05-27T00:00:00.000000000",
          "2021-05-28T00:00:00.000000000",
          "2021-06-01T00:00:00.000000000",
          "2021-06-02T00:00:00.000000000",
          "2021-06-03T00:00:00.000000000",
          "2021-06-04T00:00:00.000000000",
          "2021-06-07T00:00:00.000000000",
          "2021-06-08T00:00:00.000000000",
          "2021-06-09T00:00:00.000000000",
          "2021-06-10T00:00:00.000000000",
          "2021-06-11T00:00:00.000000000",
          "2021-06-14T00:00:00.000000000",
          "2021-06-15T00:00:00.000000000",
          "2021-06-16T00:00:00.000000000",
          "2021-06-17T00:00:00.000000000",
          "2021-06-18T00:00:00.000000000",
          "2021-06-21T00:00:00.000000000",
          "2021-06-22T00:00:00.000000000",
          "2021-06-23T00:00:00.000000000",
          "2021-06-24T00:00:00.000000000",
          "2021-06-25T00:00:00.000000000",
          "2021-06-28T00:00:00.000000000",
          "2021-06-29T00:00:00.000000000",
          "2021-06-30T00:00:00.000000000",
          "2021-07-01T00:00:00.000000000",
          "2021-07-02T00:00:00.000000000",
          "2021-07-06T00:00:00.000000000",
          "2021-07-07T00:00:00.000000000",
          "2021-07-08T00:00:00.000000000",
          "2021-07-09T00:00:00.000000000",
          "2021-07-12T00:00:00.000000000",
          "2021-07-13T00:00:00.000000000",
          "2021-07-14T00:00:00.000000000",
          "2021-07-15T00:00:00.000000000",
          "2021-07-16T00:00:00.000000000",
          "2021-07-19T00:00:00.000000000",
          "2021-07-20T00:00:00.000000000",
          "2021-07-21T00:00:00.000000000",
          "2021-07-22T00:00:00.000000000",
          "2021-08-02T00:00:00.000000000",
          "2021-08-03T00:00:00.000000000",
          "2021-08-04T00:00:00.000000000",
          "2021-08-05T00:00:00.000000000",
          "2021-08-06T00:00:00.000000000",
          "2021-08-09T00:00:00.000000000",
          "2021-08-10T00:00:00.000000000",
          "2021-08-11T00:00:00.000000000",
          "2021-08-12T00:00:00.000000000",
          "2021-08-13T00:00:00.000000000",
          "2021-08-16T00:00:00.000000000",
          "2021-08-17T00:00:00.000000000",
          "2021-08-18T00:00:00.000000000",
          "2021-08-19T00:00:00.000000000",
          "2021-08-20T00:00:00.000000000",
          "2021-08-23T00:00:00.000000000",
          "2021-08-24T00:00:00.000000000",
          "2021-08-25T00:00:00.000000000",
          "2021-08-26T00:00:00.000000000",
          "2021-08-27T00:00:00.000000000",
          "2021-08-30T00:00:00.000000000",
          "2021-08-31T00:00:00.000000000",
          "2021-09-01T00:00:00.000000000",
          "2021-09-02T00:00:00.000000000",
          "2021-09-03T00:00:00.000000000",
          "2021-09-07T00:00:00.000000000",
          "2021-09-08T00:00:00.000000000",
          "2021-09-09T00:00:00.000000000",
          "2021-09-10T00:00:00.000000000",
          "2021-09-13T00:00:00.000000000",
          "2021-09-14T00:00:00.000000000",
          "2021-09-15T00:00:00.000000000",
          "2021-09-16T00:00:00.000000000",
          "2021-09-17T00:00:00.000000000",
          "2021-10-11T00:00:00.000000000",
          "2021-10-12T00:00:00.000000000",
          "2021-10-13T00:00:00.000000000",
          "2021-10-14T00:00:00.000000000",
          "2021-10-29T00:00:00.000000000",
          "2021-11-01T00:00:00.000000000",
          "2021-11-02T00:00:00.000000000",
          "2021-11-03T00:00:00.000000000",
          "2021-11-11T00:00:00.000000000",
          "2021-11-12T00:00:00.000000000",
          "2021-11-15T00:00:00.000000000",
          "2021-11-16T00:00:00.000000000",
          "2021-11-17T00:00:00.000000000",
          "2021-11-18T00:00:00.000000000",
          "2021-11-19T00:00:00.000000000",
          "2021-11-22T00:00:00.000000000",
          "2021-11-23T00:00:00.000000000",
          "2021-11-24T00:00:00.000000000",
          "2022-11-23T00:00:00.000000000",
          "2022-11-25T00:00:00.000000000",
          "2022-11-28T00:00:00.000000000",
          "2022-11-29T00:00:00.000000000",
          "2022-12-30T00:00:00.000000000",
          "2023-01-03T00:00:00.000000000",
          "2023-01-04T00:00:00.000000000",
          "2023-01-05T00:00:00.000000000",
          "2023-02-13T00:00:00.000000000",
          "2023-02-14T00:00:00.000000000",
          "2023-02-15T00:00:00.000000000",
          "2023-02-16T00:00:00.000000000",
          "2023-02-17T00:00:00.000000000",
          "2023-04-12T00:00:00.000000000",
          "2023-04-13T00:00:00.000000000",
          "2023-04-14T00:00:00.000000000",
          "2023-04-17T00:00:00.000000000",
          "2023-04-18T00:00:00.000000000",
          "2023-04-19T00:00:00.000000000",
          "2023-04-20T00:00:00.000000000",
          "2023-04-21T00:00:00.000000000",
          "2023-04-24T00:00:00.000000000",
          "2023-04-25T00:00:00.000000000",
          "2023-04-26T00:00:00.000000000",
          "2023-05-10T00:00:00.000000000",
          "2023-05-11T00:00:00.000000000",
          "2023-05-12T00:00:00.000000000",
          "2023-05-15T00:00:00.000000000",
          "2023-05-16T00:00:00.000000000",
          "2023-05-17T00:00:00.000000000",
          "2023-05-18T00:00:00.000000000",
          "2023-05-19T00:00:00.000000000",
          "2023-05-22T00:00:00.000000000",
          "2023-05-23T00:00:00.000000000",
          "2023-05-24T00:00:00.000000000",
          "2023-05-25T00:00:00.000000000",
          "2023-05-26T00:00:00.000000000",
          "2023-05-30T00:00:00.000000000",
          "2023-05-31T00:00:00.000000000",
          "2023-06-01T00:00:00.000000000",
          "2023-06-23T00:00:00.000000000",
          "2023-06-26T00:00:00.000000000",
          "2023-06-27T00:00:00.000000000",
          "2023-06-28T00:00:00.000000000",
          "2023-06-29T00:00:00.000000000",
          "2023-06-30T00:00:00.000000000",
          "2023-07-11T00:00:00.000000000",
          "2023-07-12T00:00:00.000000000",
          "2023-07-13T00:00:00.000000000",
          "2023-07-14T00:00:00.000000000",
          "2023-07-25T00:00:00.000000000",
          "2023-07-26T00:00:00.000000000",
          "2023-07-27T00:00:00.000000000",
          "2023-07-28T00:00:00.000000000",
          "2023-07-31T00:00:00.000000000",
          "2023-08-01T00:00:00.000000000",
          "2023-08-02T00:00:00.000000000",
          "2023-08-03T00:00:00.000000000",
          "2023-09-08T00:00:00.000000000",
          "2023-09-11T00:00:00.000000000",
          "2023-09-12T00:00:00.000000000",
          "2023-09-13T00:00:00.000000000",
          "2023-09-14T00:00:00.000000000",
          "2023-09-15T00:00:00.000000000",
          "2023-09-18T00:00:00.000000000",
          "2023-09-19T00:00:00.000000000",
          "2023-09-20T00:00:00.000000000",
          "2023-10-04T00:00:00.000000000",
          "2023-10-05T00:00:00.000000000",
          "2023-10-06T00:00:00.000000000",
          "2023-10-09T00:00:00.000000000",
          "2023-10-10T00:00:00.000000000",
          "2023-11-28T00:00:00.000000000",
          "2023-11-29T00:00:00.000000000",
          "2023-11-30T00:00:00.000000000",
          "2023-12-01T00:00:00.000000000",
          "2023-12-04T00:00:00.000000000",
          "2023-12-05T00:00:00.000000000",
          "2023-12-06T00:00:00.000000000",
          "2023-12-07T00:00:00.000000000",
          "2023-12-08T00:00:00.000000000",
          "2023-12-11T00:00:00.000000000",
          "2023-12-12T00:00:00.000000000",
          "2023-12-27T00:00:00.000000000",
          "2023-12-28T00:00:00.000000000",
          "2023-12-29T00:00:00.000000000",
          "2024-01-02T00:00:00.000000000",
          "2024-01-03T00:00:00.000000000",
          "2024-01-04T00:00:00.000000000",
          "2024-01-05T00:00:00.000000000",
          "2024-01-08T00:00:00.000000000",
          "2024-01-09T00:00:00.000000000",
          "2024-01-10T00:00:00.000000000",
          "2024-01-11T00:00:00.000000000",
          "2024-01-12T00:00:00.000000000",
          "2024-01-16T00:00:00.000000000",
          "2024-01-17T00:00:00.000000000",
          "2024-01-18T00:00:00.000000000",
          "2024-01-19T00:00:00.000000000",
          "2024-01-22T00:00:00.000000000",
          "2024-02-15T00:00:00.000000000",
          "2024-02-16T00:00:00.000000000",
          "2024-02-20T00:00:00.000000000",
          "2024-02-21T00:00:00.000000000",
          "2024-03-06T00:00:00.000000000",
          "2024-03-07T00:00:00.000000000",
          "2024-03-08T00:00:00.000000000",
          "2024-03-11T00:00:00.000000000",
          "2024-03-12T00:00:00.000000000",
          "2024-03-13T00:00:00.000000000",
          "2024-03-14T00:00:00.000000000",
          "2024-03-15T00:00:00.000000000",
          "2024-03-18T00:00:00.000000000",
          "2024-03-19T00:00:00.000000000",
          "2024-03-20T00:00:00.000000000",
          "2024-04-01T00:00:00.000000000",
          "2024-04-02T00:00:00.000000000",
          "2024-04-03T00:00:00.000000000",
          "2024-04-04T00:00:00.000000000",
          "2024-04-05T00:00:00.000000000",
          "2024-04-08T00:00:00.000000000",
          "2024-04-09T00:00:00.000000000",
          "2024-04-10T00:00:00.000000000",
          "2024-04-11T00:00:00.000000000",
          "2024-05-24T00:00:00.000000000",
          "2024-05-28T00:00:00.000000000",
          "2024-05-29T00:00:00.000000000",
          "2024-05-30T00:00:00.000000000",
          "2024-05-31T00:00:00.000000000",
          "2024-06-03T00:00:00.000000000",
          "2024-06-04T00:00:00.000000000",
          "2024-06-05T00:00:00.000000000",
          "2024-06-06T00:00:00.000000000",
          "2024-06-25T00:00:00.000000000",
          "2024-06-26T00:00:00.000000000",
          "2024-06-27T00:00:00.000000000",
          "2024-06-28T00:00:00.000000000",
          "2024-07-01T00:00:00.000000000",
          "2024-07-02T00:00:00.000000000",
          "2024-07-03T00:00:00.000000000",
          "2024-07-05T00:00:00.000000000"
         ],
         "xaxis": "x3",
         "y": {
          "bdata": "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",
          "dtype": "f8"
         },
         "yaxis": "y3"
        },
        {
         "marker": {
          "color": "rgb(252,141,98)",
          "size": 6
         },
         "mode": "markers",
         "name": "Regime 1: Neutral",
         "showlegend": false,
         "type": "scatter",
         "x": [
          "2018-02-13T00:00:00.000000000",
          "2018-02-14T00:00:00.000000000",
          "2018-02-15T00:00:00.000000000",
          "2018-02-16T00:00:00.000000000",
          "2018-02-20T00:00:00.000000000",
          "2018-02-21T00:00:00.000000000",
          "2018-02-22T00:00:00.000000000",
          "2018-03-27T00:00:00.000000000",
          "2018-03-28T00:00:00.000000000",
          "2018-03-29T00:00:00.000000000",
          "2018-04-02T00:00:00.000000000",
          "2018-04-03T00:00:00.000000000",
          "2018-10-16T00:00:00.000000000",
          "2018-10-17T00:00:00.000000000",
          "2018-10-18T00:00:00.000000000",
          "2018-10-19T00:00:00.000000000",
          "2018-10-22T00:00:00.000000000",
          "2018-10-23T00:00:00.000000000",
          "2018-10-24T00:00:00.000000000",
          "2018-10-25T00:00:00.000000000",
          "2018-10-26T00:00:00.000000000",
          "2018-10-29T00:00:00.000000000",
          "2018-10-30T00:00:00.000000000",
          "2018-10-31T00:00:00.000000000",
          "2018-11-01T00:00:00.000000000",
          "2018-11-02T00:00:00.000000000",
          "2018-11-05T00:00:00.000000000",
          "2018-11-06T00:00:00.000000000",
          "2018-11-07T00:00:00.000000000",
          "2018-11-08T00:00:00.000000000",
          "2018-11-09T00:00:00.000000000",
          "2018-11-12T00:00:00.000000000",
          "2018-11-13T00:00:00.000000000",
          "2018-11-14T00:00:00.000000000",
          "2018-11-15T00:00:00.000000000",
          "2018-11-16T00:00:00.000000000",
          "2018-11-19T00:00:00.000000000",
          "2018-11-20T00:00:00.000000000",
          "2018-11-21T00:00:00.000000000",
          "2018-11-23T00:00:00.000000000",
          "2018-11-26T00:00:00.000000000",
          "2018-11-27T00:00:00.000000000",
          "2018-11-28T00:00:00.000000000",
          "2018-11-29T00:00:00.000000000",
          "2018-11-30T00:00:00.000000000",
          "2018-12-03T00:00:00.000000000",
          "2018-12-04T00:00:00.000000000",
          "2018-12-06T00:00:00.000000000",
          "2018-12-07T00:00:00.000000000",
          "2018-12-10T00:00:00.000000000",
          "2018-12-11T00:00:00.000000000",
          "2018-12-12T00:00:00.000000000",
          "2018-12-13T00:00:00.000000000",
          "2018-12-14T00:00:00.000000000",
          "2018-12-17T00:00:00.000000000",
          "2018-12-18T00:00:00.000000000",
          "2018-12-19T00:00:00.000000000",
          "2018-12-20T00:00:00.000000000",
          "2018-12-28T00:00:00.000000000",
          "2018-12-31T00:00:00.000000000",
          "2019-01-02T00:00:00.000000000",
          "2019-01-03T00:00:00.000000000",
          "2019-01-04T00:00:00.000000000",
          "2019-01-07T00:00:00.000000000",
          "2019-01-08T00:00:00.000000000",
          "2019-01-09T00:00:00.000000000",
          "2019-01-10T00:00:00.000000000",
          "2019-01-11T00:00:00.000000000",
          "2019-01-14T00:00:00.000000000",
          "2019-01-15T00:00:00.000000000",
          "2019-01-16T00:00:00.000000000",
          "2019-05-13T00:00:00.000000000",
          "2019-05-14T00:00:00.000000000",
          "2019-06-07T00:00:00.000000000",
          "2019-06-10T00:00:00.000000000",
          "2019-06-11T00:00:00.000000000",
          "2019-06-12T00:00:00.000000000",
          "2019-06-13T00:00:00.000000000",
          "2019-06-14T00:00:00.000000000",
          "2019-08-07T00:00:00.000000000",
          "2019-08-08T00:00:00.000000000",
          "2019-08-09T00:00:00.000000000",
          "2019-08-12T00:00:00.000000000",
          "2019-08-13T00:00:00.000000000",
          "2019-08-14T00:00:00.000000000",
          "2020-02-07T00:00:00.000000000",
          "2020-02-10T00:00:00.000000000",
          "2020-02-11T00:00:00.000000000",
          "2020-02-12T00:00:00.000000000",
          "2020-02-13T00:00:00.000000000",
          "2020-02-14T00:00:00.000000000",
          "2020-04-20T00:00:00.000000000",
          "2020-04-21T00:00:00.000000000",
          "2020-04-22T00:00:00.000000000",
          "2020-04-23T00:00:00.000000000",
          "2020-04-24T00:00:00.000000000",
          "2020-04-27T00:00:00.000000000",
          "2020-04-28T00:00:00.000000000",
          "2020-04-29T00:00:00.000000000",
          "2020-04-30T00:00:00.000000000",
          "2020-05-01T00:00:00.000000000",
          "2020-05-04T00:00:00.000000000",
          "2020-05-05T00:00:00.000000000",
          "2020-05-06T00:00:00.000000000",
          "2020-05-07T00:00:00.000000000",
          "2020-05-08T00:00:00.000000000",
          "2020-05-11T00:00:00.000000000",
          "2020-05-12T00:00:00.000000000",
          "2020-05-13T00:00:00.000000000",
          "2020-05-14T00:00:00.000000000",
          "2020-05-15T00:00:00.000000000",
          "2020-05-18T00:00:00.000000000",
          "2020-05-19T00:00:00.000000000",
          "2020-05-20T00:00:00.000000000",
          "2020-05-21T00:00:00.000000000",
          "2020-05-22T00:00:00.000000000",
          "2020-05-26T00:00:00.000000000",
          "2020-05-27T00:00:00.000000000",
          "2020-05-28T00:00:00.000000000",
          "2020-05-29T00:00:00.000000000",
          "2020-06-01T00:00:00.000000000",
          "2020-06-02T00:00:00.000000000",
          "2020-06-03T00:00:00.000000000",
          "2020-06-04T00:00:00.000000000",
          "2020-06-05T00:00:00.000000000",
          "2020-06-08T00:00:00.000000000",
          "2020-06-09T00:00:00.000000000",
          "2020-06-10T00:00:00.000000000",
          "2020-06-17T00:00:00.000000000",
          "2020-06-18T00:00:00.000000000",
          "2020-06-19T00:00:00.000000000",
          "2020-06-22T00:00:00.000000000",
          "2020-06-23T00:00:00.000000000",
          "2020-06-24T00:00:00.000000000",
          "2020-06-25T00:00:00.000000000",
          "2020-06-26T00:00:00.000000000",
          "2020-06-29T00:00:00.000000000",
          "2020-06-30T00:00:00.000000000",
          "2020-07-01T00:00:00.000000000",
          "2020-07-02T00:00:00.000000000",
          "2020-07-06T00:00:00.000000000",
          "2020-07-07T00:00:00.000000000",
          "2020-07-08T00:00:00.000000000",
          "2020-07-09T00:00:00.000000000",
          "2020-07-10T00:00:00.000000000",
          "2020-07-13T00:00:00.000000000",
          "2020-08-06T00:00:00.000000000",
          "2020-08-07T00:00:00.000000000",
          "2020-08-10T00:00:00.000000000",
          "2020-08-11T00:00:00.000000000",
          "2020-08-12T00:00:00.000000000",
          "2020-08-27T00:00:00.000000000",
          "2020-08-28T00:00:00.000000000",
          "2020-08-31T00:00:00.000000000",
          "2020-09-01T00:00:00.000000000",
          "2020-09-02T00:00:00.000000000",
          "2020-09-03T00:00:00.000000000",
          "2020-09-04T00:00:00.000000000",
          "2020-09-08T00:00:00.000000000",
          "2020-09-09T00:00:00.000000000",
          "2020-09-10T00:00:00.000000000",
          "2020-09-11T00:00:00.000000000",
          "2020-09-14T00:00:00.000000000",
          "2020-09-15T00:00:00.000000000",
          "2020-09-16T00:00:00.000000000",
          "2020-09-17T00:00:00.000000000",
          "2020-09-18T00:00:00.000000000",
          "2020-09-21T00:00:00.000000000",
          "2020-09-22T00:00:00.000000000",
          "2020-09-23T00:00:00.000000000",
          "2020-09-24T00:00:00.000000000",
          "2020-09-25T00:00:00.000000000",
          "2020-09-28T00:00:00.000000000",
          "2020-09-29T00:00:00.000000000",
          "2020-09-30T00:00:00.000000000",
          "2020-10-01T00:00:00.000000000",
          "2020-10-02T00:00:00.000000000",
          "2020-10-05T00:00:00.000000000",
          "2020-10-06T00:00:00.000000000",
          "2020-10-07T00:00:00.000000000",
          "2020-10-08T00:00:00.000000000",
          "2020-10-09T00:00:00.000000000",
          "2020-10-12T00:00:00.000000000",
          "2020-10-13T00:00:00.000000000",
          "2020-10-14T00:00:00.000000000",
          "2020-10-15T00:00:00.000000000",
          "2020-10-16T00:00:00.000000000",
          "2020-10-19T00:00:00.000000000",
          "2020-10-28T00:00:00.000000000",
          "2020-10-29T00:00:00.000000000",
          "2020-10-30T00:00:00.000000000",
          "2020-11-02T00:00:00.000000000",
          "2020-11-03T00:00:00.000000000",
          "2020-11-04T00:00:00.000000000",
          "2020-11-05T00:00:00.000000000",
          "2020-11-16T00:00:00.000000000",
          "2020-11-17T00:00:00.000000000",
          "2020-11-18T00:00:00.000000000",
          "2021-01-29T00:00:00.000000000",
          "2021-02-01T00:00:00.000000000",
          "2021-02-02T00:00:00.000000000",
          "2021-02-03T00:00:00.000000000",
          "2021-02-04T00:00:00.000000000",
          "2021-02-05T00:00:00.000000000",
          "2021-02-08T00:00:00.000000000",
          "2021-02-09T00:00:00.000000000",
          "2021-02-10T00:00:00.000000000",
          "2021-02-11T00:00:00.000000000",
          "2021-02-12T00:00:00.000000000",
          "2021-02-25T00:00:00.000000000",
          "2021-02-26T00:00:00.000000000",
          "2021-03-01T00:00:00.000000000",
          "2021-03-02T00:00:00.000000000",
          "2021-03-03T00:00:00.000000000",
          "2021-03-04T00:00:00.000000000",
          "2021-03-05T00:00:00.000000000",
          "2021-03-08T00:00:00.000000000",
          "2021-03-09T00:00:00.000000000",
          "2021-03-10T00:00:00.000000000",
          "2021-03-11T00:00:00.000000000",
          "2021-03-12T00:00:00.000000000",
          "2021-03-15T00:00:00.000000000",
          "2021-03-16T00:00:00.000000000",
          "2021-03-17T00:00:00.000000000",
          "2021-03-18T00:00:00.000000000",
          "2021-03-19T00:00:00.000000000",
          "2021-04-01T00:00:00.000000000",
          "2021-04-05T00:00:00.000000000",
          "2021-04-06T00:00:00.000000000",
          "2021-04-07T00:00:00.000000000",
          "2021-04-08T00:00:00.000000000",
          "2021-04-09T00:00:00.000000000",
          "2021-04-12T00:00:00.000000000",
          "2021-04-13T00:00:00.000000000",
          "2021-04-14T00:00:00.000000000",
          "2021-04-15T00:00:00.000000000",
          "2021-05-12T00:00:00.000000000",
          "2021-05-13T00:00:00.000000000",
          "2021-05-14T00:00:00.000000000",
          "2021-05-17T00:00:00.000000000",
          "2021-05-18T00:00:00.000000000",
          "2021-05-19T00:00:00.000000000",
          "2021-05-20T00:00:00.000000000",
          "2021-07-23T00:00:00.000000000",
          "2021-07-26T00:00:00.000000000",
          "2021-07-27T00:00:00.000000000",
          "2021-07-28T00:00:00.000000000",
          "2021-07-29T00:00:00.000000000",
          "2021-07-30T00:00:00.000000000",
          "2021-09-20T00:00:00.000000000",
          "2021-09-21T00:00:00.000000000",
          "2021-09-22T00:00:00.000000000",
          "2021-09-23T00:00:00.000000000",
          "2021-09-24T00:00:00.000000000",
          "2021-09-27T00:00:00.000000000",
          "2021-09-28T00:00:00.000000000",
          "2021-09-29T00:00:00.000000000",
          "2021-09-30T00:00:00.000000000",
          "2021-10-01T00:00:00.000000000",
          "2021-10-04T00:00:00.000000000",
          "2021-10-05T00:00:00.000000000",
          "2021-10-06T00:00:00.000000000",
          "2021-10-07T00:00:00.000000000",
          "2021-10-08T00:00:00.000000000",
          "2021-10-15T00:00:00.000000000",
          "2021-10-18T00:00:00.000000000",
          "2021-10-19T00:00:00.000000000",
          "2021-10-20T00:00:00.000000000",
          "2021-10-21T00:00:00.000000000",
          "2021-10-22T00:00:00.000000000",
          "2021-10-25T00:00:00.000000000",
          "2021-10-26T00:00:00.000000000",
          "2021-10-27T00:00:00.000000000",
          "2021-10-28T00:00:00.000000000",
          "2021-11-04T00:00:00.000000000",
          "2021-11-05T00:00:00.000000000",
          "2021-11-08T00:00:00.000000000",
          "2021-11-09T00:00:00.000000000",
          "2021-11-10T00:00:00.000000000",
          "2021-12-06T00:00:00.000000000",
          "2021-12-07T00:00:00.000000000",
          "2021-12-08T00:00:00.000000000",
          "2021-12-09T00:00:00.000000000",
          "2021-12-10T00:00:00.000000000",
          "2021-12-13T00:00:00.000000000",
          "2021-12-14T00:00:00.000000000",
          "2021-12-15T00:00:00.000000000",
          "2021-12-16T00:00:00.000000000",
          "2021-12-17T00:00:00.000000000",
          "2021-12-20T00:00:00.000000000",
          "2021-12-21T00:00:00.000000000",
          "2021-12-22T00:00:00.000000000",
          "2021-12-23T00:00:00.000000000",
          "2021-12-27T00:00:00.000000000",
          "2021-12-28T00:00:00.000000000",
          "2021-12-29T00:00:00.000000000",
          "2021-12-30T00:00:00.000000000",
          "2021-12-31T00:00:00.000000000",
          "2022-01-03T00:00:00.000000000",
          "2022-01-04T00:00:00.000000000",
          "2022-01-05T00:00:00.000000000",
          "2022-01-06T00:00:00.000000000",
          "2022-01-07T00:00:00.000000000",
          "2022-01-10T00:00:00.000000000",
          "2022-01-11T00:00:00.000000000",
          "2022-01-12T00:00:00.000000000",
          "2022-01-13T00:00:00.000000000",
          "2022-01-14T00:00:00.000000000",
          "2022-01-18T00:00:00.000000000",
          "2022-01-19T00:00:00.000000000",
          "2022-02-08T00:00:00.000000000",
          "2022-02-09T00:00:00.000000000",
          "2022-02-10T00:00:00.000000000",
          "2022-02-11T00:00:00.000000000",
          "2022-02-14T00:00:00.000000000",
          "2022-02-15T00:00:00.000000000",
          "2022-02-16T00:00:00.000000000",
          "2022-02-17T00:00:00.000000000",
          "2022-02-18T00:00:00.000000000",
          "2022-02-25T00:00:00.000000000",
          "2022-02-28T00:00:00.000000000",
          "2022-03-01T00:00:00.000000000",
          "2022-03-02T00:00:00.000000000",
          "2022-03-03T00:00:00.000000000",
          "2022-03-04T00:00:00.000000000",
          "2022-03-07T00:00:00.000000000",
          "2022-03-08T00:00:00.000000000",
          "2022-03-09T00:00:00.000000000",
          "2022-03-10T00:00:00.000000000",
          "2022-03-11T00:00:00.000000000",
          "2022-03-14T00:00:00.000000000",
          "2022-03-15T00:00:00.000000000",
          "2022-03-16T00:00:00.000000000",
          "2022-03-17T00:00:00.000000000",
          "2022-03-29T00:00:00.000000000",
          "2022-03-30T00:00:00.000000000",
          "2022-03-31T00:00:00.000000000",
          "2022-04-01T00:00:00.000000000",
          "2022-04-04T00:00:00.000000000",
          "2022-04-05T00:00:00.000000000",
          "2022-04-06T00:00:00.000000000",
          "2022-04-07T00:00:00.000000000",
          "2022-04-08T00:00:00.000000000",
          "2022-04-11T00:00:00.000000000",
          "2022-04-12T00:00:00.000000000",
          "2022-04-13T00:00:00.000000000",
          "2022-04-14T00:00:00.000000000",
          "2022-04-18T00:00:00.000000000",
          "2022-04-19T00:00:00.000000000",
          "2022-04-20T00:00:00.000000000",
          "2022-04-21T00:00:00.000000000",
          "2022-04-22T00:00:00.000000000",
          "2022-04-25T00:00:00.000000000",
          "2022-05-19T00:00:00.000000000",
          "2022-05-20T00:00:00.000000000",
          "2022-05-23T00:00:00.000000000",
          "2022-05-24T00:00:00.000000000",
          "2022-05-25T00:00:00.000000000",
          "2022-05-26T00:00:00.000000000",
          "2022-06-06T00:00:00.000000000",
          "2022-06-07T00:00:00.000000000",
          "2022-06-08T00:00:00.000000000",
          "2022-06-09T00:00:00.000000000",
          "2022-06-29T00:00:00.000000000",
          "2022-06-30T00:00:00.000000000",
          "2022-07-01T00:00:00.000000000",
          "2022-07-05T00:00:00.000000000",
          "2022-07-06T00:00:00.000000000",
          "2022-07-07T00:00:00.000000000",
          "2022-07-08T00:00:00.000000000",
          "2022-07-11T00:00:00.000000000",
          "2022-07-12T00:00:00.000000000",
          "2022-07-13T00:00:00.000000000",
          "2022-07-14T00:00:00.000000000",
          "2022-07-15T00:00:00.000000000",
          "2022-07-18T00:00:00.000000000",
          "2022-07-19T00:00:00.000000000",
          "2022-07-20T00:00:00.000000000",
          "2022-07-21T00:00:00.000000000",
          "2022-07-22T00:00:00.000000000",
          "2022-07-25T00:00:00.000000000",
          "2022-07-26T00:00:00.000000000",
          "2022-07-27T00:00:00.000000000",
          "2022-07-28T00:00:00.000000000",
          "2022-07-29T00:00:00.000000000",
          "2022-08-01T00:00:00.000000000",
          "2022-08-02T00:00:00.000000000",
          "2022-08-03T00:00:00.000000000",
          "2022-08-04T00:00:00.000000000",
          "2022-08-05T00:00:00.000000000",
          "2022-08-08T00:00:00.000000000",
          "2022-08-09T00:00:00.000000000",
          "2022-08-10T00:00:00.000000000",
          "2022-08-11T00:00:00.000000000",
          "2022-08-12T00:00:00.000000000",
          "2022-08-15T00:00:00.000000000",
          "2022-08-16T00:00:00.000000000",
          "2022-08-17T00:00:00.000000000",
          "2022-08-18T00:00:00.000000000",
          "2022-08-19T00:00:00.000000000",
          "2022-08-22T00:00:00.000000000",
          "2022-08-23T00:00:00.000000000",
          "2022-08-24T00:00:00.000000000",
          "2022-08-25T00:00:00.000000000",
          "2022-09-08T00:00:00.000000000",
          "2022-09-09T00:00:00.000000000",
          "2022-09-12T00:00:00.000000000",
          "2022-09-13T00:00:00.000000000",
          "2022-09-14T00:00:00.000000000",
          "2022-09-15T00:00:00.000000000",
          "2022-09-16T00:00:00.000000000",
          "2022-09-19T00:00:00.000000000",
          "2022-09-20T00:00:00.000000000",
          "2022-10-05T00:00:00.000000000",
          "2022-10-06T00:00:00.000000000",
          "2022-10-07T00:00:00.000000000",
          "2022-10-10T00:00:00.000000000",
          "2022-10-11T00:00:00.000000000",
          "2022-10-12T00:00:00.000000000",
          "2022-10-13T00:00:00.000000000",
          "2022-10-14T00:00:00.000000000",
          "2022-10-17T00:00:00.000000000",
          "2022-10-18T00:00:00.000000000",
          "2022-10-19T00:00:00.000000000",
          "2022-10-20T00:00:00.000000000",
          "2022-10-21T00:00:00.000000000",
          "2022-10-24T00:00:00.000000000",
          "2022-10-25T00:00:00.000000000",
          "2022-10-26T00:00:00.000000000",
          "2022-10-27T00:00:00.000000000",
          "2022-10-28T00:00:00.000000000",
          "2022-10-31T00:00:00.000000000",
          "2022-11-01T00:00:00.000000000",
          "2022-11-02T00:00:00.000000000",
          "2022-11-03T00:00:00.000000000",
          "2022-11-04T00:00:00.000000000",
          "2022-11-07T00:00:00.000000000",
          "2022-11-08T00:00:00.000000000",
          "2022-11-09T00:00:00.000000000",
          "2022-11-21T00:00:00.000000000",
          "2022-11-22T00:00:00.000000000",
          "2022-11-30T00:00:00.000000000",
          "2022-12-01T00:00:00.000000000",
          "2022-12-02T00:00:00.000000000",
          "2022-12-05T00:00:00.000000000",
          "2022-12-06T00:00:00.000000000",
          "2022-12-07T00:00:00.000000000",
          "2022-12-08T00:00:00.000000000",
          "2022-12-09T00:00:00.000000000",
          "2022-12-12T00:00:00.000000000",
          "2022-12-13T00:00:00.000000000",
          "2022-12-14T00:00:00.000000000",
          "2022-12-15T00:00:00.000000000",
          "2022-12-16T00:00:00.000000000",
          "2022-12-19T00:00:00.000000000",
          "2022-12-20T00:00:00.000000000",
          "2022-12-21T00:00:00.000000000",
          "2022-12-22T00:00:00.000000000",
          "2022-12-23T00:00:00.000000000",
          "2022-12-27T00:00:00.000000000",
          "2022-12-28T00:00:00.000000000",
          "2022-12-29T00:00:00.000000000",
          "2023-01-06T00:00:00.000000000",
          "2023-01-09T00:00:00.000000000",
          "2023-01-10T00:00:00.000000000",
          "2023-01-11T00:00:00.000000000",
          "2023-01-12T00:00:00.000000000",
          "2023-01-13T00:00:00.000000000",
          "2023-01-17T00:00:00.000000000",
          "2023-01-18T00:00:00.000000000",
          "2023-01-19T00:00:00.000000000",
          "2023-01-20T00:00:00.000000000",
          "2023-01-23T00:00:00.000000000",
          "2023-01-24T00:00:00.000000000",
          "2023-01-25T00:00:00.000000000",
          "2023-01-26T00:00:00.000000000",
          "2023-01-27T00:00:00.000000000",
          "2023-01-30T00:00:00.000000000",
          "2023-01-31T00:00:00.000000000",
          "2023-02-01T00:00:00.000000000",
          "2023-02-02T00:00:00.000000000",
          "2023-02-03T00:00:00.000000000",
          "2023-02-06T00:00:00.000000000",
          "2023-02-07T00:00:00.000000000",
          "2023-02-08T00:00:00.000000000",
          "2023-02-09T00:00:00.000000000",
          "2023-02-10T00:00:00.000000000",
          "2023-02-21T00:00:00.000000000",
          "2023-02-22T00:00:00.000000000",
          "2023-02-23T00:00:00.000000000",
          "2023-02-24T00:00:00.000000000",
          "2023-02-27T00:00:00.000000000",
          "2023-02-28T00:00:00.000000000",
          "2023-03-01T00:00:00.000000000",
          "2023-03-02T00:00:00.000000000",
          "2023-03-03T00:00:00.000000000",
          "2023-03-06T00:00:00.000000000",
          "2023-03-07T00:00:00.000000000",
          "2023-03-08T00:00:00.000000000",
          "2023-03-09T00:00:00.000000000",
          "2023-03-10T00:00:00.000000000",
          "2023-03-13T00:00:00.000000000",
          "2023-03-14T00:00:00.000000000",
          "2023-03-15T00:00:00.000000000",
          "2023-03-16T00:00:00.000000000",
          "2023-03-17T00:00:00.000000000",
          "2023-03-20T00:00:00.000000000",
          "2023-03-21T00:00:00.000000000",
          "2023-03-22T00:00:00.000000000",
          "2023-03-23T00:00:00.000000000",
          "2023-03-24T00:00:00.000000000",
          "2023-03-27T00:00:00.000000000",
          "2023-03-28T00:00:00.000000000",
          "2023-03-29T00:00:00.000000000",
          "2023-03-30T00:00:00.000000000",
          "2023-03-31T00:00:00.000000000",
          "2023-04-03T00:00:00.000000000",
          "2023-04-04T00:00:00.000000000",
          "2023-04-05T00:00:00.000000000",
          "2023-04-06T00:00:00.000000000",
          "2023-04-10T00:00:00.000000000",
          "2023-04-11T00:00:00.000000000",
          "2023-04-27T00:00:00.000000000",
          "2023-04-28T00:00:00.000000000",
          "2023-05-01T00:00:00.000000000",
          "2023-05-02T00:00:00.000000000",
          "2023-05-03T00:00:00.000000000",
          "2023-05-04T00:00:00.000000000",
          "2023-05-05T00:00:00.000000000",
          "2023-05-08T00:00:00.000000000",
          "2023-05-09T00:00:00.000000000",
          "2023-06-02T00:00:00.000000000",
          "2023-06-05T00:00:00.000000000",
          "2023-06-06T00:00:00.000000000",
          "2023-06-07T00:00:00.000000000",
          "2023-06-08T00:00:00.000000000",
          "2023-06-09T00:00:00.000000000",
          "2023-06-12T00:00:00.000000000",
          "2023-06-13T00:00:00.000000000",
          "2023-06-14T00:00:00.000000000",
          "2023-06-15T00:00:00.000000000",
          "2023-06-16T00:00:00.000000000",
          "2023-06-20T00:00:00.000000000",
          "2023-06-21T00:00:00.000000000",
          "2023-06-22T00:00:00.000000000",
          "2023-07-03T00:00:00.000000000",
          "2023-07-05T00:00:00.000000000",
          "2023-07-06T00:00:00.000000000",
          "2023-07-07T00:00:00.000000000",
          "2023-07-10T00:00:00.000000000",
          "2023-07-17T00:00:00.000000000",
          "2023-07-18T00:00:00.000000000",
          "2023-07-19T00:00:00.000000000",
          "2023-07-20T00:00:00.000000000",
          "2023-07-21T00:00:00.000000000",
          "2023-07-24T00:00:00.000000000",
          "2023-08-04T00:00:00.000000000",
          "2023-08-07T00:00:00.000000000",
          "2023-08-08T00:00:00.000000000",
          "2023-08-09T00:00:00.000000000",
          "2023-08-10T00:00:00.000000000",
          "2023-08-11T00:00:00.000000000",
          "2023-08-14T00:00:00.000000000",
          "2023-08-15T00:00:00.000000000",
          "2023-08-16T00:00:00.000000000",
          "2023-08-17T00:00:00.000000000",
          "2023-08-18T00:00:00.000000000",
          "2023-08-21T00:00:00.000000000",
          "2023-08-22T00:00:00.000000000",
          "2023-08-23T00:00:00.000000000",
          "2023-08-24T00:00:00.000000000",
          "2023-08-25T00:00:00.000000000",
          "2023-08-28T00:00:00.000000000",
          "2023-08-29T00:00:00.000000000",
          "2023-08-30T00:00:00.000000000",
          "2023-08-31T00:00:00.000000000",
          "2023-09-01T00:00:00.000000000",
          "2023-09-05T00:00:00.000000000",
          "2023-09-06T00:00:00.000000000",
          "2023-09-07T00:00:00.000000000",
          "2023-09-21T00:00:00.000000000",
          "2023-09-22T00:00:00.000000000",
          "2023-09-25T00:00:00.000000000",
          "2023-09-26T00:00:00.000000000",
          "2023-09-27T00:00:00.000000000",
          "2023-09-28T00:00:00.000000000",
          "2023-09-29T00:00:00.000000000",
          "2023-10-02T00:00:00.000000000",
          "2023-10-03T00:00:00.000000000",
          "2023-10-11T00:00:00.000000000",
          "2023-10-12T00:00:00.000000000",
          "2023-10-13T00:00:00.000000000",
          "2023-10-16T00:00:00.000000000",
          "2023-10-17T00:00:00.000000000",
          "2023-10-18T00:00:00.000000000",
          "2023-10-19T00:00:00.000000000",
          "2023-10-20T00:00:00.000000000",
          "2023-10-23T00:00:00.000000000",
          "2023-10-24T00:00:00.000000000",
          "2023-10-25T00:00:00.000000000",
          "2023-10-26T00:00:00.000000000",
          "2023-10-27T00:00:00.000000000",
          "2023-10-30T00:00:00.000000000",
          "2023-10-31T00:00:00.000000000",
          "2023-11-01T00:00:00.000000000",
          "2023-11-02T00:00:00.000000000",
          "2023-11-03T00:00:00.000000000",
          "2023-11-13T00:00:00.000000000",
          "2023-11-14T00:00:00.000000000",
          "2023-11-15T00:00:00.000000000",
          "2023-11-16T00:00:00.000000000",
          "2023-11-17T00:00:00.000000000",
          "2023-11-20T00:00:00.000000000",
          "2023-11-21T00:00:00.000000000",
          "2023-11-22T00:00:00.000000000",
          "2023-11-24T00:00:00.000000000",
          "2023-11-27T00:00:00.000000000",
          "2023-12-13T00:00:00.000000000",
          "2023-12-14T00:00:00.000000000",
          "2023-12-15T00:00:00.000000000",
          "2023-12-18T00:00:00.000000000",
          "2023-12-19T00:00:00.000000000",
          "2023-12-20T00:00:00.000000000",
          "2023-12-21T00:00:00.000000000",
          "2023-12-22T00:00:00.000000000",
          "2023-12-26T00:00:00.000000000",
          "2024-01-23T00:00:00.000000000",
          "2024-01-24T00:00:00.000000000",
          "2024-01-25T00:00:00.000000000",
          "2024-01-26T00:00:00.000000000",
          "2024-01-29T00:00:00.000000000",
          "2024-01-30T00:00:00.000000000",
          "2024-01-31T00:00:00.000000000",
          "2024-02-01T00:00:00.000000000",
          "2024-02-02T00:00:00.000000000",
          "2024-02-05T00:00:00.000000000",
          "2024-02-06T00:00:00.000000000",
          "2024-02-07T00:00:00.000000000",
          "2024-02-08T00:00:00.000000000",
          "2024-02-09T00:00:00.000000000",
          "2024-02-12T00:00:00.000000000",
          "2024-02-13T00:00:00.000000000",
          "2024-02-14T00:00:00.000000000",
          "2024-02-22T00:00:00.000000000",
          "2024-02-23T00:00:00.000000000",
          "2024-02-26T00:00:00.000000000",
          "2024-02-27T00:00:00.000000000",
          "2024-02-28T00:00:00.000000000",
          "2024-02-29T00:00:00.000000000",
          "2024-03-01T00:00:00.000000000",
          "2024-03-04T00:00:00.000000000",
          "2024-03-05T00:00:00.000000000",
          "2024-03-21T00:00:00.000000000",
          "2024-03-22T00:00:00.000000000",
          "2024-03-25T00:00:00.000000000",
          "2024-03-26T00:00:00.000000000",
          "2024-03-27T00:00:00.000000000",
          "2024-03-28T00:00:00.000000000",
          "2024-04-12T00:00:00.000000000",
          "2024-04-15T00:00:00.000000000",
          "2024-04-16T00:00:00.000000000",
          "2024-04-17T00:00:00.000000000",
          "2024-04-18T00:00:00.000000000",
          "2024-04-19T00:00:00.000000000",
          "2024-04-22T00:00:00.000000000",
          "2024-04-23T00:00:00.000000000",
          "2024-04-24T00:00:00.000000000",
          "2024-04-25T00:00:00.000000000",
          "2024-04-26T00:00:00.000000000",
          "2024-04-29T00:00:00.000000000",
          "2024-04-30T00:00:00.000000000",
          "2024-05-01T00:00:00.000000000",
          "2024-05-02T00:00:00.000000000",
          "2024-05-03T00:00:00.000000000",
          "2024-05-06T00:00:00.000000000",
          "2024-05-07T00:00:00.000000000",
          "2024-05-08T00:00:00.000000000",
          "2024-05-09T00:00:00.000000000",
          "2024-05-10T00:00:00.000000000",
          "2024-05-13T00:00:00.000000000",
          "2024-05-14T00:00:00.000000000",
          "2024-05-15T00:00:00.000000000",
          "2024-05-16T00:00:00.000000000",
          "2024-05-17T00:00:00.000000000",
          "2024-05-20T00:00:00.000000000",
          "2024-05-21T00:00:00.000000000",
          "2024-05-22T00:00:00.000000000",
          "2024-05-23T00:00:00.000000000",
          "2024-06-07T00:00:00.000000000",
          "2024-06-10T00:00:00.000000000",
          "2024-06-11T00:00:00.000000000",
          "2024-06-12T00:00:00.000000000",
          "2024-06-13T00:00:00.000000000",
          "2024-06-14T00:00:00.000000000",
          "2024-06-17T00:00:00.000000000",
          "2024-06-18T00:00:00.000000000",
          "2024-06-20T00:00:00.000000000",
          "2024-06-21T00:00:00.000000000",
          "2024-06-24T00:00:00.000000000",
          "2024-07-08T00:00:00.000000000",
          "2024-07-09T00:00:00.000000000",
          "2024-07-10T00:00:00.000000000",
          "2024-07-11T00:00:00.000000000",
          "2024-07-12T00:00:00.000000000",
          "2024-07-15T00:00:00.000000000",
          "2024-07-16T00:00:00.000000000",
          "2024-07-17T00:00:00.000000000",
          "2024-07-18T00:00:00.000000000",
          "2024-07-19T00:00:00.000000000",
          "2024-07-22T00:00:00.000000000",
          "2024-07-23T00:00:00.000000000",
          "2024-07-29T00:00:00.000000000",
          "2024-07-30T00:00:00.000000000",
          "2024-07-31T00:00:00.000000000"
         ],
         "xaxis": "x3",
         "y": {
          "bdata": "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",
          "dtype": "f8"
         },
         "yaxis": "y3"
        },
        {
         "marker": {
          "color": "rgb(141,160,203)",
          "size": 6
         },
         "mode": "markers",
         "name": "Regime 2: Bear",
         "showlegend": false,
         "type": "scatter",
         "x": [
          "2018-02-02T00:00:00.000000000",
          "2018-02-05T00:00:00.000000000",
          "2018-02-06T00:00:00.000000000",
          "2018-02-07T00:00:00.000000000",
          "2018-02-08T00:00:00.000000000",
          "2018-02-09T00:00:00.000000000",
          "2018-02-12T00:00:00.000000000",
          "2018-03-22T00:00:00.000000000",
          "2018-03-23T00:00:00.000000000",
          "2018-03-26T00:00:00.000000000",
          "2018-10-10T00:00:00.000000000",
          "2018-10-11T00:00:00.000000000",
          "2018-10-12T00:00:00.000000000",
          "2018-10-15T00:00:00.000000000",
          "2018-12-21T00:00:00.000000000",
          "2018-12-24T00:00:00.000000000",
          "2018-12-26T00:00:00.000000000",
          "2018-12-27T00:00:00.000000000",
          "2019-08-05T00:00:00.000000000",
          "2019-08-06T00:00:00.000000000",
          "2020-02-24T00:00:00.000000000",
          "2020-02-25T00:00:00.000000000",
          "2020-02-26T00:00:00.000000000",
          "2020-02-27T00:00:00.000000000",
          "2020-02-28T00:00:00.000000000",
          "2020-03-02T00:00:00.000000000",
          "2020-03-03T00:00:00.000000000",
          "2020-03-04T00:00:00.000000000",
          "2020-03-05T00:00:00.000000000",
          "2020-03-06T00:00:00.000000000",
          "2020-03-09T00:00:00.000000000",
          "2020-03-10T00:00:00.000000000",
          "2020-03-11T00:00:00.000000000",
          "2020-03-12T00:00:00.000000000",
          "2020-03-13T00:00:00.000000000",
          "2020-03-16T00:00:00.000000000",
          "2020-03-17T00:00:00.000000000",
          "2020-03-18T00:00:00.000000000",
          "2020-03-19T00:00:00.000000000",
          "2020-03-20T00:00:00.000000000",
          "2020-03-23T00:00:00.000000000",
          "2020-03-24T00:00:00.000000000",
          "2020-03-25T00:00:00.000000000",
          "2020-03-26T00:00:00.000000000",
          "2020-03-27T00:00:00.000000000",
          "2020-03-30T00:00:00.000000000",
          "2020-03-31T00:00:00.000000000",
          "2020-04-01T00:00:00.000000000",
          "2020-04-02T00:00:00.000000000",
          "2020-04-03T00:00:00.000000000",
          "2020-04-06T00:00:00.000000000",
          "2020-04-07T00:00:00.000000000",
          "2020-04-08T00:00:00.000000000",
          "2020-04-09T00:00:00.000000000",
          "2020-04-13T00:00:00.000000000",
          "2020-04-14T00:00:00.000000000",
          "2020-04-15T00:00:00.000000000",
          "2020-04-16T00:00:00.000000000",
          "2020-04-17T00:00:00.000000000",
          "2020-06-11T00:00:00.000000000",
          "2020-06-12T00:00:00.000000000",
          "2020-06-15T00:00:00.000000000",
          "2020-06-16T00:00:00.000000000",
          "2020-11-06T00:00:00.000000000",
          "2020-11-09T00:00:00.000000000",
          "2020-11-10T00:00:00.000000000",
          "2020-11-11T00:00:00.000000000",
          "2020-11-12T00:00:00.000000000",
          "2020-11-13T00:00:00.000000000",
          "2021-01-27T00:00:00.000000000",
          "2021-01-28T00:00:00.000000000",
          "2021-11-26T00:00:00.000000000",
          "2021-11-29T00:00:00.000000000",
          "2021-11-30T00:00:00.000000000",
          "2021-12-01T00:00:00.000000000",
          "2021-12-02T00:00:00.000000000",
          "2021-12-03T00:00:00.000000000",
          "2022-01-20T00:00:00.000000000",
          "2022-01-21T00:00:00.000000000",
          "2022-01-24T00:00:00.000000000",
          "2022-01-25T00:00:00.000000000",
          "2022-01-26T00:00:00.000000000",
          "2022-01-27T00:00:00.000000000",
          "2022-01-28T00:00:00.000000000",
          "2022-01-31T00:00:00.000000000",
          "2022-02-01T00:00:00.000000000",
          "2022-02-02T00:00:00.000000000",
          "2022-02-03T00:00:00.000000000",
          "2022-02-04T00:00:00.000000000",
          "2022-02-07T00:00:00.000000000",
          "2022-02-22T00:00:00.000000000",
          "2022-02-23T00:00:00.000000000",
          "2022-02-24T00:00:00.000000000",
          "2022-03-18T00:00:00.000000000",
          "2022-03-21T00:00:00.000000000",
          "2022-03-22T00:00:00.000000000",
          "2022-03-23T00:00:00.000000000",
          "2022-03-24T00:00:00.000000000",
          "2022-03-25T00:00:00.000000000",
          "2022-03-28T00:00:00.000000000",
          "2022-04-26T00:00:00.000000000",
          "2022-04-27T00:00:00.000000000",
          "2022-04-28T00:00:00.000000000",
          "2022-04-29T00:00:00.000000000",
          "2022-05-02T00:00:00.000000000",
          "2022-05-03T00:00:00.000000000",
          "2022-05-04T00:00:00.000000000",
          "2022-05-05T00:00:00.000000000",
          "2022-05-06T00:00:00.000000000",
          "2022-05-09T00:00:00.000000000",
          "2022-05-10T00:00:00.000000000",
          "2022-05-11T00:00:00.000000000",
          "2022-05-12T00:00:00.000000000",
          "2022-05-13T00:00:00.000000000",
          "2022-05-16T00:00:00.000000000",
          "2022-05-17T00:00:00.000000000",
          "2022-05-18T00:00:00.000000000",
          "2022-05-27T00:00:00.000000000",
          "2022-05-31T00:00:00.000000000",
          "2022-06-01T00:00:00.000000000",
          "2022-06-02T00:00:00.000000000",
          "2022-06-03T00:00:00.000000000",
          "2022-06-10T00:00:00.000000000",
          "2022-06-13T00:00:00.000000000",
          "2022-06-14T00:00:00.000000000",
          "2022-06-15T00:00:00.000000000",
          "2022-06-16T00:00:00.000000000",
          "2022-06-17T00:00:00.000000000",
          "2022-06-21T00:00:00.000000000",
          "2022-06-22T00:00:00.000000000",
          "2022-06-23T00:00:00.000000000",
          "2022-06-24T00:00:00.000000000",
          "2022-06-27T00:00:00.000000000",
          "2022-06-28T00:00:00.000000000",
          "2022-08-26T00:00:00.000000000",
          "2022-08-29T00:00:00.000000000",
          "2022-08-30T00:00:00.000000000",
          "2022-08-31T00:00:00.000000000",
          "2022-09-01T00:00:00.000000000",
          "2022-09-02T00:00:00.000000000",
          "2022-09-06T00:00:00.000000000",
          "2022-09-07T00:00:00.000000000",
          "2022-09-21T00:00:00.000000000",
          "2022-09-22T00:00:00.000000000",
          "2022-09-23T00:00:00.000000000",
          "2022-09-26T00:00:00.000000000",
          "2022-09-27T00:00:00.000000000",
          "2022-09-28T00:00:00.000000000",
          "2022-09-29T00:00:00.000000000",
          "2022-09-30T00:00:00.000000000",
          "2022-10-03T00:00:00.000000000",
          "2022-10-04T00:00:00.000000000",
          "2022-11-10T00:00:00.000000000",
          "2022-11-11T00:00:00.000000000",
          "2022-11-14T00:00:00.000000000",
          "2022-11-15T00:00:00.000000000",
          "2022-11-16T00:00:00.000000000",
          "2022-11-17T00:00:00.000000000",
          "2022-11-18T00:00:00.000000000",
          "2023-11-06T00:00:00.000000000",
          "2023-11-07T00:00:00.000000000",
          "2023-11-08T00:00:00.000000000",
          "2023-11-09T00:00:00.000000000",
          "2023-11-10T00:00:00.000000000",
          "2024-07-24T00:00:00.000000000",
          "2024-07-25T00:00:00.000000000",
          "2024-07-26T00:00:00.000000000"
         ],
         "xaxis": "x3",
         "y": {
          "bdata": "c/zFKW7PBkD59izQy/QMQAIQrFJJNAtAlmR9qYKUCkBZLSu7MhUMQMo3UWZ09ApA9woCCKHxCUBFkcqcizMJQPUcVZOUtQlAU3qaCxteCECPwx5f7REJQFc5UFyevglAy83IfDF5CEDpIBxlO3gIQDHxZNslPQtAiSCLbgavDECzI+y3c1ELQNU0kHDrMgtA0KCeXGSeCUCLn1UZmAgIQDbxUsC2wglAXUIFnFqdCkAcacyY6ocKQNTdaO5bVw1Anr9oDXOIDUBBXvKTvxIMQLIblBws2QxAhqIq4C+5C0AsOfSrRm8NQDk/FsvR4w1ATfxqs8/6D0ATl7QPItoOQAjxyK2k5Q9AAOlbQIFLEUCf66xM4zoQQJzLjqIPqRFAUCHgJ3VREUAt6m5Xt1gRQD9X9FxOGxFA7FjwrtPCEEC/uQs6ZHsQQCDq13+4fBBAtDe+XuWhEEANbBLriHEQQNNwNGULuxBAjtusTYUtEEAOyUAw69cPQDulDG8pLRBA8kHd9sJwD0A7NHZnXsQOQANKY0Hwfg5APhf98vy/DkDDLh5BiicOQOsdpaGX1g1AKnCNod69DUA6raP0zAwNQInB40RjrQ1Anr9oDXOIDUByOwZH2CENQAXTUQHhqg1A0sFRECmwDEA9Wo+f8E0MQJZGzvECIgxADriFt8G0CUDgCjVLy/wJQHV59sfOrwlAek5Twiw9CUA1w0oau9wJQC/6cJJgHglAAaCRMcDuDEC4fQEw8EMLQC8waWw11QpAj8MeX+0RCUDY2A4+PGwKQEElr+G3gAtAFXx8ybGkCkDu/WQ842ILQNITAWwH8AlA8qlQ7pnlCkD9jJdr0C4LQI2Q/VJZgwtAx53F9UO3C0BvKV0o1VYLQLwELYNVjwpARTC2oUiyCUDU0ktTurYIQMGOpOjQwghA2ZeDJU6KCUARRXQS/SgJQIqnVu/8CAlADHV9fsLiCkA5mrVuIHoLQA9U1MFhSwtAFe925IdhCUB3rT5UJkQJQPrBP4IkEAlAvvNO0aBHCUAxzZWRgJsIQAP4Q2uRSAhAAet5SgTRB0BDhHoO3hgMQLHzxdgQoAtAgS9SLfg0C0CdoZbHhREMQI4V/ut4zwtAZHJhJs0BC0D/29rWYOIJQLeYVu/5hQtAIyWIAJVCC0At+bD4q2IMQDgMdhU6+AtAQjM0c1vdC0AI4i3TDasLQI6cbEUF5wpAn0cZrTeBCkAe3buMcRgKQIPgmlQpdgtAjZNLGmj6CUBIGSBVfh8KQBZTvDwE+AlAQUIfzDCpCUA4MxVe+64JQEssFKz8lQpA4O7r0zA3DECqKYyGhOULQCdblpaLGwtA9zeI/b31C0DQtJtMYIELQCMliACVQgtAQ7y+FbDsCkAIr+Tyv/MKQNFtrPM+bwpAjGIK7hNaCkAl66a6hMIKQHE3O2ig7QlA7W78hQ4hCkDtbvyFDiEKQA4iUetQBgpAcTc7aKDtCUCPgMkPZ+YJQJrEgisJVwpAy2STUo2iCUCHWwaOn6cKQFAF+WBAeApA+eNgAS8wC0DlkWVYZsoLQIeltBjf3wtApQR5TudBC0Cg1GO7j68LQLUDxpNcoQtArDgss3c8C0B31tjJKPUKQHetPlQmRAlAciRHjUzqCEArOtXOe1UJQB6VwTs5mglAF5gY/wR2CUBQy+cVrGYJQM45pVAmIAlA2dNZSgObBUCrzNfW+o8FQBWSuwaVXQVA7enst03RBUAEjIIagjUFQNAW8AsHJAdAOQonVSlTB0Bu00w7lV8GQA==",
          "dtype": "f8"
         },
         "yaxis": "y3"
        }
       ],
       "layout": {
        "annotations": [
         {
          "font": {
           "size": 16
          },
          "showarrow": false,
          "text": "SPY Close Price by Regime",
          "x": 0.5,
          "xanchor": "center",
          "xref": "paper",
          "y": 1,
          "yanchor": "bottom",
          "yref": "paper"
         },
         {
          "font": {
           "size": 16
          },
          "showarrow": false,
          "text": "VIX by Regime",
          "x": 0.5,
          "xanchor": "center",
          "xref": "paper",
          "y": 0.6333333333333333,
          "yanchor": "bottom",
          "yref": "paper"
         },
         {
          "font": {
           "size": 16
          },
          "showarrow": false,
          "text": "LogVIX by Regime",
          "x": 0.5,
          "xanchor": "center",
          "xref": "paper",
          "y": 0.26666666666666666,
          "yanchor": "bottom",
          "yref": "paper"
         }
        ],
        "height": 1000,
        "hovermode": "closest",
        "legend": {
         "title": {
          "text": "Regime"
         }
        },
        "template": {
         "data": {
          "bar": [
           {
            "error_x": {
             "color": "#2a3f5f"
            },
            "error_y": {
             "color": "#2a3f5f"
            },
            "marker": {
             "line": {
              "color": "white",
              "width": 0.5
             },
             "pattern": {
              "fillmode": "overlay",
              "size": 10,
              "solidity": 0.2
             }
            },
            "type": "bar"
           }
          ],
          "barpolar": [
           {
            "marker": {
             "line": {
              "color": "white",
              "width": 0.5
             },
             "pattern": {
              "fillmode": "overlay",
              "size": 10,
              "solidity": 0.2
             }
            },
            "type": "barpolar"
           }
          ],
          "carpet": [
           {
            "aaxis": {
             "endlinecolor": "#2a3f5f",
             "gridcolor": "#C8D4E3",
             "linecolor": "#C8D4E3",
             "minorgridcolor": "#C8D4E3",
             "startlinecolor": "#2a3f5f"
            },
            "baxis": {
             "endlinecolor": "#2a3f5f",
             "gridcolor": "#C8D4E3",
             "linecolor": "#C8D4E3",
             "minorgridcolor": "#C8D4E3",
             "startlinecolor": "#2a3f5f"
            },
            "type": "carpet"
           }
          ],
          "choropleth": [
           {
            "colorbar": {
             "outlinewidth": 0,
             "ticks": ""
            },
            "type": "choropleth"
           }
          ],
          "contour": [
           {
            "colorbar": {
             "outlinewidth": 0,
             "ticks": ""
            },
            "colorscale": [
             [
              0,
              "#0d0887"
             ],
             [
              0.1111111111111111,
              "#46039f"
             ],
             [
              0.2222222222222222,
              "#7201a8"
             ],
             [
              0.3333333333333333,
              "#9c179e"
             ],
             [
              0.4444444444444444,
              "#bd3786"
             ],
             [
              0.5555555555555556,
              "#d8576b"
             ],
             [
              0.6666666666666666,
              "#ed7953"
             ],
             [
              0.7777777777777778,
              "#fb9f3a"
             ],
             [
              0.8888888888888888,
              "#fdca26"
             ],
             [
              1,
              "#f0f921"
             ]
            ],
            "type": "contour"
           }
          ],
          "contourcarpet": [
           {
            "colorbar": {
             "outlinewidth": 0,
             "ticks": ""
            },
            "type": "contourcarpet"
           }
          ],
          "heatmap": [
           {
            "colorbar": {
             "outlinewidth": 0,
             "ticks": ""
            },
            "colorscale": [
             [
              0,
              "#0d0887"
             ],
             [
              0.1111111111111111,
              "#46039f"
             ],
             [
              0.2222222222222222,
              "#7201a8"
             ],
             [
              0.3333333333333333,
              "#9c179e"
             ],
             [
              0.4444444444444444,
              "#bd3786"
             ],
             [
              0.5555555555555556,
              "#d8576b"
             ],
             [
              0.6666666666666666,
              "#ed7953"
             ],
             [
              0.7777777777777778,
              "#fb9f3a"
             ],
             [
              0.8888888888888888,
              "#fdca26"
             ],
             [
              1,
              "#f0f921"
             ]
            ],
            "type": "heatmap"
           }
          ],
          "histogram": [
           {
            "marker": {
             "pattern": {
              "fillmode": "overlay",
              "size": 10,
              "solidity": 0.2
             }
            },
            "type": "histogram"
           }
          ],
          "histogram2d": [
           {
            "colorbar": {
             "outlinewidth": 0,
             "ticks": ""
            },
            "colorscale": [
             [
              0,
              "#0d0887"
             ],
             [
              0.1111111111111111,
              "#46039f"
             ],
             [
              0.2222222222222222,
              "#7201a8"
             ],
             [
              0.3333333333333333,
              "#9c179e"
             ],
             [
              0.4444444444444444,
              "#bd3786"
             ],
             [
              0.5555555555555556,
              "#d8576b"
             ],
             [
              0.6666666666666666,
              "#ed7953"
             ],
             [
              0.7777777777777778,
              "#fb9f3a"
             ],
             [
              0.8888888888888888,
              "#fdca26"
             ],
             [
              1,
              "#f0f921"
             ]
            ],
            "type": "histogram2d"
           }
          ],
          "histogram2dcontour": [
           {
            "colorbar": {
             "outlinewidth": 0,
             "ticks": ""
            },
            "colorscale": [
             [
              0,
              "#0d0887"
             ],
             [
              0.1111111111111111,
              "#46039f"
             ],
             [
              0.2222222222222222,
              "#7201a8"
             ],
             [
              0.3333333333333333,
              "#9c179e"
             ],
             [
              0.4444444444444444,
              "#bd3786"
             ],
             [
              0.5555555555555556,
              "#d8576b"
             ],
             [
              0.6666666666666666,
              "#ed7953"
             ],
             [
              0.7777777777777778,
              "#fb9f3a"
             ],
             [
              0.8888888888888888,
              "#fdca26"
             ],
             [
              1,
              "#f0f921"
             ]
            ],
            "type": "histogram2dcontour"
           }
          ],
          "mesh3d": [
           {
            "colorbar": {
             "outlinewidth": 0,
             "ticks": ""
            },
            "type": "mesh3d"
           }
          ],
          "parcoords": [
           {
            "line": {
             "colorbar": {
              "outlinewidth": 0,
              "ticks": ""
             }
            },
            "type": "parcoords"
           }
          ],
          "pie": [
           {
            "automargin": true,
            "type": "pie"
           }
          ],
          "scatter": [
           {
            "fillpattern": {
             "fillmode": "overlay",
             "size": 10,
             "solidity": 0.2
            },
            "type": "scatter"
           }
          ],
          "scatter3d": [
           {
            "line": {
             "colorbar": {
              "outlinewidth": 0,
              "ticks": ""
             }
            },
            "marker": {
             "colorbar": {
              "outlinewidth": 0,
              "ticks": ""
             }
            },
            "type": "scatter3d"
           }
          ],
          "scattercarpet": [
           {
            "marker": {
             "colorbar": {
              "outlinewidth": 0,
              "ticks": ""
             }
            },
            "type": "scattercarpet"
           }
          ],
          "scattergeo": [
           {
            "marker": {
             "colorbar": {
              "outlinewidth": 0,
              "ticks": ""
             }
            },
            "type": "scattergeo"
           }
          ],
          "scattergl": [
           {
            "marker": {
             "colorbar": {
              "outlinewidth": 0,
              "ticks": ""
             }
            },
            "type": "scattergl"
           }
          ],
          "scattermap": [
           {
            "marker": {
             "colorbar": {
              "outlinewidth": 0,
              "ticks": ""
             }
            },
            "type": "scattermap"
           }
          ],
          "scattermapbox": [
           {
            "marker": {
             "colorbar": {
              "outlinewidth": 0,
              "ticks": ""
             }
            },
            "type": "scattermapbox"
           }
          ],
          "scatterpolar": [
           {
            "marker": {
             "colorbar": {
              "outlinewidth": 0,
              "ticks": ""
             }
            },
            "type": "scatterpolar"
           }
          ],
          "scatterpolargl": [
           {
            "marker": {
             "colorbar": {
              "outlinewidth": 0,
              "ticks": ""
             }
            },
            "type": "scatterpolargl"
           }
          ],
          "scatterternary": [
           {
            "marker": {
             "colorbar": {
              "outlinewidth": 0,
              "ticks": ""
             }
            },
            "type": "scatterternary"
           }
          ],
          "surface": [
           {
            "colorbar": {
             "outlinewidth": 0,
             "ticks": ""
            },
            "colorscale": [
             [
              0,
              "#0d0887"
             ],
             [
              0.1111111111111111,
              "#46039f"
             ],
             [
              0.2222222222222222,
              "#7201a8"
             ],
             [
              0.3333333333333333,
              "#9c179e"
             ],
             [
              0.4444444444444444,
              "#bd3786"
             ],
             [
              0.5555555555555556,
              "#d8576b"
             ],
             [
              0.6666666666666666,
              "#ed7953"
             ],
             [
              0.7777777777777778,
              "#fb9f3a"
             ],
             [
              0.8888888888888888,
              "#fdca26"
             ],
             [
              1,
              "#f0f921"
             ]
            ],
            "type": "surface"
           }
          ],
          "table": [
           {
            "cells": {
             "fill": {
              "color": "#EBF0F8"
             },
             "line": {
              "color": "white"
             }
            },
            "header": {
             "fill": {
              "color": "#C8D4E3"
             },
             "line": {
              "color": "white"
             }
            },
            "type": "table"
           }
          ]
         },
         "layout": {
          "annotationdefaults": {
           "arrowcolor": "#2a3f5f",
           "arrowhead": 0,
           "arrowwidth": 1
          },
          "autotypenumbers": "strict",
          "coloraxis": {
           "colorbar": {
            "outlinewidth": 0,
            "ticks": ""
           }
          },
          "colorscale": {
           "diverging": [
            [
             0,
             "#8e0152"
            ],
            [
             0.1,
             "#c51b7d"
            ],
            [
             0.2,
             "#de77ae"
            ],
            [
             0.3,
             "#f1b6da"
            ],
            [
             0.4,
             "#fde0ef"
            ],
            [
             0.5,
             "#f7f7f7"
            ],
            [
             0.6,
             "#e6f5d0"
            ],
            [
             0.7,
             "#b8e186"
            ],
            [
             0.8,
             "#7fbc41"
            ],
            [
             0.9,
             "#4d9221"
            ],
            [
             1,
             "#276419"
            ]
           ],
           "sequential": [
            [
             0,
             "#0d0887"
            ],
            [
             0.1111111111111111,
             "#46039f"
            ],
            [
             0.2222222222222222,
             "#7201a8"
            ],
            [
             0.3333333333333333,
             "#9c179e"
            ],
            [
             0.4444444444444444,
             "#bd3786"
            ],
            [
             0.5555555555555556,
             "#d8576b"
            ],
            [
             0.6666666666666666,
             "#ed7953"
            ],
            [
             0.7777777777777778,
             "#fb9f3a"
            ],
            [
             0.8888888888888888,
             "#fdca26"
            ],
            [
             1,
             "#f0f921"
            ]
           ],
           "sequentialminus": [
            [
             0,
             "#0d0887"
            ],
            [
             0.1111111111111111,
             "#46039f"
            ],
            [
             0.2222222222222222,
             "#7201a8"
            ],
            [
             0.3333333333333333,
             "#9c179e"
            ],
            [
             0.4444444444444444,
             "#bd3786"
            ],
            [
             0.5555555555555556,
             "#d8576b"
            ],
            [
             0.6666666666666666,
             "#ed7953"
            ],
            [
             0.7777777777777778,
             "#fb9f3a"
            ],
            [
             0.8888888888888888,
             "#fdca26"
            ],
            [
             1,
             "#f0f921"
            ]
           ]
          },
          "colorway": [
           "#636efa",
           "#EF553B",
           "#00cc96",
           "#ab63fa",
           "#FFA15A",
           "#19d3f3",
           "#FF6692",
           "#B6E880",
           "#FF97FF",
           "#FECB52"
          ],
          "font": {
           "color": "#2a3f5f"
          },
          "geo": {
           "bgcolor": "white",
           "lakecolor": "white",
           "landcolor": "white",
           "showlakes": true,
           "showland": true,
           "subunitcolor": "#C8D4E3"
          },
          "hoverlabel": {
           "align": "left"
          },
          "hovermode": "closest",
          "mapbox": {
           "style": "light"
          },
          "paper_bgcolor": "white",
          "plot_bgcolor": "white",
          "polar": {
           "angularaxis": {
            "gridcolor": "#EBF0F8",
            "linecolor": "#EBF0F8",
            "ticks": ""
           },
           "bgcolor": "white",
           "radialaxis": {
            "gridcolor": "#EBF0F8",
            "linecolor": "#EBF0F8",
            "ticks": ""
           }
          },
          "scene": {
           "xaxis": {
            "backgroundcolor": "white",
            "gridcolor": "#DFE8F3",
            "gridwidth": 2,
            "linecolor": "#EBF0F8",
            "showbackground": true,
            "ticks": "",
            "zerolinecolor": "#EBF0F8"
           },
           "yaxis": {
            "backgroundcolor": "white",
            "gridcolor": "#DFE8F3",
            "gridwidth": 2,
            "linecolor": "#EBF0F8",
            "showbackground": true,
            "ticks": "",
            "zerolinecolor": "#EBF0F8"
           },
           "zaxis": {
            "backgroundcolor": "white",
            "gridcolor": "#DFE8F3",
            "gridwidth": 2,
            "linecolor": "#EBF0F8",
            "showbackground": true,
            "ticks": "",
            "zerolinecolor": "#EBF0F8"
           }
          },
          "shapedefaults": {
           "line": {
            "color": "#2a3f5f"
           }
          },
          "ternary": {
           "aaxis": {
            "gridcolor": "#DFE8F3",
            "linecolor": "#A2B1C6",
            "ticks": ""
           },
           "baxis": {
            "gridcolor": "#DFE8F3",
            "linecolor": "#A2B1C6",
            "ticks": ""
           },
           "bgcolor": "white",
           "caxis": {
            "gridcolor": "#DFE8F3",
            "linecolor": "#A2B1C6",
            "ticks": ""
           }
          },
          "title": {
           "x": 0.05
          },
          "xaxis": {
           "automargin": true,
           "gridcolor": "#EBF0F8",
           "linecolor": "#EBF0F8",
           "ticks": "",
           "title": {
            "standoff": 15
           },
           "zerolinecolor": "#EBF0F8",
           "zerolinewidth": 2
          },
          "yaxis": {
           "automargin": true,
           "gridcolor": "#EBF0F8",
           "linecolor": "#EBF0F8",
           "ticks": "",
           "title": {
            "standoff": 15
           },
           "zerolinecolor": "#EBF0F8",
           "zerolinewidth": 2
          }
         }
        },
        "title": {
         "text": "Market Regimes with SPY, VIX, and LogVIX (Training Period: 2018-01-01 to 2024-07-31)"
        },
        "xaxis": {
         "anchor": "y",
         "domain": [
          0,
          1
         ],
         "matches": "x3",
         "showticklabels": false
        },
        "xaxis2": {
         "anchor": "y2",
         "domain": [
          0,
          1
         ],
         "matches": "x3",
         "showticklabels": false
        },
        "xaxis3": {
         "anchor": "y3",
         "domain": [
          0,
          1
         ],
         "title": {
          "text": "Date"
         }
        },
        "yaxis": {
         "anchor": "x",
         "domain": [
          0.7333333333333334,
          1
         ],
         "title": {
          "text": "SPY Price"
         }
        },
        "yaxis2": {
         "anchor": "x2",
         "domain": [
          0.3666666666666667,
          0.6333333333333333
         ],
         "title": {
          "text": "VIX"
         }
        },
        "yaxis3": {
         "anchor": "x3",
         "domain": [
          0,
          0.26666666666666666
         ],
         "title": {
          "text": "LogVIX"
         }
        }
       }
      }
     },
     "metadata": {},
     "output_type": "display_data"
    },
    {
     "data": {
      "application/vnd.plotly.v1+json": {
       "config": {
        "plotlyServerURL": "https://plot.ly"
       },
       "data": [
        {
         "colorscale": [
          [
           0,
           "rgb(247,251,255)"
          ],
          [
           0.125,
           "rgb(222,235,247)"
          ],
          [
           0.25,
           "rgb(198,219,239)"
          ],
          [
           0.375,
           "rgb(158,202,225)"
          ],
          [
           0.5,
           "rgb(107,174,214)"
          ],
          [
           0.625,
           "rgb(66,146,198)"
          ],
          [
           0.75,
           "rgb(33,113,181)"
          ],
          [
           0.875,
           "rgb(8,81,156)"
          ],
          [
           1,
           "rgb(8,48,107)"
          ]
         ],
         "text": {
          "bdata": "FK5H4XoU7j97FK5H4XqkP3sUrkfheoQ/uB6F61G4rj9xPQrXo3DtP3sUrkfhepQ/AAAAAAAAAACkcD0K16PAP9ejcD0K1+s/",
          "dtype": "f8",
          "shape": "3, 3"
         },
         "textfont": {
          "size": 14
         },
         "texttemplate": "%{text:.2f}",
         "type": "heatmap",
         "x": [
          "Regime 0: Bull",
          "Regime 1: Neutral",
          "Regime 2: Bear"
         ],
         "y": [
          "Regime 0: Bull",
          "Regime 1: Neutral",
          "Regime 2: Bear"
         ],
         "z": {
          "bdata": "yPDi4sE67j82APmeqQanPzLNX8vgNIU/22x/sYJHrT+81byZbHvtP8duZmVnA5Y/iuBXObvHozTmD8wMlTfBPwf8zLwasus/",
          "dtype": "f8",
          "shape": "3, 3"
         }
        }
       ],
       "layout": {
        "height": 600,
        "template": {
         "data": {
          "bar": [
           {
            "error_x": {
             "color": "#2a3f5f"
            },
            "error_y": {
             "color": "#2a3f5f"
            },
            "marker": {
             "line": {
              "color": "white",
              "width": 0.5
             },
             "pattern": {
              "fillmode": "overlay",
              "size": 10,
              "solidity": 0.2
             }
            },
            "type": "bar"
           }
          ],
          "barpolar": [
           {
            "marker": {
             "line": {
              "color": "white",
              "width": 0.5
             },
             "pattern": {
              "fillmode": "overlay",
              "size": 10,
              "solidity": 0.2
             }
            },
            "type": "barpolar"
           }
          ],
          "carpet": [
           {
            "aaxis": {
             "endlinecolor": "#2a3f5f",
             "gridcolor": "#C8D4E3",
             "linecolor": "#C8D4E3",
             "minorgridcolor": "#C8D4E3",
             "startlinecolor": "#2a3f5f"
            },
            "baxis": {
             "endlinecolor": "#2a3f5f",
             "gridcolor": "#C8D4E3",
             "linecolor": "#C8D4E3",
             "minorgridcolor": "#C8D4E3",
             "startlinecolor": "#2a3f5f"
            },
            "type": "carpet"
           }
          ],
          "choropleth": [
           {
            "colorbar": {
             "outlinewidth": 0,
             "ticks": ""
            },
            "type": "choropleth"
           }
          ],
          "contour": [
           {
            "colorbar": {
             "outlinewidth": 0,
             "ticks": ""
            },
            "colorscale": [
             [
              0,
              "#0d0887"
             ],
             [
              0.1111111111111111,
              "#46039f"
             ],
             [
              0.2222222222222222,
              "#7201a8"
             ],
             [
              0.3333333333333333,
              "#9c179e"
             ],
             [
              0.4444444444444444,
              "#bd3786"
             ],
             [
              0.5555555555555556,
              "#d8576b"
             ],
             [
              0.6666666666666666,
              "#ed7953"
             ],
             [
              0.7777777777777778,
              "#fb9f3a"
             ],
             [
              0.8888888888888888,
              "#fdca26"
             ],
             [
              1,
              "#f0f921"
             ]
            ],
            "type": "contour"
           }
          ],
          "contourcarpet": [
           {
            "colorbar": {
             "outlinewidth": 0,
             "ticks": ""
            },
            "type": "contourcarpet"
           }
          ],
          "heatmap": [
           {
            "colorbar": {
             "outlinewidth": 0,
             "ticks": ""
            },
            "colorscale": [
             [
              0,
              "#0d0887"
             ],
             [
              0.1111111111111111,
              "#46039f"
             ],
             [
              0.2222222222222222,
              "#7201a8"
             ],
             [
              0.3333333333333333,
              "#9c179e"
             ],
             [
              0.4444444444444444,
              "#bd3786"
             ],
             [
              0.5555555555555556,
              "#d8576b"
             ],
             [
              0.6666666666666666,
              "#ed7953"
             ],
             [
              0.7777777777777778,
              "#fb9f3a"
             ],
             [
              0.8888888888888888,
              "#fdca26"
             ],
             [
              1,
              "#f0f921"
             ]
            ],
            "type": "heatmap"
           }
          ],
          "histogram": [
           {
            "marker": {
             "pattern": {
              "fillmode": "overlay",
              "size": 10,
              "solidity": 0.2
             }
            },
            "type": "histogram"
           }
          ],
          "histogram2d": [
           {
            "colorbar": {
             "outlinewidth": 0,
             "ticks": ""
            },
            "colorscale": [
             [
              0,
              "#0d0887"
             ],
             [
              0.1111111111111111,
              "#46039f"
             ],
             [
              0.2222222222222222,
              "#7201a8"
             ],
             [
              0.3333333333333333,
              "#9c179e"
             ],
             [
              0.4444444444444444,
              "#bd3786"
             ],
             [
              0.5555555555555556,
              "#d8576b"
             ],
             [
              0.6666666666666666,
              "#ed7953"
             ],
             [
              0.7777777777777778,
              "#fb9f3a"
             ],
             [
              0.8888888888888888,
              "#fdca26"
             ],
             [
              1,
              "#f0f921"
             ]
            ],
            "type": "histogram2d"
           }
          ],
          "histogram2dcontour": [
           {
            "colorbar": {
             "outlinewidth": 0,
             "ticks": ""
            },
            "colorscale": [
             [
              0,
              "#0d0887"
             ],
             [
              0.1111111111111111,
              "#46039f"
             ],
             [
              0.2222222222222222,
              "#7201a8"
             ],
             [
              0.3333333333333333,
              "#9c179e"
             ],
             [
              0.4444444444444444,
              "#bd3786"
             ],
             [
              0.5555555555555556,
              "#d8576b"
             ],
             [
              0.6666666666666666,
              "#ed7953"
             ],
             [
              0.7777777777777778,
              "#fb9f3a"
             ],
             [
              0.8888888888888888,
              "#fdca26"
             ],
             [
              1,
              "#f0f921"
             ]
            ],
            "type": "histogram2dcontour"
           }
          ],
          "mesh3d": [
           {
            "colorbar": {
             "outlinewidth": 0,
             "ticks": ""
            },
            "type": "mesh3d"
           }
          ],
          "parcoords": [
           {
            "line": {
             "colorbar": {
              "outlinewidth": 0,
              "ticks": ""
             }
            },
            "type": "parcoords"
           }
          ],
          "pie": [
           {
            "automargin": true,
            "type": "pie"
           }
          ],
          "scatter": [
           {
            "fillpattern": {
             "fillmode": "overlay",
             "size": 10,
             "solidity": 0.2
            },
            "type": "scatter"
           }
          ],
          "scatter3d": [
           {
            "line": {
             "colorbar": {
              "outlinewidth": 0,
              "ticks": ""
             }
            },
            "marker": {
             "colorbar": {
              "outlinewidth": 0,
              "ticks": ""
             }
            },
            "type": "scatter3d"
           }
          ],
          "scattercarpet": [
           {
            "marker": {
             "colorbar": {
              "outlinewidth": 0,
              "ticks": ""
             }
            },
            "type": "scattercarpet"
           }
          ],
          "scattergeo": [
           {
            "marker": {
             "colorbar": {
              "outlinewidth": 0,
              "ticks": ""
             }
            },
            "type": "scattergeo"
           }
          ],
          "scattergl": [
           {
            "marker": {
             "colorbar": {
              "outlinewidth": 0,
              "ticks": ""
             }
            },
            "type": "scattergl"
           }
          ],
          "scattermap": [
           {
            "marker": {
             "colorbar": {
              "outlinewidth": 0,
              "ticks": ""
             }
            },
            "type": "scattermap"
           }
          ],
          "scattermapbox": [
           {
            "marker": {
             "colorbar": {
              "outlinewidth": 0,
              "ticks": ""
             }
            },
            "type": "scattermapbox"
           }
          ],
          "scatterpolar": [
           {
            "marker": {
             "colorbar": {
              "outlinewidth": 0,
              "ticks": ""
             }
            },
            "type": "scatterpolar"
           }
          ],
          "scatterpolargl": [
           {
            "marker": {
             "colorbar": {
              "outlinewidth": 0,
              "ticks": ""
             }
            },
            "type": "scatterpolargl"
           }
          ],
          "scatterternary": [
           {
            "marker": {
             "colorbar": {
              "outlinewidth": 0,
              "ticks": ""
             }
            },
            "type": "scatterternary"
           }
          ],
          "surface": [
           {
            "colorbar": {
             "outlinewidth": 0,
             "ticks": ""
            },
            "colorscale": [
             [
              0,
              "#0d0887"
             ],
             [
              0.1111111111111111,
              "#46039f"
             ],
             [
              0.2222222222222222,
              "#7201a8"
             ],
             [
              0.3333333333333333,
              "#9c179e"
             ],
             [
              0.4444444444444444,
              "#bd3786"
             ],
             [
              0.5555555555555556,
              "#d8576b"
             ],
             [
              0.6666666666666666,
              "#ed7953"
             ],
             [
              0.7777777777777778,
              "#fb9f3a"
             ],
             [
              0.8888888888888888,
              "#fdca26"
             ],
             [
              1,
              "#f0f921"
             ]
            ],
            "type": "surface"
           }
          ],
          "table": [
           {
            "cells": {
             "fill": {
              "color": "#EBF0F8"
             },
             "line": {
              "color": "white"
             }
            },
            "header": {
             "fill": {
              "color": "#C8D4E3"
             },
             "line": {
              "color": "white"
             }
            },
            "type": "table"
           }
          ]
         },
         "layout": {
          "annotationdefaults": {
           "arrowcolor": "#2a3f5f",
           "arrowhead": 0,
           "arrowwidth": 1
          },
          "autotypenumbers": "strict",
          "coloraxis": {
           "colorbar": {
            "outlinewidth": 0,
            "ticks": ""
           }
          },
          "colorscale": {
           "diverging": [
            [
             0,
             "#8e0152"
            ],
            [
             0.1,
             "#c51b7d"
            ],
            [
             0.2,
             "#de77ae"
            ],
            [
             0.3,
             "#f1b6da"
            ],
            [
             0.4,
             "#fde0ef"
            ],
            [
             0.5,
             "#f7f7f7"
            ],
            [
             0.6,
             "#e6f5d0"
            ],
            [
             0.7,
             "#b8e186"
            ],
            [
             0.8,
             "#7fbc41"
            ],
            [
             0.9,
             "#4d9221"
            ],
            [
             1,
             "#276419"
            ]
           ],
           "sequential": [
            [
             0,
             "#0d0887"
            ],
            [
             0.1111111111111111,
             "#46039f"
            ],
            [
             0.2222222222222222,
             "#7201a8"
            ],
            [
             0.3333333333333333,
             "#9c179e"
            ],
            [
             0.4444444444444444,
             "#bd3786"
            ],
            [
             0.5555555555555556,
             "#d8576b"
            ],
            [
             0.6666666666666666,
             "#ed7953"
            ],
            [
             0.7777777777777778,
             "#fb9f3a"
            ],
            [
             0.8888888888888888,
             "#fdca26"
            ],
            [
             1,
             "#f0f921"
            ]
           ],
           "sequentialminus": [
            [
             0,
             "#0d0887"
            ],
            [
             0.1111111111111111,
             "#46039f"
            ],
            [
             0.2222222222222222,
             "#7201a8"
            ],
            [
             0.3333333333333333,
             "#9c179e"
            ],
            [
             0.4444444444444444,
             "#bd3786"
            ],
            [
             0.5555555555555556,
             "#d8576b"
            ],
            [
             0.6666666666666666,
             "#ed7953"
            ],
            [
             0.7777777777777778,
             "#fb9f3a"
            ],
            [
             0.8888888888888888,
             "#fdca26"
            ],
            [
             1,
             "#f0f921"
            ]
           ]
          },
          "colorway": [
           "#636efa",
           "#EF553B",
           "#00cc96",
           "#ab63fa",
           "#FFA15A",
           "#19d3f3",
           "#FF6692",
           "#B6E880",
           "#FF97FF",
           "#FECB52"
          ],
          "font": {
           "color": "#2a3f5f"
          },
          "geo": {
           "bgcolor": "white",
           "lakecolor": "white",
           "landcolor": "white",
           "showlakes": true,
           "showland": true,
           "subunitcolor": "#C8D4E3"
          },
          "hoverlabel": {
           "align": "left"
          },
          "hovermode": "closest",
          "mapbox": {
           "style": "light"
          },
          "paper_bgcolor": "white",
          "plot_bgcolor": "white",
          "polar": {
           "angularaxis": {
            "gridcolor": "#EBF0F8",
            "linecolor": "#EBF0F8",
            "ticks": ""
           },
           "bgcolor": "white",
           "radialaxis": {
            "gridcolor": "#EBF0F8",
            "linecolor": "#EBF0F8",
            "ticks": ""
           }
          },
          "scene": {
           "xaxis": {
            "backgroundcolor": "white",
            "gridcolor": "#DFE8F3",
            "gridwidth": 2,
            "linecolor": "#EBF0F8",
            "showbackground": true,
            "ticks": "",
            "zerolinecolor": "#EBF0F8"
           },
           "yaxis": {
            "backgroundcolor": "white",
            "gridcolor": "#DFE8F3",
            "gridwidth": 2,
            "linecolor": "#EBF0F8",
            "showbackground": true,
            "ticks": "",
            "zerolinecolor": "#EBF0F8"
           },
           "zaxis": {
            "backgroundcolor": "white",
            "gridcolor": "#DFE8F3",
            "gridwidth": 2,
            "linecolor": "#EBF0F8",
            "showbackground": true,
            "ticks": "",
            "zerolinecolor": "#EBF0F8"
           }
          },
          "shapedefaults": {
           "line": {
            "color": "#2a3f5f"
           }
          },
          "ternary": {
           "aaxis": {
            "gridcolor": "#DFE8F3",
            "linecolor": "#A2B1C6",
            "ticks": ""
           },
           "baxis": {
            "gridcolor": "#DFE8F3",
            "linecolor": "#A2B1C6",
            "ticks": ""
           },
           "bgcolor": "white",
           "caxis": {
            "gridcolor": "#DFE8F3",
            "linecolor": "#A2B1C6",
            "ticks": ""
           }
          },
          "title": {
           "x": 0.05
          },
          "xaxis": {
           "automargin": true,
           "gridcolor": "#EBF0F8",
           "linecolor": "#EBF0F8",
           "ticks": "",
           "title": {
            "standoff": 15
           },
           "zerolinecolor": "#EBF0F8",
           "zerolinewidth": 2
          },
          "yaxis": {
           "automargin": true,
           "gridcolor": "#EBF0F8",
           "linecolor": "#EBF0F8",
           "ticks": "",
           "title": {
            "standoff": 15
           },
           "zerolinecolor": "#EBF0F8",
           "zerolinewidth": 2
          }
         }
        },
        "title": {
         "text": "Regime Transition Probabilities"
        },
        "width": 700,
        "xaxis": {
         "title": {
          "text": "To Regime"
         }
        },
        "yaxis": {
         "title": {
          "text": "From Regime"
         }
        }
       }
      }
     },
     "metadata": {},
     "output_type": "display_data"
    },
    {
     "name": "stdout",
     "output_type": "stream",
     "text": [
      "\n",
      "Stationary Distribution:\n",
      "Regime 0 [Bull]: 45.47%\n",
      "Regime 1 [Neutral]: 44.00%\n",
      "Regime 2 [Bear]: 10.53%\n"
     ]
    },
    {
     "data": {
      "application/vnd.plotly.v1+json": {
       "config": {
        "plotlyServerURL": "https://plot.ly"
       },
       "data": [
        {
         "domain": {
          "x": [
           0,
           1
          ],
          "y": [
           0,
           1
          ]
         },
         "hovertemplate": "label=%{label}<br>value=%{value}<extra></extra>",
         "labels": [
          "Regime 0: Bull",
          "Regime 1: Neutral",
          "Regime 2: Bear"
         ],
         "legendgroup": "",
         "name": "",
         "showlegend": true,
         "textinfo": "percent+label",
         "textposition": "inside",
         "type": "pie",
         "values": {
          "bdata": "NnkRcYy8RkCRrHWkXP9FQOho46lbECVA",
          "dtype": "f8"
         }
        }
       ],
       "layout": {
        "legend": {
         "tracegroupgap": 0
        },
        "piecolorway": [
         "rgb(102,194,165)",
         "rgb(252,141,98)",
         "rgb(141,160,203)"
        ],
        "template": {
         "data": {
          "bar": [
           {
            "error_x": {
             "color": "#2a3f5f"
            },
            "error_y": {
             "color": "#2a3f5f"
            },
            "marker": {
             "line": {
              "color": "#E5ECF6",
              "width": 0.5
             },
             "pattern": {
              "fillmode": "overlay",
              "size": 10,
              "solidity": 0.2
             }
            },
            "type": "bar"
           }
          ],
          "barpolar": [
           {
            "marker": {
             "line": {
              "color": "#E5ECF6",
              "width": 0.5
             },
             "pattern": {
              "fillmode": "overlay",
              "size": 10,
              "solidity": 0.2
             }
            },
            "type": "barpolar"
           }
          ],
          "carpet": [
           {
            "aaxis": {
             "endlinecolor": "#2a3f5f",
             "gridcolor": "white",
             "linecolor": "white",
             "minorgridcolor": "white",
             "startlinecolor": "#2a3f5f"
            },
            "baxis": {
             "endlinecolor": "#2a3f5f",
             "gridcolor": "white",
             "linecolor": "white",
             "minorgridcolor": "white",
             "startlinecolor": "#2a3f5f"
            },
            "type": "carpet"
           }
          ],
          "choropleth": [
           {
            "colorbar": {
             "outlinewidth": 0,
             "ticks": ""
            },
            "type": "choropleth"
           }
          ],
          "contour": [
           {
            "colorbar": {
             "outlinewidth": 0,
             "ticks": ""
            },
            "colorscale": [
             [
              0,
              "#0d0887"
             ],
             [
              0.1111111111111111,
              "#46039f"
             ],
             [
              0.2222222222222222,
              "#7201a8"
             ],
             [
              0.3333333333333333,
              "#9c179e"
             ],
             [
              0.4444444444444444,
              "#bd3786"
             ],
             [
              0.5555555555555556,
              "#d8576b"
             ],
             [
              0.6666666666666666,
              "#ed7953"
             ],
             [
              0.7777777777777778,
              "#fb9f3a"
             ],
             [
              0.8888888888888888,
              "#fdca26"
             ],
             [
              1,
              "#f0f921"
             ]
            ],
            "type": "contour"
           }
          ],
          "contourcarpet": [
           {
            "colorbar": {
             "outlinewidth": 0,
             "ticks": ""
            },
            "type": "contourcarpet"
           }
          ],
          "heatmap": [
           {
            "colorbar": {
             "outlinewidth": 0,
             "ticks": ""
            },
            "colorscale": [
             [
              0,
              "#0d0887"
             ],
             [
              0.1111111111111111,
              "#46039f"
             ],
             [
              0.2222222222222222,
              "#7201a8"
             ],
             [
              0.3333333333333333,
              "#9c179e"
             ],
             [
              0.4444444444444444,
              "#bd3786"
             ],
             [
              0.5555555555555556,
              "#d8576b"
             ],
             [
              0.6666666666666666,
              "#ed7953"
             ],
             [
              0.7777777777777778,
              "#fb9f3a"
             ],
             [
              0.8888888888888888,
              "#fdca26"
             ],
             [
              1,
              "#f0f921"
             ]
            ],
            "type": "heatmap"
           }
          ],
          "histogram": [
           {
            "marker": {
             "pattern": {
              "fillmode": "overlay",
              "size": 10,
              "solidity": 0.2
             }
            },
            "type": "histogram"
           }
          ],
          "histogram2d": [
           {
            "colorbar": {
             "outlinewidth": 0,
             "ticks": ""
            },
            "colorscale": [
             [
              0,
              "#0d0887"
             ],
             [
              0.1111111111111111,
              "#46039f"
             ],
             [
              0.2222222222222222,
              "#7201a8"
             ],
             [
              0.3333333333333333,
              "#9c179e"
             ],
             [
              0.4444444444444444,
              "#bd3786"
             ],
             [
              0.5555555555555556,
              "#d8576b"
             ],
             [
              0.6666666666666666,
              "#ed7953"
             ],
             [
              0.7777777777777778,
              "#fb9f3a"
             ],
             [
              0.8888888888888888,
              "#fdca26"
             ],
             [
              1,
              "#f0f921"
             ]
            ],
            "type": "histogram2d"
           }
          ],
          "histogram2dcontour": [
           {
            "colorbar": {
             "outlinewidth": 0,
             "ticks": ""
            },
            "colorscale": [
             [
              0,
              "#0d0887"
             ],
             [
              0.1111111111111111,
              "#46039f"
             ],
             [
              0.2222222222222222,
              "#7201a8"
             ],
             [
              0.3333333333333333,
              "#9c179e"
             ],
             [
              0.4444444444444444,
              "#bd3786"
             ],
             [
              0.5555555555555556,
              "#d8576b"
             ],
             [
              0.6666666666666666,
              "#ed7953"
             ],
             [
              0.7777777777777778,
              "#fb9f3a"
             ],
             [
              0.8888888888888888,
              "#fdca26"
             ],
             [
              1,
              "#f0f921"
             ]
            ],
            "type": "histogram2dcontour"
           }
          ],
          "mesh3d": [
           {
            "colorbar": {
             "outlinewidth": 0,
             "ticks": ""
            },
            "type": "mesh3d"
           }
          ],
          "parcoords": [
           {
            "line": {
             "colorbar": {
              "outlinewidth": 0,
              "ticks": ""
             }
            },
            "type": "parcoords"
           }
          ],
          "pie": [
           {
            "automargin": true,
            "type": "pie"
           }
          ],
          "scatter": [
           {
            "fillpattern": {
             "fillmode": "overlay",
             "size": 10,
             "solidity": 0.2
            },
            "type": "scatter"
           }
          ],
          "scatter3d": [
           {
            "line": {
             "colorbar": {
              "outlinewidth": 0,
              "ticks": ""
             }
            },
            "marker": {
             "colorbar": {
              "outlinewidth": 0,
              "ticks": ""
             }
            },
            "type": "scatter3d"
           }
          ],
          "scattercarpet": [
           {
            "marker": {
             "colorbar": {
              "outlinewidth": 0,
              "ticks": ""
             }
            },
            "type": "scattercarpet"
           }
          ],
          "scattergeo": [
           {
            "marker": {
             "colorbar": {
              "outlinewidth": 0,
              "ticks": ""
             }
            },
            "type": "scattergeo"
           }
          ],
          "scattergl": [
           {
            "marker": {
             "colorbar": {
              "outlinewidth": 0,
              "ticks": ""
             }
            },
            "type": "scattergl"
           }
          ],
          "scattermap": [
           {
            "marker": {
             "colorbar": {
              "outlinewidth": 0,
              "ticks": ""
             }
            },
            "type": "scattermap"
           }
          ],
          "scattermapbox": [
           {
            "marker": {
             "colorbar": {
              "outlinewidth": 0,
              "ticks": ""
             }
            },
            "type": "scattermapbox"
           }
          ],
          "scatterpolar": [
           {
            "marker": {
             "colorbar": {
              "outlinewidth": 0,
              "ticks": ""
             }
            },
            "type": "scatterpolar"
           }
          ],
          "scatterpolargl": [
           {
            "marker": {
             "colorbar": {
              "outlinewidth": 0,
              "ticks": ""
             }
            },
            "type": "scatterpolargl"
           }
          ],
          "scatterternary": [
           {
            "marker": {
             "colorbar": {
              "outlinewidth": 0,
              "ticks": ""
             }
            },
            "type": "scatterternary"
           }
          ],
          "surface": [
           {
            "colorbar": {
             "outlinewidth": 0,
             "ticks": ""
            },
            "colorscale": [
             [
              0,
              "#0d0887"
             ],
             [
              0.1111111111111111,
              "#46039f"
             ],
             [
              0.2222222222222222,
              "#7201a8"
             ],
             [
              0.3333333333333333,
              "#9c179e"
             ],
             [
              0.4444444444444444,
              "#bd3786"
             ],
             [
              0.5555555555555556,
              "#d8576b"
             ],
             [
              0.6666666666666666,
              "#ed7953"
             ],
             [
              0.7777777777777778,
              "#fb9f3a"
             ],
             [
              0.8888888888888888,
              "#fdca26"
             ],
             [
              1,
              "#f0f921"
             ]
            ],
            "type": "surface"
           }
          ],
          "table": [
           {
            "cells": {
             "fill": {
              "color": "#EBF0F8"
             },
             "line": {
              "color": "white"
             }
            },
            "header": {
             "fill": {
              "color": "#C8D4E3"
             },
             "line": {
              "color": "white"
             }
            },
            "type": "table"
           }
          ]
         },
         "layout": {
          "annotationdefaults": {
           "arrowcolor": "#2a3f5f",
           "arrowhead": 0,
           "arrowwidth": 1
          },
          "autotypenumbers": "strict",
          "coloraxis": {
           "colorbar": {
            "outlinewidth": 0,
            "ticks": ""
           }
          },
          "colorscale": {
           "diverging": [
            [
             0,
             "#8e0152"
            ],
            [
             0.1,
             "#c51b7d"
            ],
            [
             0.2,
             "#de77ae"
            ],
            [
             0.3,
             "#f1b6da"
            ],
            [
             0.4,
             "#fde0ef"
            ],
            [
             0.5,
             "#f7f7f7"
            ],
            [
             0.6,
             "#e6f5d0"
            ],
            [
             0.7,
             "#b8e186"
            ],
            [
             0.8,
             "#7fbc41"
            ],
            [
             0.9,
             "#4d9221"
            ],
            [
             1,
             "#276419"
            ]
           ],
           "sequential": [
            [
             0,
             "#0d0887"
            ],
            [
             0.1111111111111111,
             "#46039f"
            ],
            [
             0.2222222222222222,
             "#7201a8"
            ],
            [
             0.3333333333333333,
             "#9c179e"
            ],
            [
             0.4444444444444444,
             "#bd3786"
            ],
            [
             0.5555555555555556,
             "#d8576b"
            ],
            [
             0.6666666666666666,
             "#ed7953"
            ],
            [
             0.7777777777777778,
             "#fb9f3a"
            ],
            [
             0.8888888888888888,
             "#fdca26"
            ],
            [
             1,
             "#f0f921"
            ]
           ],
           "sequentialminus": [
            [
             0,
             "#0d0887"
            ],
            [
             0.1111111111111111,
             "#46039f"
            ],
            [
             0.2222222222222222,
             "#7201a8"
            ],
            [
             0.3333333333333333,
             "#9c179e"
            ],
            [
             0.4444444444444444,
             "#bd3786"
            ],
            [
             0.5555555555555556,
             "#d8576b"
            ],
            [
             0.6666666666666666,
             "#ed7953"
            ],
            [
             0.7777777777777778,
             "#fb9f3a"
            ],
            [
             0.8888888888888888,
             "#fdca26"
            ],
            [
             1,
             "#f0f921"
            ]
           ]
          },
          "colorway": [
           "#636efa",
           "#EF553B",
           "#00cc96",
           "#ab63fa",
           "#FFA15A",
           "#19d3f3",
           "#FF6692",
           "#B6E880",
           "#FF97FF",
           "#FECB52"
          ],
          "font": {
           "color": "#2a3f5f"
          },
          "geo": {
           "bgcolor": "white",
           "lakecolor": "white",
           "landcolor": "#E5ECF6",
           "showlakes": true,
           "showland": true,
           "subunitcolor": "white"
          },
          "hoverlabel": {
           "align": "left"
          },
          "hovermode": "closest",
          "mapbox": {
           "style": "light"
          },
          "paper_bgcolor": "white",
          "plot_bgcolor": "#E5ECF6",
          "polar": {
           "angularaxis": {
            "gridcolor": "white",
            "linecolor": "white",
            "ticks": ""
           },
           "bgcolor": "#E5ECF6",
           "radialaxis": {
            "gridcolor": "white",
            "linecolor": "white",
            "ticks": ""
           }
          },
          "scene": {
           "xaxis": {
            "backgroundcolor": "#E5ECF6",
            "gridcolor": "white",
            "gridwidth": 2,
            "linecolor": "white",
            "showbackground": true,
            "ticks": "",
            "zerolinecolor": "white"
           },
           "yaxis": {
            "backgroundcolor": "#E5ECF6",
            "gridcolor": "white",
            "gridwidth": 2,
            "linecolor": "white",
            "showbackground": true,
            "ticks": "",
            "zerolinecolor": "white"
           },
           "zaxis": {
            "backgroundcolor": "#E5ECF6",
            "gridcolor": "white",
            "gridwidth": 2,
            "linecolor": "white",
            "showbackground": true,
            "ticks": "",
            "zerolinecolor": "white"
           }
          },
          "shapedefaults": {
           "line": {
            "color": "#2a3f5f"
           }
          },
          "ternary": {
           "aaxis": {
            "gridcolor": "white",
            "linecolor": "white",
            "ticks": ""
           },
           "baxis": {
            "gridcolor": "white",
            "linecolor": "white",
            "ticks": ""
           },
           "bgcolor": "#E5ECF6",
           "caxis": {
            "gridcolor": "white",
            "linecolor": "white",
            "ticks": ""
           }
          },
          "title": {
           "x": 0.05
          },
          "xaxis": {
           "automargin": true,
           "gridcolor": "white",
           "linecolor": "white",
           "ticks": "",
           "title": {
            "standoff": 15
           },
           "zerolinecolor": "white",
           "zerolinewidth": 2
          },
          "yaxis": {
           "automargin": true,
           "gridcolor": "white",
           "linecolor": "white",
           "ticks": "",
           "title": {
            "standoff": 15
           },
           "zerolinecolor": "white",
           "zerolinewidth": 2
          }
         }
        },
        "title": {
         "text": "Stationary Distribution of Regimes"
        },
        "uniformtext": {
         "minsize": 12,
         "mode": "hide"
        }
       }
      }
     },
     "metadata": {},
     "output_type": "display_data"
    },
    {
     "data": {
      "application/vnd.plotly.v1+json": {
       "config": {
        "plotlyServerURL": "https://plot.ly"
       },
       "data": [
        {
         "customdata": [
          [
           "2018-01-02T00:00:00",
           239.2740020751953,
           9.770000457763672
          ],
          [
           "2018-01-03T00:00:00",
           240.7874298095703,
           9.149999618530273
          ],
          [
           "2018-01-04T00:00:00",
           241.80227661132812,
           9.220000267028809
          ],
          [
           "2018-01-05T00:00:00",
           243.4137420654297,
           9.220000267028809
          ],
          [
           "2018-01-08T00:00:00",
           243.85882568359375,
           9.520000457763672
          ],
          [
           "2018-01-09T00:00:00",
           244.41082763671875,
           10.079999923706055
          ],
          [
           "2018-01-10T00:00:00",
           244.03689575195312,
           9.819999694824219
          ],
          [
           "2018-01-11T00:00:00",
           245.8174285888672,
           9.880000114440918
          ],
          [
           "2018-01-12T00:00:00",
           247.41981506347656,
           10.15999984741211
          ],
          [
           "2018-01-16T00:00:00",
           246.57408142089844,
           11.65999984741211
          ],
          [
           "2018-01-17T00:00:00",
           248.92434692382812,
           11.90999984741211
          ],
          [
           "2018-01-18T00:00:00",
           248.50596618652344,
           12.220000267028809
          ],
          [
           "2018-01-19T00:00:00",
           249.6365509033203,
           11.270000457763672
          ],
          [
           "2018-01-22T00:00:00",
           251.6663360595703,
           11.029999732971191
          ],
          [
           "2018-01-23T00:00:00",
           252.20053100585938,
           11.100000381469727
          ],
          [
           "2018-01-24T00:00:00",
           252.10264587402344,
           11.470000267028809
          ],
          [
           "2018-01-25T00:00:00",
           252.2093963623047,
           11.579999923706055
          ],
          [
           "2018-01-26T00:00:00",
           255.12936401367188,
           11.079999923706055
          ],
          [
           "2018-01-29T00:00:00",
           253.4380340576172,
           13.84000015258789
          ],
          [
           "2018-01-30T00:00:00",
           250.83847045898438,
           14.789999961853027
          ],
          [
           "2018-01-31T00:00:00",
           250.9630126953125,
           13.539999961853027
          ],
          [
           "2018-02-01T00:00:00",
           250.67819213867188,
           13.470000267028809
          ],
          [
           "2018-02-23T00:00:00",
           244.5621337890625,
           16.489999771118164
          ],
          [
           "2018-02-26T00:00:00",
           247.40196228027344,
           15.800000190734863
          ],
          [
           "2018-02-27T00:00:00",
           244.31289672851562,
           18.59000015258789
          ],
          [
           "2018-02-28T00:00:00",
           241.83782958984375,
           19.850000381469727
          ],
          [
           "2018-03-01T00:00:00",
           238.32144165039062,
           22.469999313354492
          ],
          [
           "2018-03-02T00:00:00",
           239.54998779296875,
           19.59000015258789
          ],
          [
           "2018-03-05T00:00:00",
           242.31874084472656,
           18.729999542236328
          ],
          [
           "2018-03-06T00:00:00",
           242.93299865722656,
           18.360000610351562
          ],
          [
           "2018-03-07T00:00:00",
           242.84393310546875,
           17.760000228881836
          ],
          [
           "2018-03-08T00:00:00",
           244.0191192626953,
           16.540000915527344
          ],
          [
           "2018-03-09T00:00:00",
           248.2655792236328,
           14.640000343322754
          ],
          [
           "2018-03-12T00:00:00",
           247.9540557861328,
           15.779999732971191
          ],
          [
           "2018-03-13T00:00:00",
           246.35162353515625,
           16.350000381469727
          ],
          [
           "2018-03-14T00:00:00",
           245.08741760253906,
           17.229999542236328
          ],
          [
           "2018-03-15T00:00:00",
           244.82032775878906,
           16.59000015258789
          ],
          [
           "2018-03-16T00:00:00",
           245.08575439453125,
           15.800000190734863
          ],
          [
           "2018-03-19T00:00:00",
           241.7696990966797,
           19.020000457763672
          ],
          [
           "2018-03-20T00:00:00",
           242.18081665039062,
           18.200000762939453
          ],
          [
           "2018-03-21T00:00:00",
           241.716064453125,
           17.860000610351562
          ],
          [
           "2018-04-04T00:00:00",
           235.57550048828125,
           20.059999465942383
          ],
          [
           "2018-04-05T00:00:00",
           237.4346923828125,
           18.940000534057617
          ],
          [
           "2018-04-06T00:00:00",
           232.14321899414062,
           21.489999771118164
          ],
          [
           "2018-04-09T00:00:00",
           233.28736877441406,
           21.770000457763672
          ],
          [
           "2018-04-10T00:00:00",
           236.99673461914062,
           20.469999313354492
          ],
          [
           "2018-04-11T00:00:00",
           235.7543182373047,
           20.239999771118164
          ],
          [
           "2018-04-12T00:00:00",
           237.69383239746094,
           18.489999771118164
          ],
          [
           "2018-04-13T00:00:00",
           236.99673461914062,
           17.40999984741211
          ],
          [
           "2018-04-16T00:00:00",
           238.94520568847656,
           16.559999465942383
          ],
          [
           "2018-04-17T00:00:00",
           241.50155639648438,
           15.25
          ],
          [
           "2018-04-18T00:00:00",
           241.68035888671875,
           15.600000381469727
          ],
          [
           "2018-04-19T00:00:00",
           240.33961486816406,
           15.960000038146973
          ],
          [
           "2018-04-20T00:00:00",
           238.30165100097656,
           16.8799991607666
          ],
          [
           "2018-04-23T00:00:00",
           238.26588439941406,
           16.34000015258789
          ],
          [
           "2018-04-24T00:00:00",
           235.05709838867188,
           18.020000457763672
          ],
          [
           "2018-04-25T00:00:00",
           235.6381378173828,
           17.84000015258789
          ],
          [
           "2018-04-26T00:00:00",
           238.03347778320312,
           16.239999771118164
          ],
          [
           "2018-04-27T00:00:00",
           238.2569580078125,
           15.40999984741211
          ],
          [
           "2018-04-30T00:00:00",
           236.42466735839844,
           15.930000305175781
          ],
          [
           "2018-05-01T00:00:00",
           236.8447265625,
           15.489999771118164
          ],
          [
           "2018-05-02T00:00:00",
           235.2538299560547,
           15.970000267028809
          ],
          [
           "2018-05-03T00:00:00",
           234.73533630371094,
           15.899999618530273
          ],
          [
           "2018-05-04T00:00:00",
           237.7743377685547,
           14.770000457763672
          ],
          [
           "2018-05-07T00:00:00",
           238.5788116455078,
           14.75
          ],
          [
           "2018-05-08T00:00:00",
           238.5788116455078,
           14.710000038146973
          ],
          [
           "2018-05-09T00:00:00",
           240.884765625,
           13.420000076293945
          ],
          [
           "2018-05-10T00:00:00",
           243.1373291015625,
           13.229999542236328
          ],
          [
           "2018-05-11T00:00:00",
           243.87908935546875,
           12.649999618530273
          ],
          [
           "2018-05-14T00:00:00",
           243.9952850341797,
           12.930000305175781
          ],
          [
           "2018-05-15T00:00:00",
           242.31494140625,
           14.630000114440918
          ],
          [
           "2018-05-16T00:00:00",
           243.33387756347656,
           13.420000076293945
          ],
          [
           "2018-05-17T00:00:00",
           243.12831115722656,
           13.430000305175781
          ],
          [
           "2018-05-18T00:00:00",
           242.5204620361328,
           13.420000076293945
          ],
          [
           "2018-05-21T00:00:00",
           244.3439178466797,
           13.079999923706055
          ],
          [
           "2018-05-22T00:00:00",
           243.66461181640625,
           13.220000267028809
          ],
          [
           "2018-05-23T00:00:00",
           244.33489990234375,
           12.579999923706055
          ],
          [
           "2018-05-24T00:00:00",
           243.83444213867188,
           12.529999732971191
          ],
          [
           "2018-05-25T00:00:00",
           243.25347900390625,
           13.220000267028809
          ],
          [
           "2018-05-29T00:00:00",
           240.455810546875,
           17.020000457763672
          ],
          [
           "2018-05-30T00:00:00",
           243.66461181640625,
           14.9399995803833
          ],
          [
           "2018-05-31T00:00:00",
           242.1719512939453,
           15.430000305175781
          ],
          [
           "2018-06-01T00:00:00",
           244.5495147705078,
           13.460000038146973
          ],
          [
           "2018-06-04T00:00:00",
           245.71145629882812,
           12.739999771118164
          ],
          [
           "2018-06-05T00:00:00",
           245.89019775390625,
           12.399999618530273
          ],
          [
           "2018-06-06T00:00:00",
           247.9459686279297,
           11.640000343322754
          ],
          [
           "2018-06-07T00:00:00",
           247.9191131591797,
           12.130000114440918
          ],
          [
           "2018-06-08T00:00:00",
           248.65211486816406,
           12.180000305175781
          ],
          [
           "2018-06-11T00:00:00",
           248.98284912109375,
           12.350000381469727
          ],
          [
           "2018-06-12T00:00:00",
           249.30470275878906,
           12.34000015258789
          ],
          [
           "2018-06-13T00:00:00",
           248.50917053222656,
           12.9399995803833
          ],
          [
           "2018-06-14T00:00:00",
           249.1348419189453,
           12.119999885559082
          ],
          [
           "2018-06-15T00:00:00",
           248.81695556640625,
           11.979999542236328
          ],
          [
           "2018-06-18T00:00:00",
           248.3051300048828,
           12.3100004196167
          ],
          [
           "2018-06-19T00:00:00",
           247.35345458984375,
           13.350000381469727
          ],
          [
           "2018-06-20T00:00:00",
           247.77548217773438,
           12.789999961853027
          ],
          [
           "2018-06-21T00:00:00",
           246.2222137451172,
           14.640000343322754
          ],
          [
           "2018-06-22T00:00:00",
           246.6710662841797,
           13.770000457763672
          ],
          [
           "2018-06-25T00:00:00",
           243.31324768066406,
           17.329999923706055
          ],
          [
           "2018-06-26T00:00:00",
           243.85191345214844,
           15.920000076293945
          ],
          [
           "2018-06-27T00:00:00",
           241.83184814453125,
           17.90999984741211
          ],
          [
           "2018-06-28T00:00:00",
           243.2144012451172,
           16.850000381469727
          ],
          [
           "2018-06-29T00:00:00",
           243.5646209716797,
           16.09000015258789
          ],
          [
           "2018-07-02T00:00:00",
           244.08534240722656,
           15.600000381469727
          ],
          [
           "2018-07-03T00:00:00",
           243.2234344482422,
           16.139999389648438
          ],
          [
           "2018-07-05T00:00:00",
           245.2075958251953,
           14.970000267028809
          ],
          [
           "2018-07-06T00:00:00",
           247.28172302246094,
           13.369999885559082
          ],
          [
           "2018-07-09T00:00:00",
           249.50828552246094,
           12.6899995803833
          ],
          [
           "2018-07-10T00:00:00",
           250.4061279296875,
           12.640000343322754
          ],
          [
           "2018-07-11T00:00:00",
           248.574462890625,
           13.630000114440918
          ],
          [
           "2018-07-12T00:00:00",
           250.82806396484375,
           12.579999923706055
          ],
          [
           "2018-07-13T00:00:00",
           251.02569580078125,
           12.180000305175781
          ],
          [
           "2018-07-16T00:00:00",
           250.80120849609375,
           12.829999923706055
          ],
          [
           "2018-07-17T00:00:00",
           251.81576538085938,
           12.0600004196167
          ],
          [
           "2018-07-18T00:00:00",
           252.34542846679688,
           12.100000381469727
          ],
          [
           "2018-07-19T00:00:00",
           251.39364624023438,
           12.869999885559082
          ],
          [
           "2018-07-20T00:00:00",
           251.1063690185547,
           12.859999656677246
          ],
          [
           "2018-07-23T00:00:00",
           251.57330322265625,
           12.619999885559082
          ],
          [
           "2018-07-24T00:00:00",
           252.8391876220703,
           12.40999984741211
          ],
          [
           "2018-07-25T00:00:00",
           254.9940643310547,
           12.289999961853027
          ],
          [
           "2018-07-26T00:00:00",
           254.39248657226562,
           12.140000343322754
          ],
          [
           "2018-07-27T00:00:00",
           252.66868591308594,
           13.029999732971191
          ],
          [
           "2018-07-30T00:00:00",
           251.34884643554688,
           14.260000228881836
          ],
          [
           "2018-07-31T00:00:00",
           252.58790588378906,
           12.829999923706055
          ],
          [
           "2018-08-01T00:00:00",
           252.16587829589844,
           13.149999618530273
          ],
          [
           "2018-08-02T00:00:00",
           253.53956604003906,
           12.1899995803833
          ],
          [
           "2018-08-03T00:00:00",
           254.62594604492188,
           11.640000343322754
          ],
          [
           "2018-08-06T00:00:00",
           255.55970764160156,
           11.270000457763672
          ],
          [
           "2018-08-07T00:00:00",
           256.4036865234375,
           10.930000305175781
          ],
          [
           "2018-08-08T00:00:00",
           256.29595947265625,
           10.850000381469727
          ],
          [
           "2018-08-09T00:00:00",
           255.94577026367188,
           11.270000457763672
          ],
          [
           "2018-08-10T00:00:00",
           254.2308807373047,
           13.15999984741211
          ],
          [
           "2018-08-13T00:00:00",
           253.2791748046875,
           14.779999732971191
          ],
          [
           "2018-08-14T00:00:00",
           254.8953399658203,
           13.3100004196167
          ],
          [
           "2018-08-15T00:00:00",
           252.99180603027344,
           14.640000343322754
          ],
          [
           "2018-08-16T00:00:00",
           255.0388946533203,
           13.449999809265137
          ],
          [
           "2018-08-17T00:00:00",
           255.93673706054688,
           12.640000343322754
          ],
          [
           "2018-08-20T00:00:00",
           256.4844970703125,
           12.489999771118164
          ],
          [
           "2018-08-21T00:00:00",
           257.0860290527344,
           12.859999656677246
          ],
          [
           "2018-08-22T00:00:00",
           256.933349609375,
           12.25
          ],
          [
           "2018-08-23T00:00:00",
           256.59228515625,
           12.40999984741211
          ],
          [
           "2018-08-24T00:00:00",
           258.13653564453125,
           11.989999771118164
          ],
          [
           "2018-08-27T00:00:00",
           260.17449951171875,
           12.15999984741211
          ],
          [
           "2018-08-28T00:00:00",
           260.3002624511719,
           12.5
          ],
          [
           "2018-08-29T00:00:00",
           261.700927734375,
           12.25
          ],
          [
           "2018-08-30T00:00:00",
           260.64141845703125,
           13.529999732971191
          ],
          [
           "2018-08-31T00:00:00",
           260.65045166015625,
           12.859999656677246
          ],
          [
           "2018-09-04T00:00:00",
           260.2015075683594,
           13.15999984741211
          ],
          [
           "2018-09-05T00:00:00",
           259.5012512207031,
           13.90999984741211
          ],
          [
           "2018-09-06T00:00:00",
           258.7200012207031,
           14.649999618530273
          ],
          [
           "2018-09-07T00:00:00",
           258.21722412109375,
           14.880000114440918
          ],
          [
           "2018-09-10T00:00:00",
           258.6661376953125,
           14.15999984741211
          ],
          [
           "2018-09-11T00:00:00",
           259.5191650390625,
           13.220000267028809
          ],
          [
           "2018-09-12T00:00:00",
           259.58197021484375,
           13.140000343322754
          ],
          [
           "2018-09-13T00:00:00",
           261.1172180175781,
           12.369999885559082
          ],
          [
           "2018-09-14T00:00:00",
           261.162109375,
           12.069999694824219
          ],
          [
           "2018-09-17T00:00:00",
           259.7795104980469,
           13.680000305175781
          ],
          [
           "2018-09-18T00:00:00",
           261.18902587890625,
           12.789999961853027
          ],
          [
           "2018-09-19T00:00:00",
           261.46746826171875,
           11.75
          ],
          [
           "2018-09-20T00:00:00",
           263.58642578125,
           11.800000190734863
          ],
          [
           "2018-09-21T00:00:00",
           263.345458984375,
           11.680000305175781
          ],
          [
           "2018-09-24T00:00:00",
           262.47064208984375,
           12.199999809265137
          ],
          [
           "2018-09-25T00:00:00",
           262.2271423339844,
           12.420000076293945
          ],
          [
           "2018-09-26T00:00:00",
           261.4425048828125,
           12.890000343322754
          ],
          [
           "2018-09-27T00:00:00",
           262.173095703125,
           12.40999984741211
          ],
          [
           "2018-09-28T00:00:00",
           262.20013427734375,
           12.119999885559082
          ],
          [
           "2018-10-01T00:00:00",
           263.11102294921875,
           12
          ],
          [
           "2018-10-02T00:00:00",
           262.9577331542969,
           12.050000190734863
          ],
          [
           "2018-10-03T00:00:00",
           263.1020202636719,
           11.609999656677246
          ],
          [
           "2018-10-04T00:00:00",
           261.0456237792969,
           14.220000267028809
          ],
          [
           "2018-10-05T00:00:00",
           259.5845947265625,
           14.819999694824219
          ],
          [
           "2018-10-08T00:00:00",
           259.5845947265625,
           15.6899995803833
          ],
          [
           "2018-10-09T00:00:00",
           259.205810546875,
           15.949999809265137
          ],
          [
           "2019-01-17T00:00:00",
           238.54833984375,
           18.059999465942383
          ],
          [
           "2019-01-18T00:00:00",
           241.72340393066406,
           17.799999237060547
          ],
          [
           "2019-01-22T00:00:00",
           238.4575958251953,
           20.799999237060547
          ],
          [
           "2019-01-23T00:00:00",
           238.95660400390625,
           19.520000457763672
          ],
          [
           "2019-01-24T00:00:00",
           239.08351135253906,
           18.889999389648438
          ],
          [
           "2019-01-25T00:00:00",
           241.10653686523438,
           17.420000076293945
          ],
          [
           "2019-01-28T00:00:00",
           239.2740936279297,
           18.8700008392334
          ],
          [
           "2019-01-29T00:00:00",
           238.95660400390625,
           19.1299991607666
          ],
          [
           "2019-01-30T00:00:00",
           242.739501953125,
           17.65999984741211
          ],
          [
           "2019-01-31T00:00:00",
           244.87124633789062,
           16.56999969482422
          ],
          [
           "2019-02-01T00:00:00",
           244.9892120361328,
           16.139999389648438
          ],
          [
           "2019-02-04T00:00:00",
           246.71287536621094,
           15.729999542236328
          ],
          [
           "2019-02-05T00:00:00",
           247.74697875976562,
           15.569999694824219
          ],
          [
           "2019-02-06T00:00:00",
           247.4203643798828,
           15.380000114440918
          ],
          [
           "2019-02-07T00:00:00",
           245.06179809570312,
           16.3700008392334
          ],
          [
           "2019-02-08T00:00:00",
           245.36119079589844,
           15.720000267028809
          ],
          [
           "2019-02-11T00:00:00",
           245.49722290039062,
           15.970000267028809
          ],
          [
           "2019-02-12T00:00:00",
           248.6541748046875,
           15.430000305175781
          ],
          [
           "2019-02-13T00:00:00",
           249.46156311035156,
           15.649999618530273
          ],
          [
           "2019-02-14T00:00:00",
           248.9081268310547,
           16.219999313354492
          ],
          [
           "2019-02-15T00:00:00",
           251.62054443359375,
           14.90999984741211
          ],
          [
           "2019-02-19T00:00:00",
           252.05601501464844,
           14.880000114440918
          ],
          [
           "2019-02-20T00:00:00",
           252.5640411376953,
           14.020000457763672
          ],
          [
           "2019-02-21T00:00:00",
           251.6659698486328,
           14.460000038146973
          ],
          [
           "2019-02-22T00:00:00",
           253.226318359375,
           13.510000228881836
          ],
          [
           "2019-02-25T00:00:00",
           253.5709991455078,
           14.850000381469727
          ],
          [
           "2019-02-26T00:00:00",
           253.3896026611328,
           15.170000076293945
          ],
          [
           "2019-02-27T00:00:00",
           253.28073120117188,
           14.699999809265137
          ],
          [
           "2019-02-28T00:00:00",
           252.8089599609375,
           14.779999732971191
          ],
          [
           "2019-03-01T00:00:00",
           254.38751220703125,
           13.569999694824219
          ],
          [
           "2019-03-04T00:00:00",
           253.462158203125,
           14.630000114440918
          ],
          [
           "2019-03-05T00:00:00",
           253.117431640625,
           14.739999771118164
          ],
          [
           "2019-03-06T00:00:00",
           251.5843048095703,
           15.739999771118164
          ],
          [
           "2019-03-07T00:00:00",
           249.47964477539062,
           16.59000015258789
          ],
          [
           "2019-03-08T00:00:00",
           248.98077392578125,
           16.049999237060547
          ],
          [
           "2019-03-11T00:00:00",
           252.5912628173828,
           14.329999923706055
          ],
          [
           "2019-03-12T00:00:00",
           253.543701171875,
           13.770000457763672
          ],
          [
           "2019-03-13T00:00:00",
           255.2220458984375,
           13.40999984741211
          ],
          [
           "2019-03-14T00:00:00",
           255.05877685546875,
           13.5
          ],
          [
           "2019-03-15T00:00:00",
           256.31884765625,
           12.880000114440918
          ],
          [
           "2019-03-18T00:00:00",
           257.248291015625,
           13.100000381469727
          ],
          [
           "2019-03-19T00:00:00",
           257.31201171875,
           13.5600004196167
          ],
          [
           "2019-03-20T00:00:00",
           256.5375671386719,
           13.90999984741211
          ],
          [
           "2019-03-21T00:00:00",
           259.43505859375,
           13.630000114440918
          ],
          [
           "2019-03-22T00:00:00",
           254.44189453125,
           16.479999542236328
          ],
          [
           "2019-03-25T00:00:00",
           254.25057983398438,
           16.329999923706055
          ],
          [
           "2019-03-26T00:00:00",
           256.1457824707031,
           14.680000305175781
          ],
          [
           "2019-03-27T00:00:00",
           254.80638122558594,
           15.149999618530273
          ],
          [
           "2019-03-28T00:00:00",
           255.77215576171875,
           14.430000305175781
          ],
          [
           "2019-03-29T00:00:00",
           257.385009765625,
           13.710000038146973
          ],
          [
           "2019-04-01T00:00:00",
           260.4373779296875,
           13.399999618530273
          ],
          [
           "2019-04-02T00:00:00",
           260.5649108886719,
           13.359999656677246
          ],
          [
           "2019-04-03T00:00:00",
           260.97491455078125,
           13.739999771118164
          ],
          [
           "2019-04-04T00:00:00",
           261.6673889160156,
           13.579999923706055
          ],
          [
           "2019-04-05T00:00:00",
           262.93402099609375,
           12.819999694824219
          ],
          [
           "2019-04-08T00:00:00",
           263.1343994140625,
           13.180000305175781
          ],
          [
           "2019-04-09T00:00:00",
           261.7859191894531,
           14.279999732971191
          ],
          [
           "2019-04-10T00:00:00",
           262.6788024902344,
           13.300000190734863
          ],
          [
           "2019-04-11T00:00:00",
           262.6058654785156,
           13.020000457763672
          ],
          [
           "2019-04-12T00:00:00",
           264.3827209472656,
           12.010000228881836
          ],
          [
           "2019-04-15T00:00:00",
           264.2095031738281,
           12.319999694824219
          ],
          [
           "2019-04-16T00:00:00",
           264.3827209472656,
           12.180000305175781
          ],
          [
           "2019-04-17T00:00:00",
           263.73577880859375,
           12.600000381469727
          ],
          [
           "2019-04-18T00:00:00",
           264.2550964355469,
           12.09000015258789
          ],
          [
           "2019-04-22T00:00:00",
           264.4828796386719,
           12.420000076293945
          ],
          [
           "2019-04-23T00:00:00",
           266.8610534667969,
           12.279999732971191
          ],
          [
           "2019-04-24T00:00:00",
           266.2687683105469,
           13.140000343322754
          ],
          [
           "2019-04-25T00:00:00",
           266.10479736328125,
           13.25
          ],
          [
           "2019-04-26T00:00:00",
           267.34393310546875,
           12.729999542236328
          ],
          [
           "2019-04-29T00:00:00",
           267.7631530761719,
           13.109999656677246
          ],
          [
           "2019-04-30T00:00:00",
           267.8997802734375,
           13.119999885559082
          ],
          [
           "2019-05-01T00:00:00",
           265.8860168457031,
           14.800000190734863
          ],
          [
           "2019-05-02T00:00:00",
           265.3120422363281,
           14.420000076293945
          ],
          [
           "2019-05-03T00:00:00",
           267.9089050292969,
           12.869999885559082
          ],
          [
           "2019-05-06T00:00:00",
           266.8064270019531,
           15.4399995803833
          ],
          [
           "2019-05-07T00:00:00",
           262.3507995605469,
           19.31999969482422
          ],
          [
           "2019-05-08T00:00:00",
           261.9863586425781,
           19.399999618530273
          ],
          [
           "2019-05-09T00:00:00",
           261.1936340332031,
           19.100000381469727
          ],
          [
           "2019-05-10T00:00:00",
           262.50567626953125,
           16.040000915527344
          ],
          [
           "2019-05-15T00:00:00",
           259.7357177734375,
           16.440000534057617
          ],
          [
           "2019-05-16T00:00:00",
           262.1412658691406,
           15.289999961853027
          ],
          [
           "2019-05-17T00:00:00",
           260.44647216796875,
           15.960000038146973
          ],
          [
           "2019-05-20T00:00:00",
           258.7243347167969,
           16.309999465942383
          ],
          [
           "2019-05-21T00:00:00",
           261.0569763183594,
           14.949999809265137
          ],
          [
           "2019-05-22T00:00:00",
           260.2551574707031,
           14.75
          ],
          [
           "2019-05-23T00:00:00",
           257.0751953125,
           16.920000076293945
          ],
          [
           "2019-05-24T00:00:00",
           257.6582946777344,
           15.850000381469727
          ],
          [
           "2019-05-28T00:00:00",
           255.2618865966797,
           17.5
          ],
          [
           "2019-05-29T00:00:00",
           253.54901123046875,
           17.899999618530273
          ],
          [
           "2019-05-30T00:00:00",
           254.24143981933594,
           17.299999237060547
          ],
          [
           "2019-05-31T00:00:00",
           250.8154754638672,
           18.709999084472656
          ],
          [
           "2019-06-03T00:00:00",
           250.1776885986328,
           18.860000610351562
          ],
          [
           "2019-06-04T00:00:00",
           255.60816955566406,
           16.969999313354492
          ],
          [
           "2019-06-05T00:00:00",
           257.82232666015625,
           16.09000015258789
          ],
          [
           "2019-06-06T00:00:00",
           259.4988708496094,
           15.930000305175781
          ],
          [
           "2019-06-17T00:00:00",
           263.66290283203125,
           15.350000381469727
          ],
          [
           "2019-06-18T00:00:00",
           266.42364501953125,
           15.149999618530273
          ],
          [
           "2019-06-19T00:00:00",
           267.0250549316406,
           14.329999923706055
          ],
          [
           "2019-06-20T00:00:00",
           269.5762939453125,
           14.75
          ],
          [
           "2019-06-21T00:00:00",
           269.1844482421875,
           15.399999618530273
          ],
          [
           "2019-06-24T00:00:00",
           268.8548278808594,
           15.260000228881836
          ],
          [
           "2019-06-25T00:00:00",
           266.2178955078125,
           16.280000686645508
          ],
          [
           "2019-06-26T00:00:00",
           265.95233154296875,
           16.209999084472656
          ],
          [
           "2019-06-27T00:00:00",
           266.8954772949219,
           15.819999694824219
          ],
          [
           "2019-06-28T00:00:00",
           268.2688293457031,
           15.079999923706055
          ],
          [
           "2019-07-01T00:00:00",
           270.70428466796875,
           14.0600004196167
          ],
          [
           "2019-07-02T00:00:00",
           271.40924072265625,
           12.930000305175781
          ],
          [
           "2019-07-03T00:00:00",
           273.5792541503906,
           12.569999694824219
          ],
          [
           "2019-07-05T00:00:00",
           273.2679443359375,
           13.279999732971191
          ],
          [
           "2019-07-08T00:00:00",
           271.7663269042969,
           13.960000038146973
          ],
          [
           "2019-07-09T00:00:00",
           272.10516357421875,
           14.09000015258789
          ],
          [
           "2019-07-10T00:00:00",
           273.4052429199219,
           13.029999732971191
          ],
          [
           "2019-07-11T00:00:00",
           274.0462646484375,
           12.930000305175781
          ],
          [
           "2019-07-12T00:00:00",
           275.2731018066406,
           12.390000343322754
          ],
          [
           "2019-07-15T00:00:00",
           275.36474609375,
           12.680000305175781
          ],
          [
           "2019-07-16T00:00:00",
           274.4765625,
           12.859999656677246
          ],
          [
           "2019-07-17T00:00:00",
           272.60870361328125,
           13.970000267028809
          ],
          [
           "2019-07-18T00:00:00",
           273.60675048828125,
           13.529999732971191
          ],
          [
           "2019-07-19T00:00:00",
           272.0868835449219,
           14.449999809265137
          ],
          [
           "2019-07-22T00:00:00",
           272.7552185058594,
           13.529999732971191
          ],
          [
           "2019-07-23T00:00:00",
           274.7054443359375,
           12.609999656677246
          ],
          [
           "2019-07-24T00:00:00",
           275.9964294433594,
           12.069999694824219
          ],
          [
           "2019-07-25T00:00:00",
           274.67791748046875,
           12.739999771118164
          ],
          [
           "2019-07-26T00:00:00",
           276.51837158203125,
           12.15999984741211
          ],
          [
           "2019-07-29T00:00:00",
           276.0148010253906,
           12.829999923706055
          ],
          [
           "2019-07-30T00:00:00",
           275.33721923828125,
           13.9399995803833
          ],
          [
           "2019-07-31T00:00:00",
           272.3249206542969,
           16.1200008392334
          ],
          [
           "2019-08-01T00:00:00",
           269.9534912109375,
           17.8700008392334
          ],
          [
           "2019-08-02T00:00:00",
           267.9208679199219,
           17.610000610351562
          ],
          [
           "2019-08-15T00:00:00",
           260.6236267089844,
           21.18000030517578
          ],
          [
           "2019-08-16T00:00:00",
           264.46905517578125,
           18.469999313354492
          ],
          [
           "2019-08-19T00:00:00",
           267.6553039550781,
           16.8799991607666
          ],
          [
           "2019-08-20T00:00:00",
           265.6044616699219,
           17.5
          ],
          [
           "2019-08-21T00:00:00",
           267.7652893066406,
           15.800000190734863
          ],
          [
           "2019-08-22T00:00:00",
           267.6828308105469,
           16.68000030517578
          ],
          [
           "2019-08-23T00:00:00",
           260.8067626953125,
           19.8700008392334
          ],
          [
           "2019-08-26T00:00:00",
           263.69085693359375,
           19.31999969482422
          ],
          [
           "2019-08-27T00:00:00",
           262.6563415527344,
           20.309999465942383
          ],
          [
           "2019-08-28T00:00:00",
           264.5057678222656,
           19.350000381469727
          ],
          [
           "2019-08-29T00:00:00",
           267.88421630859375,
           17.8799991607666
          ],
          [
           "2019-08-30T00:00:00",
           267.7652893066406,
           18.979999542236328
          ],
          [
           "2019-09-03T00:00:00",
           266.1995544433594,
           19.65999984741211
          ],
          [
           "2019-09-04T00:00:00",
           269.22100830078125,
           17.329999923706055
          ],
          [
           "2019-09-05T00:00:00",
           272.6819763183594,
           16.270000457763672
          ],
          [
           "2019-09-06T00:00:00",
           272.8925476074219,
           15
          ],
          [
           "2019-09-09T00:00:00",
           273.0299377441406,
           15.270000457763672
          ],
          [
           "2019-09-10T00:00:00",
           272.9657897949219,
           15.199999809265137
          ],
          [
           "2019-09-11T00:00:00",
           274.9068908691406,
           14.609999656677246
          ],
          [
           "2019-09-12T00:00:00",
           275.859130859375,
           14.220000267028809
          ],
          [
           "2019-09-13T00:00:00",
           275.67596435546875,
           13.739999771118164
          ],
          [
           "2019-09-16T00:00:00",
           274.8245544433594,
           14.670000076293945
          ],
          [
           "2019-09-17T00:00:00",
           275.5203857421875,
           14.4399995803833
          ],
          [
           "2019-09-18T00:00:00",
           275.6851501464844,
           13.949999809265137
          ],
          [
           "2019-09-19T00:00:00",
           275.6668395996094,
           14.050000190734863
          ],
          [
           "2019-09-20T00:00:00",
           274.36431884765625,
           15.319999694824219
          ],
          [
           "2019-09-23T00:00:00",
           274.29986572265625,
           14.90999984741211
          ],
          [
           "2019-09-24T00:00:00",
           272.14752197265625,
           17.049999237060547
          ],
          [
           "2019-09-25T00:00:00",
           273.7572937011719,
           15.960000038146973
          ],
          [
           "2019-09-26T00:00:00",
           273.18707275390625,
           16.06999969482422
          ],
          [
           "2019-09-27T00:00:00",
           271.71527099609375,
           17.219999313354492
          ],
          [
           "2019-09-30T00:00:00",
           272.9753723144531,
           16.239999771118164
          ],
          [
           "2019-10-01T00:00:00",
           269.7284240722656,
           18.559999465942383
          ],
          [
           "2019-10-02T00:00:00",
           264.9637756347656,
           20.559999465942383
          ],
          [
           "2019-10-03T00:00:00",
           267.13458251953125,
           19.1200008392334
          ],
          [
           "2019-10-04T00:00:00",
           270.7494812011719,
           17.040000915527344
          ],
          [
           "2019-10-07T00:00:00",
           269.5812683105469,
           17.860000610351562
          ],
          [
           "2019-10-08T00:00:00",
           265.3960876464844,
           20.280000686645508
          ],
          [
           "2019-10-09T00:00:00",
           267.9163513183594,
           18.639999389648438
          ],
          [
           "2019-10-10T00:00:00",
           269.7284240722656,
           17.56999969482422
          ],
          [
           "2019-10-11T00:00:00",
           272.52471923828125,
           15.579999923706055
          ],
          [
           "2019-10-14T00:00:00",
           272.2212219238281,
           14.569999694824219
          ],
          [
           "2019-10-15T00:00:00",
           274.91619873046875,
           13.539999961853027
          ],
          [
           "2019-10-16T00:00:00",
           274.4747009277344,
           13.680000305175781
          ],
          [
           "2019-10-17T00:00:00",
           275.2841796875,
           13.789999961853027
          ],
          [
           "2019-10-18T00:00:00",
           274.07916259765625,
           14.25
          ],
          [
           "2019-10-21T00:00:00",
           275.937255859375,
           14
          ],
          [
           "2019-10-22T00:00:00",
           275.0359191894531,
           14.460000038146973
          ],
          [
           "2019-10-23T00:00:00",
           275.8360290527344,
           14.010000228881836
          ],
          [
           "2019-10-24T00:00:00",
           276.2868347167969,
           13.710000038146973
          ],
          [
           "2019-10-25T00:00:00",
           277.4181823730469,
           12.649999618530273
          ],
          [
           "2019-10-28T00:00:00",
           278.98187255859375,
           13.109999656677246
          ],
          [
           "2019-10-29T00:00:00",
           278.8991394042969,
           13.199999809265137
          ],
          [
           "2019-10-30T00:00:00",
           279.7545471191406,
           12.329999923706055
          ],
          [
           "2019-10-31T00:00:00",
           279.0094299316406,
           13.220000267028809
          ],
          [
           "2019-11-01T00:00:00",
           281.5941162109375,
           12.300000190734863
          ],
          [
           "2019-11-04T00:00:00",
           282.7254943847656,
           12.829999923706055
          ],
          [
           "2019-11-05T00:00:00",
           282.4128112792969,
           13.100000381469727
          ],
          [
           "2019-11-06T00:00:00",
           282.4772033691406,
           12.619999885559082
          ],
          [
           "2019-11-07T00:00:00",
           283.4706115722656,
           12.729999542236328
          ],
          [
           "2019-11-08T00:00:00",
           284.1696472167969,
           12.069999694824219
          ],
          [
           "2019-11-11T00:00:00",
           283.6269226074219,
           12.6899995803833
          ],
          [
           "2019-11-12T00:00:00",
           284.224853515625,
           12.680000305175781
          ],
          [
           "2019-11-13T00:00:00",
           284.3168029785156,
           13
          ],
          [
           "2019-11-14T00:00:00",
           284.73077392578125,
           13.050000190734863
          ],
          [
           "2019-11-15T00:00:00",
           286.7911376953125,
           12.050000190734863
          ],
          [
           "2019-11-18T00:00:00",
           287.002685546875,
           12.460000038146973
          ],
          [
           "2019-11-19T00:00:00",
           286.919921875,
           12.859999656677246
          ],
          [
           "2019-11-20T00:00:00",
           285.8528747558594,
           12.779999732971191
          ],
          [
           "2019-11-21T00:00:00",
           285.3929748535156,
           13.130000114440918
          ],
          [
           "2019-11-22T00:00:00",
           286.02764892578125,
           12.34000015258789
          ],
          [
           "2019-11-25T00:00:00",
           288.2444763183594,
           11.869999885559082
          ],
          [
           "2019-11-26T00:00:00",
           288.8974914550781,
           11.539999961853027
          ],
          [
           "2019-11-27T00:00:00",
           290.1853332519531,
           11.75
          ],
          [
           "2019-11-29T00:00:00",
           289.109130859375,
           12.619999885559082
          ],
          [
           "2019-12-02T00:00:00",
           286.6531677246094,
           14.90999984741211
          ],
          [
           "2019-12-03T00:00:00",
           284.73077392578125,
           15.960000038146973
          ],
          [
           "2019-12-04T00:00:00",
           286.48760986328125,
           14.800000190734863
          ],
          [
           "2019-12-05T00:00:00",
           287.002685546875,
           14.520000457763672
          ],
          [
           "2019-12-06T00:00:00",
           289.6241760253906,
           13.619999885559082
          ],
          [
           "2019-12-09T00:00:00",
           288.71356201171875,
           15.859999656677246
          ],
          [
           "2019-12-10T00:00:00",
           288.3916320800781,
           15.680000305175781
          ],
          [
           "2019-12-11T00:00:00",
           289.210205078125,
           14.989999771118164
          ],
          [
           "2019-12-12T00:00:00",
           291.7030029296875,
           13.9399995803833
          ],
          [
           "2019-12-13T00:00:00",
           291.8777770996094,
           12.630000114440918
          ],
          [
           "2019-12-16T00:00:00",
           293.8829650878906,
           12.140000343322754
          ],
          [
           "2019-12-17T00:00:00",
           293.94732666015625,
           12.289999961853027
          ],
          [
           "2019-12-18T00:00:00",
           293.9657287597656,
           12.579999923706055
          ],
          [
           "2019-12-19T00:00:00",
           295.170654296875,
           12.5
          ],
          [
           "2019-12-20T00:00:00",
           296.4648132324219,
           12.510000228881836
          ],
          [
           "2019-12-23T00:00:00",
           296.9177551269531,
           12.609999656677246
          ],
          [
           "2019-12-24T00:00:00",
           296.927001953125,
           12.670000076293945
          ],
          [
           "2019-12-26T00:00:00",
           298.5075378417969,
           12.649999618530273
          ],
          [
           "2019-12-27T00:00:00",
           298.4336242675781,
           13.430000305175781
          ],
          [
           "2019-12-30T00:00:00",
           296.7882995605469,
           14.819999694824219
          ],
          [
           "2019-12-31T00:00:00",
           297.50933837890625,
           13.779999732971191
          ],
          [
           "2020-01-02T00:00:00",
           300.2914733886719,
           12.470000267028809
          ],
          [
           "2020-01-03T00:00:00",
           298.0177001953125,
           14.020000457763672
          ],
          [
           "2020-01-06T00:00:00",
           299.1546936035156,
           13.850000381469727
          ],
          [
           "2020-01-07T00:00:00",
           298.3134765625,
           13.789999961853027
          ],
          [
           "2020-01-08T00:00:00",
           299.9032897949219,
           13.449999809265137
          ],
          [
           "2020-01-09T00:00:00",
           301.93695068359375,
           12.539999961853027
          ],
          [
           "2020-01-10T00:00:00",
           301.0679931640625,
           12.5600004196167
          ],
          [
           "2020-01-13T00:00:00",
           303.1385498046875,
           12.319999694824219
          ],
          [
           "2020-01-14T00:00:00",
           302.6764221191406,
           12.390000343322754
          ],
          [
           "2020-01-15T00:00:00",
           303.3604736328125,
           12.420000076293945
          ],
          [
           "2020-01-16T00:00:00",
           305.8839416503906,
           12.319999694824219
          ],
          [
           "2020-01-17T00:00:00",
           306.83599853515625,
           12.100000381469727
          ],
          [
           "2020-01-21T00:00:00",
           306.2350769042969,
           12.850000381469727
          ],
          [
           "2020-01-22T00:00:00",
           306.2721252441406,
           12.90999984741211
          ],
          [
           "2020-01-23T00:00:00",
           306.62322998046875,
           12.979999542236328
          ],
          [
           "2020-01-24T00:00:00",
           303.8965759277344,
           14.5600004196167
          ],
          [
           "2020-01-27T00:00:00",
           299.0252990722656,
           18.229999542236328
          ],
          [
           "2020-01-28T00:00:00",
           302.15875244140625,
           16.280000686645508
          ],
          [
           "2020-01-29T00:00:00",
           301.9091491699219,
           16.389999389648438
          ],
          [
           "2020-01-30T00:00:00",
           302.8890075683594,
           15.489999771118164
          ],
          [
           "2020-01-31T00:00:00",
           297.38909912109375,
           18.84000015258789
          ],
          [
           "2020-02-03T00:00:00",
           299.5982971191406,
           17.969999313354492
          ],
          [
           "2020-02-04T00:00:00",
           304.1645812988281,
           16.049999237060547
          ],
          [
           "2020-02-05T00:00:00",
           307.6771240234375,
           15.149999618530273
          ],
          [
           "2020-02-06T00:00:00",
           308.71234130859375,
           14.960000038146973
          ],
          [
           "2020-02-18T00:00:00",
           311.2542724609375,
           14.829999923706055
          ],
          [
           "2020-02-19T00:00:00",
           312.74249267578125,
           14.380000114440918
          ],
          [
           "2020-02-20T00:00:00",
           311.4576721191406,
           15.5600004196167
          ],
          [
           "2020-02-21T00:00:00",
           308.2502136230469,
           17.079999923706055
          ],
          [
           "2020-07-14T00:00:00",
           297.8300476074219,
           29.520000457763672
          ],
          [
           "2020-07-15T00:00:00",
           300.5663146972656,
           27.760000228881836
          ],
          [
           "2020-07-16T00:00:00",
           299.576416015625,
           28
          ],
          [
           "2020-07-17T00:00:00",
           300.4449768066406,
           25.68000030517578
          ],
          [
           "2020-07-20T00:00:00",
           302.87298583984375,
           24.459999084472656
          ],
          [
           "2020-07-21T00:00:00",
           303.5174255371094,
           24.84000015258789
          ],
          [
           "2020-07-22T00:00:00",
           305.2449951171875,
           24.31999969482422
          ],
          [
           "2020-07-23T00:00:00",
           301.6029052734375,
           26.079999923706055
          ],
          [
           "2020-07-24T00:00:00",
           299.66046142578125,
           25.84000015258789
          ],
          [
           "2020-07-27T00:00:00",
           301.8456726074219,
           24.739999771118164
          ],
          [
           "2020-07-28T00:00:00",
           299.9312744140625,
           25.440000534057617
          ],
          [
           "2020-07-29T00:00:00",
           303.6200866699219,
           24.100000381469727
          ],
          [
           "2020-07-30T00:00:00",
           302.5368347167969,
           24.760000228881836
          ],
          [
           "2020-07-31T00:00:00",
           304.9274597167969,
           24.459999084472656
          ],
          [
           "2020-08-03T00:00:00",
           307.0474548339844,
           24.280000686645508
          ],
          [
           "2020-08-04T00:00:00",
           308.23333740234375,
           23.760000228881836
          ],
          [
           "2020-08-05T00:00:00",
           310.1478576660156,
           22.989999771118164
          ],
          [
           "2020-08-13T00:00:00",
           314.5556640625,
           22.1299991607666
          ],
          [
           "2020-08-14T00:00:00",
           314.5650634765625,
           22.049999237060547
          ],
          [
           "2020-08-17T00:00:00",
           315.5642395019531,
           21.350000381469727
          ],
          [
           "2020-08-18T00:00:00",
           316.2460632324219,
           21.510000228881836
          ],
          [
           "2020-08-19T00:00:00",
           314.92926025390625,
           22.540000915527344
          ],
          [
           "2020-08-20T00:00:00",
           315.9097900390625,
           22.719999313354492
          ],
          [
           "2020-08-21T00:00:00",
           317.0304260253906,
           22.540000915527344
          ],
          [
           "2020-08-24T00:00:00",
           320.2429504394531,
           22.3700008392334
          ],
          [
           "2020-08-25T00:00:00",
           321.3635559082031,
           22.030000686645508
          ],
          [
           "2020-08-26T00:00:00",
           324.58544921875,
           23.270000457763672
          ],
          [
           "2020-10-20T00:00:00",
           321.9562072753906,
           29.350000381469727
          ],
          [
           "2020-10-21T00:00:00",
           321.3468017578125,
           28.649999618530273
          ],
          [
           "2020-10-22T00:00:00",
           323.109375,
           28.110000610351562
          ],
          [
           "2020-10-23T00:00:00",
           324.2064514160156,
           27.549999237060547
          ],
          [
           "2020-10-26T00:00:00",
           318.21514892578125,
           32.459999084472656
          ],
          [
           "2020-10-27T00:00:00",
           317.11810302734375,
           33.349998474121094
          ],
          [
           "2020-11-19T00:00:00",
           335.45782470703125,
           23.110000610351562
          ],
          [
           "2020-11-20T00:00:00",
           333.1606140136719,
           23.700000762939453
          ],
          [
           "2020-11-23T00:00:00",
           335.15777587890625,
           22.65999984741211
          ],
          [
           "2020-11-24T00:00:00",
           340.5583801269531,
           21.639999389648438
          ],
          [
           "2020-11-25T00:00:00",
           340.0333557128906,
           21.25
          ],
          [
           "2020-11-27T00:00:00",
           340.9803161621094,
           20.84000015258789
          ],
          [
           "2020-11-30T00:00:00",
           339.47076416015625,
           20.56999969482422
          ],
          [
           "2020-12-01T00:00:00",
           343.18365478515625,
           20.770000457763672
          ],
          [
           "2020-12-02T00:00:00",
           343.9056396484375,
           21.170000076293945
          ],
          [
           "2020-12-03T00:00:00",
           343.8118896484375,
           21.280000686645508
          ],
          [
           "2020-12-04T00:00:00",
           346.774658203125,
           20.790000915527344
          ],
          [
           "2020-12-07T00:00:00",
           346.0621337890625,
           21.299999237060547
          ],
          [
           "2020-12-08T00:00:00",
           347.07470703125,
           20.68000030517578
          ],
          [
           "2020-12-09T00:00:00",
           343.96185302734375,
           22.270000457763672
          ],
          [
           "2020-12-10T00:00:00",
           343.849365234375,
           22.520000457763672
          ],
          [
           "2020-12-11T00:00:00",
           343.4461975097656,
           23.309999465942383
          ],
          [
           "2020-12-14T00:00:00",
           341.908447265625,
           24.719999313354492
          ],
          [
           "2020-12-15T00:00:00",
           346.5308837890625,
           22.889999389648438
          ],
          [
           "2020-12-16T00:00:00",
           347.07470703125,
           22.5
          ],
          [
           "2020-12-17T00:00:00",
           349.0155944824219,
           21.93000030517578
          ],
          [
           "2020-12-18T00:00:00",
           347.6219482421875,
           21.56999969482422
          ],
          [
           "2020-12-21T00:00:00",
           346.3790588378906,
           25.15999984741211
          ],
          [
           "2020-12-22T00:00:00",
           345.79534912109375,
           24.229999542236328
          ],
          [
           "2020-12-23T00:00:00",
           346.1060485839844,
           23.309999465942383
          ],
          [
           "2020-12-24T00:00:00",
           347.4525451660156,
           21.530000686645508
          ],
          [
           "2020-12-28T00:00:00",
           350.43743896484375,
           21.700000762939453
          ],
          [
           "2020-12-29T00:00:00",
           349.76885986328125,
           23.079999923706055
          ],
          [
           "2020-12-30T00:00:00",
           350.2679138183594,
           22.770000457763672
          ],
          [
           "2020-12-31T00:00:00",
           352.047607421875,
           22.75
          ],
          [
           "2021-01-04T00:00:00",
           347.2547912597656,
           26.969999313354492
          ],
          [
           "2021-01-05T00:00:00",
           349.64642333984375,
           25.34000015258789
          ],
          [
           "2021-01-06T00:00:00",
           351.73687744140625,
           25.06999969482422
          ],
          [
           "2021-01-07T00:00:00",
           356.96270751953125,
           22.3700008392334
          ],
          [
           "2021-01-08T00:00:00",
           358.9966125488281,
           21.559999465942383
          ],
          [
           "2021-01-11T00:00:00",
           356.5766296386719,
           24.079999923706055
          ],
          [
           "2021-01-12T00:00:00",
           356.6520080566406,
           23.329999923706055
          ],
          [
           "2021-01-13T00:00:00",
           357.6124572753906,
           22.209999084472656
          ],
          [
           "2021-01-14T00:00:00",
           356.360107421875,
           23.25
          ],
          [
           "2021-01-15T00:00:00",
           353.7613220214844,
           24.34000015258789
          ],
          [
           "2021-01-19T00:00:00",
           356.5390319824219,
           23.239999771118164
          ],
          [
           "2021-01-20T00:00:00",
           361.4730529785156,
           21.579999923706055
          ],
          [
           "2021-01-21T00:00:00",
           361.80255126953125,
           21.31999969482422
          ],
          [
           "2021-01-22T00:00:00",
           360.5220031738281,
           21.90999984741211
          ],
          [
           "2021-01-25T00:00:00",
           361.94384765625,
           23.190000534057617
          ],
          [
           "2021-01-26T00:00:00",
           361.3789367675781,
           23.020000457763672
          ],
          [
           "2021-02-16T00:00:00",
           369.39190673828125,
           21.459999084472656
          ],
          [
           "2021-02-17T00:00:00",
           369.47674560546875,
           21.5
          ],
          [
           "2021-02-18T00:00:00",
           367.9042053222656,
           22.489999771118164
          ],
          [
           "2021-02-19T00:00:00",
           367.2544860839844,
           22.049999237060547
          ],
          [
           "2021-02-22T00:00:00",
           364.4296875,
           23.450000762939453
          ],
          [
           "2021-02-23T00:00:00",
           364.8722839355469,
           23.110000610351562
          ],
          [
           "2021-02-24T00:00:00",
           368.8929138183594,
           21.34000015258789
          ],
          [
           "2021-03-22T00:00:00",
           370.8757629394531,
           18.8799991607666
          ],
          [
           "2021-03-23T00:00:00",
           367.9566650390625,
           20.299999237060547
          ],
          [
           "2021-03-24T00:00:00",
           366.0860900878906,
           21.200000762939453
          ],
          [
           "2021-03-25T00:00:00",
           368.1455383300781,
           19.809999465942383
          ],
          [
           "2021-03-26T00:00:00",
           374.0783386230469,
           18.860000610351562
          ],
          [
           "2021-03-29T00:00:00",
           373.88934326171875,
           20.739999771118164
          ],
          [
           "2021-03-30T00:00:00",
           372.8973693847656,
           19.610000610351562
          ],
          [
           "2021-03-31T00:00:00",
           374.4089050292969,
           19.399999618530273
          ],
          [
           "2021-04-16T00:00:00",
           394.1812744140625,
           16.25
          ],
          [
           "2021-04-19T00:00:00",
           392.24462890625,
           17.290000915527344
          ],
          [
           "2021-04-20T00:00:00",
           389.37274169921875,
           18.68000030517578
          ],
          [
           "2021-04-21T00:00:00",
           393.0570068359375,
           17.5
          ],
          [
           "2021-04-22T00:00:00",
           389.46728515625,
           18.709999084472656
          ],
          [
           "2021-04-23T00:00:00",
           393.6900634765625,
           17.329999923706055
          ],
          [
           "2021-04-26T00:00:00",
           394.51190185546875,
           17.639999389648438
          ],
          [
           "2021-04-27T00:00:00",
           394.42681884765625,
           17.559999465942383
          ],
          [
           "2021-04-28T00:00:00",
           394.3134765625,
           17.280000686645508
          ],
          [
           "2021-04-29T00:00:00",
           396.82635498046875,
           17.610000610351562
          ],
          [
           "2021-04-30T00:00:00",
           394.2190246582031,
           18.610000610351562
          ],
          [
           "2021-05-03T00:00:00",
           395.0691833496094,
           18.309999465942383
          ],
          [
           "2021-05-04T00:00:00",
           392.6319274902344,
           19.479999542236328
          ],
          [
           "2021-05-05T00:00:00",
           392.7547302246094,
           19.149999618530273
          ],
          [
           "2021-05-06T00:00:00",
           395.8910827636719,
           18.389999389648438
          ],
          [
           "2021-05-07T00:00:00",
           398.7724304199219,
           16.690000534057617
          ],
          [
           "2021-05-10T00:00:00",
           394.8236389160156,
           19.65999984741211
          ],
          [
           "2021-05-11T00:00:00",
           391.2998962402344,
           21.84000015258789
          ],
          [
           "2021-05-21T00:00:00",
           391.98956298828125,
           20.149999618530273
          ],
          [
           "2021-05-24T00:00:00",
           395.985595703125,
           18.399999618530273
          ],
          [
           "2021-05-25T00:00:00",
           395.1070556640625,
           18.84000015258789
          ],
          [
           "2021-05-26T00:00:00",
           395.8910827636719,
           17.360000610351562
          ],
          [
           "2021-05-27T00:00:00",
           396.0989990234375,
           16.739999771118164
          ],
          [
           "2021-05-28T00:00:00",
           396.80743408203125,
           16.760000228881836
          ],
          [
           "2021-06-01T00:00:00",
           396.4578857421875,
           17.899999618530273
          ],
          [
           "2021-06-02T00:00:00",
           397.0814208984375,
           17.479999542236328
          ],
          [
           "2021-06-03T00:00:00",
           395.6077575683594,
           18.040000915527344
          ],
          [
           "2021-06-04T00:00:00",
           399.2259521484375,
           16.420000076293945
          ],
          [
           "2021-06-07T00:00:00",
           398.83856201171875,
           16.420000076293945
          ],
          [
           "2021-06-08T00:00:00",
           398.92364501953125,
           17.06999969482422
          ],
          [
           "2021-06-09T00:00:00",
           398.3283996582031,
           17.889999389648438
          ],
          [
           "2021-06-10T00:00:00",
           400.1799621582031,
           16.100000381469727
          ],
          [
           "2021-06-11T00:00:00",
           400.8412780761719,
           15.649999618530273
          ],
          [
           "2021-06-14T00:00:00",
           401.7388000488281,
           16.389999389648438
          ],
          [
           "2021-06-15T00:00:00",
           401.0019226074219,
           17.020000457763672
          ],
          [
           "2021-06-16T00:00:00",
           398.7629699707031,
           18.149999618530273
          ],
          [
           "2021-06-17T00:00:00",
           398.6307678222656,
           17.75
          ],
          [
           "2021-06-18T00:00:00",
           393.25299072265625,
           20.700000762939453
          ],
          [
           "2021-06-21T00:00:00",
           398.88287353515625,
           17.889999389648438
          ],
          [
           "2021-06-22T00:00:00",
           401.015380859375,
           16.65999984741211
          ],
          [
           "2021-06-23T00:00:00",
           400.5320129394531,
           16.31999969482422
          ],
          [
           "2021-06-24T00:00:00",
           402.90142822265625,
           15.970000267028809
          ],
          [
           "2021-06-25T00:00:00",
           404.3326110839844,
           15.619999885559082
          ],
          [
           "2021-06-28T00:00:00",
           405.1476745605469,
           15.760000228881836
          ],
          [
           "2021-06-29T00:00:00",
           405.3656311035156,
           16.020000457763672
          ],
          [
           "2021-06-30T00:00:00",
           405.70684814453125,
           15.829999923706055
          ],
          [
           "2021-07-01T00:00:00",
           407.95306396484375,
           15.479999542236328
          ],
          [
           "2021-07-02T00:00:00",
           411.0713195800781,
           15.069999694824219
          ],
          [
           "2021-07-06T00:00:00",
           410.3224792480469,
           16.440000534057617
          ],
          [
           "2021-07-07T00:00:00",
           411.77264404296875,
           16.200000762939453
          ],
          [
           "2021-07-08T00:00:00",
           408.4175109863281,
           19
          ],
          [
           "2021-07-09T00:00:00",
           412.7773132324219,
           16.18000030517578
          ],
          [
           "2021-07-12T00:00:00",
           414.2558288574219,
           16.170000076293945
          ],
          [
           "2021-07-13T00:00:00",
           412.8435974121094,
           17.1200008392334
          ],
          [
           "2021-07-14T00:00:00",
           413.4597473144531,
           16.329999923706055
          ],
          [
           "2021-07-15T00:00:00",
           412.0475158691406,
           17.010000228881836
          ],
          [
           "2021-07-16T00:00:00",
           408.8155822753906,
           18.450000762939453
          ],
          [
           "2021-07-19T00:00:00",
           402.7782287597656,
           22.5
          ],
          [
           "2021-07-20T00:00:00",
           408.5502014160156,
           19.729999542236328
          ],
          [
           "2021-07-21T00:00:00",
           411.8579406738281,
           17.90999984741211
          ],
          [
           "2021-07-22T00:00:00",
           412.7204284667969,
           17.690000534057617
          ],
          [
           "2021-08-02T00:00:00",
           414.7392272949219,
           19.459999084472656
          ],
          [
           "2021-08-03T00:00:00",
           418.1133117675781,
           18.040000915527344
          ],
          [
           "2021-08-04T00:00:00",
           416.0566711425781,
           17.969999313354492
          ],
          [
           "2021-08-05T00:00:00",
           418.6914978027344,
           17.280000686645508
          ],
          [
           "2021-08-06T00:00:00",
           419.38336181640625,
           16.149999618530273
          ],
          [
           "2021-08-09T00:00:00",
           419.0421142578125,
           16.719999313354492
          ],
          [
           "2021-08-10T00:00:00",
           419.5633544921875,
           16.790000915527344
          ],
          [
           "2021-08-11T00:00:00",
           420.6059875488281,
           16.170000076293945
          ],
          [
           "2021-08-12T00:00:00",
           421.86651611328125,
           15.59000015258789
          ],
          [
           "2021-08-13T00:00:00",
           422.6342468261719,
           15.449999809265137
          ],
          [
           "2021-08-16T00:00:00",
           423.62939453125,
           16.1200008392334
          ],
          [
           "2021-08-17T00:00:00",
           420.8523864746094,
           17.90999984741211
          ],
          [
           "2021-08-18T00:00:00",
           416.24615478515625,
           21.56999969482422
          ],
          [
           "2021-08-19T00:00:00",
           416.8906555175781,
           21.670000076293945
          ],
          [
           "2021-08-20T00:00:00",
           420.2079162597656,
           18.559999465942383
          ],
          [
           "2021-08-23T00:00:00",
           423.9042053222656,
           17.149999618530273
          ],
          [
           "2021-08-24T00:00:00",
           424.5771484375,
           17.219999313354492
          ],
          [
           "2021-08-25T00:00:00",
           425.4680480957031,
           16.790000915527344
          ],
          [
           "2021-08-26T00:00:00",
           422.9565124511719,
           18.84000015258789
          ],
          [
           "2021-08-27T00:00:00",
           426.7381286621094,
           16.389999389648438
          ],
          [
           "2021-08-30T00:00:00",
           428.61474609375,
           16.190000534057617
          ],
          [
           "2021-08-31T00:00:00",
           427.979736328125,
           16.479999542236328
          ],
          [
           "2021-09-01T00:00:00",
           428.20721435546875,
           16.110000610351562
          ],
          [
           "2021-09-02T00:00:00",
           429.5245666503906,
           16.40999984741211
          ],
          [
           "2021-09-03T00:00:00",
           429.4203186035156,
           16.40999984741211
          ],
          [
           "2021-09-07T00:00:00",
           427.88494873046875,
           18.139999389648438
          ],
          [
           "2021-09-08T00:00:00",
           427.3636474609375,
           17.959999084472656
          ],
          [
           "2021-09-09T00:00:00",
           425.534423828125,
           18.799999237060547
          ],
          [
           "2021-09-10T00:00:00",
           422.1792907714844,
           20.950000762939453
          ],
          [
           "2021-09-13T00:00:00",
           423.2596740722656,
           19.3700008392334
          ],
          [
           "2021-09-14T00:00:00",
           420.9755859375,
           19.459999084472656
          ],
          [
           "2021-09-15T00:00:00",
           424.49188232421875,
           18.18000030517578
          ],
          [
           "2021-09-16T00:00:00",
           423.8190002441406,
           18.690000534057617
          ],
          [
           "2021-09-17T00:00:00",
           419.6905212402344,
           20.809999465942383
          ],
          [
           "2021-10-11T00:00:00",
           413.3105163574219,
           20
          ],
          [
           "2021-10-12T00:00:00",
           412.2931823730469,
           19.850000381469727
          ],
          [
           "2021-10-13T00:00:00",
           413.7764587402344,
           18.639999389648438
          ],
          [
           "2021-10-14T00:00:00",
           420.7364196777344,
           16.860000610351562
          ],
          [
           "2021-10-29T00:00:00",
           436.6625671386719,
           16.260000228881836
          ],
          [
           "2021-11-01T00:00:00",
           437.4137268066406,
           16.40999984741211
          ],
          [
           "2021-11-02T00:00:00",
           439.1822814941406,
           16.030000686645508
          ],
          [
           "2021-11-03T00:00:00",
           441.8636169433594,
           15.100000381469727
          ],
          [
           "2021-11-11T00:00:00",
           440.96026611328125,
           17.65999984741211
          ],
          [
           "2021-11-12T00:00:00",
           444.2880859375,
           16.290000915527344
          ],
          [
           "2021-11-15T00:00:00",
           444.44024658203125,
           16.489999771118164
          ],
          [
           "2021-11-16T00:00:00",
           446.19927978515625,
           16.3700008392334
          ],
          [
           "2021-11-17T00:00:00",
           445.1153564453125,
           17.110000610351562
          ],
          [
           "2021-11-18T00:00:00",
           446.627197265625,
           17.59000015258789
          ],
          [
           "2021-11-19T00:00:00",
           445.82843017578125,
           17.90999984741211
          ],
          [
           "2021-11-22T00:00:00",
           444.57342529296875,
           19.170000076293945
          ],
          [
           "2021-11-23T00:00:00",
           445.1628723144531,
           19.3799991607666
          ],
          [
           "2021-11-24T00:00:00",
           446.3514099121094,
           18.579999923706055
          ],
          [
           "2022-11-23T00:00:00",
           388.4176330566406,
           20.350000381469727
          ],
          [
           "2022-11-25T00:00:00",
           388.3307189941406,
           20.5
          ],
          [
           "2022-11-28T00:00:00",
           382.1341552734375,
           22.209999084472656
          ],
          [
           "2022-11-29T00:00:00",
           381.4777526855469,
           21.889999389648438
          ],
          [
           "2022-12-30T00:00:00",
           370.81817626953125,
           21.670000076293945
          ],
          [
           "2023-01-03T00:00:00",
           369.257080078125,
           22.899999618530273
          ],
          [
           "2023-01-04T00:00:00",
           372.1078186035156,
           22.010000228881836
          ],
          [
           "2023-01-05T00:00:00",
           367.8608093261719,
           22.459999084472656
          ],
          [
           "2023-02-13T00:00:00",
           400.29510498046875,
           20.34000015258789
          ],
          [
           "2023-02-14T00:00:00",
           400.1109619140625,
           18.90999984741211
          ],
          [
           "2023-02-15T00:00:00",
           401.4102478027344,
           18.229999542236328
          ],
          [
           "2023-02-16T00:00:00",
           395.88330078125,
           20.170000076293945
          ],
          [
           "2023-02-17T00:00:00",
           394.894287109375,
           20.020000457763672
          ],
          [
           "2023-04-12T00:00:00",
           397.1702880859375,
           19.09000015258789
          ],
          [
           "2023-04-13T00:00:00",
           402.4458312988281,
           17.799999237060547
          ],
          [
           "2023-04-14T00:00:00",
           401.4627380371094,
           17.06999969482422
          ],
          [
           "2023-04-17T00:00:00",
           402.9032897949219,
           16.950000762939453
          ],
          [
           "2023-04-18T00:00:00",
           403.16607666015625,
           16.829999923706055
          ],
          [
           "2023-04-19T00:00:00",
           403.09796142578125,
           16.459999084472656
          ],
          [
           "2023-04-20T00:00:00",
           400.89825439453125,
           17.170000076293945
          ],
          [
           "2023-04-21T00:00:00",
           401.2096862792969,
           16.770000457763672
          ],
          [
           "2023-04-24T00:00:00",
           401.6282043457031,
           16.889999389648438
          ],
          [
           "2023-04-25T00:00:00",
           395.2528381347656,
           18.760000228881836
          ],
          [
           "2023-04-26T00:00:00",
           393.5787353515625,
           18.84000015258789
          ],
          [
           "2023-05-10T00:00:00",
           401.8423156738281,
           16.940000534057617
          ],
          [
           "2023-05-11T00:00:00",
           401.14154052734375,
           16.93000030517578
          ],
          [
           "2023-05-12T00:00:00",
           400.615966796875,
           17.030000686645508
          ],
          [
           "2023-05-15T00:00:00",
           401.9980773925781,
           17.1200008392334
          ],
          [
           "2023-05-16T00:00:00",
           399.3116455078125,
           17.989999771118164
          ],
          [
           "2023-05-17T00:00:00",
           404.1589050292969,
           16.8700008392334
          ],
          [
           "2023-05-18T00:00:00",
           408.05224609375,
           16.049999237060547
          ],
          [
           "2023-05-19T00:00:00",
           407.4584655761719,
           16.809999465942383
          ],
          [
           "2023-05-22T00:00:00",
           407.6239318847656,
           17.209999084472656
          ],
          [
           "2023-05-23T00:00:00",
           403.0492858886719,
           18.530000686645508
          ],
          [
           "2023-05-24T00:00:00",
           400.1292419433594,
           20.030000686645508
          ],
          [
           "2023-05-25T00:00:00",
           403.5943298339844,
           19.139999389648438
          ],
          [
           "2023-05-26T00:00:00",
           408.8211975097656,
           17.950000762939453
          ],
          [
           "2023-05-30T00:00:00",
           408.97686767578125,
           17.459999084472656
          ],
          [
           "2023-05-31T00:00:00",
           406.7090759277344,
           17.940000534057617
          ],
          [
           "2023-06-01T00:00:00",
           410.57318115234375,
           15.649999618530273
          ],
          [
           "2023-06-23T00:00:00",
           423.22576904296875,
           13.4399995803833
          ],
          [
           "2023-06-26T00:00:00",
           421.49664306640625,
           14.25
          ],
          [
           "2023-06-27T00:00:00",
           426.11761474609375,
           13.739999771118164
          ],
          [
           "2023-06-28T00:00:00",
           426.3325500488281,
           13.430000305175781
          ],
          [
           "2023-06-29T00:00:00",
           428.01287841796875,
           13.539999961853027
          ],
          [
           "2023-06-30T00:00:00",
           433.063720703125,
           13.59000015258789
          ],
          [
           "2023-07-11T00:00:00",
           432.2625732421875,
           14.84000015258789
          ],
          [
           "2023-07-12T00:00:00",
           435.7405090332031,
           13.539999961853027
          ],
          [
           "2023-07-13T00:00:00",
           439.198974609375,
           13.609999656677246
          ],
          [
           "2023-07-14T00:00:00",
           438.9254150390625,
           13.34000015258789
          ],
          [
           "2023-07-25T00:00:00",
           444.9435119628906,
           13.859999656677246
          ],
          [
           "2023-07-26T00:00:00",
           445.01190185546875,
           13.1899995803833
          ],
          [
           "2023-07-27T00:00:00",
           442.0614013671875,
           14.40999984741211
          ],
          [
           "2023-07-28T00:00:00",
           446.389404296875,
           13.329999923706055
          ],
          [
           "2023-07-31T00:00:00",
           447.23931884765625,
           13.630000114440918
          ],
          [
           "2023-08-01T00:00:00",
           445.95947265625,
           13.930000305175781
          ],
          [
           "2023-08-02T00:00:00",
           439.755859375,
           16.09000015258789
          ],
          [
           "2023-08-03T00:00:00",
           438.4955749511719,
           15.920000076293945
          ],
          [
           "2023-09-08T00:00:00",
           435.2520751953125,
           13.84000015258789
          ],
          [
           "2023-09-11T00:00:00",
           438.11456298828125,
           13.800000190734863
          ],
          [
           "2023-09-12T00:00:00",
           435.7112731933594,
           14.229999542236328
          ],
          [
           "2023-09-13T00:00:00",
           436.2192687988281,
           13.479999542236328
          ],
          [
           "2023-09-14T00:00:00",
           439.98052978515625,
           12.819999694824219
          ],
          [
           "2023-09-15T00:00:00",
           434.6795349121094,
           13.789999961853027
          ],
          [
           "2023-09-18T00:00:00",
           434.9344177246094,
           14
          ],
          [
           "2023-09-19T00:00:00",
           434.0324401855469,
           14.109999656677246
          ],
          [
           "2023-09-20T00:00:00",
           430.042236328125,
           15.140000343322754
          ],
          [
           "2023-10-04T00:00:00",
           416.33624267578125,
           18.579999923706055
          ],
          [
           "2023-10-05T00:00:00",
           416.17938232421875,
           18.489999771118164
          ],
          [
           "2023-10-06T00:00:00",
           421.12060546875,
           17.450000762939453
          ],
          [
           "2023-10-09T00:00:00",
           423.8166809082031,
           17.700000762939453
          ],
          [
           "2023-10-10T00:00:00",
           426.0225830078125,
           17.030000686645508
          ],
          [
           "2023-11-28T00:00:00",
           446.0129089355469,
           12.6899995803833
          ],
          [
           "2023-11-29T00:00:00",
           445.6991882324219,
           12.979999542236328
          ],
          [
           "2023-11-30T00:00:00",
           447.4541015625,
           12.920000076293945
          ],
          [
           "2023-12-01T00:00:00",
           450.1011962890625,
           12.630000114440918
          ],
          [
           "2023-12-04T00:00:00",
           447.73846435546875,
           13.079999923706055
          ],
          [
           "2023-12-05T00:00:00",
           447.6501770019531,
           12.850000381469727
          ],
          [
           "2023-12-06T00:00:00",
           445.8462829589844,
           12.970000267028809
          ],
          [
           "2023-12-07T00:00:00",
           449.24822998046875,
           13.0600004196167
          ],
          [
           "2023-12-08T00:00:00",
           451.1796569824219,
           12.350000381469727
          ],
          [
           "2023-12-11T00:00:00",
           452.9345397949219,
           12.630000114440918
          ],
          [
           "2023-12-12T00:00:00",
           455.0032043457031,
           12.069999694824219
          ],
          [
           "2023-12-27T00:00:00",
           469.06402587890625,
           12.430000305175781
          ],
          [
           "2023-12-28T00:00:00",
           469.2412109375,
           12.470000267028809
          ],
          [
           "2023-12-29T00:00:00",
           467.88275146484375,
           12.449999809265137
          ],
          [
           "2024-01-02T00:00:00",
           465.26434326171875,
           13.199999809265137
          ],
          [
           "2024-01-03T00:00:00",
           461.46466064453125,
           14.039999961853027
          ],
          [
           "2024-01-04T00:00:00",
           459.978271484375,
           14.130000114440918
          ],
          [
           "2024-01-05T00:00:00",
           460.6082763671875,
           13.350000381469727
          ],
          [
           "2024-01-08T00:00:00",
           467.18389892578125,
           13.079999923706055
          ],
          [
           "2024-01-09T00:00:00",
           466.47515869140625,
           12.760000228881836
          ],
          [
           "2024-01-10T00:00:00",
           469.11322021484375,
           12.6899995803833
          ],
          [
           "2024-01-11T00:00:00",
           468.9065246582031,
           12.4399995803833
          ],
          [
           "2024-01-12T00:00:00",
           469.2313537597656,
           12.699999809265137
          ],
          [
           "2024-01-16T00:00:00",
           467.5086975097656,
           13.84000015258789
          ],
          [
           "2024-01-17T00:00:00",
           464.9100036621094,
           14.789999961853027
          ],
          [
           "2024-01-18T00:00:00",
           469.0443115234375,
           14.130000114440918
          ],
          [
           "2024-01-19T00:00:00",
           474.8915100097656,
           13.300000190734863
          ],
          [
           "2024-01-22T00:00:00",
           475.89556884765625,
           13.1899995803833
          ],
          [
           "2024-02-15T00:00:00",
           494.1655578613281,
           14.010000228881836
          ],
          [
           "2024-02-16T00:00:00",
           491.70465087890625,
           14.239999771118164
          ],
          [
           "2024-02-20T00:00:00",
           488.99761962890625,
           15.420000076293945
          ],
          [
           "2024-02-21T00:00:00",
           489.44061279296875,
           15.34000015258789
          ],
          [
           "2024-03-06T00:00:00",
           501.78460693359375,
           14.5
          ],
          [
           "2024-03-07T00:00:00",
           506.7655944824219,
           14.4399995803833
          ],
          [
           "2024-03-08T00:00:00",
           503.7238464355469,
           14.739999771118164
          ],
          [
           "2024-03-11T00:00:00",
           503.29071044921875,
           15.220000267028809
          ],
          [
           "2024-03-12T00:00:00",
           508.7048034667969,
           13.84000015258789
          ],
          [
           "2024-03-13T00:00:00",
           507.9073791503906,
           13.75
          ],
          [
           "2024-03-14T00:00:00",
           506.9034118652344,
           14.399999618530273
          ],
          [
           "2024-03-15T00:00:00",
           503.42266845703125,
           14.40999984741211
          ],
          [
           "2024-03-18T00:00:00",
           506.41461181640625,
           14.329999923706055
          ],
          [
           "2024-03-19T00:00:00",
           509.22882080078125,
           13.819999694824219
          ],
          [
           "2024-03-20T00:00:00",
           513.9389038085938,
           13.039999961853027
          ],
          [
           "2024-04-01T00:00:00",
           515.5975952148438,
           13.649999618530273
          ],
          [
           "2024-04-02T00:00:00",
           512.3195190429688,
           14.609999656677246
          ],
          [
           "2024-04-03T00:00:00",
           512.8822631835938,
           14.329999923706055
          ],
          [
           "2024-04-04T00:00:00",
           506.62200927734375,
           16.350000381469727
          ],
          [
           "2024-04-05T00:00:00",
           511.9145812988281,
           16.030000686645508
          ],
          [
           "2024-04-08T00:00:00",
           512.200927734375,
           15.1899995803833
          ],
          [
           "2024-04-09T00:00:00",
           512.79345703125,
           14.979999542236328
          ],
          [
           "2024-04-10T00:00:00",
           507.6587219238281,
           15.800000190734863
          ],
          [
           "2024-04-11T00:00:00",
           511.49005126953125,
           14.90999984741211
          ],
          [
           "2024-05-24T00:00:00",
           522.7862548828125,
           11.930000305175781
          ],
          [
           "2024-05-28T00:00:00",
           523.151611328125,
           12.920000076293945
          ],
          [
           "2024-05-29T00:00:00",
           519.4881591796875,
           14.279999732971191
          ],
          [
           "2024-05-30T00:00:00",
           516.0420532226562,
           14.470000267028809
          ],
          [
           "2024-05-31T00:00:00",
           520.7422485351562,
           12.920000076293945
          ],
          [
           "2024-06-03T00:00:00",
           521.1668090820312,
           13.109999656677246
          ],
          [
           "2024-06-04T00:00:00",
           521.7493896484375,
           13.15999984741211
          ],
          [
           "2024-06-05T00:00:00",
           527.9505004882812,
           12.630000114440918
          ],
          [
           "2024-06-06T00:00:00",
           527.9406127929688,
           12.579999923706055
          ],
          [
           "2024-06-25T00:00:00",
           539.7184448242188,
           12.84000015258789
          ],
          [
           "2024-06-26T00:00:00",
           540.3920288085938,
           12.550000190734863
          ],
          [
           "2024-06-27T00:00:00",
           541.2439575195312,
           12.239999771118164
          ],
          [
           "2024-06-28T00:00:00",
           539.1141357421875,
           12.4399995803833
          ],
          [
           "2024-07-01T00:00:00",
           540.2236328125,
           12.220000267028809
          ],
          [
           "2024-07-02T00:00:00",
           543.8591918945312,
           12.029999732971191
          ],
          [
           "2024-07-03T00:00:00",
           546.2862548828125,
           12.09000015258789
          ],
          [
           "2024-07-05T00:00:00",
           549.4363403320312,
           12.479999542236328
          ]
         ],
         "hovertemplate": "Regime_Label=Bull<br>Log(VIX)=%{x}<br>Return (%)=%{y}<br>Date=%{customdata[0]}<br>Close=%{customdata[1]}<br>VIX=%{customdata[2]}<extra></extra>",
         "legendgroup": "Bull",
         "marker": {
          "color": "rgb(102,194,165)",
          "opacity": 0.7,
          "symbol": "circle"
         },
         "mode": "markers",
         "name": "Bull",
         "showlegend": true,
         "type": "scattergl",
         "x": {
          "bdata": "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",
          "dtype": "f8"
         },
         "xaxis": "x",
         "y": {
          "bdata": "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",
          "dtype": "f8"
         },
         "yaxis": "y"
        },
        {
         "customdata": [
          [
           "2018-02-02T00:00:00",
           245.22096252441406,
           17.309999465942383
          ],
          [
           "2018-02-05T00:00:00",
           234.9652099609375,
           37.31999969482422
          ],
          [
           "2018-02-06T00:00:00",
           239.5945281982422,
           29.979999542236328
          ],
          [
           "2018-02-07T00:00:00",
           238.2947540283203,
           27.729999542236328
          ],
          [
           "2018-02-08T00:00:00",
           229.35658264160156,
           33.459999084472656
          ],
          [
           "2018-02-09T00:00:00",
           232.80184936523438,
           29.059999465942383
          ],
          [
           "2018-02-12T00:00:00",
           236.22044372558594,
           25.610000610351562
          ],
          [
           "2018-03-22T00:00:00",
           235.67384338378906,
           23.34000015258789
          ],
          [
           "2018-03-23T00:00:00",
           230.65052795410156,
           24.8700008392334
          ],
          [
           "2018-03-26T00:00:00",
           236.96092224121094,
           21.030000686645508
          ],
          [
           "2018-10-10T00:00:00",
           250.99855041503906,
           22.959999084472656
          ],
          [
           "2018-10-11T00:00:00",
           245.46995544433594,
           24.979999542236328
          ],
          [
           "2018-10-12T00:00:00",
           248.879150390625,
           21.309999465942383
          ],
          [
           "2018-10-15T00:00:00",
           247.4811248779297,
           21.299999237060547
          ],
          [
           "2018-12-21T00:00:00",
           218.35484313964844,
           30.110000610351562
          ],
          [
           "2018-12-24T00:00:00",
           212.58523559570312,
           36.06999969482422
          ],
          [
           "2018-12-26T00:00:00",
           223.3261260986328,
           30.40999984741211
          ],
          [
           "2018-12-27T00:00:00",
           225.0406494140625,
           29.959999084472656
          ],
          [
           "2019-08-05T00:00:00",
           259.86376953125,
           24.59000015258789
          ],
          [
           "2019-08-06T00:00:00",
           263.5076904296875,
           20.170000076293945
          ],
          [
           "2020-02-24T00:00:00",
           298.0269775390625,
           25.030000686645508
          ],
          [
           "2020-02-25T00:00:00",
           288.9961242675781,
           27.850000381469727
          ],
          [
           "2020-02-26T00:00:00",
           287.93310546875,
           27.559999465942383
          ],
          [
           "2020-02-27T00:00:00",
           275.00152587890625,
           39.15999984741211
          ],
          [
           "2020-02-28T00:00:00",
           273.8460693359375,
           40.11000061035156
          ],
          [
           "2020-03-02T00:00:00",
           285.7054138183594,
           33.41999816894531
          ],
          [
           "2020-03-03T00:00:00",
           277.5249938964844,
           36.81999969482422
          ],
          [
           "2020-03-04T00:00:00",
           289.1900939941406,
           31.989999771118164
          ],
          [
           "2020-03-05T00:00:00",
           279.57708740234375,
           39.619998931884766
          ],
          [
           "2020-03-06T00:00:00",
           274.9552917480469,
           41.939998626708984
          ],
          [
           "2020-03-09T00:00:00",
           253.48281860351562,
           54.459999084472656
          ],
          [
           "2020-03-10T00:00:00",
           266.5992431640625,
           47.29999923706055
          ],
          [
           "2020-03-11T00:00:00",
           253.60296630859375,
           53.900001525878906
          ],
          [
           "2020-03-12T00:00:00",
           229.3389434814453,
           75.47000122070312
          ],
          [
           "2020-03-13T00:00:00",
           248.94427490234375,
           57.83000183105469
          ],
          [
           "2020-03-16T00:00:00",
           221.70384216308594,
           82.69000244140625
          ],
          [
           "2020-03-17T00:00:00",
           233.67413330078125,
           75.91000366210938
          ],
          [
           "2020-03-18T00:00:00",
           221.8424835205078,
           76.44999694824219
          ],
          [
           "2020-03-19T00:00:00",
           222.31390380859375,
           72
          ],
          [
           "2020-03-20T00:00:00",
           212.7334747314453,
           66.04000091552734
          ],
          [
           "2020-03-23T00:00:00",
           207.29429626464844,
           61.59000015258789
          ],
          [
           "2020-03-24T00:00:00",
           226.0758056640625,
           61.66999816894531
          ],
          [
           "2020-03-25T00:00:00",
           229.46022033691406,
           63.95000076293945
          ],
          [
           "2020-03-26T00:00:00",
           242.85830688476562,
           61
          ],
          [
           "2020-03-27T00:00:00",
           235.62464904785156,
           65.54000091552734
          ],
          [
           "2020-03-30T00:00:00",
           243.2767333984375,
           57.08000183105469
          ],
          [
           "2020-03-31T00:00:00",
           239.6505889892578,
           53.540000915527344
          ],
          [
           "2020-04-01T00:00:00",
           228.86514282226562,
           57.060001373291016
          ],
          [
           "2020-04-02T00:00:00",
           234.14630126953125,
           50.90999984741211
          ],
          [
           "2020-04-03T00:00:00",
           230.76194763183594,
           46.79999923706055
          ],
          [
           "2020-04-06T00:00:00",
           246.26129150390625,
           45.2400016784668
          ],
          [
           "2020-04-07T00:00:00",
           246.51239013671875,
           46.70000076293945
          ],
          [
           "2020-04-08T00:00:00",
           254.7873992919922,
           43.349998474121094
          ],
          [
           "2020-04-09T00:00:00",
           258.66461181640625,
           41.66999816894531
          ],
          [
           "2020-04-13T00:00:00",
           256.3028869628906,
           41.16999816894531
          ],
          [
           "2020-04-14T00:00:00",
           263.862060546875,
           37.7599983215332
          ],
          [
           "2020-04-15T00:00:00",
           258.25543212890625,
           40.84000015258789
          ],
          [
           "2020-04-16T00:00:00",
           259.5014343261719,
           40.11000061035156
          ],
          [
           "2020-04-17T00:00:00",
           266.51190185546875,
           38.150001525878906
          ],
          [
           "2020-06-11T00:00:00",
           279.5009460449219,
           40.790000915527344
          ],
          [
           "2020-06-12T00:00:00",
           282.8481140136719,
           36.09000015258789
          ],
          [
           "2020-06-15T00:00:00",
           285.48870849609375,
           34.400001525878906
          ],
          [
           "2020-06-16T00:00:00",
           290.9837341308594,
           33.66999816894531
          ],
          [
           "2020-11-06T00:00:00",
           328.31317138671875,
           24.860000610351562
          ],
          [
           "2020-11-09T00:00:00",
           332.4386901855469,
           25.75
          ],
          [
           "2020-11-10T00:00:00",
           331.9511413574219,
           24.799999237060547
          ],
          [
           "2020-11-11T00:00:00",
           334.4170837402344,
           23.450000762939453
          ],
          [
           "2020-11-12T00:00:00",
           331.1728820800781,
           25.350000381469727
          ],
          [
           "2020-11-13T00:00:00",
           335.7578125,
           23.100000381469727
          ],
          [
           "2021-01-27T00:00:00",
           352.546630859375,
           37.209999084472656
          ],
          [
           "2021-01-28T00:00:00",
           355.57861328125,
           30.209999084472656
          ],
          [
           "2021-11-26T00:00:00",
           436.3963928222656,
           28.6200008392334
          ],
          [
           "2021-11-29T00:00:00",
           441.7494812011719,
           22.959999084472656
          ],
          [
           "2021-11-30T00:00:00",
           433.1540832519531,
           27.190000534057617
          ],
          [
           "2021-12-01T00:00:00",
           428.34295654296875,
           31.1200008392334
          ],
          [
           "2021-12-02T00:00:00",
           434.90362548828125,
           27.950000762939453
          ],
          [
           "2021-12-03T00:00:00",
           431.11932373046875,
           30.670000076293945
          ],
          [
           "2022-01-20T00:00:00",
           426.2696838378906,
           25.59000015258789
          ],
          [
           "2022-01-21T00:00:00",
           417.9018249511719,
           28.850000381469727
          ],
          [
           "2022-01-24T00:00:00",
           419.6764831542969,
           29.899999618530273
          ],
          [
           "2022-01-25T00:00:00",
           414.5527038574219,
           31.15999984741211
          ],
          [
           "2022-01-26T00:00:00",
           413.51263427734375,
           31.959999084472656
          ],
          [
           "2022-01-27T00:00:00",
           411.4707946777344,
           30.489999771118164
          ],
          [
           "2022-01-28T00:00:00",
           421.6897888183594,
           27.65999984741211
          ],
          [
           "2022-01-31T00:00:00",
           429.2848815917969,
           24.829999923706055
          ],
          [
           "2022-02-01T00:00:00",
           432.18548583984375,
           21.959999084472656
          ],
          [
           "2022-02-02T00:00:00",
           436.3837890625,
           22.09000015258789
          ],
          [
           "2022-02-03T00:00:00",
           426.1266174316406,
           24.350000381469727
          ],
          [
           "2022-02-04T00:00:00",
           428.1302795410156,
           23.219999313354492
          ],
          [
           "2022-02-07T00:00:00",
           426.75634765625,
           22.860000610351562
          ],
          [
           "2022-02-22T00:00:00",
           409.8773498535156,
           28.809999465942383
          ],
          [
           "2022-02-23T00:00:00",
           402.6066589355469,
           31.020000457763672
          ],
          [
           "2022-02-24T00:00:00",
           408.66552734375,
           30.31999969482422
          ],
          [
           "2022-03-18T00:00:00",
           425.45953369140625,
           23.8700008392334
          ],
          [
           "2022-03-21T00:00:00",
           425.3351745605469,
           23.530000686645508
          ],
          [
           "2022-03-22T00:00:00",
           430.3122253417969,
           22.940000534057617
          ],
          [
           "2022-03-23T00:00:00",
           424.7704772949219,
           23.56999969482422
          ],
          [
           "2022-03-24T00:00:00",
           431.173583984375,
           21.670000076293945
          ],
          [
           "2022-03-25T00:00:00",
           433.279296875,
           20.809999465942383
          ],
          [
           "2022-03-28T00:00:00",
           436.36126708984375,
           19.6299991607666
          ],
          [
           "2022-04-26T00:00:00",
           398.2582702636719,
           33.52000045776367
          ],
          [
           "2022-04-27T00:00:00",
           399.3780212402344,
           31.600000381469727
          ],
          [
           "2022-04-28T00:00:00",
           409.4660949707031,
           29.989999771118164
          ],
          [
           "2022-04-29T00:00:00",
           394.3340148925781,
           33.400001525878906
          ],
          [
           "2022-05-02T00:00:00",
           396.7076721191406,
           32.34000015258789
          ],
          [
           "2022-05-03T00:00:00",
           398.5262451171875,
           29.25
          ],
          [
           "2022-05-04T00:00:00",
           410.6624755859375,
           25.420000076293945
          ],
          [
           "2022-05-05T00:00:00",
           396.06640625,
           31.200000762939453
          ],
          [
           "2022-05-06T00:00:00",
           393.7023010253906,
           30.190000534057617
          ],
          [
           "2022-05-09T00:00:00",
           381.0970153808594,
           34.75
          ],
          [
           "2022-05-10T00:00:00",
           381.9776306152344,
           32.9900016784668
          ],
          [
           "2022-05-11T00:00:00",
           375.909423828125,
           32.560001373291016
          ],
          [
           "2022-05-12T00:00:00",
           375.5169982910156,
           31.770000457763672
          ],
          [
           "2022-05-13T00:00:00",
           384.4947814941406,
           28.8700008392334
          ],
          [
           "2022-05-16T00:00:00",
           382.9346618652344,
           27.469999313354492
          ],
          [
           "2022-05-17T00:00:00",
           390.8118591308594,
           26.100000381469727
          ],
          [
           "2022-05-18T00:00:00",
           375.05755615234375,
           30.959999084472656
          ],
          [
           "2022-05-27T00:00:00",
           397.4542541503906,
           25.719999313354492
          ],
          [
           "2022-05-31T00:00:00",
           395.2241516113281,
           26.190000534057617
          ],
          [
           "2022-06-01T00:00:00",
           392.02734375,
           25.690000534057617
          ],
          [
           "2022-06-02T00:00:00",
           399.4929504394531,
           24.719999313354492
          ],
          [
           "2022-06-03T00:00:00",
           392.9366760253906,
           24.790000915527344
          ],
          [
           "2022-06-10T00:00:00",
           373.0859069824219,
           27.75
          ],
          [
           "2022-06-13T00:00:00",
           358.9205322265625,
           34.02000045776367
          ],
          [
           "2022-06-14T00:00:00",
           357.8389892578125,
           32.689998626708984
          ],
          [
           "2022-06-15T00:00:00",
           362.9404602050781,
           29.6200008392334
          ],
          [
           "2022-06-16T00:00:00",
           350.9285583496094,
           32.95000076293945
          ],
          [
           "2022-06-17T00:00:00",
           351.6850280761719,
           31.1299991607666
          ],
          [
           "2022-06-21T00:00:00",
           360.5382385253906,
           30.190000534057617
          ],
          [
           "2022-06-22T00:00:00",
           359.88458251953125,
           28.950000762939453
          ],
          [
           "2022-06-23T00:00:00",
           363.41241455078125,
           29.049999237060547
          ],
          [
           "2022-06-24T00:00:00",
           374.9666442871094,
           27.229999542236328
          ],
          [
           "2022-06-27T00:00:00",
           373.5343933105469,
           26.950000762939453
          ],
          [
           "2022-06-28T00:00:00",
           365.90203857421875,
           28.360000610351562
          ],
          [
           "2022-08-26T00:00:00",
           389.6066589355469,
           25.559999465942383
          ],
          [
           "2022-08-29T00:00:00",
           387.0303955078125,
           26.209999084472656
          ],
          [
           "2022-08-30T00:00:00",
           382.7817077636719,
           26.209999084472656
          ],
          [
           "2022-08-31T00:00:00",
           379.86907958984375,
           25.8700008392334
          ],
          [
           "2022-09-01T00:00:00",
           381.0610656738281,
           25.559999465942383
          ],
          [
           "2022-09-02T00:00:00",
           377.04296875,
           25.469999313354492
          ],
          [
           "2022-09-06T00:00:00",
           375.6203308105469,
           26.90999984741211
          ],
          [
           "2022-09-07T00:00:00",
           382.36834716796875,
           24.639999389648438
          ],
          [
           "2022-09-21T00:00:00",
           364.2585754394531,
           27.989999771118164
          ],
          [
           "2022-09-22T00:00:00",
           361.19891357421875,
           27.350000381469727
          ],
          [
           "2022-09-23T00:00:00",
           355.14703369140625,
           29.920000076293945
          ],
          [
           "2022-09-26T00:00:00",
           351.6336364746094,
           32.2599983215332
          ],
          [
           "2022-09-27T00:00:00",
           350.7360534667969,
           32.599998474121094
          ],
          [
           "2022-09-28T00:00:00",
           357.63726806640625,
           30.18000030517578
          ],
          [
           "2022-09-29T00:00:00",
           350.16656494140625,
           31.84000015258789
          ],
          [
           "2022-09-30T00:00:00",
           344.75177001953125,
           31.6200008392334
          ],
          [
           "2022-10-03T00:00:00",
           353.8536376953125,
           30.100000381469727
          ],
          [
           "2022-10-04T00:00:00",
           364.8183898925781,
           29.06999969482422
          ],
          [
           "2022-11-10T00:00:00",
           380.95660400390625,
           23.530000686645508
          ],
          [
           "2022-11-11T00:00:00",
           384.6436462402344,
           22.520000457763672
          ],
          [
           "2022-11-14T00:00:00",
           381.37164306640625,
           23.729999542236328
          ],
          [
           "2022-11-15T00:00:00",
           384.62432861328125,
           24.540000915527344
          ],
          [
           "2022-11-16T00:00:00",
           381.690185546875,
           24.110000610351562
          ],
          [
           "2022-11-17T00:00:00",
           380.5222473144531,
           23.93000030517578
          ],
          [
           "2022-11-18T00:00:00",
           382.24993896484375,
           23.1200008392334
          ],
          [
           "2023-11-06T00:00:00",
           427.1500549316406,
           14.890000343322754
          ],
          [
           "2023-11-07T00:00:00",
           428.36572265625,
           14.8100004196167
          ],
          [
           "2023-11-08T00:00:00",
           428.67950439453125,
           14.449999809265137
          ],
          [
           "2023-11-09T00:00:00",
           425.3363037109375,
           15.289999961853027
          ],
          [
           "2023-11-10T00:00:00",
           431.97357177734375,
           14.170000076293945
          ],
          [
           "2024-07-24T00:00:00",
           536.1521606445312,
           18.040000915527344
          ],
          [
           "2024-07-25T00:00:00",
           533.3585815429688,
           18.459999084472656
          ],
          [
           "2024-07-26T00:00:00",
           539.3320922851562,
           16.389999389648438
          ]
         ],
         "hovertemplate": "Regime_Label=Bear<br>Log(VIX)=%{x}<br>Return (%)=%{y}<br>Date=%{customdata[0]}<br>Close=%{customdata[1]}<br>VIX=%{customdata[2]}<extra></extra>",
         "legendgroup": "Bear",
         "marker": {
          "color": "rgb(252,141,98)",
          "opacity": 0.7,
          "symbol": "circle"
         },
         "mode": "markers",
         "name": "Bear",
         "showlegend": true,
         "type": "scattergl",
         "x": {
          "bdata": "c/zFKW7PBkD59izQy/QMQAIQrFJJNAtAlmR9qYKUCkBZLSu7MhUMQMo3UWZ09ApA9woCCKHxCUBFkcqcizMJQPUcVZOUtQlAU3qaCxteCECPwx5f7REJQFc5UFyevglAy83IfDF5CEDpIBxlO3gIQDHxZNslPQtAiSCLbgavDECzI+y3c1ELQNU0kHDrMgtA0KCeXGSeCUCLn1UZmAgIQDbxUsC2wglAXUIFnFqdCkAcacyY6ocKQNTdaO5bVw1Anr9oDXOIDUBBXvKTvxIMQLIblBws2QxAhqIq4C+5C0AsOfSrRm8NQDk/FsvR4w1ATfxqs8/6D0ATl7QPItoOQAjxyK2k5Q9AAOlbQIFLEUCf66xM4zoQQJzLjqIPqRFAUCHgJ3VREUAt6m5Xt1gRQD9X9FxOGxFA7FjwrtPCEEC/uQs6ZHsQQCDq13+4fBBAtDe+XuWhEEANbBLriHEQQNNwNGULuxBAjtusTYUtEEAOyUAw69cPQDulDG8pLRBA8kHd9sJwD0A7NHZnXsQOQANKY0Hwfg5APhf98vy/DkDDLh5BiicOQOsdpaGX1g1AKnCNod69DUA6raP0zAwNQInB40RjrQ1Anr9oDXOIDUByOwZH2CENQAXTUQHhqg1A0sFRECmwDEA9Wo+f8E0MQJZGzvECIgxADriFt8G0CUDgCjVLy/wJQHV59sfOrwlAek5Twiw9CUA1w0oau9wJQC/6cJJgHglAAaCRMcDuDEC4fQEw8EMLQC8waWw11QpAj8MeX+0RCUDY2A4+PGwKQEElr+G3gAtAFXx8ybGkCkDu/WQ842ILQNITAWwH8AlA8qlQ7pnlCkD9jJdr0C4LQI2Q/VJZgwtAx53F9UO3C0BvKV0o1VYLQLwELYNVjwpARTC2oUiyCUDU0ktTurYIQMGOpOjQwghA2ZeDJU6KCUARRXQS/SgJQIqnVu/8CAlADHV9fsLiCkA5mrVuIHoLQA9U1MFhSwtAFe925IdhCUB3rT5UJkQJQPrBP4IkEAlAvvNO0aBHCUAxzZWRgJsIQAP4Q2uRSAhAAet5SgTRB0BDhHoO3hgMQLHzxdgQoAtAgS9SLfg0C0CdoZbHhREMQI4V/ut4zwtAZHJhJs0BC0D/29rWYOIJQLeYVu/5hQtAIyWIAJVCC0At+bD4q2IMQDgMdhU6+AtAQjM0c1vdC0AI4i3TDasLQI6cbEUF5wpAn0cZrTeBCkAe3buMcRgKQIPgmlQpdgtAjZNLGmj6CUBIGSBVfh8KQBZTvDwE+AlAQUIfzDCpCUA4MxVe+64JQEssFKz8lQpA4O7r0zA3DECqKYyGhOULQCdblpaLGwtA9zeI/b31C0DQtJtMYIELQCMliACVQgtAQ7y+FbDsCkAIr+Tyv/MKQNFtrPM+bwpAjGIK7hNaCkAl66a6hMIKQHE3O2ig7QlA7W78hQ4hCkDtbvyFDiEKQA4iUetQBgpAcTc7aKDtCUCPgMkPZ+YJQJrEgisJVwpAy2STUo2iCUCHWwaOn6cKQFAF+WBAeApA+eNgAS8wC0DlkWVYZsoLQIeltBjf3wtApQR5TudBC0Cg1GO7j68LQLUDxpNcoQtArDgss3c8C0B31tjJKPUKQHetPlQmRAlAciRHjUzqCEArOtXOe1UJQB6VwTs5mglAF5gY/wR2CUBQy+cVrGYJQM45pVAmIAlA2dNZSgObBUCrzNfW+o8FQBWSuwaVXQVA7enst03RBUAEjIIagjUFQNAW8AsHJAdAOQonVSlTB0Bu00w7lV8GQA==",
          "dtype": "f8"
         },
         "xaxis": "x",
         "y": {
          "bdata": "6t3Gu3dqAcBwLDifn7oQwHJ0G3b/hf8/qmkzExJc4b8cXv0E0gEOwMhYXmnICPg/MnuHdMx+9z/k8YdjbP8DwEzl6rs/DQHAf1atjyXjBUCGbRB3mlQJwP5TIdMBnwHAkEojkrQ49j90Cythrvnhv6oZBkZGZADAJofVY3IjBcAu5UM1xTUUQB3kYEUtkeg/XLeNf+IOCMB0WSYblm/2P9Sp7C1FiArA/7y1f+A9CMBArykpjYrXvx9K4pL29hHA0ry9OPbj2r9bMT3BmFIRQGqipjbo5wbAAS4wrSPQEEAEvbjAyJcKwLQ92gxBc/q/0jRcR948H8AO1deWq7IUQBjbqRrVfxPANjitQKwiI8CuTc6r5RghQLm6Htp/4iXAZA60qM6YFUBN7qvJ1EAUwJEokyVGM8s/B2wAVNc8EcD1tNLFVXQEwPJJLy3hHiJAVgl4CdLz9z+273/hF1sXQFr8vWUS1AfAG+Do9wf7CUCTKLOnQ9n3v+Kl0fF/ABLADFDZYth1AkAL++8XXSD3v9Kn5ubK3RpApaGBS1Uauj92p8Q8y9oKQNko3XcQWfg/ft2zl6o37b/M2iRBMZgHQByw7n+o/wDAz9dxU8Xg3j/6tbFcs5wFQPfBirw+DxfAq9/k1Ssp8z/nh/ge1d/tPxmtmqvky/4/SFnYf5lhl7+m00//8xr0P7RvRbqyxcK/7huzvIjF5z8DG0WoHAvvv7JlP2e3JvY/5n2kkW2NA8BmrqwjT4XrP1uEgWms1wHAjy4acmOg8z+IJ6Vh2CH/v14OosWBxfG/1jGpLpiB+D+FMIX1Ptjrv4KmC2mQtfG/sxe4MaBo/780r7pvnS3bP9VXcLnBiPO/O/RBNpMO0L+qXo1MFJrfv0BPcCZE3gNAiQnyrVfR/D9cbZWaMZ/lP3jEB1/PFe8/mMuIa8/NAsD+jV5D0BfePyufE7fcidS/hPxsoaAr8b+L8k9mxWH8v6ZS6KUcFPg/eINtAkeG8T+HlcKmTe6dvxXAvAvtuPI/4deeygGb9L/NzZE5bB74PytrfvZqQd8/tZMrohLD5j/Hu2snJCsHwJ9NjfaO/tE/egeZQCM1BEA03/Cpg5ANwBf6Ak0ZQ+M/fXAYtbFW3T+sF3iAulwIQK+naywnbwzAdF8yAcYZ47+u5g+/JJ0JwPP070LTk80/BTEDEgZr+b827hqtirm6v6ejGPlQIANA6J840PH32b9/c34U3HQAQFNo6d7rHxDAVBDOIK+jA0B2ccP6gPThv5Y6fDEt4um/7B2ZykB4/j/7qkpqJUL6v74T4E9SMgfAyoPekd9fDsCSSQWoBknTvzypqZ1kz/Y/NBtYFhN6CsCIKu3Di5fLP+Zop3GSIwRARB4/DNc0x7+z2xEzWl7vP8P2SS5abwlAMS97Gihy2L8gBNZZo1gAwGSB64M8FAvAO0VIDfAo5b/qHLL8cpDxv1oQBQ5iWei/BXQjBR0V1D/UNhmOBt/wv2TZWeHrJdi/bZB8+nW+/D+rB6lS+uj7vy7IpUAI4eq/wu9dytbO+r/fOYW6Lajvv7l6NJoxVtC/SgC4mnF7/z9H/ELgE7YAwJsdNMbXvfi/lPAcVvgeBUAgN3HbEsoIQISaa9pS+xVATUyGGYf47j8X5VLLlzjrvwCDmq/iSus/0oKjPFhp6L/XpPjzW5XTv8um7f/aDt0/ciZFA1ByzT8Sjlmc4TbSPzbyBSOSwLI/GL8BOc706L/E61z5tPf4P9p/34tDIQLAmqL0uWCs4L/SYnhncOvxPw==",
          "dtype": "f8"
         },
         "yaxis": "y"
        },
        {
         "customdata": [
          [
           "2018-02-13T00:00:00",
           236.80801391601562,
           24.969999313354492
          ],
          [
           "2018-02-14T00:00:00",
           240.0040740966797,
           19.260000228881836
          ],
          [
           "2018-02-15T00:00:00",
           243.0664825439453,
           19.1299991607666
          ],
          [
           "2018-02-16T00:00:00",
           243.1378173828125,
           19.459999084472656
          ],
          [
           "2018-02-20T00:00:00",
           241.61537170410156,
           20.600000381469727
          ],
          [
           "2018-02-21T00:00:00",
           240.41348266601562,
           20.020000457763672
          ],
          [
           "2018-02-22T00:00:00",
           240.72512817382812,
           18.719999313354492
          ],
          [
           "2018-03-27T00:00:00",
           232.92984008789062,
           22.5
          ],
          [
           "2018-03-28T00:00:00",
           232.24154663085938,
           22.8700008392334
          ],
          [
           "2018-03-29T00:00:00",
           235.2090606689453,
           19.969999313354492
          ],
          [
           "2018-04-02T00:00:00",
           230.1321563720703,
           23.6200008392334
          ],
          [
           "2018-04-03T00:00:00",
           233.08172607421875,
           21.100000381469727
          ],
          [
           "2018-10-16T00:00:00",
           252.8925323486328,
           17.6200008392334
          ],
          [
           "2018-10-17T00:00:00",
           252.93765258789062,
           17.399999618530273
          ],
          [
           "2018-10-18T00:00:00",
           249.28489685058594,
           20.059999465942383
          ],
          [
           "2018-10-19T00:00:00",
           249.14964294433594,
           19.889999389648438
          ],
          [
           "2018-10-22T00:00:00",
           248.03123474121094,
           19.639999389648438
          ],
          [
           "2018-10-23T00:00:00",
           246.7686004638672,
           20.709999084472656
          ],
          [
           "2018-10-24T00:00:00",
           239.2919464111328,
           25.229999542236328
          ],
          [
           "2018-10-25T00:00:00",
           243.58489990234375,
           24.219999313354492
          ],
          [
           "2018-10-26T00:00:00",
           239.3009490966797,
           24.15999984741211
          ],
          [
           "2018-10-29T00:00:00",
           237.97511291503906,
           24.700000762939453
          ],
          [
           "2018-10-30T00:00:00",
           241.5015869140625,
           23.350000381469727
          ],
          [
           "2018-10-31T00:00:00",
           244.08096313476562,
           21.229999542236328
          ],
          [
           "2018-11-01T00:00:00",
           246.67832946777344,
           19.34000015258789
          ],
          [
           "2018-11-02T00:00:00",
           245.21734619140625,
           19.510000228881836
          ],
          [
           "2018-11-05T00:00:00",
           246.57020568847656,
           19.959999084472656
          ],
          [
           "2018-11-06T00:00:00",
           248.1304931640625,
           19.90999984741211
          ],
          [
           "2018-11-07T00:00:00",
           253.44273376464844,
           16.360000610351562
          ],
          [
           "2018-11-08T00:00:00",
           252.98277282714844,
           16.719999313354492
          ],
          [
           "2018-11-09T00:00:00",
           250.51148986816406,
           17.360000610351562
          ],
          [
           "2018-11-12T00:00:00",
           245.8306427001953,
           20.450000762939453
          ],
          [
           "2018-11-13T00:00:00",
           245.3706817626953,
           20.020000457763672
          ],
          [
           "2018-11-14T00:00:00",
           243.69313049316406,
           21.25
          ],
          [
           "2018-11-15T00:00:00",
           246.2364959716797,
           19.979999542236328
          ],
          [
           "2018-11-16T00:00:00",
           246.87684631347656,
           18.139999389648438
          ],
          [
           "2018-11-19T00:00:00",
           242.70103454589844,
           20.100000381469727
          ],
          [
           "2018-11-20T00:00:00",
           238.20953369140625,
           22.479999542236328
          ],
          [
           "2018-11-21T00:00:00",
           239.02130126953125,
           20.799999237060547
          ],
          [
           "2018-11-23T00:00:00",
           237.42491149902344,
           21.520000457763672
          ],
          [
           "2018-11-26T00:00:00",
           241.25799560546875,
           18.899999618530273
          ],
          [
           "2018-11-27T00:00:00",
           242.0697479248047,
           19.020000457763672
          ],
          [
           "2018-11-28T00:00:00",
           247.64344787597656,
           18.489999771118164
          ],
          [
           "2018-11-29T00:00:00",
           247.10238647460938,
           18.790000915527344
          ],
          [
           "2018-11-30T00:00:00",
           248.6084442138672,
           18.06999969482422
          ],
          [
           "2018-12-03T00:00:00",
           251.90042114257812,
           16.440000534057617
          ],
          [
           "2018-12-04T00:00:00",
           243.73831176757812,
           20.739999771118164
          ],
          [
           "2018-12-06T00:00:00",
           243.36842346191406,
           21.190000534057617
          ],
          [
           "2018-12-07T00:00:00",
           237.71353149414062,
           23.229999542236328
          ],
          [
           "2018-12-10T00:00:00",
           238.1645050048828,
           22.639999389648438
          ],
          [
           "2018-12-11T00:00:00",
           238.2186279296875,
           21.760000228881836
          ],
          [
           "2018-12-12T00:00:00",
           239.41819763183594,
           21.459999084472656
          ],
          [
           "2018-12-13T00:00:00",
           239.3369598388672,
           20.649999618530273
          ],
          [
           "2018-12-14T00:00:00",
           234.91766357421875,
           21.6299991607666
          ],
          [
           "2018-12-17T00:00:00",
           230.30894470214844,
           24.520000457763672
          ],
          [
           "2018-12-18T00:00:00",
           230.05638122558594,
           25.579999923706055
          ],
          [
           "2018-12-19T00:00:00",
           226.61119079589844,
           25.579999923706055
          ],
          [
           "2018-12-20T00:00:00",
           222.9224395751953,
           28.3799991607666
          ],
          [
           "2018-12-28T00:00:00",
           224.7503204345703,
           28.34000015258789
          ],
          [
           "2018-12-31T00:00:00",
           226.71885681152344,
           25.420000076293945
          ],
          [
           "2019-01-02T00:00:00",
           226.95477294921875,
           23.219999313354492
          ],
          [
           "2019-01-03T00:00:00",
           221.5390167236328,
           25.450000762939453
          ],
          [
           "2019-01-04T00:00:00",
           228.9595947265625,
           21.3799991607666
          ],
          [
           "2019-01-07T00:00:00",
           230.76487731933594,
           21.399999618530273
          ],
          [
           "2019-01-08T00:00:00",
           232.93296813964844,
           20.469999313354492
          ],
          [
           "2019-01-09T00:00:00",
           234.0216064453125,
           19.979999542236328
          ],
          [
           "2019-01-10T00:00:00",
           234.8471221923828,
           19.5
          ],
          [
           "2019-01-11T00:00:00",
           234.93783569335938,
           18.190000534057617
          ],
          [
           "2019-01-14T00:00:00",
           233.50448608398438,
           19.06999969482422
          ],
          [
           "2019-01-15T00:00:00",
           236.18067932128906,
           18.600000381469727
          ],
          [
           "2019-01-16T00:00:00",
           236.75221252441406,
           19.040000915527344
          ],
          [
           "2019-05-13T00:00:00",
           255.90890502929688,
           20.549999237060547
          ],
          [
           "2019-05-14T00:00:00",
           258.2231750488281,
           18.059999465942383
          ],
          [
           "2019-06-07T00:00:00",
           262.095703125,
           16.299999237060547
          ],
          [
           "2019-06-10T00:00:00",
           263.2983703613281,
           15.9399995803833
          ],
          [
           "2019-06-11T00:00:00",
           263.23468017578125,
           15.989999771118164
          ],
          [
           "2019-06-12T00:00:00",
           262.7699890136719,
           15.90999984741211
          ],
          [
           "2019-06-13T00:00:00",
           263.8541564941406,
           15.819999694824219
          ],
          [
           "2019-06-14T00:00:00",
           263.56268310546875,
           15.279999732971191
          ],
          [
           "2019-08-07T00:00:00",
           263.6632995605469,
           19.489999771118164
          ],
          [
           "2019-08-08T00:00:00",
           268.8365173339844,
           16.90999984741211
          ],
          [
           "2019-08-09T00:00:00",
           267.0052185058594,
           17.969999313354492
          ],
          [
           "2019-08-12T00:00:00",
           263.7549743652344,
           21.09000015258789
          ],
          [
           "2019-08-13T00:00:00",
           267.8568420410156,
           17.520000457763672
          ],
          [
           "2019-08-14T00:00:00",
           259.9369201660156,
           22.100000381469727
          ],
          [
           "2020-02-07T00:00:00",
           307.0670166015625,
           15.470000267028809
          ],
          [
           "2020-02-10T00:00:00",
           309.3593444824219,
           15.039999961853027
          ],
          [
           "2020-02-11T00:00:00",
           309.8955383300781,
           15.180000305175781
          ],
          [
           "2020-02-12T00:00:00",
           311.89208984375,
           13.739999771118164
          ],
          [
           "2020-02-13T00:00:00",
           311.5593566894531,
           14.149999618530273
          ],
          [
           "2020-02-14T00:00:00",
           312.0584411621094,
           13.680000305175781
          ],
          [
           "2020-04-20T00:00:00",
           261.8164978027344,
           43.83000183105469
          ],
          [
           "2020-04-21T00:00:00",
           253.866943359375,
           45.40999984741211
          ],
          [
           "2020-04-22T00:00:00",
           259.5014343261719,
           41.97999954223633
          ],
          [
           "2020-04-23T00:00:00",
           259.48284912109375,
           41.380001068115234
          ],
          [
           "2020-04-24T00:00:00",
           263.0995788574219,
           35.93000030517578
          ],
          [
           "2020-04-27T00:00:00",
           266.8930358886719,
           33.290000915527344
          ],
          [
           "2020-04-28T00:00:00",
           265.6658630371094,
           33.56999969482422
          ],
          [
           "2020-04-29T00:00:00",
           272.62054443359375,
           31.229999542236328
          ],
          [
           "2020-04-30T00:00:00",
           270.082275390625,
           34.150001525878906
          ],
          [
           "2020-05-01T00:00:00",
           262.9322814941406,
           37.189998626708984
          ],
          [
           "2020-05-04T00:00:00",
           263.6574401855469,
           35.970001220703125
          ],
          [
           "2020-05-05T00:00:00",
           266.09344482421875,
           33.61000061035156
          ],
          [
           "2020-05-06T00:00:00",
           264.2897644042969,
           34.119998931884766
          ],
          [
           "2020-05-07T00:00:00",
           267.4788818359375,
           31.440000534057617
          ],
          [
           "2020-05-08T00:00:00",
           271.9046630859375,
           27.979999542236328
          ],
          [
           "2020-05-11T00:00:00",
           271.9603576660156,
           27.56999969482422
          ],
          [
           "2020-05-12T00:00:00",
           266.5398254394531,
           33.040000915527344
          ],
          [
           "2020-05-13T00:00:00",
           261.8258056640625,
           35.279998779296875
          ],
          [
           "2020-05-14T00:00:00",
           264.95916748046875,
           32.61000061035156
          ],
          [
           "2020-05-15T00:00:00",
           266.1772155761719,
           31.889999389648438
          ],
          [
           "2020-05-18T00:00:00",
           274.28485107421875,
           29.299999237060547
          ],
          [
           "2020-05-19T00:00:00",
           271.4676208496094,
           30.530000686645508
          ],
          [
           "2020-05-20T00:00:00",
           276.0793151855469,
           27.989999771118164
          ],
          [
           "2020-05-21T00:00:00",
           274.17333984375,
           29.530000686645508
          ],
          [
           "2020-05-22T00:00:00",
           274.6940002441406,
           28.15999984741211
          ],
          [
           "2020-05-26T00:00:00",
           278.078369140625,
           28.010000228881836
          ],
          [
           "2020-05-27T00:00:00",
           282.2159423828125,
           27.6200008392334
          ],
          [
           "2020-05-28T00:00:00",
           281.6952819824219,
           28.59000015258789
          ],
          [
           "2020-05-29T00:00:00",
           282.9504089355469,
           27.510000228881836
          ],
          [
           "2020-06-01T00:00:00",
           284.093994140625,
           28.229999542236328
          ],
          [
           "2020-06-02T00:00:00",
           286.4463806152344,
           26.84000015258789
          ],
          [
           "2020-06-03T00:00:00",
           290.2584533691406,
           25.65999984741211
          ],
          [
           "2020-06-04T00:00:00",
           289.4960021972656,
           25.809999465942383
          ],
          [
           "2020-06-05T00:00:00",
           296.9156188964844,
           24.520000457763672
          ],
          [
           "2020-06-08T00:00:00",
           300.504638671875,
           25.809999465942383
          ],
          [
           "2020-06-09T00:00:00",
           298.2638854980469,
           27.56999969482422
          ],
          [
           "2020-06-10T00:00:00",
           296.5995788574219,
           27.56999969482422
          ],
          [
           "2020-06-17T00:00:00",
           289.77496337890625,
           33.470001220703125
          ],
          [
           "2020-06-18T00:00:00",
           289.8865661621094,
           32.939998626708984
          ],
          [
           "2020-06-19T00:00:00",
           288.22991943359375,
           35.119998931884766
          ],
          [
           "2020-06-22T00:00:00",
           290.07891845703125,
           31.770000457763672
          ],
          [
           "2020-06-23T00:00:00",
           291.41436767578125,
           31.3700008392334
          ],
          [
           "2020-06-24T00:00:00",
           283.980712890625,
           33.84000015258789
          ],
          [
           "2020-06-25T00:00:00",
           287.02520751953125,
           32.220001220703125
          ],
          [
           "2020-06-26T00:00:00",
           280.20794677734375,
           34.72999954223633
          ],
          [
           "2020-06-29T00:00:00",
           284.3262939453125,
           31.780000686645508
          ],
          [
           "2020-06-30T00:00:00",
           287.9683532714844,
           30.43000030517578
          ],
          [
           "2020-07-01T00:00:00",
           289.9855651855469,
           28.6200008392334
          ],
          [
           "2020-07-02T00:00:00",
           291.5824279785156,
           27.68000030517578
          ],
          [
           "2020-07-06T00:00:00",
           296.0837097167969,
           27.940000534057617
          ],
          [
           "2020-07-07T00:00:00",
           293.0299377441406,
           29.43000030517578
          ],
          [
           "2020-07-08T00:00:00",
           295.27130126953125,
           28.079999923706055
          ],
          [
           "2020-07-09T00:00:00",
           293.5903015136719,
           29.260000228881836
          ],
          [
           "2020-07-10T00:00:00",
           296.58795166015625,
           27.290000915527344
          ],
          [
           "2020-07-13T00:00:00",
           294.01983642578125,
           32.189998626708984
          ],
          [
           "2020-08-06T00:00:00",
           312.2210388183594,
           22.649999618530273
          ],
          [
           "2020-08-07T00:00:00",
           312.445068359375,
           22.209999084472656
          ],
          [
           "2020-08-10T00:00:00",
           313.3790283203125,
           22.1299991607666
          ],
          [
           "2020-08-11T00:00:00",
           310.7922058105469,
           24.030000686645508
          ],
          [
           "2020-08-12T00:00:00",
           315.1253967285156,
           22.280000686645508
          ],
          [
           "2020-08-27T00:00:00",
           325.2951965332031,
           24.469999313354492
          ],
          [
           "2020-08-28T00:00:00",
           327.3963928222656,
           22.959999084472656
          ],
          [
           "2020-08-31T00:00:00",
           326.2104187011719,
           26.40999984741211
          ],
          [
           "2020-09-01T00:00:00",
           329.2828674316406,
           26.1200008392334
          ],
          [
           "2020-09-02T00:00:00",
           334.045654296875,
           26.56999969482422
          ],
          [
           "2020-09-03T00:00:00",
           322.5496520996094,
           33.599998474121094
          ],
          [
           "2020-09-04T00:00:00",
           319.9161376953125,
           30.75
          ],
          [
           "2020-09-08T00:00:00",
           311.1750183105469,
           31.459999084472656
          ],
          [
           "2020-09-09T00:00:00",
           317.3199462890625,
           28.809999465942383
          ],
          [
           "2020-09-10T00:00:00",
           311.8101806640625,
           29.709999084472656
          ],
          [
           "2020-09-11T00:00:00",
           311.9688720703125,
           26.8700008392334
          ],
          [
           "2020-09-14T00:00:00",
           316.0779113769531,
           25.850000381469727
          ],
          [
           "2020-09-15T00:00:00",
           317.6748046875,
           25.59000015258789
          ],
          [
           "2020-09-16T00:00:00",
           316.41412353515625,
           26.040000915527344
          ],
          [
           "2020-09-17T00:00:00",
           313.63116455078125,
           26.459999084472656
          ],
          [
           "2020-09-18T00:00:00",
           310.02044677734375,
           25.829999923706055
          ],
          [
           "2020-09-21T00:00:00",
           306.5700378417969,
           27.780000686645508
          ],
          [
           "2020-09-22T00:00:00",
           309.6921691894531,
           26.860000610351562
          ],
          [
           "2020-09-23T00:00:00",
           302.51031494140625,
           28.579999923706055
          ],
          [
           "2020-09-24T00:00:00",
           303.3165283203125,
           28.510000228881836
          ],
          [
           "2020-09-25T00:00:00",
           308.22021484375,
           26.3799991607666
          ],
          [
           "2020-09-28T00:00:00",
           313.339599609375,
           26.190000534057617
          ],
          [
           "2020-09-29T00:00:00",
           311.63311767578125,
           26.270000457763672
          ],
          [
           "2020-09-30T00:00:00",
           313.995849609375,
           26.3700008392334
          ],
          [
           "2020-10-01T00:00:00",
           316.01171875,
           26.700000762939453
          ],
          [
           "2020-10-02T00:00:00",
           313.01141357421875,
           27.6299991607666
          ],
          [
           "2020-10-05T00:00:00",
           318.5621032714844,
           27.959999084472656
          ],
          [
           "2020-10-06T00:00:00",
           314.0333251953125,
           29.479999542236328
          ],
          [
           "2020-10-07T00:00:00",
           319.4996643066406,
           28.059999465942383
          ],
          [
           "2020-10-08T00:00:00",
           322.33123779296875,
           26.360000610351562
          ],
          [
           "2020-10-09T00:00:00",
           325.209716796875,
           25
          ],
          [
           "2020-10-12T00:00:00",
           330.44158935546875,
           25.06999969482422
          ],
          [
           "2020-10-13T00:00:00",
           328.2850646972656,
           26.06999969482422
          ],
          [
           "2020-10-14T00:00:00",
           326.2223205566406,
           26.399999618530273
          ],
          [
           "2020-10-15T00:00:00",
           325.8191223144531,
           26.969999313354492
          ],
          [
           "2020-10-16T00:00:00",
           325.62225341796875,
           27.40999984741211
          ],
          [
           "2020-10-19T00:00:00",
           320.6717529296875,
           29.18000030517578
          ],
          [
           "2020-10-28T00:00:00",
           306.2794189453125,
           40.279998779296875
          ],
          [
           "2020-10-29T00:00:00",
           309.3921813964844,
           37.59000015258789
          ],
          [
           "2020-10-30T00:00:00",
           306.1668395996094,
           38.02000045776367
          ],
          [
           "2020-11-02T00:00:00",
           309.5985107421875,
           37.130001068115234
          ],
          [
           "2020-11-03T00:00:00",
           315.064697265625,
           35.54999923706055
          ],
          [
           "2020-11-04T00:00:00",
           322.106201171875,
           29.56999969482422
          ],
          [
           "2020-11-05T00:00:00",
           328.3881530761719,
           27.579999923706055
          ],
          [
           "2020-11-16T00:00:00",
           339.9488525390625,
           22.450000762939453
          ],
          [
           "2020-11-17T00:00:00",
           338.12060546875,
           22.709999084472656
          ],
          [
           "2020-11-18T00:00:00",
           334.0513916015625,
           23.84000015258789
          ],
          [
           "2021-01-29T00:00:00",
           348.46002197265625,
           33.09000015258789
          ],
          [
           "2021-02-01T00:00:00",
           354.2603759765625,
           30.239999771118164
          ],
          [
           "2021-02-02T00:00:00",
           359.2696838378906,
           25.559999465942383
          ],
          [
           "2021-02-03T00:00:00",
           359.5521240234375,
           22.90999984741211
          ],
          [
           "2021-02-04T00:00:00",
           363.6387634277344,
           21.770000457763672
          ],
          [
           "2021-02-05T00:00:00",
           365.07000732421875,
           20.8700008392334
          ],
          [
           "2021-02-08T00:00:00",
           367.70648193359375,
           21.239999771118164
          ],
          [
           "2021-02-09T00:00:00",
           367.46160888671875,
           21.6299991607666
          ],
          [
           "2021-02-10T00:00:00",
           367.3015441894531,
           21.989999771118164
          ],
          [
           "2021-02-11T00:00:00",
           367.894775390625,
           21.25
          ],
          [
           "2021-02-12T00:00:00",
           369.7120666503906,
           19.969999313354492
          ],
          [
           "2021-02-25T00:00:00",
           360.004150390625,
           28.889999389648438
          ],
          [
           "2021-02-26T00:00:00",
           358.14910888671875,
           27.950000762939453
          ],
          [
           "2021-03-01T00:00:00",
           366.8307800292969,
           23.350000381469727
          ],
          [
           "2021-03-02T00:00:00",
           363.9682922363281,
           24.100000381469727
          ],
          [
           "2021-03-03T00:00:00",
           359.1473083496094,
           26.670000076293945
          ],
          [
           "2021-03-04T00:00:00",
           354.7028503417969,
           28.56999969482422
          ],
          [
           "2021-03-05T00:00:00",
           361.22821044921875,
           24.65999984741211
          ],
          [
           "2021-03-08T00:00:00",
           359.4297790527344,
           25.469999313354492
          ],
          [
           "2021-03-09T00:00:00",
           364.56158447265625,
           24.030000686645508
          ],
          [
           "2021-03-10T00:00:00",
           366.8307800292969,
           22.559999465942383
          ],
          [
           "2021-03-11T00:00:00",
           370.55010986328125,
           21.90999984741211
          ],
          [
           "2021-03-12T00:00:00",
           371.0491943359375,
           20.690000534057617
          ],
          [
           "2021-03-15T00:00:00",
           373.26190185546875,
           20.030000686645508
          ],
          [
           "2021-03-16T00:00:00",
           372.7911376953125,
           19.790000915527344
          ],
          [
           "2021-03-17T00:00:00",
           374.0622863769531,
           19.229999542236328
          ],
          [
           "2021-03-18T00:00:00",
           368.619873046875,
           21.579999923706055
          ],
          [
           "2021-03-19T00:00:00",
           367.9377746582031,
           20.950000762939453
          ],
          [
           "2021-04-01T00:00:00",
           378.4522399902344,
           17.329999923706055
          ],
          [
           "2021-04-05T00:00:00",
           383.8841247558594,
           17.90999984741211
          ],
          [
           "2021-04-06T00:00:00",
           383.65740966796875,
           18.1200008392334
          ],
          [
           "2021-04-07T00:00:00",
           384.1014099121094,
           17.15999984741211
          ],
          [
           "2021-04-08T00:00:00",
           385.9245910644531,
           16.950000762939453
          ],
          [
           "2021-04-09T00:00:00",
           388.7303466796875,
           16.690000534057617
          ],
          [
           "2021-04-12T00:00:00",
           388.8721008300781,
           16.90999984741211
          ],
          [
           "2021-04-13T00:00:00",
           390.02459716796875,
           16.649999618530273
          ],
          [
           "2021-04-14T00:00:00",
           388.69268798828125,
           16.989999771118164
          ],
          [
           "2021-04-15T00:00:00",
           392.8681640625,
           16.56999969482422
          ],
          [
           "2021-05-12T00:00:00",
           382.98663330078125,
           27.59000015258789
          ],
          [
           "2021-05-13T00:00:00",
           387.5872802734375,
           23.1299991607666
          ],
          [
           "2021-05-14T00:00:00",
           393.538818359375,
           18.809999465942383
          ],
          [
           "2021-05-17T00:00:00",
           392.5374755859375,
           19.719999313354492
          ],
          [
           "2021-05-18T00:00:00",
           389.155517578125,
           21.34000015258789
          ],
          [
           "2021-05-19T00:00:00",
           388.1352233886719,
           22.18000030517578
          ],
          [
           "2021-05-20T00:00:00",
           392.3106994628906,
           20.670000076293945
          ],
          [
           "2021-07-23T00:00:00",
           416.96649169921875,
           17.200000762939453
          ],
          [
           "2021-07-26T00:00:00",
           417.9901123046875,
           17.579999923706055
          ],
          [
           "2021-07-27T00:00:00",
           416.08502197265625,
           19.360000610351562
          ],
          [
           "2021-07-28T00:00:00",
           415.9144287109375,
           18.309999465942383
          ],
          [
           "2021-07-29T00:00:00",
           417.63946533203125,
           17.700000762939453
          ],
          [
           "2021-07-30T00:00:00",
           415.6111145019531,
           18.239999771118164
          ],
          [
           "2021-09-20T00:00:00",
           412.6925048828125,
           25.709999084472656
          ],
          [
           "2021-09-21T00:00:00",
           412.3026428222656,
           24.360000610351562
          ],
          [
           "2021-09-22T00:00:00",
           416.3246154785156,
           20.8700008392334
          ],
          [
           "2021-09-23T00:00:00",
           421.3829650878906,
           18.6299991607666
          ],
          [
           "2021-09-24T00:00:00",
           422.07708740234375,
           17.75
          ],
          [
           "2021-09-27T00:00:00",
           420.8695068359375,
           18.760000228881836
          ],
          [
           "2021-09-28T00:00:00",
           412.3882751464844,
           23.25
          ],
          [
           "2021-09-29T00:00:00",
           413.0823059082031,
           22.559999465942383
          ],
          [
           "2021-09-30T00:00:00",
           408.03350830078125,
           23.139999389648438
          ],
          [
           "2021-10-01T00:00:00",
           412.8825988769531,
           21.100000381469727
          ],
          [
           "2021-10-04T00:00:00",
           407.55810546875,
           22.959999084472656
          ],
          [
           "2021-10-05T00:00:00",
           411.7987060546875,
           21.299999237060547
          ],
          [
           "2021-10-06T00:00:00",
           413.5101318359375,
           21
          ],
          [
           "2021-10-07T00:00:00",
           417.0852966308594,
           19.540000915527344
          ],
          [
           "2021-10-08T00:00:00",
           416.3246154785156,
           18.770000457763672
          ],
          [
           "2021-10-15T00:00:00",
           423.940673828125,
           16.299999237060547
          ],
          [
           "2021-10-18T00:00:00",
           425.19573974609375,
           16.309999465942383
          ],
          [
           "2021-10-19T00:00:00",
           428.4761047363281,
           15.699999809265137
          ],
          [
           "2021-10-20T00:00:00",
           430.15899658203125,
           15.489999771118164
          ],
          [
           "2021-10-21T00:00:00",
           431.2809753417969,
           15.010000228881836
          ],
          [
           "2021-10-22T00:00:00",
           430.83404541015625,
           15.430000305175781
          ],
          [
           "2021-10-25T00:00:00",
           433.14453125,
           15.239999771118164
          ],
          [
           "2021-10-26T00:00:00",
           433.5343933105469,
           15.979999542236328
          ],
          [
           "2021-10-27T00:00:00",
           431.6137390136719,
           16.979999542236328
          ],
          [
           "2021-10-28T00:00:00",
           435.7782897949219,
           16.530000686645508
          ],
          [
           "2021-11-04T00:00:00",
           443.9458312988281,
           15.4399995803833
          ],
          [
           "2021-11-05T00:00:00",
           445.4861755371094,
           16.479999542236328
          ],
          [
           "2021-11-08T00:00:00",
           445.8664855957031,
           17.219999313354492
          ],
          [
           "2021-11-09T00:00:00",
           444.39276123046875,
           17.780000686645508
          ],
          [
           "2021-11-10T00:00:00",
           440.81768798828125,
           18.729999542236328
          ],
          [
           "2021-12-06T00:00:00",
           436.2251892089844,
           27.18000030517578
          ],
          [
           "2021-12-07T00:00:00",
           445.2483825683594,
           21.889999389648438
          ],
          [
           "2021-12-08T00:00:00",
           446.4274597167969,
           19.899999618530273
          ],
          [
           "2021-12-09T00:00:00",
           443.41339111328125,
           21.579999923706055
          ],
          [
           "2021-12-10T00:00:00",
           447.58746337890625,
           18.690000534057617
          ],
          [
           "2021-12-13T00:00:00",
           443.6225891113281,
           20.309999465942383
          ],
          [
           "2021-12-14T00:00:00",
           440.5704345703125,
           21.889999389648438
          ],
          [
           "2021-12-15T00:00:00",
           447.4543151855469,
           19.290000915527344
          ],
          [
           "2021-12-16T00:00:00",
           443.50848388671875,
           20.56999969482422
          ],
          [
           "2021-12-17T00:00:00",
           438.7882385253906,
           21.56999969482422
          ],
          [
           "2021-12-20T00:00:00",
           434.1224365234375,
           22.8700008392334
          ],
          [
           "2021-12-21T00:00:00",
           441.83203125,
           21.010000228881836
          ],
          [
           "2021-12-22T00:00:00",
           446.24981689453125,
           18.6299991607666
          ],
          [
           "2021-12-23T00:00:00",
           449.02642822265625,
           17.959999084472656
          ],
          [
           "2021-12-27T00:00:00",
           455.3810729980469,
           17.68000030517578
          ],
          [
           "2021-12-28T00:00:00",
           455.0089111328125,
           17.540000915527344
          ],
          [
           "2021-12-29T00:00:00",
           455.59100341796875,
           16.950000762939453
          ],
          [
           "2021-12-30T00:00:00",
           454.3314514160156,
           17.329999923706055
          ],
          [
           "2021-12-31T00:00:00",
           453.1864929199219,
           17.219999313354492
          ],
          [
           "2022-01-03T00:00:00",
           455.8104248046875,
           16.600000381469727
          ],
          [
           "2022-01-04T00:00:00",
           455.65771484375,
           16.90999984741211
          ],
          [
           "2022-01-05T00:00:00",
           446.90814208984375,
           19.729999542236328
          ],
          [
           "2022-01-06T00:00:00",
           446.4883117675781,
           19.610000610351562
          ],
          [
           "2022-01-07T00:00:00",
           444.72314453125,
           18.760000228881836
          ],
          [
           "2022-01-10T00:00:00",
           444.1697082519531,
           19.399999618530273
          ],
          [
           "2022-01-11T00:00:00",
           448.2153015136719,
           18.40999984741211
          ],
          [
           "2022-01-12T00:00:00",
           449.42706298828125,
           17.6200008392334
          ],
          [
           "2022-01-13T00:00:00",
           443.234619140625,
           20.309999465942383
          ],
          [
           "2022-01-14T00:00:00",
           443.4159240722656,
           19.190000534057617
          ],
          [
           "2022-01-18T00:00:00",
           435.5632019042969,
           22.790000915527344
          ],
          [
           "2022-01-19T00:00:00",
           431.0405578613281,
           23.850000381469727
          ],
          [
           "2022-02-08T00:00:00",
           430.2677001953125,
           21.440000534057617
          ],
          [
           "2022-02-09T00:00:00",
           436.5650634765625,
           19.959999084472656
          ],
          [
           "2022-02-10T00:00:00",
           428.7218933105469,
           23.90999984741211
          ],
          [
           "2022-02-11T00:00:00",
           420.2680969238281,
           27.360000610351562
          ],
          [
           "2022-02-14T00:00:00",
           418.8940734863281,
           28.329999923706055
          ],
          [
           "2022-02-15T00:00:00",
           425.6495361328125,
           25.700000762939453
          ],
          [
           "2022-02-16T00:00:00",
           426.1266174316406,
           24.290000915527344
          ],
          [
           "2022-02-17T00:00:00",
           417.0239562988281,
           28.110000610351562
          ],
          [
           "2022-02-18T00:00:00",
           414.32366943359375,
           27.75
          ],
          [
           "2022-02-25T00:00:00",
           417.68231201171875,
           27.59000015258789
          ],
          [
           "2022-02-28T00:00:00",
           416.6136779785156,
           30.149999618530273
          ],
          [
           "2022-03-01T00:00:00",
           410.2685546875,
           33.31999969482422
          ],
          [
           "2022-03-02T00:00:00",
           417.8158874511719,
           30.739999771118164
          ],
          [
           "2022-03-03T00:00:00",
           415.7358093261719,
           30.479999542236328
          ],
          [
           "2022-03-04T00:00:00",
           412.358154296875,
           31.979999542236328
          ],
          [
           "2022-03-07T00:00:00",
           400.2021179199219,
           36.45000076293945
          ],
          [
           "2022-03-08T00:00:00",
           397.16790771484375,
           35.130001068115234
          ],
          [
           "2022-03-09T00:00:00",
           407.81634521484375,
           32.45000076293945
          ],
          [
           "2022-03-10T00:00:00",
           405.9748229980469,
           30.229999542236328
          ],
          [
           "2022-03-11T00:00:00",
           400.81280517578125,
           30.75
          ],
          [
           "2022-03-14T00:00:00",
           397.883544921875,
           31.770000457763672
          ],
          [
           "2022-03-15T00:00:00",
           406.6332092285156,
           29.829999923706055
          ],
          [
           "2022-03-16T00:00:00",
           415.6499938964844,
           26.670000076293945
          ],
          [
           "2022-03-17T00:00:00",
           420.85003662109375,
           25.670000076293945
          ],
          [
           "2022-03-29T00:00:00",
           441.7593688964844,
           18.899999618530273
          ],
          [
           "2022-03-30T00:00:00",
           439.0316162109375,
           19.329999923706055
          ],
          [
           "2022-03-31T00:00:00",
           432.2742919921875,
           20.559999465942383
          ],
          [
           "2022-04-01T00:00:00",
           433.4993896484375,
           19.6299991607666
          ],
          [
           "2022-04-04T00:00:00",
           437.2130432128906,
           18.56999969482422
          ],
          [
           "2022-04-05T00:00:00",
           431.6903991699219,
           21.030000686645508
          ],
          [
           "2022-04-06T00:00:00",
           427.3738098144531,
           22.100000381469727
          ],
          [
           "2022-04-07T00:00:00",
           429.5273742675781,
           21.549999237060547
          ],
          [
           "2022-04-08T00:00:00",
           428.3788146972656,
           21.15999984741211
          ],
          [
           "2022-04-11T00:00:00",
           421.056884765625,
           24.3700008392334
          ],
          [
           "2022-04-12T00:00:00",
           419.4967346191406,
           24.260000228881836
          ],
          [
           "2022-04-13T00:00:00",
           424.3014831542969,
           21.81999969482422
          ],
          [
           "2022-04-14T00:00:00",
           419.0181579589844,
           22.700000762939453
          ],
          [
           "2022-04-18T00:00:00",
           419.1904602050781,
           22.170000076293945
          ],
          [
           "2022-04-19T00:00:00",
           425.9573059082031,
           21.3700008392334
          ],
          [
           "2022-04-20T00:00:00",
           425.64141845703125,
           20.31999969482422
          ],
          [
           "2022-04-21T00:00:00",
           419.2765808105469,
           22.68000030517578
          ],
          [
           "2022-04-22T00:00:00",
           407.7720031738281,
           28.209999084472656
          ],
          [
           "2022-04-25T00:00:00",
           410.1360778808594,
           27.020000457763672
          ],
          [
           "2022-05-19T00:00:00",
           372.7604675292969,
           29.350000381469727
          ],
          [
           "2022-05-20T00:00:00",
           372.9232177734375,
           29.43000030517578
          ],
          [
           "2022-05-23T00:00:00",
           379.9006652832031,
           28.479999542236328
          ],
          [
           "2022-05-24T00:00:00",
           377.0005798339844,
           29.450000762939453
          ],
          [
           "2022-05-25T00:00:00",
           380.33135986328125,
           28.3700008392334
          ],
          [
           "2022-05-26T00:00:00",
           387.93084716796875,
           27.5
          ],
          [
           "2022-06-06T00:00:00",
           394.133056640625,
           25.06999969482422
          ],
          [
           "2022-06-07T00:00:00",
           397.91363525390625,
           24.020000457763672
          ],
          [
           "2022-06-08T00:00:00",
           393.58746337890625,
           23.959999084472656
          ],
          [
           "2022-06-09T00:00:00",
           384.2268371582031,
           26.09000015258789
          ],
          [
           "2022-06-29T00:00:00",
           365.6040344238281,
           28.15999984741211
          ],
          [
           "2022-06-30T00:00:00",
           362.6338195800781,
           28.709999084472656
          ],
          [
           "2022-07-01T00:00:00",
           366.46917724609375,
           26.700000762939453
          ],
          [
           "2022-07-05T00:00:00",
           367.1613464355469,
           27.540000915527344
          ],
          [
           "2022-07-06T00:00:00",
           368.4013671875,
           26.729999542236328
          ],
          [
           "2022-07-07T00:00:00",
           373.9189147949219,
           26.079999923706055
          ],
          [
           "2022-07-08T00:00:00",
           373.6113586425781,
           24.639999389648438
          ],
          [
           "2022-07-11T00:00:00",
           369.34332275390625,
           26.170000076293945
          ],
          [
           "2022-07-12T00:00:00",
           366.0750732421875,
           27.290000915527344
          ],
          [
           "2022-07-13T00:00:00",
           364.15252685546875,
           26.81999969482422
          ],
          [
           "2022-07-14T00:00:00",
           363.26824951171875,
           26.399999618530273
          ],
          [
           "2022-07-15T00:00:00",
           370.20843505859375,
           24.229999542236328
          ],
          [
           "2022-07-18T00:00:00",
           367.1517333984375,
           25.299999237060547
          ],
          [
           "2022-07-19T00:00:00",
           377.07183837890625,
           24.5
          ],
          [
           "2022-07-20T00:00:00",
           379.4750061035156,
           23.8799991607666
          ],
          [
           "2022-07-21T00:00:00",
           383.3392333984375,
           23.110000610351562
          ],
          [
           "2022-07-22T00:00:00",
           379.7825622558594,
           23.030000686645508
          ],
          [
           "2022-07-25T00:00:00",
           380.24395751953125,
           23.360000610351562
          ],
          [
           "2022-07-26T00:00:00",
           375.7453308105469,
           24.690000534057617
          ],
          [
           "2022-07-27T00:00:00",
           385.5021057128906,
           23.239999771118164
          ],
          [
           "2022-07-28T00:00:00",
           390.337158203125,
           22.329999923706055
          ],
          [
           "2022-07-29T00:00:00",
           396.0278015136719,
           21.329999923706055
          ],
          [
           "2022-08-01T00:00:00",
           394.8551025390625,
           22.84000015258789
          ],
          [
           "2022-08-02T00:00:00",
           392.25006103515625,
           23.93000030517578
          ],
          [
           "2022-08-03T00:00:00",
           398.39251708984375,
           21.950000762939453
          ],
          [
           "2022-08-04T00:00:00",
           398.12335205078125,
           21.440000534057617
          ],
          [
           "2022-08-05T00:00:00",
           397.450439453125,
           21.149999618530273
          ],
          [
           "2022-08-08T00:00:00",
           396.98907470703125,
           21.290000915527344
          ],
          [
           "2022-08-09T00:00:00",
           395.41265869140625,
           21.770000457763672
          ],
          [
           "2022-08-10T00:00:00",
           403.7178649902344,
           19.739999771118164
          ],
          [
           "2022-08-11T00:00:00",
           403.7178649902344,
           20.200000762939453
          ],
          [
           "2022-08-12T00:00:00",
           410.5523986816406,
           19.530000686645508
          ],
          [
           "2022-08-15T00:00:00",
           412.24420166015625,
           19.950000762939453
          ],
          [
           "2022-08-16T00:00:00",
           413.0516662597656,
           19.690000534057617
          ],
          [
           "2022-08-17T00:00:00",
           410.1198425292969,
           19.899999618530273
          ],
          [
           "2022-08-18T00:00:00",
           411.311767578125,
           19.559999465942383
          ],
          [
           "2022-08-19T00:00:00",
           405.78460693359375,
           20.600000381469727
          ],
          [
           "2022-08-22T00:00:00",
           397.3351135253906,
           23.799999237060547
          ],
          [
           "2022-08-23T00:00:00",
           396.3738708496094,
           24.110000610351562
          ],
          [
           "2022-08-24T00:00:00",
           397.6427001953125,
           22.81999969482422
          ],
          [
           "2022-08-25T00:00:00",
           403.25640869140625,
           21.780000686645508
          ],
          [
           "2022-09-08T00:00:00",
           384.8675842285156,
           23.610000610351562
          ],
          [
           "2022-09-09T00:00:00",
           390.84661865234375,
           22.790000915527344
          ],
          [
           "2022-09-12T00:00:00",
           395.04730224609375,
           23.8700008392334
          ],
          [
           "2022-09-13T00:00:00",
           377.86968994140625,
           27.270000457763672
          ],
          [
           "2022-09-14T00:00:00",
           379.3115539550781,
           26.15999984741211
          ],
          [
           "2022-09-15T00:00:00",
           375.00506591796875,
           26.270000457763672
          ],
          [
           "2022-09-16T00:00:00",
           372.14422607421875,
           26.299999237060547
          ],
          [
           "2022-09-19T00:00:00",
           375.0302429199219,
           25.760000228881836
          ],
          [
           "2022-09-20T00:00:00",
           370.7254333496094,
           27.15999984741211
          ],
          [
           "2022-10-05T00:00:00",
           363.96893310546875,
           28.549999237060547
          ],
          [
           "2022-10-06T00:00:00",
           360.2143249511719,
           30.520000457763672
          ],
          [
           "2022-10-07T00:00:00",
           350.16656494140625,
           31.360000610351562
          ],
          [
           "2022-10-10T00:00:00",
           347.4928894042969,
           32.45000076293945
          ],
          [
           "2022-10-11T00:00:00",
           345.2922668457031,
           33.630001068115234
          ],
          [
           "2022-10-12T00:00:00",
           344.1533203125,
           33.56999969482422
          ],
          [
           "2022-10-13T00:00:00",
           353.23590087890625,
           31.940000534057617
          ],
          [
           "2022-10-14T00:00:00",
           345.18609619140625,
           32.02000045776367
          ],
          [
           "2022-10-17T00:00:00",
           354.05633544921875,
           31.3700008392334
          ],
          [
           "2022-10-18T00:00:00",
           358.2164001464844,
           30.5
          ],
          [
           "2022-10-19T00:00:00",
           355.6778564453125,
           30.760000228881836
          ],
          [
           "2022-10-20T00:00:00",
           352.6954040527344,
           29.979999542236328
          ],
          [
           "2022-10-21T00:00:00",
           361.26641845703125,
           29.690000534057617
          ],
          [
           "2022-10-24T00:00:00",
           365.6870422363281,
           29.850000381469727
          ],
          [
           "2022-10-25T00:00:00",
           371.5265197753906,
           28.459999084472656
          ],
          [
           "2022-10-26T00:00:00",
           368.72747802734375,
           27.280000686645508
          ],
          [
           "2022-10-27T00:00:00",
           366.7584533691406,
           27.389999389648438
          ],
          [
           "2022-10-28T00:00:00",
           375.48388671875,
           25.75
          ],
          [
           "2022-10-31T00:00:00",
           372.7716064453125,
           25.8799991607666
          ],
          [
           "2022-11-01T00:00:00",
           371.14044189453125,
           25.809999465942383
          ],
          [
           "2022-11-02T00:00:00",
           361.82623291015625,
           25.860000610351562
          ],
          [
           "2022-11-03T00:00:00",
           358.10052490234375,
           25.299999237060547
          ],
          [
           "2022-11-04T00:00:00",
           363.2547607421875,
           24.549999237060547
          ],
          [
           "2022-11-07T00:00:00",
           366.7294616699219,
           24.350000381469727
          ],
          [
           "2022-11-08T00:00:00",
           368.7081604003906,
           25.540000915527344
          ],
          [
           "2022-11-09T00:00:00",
           361.1119384765625,
           26.09000015258789
          ],
          [
           "2022-11-21T00:00:00",
           380.8600158691406,
           22.360000610351562
          ],
          [
           "2022-11-22T00:00:00",
           385.98529052734375,
           21.290000915527344
          ],
          [
           "2022-11-30T00:00:00",
           393.49456787109375,
           20.579999923706055
          ],
          [
           "2022-12-01T00:00:00",
           393.2050476074219,
           19.84000015258789
          ],
          [
           "2022-12-02T00:00:00",
           392.7513732910156,
           19.059999465942383
          ],
          [
           "2022-12-05T00:00:00",
           385.6860656738281,
           20.75
          ],
          [
           "2022-12-06T00:00:00",
           380.1264953613281,
           22.170000076293945
          ],
          [
           "2022-12-07T00:00:00",
           379.47979736328125,
           22.68000030517578
          ],
          [
           "2022-12-08T00:00:00",
           382.45269775390625,
           22.290000915527344
          ],
          [
           "2022-12-09T00:00:00",
           379.59564208984375,
           22.829999923706055
          ],
          [
           "2022-12-12T00:00:00",
           385.0683288574219,
           25
          ],
          [
           "2022-12-13T00:00:00",
           387.9832458496094,
           22.549999237060547
          ],
          [
           "2022-12-14T00:00:00",
           385.5026550292969,
           21.139999389648438
          ],
          [
           "2022-12-15T00:00:00",
           376.0726318359375,
           22.829999923706055
          ],
          [
           "2022-12-16T00:00:00",
           371.6326599121094,
           22.6200008392334
          ],
          [
           "2022-12-19T00:00:00",
           368.4813232421875,
           22.420000076293945
          ],
          [
           "2022-12-20T00:00:00",
           368.9855651855469,
           21.479999542236328
          ],
          [
           "2022-12-21T00:00:00",
           374.5028076171875,
           20.06999969482422
          ],
          [
           "2022-12-22T00:00:00",
           369.16009521484375,
           21.969999313354492
          ],
          [
           "2022-12-23T00:00:00",
           371.28363037109375,
           20.8700008392334
          ],
          [
           "2022-12-27T00:00:00",
           369.8194580078125,
           21.649999618530273
          ],
          [
           "2022-12-28T00:00:00",
           365.223388671875,
           22.139999389648438
          ],
          [
           "2022-12-29T00:00:00",
           371.79754638671875,
           21.440000534057617
          ],
          [
           "2023-01-06T00:00:00",
           376.2966003417969,
           21.1299991607666
          ],
          [
           "2023-01-09T00:00:00",
           376.0833435058594,
           21.969999313354492
          ],
          [
           "2023-01-10T00:00:00",
           378.7207336425781,
           20.579999923706055
          ],
          [
           "2023-01-11T00:00:00",
           383.51068115234375,
           21.09000015258789
          ],
          [
           "2023-01-12T00:00:00",
           384.90704345703125,
           18.829999923706055
          ],
          [
           "2023-01-13T00:00:00",
           386.40020751953125,
           18.350000381469727
          ],
          [
           "2023-01-17T00:00:00",
           385.69244384765625,
           19.360000610351562
          ],
          [
           "2023-01-18T00:00:00",
           379.6031494140625,
           20.34000015258789
          ],
          [
           "2023-01-19T00:00:00",
           376.83966064453125,
           20.520000457763672
          ],
          [
           "2023-01-20T00:00:00",
           383.8598327636719,
           19.850000381469727
          ],
          [
           "2023-01-23T00:00:00",
           388.465576171875,
           19.809999465942383
          ],
          [
           "2023-01-24T00:00:00",
           388.04864501953125,
           19.200000762939453
          ],
          [
           "2023-01-25T00:00:00",
           388.19403076171875,
           19.079999923706055
          ],
          [
           "2023-01-26T00:00:00",
           392.4604797363281,
           18.729999542236328
          ],
          [
           "2023-01-27T00:00:00",
           393.36224365234375,
           18.510000228881836
          ],
          [
           "2023-01-30T00:00:00",
           388.42681884765625,
           19.940000534057617
          ],
          [
           "2023-01-31T00:00:00",
           394.1379699707031,
           19.399999618530273
          ],
          [
           "2023-02-01T00:00:00",
           398.32684326171875,
           17.8700008392334
          ],
          [
           "2023-02-02T00:00:00",
           404.125244140625,
           18.729999542236328
          ],
          [
           "2023-02-03T00:00:00",
           399.8297424316406,
           18.329999923706055
          ],
          [
           "2023-02-06T00:00:00",
           397.3862609863281,
           19.43000030517578
          ],
          [
           "2023-02-07T00:00:00",
           402.5835266113281,
           18.65999984741211
          ],
          [
           "2023-02-08T00:00:00",
           398.18133544921875,
           19.6299991607666
          ],
          [
           "2023-02-09T00:00:00",
           394.7294616699219,
           20.709999084472656
          ],
          [
           "2023-02-10T00:00:00",
           395.6506042480469,
           20.530000686645508
          ],
          [
           "2023-02-21T00:00:00",
           386.97235107421875,
           22.8700008392334
          ],
          [
           "2023-02-22T00:00:00",
           386.4390869140625,
           22.290000915527344
          ],
          [
           "2023-02-23T00:00:00",
           388.49468994140625,
           21.139999389648438
          ],
          [
           "2023-02-24T00:00:00",
           384.34466552734375,
           21.670000076293945
          ],
          [
           "2023-02-27T00:00:00",
           385.6536865234375,
           20.950000762939453
          ],
          [
           "2023-02-28T00:00:00",
           384.22833251953125,
           20.700000762939453
          ],
          [
           "2023-03-01T00:00:00",
           382.75445556640625,
           20.579999923706055
          ],
          [
           "2023-03-02T00:00:00",
           385.731201171875,
           19.59000015258789
          ],
          [
           "2023-03-03T00:00:00",
           391.91748046875,
           18.489999771118164
          ],
          [
           "2023-03-06T00:00:00",
           392.18896484375,
           18.610000610351562
          ],
          [
           "2023-03-07T00:00:00",
           386.17724609375,
           19.59000015258789
          ],
          [
           "2023-03-08T00:00:00",
           386.8074951171875,
           19.110000610351562
          ],
          [
           "2023-03-09T00:00:00",
           379.67095947265625,
           22.610000610351562
          ],
          [
           "2023-03-10T00:00:00",
           374.19256591796875,
           24.799999237060547
          ],
          [
           "2023-03-13T00:00:00",
           373.6592102050781,
           26.520000457763672
          ],
          [
           "2023-03-14T00:00:00",
           379.8358154296875,
           23.729999542236328
          ],
          [
           "2023-03-15T00:00:00",
           377.460205078125,
           26.139999389648438
          ],
          [
           "2023-03-16T00:00:00",
           384.0827941894531,
           22.989999771118164
          ],
          [
           "2023-03-17T00:00:00",
           379.59185791015625,
           25.510000228881836
          ],
          [
           "2023-03-20T00:00:00",
           383.2418212890625,
           24.149999618530273
          ],
          [
           "2023-03-21T00:00:00",
           388.2740173339844,
           21.3799991607666
          ],
          [
           "2023-03-22T00:00:00",
           381.6553039550781,
           22.260000228881836
          ],
          [
           "2023-03-23T00:00:00",
           382.6870422363281,
           22.610000610351562
          ],
          [
           "2023-03-24T00:00:00",
           385.1982727050781,
           21.739999771118164
          ],
          [
           "2023-03-27T00:00:00",
           385.9185485839844,
           20.600000381469727
          ],
          [
           "2023-03-28T00:00:00",
           385.0522766113281,
           19.969999313354492
          ],
          [
           "2023-03-29T00:00:00",
           390.6489562988281,
           19.1200008392334
          ],
          [
           "2023-03-30T00:00:00",
           392.9363098144531,
           19.020000457763672
          ],
          [
           "2023-03-31T00:00:00",
           398.4746398925781,
           18.700000762939453
          ],
          [
           "2023-04-03T00:00:00",
           399.9930419921875,
           18.549999237060547
          ],
          [
           "2023-04-04T00:00:00",
           397.7738037109375,
           19
          ],
          [
           "2023-04-05T00:00:00",
           396.7323303222656,
           19.079999923706055
          ],
          [
           "2023-04-06T00:00:00",
           398.2799377441406,
           18.399999618530273
          ],
          [
           "2023-04-10T00:00:00",
           398.6886901855469,
           18.969999313354492
          ],
          [
           "2023-04-11T00:00:00",
           398.7958068847656,
           19.100000381469727
          ],
          [
           "2023-04-27T00:00:00",
           401.4140930175781,
           17.030000686645508
          ],
          [
           "2023-04-28T00:00:00",
           404.84027099609375,
           15.779999732971191
          ],
          [
           "2023-05-01T00:00:00",
           404.4314270019531,
           16.079999923706055
          ],
          [
           "2023-05-02T00:00:00",
           399.8859558105469,
           17.780000686645508
          ],
          [
           "2023-05-03T00:00:00",
           397.1410827636719,
           18.34000015258789
          ],
          [
           "2023-05-04T00:00:00",
           394.3282165527344,
           20.09000015258789
          ],
          [
           "2023-05-05T00:00:00",
           401.6282043457031,
           17.190000534057617
          ],
          [
           "2023-05-08T00:00:00",
           401.7352600097656,
           16.979999542236328
          ],
          [
           "2023-05-09T00:00:00",
           399.9735412597656,
           17.709999084472656
          ],
          [
           "2023-06-02T00:00:00",
           416.5105285644531,
           14.600000381469727
          ],
          [
           "2023-06-05T00:00:00",
           415.71240234375,
           14.729999542236328
          ],
          [
           "2023-06-06T00:00:00",
           416.6176452636719,
           13.960000038146973
          ],
          [
           "2023-06-07T00:00:00",
           415.1770935058594,
           13.9399995803833
          ],
          [
           "2023-06-08T00:00:00",
           417.6883239746094,
           13.649999618530273
          ],
          [
           "2023-06-09T00:00:00",
           418.4377136230469,
           13.829999923706055
          ],
          [
           "2023-06-12T00:00:00",
           422.2337341308594,
           15.010000228881836
          ],
          [
           "2023-06-13T00:00:00",
           425.01751708984375,
           14.609999656677246
          ],
          [
           "2023-06-14T00:00:00",
           425.5236511230469,
           13.880000114440918
          ],
          [
           "2023-06-15T00:00:00",
           430.79913330078125,
           14.5
          ],
          [
           "2023-06-16T00:00:00",
           429.33172607421875,
           13.539999961853027
          ],
          [
           "2023-06-20T00:00:00",
           427.10430908203125,
           13.880000114440918
          ],
          [
           "2023-06-21T00:00:00",
           424.9159240722656,
           13.199999809265137
          ],
          [
           "2023-06-22T00:00:00",
           426.44976806640625,
           12.90999984741211
          ],
          [
           "2023-07-03T00:00:00",
           433.5619812011719,
           13.569999694824219
          ],
          [
           "2023-07-05T00:00:00",
           432.9172058105469,
           14.180000305175781
          ],
          [
           "2023-07-06T00:00:00",
           429.5271301269531,
           15.4399995803833
          ],
          [
           "2023-07-07T00:00:00",
           428.44268798828125,
           14.829999923706055
          ],
          [
           "2023-07-10T00:00:00",
           429.5271301269531,
           15.069999694824219
          ],
          [
           "2023-07-17T00:00:00",
           440.4494934082031,
           13.479999542236328
          ],
          [
           "2023-07-18T00:00:00",
           443.7222595214844,
           13.300000190734863
          ],
          [
           "2023-07-19T00:00:00",
           444.70904541015625,
           13.760000228881836
          ],
          [
           "2023-07-20T00:00:00",
           441.7585754394531,
           13.989999771118164
          ],
          [
           "2023-07-21T00:00:00",
           441.7585754394531,
           13.600000381469727
          ],
          [
           "2023-07-24T00:00:00",
           443.7320556640625,
           13.90999984741211
          ],
          [
           "2023-08-04T00:00:00",
           436.5123596191406,
           17.100000381469727
          ],
          [
           "2023-08-07T00:00:00",
           440.322509765625,
           15.770000457763672
          ],
          [
           "2023-08-08T00:00:00",
           438.4076232910156,
           15.989999771118164
          ],
          [
           "2023-08-09T00:00:00",
           435.476806640625,
           15.960000038146973
          ],
          [
           "2023-08-10T00:00:00",
           435.6330871582031,
           15.850000381469727
          ],
          [
           "2023-08-11T00:00:00",
           435.3790588378906,
           14.84000015258789
          ],
          [
           "2023-08-14T00:00:00",
           437.7823791503906,
           14.819999694824219
          ],
          [
           "2023-08-15T00:00:00",
           432.6827392578125,
           16.459999084472656
          ],
          [
           "2023-08-16T00:00:00",
           429.5075988769531,
           16.780000686645508
          ],
          [
           "2023-08-17T00:00:00",
           426.23480224609375,
           17.889999389648438
          ],
          [
           "2023-08-18T00:00:00",
           426.4399719238281,
           17.299999237060547
          ],
          [
           "2023-08-21T00:00:00",
           429.2145080566406,
           17.1299991607666
          ],
          [
           "2023-08-22T00:00:00",
           428.0519104003906,
           16.969999313354492
          ],
          [
           "2023-08-23T00:00:00",
           432.8194885253906,
           15.979999542236328
          ],
          [
           "2023-08-24T00:00:00",
           426.8210144042969,
           17.200000762939453
          ],
          [
           "2023-08-25T00:00:00",
           429.83001708984375,
           15.680000305175781
          ],
          [
           "2023-08-28T00:00:00",
           432.55572509765625,
           15.079999923706055
          ],
          [
           "2023-08-29T00:00:00",
           438.8081970214844,
           14.449999809265137
          ],
          [
           "2023-08-30T00:00:00",
           440.6155700683594,
           13.880000114440918
          ],
          [
           "2023-08-31T00:00:00",
           439.97076416015625,
           13.569999694824219
          ],
          [
           "2023-09-01T00:00:00",
           440.79144287109375,
           13.09000015258789
          ],
          [
           "2023-09-05T00:00:00",
           438.8863525390625,
           14.010000228881836
          ],
          [
           "2023-09-06T00:00:00",
           435.93597412109375,
           14.449999809265137
          ],
          [
           "2023-09-07T00:00:00",
           434.5975341796875,
           14.399999618530273
          ],
          [
           "2023-09-21T00:00:00",
           422.9343566894531,
           17.540000915527344
          ],
          [
           "2023-09-22T00:00:00",
           421.9833984375,
           17.200000762939453
          ],
          [
           "2023-09-25T00:00:00",
           423.7578430175781,
           16.899999618530273
          ],
          [
           "2023-09-26T00:00:00",
           417.5323486328125,
           18.940000534057617
          ],
          [
           "2023-09-27T00:00:00",
           417.6990051269531,
           18.219999313354492
          ],
          [
           "2023-09-28T00:00:00",
           420.1205749511719,
           17.34000015258789
          ],
          [
           "2023-09-29T00:00:00",
           419.1009826660156,
           17.520000457763672
          ],
          [
           "2023-10-02T00:00:00",
           418.9342956542969,
           17.610000610351562
          ],
          [
           "2023-10-03T00:00:00",
           413.326416015625,
           19.780000686645508
          ],
          [
           "2023-10-11T00:00:00",
           427.7677001953125,
           16.09000015258789
          ],
          [
           "2023-10-12T00:00:00",
           425.15985107421875,
           16.690000534057617
          ],
          [
           "2023-10-13T00:00:00",
           423.0422058105469,
           19.31999969482422
          ],
          [
           "2023-10-16T00:00:00",
           427.49322509765625,
           17.209999084472656
          ],
          [
           "2023-10-17T00:00:00",
           427.4736022949219,
           17.8799991607666
          ],
          [
           "2023-10-18T00:00:00",
           421.7774963378906,
           19.219999313354492
          ],
          [
           "2023-10-19T00:00:00",
           418.071533203125,
           21.399999618530273
          ],
          [
           "2023-10-20T00:00:00",
           412.93426513671875,
           21.709999084472656
          ],
          [
           "2023-10-23T00:00:00",
           412.21856689453125,
           20.3700008392334
          ],
          [
           "2023-10-24T00:00:00",
           415.3264465332031,
           18.969999313354492
          ],
          [
           "2023-10-25T00:00:00",
           409.3656005859375,
           20.190000534057617
          ],
          [
           "2023-10-26T00:00:00",
           404.46356201171875,
           20.68000030517578
          ],
          [
           "2023-10-27T00:00:00",
           402.6302795410156,
           21.270000457763672
          ],
          [
           "2023-10-30T00:00:00",
           407.4440612792969,
           19.75
          ],
          [
           "2023-10-31T00:00:00",
           410.00286865234375,
           18.139999389648438
          ],
          [
           "2023-11-01T00:00:00",
           414.3754577636719,
           16.8700008392334
          ],
          [
           "2023-11-02T00:00:00",
           422.31671142578125,
           15.65999984741211
          ],
          [
           "2023-11-03T00:00:00",
           426.1696472167969,
           14.90999984741211
          ],
          [
           "2023-11-13T00:00:00",
           431.5618591308594,
           14.760000228881836
          ],
          [
           "2023-11-14T00:00:00",
           439.9344482421875,
           14.15999984741211
          ],
          [
           "2023-11-15T00:00:00",
           440.8658447265625,
           14.180000305175781
          ],
          [
           "2023-11-16T00:00:00",
           441.4050598144531,
           14.319999694824219
          ],
          [
           "2023-11-17T00:00:00",
           441.9541015625,
           13.800000190734863
          ],
          [
           "2023-11-20T00:00:00",
           445.35601806640625,
           13.40999984741211
          ],
          [
           "2023-11-21T00:00:00",
           444.3854675292969,
           13.350000381469727
          ],
          [
           "2023-11-22T00:00:00",
           446.1011657714844,
           12.850000381469727
          ],
          [
           "2023-11-24T00:00:00",
           446.3756408691406,
           12.460000038146973
          ],
          [
           "2023-11-27T00:00:00",
           445.5717468261719,
           12.6899995803833
          ],
          [
           "2023-12-13T00:00:00",
           461.27777099609375,
           12.1899995803833
          ],
          [
           "2023-12-14T00:00:00",
           462.75811767578125,
           12.479999542236328
          ],
          [
           "2023-12-15T00:00:00",
           461.9961853027344,
           12.279999732971191
          ],
          [
           "2023-12-18T00:00:00",
           464.5950012207031,
           12.5600004196167
          ],
          [
           "2023-12-19T00:00:00",
           467.42010498046875,
           12.529999732971191
          ],
          [
           "2023-12-20T00:00:00",
           460.9429626464844,
           13.670000076293945
          ],
          [
           "2023-12-21T00:00:00",
           465.31353759765625,
           13.649999618530273
          ],
          [
           "2023-12-22T00:00:00",
           466.2487487792969,
           13.029999732971191
          ],
          [
           "2023-12-26T00:00:00",
           468.21746826171875,
           12.989999771118164
          ],
          [
           "2024-01-23T00:00:00",
           477.2835388183594,
           12.550000190734863
          ],
          [
           "2024-01-24T00:00:00",
           477.8052673339844,
           13.140000343322754
          ],
          [
           "2024-01-25T00:00:00",
           480.4040222167969,
           13.449999809265137
          ],
          [
           "2024-01-26T00:00:00",
           479.793701171875,
           13.260000228881836
          ],
          [
           "2024-01-29T00:00:00",
           483.5933837890625,
           13.600000381469727
          ],
          [
           "2024-01-30T00:00:00",
           483.2193603515625,
           13.3100004196167
          ],
          [
           "2024-01-31T00:00:00",
           475.3345031738281,
           14.350000381469727
          ],
          [
           "2024-02-01T00:00:00",
           481.5557556152344,
           13.880000114440918
          ],
          [
           "2024-02-02T00:00:00",
           486.6252746582031,
           13.850000381469727
          ],
          [
           "2024-02-05T00:00:00",
           484.8533630371094,
           13.670000076293945
          ],
          [
           "2024-02-06T00:00:00",
           486.26104736328125,
           13.0600004196167
          ],
          [
           "2024-02-07T00:00:00",
           490.3166809082031,
           12.829999923706055
          ],
          [
           "2024-02-08T00:00:00",
           490.5332336425781,
           12.789999961853027
          ],
          [
           "2024-02-09T00:00:00",
           493.36822509765625,
           12.930000305175781
          ],
          [
           "2024-02-12T00:00:00",
           493.15167236328125,
           13.930000305175781
          ],
          [
           "2024-02-13T00:00:00",
           486.35943603515625,
           15.850000381469727
          ],
          [
           "2024-02-14T00:00:00",
           490.77935791015625,
           14.380000114440918
          ],
          [
           "2024-02-22T00:00:00",
           499.5697937011719,
           14.539999961853027
          ],
          [
           "2024-02-23T00:00:00",
           499.914306640625,
           13.75
          ],
          [
           "2024-02-26T00:00:00",
           498.0833435058594,
           13.739999771118164
          ],
          [
           "2024-02-27T00:00:00",
           499.0086669921875,
           13.430000305175781
          ],
          [
           "2024-02-28T00:00:00",
           498.34918212890625,
           13.84000015258789
          ],
          [
           "2024-02-29T00:00:00",
           500.1407470703125,
           13.399999618530273
          ],
          [
           "2024-03-01T00:00:00",
           504.836181640625,
           13.109999656677246
          ],
          [
           "2024-03-04T00:00:00",
           504.29473876953125,
           13.489999771118164
          ],
          [
           "2024-03-05T00:00:00",
           499.2547607421875,
           14.460000038146973
          ],
          [
           "2024-03-21T00:00:00",
           515.63720703125,
           12.920000076293945
          ],
          [
           "2024-03-22T00:00:00",
           514.65966796875,
           13.0600004196167
          ],
          [
           "2024-03-25T00:00:00",
           513.23779296875,
           13.1899995803833
          ],
          [
           "2024-03-26T00:00:00",
           512.289794921875,
           13.239999771118164
          ],
          [
           "2024-03-27T00:00:00",
           516.594970703125,
           12.779999732971191
          ],
          [
           "2024-03-28T00:00:00",
           516.496337890625,
           13.010000228881836
          ],
          [
           "2024-04-12T00:00:00",
           504.4298400878906,
           17.309999465942383
          ],
          [
           "2024-04-15T00:00:00",
           498.1103210449219,
           19.229999542236328
          ],
          [
           "2024-04-16T00:00:00",
           497.2018737792969,
           18.399999618530273
          ],
          [
           "2024-04-17T00:00:00",
           494.25927734375,
           18.209999084472656
          ],
          [
           "2024-04-18T00:00:00",
           493.24224853515625,
           18
          ],
          [
           "2024-04-19T00:00:00",
           488.9370422363281,
           18.709999084472656
          ],
          [
           "2024-04-22T00:00:00",
           493.4397277832031,
           16.940000534057617
          ],
          [
           "2024-04-23T00:00:00",
           499.2951965332031,
           15.6899995803833
          ],
          [
           "2024-04-24T00:00:00",
           499.0582275390625,
           15.970000267028809
          ],
          [
           "2024-04-25T00:00:00",
           497.162353515625,
           15.369999885559082
          ],
          [
           "2024-04-26T00:00:00",
           501.8724365234375,
           15.029999732971191
          ],
          [
           "2024-04-29T00:00:00",
           503.6498107910156,
           14.670000076293945
          ],
          [
           "2024-04-30T00:00:00",
           495.6713562011719,
           15.649999618530273
          ],
          [
           "2024-05-01T00:00:00",
           494.06182861328125,
           15.390000343322754
          ],
          [
           "2024-05-02T00:00:00",
           498.6829833984375,
           14.680000305175781
          ],
          [
           "2024-05-03T00:00:00",
           504.8643798828125,
           13.489999771118164
          ],
          [
           "2024-05-06T00:00:00",
           510.0780334472656,
           13.489999771118164
          ],
          [
           "2024-05-07T00:00:00",
           510.6408386230469,
           13.229999542236328
          ],
          [
           "2024-05-08T00:00:00",
           510.69012451171875,
           13
          ],
          [
           "2024-05-09T00:00:00",
           513.6327514648438,
           12.6899995803833
          ],
          [
           "2024-05-10T00:00:00",
           514.2943725585938,
           12.550000190734863
          ],
          [
           "2024-05-13T00:00:00",
           514.3634033203125,
           13.600000381469727
          ],
          [
           "2024-05-14T00:00:00",
           516.7233276367188,
           13.420000076293945
          ],
          [
           "2024-05-15T00:00:00",
           523.1219482421875,
           12.449999809265137
          ],
          [
           "2024-05-16T00:00:00",
           522.045654296875,
           12.420000076293945
          ],
          [
           "2024-05-17T00:00:00",
           522.7960205078125,
           11.989999771118164
          ],
          [
           "2024-05-20T00:00:00",
           523.3984375,
           12.149999618530273
          ],
          [
           "2024-05-21T00:00:00",
           524.6820678710938,
           11.859999656677246
          ],
          [
           "2024-05-22T00:00:00",
           523.1713256835938,
           12.289999961853027
          ],
          [
           "2024-05-23T00:00:00",
           519.3499755859375,
           12.770000457763672
          ],
          [
           "2024-06-07T00:00:00",
           527.298828125,
           12.220000267028809
          ],
          [
           "2024-06-10T00:00:00",
           528.927978515625,
           12.739999771118164
          ],
          [
           "2024-06-11T00:00:00",
           530.2017822265625,
           12.850000381469727
          ],
          [
           "2024-06-12T00:00:00",
           534.5564575195312,
           12.039999961853027
          ],
          [
           "2024-06-13T00:00:00",
           535.6328125,
           11.9399995803833
          ],
          [
           "2024-06-14T00:00:00",
           535.9586181640625,
           12.65999984741211
          ],
          [
           "2024-06-17T00:00:00",
           540.2242431640625,
           12.75
          ],
          [
           "2024-06-18T00:00:00",
           541.5968017578125,
           12.300000190734863
          ],
          [
           "2024-06-20T00:00:00",
           540.1256103515625,
           13.279999732971191
          ],
          [
           "2024-06-21T00:00:00",
           539.4014282226562,
           13.199999809265137
          ],
          [
           "2024-06-24T00:00:00",
           537.64794921875,
           13.329999923706055
          ],
          [
           "2024-07-08T00:00:00",
           550.0703735351562,
           12.369999885559082
          ],
          [
           "2024-07-09T00:00:00",
           550.6052856445312,
           12.510000228881836
          ],
          [
           "2024-07-10T00:00:00",
           556.0537719726562,
           12.850000381469727
          ],
          [
           "2024-07-11T00:00:00",
           551.2590942382812,
           12.920000076293945
          ],
          [
           "2024-07-12T00:00:00",
           554.7361450195312,
           12.460000038146973
          ],
          [
           "2024-07-15T00:00:00",
           556.2617797851562,
           13.119999885559082
          ],
          [
           "2024-07-16T00:00:00",
           559.5604248046875,
           13.1899995803833
          ],
          [
           "2024-07-17T00:00:00",
           551.7147827148438,
           14.479999542236328
          ],
          [
           "2024-07-18T00:00:00",
           547.4749145507812,
           15.930000305175781
          ],
          [
           "2024-07-19T00:00:00",
           543.83935546875,
           16.520000457763672
          ],
          [
           "2024-07-22T00:00:00",
           549.4463500976562,
           14.90999984741211
          ],
          [
           "2024-07-23T00:00:00",
           548.5844116210938,
           14.720000267028809
          ],
          [
           "2024-07-29T00:00:00",
           539.6490478515625,
           16.600000381469727
          ],
          [
           "2024-07-30T00:00:00",
           536.9149169921875,
           17.690000534057617
          ],
          [
           "2024-07-31T00:00:00",
           545.642333984375,
           16.360000610351562
          ]
         ],
         "hovertemplate": "Regime_Label=Neutral<br>Log(VIX)=%{x}<br>Return (%)=%{y}<br>Date=%{customdata[0]}<br>Close=%{customdata[1]}<br>VIX=%{customdata[2]}<extra></extra>",
         "legendgroup": "Neutral",
         "marker": {
          "color": "rgb(141,160,203)",
          "opacity": 0.7,
          "symbol": "circle"
         },
         "mode": "markers",
         "name": "Neutral",
         "showlegend": true,
         "type": "scattergl",
         "x": {
          "bdata": "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",
          "dtype": "f8"
         },
         "xaxis": "x",
         "y": {
          "bdata": "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",
          "dtype": "f8"
         },
         "yaxis": "y"
        }
       ],
       "layout": {
        "height": 600,
        "legend": {
         "title": {
          "text": "Market Regime"
         },
         "tracegroupgap": 0
        },
        "template": {
         "data": {
          "bar": [
           {
            "error_x": {
             "color": "#2a3f5f"
            },
            "error_y": {
             "color": "#2a3f5f"
            },
            "marker": {
             "line": {
              "color": "white",
              "width": 0.5
             },
             "pattern": {
              "fillmode": "overlay",
              "size": 10,
              "solidity": 0.2
             }
            },
            "type": "bar"
           }
          ],
          "barpolar": [
           {
            "marker": {
             "line": {
              "color": "white",
              "width": 0.5
             },
             "pattern": {
              "fillmode": "overlay",
              "size": 10,
              "solidity": 0.2
             }
            },
            "type": "barpolar"
           }
          ],
          "carpet": [
           {
            "aaxis": {
             "endlinecolor": "#2a3f5f",
             "gridcolor": "#C8D4E3",
             "linecolor": "#C8D4E3",
             "minorgridcolor": "#C8D4E3",
             "startlinecolor": "#2a3f5f"
            },
            "baxis": {
             "endlinecolor": "#2a3f5f",
             "gridcolor": "#C8D4E3",
             "linecolor": "#C8D4E3",
             "minorgridcolor": "#C8D4E3",
             "startlinecolor": "#2a3f5f"
            },
            "type": "carpet"
           }
          ],
          "choropleth": [
           {
            "colorbar": {
             "outlinewidth": 0,
             "ticks": ""
            },
            "type": "choropleth"
           }
          ],
          "contour": [
           {
            "colorbar": {
             "outlinewidth": 0,
             "ticks": ""
            },
            "colorscale": [
             [
              0,
              "#0d0887"
             ],
             [
              0.1111111111111111,
              "#46039f"
             ],
             [
              0.2222222222222222,
              "#7201a8"
             ],
             [
              0.3333333333333333,
              "#9c179e"
             ],
             [
              0.4444444444444444,
              "#bd3786"
             ],
             [
              0.5555555555555556,
              "#d8576b"
             ],
             [
              0.6666666666666666,
              "#ed7953"
             ],
             [
              0.7777777777777778,
              "#fb9f3a"
             ],
             [
              0.8888888888888888,
              "#fdca26"
             ],
             [
              1,
              "#f0f921"
             ]
            ],
            "type": "contour"
           }
          ],
          "contourcarpet": [
           {
            "colorbar": {
             "outlinewidth": 0,
             "ticks": ""
            },
            "type": "contourcarpet"
           }
          ],
          "heatmap": [
           {
            "colorbar": {
             "outlinewidth": 0,
             "ticks": ""
            },
            "colorscale": [
             [
              0,
              "#0d0887"
             ],
             [
              0.1111111111111111,
              "#46039f"
             ],
             [
              0.2222222222222222,
              "#7201a8"
             ],
             [
              0.3333333333333333,
              "#9c179e"
             ],
             [
              0.4444444444444444,
              "#bd3786"
             ],
             [
              0.5555555555555556,
              "#d8576b"
             ],
             [
              0.6666666666666666,
              "#ed7953"
             ],
             [
              0.7777777777777778,
              "#fb9f3a"
             ],
             [
              0.8888888888888888,
              "#fdca26"
             ],
             [
              1,
              "#f0f921"
             ]
            ],
            "type": "heatmap"
           }
          ],
          "histogram": [
           {
            "marker": {
             "pattern": {
              "fillmode": "overlay",
              "size": 10,
              "solidity": 0.2
             }
            },
            "type": "histogram"
           }
          ],
          "histogram2d": [
           {
            "colorbar": {
             "outlinewidth": 0,
             "ticks": ""
            },
            "colorscale": [
             [
              0,
              "#0d0887"
             ],
             [
              0.1111111111111111,
              "#46039f"
             ],
             [
              0.2222222222222222,
              "#7201a8"
             ],
             [
              0.3333333333333333,
              "#9c179e"
             ],
             [
              0.4444444444444444,
              "#bd3786"
             ],
             [
              0.5555555555555556,
              "#d8576b"
             ],
             [
              0.6666666666666666,
              "#ed7953"
             ],
             [
              0.7777777777777778,
              "#fb9f3a"
             ],
             [
              0.8888888888888888,
              "#fdca26"
             ],
             [
              1,
              "#f0f921"
             ]
            ],
            "type": "histogram2d"
           }
          ],
          "histogram2dcontour": [
           {
            "colorbar": {
             "outlinewidth": 0,
             "ticks": ""
            },
            "colorscale": [
             [
              0,
              "#0d0887"
             ],
             [
              0.1111111111111111,
              "#46039f"
             ],
             [
              0.2222222222222222,
              "#7201a8"
             ],
             [
              0.3333333333333333,
              "#9c179e"
             ],
             [
              0.4444444444444444,
              "#bd3786"
             ],
             [
              0.5555555555555556,
              "#d8576b"
             ],
             [
              0.6666666666666666,
              "#ed7953"
             ],
             [
              0.7777777777777778,
              "#fb9f3a"
             ],
             [
              0.8888888888888888,
              "#fdca26"
             ],
             [
              1,
              "#f0f921"
             ]
            ],
            "type": "histogram2dcontour"
           }
          ],
          "mesh3d": [
           {
            "colorbar": {
             "outlinewidth": 0,
             "ticks": ""
            },
            "type": "mesh3d"
           }
          ],
          "parcoords": [
           {
            "line": {
             "colorbar": {
              "outlinewidth": 0,
              "ticks": ""
             }
            },
            "type": "parcoords"
           }
          ],
          "pie": [
           {
            "automargin": true,
            "type": "pie"
           }
          ],
          "scatter": [
           {
            "fillpattern": {
             "fillmode": "overlay",
             "size": 10,
             "solidity": 0.2
            },
            "type": "scatter"
           }
          ],
          "scatter3d": [
           {
            "line": {
             "colorbar": {
              "outlinewidth": 0,
              "ticks": ""
             }
            },
            "marker": {
             "colorbar": {
              "outlinewidth": 0,
              "ticks": ""
             }
            },
            "type": "scatter3d"
           }
          ],
          "scattercarpet": [
           {
            "marker": {
             "colorbar": {
              "outlinewidth": 0,
              "ticks": ""
             }
            },
            "type": "scattercarpet"
           }
          ],
          "scattergeo": [
           {
            "marker": {
             "colorbar": {
              "outlinewidth": 0,
              "ticks": ""
             }
            },
            "type": "scattergeo"
           }
          ],
          "scattergl": [
           {
            "marker": {
             "colorbar": {
              "outlinewidth": 0,
              "ticks": ""
             }
            },
            "type": "scattergl"
           }
          ],
          "scattermap": [
           {
            "marker": {
             "colorbar": {
              "outlinewidth": 0,
              "ticks": ""
             }
            },
            "type": "scattermap"
           }
          ],
          "scattermapbox": [
           {
            "marker": {
             "colorbar": {
              "outlinewidth": 0,
              "ticks": ""
             }
            },
            "type": "scattermapbox"
           }
          ],
          "scatterpolar": [
           {
            "marker": {
             "colorbar": {
              "outlinewidth": 0,
              "ticks": ""
             }
            },
            "type": "scatterpolar"
           }
          ],
          "scatterpolargl": [
           {
            "marker": {
             "colorbar": {
              "outlinewidth": 0,
              "ticks": ""
             }
            },
            "type": "scatterpolargl"
           }
          ],
          "scatterternary": [
           {
            "marker": {
             "colorbar": {
              "outlinewidth": 0,
              "ticks": ""
             }
            },
            "type": "scatterternary"
           }
          ],
          "surface": [
           {
            "colorbar": {
             "outlinewidth": 0,
             "ticks": ""
            },
            "colorscale": [
             [
              0,
              "#0d0887"
             ],
             [
              0.1111111111111111,
              "#46039f"
             ],
             [
              0.2222222222222222,
              "#7201a8"
             ],
             [
              0.3333333333333333,
              "#9c179e"
             ],
             [
              0.4444444444444444,
              "#bd3786"
             ],
             [
              0.5555555555555556,
              "#d8576b"
             ],
             [
              0.6666666666666666,
              "#ed7953"
             ],
             [
              0.7777777777777778,
              "#fb9f3a"
             ],
             [
              0.8888888888888888,
              "#fdca26"
             ],
             [
              1,
              "#f0f921"
             ]
            ],
            "type": "surface"
           }
          ],
          "table": [
           {
            "cells": {
             "fill": {
              "color": "#EBF0F8"
             },
             "line": {
              "color": "white"
             }
            },
            "header": {
             "fill": {
              "color": "#C8D4E3"
             },
             "line": {
              "color": "white"
             }
            },
            "type": "table"
           }
          ]
         },
         "layout": {
          "annotationdefaults": {
           "arrowcolor": "#2a3f5f",
           "arrowhead": 0,
           "arrowwidth": 1
          },
          "autotypenumbers": "strict",
          "coloraxis": {
           "colorbar": {
            "outlinewidth": 0,
            "ticks": ""
           }
          },
          "colorscale": {
           "diverging": [
            [
             0,
             "#8e0152"
            ],
            [
             0.1,
             "#c51b7d"
            ],
            [
             0.2,
             "#de77ae"
            ],
            [
             0.3,
             "#f1b6da"
            ],
            [
             0.4,
             "#fde0ef"
            ],
            [
             0.5,
             "#f7f7f7"
            ],
            [
             0.6,
             "#e6f5d0"
            ],
            [
             0.7,
             "#b8e186"
            ],
            [
             0.8,
             "#7fbc41"
            ],
            [
             0.9,
             "#4d9221"
            ],
            [
             1,
             "#276419"
            ]
           ],
           "sequential": [
            [
             0,
             "#0d0887"
            ],
            [
             0.1111111111111111,
             "#46039f"
            ],
            [
             0.2222222222222222,
             "#7201a8"
            ],
            [
             0.3333333333333333,
             "#9c179e"
            ],
            [
             0.4444444444444444,
             "#bd3786"
            ],
            [
             0.5555555555555556,
             "#d8576b"
            ],
            [
             0.6666666666666666,
             "#ed7953"
            ],
            [
             0.7777777777777778,
             "#fb9f3a"
            ],
            [
             0.8888888888888888,
             "#fdca26"
            ],
            [
             1,
             "#f0f921"
            ]
           ],
           "sequentialminus": [
            [
             0,
             "#0d0887"
            ],
            [
             0.1111111111111111,
             "#46039f"
            ],
            [
             0.2222222222222222,
             "#7201a8"
            ],
            [
             0.3333333333333333,
             "#9c179e"
            ],
            [
             0.4444444444444444,
             "#bd3786"
            ],
            [
             0.5555555555555556,
             "#d8576b"
            ],
            [
             0.6666666666666666,
             "#ed7953"
            ],
            [
             0.7777777777777778,
             "#fb9f3a"
            ],
            [
             0.8888888888888888,
             "#fdca26"
            ],
            [
             1,
             "#f0f921"
            ]
           ]
          },
          "colorway": [
           "#636efa",
           "#EF553B",
           "#00cc96",
           "#ab63fa",
           "#FFA15A",
           "#19d3f3",
           "#FF6692",
           "#B6E880",
           "#FF97FF",
           "#FECB52"
          ],
          "font": {
           "color": "#2a3f5f"
          },
          "geo": {
           "bgcolor": "white",
           "lakecolor": "white",
           "landcolor": "white",
           "showlakes": true,
           "showland": true,
           "subunitcolor": "#C8D4E3"
          },
          "hoverlabel": {
           "align": "left"
          },
          "hovermode": "closest",
          "mapbox": {
           "style": "light"
          },
          "paper_bgcolor": "white",
          "plot_bgcolor": "white",
          "polar": {
           "angularaxis": {
            "gridcolor": "#EBF0F8",
            "linecolor": "#EBF0F8",
            "ticks": ""
           },
           "bgcolor": "white",
           "radialaxis": {
            "gridcolor": "#EBF0F8",
            "linecolor": "#EBF0F8",
            "ticks": ""
           }
          },
          "scene": {
           "xaxis": {
            "backgroundcolor": "white",
            "gridcolor": "#DFE8F3",
            "gridwidth": 2,
            "linecolor": "#EBF0F8",
            "showbackground": true,
            "ticks": "",
            "zerolinecolor": "#EBF0F8"
           },
           "yaxis": {
            "backgroundcolor": "white",
            "gridcolor": "#DFE8F3",
            "gridwidth": 2,
            "linecolor": "#EBF0F8",
            "showbackground": true,
            "ticks": "",
            "zerolinecolor": "#EBF0F8"
           },
           "zaxis": {
            "backgroundcolor": "white",
            "gridcolor": "#DFE8F3",
            "gridwidth": 2,
            "linecolor": "#EBF0F8",
            "showbackground": true,
            "ticks": "",
            "zerolinecolor": "#EBF0F8"
           }
          },
          "shapedefaults": {
           "line": {
            "color": "#2a3f5f"
           }
          },
          "ternary": {
           "aaxis": {
            "gridcolor": "#DFE8F3",
            "linecolor": "#A2B1C6",
            "ticks": ""
           },
           "baxis": {
            "gridcolor": "#DFE8F3",
            "linecolor": "#A2B1C6",
            "ticks": ""
           },
           "bgcolor": "white",
           "caxis": {
            "gridcolor": "#DFE8F3",
            "linecolor": "#A2B1C6",
            "ticks": ""
           }
          },
          "title": {
           "x": 0.05
          },
          "xaxis": {
           "automargin": true,
           "gridcolor": "#EBF0F8",
           "linecolor": "#EBF0F8",
           "ticks": "",
           "title": {
            "standoff": 15
           },
           "zerolinecolor": "#EBF0F8",
           "zerolinewidth": 2
          },
          "yaxis": {
           "automargin": true,
           "gridcolor": "#EBF0F8",
           "linecolor": "#EBF0F8",
           "ticks": "",
           "title": {
            "standoff": 15
           },
           "zerolinecolor": "#EBF0F8",
           "zerolinewidth": 2
          }
         }
        },
        "title": {
         "text": "Return vs LogVIX by Market Regime"
        },
        "width": 800,
        "xaxis": {
         "anchor": "y",
         "domain": [
          0,
          1
         ],
         "title": {
          "text": "Log(VIX)"
         }
        },
        "yaxis": {
         "anchor": "x",
         "domain": [
          0,
          1
         ],
         "title": {
          "text": "Return (%)"
         }
        }
       }
      }
     },
     "metadata": {},
     "output_type": "display_data"
    }
   ],
   "source": [
    "# Visualize the training data with regime classifications using Plotly\n",
    "training_with_predictions = training_data.copy()\n",
    "training_with_predictions['Regime'] = train_predictions\n",
    "training_with_predictions['Regime_Label'] = [regime_labels[r] for r in train_predictions]\n",
    "\n",
    "# Create a categorical color map for regimes\n",
    "regime_colors = px.colors.qualitative.Set2[:hidden_states]\n",
    "\n",
    "# Create subplot figures for SPY, VIX, and LogVIX\n",
    "fig = make_subplots(rows=3, cols=1, \n",
    "                   shared_xaxes=True,\n",
    "                   vertical_spacing=0.1,\n",
    "                   subplot_titles=('SPY Close Price by Regime', 'VIX by Regime', 'LogVIX by Regime'))\n",
    "\n",
    "# SPY price by regime\n",
    "for i, regime in enumerate(range(hidden_states)):\n",
    "    regime_data = training_with_predictions[training_with_predictions['Regime'] == regime]\n",
    "    fig.add_trace(\n",
    "        go.Scatter(\n",
    "            x=regime_data['Date'], \n",
    "            y=regime_data['Close'],\n",
    "            mode='markers',\n",
    "            marker=dict(color=regime_colors[i], size=6),\n",
    "            name=f'Regime {regime}: {regime_labels[regime]}',\n",
    "            showlegend=True\n",
    "        ),\n",
    "        row=1, col=1\n",
    "    )\n",
    "\n",
    "# VIX by regime\n",
    "for i, regime in enumerate(range(hidden_states)):\n",
    "    regime_data = training_with_predictions[training_with_predictions['Regime'] == regime]\n",
    "    fig.add_trace(\n",
    "        go.Scatter(\n",
    "            x=regime_data['Date'], \n",
    "            y=regime_data['VIX'],\n",
    "            mode='markers',\n",
    "            marker=dict(color=regime_colors[i], size=6),\n",
    "            name=f'Regime {regime}: {regime_labels[regime]}',\n",
    "            showlegend=False\n",
    "        ),\n",
    "        row=2, col=1\n",
    "    )\n",
    "\n",
    "# LogVIX by regime\n",
    "for i, regime in enumerate(range(hidden_states)):\n",
    "    regime_data = training_with_predictions[training_with_predictions['Regime'] == regime]\n",
    "    fig.add_trace(\n",
    "        go.Scatter(\n",
    "            x=regime_data['Date'], \n",
    "            y=regime_data['LogVIX'],\n",
    "            mode='markers',\n",
    "            marker=dict(color=regime_colors[i], size=6),\n",
    "            name=f'Regime {regime}: {regime_labels[regime]}',\n",
    "            showlegend=False\n",
    "        ),\n",
    "        row=3, col=1\n",
    "    )\n",
    "\n",
    "fig.update_layout(\n",
    "    height=1000,\n",
    "    title_text=f'Market Regimes with SPY, VIX, and LogVIX (Training Period: {train_start_date} to {train_end_date})',\n",
    "    template='plotly_white',\n",
    "    legend_title='Regime',\n",
    "    hovermode='closest'\n",
    ")\n",
    "\n",
    "fig.update_xaxes(title_text=\"Date\", row=3, col=1)\n",
    "fig.update_yaxes(title_text=\"SPY Price\", row=1, col=1)\n",
    "fig.update_yaxes(title_text=\"VIX\", row=2, col=1)\n",
    "fig.update_yaxes(title_text=\"LogVIX\", row=3, col=1)\n",
    "\n",
    "fig.show()\n",
    "\n",
    "# Visualize transition probabilities with Plotly\n",
    "transition_matrix = model.transmat_\n",
    "regime_labels_with_numbers = [f\"Regime {i}: {regime_labels[i]}\" for i in range(hidden_states)]\n",
    "\n",
    "# Create the heatmap\n",
    "fig_heatmap = go.Figure(data=go.Heatmap(\n",
    "    z=transition_matrix,\n",
    "    x=regime_labels_with_numbers,\n",
    "    y=regime_labels_with_numbers,\n",
    "    colorscale='Blues',\n",
    "    text=np.round(transition_matrix, 2),\n",
    "    texttemplate=\"%{text:.2f}\",\n",
    "    textfont={\"size\": 14}\n",
    "))\n",
    "\n",
    "fig_heatmap.update_layout(\n",
    "    title='Regime Transition Probabilities',\n",
    "    xaxis_title='To Regime',\n",
    "    yaxis_title='From Regime',\n",
    "    width=700,\n",
    "    height=600,\n",
    "    template='plotly_white'\n",
    ")\n",
    "\n",
    "fig_heatmap.show()\n",
    "\n",
    "# Show stationary distribution\n",
    "stationary_dist = model.get_stationary_distribution()\n",
    "print(\"\\nStationary Distribution:\")\n",
    "for i in range(hidden_states):\n",
    "    print(f\"Regime {i} [{regime_labels[i]}]: {stationary_dist[i]*100:.2f}%\")\n",
    "\n",
    "# Create a pie chart for the stationary distribution\n",
    "fig_pie = px.pie(\n",
    "    values=stationary_dist * 100,\n",
    "    names=regime_labels_with_numbers,\n",
    "    title='Stationary Distribution of Regimes',\n",
    "    color_discrete_sequence=regime_colors\n",
    ")\n",
    "\n",
    "fig_pie.update_traces(textinfo='percent+label', textposition='inside')\n",
    "fig_pie.update_layout(uniformtext_minsize=12, uniformtext_mode='hide')\n",
    "fig_pie.show()\n",
    "\n",
    "# Create a scatter plot of Volatility vs Return colored by regime\n",
    "fig_scatter = px.scatter(\n",
    "    training_with_predictions,\n",
    "    x='LogVIX',\n",
    "    y='Return',\n",
    "    color='Regime_Label',\n",
    "    color_discrete_sequence=regime_colors,\n",
    "    labels={'LogVIX': 'Log(VIX)', 'Return': 'Return (%)'},\n",
    "    title='Return vs LogVIX by Market Regime',\n",
    "    opacity=0.7,\n",
    "    hover_data=['Date', 'Close', 'VIX']\n",
    ")\n",
    "\n",
    "fig_scatter.update_layout(\n",
    "    height=600,\n",
    "    width=800,\n",
    "    template='plotly_white',\n",
    "    legend_title='Market Regime'\n",
    ")\n",
    "\n",
    "fig_scatter.show()"
   ]
  },
  {
   "cell_type": "code",
   "execution_count": 61,
   "metadata": {},
   "outputs": [],
   "source": [
    "# Function to predict regimes for a specific date range\n",
    "def predict_regimes(model, data, start_date, end_date, regime_labels):\n",
    "    \"\"\"\n",
    "    Predict market regimes for a specific date range using the trained HMM model\n",
    "    \n",
    "    Parameters:\n",
    "    -----------\n",
    "    model : hmm.GaussianHMM\n",
    "        The trained HMM model\n",
    "    data : DataFrame\n",
    "        The full dataset with calculated indicators\n",
    "    start_date : str\n",
    "        Start date for prediction period in 'YYYY-MM-DD' format\n",
    "    end_date : str\n",
    "        End date for prediction period in 'YYYY-MM-DD' format\n",
    "    regime_labels : list\n",
    "        Labels for each regime (e.g., [\"Bull\", \"Bear\", \"Neutral\"])\n",
    "        \n",
    "    Returns:\n",
    "    --------\n",
    "    DataFrame with date, close price, VIX, LogVIX, and predicted regime\n",
    "    \"\"\"\n",
    "    # Filter data for prediction period\n",
    "    pred_data = data[(data['Date'] >= start_date) & (data['Date'] <= end_date)].copy()\n",
    "    \n",
    "    if len(pred_data) == 0:\n",
    "        print(f\"No data available for period {start_date} to {end_date}\")\n",
    "        if end_date > data['Date'].max().strftime('%Y-%m-%d'):\n",
    "            print(\"NOTE: Prediction period extends into the future\")\n",
    "            # Generate future dates for forecasting\n",
    "            last_date = data['Date'].max()\n",
    "            future_end = datetime.strptime(end_date, '%Y-%m-%d')\n",
    "            \n",
    "            # Get the most recent 30 days of data for calculating indicators\n",
    "            recent_data = data.tail(30).copy()\n",
    "            \n",
    "            # For future dates, we'll extend from the last value and assume zero returns\n",
    "            # This is a simplification - in reality you might want to use a forecasting model\n",
    "            current_date = last_date + timedelta(days=1)\n",
    "            while current_date <= future_end:\n",
    "                if current_date.weekday() < 5:  # Only include weekdays\n",
    "                    new_row = {\n",
    "                        'Date': current_date,\n",
    "                        'Close': recent_data['Close'].iloc[-1],  # Use the last known close price\n",
    "                        'High': recent_data['Close'].iloc[-1],\n",
    "                        'Low': recent_data['Close'].iloc[-1],\n",
    "                        'Open': recent_data['Close'].iloc[-1],\n",
    "                        'Volume': recent_data['Volume'].mean(),  # Use average volume\n",
    "                        'VIX': recent_data['VIX'].mean(),  # Use average VIX\n",
    "                        'LogVIX': np.log(recent_data['VIX'].mean()),  # Calculate LogVIX from mean VIX\n",
    "                        'Volatility': recent_data['Volatility'].mean(),  # Use average volatility\n",
    "                        'MA': recent_data['MA'].iloc[-1],  # Use the last MA\n",
    "                        'Return': 0,  # Assume zero returns for future dates\n",
    "                        'LogVIX_Ratio': 1.0  # Assume neutral LogVIX ratio\n",
    "                    }\n",
    "                    recent_data = pd.concat([recent_data, pd.DataFrame([new_row])], ignore_index=True)\n",
    "                current_date += timedelta(days=1)\n",
    "            \n",
    "            # Keep only the future dates we generated\n",
    "            future_data = recent_data[recent_data['Date'] > last_date].copy()\n",
    "            pred_data = future_data[(future_data['Date'] >= start_date) & (future_data['Date'] <= end_date)].copy()\n",
    "    \n",
    "    # Prepare observations for prediction\n",
    "    obs = np.column_stack([\n",
    "        pred_data['Volatility'].values, \n",
    "        pred_data['Return'].values,\n",
    "        pred_data['LogVIX_Ratio'].values\n",
    "    ])\n",
    "    \n",
    "    # Predict regimes\n",
    "    predictions = model.predict(obs)\n",
    "    \n",
    "    # Add predictions to dataframe\n",
    "    pred_data['Predicted_Regime'] = predictions\n",
    "    pred_data['Regime_Label'] = [regime_labels[r] for r in predictions]\n",
    "    \n",
    "    print(f\"Predicted regimes for period {start_date} to {end_date}\")\n",
    "    print(f\"Data points: {len(pred_data)}\")\n",
    "    \n",
    "    # Calculate regime distribution\n",
    "    regime_counts = pd.Series(predictions).value_counts(normalize=True) * 100\n",
    "    print(\"\\nRegime Distribution:\")\n",
    "    for regime, percentage in regime_counts.items():\n",
    "        print(f\"Regime {regime} [{regime_labels[regime]}]: {percentage:.2f}%\")\n",
    "    \n",
    "    return pred_data[['Date', 'Close', 'VIX', 'LogVIX', 'Volatility', 'Return', 'Predicted_Regime', 'Regime_Label']]"
   ]
  },
  {
   "cell_type": "code",
   "execution_count": 62,
   "metadata": {},
   "outputs": [
    {
     "name": "stdout",
     "output_type": "stream",
     "text": [
      "Predicted regimes for period 2025-01-11 to 2025-04-11\n",
      "Data points: 62\n",
      "\n",
      "Regime Distribution:\n",
      "Regime 1 [Neutral]: 43.55%\n",
      "Regime 2 [Bear]: 40.32%\n",
      "Regime 0 [Bull]: 16.13%\n"
     ]
    },
    {
     "data": {
      "application/vnd.plotly.v1+json": {
       "config": {
        "plotlyServerURL": "https://plot.ly"
       },
       "data": [
        {
         "marker": {
          "color": "rgb(102,194,165)",
          "size": 6
         },
         "mode": "markers",
         "name": "Regime 0: Bull",
         "showlegend": true,
         "type": "scatter",
         "x": [
          "2025-01-13T00:00:00.000000000",
          "2025-02-05T00:00:00.000000000",
          "2025-02-06T00:00:00.000000000",
          "2025-02-07T00:00:00.000000000",
          "2025-02-10T00:00:00.000000000",
          "2025-02-11T00:00:00.000000000",
          "2025-02-12T00:00:00.000000000",
          "2025-02-13T00:00:00.000000000",
          "2025-02-14T00:00:00.000000000",
          "2025-02-18T00:00:00.000000000"
         ],
         "xaxis": "x",
         "y": {
          "bdata": "AAAAoCsdgkAAAAAgQ9OCQAAAACAD5IJAAAAA4L63gkAAAACASdiCQAAAAOD024JAAAAAQGfMgkAAAADgNf+CQAAAAKD4/oJAAAAAgD8Ng0A=",
          "dtype": "f8"
         },
         "yaxis": "y"
        },
        {
         "marker": {
          "color": "rgb(252,141,98)",
          "size": 6
         },
         "mode": "markers",
         "name": "Regime 1: Neutral",
         "showlegend": true,
         "type": "scatter",
         "x": [
          "2025-01-14T00:00:00.000000000",
          "2025-01-15T00:00:00.000000000",
          "2025-01-16T00:00:00.000000000",
          "2025-01-17T00:00:00.000000000",
          "2025-01-21T00:00:00.000000000",
          "2025-01-29T00:00:00.000000000",
          "2025-01-30T00:00:00.000000000",
          "2025-01-31T00:00:00.000000000",
          "2025-02-03T00:00:00.000000000",
          "2025-02-04T00:00:00.000000000",
          "2025-02-19T00:00:00.000000000",
          "2025-02-20T00:00:00.000000000",
          "2025-02-21T00:00:00.000000000",
          "2025-02-24T00:00:00.000000000",
          "2025-02-25T00:00:00.000000000",
          "2025-02-26T00:00:00.000000000",
          "2025-03-19T00:00:00.000000000",
          "2025-03-20T00:00:00.000000000",
          "2025-03-21T00:00:00.000000000",
          "2025-03-24T00:00:00.000000000",
          "2025-03-25T00:00:00.000000000",
          "2025-03-26T00:00:00.000000000",
          "2025-03-27T00:00:00.000000000",
          "2025-03-28T00:00:00.000000000",
          "2025-03-31T00:00:00.000000000",
          "2025-04-01T00:00:00.000000000",
          "2025-04-02T00:00:00.000000000"
         ],
         "xaxis": "x",
         "y": {
          "bdata": "AAAAII0jgkAAAACABHiCQAAAAMDsboJAAAAAYE2egkAAAABA7smCQAAAAGAKwIJAAAAAgM3ZgkAAAADAHsCCQAAAAEDRn4JAAAAAIM2/gkAAAADAuxiDQAAAACBlBINAAAAAICCxgkAAAADgWZuCQAAAAICpg4JAAAAAAA6GgkAAAADAbquBQAAAACBanoFAAAAAANefgUAAAADgo/CBQAAAACCu+4FAAAAAYLjEgUAAAADgo7iBQAAAAKBHXYFAAAAAwB57gUAAAACAwoeBQAAAAAAppIFA",
          "dtype": "f8"
         },
         "yaxis": "y"
        },
        {
         "marker": {
          "color": "rgb(141,160,203)",
          "size": 6
         },
         "mode": "markers",
         "name": "Regime 2: Bear",
         "showlegend": true,
         "type": "scatter",
         "x": [
          "2025-01-22T00:00:00.000000000",
          "2025-01-23T00:00:00.000000000",
          "2025-01-24T00:00:00.000000000",
          "2025-01-27T00:00:00.000000000",
          "2025-01-28T00:00:00.000000000",
          "2025-02-27T00:00:00.000000000",
          "2025-02-28T00:00:00.000000000",
          "2025-03-03T00:00:00.000000000",
          "2025-03-04T00:00:00.000000000",
          "2025-03-05T00:00:00.000000000",
          "2025-03-06T00:00:00.000000000",
          "2025-03-07T00:00:00.000000000",
          "2025-03-10T00:00:00.000000000",
          "2025-03-11T00:00:00.000000000",
          "2025-03-12T00:00:00.000000000",
          "2025-03-13T00:00:00.000000000",
          "2025-03-14T00:00:00.000000000",
          "2025-03-17T00:00:00.000000000",
          "2025-03-18T00:00:00.000000000",
          "2025-04-03T00:00:00.000000000",
          "2025-04-04T00:00:00.000000000",
          "2025-04-07T00:00:00.000000000",
          "2025-04-08T00:00:00.000000000",
          "2025-04-09T00:00:00.000000000",
          "2025-04-10T00:00:00.000000000"
         ],
         "xaxis": "x",
         "y": {
          "bdata": "AAAAIPjkgkAAAADAXv+CQAAAACAs8YJAAAAAQJSsgkAAAADgp9WCQAAAAMBcOoJAAAAAAC+DgkAAAABAJzCCQAAAAAAK+YFAAAAAgH0qgkAAAABg8NeBQAAAAKCK8YFAAAAAoDB3gUAAAACABVKBQAAAAACNaYFAAAAAICEugUAAAADg+YiBQAAAAKCXq4FAAAAAALN6gUAAAACgmcWAQAAAAOB6lH9AAAAAgBSGf0AAAAAgrgd/QAAAAMD1JIFAAAAA4KNkgEA=",
          "dtype": "f8"
         },
         "yaxis": "y"
        },
        {
         "line": {
          "color": "rgba(0,0,0,0.3)"
         },
         "mode": "lines",
         "name": "SPY Price",
         "showlegend": true,
         "type": "scatter",
         "x": [
          "2025-01-13T00:00:00.000000000",
          "2025-01-14T00:00:00.000000000",
          "2025-01-15T00:00:00.000000000",
          "2025-01-16T00:00:00.000000000",
          "2025-01-17T00:00:00.000000000",
          "2025-01-21T00:00:00.000000000",
          "2025-01-22T00:00:00.000000000",
          "2025-01-23T00:00:00.000000000",
          "2025-01-24T00:00:00.000000000",
          "2025-01-27T00:00:00.000000000",
          "2025-01-28T00:00:00.000000000",
          "2025-01-29T00:00:00.000000000",
          "2025-01-30T00:00:00.000000000",
          "2025-01-31T00:00:00.000000000",
          "2025-02-03T00:00:00.000000000",
          "2025-02-04T00:00:00.000000000",
          "2025-02-05T00:00:00.000000000",
          "2025-02-06T00:00:00.000000000",
          "2025-02-07T00:00:00.000000000",
          "2025-02-10T00:00:00.000000000",
          "2025-02-11T00:00:00.000000000",
          "2025-02-12T00:00:00.000000000",
          "2025-02-13T00:00:00.000000000",
          "2025-02-14T00:00:00.000000000",
          "2025-02-18T00:00:00.000000000",
          "2025-02-19T00:00:00.000000000",
          "2025-02-20T00:00:00.000000000",
          "2025-02-21T00:00:00.000000000",
          "2025-02-24T00:00:00.000000000",
          "2025-02-25T00:00:00.000000000",
          "2025-02-26T00:00:00.000000000",
          "2025-02-27T00:00:00.000000000",
          "2025-02-28T00:00:00.000000000",
          "2025-03-03T00:00:00.000000000",
          "2025-03-04T00:00:00.000000000",
          "2025-03-05T00:00:00.000000000",
          "2025-03-06T00:00:00.000000000",
          "2025-03-07T00:00:00.000000000",
          "2025-03-10T00:00:00.000000000",
          "2025-03-11T00:00:00.000000000",
          "2025-03-12T00:00:00.000000000",
          "2025-03-13T00:00:00.000000000",
          "2025-03-14T00:00:00.000000000",
          "2025-03-17T00:00:00.000000000",
          "2025-03-18T00:00:00.000000000",
          "2025-03-19T00:00:00.000000000",
          "2025-03-20T00:00:00.000000000",
          "2025-03-21T00:00:00.000000000",
          "2025-03-24T00:00:00.000000000",
          "2025-03-25T00:00:00.000000000",
          "2025-03-26T00:00:00.000000000",
          "2025-03-27T00:00:00.000000000",
          "2025-03-28T00:00:00.000000000",
          "2025-03-31T00:00:00.000000000",
          "2025-04-01T00:00:00.000000000",
          "2025-04-02T00:00:00.000000000",
          "2025-04-03T00:00:00.000000000",
          "2025-04-04T00:00:00.000000000",
          "2025-04-07T00:00:00.000000000",
          "2025-04-08T00:00:00.000000000",
          "2025-04-09T00:00:00.000000000",
          "2025-04-10T00:00:00.000000000"
         ],
         "xaxis": "x",
         "y": {
          "bdata": "AAAAoCsdgkAAAAAgjSOCQAAAAIAEeIJAAAAAwOxugkAAAABgTZ6CQAAAAEDuyYJAAAAAIPjkgkAAAADAXv+CQAAAACAs8YJAAAAAQJSsgkAAAADgp9WCQAAAAGAKwIJAAAAAgM3ZgkAAAADAHsCCQAAAAEDRn4JAAAAAIM2/gkAAAAAgQ9OCQAAAACAD5IJAAAAA4L63gkAAAACASdiCQAAAAOD024JAAAAAQGfMgkAAAADgNf+CQAAAAKD4/oJAAAAAgD8Ng0AAAADAuxiDQAAAACBlBINAAAAAICCxgkAAAADgWZuCQAAAAICpg4JAAAAAAA6GgkAAAADAXDqCQAAAAAAvg4JAAAAAQCcwgkAAAAAACvmBQAAAAIB9KoJAAAAAYPDXgUAAAACgivGBQAAAAKAwd4FAAAAAgAVSgUAAAAAAjWmBQAAAACAhLoFAAAAA4PmIgUAAAACgl6uBQAAAAACzeoFAAAAAwG6rgUAAAAAgWp6BQAAAAADXn4FAAAAA4KPwgUAAAAAgrvuBQAAAAGC4xIFAAAAA4KO4gUAAAACgR12BQAAAAMAee4FAAAAAgMKHgUAAAAAAKaSBQAAAAKCZxYBAAAAA4HqUf0AAAACAFIZ/QAAAACCuB39AAAAAwPUkgUAAAADgo2SAQA==",
          "dtype": "f8"
         },
         "yaxis": "y"
        },
        {
         "marker": {
          "color": "rgb(102,194,165)",
          "size": 6
         },
         "mode": "markers",
         "name": "Regime 0: Bull",
         "showlegend": false,
         "type": "scatter",
         "x": [
          "2025-01-13T00:00:00.000000000",
          "2025-02-05T00:00:00.000000000",
          "2025-02-06T00:00:00.000000000",
          "2025-02-07T00:00:00.000000000",
          "2025-02-10T00:00:00.000000000",
          "2025-02-11T00:00:00.000000000",
          "2025-02-12T00:00:00.000000000",
          "2025-02-13T00:00:00.000000000",
          "2025-02-14T00:00:00.000000000",
          "2025-02-18T00:00:00.000000000"
         ],
         "xaxis": "x2",
         "y": {
          "bdata": "AAAA4KMwM0AAAACAPYovQAAAAAAAAC9AAAAAgD2KMEAAAABguJ4vQAAAAMAeBTBAAAAAIK7HL0AAAABAMzMuQAAAAIA9ii1AAAAAQDOzLkA=",
          "dtype": "f8"
         },
         "yaxis": "y2"
        },
        {
         "marker": {
          "color": "rgb(252,141,98)",
          "size": 6
         },
         "mode": "markers",
         "name": "Regime 1: Neutral",
         "showlegend": false,
         "type": "scatter",
         "x": [
          "2025-01-14T00:00:00.000000000",
          "2025-01-15T00:00:00.000000000",
          "2025-01-16T00:00:00.000000000",
          "2025-01-17T00:00:00.000000000",
          "2025-01-21T00:00:00.000000000",
          "2025-01-29T00:00:00.000000000",
          "2025-01-30T00:00:00.000000000",
          "2025-01-31T00:00:00.000000000",
          "2025-02-03T00:00:00.000000000",
          "2025-02-04T00:00:00.000000000",
          "2025-02-19T00:00:00.000000000",
          "2025-02-20T00:00:00.000000000",
          "2025-02-21T00:00:00.000000000",
          "2025-02-24T00:00:00.000000000",
          "2025-02-25T00:00:00.000000000",
          "2025-02-26T00:00:00.000000000",
          "2025-03-19T00:00:00.000000000",
          "2025-03-20T00:00:00.000000000",
          "2025-03-21T00:00:00.000000000",
          "2025-03-24T00:00:00.000000000",
          "2025-03-25T00:00:00.000000000",
          "2025-03-26T00:00:00.000000000",
          "2025-03-27T00:00:00.000000000",
          "2025-03-28T00:00:00.000000000",
          "2025-03-31T00:00:00.000000000",
          "2025-04-01T00:00:00.000000000",
          "2025-04-02T00:00:00.000000000"
         ],
         "xaxis": "x2",
         "y": {
          "bdata": "AAAAgMK1MkAAAABguB4wQAAAAKCZmTBAAAAA4KPwL0AAAABguB4uQAAAACBcjzBAAAAAgBSuL0AAAACAFG4wQAAAAGC4njJAAAAAgMI1MUAAAACAPYouQAAAAIDrUS9AAAAAgMI1MkAAAABA4foyQAAAAIAUbjNAAAAAoJkZM0AAAABgZuYzQAAAAMDMzDNAAAAAIK5HM0AAAABA4XoxQAAAAGBmJjFAAAAA4HpUMkAAAADgo7AyQAAAAGBmpjVAAAAAIK5HNkAAAADAHsU1QAAAAGCPgjVA",
          "dtype": "f8"
         },
         "yaxis": "y2"
        },
        {
         "marker": {
          "color": "rgb(141,160,203)",
          "size": 6
         },
         "mode": "markers",
         "name": "Regime 2: Bear",
         "showlegend": false,
         "type": "scatter",
         "x": [
          "2025-01-22T00:00:00.000000000",
          "2025-01-23T00:00:00.000000000",
          "2025-01-24T00:00:00.000000000",
          "2025-01-27T00:00:00.000000000",
          "2025-01-28T00:00:00.000000000",
          "2025-02-27T00:00:00.000000000",
          "2025-02-28T00:00:00.000000000",
          "2025-03-03T00:00:00.000000000",
          "2025-03-04T00:00:00.000000000",
          "2025-03-05T00:00:00.000000000",
          "2025-03-06T00:00:00.000000000",
          "2025-03-07T00:00:00.000000000",
          "2025-03-10T00:00:00.000000000",
          "2025-03-11T00:00:00.000000000",
          "2025-03-12T00:00:00.000000000",
          "2025-03-13T00:00:00.000000000",
          "2025-03-14T00:00:00.000000000",
          "2025-03-17T00:00:00.000000000",
          "2025-03-18T00:00:00.000000000",
          "2025-04-03T00:00:00.000000000",
          "2025-04-04T00:00:00.000000000",
          "2025-04-07T00:00:00.000000000",
          "2025-04-08T00:00:00.000000000",
          "2025-04-09T00:00:00.000000000",
          "2025-04-10T00:00:00.000000000"
         ],
         "xaxis": "x2",
         "y": {
          "bdata": "AAAAQDMzLkAAAACAPQouQAAAAEAzsy1AAAAAYGbmMUAAAADA9WgwQAAAAKBHITVAAAAAoEehM0AAAAAgrsc2QAAAAGCPgjdAAAAAgBTuNUAAAABguN44QAAAAGC4XjdAAAAAACncO0AAAAAghes6QAAAAEDhOjhAAAAAwPWoOEAAAADAHsU1QAAAAGCPgjRAAAAAQDOzNUAAAADAHgU+QAAAACCup0ZAAAAAoHB9R0AAAACAPSpKQAAAACBcz0BAAAAAAClcREA=",
          "dtype": "f8"
         },
         "yaxis": "y2"
        },
        {
         "line": {
          "color": "rgba(0,0,0,0.3)"
         },
         "mode": "lines",
         "name": "VIX",
         "showlegend": true,
         "type": "scatter",
         "x": [
          "2025-01-13T00:00:00.000000000",
          "2025-01-14T00:00:00.000000000",
          "2025-01-15T00:00:00.000000000",
          "2025-01-16T00:00:00.000000000",
          "2025-01-17T00:00:00.000000000",
          "2025-01-21T00:00:00.000000000",
          "2025-01-22T00:00:00.000000000",
          "2025-01-23T00:00:00.000000000",
          "2025-01-24T00:00:00.000000000",
          "2025-01-27T00:00:00.000000000",
          "2025-01-28T00:00:00.000000000",
          "2025-01-29T00:00:00.000000000",
          "2025-01-30T00:00:00.000000000",
          "2025-01-31T00:00:00.000000000",
          "2025-02-03T00:00:00.000000000",
          "2025-02-04T00:00:00.000000000",
          "2025-02-05T00:00:00.000000000",
          "2025-02-06T00:00:00.000000000",
          "2025-02-07T00:00:00.000000000",
          "2025-02-10T00:00:00.000000000",
          "2025-02-11T00:00:00.000000000",
          "2025-02-12T00:00:00.000000000",
          "2025-02-13T00:00:00.000000000",
          "2025-02-14T00:00:00.000000000",
          "2025-02-18T00:00:00.000000000",
          "2025-02-19T00:00:00.000000000",
          "2025-02-20T00:00:00.000000000",
          "2025-02-21T00:00:00.000000000",
          "2025-02-24T00:00:00.000000000",
          "2025-02-25T00:00:00.000000000",
          "2025-02-26T00:00:00.000000000",
          "2025-02-27T00:00:00.000000000",
          "2025-02-28T00:00:00.000000000",
          "2025-03-03T00:00:00.000000000",
          "2025-03-04T00:00:00.000000000",
          "2025-03-05T00:00:00.000000000",
          "2025-03-06T00:00:00.000000000",
          "2025-03-07T00:00:00.000000000",
          "2025-03-10T00:00:00.000000000",
          "2025-03-11T00:00:00.000000000",
          "2025-03-12T00:00:00.000000000",
          "2025-03-13T00:00:00.000000000",
          "2025-03-14T00:00:00.000000000",
          "2025-03-17T00:00:00.000000000",
          "2025-03-18T00:00:00.000000000",
          "2025-03-19T00:00:00.000000000",
          "2025-03-20T00:00:00.000000000",
          "2025-03-21T00:00:00.000000000",
          "2025-03-24T00:00:00.000000000",
          "2025-03-25T00:00:00.000000000",
          "2025-03-26T00:00:00.000000000",
          "2025-03-27T00:00:00.000000000",
          "2025-03-28T00:00:00.000000000",
          "2025-03-31T00:00:00.000000000",
          "2025-04-01T00:00:00.000000000",
          "2025-04-02T00:00:00.000000000",
          "2025-04-03T00:00:00.000000000",
          "2025-04-04T00:00:00.000000000",
          "2025-04-07T00:00:00.000000000",
          "2025-04-08T00:00:00.000000000",
          "2025-04-09T00:00:00.000000000",
          "2025-04-10T00:00:00.000000000"
         ],
         "xaxis": "x2",
         "y": {
          "bdata": "AAAA4KMwM0AAAACAwrUyQAAAAGC4HjBAAAAAoJmZMEAAAADgo/AvQAAAAGC4Hi5AAAAAQDMzLkAAAACAPQouQAAAAEAzsy1AAAAAYGbmMUAAAADA9WgwQAAAACBcjzBAAAAAgBSuL0AAAACAFG4wQAAAAGC4njJAAAAAgMI1MUAAAACAPYovQAAAAAAAAC9AAAAAgD2KMEAAAABguJ4vQAAAAMAeBTBAAAAAIK7HL0AAAABAMzMuQAAAAIA9ii1AAAAAQDOzLkAAAACAPYouQAAAAIDrUS9AAAAAgMI1MkAAAABA4foyQAAAAIAUbjNAAAAAoJkZM0AAAACgRyE1QAAAAKBHoTNAAAAAIK7HNkAAAABgj4I3QAAAAIAU7jVAAAAAYLjeOEAAAABguF43QAAAAAAp3DtAAAAAIIXrOkAAAABA4To4QAAAAMD1qDhAAAAAwB7FNUAAAABgj4I0QAAAAEAzszVAAAAAYGbmM0AAAADAzMwzQAAAACCuRzNAAAAAQOF6MUAAAABgZiYxQAAAAOB6VDJAAAAA4KOwMkAAAABgZqY1QAAAACCuRzZAAAAAwB7FNUAAAABgj4I1QAAAAMAeBT5AAAAAIK6nRkAAAACgcH1HQAAAAIA9KkpAAAAAIFzPQEAAAAAAKVxEQA==",
          "dtype": "f8"
         },
         "yaxis": "y2"
        },
        {
         "marker": {
          "color": "rgb(102,194,165)",
          "size": 6
         },
         "mode": "markers",
         "name": "Regime 0: Bull",
         "showlegend": false,
         "type": "scatter",
         "x": [
          "2025-01-13T00:00:00.000000000",
          "2025-02-05T00:00:00.000000000",
          "2025-02-06T00:00:00.000000000",
          "2025-02-07T00:00:00.000000000",
          "2025-02-10T00:00:00.000000000",
          "2025-02-11T00:00:00.000000000",
          "2025-02-12T00:00:00.000000000",
          "2025-02-13T00:00:00.000000000",
          "2025-02-14T00:00:00.000000000",
          "2025-02-18T00:00:00.000000000"
         ],
         "xaxis": "x3",
         "y": {
          "bdata": "nbiN4JaiB0CaMkWtmxAGQN6c0og97QVAeh4Ssz1yBkA5dQfUyxUGQFbNM/bRMAZAnAhxFCIgBkBYsh7ksbcFQIVOGONwigVAbXcqFVPZBUA=",
          "dtype": "f8"
         },
         "yaxis": "y3"
        },
        {
         "marker": {
          "color": "rgb(252,141,98)",
          "size": 6
         },
         "mode": "markers",
         "name": "Regime 1: Neutral",
         "showlegend": false,
         "type": "scatter",
         "x": [
          "2025-01-14T00:00:00.000000000",
          "2025-01-15T00:00:00.000000000",
          "2025-01-16T00:00:00.000000000",
          "2025-01-17T00:00:00.000000000",
          "2025-01-21T00:00:00.000000000",
          "2025-01-29T00:00:00.000000000",
          "2025-01-30T00:00:00.000000000",
          "2025-01-31T00:00:00.000000000",
          "2025-02-03T00:00:00.000000000",
          "2025-02-04T00:00:00.000000000",
          "2025-02-19T00:00:00.000000000",
          "2025-02-20T00:00:00.000000000",
          "2025-02-21T00:00:00.000000000",
          "2025-02-24T00:00:00.000000000",
          "2025-02-25T00:00:00.000000000",
          "2025-02-26T00:00:00.000000000",
          "2025-03-19T00:00:00.000000000",
          "2025-03-20T00:00:00.000000000",
          "2025-03-21T00:00:00.000000000",
          "2025-03-24T00:00:00.000000000",
          "2025-03-25T00:00:00.000000000",
          "2025-03-26T00:00:00.000000000",
          "2025-03-27T00:00:00.000000000",
          "2025-03-28T00:00:00.000000000",
          "2025-03-31T00:00:00.000000000",
          "2025-04-01T00:00:00.000000000",
          "2025-04-02T00:00:00.000000000"
         ],
         "xaxis": "x3",
         "y": {
          "bdata": "QJQzArZuB0Ba/dGCkD0GQIuZ5CGoeQZA3bjBCmsqBkAYBxE1Q7IFQIaf+zu3dAZAhMcGu60ZBkAj88Y7k2QGQOiXlwLWZAdAhQecjZDDBkCLtpp+n84FQKOb1spFAgZA0/dUfTw3B0BjHo3WDYwHQHUhzzgLvAdABspRNfaYB0C6nud0/uwHQBN+CTGt4gdAyA2NAyysB0AeC2UIcuMGQEdf24ZpvAZA5FAfILBEB0CB6jdQhWwHQCacUXOcmQhAGuTXIVvUCECG+11u7qQIQNE2GiRTjAhA",
          "dtype": "f8"
         },
         "yaxis": "y3"
        },
        {
         "marker": {
          "color": "rgb(141,160,203)",
          "size": 6
         },
         "mode": "markers",
         "name": "Regime 2: Bear",
         "showlegend": false,
         "type": "scatter",
         "x": [
          "2025-01-22T00:00:00.000000000",
          "2025-01-23T00:00:00.000000000",
          "2025-01-24T00:00:00.000000000",
          "2025-01-27T00:00:00.000000000",
          "2025-01-28T00:00:00.000000000",
          "2025-02-27T00:00:00.000000000",
          "2025-02-28T00:00:00.000000000",
          "2025-03-03T00:00:00.000000000",
          "2025-03-04T00:00:00.000000000",
          "2025-03-05T00:00:00.000000000",
          "2025-03-06T00:00:00.000000000",
          "2025-03-07T00:00:00.000000000",
          "2025-03-10T00:00:00.000000000",
          "2025-03-11T00:00:00.000000000",
          "2025-03-12T00:00:00.000000000",
          "2025-03-13T00:00:00.000000000",
          "2025-03-14T00:00:00.000000000",
          "2025-03-17T00:00:00.000000000",
          "2025-03-18T00:00:00.000000000",
          "2025-04-03T00:00:00.000000000",
          "2025-04-04T00:00:00.000000000",
          "2025-04-07T00:00:00.000000000",
          "2025-04-08T00:00:00.000000000",
          "2025-04-09T00:00:00.000000000",
          "2025-04-10T00:00:00.000000000"
         ],
         "xaxis": "x3",
         "y": {
          "bdata": "WLIe5LG3BUBzFSrT0KwFQA98gfeAlQVArfyMYhIUB0C4BDqfFGIGQM/rkiXSZwhAAet5SgTRB0AhNqrwzgEJQPsm6H5oQglAfGjZn+2zCED1HFWTlLUJQM8YURYtNglAqWuN1RaeCkBSd+n3y1cKQBOeD/svgAlASE3XtzakCUCG+11u7qQIQEDbaDfUKghA3wyt6FWeCECy6sNjBDcLQCm4gNsagg5AKB0tCDvMDkCwwWNiGqkPQP6eLc/3HgxAeuB/gFynDUA=",
          "dtype": "f8"
         },
         "yaxis": "y3"
        },
        {
         "line": {
          "color": "rgba(0,0,0,0.3)"
         },
         "mode": "lines",
         "name": "LogVIX",
         "showlegend": true,
         "type": "scatter",
         "x": [
          "2025-01-13T00:00:00.000000000",
          "2025-01-14T00:00:00.000000000",
          "2025-01-15T00:00:00.000000000",
          "2025-01-16T00:00:00.000000000",
          "2025-01-17T00:00:00.000000000",
          "2025-01-21T00:00:00.000000000",
          "2025-01-22T00:00:00.000000000",
          "2025-01-23T00:00:00.000000000",
          "2025-01-24T00:00:00.000000000",
          "2025-01-27T00:00:00.000000000",
          "2025-01-28T00:00:00.000000000",
          "2025-01-29T00:00:00.000000000",
          "2025-01-30T00:00:00.000000000",
          "2025-01-31T00:00:00.000000000",
          "2025-02-03T00:00:00.000000000",
          "2025-02-04T00:00:00.000000000",
          "2025-02-05T00:00:00.000000000",
          "2025-02-06T00:00:00.000000000",
          "2025-02-07T00:00:00.000000000",
          "2025-02-10T00:00:00.000000000",
          "2025-02-11T00:00:00.000000000",
          "2025-02-12T00:00:00.000000000",
          "2025-02-13T00:00:00.000000000",
          "2025-02-14T00:00:00.000000000",
          "2025-02-18T00:00:00.000000000",
          "2025-02-19T00:00:00.000000000",
          "2025-02-20T00:00:00.000000000",
          "2025-02-21T00:00:00.000000000",
          "2025-02-24T00:00:00.000000000",
          "2025-02-25T00:00:00.000000000",
          "2025-02-26T00:00:00.000000000",
          "2025-02-27T00:00:00.000000000",
          "2025-02-28T00:00:00.000000000",
          "2025-03-03T00:00:00.000000000",
          "2025-03-04T00:00:00.000000000",
          "2025-03-05T00:00:00.000000000",
          "2025-03-06T00:00:00.000000000",
          "2025-03-07T00:00:00.000000000",
          "2025-03-10T00:00:00.000000000",
          "2025-03-11T00:00:00.000000000",
          "2025-03-12T00:00:00.000000000",
          "2025-03-13T00:00:00.000000000",
          "2025-03-14T00:00:00.000000000",
          "2025-03-17T00:00:00.000000000",
          "2025-03-18T00:00:00.000000000",
          "2025-03-19T00:00:00.000000000",
          "2025-03-20T00:00:00.000000000",
          "2025-03-21T00:00:00.000000000",
          "2025-03-24T00:00:00.000000000",
          "2025-03-25T00:00:00.000000000",
          "2025-03-26T00:00:00.000000000",
          "2025-03-27T00:00:00.000000000",
          "2025-03-28T00:00:00.000000000",
          "2025-03-31T00:00:00.000000000",
          "2025-04-01T00:00:00.000000000",
          "2025-04-02T00:00:00.000000000",
          "2025-04-03T00:00:00.000000000",
          "2025-04-04T00:00:00.000000000",
          "2025-04-07T00:00:00.000000000",
          "2025-04-08T00:00:00.000000000",
          "2025-04-09T00:00:00.000000000",
          "2025-04-10T00:00:00.000000000"
         ],
         "xaxis": "x3",
         "y": {
          "bdata": "nbiN4JaiB0BAlDMCtm4HQFr90YKQPQZAi5nkIah5BkDduMEKayoGQBgHETVDsgVAWLIe5LG3BUBzFSrT0KwFQA98gfeAlQVArfyMYhIUB0C4BDqfFGIGQIaf+zu3dAZAhMcGu60ZBkAj88Y7k2QGQOiXlwLWZAdAhQecjZDDBkCaMkWtmxAGQN6c0og97QVAeh4Ssz1yBkA5dQfUyxUGQFbNM/bRMAZAnAhxFCIgBkBYsh7ksbcFQIVOGONwigVAbXcqFVPZBUCLtpp+n84FQKOb1spFAgZA0/dUfTw3B0BjHo3WDYwHQHUhzzgLvAdABspRNfaYB0DP65Il0mcIQAHreUoE0QdAITaq8M4BCUD7Juh+aEIJQHxo2Z/tswhA9RxVk5S1CUDPGFEWLTYJQKlrjdUWngpAUnfp98tXCkATng/7L4AJQEhN17c2pAlAhvtdbu6kCEBA22g31CoIQN8MrehVnghAup7ndP7sB0ATfgkxreIHQMgNjQMsrAdAHgtlCHLjBkBHX9uGabwGQORQHyCwRAdAgeo3UIVsB0AmnFFznJkIQBrk1yFb1AhAhvtdbu6kCEDRNhokU4wIQLLqw2MENwtAKbiA2xqCDkAoHS0IO8wOQLDBY2IaqQ9A/p4tz/ceDEB64H+AXKcNQA==",
          "dtype": "f8"
         },
         "yaxis": "y3"
        }
       ],
       "layout": {
        "annotations": [
         {
          "font": {
           "size": 16
          },
          "showarrow": false,
          "text": "SPY Close Price by Regime",
          "x": 0.5,
          "xanchor": "center",
          "xref": "paper",
          "y": 1,
          "yanchor": "bottom",
          "yref": "paper"
         },
         {
          "font": {
           "size": 16
          },
          "showarrow": false,
          "text": "VIX by Regime",
          "x": 0.5,
          "xanchor": "center",
          "xref": "paper",
          "y": 0.6333333333333333,
          "yanchor": "bottom",
          "yref": "paper"
         },
         {
          "font": {
           "size": 16
          },
          "showarrow": false,
          "text": "LogVIX by Regime",
          "x": 0.5,
          "xanchor": "center",
          "xref": "paper",
          "y": 0.26666666666666666,
          "yanchor": "bottom",
          "yref": "paper"
         }
        ],
        "height": 1000,
        "hovermode": "closest",
        "legend": {
         "title": {
          "text": "Regime"
         }
        },
        "template": {
         "data": {
          "bar": [
           {
            "error_x": {
             "color": "#2a3f5f"
            },
            "error_y": {
             "color": "#2a3f5f"
            },
            "marker": {
             "line": {
              "color": "white",
              "width": 0.5
             },
             "pattern": {
              "fillmode": "overlay",
              "size": 10,
              "solidity": 0.2
             }
            },
            "type": "bar"
           }
          ],
          "barpolar": [
           {
            "marker": {
             "line": {
              "color": "white",
              "width": 0.5
             },
             "pattern": {
              "fillmode": "overlay",
              "size": 10,
              "solidity": 0.2
             }
            },
            "type": "barpolar"
           }
          ],
          "carpet": [
           {
            "aaxis": {
             "endlinecolor": "#2a3f5f",
             "gridcolor": "#C8D4E3",
             "linecolor": "#C8D4E3",
             "minorgridcolor": "#C8D4E3",
             "startlinecolor": "#2a3f5f"
            },
            "baxis": {
             "endlinecolor": "#2a3f5f",
             "gridcolor": "#C8D4E3",
             "linecolor": "#C8D4E3",
             "minorgridcolor": "#C8D4E3",
             "startlinecolor": "#2a3f5f"
            },
            "type": "carpet"
           }
          ],
          "choropleth": [
           {
            "colorbar": {
             "outlinewidth": 0,
             "ticks": ""
            },
            "type": "choropleth"
           }
          ],
          "contour": [
           {
            "colorbar": {
             "outlinewidth": 0,
             "ticks": ""
            },
            "colorscale": [
             [
              0,
              "#0d0887"
             ],
             [
              0.1111111111111111,
              "#46039f"
             ],
             [
              0.2222222222222222,
              "#7201a8"
             ],
             [
              0.3333333333333333,
              "#9c179e"
             ],
             [
              0.4444444444444444,
              "#bd3786"
             ],
             [
              0.5555555555555556,
              "#d8576b"
             ],
             [
              0.6666666666666666,
              "#ed7953"
             ],
             [
              0.7777777777777778,
              "#fb9f3a"
             ],
             [
              0.8888888888888888,
              "#fdca26"
             ],
             [
              1,
              "#f0f921"
             ]
            ],
            "type": "contour"
           }
          ],
          "contourcarpet": [
           {
            "colorbar": {
             "outlinewidth": 0,
             "ticks": ""
            },
            "type": "contourcarpet"
           }
          ],
          "heatmap": [
           {
            "colorbar": {
             "outlinewidth": 0,
             "ticks": ""
            },
            "colorscale": [
             [
              0,
              "#0d0887"
             ],
             [
              0.1111111111111111,
              "#46039f"
             ],
             [
              0.2222222222222222,
              "#7201a8"
             ],
             [
              0.3333333333333333,
              "#9c179e"
             ],
             [
              0.4444444444444444,
              "#bd3786"
             ],
             [
              0.5555555555555556,
              "#d8576b"
             ],
             [
              0.6666666666666666,
              "#ed7953"
             ],
             [
              0.7777777777777778,
              "#fb9f3a"
             ],
             [
              0.8888888888888888,
              "#fdca26"
             ],
             [
              1,
              "#f0f921"
             ]
            ],
            "type": "heatmap"
           }
          ],
          "histogram": [
           {
            "marker": {
             "pattern": {
              "fillmode": "overlay",
              "size": 10,
              "solidity": 0.2
             }
            },
            "type": "histogram"
           }
          ],
          "histogram2d": [
           {
            "colorbar": {
             "outlinewidth": 0,
             "ticks": ""
            },
            "colorscale": [
             [
              0,
              "#0d0887"
             ],
             [
              0.1111111111111111,
              "#46039f"
             ],
             [
              0.2222222222222222,
              "#7201a8"
             ],
             [
              0.3333333333333333,
              "#9c179e"
             ],
             [
              0.4444444444444444,
              "#bd3786"
             ],
             [
              0.5555555555555556,
              "#d8576b"
             ],
             [
              0.6666666666666666,
              "#ed7953"
             ],
             [
              0.7777777777777778,
              "#fb9f3a"
             ],
             [
              0.8888888888888888,
              "#fdca26"
             ],
             [
              1,
              "#f0f921"
             ]
            ],
            "type": "histogram2d"
           }
          ],
          "histogram2dcontour": [
           {
            "colorbar": {
             "outlinewidth": 0,
             "ticks": ""
            },
            "colorscale": [
             [
              0,
              "#0d0887"
             ],
             [
              0.1111111111111111,
              "#46039f"
             ],
             [
              0.2222222222222222,
              "#7201a8"
             ],
             [
              0.3333333333333333,
              "#9c179e"
             ],
             [
              0.4444444444444444,
              "#bd3786"
             ],
             [
              0.5555555555555556,
              "#d8576b"
             ],
             [
              0.6666666666666666,
              "#ed7953"
             ],
             [
              0.7777777777777778,
              "#fb9f3a"
             ],
             [
              0.8888888888888888,
              "#fdca26"
             ],
             [
              1,
              "#f0f921"
             ]
            ],
            "type": "histogram2dcontour"
           }
          ],
          "mesh3d": [
           {
            "colorbar": {
             "outlinewidth": 0,
             "ticks": ""
            },
            "type": "mesh3d"
           }
          ],
          "parcoords": [
           {
            "line": {
             "colorbar": {
              "outlinewidth": 0,
              "ticks": ""
             }
            },
            "type": "parcoords"
           }
          ],
          "pie": [
           {
            "automargin": true,
            "type": "pie"
           }
          ],
          "scatter": [
           {
            "fillpattern": {
             "fillmode": "overlay",
             "size": 10,
             "solidity": 0.2
            },
            "type": "scatter"
           }
          ],
          "scatter3d": [
           {
            "line": {
             "colorbar": {
              "outlinewidth": 0,
              "ticks": ""
             }
            },
            "marker": {
             "colorbar": {
              "outlinewidth": 0,
              "ticks": ""
             }
            },
            "type": "scatter3d"
           }
          ],
          "scattercarpet": [
           {
            "marker": {
             "colorbar": {
              "outlinewidth": 0,
              "ticks": ""
             }
            },
            "type": "scattercarpet"
           }
          ],
          "scattergeo": [
           {
            "marker": {
             "colorbar": {
              "outlinewidth": 0,
              "ticks": ""
             }
            },
            "type": "scattergeo"
           }
          ],
          "scattergl": [
           {
            "marker": {
             "colorbar": {
              "outlinewidth": 0,
              "ticks": ""
             }
            },
            "type": "scattergl"
           }
          ],
          "scattermap": [
           {
            "marker": {
             "colorbar": {
              "outlinewidth": 0,
              "ticks": ""
             }
            },
            "type": "scattermap"
           }
          ],
          "scattermapbox": [
           {
            "marker": {
             "colorbar": {
              "outlinewidth": 0,
              "ticks": ""
             }
            },
            "type": "scattermapbox"
           }
          ],
          "scatterpolar": [
           {
            "marker": {
             "colorbar": {
              "outlinewidth": 0,
              "ticks": ""
             }
            },
            "type": "scatterpolar"
           }
          ],
          "scatterpolargl": [
           {
            "marker": {
             "colorbar": {
              "outlinewidth": 0,
              "ticks": ""
             }
            },
            "type": "scatterpolargl"
           }
          ],
          "scatterternary": [
           {
            "marker": {
             "colorbar": {
              "outlinewidth": 0,
              "ticks": ""
             }
            },
            "type": "scatterternary"
           }
          ],
          "surface": [
           {
            "colorbar": {
             "outlinewidth": 0,
             "ticks": ""
            },
            "colorscale": [
             [
              0,
              "#0d0887"
             ],
             [
              0.1111111111111111,
              "#46039f"
             ],
             [
              0.2222222222222222,
              "#7201a8"
             ],
             [
              0.3333333333333333,
              "#9c179e"
             ],
             [
              0.4444444444444444,
              "#bd3786"
             ],
             [
              0.5555555555555556,
              "#d8576b"
             ],
             [
              0.6666666666666666,
              "#ed7953"
             ],
             [
              0.7777777777777778,
              "#fb9f3a"
             ],
             [
              0.8888888888888888,
              "#fdca26"
             ],
             [
              1,
              "#f0f921"
             ]
            ],
            "type": "surface"
           }
          ],
          "table": [
           {
            "cells": {
             "fill": {
              "color": "#EBF0F8"
             },
             "line": {
              "color": "white"
             }
            },
            "header": {
             "fill": {
              "color": "#C8D4E3"
             },
             "line": {
              "color": "white"
             }
            },
            "type": "table"
           }
          ]
         },
         "layout": {
          "annotationdefaults": {
           "arrowcolor": "#2a3f5f",
           "arrowhead": 0,
           "arrowwidth": 1
          },
          "autotypenumbers": "strict",
          "coloraxis": {
           "colorbar": {
            "outlinewidth": 0,
            "ticks": ""
           }
          },
          "colorscale": {
           "diverging": [
            [
             0,
             "#8e0152"
            ],
            [
             0.1,
             "#c51b7d"
            ],
            [
             0.2,
             "#de77ae"
            ],
            [
             0.3,
             "#f1b6da"
            ],
            [
             0.4,
             "#fde0ef"
            ],
            [
             0.5,
             "#f7f7f7"
            ],
            [
             0.6,
             "#e6f5d0"
            ],
            [
             0.7,
             "#b8e186"
            ],
            [
             0.8,
             "#7fbc41"
            ],
            [
             0.9,
             "#4d9221"
            ],
            [
             1,
             "#276419"
            ]
           ],
           "sequential": [
            [
             0,
             "#0d0887"
            ],
            [
             0.1111111111111111,
             "#46039f"
            ],
            [
             0.2222222222222222,
             "#7201a8"
            ],
            [
             0.3333333333333333,
             "#9c179e"
            ],
            [
             0.4444444444444444,
             "#bd3786"
            ],
            [
             0.5555555555555556,
             "#d8576b"
            ],
            [
             0.6666666666666666,
             "#ed7953"
            ],
            [
             0.7777777777777778,
             "#fb9f3a"
            ],
            [
             0.8888888888888888,
             "#fdca26"
            ],
            [
             1,
             "#f0f921"
            ]
           ],
           "sequentialminus": [
            [
             0,
             "#0d0887"
            ],
            [
             0.1111111111111111,
             "#46039f"
            ],
            [
             0.2222222222222222,
             "#7201a8"
            ],
            [
             0.3333333333333333,
             "#9c179e"
            ],
            [
             0.4444444444444444,
             "#bd3786"
            ],
            [
             0.5555555555555556,
             "#d8576b"
            ],
            [
             0.6666666666666666,
             "#ed7953"
            ],
            [
             0.7777777777777778,
             "#fb9f3a"
            ],
            [
             0.8888888888888888,
             "#fdca26"
            ],
            [
             1,
             "#f0f921"
            ]
           ]
          },
          "colorway": [
           "#636efa",
           "#EF553B",
           "#00cc96",
           "#ab63fa",
           "#FFA15A",
           "#19d3f3",
           "#FF6692",
           "#B6E880",
           "#FF97FF",
           "#FECB52"
          ],
          "font": {
           "color": "#2a3f5f"
          },
          "geo": {
           "bgcolor": "white",
           "lakecolor": "white",
           "landcolor": "white",
           "showlakes": true,
           "showland": true,
           "subunitcolor": "#C8D4E3"
          },
          "hoverlabel": {
           "align": "left"
          },
          "hovermode": "closest",
          "mapbox": {
           "style": "light"
          },
          "paper_bgcolor": "white",
          "plot_bgcolor": "white",
          "polar": {
           "angularaxis": {
            "gridcolor": "#EBF0F8",
            "linecolor": "#EBF0F8",
            "ticks": ""
           },
           "bgcolor": "white",
           "radialaxis": {
            "gridcolor": "#EBF0F8",
            "linecolor": "#EBF0F8",
            "ticks": ""
           }
          },
          "scene": {
           "xaxis": {
            "backgroundcolor": "white",
            "gridcolor": "#DFE8F3",
            "gridwidth": 2,
            "linecolor": "#EBF0F8",
            "showbackground": true,
            "ticks": "",
            "zerolinecolor": "#EBF0F8"
           },
           "yaxis": {
            "backgroundcolor": "white",
            "gridcolor": "#DFE8F3",
            "gridwidth": 2,
            "linecolor": "#EBF0F8",
            "showbackground": true,
            "ticks": "",
            "zerolinecolor": "#EBF0F8"
           },
           "zaxis": {
            "backgroundcolor": "white",
            "gridcolor": "#DFE8F3",
            "gridwidth": 2,
            "linecolor": "#EBF0F8",
            "showbackground": true,
            "ticks": "",
            "zerolinecolor": "#EBF0F8"
           }
          },
          "shapedefaults": {
           "line": {
            "color": "#2a3f5f"
           }
          },
          "ternary": {
           "aaxis": {
            "gridcolor": "#DFE8F3",
            "linecolor": "#A2B1C6",
            "ticks": ""
           },
           "baxis": {
            "gridcolor": "#DFE8F3",
            "linecolor": "#A2B1C6",
            "ticks": ""
           },
           "bgcolor": "white",
           "caxis": {
            "gridcolor": "#DFE8F3",
            "linecolor": "#A2B1C6",
            "ticks": ""
           }
          },
          "title": {
           "x": 0.05
          },
          "xaxis": {
           "automargin": true,
           "gridcolor": "#EBF0F8",
           "linecolor": "#EBF0F8",
           "ticks": "",
           "title": {
            "standoff": 15
           },
           "zerolinecolor": "#EBF0F8",
           "zerolinewidth": 2
          },
          "yaxis": {
           "automargin": true,
           "gridcolor": "#EBF0F8",
           "linecolor": "#EBF0F8",
           "ticks": "",
           "title": {
            "standoff": 15
           },
           "zerolinecolor": "#EBF0F8",
           "zerolinewidth": 2
          }
         }
        },
        "title": {
         "text": "Market Regimes in Recent 3 Months (2025-01-11 to 2025-04-11)"
        },
        "xaxis": {
         "anchor": "y",
         "domain": [
          0,
          1
         ],
         "matches": "x3",
         "showticklabels": false
        },
        "xaxis2": {
         "anchor": "y2",
         "domain": [
          0,
          1
         ],
         "matches": "x3",
         "showticklabels": false
        },
        "xaxis3": {
         "anchor": "y3",
         "domain": [
          0,
          1
         ],
         "title": {
          "text": "Date"
         }
        },
        "yaxis": {
         "anchor": "x",
         "domain": [
          0.7333333333333334,
          1
         ],
         "title": {
          "text": "SPY Price"
         }
        },
        "yaxis2": {
         "anchor": "x2",
         "domain": [
          0.3666666666666667,
          0.6333333333333333
         ],
         "title": {
          "text": "VIX"
         }
        },
        "yaxis3": {
         "anchor": "x3",
         "domain": [
          0,
          0.26666666666666666
         ],
         "title": {
          "text": "LogVIX"
         }
        }
       }
      }
     },
     "metadata": {},
     "output_type": "display_data"
    },
    {
     "data": {
      "application/vnd.plotly.v1+json": {
       "config": {
        "plotlyServerURL": "https://plot.ly"
       },
       "data": [
        {
         "domain": {
          "x": [
           0,
           1
          ],
          "y": [
           0,
           1
          ]
         },
         "hovertemplate": "Regime=%{label}<br>Percentage=%{value}<extra></extra>",
         "labels": [
          "Regime 0: Bull",
          "Regime 1: Neutral",
          "Regime 2: Bear"
         ],
         "legendgroup": "",
         "name": "",
         "showlegend": true,
         "textinfo": "percent+label",
         "textposition": "inside",
         "type": "pie",
         "values": {
          "bdata": "IYQQQgghMEDGGGOMMcZFQCmllFJKKURA",
          "dtype": "f8"
         }
        }
       ],
       "layout": {
        "legend": {
         "tracegroupgap": 0
        },
        "piecolorway": [
         "rgb(102,194,165)",
         "rgb(252,141,98)",
         "rgb(141,160,203)"
        ],
        "template": {
         "data": {
          "bar": [
           {
            "error_x": {
             "color": "#2a3f5f"
            },
            "error_y": {
             "color": "#2a3f5f"
            },
            "marker": {
             "line": {
              "color": "#E5ECF6",
              "width": 0.5
             },
             "pattern": {
              "fillmode": "overlay",
              "size": 10,
              "solidity": 0.2
             }
            },
            "type": "bar"
           }
          ],
          "barpolar": [
           {
            "marker": {
             "line": {
              "color": "#E5ECF6",
              "width": 0.5
             },
             "pattern": {
              "fillmode": "overlay",
              "size": 10,
              "solidity": 0.2
             }
            },
            "type": "barpolar"
           }
          ],
          "carpet": [
           {
            "aaxis": {
             "endlinecolor": "#2a3f5f",
             "gridcolor": "white",
             "linecolor": "white",
             "minorgridcolor": "white",
             "startlinecolor": "#2a3f5f"
            },
            "baxis": {
             "endlinecolor": "#2a3f5f",
             "gridcolor": "white",
             "linecolor": "white",
             "minorgridcolor": "white",
             "startlinecolor": "#2a3f5f"
            },
            "type": "carpet"
           }
          ],
          "choropleth": [
           {
            "colorbar": {
             "outlinewidth": 0,
             "ticks": ""
            },
            "type": "choropleth"
           }
          ],
          "contour": [
           {
            "colorbar": {
             "outlinewidth": 0,
             "ticks": ""
            },
            "colorscale": [
             [
              0,
              "#0d0887"
             ],
             [
              0.1111111111111111,
              "#46039f"
             ],
             [
              0.2222222222222222,
              "#7201a8"
             ],
             [
              0.3333333333333333,
              "#9c179e"
             ],
             [
              0.4444444444444444,
              "#bd3786"
             ],
             [
              0.5555555555555556,
              "#d8576b"
             ],
             [
              0.6666666666666666,
              "#ed7953"
             ],
             [
              0.7777777777777778,
              "#fb9f3a"
             ],
             [
              0.8888888888888888,
              "#fdca26"
             ],
             [
              1,
              "#f0f921"
             ]
            ],
            "type": "contour"
           }
          ],
          "contourcarpet": [
           {
            "colorbar": {
             "outlinewidth": 0,
             "ticks": ""
            },
            "type": "contourcarpet"
           }
          ],
          "heatmap": [
           {
            "colorbar": {
             "outlinewidth": 0,
             "ticks": ""
            },
            "colorscale": [
             [
              0,
              "#0d0887"
             ],
             [
              0.1111111111111111,
              "#46039f"
             ],
             [
              0.2222222222222222,
              "#7201a8"
             ],
             [
              0.3333333333333333,
              "#9c179e"
             ],
             [
              0.4444444444444444,
              "#bd3786"
             ],
             [
              0.5555555555555556,
              "#d8576b"
             ],
             [
              0.6666666666666666,
              "#ed7953"
             ],
             [
              0.7777777777777778,
              "#fb9f3a"
             ],
             [
              0.8888888888888888,
              "#fdca26"
             ],
             [
              1,
              "#f0f921"
             ]
            ],
            "type": "heatmap"
           }
          ],
          "histogram": [
           {
            "marker": {
             "pattern": {
              "fillmode": "overlay",
              "size": 10,
              "solidity": 0.2
             }
            },
            "type": "histogram"
           }
          ],
          "histogram2d": [
           {
            "colorbar": {
             "outlinewidth": 0,
             "ticks": ""
            },
            "colorscale": [
             [
              0,
              "#0d0887"
             ],
             [
              0.1111111111111111,
              "#46039f"
             ],
             [
              0.2222222222222222,
              "#7201a8"
             ],
             [
              0.3333333333333333,
              "#9c179e"
             ],
             [
              0.4444444444444444,
              "#bd3786"
             ],
             [
              0.5555555555555556,
              "#d8576b"
             ],
             [
              0.6666666666666666,
              "#ed7953"
             ],
             [
              0.7777777777777778,
              "#fb9f3a"
             ],
             [
              0.8888888888888888,
              "#fdca26"
             ],
             [
              1,
              "#f0f921"
             ]
            ],
            "type": "histogram2d"
           }
          ],
          "histogram2dcontour": [
           {
            "colorbar": {
             "outlinewidth": 0,
             "ticks": ""
            },
            "colorscale": [
             [
              0,
              "#0d0887"
             ],
             [
              0.1111111111111111,
              "#46039f"
             ],
             [
              0.2222222222222222,
              "#7201a8"
             ],
             [
              0.3333333333333333,
              "#9c179e"
             ],
             [
              0.4444444444444444,
              "#bd3786"
             ],
             [
              0.5555555555555556,
              "#d8576b"
             ],
             [
              0.6666666666666666,
              "#ed7953"
             ],
             [
              0.7777777777777778,
              "#fb9f3a"
             ],
             [
              0.8888888888888888,
              "#fdca26"
             ],
             [
              1,
              "#f0f921"
             ]
            ],
            "type": "histogram2dcontour"
           }
          ],
          "mesh3d": [
           {
            "colorbar": {
             "outlinewidth": 0,
             "ticks": ""
            },
            "type": "mesh3d"
           }
          ],
          "parcoords": [
           {
            "line": {
             "colorbar": {
              "outlinewidth": 0,
              "ticks": ""
             }
            },
            "type": "parcoords"
           }
          ],
          "pie": [
           {
            "automargin": true,
            "type": "pie"
           }
          ],
          "scatter": [
           {
            "fillpattern": {
             "fillmode": "overlay",
             "size": 10,
             "solidity": 0.2
            },
            "type": "scatter"
           }
          ],
          "scatter3d": [
           {
            "line": {
             "colorbar": {
              "outlinewidth": 0,
              "ticks": ""
             }
            },
            "marker": {
             "colorbar": {
              "outlinewidth": 0,
              "ticks": ""
             }
            },
            "type": "scatter3d"
           }
          ],
          "scattercarpet": [
           {
            "marker": {
             "colorbar": {
              "outlinewidth": 0,
              "ticks": ""
             }
            },
            "type": "scattercarpet"
           }
          ],
          "scattergeo": [
           {
            "marker": {
             "colorbar": {
              "outlinewidth": 0,
              "ticks": ""
             }
            },
            "type": "scattergeo"
           }
          ],
          "scattergl": [
           {
            "marker": {
             "colorbar": {
              "outlinewidth": 0,
              "ticks": ""
             }
            },
            "type": "scattergl"
           }
          ],
          "scattermap": [
           {
            "marker": {
             "colorbar": {
              "outlinewidth": 0,
              "ticks": ""
             }
            },
            "type": "scattermap"
           }
          ],
          "scattermapbox": [
           {
            "marker": {
             "colorbar": {
              "outlinewidth": 0,
              "ticks": ""
             }
            },
            "type": "scattermapbox"
           }
          ],
          "scatterpolar": [
           {
            "marker": {
             "colorbar": {
              "outlinewidth": 0,
              "ticks": ""
             }
            },
            "type": "scatterpolar"
           }
          ],
          "scatterpolargl": [
           {
            "marker": {
             "colorbar": {
              "outlinewidth": 0,
              "ticks": ""
             }
            },
            "type": "scatterpolargl"
           }
          ],
          "scatterternary": [
           {
            "marker": {
             "colorbar": {
              "outlinewidth": 0,
              "ticks": ""
             }
            },
            "type": "scatterternary"
           }
          ],
          "surface": [
           {
            "colorbar": {
             "outlinewidth": 0,
             "ticks": ""
            },
            "colorscale": [
             [
              0,
              "#0d0887"
             ],
             [
              0.1111111111111111,
              "#46039f"
             ],
             [
              0.2222222222222222,
              "#7201a8"
             ],
             [
              0.3333333333333333,
              "#9c179e"
             ],
             [
              0.4444444444444444,
              "#bd3786"
             ],
             [
              0.5555555555555556,
              "#d8576b"
             ],
             [
              0.6666666666666666,
              "#ed7953"
             ],
             [
              0.7777777777777778,
              "#fb9f3a"
             ],
             [
              0.8888888888888888,
              "#fdca26"
             ],
             [
              1,
              "#f0f921"
             ]
            ],
            "type": "surface"
           }
          ],
          "table": [
           {
            "cells": {
             "fill": {
              "color": "#EBF0F8"
             },
             "line": {
              "color": "white"
             }
            },
            "header": {
             "fill": {
              "color": "#C8D4E3"
             },
             "line": {
              "color": "white"
             }
            },
            "type": "table"
           }
          ]
         },
         "layout": {
          "annotationdefaults": {
           "arrowcolor": "#2a3f5f",
           "arrowhead": 0,
           "arrowwidth": 1
          },
          "autotypenumbers": "strict",
          "coloraxis": {
           "colorbar": {
            "outlinewidth": 0,
            "ticks": ""
           }
          },
          "colorscale": {
           "diverging": [
            [
             0,
             "#8e0152"
            ],
            [
             0.1,
             "#c51b7d"
            ],
            [
             0.2,
             "#de77ae"
            ],
            [
             0.3,
             "#f1b6da"
            ],
            [
             0.4,
             "#fde0ef"
            ],
            [
             0.5,
             "#f7f7f7"
            ],
            [
             0.6,
             "#e6f5d0"
            ],
            [
             0.7,
             "#b8e186"
            ],
            [
             0.8,
             "#7fbc41"
            ],
            [
             0.9,
             "#4d9221"
            ],
            [
             1,
             "#276419"
            ]
           ],
           "sequential": [
            [
             0,
             "#0d0887"
            ],
            [
             0.1111111111111111,
             "#46039f"
            ],
            [
             0.2222222222222222,
             "#7201a8"
            ],
            [
             0.3333333333333333,
             "#9c179e"
            ],
            [
             0.4444444444444444,
             "#bd3786"
            ],
            [
             0.5555555555555556,
             "#d8576b"
            ],
            [
             0.6666666666666666,
             "#ed7953"
            ],
            [
             0.7777777777777778,
             "#fb9f3a"
            ],
            [
             0.8888888888888888,
             "#fdca26"
            ],
            [
             1,
             "#f0f921"
            ]
           ],
           "sequentialminus": [
            [
             0,
             "#0d0887"
            ],
            [
             0.1111111111111111,
             "#46039f"
            ],
            [
             0.2222222222222222,
             "#7201a8"
            ],
            [
             0.3333333333333333,
             "#9c179e"
            ],
            [
             0.4444444444444444,
             "#bd3786"
            ],
            [
             0.5555555555555556,
             "#d8576b"
            ],
            [
             0.6666666666666666,
             "#ed7953"
            ],
            [
             0.7777777777777778,
             "#fb9f3a"
            ],
            [
             0.8888888888888888,
             "#fdca26"
            ],
            [
             1,
             "#f0f921"
            ]
           ]
          },
          "colorway": [
           "#636efa",
           "#EF553B",
           "#00cc96",
           "#ab63fa",
           "#FFA15A",
           "#19d3f3",
           "#FF6692",
           "#B6E880",
           "#FF97FF",
           "#FECB52"
          ],
          "font": {
           "color": "#2a3f5f"
          },
          "geo": {
           "bgcolor": "white",
           "lakecolor": "white",
           "landcolor": "#E5ECF6",
           "showlakes": true,
           "showland": true,
           "subunitcolor": "white"
          },
          "hoverlabel": {
           "align": "left"
          },
          "hovermode": "closest",
          "mapbox": {
           "style": "light"
          },
          "paper_bgcolor": "white",
          "plot_bgcolor": "#E5ECF6",
          "polar": {
           "angularaxis": {
            "gridcolor": "white",
            "linecolor": "white",
            "ticks": ""
           },
           "bgcolor": "#E5ECF6",
           "radialaxis": {
            "gridcolor": "white",
            "linecolor": "white",
            "ticks": ""
           }
          },
          "scene": {
           "xaxis": {
            "backgroundcolor": "#E5ECF6",
            "gridcolor": "white",
            "gridwidth": 2,
            "linecolor": "white",
            "showbackground": true,
            "ticks": "",
            "zerolinecolor": "white"
           },
           "yaxis": {
            "backgroundcolor": "#E5ECF6",
            "gridcolor": "white",
            "gridwidth": 2,
            "linecolor": "white",
            "showbackground": true,
            "ticks": "",
            "zerolinecolor": "white"
           },
           "zaxis": {
            "backgroundcolor": "#E5ECF6",
            "gridcolor": "white",
            "gridwidth": 2,
            "linecolor": "white",
            "showbackground": true,
            "ticks": "",
            "zerolinecolor": "white"
           }
          },
          "shapedefaults": {
           "line": {
            "color": "#2a3f5f"
           }
          },
          "ternary": {
           "aaxis": {
            "gridcolor": "white",
            "linecolor": "white",
            "ticks": ""
           },
           "baxis": {
            "gridcolor": "white",
            "linecolor": "white",
            "ticks": ""
           },
           "bgcolor": "#E5ECF6",
           "caxis": {
            "gridcolor": "white",
            "linecolor": "white",
            "ticks": ""
           }
          },
          "title": {
           "x": 0.05
          },
          "xaxis": {
           "automargin": true,
           "gridcolor": "white",
           "linecolor": "white",
           "ticks": "",
           "title": {
            "standoff": 15
           },
           "zerolinecolor": "white",
           "zerolinewidth": 2
          },
          "yaxis": {
           "automargin": true,
           "gridcolor": "white",
           "linecolor": "white",
           "ticks": "",
           "title": {
            "standoff": 15
           },
           "zerolinecolor": "white",
           "zerolinewidth": 2
          }
         }
        },
        "title": {
         "text": "Percentage of Time in Each Regime (2025-01-11 to 2025-04-11)"
        },
        "uniformtext": {
         "minsize": 12,
         "mode": "hide"
        }
       }
      }
     },
     "metadata": {},
     "output_type": "display_data"
    },
    {
     "data": {
      "application/vnd.plotly.v1+json": {
       "config": {
        "plotlyServerURL": "https://plot.ly"
       },
       "data": [
        {
         "customdata": [
          [
           "2025-01-13T00:00:00",
           579.6463012695312,
           19.190000534057617
          ],
          [
           "2025-02-05T00:00:00",
           602.4077758789062,
           15.770000457763672
          ],
          [
           "2025-02-06T00:00:00",
           604.5015258789062,
           15.5
          ],
          [
           "2025-02-07T00:00:00",
           598.9682006835938,
           16.540000915527344
          ],
          [
           "2025-02-10T00:00:00",
           603.035888671875,
           15.8100004196167
          ],
          [
           "2025-02-11T00:00:00",
           603.4945678710938,
           16.020000457763672
          ],
          [
           "2025-02-12T00:00:00",
           601.5504150390625,
           15.890000343322754
          ],
          [
           "2025-02-13T00:00:00",
           607.9013061523438,
           15.100000381469727
          ],
          [
           "2025-02-14T00:00:00",
           607.8713989257812,
           14.770000457763672
          ],
          [
           "2025-02-18T00:00:00",
           609.656005859375,
           15.350000381469727
          ]
         ],
         "hovertemplate": "Market Regime=Bull<br>Log(VIX)=%{x}<br>Return (%)=%{y}<br>Date=%{customdata[0]}<br>Close=%{customdata[1]}<br>VIX=%{customdata[2]}<extra></extra>",
         "legendgroup": "Bull",
         "marker": {
          "color": "rgb(102,194,165)",
          "opacity": 0.8,
          "symbol": "circle"
         },
         "mode": "markers",
         "name": "Bull",
         "orientation": "v",
         "showlegend": true,
         "type": "scatter",
         "x": {
          "bdata": "nbiN4JaiB0CaMkWtmxAGQN6c0og97QVAeh4Ssz1yBkA5dQfUyxUGQFbNM/bRMAZAnAhxFCIgBkBYsh7ksbcFQIVOGONwigVAbXcqFVPZBUA=",
          "dtype": "f8"
         },
         "xaxis": "x",
         "y": {
          "bdata": "HGXyJZ3Ywz8Wiy4T8fLZP6I9okp7PtY/NsECMJNK7b8lt9QpUbvlPyPdoSfHeLM/ysOFnRee1L9XlnYNXuTwP2Vw4Wy7JnS/SgNyPhDK0j8=",
          "dtype": "f8"
         },
         "yaxis": "y"
        },
        {
         "customdata": [
          [
           "2025-01-14T00:00:00",
           580.4439086914062,
           18.709999084472656
          ],
          [
           "2025-01-15T00:00:00",
           591.002197265625,
           16.1200008392334
          ],
          [
           "2025-01-16T00:00:00",
           589.8656005859375,
           16.600000381469727
          ],
          [
           "2025-01-17T00:00:00",
           595.7877807617188,
           15.970000267028809
          ],
          [
           "2025-01-21T00:00:00",
           601.2413330078125,
           15.0600004196167
          ],
          [
           "2025-01-29T00:00:00",
           600.0050659179688,
           16.559999465942383
          ],
          [
           "2025-01-30T00:00:00",
           603.225341796875,
           15.84000015258789
          ],
          [
           "2025-01-31T00:00:00",
           600.0150146484375,
           16.43000030517578
          ],
          [
           "2025-02-03T00:00:00",
           595.9771728515625,
           18.6200008392334
          ],
          [
           "2025-02-04T00:00:00",
           599.9751586914062,
           17.209999084472656
          ],
          [
           "2025-02-19T00:00:00",
           611.0916748046875,
           15.270000457763672
          ],
          [
           "2025-02-20T00:00:00",
           608.5493774414062,
           15.65999984741211
          ],
          [
           "2025-02-21T00:00:00",
           598.1406860351562,
           18.209999084472656
          ],
          [
           "2025-02-24T00:00:00",
           595.4188842773438,
           18.979999542236328
          ],
          [
           "2025-02-25T00:00:00",
           592.457763671875,
           19.43000030517578
          ],
          [
           "2025-02-26T00:00:00",
           592.7568359375,
           19.100000381469727
          ],
          [
           "2025-03-19T00:00:00",
           565.4290771484375,
           19.899999618530273
          ],
          [
           "2025-03-20T00:00:00",
           563.7940063476562,
           19.799999237060547
          ],
          [
           "2025-03-21T00:00:00",
           563.97998046875,
           19.280000686645508
          ],
          [
           "2025-03-24T00:00:00",
           574.0800170898438,
           17.479999542236328
          ],
          [
           "2025-03-25T00:00:00",
           575.4600219726562,
           17.149999618530273
          ],
          [
           "2025-03-26T00:00:00",
           568.5900268554688,
           18.329999923706055
          ],
          [
           "2025-03-27T00:00:00",
           567.0800170898438,
           18.690000534057617
          ],
          [
           "2025-03-28T00:00:00",
           555.6599731445312,
           21.649999618530273
          ],
          [
           "2025-03-31T00:00:00",
           559.3900146484375,
           22.280000686645508
          ],
          [
           "2025-04-01T00:00:00",
           560.969970703125,
           21.770000457763672
          ],
          [
           "2025-04-02T00:00:00",
           564.52001953125,
           21.510000228881836
          ]
         ],
         "hovertemplate": "Market Regime=Neutral<br>Log(VIX)=%{x}<br>Return (%)=%{y}<br>Date=%{customdata[0]}<br>Close=%{customdata[1]}<br>VIX=%{customdata[2]}<extra></extra>",
         "legendgroup": "Neutral",
         "marker": {
          "color": "rgb(252,141,98)",
          "opacity": 0.8,
          "symbol": "circle"
         },
         "mode": "markers",
         "name": "Neutral",
         "orientation": "v",
         "showlegend": true,
         "type": "scatter",
         "x": {
          "bdata": "QJQzArZuB0Ba/dGCkD0GQIuZ5CGoeQZA3bjBCmsqBkAYBxE1Q7IFQIaf+zu3dAZAhMcGu60ZBkAj88Y7k2QGQOiXlwLWZAdAhQecjZDDBkCLtpp+n84FQKOb1spFAgZA0/dUfTw3B0BjHo3WDYwHQHUhzzgLvAdABspRNfaYB0C6nud0/uwHQBN+CTGt4gdAyA2NAyysB0AeC2UIcuMGQEdf24ZpvAZA5FAfILBEB0CB6jdQhWwHQCacUXOcmQhAGuTXIVvUCECG+11u7qQIQNE2GiRTjAhA",
          "dtype": "f8"
         },
         "xaxis": "x",
         "y": {
          "bdata": "iz304fScwT+9FCRAohr9P8qhi3vWnci/nQ6bx1UQ8D9bB9Etj0rtP5N379/csNy/Ffcmf7Ys4T81WKEKuwfhv+D/567ciOW/aeKouG135T/AM9iPeyTOP3l4q4gpoNq/oKx/ONdd+78oGR3Jbx/dvy2jNJQL1N+/GlO2YoHYqT9iry0352zxPxgWj2HRgdK/7mn/n5DjoD8d262KUqf8P/RB72HzxM4/qgPe+ekZ878fKxgsHf/Qv71gN2xUHADAnwb17CJ75T8IZUpkihPSP6gmuhY8QOQ/",
          "dtype": "f8"
         },
         "yaxis": "y"
        },
        {
         "customdata": [
          [
           "2025-01-22T00:00:00",
           604.6211547851562,
           15.100000381469727
          ],
          [
           "2025-01-23T00:00:00",
           607.9212646484375,
           15.020000457763672
          ],
          [
           "2025-01-24T00:00:00",
           606.1465454101562,
           14.850000381469727
          ],
          [
           "2025-01-27T00:00:00",
           597.5723876953125,
           17.899999618530273
          ],
          [
           "2025-01-28T00:00:00",
           602.7069702148438,
           16.40999984741211
          ],
          [
           "2025-02-27T00:00:00",
           583.2952880859375,
           21.1299991607666
          ],
          [
           "2025-02-28T00:00:00",
           592.39794921875,
           19.6299991607666
          ],
          [
           "2025-03-03T00:00:00",
           582.0191650390625,
           22.780000686645508
          ],
          [
           "2025-03-04T00:00:00",
           575.1298828125,
           23.510000228881836
          ],
          [
           "2025-03-05T00:00:00",
           581.311279296875,
           21.93000030517578
          ],
          [
           "2025-03-06T00:00:00",
           570.9923706054688,
           24.8700008392334
          ],
          [
           "2025-03-07T00:00:00",
           574.1926879882812,
           23.3700008392334
          ],
          [
           "2025-03-10T00:00:00",
           558.8987426757812,
           27.860000610351562
          ],
          [
           "2025-03-11T00:00:00",
           554.252685546875,
           26.920000076293945
          ],
          [
           "2025-03-12T00:00:00",
           557.19384765625,
           24.229999542236328
          ],
          [
           "2025-03-13T00:00:00",
           549.7661743164062,
           24.65999984741211
          ],
          [
           "2025-03-14T00:00:00",
           561.1220092773438,
           21.770000457763672
          ],
          [
           "2025-03-17T00:00:00",
           565.4490356445312,
           20.510000228881836
          ],
          [
           "2025-03-18T00:00:00",
           559.33740234375,
           21.700000762939453
          ],
          [
           "2025-04-03T00:00:00",
           536.7000122070312,
           30.020000457763672
          ],
          [
           "2025-04-04T00:00:00",
           505.2799987792969,
           45.310001373291016
          ],
          [
           "2025-04-07T00:00:00",
           504.3800048828125,
           46.97999954223633
          ],
          [
           "2025-04-08T00:00:00",
           496.4800109863281,
           52.33000183105469
          ],
          [
           "2025-04-09T00:00:00",
           548.6199951171875,
           33.619998931884766
          ],
          [
           "2025-04-10T00:00:00",
           524.5800170898438,
           40.720001220703125
          ]
         ],
         "hovertemplate": "Market Regime=Bear<br>Log(VIX)=%{x}<br>Return (%)=%{y}<br>Date=%{customdata[0]}<br>Close=%{customdata[1]}<br>VIX=%{customdata[2]}<extra></extra>",
         "legendgroup": "Bear",
         "marker": {
          "color": "rgb(141,160,203)",
          "opacity": 0.8,
          "symbol": "circle"
         },
         "mode": "markers",
         "name": "Bear",
         "orientation": "v",
         "showlegend": true,
         "type": "scatter",
         "x": {
          "bdata": "WLIe5LG3BUBzFSrT0KwFQA98gfeAlQVArfyMYhIUB0C4BDqfFGIGQM/rkiXSZwhAAet5SgTRB0AhNqrwzgEJQPsm6H5oQglAfGjZn+2zCED1HFWTlLUJQM8YURYtNglAqWuN1RaeCkBSd+n3y1cKQBOeD/svgAlASE3XtzakCUCG+11u7qQIQEDbaDfUKghA3wyt6FWeCECy6sNjBDcLQCm4gNsagg5AKB0tCDvMDkCwwWNiGqkPQP6eLc/3HgxAeuB/gFynDUA=",
          "dtype": "f8"
         },
         "xaxis": "x",
         "y": {
          "bdata": "9mwkVQ794T+xpzfyT3fhP4yGX00Fr9K/wcJh6u+h9r8vC2Fs5X7rP/F0/YECivm/PFp8owv4+D9ZCBg3LAj8v3CIvT5h8PK/nVg9WE8y8T/Pbiar2Gb8vwbLkNt67+E/uF5AlvZOBcCa/rnl6Jnqv4LdWV0d++A/PfHtYCxU9b/+d85nTIYAQKCBVBgqreg/+4quLSVL8b/HITkHW7YTwGQgHt7MahfAAQdr3ZDMxr/y2gyyeQ/5v3aMOf78ACVAHP1WuBCHEcA=",
          "dtype": "f8"
         },
         "yaxis": "y"
        }
       ],
       "layout": {
        "height": 600,
        "hovermode": "closest",
        "legend": {
         "title": {
          "text": "Market Regime"
         },
         "tracegroupgap": 0
        },
        "template": {
         "data": {
          "bar": [
           {
            "error_x": {
             "color": "#2a3f5f"
            },
            "error_y": {
             "color": "#2a3f5f"
            },
            "marker": {
             "line": {
              "color": "white",
              "width": 0.5
             },
             "pattern": {
              "fillmode": "overlay",
              "size": 10,
              "solidity": 0.2
             }
            },
            "type": "bar"
           }
          ],
          "barpolar": [
           {
            "marker": {
             "line": {
              "color": "white",
              "width": 0.5
             },
             "pattern": {
              "fillmode": "overlay",
              "size": 10,
              "solidity": 0.2
             }
            },
            "type": "barpolar"
           }
          ],
          "carpet": [
           {
            "aaxis": {
             "endlinecolor": "#2a3f5f",
             "gridcolor": "#C8D4E3",
             "linecolor": "#C8D4E3",
             "minorgridcolor": "#C8D4E3",
             "startlinecolor": "#2a3f5f"
            },
            "baxis": {
             "endlinecolor": "#2a3f5f",
             "gridcolor": "#C8D4E3",
             "linecolor": "#C8D4E3",
             "minorgridcolor": "#C8D4E3",
             "startlinecolor": "#2a3f5f"
            },
            "type": "carpet"
           }
          ],
          "choropleth": [
           {
            "colorbar": {
             "outlinewidth": 0,
             "ticks": ""
            },
            "type": "choropleth"
           }
          ],
          "contour": [
           {
            "colorbar": {
             "outlinewidth": 0,
             "ticks": ""
            },
            "colorscale": [
             [
              0,
              "#0d0887"
             ],
             [
              0.1111111111111111,
              "#46039f"
             ],
             [
              0.2222222222222222,
              "#7201a8"
             ],
             [
              0.3333333333333333,
              "#9c179e"
             ],
             [
              0.4444444444444444,
              "#bd3786"
             ],
             [
              0.5555555555555556,
              "#d8576b"
             ],
             [
              0.6666666666666666,
              "#ed7953"
             ],
             [
              0.7777777777777778,
              "#fb9f3a"
             ],
             [
              0.8888888888888888,
              "#fdca26"
             ],
             [
              1,
              "#f0f921"
             ]
            ],
            "type": "contour"
           }
          ],
          "contourcarpet": [
           {
            "colorbar": {
             "outlinewidth": 0,
             "ticks": ""
            },
            "type": "contourcarpet"
           }
          ],
          "heatmap": [
           {
            "colorbar": {
             "outlinewidth": 0,
             "ticks": ""
            },
            "colorscale": [
             [
              0,
              "#0d0887"
             ],
             [
              0.1111111111111111,
              "#46039f"
             ],
             [
              0.2222222222222222,
              "#7201a8"
             ],
             [
              0.3333333333333333,
              "#9c179e"
             ],
             [
              0.4444444444444444,
              "#bd3786"
             ],
             [
              0.5555555555555556,
              "#d8576b"
             ],
             [
              0.6666666666666666,
              "#ed7953"
             ],
             [
              0.7777777777777778,
              "#fb9f3a"
             ],
             [
              0.8888888888888888,
              "#fdca26"
             ],
             [
              1,
              "#f0f921"
             ]
            ],
            "type": "heatmap"
           }
          ],
          "histogram": [
           {
            "marker": {
             "pattern": {
              "fillmode": "overlay",
              "size": 10,
              "solidity": 0.2
             }
            },
            "type": "histogram"
           }
          ],
          "histogram2d": [
           {
            "colorbar": {
             "outlinewidth": 0,
             "ticks": ""
            },
            "colorscale": [
             [
              0,
              "#0d0887"
             ],
             [
              0.1111111111111111,
              "#46039f"
             ],
             [
              0.2222222222222222,
              "#7201a8"
             ],
             [
              0.3333333333333333,
              "#9c179e"
             ],
             [
              0.4444444444444444,
              "#bd3786"
             ],
             [
              0.5555555555555556,
              "#d8576b"
             ],
             [
              0.6666666666666666,
              "#ed7953"
             ],
             [
              0.7777777777777778,
              "#fb9f3a"
             ],
             [
              0.8888888888888888,
              "#fdca26"
             ],
             [
              1,
              "#f0f921"
             ]
            ],
            "type": "histogram2d"
           }
          ],
          "histogram2dcontour": [
           {
            "colorbar": {
             "outlinewidth": 0,
             "ticks": ""
            },
            "colorscale": [
             [
              0,
              "#0d0887"
             ],
             [
              0.1111111111111111,
              "#46039f"
             ],
             [
              0.2222222222222222,
              "#7201a8"
             ],
             [
              0.3333333333333333,
              "#9c179e"
             ],
             [
              0.4444444444444444,
              "#bd3786"
             ],
             [
              0.5555555555555556,
              "#d8576b"
             ],
             [
              0.6666666666666666,
              "#ed7953"
             ],
             [
              0.7777777777777778,
              "#fb9f3a"
             ],
             [
              0.8888888888888888,
              "#fdca26"
             ],
             [
              1,
              "#f0f921"
             ]
            ],
            "type": "histogram2dcontour"
           }
          ],
          "mesh3d": [
           {
            "colorbar": {
             "outlinewidth": 0,
             "ticks": ""
            },
            "type": "mesh3d"
           }
          ],
          "parcoords": [
           {
            "line": {
             "colorbar": {
              "outlinewidth": 0,
              "ticks": ""
             }
            },
            "type": "parcoords"
           }
          ],
          "pie": [
           {
            "automargin": true,
            "type": "pie"
           }
          ],
          "scatter": [
           {
            "fillpattern": {
             "fillmode": "overlay",
             "size": 10,
             "solidity": 0.2
            },
            "type": "scatter"
           }
          ],
          "scatter3d": [
           {
            "line": {
             "colorbar": {
              "outlinewidth": 0,
              "ticks": ""
             }
            },
            "marker": {
             "colorbar": {
              "outlinewidth": 0,
              "ticks": ""
             }
            },
            "type": "scatter3d"
           }
          ],
          "scattercarpet": [
           {
            "marker": {
             "colorbar": {
              "outlinewidth": 0,
              "ticks": ""
             }
            },
            "type": "scattercarpet"
           }
          ],
          "scattergeo": [
           {
            "marker": {
             "colorbar": {
              "outlinewidth": 0,
              "ticks": ""
             }
            },
            "type": "scattergeo"
           }
          ],
          "scattergl": [
           {
            "marker": {
             "colorbar": {
              "outlinewidth": 0,
              "ticks": ""
             }
            },
            "type": "scattergl"
           }
          ],
          "scattermap": [
           {
            "marker": {
             "colorbar": {
              "outlinewidth": 0,
              "ticks": ""
             }
            },
            "type": "scattermap"
           }
          ],
          "scattermapbox": [
           {
            "marker": {
             "colorbar": {
              "outlinewidth": 0,
              "ticks": ""
             }
            },
            "type": "scattermapbox"
           }
          ],
          "scatterpolar": [
           {
            "marker": {
             "colorbar": {
              "outlinewidth": 0,
              "ticks": ""
             }
            },
            "type": "scatterpolar"
           }
          ],
          "scatterpolargl": [
           {
            "marker": {
             "colorbar": {
              "outlinewidth": 0,
              "ticks": ""
             }
            },
            "type": "scatterpolargl"
           }
          ],
          "scatterternary": [
           {
            "marker": {
             "colorbar": {
              "outlinewidth": 0,
              "ticks": ""
             }
            },
            "type": "scatterternary"
           }
          ],
          "surface": [
           {
            "colorbar": {
             "outlinewidth": 0,
             "ticks": ""
            },
            "colorscale": [
             [
              0,
              "#0d0887"
             ],
             [
              0.1111111111111111,
              "#46039f"
             ],
             [
              0.2222222222222222,
              "#7201a8"
             ],
             [
              0.3333333333333333,
              "#9c179e"
             ],
             [
              0.4444444444444444,
              "#bd3786"
             ],
             [
              0.5555555555555556,
              "#d8576b"
             ],
             [
              0.6666666666666666,
              "#ed7953"
             ],
             [
              0.7777777777777778,
              "#fb9f3a"
             ],
             [
              0.8888888888888888,
              "#fdca26"
             ],
             [
              1,
              "#f0f921"
             ]
            ],
            "type": "surface"
           }
          ],
          "table": [
           {
            "cells": {
             "fill": {
              "color": "#EBF0F8"
             },
             "line": {
              "color": "white"
             }
            },
            "header": {
             "fill": {
              "color": "#C8D4E3"
             },
             "line": {
              "color": "white"
             }
            },
            "type": "table"
           }
          ]
         },
         "layout": {
          "annotationdefaults": {
           "arrowcolor": "#2a3f5f",
           "arrowhead": 0,
           "arrowwidth": 1
          },
          "autotypenumbers": "strict",
          "coloraxis": {
           "colorbar": {
            "outlinewidth": 0,
            "ticks": ""
           }
          },
          "colorscale": {
           "diverging": [
            [
             0,
             "#8e0152"
            ],
            [
             0.1,
             "#c51b7d"
            ],
            [
             0.2,
             "#de77ae"
            ],
            [
             0.3,
             "#f1b6da"
            ],
            [
             0.4,
             "#fde0ef"
            ],
            [
             0.5,
             "#f7f7f7"
            ],
            [
             0.6,
             "#e6f5d0"
            ],
            [
             0.7,
             "#b8e186"
            ],
            [
             0.8,
             "#7fbc41"
            ],
            [
             0.9,
             "#4d9221"
            ],
            [
             1,
             "#276419"
            ]
           ],
           "sequential": [
            [
             0,
             "#0d0887"
            ],
            [
             0.1111111111111111,
             "#46039f"
            ],
            [
             0.2222222222222222,
             "#7201a8"
            ],
            [
             0.3333333333333333,
             "#9c179e"
            ],
            [
             0.4444444444444444,
             "#bd3786"
            ],
            [
             0.5555555555555556,
             "#d8576b"
            ],
            [
             0.6666666666666666,
             "#ed7953"
            ],
            [
             0.7777777777777778,
             "#fb9f3a"
            ],
            [
             0.8888888888888888,
             "#fdca26"
            ],
            [
             1,
             "#f0f921"
            ]
           ],
           "sequentialminus": [
            [
             0,
             "#0d0887"
            ],
            [
             0.1111111111111111,
             "#46039f"
            ],
            [
             0.2222222222222222,
             "#7201a8"
            ],
            [
             0.3333333333333333,
             "#9c179e"
            ],
            [
             0.4444444444444444,
             "#bd3786"
            ],
            [
             0.5555555555555556,
             "#d8576b"
            ],
            [
             0.6666666666666666,
             "#ed7953"
            ],
            [
             0.7777777777777778,
             "#fb9f3a"
            ],
            [
             0.8888888888888888,
             "#fdca26"
            ],
            [
             1,
             "#f0f921"
            ]
           ]
          },
          "colorway": [
           "#636efa",
           "#EF553B",
           "#00cc96",
           "#ab63fa",
           "#FFA15A",
           "#19d3f3",
           "#FF6692",
           "#B6E880",
           "#FF97FF",
           "#FECB52"
          ],
          "font": {
           "color": "#2a3f5f"
          },
          "geo": {
           "bgcolor": "white",
           "lakecolor": "white",
           "landcolor": "white",
           "showlakes": true,
           "showland": true,
           "subunitcolor": "#C8D4E3"
          },
          "hoverlabel": {
           "align": "left"
          },
          "hovermode": "closest",
          "mapbox": {
           "style": "light"
          },
          "paper_bgcolor": "white",
          "plot_bgcolor": "white",
          "polar": {
           "angularaxis": {
            "gridcolor": "#EBF0F8",
            "linecolor": "#EBF0F8",
            "ticks": ""
           },
           "bgcolor": "white",
           "radialaxis": {
            "gridcolor": "#EBF0F8",
            "linecolor": "#EBF0F8",
            "ticks": ""
           }
          },
          "scene": {
           "xaxis": {
            "backgroundcolor": "white",
            "gridcolor": "#DFE8F3",
            "gridwidth": 2,
            "linecolor": "#EBF0F8",
            "showbackground": true,
            "ticks": "",
            "zerolinecolor": "#EBF0F8"
           },
           "yaxis": {
            "backgroundcolor": "white",
            "gridcolor": "#DFE8F3",
            "gridwidth": 2,
            "linecolor": "#EBF0F8",
            "showbackground": true,
            "ticks": "",
            "zerolinecolor": "#EBF0F8"
           },
           "zaxis": {
            "backgroundcolor": "white",
            "gridcolor": "#DFE8F3",
            "gridwidth": 2,
            "linecolor": "#EBF0F8",
            "showbackground": true,
            "ticks": "",
            "zerolinecolor": "#EBF0F8"
           }
          },
          "shapedefaults": {
           "line": {
            "color": "#2a3f5f"
           }
          },
          "ternary": {
           "aaxis": {
            "gridcolor": "#DFE8F3",
            "linecolor": "#A2B1C6",
            "ticks": ""
           },
           "baxis": {
            "gridcolor": "#DFE8F3",
            "linecolor": "#A2B1C6",
            "ticks": ""
           },
           "bgcolor": "white",
           "caxis": {
            "gridcolor": "#DFE8F3",
            "linecolor": "#A2B1C6",
            "ticks": ""
           }
          },
          "title": {
           "x": 0.05
          },
          "xaxis": {
           "automargin": true,
           "gridcolor": "#EBF0F8",
           "linecolor": "#EBF0F8",
           "ticks": "",
           "title": {
            "standoff": 15
           },
           "zerolinecolor": "#EBF0F8",
           "zerolinewidth": 2
          },
          "yaxis": {
           "automargin": true,
           "gridcolor": "#EBF0F8",
           "linecolor": "#EBF0F8",
           "ticks": "",
           "title": {
            "standoff": 15
           },
           "zerolinecolor": "#EBF0F8",
           "zerolinewidth": 2
          }
         }
        },
        "title": {
         "text": "LogVIX vs Return by Market Regime (2025-01-11 to 2025-04-11)"
        },
        "width": 900,
        "xaxis": {
         "anchor": "y",
         "domain": [
          0,
          1
         ],
         "rangemode": "tozero",
         "title": {
          "text": "Log(VIX)"
         }
        },
        "yaxis": {
         "anchor": "x",
         "domain": [
          0,
          1
         ],
         "title": {
          "text": "Return (%)"
         }
        }
       }
      }
     },
     "metadata": {},
     "output_type": "display_data"
    },
    {
     "name": "stdout",
     "output_type": "stream",
     "text": [
      "\n",
      "Regime Summary Statistics:\n"
     ]
    },
    {
     "data": {
      "application/vnd.microsoft.datawrangler.viewer.v0+json": {
       "columns": [
        {
         "name": "index",
         "rawType": "int64",
         "type": "integer"
        },
        {
         "name": "Regime_Label",
         "rawType": "object",
         "type": "string"
        },
        {
         "name": "Days",
         "rawType": "int64",
         "type": "integer"
        },
        {
         "name": "Percentage",
         "rawType": "float64",
         "type": "float"
        },
        {
         "name": "Avg_Return",
         "rawType": "float64",
         "type": "float"
        },
        {
         "name": "Avg_VIX",
         "rawType": "float64",
         "type": "float"
        },
        {
         "name": "Avg_Price",
         "rawType": "float64",
         "type": "float"
        }
       ],
       "conversionMethod": "pd.DataFrame",
       "ref": "f5804fa6-0393-452a-8085-a0957f9c54b9",
       "rows": [
        [
         "0",
         "Bear",
         "25",
         "40.32258064516129",
         "-0.47194200806283176",
         "26.125200271606445",
         "564.0146752929687"
        ],
        [
         "1",
         "Bull",
         "10",
         "16.129032258064516",
         "0.17701565245277143",
         "15.994000434875488",
         "601.9033386230469"
        ],
        [
         "2",
         "Neutral",
         "27",
         "43.54838709677419",
         "0.05268004508758826",
         "18.20777780038339",
         "584.2558119032118"
        ]
       ],
       "shape": {
        "columns": 6,
        "rows": 3
       }
      },
      "text/html": [
       "<div>\n",
       "<style scoped>\n",
       "    .dataframe tbody tr th:only-of-type {\n",
       "        vertical-align: middle;\n",
       "    }\n",
       "\n",
       "    .dataframe tbody tr th {\n",
       "        vertical-align: top;\n",
       "    }\n",
       "\n",
       "    .dataframe thead th {\n",
       "        text-align: right;\n",
       "    }\n",
       "</style>\n",
       "<table border=\"1\" class=\"dataframe\">\n",
       "  <thead>\n",
       "    <tr style=\"text-align: right;\">\n",
       "      <th></th>\n",
       "      <th>Regime_Label</th>\n",
       "      <th>Days</th>\n",
       "      <th>Percentage</th>\n",
       "      <th>Avg_Return</th>\n",
       "      <th>Avg_VIX</th>\n",
       "      <th>Avg_Price</th>\n",
       "    </tr>\n",
       "  </thead>\n",
       "  <tbody>\n",
       "    <tr>\n",
       "      <th>0</th>\n",
       "      <td>Bear</td>\n",
       "      <td>25</td>\n",
       "      <td>40.322581</td>\n",
       "      <td>-0.471942</td>\n",
       "      <td>26.125200</td>\n",
       "      <td>564.014675</td>\n",
       "    </tr>\n",
       "    <tr>\n",
       "      <th>1</th>\n",
       "      <td>Bull</td>\n",
       "      <td>10</td>\n",
       "      <td>16.129032</td>\n",
       "      <td>0.177016</td>\n",
       "      <td>15.994000</td>\n",
       "      <td>601.903339</td>\n",
       "    </tr>\n",
       "    <tr>\n",
       "      <th>2</th>\n",
       "      <td>Neutral</td>\n",
       "      <td>27</td>\n",
       "      <td>43.548387</td>\n",
       "      <td>0.052680</td>\n",
       "      <td>18.207778</td>\n",
       "      <td>584.255812</td>\n",
       "    </tr>\n",
       "  </tbody>\n",
       "</table>\n",
       "</div>"
      ],
      "text/plain": [
       "  Regime_Label  Days  Percentage  Avg_Return    Avg_VIX   Avg_Price\n",
       "0         Bear    25   40.322581   -0.471942  26.125200  564.014675\n",
       "1         Bull    10   16.129032    0.177016  15.994000  601.903339\n",
       "2      Neutral    27   43.548387    0.052680  18.207778  584.255812"
      ]
     },
     "metadata": {},
     "output_type": "display_data"
    }
   ],
   "source": [
    "# Unified function for regime prediction and visualization\n",
    "def analyze_market_regimes(start_date, end_date, title=None):\n",
    "    \"\"\"\n",
    "    Comprehensive function to predict and visualize market regimes for any date range\n",
    "    \n",
    "    Parameters:\n",
    "    -----------\n",
    "    start_date : str\n",
    "        Start date in 'YYYY-MM-DD' format\n",
    "    end_date : str\n",
    "        End date in 'YYYY-MM-DD' format\n",
    "    title : str, optional\n",
    "        Custom title for the plots\n",
    "    \n",
    "    Returns:\n",
    "    --------\n",
    "    DataFrame with prediction results\n",
    "    \"\"\"\n",
    "    # Get predictions\n",
    "    results = predict_regimes(model, df, start_date, end_date, regime_labels)\n",
    "    \n",
    "    if results is None or results.empty:\n",
    "        print(\"No data available for the specified period\")\n",
    "        return None\n",
    "    \n",
    "    # Set plot title\n",
    "    if title is None:\n",
    "        title = f'Market Regimes from {start_date} to {end_date}'\n",
    "    \n",
    "    # Create subplot figures for SPY, VIX, and LogVIX\n",
    "    fig = make_subplots(rows=3, cols=1, \n",
    "                       shared_xaxes=True,\n",
    "                       vertical_spacing=0.1,\n",
    "                       subplot_titles=('SPY Close Price by Regime', 'VIX by Regime', 'LogVIX by Regime'))\n",
    "    \n",
    "    # SPY price by regime with labels\n",
    "    for i, regime in enumerate(sorted(results['Predicted_Regime'].unique())):\n",
    "        regime_data = results[results['Predicted_Regime'] == regime]\n",
    "        regime_label = regime_labels[regime]\n",
    "        fig.add_trace(\n",
    "            go.Scatter(\n",
    "                x=regime_data['Date'], \n",
    "                y=regime_data['Close'],\n",
    "                mode='markers',\n",
    "                marker=dict(color=regime_colors[i], size=6),\n",
    "                name=f'Regime {regime}: {regime_label}',\n",
    "                showlegend=True\n",
    "            ),\n",
    "            row=1, col=1\n",
    "        )\n",
    "    \n",
    "    # Add a line for the price trend\n",
    "    fig.add_trace(\n",
    "        go.Scatter(\n",
    "            x=results['Date'],\n",
    "            y=results['Close'],\n",
    "            mode='lines',\n",
    "            line=dict(color='rgba(0,0,0,0.3)'),\n",
    "            name='SPY Price',\n",
    "            showlegend=True\n",
    "        ),\n",
    "        row=1, col=1\n",
    "    )\n",
    "    \n",
    "    # VIX by regime with labels\n",
    "    for i, regime in enumerate(sorted(results['Predicted_Regime'].unique())):\n",
    "        regime_data = results[results['Predicted_Regime'] == regime]\n",
    "        regime_label = regime_labels[regime]\n",
    "        fig.add_trace(\n",
    "            go.Scatter(\n",
    "                x=regime_data['Date'], \n",
    "                y=regime_data['VIX'],\n",
    "                mode='markers',\n",
    "                marker=dict(color=regime_colors[i], size=6),\n",
    "                name=f'Regime {regime}: {regime_label}',\n",
    "                showlegend=False\n",
    "            ),\n",
    "            row=2, col=1\n",
    "        )\n",
    "    \n",
    "    # Add a line for the VIX trend\n",
    "    fig.add_trace(\n",
    "        go.Scatter(\n",
    "            x=results['Date'],\n",
    "            y=results['VIX'],\n",
    "            mode='lines',\n",
    "            line=dict(color='rgba(0,0,0,0.3)'),\n",
    "            name='VIX',\n",
    "            showlegend=True\n",
    "        ),\n",
    "        row=2, col=1\n",
    "    )\n",
    "    \n",
    "    # LogVIX by regime with labels\n",
    "    for i, regime in enumerate(sorted(results['Predicted_Regime'].unique())):\n",
    "        regime_data = results[results['Predicted_Regime'] == regime]\n",
    "        regime_label = regime_labels[regime]\n",
    "        fig.add_trace(\n",
    "            go.Scatter(\n",
    "                x=regime_data['Date'], \n",
    "                y=regime_data['LogVIX'],\n",
    "                mode='markers',\n",
    "                marker=dict(color=regime_colors[i], size=6),\n",
    "                name=f'Regime {regime}: {regime_label}',\n",
    "                showlegend=False\n",
    "            ),\n",
    "            row=3, col=1\n",
    "        )\n",
    "    \n",
    "    # Add a line for the LogVIX trend\n",
    "    fig.add_trace(\n",
    "        go.Scatter(\n",
    "            x=results['Date'],\n",
    "            y=results['LogVIX'],\n",
    "            mode='lines',\n",
    "            line=dict(color='rgba(0,0,0,0.3)'),\n",
    "            name='LogVIX',\n",
    "            showlegend=True\n",
    "        ),\n",
    "        row=3, col=1\n",
    "    )\n",
    "    \n",
    "    fig.update_layout(\n",
    "        height=1000,\n",
    "        title_text=title,\n",
    "        template='plotly_white',\n",
    "        legend_title='Regime',\n",
    "        hovermode='closest'\n",
    "    )\n",
    "    \n",
    "    fig.update_xaxes(title_text=\"Date\", row=3, col=1)\n",
    "    fig.update_yaxes(title_text=\"SPY Price\", row=1, col=1)\n",
    "    fig.update_yaxes(title_text=\"VIX\", row=2, col=1)\n",
    "    fig.update_yaxes(title_text=\"LogVIX\", row=3, col=1)\n",
    "    \n",
    "    fig.show()\n",
    "    \n",
    "    # Distribution of regimes pie chart\n",
    "    regime_percentage_data = []\n",
    "    for regime, label in enumerate(regime_labels):\n",
    "        if regime in results['Predicted_Regime'].values:\n",
    "            percentage = (results['Predicted_Regime'] == regime).mean() * 100\n",
    "            regime_percentage_data.append({\n",
    "                'Regime': f'Regime {regime}: {label}',\n",
    "                'Percentage': percentage\n",
    "            })\n",
    "    \n",
    "    regime_df = pd.DataFrame(regime_percentage_data)\n",
    "    \n",
    "    fig_pie = px.pie(\n",
    "        regime_df,\n",
    "        values='Percentage',\n",
    "        names='Regime',\n",
    "        title=f'Percentage of Time in Each Regime ({start_date} to {end_date})',\n",
    "        color_discrete_sequence=regime_colors\n",
    "    )\n",
    "    \n",
    "    fig_pie.update_traces(textinfo='percent+label', textposition='inside')\n",
    "    fig_pie.update_layout(uniformtext_minsize=12, uniformtext_mode='hide')\n",
    "    fig_pie.show()\n",
    "    \n",
    "    # Scatter plot of LogVIX vs Return colored by regime with labels\n",
    "    fig_scatter = px.scatter(\n",
    "        results,\n",
    "        x='LogVIX',\n",
    "        y='Return',\n",
    "        color='Regime_Label',\n",
    "        color_discrete_sequence=regime_colors,\n",
    "        title=f'LogVIX vs Return by Market Regime ({start_date} to {end_date})',\n",
    "        labels={'LogVIX': 'Log(VIX)', 'Return': 'Return (%)', 'Regime_Label': 'Market Regime'},\n",
    "        opacity=0.8,\n",
    "        hover_data=['Date', 'Close', 'VIX']\n",
    "    )\n",
    "    \n",
    "    fig_scatter.update_layout(\n",
    "        legend_title='Market Regime',\n",
    "        hovermode='closest',\n",
    "        template='plotly_white',\n",
    "        height=600,\n",
    "        width=900\n",
    "    )\n",
    "    \n",
    "    fig_scatter.update_xaxes(rangemode='tozero')\n",
    "    fig_scatter.show()\n",
    "    \n",
    "    # Add a summary of time spent in each regime\n",
    "    regime_summary = results.groupby('Regime_Label').agg({\n",
    "        'Close': ['mean', 'min', 'max', 'std'],\n",
    "        'VIX': ['mean', 'min', 'max', 'std'],\n",
    "        'Return': ['mean', 'min', 'max', 'std'],\n",
    "        'Predicted_Regime': 'count'\n",
    "    }).reset_index()\n",
    "    \n",
    "    regime_summary.columns = ['Regime_Label', 'Avg_Price', 'Min_Price', 'Max_Price', 'Std_Price',\n",
    "                             'Avg_VIX', 'Min_VIX', 'Max_VIX', 'Std_VIX',\n",
    "                             'Avg_Return', 'Min_Return', 'Max_Return', 'Std_Return', 'Days']\n",
    "    \n",
    "    regime_summary['Percentage'] = regime_summary['Days'] / len(results) * 100\n",
    "    \n",
    "    print(\"\\nRegime Summary Statistics:\")\n",
    "    display(regime_summary[['Regime_Label', 'Days', 'Percentage', 'Avg_Return', 'Avg_VIX', 'Avg_Price']])\n",
    "    \n",
    "    return results\n",
    "\n",
    "# Example: Analyze the most recent 3 months\n",
    "from datetime import datetime, timedelta\n",
    "\n",
    "today = datetime.today()\n",
    "three_months_ago = today - timedelta(days=90)\n",
    "\n",
    "start_date = three_months_ago.strftime('%Y-%m-%d')\n",
    "end_date = today.strftime('%Y-%m-%d')\n",
    "\n",
    "recent_results = analyze_market_regimes(\n",
    "    start_date, \n",
    "    end_date, \n",
    "    title=f'Market Regimes in Recent 3 Months ({start_date} to {end_date})'\n",
    ")"
   ]
  },
  {
   "cell_type": "code",
   "execution_count": 63,
   "metadata": {},
   "outputs": [
    {
     "name": "stdout",
     "output_type": "stream",
     "text": [
      "====== COVID-19 Market Crash (February-April 2020) ======\n",
      "Predicted regimes for period 2020-02-01 to 2020-04-30\n",
      "Data points: 62\n",
      "\n",
      "Regime Distribution:\n",
      "Regime 2 [Bear]: 62.90%\n",
      "Regime 1 [Neutral]: 24.19%\n",
      "Regime 0 [Bull]: 12.90%\n"
     ]
    },
    {
     "data": {
      "application/vnd.plotly.v1+json": {
       "config": {
        "plotlyServerURL": "https://plot.ly"
       },
       "data": [
        {
         "hovertemplate": "Regime=%{x}<br>Percentage=%{y}<br>Count=%{text}<extra></extra>",
         "legendgroup": "Bear",
         "marker": {
          "color": "rgb(102,194,165)",
          "pattern": {
           "shape": ""
          }
         },
         "name": "Bear",
         "orientation": "v",
         "showlegend": true,
         "text": {
          "bdata": "AAAAAACAQ0A=",
          "dtype": "f8"
         },
         "textposition": "outside",
         "type": "bar",
         "x": [
          "Bear"
         ],
         "xaxis": "x",
         "y": {
          "bdata": "dM4555xzT0A=",
          "dtype": "f8"
         },
         "yaxis": "y"
        },
        {
         "hovertemplate": "Regime=%{x}<br>Percentage=%{y}<br>Count=%{text}<extra></extra>",
         "legendgroup": "Bull",
         "marker": {
          "color": "rgb(252,141,98)",
          "pattern": {
           "shape": ""
          }
         },
         "name": "Bull",
         "orientation": "v",
         "showlegend": true,
         "text": {
          "bdata": "AAAAAAAAIEA=",
          "dtype": "f8"
         },
         "textposition": "outside",
         "type": "bar",
         "x": [
          "Bull"
         ],
         "xaxis": "x",
         "y": {
          "bdata": "zjnnnHPOKUA=",
          "dtype": "f8"
         },
         "yaxis": "y"
        },
        {
         "hovertemplate": "Regime=%{x}<br>Percentage=%{y}<br>Count=%{text}<extra></extra>",
         "legendgroup": "Neutral",
         "marker": {
          "color": "rgb(141,160,203)",
          "pattern": {
           "shape": ""
          }
         },
         "name": "Neutral",
         "orientation": "v",
         "showlegend": true,
         "text": {
          "bdata": "AAAAAAAALkA=",
          "dtype": "f8"
         },
         "textposition": "outside",
         "type": "bar",
         "x": [
          "Neutral"
         ],
         "xaxis": "x",
         "y": {
          "bdata": "MsYYY4wxOEA=",
          "dtype": "f8"
         },
         "yaxis": "y"
        }
       ],
       "layout": {
        "barmode": "relative",
        "height": 500,
        "legend": {
         "title": {
          "text": "Regime"
         },
         "tracegroupgap": 0
        },
        "showlegend": false,
        "template": {
         "data": {
          "bar": [
           {
            "error_x": {
             "color": "#2a3f5f"
            },
            "error_y": {
             "color": "#2a3f5f"
            },
            "marker": {
             "line": {
              "color": "white",
              "width": 0.5
             },
             "pattern": {
              "fillmode": "overlay",
              "size": 10,
              "solidity": 0.2
             }
            },
            "type": "bar"
           }
          ],
          "barpolar": [
           {
            "marker": {
             "line": {
              "color": "white",
              "width": 0.5
             },
             "pattern": {
              "fillmode": "overlay",
              "size": 10,
              "solidity": 0.2
             }
            },
            "type": "barpolar"
           }
          ],
          "carpet": [
           {
            "aaxis": {
             "endlinecolor": "#2a3f5f",
             "gridcolor": "#C8D4E3",
             "linecolor": "#C8D4E3",
             "minorgridcolor": "#C8D4E3",
             "startlinecolor": "#2a3f5f"
            },
            "baxis": {
             "endlinecolor": "#2a3f5f",
             "gridcolor": "#C8D4E3",
             "linecolor": "#C8D4E3",
             "minorgridcolor": "#C8D4E3",
             "startlinecolor": "#2a3f5f"
            },
            "type": "carpet"
           }
          ],
          "choropleth": [
           {
            "colorbar": {
             "outlinewidth": 0,
             "ticks": ""
            },
            "type": "choropleth"
           }
          ],
          "contour": [
           {
            "colorbar": {
             "outlinewidth": 0,
             "ticks": ""
            },
            "colorscale": [
             [
              0,
              "#0d0887"
             ],
             [
              0.1111111111111111,
              "#46039f"
             ],
             [
              0.2222222222222222,
              "#7201a8"
             ],
             [
              0.3333333333333333,
              "#9c179e"
             ],
             [
              0.4444444444444444,
              "#bd3786"
             ],
             [
              0.5555555555555556,
              "#d8576b"
             ],
             [
              0.6666666666666666,
              "#ed7953"
             ],
             [
              0.7777777777777778,
              "#fb9f3a"
             ],
             [
              0.8888888888888888,
              "#fdca26"
             ],
             [
              1,
              "#f0f921"
             ]
            ],
            "type": "contour"
           }
          ],
          "contourcarpet": [
           {
            "colorbar": {
             "outlinewidth": 0,
             "ticks": ""
            },
            "type": "contourcarpet"
           }
          ],
          "heatmap": [
           {
            "colorbar": {
             "outlinewidth": 0,
             "ticks": ""
            },
            "colorscale": [
             [
              0,
              "#0d0887"
             ],
             [
              0.1111111111111111,
              "#46039f"
             ],
             [
              0.2222222222222222,
              "#7201a8"
             ],
             [
              0.3333333333333333,
              "#9c179e"
             ],
             [
              0.4444444444444444,
              "#bd3786"
             ],
             [
              0.5555555555555556,
              "#d8576b"
             ],
             [
              0.6666666666666666,
              "#ed7953"
             ],
             [
              0.7777777777777778,
              "#fb9f3a"
             ],
             [
              0.8888888888888888,
              "#fdca26"
             ],
             [
              1,
              "#f0f921"
             ]
            ],
            "type": "heatmap"
           }
          ],
          "histogram": [
           {
            "marker": {
             "pattern": {
              "fillmode": "overlay",
              "size": 10,
              "solidity": 0.2
             }
            },
            "type": "histogram"
           }
          ],
          "histogram2d": [
           {
            "colorbar": {
             "outlinewidth": 0,
             "ticks": ""
            },
            "colorscale": [
             [
              0,
              "#0d0887"
             ],
             [
              0.1111111111111111,
              "#46039f"
             ],
             [
              0.2222222222222222,
              "#7201a8"
             ],
             [
              0.3333333333333333,
              "#9c179e"
             ],
             [
              0.4444444444444444,
              "#bd3786"
             ],
             [
              0.5555555555555556,
              "#d8576b"
             ],
             [
              0.6666666666666666,
              "#ed7953"
             ],
             [
              0.7777777777777778,
              "#fb9f3a"
             ],
             [
              0.8888888888888888,
              "#fdca26"
             ],
             [
              1,
              "#f0f921"
             ]
            ],
            "type": "histogram2d"
           }
          ],
          "histogram2dcontour": [
           {
            "colorbar": {
             "outlinewidth": 0,
             "ticks": ""
            },
            "colorscale": [
             [
              0,
              "#0d0887"
             ],
             [
              0.1111111111111111,
              "#46039f"
             ],
             [
              0.2222222222222222,
              "#7201a8"
             ],
             [
              0.3333333333333333,
              "#9c179e"
             ],
             [
              0.4444444444444444,
              "#bd3786"
             ],
             [
              0.5555555555555556,
              "#d8576b"
             ],
             [
              0.6666666666666666,
              "#ed7953"
             ],
             [
              0.7777777777777778,
              "#fb9f3a"
             ],
             [
              0.8888888888888888,
              "#fdca26"
             ],
             [
              1,
              "#f0f921"
             ]
            ],
            "type": "histogram2dcontour"
           }
          ],
          "mesh3d": [
           {
            "colorbar": {
             "outlinewidth": 0,
             "ticks": ""
            },
            "type": "mesh3d"
           }
          ],
          "parcoords": [
           {
            "line": {
             "colorbar": {
              "outlinewidth": 0,
              "ticks": ""
             }
            },
            "type": "parcoords"
           }
          ],
          "pie": [
           {
            "automargin": true,
            "type": "pie"
           }
          ],
          "scatter": [
           {
            "fillpattern": {
             "fillmode": "overlay",
             "size": 10,
             "solidity": 0.2
            },
            "type": "scatter"
           }
          ],
          "scatter3d": [
           {
            "line": {
             "colorbar": {
              "outlinewidth": 0,
              "ticks": ""
             }
            },
            "marker": {
             "colorbar": {
              "outlinewidth": 0,
              "ticks": ""
             }
            },
            "type": "scatter3d"
           }
          ],
          "scattercarpet": [
           {
            "marker": {
             "colorbar": {
              "outlinewidth": 0,
              "ticks": ""
             }
            },
            "type": "scattercarpet"
           }
          ],
          "scattergeo": [
           {
            "marker": {
             "colorbar": {
              "outlinewidth": 0,
              "ticks": ""
             }
            },
            "type": "scattergeo"
           }
          ],
          "scattergl": [
           {
            "marker": {
             "colorbar": {
              "outlinewidth": 0,
              "ticks": ""
             }
            },
            "type": "scattergl"
           }
          ],
          "scattermap": [
           {
            "marker": {
             "colorbar": {
              "outlinewidth": 0,
              "ticks": ""
             }
            },
            "type": "scattermap"
           }
          ],
          "scattermapbox": [
           {
            "marker": {
             "colorbar": {
              "outlinewidth": 0,
              "ticks": ""
             }
            },
            "type": "scattermapbox"
           }
          ],
          "scatterpolar": [
           {
            "marker": {
             "colorbar": {
              "outlinewidth": 0,
              "ticks": ""
             }
            },
            "type": "scatterpolar"
           }
          ],
          "scatterpolargl": [
           {
            "marker": {
             "colorbar": {
              "outlinewidth": 0,
              "ticks": ""
             }
            },
            "type": "scatterpolargl"
           }
          ],
          "scatterternary": [
           {
            "marker": {
             "colorbar": {
              "outlinewidth": 0,
              "ticks": ""
             }
            },
            "type": "scatterternary"
           }
          ],
          "surface": [
           {
            "colorbar": {
             "outlinewidth": 0,
             "ticks": ""
            },
            "colorscale": [
             [
              0,
              "#0d0887"
             ],
             [
              0.1111111111111111,
              "#46039f"
             ],
             [
              0.2222222222222222,
              "#7201a8"
             ],
             [
              0.3333333333333333,
              "#9c179e"
             ],
             [
              0.4444444444444444,
              "#bd3786"
             ],
             [
              0.5555555555555556,
              "#d8576b"
             ],
             [
              0.6666666666666666,
              "#ed7953"
             ],
             [
              0.7777777777777778,
              "#fb9f3a"
             ],
             [
              0.8888888888888888,
              "#fdca26"
             ],
             [
              1,
              "#f0f921"
             ]
            ],
            "type": "surface"
           }
          ],
          "table": [
           {
            "cells": {
             "fill": {
              "color": "#EBF0F8"
             },
             "line": {
              "color": "white"
             }
            },
            "header": {
             "fill": {
              "color": "#C8D4E3"
             },
             "line": {
              "color": "white"
             }
            },
            "type": "table"
           }
          ]
         },
         "layout": {
          "annotationdefaults": {
           "arrowcolor": "#2a3f5f",
           "arrowhead": 0,
           "arrowwidth": 1
          },
          "autotypenumbers": "strict",
          "coloraxis": {
           "colorbar": {
            "outlinewidth": 0,
            "ticks": ""
           }
          },
          "colorscale": {
           "diverging": [
            [
             0,
             "#8e0152"
            ],
            [
             0.1,
             "#c51b7d"
            ],
            [
             0.2,
             "#de77ae"
            ],
            [
             0.3,
             "#f1b6da"
            ],
            [
             0.4,
             "#fde0ef"
            ],
            [
             0.5,
             "#f7f7f7"
            ],
            [
             0.6,
             "#e6f5d0"
            ],
            [
             0.7,
             "#b8e186"
            ],
            [
             0.8,
             "#7fbc41"
            ],
            [
             0.9,
             "#4d9221"
            ],
            [
             1,
             "#276419"
            ]
           ],
           "sequential": [
            [
             0,
             "#0d0887"
            ],
            [
             0.1111111111111111,
             "#46039f"
            ],
            [
             0.2222222222222222,
             "#7201a8"
            ],
            [
             0.3333333333333333,
             "#9c179e"
            ],
            [
             0.4444444444444444,
             "#bd3786"
            ],
            [
             0.5555555555555556,
             "#d8576b"
            ],
            [
             0.6666666666666666,
             "#ed7953"
            ],
            [
             0.7777777777777778,
             "#fb9f3a"
            ],
            [
             0.8888888888888888,
             "#fdca26"
            ],
            [
             1,
             "#f0f921"
            ]
           ],
           "sequentialminus": [
            [
             0,
             "#0d0887"
            ],
            [
             0.1111111111111111,
             "#46039f"
            ],
            [
             0.2222222222222222,
             "#7201a8"
            ],
            [
             0.3333333333333333,
             "#9c179e"
            ],
            [
             0.4444444444444444,
             "#bd3786"
            ],
            [
             0.5555555555555556,
             "#d8576b"
            ],
            [
             0.6666666666666666,
             "#ed7953"
            ],
            [
             0.7777777777777778,
             "#fb9f3a"
            ],
            [
             0.8888888888888888,
             "#fdca26"
            ],
            [
             1,
             "#f0f921"
            ]
           ]
          },
          "colorway": [
           "#636efa",
           "#EF553B",
           "#00cc96",
           "#ab63fa",
           "#FFA15A",
           "#19d3f3",
           "#FF6692",
           "#B6E880",
           "#FF97FF",
           "#FECB52"
          ],
          "font": {
           "color": "#2a3f5f"
          },
          "geo": {
           "bgcolor": "white",
           "lakecolor": "white",
           "landcolor": "white",
           "showlakes": true,
           "showland": true,
           "subunitcolor": "#C8D4E3"
          },
          "hoverlabel": {
           "align": "left"
          },
          "hovermode": "closest",
          "mapbox": {
           "style": "light"
          },
          "paper_bgcolor": "white",
          "plot_bgcolor": "white",
          "polar": {
           "angularaxis": {
            "gridcolor": "#EBF0F8",
            "linecolor": "#EBF0F8",
            "ticks": ""
           },
           "bgcolor": "white",
           "radialaxis": {
            "gridcolor": "#EBF0F8",
            "linecolor": "#EBF0F8",
            "ticks": ""
           }
          },
          "scene": {
           "xaxis": {
            "backgroundcolor": "white",
            "gridcolor": "#DFE8F3",
            "gridwidth": 2,
            "linecolor": "#EBF0F8",
            "showbackground": true,
            "ticks": "",
            "zerolinecolor": "#EBF0F8"
           },
           "yaxis": {
            "backgroundcolor": "white",
            "gridcolor": "#DFE8F3",
            "gridwidth": 2,
            "linecolor": "#EBF0F8",
            "showbackground": true,
            "ticks": "",
            "zerolinecolor": "#EBF0F8"
           },
           "zaxis": {
            "backgroundcolor": "white",
            "gridcolor": "#DFE8F3",
            "gridwidth": 2,
            "linecolor": "#EBF0F8",
            "showbackground": true,
            "ticks": "",
            "zerolinecolor": "#EBF0F8"
           }
          },
          "shapedefaults": {
           "line": {
            "color": "#2a3f5f"
           }
          },
          "ternary": {
           "aaxis": {
            "gridcolor": "#DFE8F3",
            "linecolor": "#A2B1C6",
            "ticks": ""
           },
           "baxis": {
            "gridcolor": "#DFE8F3",
            "linecolor": "#A2B1C6",
            "ticks": ""
           },
           "bgcolor": "white",
           "caxis": {
            "gridcolor": "#DFE8F3",
            "linecolor": "#A2B1C6",
            "ticks": ""
           }
          },
          "title": {
           "x": 0.05
          },
          "xaxis": {
           "automargin": true,
           "gridcolor": "#EBF0F8",
           "linecolor": "#EBF0F8",
           "ticks": "",
           "title": {
            "standoff": 15
           },
           "zerolinecolor": "#EBF0F8",
           "zerolinewidth": 2
          },
          "yaxis": {
           "automargin": true,
           "gridcolor": "#EBF0F8",
           "linecolor": "#EBF0F8",
           "ticks": "",
           "title": {
            "standoff": 15
           },
           "zerolinecolor": "#EBF0F8",
           "zerolinewidth": 2
          }
         }
        },
        "title": {
         "text": "Market Regimes During COVID-19 Crash (Feb-Apr 2020)"
        },
        "width": 800,
        "xaxis": {
         "anchor": "y",
         "categoryarray": [
          "Bear",
          "Bull",
          "Neutral"
         ],
         "categoryorder": "array",
         "domain": [
          0,
          1
         ],
         "title": {
          "text": "Market Regime"
         }
        },
        "yaxis": {
         "anchor": "x",
         "domain": [
          0,
          1
         ],
         "title": {
          "text": "Percentage of Days (%)"
         }
        }
       }
      }
     },
     "metadata": {},
     "output_type": "display_data"
    },
    {
     "name": "stdout",
     "output_type": "stream",
     "text": [
      "\n",
      "====== Post-COVID Recovery (May-December 2020) ======\n",
      "Predicted regimes for period 2020-05-01 to 2020-12-31\n",
      "Data points: 170\n",
      "\n",
      "Regime Distribution:\n",
      "Regime 1 [Neutral]: 57.06%\n",
      "Regime 0 [Bull]: 37.06%\n",
      "Regime 2 [Bear]: 5.88%\n"
     ]
    },
    {
     "data": {
      "application/vnd.plotly.v1+json": {
       "config": {
        "plotlyServerURL": "https://plot.ly"
       },
       "data": [
        {
         "hovertemplate": "Regime=%{x}<br>Percentage=%{y}<br>Count=%{text}<extra></extra>",
         "legendgroup": "Bear",
         "marker": {
          "color": "rgb(102,194,165)",
          "pattern": {
           "shape": ""
          }
         },
         "name": "Bear",
         "orientation": "v",
         "showlegend": true,
         "text": {
          "bdata": "AAAAAAAAJEA=",
          "dtype": "f8"
         },
         "textposition": "outside",
         "type": "bar",
         "x": [
          "Bear"
         ],
         "xaxis": "x",
         "y": {
          "bdata": "h4eHh4eHF0A=",
          "dtype": "f8"
         },
         "yaxis": "y"
        },
        {
         "hovertemplate": "Regime=%{x}<br>Percentage=%{y}<br>Count=%{text}<extra></extra>",
         "legendgroup": "Bull",
         "marker": {
          "color": "rgb(252,141,98)",
          "pattern": {
           "shape": ""
          }
         },
         "name": "Bull",
         "orientation": "v",
         "showlegend": true,
         "text": {
          "bdata": "AAAAAACAT0A=",
          "dtype": "f8"
         },
         "textposition": "outside",
         "type": "bar",
         "x": [
          "Bull"
         ],
         "xaxis": "x",
         "y": {
          "bdata": "iIeHh4eHQkA=",
          "dtype": "f8"
         },
         "yaxis": "y"
        },
        {
         "hovertemplate": "Regime=%{x}<br>Percentage=%{y}<br>Count=%{text}<extra></extra>",
         "legendgroup": "Neutral",
         "marker": {
          "color": "rgb(141,160,203)",
          "pattern": {
           "shape": ""
          }
         },
         "name": "Neutral",
         "orientation": "v",
         "showlegend": true,
         "text": {
          "bdata": "AAAAAABAWEA=",
          "dtype": "f8"
         },
         "textposition": "outside",
         "type": "bar",
         "x": [
          "Neutral"
         ],
         "xaxis": "x",
         "y": {
          "bdata": "h4eHh4eHTEA=",
          "dtype": "f8"
         },
         "yaxis": "y"
        }
       ],
       "layout": {
        "barmode": "relative",
        "height": 500,
        "legend": {
         "title": {
          "text": "Regime"
         },
         "tracegroupgap": 0
        },
        "showlegend": false,
        "template": {
         "data": {
          "bar": [
           {
            "error_x": {
             "color": "#2a3f5f"
            },
            "error_y": {
             "color": "#2a3f5f"
            },
            "marker": {
             "line": {
              "color": "white",
              "width": 0.5
             },
             "pattern": {
              "fillmode": "overlay",
              "size": 10,
              "solidity": 0.2
             }
            },
            "type": "bar"
           }
          ],
          "barpolar": [
           {
            "marker": {
             "line": {
              "color": "white",
              "width": 0.5
             },
             "pattern": {
              "fillmode": "overlay",
              "size": 10,
              "solidity": 0.2
             }
            },
            "type": "barpolar"
           }
          ],
          "carpet": [
           {
            "aaxis": {
             "endlinecolor": "#2a3f5f",
             "gridcolor": "#C8D4E3",
             "linecolor": "#C8D4E3",
             "minorgridcolor": "#C8D4E3",
             "startlinecolor": "#2a3f5f"
            },
            "baxis": {
             "endlinecolor": "#2a3f5f",
             "gridcolor": "#C8D4E3",
             "linecolor": "#C8D4E3",
             "minorgridcolor": "#C8D4E3",
             "startlinecolor": "#2a3f5f"
            },
            "type": "carpet"
           }
          ],
          "choropleth": [
           {
            "colorbar": {
             "outlinewidth": 0,
             "ticks": ""
            },
            "type": "choropleth"
           }
          ],
          "contour": [
           {
            "colorbar": {
             "outlinewidth": 0,
             "ticks": ""
            },
            "colorscale": [
             [
              0,
              "#0d0887"
             ],
             [
              0.1111111111111111,
              "#46039f"
             ],
             [
              0.2222222222222222,
              "#7201a8"
             ],
             [
              0.3333333333333333,
              "#9c179e"
             ],
             [
              0.4444444444444444,
              "#bd3786"
             ],
             [
              0.5555555555555556,
              "#d8576b"
             ],
             [
              0.6666666666666666,
              "#ed7953"
             ],
             [
              0.7777777777777778,
              "#fb9f3a"
             ],
             [
              0.8888888888888888,
              "#fdca26"
             ],
             [
              1,
              "#f0f921"
             ]
            ],
            "type": "contour"
           }
          ],
          "contourcarpet": [
           {
            "colorbar": {
             "outlinewidth": 0,
             "ticks": ""
            },
            "type": "contourcarpet"
           }
          ],
          "heatmap": [
           {
            "colorbar": {
             "outlinewidth": 0,
             "ticks": ""
            },
            "colorscale": [
             [
              0,
              "#0d0887"
             ],
             [
              0.1111111111111111,
              "#46039f"
             ],
             [
              0.2222222222222222,
              "#7201a8"
             ],
             [
              0.3333333333333333,
              "#9c179e"
             ],
             [
              0.4444444444444444,
              "#bd3786"
             ],
             [
              0.5555555555555556,
              "#d8576b"
             ],
             [
              0.6666666666666666,
              "#ed7953"
             ],
             [
              0.7777777777777778,
              "#fb9f3a"
             ],
             [
              0.8888888888888888,
              "#fdca26"
             ],
             [
              1,
              "#f0f921"
             ]
            ],
            "type": "heatmap"
           }
          ],
          "histogram": [
           {
            "marker": {
             "pattern": {
              "fillmode": "overlay",
              "size": 10,
              "solidity": 0.2
             }
            },
            "type": "histogram"
           }
          ],
          "histogram2d": [
           {
            "colorbar": {
             "outlinewidth": 0,
             "ticks": ""
            },
            "colorscale": [
             [
              0,
              "#0d0887"
             ],
             [
              0.1111111111111111,
              "#46039f"
             ],
             [
              0.2222222222222222,
              "#7201a8"
             ],
             [
              0.3333333333333333,
              "#9c179e"
             ],
             [
              0.4444444444444444,
              "#bd3786"
             ],
             [
              0.5555555555555556,
              "#d8576b"
             ],
             [
              0.6666666666666666,
              "#ed7953"
             ],
             [
              0.7777777777777778,
              "#fb9f3a"
             ],
             [
              0.8888888888888888,
              "#fdca26"
             ],
             [
              1,
              "#f0f921"
             ]
            ],
            "type": "histogram2d"
           }
          ],
          "histogram2dcontour": [
           {
            "colorbar": {
             "outlinewidth": 0,
             "ticks": ""
            },
            "colorscale": [
             [
              0,
              "#0d0887"
             ],
             [
              0.1111111111111111,
              "#46039f"
             ],
             [
              0.2222222222222222,
              "#7201a8"
             ],
             [
              0.3333333333333333,
              "#9c179e"
             ],
             [
              0.4444444444444444,
              "#bd3786"
             ],
             [
              0.5555555555555556,
              "#d8576b"
             ],
             [
              0.6666666666666666,
              "#ed7953"
             ],
             [
              0.7777777777777778,
              "#fb9f3a"
             ],
             [
              0.8888888888888888,
              "#fdca26"
             ],
             [
              1,
              "#f0f921"
             ]
            ],
            "type": "histogram2dcontour"
           }
          ],
          "mesh3d": [
           {
            "colorbar": {
             "outlinewidth": 0,
             "ticks": ""
            },
            "type": "mesh3d"
           }
          ],
          "parcoords": [
           {
            "line": {
             "colorbar": {
              "outlinewidth": 0,
              "ticks": ""
             }
            },
            "type": "parcoords"
           }
          ],
          "pie": [
           {
            "automargin": true,
            "type": "pie"
           }
          ],
          "scatter": [
           {
            "fillpattern": {
             "fillmode": "overlay",
             "size": 10,
             "solidity": 0.2
            },
            "type": "scatter"
           }
          ],
          "scatter3d": [
           {
            "line": {
             "colorbar": {
              "outlinewidth": 0,
              "ticks": ""
             }
            },
            "marker": {
             "colorbar": {
              "outlinewidth": 0,
              "ticks": ""
             }
            },
            "type": "scatter3d"
           }
          ],
          "scattercarpet": [
           {
            "marker": {
             "colorbar": {
              "outlinewidth": 0,
              "ticks": ""
             }
            },
            "type": "scattercarpet"
           }
          ],
          "scattergeo": [
           {
            "marker": {
             "colorbar": {
              "outlinewidth": 0,
              "ticks": ""
             }
            },
            "type": "scattergeo"
           }
          ],
          "scattergl": [
           {
            "marker": {
             "colorbar": {
              "outlinewidth": 0,
              "ticks": ""
             }
            },
            "type": "scattergl"
           }
          ],
          "scattermap": [
           {
            "marker": {
             "colorbar": {
              "outlinewidth": 0,
              "ticks": ""
             }
            },
            "type": "scattermap"
           }
          ],
          "scattermapbox": [
           {
            "marker": {
             "colorbar": {
              "outlinewidth": 0,
              "ticks": ""
             }
            },
            "type": "scattermapbox"
           }
          ],
          "scatterpolar": [
           {
            "marker": {
             "colorbar": {
              "outlinewidth": 0,
              "ticks": ""
             }
            },
            "type": "scatterpolar"
           }
          ],
          "scatterpolargl": [
           {
            "marker": {
             "colorbar": {
              "outlinewidth": 0,
              "ticks": ""
             }
            },
            "type": "scatterpolargl"
           }
          ],
          "scatterternary": [
           {
            "marker": {
             "colorbar": {
              "outlinewidth": 0,
              "ticks": ""
             }
            },
            "type": "scatterternary"
           }
          ],
          "surface": [
           {
            "colorbar": {
             "outlinewidth": 0,
             "ticks": ""
            },
            "colorscale": [
             [
              0,
              "#0d0887"
             ],
             [
              0.1111111111111111,
              "#46039f"
             ],
             [
              0.2222222222222222,
              "#7201a8"
             ],
             [
              0.3333333333333333,
              "#9c179e"
             ],
             [
              0.4444444444444444,
              "#bd3786"
             ],
             [
              0.5555555555555556,
              "#d8576b"
             ],
             [
              0.6666666666666666,
              "#ed7953"
             ],
             [
              0.7777777777777778,
              "#fb9f3a"
             ],
             [
              0.8888888888888888,
              "#fdca26"
             ],
             [
              1,
              "#f0f921"
             ]
            ],
            "type": "surface"
           }
          ],
          "table": [
           {
            "cells": {
             "fill": {
              "color": "#EBF0F8"
             },
             "line": {
              "color": "white"
             }
            },
            "header": {
             "fill": {
              "color": "#C8D4E3"
             },
             "line": {
              "color": "white"
             }
            },
            "type": "table"
           }
          ]
         },
         "layout": {
          "annotationdefaults": {
           "arrowcolor": "#2a3f5f",
           "arrowhead": 0,
           "arrowwidth": 1
          },
          "autotypenumbers": "strict",
          "coloraxis": {
           "colorbar": {
            "outlinewidth": 0,
            "ticks": ""
           }
          },
          "colorscale": {
           "diverging": [
            [
             0,
             "#8e0152"
            ],
            [
             0.1,
             "#c51b7d"
            ],
            [
             0.2,
             "#de77ae"
            ],
            [
             0.3,
             "#f1b6da"
            ],
            [
             0.4,
             "#fde0ef"
            ],
            [
             0.5,
             "#f7f7f7"
            ],
            [
             0.6,
             "#e6f5d0"
            ],
            [
             0.7,
             "#b8e186"
            ],
            [
             0.8,
             "#7fbc41"
            ],
            [
             0.9,
             "#4d9221"
            ],
            [
             1,
             "#276419"
            ]
           ],
           "sequential": [
            [
             0,
             "#0d0887"
            ],
            [
             0.1111111111111111,
             "#46039f"
            ],
            [
             0.2222222222222222,
             "#7201a8"
            ],
            [
             0.3333333333333333,
             "#9c179e"
            ],
            [
             0.4444444444444444,
             "#bd3786"
            ],
            [
             0.5555555555555556,
             "#d8576b"
            ],
            [
             0.6666666666666666,
             "#ed7953"
            ],
            [
             0.7777777777777778,
             "#fb9f3a"
            ],
            [
             0.8888888888888888,
             "#fdca26"
            ],
            [
             1,
             "#f0f921"
            ]
           ],
           "sequentialminus": [
            [
             0,
             "#0d0887"
            ],
            [
             0.1111111111111111,
             "#46039f"
            ],
            [
             0.2222222222222222,
             "#7201a8"
            ],
            [
             0.3333333333333333,
             "#9c179e"
            ],
            [
             0.4444444444444444,
             "#bd3786"
            ],
            [
             0.5555555555555556,
             "#d8576b"
            ],
            [
             0.6666666666666666,
             "#ed7953"
            ],
            [
             0.7777777777777778,
             "#fb9f3a"
            ],
            [
             0.8888888888888888,
             "#fdca26"
            ],
            [
             1,
             "#f0f921"
            ]
           ]
          },
          "colorway": [
           "#636efa",
           "#EF553B",
           "#00cc96",
           "#ab63fa",
           "#FFA15A",
           "#19d3f3",
           "#FF6692",
           "#B6E880",
           "#FF97FF",
           "#FECB52"
          ],
          "font": {
           "color": "#2a3f5f"
          },
          "geo": {
           "bgcolor": "white",
           "lakecolor": "white",
           "landcolor": "white",
           "showlakes": true,
           "showland": true,
           "subunitcolor": "#C8D4E3"
          },
          "hoverlabel": {
           "align": "left"
          },
          "hovermode": "closest",
          "mapbox": {
           "style": "light"
          },
          "paper_bgcolor": "white",
          "plot_bgcolor": "white",
          "polar": {
           "angularaxis": {
            "gridcolor": "#EBF0F8",
            "linecolor": "#EBF0F8",
            "ticks": ""
           },
           "bgcolor": "white",
           "radialaxis": {
            "gridcolor": "#EBF0F8",
            "linecolor": "#EBF0F8",
            "ticks": ""
           }
          },
          "scene": {
           "xaxis": {
            "backgroundcolor": "white",
            "gridcolor": "#DFE8F3",
            "gridwidth": 2,
            "linecolor": "#EBF0F8",
            "showbackground": true,
            "ticks": "",
            "zerolinecolor": "#EBF0F8"
           },
           "yaxis": {
            "backgroundcolor": "white",
            "gridcolor": "#DFE8F3",
            "gridwidth": 2,
            "linecolor": "#EBF0F8",
            "showbackground": true,
            "ticks": "",
            "zerolinecolor": "#EBF0F8"
           },
           "zaxis": {
            "backgroundcolor": "white",
            "gridcolor": "#DFE8F3",
            "gridwidth": 2,
            "linecolor": "#EBF0F8",
            "showbackground": true,
            "ticks": "",
            "zerolinecolor": "#EBF0F8"
           }
          },
          "shapedefaults": {
           "line": {
            "color": "#2a3f5f"
           }
          },
          "ternary": {
           "aaxis": {
            "gridcolor": "#DFE8F3",
            "linecolor": "#A2B1C6",
            "ticks": ""
           },
           "baxis": {
            "gridcolor": "#DFE8F3",
            "linecolor": "#A2B1C6",
            "ticks": ""
           },
           "bgcolor": "white",
           "caxis": {
            "gridcolor": "#DFE8F3",
            "linecolor": "#A2B1C6",
            "ticks": ""
           }
          },
          "title": {
           "x": 0.05
          },
          "xaxis": {
           "automargin": true,
           "gridcolor": "#EBF0F8",
           "linecolor": "#EBF0F8",
           "ticks": "",
           "title": {
            "standoff": 15
           },
           "zerolinecolor": "#EBF0F8",
           "zerolinewidth": 2
          },
          "yaxis": {
           "automargin": true,
           "gridcolor": "#EBF0F8",
           "linecolor": "#EBF0F8",
           "ticks": "",
           "title": {
            "standoff": 15
           },
           "zerolinecolor": "#EBF0F8",
           "zerolinewidth": 2
          }
         }
        },
        "title": {
         "text": "Market Regimes During Post-COVID Recovery (May-Dec 2020)"
        },
        "width": 800,
        "xaxis": {
         "anchor": "y",
         "categoryarray": [
          "Bear",
          "Bull",
          "Neutral"
         ],
         "categoryorder": "array",
         "domain": [
          0,
          1
         ],
         "title": {
          "text": "Market Regime"
         }
        },
        "yaxis": {
         "anchor": "x",
         "domain": [
          0,
          1
         ],
         "title": {
          "text": "Percentage of Days (%)"
         }
        }
       }
      }
     },
     "metadata": {},
     "output_type": "display_data"
    },
    {
     "name": "stdout",
     "output_type": "stream",
     "text": [
      "\n",
      "====== 2022 Bear Market ======\n",
      "Predicted regimes for period 2022-01-01 to 2022-12-31\n",
      "Data points: 251\n",
      "\n",
      "Regime Distribution:\n",
      "Regime 1 [Neutral]: 64.94%\n",
      "Regime 2 [Bear]: 32.67%\n",
      "Regime 0 [Bull]: 2.39%\n"
     ]
    },
    {
     "data": {
      "application/vnd.plotly.v1+json": {
       "config": {
        "plotlyServerURL": "https://plot.ly"
       },
       "data": [
        {
         "hovertemplate": "Regime=%{x}<br>Percentage=%{y}<br>Count=%{text}<extra></extra>",
         "legendgroup": "Bear",
         "marker": {
          "color": "rgb(102,194,165)",
          "pattern": {
           "shape": ""
          }
         },
         "name": "Bear",
         "orientation": "v",
         "showlegend": true,
         "text": {
          "bdata": "AAAAAACAVEA=",
          "dtype": "f8"
         },
         "textposition": "outside",
         "type": "bar",
         "x": [
          "Bear"
         ],
         "xaxis": "x",
         "y": {
          "bdata": "0SnVXaxVQEA=",
          "dtype": "f8"
         },
         "yaxis": "y"
        },
        {
         "hovertemplate": "Regime=%{x}<br>Percentage=%{y}<br>Count=%{text}<extra></extra>",
         "legendgroup": "Bull",
         "marker": {
          "color": "rgb(252,141,98)",
          "pattern": {
           "shape": ""
          }
         },
         "name": "Bull",
         "orientation": "v",
         "showlegend": true,
         "text": {
          "bdata": "AAAAAAAAGEA=",
          "dtype": "f8"
         },
         "textposition": "outside",
         "type": "bar",
         "x": [
          "Bull"
         ],
         "xaxis": "x",
         "y": {
          "bdata": "9TBwFp4fA0A=",
          "dtype": "f8"
         },
         "yaxis": "y"
        },
        {
         "hovertemplate": "Regime=%{x}<br>Percentage=%{y}<br>Count=%{text}<extra></extra>",
         "legendgroup": "Neutral",
         "marker": {
          "color": "rgb(141,160,203)",
          "pattern": {
           "shape": ""
          }
         },
         "name": "Neutral",
         "orientation": "v",
         "showlegend": true,
         "text": {
          "bdata": "AAAAAABgZEA=",
          "dtype": "f8"
         },
         "textposition": "outside",
         "type": "bar",
         "x": [
          "Neutral"
         ],
         "xaxis": "x",
         "y": {
          "bdata": "kOlh4Cw8UEA=",
          "dtype": "f8"
         },
         "yaxis": "y"
        }
       ],
       "layout": {
        "barmode": "relative",
        "height": 500,
        "legend": {
         "title": {
          "text": "Regime"
         },
         "tracegroupgap": 0
        },
        "showlegend": false,
        "template": {
         "data": {
          "bar": [
           {
            "error_x": {
             "color": "#2a3f5f"
            },
            "error_y": {
             "color": "#2a3f5f"
            },
            "marker": {
             "line": {
              "color": "white",
              "width": 0.5
             },
             "pattern": {
              "fillmode": "overlay",
              "size": 10,
              "solidity": 0.2
             }
            },
            "type": "bar"
           }
          ],
          "barpolar": [
           {
            "marker": {
             "line": {
              "color": "white",
              "width": 0.5
             },
             "pattern": {
              "fillmode": "overlay",
              "size": 10,
              "solidity": 0.2
             }
            },
            "type": "barpolar"
           }
          ],
          "carpet": [
           {
            "aaxis": {
             "endlinecolor": "#2a3f5f",
             "gridcolor": "#C8D4E3",
             "linecolor": "#C8D4E3",
             "minorgridcolor": "#C8D4E3",
             "startlinecolor": "#2a3f5f"
            },
            "baxis": {
             "endlinecolor": "#2a3f5f",
             "gridcolor": "#C8D4E3",
             "linecolor": "#C8D4E3",
             "minorgridcolor": "#C8D4E3",
             "startlinecolor": "#2a3f5f"
            },
            "type": "carpet"
           }
          ],
          "choropleth": [
           {
            "colorbar": {
             "outlinewidth": 0,
             "ticks": ""
            },
            "type": "choropleth"
           }
          ],
          "contour": [
           {
            "colorbar": {
             "outlinewidth": 0,
             "ticks": ""
            },
            "colorscale": [
             [
              0,
              "#0d0887"
             ],
             [
              0.1111111111111111,
              "#46039f"
             ],
             [
              0.2222222222222222,
              "#7201a8"
             ],
             [
              0.3333333333333333,
              "#9c179e"
             ],
             [
              0.4444444444444444,
              "#bd3786"
             ],
             [
              0.5555555555555556,
              "#d8576b"
             ],
             [
              0.6666666666666666,
              "#ed7953"
             ],
             [
              0.7777777777777778,
              "#fb9f3a"
             ],
             [
              0.8888888888888888,
              "#fdca26"
             ],
             [
              1,
              "#f0f921"
             ]
            ],
            "type": "contour"
           }
          ],
          "contourcarpet": [
           {
            "colorbar": {
             "outlinewidth": 0,
             "ticks": ""
            },
            "type": "contourcarpet"
           }
          ],
          "heatmap": [
           {
            "colorbar": {
             "outlinewidth": 0,
             "ticks": ""
            },
            "colorscale": [
             [
              0,
              "#0d0887"
             ],
             [
              0.1111111111111111,
              "#46039f"
             ],
             [
              0.2222222222222222,
              "#7201a8"
             ],
             [
              0.3333333333333333,
              "#9c179e"
             ],
             [
              0.4444444444444444,
              "#bd3786"
             ],
             [
              0.5555555555555556,
              "#d8576b"
             ],
             [
              0.6666666666666666,
              "#ed7953"
             ],
             [
              0.7777777777777778,
              "#fb9f3a"
             ],
             [
              0.8888888888888888,
              "#fdca26"
             ],
             [
              1,
              "#f0f921"
             ]
            ],
            "type": "heatmap"
           }
          ],
          "histogram": [
           {
            "marker": {
             "pattern": {
              "fillmode": "overlay",
              "size": 10,
              "solidity": 0.2
             }
            },
            "type": "histogram"
           }
          ],
          "histogram2d": [
           {
            "colorbar": {
             "outlinewidth": 0,
             "ticks": ""
            },
            "colorscale": [
             [
              0,
              "#0d0887"
             ],
             [
              0.1111111111111111,
              "#46039f"
             ],
             [
              0.2222222222222222,
              "#7201a8"
             ],
             [
              0.3333333333333333,
              "#9c179e"
             ],
             [
              0.4444444444444444,
              "#bd3786"
             ],
             [
              0.5555555555555556,
              "#d8576b"
             ],
             [
              0.6666666666666666,
              "#ed7953"
             ],
             [
              0.7777777777777778,
              "#fb9f3a"
             ],
             [
              0.8888888888888888,
              "#fdca26"
             ],
             [
              1,
              "#f0f921"
             ]
            ],
            "type": "histogram2d"
           }
          ],
          "histogram2dcontour": [
           {
            "colorbar": {
             "outlinewidth": 0,
             "ticks": ""
            },
            "colorscale": [
             [
              0,
              "#0d0887"
             ],
             [
              0.1111111111111111,
              "#46039f"
             ],
             [
              0.2222222222222222,
              "#7201a8"
             ],
             [
              0.3333333333333333,
              "#9c179e"
             ],
             [
              0.4444444444444444,
              "#bd3786"
             ],
             [
              0.5555555555555556,
              "#d8576b"
             ],
             [
              0.6666666666666666,
              "#ed7953"
             ],
             [
              0.7777777777777778,
              "#fb9f3a"
             ],
             [
              0.8888888888888888,
              "#fdca26"
             ],
             [
              1,
              "#f0f921"
             ]
            ],
            "type": "histogram2dcontour"
           }
          ],
          "mesh3d": [
           {
            "colorbar": {
             "outlinewidth": 0,
             "ticks": ""
            },
            "type": "mesh3d"
           }
          ],
          "parcoords": [
           {
            "line": {
             "colorbar": {
              "outlinewidth": 0,
              "ticks": ""
             }
            },
            "type": "parcoords"
           }
          ],
          "pie": [
           {
            "automargin": true,
            "type": "pie"
           }
          ],
          "scatter": [
           {
            "fillpattern": {
             "fillmode": "overlay",
             "size": 10,
             "solidity": 0.2
            },
            "type": "scatter"
           }
          ],
          "scatter3d": [
           {
            "line": {
             "colorbar": {
              "outlinewidth": 0,
              "ticks": ""
             }
            },
            "marker": {
             "colorbar": {
              "outlinewidth": 0,
              "ticks": ""
             }
            },
            "type": "scatter3d"
           }
          ],
          "scattercarpet": [
           {
            "marker": {
             "colorbar": {
              "outlinewidth": 0,
              "ticks": ""
             }
            },
            "type": "scattercarpet"
           }
          ],
          "scattergeo": [
           {
            "marker": {
             "colorbar": {
              "outlinewidth": 0,
              "ticks": ""
             }
            },
            "type": "scattergeo"
           }
          ],
          "scattergl": [
           {
            "marker": {
             "colorbar": {
              "outlinewidth": 0,
              "ticks": ""
             }
            },
            "type": "scattergl"
           }
          ],
          "scattermap": [
           {
            "marker": {
             "colorbar": {
              "outlinewidth": 0,
              "ticks": ""
             }
            },
            "type": "scattermap"
           }
          ],
          "scattermapbox": [
           {
            "marker": {
             "colorbar": {
              "outlinewidth": 0,
              "ticks": ""
             }
            },
            "type": "scattermapbox"
           }
          ],
          "scatterpolar": [
           {
            "marker": {
             "colorbar": {
              "outlinewidth": 0,
              "ticks": ""
             }
            },
            "type": "scatterpolar"
           }
          ],
          "scatterpolargl": [
           {
            "marker": {
             "colorbar": {
              "outlinewidth": 0,
              "ticks": ""
             }
            },
            "type": "scatterpolargl"
           }
          ],
          "scatterternary": [
           {
            "marker": {
             "colorbar": {
              "outlinewidth": 0,
              "ticks": ""
             }
            },
            "type": "scatterternary"
           }
          ],
          "surface": [
           {
            "colorbar": {
             "outlinewidth": 0,
             "ticks": ""
            },
            "colorscale": [
             [
              0,
              "#0d0887"
             ],
             [
              0.1111111111111111,
              "#46039f"
             ],
             [
              0.2222222222222222,
              "#7201a8"
             ],
             [
              0.3333333333333333,
              "#9c179e"
             ],
             [
              0.4444444444444444,
              "#bd3786"
             ],
             [
              0.5555555555555556,
              "#d8576b"
             ],
             [
              0.6666666666666666,
              "#ed7953"
             ],
             [
              0.7777777777777778,
              "#fb9f3a"
             ],
             [
              0.8888888888888888,
              "#fdca26"
             ],
             [
              1,
              "#f0f921"
             ]
            ],
            "type": "surface"
           }
          ],
          "table": [
           {
            "cells": {
             "fill": {
              "color": "#EBF0F8"
             },
             "line": {
              "color": "white"
             }
            },
            "header": {
             "fill": {
              "color": "#C8D4E3"
             },
             "line": {
              "color": "white"
             }
            },
            "type": "table"
           }
          ]
         },
         "layout": {
          "annotationdefaults": {
           "arrowcolor": "#2a3f5f",
           "arrowhead": 0,
           "arrowwidth": 1
          },
          "autotypenumbers": "strict",
          "coloraxis": {
           "colorbar": {
            "outlinewidth": 0,
            "ticks": ""
           }
          },
          "colorscale": {
           "diverging": [
            [
             0,
             "#8e0152"
            ],
            [
             0.1,
             "#c51b7d"
            ],
            [
             0.2,
             "#de77ae"
            ],
            [
             0.3,
             "#f1b6da"
            ],
            [
             0.4,
             "#fde0ef"
            ],
            [
             0.5,
             "#f7f7f7"
            ],
            [
             0.6,
             "#e6f5d0"
            ],
            [
             0.7,
             "#b8e186"
            ],
            [
             0.8,
             "#7fbc41"
            ],
            [
             0.9,
             "#4d9221"
            ],
            [
             1,
             "#276419"
            ]
           ],
           "sequential": [
            [
             0,
             "#0d0887"
            ],
            [
             0.1111111111111111,
             "#46039f"
            ],
            [
             0.2222222222222222,
             "#7201a8"
            ],
            [
             0.3333333333333333,
             "#9c179e"
            ],
            [
             0.4444444444444444,
             "#bd3786"
            ],
            [
             0.5555555555555556,
             "#d8576b"
            ],
            [
             0.6666666666666666,
             "#ed7953"
            ],
            [
             0.7777777777777778,
             "#fb9f3a"
            ],
            [
             0.8888888888888888,
             "#fdca26"
            ],
            [
             1,
             "#f0f921"
            ]
           ],
           "sequentialminus": [
            [
             0,
             "#0d0887"
            ],
            [
             0.1111111111111111,
             "#46039f"
            ],
            [
             0.2222222222222222,
             "#7201a8"
            ],
            [
             0.3333333333333333,
             "#9c179e"
            ],
            [
             0.4444444444444444,
             "#bd3786"
            ],
            [
             0.5555555555555556,
             "#d8576b"
            ],
            [
             0.6666666666666666,
             "#ed7953"
            ],
            [
             0.7777777777777778,
             "#fb9f3a"
            ],
            [
             0.8888888888888888,
             "#fdca26"
            ],
            [
             1,
             "#f0f921"
            ]
           ]
          },
          "colorway": [
           "#636efa",
           "#EF553B",
           "#00cc96",
           "#ab63fa",
           "#FFA15A",
           "#19d3f3",
           "#FF6692",
           "#B6E880",
           "#FF97FF",
           "#FECB52"
          ],
          "font": {
           "color": "#2a3f5f"
          },
          "geo": {
           "bgcolor": "white",
           "lakecolor": "white",
           "landcolor": "white",
           "showlakes": true,
           "showland": true,
           "subunitcolor": "#C8D4E3"
          },
          "hoverlabel": {
           "align": "left"
          },
          "hovermode": "closest",
          "mapbox": {
           "style": "light"
          },
          "paper_bgcolor": "white",
          "plot_bgcolor": "white",
          "polar": {
           "angularaxis": {
            "gridcolor": "#EBF0F8",
            "linecolor": "#EBF0F8",
            "ticks": ""
           },
           "bgcolor": "white",
           "radialaxis": {
            "gridcolor": "#EBF0F8",
            "linecolor": "#EBF0F8",
            "ticks": ""
           }
          },
          "scene": {
           "xaxis": {
            "backgroundcolor": "white",
            "gridcolor": "#DFE8F3",
            "gridwidth": 2,
            "linecolor": "#EBF0F8",
            "showbackground": true,
            "ticks": "",
            "zerolinecolor": "#EBF0F8"
           },
           "yaxis": {
            "backgroundcolor": "white",
            "gridcolor": "#DFE8F3",
            "gridwidth": 2,
            "linecolor": "#EBF0F8",
            "showbackground": true,
            "ticks": "",
            "zerolinecolor": "#EBF0F8"
           },
           "zaxis": {
            "backgroundcolor": "white",
            "gridcolor": "#DFE8F3",
            "gridwidth": 2,
            "linecolor": "#EBF0F8",
            "showbackground": true,
            "ticks": "",
            "zerolinecolor": "#EBF0F8"
           }
          },
          "shapedefaults": {
           "line": {
            "color": "#2a3f5f"
           }
          },
          "ternary": {
           "aaxis": {
            "gridcolor": "#DFE8F3",
            "linecolor": "#A2B1C6",
            "ticks": ""
           },
           "baxis": {
            "gridcolor": "#DFE8F3",
            "linecolor": "#A2B1C6",
            "ticks": ""
           },
           "bgcolor": "white",
           "caxis": {
            "gridcolor": "#DFE8F3",
            "linecolor": "#A2B1C6",
            "ticks": ""
           }
          },
          "title": {
           "x": 0.05
          },
          "xaxis": {
           "automargin": true,
           "gridcolor": "#EBF0F8",
           "linecolor": "#EBF0F8",
           "ticks": "",
           "title": {
            "standoff": 15
           },
           "zerolinecolor": "#EBF0F8",
           "zerolinewidth": 2
          },
          "yaxis": {
           "automargin": true,
           "gridcolor": "#EBF0F8",
           "linecolor": "#EBF0F8",
           "ticks": "",
           "title": {
            "standoff": 15
           },
           "zerolinecolor": "#EBF0F8",
           "zerolinewidth": 2
          }
         }
        },
        "title": {
         "text": "Market Regimes During 2022 Bear Market"
        },
        "width": 800,
        "xaxis": {
         "anchor": "y",
         "categoryarray": [
          "Bear",
          "Bull",
          "Neutral"
         ],
         "categoryorder": "array",
         "domain": [
          0,
          1
         ],
         "title": {
          "text": "Market Regime"
         }
        },
        "yaxis": {
         "anchor": "x",
         "domain": [
          0,
          1
         ],
         "title": {
          "text": "Percentage of Days (%)"
         }
        }
       }
      }
     },
     "metadata": {},
     "output_type": "display_data"
    },
    {
     "name": "stdout",
     "output_type": "stream",
     "text": [
      "\n",
      "====== 2023 Recovery ======\n",
      "Predicted regimes for period 2023-01-01 to 2023-12-31\n",
      "Data points: 250\n",
      "\n",
      "Regime Distribution:\n",
      "Regime 1 [Neutral]: 65.60%\n",
      "Regime 0 [Bull]: 32.40%\n",
      "Regime 2 [Bear]: 2.00%\n"
     ]
    },
    {
     "data": {
      "application/vnd.plotly.v1+json": {
       "config": {
        "plotlyServerURL": "https://plot.ly"
       },
       "data": [
        {
         "hovertemplate": "Regime=%{x}<br>Percentage=%{y}<br>Count=%{text}<extra></extra>",
         "legendgroup": "Bear",
         "marker": {
          "color": "rgb(102,194,165)",
          "pattern": {
           "shape": ""
          }
         },
         "name": "Bear",
         "orientation": "v",
         "showlegend": true,
         "text": {
          "bdata": "AAAAAAAAFEA=",
          "dtype": "f8"
         },
         "textposition": "outside",
         "type": "bar",
         "x": [
          "Bear"
         ],
         "xaxis": "x",
         "y": {
          "bdata": "AAAAAAAAAEA=",
          "dtype": "f8"
         },
         "yaxis": "y"
        },
        {
         "hovertemplate": "Regime=%{x}<br>Percentage=%{y}<br>Count=%{text}<extra></extra>",
         "legendgroup": "Bull",
         "marker": {
          "color": "rgb(252,141,98)",
          "pattern": {
           "shape": ""
          }
         },
         "name": "Bull",
         "orientation": "v",
         "showlegend": true,
         "text": {
          "bdata": "AAAAAABAVEA=",
          "dtype": "f8"
         },
         "textposition": "outside",
         "type": "bar",
         "x": [
          "Bull"
         ],
         "xaxis": "x",
         "y": {
          "bdata": "MzMzMzMzQEA=",
          "dtype": "f8"
         },
         "yaxis": "y"
        },
        {
         "hovertemplate": "Regime=%{x}<br>Percentage=%{y}<br>Count=%{text}<extra></extra>",
         "legendgroup": "Neutral",
         "marker": {
          "color": "rgb(141,160,203)",
          "pattern": {
           "shape": ""
          }
         },
         "name": "Neutral",
         "orientation": "v",
         "showlegend": true,
         "text": {
          "bdata": "AAAAAACAZEA=",
          "dtype": "f8"
         },
         "textposition": "outside",
         "type": "bar",
         "x": [
          "Neutral"
         ],
         "xaxis": "x",
         "y": {
          "bdata": "Z2ZmZmZmUEA=",
          "dtype": "f8"
         },
         "yaxis": "y"
        }
       ],
       "layout": {
        "barmode": "relative",
        "height": 500,
        "legend": {
         "title": {
          "text": "Regime"
         },
         "tracegroupgap": 0
        },
        "showlegend": false,
        "template": {
         "data": {
          "bar": [
           {
            "error_x": {
             "color": "#2a3f5f"
            },
            "error_y": {
             "color": "#2a3f5f"
            },
            "marker": {
             "line": {
              "color": "white",
              "width": 0.5
             },
             "pattern": {
              "fillmode": "overlay",
              "size": 10,
              "solidity": 0.2
             }
            },
            "type": "bar"
           }
          ],
          "barpolar": [
           {
            "marker": {
             "line": {
              "color": "white",
              "width": 0.5
             },
             "pattern": {
              "fillmode": "overlay",
              "size": 10,
              "solidity": 0.2
             }
            },
            "type": "barpolar"
           }
          ],
          "carpet": [
           {
            "aaxis": {
             "endlinecolor": "#2a3f5f",
             "gridcolor": "#C8D4E3",
             "linecolor": "#C8D4E3",
             "minorgridcolor": "#C8D4E3",
             "startlinecolor": "#2a3f5f"
            },
            "baxis": {
             "endlinecolor": "#2a3f5f",
             "gridcolor": "#C8D4E3",
             "linecolor": "#C8D4E3",
             "minorgridcolor": "#C8D4E3",
             "startlinecolor": "#2a3f5f"
            },
            "type": "carpet"
           }
          ],
          "choropleth": [
           {
            "colorbar": {
             "outlinewidth": 0,
             "ticks": ""
            },
            "type": "choropleth"
           }
          ],
          "contour": [
           {
            "colorbar": {
             "outlinewidth": 0,
             "ticks": ""
            },
            "colorscale": [
             [
              0,
              "#0d0887"
             ],
             [
              0.1111111111111111,
              "#46039f"
             ],
             [
              0.2222222222222222,
              "#7201a8"
             ],
             [
              0.3333333333333333,
              "#9c179e"
             ],
             [
              0.4444444444444444,
              "#bd3786"
             ],
             [
              0.5555555555555556,
              "#d8576b"
             ],
             [
              0.6666666666666666,
              "#ed7953"
             ],
             [
              0.7777777777777778,
              "#fb9f3a"
             ],
             [
              0.8888888888888888,
              "#fdca26"
             ],
             [
              1,
              "#f0f921"
             ]
            ],
            "type": "contour"
           }
          ],
          "contourcarpet": [
           {
            "colorbar": {
             "outlinewidth": 0,
             "ticks": ""
            },
            "type": "contourcarpet"
           }
          ],
          "heatmap": [
           {
            "colorbar": {
             "outlinewidth": 0,
             "ticks": ""
            },
            "colorscale": [
             [
              0,
              "#0d0887"
             ],
             [
              0.1111111111111111,
              "#46039f"
             ],
             [
              0.2222222222222222,
              "#7201a8"
             ],
             [
              0.3333333333333333,
              "#9c179e"
             ],
             [
              0.4444444444444444,
              "#bd3786"
             ],
             [
              0.5555555555555556,
              "#d8576b"
             ],
             [
              0.6666666666666666,
              "#ed7953"
             ],
             [
              0.7777777777777778,
              "#fb9f3a"
             ],
             [
              0.8888888888888888,
              "#fdca26"
             ],
             [
              1,
              "#f0f921"
             ]
            ],
            "type": "heatmap"
           }
          ],
          "histogram": [
           {
            "marker": {
             "pattern": {
              "fillmode": "overlay",
              "size": 10,
              "solidity": 0.2
             }
            },
            "type": "histogram"
           }
          ],
          "histogram2d": [
           {
            "colorbar": {
             "outlinewidth": 0,
             "ticks": ""
            },
            "colorscale": [
             [
              0,
              "#0d0887"
             ],
             [
              0.1111111111111111,
              "#46039f"
             ],
             [
              0.2222222222222222,
              "#7201a8"
             ],
             [
              0.3333333333333333,
              "#9c179e"
             ],
             [
              0.4444444444444444,
              "#bd3786"
             ],
             [
              0.5555555555555556,
              "#d8576b"
             ],
             [
              0.6666666666666666,
              "#ed7953"
             ],
             [
              0.7777777777777778,
              "#fb9f3a"
             ],
             [
              0.8888888888888888,
              "#fdca26"
             ],
             [
              1,
              "#f0f921"
             ]
            ],
            "type": "histogram2d"
           }
          ],
          "histogram2dcontour": [
           {
            "colorbar": {
             "outlinewidth": 0,
             "ticks": ""
            },
            "colorscale": [
             [
              0,
              "#0d0887"
             ],
             [
              0.1111111111111111,
              "#46039f"
             ],
             [
              0.2222222222222222,
              "#7201a8"
             ],
             [
              0.3333333333333333,
              "#9c179e"
             ],
             [
              0.4444444444444444,
              "#bd3786"
             ],
             [
              0.5555555555555556,
              "#d8576b"
             ],
             [
              0.6666666666666666,
              "#ed7953"
             ],
             [
              0.7777777777777778,
              "#fb9f3a"
             ],
             [
              0.8888888888888888,
              "#fdca26"
             ],
             [
              1,
              "#f0f921"
             ]
            ],
            "type": "histogram2dcontour"
           }
          ],
          "mesh3d": [
           {
            "colorbar": {
             "outlinewidth": 0,
             "ticks": ""
            },
            "type": "mesh3d"
           }
          ],
          "parcoords": [
           {
            "line": {
             "colorbar": {
              "outlinewidth": 0,
              "ticks": ""
             }
            },
            "type": "parcoords"
           }
          ],
          "pie": [
           {
            "automargin": true,
            "type": "pie"
           }
          ],
          "scatter": [
           {
            "fillpattern": {
             "fillmode": "overlay",
             "size": 10,
             "solidity": 0.2
            },
            "type": "scatter"
           }
          ],
          "scatter3d": [
           {
            "line": {
             "colorbar": {
              "outlinewidth": 0,
              "ticks": ""
             }
            },
            "marker": {
             "colorbar": {
              "outlinewidth": 0,
              "ticks": ""
             }
            },
            "type": "scatter3d"
           }
          ],
          "scattercarpet": [
           {
            "marker": {
             "colorbar": {
              "outlinewidth": 0,
              "ticks": ""
             }
            },
            "type": "scattercarpet"
           }
          ],
          "scattergeo": [
           {
            "marker": {
             "colorbar": {
              "outlinewidth": 0,
              "ticks": ""
             }
            },
            "type": "scattergeo"
           }
          ],
          "scattergl": [
           {
            "marker": {
             "colorbar": {
              "outlinewidth": 0,
              "ticks": ""
             }
            },
            "type": "scattergl"
           }
          ],
          "scattermap": [
           {
            "marker": {
             "colorbar": {
              "outlinewidth": 0,
              "ticks": ""
             }
            },
            "type": "scattermap"
           }
          ],
          "scattermapbox": [
           {
            "marker": {
             "colorbar": {
              "outlinewidth": 0,
              "ticks": ""
             }
            },
            "type": "scattermapbox"
           }
          ],
          "scatterpolar": [
           {
            "marker": {
             "colorbar": {
              "outlinewidth": 0,
              "ticks": ""
             }
            },
            "type": "scatterpolar"
           }
          ],
          "scatterpolargl": [
           {
            "marker": {
             "colorbar": {
              "outlinewidth": 0,
              "ticks": ""
             }
            },
            "type": "scatterpolargl"
           }
          ],
          "scatterternary": [
           {
            "marker": {
             "colorbar": {
              "outlinewidth": 0,
              "ticks": ""
             }
            },
            "type": "scatterternary"
           }
          ],
          "surface": [
           {
            "colorbar": {
             "outlinewidth": 0,
             "ticks": ""
            },
            "colorscale": [
             [
              0,
              "#0d0887"
             ],
             [
              0.1111111111111111,
              "#46039f"
             ],
             [
              0.2222222222222222,
              "#7201a8"
             ],
             [
              0.3333333333333333,
              "#9c179e"
             ],
             [
              0.4444444444444444,
              "#bd3786"
             ],
             [
              0.5555555555555556,
              "#d8576b"
             ],
             [
              0.6666666666666666,
              "#ed7953"
             ],
             [
              0.7777777777777778,
              "#fb9f3a"
             ],
             [
              0.8888888888888888,
              "#fdca26"
             ],
             [
              1,
              "#f0f921"
             ]
            ],
            "type": "surface"
           }
          ],
          "table": [
           {
            "cells": {
             "fill": {
              "color": "#EBF0F8"
             },
             "line": {
              "color": "white"
             }
            },
            "header": {
             "fill": {
              "color": "#C8D4E3"
             },
             "line": {
              "color": "white"
             }
            },
            "type": "table"
           }
          ]
         },
         "layout": {
          "annotationdefaults": {
           "arrowcolor": "#2a3f5f",
           "arrowhead": 0,
           "arrowwidth": 1
          },
          "autotypenumbers": "strict",
          "coloraxis": {
           "colorbar": {
            "outlinewidth": 0,
            "ticks": ""
           }
          },
          "colorscale": {
           "diverging": [
            [
             0,
             "#8e0152"
            ],
            [
             0.1,
             "#c51b7d"
            ],
            [
             0.2,
             "#de77ae"
            ],
            [
             0.3,
             "#f1b6da"
            ],
            [
             0.4,
             "#fde0ef"
            ],
            [
             0.5,
             "#f7f7f7"
            ],
            [
             0.6,
             "#e6f5d0"
            ],
            [
             0.7,
             "#b8e186"
            ],
            [
             0.8,
             "#7fbc41"
            ],
            [
             0.9,
             "#4d9221"
            ],
            [
             1,
             "#276419"
            ]
           ],
           "sequential": [
            [
             0,
             "#0d0887"
            ],
            [
             0.1111111111111111,
             "#46039f"
            ],
            [
             0.2222222222222222,
             "#7201a8"
            ],
            [
             0.3333333333333333,
             "#9c179e"
            ],
            [
             0.4444444444444444,
             "#bd3786"
            ],
            [
             0.5555555555555556,
             "#d8576b"
            ],
            [
             0.6666666666666666,
             "#ed7953"
            ],
            [
             0.7777777777777778,
             "#fb9f3a"
            ],
            [
             0.8888888888888888,
             "#fdca26"
            ],
            [
             1,
             "#f0f921"
            ]
           ],
           "sequentialminus": [
            [
             0,
             "#0d0887"
            ],
            [
             0.1111111111111111,
             "#46039f"
            ],
            [
             0.2222222222222222,
             "#7201a8"
            ],
            [
             0.3333333333333333,
             "#9c179e"
            ],
            [
             0.4444444444444444,
             "#bd3786"
            ],
            [
             0.5555555555555556,
             "#d8576b"
            ],
            [
             0.6666666666666666,
             "#ed7953"
            ],
            [
             0.7777777777777778,
             "#fb9f3a"
            ],
            [
             0.8888888888888888,
             "#fdca26"
            ],
            [
             1,
             "#f0f921"
            ]
           ]
          },
          "colorway": [
           "#636efa",
           "#EF553B",
           "#00cc96",
           "#ab63fa",
           "#FFA15A",
           "#19d3f3",
           "#FF6692",
           "#B6E880",
           "#FF97FF",
           "#FECB52"
          ],
          "font": {
           "color": "#2a3f5f"
          },
          "geo": {
           "bgcolor": "white",
           "lakecolor": "white",
           "landcolor": "white",
           "showlakes": true,
           "showland": true,
           "subunitcolor": "#C8D4E3"
          },
          "hoverlabel": {
           "align": "left"
          },
          "hovermode": "closest",
          "mapbox": {
           "style": "light"
          },
          "paper_bgcolor": "white",
          "plot_bgcolor": "white",
          "polar": {
           "angularaxis": {
            "gridcolor": "#EBF0F8",
            "linecolor": "#EBF0F8",
            "ticks": ""
           },
           "bgcolor": "white",
           "radialaxis": {
            "gridcolor": "#EBF0F8",
            "linecolor": "#EBF0F8",
            "ticks": ""
           }
          },
          "scene": {
           "xaxis": {
            "backgroundcolor": "white",
            "gridcolor": "#DFE8F3",
            "gridwidth": 2,
            "linecolor": "#EBF0F8",
            "showbackground": true,
            "ticks": "",
            "zerolinecolor": "#EBF0F8"
           },
           "yaxis": {
            "backgroundcolor": "white",
            "gridcolor": "#DFE8F3",
            "gridwidth": 2,
            "linecolor": "#EBF0F8",
            "showbackground": true,
            "ticks": "",
            "zerolinecolor": "#EBF0F8"
           },
           "zaxis": {
            "backgroundcolor": "white",
            "gridcolor": "#DFE8F3",
            "gridwidth": 2,
            "linecolor": "#EBF0F8",
            "showbackground": true,
            "ticks": "",
            "zerolinecolor": "#EBF0F8"
           }
          },
          "shapedefaults": {
           "line": {
            "color": "#2a3f5f"
           }
          },
          "ternary": {
           "aaxis": {
            "gridcolor": "#DFE8F3",
            "linecolor": "#A2B1C6",
            "ticks": ""
           },
           "baxis": {
            "gridcolor": "#DFE8F3",
            "linecolor": "#A2B1C6",
            "ticks": ""
           },
           "bgcolor": "white",
           "caxis": {
            "gridcolor": "#DFE8F3",
            "linecolor": "#A2B1C6",
            "ticks": ""
           }
          },
          "title": {
           "x": 0.05
          },
          "xaxis": {
           "automargin": true,
           "gridcolor": "#EBF0F8",
           "linecolor": "#EBF0F8",
           "ticks": "",
           "title": {
            "standoff": 15
           },
           "zerolinecolor": "#EBF0F8",
           "zerolinewidth": 2
          },
          "yaxis": {
           "automargin": true,
           "gridcolor": "#EBF0F8",
           "linecolor": "#EBF0F8",
           "ticks": "",
           "title": {
            "standoff": 15
           },
           "zerolinecolor": "#EBF0F8",
           "zerolinewidth": 2
          }
         }
        },
        "title": {
         "text": "Market Regimes During 2023 Recovery"
        },
        "width": 800,
        "xaxis": {
         "anchor": "y",
         "categoryarray": [
          "Bear",
          "Bull",
          "Neutral"
         ],
         "categoryorder": "array",
         "domain": [
          0,
          1
         ],
         "title": {
          "text": "Market Regime"
         }
        },
        "yaxis": {
         "anchor": "x",
         "domain": [
          0,
          1
         ],
         "title": {
          "text": "Percentage of Days (%)"
         }
        }
       }
      }
     },
     "metadata": {},
     "output_type": "display_data"
    },
    {
     "name": "stdout",
     "output_type": "stream",
     "text": [
      "\n",
      "====== Current Year (2024) ======\n",
      "Predicted regimes for period 2024-01-01 to 2025-04-11\n",
      "Data points: 320\n",
      "\n",
      "Regime Distribution:\n",
      "Regime 1 [Neutral]: 55.62%\n",
      "Regime 0 [Bull]: 27.50%\n",
      "Regime 2 [Bear]: 16.88%\n"
     ]
    },
    {
     "data": {
      "application/vnd.plotly.v1+json": {
       "config": {
        "plotlyServerURL": "https://plot.ly"
       },
       "data": [
        {
         "hovertemplate": "Regime=%{x}<br>Percentage=%{y}<br>Count=%{text}<extra></extra>",
         "legendgroup": "Bear",
         "marker": {
          "color": "rgb(102,194,165)",
          "pattern": {
           "shape": ""
          }
         },
         "name": "Bear",
         "orientation": "v",
         "showlegend": true,
         "text": {
          "bdata": "AAAAAAAAS0A=",
          "dtype": "f8"
         },
         "textposition": "outside",
         "type": "bar",
         "x": [
          "Bear"
         ],
         "xaxis": "x",
         "y": {
          "bdata": "AAAAAADgMEA=",
          "dtype": "f8"
         },
         "yaxis": "y"
        },
        {
         "hovertemplate": "Regime=%{x}<br>Percentage=%{y}<br>Count=%{text}<extra></extra>",
         "legendgroup": "Bull",
         "marker": {
          "color": "rgb(252,141,98)",
          "pattern": {
           "shape": ""
          }
         },
         "name": "Bull",
         "orientation": "v",
         "showlegend": true,
         "text": {
          "bdata": "AAAAAAAAVkA=",
          "dtype": "f8"
         },
         "textposition": "outside",
         "type": "bar",
         "x": [
          "Bull"
         ],
         "xaxis": "x",
         "y": {
          "bdata": "AQAAAACAO0A=",
          "dtype": "f8"
         },
         "yaxis": "y"
        },
        {
         "hovertemplate": "Regime=%{x}<br>Percentage=%{y}<br>Count=%{text}<extra></extra>",
         "legendgroup": "Neutral",
         "marker": {
          "color": "rgb(141,160,203)",
          "pattern": {
           "shape": ""
          }
         },
         "name": "Neutral",
         "orientation": "v",
         "showlegend": true,
         "text": {
          "bdata": "AAAAAABAZkA=",
          "dtype": "f8"
         },
         "textposition": "outside",
         "type": "bar",
         "x": [
          "Neutral"
         ],
         "xaxis": "x",
         "y": {
          "bdata": "AAAAAADQS0A=",
          "dtype": "f8"
         },
         "yaxis": "y"
        }
       ],
       "layout": {
        "barmode": "relative",
        "height": 500,
        "legend": {
         "title": {
          "text": "Regime"
         },
         "tracegroupgap": 0
        },
        "showlegend": false,
        "template": {
         "data": {
          "bar": [
           {
            "error_x": {
             "color": "#2a3f5f"
            },
            "error_y": {
             "color": "#2a3f5f"
            },
            "marker": {
             "line": {
              "color": "white",
              "width": 0.5
             },
             "pattern": {
              "fillmode": "overlay",
              "size": 10,
              "solidity": 0.2
             }
            },
            "type": "bar"
           }
          ],
          "barpolar": [
           {
            "marker": {
             "line": {
              "color": "white",
              "width": 0.5
             },
             "pattern": {
              "fillmode": "overlay",
              "size": 10,
              "solidity": 0.2
             }
            },
            "type": "barpolar"
           }
          ],
          "carpet": [
           {
            "aaxis": {
             "endlinecolor": "#2a3f5f",
             "gridcolor": "#C8D4E3",
             "linecolor": "#C8D4E3",
             "minorgridcolor": "#C8D4E3",
             "startlinecolor": "#2a3f5f"
            },
            "baxis": {
             "endlinecolor": "#2a3f5f",
             "gridcolor": "#C8D4E3",
             "linecolor": "#C8D4E3",
             "minorgridcolor": "#C8D4E3",
             "startlinecolor": "#2a3f5f"
            },
            "type": "carpet"
           }
          ],
          "choropleth": [
           {
            "colorbar": {
             "outlinewidth": 0,
             "ticks": ""
            },
            "type": "choropleth"
           }
          ],
          "contour": [
           {
            "colorbar": {
             "outlinewidth": 0,
             "ticks": ""
            },
            "colorscale": [
             [
              0,
              "#0d0887"
             ],
             [
              0.1111111111111111,
              "#46039f"
             ],
             [
              0.2222222222222222,
              "#7201a8"
             ],
             [
              0.3333333333333333,
              "#9c179e"
             ],
             [
              0.4444444444444444,
              "#bd3786"
             ],
             [
              0.5555555555555556,
              "#d8576b"
             ],
             [
              0.6666666666666666,
              "#ed7953"
             ],
             [
              0.7777777777777778,
              "#fb9f3a"
             ],
             [
              0.8888888888888888,
              "#fdca26"
             ],
             [
              1,
              "#f0f921"
             ]
            ],
            "type": "contour"
           }
          ],
          "contourcarpet": [
           {
            "colorbar": {
             "outlinewidth": 0,
             "ticks": ""
            },
            "type": "contourcarpet"
           }
          ],
          "heatmap": [
           {
            "colorbar": {
             "outlinewidth": 0,
             "ticks": ""
            },
            "colorscale": [
             [
              0,
              "#0d0887"
             ],
             [
              0.1111111111111111,
              "#46039f"
             ],
             [
              0.2222222222222222,
              "#7201a8"
             ],
             [
              0.3333333333333333,
              "#9c179e"
             ],
             [
              0.4444444444444444,
              "#bd3786"
             ],
             [
              0.5555555555555556,
              "#d8576b"
             ],
             [
              0.6666666666666666,
              "#ed7953"
             ],
             [
              0.7777777777777778,
              "#fb9f3a"
             ],
             [
              0.8888888888888888,
              "#fdca26"
             ],
             [
              1,
              "#f0f921"
             ]
            ],
            "type": "heatmap"
           }
          ],
          "histogram": [
           {
            "marker": {
             "pattern": {
              "fillmode": "overlay",
              "size": 10,
              "solidity": 0.2
             }
            },
            "type": "histogram"
           }
          ],
          "histogram2d": [
           {
            "colorbar": {
             "outlinewidth": 0,
             "ticks": ""
            },
            "colorscale": [
             [
              0,
              "#0d0887"
             ],
             [
              0.1111111111111111,
              "#46039f"
             ],
             [
              0.2222222222222222,
              "#7201a8"
             ],
             [
              0.3333333333333333,
              "#9c179e"
             ],
             [
              0.4444444444444444,
              "#bd3786"
             ],
             [
              0.5555555555555556,
              "#d8576b"
             ],
             [
              0.6666666666666666,
              "#ed7953"
             ],
             [
              0.7777777777777778,
              "#fb9f3a"
             ],
             [
              0.8888888888888888,
              "#fdca26"
             ],
             [
              1,
              "#f0f921"
             ]
            ],
            "type": "histogram2d"
           }
          ],
          "histogram2dcontour": [
           {
            "colorbar": {
             "outlinewidth": 0,
             "ticks": ""
            },
            "colorscale": [
             [
              0,
              "#0d0887"
             ],
             [
              0.1111111111111111,
              "#46039f"
             ],
             [
              0.2222222222222222,
              "#7201a8"
             ],
             [
              0.3333333333333333,
              "#9c179e"
             ],
             [
              0.4444444444444444,
              "#bd3786"
             ],
             [
              0.5555555555555556,
              "#d8576b"
             ],
             [
              0.6666666666666666,
              "#ed7953"
             ],
             [
              0.7777777777777778,
              "#fb9f3a"
             ],
             [
              0.8888888888888888,
              "#fdca26"
             ],
             [
              1,
              "#f0f921"
             ]
            ],
            "type": "histogram2dcontour"
           }
          ],
          "mesh3d": [
           {
            "colorbar": {
             "outlinewidth": 0,
             "ticks": ""
            },
            "type": "mesh3d"
           }
          ],
          "parcoords": [
           {
            "line": {
             "colorbar": {
              "outlinewidth": 0,
              "ticks": ""
             }
            },
            "type": "parcoords"
           }
          ],
          "pie": [
           {
            "automargin": true,
            "type": "pie"
           }
          ],
          "scatter": [
           {
            "fillpattern": {
             "fillmode": "overlay",
             "size": 10,
             "solidity": 0.2
            },
            "type": "scatter"
           }
          ],
          "scatter3d": [
           {
            "line": {
             "colorbar": {
              "outlinewidth": 0,
              "ticks": ""
             }
            },
            "marker": {
             "colorbar": {
              "outlinewidth": 0,
              "ticks": ""
             }
            },
            "type": "scatter3d"
           }
          ],
          "scattercarpet": [
           {
            "marker": {
             "colorbar": {
              "outlinewidth": 0,
              "ticks": ""
             }
            },
            "type": "scattercarpet"
           }
          ],
          "scattergeo": [
           {
            "marker": {
             "colorbar": {
              "outlinewidth": 0,
              "ticks": ""
             }
            },
            "type": "scattergeo"
           }
          ],
          "scattergl": [
           {
            "marker": {
             "colorbar": {
              "outlinewidth": 0,
              "ticks": ""
             }
            },
            "type": "scattergl"
           }
          ],
          "scattermap": [
           {
            "marker": {
             "colorbar": {
              "outlinewidth": 0,
              "ticks": ""
             }
            },
            "type": "scattermap"
           }
          ],
          "scattermapbox": [
           {
            "marker": {
             "colorbar": {
              "outlinewidth": 0,
              "ticks": ""
             }
            },
            "type": "scattermapbox"
           }
          ],
          "scatterpolar": [
           {
            "marker": {
             "colorbar": {
              "outlinewidth": 0,
              "ticks": ""
             }
            },
            "type": "scatterpolar"
           }
          ],
          "scatterpolargl": [
           {
            "marker": {
             "colorbar": {
              "outlinewidth": 0,
              "ticks": ""
             }
            },
            "type": "scatterpolargl"
           }
          ],
          "scatterternary": [
           {
            "marker": {
             "colorbar": {
              "outlinewidth": 0,
              "ticks": ""
             }
            },
            "type": "scatterternary"
           }
          ],
          "surface": [
           {
            "colorbar": {
             "outlinewidth": 0,
             "ticks": ""
            },
            "colorscale": [
             [
              0,
              "#0d0887"
             ],
             [
              0.1111111111111111,
              "#46039f"
             ],
             [
              0.2222222222222222,
              "#7201a8"
             ],
             [
              0.3333333333333333,
              "#9c179e"
             ],
             [
              0.4444444444444444,
              "#bd3786"
             ],
             [
              0.5555555555555556,
              "#d8576b"
             ],
             [
              0.6666666666666666,
              "#ed7953"
             ],
             [
              0.7777777777777778,
              "#fb9f3a"
             ],
             [
              0.8888888888888888,
              "#fdca26"
             ],
             [
              1,
              "#f0f921"
             ]
            ],
            "type": "surface"
           }
          ],
          "table": [
           {
            "cells": {
             "fill": {
              "color": "#EBF0F8"
             },
             "line": {
              "color": "white"
             }
            },
            "header": {
             "fill": {
              "color": "#C8D4E3"
             },
             "line": {
              "color": "white"
             }
            },
            "type": "table"
           }
          ]
         },
         "layout": {
          "annotationdefaults": {
           "arrowcolor": "#2a3f5f",
           "arrowhead": 0,
           "arrowwidth": 1
          },
          "autotypenumbers": "strict",
          "coloraxis": {
           "colorbar": {
            "outlinewidth": 0,
            "ticks": ""
           }
          },
          "colorscale": {
           "diverging": [
            [
             0,
             "#8e0152"
            ],
            [
             0.1,
             "#c51b7d"
            ],
            [
             0.2,
             "#de77ae"
            ],
            [
             0.3,
             "#f1b6da"
            ],
            [
             0.4,
             "#fde0ef"
            ],
            [
             0.5,
             "#f7f7f7"
            ],
            [
             0.6,
             "#e6f5d0"
            ],
            [
             0.7,
             "#b8e186"
            ],
            [
             0.8,
             "#7fbc41"
            ],
            [
             0.9,
             "#4d9221"
            ],
            [
             1,
             "#276419"
            ]
           ],
           "sequential": [
            [
             0,
             "#0d0887"
            ],
            [
             0.1111111111111111,
             "#46039f"
            ],
            [
             0.2222222222222222,
             "#7201a8"
            ],
            [
             0.3333333333333333,
             "#9c179e"
            ],
            [
             0.4444444444444444,
             "#bd3786"
            ],
            [
             0.5555555555555556,
             "#d8576b"
            ],
            [
             0.6666666666666666,
             "#ed7953"
            ],
            [
             0.7777777777777778,
             "#fb9f3a"
            ],
            [
             0.8888888888888888,
             "#fdca26"
            ],
            [
             1,
             "#f0f921"
            ]
           ],
           "sequentialminus": [
            [
             0,
             "#0d0887"
            ],
            [
             0.1111111111111111,
             "#46039f"
            ],
            [
             0.2222222222222222,
             "#7201a8"
            ],
            [
             0.3333333333333333,
             "#9c179e"
            ],
            [
             0.4444444444444444,
             "#bd3786"
            ],
            [
             0.5555555555555556,
             "#d8576b"
            ],
            [
             0.6666666666666666,
             "#ed7953"
            ],
            [
             0.7777777777777778,
             "#fb9f3a"
            ],
            [
             0.8888888888888888,
             "#fdca26"
            ],
            [
             1,
             "#f0f921"
            ]
           ]
          },
          "colorway": [
           "#636efa",
           "#EF553B",
           "#00cc96",
           "#ab63fa",
           "#FFA15A",
           "#19d3f3",
           "#FF6692",
           "#B6E880",
           "#FF97FF",
           "#FECB52"
          ],
          "font": {
           "color": "#2a3f5f"
          },
          "geo": {
           "bgcolor": "white",
           "lakecolor": "white",
           "landcolor": "white",
           "showlakes": true,
           "showland": true,
           "subunitcolor": "#C8D4E3"
          },
          "hoverlabel": {
           "align": "left"
          },
          "hovermode": "closest",
          "mapbox": {
           "style": "light"
          },
          "paper_bgcolor": "white",
          "plot_bgcolor": "white",
          "polar": {
           "angularaxis": {
            "gridcolor": "#EBF0F8",
            "linecolor": "#EBF0F8",
            "ticks": ""
           },
           "bgcolor": "white",
           "radialaxis": {
            "gridcolor": "#EBF0F8",
            "linecolor": "#EBF0F8",
            "ticks": ""
           }
          },
          "scene": {
           "xaxis": {
            "backgroundcolor": "white",
            "gridcolor": "#DFE8F3",
            "gridwidth": 2,
            "linecolor": "#EBF0F8",
            "showbackground": true,
            "ticks": "",
            "zerolinecolor": "#EBF0F8"
           },
           "yaxis": {
            "backgroundcolor": "white",
            "gridcolor": "#DFE8F3",
            "gridwidth": 2,
            "linecolor": "#EBF0F8",
            "showbackground": true,
            "ticks": "",
            "zerolinecolor": "#EBF0F8"
           },
           "zaxis": {
            "backgroundcolor": "white",
            "gridcolor": "#DFE8F3",
            "gridwidth": 2,
            "linecolor": "#EBF0F8",
            "showbackground": true,
            "ticks": "",
            "zerolinecolor": "#EBF0F8"
           }
          },
          "shapedefaults": {
           "line": {
            "color": "#2a3f5f"
           }
          },
          "ternary": {
           "aaxis": {
            "gridcolor": "#DFE8F3",
            "linecolor": "#A2B1C6",
            "ticks": ""
           },
           "baxis": {
            "gridcolor": "#DFE8F3",
            "linecolor": "#A2B1C6",
            "ticks": ""
           },
           "bgcolor": "white",
           "caxis": {
            "gridcolor": "#DFE8F3",
            "linecolor": "#A2B1C6",
            "ticks": ""
           }
          },
          "title": {
           "x": 0.05
          },
          "xaxis": {
           "automargin": true,
           "gridcolor": "#EBF0F8",
           "linecolor": "#EBF0F8",
           "ticks": "",
           "title": {
            "standoff": 15
           },
           "zerolinecolor": "#EBF0F8",
           "zerolinewidth": 2
          },
          "yaxis": {
           "automargin": true,
           "gridcolor": "#EBF0F8",
           "linecolor": "#EBF0F8",
           "ticks": "",
           "title": {
            "standoff": 15
           },
           "zerolinecolor": "#EBF0F8",
           "zerolinewidth": 2
          }
         }
        },
        "title": {
         "text": "Market Regimes in 2024 (Through 2025-04-11)"
        },
        "width": 800,
        "xaxis": {
         "anchor": "y",
         "categoryarray": [
          "Bear",
          "Bull",
          "Neutral"
         ],
         "categoryorder": "array",
         "domain": [
          0,
          1
         ],
         "title": {
          "text": "Market Regime"
         }
        },
        "yaxis": {
         "anchor": "x",
         "domain": [
          0,
          1
         ],
         "title": {
          "text": "Percentage of Days (%)"
         }
        }
       }
      }
     },
     "metadata": {},
     "output_type": "display_data"
    }
   ],
   "source": [
    "# Visualize market regime predictions for specific historical periods of interest\n",
    "\n",
    "# Function to plot regime histogram for a specific time period\n",
    "def plot_regime_distribution(start_date, end_date, title=None):\n",
    "    \"\"\"Plot distribution of regimes for a specific time period\"\"\"\n",
    "    results = predict_regimes(model, df, start_date, end_date, regime_labels)\n",
    "    \n",
    "    if results is None or results.empty:\n",
    "        print(f\"No data available for period {start_date} to {end_date}\")\n",
    "        return\n",
    "    \n",
    "    # Count by regime label\n",
    "    counts = results.groupby('Regime_Label')['Date'].count()\n",
    "    percentages = counts / len(results) * 100\n",
    "    \n",
    "    # Create a dataframe for plotting\n",
    "    plot_data = pd.DataFrame({\n",
    "        'Regime': counts.index,\n",
    "        'Count': counts.values,\n",
    "        'Percentage': percentages.values\n",
    "    })\n",
    "    \n",
    "    # Plot\n",
    "    fig = px.bar(\n",
    "        plot_data,\n",
    "        x='Regime',\n",
    "        y='Percentage',\n",
    "        color='Regime',\n",
    "        color_discrete_sequence=regime_colors[:len(counts)],\n",
    "        text='Count',\n",
    "        title=title or f'Regime Distribution ({start_date} to {end_date})'\n",
    "    )\n",
    "    \n",
    "    fig.update_layout(\n",
    "        height=500,\n",
    "        width=800,\n",
    "        template='plotly_white',\n",
    "        showlegend=False,\n",
    "        yaxis_title='Percentage of Days (%)',\n",
    "        xaxis_title='Market Regime'\n",
    "    )\n",
    "    \n",
    "    fig.update_traces(textposition='outside')\n",
    "    fig.show()\n",
    "    \n",
    "    # Return summary statistics\n",
    "    return results.groupby('Regime_Label').agg({\n",
    "        'Close': ['mean', 'std'],\n",
    "        'Return': ['mean', 'std'],\n",
    "        'VIX': ['mean', 'std'],\n",
    "        'LogVIX': ['mean', 'std'],\n",
    "        'Predicted_Regime': 'count'\n",
    "    })\n",
    "\n",
    "# 1. COVID-19 Market Crash (February-April 2020)\n",
    "print(\"====== COVID-19 Market Crash (February-April 2020) ======\")\n",
    "covid_crash = plot_regime_distribution(\"2020-02-01\", \"2020-04-30\", \n",
    "                                      \"Market Regimes During COVID-19 Crash (Feb-Apr 2020)\")\n",
    "\n",
    "# 2. Post-COVID Recovery (May-December 2020)\n",
    "print(\"\\n====== Post-COVID Recovery (May-December 2020) ======\")\n",
    "covid_recovery = plot_regime_distribution(\"2020-05-01\", \"2020-12-31\", \n",
    "                                         \"Market Regimes During Post-COVID Recovery (May-Dec 2020)\")\n",
    "\n",
    "# 3. 2022 Bear Market\n",
    "print(\"\\n====== 2022 Bear Market ======\")\n",
    "bear_2022 = plot_regime_distribution(\"2022-01-01\", \"2022-12-31\", \n",
    "                                    \"Market Regimes During 2022 Bear Market\")\n",
    "\n",
    "# 4. 2023 Recovery\n",
    "print(\"\\n====== 2023 Recovery ======\")\n",
    "recovery_2023 = plot_regime_distribution(\"2023-01-01\", \"2023-12-31\", \n",
    "                                        \"Market Regimes During 2023 Recovery\")\n",
    "\n",
    "# 5. Current Year\n",
    "print(\"\\n====== Current Year (2024) ======\")\n",
    "current_year = plot_regime_distribution(\"2024-01-01\", end_date, \n",
    "                                       f\"Market Regimes in 2024 (Through {end_date})\")"
   ]
  },
  {
   "cell_type": "code",
   "execution_count": 64,
   "metadata": {},
   "outputs": [
    {
     "name": "stdout",
     "output_type": "stream",
     "text": [
      "Predicting market regimes from 2025-04-11 to 2025-05-11\n",
      "No data available for period 2025-04-11 to 2025-05-11\n",
      "NOTE: Prediction period extends into the future\n",
      "Predicted regimes for period 2025-04-11 to 2025-05-11\n",
      "Data points: 21\n",
      "\n",
      "Regime Distribution:\n",
      "Regime 2 [Bear]: 95.24%\n",
      "Regime 1 [Neutral]: 4.76%\n"
     ]
    },
    {
     "data": {
      "application/vnd.plotly.v1+json": {
       "config": {
        "plotlyServerURL": "https://plot.ly"
       },
       "data": [
        {
         "hovertemplate": "Regime_Label=%{x}<br>Percentage=%{y}<br>Predicted_Regime=%{text}<extra></extra>",
         "legendgroup": "Bear",
         "marker": {
          "color": "rgb(102,194,165)",
          "pattern": {
           "shape": ""
          }
         },
         "name": "Bear",
         "orientation": "v",
         "showlegend": true,
         "text": {
          "bdata": "AAAAAAAANEA=",
          "dtype": "f8"
         },
         "textposition": "outside",
         "type": "bar",
         "x": [
          "Bear"
         ],
         "xaxis": "x",
         "y": {
          "bdata": "8zzP8zzPV0A=",
          "dtype": "f8"
         },
         "yaxis": "y"
        },
        {
         "hovertemplate": "Regime_Label=%{x}<br>Percentage=%{y}<br>Predicted_Regime=%{text}<extra></extra>",
         "legendgroup": "Neutral",
         "marker": {
          "color": "rgb(252,141,98)",
          "pattern": {
           "shape": ""
          }
         },
         "name": "Neutral",
         "orientation": "v",
         "showlegend": true,
         "text": {
          "bdata": "AAAAAAAA8D8=",
          "dtype": "f8"
         },
         "textposition": "outside",
         "type": "bar",
         "x": [
          "Neutral"
         ],
         "xaxis": "x",
         "y": {
          "bdata": "wzAMwzAME0A=",
          "dtype": "f8"
         },
         "yaxis": "y"
        }
       ],
       "layout": {
        "barmode": "relative",
        "height": 500,
        "legend": {
         "title": {
          "text": "Regime_Label"
         },
         "tracegroupgap": 0
        },
        "showlegend": false,
        "template": {
         "data": {
          "bar": [
           {
            "error_x": {
             "color": "#2a3f5f"
            },
            "error_y": {
             "color": "#2a3f5f"
            },
            "marker": {
             "line": {
              "color": "white",
              "width": 0.5
             },
             "pattern": {
              "fillmode": "overlay",
              "size": 10,
              "solidity": 0.2
             }
            },
            "type": "bar"
           }
          ],
          "barpolar": [
           {
            "marker": {
             "line": {
              "color": "white",
              "width": 0.5
             },
             "pattern": {
              "fillmode": "overlay",
              "size": 10,
              "solidity": 0.2
             }
            },
            "type": "barpolar"
           }
          ],
          "carpet": [
           {
            "aaxis": {
             "endlinecolor": "#2a3f5f",
             "gridcolor": "#C8D4E3",
             "linecolor": "#C8D4E3",
             "minorgridcolor": "#C8D4E3",
             "startlinecolor": "#2a3f5f"
            },
            "baxis": {
             "endlinecolor": "#2a3f5f",
             "gridcolor": "#C8D4E3",
             "linecolor": "#C8D4E3",
             "minorgridcolor": "#C8D4E3",
             "startlinecolor": "#2a3f5f"
            },
            "type": "carpet"
           }
          ],
          "choropleth": [
           {
            "colorbar": {
             "outlinewidth": 0,
             "ticks": ""
            },
            "type": "choropleth"
           }
          ],
          "contour": [
           {
            "colorbar": {
             "outlinewidth": 0,
             "ticks": ""
            },
            "colorscale": [
             [
              0,
              "#0d0887"
             ],
             [
              0.1111111111111111,
              "#46039f"
             ],
             [
              0.2222222222222222,
              "#7201a8"
             ],
             [
              0.3333333333333333,
              "#9c179e"
             ],
             [
              0.4444444444444444,
              "#bd3786"
             ],
             [
              0.5555555555555556,
              "#d8576b"
             ],
             [
              0.6666666666666666,
              "#ed7953"
             ],
             [
              0.7777777777777778,
              "#fb9f3a"
             ],
             [
              0.8888888888888888,
              "#fdca26"
             ],
             [
              1,
              "#f0f921"
             ]
            ],
            "type": "contour"
           }
          ],
          "contourcarpet": [
           {
            "colorbar": {
             "outlinewidth": 0,
             "ticks": ""
            },
            "type": "contourcarpet"
           }
          ],
          "heatmap": [
           {
            "colorbar": {
             "outlinewidth": 0,
             "ticks": ""
            },
            "colorscale": [
             [
              0,
              "#0d0887"
             ],
             [
              0.1111111111111111,
              "#46039f"
             ],
             [
              0.2222222222222222,
              "#7201a8"
             ],
             [
              0.3333333333333333,
              "#9c179e"
             ],
             [
              0.4444444444444444,
              "#bd3786"
             ],
             [
              0.5555555555555556,
              "#d8576b"
             ],
             [
              0.6666666666666666,
              "#ed7953"
             ],
             [
              0.7777777777777778,
              "#fb9f3a"
             ],
             [
              0.8888888888888888,
              "#fdca26"
             ],
             [
              1,
              "#f0f921"
             ]
            ],
            "type": "heatmap"
           }
          ],
          "histogram": [
           {
            "marker": {
             "pattern": {
              "fillmode": "overlay",
              "size": 10,
              "solidity": 0.2
             }
            },
            "type": "histogram"
           }
          ],
          "histogram2d": [
           {
            "colorbar": {
             "outlinewidth": 0,
             "ticks": ""
            },
            "colorscale": [
             [
              0,
              "#0d0887"
             ],
             [
              0.1111111111111111,
              "#46039f"
             ],
             [
              0.2222222222222222,
              "#7201a8"
             ],
             [
              0.3333333333333333,
              "#9c179e"
             ],
             [
              0.4444444444444444,
              "#bd3786"
             ],
             [
              0.5555555555555556,
              "#d8576b"
             ],
             [
              0.6666666666666666,
              "#ed7953"
             ],
             [
              0.7777777777777778,
              "#fb9f3a"
             ],
             [
              0.8888888888888888,
              "#fdca26"
             ],
             [
              1,
              "#f0f921"
             ]
            ],
            "type": "histogram2d"
           }
          ],
          "histogram2dcontour": [
           {
            "colorbar": {
             "outlinewidth": 0,
             "ticks": ""
            },
            "colorscale": [
             [
              0,
              "#0d0887"
             ],
             [
              0.1111111111111111,
              "#46039f"
             ],
             [
              0.2222222222222222,
              "#7201a8"
             ],
             [
              0.3333333333333333,
              "#9c179e"
             ],
             [
              0.4444444444444444,
              "#bd3786"
             ],
             [
              0.5555555555555556,
              "#d8576b"
             ],
             [
              0.6666666666666666,
              "#ed7953"
             ],
             [
              0.7777777777777778,
              "#fb9f3a"
             ],
             [
              0.8888888888888888,
              "#fdca26"
             ],
             [
              1,
              "#f0f921"
             ]
            ],
            "type": "histogram2dcontour"
           }
          ],
          "mesh3d": [
           {
            "colorbar": {
             "outlinewidth": 0,
             "ticks": ""
            },
            "type": "mesh3d"
           }
          ],
          "parcoords": [
           {
            "line": {
             "colorbar": {
              "outlinewidth": 0,
              "ticks": ""
             }
            },
            "type": "parcoords"
           }
          ],
          "pie": [
           {
            "automargin": true,
            "type": "pie"
           }
          ],
          "scatter": [
           {
            "fillpattern": {
             "fillmode": "overlay",
             "size": 10,
             "solidity": 0.2
            },
            "type": "scatter"
           }
          ],
          "scatter3d": [
           {
            "line": {
             "colorbar": {
              "outlinewidth": 0,
              "ticks": ""
             }
            },
            "marker": {
             "colorbar": {
              "outlinewidth": 0,
              "ticks": ""
             }
            },
            "type": "scatter3d"
           }
          ],
          "scattercarpet": [
           {
            "marker": {
             "colorbar": {
              "outlinewidth": 0,
              "ticks": ""
             }
            },
            "type": "scattercarpet"
           }
          ],
          "scattergeo": [
           {
            "marker": {
             "colorbar": {
              "outlinewidth": 0,
              "ticks": ""
             }
            },
            "type": "scattergeo"
           }
          ],
          "scattergl": [
           {
            "marker": {
             "colorbar": {
              "outlinewidth": 0,
              "ticks": ""
             }
            },
            "type": "scattergl"
           }
          ],
          "scattermap": [
           {
            "marker": {
             "colorbar": {
              "outlinewidth": 0,
              "ticks": ""
             }
            },
            "type": "scattermap"
           }
          ],
          "scattermapbox": [
           {
            "marker": {
             "colorbar": {
              "outlinewidth": 0,
              "ticks": ""
             }
            },
            "type": "scattermapbox"
           }
          ],
          "scatterpolar": [
           {
            "marker": {
             "colorbar": {
              "outlinewidth": 0,
              "ticks": ""
             }
            },
            "type": "scatterpolar"
           }
          ],
          "scatterpolargl": [
           {
            "marker": {
             "colorbar": {
              "outlinewidth": 0,
              "ticks": ""
             }
            },
            "type": "scatterpolargl"
           }
          ],
          "scatterternary": [
           {
            "marker": {
             "colorbar": {
              "outlinewidth": 0,
              "ticks": ""
             }
            },
            "type": "scatterternary"
           }
          ],
          "surface": [
           {
            "colorbar": {
             "outlinewidth": 0,
             "ticks": ""
            },
            "colorscale": [
             [
              0,
              "#0d0887"
             ],
             [
              0.1111111111111111,
              "#46039f"
             ],
             [
              0.2222222222222222,
              "#7201a8"
             ],
             [
              0.3333333333333333,
              "#9c179e"
             ],
             [
              0.4444444444444444,
              "#bd3786"
             ],
             [
              0.5555555555555556,
              "#d8576b"
             ],
             [
              0.6666666666666666,
              "#ed7953"
             ],
             [
              0.7777777777777778,
              "#fb9f3a"
             ],
             [
              0.8888888888888888,
              "#fdca26"
             ],
             [
              1,
              "#f0f921"
             ]
            ],
            "type": "surface"
           }
          ],
          "table": [
           {
            "cells": {
             "fill": {
              "color": "#EBF0F8"
             },
             "line": {
              "color": "white"
             }
            },
            "header": {
             "fill": {
              "color": "#C8D4E3"
             },
             "line": {
              "color": "white"
             }
            },
            "type": "table"
           }
          ]
         },
         "layout": {
          "annotationdefaults": {
           "arrowcolor": "#2a3f5f",
           "arrowhead": 0,
           "arrowwidth": 1
          },
          "autotypenumbers": "strict",
          "coloraxis": {
           "colorbar": {
            "outlinewidth": 0,
            "ticks": ""
           }
          },
          "colorscale": {
           "diverging": [
            [
             0,
             "#8e0152"
            ],
            [
             0.1,
             "#c51b7d"
            ],
            [
             0.2,
             "#de77ae"
            ],
            [
             0.3,
             "#f1b6da"
            ],
            [
             0.4,
             "#fde0ef"
            ],
            [
             0.5,
             "#f7f7f7"
            ],
            [
             0.6,
             "#e6f5d0"
            ],
            [
             0.7,
             "#b8e186"
            ],
            [
             0.8,
             "#7fbc41"
            ],
            [
             0.9,
             "#4d9221"
            ],
            [
             1,
             "#276419"
            ]
           ],
           "sequential": [
            [
             0,
             "#0d0887"
            ],
            [
             0.1111111111111111,
             "#46039f"
            ],
            [
             0.2222222222222222,
             "#7201a8"
            ],
            [
             0.3333333333333333,
             "#9c179e"
            ],
            [
             0.4444444444444444,
             "#bd3786"
            ],
            [
             0.5555555555555556,
             "#d8576b"
            ],
            [
             0.6666666666666666,
             "#ed7953"
            ],
            [
             0.7777777777777778,
             "#fb9f3a"
            ],
            [
             0.8888888888888888,
             "#fdca26"
            ],
            [
             1,
             "#f0f921"
            ]
           ],
           "sequentialminus": [
            [
             0,
             "#0d0887"
            ],
            [
             0.1111111111111111,
             "#46039f"
            ],
            [
             0.2222222222222222,
             "#7201a8"
            ],
            [
             0.3333333333333333,
             "#9c179e"
            ],
            [
             0.4444444444444444,
             "#bd3786"
            ],
            [
             0.5555555555555556,
             "#d8576b"
            ],
            [
             0.6666666666666666,
             "#ed7953"
            ],
            [
             0.7777777777777778,
             "#fb9f3a"
            ],
            [
             0.8888888888888888,
             "#fdca26"
            ],
            [
             1,
             "#f0f921"
            ]
           ]
          },
          "colorway": [
           "#636efa",
           "#EF553B",
           "#00cc96",
           "#ab63fa",
           "#FFA15A",
           "#19d3f3",
           "#FF6692",
           "#B6E880",
           "#FF97FF",
           "#FECB52"
          ],
          "font": {
           "color": "#2a3f5f"
          },
          "geo": {
           "bgcolor": "white",
           "lakecolor": "white",
           "landcolor": "white",
           "showlakes": true,
           "showland": true,
           "subunitcolor": "#C8D4E3"
          },
          "hoverlabel": {
           "align": "left"
          },
          "hovermode": "closest",
          "mapbox": {
           "style": "light"
          },
          "paper_bgcolor": "white",
          "plot_bgcolor": "white",
          "polar": {
           "angularaxis": {
            "gridcolor": "#EBF0F8",
            "linecolor": "#EBF0F8",
            "ticks": ""
           },
           "bgcolor": "white",
           "radialaxis": {
            "gridcolor": "#EBF0F8",
            "linecolor": "#EBF0F8",
            "ticks": ""
           }
          },
          "scene": {
           "xaxis": {
            "backgroundcolor": "white",
            "gridcolor": "#DFE8F3",
            "gridwidth": 2,
            "linecolor": "#EBF0F8",
            "showbackground": true,
            "ticks": "",
            "zerolinecolor": "#EBF0F8"
           },
           "yaxis": {
            "backgroundcolor": "white",
            "gridcolor": "#DFE8F3",
            "gridwidth": 2,
            "linecolor": "#EBF0F8",
            "showbackground": true,
            "ticks": "",
            "zerolinecolor": "#EBF0F8"
           },
           "zaxis": {
            "backgroundcolor": "white",
            "gridcolor": "#DFE8F3",
            "gridwidth": 2,
            "linecolor": "#EBF0F8",
            "showbackground": true,
            "ticks": "",
            "zerolinecolor": "#EBF0F8"
           }
          },
          "shapedefaults": {
           "line": {
            "color": "#2a3f5f"
           }
          },
          "ternary": {
           "aaxis": {
            "gridcolor": "#DFE8F3",
            "linecolor": "#A2B1C6",
            "ticks": ""
           },
           "baxis": {
            "gridcolor": "#DFE8F3",
            "linecolor": "#A2B1C6",
            "ticks": ""
           },
           "bgcolor": "white",
           "caxis": {
            "gridcolor": "#DFE8F3",
            "linecolor": "#A2B1C6",
            "ticks": ""
           }
          },
          "title": {
           "x": 0.05
          },
          "xaxis": {
           "automargin": true,
           "gridcolor": "#EBF0F8",
           "linecolor": "#EBF0F8",
           "ticks": "",
           "title": {
            "standoff": 15
           },
           "zerolinecolor": "#EBF0F8",
           "zerolinewidth": 2
          },
          "yaxis": {
           "automargin": true,
           "gridcolor": "#EBF0F8",
           "linecolor": "#EBF0F8",
           "ticks": "",
           "title": {
            "standoff": 15
           },
           "zerolinecolor": "#EBF0F8",
           "zerolinewidth": 2
          }
         }
        },
        "title": {
         "text": "Predicted Market Regime Distribution (Next 30 Days)"
        },
        "width": 800,
        "xaxis": {
         "anchor": "y",
         "categoryarray": [
          "Bear",
          "Neutral"
         ],
         "categoryorder": "array",
         "domain": [
          0,
          1
         ],
         "title": {
          "text": "Market Regime"
         }
        },
        "yaxis": {
         "anchor": "x",
         "domain": [
          0,
          1
         ],
         "title": {
          "text": "Percentage of Days (%)"
         }
        }
       }
      }
     },
     "metadata": {},
     "output_type": "display_data"
    },
    {
     "data": {
      "application/vnd.plotly.v1+json": {
       "config": {
        "plotlyServerURL": "https://plot.ly"
       },
       "data": [
        {
         "customdata": [
          [
           "2025-04-11T00:00:00",
           524.5800170898438,
           25.685333569844563,
           3.245920150786218
          ]
         ],
         "hovertemplate": "Regime_Label=Neutral<br>Day=%{x}<br>Weekday=%{y}<br>size=%{marker.size}<br>Date=%{customdata[0]}<br>Close=%{customdata[1]}<br>VIX=%{customdata[2]}<br>LogVIX=%{customdata[3]}<extra></extra>",
         "legendgroup": "Neutral",
         "marker": {
          "color": "rgb(102,194,165)",
          "size": {
           "bdata": "Cg==",
           "dtype": "i1"
          },
          "sizemode": "area",
          "sizeref": 0.044444444444444446,
          "symbol": "circle"
         },
         "mode": "markers",
         "name": "Neutral",
         "orientation": "h",
         "showlegend": true,
         "type": "scatter",
         "x": {
          "bdata": "CwAAAA==",
          "dtype": "i4"
         },
         "xaxis": "x",
         "y": [
          "Friday"
         ],
         "yaxis": "y"
        },
        {
         "customdata": [
          [
           "2025-04-14T00:00:00",
           524.5800170898438,
           25.685333569844566,
           3.245920150786218
          ],
          [
           "2025-04-15T00:00:00",
           524.5800170898438,
           25.685333569844566,
           3.245920150786218
          ],
          [
           "2025-04-16T00:00:00",
           524.5800170898438,
           25.685333569844566,
           3.245920150786218
          ],
          [
           "2025-04-17T00:00:00",
           524.5800170898438,
           25.68533356984457,
           3.245920150786218
          ],
          [
           "2025-04-18T00:00:00",
           524.5800170898438,
           25.68533356984457,
           3.245920150786218
          ],
          [
           "2025-04-21T00:00:00",
           524.5800170898438,
           25.68533356984457,
           3.245920150786218
          ],
          [
           "2025-04-22T00:00:00",
           524.5800170898438,
           25.68533356984457,
           3.245920150786218
          ],
          [
           "2025-04-23T00:00:00",
           524.5800170898438,
           25.685333569844573,
           3.245920150786218
          ],
          [
           "2025-04-24T00:00:00",
           524.5800170898438,
           25.685333569844573,
           3.245920150786218
          ],
          [
           "2025-04-25T00:00:00",
           524.5800170898438,
           25.685333569844566,
           3.245920150786218
          ],
          [
           "2025-04-28T00:00:00",
           524.5800170898438,
           25.685333569844566,
           3.245920150786218
          ],
          [
           "2025-04-29T00:00:00",
           524.5800170898438,
           25.685333569844563,
           3.245920150786218
          ],
          [
           "2025-04-30T00:00:00",
           524.5800170898438,
           25.685333569844563,
           3.245920150786218
          ],
          [
           "2025-05-01T00:00:00",
           524.5800170898438,
           25.68533356984456,
           3.2459201507862177
          ],
          [
           "2025-05-02T00:00:00",
           524.5800170898438,
           25.68533356984456,
           3.2459201507862177
          ],
          [
           "2025-05-05T00:00:00",
           524.5800170898438,
           25.685333569844556,
           3.2459201507862177
          ],
          [
           "2025-05-06T00:00:00",
           524.5800170898438,
           25.685333569844556,
           3.2459201507862177
          ],
          [
           "2025-05-07T00:00:00",
           524.5800170898438,
           25.685333569844563,
           3.245920150786218
          ],
          [
           "2025-05-08T00:00:00",
           524.5800170898438,
           25.685333569844563,
           3.245920150786218
          ],
          [
           "2025-05-09T00:00:00",
           524.5800170898438,
           25.68533356984456,
           3.2459201507862177
          ]
         ],
         "hovertemplate": "Regime_Label=Bear<br>Day=%{x}<br>Weekday=%{y}<br>size=%{marker.size}<br>Date=%{customdata[0]}<br>Close=%{customdata[1]}<br>VIX=%{customdata[2]}<br>LogVIX=%{customdata[3]}<extra></extra>",
         "legendgroup": "Bear",
         "marker": {
          "color": "rgb(252,141,98)",
          "size": {
           "bdata": "CgoKCgoKCgoKCgoKCgoKCgoKCgo=",
           "dtype": "i1"
          },
          "sizemode": "area",
          "sizeref": 0.044444444444444446,
          "symbol": "circle"
         },
         "mode": "markers",
         "name": "Bear",
         "orientation": "h",
         "showlegend": true,
         "type": "scatter",
         "x": {
          "bdata": "DgAAAA8AAAAQAAAAEQAAABIAAAAVAAAAFgAAABcAAAAYAAAAGQAAABwAAAAdAAAAHgAAAAEAAAACAAAABQAAAAYAAAAHAAAACAAAAAkAAAA=",
          "dtype": "i4"
         },
         "xaxis": "x",
         "y": [
          "Monday",
          "Tuesday",
          "Wednesday",
          "Thursday",
          "Friday",
          "Monday",
          "Tuesday",
          "Wednesday",
          "Thursday",
          "Friday",
          "Monday",
          "Tuesday",
          "Wednesday",
          "Thursday",
          "Friday",
          "Monday",
          "Tuesday",
          "Wednesday",
          "Thursday",
          "Friday"
         ],
         "yaxis": "y"
        }
       ],
       "layout": {
        "height": 600,
        "legend": {
         "itemsizing": "constant",
         "title": {
          "text": "Regime_Label"
         },
         "tracegroupgap": 0
        },
        "template": {
         "data": {
          "bar": [
           {
            "error_x": {
             "color": "#2a3f5f"
            },
            "error_y": {
             "color": "#2a3f5f"
            },
            "marker": {
             "line": {
              "color": "white",
              "width": 0.5
             },
             "pattern": {
              "fillmode": "overlay",
              "size": 10,
              "solidity": 0.2
             }
            },
            "type": "bar"
           }
          ],
          "barpolar": [
           {
            "marker": {
             "line": {
              "color": "white",
              "width": 0.5
             },
             "pattern": {
              "fillmode": "overlay",
              "size": 10,
              "solidity": 0.2
             }
            },
            "type": "barpolar"
           }
          ],
          "carpet": [
           {
            "aaxis": {
             "endlinecolor": "#2a3f5f",
             "gridcolor": "#C8D4E3",
             "linecolor": "#C8D4E3",
             "minorgridcolor": "#C8D4E3",
             "startlinecolor": "#2a3f5f"
            },
            "baxis": {
             "endlinecolor": "#2a3f5f",
             "gridcolor": "#C8D4E3",
             "linecolor": "#C8D4E3",
             "minorgridcolor": "#C8D4E3",
             "startlinecolor": "#2a3f5f"
            },
            "type": "carpet"
           }
          ],
          "choropleth": [
           {
            "colorbar": {
             "outlinewidth": 0,
             "ticks": ""
            },
            "type": "choropleth"
           }
          ],
          "contour": [
           {
            "colorbar": {
             "outlinewidth": 0,
             "ticks": ""
            },
            "colorscale": [
             [
              0,
              "#0d0887"
             ],
             [
              0.1111111111111111,
              "#46039f"
             ],
             [
              0.2222222222222222,
              "#7201a8"
             ],
             [
              0.3333333333333333,
              "#9c179e"
             ],
             [
              0.4444444444444444,
              "#bd3786"
             ],
             [
              0.5555555555555556,
              "#d8576b"
             ],
             [
              0.6666666666666666,
              "#ed7953"
             ],
             [
              0.7777777777777778,
              "#fb9f3a"
             ],
             [
              0.8888888888888888,
              "#fdca26"
             ],
             [
              1,
              "#f0f921"
             ]
            ],
            "type": "contour"
           }
          ],
          "contourcarpet": [
           {
            "colorbar": {
             "outlinewidth": 0,
             "ticks": ""
            },
            "type": "contourcarpet"
           }
          ],
          "heatmap": [
           {
            "colorbar": {
             "outlinewidth": 0,
             "ticks": ""
            },
            "colorscale": [
             [
              0,
              "#0d0887"
             ],
             [
              0.1111111111111111,
              "#46039f"
             ],
             [
              0.2222222222222222,
              "#7201a8"
             ],
             [
              0.3333333333333333,
              "#9c179e"
             ],
             [
              0.4444444444444444,
              "#bd3786"
             ],
             [
              0.5555555555555556,
              "#d8576b"
             ],
             [
              0.6666666666666666,
              "#ed7953"
             ],
             [
              0.7777777777777778,
              "#fb9f3a"
             ],
             [
              0.8888888888888888,
              "#fdca26"
             ],
             [
              1,
              "#f0f921"
             ]
            ],
            "type": "heatmap"
           }
          ],
          "histogram": [
           {
            "marker": {
             "pattern": {
              "fillmode": "overlay",
              "size": 10,
              "solidity": 0.2
             }
            },
            "type": "histogram"
           }
          ],
          "histogram2d": [
           {
            "colorbar": {
             "outlinewidth": 0,
             "ticks": ""
            },
            "colorscale": [
             [
              0,
              "#0d0887"
             ],
             [
              0.1111111111111111,
              "#46039f"
             ],
             [
              0.2222222222222222,
              "#7201a8"
             ],
             [
              0.3333333333333333,
              "#9c179e"
             ],
             [
              0.4444444444444444,
              "#bd3786"
             ],
             [
              0.5555555555555556,
              "#d8576b"
             ],
             [
              0.6666666666666666,
              "#ed7953"
             ],
             [
              0.7777777777777778,
              "#fb9f3a"
             ],
             [
              0.8888888888888888,
              "#fdca26"
             ],
             [
              1,
              "#f0f921"
             ]
            ],
            "type": "histogram2d"
           }
          ],
          "histogram2dcontour": [
           {
            "colorbar": {
             "outlinewidth": 0,
             "ticks": ""
            },
            "colorscale": [
             [
              0,
              "#0d0887"
             ],
             [
              0.1111111111111111,
              "#46039f"
             ],
             [
              0.2222222222222222,
              "#7201a8"
             ],
             [
              0.3333333333333333,
              "#9c179e"
             ],
             [
              0.4444444444444444,
              "#bd3786"
             ],
             [
              0.5555555555555556,
              "#d8576b"
             ],
             [
              0.6666666666666666,
              "#ed7953"
             ],
             [
              0.7777777777777778,
              "#fb9f3a"
             ],
             [
              0.8888888888888888,
              "#fdca26"
             ],
             [
              1,
              "#f0f921"
             ]
            ],
            "type": "histogram2dcontour"
           }
          ],
          "mesh3d": [
           {
            "colorbar": {
             "outlinewidth": 0,
             "ticks": ""
            },
            "type": "mesh3d"
           }
          ],
          "parcoords": [
           {
            "line": {
             "colorbar": {
              "outlinewidth": 0,
              "ticks": ""
             }
            },
            "type": "parcoords"
           }
          ],
          "pie": [
           {
            "automargin": true,
            "type": "pie"
           }
          ],
          "scatter": [
           {
            "fillpattern": {
             "fillmode": "overlay",
             "size": 10,
             "solidity": 0.2
            },
            "type": "scatter"
           }
          ],
          "scatter3d": [
           {
            "line": {
             "colorbar": {
              "outlinewidth": 0,
              "ticks": ""
             }
            },
            "marker": {
             "colorbar": {
              "outlinewidth": 0,
              "ticks": ""
             }
            },
            "type": "scatter3d"
           }
          ],
          "scattercarpet": [
           {
            "marker": {
             "colorbar": {
              "outlinewidth": 0,
              "ticks": ""
             }
            },
            "type": "scattercarpet"
           }
          ],
          "scattergeo": [
           {
            "marker": {
             "colorbar": {
              "outlinewidth": 0,
              "ticks": ""
             }
            },
            "type": "scattergeo"
           }
          ],
          "scattergl": [
           {
            "marker": {
             "colorbar": {
              "outlinewidth": 0,
              "ticks": ""
             }
            },
            "type": "scattergl"
           }
          ],
          "scattermap": [
           {
            "marker": {
             "colorbar": {
              "outlinewidth": 0,
              "ticks": ""
             }
            },
            "type": "scattermap"
           }
          ],
          "scattermapbox": [
           {
            "marker": {
             "colorbar": {
              "outlinewidth": 0,
              "ticks": ""
             }
            },
            "type": "scattermapbox"
           }
          ],
          "scatterpolar": [
           {
            "marker": {
             "colorbar": {
              "outlinewidth": 0,
              "ticks": ""
             }
            },
            "type": "scatterpolar"
           }
          ],
          "scatterpolargl": [
           {
            "marker": {
             "colorbar": {
              "outlinewidth": 0,
              "ticks": ""
             }
            },
            "type": "scatterpolargl"
           }
          ],
          "scatterternary": [
           {
            "marker": {
             "colorbar": {
              "outlinewidth": 0,
              "ticks": ""
             }
            },
            "type": "scatterternary"
           }
          ],
          "surface": [
           {
            "colorbar": {
             "outlinewidth": 0,
             "ticks": ""
            },
            "colorscale": [
             [
              0,
              "#0d0887"
             ],
             [
              0.1111111111111111,
              "#46039f"
             ],
             [
              0.2222222222222222,
              "#7201a8"
             ],
             [
              0.3333333333333333,
              "#9c179e"
             ],
             [
              0.4444444444444444,
              "#bd3786"
             ],
             [
              0.5555555555555556,
              "#d8576b"
             ],
             [
              0.6666666666666666,
              "#ed7953"
             ],
             [
              0.7777777777777778,
              "#fb9f3a"
             ],
             [
              0.8888888888888888,
              "#fdca26"
             ],
             [
              1,
              "#f0f921"
             ]
            ],
            "type": "surface"
           }
          ],
          "table": [
           {
            "cells": {
             "fill": {
              "color": "#EBF0F8"
             },
             "line": {
              "color": "white"
             }
            },
            "header": {
             "fill": {
              "color": "#C8D4E3"
             },
             "line": {
              "color": "white"
             }
            },
            "type": "table"
           }
          ]
         },
         "layout": {
          "annotationdefaults": {
           "arrowcolor": "#2a3f5f",
           "arrowhead": 0,
           "arrowwidth": 1
          },
          "autotypenumbers": "strict",
          "coloraxis": {
           "colorbar": {
            "outlinewidth": 0,
            "ticks": ""
           }
          },
          "colorscale": {
           "diverging": [
            [
             0,
             "#8e0152"
            ],
            [
             0.1,
             "#c51b7d"
            ],
            [
             0.2,
             "#de77ae"
            ],
            [
             0.3,
             "#f1b6da"
            ],
            [
             0.4,
             "#fde0ef"
            ],
            [
             0.5,
             "#f7f7f7"
            ],
            [
             0.6,
             "#e6f5d0"
            ],
            [
             0.7,
             "#b8e186"
            ],
            [
             0.8,
             "#7fbc41"
            ],
            [
             0.9,
             "#4d9221"
            ],
            [
             1,
             "#276419"
            ]
           ],
           "sequential": [
            [
             0,
             "#0d0887"
            ],
            [
             0.1111111111111111,
             "#46039f"
            ],
            [
             0.2222222222222222,
             "#7201a8"
            ],
            [
             0.3333333333333333,
             "#9c179e"
            ],
            [
             0.4444444444444444,
             "#bd3786"
            ],
            [
             0.5555555555555556,
             "#d8576b"
            ],
            [
             0.6666666666666666,
             "#ed7953"
            ],
            [
             0.7777777777777778,
             "#fb9f3a"
            ],
            [
             0.8888888888888888,
             "#fdca26"
            ],
            [
             1,
             "#f0f921"
            ]
           ],
           "sequentialminus": [
            [
             0,
             "#0d0887"
            ],
            [
             0.1111111111111111,
             "#46039f"
            ],
            [
             0.2222222222222222,
             "#7201a8"
            ],
            [
             0.3333333333333333,
             "#9c179e"
            ],
            [
             0.4444444444444444,
             "#bd3786"
            ],
            [
             0.5555555555555556,
             "#d8576b"
            ],
            [
             0.6666666666666666,
             "#ed7953"
            ],
            [
             0.7777777777777778,
             "#fb9f3a"
            ],
            [
             0.8888888888888888,
             "#fdca26"
            ],
            [
             1,
             "#f0f921"
            ]
           ]
          },
          "colorway": [
           "#636efa",
           "#EF553B",
           "#00cc96",
           "#ab63fa",
           "#FFA15A",
           "#19d3f3",
           "#FF6692",
           "#B6E880",
           "#FF97FF",
           "#FECB52"
          ],
          "font": {
           "color": "#2a3f5f"
          },
          "geo": {
           "bgcolor": "white",
           "lakecolor": "white",
           "landcolor": "white",
           "showlakes": true,
           "showland": true,
           "subunitcolor": "#C8D4E3"
          },
          "hoverlabel": {
           "align": "left"
          },
          "hovermode": "closest",
          "mapbox": {
           "style": "light"
          },
          "paper_bgcolor": "white",
          "plot_bgcolor": "white",
          "polar": {
           "angularaxis": {
            "gridcolor": "#EBF0F8",
            "linecolor": "#EBF0F8",
            "ticks": ""
           },
           "bgcolor": "white",
           "radialaxis": {
            "gridcolor": "#EBF0F8",
            "linecolor": "#EBF0F8",
            "ticks": ""
           }
          },
          "scene": {
           "xaxis": {
            "backgroundcolor": "white",
            "gridcolor": "#DFE8F3",
            "gridwidth": 2,
            "linecolor": "#EBF0F8",
            "showbackground": true,
            "ticks": "",
            "zerolinecolor": "#EBF0F8"
           },
           "yaxis": {
            "backgroundcolor": "white",
            "gridcolor": "#DFE8F3",
            "gridwidth": 2,
            "linecolor": "#EBF0F8",
            "showbackground": true,
            "ticks": "",
            "zerolinecolor": "#EBF0F8"
           },
           "zaxis": {
            "backgroundcolor": "white",
            "gridcolor": "#DFE8F3",
            "gridwidth": 2,
            "linecolor": "#EBF0F8",
            "showbackground": true,
            "ticks": "",
            "zerolinecolor": "#EBF0F8"
           }
          },
          "shapedefaults": {
           "line": {
            "color": "#2a3f5f"
           }
          },
          "ternary": {
           "aaxis": {
            "gridcolor": "#DFE8F3",
            "linecolor": "#A2B1C6",
            "ticks": ""
           },
           "baxis": {
            "gridcolor": "#DFE8F3",
            "linecolor": "#A2B1C6",
            "ticks": ""
           },
           "bgcolor": "white",
           "caxis": {
            "gridcolor": "#DFE8F3",
            "linecolor": "#A2B1C6",
            "ticks": ""
           }
          },
          "title": {
           "x": 0.05
          },
          "xaxis": {
           "automargin": true,
           "gridcolor": "#EBF0F8",
           "linecolor": "#EBF0F8",
           "ticks": "",
           "title": {
            "standoff": 15
           },
           "zerolinecolor": "#EBF0F8",
           "zerolinewidth": 2
          },
          "yaxis": {
           "automargin": true,
           "gridcolor": "#EBF0F8",
           "linecolor": "#EBF0F8",
           "ticks": "",
           "title": {
            "standoff": 15
           },
           "zerolinecolor": "#EBF0F8",
           "zerolinewidth": 2
          }
         }
        },
        "title": {
         "text": "Calendar View of Predicted Regimes (2025-04-11 to 2025-05-11)"
        },
        "width": 900,
        "xaxis": {
         "anchor": "y",
         "domain": [
          0,
          1
         ],
         "title": {
          "text": "Day of Month"
         }
        },
        "yaxis": {
         "anchor": "x",
         "categoryarray": [
          "Monday",
          "Tuesday",
          "Wednesday",
          "Thursday",
          "Friday"
         ],
         "categoryorder": "array",
         "domain": [
          0,
          1
         ],
         "title": {
          "text": "Weekday"
         }
        }
       }
      }
     },
     "metadata": {},
     "output_type": "display_data"
    },
    {
     "name": "stdout",
     "output_type": "stream",
     "text": [
      "\n",
      "Market Outlook Summary:\n",
      "Dominant predicted regime: Bear (95.24% of days)\n",
      "\n",
      "Detailed Regime Breakdown:\n",
      "Bear: 20 days (95.24%)\n",
      "Neutral: 1 days (4.76%)\n"
     ]
    }
   ],
   "source": [
    "# Function to predict future market regimes\n",
    "def predict_future_market_regimes(days=30):\n",
    "    \"\"\"\n",
    "    Predict market regimes for the coming days\n",
    "    \n",
    "    Parameters:\n",
    "    -----------\n",
    "    days : int\n",
    "        Number of days to predict into the future\n",
    "    \n",
    "    Returns:\n",
    "    --------\n",
    "    DataFrame with prediction results and visualizations\n",
    "    \"\"\"\n",
    "    today = datetime.today()\n",
    "    future_date = today + timedelta(days=days)\n",
    "    \n",
    "    # Format dates\n",
    "    start_date = today.strftime('%Y-%m-%d')\n",
    "    end_date = future_date.strftime('%Y-%m-%d')\n",
    "    \n",
    "    print(f\"Predicting market regimes from {start_date} to {end_date}\")\n",
    "    \n",
    "    # Get predictions\n",
    "    future_results = predict_regimes(model, df, start_date, end_date, regime_labels)\n",
    "    \n",
    "    if future_results is None or future_results.empty:\n",
    "        print(\"Failed to generate predictions\")\n",
    "        return None\n",
    "    \n",
    "    # Create regime breakdown barplot\n",
    "    regime_counts = future_results.groupby('Regime_Label')['Predicted_Regime'].count().reset_index()\n",
    "    regime_counts['Percentage'] = regime_counts['Predicted_Regime'] / len(future_results) * 100\n",
    "    \n",
    "    fig_bar = px.bar(\n",
    "        regime_counts,\n",
    "        x='Regime_Label',\n",
    "        y='Percentage',\n",
    "        color='Regime_Label',\n",
    "        text=regime_counts['Predicted_Regime'],\n",
    "        color_discrete_sequence=regime_colors[:len(regime_counts)],\n",
    "        title=f'Predicted Market Regime Distribution (Next {days} Days)'\n",
    "    )\n",
    "    \n",
    "    fig_bar.update_layout(\n",
    "        height=500,\n",
    "        width=800,\n",
    "        template='plotly_white',\n",
    "        showlegend=False,\n",
    "        xaxis_title='Market Regime',\n",
    "        yaxis_title='Percentage of Days (%)'\n",
    "    )\n",
    "    \n",
    "    fig_bar.update_traces(textposition='outside')\n",
    "    fig_bar.show()\n",
    "    \n",
    "    # Create a calendar view of predicted regimes\n",
    "    future_results['Day'] = future_results['Date'].dt.day\n",
    "    future_results['Month'] = future_results['Date'].dt.month_name()\n",
    "    future_results['Weekday'] = future_results['Date'].dt.day_name()\n",
    "    \n",
    "    # Create a calendar heatmap\n",
    "    fig_cal = px.scatter(\n",
    "        future_results,\n",
    "        x='Day', \n",
    "        y='Weekday',\n",
    "        color='Regime_Label',\n",
    "        color_discrete_sequence=regime_colors,\n",
    "        title=f'Calendar View of Predicted Regimes ({start_date} to {end_date})',\n",
    "        hover_data=['Date', 'Close', 'VIX', 'LogVIX'],\n",
    "        size_max=15,\n",
    "        size=[10] * len(future_results)  # Fixed size for all points\n",
    "    )\n",
    "    \n",
    "    fig_cal.update_layout(\n",
    "        xaxis_title='Day of Month',\n",
    "        yaxis_title='Weekday',\n",
    "        yaxis=dict(\n",
    "            categoryorder='array',\n",
    "            categoryarray=['Monday', 'Tuesday', 'Wednesday', 'Thursday', 'Friday']\n",
    "        ),\n",
    "        template='plotly_white',\n",
    "        height=600,\n",
    "        width=900\n",
    "    )\n",
    "    \n",
    "    fig_cal.show()\n",
    "    \n",
    "    # Calculate the dominant regime\n",
    "    dominant_regime = regime_counts.iloc[regime_counts['Predicted_Regime'].argmax()]['Regime_Label']\n",
    "    dominant_percentage = regime_counts.iloc[regime_counts['Predicted_Regime'].argmax()]['Percentage']\n",
    "    \n",
    "    print(\"\\nMarket Outlook Summary:\")\n",
    "    print(f\"Dominant predicted regime: {dominant_regime} ({dominant_percentage:.2f}% of days)\")\n",
    "    \n",
    "    # More detailed breakdown\n",
    "    print(\"\\nDetailed Regime Breakdown:\")\n",
    "    for _, row in regime_counts.iterrows():\n",
    "        print(f\"{row['Regime_Label']}: {row['Predicted_Regime']} days ({row['Percentage']:.2f}%)\")\n",
    "    \n",
    "    return future_results\n",
    "\n",
    "# Predict regimes for the next 30 days\n",
    "future_predictions = predict_future_market_regimes(30)"
   ]
  }
 ],
 "metadata": {
  "kernelspec": {
   "display_name": "ml-env",
   "language": "python",
   "name": "python3"
  },
  "language_info": {
   "codemirror_mode": {
    "name": "ipython",
    "version": 3
   },
   "file_extension": ".py",
   "mimetype": "text/x-python",
   "name": "python",
   "nbconvert_exporter": "python",
   "pygments_lexer": "ipython3",
   "version": "3.9.18"
  }
 },
 "nbformat": 4,
 "nbformat_minor": 4
}
