{
 "cells": [
  {
   "cell_type": "code",
   "execution_count": 21,
   "metadata": {},
   "outputs": [
    {
     "name": "stderr",
     "output_type": "stream",
     "text": [
      "[*********************100%***********************]  1 of 1 completed\n",
      "[*********************100%***********************]  1 of 1 completed"
     ]
    },
    {
     "name": "stdout",
     "output_type": "stream",
     "text": [
      "Downloading market data from 1995-01-01 to 2025-04-11...\n",
      "DataFrame structure:\n",
      "Data shape: (7620, 8)\n",
      "Data columns: ['Date', 'Close', 'High', 'Low', 'Open', 'Volume', 'VIX', 'LogVIX']\n"
     ]
    },
    {
     "name": "stderr",
     "output_type": "stream",
     "text": [
      "\n"
     ]
    },
    {
     "data": {
      "application/vnd.microsoft.datawrangler.viewer.v0+json": {
       "columns": [
        {
         "name": "index",
         "rawType": "int64",
         "type": "integer"
        },
        {
         "name": "Date",
         "rawType": "datetime64[ns]",
         "type": "datetime"
        },
        {
         "name": "Close",
         "rawType": "float64",
         "type": "float"
        },
        {
         "name": "High",
         "rawType": "float64",
         "type": "float"
        },
        {
         "name": "Low",
         "rawType": "float64",
         "type": "float"
        },
        {
         "name": "Open",
         "rawType": "float64",
         "type": "float"
        },
        {
         "name": "Volume",
         "rawType": "int64",
         "type": "integer"
        },
        {
         "name": "VIX",
         "rawType": "float64",
         "type": "float"
        },
        {
         "name": "LogVIX",
         "rawType": "float64",
         "type": "float"
        }
       ],
       "conversionMethod": "pd.DataFrame",
       "ref": "6d2017b7-f668-48cd-b84d-73e182279924",
       "rows": [
        [
         "0",
         "1995-01-03 00:00:00",
         "26.815872192382812",
         "26.852480891621564",
         "26.760959143524694",
         "26.77011131833438",
         "324300",
         "14.25",
         "2.6567569067146595"
        ],
        [
         "1",
         "1995-01-04 00:00:00",
         "26.944002151489258",
         "26.944002151489258",
         "26.797567357187685",
         "26.93484997684541",
         "351800",
         "13.529999732971191",
         "2.6049094224466427"
        ],
        [
         "2",
         "1995-01-05 00:00:00",
         "26.944002151489258",
         "27.008067373996195",
         "26.916545627557714",
         "26.962306500776954",
         "89800",
         "13.5",
         "2.6026896854443837"
        ],
        [
         "3",
         "1995-01-06 00:00:00",
         "26.971464157104492",
         "27.09044245165568",
         "26.88909456856905",
         "26.9989206866163",
         "448400",
         "13.130000114440918",
         "2.5748996970306925"
        ],
        [
         "4",
         "1995-01-09 00:00:00",
         "26.998912811279297",
         "26.998912811279293",
         "26.9439997682733",
         "26.962304115941965",
         "36800",
         "13.329999923706055",
         "2.5900171284671405"
        ]
       ],
       "shape": {
        "columns": 8,
        "rows": 5
       }
      },
      "text/html": [
       "<div>\n",
       "<style scoped>\n",
       "    .dataframe tbody tr th:only-of-type {\n",
       "        vertical-align: middle;\n",
       "    }\n",
       "\n",
       "    .dataframe tbody tr th {\n",
       "        vertical-align: top;\n",
       "    }\n",
       "\n",
       "    .dataframe thead th {\n",
       "        text-align: right;\n",
       "    }\n",
       "</style>\n",
       "<table border=\"1\" class=\"dataframe\">\n",
       "  <thead>\n",
       "    <tr style=\"text-align: right;\">\n",
       "      <th>Price</th>\n",
       "      <th>Date</th>\n",
       "      <th>Close</th>\n",
       "      <th>High</th>\n",
       "      <th>Low</th>\n",
       "      <th>Open</th>\n",
       "      <th>Volume</th>\n",
       "      <th>VIX</th>\n",
       "      <th>LogVIX</th>\n",
       "    </tr>\n",
       "  </thead>\n",
       "  <tbody>\n",
       "    <tr>\n",
       "      <th>0</th>\n",
       "      <td>1995-01-03</td>\n",
       "      <td>26.815872</td>\n",
       "      <td>26.852481</td>\n",
       "      <td>26.760959</td>\n",
       "      <td>26.770111</td>\n",
       "      <td>324300</td>\n",
       "      <td>14.25</td>\n",
       "      <td>2.656757</td>\n",
       "    </tr>\n",
       "    <tr>\n",
       "      <th>1</th>\n",
       "      <td>1995-01-04</td>\n",
       "      <td>26.944002</td>\n",
       "      <td>26.944002</td>\n",
       "      <td>26.797567</td>\n",
       "      <td>26.934850</td>\n",
       "      <td>351800</td>\n",
       "      <td>13.53</td>\n",
       "      <td>2.604909</td>\n",
       "    </tr>\n",
       "    <tr>\n",
       "      <th>2</th>\n",
       "      <td>1995-01-05</td>\n",
       "      <td>26.944002</td>\n",
       "      <td>27.008067</td>\n",
       "      <td>26.916546</td>\n",
       "      <td>26.962307</td>\n",
       "      <td>89800</td>\n",
       "      <td>13.50</td>\n",
       "      <td>2.602690</td>\n",
       "    </tr>\n",
       "    <tr>\n",
       "      <th>3</th>\n",
       "      <td>1995-01-06</td>\n",
       "      <td>26.971464</td>\n",
       "      <td>27.090442</td>\n",
       "      <td>26.889095</td>\n",
       "      <td>26.998921</td>\n",
       "      <td>448400</td>\n",
       "      <td>13.13</td>\n",
       "      <td>2.574900</td>\n",
       "    </tr>\n",
       "    <tr>\n",
       "      <th>4</th>\n",
       "      <td>1995-01-09</td>\n",
       "      <td>26.998913</td>\n",
       "      <td>26.998913</td>\n",
       "      <td>26.944000</td>\n",
       "      <td>26.962304</td>\n",
       "      <td>36800</td>\n",
       "      <td>13.33</td>\n",
       "      <td>2.590017</td>\n",
       "    </tr>\n",
       "  </tbody>\n",
       "</table>\n",
       "</div>"
      ],
      "text/plain": [
       "Price       Date      Close       High        Low       Open  Volume    VIX  \\\n",
       "0     1995-01-03  26.815872  26.852481  26.760959  26.770111  324300  14.25   \n",
       "1     1995-01-04  26.944002  26.944002  26.797567  26.934850  351800  13.53   \n",
       "2     1995-01-05  26.944002  27.008067  26.916546  26.962307   89800  13.50   \n",
       "3     1995-01-06  26.971464  27.090442  26.889095  26.998921  448400  13.13   \n",
       "4     1995-01-09  26.998913  26.998913  26.944000  26.962304   36800  13.33   \n",
       "\n",
       "Price    LogVIX  \n",
       "0      2.656757  \n",
       "1      2.604909  \n",
       "2      2.602690  \n",
       "3      2.574900  \n",
       "4      2.590017  "
      ]
     },
     "execution_count": 21,
     "metadata": {},
     "output_type": "execute_result"
    }
   ],
   "source": [
    "import pandas as pd\n",
    "import numpy as np\n",
    "import matplotlib.pyplot as plt\n",
    "from matplotlib import cm\n",
    "import seaborn as sns\n",
    "import plotly.graph_objects as go\n",
    "import plotly.express as px\n",
    "import plotly.figure_factory as ff\n",
    "from plotly.subplots import make_subplots\n",
    "from hmmlearn import hmm\n",
    "import yfinance as yf\n",
    "from datetime import datetime, timedelta\n",
    "import warnings\n",
    "warnings.filterwarnings('ignore')\n",
    "\n",
    "# Hidden Markov Model Modifiable Parameters\n",
    "hidden_states = 3\n",
    "em_iterations = 75\n",
    "\n",
    "# Fixed training period \n",
    "train_start_date = \"2018-01-01\"\n",
    "train_end_date = \"2024-12-31\"\n",
    "\n",
    "# Date parameters for yfinance API - download data from 1995 to present\n",
    "start_date = \"1995-01-01\"\n",
    "end_date = datetime.today().strftime(\"%Y-%m-%d\")\n",
    "\n",
    "print(f\"Downloading market data from {start_date} to {end_date}...\")\n",
    "# Download SPY and VIX data using yfinance\n",
    "df_spy = yf.download('SPY', start=start_date, end=end_date, auto_adjust=True)\n",
    "df_vix = yf.download('^VIX', start=start_date, end=end_date)\n",
    "\n",
    "# Fix the multi-level column structure\n",
    "df_spy.columns = df_spy.columns.droplevel(1) if len(df_spy.columns.names) > 1 else df_spy.columns\n",
    "df_vix.columns = df_vix.columns.droplevel(1) if len(df_vix.columns.names) > 1 else df_vix.columns\n",
    "\n",
    "# Reset index to make Date a column\n",
    "df_spy = df_spy.reset_index()\n",
    "df_vix = df_vix.reset_index()\n",
    "\n",
    "# Keep only the Date and Close columns from VIX\n",
    "df_vix = df_vix[['Date', 'Close']].rename(columns={'Close': 'VIX'})\n",
    "\n",
    "# Merge SPY and VIX data\n",
    "df = pd.merge(df_spy, df_vix, on='Date', how='left')\n",
    "\n",
    "# Forward fill any missing VIX values\n",
    "df['VIX'] = df['VIX'].fillna(method='ffill')\n",
    "\n",
    "# Add log of VIX\n",
    "df['LogVIX'] = np.log(df['VIX'])\n",
    "\n",
    "# Display first few rows to check the structure\n",
    "print(\"DataFrame structure:\")\n",
    "print(\"Data shape:\", df.shape)\n",
    "print(\"Data columns:\", df.columns.tolist())\n",
    "df.head()"
   ]
  },
  {
   "cell_type": "code",
   "execution_count": 22,
   "metadata": {},
   "outputs": [
    {
     "data": {
      "application/vnd.microsoft.datawrangler.viewer.v0+json": {
       "columns": [
        {
         "name": "index",
         "rawType": "int64",
         "type": "integer"
        },
        {
         "name": "Date",
         "rawType": "datetime64[ns]",
         "type": "datetime"
        },
        {
         "name": "Close",
         "rawType": "float64",
         "type": "float"
        },
        {
         "name": "High",
         "rawType": "float64",
         "type": "float"
        },
        {
         "name": "Low",
         "rawType": "float64",
         "type": "float"
        },
        {
         "name": "Open",
         "rawType": "float64",
         "type": "float"
        },
        {
         "name": "Volume",
         "rawType": "int64",
         "type": "integer"
        },
        {
         "name": "VIX",
         "rawType": "float64",
         "type": "float"
        },
        {
         "name": "LogVIX",
         "rawType": "float64",
         "type": "float"
        },
        {
         "name": "Volatility",
         "rawType": "float64",
         "type": "float"
        },
        {
         "name": "MA",
         "rawType": "float64",
         "type": "float"
        },
        {
         "name": "Return",
         "rawType": "float64",
         "type": "float"
        },
        {
         "name": "LogVIX_Ratio",
         "rawType": "float64",
         "type": "float"
        }
       ],
       "conversionMethod": "pd.DataFrame",
       "ref": "ffa6b5a9-6461-4b0b-ad3e-afc4adbfcc46",
       "rows": [
        [
         "0",
         "1995-01-03 00:00:00",
         "26.815872192382812",
         "26.852480891621564",
         "26.760959143524694",
         "26.77011131833438",
         "324300",
         "14.25",
         "2.6567569067146595",
         "0.0",
         "0.0",
         "0.0",
         "0.0"
        ],
        [
         "1",
         "1995-01-04 00:00:00",
         "26.944002151489258",
         "26.944002151489258",
         "26.797567357187685",
         "26.93484997684541",
         "351800",
         "13.529999732971191",
         "2.6049094224466427",
         "0.0",
         "0.0",
         "0.0",
         "0.0"
        ],
        [
         "2",
         "1995-01-05 00:00:00",
         "26.944002151489258",
         "27.008067373996195",
         "26.916545627557714",
         "26.962306500776954",
         "89800",
         "13.5",
         "2.6026896854443837",
         "0.0",
         "0.0",
         "0.0",
         "0.0"
        ],
        [
         "3",
         "1995-01-06 00:00:00",
         "26.971464157104492",
         "27.09044245165568",
         "26.88909456856905",
         "26.9989206866163",
         "448400",
         "13.130000114440918",
         "2.5748996970306925",
         "0.0",
         "0.0",
         "0.0",
         "0.0"
        ],
        [
         "4",
         "1995-01-09 00:00:00",
         "26.998912811279297",
         "26.998912811279293",
         "26.9439997682733",
         "26.962304115941965",
         "36800",
         "13.329999923706055",
         "2.5900171284671405",
         "0.0",
         "0.0",
         "0.0",
         "0.0"
        ],
        [
         "5",
         "1995-01-10 00:00:00",
         "27.02637481689453",
         "27.172809627957964",
         "27.02637481689453",
         "27.06298351966039",
         "229800",
         "12.520000457763672",
         "2.5273274022345453",
         "0.0",
         "0.0",
         "0.0",
         "0.0"
        ],
        [
         "6",
         "1995-01-11 00:00:00",
         "27.044675827026367",
         "27.117893223512393",
         "26.83417581212904",
         "27.117893223512393",
         "222400",
         "12.149999618530273",
         "2.4973291383898717",
         "0.0",
         "0.0",
         "0.0",
         "0.0"
        ],
        [
         "7",
         "1995-01-12 00:00:00",
         "27.053829193115234",
         "27.072133543042916",
         "26.96230744347682",
         "27.01722049325987",
         "40300",
         "12.829999923706055",
         "2.551786172681018",
         "0.0",
         "0.0",
         "0.0",
         "0.0"
        ],
        [
         "8",
         "1995-01-13 00:00:00",
         "27.37415885925293",
         "27.37415885925293",
         "27.16365880784443",
         "27.200267512437215",
         "170600",
         "11.100000381469727",
         "2.40694514268493",
         "0.0",
         "0.0",
         "0.0",
         "0.0"
        ],
        [
         "9",
         "1995-01-16 00:00:00",
         "27.538894653320312",
         "27.54804682834634",
         "27.365003327825768",
         "27.365003327825768",
         "105100",
         "11.140000343322754",
         "2.410542265318056",
         "0.0",
         "0.0",
         "0.0",
         "0.0"
        ],
        [
         "10",
         "1995-01-17 00:00:00",
         "27.54804801940918",
         "27.56635237025264",
         "27.447374089770143",
         "27.483982791457066",
         "89500",
         "11.789999961853027",
         "2.467251711313743",
         "0.053481672412308404",
         "27.144436264038085",
         "0.03323795745652262",
         "0.9704724125668224"
        ],
        [
         "11",
         "1995-01-18 00:00:00",
         "27.520587921142578",
         "27.57550096654559",
         "27.45652270150573",
         "27.52974009537641",
         "84500",
         "11.569999694824219",
         "2.448415514829113",
         "0.0602887844815632",
         "27.20209484100342",
         "-0.099680740527439",
         "0.9702959659471905"
        ],
        [
         "12",
         "1995-01-19 00:00:00",
         "27.364988327026367",
         "27.456510027116757",
         "27.346683987008287",
         "27.42905351708964",
         "139100",
         "11.859999656677246",
         "2.4731713646216233",
         "0.05450873602243519",
         "27.244193458557127",
         "-0.5653934231422149",
         "0.9862229372091009"
        ],
        [
         "13",
         "1995-01-20 00:00:00",
         "27.26433753967285",
         "27.337554961733066",
         "27.20942447312769",
         "27.32840278397554",
         "78700",
         "12.149999618530273",
         "2.4973291383898717",
         "0.046253439053580224",
         "27.273480796813963",
         "-0.36780862520635654",
         "1.0010263816372633"
        ],
        [
         "14",
         "1995-01-23 00:00:00",
         "27.346689224243164",
         "27.34668922424316",
         "27.06297189962752",
         "27.08127624315111",
         "53700",
         "12.789999961853027",
         "2.548663612608189",
         "0.03804114423604915",
         "27.30825843811035",
         "0.3020490941710247",
         "1.0247896379921966"
        ]
       ],
       "shape": {
        "columns": 12,
        "rows": 15
       }
      },
      "text/html": [
       "<div>\n",
       "<style scoped>\n",
       "    .dataframe tbody tr th:only-of-type {\n",
       "        vertical-align: middle;\n",
       "    }\n",
       "\n",
       "    .dataframe tbody tr th {\n",
       "        vertical-align: top;\n",
       "    }\n",
       "\n",
       "    .dataframe thead th {\n",
       "        text-align: right;\n",
       "    }\n",
       "</style>\n",
       "<table border=\"1\" class=\"dataframe\">\n",
       "  <thead>\n",
       "    <tr style=\"text-align: right;\">\n",
       "      <th>Price</th>\n",
       "      <th>Date</th>\n",
       "      <th>Close</th>\n",
       "      <th>High</th>\n",
       "      <th>Low</th>\n",
       "      <th>Open</th>\n",
       "      <th>Volume</th>\n",
       "      <th>VIX</th>\n",
       "      <th>LogVIX</th>\n",
       "      <th>Volatility</th>\n",
       "      <th>MA</th>\n",
       "      <th>Return</th>\n",
       "      <th>LogVIX_Ratio</th>\n",
       "    </tr>\n",
       "  </thead>\n",
       "  <tbody>\n",
       "    <tr>\n",
       "      <th>0</th>\n",
       "      <td>1995-01-03</td>\n",
       "      <td>26.815872</td>\n",
       "      <td>26.852481</td>\n",
       "      <td>26.760959</td>\n",
       "      <td>26.770111</td>\n",
       "      <td>324300</td>\n",
       "      <td>14.25</td>\n",
       "      <td>2.656757</td>\n",
       "      <td>0.000000</td>\n",
       "      <td>0.000000</td>\n",
       "      <td>0.000000</td>\n",
       "      <td>0.000000</td>\n",
       "    </tr>\n",
       "    <tr>\n",
       "      <th>1</th>\n",
       "      <td>1995-01-04</td>\n",
       "      <td>26.944002</td>\n",
       "      <td>26.944002</td>\n",
       "      <td>26.797567</td>\n",
       "      <td>26.934850</td>\n",
       "      <td>351800</td>\n",
       "      <td>13.53</td>\n",
       "      <td>2.604909</td>\n",
       "      <td>0.000000</td>\n",
       "      <td>0.000000</td>\n",
       "      <td>0.000000</td>\n",
       "      <td>0.000000</td>\n",
       "    </tr>\n",
       "    <tr>\n",
       "      <th>2</th>\n",
       "      <td>1995-01-05</td>\n",
       "      <td>26.944002</td>\n",
       "      <td>27.008067</td>\n",
       "      <td>26.916546</td>\n",
       "      <td>26.962307</td>\n",
       "      <td>89800</td>\n",
       "      <td>13.50</td>\n",
       "      <td>2.602690</td>\n",
       "      <td>0.000000</td>\n",
       "      <td>0.000000</td>\n",
       "      <td>0.000000</td>\n",
       "      <td>0.000000</td>\n",
       "    </tr>\n",
       "    <tr>\n",
       "      <th>3</th>\n",
       "      <td>1995-01-06</td>\n",
       "      <td>26.971464</td>\n",
       "      <td>27.090442</td>\n",
       "      <td>26.889095</td>\n",
       "      <td>26.998921</td>\n",
       "      <td>448400</td>\n",
       "      <td>13.13</td>\n",
       "      <td>2.574900</td>\n",
       "      <td>0.000000</td>\n",
       "      <td>0.000000</td>\n",
       "      <td>0.000000</td>\n",
       "      <td>0.000000</td>\n",
       "    </tr>\n",
       "    <tr>\n",
       "      <th>4</th>\n",
       "      <td>1995-01-09</td>\n",
       "      <td>26.998913</td>\n",
       "      <td>26.998913</td>\n",
       "      <td>26.944000</td>\n",
       "      <td>26.962304</td>\n",
       "      <td>36800</td>\n",
       "      <td>13.33</td>\n",
       "      <td>2.590017</td>\n",
       "      <td>0.000000</td>\n",
       "      <td>0.000000</td>\n",
       "      <td>0.000000</td>\n",
       "      <td>0.000000</td>\n",
       "    </tr>\n",
       "    <tr>\n",
       "      <th>5</th>\n",
       "      <td>1995-01-10</td>\n",
       "      <td>27.026375</td>\n",
       "      <td>27.172810</td>\n",
       "      <td>27.026375</td>\n",
       "      <td>27.062984</td>\n",
       "      <td>229800</td>\n",
       "      <td>12.52</td>\n",
       "      <td>2.527327</td>\n",
       "      <td>0.000000</td>\n",
       "      <td>0.000000</td>\n",
       "      <td>0.000000</td>\n",
       "      <td>0.000000</td>\n",
       "    </tr>\n",
       "    <tr>\n",
       "      <th>6</th>\n",
       "      <td>1995-01-11</td>\n",
       "      <td>27.044676</td>\n",
       "      <td>27.117893</td>\n",
       "      <td>26.834176</td>\n",
       "      <td>27.117893</td>\n",
       "      <td>222400</td>\n",
       "      <td>12.15</td>\n",
       "      <td>2.497329</td>\n",
       "      <td>0.000000</td>\n",
       "      <td>0.000000</td>\n",
       "      <td>0.000000</td>\n",
       "      <td>0.000000</td>\n",
       "    </tr>\n",
       "    <tr>\n",
       "      <th>7</th>\n",
       "      <td>1995-01-12</td>\n",
       "      <td>27.053829</td>\n",
       "      <td>27.072134</td>\n",
       "      <td>26.962307</td>\n",
       "      <td>27.017220</td>\n",
       "      <td>40300</td>\n",
       "      <td>12.83</td>\n",
       "      <td>2.551786</td>\n",
       "      <td>0.000000</td>\n",
       "      <td>0.000000</td>\n",
       "      <td>0.000000</td>\n",
       "      <td>0.000000</td>\n",
       "    </tr>\n",
       "    <tr>\n",
       "      <th>8</th>\n",
       "      <td>1995-01-13</td>\n",
       "      <td>27.374159</td>\n",
       "      <td>27.374159</td>\n",
       "      <td>27.163659</td>\n",
       "      <td>27.200268</td>\n",
       "      <td>170600</td>\n",
       "      <td>11.10</td>\n",
       "      <td>2.406945</td>\n",
       "      <td>0.000000</td>\n",
       "      <td>0.000000</td>\n",
       "      <td>0.000000</td>\n",
       "      <td>0.000000</td>\n",
       "    </tr>\n",
       "    <tr>\n",
       "      <th>9</th>\n",
       "      <td>1995-01-16</td>\n",
       "      <td>27.538895</td>\n",
       "      <td>27.548047</td>\n",
       "      <td>27.365003</td>\n",
       "      <td>27.365003</td>\n",
       "      <td>105100</td>\n",
       "      <td>11.14</td>\n",
       "      <td>2.410542</td>\n",
       "      <td>0.000000</td>\n",
       "      <td>0.000000</td>\n",
       "      <td>0.000000</td>\n",
       "      <td>0.000000</td>\n",
       "    </tr>\n",
       "    <tr>\n",
       "      <th>10</th>\n",
       "      <td>1995-01-17</td>\n",
       "      <td>27.548048</td>\n",
       "      <td>27.566352</td>\n",
       "      <td>27.447374</td>\n",
       "      <td>27.483983</td>\n",
       "      <td>89500</td>\n",
       "      <td>11.79</td>\n",
       "      <td>2.467252</td>\n",
       "      <td>0.053482</td>\n",
       "      <td>27.144436</td>\n",
       "      <td>0.033238</td>\n",
       "      <td>0.970472</td>\n",
       "    </tr>\n",
       "    <tr>\n",
       "      <th>11</th>\n",
       "      <td>1995-01-18</td>\n",
       "      <td>27.520588</td>\n",
       "      <td>27.575501</td>\n",
       "      <td>27.456523</td>\n",
       "      <td>27.529740</td>\n",
       "      <td>84500</td>\n",
       "      <td>11.57</td>\n",
       "      <td>2.448416</td>\n",
       "      <td>0.060289</td>\n",
       "      <td>27.202095</td>\n",
       "      <td>-0.099681</td>\n",
       "      <td>0.970296</td>\n",
       "    </tr>\n",
       "    <tr>\n",
       "      <th>12</th>\n",
       "      <td>1995-01-19</td>\n",
       "      <td>27.364988</td>\n",
       "      <td>27.456510</td>\n",
       "      <td>27.346684</td>\n",
       "      <td>27.429054</td>\n",
       "      <td>139100</td>\n",
       "      <td>11.86</td>\n",
       "      <td>2.473171</td>\n",
       "      <td>0.054509</td>\n",
       "      <td>27.244193</td>\n",
       "      <td>-0.565393</td>\n",
       "      <td>0.986223</td>\n",
       "    </tr>\n",
       "    <tr>\n",
       "      <th>13</th>\n",
       "      <td>1995-01-20</td>\n",
       "      <td>27.264338</td>\n",
       "      <td>27.337555</td>\n",
       "      <td>27.209424</td>\n",
       "      <td>27.328403</td>\n",
       "      <td>78700</td>\n",
       "      <td>12.15</td>\n",
       "      <td>2.497329</td>\n",
       "      <td>0.046253</td>\n",
       "      <td>27.273481</td>\n",
       "      <td>-0.367809</td>\n",
       "      <td>1.001026</td>\n",
       "    </tr>\n",
       "    <tr>\n",
       "      <th>14</th>\n",
       "      <td>1995-01-23</td>\n",
       "      <td>27.346689</td>\n",
       "      <td>27.346689</td>\n",
       "      <td>27.062972</td>\n",
       "      <td>27.081276</td>\n",
       "      <td>53700</td>\n",
       "      <td>12.79</td>\n",
       "      <td>2.548664</td>\n",
       "      <td>0.038041</td>\n",
       "      <td>27.308258</td>\n",
       "      <td>0.302049</td>\n",
       "      <td>1.024790</td>\n",
       "    </tr>\n",
       "  </tbody>\n",
       "</table>\n",
       "</div>"
      ],
      "text/plain": [
       "Price       Date      Close       High        Low       Open  Volume    VIX  \\\n",
       "0     1995-01-03  26.815872  26.852481  26.760959  26.770111  324300  14.25   \n",
       "1     1995-01-04  26.944002  26.944002  26.797567  26.934850  351800  13.53   \n",
       "2     1995-01-05  26.944002  27.008067  26.916546  26.962307   89800  13.50   \n",
       "3     1995-01-06  26.971464  27.090442  26.889095  26.998921  448400  13.13   \n",
       "4     1995-01-09  26.998913  26.998913  26.944000  26.962304   36800  13.33   \n",
       "5     1995-01-10  27.026375  27.172810  27.026375  27.062984  229800  12.52   \n",
       "6     1995-01-11  27.044676  27.117893  26.834176  27.117893  222400  12.15   \n",
       "7     1995-01-12  27.053829  27.072134  26.962307  27.017220   40300  12.83   \n",
       "8     1995-01-13  27.374159  27.374159  27.163659  27.200268  170600  11.10   \n",
       "9     1995-01-16  27.538895  27.548047  27.365003  27.365003  105100  11.14   \n",
       "10    1995-01-17  27.548048  27.566352  27.447374  27.483983   89500  11.79   \n",
       "11    1995-01-18  27.520588  27.575501  27.456523  27.529740   84500  11.57   \n",
       "12    1995-01-19  27.364988  27.456510  27.346684  27.429054  139100  11.86   \n",
       "13    1995-01-20  27.264338  27.337555  27.209424  27.328403   78700  12.15   \n",
       "14    1995-01-23  27.346689  27.346689  27.062972  27.081276   53700  12.79   \n",
       "\n",
       "Price    LogVIX  Volatility         MA    Return  LogVIX_Ratio  \n",
       "0      2.656757    0.000000   0.000000  0.000000      0.000000  \n",
       "1      2.604909    0.000000   0.000000  0.000000      0.000000  \n",
       "2      2.602690    0.000000   0.000000  0.000000      0.000000  \n",
       "3      2.574900    0.000000   0.000000  0.000000      0.000000  \n",
       "4      2.590017    0.000000   0.000000  0.000000      0.000000  \n",
       "5      2.527327    0.000000   0.000000  0.000000      0.000000  \n",
       "6      2.497329    0.000000   0.000000  0.000000      0.000000  \n",
       "7      2.551786    0.000000   0.000000  0.000000      0.000000  \n",
       "8      2.406945    0.000000   0.000000  0.000000      0.000000  \n",
       "9      2.410542    0.000000   0.000000  0.000000      0.000000  \n",
       "10     2.467252    0.053482  27.144436  0.033238      0.970472  \n",
       "11     2.448416    0.060289  27.202095 -0.099681      0.970296  \n",
       "12     2.473171    0.054509  27.244193 -0.565393      0.986223  \n",
       "13     2.497329    0.046253  27.273481 -0.367809      1.001026  \n",
       "14     2.548664    0.038041  27.308258  0.302049      1.024790  "
      ]
     },
     "execution_count": 22,
     "metadata": {},
     "output_type": "execute_result"
    }
   ],
   "source": [
    "# Function to calculate technical indicators\n",
    "def calculate_indicators(data):\n",
    "    # Create a copy of the dataframe to avoid modifying original\n",
    "    df_copy = data.copy()\n",
    "    \n",
    "    # Volatility is computed by obtaining variance between current close and prices of past 10 days\n",
    "    volatility = []\n",
    "    # MA is the 10 day SMA\n",
    "    ma = []\n",
    "    # Return is the single-day percentage return\n",
    "    returns = []\n",
    "    ma_sum = 0\n",
    "    \n",
    "    # Normalize LogVIX relative to its recent history (10-day window)\n",
    "    log_vix_ratio = []\n",
    "    \n",
    "    # Warming up data for calculations\n",
    "    for i in range(0, 10):\n",
    "        volatility.append(0)\n",
    "        ma.append(0)\n",
    "        returns.append(0)\n",
    "        log_vix_ratio.append(0)\n",
    "        ma_sum += df_copy['Close'].iloc[i]\n",
    "    \n",
    "    # Filling in data for return, moving average, and volatility\n",
    "    for ind in range(len(df_copy)):\n",
    "        if ind >= 10:\n",
    "            # SPY indicators\n",
    "            tail_close = df_copy['Close'].iloc[ind-10]\n",
    "            prev_close = df_copy['Close'].iloc[ind-1]\n",
    "            head_close = df_copy['Close'].iloc[ind]\n",
    "            ma_sum = (ma_sum - tail_close + head_close)\n",
    "            ma_curr = ma_sum/10\n",
    "            ma.append(ma_curr)\n",
    "            returns.append(((head_close-prev_close)/prev_close)*100)\n",
    "            \n",
    "            # Computing Volatility\n",
    "            vol_sum = 0\n",
    "            for i in range(0, 10):\n",
    "                curr_vol = abs(ma_curr - df_copy['Close'].iloc[ind-i])\n",
    "                vol_sum += (curr_vol ** 2)\n",
    "            volatility.append(vol_sum/10)\n",
    "            \n",
    "            # LogVIX-based indicator: current LogVIX relative to 10-day average\n",
    "            log_vix_10day_avg = sum(df_copy['LogVIX'].iloc[ind-10:ind]) / 10\n",
    "            log_vix_ratio.append(df_copy['LogVIX'].iloc[ind] / log_vix_10day_avg if log_vix_10day_avg > 0 else 1)\n",
    "    \n",
    "    # Adding columns to dataframe\n",
    "    df_copy['Volatility'] = volatility\n",
    "    df_copy['MA'] = ma\n",
    "    df_copy['Return'] = returns\n",
    "    df_copy['LogVIX_Ratio'] = log_vix_ratio\n",
    "    \n",
    "    return df_copy\n",
    "\n",
    "# Calculate indicators for the entire dataset\n",
    "df = calculate_indicators(df)\n",
    "df.head(15)"
   ]
  },
  {
   "cell_type": "code",
   "execution_count": 23,
   "metadata": {},
   "outputs": [
    {
     "name": "stdout",
     "output_type": "stream",
     "text": [
      "Training model on data from 2018-01-01 to 2024-12-31\n",
      "Training data shape: (1761, 12)\n",
      "Regime 0\n",
      "Avg Vol: 4.7944\n",
      "Avg Return: 0.0709%\n",
      "Avg VIX: 16.02\n",
      "Avg LogVIX: 2.7498\n",
      "Occurrence: 696 days\n",
      "\n",
      "Regime 1\n",
      "Avg Vol: 80.5913\n",
      "Avg Return: -0.1366%\n",
      "Avg VIX: 28.65\n",
      "Avg LogVIX: 3.2938\n",
      "Occurrence: 307 days\n",
      "\n",
      "Regime 2\n",
      "Avg Vol: 21.8409\n",
      "Avg Return: 0.1265%\n",
      "Avg VIX: 19.85\n",
      "Avg LogVIX: 2.9529\n",
      "Occurrence: 758 days\n",
      "\n"
     ]
    }
   ],
   "source": [
    "# Function to train HMM model on specified period\n",
    "def train_hmm_model(data, start_date, end_date, n_states=3, n_iter=75):\n",
    "    # Filter data to training period\n",
    "    training = data[(data['Date'] >= start_date) & (data['Date'] <= end_date)].copy()\n",
    "    \n",
    "    print(f\"Training model on data from {start_date} to {end_date}\")\n",
    "    print(f\"Training data shape: {training.shape}\")\n",
    "    \n",
    "    # Prepare observations for HMM (using Volatility, Return, and LogVIX_Ratio)\n",
    "    obs = np.column_stack([\n",
    "        training['Volatility'].values, \n",
    "        training['Return'].values,\n",
    "        training['LogVIX_Ratio'].values\n",
    "    ])\n",
    "    \n",
    "    # Create and train the HMM model\n",
    "    model = hmm.GaussianHMM(n_components=n_states, covariance_type=\"full\", n_iter=n_iter)\n",
    "    model.fit(obs)\n",
    "    \n",
    "    # Get predictions for training data\n",
    "    predictions = model.predict(obs)\n",
    "    \n",
    "    # Analyze regime characteristics\n",
    "    regime_vol = [0] * n_states\n",
    "    regime_ret = [0] * n_states\n",
    "    regime_vix = [0] * n_states\n",
    "    regime_logvix = [0] * n_states\n",
    "    regime_count = [0] * n_states\n",
    "    \n",
    "    for i in range(len(predictions)):\n",
    "        regime = predictions[i]\n",
    "        regime_count[regime] += 1\n",
    "        regime_vol[regime] += training['Volatility'].iloc[i]\n",
    "        regime_ret[regime] += training['Return'].iloc[i]\n",
    "        regime_vix[regime] += training['VIX'].iloc[i]\n",
    "        regime_logvix[regime] += training['LogVIX'].iloc[i]\n",
    "    \n",
    "    # Calculate averages\n",
    "    for i in range(n_states):\n",
    "        if regime_count[i] > 0:  # Prevent division by zero\n",
    "            regime_vol[i] = regime_vol[i] / regime_count[i]\n",
    "            regime_ret[i] = regime_ret[i] / regime_count[i]\n",
    "            regime_vix[i] = regime_vix[i] / regime_count[i]\n",
    "            regime_logvix[i] = regime_logvix[i] / regime_count[i]\n",
    "    \n",
    "    # Print regime characteristics\n",
    "    for i in range(n_states):\n",
    "        print(f\"Regime {i}\")\n",
    "        print(f\"Avg Vol: {regime_vol[i]:.4f}\")\n",
    "        print(f\"Avg Return: {regime_ret[i]:.4f}%\")\n",
    "        print(f\"Avg VIX: {regime_vix[i]:.2f}\")\n",
    "        print(f\"Avg LogVIX: {regime_logvix[i]:.4f}\")\n",
    "        print(f\"Occurrence: {regime_count[i]} days\\n\")\n",
    "    \n",
    "    return model, training, predictions\n",
    "\n",
    "# Train the model on the fixed period\n",
    "model, training_data, train_predictions = train_hmm_model(df, train_start_date, train_end_date, \n",
    "                                                         hidden_states, em_iterations)"
   ]
  },
  {
   "cell_type": "code",
   "execution_count": 24,
   "metadata": {},
   "outputs": [
    {
     "data": {
      "application/vnd.plotly.v1+json": {
       "config": {
        "plotlyServerURL": "https://plot.ly"
       },
       "data": [
        {
         "marker": {
          "color": "rgb(102,194,165)",
          "size": 6
         },
         "mode": "markers",
         "name": "Regime 0",
         "showlegend": true,
         "type": "scatter",
         "x": [
          "2018-01-02T00:00:00.000000000",
          "2018-01-03T00:00:00.000000000",
          "2018-01-04T00:00:00.000000000",
          "2018-01-05T00:00:00.000000000",
          "2018-01-08T00:00:00.000000000",
          "2018-01-09T00:00:00.000000000",
          "2018-01-10T00:00:00.000000000",
          "2018-01-11T00:00:00.000000000",
          "2018-01-12T00:00:00.000000000",
          "2018-01-16T00:00:00.000000000",
          "2018-01-17T00:00:00.000000000",
          "2018-01-18T00:00:00.000000000",
          "2018-01-19T00:00:00.000000000",
          "2018-01-22T00:00:00.000000000",
          "2018-01-23T00:00:00.000000000",
          "2018-01-24T00:00:00.000000000",
          "2018-01-25T00:00:00.000000000",
          "2018-01-26T00:00:00.000000000",
          "2018-01-29T00:00:00.000000000",
          "2018-01-30T00:00:00.000000000",
          "2018-01-31T00:00:00.000000000",
          "2018-02-01T00:00:00.000000000",
          "2018-02-26T00:00:00.000000000",
          "2018-02-27T00:00:00.000000000",
          "2018-02-28T00:00:00.000000000",
          "2018-03-01T00:00:00.000000000",
          "2018-03-02T00:00:00.000000000",
          "2018-03-05T00:00:00.000000000",
          "2018-03-06T00:00:00.000000000",
          "2018-03-07T00:00:00.000000000",
          "2018-03-08T00:00:00.000000000",
          "2018-03-09T00:00:00.000000000",
          "2018-03-12T00:00:00.000000000",
          "2018-03-13T00:00:00.000000000",
          "2018-03-14T00:00:00.000000000",
          "2018-03-15T00:00:00.000000000",
          "2018-03-16T00:00:00.000000000",
          "2018-03-19T00:00:00.000000000",
          "2018-03-20T00:00:00.000000000",
          "2018-03-21T00:00:00.000000000",
          "2018-04-05T00:00:00.000000000",
          "2018-04-06T00:00:00.000000000",
          "2018-04-09T00:00:00.000000000",
          "2018-04-10T00:00:00.000000000",
          "2018-04-11T00:00:00.000000000",
          "2018-04-12T00:00:00.000000000",
          "2018-04-13T00:00:00.000000000",
          "2018-04-16T00:00:00.000000000",
          "2018-04-17T00:00:00.000000000",
          "2018-04-18T00:00:00.000000000",
          "2018-04-19T00:00:00.000000000",
          "2018-04-20T00:00:00.000000000",
          "2018-04-23T00:00:00.000000000",
          "2018-04-24T00:00:00.000000000",
          "2018-04-25T00:00:00.000000000",
          "2018-04-26T00:00:00.000000000",
          "2018-04-27T00:00:00.000000000",
          "2018-04-30T00:00:00.000000000",
          "2018-05-01T00:00:00.000000000",
          "2018-05-02T00:00:00.000000000",
          "2018-05-03T00:00:00.000000000",
          "2018-05-04T00:00:00.000000000",
          "2018-05-07T00:00:00.000000000",
          "2018-05-08T00:00:00.000000000",
          "2018-05-09T00:00:00.000000000",
          "2018-05-10T00:00:00.000000000",
          "2018-05-11T00:00:00.000000000",
          "2018-05-14T00:00:00.000000000",
          "2018-05-15T00:00:00.000000000",
          "2018-05-16T00:00:00.000000000",
          "2018-05-17T00:00:00.000000000",
          "2018-05-18T00:00:00.000000000",
          "2018-05-21T00:00:00.000000000",
          "2018-05-22T00:00:00.000000000",
          "2018-05-23T00:00:00.000000000",
          "2018-05-24T00:00:00.000000000",
          "2018-05-25T00:00:00.000000000",
          "2018-05-29T00:00:00.000000000",
          "2018-05-30T00:00:00.000000000",
          "2018-05-31T00:00:00.000000000",
          "2018-06-01T00:00:00.000000000",
          "2018-06-04T00:00:00.000000000",
          "2018-06-05T00:00:00.000000000",
          "2018-06-06T00:00:00.000000000",
          "2018-06-07T00:00:00.000000000",
          "2018-06-08T00:00:00.000000000",
          "2018-06-11T00:00:00.000000000",
          "2018-06-12T00:00:00.000000000",
          "2018-06-13T00:00:00.000000000",
          "2018-06-14T00:00:00.000000000",
          "2018-06-15T00:00:00.000000000",
          "2018-06-18T00:00:00.000000000",
          "2018-06-19T00:00:00.000000000",
          "2018-06-20T00:00:00.000000000",
          "2018-06-21T00:00:00.000000000",
          "2018-06-22T00:00:00.000000000",
          "2018-06-25T00:00:00.000000000",
          "2018-06-26T00:00:00.000000000",
          "2018-06-27T00:00:00.000000000",
          "2018-06-28T00:00:00.000000000",
          "2018-06-29T00:00:00.000000000",
          "2018-07-02T00:00:00.000000000",
          "2018-07-03T00:00:00.000000000",
          "2018-07-05T00:00:00.000000000",
          "2018-07-06T00:00:00.000000000",
          "2018-07-09T00:00:00.000000000",
          "2018-07-10T00:00:00.000000000",
          "2018-07-11T00:00:00.000000000",
          "2018-07-12T00:00:00.000000000",
          "2018-07-13T00:00:00.000000000",
          "2018-07-16T00:00:00.000000000",
          "2018-07-17T00:00:00.000000000",
          "2018-07-18T00:00:00.000000000",
          "2018-07-19T00:00:00.000000000",
          "2018-07-20T00:00:00.000000000",
          "2018-07-23T00:00:00.000000000",
          "2018-07-24T00:00:00.000000000",
          "2018-07-25T00:00:00.000000000",
          "2018-07-26T00:00:00.000000000",
          "2018-07-27T00:00:00.000000000",
          "2018-07-30T00:00:00.000000000",
          "2018-07-31T00:00:00.000000000",
          "2018-08-01T00:00:00.000000000",
          "2018-08-02T00:00:00.000000000",
          "2018-08-03T00:00:00.000000000",
          "2018-08-06T00:00:00.000000000",
          "2018-08-07T00:00:00.000000000",
          "2018-08-08T00:00:00.000000000",
          "2018-08-09T00:00:00.000000000",
          "2018-08-10T00:00:00.000000000",
          "2018-08-13T00:00:00.000000000",
          "2018-08-14T00:00:00.000000000",
          "2018-08-15T00:00:00.000000000",
          "2018-08-16T00:00:00.000000000",
          "2018-08-17T00:00:00.000000000",
          "2018-08-20T00:00:00.000000000",
          "2018-08-21T00:00:00.000000000",
          "2018-08-22T00:00:00.000000000",
          "2018-08-23T00:00:00.000000000",
          "2018-08-24T00:00:00.000000000",
          "2018-08-27T00:00:00.000000000",
          "2018-08-28T00:00:00.000000000",
          "2018-08-29T00:00:00.000000000",
          "2018-08-30T00:00:00.000000000",
          "2018-08-31T00:00:00.000000000",
          "2018-09-04T00:00:00.000000000",
          "2018-09-05T00:00:00.000000000",
          "2018-09-06T00:00:00.000000000",
          "2018-09-07T00:00:00.000000000",
          "2018-09-10T00:00:00.000000000",
          "2018-09-11T00:00:00.000000000",
          "2018-09-12T00:00:00.000000000",
          "2018-09-13T00:00:00.000000000",
          "2018-09-14T00:00:00.000000000",
          "2018-09-17T00:00:00.000000000",
          "2018-09-18T00:00:00.000000000",
          "2018-09-19T00:00:00.000000000",
          "2018-09-20T00:00:00.000000000",
          "2018-09-21T00:00:00.000000000",
          "2018-09-24T00:00:00.000000000",
          "2018-09-25T00:00:00.000000000",
          "2018-09-26T00:00:00.000000000",
          "2018-09-27T00:00:00.000000000",
          "2018-09-28T00:00:00.000000000",
          "2018-10-01T00:00:00.000000000",
          "2018-10-02T00:00:00.000000000",
          "2018-10-03T00:00:00.000000000",
          "2018-10-04T00:00:00.000000000",
          "2018-10-05T00:00:00.000000000",
          "2018-10-08T00:00:00.000000000",
          "2018-10-09T00:00:00.000000000",
          "2019-01-17T00:00:00.000000000",
          "2019-01-18T00:00:00.000000000",
          "2019-01-22T00:00:00.000000000",
          "2019-01-23T00:00:00.000000000",
          "2019-01-24T00:00:00.000000000",
          "2019-01-25T00:00:00.000000000",
          "2019-01-28T00:00:00.000000000",
          "2019-01-29T00:00:00.000000000",
          "2019-01-30T00:00:00.000000000",
          "2019-01-31T00:00:00.000000000",
          "2019-02-01T00:00:00.000000000",
          "2019-02-04T00:00:00.000000000",
          "2019-02-05T00:00:00.000000000",
          "2019-02-06T00:00:00.000000000",
          "2019-02-07T00:00:00.000000000",
          "2019-02-08T00:00:00.000000000",
          "2019-02-11T00:00:00.000000000",
          "2019-02-12T00:00:00.000000000",
          "2019-02-13T00:00:00.000000000",
          "2019-02-14T00:00:00.000000000",
          "2019-02-15T00:00:00.000000000",
          "2019-02-19T00:00:00.000000000",
          "2019-02-20T00:00:00.000000000",
          "2019-02-21T00:00:00.000000000",
          "2019-02-22T00:00:00.000000000",
          "2019-02-25T00:00:00.000000000",
          "2019-02-26T00:00:00.000000000",
          "2019-02-27T00:00:00.000000000",
          "2019-02-28T00:00:00.000000000",
          "2019-03-01T00:00:00.000000000",
          "2019-03-04T00:00:00.000000000",
          "2019-03-05T00:00:00.000000000",
          "2019-03-06T00:00:00.000000000",
          "2019-03-07T00:00:00.000000000",
          "2019-03-08T00:00:00.000000000",
          "2019-03-11T00:00:00.000000000",
          "2019-03-12T00:00:00.000000000",
          "2019-03-13T00:00:00.000000000",
          "2019-03-14T00:00:00.000000000",
          "2019-03-15T00:00:00.000000000",
          "2019-03-18T00:00:00.000000000",
          "2019-03-19T00:00:00.000000000",
          "2019-03-20T00:00:00.000000000",
          "2019-03-21T00:00:00.000000000",
          "2019-03-22T00:00:00.000000000",
          "2019-03-25T00:00:00.000000000",
          "2019-03-26T00:00:00.000000000",
          "2019-03-27T00:00:00.000000000",
          "2019-03-28T00:00:00.000000000",
          "2019-03-29T00:00:00.000000000",
          "2019-04-01T00:00:00.000000000",
          "2019-04-02T00:00:00.000000000",
          "2019-04-03T00:00:00.000000000",
          "2019-04-04T00:00:00.000000000",
          "2019-04-05T00:00:00.000000000",
          "2019-04-08T00:00:00.000000000",
          "2019-04-09T00:00:00.000000000",
          "2019-04-10T00:00:00.000000000",
          "2019-04-11T00:00:00.000000000",
          "2019-04-12T00:00:00.000000000",
          "2019-04-15T00:00:00.000000000",
          "2019-04-16T00:00:00.000000000",
          "2019-04-17T00:00:00.000000000",
          "2019-04-18T00:00:00.000000000",
          "2019-04-22T00:00:00.000000000",
          "2019-04-23T00:00:00.000000000",
          "2019-04-24T00:00:00.000000000",
          "2019-04-25T00:00:00.000000000",
          "2019-04-26T00:00:00.000000000",
          "2019-04-29T00:00:00.000000000",
          "2019-04-30T00:00:00.000000000",
          "2019-05-01T00:00:00.000000000",
          "2019-05-02T00:00:00.000000000",
          "2019-05-03T00:00:00.000000000",
          "2019-05-06T00:00:00.000000000",
          "2019-05-07T00:00:00.000000000",
          "2019-05-08T00:00:00.000000000",
          "2019-05-09T00:00:00.000000000",
          "2019-05-10T00:00:00.000000000",
          "2019-05-17T00:00:00.000000000",
          "2019-05-20T00:00:00.000000000",
          "2019-05-21T00:00:00.000000000",
          "2019-05-22T00:00:00.000000000",
          "2019-05-23T00:00:00.000000000",
          "2019-05-24T00:00:00.000000000",
          "2019-05-28T00:00:00.000000000",
          "2019-05-29T00:00:00.000000000",
          "2019-05-30T00:00:00.000000000",
          "2019-06-17T00:00:00.000000000",
          "2019-06-18T00:00:00.000000000",
          "2019-06-19T00:00:00.000000000",
          "2019-06-20T00:00:00.000000000",
          "2019-06-21T00:00:00.000000000",
          "2019-06-24T00:00:00.000000000",
          "2019-06-25T00:00:00.000000000",
          "2019-06-26T00:00:00.000000000",
          "2019-06-27T00:00:00.000000000",
          "2019-06-28T00:00:00.000000000",
          "2019-07-01T00:00:00.000000000",
          "2019-07-02T00:00:00.000000000",
          "2019-07-03T00:00:00.000000000",
          "2019-07-05T00:00:00.000000000",
          "2019-07-08T00:00:00.000000000",
          "2019-07-09T00:00:00.000000000",
          "2019-07-10T00:00:00.000000000",
          "2019-07-11T00:00:00.000000000",
          "2019-07-12T00:00:00.000000000",
          "2019-07-15T00:00:00.000000000",
          "2019-07-16T00:00:00.000000000",
          "2019-07-17T00:00:00.000000000",
          "2019-07-18T00:00:00.000000000",
          "2019-07-19T00:00:00.000000000",
          "2019-07-22T00:00:00.000000000",
          "2019-07-23T00:00:00.000000000",
          "2019-07-24T00:00:00.000000000",
          "2019-07-25T00:00:00.000000000",
          "2019-07-26T00:00:00.000000000",
          "2019-07-29T00:00:00.000000000",
          "2019-07-30T00:00:00.000000000",
          "2019-07-31T00:00:00.000000000",
          "2019-08-01T00:00:00.000000000",
          "2019-08-02T00:00:00.000000000",
          "2019-08-19T00:00:00.000000000",
          "2019-08-20T00:00:00.000000000",
          "2019-08-21T00:00:00.000000000",
          "2019-08-22T00:00:00.000000000",
          "2019-08-27T00:00:00.000000000",
          "2019-08-28T00:00:00.000000000",
          "2019-08-29T00:00:00.000000000",
          "2019-08-30T00:00:00.000000000",
          "2019-09-03T00:00:00.000000000",
          "2019-09-04T00:00:00.000000000",
          "2019-09-11T00:00:00.000000000",
          "2019-09-12T00:00:00.000000000",
          "2019-09-13T00:00:00.000000000",
          "2019-09-16T00:00:00.000000000",
          "2019-09-17T00:00:00.000000000",
          "2019-09-18T00:00:00.000000000",
          "2019-09-19T00:00:00.000000000",
          "2019-09-20T00:00:00.000000000",
          "2019-09-23T00:00:00.000000000",
          "2019-09-24T00:00:00.000000000",
          "2019-09-25T00:00:00.000000000",
          "2019-09-26T00:00:00.000000000",
          "2019-09-27T00:00:00.000000000",
          "2019-09-30T00:00:00.000000000",
          "2019-10-01T00:00:00.000000000",
          "2019-10-02T00:00:00.000000000",
          "2019-10-03T00:00:00.000000000",
          "2019-10-04T00:00:00.000000000",
          "2019-10-07T00:00:00.000000000",
          "2019-10-08T00:00:00.000000000",
          "2019-10-09T00:00:00.000000000",
          "2019-10-10T00:00:00.000000000",
          "2019-10-11T00:00:00.000000000",
          "2019-10-14T00:00:00.000000000",
          "2019-10-15T00:00:00.000000000",
          "2019-10-16T00:00:00.000000000",
          "2019-10-17T00:00:00.000000000",
          "2019-10-18T00:00:00.000000000",
          "2019-10-21T00:00:00.000000000",
          "2019-10-22T00:00:00.000000000",
          "2019-10-23T00:00:00.000000000",
          "2019-10-24T00:00:00.000000000",
          "2019-10-25T00:00:00.000000000",
          "2019-10-28T00:00:00.000000000",
          "2019-10-29T00:00:00.000000000",
          "2019-10-30T00:00:00.000000000",
          "2019-10-31T00:00:00.000000000",
          "2019-11-01T00:00:00.000000000",
          "2019-11-04T00:00:00.000000000",
          "2019-11-05T00:00:00.000000000",
          "2019-11-06T00:00:00.000000000",
          "2019-11-07T00:00:00.000000000",
          "2019-11-08T00:00:00.000000000",
          "2019-11-11T00:00:00.000000000",
          "2019-11-12T00:00:00.000000000",
          "2019-11-13T00:00:00.000000000",
          "2019-11-14T00:00:00.000000000",
          "2019-11-15T00:00:00.000000000",
          "2019-11-18T00:00:00.000000000",
          "2019-11-19T00:00:00.000000000",
          "2019-11-20T00:00:00.000000000",
          "2019-11-21T00:00:00.000000000",
          "2019-11-22T00:00:00.000000000",
          "2019-11-25T00:00:00.000000000",
          "2019-11-26T00:00:00.000000000",
          "2019-11-27T00:00:00.000000000",
          "2019-11-29T00:00:00.000000000",
          "2019-12-02T00:00:00.000000000",
          "2019-12-03T00:00:00.000000000",
          "2019-12-04T00:00:00.000000000",
          "2019-12-05T00:00:00.000000000",
          "2019-12-06T00:00:00.000000000",
          "2019-12-09T00:00:00.000000000",
          "2019-12-10T00:00:00.000000000",
          "2019-12-11T00:00:00.000000000",
          "2019-12-12T00:00:00.000000000",
          "2019-12-13T00:00:00.000000000",
          "2019-12-16T00:00:00.000000000",
          "2019-12-17T00:00:00.000000000",
          "2019-12-18T00:00:00.000000000",
          "2019-12-19T00:00:00.000000000",
          "2019-12-20T00:00:00.000000000",
          "2019-12-23T00:00:00.000000000",
          "2019-12-24T00:00:00.000000000",
          "2019-12-26T00:00:00.000000000",
          "2019-12-27T00:00:00.000000000",
          "2019-12-30T00:00:00.000000000",
          "2019-12-31T00:00:00.000000000",
          "2020-01-02T00:00:00.000000000",
          "2020-01-03T00:00:00.000000000",
          "2020-01-06T00:00:00.000000000",
          "2020-01-07T00:00:00.000000000",
          "2020-01-08T00:00:00.000000000",
          "2020-01-09T00:00:00.000000000",
          "2020-01-10T00:00:00.000000000",
          "2020-01-13T00:00:00.000000000",
          "2020-01-14T00:00:00.000000000",
          "2020-01-15T00:00:00.000000000",
          "2020-01-16T00:00:00.000000000",
          "2020-01-17T00:00:00.000000000",
          "2020-01-21T00:00:00.000000000",
          "2020-01-22T00:00:00.000000000",
          "2020-01-23T00:00:00.000000000",
          "2020-01-24T00:00:00.000000000",
          "2020-01-27T00:00:00.000000000",
          "2020-01-28T00:00:00.000000000",
          "2020-01-29T00:00:00.000000000",
          "2020-01-30T00:00:00.000000000",
          "2020-02-18T00:00:00.000000000",
          "2020-02-19T00:00:00.000000000",
          "2020-02-20T00:00:00.000000000",
          "2020-02-21T00:00:00.000000000",
          "2020-07-15T00:00:00.000000000",
          "2020-07-16T00:00:00.000000000",
          "2020-07-17T00:00:00.000000000",
          "2020-07-20T00:00:00.000000000",
          "2020-07-21T00:00:00.000000000",
          "2020-07-22T00:00:00.000000000",
          "2020-07-23T00:00:00.000000000",
          "2020-07-24T00:00:00.000000000",
          "2020-07-27T00:00:00.000000000",
          "2020-07-28T00:00:00.000000000",
          "2020-07-29T00:00:00.000000000",
          "2020-07-30T00:00:00.000000000",
          "2020-07-31T00:00:00.000000000",
          "2020-08-03T00:00:00.000000000",
          "2020-08-04T00:00:00.000000000",
          "2020-08-13T00:00:00.000000000",
          "2020-08-14T00:00:00.000000000",
          "2020-08-17T00:00:00.000000000",
          "2020-08-18T00:00:00.000000000",
          "2020-08-19T00:00:00.000000000",
          "2020-08-20T00:00:00.000000000",
          "2020-08-21T00:00:00.000000000",
          "2020-08-24T00:00:00.000000000",
          "2020-08-25T00:00:00.000000000",
          "2020-10-21T00:00:00.000000000",
          "2020-10-22T00:00:00.000000000",
          "2020-10-23T00:00:00.000000000",
          "2020-10-26T00:00:00.000000000",
          "2020-10-27T00:00:00.000000000",
          "2020-11-19T00:00:00.000000000",
          "2020-11-20T00:00:00.000000000",
          "2020-11-23T00:00:00.000000000",
          "2020-11-24T00:00:00.000000000",
          "2020-11-25T00:00:00.000000000",
          "2020-11-27T00:00:00.000000000",
          "2020-11-30T00:00:00.000000000",
          "2020-12-08T00:00:00.000000000",
          "2020-12-09T00:00:00.000000000",
          "2020-12-10T00:00:00.000000000",
          "2020-12-11T00:00:00.000000000",
          "2020-12-14T00:00:00.000000000",
          "2020-12-15T00:00:00.000000000",
          "2020-12-16T00:00:00.000000000",
          "2020-12-17T00:00:00.000000000",
          "2020-12-18T00:00:00.000000000",
          "2020-12-21T00:00:00.000000000",
          "2020-12-22T00:00:00.000000000",
          "2020-12-23T00:00:00.000000000",
          "2020-12-24T00:00:00.000000000",
          "2020-12-28T00:00:00.000000000",
          "2020-12-29T00:00:00.000000000",
          "2020-12-30T00:00:00.000000000",
          "2020-12-31T00:00:00.000000000",
          "2021-01-04T00:00:00.000000000",
          "2021-01-05T00:00:00.000000000",
          "2021-01-06T00:00:00.000000000",
          "2021-01-19T00:00:00.000000000",
          "2021-01-20T00:00:00.000000000",
          "2021-01-21T00:00:00.000000000",
          "2021-01-22T00:00:00.000000000",
          "2021-01-25T00:00:00.000000000",
          "2021-01-26T00:00:00.000000000",
          "2021-02-17T00:00:00.000000000",
          "2021-02-18T00:00:00.000000000",
          "2021-02-19T00:00:00.000000000",
          "2021-02-22T00:00:00.000000000",
          "2021-02-23T00:00:00.000000000",
          "2021-02-24T00:00:00.000000000",
          "2021-03-22T00:00:00.000000000",
          "2021-03-23T00:00:00.000000000",
          "2021-03-24T00:00:00.000000000",
          "2021-03-25T00:00:00.000000000",
          "2021-03-26T00:00:00.000000000",
          "2021-03-29T00:00:00.000000000",
          "2021-03-30T00:00:00.000000000",
          "2021-03-31T00:00:00.000000000",
          "2021-04-20T00:00:00.000000000",
          "2021-04-21T00:00:00.000000000",
          "2021-04-22T00:00:00.000000000",
          "2021-04-23T00:00:00.000000000",
          "2021-04-26T00:00:00.000000000",
          "2021-04-27T00:00:00.000000000",
          "2021-04-28T00:00:00.000000000",
          "2021-04-29T00:00:00.000000000",
          "2021-04-30T00:00:00.000000000",
          "2021-05-03T00:00:00.000000000",
          "2021-05-04T00:00:00.000000000",
          "2021-05-05T00:00:00.000000000",
          "2021-05-06T00:00:00.000000000",
          "2021-05-07T00:00:00.000000000",
          "2021-05-10T00:00:00.000000000",
          "2021-05-11T00:00:00.000000000",
          "2021-05-26T00:00:00.000000000",
          "2021-05-27T00:00:00.000000000",
          "2021-05-28T00:00:00.000000000",
          "2021-06-01T00:00:00.000000000",
          "2021-06-02T00:00:00.000000000",
          "2021-06-03T00:00:00.000000000",
          "2021-06-04T00:00:00.000000000",
          "2021-06-07T00:00:00.000000000",
          "2021-06-08T00:00:00.000000000",
          "2021-06-09T00:00:00.000000000",
          "2021-06-10T00:00:00.000000000",
          "2021-06-11T00:00:00.000000000",
          "2021-06-14T00:00:00.000000000",
          "2021-06-15T00:00:00.000000000",
          "2021-06-16T00:00:00.000000000",
          "2021-06-17T00:00:00.000000000",
          "2021-06-18T00:00:00.000000000",
          "2021-06-21T00:00:00.000000000",
          "2021-06-22T00:00:00.000000000",
          "2021-06-23T00:00:00.000000000",
          "2021-06-24T00:00:00.000000000",
          "2021-06-25T00:00:00.000000000",
          "2021-06-28T00:00:00.000000000",
          "2021-07-08T00:00:00.000000000",
          "2021-07-09T00:00:00.000000000",
          "2021-07-12T00:00:00.000000000",
          "2021-07-13T00:00:00.000000000",
          "2021-07-14T00:00:00.000000000",
          "2021-07-15T00:00:00.000000000",
          "2021-07-16T00:00:00.000000000",
          "2021-08-02T00:00:00.000000000",
          "2021-08-03T00:00:00.000000000",
          "2021-08-04T00:00:00.000000000",
          "2021-08-05T00:00:00.000000000",
          "2021-08-06T00:00:00.000000000",
          "2021-08-09T00:00:00.000000000",
          "2021-08-10T00:00:00.000000000",
          "2021-08-11T00:00:00.000000000",
          "2021-08-12T00:00:00.000000000",
          "2021-08-13T00:00:00.000000000",
          "2021-08-16T00:00:00.000000000",
          "2021-08-17T00:00:00.000000000",
          "2021-08-18T00:00:00.000000000",
          "2021-08-19T00:00:00.000000000",
          "2021-08-20T00:00:00.000000000",
          "2021-08-23T00:00:00.000000000",
          "2021-08-24T00:00:00.000000000",
          "2021-08-25T00:00:00.000000000",
          "2021-08-26T00:00:00.000000000",
          "2021-09-02T00:00:00.000000000",
          "2021-09-03T00:00:00.000000000",
          "2021-09-07T00:00:00.000000000",
          "2021-09-08T00:00:00.000000000",
          "2021-09-09T00:00:00.000000000",
          "2021-09-10T00:00:00.000000000",
          "2021-09-13T00:00:00.000000000",
          "2021-09-14T00:00:00.000000000",
          "2021-09-15T00:00:00.000000000",
          "2021-09-16T00:00:00.000000000",
          "2021-09-17T00:00:00.000000000",
          "2021-11-11T00:00:00.000000000",
          "2021-11-12T00:00:00.000000000",
          "2021-11-15T00:00:00.000000000",
          "2021-11-16T00:00:00.000000000",
          "2021-11-17T00:00:00.000000000",
          "2021-11-18T00:00:00.000000000",
          "2021-11-19T00:00:00.000000000",
          "2021-11-22T00:00:00.000000000",
          "2021-11-23T00:00:00.000000000",
          "2021-11-24T00:00:00.000000000",
          "2022-11-23T00:00:00.000000000",
          "2022-11-25T00:00:00.000000000",
          "2022-11-28T00:00:00.000000000",
          "2022-11-29T00:00:00.000000000",
          "2022-12-30T00:00:00.000000000",
          "2023-01-03T00:00:00.000000000",
          "2023-01-04T00:00:00.000000000",
          "2023-01-05T00:00:00.000000000",
          "2023-02-14T00:00:00.000000000",
          "2023-02-15T00:00:00.000000000",
          "2023-02-16T00:00:00.000000000",
          "2023-02-17T00:00:00.000000000",
          "2023-04-12T00:00:00.000000000",
          "2023-04-13T00:00:00.000000000",
          "2023-04-14T00:00:00.000000000",
          "2023-04-17T00:00:00.000000000",
          "2023-04-18T00:00:00.000000000",
          "2023-04-19T00:00:00.000000000",
          "2023-04-20T00:00:00.000000000",
          "2023-04-21T00:00:00.000000000",
          "2023-04-24T00:00:00.000000000",
          "2023-04-25T00:00:00.000000000",
          "2023-04-26T00:00:00.000000000",
          "2023-05-10T00:00:00.000000000",
          "2023-05-11T00:00:00.000000000",
          "2023-05-12T00:00:00.000000000",
          "2023-05-15T00:00:00.000000000",
          "2023-05-16T00:00:00.000000000",
          "2023-05-17T00:00:00.000000000",
          "2023-05-18T00:00:00.000000000",
          "2023-05-19T00:00:00.000000000",
          "2023-05-22T00:00:00.000000000",
          "2023-05-23T00:00:00.000000000",
          "2023-05-24T00:00:00.000000000",
          "2023-06-26T00:00:00.000000000",
          "2023-06-27T00:00:00.000000000",
          "2023-06-28T00:00:00.000000000",
          "2023-06-29T00:00:00.000000000",
          "2023-07-25T00:00:00.000000000",
          "2023-07-26T00:00:00.000000000",
          "2023-07-27T00:00:00.000000000",
          "2023-07-28T00:00:00.000000000",
          "2023-07-31T00:00:00.000000000",
          "2023-08-01T00:00:00.000000000",
          "2023-08-02T00:00:00.000000000",
          "2023-08-03T00:00:00.000000000",
          "2023-09-11T00:00:00.000000000",
          "2023-09-12T00:00:00.000000000",
          "2023-09-13T00:00:00.000000000",
          "2023-09-14T00:00:00.000000000",
          "2023-09-15T00:00:00.000000000",
          "2023-09-18T00:00:00.000000000",
          "2023-09-19T00:00:00.000000000",
          "2023-09-20T00:00:00.000000000",
          "2023-11-28T00:00:00.000000000",
          "2023-11-29T00:00:00.000000000",
          "2023-11-30T00:00:00.000000000",
          "2023-12-01T00:00:00.000000000",
          "2023-12-04T00:00:00.000000000",
          "2023-12-05T00:00:00.000000000",
          "2023-12-06T00:00:00.000000000",
          "2023-12-07T00:00:00.000000000",
          "2023-12-08T00:00:00.000000000",
          "2023-12-11T00:00:00.000000000",
          "2023-12-12T00:00:00.000000000",
          "2023-12-27T00:00:00.000000000",
          "2023-12-28T00:00:00.000000000",
          "2023-12-29T00:00:00.000000000",
          "2024-01-02T00:00:00.000000000",
          "2024-01-03T00:00:00.000000000",
          "2024-02-16T00:00:00.000000000",
          "2024-02-20T00:00:00.000000000",
          "2024-02-21T00:00:00.000000000",
          "2024-03-06T00:00:00.000000000",
          "2024-03-07T00:00:00.000000000",
          "2024-03-08T00:00:00.000000000",
          "2024-03-11T00:00:00.000000000",
          "2024-03-12T00:00:00.000000000",
          "2024-03-13T00:00:00.000000000",
          "2024-03-14T00:00:00.000000000",
          "2024-03-15T00:00:00.000000000",
          "2024-03-18T00:00:00.000000000",
          "2024-03-19T00:00:00.000000000",
          "2024-03-20T00:00:00.000000000",
          "2024-04-01T00:00:00.000000000",
          "2024-04-02T00:00:00.000000000",
          "2024-04-03T00:00:00.000000000",
          "2024-04-04T00:00:00.000000000",
          "2024-04-05T00:00:00.000000000",
          "2024-04-08T00:00:00.000000000",
          "2024-04-09T00:00:00.000000000",
          "2024-04-10T00:00:00.000000000",
          "2024-04-11T00:00:00.000000000",
          "2024-05-24T00:00:00.000000000",
          "2024-05-28T00:00:00.000000000",
          "2024-05-29T00:00:00.000000000",
          "2024-05-30T00:00:00.000000000",
          "2024-05-31T00:00:00.000000000",
          "2024-06-03T00:00:00.000000000",
          "2024-06-04T00:00:00.000000000",
          "2024-06-05T00:00:00.000000000",
          "2024-06-26T00:00:00.000000000",
          "2024-06-27T00:00:00.000000000",
          "2024-06-28T00:00:00.000000000",
          "2024-07-01T00:00:00.000000000",
          "2024-07-02T00:00:00.000000000",
          "2024-07-03T00:00:00.000000000",
          "2024-08-28T00:00:00.000000000",
          "2024-08-29T00:00:00.000000000",
          "2024-08-30T00:00:00.000000000",
          "2024-10-02T00:00:00.000000000",
          "2024-10-03T00:00:00.000000000",
          "2024-10-04T00:00:00.000000000",
          "2024-10-07T00:00:00.000000000",
          "2024-10-08T00:00:00.000000000",
          "2024-10-09T00:00:00.000000000",
          "2024-10-22T00:00:00.000000000",
          "2024-10-23T00:00:00.000000000",
          "2024-10-24T00:00:00.000000000",
          "2024-10-25T00:00:00.000000000",
          "2024-10-28T00:00:00.000000000",
          "2024-10-29T00:00:00.000000000",
          "2024-10-30T00:00:00.000000000",
          "2024-12-10T00:00:00.000000000",
          "2024-12-11T00:00:00.000000000",
          "2024-12-12T00:00:00.000000000",
          "2024-12-13T00:00:00.000000000",
          "2024-12-16T00:00:00.000000000",
          "2024-12-17T00:00:00.000000000"
         ],
         "xaxis": "x",
         "y": {
          "bdata": "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",
          "dtype": "f8"
         },
         "yaxis": "y"
        },
        {
         "marker": {
          "color": "rgb(252,141,98)",
          "size": 6
         },
         "mode": "markers",
         "name": "Regime 1",
         "showlegend": true,
         "type": "scatter",
         "x": [
          "2018-02-02T00:00:00.000000000",
          "2018-02-05T00:00:00.000000000",
          "2018-02-06T00:00:00.000000000",
          "2018-02-07T00:00:00.000000000",
          "2018-02-08T00:00:00.000000000",
          "2018-02-09T00:00:00.000000000",
          "2018-02-12T00:00:00.000000000",
          "2018-02-13T00:00:00.000000000",
          "2018-03-22T00:00:00.000000000",
          "2018-03-23T00:00:00.000000000",
          "2018-03-26T00:00:00.000000000",
          "2018-10-10T00:00:00.000000000",
          "2018-10-11T00:00:00.000000000",
          "2018-10-12T00:00:00.000000000",
          "2018-10-15T00:00:00.000000000",
          "2018-10-16T00:00:00.000000000",
          "2018-12-21T00:00:00.000000000",
          "2018-12-24T00:00:00.000000000",
          "2018-12-26T00:00:00.000000000",
          "2018-12-27T00:00:00.000000000",
          "2019-08-05T00:00:00.000000000",
          "2019-08-06T00:00:00.000000000",
          "2019-08-07T00:00:00.000000000",
          "2020-02-24T00:00:00.000000000",
          "2020-02-25T00:00:00.000000000",
          "2020-02-26T00:00:00.000000000",
          "2020-02-27T00:00:00.000000000",
          "2020-02-28T00:00:00.000000000",
          "2020-03-02T00:00:00.000000000",
          "2020-03-03T00:00:00.000000000",
          "2020-03-04T00:00:00.000000000",
          "2020-03-05T00:00:00.000000000",
          "2020-03-06T00:00:00.000000000",
          "2020-03-09T00:00:00.000000000",
          "2020-03-10T00:00:00.000000000",
          "2020-03-11T00:00:00.000000000",
          "2020-03-12T00:00:00.000000000",
          "2020-03-13T00:00:00.000000000",
          "2020-03-16T00:00:00.000000000",
          "2020-03-17T00:00:00.000000000",
          "2020-03-18T00:00:00.000000000",
          "2020-03-19T00:00:00.000000000",
          "2020-03-20T00:00:00.000000000",
          "2020-03-23T00:00:00.000000000",
          "2020-03-24T00:00:00.000000000",
          "2020-03-25T00:00:00.000000000",
          "2020-03-26T00:00:00.000000000",
          "2020-03-27T00:00:00.000000000",
          "2020-03-30T00:00:00.000000000",
          "2020-03-31T00:00:00.000000000",
          "2020-04-01T00:00:00.000000000",
          "2020-04-02T00:00:00.000000000",
          "2020-04-03T00:00:00.000000000",
          "2020-04-06T00:00:00.000000000",
          "2020-04-07T00:00:00.000000000",
          "2020-04-08T00:00:00.000000000",
          "2020-04-09T00:00:00.000000000",
          "2020-04-13T00:00:00.000000000",
          "2020-04-14T00:00:00.000000000",
          "2020-04-15T00:00:00.000000000",
          "2020-04-16T00:00:00.000000000",
          "2020-04-17T00:00:00.000000000",
          "2020-06-11T00:00:00.000000000",
          "2020-06-12T00:00:00.000000000",
          "2020-06-15T00:00:00.000000000",
          "2020-06-16T00:00:00.000000000",
          "2020-09-03T00:00:00.000000000",
          "2020-09-04T00:00:00.000000000",
          "2020-09-08T00:00:00.000000000",
          "2020-09-09T00:00:00.000000000",
          "2020-09-10T00:00:00.000000000",
          "2020-09-11T00:00:00.000000000",
          "2020-09-14T00:00:00.000000000",
          "2020-09-15T00:00:00.000000000",
          "2020-10-28T00:00:00.000000000",
          "2020-10-29T00:00:00.000000000",
          "2020-10-30T00:00:00.000000000",
          "2020-11-02T00:00:00.000000000",
          "2020-11-03T00:00:00.000000000",
          "2020-11-04T00:00:00.000000000",
          "2020-11-05T00:00:00.000000000",
          "2020-11-06T00:00:00.000000000",
          "2020-11-09T00:00:00.000000000",
          "2020-11-10T00:00:00.000000000",
          "2020-11-11T00:00:00.000000000",
          "2020-11-12T00:00:00.000000000",
          "2020-11-13T00:00:00.000000000",
          "2021-01-27T00:00:00.000000000",
          "2021-01-28T00:00:00.000000000",
          "2021-01-29T00:00:00.000000000",
          "2021-02-01T00:00:00.000000000",
          "2021-05-12T00:00:00.000000000",
          "2021-11-26T00:00:00.000000000",
          "2021-11-29T00:00:00.000000000",
          "2021-11-30T00:00:00.000000000",
          "2021-12-01T00:00:00.000000000",
          "2021-12-02T00:00:00.000000000",
          "2021-12-03T00:00:00.000000000",
          "2021-12-06T00:00:00.000000000",
          "2022-01-20T00:00:00.000000000",
          "2022-01-21T00:00:00.000000000",
          "2022-01-24T00:00:00.000000000",
          "2022-01-25T00:00:00.000000000",
          "2022-01-26T00:00:00.000000000",
          "2022-01-27T00:00:00.000000000",
          "2022-01-28T00:00:00.000000000",
          "2022-01-31T00:00:00.000000000",
          "2022-02-01T00:00:00.000000000",
          "2022-02-02T00:00:00.000000000",
          "2022-02-03T00:00:00.000000000",
          "2022-02-04T00:00:00.000000000",
          "2022-02-07T00:00:00.000000000",
          "2022-02-08T00:00:00.000000000",
          "2022-02-09T00:00:00.000000000",
          "2022-02-22T00:00:00.000000000",
          "2022-02-23T00:00:00.000000000",
          "2022-02-24T00:00:00.000000000",
          "2022-02-25T00:00:00.000000000",
          "2022-02-28T00:00:00.000000000",
          "2022-03-01T00:00:00.000000000",
          "2022-03-02T00:00:00.000000000",
          "2022-03-07T00:00:00.000000000",
          "2022-03-08T00:00:00.000000000",
          "2022-03-09T00:00:00.000000000",
          "2022-03-10T00:00:00.000000000",
          "2022-03-11T00:00:00.000000000",
          "2022-03-14T00:00:00.000000000",
          "2022-03-15T00:00:00.000000000",
          "2022-03-16T00:00:00.000000000",
          "2022-03-17T00:00:00.000000000",
          "2022-03-18T00:00:00.000000000",
          "2022-03-21T00:00:00.000000000",
          "2022-03-22T00:00:00.000000000",
          "2022-03-23T00:00:00.000000000",
          "2022-03-24T00:00:00.000000000",
          "2022-03-25T00:00:00.000000000",
          "2022-03-28T00:00:00.000000000",
          "2022-03-29T00:00:00.000000000",
          "2022-04-22T00:00:00.000000000",
          "2022-04-25T00:00:00.000000000",
          "2022-04-26T00:00:00.000000000",
          "2022-04-27T00:00:00.000000000",
          "2022-04-28T00:00:00.000000000",
          "2022-04-29T00:00:00.000000000",
          "2022-05-02T00:00:00.000000000",
          "2022-05-03T00:00:00.000000000",
          "2022-05-04T00:00:00.000000000",
          "2022-05-05T00:00:00.000000000",
          "2022-05-06T00:00:00.000000000",
          "2022-05-09T00:00:00.000000000",
          "2022-05-10T00:00:00.000000000",
          "2022-05-11T00:00:00.000000000",
          "2022-05-12T00:00:00.000000000",
          "2022-05-13T00:00:00.000000000",
          "2022-05-16T00:00:00.000000000",
          "2022-05-17T00:00:00.000000000",
          "2022-05-18T00:00:00.000000000",
          "2022-05-27T00:00:00.000000000",
          "2022-05-31T00:00:00.000000000",
          "2022-06-01T00:00:00.000000000",
          "2022-06-02T00:00:00.000000000",
          "2022-06-03T00:00:00.000000000",
          "2022-06-06T00:00:00.000000000",
          "2022-06-07T00:00:00.000000000",
          "2022-06-08T00:00:00.000000000",
          "2022-06-09T00:00:00.000000000",
          "2022-06-10T00:00:00.000000000",
          "2022-06-13T00:00:00.000000000",
          "2022-06-14T00:00:00.000000000",
          "2022-06-15T00:00:00.000000000",
          "2022-06-16T00:00:00.000000000",
          "2022-06-17T00:00:00.000000000",
          "2022-06-21T00:00:00.000000000",
          "2022-06-22T00:00:00.000000000",
          "2022-06-23T00:00:00.000000000",
          "2022-06-24T00:00:00.000000000",
          "2022-06-27T00:00:00.000000000",
          "2022-06-28T00:00:00.000000000",
          "2022-06-29T00:00:00.000000000",
          "2022-06-30T00:00:00.000000000",
          "2022-07-25T00:00:00.000000000",
          "2022-07-26T00:00:00.000000000",
          "2022-07-27T00:00:00.000000000",
          "2022-07-28T00:00:00.000000000",
          "2022-07-29T00:00:00.000000000",
          "2022-08-01T00:00:00.000000000",
          "2022-08-02T00:00:00.000000000",
          "2022-08-03T00:00:00.000000000",
          "2022-08-04T00:00:00.000000000",
          "2022-08-05T00:00:00.000000000",
          "2022-08-26T00:00:00.000000000",
          "2022-08-29T00:00:00.000000000",
          "2022-08-30T00:00:00.000000000",
          "2022-08-31T00:00:00.000000000",
          "2022-09-01T00:00:00.000000000",
          "2022-09-02T00:00:00.000000000",
          "2022-09-06T00:00:00.000000000",
          "2022-09-07T00:00:00.000000000",
          "2022-09-08T00:00:00.000000000",
          "2022-09-13T00:00:00.000000000",
          "2022-09-14T00:00:00.000000000",
          "2022-09-15T00:00:00.000000000",
          "2022-09-16T00:00:00.000000000",
          "2022-09-19T00:00:00.000000000",
          "2022-09-20T00:00:00.000000000",
          "2022-09-21T00:00:00.000000000",
          "2022-09-22T00:00:00.000000000",
          "2022-09-23T00:00:00.000000000",
          "2022-09-26T00:00:00.000000000",
          "2022-09-27T00:00:00.000000000",
          "2022-09-28T00:00:00.000000000",
          "2022-09-29T00:00:00.000000000",
          "2022-09-30T00:00:00.000000000",
          "2022-10-03T00:00:00.000000000",
          "2022-10-04T00:00:00.000000000",
          "2022-10-05T00:00:00.000000000",
          "2022-10-06T00:00:00.000000000",
          "2022-10-07T00:00:00.000000000",
          "2022-10-10T00:00:00.000000000",
          "2022-10-11T00:00:00.000000000",
          "2022-10-12T00:00:00.000000000",
          "2022-10-13T00:00:00.000000000",
          "2022-10-14T00:00:00.000000000",
          "2022-10-17T00:00:00.000000000",
          "2022-10-25T00:00:00.000000000",
          "2022-10-26T00:00:00.000000000",
          "2022-10-27T00:00:00.000000000",
          "2022-10-28T00:00:00.000000000",
          "2022-10-31T00:00:00.000000000",
          "2022-11-01T00:00:00.000000000",
          "2022-11-02T00:00:00.000000000",
          "2022-11-10T00:00:00.000000000",
          "2022-11-11T00:00:00.000000000",
          "2022-11-14T00:00:00.000000000",
          "2022-11-15T00:00:00.000000000",
          "2022-11-16T00:00:00.000000000",
          "2022-11-17T00:00:00.000000000",
          "2022-11-18T00:00:00.000000000",
          "2022-11-21T00:00:00.000000000",
          "2023-03-13T00:00:00.000000000",
          "2023-03-14T00:00:00.000000000",
          "2023-03-15T00:00:00.000000000",
          "2023-03-16T00:00:00.000000000",
          "2023-09-21T00:00:00.000000000",
          "2023-09-22T00:00:00.000000000",
          "2023-09-25T00:00:00.000000000",
          "2023-09-26T00:00:00.000000000",
          "2023-09-27T00:00:00.000000000",
          "2023-09-28T00:00:00.000000000",
          "2023-10-26T00:00:00.000000000",
          "2023-10-27T00:00:00.000000000",
          "2023-10-30T00:00:00.000000000",
          "2023-11-03T00:00:00.000000000",
          "2023-11-06T00:00:00.000000000",
          "2023-11-07T00:00:00.000000000",
          "2023-11-08T00:00:00.000000000",
          "2023-11-09T00:00:00.000000000",
          "2023-11-10T00:00:00.000000000",
          "2024-04-18T00:00:00.000000000",
          "2024-04-19T00:00:00.000000000",
          "2024-04-22T00:00:00.000000000",
          "2024-07-24T00:00:00.000000000",
          "2024-07-25T00:00:00.000000000",
          "2024-07-26T00:00:00.000000000",
          "2024-07-29T00:00:00.000000000",
          "2024-08-02T00:00:00.000000000",
          "2024-08-05T00:00:00.000000000",
          "2024-08-06T00:00:00.000000000",
          "2024-08-07T00:00:00.000000000",
          "2024-08-08T00:00:00.000000000",
          "2024-08-09T00:00:00.000000000",
          "2024-08-12T00:00:00.000000000",
          "2024-08-13T00:00:00.000000000",
          "2024-08-14T00:00:00.000000000",
          "2024-08-15T00:00:00.000000000",
          "2024-08-16T00:00:00.000000000",
          "2024-08-19T00:00:00.000000000",
          "2024-08-20T00:00:00.000000000",
          "2024-08-21T00:00:00.000000000",
          "2024-08-22T00:00:00.000000000",
          "2024-08-23T00:00:00.000000000",
          "2024-09-03T00:00:00.000000000",
          "2024-09-04T00:00:00.000000000",
          "2024-09-05T00:00:00.000000000",
          "2024-09-06T00:00:00.000000000",
          "2024-09-09T00:00:00.000000000",
          "2024-09-10T00:00:00.000000000",
          "2024-09-17T00:00:00.000000000",
          "2024-09-18T00:00:00.000000000",
          "2024-09-19T00:00:00.000000000",
          "2024-09-20T00:00:00.000000000",
          "2024-11-07T00:00:00.000000000",
          "2024-11-08T00:00:00.000000000",
          "2024-11-11T00:00:00.000000000",
          "2024-11-12T00:00:00.000000000",
          "2024-11-13T00:00:00.000000000",
          "2024-11-14T00:00:00.000000000",
          "2024-11-15T00:00:00.000000000",
          "2024-12-18T00:00:00.000000000",
          "2024-12-19T00:00:00.000000000",
          "2024-12-20T00:00:00.000000000",
          "2024-12-23T00:00:00.000000000",
          "2024-12-24T00:00:00.000000000",
          "2024-12-26T00:00:00.000000000",
          "2024-12-27T00:00:00.000000000",
          "2024-12-30T00:00:00.000000000",
          "2024-12-31T00:00:00.000000000"
         ],
         "xaxis": "x",
         "y": {
          "bdata": "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",
          "dtype": "f8"
         },
         "yaxis": "y"
        },
        {
         "marker": {
          "color": "rgb(141,160,203)",
          "size": 6
         },
         "mode": "markers",
         "name": "Regime 2",
         "showlegend": true,
         "type": "scatter",
         "x": [
          "2018-02-14T00:00:00.000000000",
          "2018-02-15T00:00:00.000000000",
          "2018-02-16T00:00:00.000000000",
          "2018-02-20T00:00:00.000000000",
          "2018-02-21T00:00:00.000000000",
          "2018-02-22T00:00:00.000000000",
          "2018-02-23T00:00:00.000000000",
          "2018-03-27T00:00:00.000000000",
          "2018-03-28T00:00:00.000000000",
          "2018-03-29T00:00:00.000000000",
          "2018-04-02T00:00:00.000000000",
          "2018-04-03T00:00:00.000000000",
          "2018-04-04T00:00:00.000000000",
          "2018-10-17T00:00:00.000000000",
          "2018-10-18T00:00:00.000000000",
          "2018-10-19T00:00:00.000000000",
          "2018-10-22T00:00:00.000000000",
          "2018-10-23T00:00:00.000000000",
          "2018-10-24T00:00:00.000000000",
          "2018-10-25T00:00:00.000000000",
          "2018-10-26T00:00:00.000000000",
          "2018-10-29T00:00:00.000000000",
          "2018-10-30T00:00:00.000000000",
          "2018-10-31T00:00:00.000000000",
          "2018-11-01T00:00:00.000000000",
          "2018-11-02T00:00:00.000000000",
          "2018-11-05T00:00:00.000000000",
          "2018-11-06T00:00:00.000000000",
          "2018-11-07T00:00:00.000000000",
          "2018-11-08T00:00:00.000000000",
          "2018-11-09T00:00:00.000000000",
          "2018-11-12T00:00:00.000000000",
          "2018-11-13T00:00:00.000000000",
          "2018-11-14T00:00:00.000000000",
          "2018-11-15T00:00:00.000000000",
          "2018-11-16T00:00:00.000000000",
          "2018-11-19T00:00:00.000000000",
          "2018-11-20T00:00:00.000000000",
          "2018-11-21T00:00:00.000000000",
          "2018-11-23T00:00:00.000000000",
          "2018-11-26T00:00:00.000000000",
          "2018-11-27T00:00:00.000000000",
          "2018-11-28T00:00:00.000000000",
          "2018-11-29T00:00:00.000000000",
          "2018-11-30T00:00:00.000000000",
          "2018-12-03T00:00:00.000000000",
          "2018-12-04T00:00:00.000000000",
          "2018-12-06T00:00:00.000000000",
          "2018-12-07T00:00:00.000000000",
          "2018-12-10T00:00:00.000000000",
          "2018-12-11T00:00:00.000000000",
          "2018-12-12T00:00:00.000000000",
          "2018-12-13T00:00:00.000000000",
          "2018-12-14T00:00:00.000000000",
          "2018-12-17T00:00:00.000000000",
          "2018-12-18T00:00:00.000000000",
          "2018-12-19T00:00:00.000000000",
          "2018-12-20T00:00:00.000000000",
          "2018-12-28T00:00:00.000000000",
          "2018-12-31T00:00:00.000000000",
          "2019-01-02T00:00:00.000000000",
          "2019-01-03T00:00:00.000000000",
          "2019-01-04T00:00:00.000000000",
          "2019-01-07T00:00:00.000000000",
          "2019-01-08T00:00:00.000000000",
          "2019-01-09T00:00:00.000000000",
          "2019-01-10T00:00:00.000000000",
          "2019-01-11T00:00:00.000000000",
          "2019-01-14T00:00:00.000000000",
          "2019-01-15T00:00:00.000000000",
          "2019-01-16T00:00:00.000000000",
          "2019-05-13T00:00:00.000000000",
          "2019-05-14T00:00:00.000000000",
          "2019-05-15T00:00:00.000000000",
          "2019-05-16T00:00:00.000000000",
          "2019-05-31T00:00:00.000000000",
          "2019-06-03T00:00:00.000000000",
          "2019-06-04T00:00:00.000000000",
          "2019-06-05T00:00:00.000000000",
          "2019-06-06T00:00:00.000000000",
          "2019-06-07T00:00:00.000000000",
          "2019-06-10T00:00:00.000000000",
          "2019-06-11T00:00:00.000000000",
          "2019-06-12T00:00:00.000000000",
          "2019-06-13T00:00:00.000000000",
          "2019-06-14T00:00:00.000000000",
          "2019-08-08T00:00:00.000000000",
          "2019-08-09T00:00:00.000000000",
          "2019-08-12T00:00:00.000000000",
          "2019-08-13T00:00:00.000000000",
          "2019-08-14T00:00:00.000000000",
          "2019-08-15T00:00:00.000000000",
          "2019-08-16T00:00:00.000000000",
          "2019-08-23T00:00:00.000000000",
          "2019-08-26T00:00:00.000000000",
          "2019-09-05T00:00:00.000000000",
          "2019-09-06T00:00:00.000000000",
          "2019-09-09T00:00:00.000000000",
          "2019-09-10T00:00:00.000000000",
          "2020-01-31T00:00:00.000000000",
          "2020-02-03T00:00:00.000000000",
          "2020-02-04T00:00:00.000000000",
          "2020-02-05T00:00:00.000000000",
          "2020-02-06T00:00:00.000000000",
          "2020-02-07T00:00:00.000000000",
          "2020-02-10T00:00:00.000000000",
          "2020-02-11T00:00:00.000000000",
          "2020-02-12T00:00:00.000000000",
          "2020-02-13T00:00:00.000000000",
          "2020-02-14T00:00:00.000000000",
          "2020-04-20T00:00:00.000000000",
          "2020-04-21T00:00:00.000000000",
          "2020-04-22T00:00:00.000000000",
          "2020-04-23T00:00:00.000000000",
          "2020-04-24T00:00:00.000000000",
          "2020-04-27T00:00:00.000000000",
          "2020-04-28T00:00:00.000000000",
          "2020-04-29T00:00:00.000000000",
          "2020-04-30T00:00:00.000000000",
          "2020-05-01T00:00:00.000000000",
          "2020-05-04T00:00:00.000000000",
          "2020-05-05T00:00:00.000000000",
          "2020-05-06T00:00:00.000000000",
          "2020-05-07T00:00:00.000000000",
          "2020-05-08T00:00:00.000000000",
          "2020-05-11T00:00:00.000000000",
          "2020-05-12T00:00:00.000000000",
          "2020-05-13T00:00:00.000000000",
          "2020-05-14T00:00:00.000000000",
          "2020-05-15T00:00:00.000000000",
          "2020-05-18T00:00:00.000000000",
          "2020-05-19T00:00:00.000000000",
          "2020-05-20T00:00:00.000000000",
          "2020-05-21T00:00:00.000000000",
          "2020-05-22T00:00:00.000000000",
          "2020-05-26T00:00:00.000000000",
          "2020-05-27T00:00:00.000000000",
          "2020-05-28T00:00:00.000000000",
          "2020-05-29T00:00:00.000000000",
          "2020-06-01T00:00:00.000000000",
          "2020-06-02T00:00:00.000000000",
          "2020-06-03T00:00:00.000000000",
          "2020-06-04T00:00:00.000000000",
          "2020-06-05T00:00:00.000000000",
          "2020-06-08T00:00:00.000000000",
          "2020-06-09T00:00:00.000000000",
          "2020-06-10T00:00:00.000000000",
          "2020-06-17T00:00:00.000000000",
          "2020-06-18T00:00:00.000000000",
          "2020-06-19T00:00:00.000000000",
          "2020-06-22T00:00:00.000000000",
          "2020-06-23T00:00:00.000000000",
          "2020-06-24T00:00:00.000000000",
          "2020-06-25T00:00:00.000000000",
          "2020-06-26T00:00:00.000000000",
          "2020-06-29T00:00:00.000000000",
          "2020-06-30T00:00:00.000000000",
          "2020-07-01T00:00:00.000000000",
          "2020-07-02T00:00:00.000000000",
          "2020-07-06T00:00:00.000000000",
          "2020-07-07T00:00:00.000000000",
          "2020-07-08T00:00:00.000000000",
          "2020-07-09T00:00:00.000000000",
          "2020-07-10T00:00:00.000000000",
          "2020-07-13T00:00:00.000000000",
          "2020-07-14T00:00:00.000000000",
          "2020-08-05T00:00:00.000000000",
          "2020-08-06T00:00:00.000000000",
          "2020-08-07T00:00:00.000000000",
          "2020-08-10T00:00:00.000000000",
          "2020-08-11T00:00:00.000000000",
          "2020-08-12T00:00:00.000000000",
          "2020-08-26T00:00:00.000000000",
          "2020-08-27T00:00:00.000000000",
          "2020-08-28T00:00:00.000000000",
          "2020-08-31T00:00:00.000000000",
          "2020-09-01T00:00:00.000000000",
          "2020-09-02T00:00:00.000000000",
          "2020-09-16T00:00:00.000000000",
          "2020-09-17T00:00:00.000000000",
          "2020-09-18T00:00:00.000000000",
          "2020-09-21T00:00:00.000000000",
          "2020-09-22T00:00:00.000000000",
          "2020-09-23T00:00:00.000000000",
          "2020-09-24T00:00:00.000000000",
          "2020-09-25T00:00:00.000000000",
          "2020-09-28T00:00:00.000000000",
          "2020-09-29T00:00:00.000000000",
          "2020-09-30T00:00:00.000000000",
          "2020-10-01T00:00:00.000000000",
          "2020-10-02T00:00:00.000000000",
          "2020-10-05T00:00:00.000000000",
          "2020-10-06T00:00:00.000000000",
          "2020-10-07T00:00:00.000000000",
          "2020-10-08T00:00:00.000000000",
          "2020-10-09T00:00:00.000000000",
          "2020-10-12T00:00:00.000000000",
          "2020-10-13T00:00:00.000000000",
          "2020-10-14T00:00:00.000000000",
          "2020-10-15T00:00:00.000000000",
          "2020-10-16T00:00:00.000000000",
          "2020-10-19T00:00:00.000000000",
          "2020-10-20T00:00:00.000000000",
          "2020-11-16T00:00:00.000000000",
          "2020-11-17T00:00:00.000000000",
          "2020-11-18T00:00:00.000000000",
          "2020-12-01T00:00:00.000000000",
          "2020-12-02T00:00:00.000000000",
          "2020-12-03T00:00:00.000000000",
          "2020-12-04T00:00:00.000000000",
          "2020-12-07T00:00:00.000000000",
          "2021-01-07T00:00:00.000000000",
          "2021-01-08T00:00:00.000000000",
          "2021-01-11T00:00:00.000000000",
          "2021-01-12T00:00:00.000000000",
          "2021-01-13T00:00:00.000000000",
          "2021-01-14T00:00:00.000000000",
          "2021-01-15T00:00:00.000000000",
          "2021-02-02T00:00:00.000000000",
          "2021-02-03T00:00:00.000000000",
          "2021-02-04T00:00:00.000000000",
          "2021-02-05T00:00:00.000000000",
          "2021-02-08T00:00:00.000000000",
          "2021-02-09T00:00:00.000000000",
          "2021-02-10T00:00:00.000000000",
          "2021-02-11T00:00:00.000000000",
          "2021-02-12T00:00:00.000000000",
          "2021-02-16T00:00:00.000000000",
          "2021-02-25T00:00:00.000000000",
          "2021-02-26T00:00:00.000000000",
          "2021-03-01T00:00:00.000000000",
          "2021-03-02T00:00:00.000000000",
          "2021-03-03T00:00:00.000000000",
          "2021-03-04T00:00:00.000000000",
          "2021-03-05T00:00:00.000000000",
          "2021-03-08T00:00:00.000000000",
          "2021-03-09T00:00:00.000000000",
          "2021-03-10T00:00:00.000000000",
          "2021-03-11T00:00:00.000000000",
          "2021-03-12T00:00:00.000000000",
          "2021-03-15T00:00:00.000000000",
          "2021-03-16T00:00:00.000000000",
          "2021-03-17T00:00:00.000000000",
          "2021-03-18T00:00:00.000000000",
          "2021-03-19T00:00:00.000000000",
          "2021-04-01T00:00:00.000000000",
          "2021-04-05T00:00:00.000000000",
          "2021-04-06T00:00:00.000000000",
          "2021-04-07T00:00:00.000000000",
          "2021-04-08T00:00:00.000000000",
          "2021-04-09T00:00:00.000000000",
          "2021-04-12T00:00:00.000000000",
          "2021-04-13T00:00:00.000000000",
          "2021-04-14T00:00:00.000000000",
          "2021-04-15T00:00:00.000000000",
          "2021-04-16T00:00:00.000000000",
          "2021-04-19T00:00:00.000000000",
          "2021-05-13T00:00:00.000000000",
          "2021-05-14T00:00:00.000000000",
          "2021-05-17T00:00:00.000000000",
          "2021-05-18T00:00:00.000000000",
          "2021-05-19T00:00:00.000000000",
          "2021-05-20T00:00:00.000000000",
          "2021-05-21T00:00:00.000000000",
          "2021-05-24T00:00:00.000000000",
          "2021-05-25T00:00:00.000000000",
          "2021-06-29T00:00:00.000000000",
          "2021-06-30T00:00:00.000000000",
          "2021-07-01T00:00:00.000000000",
          "2021-07-02T00:00:00.000000000",
          "2021-07-06T00:00:00.000000000",
          "2021-07-07T00:00:00.000000000",
          "2021-07-19T00:00:00.000000000",
          "2021-07-20T00:00:00.000000000",
          "2021-07-21T00:00:00.000000000",
          "2021-07-22T00:00:00.000000000",
          "2021-07-23T00:00:00.000000000",
          "2021-07-26T00:00:00.000000000",
          "2021-07-27T00:00:00.000000000",
          "2021-07-28T00:00:00.000000000",
          "2021-07-29T00:00:00.000000000",
          "2021-07-30T00:00:00.000000000",
          "2021-08-27T00:00:00.000000000",
          "2021-08-30T00:00:00.000000000",
          "2021-08-31T00:00:00.000000000",
          "2021-09-01T00:00:00.000000000",
          "2021-09-20T00:00:00.000000000",
          "2021-09-21T00:00:00.000000000",
          "2021-09-22T00:00:00.000000000",
          "2021-09-23T00:00:00.000000000",
          "2021-09-24T00:00:00.000000000",
          "2021-09-27T00:00:00.000000000",
          "2021-09-28T00:00:00.000000000",
          "2021-09-29T00:00:00.000000000",
          "2021-09-30T00:00:00.000000000",
          "2021-10-01T00:00:00.000000000",
          "2021-10-04T00:00:00.000000000",
          "2021-10-05T00:00:00.000000000",
          "2021-10-06T00:00:00.000000000",
          "2021-10-07T00:00:00.000000000",
          "2021-10-08T00:00:00.000000000",
          "2021-10-11T00:00:00.000000000",
          "2021-10-12T00:00:00.000000000",
          "2021-10-13T00:00:00.000000000",
          "2021-10-14T00:00:00.000000000",
          "2021-10-15T00:00:00.000000000",
          "2021-10-18T00:00:00.000000000",
          "2021-10-19T00:00:00.000000000",
          "2021-10-20T00:00:00.000000000",
          "2021-10-21T00:00:00.000000000",
          "2021-10-22T00:00:00.000000000",
          "2021-10-25T00:00:00.000000000",
          "2021-10-26T00:00:00.000000000",
          "2021-10-27T00:00:00.000000000",
          "2021-10-28T00:00:00.000000000",
          "2021-10-29T00:00:00.000000000",
          "2021-11-01T00:00:00.000000000",
          "2021-11-02T00:00:00.000000000",
          "2021-11-03T00:00:00.000000000",
          "2021-11-04T00:00:00.000000000",
          "2021-11-05T00:00:00.000000000",
          "2021-11-08T00:00:00.000000000",
          "2021-11-09T00:00:00.000000000",
          "2021-11-10T00:00:00.000000000",
          "2021-12-07T00:00:00.000000000",
          "2021-12-08T00:00:00.000000000",
          "2021-12-09T00:00:00.000000000",
          "2021-12-10T00:00:00.000000000",
          "2021-12-13T00:00:00.000000000",
          "2021-12-14T00:00:00.000000000",
          "2021-12-15T00:00:00.000000000",
          "2021-12-16T00:00:00.000000000",
          "2021-12-17T00:00:00.000000000",
          "2021-12-20T00:00:00.000000000",
          "2021-12-21T00:00:00.000000000",
          "2021-12-22T00:00:00.000000000",
          "2021-12-23T00:00:00.000000000",
          "2021-12-27T00:00:00.000000000",
          "2021-12-28T00:00:00.000000000",
          "2021-12-29T00:00:00.000000000",
          "2021-12-30T00:00:00.000000000",
          "2021-12-31T00:00:00.000000000",
          "2022-01-03T00:00:00.000000000",
          "2022-01-04T00:00:00.000000000",
          "2022-01-05T00:00:00.000000000",
          "2022-01-06T00:00:00.000000000",
          "2022-01-07T00:00:00.000000000",
          "2022-01-10T00:00:00.000000000",
          "2022-01-11T00:00:00.000000000",
          "2022-01-12T00:00:00.000000000",
          "2022-01-13T00:00:00.000000000",
          "2022-01-14T00:00:00.000000000",
          "2022-01-18T00:00:00.000000000",
          "2022-01-19T00:00:00.000000000",
          "2022-02-10T00:00:00.000000000",
          "2022-02-11T00:00:00.000000000",
          "2022-02-14T00:00:00.000000000",
          "2022-02-15T00:00:00.000000000",
          "2022-02-16T00:00:00.000000000",
          "2022-02-17T00:00:00.000000000",
          "2022-02-18T00:00:00.000000000",
          "2022-03-03T00:00:00.000000000",
          "2022-03-04T00:00:00.000000000",
          "2022-03-30T00:00:00.000000000",
          "2022-03-31T00:00:00.000000000",
          "2022-04-01T00:00:00.000000000",
          "2022-04-04T00:00:00.000000000",
          "2022-04-05T00:00:00.000000000",
          "2022-04-06T00:00:00.000000000",
          "2022-04-07T00:00:00.000000000",
          "2022-04-08T00:00:00.000000000",
          "2022-04-11T00:00:00.000000000",
          "2022-04-12T00:00:00.000000000",
          "2022-04-13T00:00:00.000000000",
          "2022-04-14T00:00:00.000000000",
          "2022-04-18T00:00:00.000000000",
          "2022-04-19T00:00:00.000000000",
          "2022-04-20T00:00:00.000000000",
          "2022-04-21T00:00:00.000000000",
          "2022-05-19T00:00:00.000000000",
          "2022-05-20T00:00:00.000000000",
          "2022-05-23T00:00:00.000000000",
          "2022-05-24T00:00:00.000000000",
          "2022-05-25T00:00:00.000000000",
          "2022-05-26T00:00:00.000000000",
          "2022-07-01T00:00:00.000000000",
          "2022-07-05T00:00:00.000000000",
          "2022-07-06T00:00:00.000000000",
          "2022-07-07T00:00:00.000000000",
          "2022-07-08T00:00:00.000000000",
          "2022-07-11T00:00:00.000000000",
          "2022-07-12T00:00:00.000000000",
          "2022-07-13T00:00:00.000000000",
          "2022-07-14T00:00:00.000000000",
          "2022-07-15T00:00:00.000000000",
          "2022-07-18T00:00:00.000000000",
          "2022-07-19T00:00:00.000000000",
          "2022-07-20T00:00:00.000000000",
          "2022-07-21T00:00:00.000000000",
          "2022-07-22T00:00:00.000000000",
          "2022-08-08T00:00:00.000000000",
          "2022-08-09T00:00:00.000000000",
          "2022-08-10T00:00:00.000000000",
          "2022-08-11T00:00:00.000000000",
          "2022-08-12T00:00:00.000000000",
          "2022-08-15T00:00:00.000000000",
          "2022-08-16T00:00:00.000000000",
          "2022-08-17T00:00:00.000000000",
          "2022-08-18T00:00:00.000000000",
          "2022-08-19T00:00:00.000000000",
          "2022-08-22T00:00:00.000000000",
          "2022-08-23T00:00:00.000000000",
          "2022-08-24T00:00:00.000000000",
          "2022-08-25T00:00:00.000000000",
          "2022-09-09T00:00:00.000000000",
          "2022-09-12T00:00:00.000000000",
          "2022-10-18T00:00:00.000000000",
          "2022-10-19T00:00:00.000000000",
          "2022-10-20T00:00:00.000000000",
          "2022-10-21T00:00:00.000000000",
          "2022-10-24T00:00:00.000000000",
          "2022-11-03T00:00:00.000000000",
          "2022-11-04T00:00:00.000000000",
          "2022-11-07T00:00:00.000000000",
          "2022-11-08T00:00:00.000000000",
          "2022-11-09T00:00:00.000000000",
          "2022-11-22T00:00:00.000000000",
          "2022-11-30T00:00:00.000000000",
          "2022-12-01T00:00:00.000000000",
          "2022-12-02T00:00:00.000000000",
          "2022-12-05T00:00:00.000000000",
          "2022-12-06T00:00:00.000000000",
          "2022-12-07T00:00:00.000000000",
          "2022-12-08T00:00:00.000000000",
          "2022-12-09T00:00:00.000000000",
          "2022-12-12T00:00:00.000000000",
          "2022-12-13T00:00:00.000000000",
          "2022-12-14T00:00:00.000000000",
          "2022-12-15T00:00:00.000000000",
          "2022-12-16T00:00:00.000000000",
          "2022-12-19T00:00:00.000000000",
          "2022-12-20T00:00:00.000000000",
          "2022-12-21T00:00:00.000000000",
          "2022-12-22T00:00:00.000000000",
          "2022-12-23T00:00:00.000000000",
          "2022-12-27T00:00:00.000000000",
          "2022-12-28T00:00:00.000000000",
          "2022-12-29T00:00:00.000000000",
          "2023-01-06T00:00:00.000000000",
          "2023-01-09T00:00:00.000000000",
          "2023-01-10T00:00:00.000000000",
          "2023-01-11T00:00:00.000000000",
          "2023-01-12T00:00:00.000000000",
          "2023-01-13T00:00:00.000000000",
          "2023-01-17T00:00:00.000000000",
          "2023-01-18T00:00:00.000000000",
          "2023-01-19T00:00:00.000000000",
          "2023-01-20T00:00:00.000000000",
          "2023-01-23T00:00:00.000000000",
          "2023-01-24T00:00:00.000000000",
          "2023-01-25T00:00:00.000000000",
          "2023-01-26T00:00:00.000000000",
          "2023-01-27T00:00:00.000000000",
          "2023-01-30T00:00:00.000000000",
          "2023-01-31T00:00:00.000000000",
          "2023-02-01T00:00:00.000000000",
          "2023-02-02T00:00:00.000000000",
          "2023-02-03T00:00:00.000000000",
          "2023-02-06T00:00:00.000000000",
          "2023-02-07T00:00:00.000000000",
          "2023-02-08T00:00:00.000000000",
          "2023-02-09T00:00:00.000000000",
          "2023-02-10T00:00:00.000000000",
          "2023-02-13T00:00:00.000000000",
          "2023-02-21T00:00:00.000000000",
          "2023-02-22T00:00:00.000000000",
          "2023-02-23T00:00:00.000000000",
          "2023-02-24T00:00:00.000000000",
          "2023-02-27T00:00:00.000000000",
          "2023-02-28T00:00:00.000000000",
          "2023-03-01T00:00:00.000000000",
          "2023-03-02T00:00:00.000000000",
          "2023-03-03T00:00:00.000000000",
          "2023-03-06T00:00:00.000000000",
          "2023-03-07T00:00:00.000000000",
          "2023-03-08T00:00:00.000000000",
          "2023-03-09T00:00:00.000000000",
          "2023-03-10T00:00:00.000000000",
          "2023-03-17T00:00:00.000000000",
          "2023-03-20T00:00:00.000000000",
          "2023-03-21T00:00:00.000000000",
          "2023-03-22T00:00:00.000000000",
          "2023-03-23T00:00:00.000000000",
          "2023-03-24T00:00:00.000000000",
          "2023-03-27T00:00:00.000000000",
          "2023-03-28T00:00:00.000000000",
          "2023-03-29T00:00:00.000000000",
          "2023-03-30T00:00:00.000000000",
          "2023-03-31T00:00:00.000000000",
          "2023-04-03T00:00:00.000000000",
          "2023-04-04T00:00:00.000000000",
          "2023-04-05T00:00:00.000000000",
          "2023-04-06T00:00:00.000000000",
          "2023-04-10T00:00:00.000000000",
          "2023-04-11T00:00:00.000000000",
          "2023-04-27T00:00:00.000000000",
          "2023-04-28T00:00:00.000000000",
          "2023-05-01T00:00:00.000000000",
          "2023-05-02T00:00:00.000000000",
          "2023-05-03T00:00:00.000000000",
          "2023-05-04T00:00:00.000000000",
          "2023-05-05T00:00:00.000000000",
          "2023-05-08T00:00:00.000000000",
          "2023-05-09T00:00:00.000000000",
          "2023-05-25T00:00:00.000000000",
          "2023-05-26T00:00:00.000000000",
          "2023-05-30T00:00:00.000000000",
          "2023-05-31T00:00:00.000000000",
          "2023-06-01T00:00:00.000000000",
          "2023-06-02T00:00:00.000000000",
          "2023-06-05T00:00:00.000000000",
          "2023-06-06T00:00:00.000000000",
          "2023-06-07T00:00:00.000000000",
          "2023-06-08T00:00:00.000000000",
          "2023-06-09T00:00:00.000000000",
          "2023-06-12T00:00:00.000000000",
          "2023-06-13T00:00:00.000000000",
          "2023-06-14T00:00:00.000000000",
          "2023-06-15T00:00:00.000000000",
          "2023-06-16T00:00:00.000000000",
          "2023-06-20T00:00:00.000000000",
          "2023-06-21T00:00:00.000000000",
          "2023-06-22T00:00:00.000000000",
          "2023-06-23T00:00:00.000000000",
          "2023-06-30T00:00:00.000000000",
          "2023-07-03T00:00:00.000000000",
          "2023-07-05T00:00:00.000000000",
          "2023-07-06T00:00:00.000000000",
          "2023-07-07T00:00:00.000000000",
          "2023-07-10T00:00:00.000000000",
          "2023-07-11T00:00:00.000000000",
          "2023-07-12T00:00:00.000000000",
          "2023-07-13T00:00:00.000000000",
          "2023-07-14T00:00:00.000000000",
          "2023-07-17T00:00:00.000000000",
          "2023-07-18T00:00:00.000000000",
          "2023-07-19T00:00:00.000000000",
          "2023-07-20T00:00:00.000000000",
          "2023-07-21T00:00:00.000000000",
          "2023-07-24T00:00:00.000000000",
          "2023-08-04T00:00:00.000000000",
          "2023-08-07T00:00:00.000000000",
          "2023-08-08T00:00:00.000000000",
          "2023-08-09T00:00:00.000000000",
          "2023-08-10T00:00:00.000000000",
          "2023-08-11T00:00:00.000000000",
          "2023-08-14T00:00:00.000000000",
          "2023-08-15T00:00:00.000000000",
          "2023-08-16T00:00:00.000000000",
          "2023-08-17T00:00:00.000000000",
          "2023-08-18T00:00:00.000000000",
          "2023-08-21T00:00:00.000000000",
          "2023-08-22T00:00:00.000000000",
          "2023-08-23T00:00:00.000000000",
          "2023-08-24T00:00:00.000000000",
          "2023-08-25T00:00:00.000000000",
          "2023-08-28T00:00:00.000000000",
          "2023-08-29T00:00:00.000000000",
          "2023-08-30T00:00:00.000000000",
          "2023-08-31T00:00:00.000000000",
          "2023-09-01T00:00:00.000000000",
          "2023-09-05T00:00:00.000000000",
          "2023-09-06T00:00:00.000000000",
          "2023-09-07T00:00:00.000000000",
          "2023-09-08T00:00:00.000000000",
          "2023-09-29T00:00:00.000000000",
          "2023-10-02T00:00:00.000000000",
          "2023-10-03T00:00:00.000000000",
          "2023-10-04T00:00:00.000000000",
          "2023-10-05T00:00:00.000000000",
          "2023-10-06T00:00:00.000000000",
          "2023-10-09T00:00:00.000000000",
          "2023-10-10T00:00:00.000000000",
          "2023-10-11T00:00:00.000000000",
          "2023-10-12T00:00:00.000000000",
          "2023-10-13T00:00:00.000000000",
          "2023-10-16T00:00:00.000000000",
          "2023-10-17T00:00:00.000000000",
          "2023-10-18T00:00:00.000000000",
          "2023-10-19T00:00:00.000000000",
          "2023-10-20T00:00:00.000000000",
          "2023-10-23T00:00:00.000000000",
          "2023-10-24T00:00:00.000000000",
          "2023-10-25T00:00:00.000000000",
          "2023-10-31T00:00:00.000000000",
          "2023-11-01T00:00:00.000000000",
          "2023-11-02T00:00:00.000000000",
          "2023-11-13T00:00:00.000000000",
          "2023-11-14T00:00:00.000000000",
          "2023-11-15T00:00:00.000000000",
          "2023-11-16T00:00:00.000000000",
          "2023-11-17T00:00:00.000000000",
          "2023-11-20T00:00:00.000000000",
          "2023-11-21T00:00:00.000000000",
          "2023-11-22T00:00:00.000000000",
          "2023-11-24T00:00:00.000000000",
          "2023-11-27T00:00:00.000000000",
          "2023-12-13T00:00:00.000000000",
          "2023-12-14T00:00:00.000000000",
          "2023-12-15T00:00:00.000000000",
          "2023-12-18T00:00:00.000000000",
          "2023-12-19T00:00:00.000000000",
          "2023-12-20T00:00:00.000000000",
          "2023-12-21T00:00:00.000000000",
          "2023-12-22T00:00:00.000000000",
          "2023-12-26T00:00:00.000000000",
          "2024-01-04T00:00:00.000000000",
          "2024-01-05T00:00:00.000000000",
          "2024-01-08T00:00:00.000000000",
          "2024-01-09T00:00:00.000000000",
          "2024-01-10T00:00:00.000000000",
          "2024-01-11T00:00:00.000000000",
          "2024-01-12T00:00:00.000000000",
          "2024-01-16T00:00:00.000000000",
          "2024-01-17T00:00:00.000000000",
          "2024-01-18T00:00:00.000000000",
          "2024-01-19T00:00:00.000000000",
          "2024-01-22T00:00:00.000000000",
          "2024-01-23T00:00:00.000000000",
          "2024-01-24T00:00:00.000000000",
          "2024-01-25T00:00:00.000000000",
          "2024-01-26T00:00:00.000000000",
          "2024-01-29T00:00:00.000000000",
          "2024-01-30T00:00:00.000000000",
          "2024-01-31T00:00:00.000000000",
          "2024-02-01T00:00:00.000000000",
          "2024-02-02T00:00:00.000000000",
          "2024-02-05T00:00:00.000000000",
          "2024-02-06T00:00:00.000000000",
          "2024-02-07T00:00:00.000000000",
          "2024-02-08T00:00:00.000000000",
          "2024-02-09T00:00:00.000000000",
          "2024-02-12T00:00:00.000000000",
          "2024-02-13T00:00:00.000000000",
          "2024-02-14T00:00:00.000000000",
          "2024-02-15T00:00:00.000000000",
          "2024-02-22T00:00:00.000000000",
          "2024-02-23T00:00:00.000000000",
          "2024-02-26T00:00:00.000000000",
          "2024-02-27T00:00:00.000000000",
          "2024-02-28T00:00:00.000000000",
          "2024-02-29T00:00:00.000000000",
          "2024-03-01T00:00:00.000000000",
          "2024-03-04T00:00:00.000000000",
          "2024-03-05T00:00:00.000000000",
          "2024-03-21T00:00:00.000000000",
          "2024-03-22T00:00:00.000000000",
          "2024-03-25T00:00:00.000000000",
          "2024-03-26T00:00:00.000000000",
          "2024-03-27T00:00:00.000000000",
          "2024-03-28T00:00:00.000000000",
          "2024-04-12T00:00:00.000000000",
          "2024-04-15T00:00:00.000000000",
          "2024-04-16T00:00:00.000000000",
          "2024-04-17T00:00:00.000000000",
          "2024-04-23T00:00:00.000000000",
          "2024-04-24T00:00:00.000000000",
          "2024-04-25T00:00:00.000000000",
          "2024-04-26T00:00:00.000000000",
          "2024-04-29T00:00:00.000000000",
          "2024-04-30T00:00:00.000000000",
          "2024-05-01T00:00:00.000000000",
          "2024-05-02T00:00:00.000000000",
          "2024-05-03T00:00:00.000000000",
          "2024-05-06T00:00:00.000000000",
          "2024-05-07T00:00:00.000000000",
          "2024-05-08T00:00:00.000000000",
          "2024-05-09T00:00:00.000000000",
          "2024-05-10T00:00:00.000000000",
          "2024-05-13T00:00:00.000000000",
          "2024-05-14T00:00:00.000000000",
          "2024-05-15T00:00:00.000000000",
          "2024-05-16T00:00:00.000000000",
          "2024-05-17T00:00:00.000000000",
          "2024-05-20T00:00:00.000000000",
          "2024-05-21T00:00:00.000000000",
          "2024-05-22T00:00:00.000000000",
          "2024-05-23T00:00:00.000000000",
          "2024-06-06T00:00:00.000000000",
          "2024-06-07T00:00:00.000000000",
          "2024-06-10T00:00:00.000000000",
          "2024-06-11T00:00:00.000000000",
          "2024-06-12T00:00:00.000000000",
          "2024-06-13T00:00:00.000000000",
          "2024-06-14T00:00:00.000000000",
          "2024-06-17T00:00:00.000000000",
          "2024-06-18T00:00:00.000000000",
          "2024-06-20T00:00:00.000000000",
          "2024-06-21T00:00:00.000000000",
          "2024-06-24T00:00:00.000000000",
          "2024-06-25T00:00:00.000000000",
          "2024-07-05T00:00:00.000000000",
          "2024-07-08T00:00:00.000000000",
          "2024-07-09T00:00:00.000000000",
          "2024-07-10T00:00:00.000000000",
          "2024-07-11T00:00:00.000000000",
          "2024-07-12T00:00:00.000000000",
          "2024-07-15T00:00:00.000000000",
          "2024-07-16T00:00:00.000000000",
          "2024-07-17T00:00:00.000000000",
          "2024-07-18T00:00:00.000000000",
          "2024-07-19T00:00:00.000000000",
          "2024-07-22T00:00:00.000000000",
          "2024-07-23T00:00:00.000000000",
          "2024-07-30T00:00:00.000000000",
          "2024-07-31T00:00:00.000000000",
          "2024-08-01T00:00:00.000000000",
          "2024-08-26T00:00:00.000000000",
          "2024-08-27T00:00:00.000000000",
          "2024-09-11T00:00:00.000000000",
          "2024-09-12T00:00:00.000000000",
          "2024-09-13T00:00:00.000000000",
          "2024-09-16T00:00:00.000000000",
          "2024-09-23T00:00:00.000000000",
          "2024-09-24T00:00:00.000000000",
          "2024-09-25T00:00:00.000000000",
          "2024-09-26T00:00:00.000000000",
          "2024-09-27T00:00:00.000000000",
          "2024-09-30T00:00:00.000000000",
          "2024-10-01T00:00:00.000000000",
          "2024-10-10T00:00:00.000000000",
          "2024-10-11T00:00:00.000000000",
          "2024-10-14T00:00:00.000000000",
          "2024-10-15T00:00:00.000000000",
          "2024-10-16T00:00:00.000000000",
          "2024-10-17T00:00:00.000000000",
          "2024-10-18T00:00:00.000000000",
          "2024-10-21T00:00:00.000000000",
          "2024-10-31T00:00:00.000000000",
          "2024-11-01T00:00:00.000000000",
          "2024-11-04T00:00:00.000000000",
          "2024-11-05T00:00:00.000000000",
          "2024-11-06T00:00:00.000000000",
          "2024-11-18T00:00:00.000000000",
          "2024-11-19T00:00:00.000000000",
          "2024-11-20T00:00:00.000000000",
          "2024-11-21T00:00:00.000000000",
          "2024-11-22T00:00:00.000000000",
          "2024-11-25T00:00:00.000000000",
          "2024-11-26T00:00:00.000000000",
          "2024-11-27T00:00:00.000000000",
          "2024-11-29T00:00:00.000000000",
          "2024-12-02T00:00:00.000000000",
          "2024-12-03T00:00:00.000000000",
          "2024-12-04T00:00:00.000000000",
          "2024-12-05T00:00:00.000000000",
          "2024-12-06T00:00:00.000000000",
          "2024-12-09T00:00:00.000000000"
         ],
         "xaxis": "x",
         "y": {
          "bdata": "AAAAYCEAbkAAAACgIGJuQAAAAABpZG5AAAAAILEzbkAAAABAOw1uQAAAAEA0F25AAAAAAP2RbkAAAABAwR1tQAAAAMC6B21AAAAAoLBmbUAAAACgOsRsQAAAAICdIm1AAAAAgGpybUAAAABAAZ5vQAAAAOAdKW9AAAAA4Mkkb0AAAADg/wBvQAAAAGCY2G5AAAAAoFfpbUAAAACAt3JuQAAAAGCh6W1AAAAAIDS/bUAAAAAADTBuQAAAAECXgm5AAAAA4LTVbkAAAACA9KZuQAAAACA/0m5AAAAAAC0Eb0AAAADgKq5vQAAAAOByn29AAAAAIF5Qb0AAAACglLpuQAAAAKDcq25AAAAAIC52bkAAAABgkcduQAAAACAP3G5AAAAA4G5WbkAAAACAtMZtQAAAAICu4G1AAAAA4JitbUAAAACAQShuQAAAAGA7Qm5AAAAAIJf0bkAAAADARuNuQAAAAGB4E29AAAAAQNB8b0AAAABAoHduQAAAACDKa25AAAAAQNW2bUAAAACgQ8VtQAAAAAD/xm1AAAAA4GHtbUAAAABgyOptQAAAAIBdXW1AAAAA4OLJbEAAAADgzcFsQAAAAOCOU2xAAAAAoITda0AAAACgAhhsQAAAAOAAV2xAAAAAgI1ebEAAAACgP7FrQAAAAAC1nmxAAAAA4HnYbEAAAADg2h1tQAAAAACxQG1AAAAAoBtbbUAAAADAAl5tQAAAAMAkMG1AAAAAIMiFbUAAAAAgEphtQAAAAMAV/W9AAAAAIJIjcEAAAACAxTtwQAAAAKBCYnBAAAAAYBhab0AAAACgr0VvQAAAACB2829AAAAAQCgdcEAAAABg+zdwQAAAAACIYXBAAAAAIMZ0cEAAAABAwXNwQAAAAOBRbHBAAAAAoKp9cEAAAADAAHlwQAAAAGBizXBAAAAAYBWwcEAAAABgFHxwQAAAAKC1vXBAAAAAoP0+cEAAAABg+klwQAAAAECBh3BAAAAAgOhMcEAAAADADXtwQAAAAGDpCnFAAAAA4EcOcUAAAACgehBxQAAAAOBzD3FAAAAAwDmWckAAAACgkrlyQAAAACCiAnNAAAAAgNU6c0AAAADAZUtzQAAAAIASMXNAAAAA4L9Vc0AAAAAgVF5zQAAAAABGfnNAAAAAIPN4c0AAAABg74BzQAAAAGAQXXBAAAAAAL67b0AAAADgBThwQAAAAMC5N3BAAAAA4JdxcEAAAADgSa5wQAAAAGCnmnBAAAAAwO0JcUAAAAAAUeFwQAAAAKDqbnBAAAAA4IR6cEAAAADAfqFwQAAAAOCihHBAAAAAgKm3cEAAAACAef5wQAAAAKBd/3BAAAAAIKOocEAAAACANl1wQAAAAMBYj3BAAAAA4NWicEAAAADAjiRxQAAAAGB793BAAAAA4ERBcUAAAAAAxiJxQAAAAKAaK3FAAAAAAEFhcUAAAACAdKNxQAAAAOAfm3FAAAAA4DSvcUAAAAAAgcFxQAAAAGAk53FAAAAAoCIkckAAAACg7xdyQAAAAGCmjnJAAAAAABPIckAAAADgOKRyQAAAAOCXiXJAAAAAQGYcckAAAABgLx5yQAAAAMCtA3JAAAAAQEMhckAAAABAoTZyQAAAAACxv3FAAAAAQGfwcUAAAADAU4NxQAAAAIA4xXFAAAAAYH7/cUAAAADgxB9yQAAAAKBROXJAAAAA4FaBckAAAACgelByQAAAAEBXdHJAAAAA4HFZckAAAABAaIlyQAAAAEBRYHJAAAAA4EedckAAAACgXWJzQAAAAGCJg3NAAAAAAB+Hc0AAAACAEJZzQAAAAOCsbHNAAAAAoAGyc0AAAAAAXkl0QAAAACC5VHRAAAAAoFd2dEAAAADgXWN0QAAAAKCGlHRAAAAAALvgdEAAAABAoMZzQAAAAEAZmnNAAAAAwFNgc0AAAADgHilzQAAAACATW3NAAAAAQCrockAAAACAEPVyQAAAAACGQ3NAAAAAAG+Vc0AAAABAIXpzQAAAAADvn3NAAAAAADDAc0AAAADALpBzQAAAAGD+6HNAAAAAgIigc0AAAACg/vdzQAAAAMBMJXRAAAAAAFtTdEAAAADAEKd0QAAAAKCPhHRAAAAAoI5jdEAAAAAgG110QAAAAMD0WXRAAAAAgL8KdEAAAACgTB90QAAAAIAuP3VAAAAAAO4hdUAAAACA0uB0QAAAAEDwcnVAAAAAgH1+dUAAAACA/Xx1QAAAAABlrHVAAAAAgP6gdUAAAABAZ092QAAAACDyb3ZAAAAA4DlJdkAAAACgbkp2QAAAAKDMWXZAAAAAAMNFdkAAAABgLhx2QAAAAKBQdHZAAAAAgNV4dkAAAABgOLp2QAAAAMAe0XZAAAAAwE37dkAAAADAYvd2QAAAACDT9HZAAAAAAFH+dkAAAACgZBt3QAAAAEBFFndAAAAAABGAdkAAAADAYmJ2QAAAAOBK7XZAAAAAIH6/dkAAAABgW3J2QAAAAOA+K3ZAAAAAwKaTdkAAAABg4HZ2QAAAAED8yHZAAAAA4ErtdkAAAABAzSh3QAAAAIDJMHdAAAAAwDBUd0AAAACAqEx3QAAAACD/YHdAAAAAAOsJd0AAAAAgAf92QAAAAGA8p3dAAAAAYCX+d0AAAADAhPp3QAAAAGCfAXhAAAAAIMseeEAAAACAr0t4QAAAACD0TXhAAAAAwGRgeEAAAABAFUt4QAAAAADkjXhAAAAAgOaieEAAAAAA6oN4QAAAAIBlOXhAAAAAAJ+YeEAAAACAmYh4QAAAAAB9UnhAAAAA4ClCeEAAAACg+IR4QAAAAEDVf3hAAAAAAMW/eEAAAACAtrF4QAAAAKDZVXlAAAAAQE9beUAAAADAP395QAAAACAksXlAAAAA4CileUAAAADAXLx5QAAAAKBzLHlAAAAAoM2IeUAAAAAgur15QAAAAOCGy3lAAAAAwHYPekAAAACA1x96QAAAAEBcAXpAAAAAgKH+eUAAAABAOxp6QAAAACDH+XlAAAAAYM+rekAAAAAA1sl6QAAAAACtv3pAAAAAwFDDekAAAACAFMt5QAAAAKDXxHlAAAAAoDEFekAAAACgIFZ6QAAAAMA7YXpAAAAAgOlNekAAAABgNsZ5QAAAACBR0XlAAAAAQImAeUAAAAAgH855QAAAAADueHlAAAAAgMe8eUAAAACAKdh5QAAAAGBdEXpAAAAAoDEFekAAAADg99R5QAAAAOCwxHlAAAAAYGzceUAAAABgyEt6QAAAAAANf3pAAAAAwCGTekAAAAAgnsd6QAAAAECL4npAAAAA4H70ekAAAABAWO16QAAAAABQEntAAAAA4IwYe0AAAADg0fl6QAAAAOBzPHtAAAAA4JlKe0AAAACgnlZ7QAAAAKDqcntAAAAAYNGde0AAAAAgIr97QAAAAGDH13tAAAAAIN3de0AAAADASMZ7QAAAAEAVjXtAAAAAYPnTe0AAAADg1uZ7QAAAAECdtntAAAAAQGb5e0AAAAAg9rl7QAAAAIAgiXtAAAAA4ET3e0AAAADAIrh7QAAAAKCcbHtAAAAAgPUhe0AAAAAAUJ17QAAAAED/43tAAAAAQGwQfEAAAADgGHZ8QAAAAIAkcHxAAAAAwHR5fEAAAACgTWV8QAAAAOD7UnxAAAAAgPd8fEAAAAAAhnp8QAAAAMCH7ntAAAAAINDne0AAAAAAkst7QAAAACC3wntAAAAA4HEDfEAAAABA1RZ8QAAAAADBs3tAAAAAoKe2e0AAAADgAjl7QAAAACCm8HpAAAAA4IzLekAAAAAgSkR6QAAAACBOLnpAAAAAgGSaekAAAACgBqJ6QAAAACBiEHpAAAAAwC3leUAAAADgxft5QAAAAAC7xXlAAAAAgIFwe0AAAACAYwR7QAAAAID9F3tAAAAAoGhTe0AAAADgC/t6QAAAACD7tXpAAAAAIHDYekAAAACgD8Z6QAAAAADpUHpAAAAAoPI3ekAAAADg0oR6QAAAAGBKMHpAAAAAIAwzekAAAAAgUZ96QAAAAEBDmnpAAAAA4Gw0ekAAAADgKkx3QAAAAIDFTndAAAAAIGm+d0AAAABgApB3QAAAAEBNxXdAAAAAwOQ+eEAAAADAged2QAAAAOCU8nZAAAAAAGwGd0AAAADgs153QAAAACDIWXdAAAAAQH4Vd0AAAACAM+F2QAAAAMBwwnZAAAAAwEq0dkAAAADAVSN3QAAAAIBt8nZAAAAAQCaRd0AAAACgmbd3QAAAAIBt9XdAAAAAYIW8d0AAAABA0894QAAAAECatnhAAAAAYHw7eUAAAABgfDt5QAAAAKDWqHlAAAAAQOjDeUAAAACg09B5QAAAAODqoXlAAAAAAP20eUAAAADAjVx5QAAAAKBc1XhAAAAAYPvFeEAAAACASNp4QAAAAEAaNHlAAAAAwItteEAAAADAwbB4QAAAAGB2Y3ZAAAAAgNg6dkAAAABgIAt2QAAAAEBDlHZAAAAAIP7adkAAAADAm2F2QAAAAIATtHZAAAAA4KvrdkAAAACgVAt3QAAAAIDKkXZAAAAAwMMfeEAAAADA6Zd4QAAAAOBHk3hAAAAAoAWMeEAAAAAg+hp4QAAAACAGwndAAAAAQK23d0AAAABAPud3QAAAAMCHuXdAAAAA4BcReEAAAABguz94QAAAAOAKGHhAAAAAgCmBd0AAAABgHzp3QAAAAICzB3dAAAAA4MQPd0AAAACAC2h3QAAAAMCPEndAAAAAwIk0d0AAAACAHB13QAAAAACT03ZAAAAAwMI8d0AAAADgvoR3QAAAAGBVgXdAAAAAIIird0AAAADAK/h3QAAAAECDDnhAAAAAQGcmeEAAAABAFBt4QAAAAICmuXdAAAAAQG+Nd0AAAADgwf13QAAAAABzR3hAAAAAQMdAeEAAAADAGkN4QAAAACBeh3hAAAAAwMuVeEAAAABA1EZ4QAAAACA1onhAAAAAwDrleEAAAAAAAUJ5QAAAAKBG/XhAAAAAIC7WeEAAAAAgVil5QAAAAMDm4nhAAAAA4KureEAAAADgaLp4QAAAAMC4BHlAAAAAwI4veEAAAACABid4QAAAAEDqR3hAAAAAwIMFeEAAAACAdRp4QAAAAECnA3hAAAAAQBLsd0AAAAAAsxt4QAAAAACufnhAAAAAAAaDeEAAAAAA1iJ4QAAAAIDrLHhAAAAAQLy6d0AAAADAFGN3QAAAAEB4uXdAAAAAgN7zd0AAAABgYkR4QAAAACB82ndAAAAAIP7qd0AAAAAgLBN4QAAAAGCyHnhAAAAAINYQeEAAAAAgYmp4QAAAACD7jnhAAAAAIJjneEAAAACA4/94QAAAAIBh3HhAAAAAoLfLeEAAAACgeuR4QAAAAOAE63hAAAAAoLvseEAAAAAgoBZ5QAAAAMBxTXlAAAAAIOdGeUAAAADgLP54QAAAAOBB0nhAAAAAYECleEAAAAAgDRp5QAAAAKDDG3lAAAAAoJP/eEAAAABggjl5QAAAAKAjjXlAAAAAQKGPeUAAAABgWGt5QAAAAMArqXlAAAAAICsIekAAAAAAZvt5QAAAAODhCXpAAAAAYNXyeUAAAABgAxt6QAAAAOAAJ3pAAAAAYL1jekAAAADAR5B6QAAAAOBgmHpAAAAAQMnsekAAAADATtV6QAAAAECrsXpAAAAAoKeOekAAAABAMqd6QAAAAMCcc3pAAAAAAAURe0AAAADg/Rh7QAAAAOCsDntAAAAAIG/YekAAAABAFcd6QAAAACBv2HpAAAAAgDMEe0AAAAAg2Tt7QAAAAAAvc3tAAAAAgM5ue0AAAAAgMYd7QAAAAGCOu3tAAAAAQFjLe0AAAAAgI5x7QAAAACAjnHtAAAAAgLa7e0AAAACgMkh7QAAAAAAphXtAAAAAoIVme0AAAAAAoTd7QAAAACAhOntAAAAAoBA2e0AAAACghFx7QAAAAIDsCntAAAAAIB/YekAAAADAwaN6QAAAACAKp3pAAAAAoG7TekAAAACg1MB6QAAAAKAcDXtAAAAA4CKtekAAAADAR916QAAAAEDkCHtAAAAAYO5se0AAAABg2Yl7QAAAAECIf3tAAAAAwKmMe0AAAACALm57QAAAAMD5PntAAAAAgI8pe0AAAACACDR7QAAAAKCdMXpAAAAA4PIuekAAAAAAOdV5QAAAAEBhBXpAAAAAwN4CekAAAAAA7lF6QAAAACARfXpAAAAAgFygekAAAACASLx6QAAAAMCOknpAAAAA4KxwekAAAABA5Ld6QAAAAOCTt3pAAAAAoHBcekAAAAAAJSF6QAAAAMDyznlAAAAAQH/DeUAAAAAgOfV5QAAAAIDZlXlAAAAAwAugeUAAAADgAeZ5QAAAAEARZXpAAAAAYP34ekAAAACA8357QAAAAIDajXtAAAAAIHuWe0AAAAAARJ97QAAAAECy1XtAAAAA4CrGe0AAAABgnuF7QAAAAKAC5ntAAAAA4CXZe0AAAADAcdR8QAAAAEAh7HxAAAAAYPDffEAAAAAghQl9QAAAAMC4Nn1AAAAAYBbPfEAAAABABBV9QAAAAOD6I31AAAAAwHpDfUAAAAAAp798QAAAAIC7yXxAAAAAQPEyfUAAAABAmid9QAAAAMDPUX1AAAAAIIFOfUAAAACgs1N9QAAAAKAjOH1AAAAAYI8OfUAAAACAtVB9QAAAAKBDrn1AAAAAQFS+fUAAAABgidR9QAAAAGDi3H1AAAAA4HYGfkAAAAAAs/x9QAAAAIB+OX5AAAAAgIIzfkAAAAAgWrV9QAAAAGDkGH5AAAAAIAFqfkAAAABgp01+QAAAAEAtZH5AAAAAIBGlfkAAAAAgiKh+QAAAAEDk1X5AAAAAQG3SfkAAAABAwGV+QAAAAEB4rH5AAAAAIKbifkAAAADgHTl/QAAAAAChPn9AAAAAYFUhf0AAAACAIzB/QAAAAECWJX9AAAAAgEBCf0AAAAAAYY1/QAAAAEC3hH9AAAAAgBM0f0AAAAAAGR2AQAAAAABHFYBAAAAAAOcJgEAAAACAUQKAQAAAAIDCJIBAAAAAgPgjgEAAAACg4IZ/QAAAAODDIX9AAAAA4DoTf0AAAAAAJuR+QAAAACC5NH9AAAAAgO4wf0AAAAAAmRJ/QAAAAID1XX9AAAAAoGV6f0AAAADgvfp+QAAAAED94H5AAAAAgO0qf0AAAACA1I1/QAAAAKA/4X9AAAAA4EDqf0AAAADACut/QAAAAOAPDYBAAAAA4FoSgEAAAABA6BKAQAAAAGDJJYBAAAAAwPlYgEAAAACAXVCAQAAAAEBeVoBAAAAAADBbgEAAAADgdGWAQAAAAOBeWYBAAAAAwMw6gEAAAABghn+AQAAAAABkeoBAAAAAgGyHgEAAAABAnZGAQAAAAKBztIBAAAAAABC9gEAAAABAq7+AQAAAAEDL4YBAAAAAQMbsgEAAAABAAeGAQAAAACA224BAAAAAAC/NgEAAAABgv92AQAAAAKB9K4FAAAAAIJAwgUAAAACg1zSBQAAAACBuYIFAAAAAoBI6gUAAAACg41WBQAAAACAYYoFAAAAAwHt8gUAAAADgtz2BQAAAAKDMG4FAAAAAALf+gEAAAAAgkiuBQAAAAOCsJIFAAAAAwFHHgEAAAACAIw2BQAAAAABTz4BAAAAAoDpcgUAAAADgVGKBQAAAAEC/KYFAAAAAwMFOgUAAAADg5WWBQAAAAMB5bIFAAAAAQHOwgUAAAABgaL2BQAAAAEBks4FAAAAAYFvFgUAAAABAwr6BQAAAAID20IFAAAAAoBqogUAAAACAzeOBQAAAAEA6/4FAAAAAIOgkgkAAAABA0QCCQAAAAIDZFIJAAAAAID8VgkAAAACgDSeCQAAAAABsH4JAAAAAQEOogUAAAABAV7uBQAAAACCQsYFAAAAAgFXogUAAAABgU1qCQAAAAEBaQ4JAAAAAgHFUgkAAAACgCFaCQAAAAIA7b4JAAAAA4Nt9gkAAAACg6o2CQAAAAOC3poJAAAAAIECYgkAAAABA0rWCQAAAACBovoJAAAAAAKLAgkAAAAAgcd6CQAAAAEB+1oJAAAAAgKLfgkAAAAAAwcaCQA==",
          "dtype": "f8"
         },
         "yaxis": "y"
        },
        {
         "marker": {
          "color": "rgb(102,194,165)",
          "size": 6
         },
         "mode": "markers",
         "name": "Regime 0",
         "showlegend": false,
         "type": "scatter",
         "x": [
          "2018-01-02T00:00:00.000000000",
          "2018-01-03T00:00:00.000000000",
          "2018-01-04T00:00:00.000000000",
          "2018-01-05T00:00:00.000000000",
          "2018-01-08T00:00:00.000000000",
          "2018-01-09T00:00:00.000000000",
          "2018-01-10T00:00:00.000000000",
          "2018-01-11T00:00:00.000000000",
          "2018-01-12T00:00:00.000000000",
          "2018-01-16T00:00:00.000000000",
          "2018-01-17T00:00:00.000000000",
          "2018-01-18T00:00:00.000000000",
          "2018-01-19T00:00:00.000000000",
          "2018-01-22T00:00:00.000000000",
          "2018-01-23T00:00:00.000000000",
          "2018-01-24T00:00:00.000000000",
          "2018-01-25T00:00:00.000000000",
          "2018-01-26T00:00:00.000000000",
          "2018-01-29T00:00:00.000000000",
          "2018-01-30T00:00:00.000000000",
          "2018-01-31T00:00:00.000000000",
          "2018-02-01T00:00:00.000000000",
          "2018-02-26T00:00:00.000000000",
          "2018-02-27T00:00:00.000000000",
          "2018-02-28T00:00:00.000000000",
          "2018-03-01T00:00:00.000000000",
          "2018-03-02T00:00:00.000000000",
          "2018-03-05T00:00:00.000000000",
          "2018-03-06T00:00:00.000000000",
          "2018-03-07T00:00:00.000000000",
          "2018-03-08T00:00:00.000000000",
          "2018-03-09T00:00:00.000000000",
          "2018-03-12T00:00:00.000000000",
          "2018-03-13T00:00:00.000000000",
          "2018-03-14T00:00:00.000000000",
          "2018-03-15T00:00:00.000000000",
          "2018-03-16T00:00:00.000000000",
          "2018-03-19T00:00:00.000000000",
          "2018-03-20T00:00:00.000000000",
          "2018-03-21T00:00:00.000000000",
          "2018-04-05T00:00:00.000000000",
          "2018-04-06T00:00:00.000000000",
          "2018-04-09T00:00:00.000000000",
          "2018-04-10T00:00:00.000000000",
          "2018-04-11T00:00:00.000000000",
          "2018-04-12T00:00:00.000000000",
          "2018-04-13T00:00:00.000000000",
          "2018-04-16T00:00:00.000000000",
          "2018-04-17T00:00:00.000000000",
          "2018-04-18T00:00:00.000000000",
          "2018-04-19T00:00:00.000000000",
          "2018-04-20T00:00:00.000000000",
          "2018-04-23T00:00:00.000000000",
          "2018-04-24T00:00:00.000000000",
          "2018-04-25T00:00:00.000000000",
          "2018-04-26T00:00:00.000000000",
          "2018-04-27T00:00:00.000000000",
          "2018-04-30T00:00:00.000000000",
          "2018-05-01T00:00:00.000000000",
          "2018-05-02T00:00:00.000000000",
          "2018-05-03T00:00:00.000000000",
          "2018-05-04T00:00:00.000000000",
          "2018-05-07T00:00:00.000000000",
          "2018-05-08T00:00:00.000000000",
          "2018-05-09T00:00:00.000000000",
          "2018-05-10T00:00:00.000000000",
          "2018-05-11T00:00:00.000000000",
          "2018-05-14T00:00:00.000000000",
          "2018-05-15T00:00:00.000000000",
          "2018-05-16T00:00:00.000000000",
          "2018-05-17T00:00:00.000000000",
          "2018-05-18T00:00:00.000000000",
          "2018-05-21T00:00:00.000000000",
          "2018-05-22T00:00:00.000000000",
          "2018-05-23T00:00:00.000000000",
          "2018-05-24T00:00:00.000000000",
          "2018-05-25T00:00:00.000000000",
          "2018-05-29T00:00:00.000000000",
          "2018-05-30T00:00:00.000000000",
          "2018-05-31T00:00:00.000000000",
          "2018-06-01T00:00:00.000000000",
          "2018-06-04T00:00:00.000000000",
          "2018-06-05T00:00:00.000000000",
          "2018-06-06T00:00:00.000000000",
          "2018-06-07T00:00:00.000000000",
          "2018-06-08T00:00:00.000000000",
          "2018-06-11T00:00:00.000000000",
          "2018-06-12T00:00:00.000000000",
          "2018-06-13T00:00:00.000000000",
          "2018-06-14T00:00:00.000000000",
          "2018-06-15T00:00:00.000000000",
          "2018-06-18T00:00:00.000000000",
          "2018-06-19T00:00:00.000000000",
          "2018-06-20T00:00:00.000000000",
          "2018-06-21T00:00:00.000000000",
          "2018-06-22T00:00:00.000000000",
          "2018-06-25T00:00:00.000000000",
          "2018-06-26T00:00:00.000000000",
          "2018-06-27T00:00:00.000000000",
          "2018-06-28T00:00:00.000000000",
          "2018-06-29T00:00:00.000000000",
          "2018-07-02T00:00:00.000000000",
          "2018-07-03T00:00:00.000000000",
          "2018-07-05T00:00:00.000000000",
          "2018-07-06T00:00:00.000000000",
          "2018-07-09T00:00:00.000000000",
          "2018-07-10T00:00:00.000000000",
          "2018-07-11T00:00:00.000000000",
          "2018-07-12T00:00:00.000000000",
          "2018-07-13T00:00:00.000000000",
          "2018-07-16T00:00:00.000000000",
          "2018-07-17T00:00:00.000000000",
          "2018-07-18T00:00:00.000000000",
          "2018-07-19T00:00:00.000000000",
          "2018-07-20T00:00:00.000000000",
          "2018-07-23T00:00:00.000000000",
          "2018-07-24T00:00:00.000000000",
          "2018-07-25T00:00:00.000000000",
          "2018-07-26T00:00:00.000000000",
          "2018-07-27T00:00:00.000000000",
          "2018-07-30T00:00:00.000000000",
          "2018-07-31T00:00:00.000000000",
          "2018-08-01T00:00:00.000000000",
          "2018-08-02T00:00:00.000000000",
          "2018-08-03T00:00:00.000000000",
          "2018-08-06T00:00:00.000000000",
          "2018-08-07T00:00:00.000000000",
          "2018-08-08T00:00:00.000000000",
          "2018-08-09T00:00:00.000000000",
          "2018-08-10T00:00:00.000000000",
          "2018-08-13T00:00:00.000000000",
          "2018-08-14T00:00:00.000000000",
          "2018-08-15T00:00:00.000000000",
          "2018-08-16T00:00:00.000000000",
          "2018-08-17T00:00:00.000000000",
          "2018-08-20T00:00:00.000000000",
          "2018-08-21T00:00:00.000000000",
          "2018-08-22T00:00:00.000000000",
          "2018-08-23T00:00:00.000000000",
          "2018-08-24T00:00:00.000000000",
          "2018-08-27T00:00:00.000000000",
          "2018-08-28T00:00:00.000000000",
          "2018-08-29T00:00:00.000000000",
          "2018-08-30T00:00:00.000000000",
          "2018-08-31T00:00:00.000000000",
          "2018-09-04T00:00:00.000000000",
          "2018-09-05T00:00:00.000000000",
          "2018-09-06T00:00:00.000000000",
          "2018-09-07T00:00:00.000000000",
          "2018-09-10T00:00:00.000000000",
          "2018-09-11T00:00:00.000000000",
          "2018-09-12T00:00:00.000000000",
          "2018-09-13T00:00:00.000000000",
          "2018-09-14T00:00:00.000000000",
          "2018-09-17T00:00:00.000000000",
          "2018-09-18T00:00:00.000000000",
          "2018-09-19T00:00:00.000000000",
          "2018-09-20T00:00:00.000000000",
          "2018-09-21T00:00:00.000000000",
          "2018-09-24T00:00:00.000000000",
          "2018-09-25T00:00:00.000000000",
          "2018-09-26T00:00:00.000000000",
          "2018-09-27T00:00:00.000000000",
          "2018-09-28T00:00:00.000000000",
          "2018-10-01T00:00:00.000000000",
          "2018-10-02T00:00:00.000000000",
          "2018-10-03T00:00:00.000000000",
          "2018-10-04T00:00:00.000000000",
          "2018-10-05T00:00:00.000000000",
          "2018-10-08T00:00:00.000000000",
          "2018-10-09T00:00:00.000000000",
          "2019-01-17T00:00:00.000000000",
          "2019-01-18T00:00:00.000000000",
          "2019-01-22T00:00:00.000000000",
          "2019-01-23T00:00:00.000000000",
          "2019-01-24T00:00:00.000000000",
          "2019-01-25T00:00:00.000000000",
          "2019-01-28T00:00:00.000000000",
          "2019-01-29T00:00:00.000000000",
          "2019-01-30T00:00:00.000000000",
          "2019-01-31T00:00:00.000000000",
          "2019-02-01T00:00:00.000000000",
          "2019-02-04T00:00:00.000000000",
          "2019-02-05T00:00:00.000000000",
          "2019-02-06T00:00:00.000000000",
          "2019-02-07T00:00:00.000000000",
          "2019-02-08T00:00:00.000000000",
          "2019-02-11T00:00:00.000000000",
          "2019-02-12T00:00:00.000000000",
          "2019-02-13T00:00:00.000000000",
          "2019-02-14T00:00:00.000000000",
          "2019-02-15T00:00:00.000000000",
          "2019-02-19T00:00:00.000000000",
          "2019-02-20T00:00:00.000000000",
          "2019-02-21T00:00:00.000000000",
          "2019-02-22T00:00:00.000000000",
          "2019-02-25T00:00:00.000000000",
          "2019-02-26T00:00:00.000000000",
          "2019-02-27T00:00:00.000000000",
          "2019-02-28T00:00:00.000000000",
          "2019-03-01T00:00:00.000000000",
          "2019-03-04T00:00:00.000000000",
          "2019-03-05T00:00:00.000000000",
          "2019-03-06T00:00:00.000000000",
          "2019-03-07T00:00:00.000000000",
          "2019-03-08T00:00:00.000000000",
          "2019-03-11T00:00:00.000000000",
          "2019-03-12T00:00:00.000000000",
          "2019-03-13T00:00:00.000000000",
          "2019-03-14T00:00:00.000000000",
          "2019-03-15T00:00:00.000000000",
          "2019-03-18T00:00:00.000000000",
          "2019-03-19T00:00:00.000000000",
          "2019-03-20T00:00:00.000000000",
          "2019-03-21T00:00:00.000000000",
          "2019-03-22T00:00:00.000000000",
          "2019-03-25T00:00:00.000000000",
          "2019-03-26T00:00:00.000000000",
          "2019-03-27T00:00:00.000000000",
          "2019-03-28T00:00:00.000000000",
          "2019-03-29T00:00:00.000000000",
          "2019-04-01T00:00:00.000000000",
          "2019-04-02T00:00:00.000000000",
          "2019-04-03T00:00:00.000000000",
          "2019-04-04T00:00:00.000000000",
          "2019-04-05T00:00:00.000000000",
          "2019-04-08T00:00:00.000000000",
          "2019-04-09T00:00:00.000000000",
          "2019-04-10T00:00:00.000000000",
          "2019-04-11T00:00:00.000000000",
          "2019-04-12T00:00:00.000000000",
          "2019-04-15T00:00:00.000000000",
          "2019-04-16T00:00:00.000000000",
          "2019-04-17T00:00:00.000000000",
          "2019-04-18T00:00:00.000000000",
          "2019-04-22T00:00:00.000000000",
          "2019-04-23T00:00:00.000000000",
          "2019-04-24T00:00:00.000000000",
          "2019-04-25T00:00:00.000000000",
          "2019-04-26T00:00:00.000000000",
          "2019-04-29T00:00:00.000000000",
          "2019-04-30T00:00:00.000000000",
          "2019-05-01T00:00:00.000000000",
          "2019-05-02T00:00:00.000000000",
          "2019-05-03T00:00:00.000000000",
          "2019-05-06T00:00:00.000000000",
          "2019-05-07T00:00:00.000000000",
          "2019-05-08T00:00:00.000000000",
          "2019-05-09T00:00:00.000000000",
          "2019-05-10T00:00:00.000000000",
          "2019-05-17T00:00:00.000000000",
          "2019-05-20T00:00:00.000000000",
          "2019-05-21T00:00:00.000000000",
          "2019-05-22T00:00:00.000000000",
          "2019-05-23T00:00:00.000000000",
          "2019-05-24T00:00:00.000000000",
          "2019-05-28T00:00:00.000000000",
          "2019-05-29T00:00:00.000000000",
          "2019-05-30T00:00:00.000000000",
          "2019-06-17T00:00:00.000000000",
          "2019-06-18T00:00:00.000000000",
          "2019-06-19T00:00:00.000000000",
          "2019-06-20T00:00:00.000000000",
          "2019-06-21T00:00:00.000000000",
          "2019-06-24T00:00:00.000000000",
          "2019-06-25T00:00:00.000000000",
          "2019-06-26T00:00:00.000000000",
          "2019-06-27T00:00:00.000000000",
          "2019-06-28T00:00:00.000000000",
          "2019-07-01T00:00:00.000000000",
          "2019-07-02T00:00:00.000000000",
          "2019-07-03T00:00:00.000000000",
          "2019-07-05T00:00:00.000000000",
          "2019-07-08T00:00:00.000000000",
          "2019-07-09T00:00:00.000000000",
          "2019-07-10T00:00:00.000000000",
          "2019-07-11T00:00:00.000000000",
          "2019-07-12T00:00:00.000000000",
          "2019-07-15T00:00:00.000000000",
          "2019-07-16T00:00:00.000000000",
          "2019-07-17T00:00:00.000000000",
          "2019-07-18T00:00:00.000000000",
          "2019-07-19T00:00:00.000000000",
          "2019-07-22T00:00:00.000000000",
          "2019-07-23T00:00:00.000000000",
          "2019-07-24T00:00:00.000000000",
          "2019-07-25T00:00:00.000000000",
          "2019-07-26T00:00:00.000000000",
          "2019-07-29T00:00:00.000000000",
          "2019-07-30T00:00:00.000000000",
          "2019-07-31T00:00:00.000000000",
          "2019-08-01T00:00:00.000000000",
          "2019-08-02T00:00:00.000000000",
          "2019-08-19T00:00:00.000000000",
          "2019-08-20T00:00:00.000000000",
          "2019-08-21T00:00:00.000000000",
          "2019-08-22T00:00:00.000000000",
          "2019-08-27T00:00:00.000000000",
          "2019-08-28T00:00:00.000000000",
          "2019-08-29T00:00:00.000000000",
          "2019-08-30T00:00:00.000000000",
          "2019-09-03T00:00:00.000000000",
          "2019-09-04T00:00:00.000000000",
          "2019-09-11T00:00:00.000000000",
          "2019-09-12T00:00:00.000000000",
          "2019-09-13T00:00:00.000000000",
          "2019-09-16T00:00:00.000000000",
          "2019-09-17T00:00:00.000000000",
          "2019-09-18T00:00:00.000000000",
          "2019-09-19T00:00:00.000000000",
          "2019-09-20T00:00:00.000000000",
          "2019-09-23T00:00:00.000000000",
          "2019-09-24T00:00:00.000000000",
          "2019-09-25T00:00:00.000000000",
          "2019-09-26T00:00:00.000000000",
          "2019-09-27T00:00:00.000000000",
          "2019-09-30T00:00:00.000000000",
          "2019-10-01T00:00:00.000000000",
          "2019-10-02T00:00:00.000000000",
          "2019-10-03T00:00:00.000000000",
          "2019-10-04T00:00:00.000000000",
          "2019-10-07T00:00:00.000000000",
          "2019-10-08T00:00:00.000000000",
          "2019-10-09T00:00:00.000000000",
          "2019-10-10T00:00:00.000000000",
          "2019-10-11T00:00:00.000000000",
          "2019-10-14T00:00:00.000000000",
          "2019-10-15T00:00:00.000000000",
          "2019-10-16T00:00:00.000000000",
          "2019-10-17T00:00:00.000000000",
          "2019-10-18T00:00:00.000000000",
          "2019-10-21T00:00:00.000000000",
          "2019-10-22T00:00:00.000000000",
          "2019-10-23T00:00:00.000000000",
          "2019-10-24T00:00:00.000000000",
          "2019-10-25T00:00:00.000000000",
          "2019-10-28T00:00:00.000000000",
          "2019-10-29T00:00:00.000000000",
          "2019-10-30T00:00:00.000000000",
          "2019-10-31T00:00:00.000000000",
          "2019-11-01T00:00:00.000000000",
          "2019-11-04T00:00:00.000000000",
          "2019-11-05T00:00:00.000000000",
          "2019-11-06T00:00:00.000000000",
          "2019-11-07T00:00:00.000000000",
          "2019-11-08T00:00:00.000000000",
          "2019-11-11T00:00:00.000000000",
          "2019-11-12T00:00:00.000000000",
          "2019-11-13T00:00:00.000000000",
          "2019-11-14T00:00:00.000000000",
          "2019-11-15T00:00:00.000000000",
          "2019-11-18T00:00:00.000000000",
          "2019-11-19T00:00:00.000000000",
          "2019-11-20T00:00:00.000000000",
          "2019-11-21T00:00:00.000000000",
          "2019-11-22T00:00:00.000000000",
          "2019-11-25T00:00:00.000000000",
          "2019-11-26T00:00:00.000000000",
          "2019-11-27T00:00:00.000000000",
          "2019-11-29T00:00:00.000000000",
          "2019-12-02T00:00:00.000000000",
          "2019-12-03T00:00:00.000000000",
          "2019-12-04T00:00:00.000000000",
          "2019-12-05T00:00:00.000000000",
          "2019-12-06T00:00:00.000000000",
          "2019-12-09T00:00:00.000000000",
          "2019-12-10T00:00:00.000000000",
          "2019-12-11T00:00:00.000000000",
          "2019-12-12T00:00:00.000000000",
          "2019-12-13T00:00:00.000000000",
          "2019-12-16T00:00:00.000000000",
          "2019-12-17T00:00:00.000000000",
          "2019-12-18T00:00:00.000000000",
          "2019-12-19T00:00:00.000000000",
          "2019-12-20T00:00:00.000000000",
          "2019-12-23T00:00:00.000000000",
          "2019-12-24T00:00:00.000000000",
          "2019-12-26T00:00:00.000000000",
          "2019-12-27T00:00:00.000000000",
          "2019-12-30T00:00:00.000000000",
          "2019-12-31T00:00:00.000000000",
          "2020-01-02T00:00:00.000000000",
          "2020-01-03T00:00:00.000000000",
          "2020-01-06T00:00:00.000000000",
          "2020-01-07T00:00:00.000000000",
          "2020-01-08T00:00:00.000000000",
          "2020-01-09T00:00:00.000000000",
          "2020-01-10T00:00:00.000000000",
          "2020-01-13T00:00:00.000000000",
          "2020-01-14T00:00:00.000000000",
          "2020-01-15T00:00:00.000000000",
          "2020-01-16T00:00:00.000000000",
          "2020-01-17T00:00:00.000000000",
          "2020-01-21T00:00:00.000000000",
          "2020-01-22T00:00:00.000000000",
          "2020-01-23T00:00:00.000000000",
          "2020-01-24T00:00:00.000000000",
          "2020-01-27T00:00:00.000000000",
          "2020-01-28T00:00:00.000000000",
          "2020-01-29T00:00:00.000000000",
          "2020-01-30T00:00:00.000000000",
          "2020-02-18T00:00:00.000000000",
          "2020-02-19T00:00:00.000000000",
          "2020-02-20T00:00:00.000000000",
          "2020-02-21T00:00:00.000000000",
          "2020-07-15T00:00:00.000000000",
          "2020-07-16T00:00:00.000000000",
          "2020-07-17T00:00:00.000000000",
          "2020-07-20T00:00:00.000000000",
          "2020-07-21T00:00:00.000000000",
          "2020-07-22T00:00:00.000000000",
          "2020-07-23T00:00:00.000000000",
          "2020-07-24T00:00:00.000000000",
          "2020-07-27T00:00:00.000000000",
          "2020-07-28T00:00:00.000000000",
          "2020-07-29T00:00:00.000000000",
          "2020-07-30T00:00:00.000000000",
          "2020-07-31T00:00:00.000000000",
          "2020-08-03T00:00:00.000000000",
          "2020-08-04T00:00:00.000000000",
          "2020-08-13T00:00:00.000000000",
          "2020-08-14T00:00:00.000000000",
          "2020-08-17T00:00:00.000000000",
          "2020-08-18T00:00:00.000000000",
          "2020-08-19T00:00:00.000000000",
          "2020-08-20T00:00:00.000000000",
          "2020-08-21T00:00:00.000000000",
          "2020-08-24T00:00:00.000000000",
          "2020-08-25T00:00:00.000000000",
          "2020-10-21T00:00:00.000000000",
          "2020-10-22T00:00:00.000000000",
          "2020-10-23T00:00:00.000000000",
          "2020-10-26T00:00:00.000000000",
          "2020-10-27T00:00:00.000000000",
          "2020-11-19T00:00:00.000000000",
          "2020-11-20T00:00:00.000000000",
          "2020-11-23T00:00:00.000000000",
          "2020-11-24T00:00:00.000000000",
          "2020-11-25T00:00:00.000000000",
          "2020-11-27T00:00:00.000000000",
          "2020-11-30T00:00:00.000000000",
          "2020-12-08T00:00:00.000000000",
          "2020-12-09T00:00:00.000000000",
          "2020-12-10T00:00:00.000000000",
          "2020-12-11T00:00:00.000000000",
          "2020-12-14T00:00:00.000000000",
          "2020-12-15T00:00:00.000000000",
          "2020-12-16T00:00:00.000000000",
          "2020-12-17T00:00:00.000000000",
          "2020-12-18T00:00:00.000000000",
          "2020-12-21T00:00:00.000000000",
          "2020-12-22T00:00:00.000000000",
          "2020-12-23T00:00:00.000000000",
          "2020-12-24T00:00:00.000000000",
          "2020-12-28T00:00:00.000000000",
          "2020-12-29T00:00:00.000000000",
          "2020-12-30T00:00:00.000000000",
          "2020-12-31T00:00:00.000000000",
          "2021-01-04T00:00:00.000000000",
          "2021-01-05T00:00:00.000000000",
          "2021-01-06T00:00:00.000000000",
          "2021-01-19T00:00:00.000000000",
          "2021-01-20T00:00:00.000000000",
          "2021-01-21T00:00:00.000000000",
          "2021-01-22T00:00:00.000000000",
          "2021-01-25T00:00:00.000000000",
          "2021-01-26T00:00:00.000000000",
          "2021-02-17T00:00:00.000000000",
          "2021-02-18T00:00:00.000000000",
          "2021-02-19T00:00:00.000000000",
          "2021-02-22T00:00:00.000000000",
          "2021-02-23T00:00:00.000000000",
          "2021-02-24T00:00:00.000000000",
          "2021-03-22T00:00:00.000000000",
          "2021-03-23T00:00:00.000000000",
          "2021-03-24T00:00:00.000000000",
          "2021-03-25T00:00:00.000000000",
          "2021-03-26T00:00:00.000000000",
          "2021-03-29T00:00:00.000000000",
          "2021-03-30T00:00:00.000000000",
          "2021-03-31T00:00:00.000000000",
          "2021-04-20T00:00:00.000000000",
          "2021-04-21T00:00:00.000000000",
          "2021-04-22T00:00:00.000000000",
          "2021-04-23T00:00:00.000000000",
          "2021-04-26T00:00:00.000000000",
          "2021-04-27T00:00:00.000000000",
          "2021-04-28T00:00:00.000000000",
          "2021-04-29T00:00:00.000000000",
          "2021-04-30T00:00:00.000000000",
          "2021-05-03T00:00:00.000000000",
          "2021-05-04T00:00:00.000000000",
          "2021-05-05T00:00:00.000000000",
          "2021-05-06T00:00:00.000000000",
          "2021-05-07T00:00:00.000000000",
          "2021-05-10T00:00:00.000000000",
          "2021-05-11T00:00:00.000000000",
          "2021-05-26T00:00:00.000000000",
          "2021-05-27T00:00:00.000000000",
          "2021-05-28T00:00:00.000000000",
          "2021-06-01T00:00:00.000000000",
          "2021-06-02T00:00:00.000000000",
          "2021-06-03T00:00:00.000000000",
          "2021-06-04T00:00:00.000000000",
          "2021-06-07T00:00:00.000000000",
          "2021-06-08T00:00:00.000000000",
          "2021-06-09T00:00:00.000000000",
          "2021-06-10T00:00:00.000000000",
          "2021-06-11T00:00:00.000000000",
          "2021-06-14T00:00:00.000000000",
          "2021-06-15T00:00:00.000000000",
          "2021-06-16T00:00:00.000000000",
          "2021-06-17T00:00:00.000000000",
          "2021-06-18T00:00:00.000000000",
          "2021-06-21T00:00:00.000000000",
          "2021-06-22T00:00:00.000000000",
          "2021-06-23T00:00:00.000000000",
          "2021-06-24T00:00:00.000000000",
          "2021-06-25T00:00:00.000000000",
          "2021-06-28T00:00:00.000000000",
          "2021-07-08T00:00:00.000000000",
          "2021-07-09T00:00:00.000000000",
          "2021-07-12T00:00:00.000000000",
          "2021-07-13T00:00:00.000000000",
          "2021-07-14T00:00:00.000000000",
          "2021-07-15T00:00:00.000000000",
          "2021-07-16T00:00:00.000000000",
          "2021-08-02T00:00:00.000000000",
          "2021-08-03T00:00:00.000000000",
          "2021-08-04T00:00:00.000000000",
          "2021-08-05T00:00:00.000000000",
          "2021-08-06T00:00:00.000000000",
          "2021-08-09T00:00:00.000000000",
          "2021-08-10T00:00:00.000000000",
          "2021-08-11T00:00:00.000000000",
          "2021-08-12T00:00:00.000000000",
          "2021-08-13T00:00:00.000000000",
          "2021-08-16T00:00:00.000000000",
          "2021-08-17T00:00:00.000000000",
          "2021-08-18T00:00:00.000000000",
          "2021-08-19T00:00:00.000000000",
          "2021-08-20T00:00:00.000000000",
          "2021-08-23T00:00:00.000000000",
          "2021-08-24T00:00:00.000000000",
          "2021-08-25T00:00:00.000000000",
          "2021-08-26T00:00:00.000000000",
          "2021-09-02T00:00:00.000000000",
          "2021-09-03T00:00:00.000000000",
          "2021-09-07T00:00:00.000000000",
          "2021-09-08T00:00:00.000000000",
          "2021-09-09T00:00:00.000000000",
          "2021-09-10T00:00:00.000000000",
          "2021-09-13T00:00:00.000000000",
          "2021-09-14T00:00:00.000000000",
          "2021-09-15T00:00:00.000000000",
          "2021-09-16T00:00:00.000000000",
          "2021-09-17T00:00:00.000000000",
          "2021-11-11T00:00:00.000000000",
          "2021-11-12T00:00:00.000000000",
          "2021-11-15T00:00:00.000000000",
          "2021-11-16T00:00:00.000000000",
          "2021-11-17T00:00:00.000000000",
          "2021-11-18T00:00:00.000000000",
          "2021-11-19T00:00:00.000000000",
          "2021-11-22T00:00:00.000000000",
          "2021-11-23T00:00:00.000000000",
          "2021-11-24T00:00:00.000000000",
          "2022-11-23T00:00:00.000000000",
          "2022-11-25T00:00:00.000000000",
          "2022-11-28T00:00:00.000000000",
          "2022-11-29T00:00:00.000000000",
          "2022-12-30T00:00:00.000000000",
          "2023-01-03T00:00:00.000000000",
          "2023-01-04T00:00:00.000000000",
          "2023-01-05T00:00:00.000000000",
          "2023-02-14T00:00:00.000000000",
          "2023-02-15T00:00:00.000000000",
          "2023-02-16T00:00:00.000000000",
          "2023-02-17T00:00:00.000000000",
          "2023-04-12T00:00:00.000000000",
          "2023-04-13T00:00:00.000000000",
          "2023-04-14T00:00:00.000000000",
          "2023-04-17T00:00:00.000000000",
          "2023-04-18T00:00:00.000000000",
          "2023-04-19T00:00:00.000000000",
          "2023-04-20T00:00:00.000000000",
          "2023-04-21T00:00:00.000000000",
          "2023-04-24T00:00:00.000000000",
          "2023-04-25T00:00:00.000000000",
          "2023-04-26T00:00:00.000000000",
          "2023-05-10T00:00:00.000000000",
          "2023-05-11T00:00:00.000000000",
          "2023-05-12T00:00:00.000000000",
          "2023-05-15T00:00:00.000000000",
          "2023-05-16T00:00:00.000000000",
          "2023-05-17T00:00:00.000000000",
          "2023-05-18T00:00:00.000000000",
          "2023-05-19T00:00:00.000000000",
          "2023-05-22T00:00:00.000000000",
          "2023-05-23T00:00:00.000000000",
          "2023-05-24T00:00:00.000000000",
          "2023-06-26T00:00:00.000000000",
          "2023-06-27T00:00:00.000000000",
          "2023-06-28T00:00:00.000000000",
          "2023-06-29T00:00:00.000000000",
          "2023-07-25T00:00:00.000000000",
          "2023-07-26T00:00:00.000000000",
          "2023-07-27T00:00:00.000000000",
          "2023-07-28T00:00:00.000000000",
          "2023-07-31T00:00:00.000000000",
          "2023-08-01T00:00:00.000000000",
          "2023-08-02T00:00:00.000000000",
          "2023-08-03T00:00:00.000000000",
          "2023-09-11T00:00:00.000000000",
          "2023-09-12T00:00:00.000000000",
          "2023-09-13T00:00:00.000000000",
          "2023-09-14T00:00:00.000000000",
          "2023-09-15T00:00:00.000000000",
          "2023-09-18T00:00:00.000000000",
          "2023-09-19T00:00:00.000000000",
          "2023-09-20T00:00:00.000000000",
          "2023-11-28T00:00:00.000000000",
          "2023-11-29T00:00:00.000000000",
          "2023-11-30T00:00:00.000000000",
          "2023-12-01T00:00:00.000000000",
          "2023-12-04T00:00:00.000000000",
          "2023-12-05T00:00:00.000000000",
          "2023-12-06T00:00:00.000000000",
          "2023-12-07T00:00:00.000000000",
          "2023-12-08T00:00:00.000000000",
          "2023-12-11T00:00:00.000000000",
          "2023-12-12T00:00:00.000000000",
          "2023-12-27T00:00:00.000000000",
          "2023-12-28T00:00:00.000000000",
          "2023-12-29T00:00:00.000000000",
          "2024-01-02T00:00:00.000000000",
          "2024-01-03T00:00:00.000000000",
          "2024-02-16T00:00:00.000000000",
          "2024-02-20T00:00:00.000000000",
          "2024-02-21T00:00:00.000000000",
          "2024-03-06T00:00:00.000000000",
          "2024-03-07T00:00:00.000000000",
          "2024-03-08T00:00:00.000000000",
          "2024-03-11T00:00:00.000000000",
          "2024-03-12T00:00:00.000000000",
          "2024-03-13T00:00:00.000000000",
          "2024-03-14T00:00:00.000000000",
          "2024-03-15T00:00:00.000000000",
          "2024-03-18T00:00:00.000000000",
          "2024-03-19T00:00:00.000000000",
          "2024-03-20T00:00:00.000000000",
          "2024-04-01T00:00:00.000000000",
          "2024-04-02T00:00:00.000000000",
          "2024-04-03T00:00:00.000000000",
          "2024-04-04T00:00:00.000000000",
          "2024-04-05T00:00:00.000000000",
          "2024-04-08T00:00:00.000000000",
          "2024-04-09T00:00:00.000000000",
          "2024-04-10T00:00:00.000000000",
          "2024-04-11T00:00:00.000000000",
          "2024-05-24T00:00:00.000000000",
          "2024-05-28T00:00:00.000000000",
          "2024-05-29T00:00:00.000000000",
          "2024-05-30T00:00:00.000000000",
          "2024-05-31T00:00:00.000000000",
          "2024-06-03T00:00:00.000000000",
          "2024-06-04T00:00:00.000000000",
          "2024-06-05T00:00:00.000000000",
          "2024-06-26T00:00:00.000000000",
          "2024-06-27T00:00:00.000000000",
          "2024-06-28T00:00:00.000000000",
          "2024-07-01T00:00:00.000000000",
          "2024-07-02T00:00:00.000000000",
          "2024-07-03T00:00:00.000000000",
          "2024-08-28T00:00:00.000000000",
          "2024-08-29T00:00:00.000000000",
          "2024-08-30T00:00:00.000000000",
          "2024-10-02T00:00:00.000000000",
          "2024-10-03T00:00:00.000000000",
          "2024-10-04T00:00:00.000000000",
          "2024-10-07T00:00:00.000000000",
          "2024-10-08T00:00:00.000000000",
          "2024-10-09T00:00:00.000000000",
          "2024-10-22T00:00:00.000000000",
          "2024-10-23T00:00:00.000000000",
          "2024-10-24T00:00:00.000000000",
          "2024-10-25T00:00:00.000000000",
          "2024-10-28T00:00:00.000000000",
          "2024-10-29T00:00:00.000000000",
          "2024-10-30T00:00:00.000000000",
          "2024-12-10T00:00:00.000000000",
          "2024-12-11T00:00:00.000000000",
          "2024-12-12T00:00:00.000000000",
          "2024-12-13T00:00:00.000000000",
          "2024-12-16T00:00:00.000000000",
          "2024-12-17T00:00:00.000000000"
         ],
         "xaxis": "x2",
         "y": {
          "bdata": "AAAAgD2KI0AAAADAzEwiQAAAAOCjcCJAAAAA4KNwIkAAAACAPQojQAAAAMD1KCRAAAAAANejI0AAAABgj8IjQAAAAIDrUSRAAAAAgOtRJ0AAAACA69EnQAAAAOCjcChAAAAAgD2KJkAAAAAgXA8mQAAAAEAzMyZAAAAA4KPwJkAAAADA9SgnQAAAAMD1KCZAAAAAgBSuK0AAAADgepQtQAAAAOB6FCtAAAAA4KPwKkAAAACgmZkvQAAAAEAKlzJAAAAAoJnZM0AAAADgUXg2QAAAAEAKlzNAAAAAQOG6MkAAAAAAKVwyQAAAAGCPwjFAAAAAgD2KMEAAAAAgrkctQAAAACBcjy9AAAAAoJlZMEAAAABA4ToxQAAAAEAKlzBAAAAAoJmZL0AAAADAHgUzQAAAAEAzMzJAAAAAACncMUAAAADgo/AyQAAAAKBwfTVAAAAAwB7FNUAAAADgUXg0QAAAAKBwPTRAAAAAoHB9MkAAAADA9WgxQAAAACBcjzBAAAAAAACALkAAAABAMzMvQAAAACCF6y9AAAAAoEfhMEAAAABAClcwQAAAAMAeBTJAAAAAQArXMUAAAACgcD0wQAAAAIDr0S5AAAAAACncL0AAAABA4fouQAAAAOCj8C9AAAAAwMzML0AAAACAPYotQAAAAAAAgC1AAAAAIIVrLUAAAABACtcqQAAAAIDCdSpAAAAAwMxMKUAAAAAAKdwpQAAAAGCPQi1AAAAAQArXKkAAAAAAKdwqQAAAAEAK1ypAAAAAwPUoKkAAAADgo3AqQAAAAMD1KClAAAAAIFwPKUAAAADgo3AqQAAAAMAeBTFAAAAAoEfhLUAAAAAAKdwuQAAAACCF6ypAAAAAQOF6KUAAAADAzMwoQAAAACCuRydAAAAAYI9CKEAAAAAAKVwoQAAAAEAzsyhAAAAAgBSuKEAAAACgR+EpQAAAAKBwPShAAAAAgML1J0AAAABguJ4oQAAAAEAzsypAAAAA4HqUKUAAAAAgrkctQAAAAIA9iitAAAAA4HpUMUAAAABACtcvQAAAAMD16DFAAAAAoJnZMEAAAABAChcwQAAAAEAzMy9AAAAAANcjMEAAAADgo/AtQAAAAKBwvSpAAAAAoEdhKUAAAAAgrkcpQAAAAGCPQitAAAAAwPUoKUAAAAAAKVwoQAAAAMD1qClAAAAAYLgeKEAAAABAMzMoQAAAAKBwvSlAAAAA4FG4KUAAAACgcD0pQAAAAIDr0ShAAAAA4HqUKEAAAAAgrkcoQAAAACBcDypAAAAAwB6FLEAAAADA9agpQAAAAMDMTCpAAAAAoEdhKEAAAAAgrkcnQAAAAIA9iiZAAAAAACncJUAAAABAM7MlQAAAAIA9iiZAAAAAgOtRKkAAAAAgXI8tQAAAAGC4nipAAAAAIK5HLUAAAABgZuYqQAAAACCuRylAAAAAQOH6KEAAAADgUbgpQAAAAAAAgChAAAAAgOvRKEAAAABA4fonQAAAAIDrUShAAAAAAAAAKUAAAAAAAIAoQAAAACBcDytAAAAA4FG4KUAAAACA61EqQAAAAIDr0StAAAAAwMxMLUAAAABgj8ItQAAAAIDrUSxAAAAA4KNwKkAAAAAgrkcqQAAAAKBwvShAAAAAANcjKEAAAAAAKVwrQAAAAOB6lClAAAAAAACAJ0AAAACgmZknQAAAAAApXCdAAAAAYGZmKEAAAABACtcoQAAAACCuxylAAAAAgOvRKEAAAACgcD0oQAAAAAAAAChAAAAAoJkZKEAAAADgUTgnQAAAAOCjcCxAAAAAANejLUAAAACgR2EvQAAAAGBm5i9AAAAAIFwPMkAAAADAzMwxQAAAAMDMzDRAAAAAwB6FM0AAAAAA1+MyQAAAACCFazFAAAAAYLjeMkAAAACgRyEzQAAAAMD1qDFAAAAAgOuRMEAAAAAA1yMwQAAAAIDCdS9AAAAAANcjL0AAAABgj8IuQAAAAGC4XjBAAAAA4KNwL0AAAADgo/AvQAAAAAAp3C5AAAAAwMxML0AAAADgUTgwQAAAAIDr0S1AAAAAYI/CLUAAAACAPQosQAAAACCF6yxAAAAAwB4FK0AAAABAM7MtQAAAAEAKVy5AAAAAYGZmLUAAAAAgXI8tQAAAAADXIytAAAAAYI9CLUAAAABA4XotQAAAAEDhei9AAAAAQAqXMEAAAADAzAwwQAAAAMD1qCxAAAAAgD2KK0AAAACA69EqQAAAAAAAACtAAAAAYI/CKUAAAABAMzMqQAAAAGC4HitAAAAAgOvRK0AAAABgj0IrQAAAAEDhejBAAAAA4HpUMEAAAAAAKVwtQAAAAMDMTC5AAAAAACncLEAAAAAghWsrQAAAAMDMzCpAAAAA4FG4KkAAAABA4XorQAAAAMD1KCtAAAAAANejKUAAAAAAKVwqQAAAACBcjyxAAAAAoJmZKkAAAACAPQoqQAAAAMAeBShAAAAAANejKEAAAAAAKVwoQAAAAEAzMylAAAAAgBQuKEAAAABACtcoQAAAACBcjyhAAAAAIK5HKkAAAAAAAIAqQAAAAIDCdSlAAAAA4FE4KkAAAACgcD0qQAAAAKCZmS1AAAAAQArXLEAAAACgcL0pQAAAAKBH4S5AAAAAgOtRM0AAAABgZmYzQAAAAKCZGTNAAAAAgD0KMEAAAAAghesvQAAAACBcTzBAAAAAYGbmLUAAAAAAAIAtQAAAACCF6zBAAAAAQDOzL0AAAAAAAIAxQAAAAGBm5jFAAAAAwMxMMUAAAABAM7MuQAAAAMDMTC5AAAAAwPWoLEAAAAAAAIAtQAAAAMDMzC5AAAAAwB6FLkAAAAAgrkcwQAAAAIDCNTBAAAAAANejL0AAAADA9SguQAAAAGC4HixAAAAAACncKUAAAAAA1yMpQAAAACBcjypAAAAAIIXrK0AAAACAFC4sQAAAACBcDypAAAAAACncKUAAAAAgrscoQAAAAAApXClAAAAA4FG4KUAAAADgo/ArQAAAACBcDytAAAAAYGbmLEAAAAAgXA8rQAAAAOBROClAAAAAANcjKEAAAABA4XopQAAAAIDrUShAAAAAwPWoKUAAAACgR+ErQAAAAGC4HjBAAAAAYLjeMUAAAAAAKZwxQAAAAKBH4TBAAAAAAACAMUAAAACgmZkvQAAAAIAUrjBAAAAAIFxPNEAAAACgmVkzQAAAAKBH4TFAAAAAQOH6MkAAAADA9agzQAAAAOB6VDFAAAAA4FE4LUAAAADgo3AsQAAAAEDheitAAAAAQApXLUAAAACgR+EsQAAAAGBm5itAAAAAoJkZLEAAAAAA16MuQAAAAIDr0S1AAAAAwMwMMUAAAAAghesvQAAAAIDrETBAAAAA4FE4MUAAAACgcD0wQAAAACBcjzJAAAAAIFyPNEAAAABguB4zQAAAAIA9CjFAAAAAACncMUAAAAAgrkc0QAAAAADXozJAAAAAgOuRMUAAAADA9SgvQAAAAADXIy1AAAAA4HoUK0AAAAAAKVwrQAAAAOB6lCtAAAAAAACALEAAAAAAAAAsQAAAACCF6yxAAAAAwB4FLEAAAAAghWsrQAAAAMDMTClAAAAA4FE4KkAAAABgZmYqQAAAAMD1qChAAAAA4KNwKkAAAACgmZkoQAAAAMD1qClAAAAAQDMzKkAAAACgcD0pQAAAAIDCdSlAAAAAANcjKEAAAACgR2EpQAAAAAApXClAAAAAAAAAKkAAAACgmRkqQAAAAKCZGShAAAAAIIXrKEAAAADgUbgpQAAAACBcjylAAAAAYI9CKkAAAACAFK4oQAAAAKBwvSdAAAAA4HoUJ0AAAAAAAIAnQAAAAKBwPSlAAAAAgOvRLUAAAAAghesvQAAAAKCZmS1AAAAAgD0KLUAAAACgcD0rQAAAAOBRuC9AAAAAAClcL0AAAABA4fotQAAAAKBH4StAAAAAYI9CKUAAAAAgrkcoQAAAAOB6lChAAAAAwPUoKUAAAAAAAAApQAAAAMAeBSlAAAAA4FE4KUAAAABAClcpQAAAAMDMTClAAAAAACncKkAAAAAA16MtQAAAACBcjytAAAAA4KPwKEAAAACAPQosQAAAAEAzsytAAAAA4HqUK0AAAABgZuYqQAAAAOB6FClAAAAAYLgeKUAAAAAA16MoQAAAACCuxyhAAAAAQArXKEAAAAAA16MoQAAAAEAzMyhAAAAAQDOzKUAAAACA69EpQAAAAIDC9SlAAAAAYLgeLUAAAABA4ToyQAAAACCuRzBAAAAAANdjMEAAAABA4fouQAAAAMD1qC1AAAAAYI/CLEAAAABguB4vQAAAAOB6FDFAAAAAYI/CO0AAAAAAAAA8QAAAAIAUrjlAAAAAgMJ1OEAAAABACtc4QAAAAIDrUThAAAAA4HoUOkAAAABACtc5QAAAAKBwvThAAAAA4KNwOUAAAACgmRk4QAAAAGCPwjhAAAAAgMJ1OEAAAAAgrkc4QAAAAGCPwjdAAAAAoEchNkAAAADAzAw2QAAAAKCZWTVAAAAAYI+CNUAAAACAPYo2QAAAAOBRuDZAAAAAgD2KNkAAAABguF42QAAAACCuBzZAAAAAYGamPEAAAAAAKRw8QAAAAMDMjDtAAAAAQOE6QEAAAADAzKxAQAAAAAApHDdAAAAAQDOzN0AAAADA9ag2QAAAAADXozVAAAAAAABANUAAAABACtc0QAAAAIDrkTRAAAAAgBSuNEAAAADAHkU2QAAAAMAehTZAAAAAIFxPN0AAAADgUbg4QAAAAADX4zZAAAAAAACANkAAAACAFO41QAAAAIDrkTVAAAAAwPUoOUAAAABA4To4QAAAACBcTzdAAAAAIK6HNUAAAABAM7M1QAAAAOB6FDdAAAAAwB7FNkAAAAAAAMA2QAAAAOBR+DpAAAAAQApXOUAAAACA6xE5QAAAAKBwPTdAAAAA4HqUNUAAAACA61E1QAAAAMD16DVAAAAA4KMwN0AAAADAHgU3QAAAAAAAgDVAAAAAoHB9NkAAAADAzAw2QAAAAEAzczdAAAAAACkcN0AAAABAClc1QAAAAKBH4TJAAAAAwMxMNEAAAABAMzM1QAAAACBczzNAAAAAACncMkAAAACgcL00QAAAAAApnDNAAAAAYGZmM0AAAACAFK4yQAAAAAAAgDFAAAAAgMK1MkAAAADgelQxQAAAAADXozFAAAAAIFyPMUAAAAAgrkcxQAAAAAApnDFAAAAAACmcMkAAAAAgXE8yQAAAAEDhejNAAAAAYGYmM0AAAAAA12MyQAAAAOCjsDBAAAAAwPWoM0AAAABACtc1QAAAAAApXDFAAAAAoHC9MEAAAABgj8IwQAAAAGBm5jFAAAAAQOF6MUAAAACAPQoyQAAAACCFazBAAAAAIIVrMEAAAACA6xExQAAAAADX4zFAAAAAoJkZMEAAAADAzEwvQAAAAADXYzBAAAAAwB4FMUAAAABgZiYyQAAAAAAAwDFAAAAAQDOzNEAAAAAA1+MxQAAAAMD1qDBAAAAAgOtRMEAAAADgo/AvQAAAAKBwPS9AAAAAwB6FL0AAAAAAAAAzQAAAAIAULjBAAAAAIIUrMEAAAABguB4xQAAAAOB6VDBAAAAAYI8CMUAAAABAM3MyQAAAAIDCdTNAAAAAgD0KMkAAAADgUfgxQAAAACCuRzFAAAAAYGYmMEAAAADgUbgwQAAAAIA9yjBAAAAAIIUrMEAAAACAFC4vQAAAAGBm5i5AAAAAYLgeMEAAAADA9egxQAAAAIDrkTVAAAAAIIWrNUAAAAAgXI8yQAAAAGBmJjFAAAAA4FE4MUAAAACAPcowQAAAAEAK1zJAAAAAwPVoMEAAAADA9WgwQAAAAADXIzJAAAAAgML1MUAAAADAzMwyQAAAAEAz8zRAAAAAYLheM0AAAACAwnUzQAAAAIAULjJAAAAA4KOwMkAAAAAgXM80QAAAAMD1qDFAAAAAgD1KMEAAAACgcH0wQAAAAGC4XjBAAAAAACkcMUAAAABACpcxQAAAAMD16DFAAAAAIIUrM0AAAACgR2EzQAAAAOB6lDJAAAAAoJlZNEAAAAAAAIA0QAAAAIDCNTZAAAAAANfjNUAAAAAghas1QAAAAGBm5jZAAAAAYI8CNkAAAACAwnU2QAAAAMD16DJAAAAAQOE6MkAAAAAghSs0QAAAAMAeBTRAAAAAQAoXM0AAAADAzMwxQAAAAIDrETFAAAAAQDPzMEAAAADgetQwQAAAAIDCdTBAAAAAIIUrMUAAAADAHsUwQAAAAADX4zBAAAAAYI/CMkAAAABACtcyQAAAAOCj8DBAAAAAgBTuMEAAAAAgrgcxQAAAAGC4HjFAAAAAoHD9MUAAAABguN4wQAAAAMDMDDBAAAAAIFzPMEAAAACAwjUxQAAAACCuhzJAAAAAIK4HNEAAAAAAAIAsQAAAAEDheitAAAAAACncKkAAAADgehQrQAAAAOBRuCtAAAAAoEdhKkAAAACA69EsQAAAAMD1qCpAAAAAYI9CK0AAAAAAKdwrQAAAAEAKFzBAAAAAQArXL0AAAACgmZkrQAAAAIDCdSxAAAAAgML1KkAAAAAA16MpQAAAAOB6lCtAAAAAAAAALEAAAADgUTgsQAAAACCuRy5AAAAAoEdhKUAAAACAwvUpQAAAAEAK1ylAAAAAYI9CKUAAAADA9SgqQAAAAEAzsylAAAAA4KPwKUAAAABguB4qQAAAAEAzsyhAAAAAYI9CKUAAAAAA1yMoQAAAAAAp3ChAAAAA4KPwKEAAAABgZuYoQAAAAGBmZipAAAAA4HoULEAAAABA4XosQAAAAEAK1y5AAAAAgBSuLkAAAAAAAAAtQAAAAKBH4SxAAAAAQOF6LUAAAADgo3AuQAAAAIAUritAAAAAAACAK0AAAADAzMwsQAAAAIDr0SxAAAAAwPWoLEAAAAAA16MrQAAAAOB6FCpAAAAAwMxMK0AAAADgUTgtQAAAAMD1qCxAAAAAoJlZMEAAAAAgrgcwQAAAAKBHYS5AAAAAgML1LUAAAACgmZkvQAAAAIDr0S1AAAAAACncJ0AAAABACtcpQAAAACBcjyxAAAAA4KPwLEAAAABACtcpQAAAAOBROCpAAAAAgOtRKkAAAABgj0IpQAAAAKCZGSlAAAAAQOF6KEAAAACgR+EoQAAAAOCjcChAAAAAIFwPKEAAAACAFC4oQAAAAAApHDFAAAAAwMxML0AAAAAAAAAuQAAAAGBm5jJAAAAAoHB9NEAAAACAwjUzQAAAAADXozZAAAAAIIVrNUAAAAAAKdw0QAAAAEAzMzJAAAAAoHA9M0AAAADgehQzQAAAAOB6VDRAAAAAwMzMM0AAAABAClczQAAAAKCZWTRAAAAAAClcLEAAAADA9SgrQAAAAEAK1ytAAAAAYLieK0AAAACgR2EtQAAAAKBwvS9A",
          "dtype": "f8"
         },
         "yaxis": "y2"
        },
        {
         "marker": {
          "color": "rgb(252,141,98)",
          "size": 6
         },
         "mode": "markers",
         "name": "Regime 1",
         "showlegend": false,
         "type": "scatter",
         "x": [
          "2018-02-02T00:00:00.000000000",
          "2018-02-05T00:00:00.000000000",
          "2018-02-06T00:00:00.000000000",
          "2018-02-07T00:00:00.000000000",
          "2018-02-08T00:00:00.000000000",
          "2018-02-09T00:00:00.000000000",
          "2018-02-12T00:00:00.000000000",
          "2018-02-13T00:00:00.000000000",
          "2018-03-22T00:00:00.000000000",
          "2018-03-23T00:00:00.000000000",
          "2018-03-26T00:00:00.000000000",
          "2018-10-10T00:00:00.000000000",
          "2018-10-11T00:00:00.000000000",
          "2018-10-12T00:00:00.000000000",
          "2018-10-15T00:00:00.000000000",
          "2018-10-16T00:00:00.000000000",
          "2018-12-21T00:00:00.000000000",
          "2018-12-24T00:00:00.000000000",
          "2018-12-26T00:00:00.000000000",
          "2018-12-27T00:00:00.000000000",
          "2019-08-05T00:00:00.000000000",
          "2019-08-06T00:00:00.000000000",
          "2019-08-07T00:00:00.000000000",
          "2020-02-24T00:00:00.000000000",
          "2020-02-25T00:00:00.000000000",
          "2020-02-26T00:00:00.000000000",
          "2020-02-27T00:00:00.000000000",
          "2020-02-28T00:00:00.000000000",
          "2020-03-02T00:00:00.000000000",
          "2020-03-03T00:00:00.000000000",
          "2020-03-04T00:00:00.000000000",
          "2020-03-05T00:00:00.000000000",
          "2020-03-06T00:00:00.000000000",
          "2020-03-09T00:00:00.000000000",
          "2020-03-10T00:00:00.000000000",
          "2020-03-11T00:00:00.000000000",
          "2020-03-12T00:00:00.000000000",
          "2020-03-13T00:00:00.000000000",
          "2020-03-16T00:00:00.000000000",
          "2020-03-17T00:00:00.000000000",
          "2020-03-18T00:00:00.000000000",
          "2020-03-19T00:00:00.000000000",
          "2020-03-20T00:00:00.000000000",
          "2020-03-23T00:00:00.000000000",
          "2020-03-24T00:00:00.000000000",
          "2020-03-25T00:00:00.000000000",
          "2020-03-26T00:00:00.000000000",
          "2020-03-27T00:00:00.000000000",
          "2020-03-30T00:00:00.000000000",
          "2020-03-31T00:00:00.000000000",
          "2020-04-01T00:00:00.000000000",
          "2020-04-02T00:00:00.000000000",
          "2020-04-03T00:00:00.000000000",
          "2020-04-06T00:00:00.000000000",
          "2020-04-07T00:00:00.000000000",
          "2020-04-08T00:00:00.000000000",
          "2020-04-09T00:00:00.000000000",
          "2020-04-13T00:00:00.000000000",
          "2020-04-14T00:00:00.000000000",
          "2020-04-15T00:00:00.000000000",
          "2020-04-16T00:00:00.000000000",
          "2020-04-17T00:00:00.000000000",
          "2020-06-11T00:00:00.000000000",
          "2020-06-12T00:00:00.000000000",
          "2020-06-15T00:00:00.000000000",
          "2020-06-16T00:00:00.000000000",
          "2020-09-03T00:00:00.000000000",
          "2020-09-04T00:00:00.000000000",
          "2020-09-08T00:00:00.000000000",
          "2020-09-09T00:00:00.000000000",
          "2020-09-10T00:00:00.000000000",
          "2020-09-11T00:00:00.000000000",
          "2020-09-14T00:00:00.000000000",
          "2020-09-15T00:00:00.000000000",
          "2020-10-28T00:00:00.000000000",
          "2020-10-29T00:00:00.000000000",
          "2020-10-30T00:00:00.000000000",
          "2020-11-02T00:00:00.000000000",
          "2020-11-03T00:00:00.000000000",
          "2020-11-04T00:00:00.000000000",
          "2020-11-05T00:00:00.000000000",
          "2020-11-06T00:00:00.000000000",
          "2020-11-09T00:00:00.000000000",
          "2020-11-10T00:00:00.000000000",
          "2020-11-11T00:00:00.000000000",
          "2020-11-12T00:00:00.000000000",
          "2020-11-13T00:00:00.000000000",
          "2021-01-27T00:00:00.000000000",
          "2021-01-28T00:00:00.000000000",
          "2021-01-29T00:00:00.000000000",
          "2021-02-01T00:00:00.000000000",
          "2021-05-12T00:00:00.000000000",
          "2021-11-26T00:00:00.000000000",
          "2021-11-29T00:00:00.000000000",
          "2021-11-30T00:00:00.000000000",
          "2021-12-01T00:00:00.000000000",
          "2021-12-02T00:00:00.000000000",
          "2021-12-03T00:00:00.000000000",
          "2021-12-06T00:00:00.000000000",
          "2022-01-20T00:00:00.000000000",
          "2022-01-21T00:00:00.000000000",
          "2022-01-24T00:00:00.000000000",
          "2022-01-25T00:00:00.000000000",
          "2022-01-26T00:00:00.000000000",
          "2022-01-27T00:00:00.000000000",
          "2022-01-28T00:00:00.000000000",
          "2022-01-31T00:00:00.000000000",
          "2022-02-01T00:00:00.000000000",
          "2022-02-02T00:00:00.000000000",
          "2022-02-03T00:00:00.000000000",
          "2022-02-04T00:00:00.000000000",
          "2022-02-07T00:00:00.000000000",
          "2022-02-08T00:00:00.000000000",
          "2022-02-09T00:00:00.000000000",
          "2022-02-22T00:00:00.000000000",
          "2022-02-23T00:00:00.000000000",
          "2022-02-24T00:00:00.000000000",
          "2022-02-25T00:00:00.000000000",
          "2022-02-28T00:00:00.000000000",
          "2022-03-01T00:00:00.000000000",
          "2022-03-02T00:00:00.000000000",
          "2022-03-07T00:00:00.000000000",
          "2022-03-08T00:00:00.000000000",
          "2022-03-09T00:00:00.000000000",
          "2022-03-10T00:00:00.000000000",
          "2022-03-11T00:00:00.000000000",
          "2022-03-14T00:00:00.000000000",
          "2022-03-15T00:00:00.000000000",
          "2022-03-16T00:00:00.000000000",
          "2022-03-17T00:00:00.000000000",
          "2022-03-18T00:00:00.000000000",
          "2022-03-21T00:00:00.000000000",
          "2022-03-22T00:00:00.000000000",
          "2022-03-23T00:00:00.000000000",
          "2022-03-24T00:00:00.000000000",
          "2022-03-25T00:00:00.000000000",
          "2022-03-28T00:00:00.000000000",
          "2022-03-29T00:00:00.000000000",
          "2022-04-22T00:00:00.000000000",
          "2022-04-25T00:00:00.000000000",
          "2022-04-26T00:00:00.000000000",
          "2022-04-27T00:00:00.000000000",
          "2022-04-28T00:00:00.000000000",
          "2022-04-29T00:00:00.000000000",
          "2022-05-02T00:00:00.000000000",
          "2022-05-03T00:00:00.000000000",
          "2022-05-04T00:00:00.000000000",
          "2022-05-05T00:00:00.000000000",
          "2022-05-06T00:00:00.000000000",
          "2022-05-09T00:00:00.000000000",
          "2022-05-10T00:00:00.000000000",
          "2022-05-11T00:00:00.000000000",
          "2022-05-12T00:00:00.000000000",
          "2022-05-13T00:00:00.000000000",
          "2022-05-16T00:00:00.000000000",
          "2022-05-17T00:00:00.000000000",
          "2022-05-18T00:00:00.000000000",
          "2022-05-27T00:00:00.000000000",
          "2022-05-31T00:00:00.000000000",
          "2022-06-01T00:00:00.000000000",
          "2022-06-02T00:00:00.000000000",
          "2022-06-03T00:00:00.000000000",
          "2022-06-06T00:00:00.000000000",
          "2022-06-07T00:00:00.000000000",
          "2022-06-08T00:00:00.000000000",
          "2022-06-09T00:00:00.000000000",
          "2022-06-10T00:00:00.000000000",
          "2022-06-13T00:00:00.000000000",
          "2022-06-14T00:00:00.000000000",
          "2022-06-15T00:00:00.000000000",
          "2022-06-16T00:00:00.000000000",
          "2022-06-17T00:00:00.000000000",
          "2022-06-21T00:00:00.000000000",
          "2022-06-22T00:00:00.000000000",
          "2022-06-23T00:00:00.000000000",
          "2022-06-24T00:00:00.000000000",
          "2022-06-27T00:00:00.000000000",
          "2022-06-28T00:00:00.000000000",
          "2022-06-29T00:00:00.000000000",
          "2022-06-30T00:00:00.000000000",
          "2022-07-25T00:00:00.000000000",
          "2022-07-26T00:00:00.000000000",
          "2022-07-27T00:00:00.000000000",
          "2022-07-28T00:00:00.000000000",
          "2022-07-29T00:00:00.000000000",
          "2022-08-01T00:00:00.000000000",
          "2022-08-02T00:00:00.000000000",
          "2022-08-03T00:00:00.000000000",
          "2022-08-04T00:00:00.000000000",
          "2022-08-05T00:00:00.000000000",
          "2022-08-26T00:00:00.000000000",
          "2022-08-29T00:00:00.000000000",
          "2022-08-30T00:00:00.000000000",
          "2022-08-31T00:00:00.000000000",
          "2022-09-01T00:00:00.000000000",
          "2022-09-02T00:00:00.000000000",
          "2022-09-06T00:00:00.000000000",
          "2022-09-07T00:00:00.000000000",
          "2022-09-08T00:00:00.000000000",
          "2022-09-13T00:00:00.000000000",
          "2022-09-14T00:00:00.000000000",
          "2022-09-15T00:00:00.000000000",
          "2022-09-16T00:00:00.000000000",
          "2022-09-19T00:00:00.000000000",
          "2022-09-20T00:00:00.000000000",
          "2022-09-21T00:00:00.000000000",
          "2022-09-22T00:00:00.000000000",
          "2022-09-23T00:00:00.000000000",
          "2022-09-26T00:00:00.000000000",
          "2022-09-27T00:00:00.000000000",
          "2022-09-28T00:00:00.000000000",
          "2022-09-29T00:00:00.000000000",
          "2022-09-30T00:00:00.000000000",
          "2022-10-03T00:00:00.000000000",
          "2022-10-04T00:00:00.000000000",
          "2022-10-05T00:00:00.000000000",
          "2022-10-06T00:00:00.000000000",
          "2022-10-07T00:00:00.000000000",
          "2022-10-10T00:00:00.000000000",
          "2022-10-11T00:00:00.000000000",
          "2022-10-12T00:00:00.000000000",
          "2022-10-13T00:00:00.000000000",
          "2022-10-14T00:00:00.000000000",
          "2022-10-17T00:00:00.000000000",
          "2022-10-25T00:00:00.000000000",
          "2022-10-26T00:00:00.000000000",
          "2022-10-27T00:00:00.000000000",
          "2022-10-28T00:00:00.000000000",
          "2022-10-31T00:00:00.000000000",
          "2022-11-01T00:00:00.000000000",
          "2022-11-02T00:00:00.000000000",
          "2022-11-10T00:00:00.000000000",
          "2022-11-11T00:00:00.000000000",
          "2022-11-14T00:00:00.000000000",
          "2022-11-15T00:00:00.000000000",
          "2022-11-16T00:00:00.000000000",
          "2022-11-17T00:00:00.000000000",
          "2022-11-18T00:00:00.000000000",
          "2022-11-21T00:00:00.000000000",
          "2023-03-13T00:00:00.000000000",
          "2023-03-14T00:00:00.000000000",
          "2023-03-15T00:00:00.000000000",
          "2023-03-16T00:00:00.000000000",
          "2023-09-21T00:00:00.000000000",
          "2023-09-22T00:00:00.000000000",
          "2023-09-25T00:00:00.000000000",
          "2023-09-26T00:00:00.000000000",
          "2023-09-27T00:00:00.000000000",
          "2023-09-28T00:00:00.000000000",
          "2023-10-26T00:00:00.000000000",
          "2023-10-27T00:00:00.000000000",
          "2023-10-30T00:00:00.000000000",
          "2023-11-03T00:00:00.000000000",
          "2023-11-06T00:00:00.000000000",
          "2023-11-07T00:00:00.000000000",
          "2023-11-08T00:00:00.000000000",
          "2023-11-09T00:00:00.000000000",
          "2023-11-10T00:00:00.000000000",
          "2024-04-18T00:00:00.000000000",
          "2024-04-19T00:00:00.000000000",
          "2024-04-22T00:00:00.000000000",
          "2024-07-24T00:00:00.000000000",
          "2024-07-25T00:00:00.000000000",
          "2024-07-26T00:00:00.000000000",
          "2024-07-29T00:00:00.000000000",
          "2024-08-02T00:00:00.000000000",
          "2024-08-05T00:00:00.000000000",
          "2024-08-06T00:00:00.000000000",
          "2024-08-07T00:00:00.000000000",
          "2024-08-08T00:00:00.000000000",
          "2024-08-09T00:00:00.000000000",
          "2024-08-12T00:00:00.000000000",
          "2024-08-13T00:00:00.000000000",
          "2024-08-14T00:00:00.000000000",
          "2024-08-15T00:00:00.000000000",
          "2024-08-16T00:00:00.000000000",
          "2024-08-19T00:00:00.000000000",
          "2024-08-20T00:00:00.000000000",
          "2024-08-21T00:00:00.000000000",
          "2024-08-22T00:00:00.000000000",
          "2024-08-23T00:00:00.000000000",
          "2024-09-03T00:00:00.000000000",
          "2024-09-04T00:00:00.000000000",
          "2024-09-05T00:00:00.000000000",
          "2024-09-06T00:00:00.000000000",
          "2024-09-09T00:00:00.000000000",
          "2024-09-10T00:00:00.000000000",
          "2024-09-17T00:00:00.000000000",
          "2024-09-18T00:00:00.000000000",
          "2024-09-19T00:00:00.000000000",
          "2024-09-20T00:00:00.000000000",
          "2024-11-07T00:00:00.000000000",
          "2024-11-08T00:00:00.000000000",
          "2024-11-11T00:00:00.000000000",
          "2024-11-12T00:00:00.000000000",
          "2024-11-13T00:00:00.000000000",
          "2024-11-14T00:00:00.000000000",
          "2024-11-15T00:00:00.000000000",
          "2024-12-18T00:00:00.000000000",
          "2024-12-19T00:00:00.000000000",
          "2024-12-20T00:00:00.000000000",
          "2024-12-23T00:00:00.000000000",
          "2024-12-24T00:00:00.000000000",
          "2024-12-26T00:00:00.000000000",
          "2024-12-27T00:00:00.000000000",
          "2024-12-30T00:00:00.000000000",
          "2024-12-31T00:00:00.000000000"
         ],
         "xaxis": "x2",
         "y": {
          "bdata": "AAAAIFxPMUAAAADA9ahCQAAAAEDh+j1AAAAAQOG6O0AAAABA4bpAQAAAACBcDz1AAAAAACmcOUAAAADgUfg4QAAAAEAKVzdAAAAAYLjeOEAAAAAgrgc1QAAAAIDC9TZAAAAAQOH6OEAAAAAgXE81QAAAAMDMTDVAAAAAYLieMUAAAAAAKRw+QAAAAMD1CEJAAAAAwPVoPkAAAACAwvU9QAAAAEAKlzhAAAAAIIUrNEAAAACgcH0zQAAAACCuBzlAAAAAoJnZO0AAAAAgXI87QAAAAOB6lENAAAAAgBQOREAAAACAwrVAQAAAAMD1aEJAAAAAoHD9P0AAAAAgXM9DQAAAAOBR+ERAAAAAQOE6S0AAAABgZqZHQAAAAEAz80pAAAAAgBTeUkAAAACAPepMQAAAAAAprFRAAAAAgD36UkAAAADAzBxTQAAAAAAAAFJAAAAAYI+CUEAAAAAghctOQAAAAIDC1U5AAAAAoJn5T0AAAAAAAIBOQAAAAGCPYlBAAAAAgD2KTEAAAADAHsVKQAAAACCuh0xAAAAA4Hp0SUAAAABgZmZHQAAAAGC4nkZAAAAAoJlZR0AAAADAzKxFQAAAAIDC1URAAAAAgMKVREAAAACgR+FCQAAAACCFa0RAAAAAgBQOREAAAABAMxNDQAAAAMAeZURAAAAAIIULQkAAAABAMzNBQAAAAIDC1UBAAAAAwMzMQEAAAAAAAMA+QAAAAIDCdT9AAAAAIFzPPEAAAACAwrU9QAAAAGC43jpAAAAAoJnZOUAAAABACpc5QAAAAADXI0RAAAAAIIXLQkAAAABgjwJDQAAAAOCjkEJAAAAAYGbGQUAAAACA65E9QAAAAOB6lDtAAAAAACncOEAAAAAAAMA5QAAAAMDMzDhAAAAAQDNzN0AAAACgmVk5QAAAAKCZGTdAAAAAQOGaQkAAAACAwjU+QAAAACCFi0BAAAAAoHA9PkAAAABACpc7QAAAAGC4njxAAAAAgML1NkAAAADgozA7QAAAAGC4Hj9AAAAAQDPzO0AAAAAghas+QAAAAIAULjtAAAAAQAqXOUAAAACgmdk8QAAAAGBm5j1AAAAAwPUoP0AAAACAwvU/QAAAAKBwfT5AAAAAwPWoO0AAAADgetQ4QAAAAIDC9TVAAAAAQAoXNkAAAACgmVk4QAAAAOBRODdAAAAAACncNkAAAADgo3A1QAAAAIDC9TNAAAAAIFzPPEAAAADAHgU/QAAAAIDrUT5AAAAAQAqXO0AAAABgZiY+QAAAAMD1qEBAAAAAoHC9PkAAAACgmTlCQAAAAOCjkEFAAAAAoJk5QEAAAABA4To+QAAAAAAAwD5AAAAAwB7FP0AAAADgetQ9QAAAACCFqzpAAAAAIIWrOUAAAABguN43QAAAACCuhzdAAAAA4KPwNkAAAACA65E3QAAAACCFqzVAAAAAIFzPNEAAAACgR6EzQAAAAGBm5jJAAAAAgMI1PEAAAADAHgU7QAAAAGCPwkBAAAAAoJmZP0AAAACgcP09QAAAAEAzs0BAAAAAIIUrQEAAAAAAAEA9QAAAACCFazlAAAAAQDMzP0AAAADgozA+QAAAAAAAYEFAAAAAYLh+QEAAAAAgrkdAQAAAAMAexT9AAAAAYLjePEAAAADgUXg7QAAAAKCZGTpAAAAAgML1PkAAAADgUbg5QAAAAOCjMDpAAAAA4KOwOUAAAADgUbg4QAAAAIA9yjhAAAAAgOsROUAAAADAHgU4QAAAAIDC9TdAAAAAQAoXOkAAAAAAAMA7QAAAAGCPAkFAAAAA4FFYQEAAAABguJ49QAAAAKCZeUBAAAAAoEchP0AAAADgozA+QAAAAEAz8zxAAAAAwMwMPUAAAABA4To7QAAAAEAz8zpAAAAAAClcPEAAAADA9Sg8QAAAAIDCtTxAAAAAAClcN0AAAADgo7A4QAAAAKBwPTdAAAAA4HpUNkAAAADgelQ1QAAAAEAK1zZAAAAAgBTuN0AAAABAM/M1QAAAAOCjcDVAAAAAYGYmNUAAAAAgXI85QAAAAIDCNTpAAAAAgMI1OkAAAABguN45QAAAACBcjzlAAAAA4FF4OUAAAADA9eg6QAAAAADXozhAAAAAACmcN0AAAADAHkU7QAAAAMD1KDpAAAAAwB5FOkAAAADAzEw6QAAAAGCPwjlAAAAAwPUoO0AAAACgcP07QAAAAKCZWTtAAAAAIIXrPUAAAACgRyFAQAAAAMDMTEBAAAAAgBQuPkAAAABACtc/QAAAAGC4nj9AAAAAoJkZPkAAAACA6xE9QAAAAMDMjDxAAAAAwB6FPkAAAAAAKVw/QAAAAKCZOUBAAAAA4KPQQEAAAADA9chAQAAAAOCj8D9AAAAAYI8CQEAAAABguF4/QAAAAIDCdTxAAAAAIK5HO0AAAAAA12M7QAAAAAAAwDlAAAAAoEfhOUAAAAAgXM85QAAAAAAp3DlAAAAAIK6HN0AAAADAHoU2QAAAAEDhujdAAAAAgD2KOEAAAAAAKRw4QAAAAIAU7jdAAAAAYLgeN0AAAAAAKVw2QAAAAMAehTpAAAAAQOG6N0AAAAAA1yM6QAAAAKBw/TZAAAAAgD2KMUAAAABAMzMxQAAAAGBm5jBAAAAA4KPwMkAAAADgUTgyQAAAAEAKVzFAAAAAgBSuNEAAAADAHkU1QAAAAAAAwDNAAAAAgOvRLUAAAAAgrsctQAAAAGC4ni1AAAAAYGbmLEAAAADgepQuQAAAAEAKVyxAAAAAAAAAMkAAAACAwrUyQAAAAOCj8DBAAAAAgD0KMkAAAACAwnUyQAAAAADXYzBAAAAAoJmZMEAAAAAA12M3QAAAAMD1SENAAAAAgMK1O0AAAACgmdk7QAAAAIA9yjdAAAAAYLheNEAAAACAwrU0QAAAAGC4HjJAAAAA4KMwMEAAAACAwnUuQAAAAKCZmS1AAAAAwMxMLUAAAABgj8IvQAAAAMAeRTBAAAAAwMyMMUAAAADgUbgvQAAAAOBRuDRAAAAAgOtRNUAAAABgZuYzQAAAAKBHYTZAAAAAQDNzM0AAAADgehQzQAAAAAApnDFAAAAAQOE6MkAAAADgelQwQAAAAGBmJjBAAAAAYGZmLkAAAACgR+EtQAAAAOCj8C1AAAAAIIVrLUAAAACAPQosQAAAAGC4nixAAAAAANcjMEAAAABguJ47QAAAAEAKFzhAAAAAAClcMkAAAAAgrscwQAAAAIA9iixAAAAAgMJ1LUAAAABgZuYvQAAAAGBmZjFAAAAAoJlZMUA=",
          "dtype": "f8"
         },
         "yaxis": "y2"
        },
        {
         "marker": {
          "color": "rgb(141,160,203)",
          "size": 6
         },
         "mode": "markers",
         "name": "Regime 2",
         "showlegend": false,
         "type": "scatter",
         "x": [
          "2018-02-14T00:00:00.000000000",
          "2018-02-15T00:00:00.000000000",
          "2018-02-16T00:00:00.000000000",
          "2018-02-20T00:00:00.000000000",
          "2018-02-21T00:00:00.000000000",
          "2018-02-22T00:00:00.000000000",
          "2018-02-23T00:00:00.000000000",
          "2018-03-27T00:00:00.000000000",
          "2018-03-28T00:00:00.000000000",
          "2018-03-29T00:00:00.000000000",
          "2018-04-02T00:00:00.000000000",
          "2018-04-03T00:00:00.000000000",
          "2018-04-04T00:00:00.000000000",
          "2018-10-17T00:00:00.000000000",
          "2018-10-18T00:00:00.000000000",
          "2018-10-19T00:00:00.000000000",
          "2018-10-22T00:00:00.000000000",
          "2018-10-23T00:00:00.000000000",
          "2018-10-24T00:00:00.000000000",
          "2018-10-25T00:00:00.000000000",
          "2018-10-26T00:00:00.000000000",
          "2018-10-29T00:00:00.000000000",
          "2018-10-30T00:00:00.000000000",
          "2018-10-31T00:00:00.000000000",
          "2018-11-01T00:00:00.000000000",
          "2018-11-02T00:00:00.000000000",
          "2018-11-05T00:00:00.000000000",
          "2018-11-06T00:00:00.000000000",
          "2018-11-07T00:00:00.000000000",
          "2018-11-08T00:00:00.000000000",
          "2018-11-09T00:00:00.000000000",
          "2018-11-12T00:00:00.000000000",
          "2018-11-13T00:00:00.000000000",
          "2018-11-14T00:00:00.000000000",
          "2018-11-15T00:00:00.000000000",
          "2018-11-16T00:00:00.000000000",
          "2018-11-19T00:00:00.000000000",
          "2018-11-20T00:00:00.000000000",
          "2018-11-21T00:00:00.000000000",
          "2018-11-23T00:00:00.000000000",
          "2018-11-26T00:00:00.000000000",
          "2018-11-27T00:00:00.000000000",
          "2018-11-28T00:00:00.000000000",
          "2018-11-29T00:00:00.000000000",
          "2018-11-30T00:00:00.000000000",
          "2018-12-03T00:00:00.000000000",
          "2018-12-04T00:00:00.000000000",
          "2018-12-06T00:00:00.000000000",
          "2018-12-07T00:00:00.000000000",
          "2018-12-10T00:00:00.000000000",
          "2018-12-11T00:00:00.000000000",
          "2018-12-12T00:00:00.000000000",
          "2018-12-13T00:00:00.000000000",
          "2018-12-14T00:00:00.000000000",
          "2018-12-17T00:00:00.000000000",
          "2018-12-18T00:00:00.000000000",
          "2018-12-19T00:00:00.000000000",
          "2018-12-20T00:00:00.000000000",
          "2018-12-28T00:00:00.000000000",
          "2018-12-31T00:00:00.000000000",
          "2019-01-02T00:00:00.000000000",
          "2019-01-03T00:00:00.000000000",
          "2019-01-04T00:00:00.000000000",
          "2019-01-07T00:00:00.000000000",
          "2019-01-08T00:00:00.000000000",
          "2019-01-09T00:00:00.000000000",
          "2019-01-10T00:00:00.000000000",
          "2019-01-11T00:00:00.000000000",
          "2019-01-14T00:00:00.000000000",
          "2019-01-15T00:00:00.000000000",
          "2019-01-16T00:00:00.000000000",
          "2019-05-13T00:00:00.000000000",
          "2019-05-14T00:00:00.000000000",
          "2019-05-15T00:00:00.000000000",
          "2019-05-16T00:00:00.000000000",
          "2019-05-31T00:00:00.000000000",
          "2019-06-03T00:00:00.000000000",
          "2019-06-04T00:00:00.000000000",
          "2019-06-05T00:00:00.000000000",
          "2019-06-06T00:00:00.000000000",
          "2019-06-07T00:00:00.000000000",
          "2019-06-10T00:00:00.000000000",
          "2019-06-11T00:00:00.000000000",
          "2019-06-12T00:00:00.000000000",
          "2019-06-13T00:00:00.000000000",
          "2019-06-14T00:00:00.000000000",
          "2019-08-08T00:00:00.000000000",
          "2019-08-09T00:00:00.000000000",
          "2019-08-12T00:00:00.000000000",
          "2019-08-13T00:00:00.000000000",
          "2019-08-14T00:00:00.000000000",
          "2019-08-15T00:00:00.000000000",
          "2019-08-16T00:00:00.000000000",
          "2019-08-23T00:00:00.000000000",
          "2019-08-26T00:00:00.000000000",
          "2019-09-05T00:00:00.000000000",
          "2019-09-06T00:00:00.000000000",
          "2019-09-09T00:00:00.000000000",
          "2019-09-10T00:00:00.000000000",
          "2020-01-31T00:00:00.000000000",
          "2020-02-03T00:00:00.000000000",
          "2020-02-04T00:00:00.000000000",
          "2020-02-05T00:00:00.000000000",
          "2020-02-06T00:00:00.000000000",
          "2020-02-07T00:00:00.000000000",
          "2020-02-10T00:00:00.000000000",
          "2020-02-11T00:00:00.000000000",
          "2020-02-12T00:00:00.000000000",
          "2020-02-13T00:00:00.000000000",
          "2020-02-14T00:00:00.000000000",
          "2020-04-20T00:00:00.000000000",
          "2020-04-21T00:00:00.000000000",
          "2020-04-22T00:00:00.000000000",
          "2020-04-23T00:00:00.000000000",
          "2020-04-24T00:00:00.000000000",
          "2020-04-27T00:00:00.000000000",
          "2020-04-28T00:00:00.000000000",
          "2020-04-29T00:00:00.000000000",
          "2020-04-30T00:00:00.000000000",
          "2020-05-01T00:00:00.000000000",
          "2020-05-04T00:00:00.000000000",
          "2020-05-05T00:00:00.000000000",
          "2020-05-06T00:00:00.000000000",
          "2020-05-07T00:00:00.000000000",
          "2020-05-08T00:00:00.000000000",
          "2020-05-11T00:00:00.000000000",
          "2020-05-12T00:00:00.000000000",
          "2020-05-13T00:00:00.000000000",
          "2020-05-14T00:00:00.000000000",
          "2020-05-15T00:00:00.000000000",
          "2020-05-18T00:00:00.000000000",
          "2020-05-19T00:00:00.000000000",
          "2020-05-20T00:00:00.000000000",
          "2020-05-21T00:00:00.000000000",
          "2020-05-22T00:00:00.000000000",
          "2020-05-26T00:00:00.000000000",
          "2020-05-27T00:00:00.000000000",
          "2020-05-28T00:00:00.000000000",
          "2020-05-29T00:00:00.000000000",
          "2020-06-01T00:00:00.000000000",
          "2020-06-02T00:00:00.000000000",
          "2020-06-03T00:00:00.000000000",
          "2020-06-04T00:00:00.000000000",
          "2020-06-05T00:00:00.000000000",
          "2020-06-08T00:00:00.000000000",
          "2020-06-09T00:00:00.000000000",
          "2020-06-10T00:00:00.000000000",
          "2020-06-17T00:00:00.000000000",
          "2020-06-18T00:00:00.000000000",
          "2020-06-19T00:00:00.000000000",
          "2020-06-22T00:00:00.000000000",
          "2020-06-23T00:00:00.000000000",
          "2020-06-24T00:00:00.000000000",
          "2020-06-25T00:00:00.000000000",
          "2020-06-26T00:00:00.000000000",
          "2020-06-29T00:00:00.000000000",
          "2020-06-30T00:00:00.000000000",
          "2020-07-01T00:00:00.000000000",
          "2020-07-02T00:00:00.000000000",
          "2020-07-06T00:00:00.000000000",
          "2020-07-07T00:00:00.000000000",
          "2020-07-08T00:00:00.000000000",
          "2020-07-09T00:00:00.000000000",
          "2020-07-10T00:00:00.000000000",
          "2020-07-13T00:00:00.000000000",
          "2020-07-14T00:00:00.000000000",
          "2020-08-05T00:00:00.000000000",
          "2020-08-06T00:00:00.000000000",
          "2020-08-07T00:00:00.000000000",
          "2020-08-10T00:00:00.000000000",
          "2020-08-11T00:00:00.000000000",
          "2020-08-12T00:00:00.000000000",
          "2020-08-26T00:00:00.000000000",
          "2020-08-27T00:00:00.000000000",
          "2020-08-28T00:00:00.000000000",
          "2020-08-31T00:00:00.000000000",
          "2020-09-01T00:00:00.000000000",
          "2020-09-02T00:00:00.000000000",
          "2020-09-16T00:00:00.000000000",
          "2020-09-17T00:00:00.000000000",
          "2020-09-18T00:00:00.000000000",
          "2020-09-21T00:00:00.000000000",
          "2020-09-22T00:00:00.000000000",
          "2020-09-23T00:00:00.000000000",
          "2020-09-24T00:00:00.000000000",
          "2020-09-25T00:00:00.000000000",
          "2020-09-28T00:00:00.000000000",
          "2020-09-29T00:00:00.000000000",
          "2020-09-30T00:00:00.000000000",
          "2020-10-01T00:00:00.000000000",
          "2020-10-02T00:00:00.000000000",
          "2020-10-05T00:00:00.000000000",
          "2020-10-06T00:00:00.000000000",
          "2020-10-07T00:00:00.000000000",
          "2020-10-08T00:00:00.000000000",
          "2020-10-09T00:00:00.000000000",
          "2020-10-12T00:00:00.000000000",
          "2020-10-13T00:00:00.000000000",
          "2020-10-14T00:00:00.000000000",
          "2020-10-15T00:00:00.000000000",
          "2020-10-16T00:00:00.000000000",
          "2020-10-19T00:00:00.000000000",
          "2020-10-20T00:00:00.000000000",
          "2020-11-16T00:00:00.000000000",
          "2020-11-17T00:00:00.000000000",
          "2020-11-18T00:00:00.000000000",
          "2020-12-01T00:00:00.000000000",
          "2020-12-02T00:00:00.000000000",
          "2020-12-03T00:00:00.000000000",
          "2020-12-04T00:00:00.000000000",
          "2020-12-07T00:00:00.000000000",
          "2021-01-07T00:00:00.000000000",
          "2021-01-08T00:00:00.000000000",
          "2021-01-11T00:00:00.000000000",
          "2021-01-12T00:00:00.000000000",
          "2021-01-13T00:00:00.000000000",
          "2021-01-14T00:00:00.000000000",
          "2021-01-15T00:00:00.000000000",
          "2021-02-02T00:00:00.000000000",
          "2021-02-03T00:00:00.000000000",
          "2021-02-04T00:00:00.000000000",
          "2021-02-05T00:00:00.000000000",
          "2021-02-08T00:00:00.000000000",
          "2021-02-09T00:00:00.000000000",
          "2021-02-10T00:00:00.000000000",
          "2021-02-11T00:00:00.000000000",
          "2021-02-12T00:00:00.000000000",
          "2021-02-16T00:00:00.000000000",
          "2021-02-25T00:00:00.000000000",
          "2021-02-26T00:00:00.000000000",
          "2021-03-01T00:00:00.000000000",
          "2021-03-02T00:00:00.000000000",
          "2021-03-03T00:00:00.000000000",
          "2021-03-04T00:00:00.000000000",
          "2021-03-05T00:00:00.000000000",
          "2021-03-08T00:00:00.000000000",
          "2021-03-09T00:00:00.000000000",
          "2021-03-10T00:00:00.000000000",
          "2021-03-11T00:00:00.000000000",
          "2021-03-12T00:00:00.000000000",
          "2021-03-15T00:00:00.000000000",
          "2021-03-16T00:00:00.000000000",
          "2021-03-17T00:00:00.000000000",
          "2021-03-18T00:00:00.000000000",
          "2021-03-19T00:00:00.000000000",
          "2021-04-01T00:00:00.000000000",
          "2021-04-05T00:00:00.000000000",
          "2021-04-06T00:00:00.000000000",
          "2021-04-07T00:00:00.000000000",
          "2021-04-08T00:00:00.000000000",
          "2021-04-09T00:00:00.000000000",
          "2021-04-12T00:00:00.000000000",
          "2021-04-13T00:00:00.000000000",
          "2021-04-14T00:00:00.000000000",
          "2021-04-15T00:00:00.000000000",
          "2021-04-16T00:00:00.000000000",
          "2021-04-19T00:00:00.000000000",
          "2021-05-13T00:00:00.000000000",
          "2021-05-14T00:00:00.000000000",
          "2021-05-17T00:00:00.000000000",
          "2021-05-18T00:00:00.000000000",
          "2021-05-19T00:00:00.000000000",
          "2021-05-20T00:00:00.000000000",
          "2021-05-21T00:00:00.000000000",
          "2021-05-24T00:00:00.000000000",
          "2021-05-25T00:00:00.000000000",
          "2021-06-29T00:00:00.000000000",
          "2021-06-30T00:00:00.000000000",
          "2021-07-01T00:00:00.000000000",
          "2021-07-02T00:00:00.000000000",
          "2021-07-06T00:00:00.000000000",
          "2021-07-07T00:00:00.000000000",
          "2021-07-19T00:00:00.000000000",
          "2021-07-20T00:00:00.000000000",
          "2021-07-21T00:00:00.000000000",
          "2021-07-22T00:00:00.000000000",
          "2021-07-23T00:00:00.000000000",
          "2021-07-26T00:00:00.000000000",
          "2021-07-27T00:00:00.000000000",
          "2021-07-28T00:00:00.000000000",
          "2021-07-29T00:00:00.000000000",
          "2021-07-30T00:00:00.000000000",
          "2021-08-27T00:00:00.000000000",
          "2021-08-30T00:00:00.000000000",
          "2021-08-31T00:00:00.000000000",
          "2021-09-01T00:00:00.000000000",
          "2021-09-20T00:00:00.000000000",
          "2021-09-21T00:00:00.000000000",
          "2021-09-22T00:00:00.000000000",
          "2021-09-23T00:00:00.000000000",
          "2021-09-24T00:00:00.000000000",
          "2021-09-27T00:00:00.000000000",
          "2021-09-28T00:00:00.000000000",
          "2021-09-29T00:00:00.000000000",
          "2021-09-30T00:00:00.000000000",
          "2021-10-01T00:00:00.000000000",
          "2021-10-04T00:00:00.000000000",
          "2021-10-05T00:00:00.000000000",
          "2021-10-06T00:00:00.000000000",
          "2021-10-07T00:00:00.000000000",
          "2021-10-08T00:00:00.000000000",
          "2021-10-11T00:00:00.000000000",
          "2021-10-12T00:00:00.000000000",
          "2021-10-13T00:00:00.000000000",
          "2021-10-14T00:00:00.000000000",
          "2021-10-15T00:00:00.000000000",
          "2021-10-18T00:00:00.000000000",
          "2021-10-19T00:00:00.000000000",
          "2021-10-20T00:00:00.000000000",
          "2021-10-21T00:00:00.000000000",
          "2021-10-22T00:00:00.000000000",
          "2021-10-25T00:00:00.000000000",
          "2021-10-26T00:00:00.000000000",
          "2021-10-27T00:00:00.000000000",
          "2021-10-28T00:00:00.000000000",
          "2021-10-29T00:00:00.000000000",
          "2021-11-01T00:00:00.000000000",
          "2021-11-02T00:00:00.000000000",
          "2021-11-03T00:00:00.000000000",
          "2021-11-04T00:00:00.000000000",
          "2021-11-05T00:00:00.000000000",
          "2021-11-08T00:00:00.000000000",
          "2021-11-09T00:00:00.000000000",
          "2021-11-10T00:00:00.000000000",
          "2021-12-07T00:00:00.000000000",
          "2021-12-08T00:00:00.000000000",
          "2021-12-09T00:00:00.000000000",
          "2021-12-10T00:00:00.000000000",
          "2021-12-13T00:00:00.000000000",
          "2021-12-14T00:00:00.000000000",
          "2021-12-15T00:00:00.000000000",
          "2021-12-16T00:00:00.000000000",
          "2021-12-17T00:00:00.000000000",
          "2021-12-20T00:00:00.000000000",
          "2021-12-21T00:00:00.000000000",
          "2021-12-22T00:00:00.000000000",
          "2021-12-23T00:00:00.000000000",
          "2021-12-27T00:00:00.000000000",
          "2021-12-28T00:00:00.000000000",
          "2021-12-29T00:00:00.000000000",
          "2021-12-30T00:00:00.000000000",
          "2021-12-31T00:00:00.000000000",
          "2022-01-03T00:00:00.000000000",
          "2022-01-04T00:00:00.000000000",
          "2022-01-05T00:00:00.000000000",
          "2022-01-06T00:00:00.000000000",
          "2022-01-07T00:00:00.000000000",
          "2022-01-10T00:00:00.000000000",
          "2022-01-11T00:00:00.000000000",
          "2022-01-12T00:00:00.000000000",
          "2022-01-13T00:00:00.000000000",
          "2022-01-14T00:00:00.000000000",
          "2022-01-18T00:00:00.000000000",
          "2022-01-19T00:00:00.000000000",
          "2022-02-10T00:00:00.000000000",
          "2022-02-11T00:00:00.000000000",
          "2022-02-14T00:00:00.000000000",
          "2022-02-15T00:00:00.000000000",
          "2022-02-16T00:00:00.000000000",
          "2022-02-17T00:00:00.000000000",
          "2022-02-18T00:00:00.000000000",
          "2022-03-03T00:00:00.000000000",
          "2022-03-04T00:00:00.000000000",
          "2022-03-30T00:00:00.000000000",
          "2022-03-31T00:00:00.000000000",
          "2022-04-01T00:00:00.000000000",
          "2022-04-04T00:00:00.000000000",
          "2022-04-05T00:00:00.000000000",
          "2022-04-06T00:00:00.000000000",
          "2022-04-07T00:00:00.000000000",
          "2022-04-08T00:00:00.000000000",
          "2022-04-11T00:00:00.000000000",
          "2022-04-12T00:00:00.000000000",
          "2022-04-13T00:00:00.000000000",
          "2022-04-14T00:00:00.000000000",
          "2022-04-18T00:00:00.000000000",
          "2022-04-19T00:00:00.000000000",
          "2022-04-20T00:00:00.000000000",
          "2022-04-21T00:00:00.000000000",
          "2022-05-19T00:00:00.000000000",
          "2022-05-20T00:00:00.000000000",
          "2022-05-23T00:00:00.000000000",
          "2022-05-24T00:00:00.000000000",
          "2022-05-25T00:00:00.000000000",
          "2022-05-26T00:00:00.000000000",
          "2022-07-01T00:00:00.000000000",
          "2022-07-05T00:00:00.000000000",
          "2022-07-06T00:00:00.000000000",
          "2022-07-07T00:00:00.000000000",
          "2022-07-08T00:00:00.000000000",
          "2022-07-11T00:00:00.000000000",
          "2022-07-12T00:00:00.000000000",
          "2022-07-13T00:00:00.000000000",
          "2022-07-14T00:00:00.000000000",
          "2022-07-15T00:00:00.000000000",
          "2022-07-18T00:00:00.000000000",
          "2022-07-19T00:00:00.000000000",
          "2022-07-20T00:00:00.000000000",
          "2022-07-21T00:00:00.000000000",
          "2022-07-22T00:00:00.000000000",
          "2022-08-08T00:00:00.000000000",
          "2022-08-09T00:00:00.000000000",
          "2022-08-10T00:00:00.000000000",
          "2022-08-11T00:00:00.000000000",
          "2022-08-12T00:00:00.000000000",
          "2022-08-15T00:00:00.000000000",
          "2022-08-16T00:00:00.000000000",
          "2022-08-17T00:00:00.000000000",
          "2022-08-18T00:00:00.000000000",
          "2022-08-19T00:00:00.000000000",
          "2022-08-22T00:00:00.000000000",
          "2022-08-23T00:00:00.000000000",
          "2022-08-24T00:00:00.000000000",
          "2022-08-25T00:00:00.000000000",
          "2022-09-09T00:00:00.000000000",
          "2022-09-12T00:00:00.000000000",
          "2022-10-18T00:00:00.000000000",
          "2022-10-19T00:00:00.000000000",
          "2022-10-20T00:00:00.000000000",
          "2022-10-21T00:00:00.000000000",
          "2022-10-24T00:00:00.000000000",
          "2022-11-03T00:00:00.000000000",
          "2022-11-04T00:00:00.000000000",
          "2022-11-07T00:00:00.000000000",
          "2022-11-08T00:00:00.000000000",
          "2022-11-09T00:00:00.000000000",
          "2022-11-22T00:00:00.000000000",
          "2022-11-30T00:00:00.000000000",
          "2022-12-01T00:00:00.000000000",
          "2022-12-02T00:00:00.000000000",
          "2022-12-05T00:00:00.000000000",
          "2022-12-06T00:00:00.000000000",
          "2022-12-07T00:00:00.000000000",
          "2022-12-08T00:00:00.000000000",
          "2022-12-09T00:00:00.000000000",
          "2022-12-12T00:00:00.000000000",
          "2022-12-13T00:00:00.000000000",
          "2022-12-14T00:00:00.000000000",
          "2022-12-15T00:00:00.000000000",
          "2022-12-16T00:00:00.000000000",
          "2022-12-19T00:00:00.000000000",
          "2022-12-20T00:00:00.000000000",
          "2022-12-21T00:00:00.000000000",
          "2022-12-22T00:00:00.000000000",
          "2022-12-23T00:00:00.000000000",
          "2022-12-27T00:00:00.000000000",
          "2022-12-28T00:00:00.000000000",
          "2022-12-29T00:00:00.000000000",
          "2023-01-06T00:00:00.000000000",
          "2023-01-09T00:00:00.000000000",
          "2023-01-10T00:00:00.000000000",
          "2023-01-11T00:00:00.000000000",
          "2023-01-12T00:00:00.000000000",
          "2023-01-13T00:00:00.000000000",
          "2023-01-17T00:00:00.000000000",
          "2023-01-18T00:00:00.000000000",
          "2023-01-19T00:00:00.000000000",
          "2023-01-20T00:00:00.000000000",
          "2023-01-23T00:00:00.000000000",
          "2023-01-24T00:00:00.000000000",
          "2023-01-25T00:00:00.000000000",
          "2023-01-26T00:00:00.000000000",
          "2023-01-27T00:00:00.000000000",
          "2023-01-30T00:00:00.000000000",
          "2023-01-31T00:00:00.000000000",
          "2023-02-01T00:00:00.000000000",
          "2023-02-02T00:00:00.000000000",
          "2023-02-03T00:00:00.000000000",
          "2023-02-06T00:00:00.000000000",
          "2023-02-07T00:00:00.000000000",
          "2023-02-08T00:00:00.000000000",
          "2023-02-09T00:00:00.000000000",
          "2023-02-10T00:00:00.000000000",
          "2023-02-13T00:00:00.000000000",
          "2023-02-21T00:00:00.000000000",
          "2023-02-22T00:00:00.000000000",
          "2023-02-23T00:00:00.000000000",
          "2023-02-24T00:00:00.000000000",
          "2023-02-27T00:00:00.000000000",
          "2023-02-28T00:00:00.000000000",
          "2023-03-01T00:00:00.000000000",
          "2023-03-02T00:00:00.000000000",
          "2023-03-03T00:00:00.000000000",
          "2023-03-06T00:00:00.000000000",
          "2023-03-07T00:00:00.000000000",
          "2023-03-08T00:00:00.000000000",
          "2023-03-09T00:00:00.000000000",
          "2023-03-10T00:00:00.000000000",
          "2023-03-17T00:00:00.000000000",
          "2023-03-20T00:00:00.000000000",
          "2023-03-21T00:00:00.000000000",
          "2023-03-22T00:00:00.000000000",
          "2023-03-23T00:00:00.000000000",
          "2023-03-24T00:00:00.000000000",
          "2023-03-27T00:00:00.000000000",
          "2023-03-28T00:00:00.000000000",
          "2023-03-29T00:00:00.000000000",
          "2023-03-30T00:00:00.000000000",
          "2023-03-31T00:00:00.000000000",
          "2023-04-03T00:00:00.000000000",
          "2023-04-04T00:00:00.000000000",
          "2023-04-05T00:00:00.000000000",
          "2023-04-06T00:00:00.000000000",
          "2023-04-10T00:00:00.000000000",
          "2023-04-11T00:00:00.000000000",
          "2023-04-27T00:00:00.000000000",
          "2023-04-28T00:00:00.000000000",
          "2023-05-01T00:00:00.000000000",
          "2023-05-02T00:00:00.000000000",
          "2023-05-03T00:00:00.000000000",
          "2023-05-04T00:00:00.000000000",
          "2023-05-05T00:00:00.000000000",
          "2023-05-08T00:00:00.000000000",
          "2023-05-09T00:00:00.000000000",
          "2023-05-25T00:00:00.000000000",
          "2023-05-26T00:00:00.000000000",
          "2023-05-30T00:00:00.000000000",
          "2023-05-31T00:00:00.000000000",
          "2023-06-01T00:00:00.000000000",
          "2023-06-02T00:00:00.000000000",
          "2023-06-05T00:00:00.000000000",
          "2023-06-06T00:00:00.000000000",
          "2023-06-07T00:00:00.000000000",
          "2023-06-08T00:00:00.000000000",
          "2023-06-09T00:00:00.000000000",
          "2023-06-12T00:00:00.000000000",
          "2023-06-13T00:00:00.000000000",
          "2023-06-14T00:00:00.000000000",
          "2023-06-15T00:00:00.000000000",
          "2023-06-16T00:00:00.000000000",
          "2023-06-20T00:00:00.000000000",
          "2023-06-21T00:00:00.000000000",
          "2023-06-22T00:00:00.000000000",
          "2023-06-23T00:00:00.000000000",
          "2023-06-30T00:00:00.000000000",
          "2023-07-03T00:00:00.000000000",
          "2023-07-05T00:00:00.000000000",
          "2023-07-06T00:00:00.000000000",
          "2023-07-07T00:00:00.000000000",
          "2023-07-10T00:00:00.000000000",
          "2023-07-11T00:00:00.000000000",
          "2023-07-12T00:00:00.000000000",
          "2023-07-13T00:00:00.000000000",
          "2023-07-14T00:00:00.000000000",
          "2023-07-17T00:00:00.000000000",
          "2023-07-18T00:00:00.000000000",
          "2023-07-19T00:00:00.000000000",
          "2023-07-20T00:00:00.000000000",
          "2023-07-21T00:00:00.000000000",
          "2023-07-24T00:00:00.000000000",
          "2023-08-04T00:00:00.000000000",
          "2023-08-07T00:00:00.000000000",
          "2023-08-08T00:00:00.000000000",
          "2023-08-09T00:00:00.000000000",
          "2023-08-10T00:00:00.000000000",
          "2023-08-11T00:00:00.000000000",
          "2023-08-14T00:00:00.000000000",
          "2023-08-15T00:00:00.000000000",
          "2023-08-16T00:00:00.000000000",
          "2023-08-17T00:00:00.000000000",
          "2023-08-18T00:00:00.000000000",
          "2023-08-21T00:00:00.000000000",
          "2023-08-22T00:00:00.000000000",
          "2023-08-23T00:00:00.000000000",
          "2023-08-24T00:00:00.000000000",
          "2023-08-25T00:00:00.000000000",
          "2023-08-28T00:00:00.000000000",
          "2023-08-29T00:00:00.000000000",
          "2023-08-30T00:00:00.000000000",
          "2023-08-31T00:00:00.000000000",
          "2023-09-01T00:00:00.000000000",
          "2023-09-05T00:00:00.000000000",
          "2023-09-06T00:00:00.000000000",
          "2023-09-07T00:00:00.000000000",
          "2023-09-08T00:00:00.000000000",
          "2023-09-29T00:00:00.000000000",
          "2023-10-02T00:00:00.000000000",
          "2023-10-03T00:00:00.000000000",
          "2023-10-04T00:00:00.000000000",
          "2023-10-05T00:00:00.000000000",
          "2023-10-06T00:00:00.000000000",
          "2023-10-09T00:00:00.000000000",
          "2023-10-10T00:00:00.000000000",
          "2023-10-11T00:00:00.000000000",
          "2023-10-12T00:00:00.000000000",
          "2023-10-13T00:00:00.000000000",
          "2023-10-16T00:00:00.000000000",
          "2023-10-17T00:00:00.000000000",
          "2023-10-18T00:00:00.000000000",
          "2023-10-19T00:00:00.000000000",
          "2023-10-20T00:00:00.000000000",
          "2023-10-23T00:00:00.000000000",
          "2023-10-24T00:00:00.000000000",
          "2023-10-25T00:00:00.000000000",
          "2023-10-31T00:00:00.000000000",
          "2023-11-01T00:00:00.000000000",
          "2023-11-02T00:00:00.000000000",
          "2023-11-13T00:00:00.000000000",
          "2023-11-14T00:00:00.000000000",
          "2023-11-15T00:00:00.000000000",
          "2023-11-16T00:00:00.000000000",
          "2023-11-17T00:00:00.000000000",
          "2023-11-20T00:00:00.000000000",
          "2023-11-21T00:00:00.000000000",
          "2023-11-22T00:00:00.000000000",
          "2023-11-24T00:00:00.000000000",
          "2023-11-27T00:00:00.000000000",
          "2023-12-13T00:00:00.000000000",
          "2023-12-14T00:00:00.000000000",
          "2023-12-15T00:00:00.000000000",
          "2023-12-18T00:00:00.000000000",
          "2023-12-19T00:00:00.000000000",
          "2023-12-20T00:00:00.000000000",
          "2023-12-21T00:00:00.000000000",
          "2023-12-22T00:00:00.000000000",
          "2023-12-26T00:00:00.000000000",
          "2024-01-04T00:00:00.000000000",
          "2024-01-05T00:00:00.000000000",
          "2024-01-08T00:00:00.000000000",
          "2024-01-09T00:00:00.000000000",
          "2024-01-10T00:00:00.000000000",
          "2024-01-11T00:00:00.000000000",
          "2024-01-12T00:00:00.000000000",
          "2024-01-16T00:00:00.000000000",
          "2024-01-17T00:00:00.000000000",
          "2024-01-18T00:00:00.000000000",
          "2024-01-19T00:00:00.000000000",
          "2024-01-22T00:00:00.000000000",
          "2024-01-23T00:00:00.000000000",
          "2024-01-24T00:00:00.000000000",
          "2024-01-25T00:00:00.000000000",
          "2024-01-26T00:00:00.000000000",
          "2024-01-29T00:00:00.000000000",
          "2024-01-30T00:00:00.000000000",
          "2024-01-31T00:00:00.000000000",
          "2024-02-01T00:00:00.000000000",
          "2024-02-02T00:00:00.000000000",
          "2024-02-05T00:00:00.000000000",
          "2024-02-06T00:00:00.000000000",
          "2024-02-07T00:00:00.000000000",
          "2024-02-08T00:00:00.000000000",
          "2024-02-09T00:00:00.000000000",
          "2024-02-12T00:00:00.000000000",
          "2024-02-13T00:00:00.000000000",
          "2024-02-14T00:00:00.000000000",
          "2024-02-15T00:00:00.000000000",
          "2024-02-22T00:00:00.000000000",
          "2024-02-23T00:00:00.000000000",
          "2024-02-26T00:00:00.000000000",
          "2024-02-27T00:00:00.000000000",
          "2024-02-28T00:00:00.000000000",
          "2024-02-29T00:00:00.000000000",
          "2024-03-01T00:00:00.000000000",
          "2024-03-04T00:00:00.000000000",
          "2024-03-05T00:00:00.000000000",
          "2024-03-21T00:00:00.000000000",
          "2024-03-22T00:00:00.000000000",
          "2024-03-25T00:00:00.000000000",
          "2024-03-26T00:00:00.000000000",
          "2024-03-27T00:00:00.000000000",
          "2024-03-28T00:00:00.000000000",
          "2024-04-12T00:00:00.000000000",
          "2024-04-15T00:00:00.000000000",
          "2024-04-16T00:00:00.000000000",
          "2024-04-17T00:00:00.000000000",
          "2024-04-23T00:00:00.000000000",
          "2024-04-24T00:00:00.000000000",
          "2024-04-25T00:00:00.000000000",
          "2024-04-26T00:00:00.000000000",
          "2024-04-29T00:00:00.000000000",
          "2024-04-30T00:00:00.000000000",
          "2024-05-01T00:00:00.000000000",
          "2024-05-02T00:00:00.000000000",
          "2024-05-03T00:00:00.000000000",
          "2024-05-06T00:00:00.000000000",
          "2024-05-07T00:00:00.000000000",
          "2024-05-08T00:00:00.000000000",
          "2024-05-09T00:00:00.000000000",
          "2024-05-10T00:00:00.000000000",
          "2024-05-13T00:00:00.000000000",
          "2024-05-14T00:00:00.000000000",
          "2024-05-15T00:00:00.000000000",
          "2024-05-16T00:00:00.000000000",
          "2024-05-17T00:00:00.000000000",
          "2024-05-20T00:00:00.000000000",
          "2024-05-21T00:00:00.000000000",
          "2024-05-22T00:00:00.000000000",
          "2024-05-23T00:00:00.000000000",
          "2024-06-06T00:00:00.000000000",
          "2024-06-07T00:00:00.000000000",
          "2024-06-10T00:00:00.000000000",
          "2024-06-11T00:00:00.000000000",
          "2024-06-12T00:00:00.000000000",
          "2024-06-13T00:00:00.000000000",
          "2024-06-14T00:00:00.000000000",
          "2024-06-17T00:00:00.000000000",
          "2024-06-18T00:00:00.000000000",
          "2024-06-20T00:00:00.000000000",
          "2024-06-21T00:00:00.000000000",
          "2024-06-24T00:00:00.000000000",
          "2024-06-25T00:00:00.000000000",
          "2024-07-05T00:00:00.000000000",
          "2024-07-08T00:00:00.000000000",
          "2024-07-09T00:00:00.000000000",
          "2024-07-10T00:00:00.000000000",
          "2024-07-11T00:00:00.000000000",
          "2024-07-12T00:00:00.000000000",
          "2024-07-15T00:00:00.000000000",
          "2024-07-16T00:00:00.000000000",
          "2024-07-17T00:00:00.000000000",
          "2024-07-18T00:00:00.000000000",
          "2024-07-19T00:00:00.000000000",
          "2024-07-22T00:00:00.000000000",
          "2024-07-23T00:00:00.000000000",
          "2024-07-30T00:00:00.000000000",
          "2024-07-31T00:00:00.000000000",
          "2024-08-01T00:00:00.000000000",
          "2024-08-26T00:00:00.000000000",
          "2024-08-27T00:00:00.000000000",
          "2024-09-11T00:00:00.000000000",
          "2024-09-12T00:00:00.000000000",
          "2024-09-13T00:00:00.000000000",
          "2024-09-16T00:00:00.000000000",
          "2024-09-23T00:00:00.000000000",
          "2024-09-24T00:00:00.000000000",
          "2024-09-25T00:00:00.000000000",
          "2024-09-26T00:00:00.000000000",
          "2024-09-27T00:00:00.000000000",
          "2024-09-30T00:00:00.000000000",
          "2024-10-01T00:00:00.000000000",
          "2024-10-10T00:00:00.000000000",
          "2024-10-11T00:00:00.000000000",
          "2024-10-14T00:00:00.000000000",
          "2024-10-15T00:00:00.000000000",
          "2024-10-16T00:00:00.000000000",
          "2024-10-17T00:00:00.000000000",
          "2024-10-18T00:00:00.000000000",
          "2024-10-21T00:00:00.000000000",
          "2024-10-31T00:00:00.000000000",
          "2024-11-01T00:00:00.000000000",
          "2024-11-04T00:00:00.000000000",
          "2024-11-05T00:00:00.000000000",
          "2024-11-06T00:00:00.000000000",
          "2024-11-18T00:00:00.000000000",
          "2024-11-19T00:00:00.000000000",
          "2024-11-20T00:00:00.000000000",
          "2024-11-21T00:00:00.000000000",
          "2024-11-22T00:00:00.000000000",
          "2024-11-25T00:00:00.000000000",
          "2024-11-26T00:00:00.000000000",
          "2024-11-27T00:00:00.000000000",
          "2024-11-29T00:00:00.000000000",
          "2024-12-02T00:00:00.000000000",
          "2024-12-03T00:00:00.000000000",
          "2024-12-04T00:00:00.000000000",
          "2024-12-05T00:00:00.000000000",
          "2024-12-06T00:00:00.000000000",
          "2024-12-09T00:00:00.000000000"
         ],
         "xaxis": "x2",
         "y": {
          "bdata": "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",
          "dtype": "f8"
         },
         "yaxis": "y2"
        },
        {
         "marker": {
          "color": "rgb(102,194,165)",
          "size": 6
         },
         "mode": "markers",
         "name": "Regime 0",
         "showlegend": false,
         "type": "scatter",
         "x": [
          "2018-01-02T00:00:00.000000000",
          "2018-01-03T00:00:00.000000000",
          "2018-01-04T00:00:00.000000000",
          "2018-01-05T00:00:00.000000000",
          "2018-01-08T00:00:00.000000000",
          "2018-01-09T00:00:00.000000000",
          "2018-01-10T00:00:00.000000000",
          "2018-01-11T00:00:00.000000000",
          "2018-01-12T00:00:00.000000000",
          "2018-01-16T00:00:00.000000000",
          "2018-01-17T00:00:00.000000000",
          "2018-01-18T00:00:00.000000000",
          "2018-01-19T00:00:00.000000000",
          "2018-01-22T00:00:00.000000000",
          "2018-01-23T00:00:00.000000000",
          "2018-01-24T00:00:00.000000000",
          "2018-01-25T00:00:00.000000000",
          "2018-01-26T00:00:00.000000000",
          "2018-01-29T00:00:00.000000000",
          "2018-01-30T00:00:00.000000000",
          "2018-01-31T00:00:00.000000000",
          "2018-02-01T00:00:00.000000000",
          "2018-02-26T00:00:00.000000000",
          "2018-02-27T00:00:00.000000000",
          "2018-02-28T00:00:00.000000000",
          "2018-03-01T00:00:00.000000000",
          "2018-03-02T00:00:00.000000000",
          "2018-03-05T00:00:00.000000000",
          "2018-03-06T00:00:00.000000000",
          "2018-03-07T00:00:00.000000000",
          "2018-03-08T00:00:00.000000000",
          "2018-03-09T00:00:00.000000000",
          "2018-03-12T00:00:00.000000000",
          "2018-03-13T00:00:00.000000000",
          "2018-03-14T00:00:00.000000000",
          "2018-03-15T00:00:00.000000000",
          "2018-03-16T00:00:00.000000000",
          "2018-03-19T00:00:00.000000000",
          "2018-03-20T00:00:00.000000000",
          "2018-03-21T00:00:00.000000000",
          "2018-04-05T00:00:00.000000000",
          "2018-04-06T00:00:00.000000000",
          "2018-04-09T00:00:00.000000000",
          "2018-04-10T00:00:00.000000000",
          "2018-04-11T00:00:00.000000000",
          "2018-04-12T00:00:00.000000000",
          "2018-04-13T00:00:00.000000000",
          "2018-04-16T00:00:00.000000000",
          "2018-04-17T00:00:00.000000000",
          "2018-04-18T00:00:00.000000000",
          "2018-04-19T00:00:00.000000000",
          "2018-04-20T00:00:00.000000000",
          "2018-04-23T00:00:00.000000000",
          "2018-04-24T00:00:00.000000000",
          "2018-04-25T00:00:00.000000000",
          "2018-04-26T00:00:00.000000000",
          "2018-04-27T00:00:00.000000000",
          "2018-04-30T00:00:00.000000000",
          "2018-05-01T00:00:00.000000000",
          "2018-05-02T00:00:00.000000000",
          "2018-05-03T00:00:00.000000000",
          "2018-05-04T00:00:00.000000000",
          "2018-05-07T00:00:00.000000000",
          "2018-05-08T00:00:00.000000000",
          "2018-05-09T00:00:00.000000000",
          "2018-05-10T00:00:00.000000000",
          "2018-05-11T00:00:00.000000000",
          "2018-05-14T00:00:00.000000000",
          "2018-05-15T00:00:00.000000000",
          "2018-05-16T00:00:00.000000000",
          "2018-05-17T00:00:00.000000000",
          "2018-05-18T00:00:00.000000000",
          "2018-05-21T00:00:00.000000000",
          "2018-05-22T00:00:00.000000000",
          "2018-05-23T00:00:00.000000000",
          "2018-05-24T00:00:00.000000000",
          "2018-05-25T00:00:00.000000000",
          "2018-05-29T00:00:00.000000000",
          "2018-05-30T00:00:00.000000000",
          "2018-05-31T00:00:00.000000000",
          "2018-06-01T00:00:00.000000000",
          "2018-06-04T00:00:00.000000000",
          "2018-06-05T00:00:00.000000000",
          "2018-06-06T00:00:00.000000000",
          "2018-06-07T00:00:00.000000000",
          "2018-06-08T00:00:00.000000000",
          "2018-06-11T00:00:00.000000000",
          "2018-06-12T00:00:00.000000000",
          "2018-06-13T00:00:00.000000000",
          "2018-06-14T00:00:00.000000000",
          "2018-06-15T00:00:00.000000000",
          "2018-06-18T00:00:00.000000000",
          "2018-06-19T00:00:00.000000000",
          "2018-06-20T00:00:00.000000000",
          "2018-06-21T00:00:00.000000000",
          "2018-06-22T00:00:00.000000000",
          "2018-06-25T00:00:00.000000000",
          "2018-06-26T00:00:00.000000000",
          "2018-06-27T00:00:00.000000000",
          "2018-06-28T00:00:00.000000000",
          "2018-06-29T00:00:00.000000000",
          "2018-07-02T00:00:00.000000000",
          "2018-07-03T00:00:00.000000000",
          "2018-07-05T00:00:00.000000000",
          "2018-07-06T00:00:00.000000000",
          "2018-07-09T00:00:00.000000000",
          "2018-07-10T00:00:00.000000000",
          "2018-07-11T00:00:00.000000000",
          "2018-07-12T00:00:00.000000000",
          "2018-07-13T00:00:00.000000000",
          "2018-07-16T00:00:00.000000000",
          "2018-07-17T00:00:00.000000000",
          "2018-07-18T00:00:00.000000000",
          "2018-07-19T00:00:00.000000000",
          "2018-07-20T00:00:00.000000000",
          "2018-07-23T00:00:00.000000000",
          "2018-07-24T00:00:00.000000000",
          "2018-07-25T00:00:00.000000000",
          "2018-07-26T00:00:00.000000000",
          "2018-07-27T00:00:00.000000000",
          "2018-07-30T00:00:00.000000000",
          "2018-07-31T00:00:00.000000000",
          "2018-08-01T00:00:00.000000000",
          "2018-08-02T00:00:00.000000000",
          "2018-08-03T00:00:00.000000000",
          "2018-08-06T00:00:00.000000000",
          "2018-08-07T00:00:00.000000000",
          "2018-08-08T00:00:00.000000000",
          "2018-08-09T00:00:00.000000000",
          "2018-08-10T00:00:00.000000000",
          "2018-08-13T00:00:00.000000000",
          "2018-08-14T00:00:00.000000000",
          "2018-08-15T00:00:00.000000000",
          "2018-08-16T00:00:00.000000000",
          "2018-08-17T00:00:00.000000000",
          "2018-08-20T00:00:00.000000000",
          "2018-08-21T00:00:00.000000000",
          "2018-08-22T00:00:00.000000000",
          "2018-08-23T00:00:00.000000000",
          "2018-08-24T00:00:00.000000000",
          "2018-08-27T00:00:00.000000000",
          "2018-08-28T00:00:00.000000000",
          "2018-08-29T00:00:00.000000000",
          "2018-08-30T00:00:00.000000000",
          "2018-08-31T00:00:00.000000000",
          "2018-09-04T00:00:00.000000000",
          "2018-09-05T00:00:00.000000000",
          "2018-09-06T00:00:00.000000000",
          "2018-09-07T00:00:00.000000000",
          "2018-09-10T00:00:00.000000000",
          "2018-09-11T00:00:00.000000000",
          "2018-09-12T00:00:00.000000000",
          "2018-09-13T00:00:00.000000000",
          "2018-09-14T00:00:00.000000000",
          "2018-09-17T00:00:00.000000000",
          "2018-09-18T00:00:00.000000000",
          "2018-09-19T00:00:00.000000000",
          "2018-09-20T00:00:00.000000000",
          "2018-09-21T00:00:00.000000000",
          "2018-09-24T00:00:00.000000000",
          "2018-09-25T00:00:00.000000000",
          "2018-09-26T00:00:00.000000000",
          "2018-09-27T00:00:00.000000000",
          "2018-09-28T00:00:00.000000000",
          "2018-10-01T00:00:00.000000000",
          "2018-10-02T00:00:00.000000000",
          "2018-10-03T00:00:00.000000000",
          "2018-10-04T00:00:00.000000000",
          "2018-10-05T00:00:00.000000000",
          "2018-10-08T00:00:00.000000000",
          "2018-10-09T00:00:00.000000000",
          "2019-01-17T00:00:00.000000000",
          "2019-01-18T00:00:00.000000000",
          "2019-01-22T00:00:00.000000000",
          "2019-01-23T00:00:00.000000000",
          "2019-01-24T00:00:00.000000000",
          "2019-01-25T00:00:00.000000000",
          "2019-01-28T00:00:00.000000000",
          "2019-01-29T00:00:00.000000000",
          "2019-01-30T00:00:00.000000000",
          "2019-01-31T00:00:00.000000000",
          "2019-02-01T00:00:00.000000000",
          "2019-02-04T00:00:00.000000000",
          "2019-02-05T00:00:00.000000000",
          "2019-02-06T00:00:00.000000000",
          "2019-02-07T00:00:00.000000000",
          "2019-02-08T00:00:00.000000000",
          "2019-02-11T00:00:00.000000000",
          "2019-02-12T00:00:00.000000000",
          "2019-02-13T00:00:00.000000000",
          "2019-02-14T00:00:00.000000000",
          "2019-02-15T00:00:00.000000000",
          "2019-02-19T00:00:00.000000000",
          "2019-02-20T00:00:00.000000000",
          "2019-02-21T00:00:00.000000000",
          "2019-02-22T00:00:00.000000000",
          "2019-02-25T00:00:00.000000000",
          "2019-02-26T00:00:00.000000000",
          "2019-02-27T00:00:00.000000000",
          "2019-02-28T00:00:00.000000000",
          "2019-03-01T00:00:00.000000000",
          "2019-03-04T00:00:00.000000000",
          "2019-03-05T00:00:00.000000000",
          "2019-03-06T00:00:00.000000000",
          "2019-03-07T00:00:00.000000000",
          "2019-03-08T00:00:00.000000000",
          "2019-03-11T00:00:00.000000000",
          "2019-03-12T00:00:00.000000000",
          "2019-03-13T00:00:00.000000000",
          "2019-03-14T00:00:00.000000000",
          "2019-03-15T00:00:00.000000000",
          "2019-03-18T00:00:00.000000000",
          "2019-03-19T00:00:00.000000000",
          "2019-03-20T00:00:00.000000000",
          "2019-03-21T00:00:00.000000000",
          "2019-03-22T00:00:00.000000000",
          "2019-03-25T00:00:00.000000000",
          "2019-03-26T00:00:00.000000000",
          "2019-03-27T00:00:00.000000000",
          "2019-03-28T00:00:00.000000000",
          "2019-03-29T00:00:00.000000000",
          "2019-04-01T00:00:00.000000000",
          "2019-04-02T00:00:00.000000000",
          "2019-04-03T00:00:00.000000000",
          "2019-04-04T00:00:00.000000000",
          "2019-04-05T00:00:00.000000000",
          "2019-04-08T00:00:00.000000000",
          "2019-04-09T00:00:00.000000000",
          "2019-04-10T00:00:00.000000000",
          "2019-04-11T00:00:00.000000000",
          "2019-04-12T00:00:00.000000000",
          "2019-04-15T00:00:00.000000000",
          "2019-04-16T00:00:00.000000000",
          "2019-04-17T00:00:00.000000000",
          "2019-04-18T00:00:00.000000000",
          "2019-04-22T00:00:00.000000000",
          "2019-04-23T00:00:00.000000000",
          "2019-04-24T00:00:00.000000000",
          "2019-04-25T00:00:00.000000000",
          "2019-04-26T00:00:00.000000000",
          "2019-04-29T00:00:00.000000000",
          "2019-04-30T00:00:00.000000000",
          "2019-05-01T00:00:00.000000000",
          "2019-05-02T00:00:00.000000000",
          "2019-05-03T00:00:00.000000000",
          "2019-05-06T00:00:00.000000000",
          "2019-05-07T00:00:00.000000000",
          "2019-05-08T00:00:00.000000000",
          "2019-05-09T00:00:00.000000000",
          "2019-05-10T00:00:00.000000000",
          "2019-05-17T00:00:00.000000000",
          "2019-05-20T00:00:00.000000000",
          "2019-05-21T00:00:00.000000000",
          "2019-05-22T00:00:00.000000000",
          "2019-05-23T00:00:00.000000000",
          "2019-05-24T00:00:00.000000000",
          "2019-05-28T00:00:00.000000000",
          "2019-05-29T00:00:00.000000000",
          "2019-05-30T00:00:00.000000000",
          "2019-06-17T00:00:00.000000000",
          "2019-06-18T00:00:00.000000000",
          "2019-06-19T00:00:00.000000000",
          "2019-06-20T00:00:00.000000000",
          "2019-06-21T00:00:00.000000000",
          "2019-06-24T00:00:00.000000000",
          "2019-06-25T00:00:00.000000000",
          "2019-06-26T00:00:00.000000000",
          "2019-06-27T00:00:00.000000000",
          "2019-06-28T00:00:00.000000000",
          "2019-07-01T00:00:00.000000000",
          "2019-07-02T00:00:00.000000000",
          "2019-07-03T00:00:00.000000000",
          "2019-07-05T00:00:00.000000000",
          "2019-07-08T00:00:00.000000000",
          "2019-07-09T00:00:00.000000000",
          "2019-07-10T00:00:00.000000000",
          "2019-07-11T00:00:00.000000000",
          "2019-07-12T00:00:00.000000000",
          "2019-07-15T00:00:00.000000000",
          "2019-07-16T00:00:00.000000000",
          "2019-07-17T00:00:00.000000000",
          "2019-07-18T00:00:00.000000000",
          "2019-07-19T00:00:00.000000000",
          "2019-07-22T00:00:00.000000000",
          "2019-07-23T00:00:00.000000000",
          "2019-07-24T00:00:00.000000000",
          "2019-07-25T00:00:00.000000000",
          "2019-07-26T00:00:00.000000000",
          "2019-07-29T00:00:00.000000000",
          "2019-07-30T00:00:00.000000000",
          "2019-07-31T00:00:00.000000000",
          "2019-08-01T00:00:00.000000000",
          "2019-08-02T00:00:00.000000000",
          "2019-08-19T00:00:00.000000000",
          "2019-08-20T00:00:00.000000000",
          "2019-08-21T00:00:00.000000000",
          "2019-08-22T00:00:00.000000000",
          "2019-08-27T00:00:00.000000000",
          "2019-08-28T00:00:00.000000000",
          "2019-08-29T00:00:00.000000000",
          "2019-08-30T00:00:00.000000000",
          "2019-09-03T00:00:00.000000000",
          "2019-09-04T00:00:00.000000000",
          "2019-09-11T00:00:00.000000000",
          "2019-09-12T00:00:00.000000000",
          "2019-09-13T00:00:00.000000000",
          "2019-09-16T00:00:00.000000000",
          "2019-09-17T00:00:00.000000000",
          "2019-09-18T00:00:00.000000000",
          "2019-09-19T00:00:00.000000000",
          "2019-09-20T00:00:00.000000000",
          "2019-09-23T00:00:00.000000000",
          "2019-09-24T00:00:00.000000000",
          "2019-09-25T00:00:00.000000000",
          "2019-09-26T00:00:00.000000000",
          "2019-09-27T00:00:00.000000000",
          "2019-09-30T00:00:00.000000000",
          "2019-10-01T00:00:00.000000000",
          "2019-10-02T00:00:00.000000000",
          "2019-10-03T00:00:00.000000000",
          "2019-10-04T00:00:00.000000000",
          "2019-10-07T00:00:00.000000000",
          "2019-10-08T00:00:00.000000000",
          "2019-10-09T00:00:00.000000000",
          "2019-10-10T00:00:00.000000000",
          "2019-10-11T00:00:00.000000000",
          "2019-10-14T00:00:00.000000000",
          "2019-10-15T00:00:00.000000000",
          "2019-10-16T00:00:00.000000000",
          "2019-10-17T00:00:00.000000000",
          "2019-10-18T00:00:00.000000000",
          "2019-10-21T00:00:00.000000000",
          "2019-10-22T00:00:00.000000000",
          "2019-10-23T00:00:00.000000000",
          "2019-10-24T00:00:00.000000000",
          "2019-10-25T00:00:00.000000000",
          "2019-10-28T00:00:00.000000000",
          "2019-10-29T00:00:00.000000000",
          "2019-10-30T00:00:00.000000000",
          "2019-10-31T00:00:00.000000000",
          "2019-11-01T00:00:00.000000000",
          "2019-11-04T00:00:00.000000000",
          "2019-11-05T00:00:00.000000000",
          "2019-11-06T00:00:00.000000000",
          "2019-11-07T00:00:00.000000000",
          "2019-11-08T00:00:00.000000000",
          "2019-11-11T00:00:00.000000000",
          "2019-11-12T00:00:00.000000000",
          "2019-11-13T00:00:00.000000000",
          "2019-11-14T00:00:00.000000000",
          "2019-11-15T00:00:00.000000000",
          "2019-11-18T00:00:00.000000000",
          "2019-11-19T00:00:00.000000000",
          "2019-11-20T00:00:00.000000000",
          "2019-11-21T00:00:00.000000000",
          "2019-11-22T00:00:00.000000000",
          "2019-11-25T00:00:00.000000000",
          "2019-11-26T00:00:00.000000000",
          "2019-11-27T00:00:00.000000000",
          "2019-11-29T00:00:00.000000000",
          "2019-12-02T00:00:00.000000000",
          "2019-12-03T00:00:00.000000000",
          "2019-12-04T00:00:00.000000000",
          "2019-12-05T00:00:00.000000000",
          "2019-12-06T00:00:00.000000000",
          "2019-12-09T00:00:00.000000000",
          "2019-12-10T00:00:00.000000000",
          "2019-12-11T00:00:00.000000000",
          "2019-12-12T00:00:00.000000000",
          "2019-12-13T00:00:00.000000000",
          "2019-12-16T00:00:00.000000000",
          "2019-12-17T00:00:00.000000000",
          "2019-12-18T00:00:00.000000000",
          "2019-12-19T00:00:00.000000000",
          "2019-12-20T00:00:00.000000000",
          "2019-12-23T00:00:00.000000000",
          "2019-12-24T00:00:00.000000000",
          "2019-12-26T00:00:00.000000000",
          "2019-12-27T00:00:00.000000000",
          "2019-12-30T00:00:00.000000000",
          "2019-12-31T00:00:00.000000000",
          "2020-01-02T00:00:00.000000000",
          "2020-01-03T00:00:00.000000000",
          "2020-01-06T00:00:00.000000000",
          "2020-01-07T00:00:00.000000000",
          "2020-01-08T00:00:00.000000000",
          "2020-01-09T00:00:00.000000000",
          "2020-01-10T00:00:00.000000000",
          "2020-01-13T00:00:00.000000000",
          "2020-01-14T00:00:00.000000000",
          "2020-01-15T00:00:00.000000000",
          "2020-01-16T00:00:00.000000000",
          "2020-01-17T00:00:00.000000000",
          "2020-01-21T00:00:00.000000000",
          "2020-01-22T00:00:00.000000000",
          "2020-01-23T00:00:00.000000000",
          "2020-01-24T00:00:00.000000000",
          "2020-01-27T00:00:00.000000000",
          "2020-01-28T00:00:00.000000000",
          "2020-01-29T00:00:00.000000000",
          "2020-01-30T00:00:00.000000000",
          "2020-02-18T00:00:00.000000000",
          "2020-02-19T00:00:00.000000000",
          "2020-02-20T00:00:00.000000000",
          "2020-02-21T00:00:00.000000000",
          "2020-07-15T00:00:00.000000000",
          "2020-07-16T00:00:00.000000000",
          "2020-07-17T00:00:00.000000000",
          "2020-07-20T00:00:00.000000000",
          "2020-07-21T00:00:00.000000000",
          "2020-07-22T00:00:00.000000000",
          "2020-07-23T00:00:00.000000000",
          "2020-07-24T00:00:00.000000000",
          "2020-07-27T00:00:00.000000000",
          "2020-07-28T00:00:00.000000000",
          "2020-07-29T00:00:00.000000000",
          "2020-07-30T00:00:00.000000000",
          "2020-07-31T00:00:00.000000000",
          "2020-08-03T00:00:00.000000000",
          "2020-08-04T00:00:00.000000000",
          "2020-08-13T00:00:00.000000000",
          "2020-08-14T00:00:00.000000000",
          "2020-08-17T00:00:00.000000000",
          "2020-08-18T00:00:00.000000000",
          "2020-08-19T00:00:00.000000000",
          "2020-08-20T00:00:00.000000000",
          "2020-08-21T00:00:00.000000000",
          "2020-08-24T00:00:00.000000000",
          "2020-08-25T00:00:00.000000000",
          "2020-10-21T00:00:00.000000000",
          "2020-10-22T00:00:00.000000000",
          "2020-10-23T00:00:00.000000000",
          "2020-10-26T00:00:00.000000000",
          "2020-10-27T00:00:00.000000000",
          "2020-11-19T00:00:00.000000000",
          "2020-11-20T00:00:00.000000000",
          "2020-11-23T00:00:00.000000000",
          "2020-11-24T00:00:00.000000000",
          "2020-11-25T00:00:00.000000000",
          "2020-11-27T00:00:00.000000000",
          "2020-11-30T00:00:00.000000000",
          "2020-12-08T00:00:00.000000000",
          "2020-12-09T00:00:00.000000000",
          "2020-12-10T00:00:00.000000000",
          "2020-12-11T00:00:00.000000000",
          "2020-12-14T00:00:00.000000000",
          "2020-12-15T00:00:00.000000000",
          "2020-12-16T00:00:00.000000000",
          "2020-12-17T00:00:00.000000000",
          "2020-12-18T00:00:00.000000000",
          "2020-12-21T00:00:00.000000000",
          "2020-12-22T00:00:00.000000000",
          "2020-12-23T00:00:00.000000000",
          "2020-12-24T00:00:00.000000000",
          "2020-12-28T00:00:00.000000000",
          "2020-12-29T00:00:00.000000000",
          "2020-12-30T00:00:00.000000000",
          "2020-12-31T00:00:00.000000000",
          "2021-01-04T00:00:00.000000000",
          "2021-01-05T00:00:00.000000000",
          "2021-01-06T00:00:00.000000000",
          "2021-01-19T00:00:00.000000000",
          "2021-01-20T00:00:00.000000000",
          "2021-01-21T00:00:00.000000000",
          "2021-01-22T00:00:00.000000000",
          "2021-01-25T00:00:00.000000000",
          "2021-01-26T00:00:00.000000000",
          "2021-02-17T00:00:00.000000000",
          "2021-02-18T00:00:00.000000000",
          "2021-02-19T00:00:00.000000000",
          "2021-02-22T00:00:00.000000000",
          "2021-02-23T00:00:00.000000000",
          "2021-02-24T00:00:00.000000000",
          "2021-03-22T00:00:00.000000000",
          "2021-03-23T00:00:00.000000000",
          "2021-03-24T00:00:00.000000000",
          "2021-03-25T00:00:00.000000000",
          "2021-03-26T00:00:00.000000000",
          "2021-03-29T00:00:00.000000000",
          "2021-03-30T00:00:00.000000000",
          "2021-03-31T00:00:00.000000000",
          "2021-04-20T00:00:00.000000000",
          "2021-04-21T00:00:00.000000000",
          "2021-04-22T00:00:00.000000000",
          "2021-04-23T00:00:00.000000000",
          "2021-04-26T00:00:00.000000000",
          "2021-04-27T00:00:00.000000000",
          "2021-04-28T00:00:00.000000000",
          "2021-04-29T00:00:00.000000000",
          "2021-04-30T00:00:00.000000000",
          "2021-05-03T00:00:00.000000000",
          "2021-05-04T00:00:00.000000000",
          "2021-05-05T00:00:00.000000000",
          "2021-05-06T00:00:00.000000000",
          "2021-05-07T00:00:00.000000000",
          "2021-05-10T00:00:00.000000000",
          "2021-05-11T00:00:00.000000000",
          "2021-05-26T00:00:00.000000000",
          "2021-05-27T00:00:00.000000000",
          "2021-05-28T00:00:00.000000000",
          "2021-06-01T00:00:00.000000000",
          "2021-06-02T00:00:00.000000000",
          "2021-06-03T00:00:00.000000000",
          "2021-06-04T00:00:00.000000000",
          "2021-06-07T00:00:00.000000000",
          "2021-06-08T00:00:00.000000000",
          "2021-06-09T00:00:00.000000000",
          "2021-06-10T00:00:00.000000000",
          "2021-06-11T00:00:00.000000000",
          "2021-06-14T00:00:00.000000000",
          "2021-06-15T00:00:00.000000000",
          "2021-06-16T00:00:00.000000000",
          "2021-06-17T00:00:00.000000000",
          "2021-06-18T00:00:00.000000000",
          "2021-06-21T00:00:00.000000000",
          "2021-06-22T00:00:00.000000000",
          "2021-06-23T00:00:00.000000000",
          "2021-06-24T00:00:00.000000000",
          "2021-06-25T00:00:00.000000000",
          "2021-06-28T00:00:00.000000000",
          "2021-07-08T00:00:00.000000000",
          "2021-07-09T00:00:00.000000000",
          "2021-07-12T00:00:00.000000000",
          "2021-07-13T00:00:00.000000000",
          "2021-07-14T00:00:00.000000000",
          "2021-07-15T00:00:00.000000000",
          "2021-07-16T00:00:00.000000000",
          "2021-08-02T00:00:00.000000000",
          "2021-08-03T00:00:00.000000000",
          "2021-08-04T00:00:00.000000000",
          "2021-08-05T00:00:00.000000000",
          "2021-08-06T00:00:00.000000000",
          "2021-08-09T00:00:00.000000000",
          "2021-08-10T00:00:00.000000000",
          "2021-08-11T00:00:00.000000000",
          "2021-08-12T00:00:00.000000000",
          "2021-08-13T00:00:00.000000000",
          "2021-08-16T00:00:00.000000000",
          "2021-08-17T00:00:00.000000000",
          "2021-08-18T00:00:00.000000000",
          "2021-08-19T00:00:00.000000000",
          "2021-08-20T00:00:00.000000000",
          "2021-08-23T00:00:00.000000000",
          "2021-08-24T00:00:00.000000000",
          "2021-08-25T00:00:00.000000000",
          "2021-08-26T00:00:00.000000000",
          "2021-09-02T00:00:00.000000000",
          "2021-09-03T00:00:00.000000000",
          "2021-09-07T00:00:00.000000000",
          "2021-09-08T00:00:00.000000000",
          "2021-09-09T00:00:00.000000000",
          "2021-09-10T00:00:00.000000000",
          "2021-09-13T00:00:00.000000000",
          "2021-09-14T00:00:00.000000000",
          "2021-09-15T00:00:00.000000000",
          "2021-09-16T00:00:00.000000000",
          "2021-09-17T00:00:00.000000000",
          "2021-11-11T00:00:00.000000000",
          "2021-11-12T00:00:00.000000000",
          "2021-11-15T00:00:00.000000000",
          "2021-11-16T00:00:00.000000000",
          "2021-11-17T00:00:00.000000000",
          "2021-11-18T00:00:00.000000000",
          "2021-11-19T00:00:00.000000000",
          "2021-11-22T00:00:00.000000000",
          "2021-11-23T00:00:00.000000000",
          "2021-11-24T00:00:00.000000000",
          "2022-11-23T00:00:00.000000000",
          "2022-11-25T00:00:00.000000000",
          "2022-11-28T00:00:00.000000000",
          "2022-11-29T00:00:00.000000000",
          "2022-12-30T00:00:00.000000000",
          "2023-01-03T00:00:00.000000000",
          "2023-01-04T00:00:00.000000000",
          "2023-01-05T00:00:00.000000000",
          "2023-02-14T00:00:00.000000000",
          "2023-02-15T00:00:00.000000000",
          "2023-02-16T00:00:00.000000000",
          "2023-02-17T00:00:00.000000000",
          "2023-04-12T00:00:00.000000000",
          "2023-04-13T00:00:00.000000000",
          "2023-04-14T00:00:00.000000000",
          "2023-04-17T00:00:00.000000000",
          "2023-04-18T00:00:00.000000000",
          "2023-04-19T00:00:00.000000000",
          "2023-04-20T00:00:00.000000000",
          "2023-04-21T00:00:00.000000000",
          "2023-04-24T00:00:00.000000000",
          "2023-04-25T00:00:00.000000000",
          "2023-04-26T00:00:00.000000000",
          "2023-05-10T00:00:00.000000000",
          "2023-05-11T00:00:00.000000000",
          "2023-05-12T00:00:00.000000000",
          "2023-05-15T00:00:00.000000000",
          "2023-05-16T00:00:00.000000000",
          "2023-05-17T00:00:00.000000000",
          "2023-05-18T00:00:00.000000000",
          "2023-05-19T00:00:00.000000000",
          "2023-05-22T00:00:00.000000000",
          "2023-05-23T00:00:00.000000000",
          "2023-05-24T00:00:00.000000000",
          "2023-06-26T00:00:00.000000000",
          "2023-06-27T00:00:00.000000000",
          "2023-06-28T00:00:00.000000000",
          "2023-06-29T00:00:00.000000000",
          "2023-07-25T00:00:00.000000000",
          "2023-07-26T00:00:00.000000000",
          "2023-07-27T00:00:00.000000000",
          "2023-07-28T00:00:00.000000000",
          "2023-07-31T00:00:00.000000000",
          "2023-08-01T00:00:00.000000000",
          "2023-08-02T00:00:00.000000000",
          "2023-08-03T00:00:00.000000000",
          "2023-09-11T00:00:00.000000000",
          "2023-09-12T00:00:00.000000000",
          "2023-09-13T00:00:00.000000000",
          "2023-09-14T00:00:00.000000000",
          "2023-09-15T00:00:00.000000000",
          "2023-09-18T00:00:00.000000000",
          "2023-09-19T00:00:00.000000000",
          "2023-09-20T00:00:00.000000000",
          "2023-11-28T00:00:00.000000000",
          "2023-11-29T00:00:00.000000000",
          "2023-11-30T00:00:00.000000000",
          "2023-12-01T00:00:00.000000000",
          "2023-12-04T00:00:00.000000000",
          "2023-12-05T00:00:00.000000000",
          "2023-12-06T00:00:00.000000000",
          "2023-12-07T00:00:00.000000000",
          "2023-12-08T00:00:00.000000000",
          "2023-12-11T00:00:00.000000000",
          "2023-12-12T00:00:00.000000000",
          "2023-12-27T00:00:00.000000000",
          "2023-12-28T00:00:00.000000000",
          "2023-12-29T00:00:00.000000000",
          "2024-01-02T00:00:00.000000000",
          "2024-01-03T00:00:00.000000000",
          "2024-02-16T00:00:00.000000000",
          "2024-02-20T00:00:00.000000000",
          "2024-02-21T00:00:00.000000000",
          "2024-03-06T00:00:00.000000000",
          "2024-03-07T00:00:00.000000000",
          "2024-03-08T00:00:00.000000000",
          "2024-03-11T00:00:00.000000000",
          "2024-03-12T00:00:00.000000000",
          "2024-03-13T00:00:00.000000000",
          "2024-03-14T00:00:00.000000000",
          "2024-03-15T00:00:00.000000000",
          "2024-03-18T00:00:00.000000000",
          "2024-03-19T00:00:00.000000000",
          "2024-03-20T00:00:00.000000000",
          "2024-04-01T00:00:00.000000000",
          "2024-04-02T00:00:00.000000000",
          "2024-04-03T00:00:00.000000000",
          "2024-04-04T00:00:00.000000000",
          "2024-04-05T00:00:00.000000000",
          "2024-04-08T00:00:00.000000000",
          "2024-04-09T00:00:00.000000000",
          "2024-04-10T00:00:00.000000000",
          "2024-04-11T00:00:00.000000000",
          "2024-05-24T00:00:00.000000000",
          "2024-05-28T00:00:00.000000000",
          "2024-05-29T00:00:00.000000000",
          "2024-05-30T00:00:00.000000000",
          "2024-05-31T00:00:00.000000000",
          "2024-06-03T00:00:00.000000000",
          "2024-06-04T00:00:00.000000000",
          "2024-06-05T00:00:00.000000000",
          "2024-06-26T00:00:00.000000000",
          "2024-06-27T00:00:00.000000000",
          "2024-06-28T00:00:00.000000000",
          "2024-07-01T00:00:00.000000000",
          "2024-07-02T00:00:00.000000000",
          "2024-07-03T00:00:00.000000000",
          "2024-08-28T00:00:00.000000000",
          "2024-08-29T00:00:00.000000000",
          "2024-08-30T00:00:00.000000000",
          "2024-10-02T00:00:00.000000000",
          "2024-10-03T00:00:00.000000000",
          "2024-10-04T00:00:00.000000000",
          "2024-10-07T00:00:00.000000000",
          "2024-10-08T00:00:00.000000000",
          "2024-10-09T00:00:00.000000000",
          "2024-10-22T00:00:00.000000000",
          "2024-10-23T00:00:00.000000000",
          "2024-10-24T00:00:00.000000000",
          "2024-10-25T00:00:00.000000000",
          "2024-10-28T00:00:00.000000000",
          "2024-10-29T00:00:00.000000000",
          "2024-10-30T00:00:00.000000000",
          "2024-12-10T00:00:00.000000000",
          "2024-12-11T00:00:00.000000000",
          "2024-12-12T00:00:00.000000000",
          "2024-12-13T00:00:00.000000000",
          "2024-12-16T00:00:00.000000000",
          "2024-12-17T00:00:00.000000000"
         ],
         "xaxis": "x3",
         "y": {
          "bdata": "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",
          "dtype": "f8"
         },
         "yaxis": "y3"
        },
        {
         "marker": {
          "color": "rgb(252,141,98)",
          "size": 6
         },
         "mode": "markers",
         "name": "Regime 1",
         "showlegend": false,
         "type": "scatter",
         "x": [
          "2018-02-02T00:00:00.000000000",
          "2018-02-05T00:00:00.000000000",
          "2018-02-06T00:00:00.000000000",
          "2018-02-07T00:00:00.000000000",
          "2018-02-08T00:00:00.000000000",
          "2018-02-09T00:00:00.000000000",
          "2018-02-12T00:00:00.000000000",
          "2018-02-13T00:00:00.000000000",
          "2018-03-22T00:00:00.000000000",
          "2018-03-23T00:00:00.000000000",
          "2018-03-26T00:00:00.000000000",
          "2018-10-10T00:00:00.000000000",
          "2018-10-11T00:00:00.000000000",
          "2018-10-12T00:00:00.000000000",
          "2018-10-15T00:00:00.000000000",
          "2018-10-16T00:00:00.000000000",
          "2018-12-21T00:00:00.000000000",
          "2018-12-24T00:00:00.000000000",
          "2018-12-26T00:00:00.000000000",
          "2018-12-27T00:00:00.000000000",
          "2019-08-05T00:00:00.000000000",
          "2019-08-06T00:00:00.000000000",
          "2019-08-07T00:00:00.000000000",
          "2020-02-24T00:00:00.000000000",
          "2020-02-25T00:00:00.000000000",
          "2020-02-26T00:00:00.000000000",
          "2020-02-27T00:00:00.000000000",
          "2020-02-28T00:00:00.000000000",
          "2020-03-02T00:00:00.000000000",
          "2020-03-03T00:00:00.000000000",
          "2020-03-04T00:00:00.000000000",
          "2020-03-05T00:00:00.000000000",
          "2020-03-06T00:00:00.000000000",
          "2020-03-09T00:00:00.000000000",
          "2020-03-10T00:00:00.000000000",
          "2020-03-11T00:00:00.000000000",
          "2020-03-12T00:00:00.000000000",
          "2020-03-13T00:00:00.000000000",
          "2020-03-16T00:00:00.000000000",
          "2020-03-17T00:00:00.000000000",
          "2020-03-18T00:00:00.000000000",
          "2020-03-19T00:00:00.000000000",
          "2020-03-20T00:00:00.000000000",
          "2020-03-23T00:00:00.000000000",
          "2020-03-24T00:00:00.000000000",
          "2020-03-25T00:00:00.000000000",
          "2020-03-26T00:00:00.000000000",
          "2020-03-27T00:00:00.000000000",
          "2020-03-30T00:00:00.000000000",
          "2020-03-31T00:00:00.000000000",
          "2020-04-01T00:00:00.000000000",
          "2020-04-02T00:00:00.000000000",
          "2020-04-03T00:00:00.000000000",
          "2020-04-06T00:00:00.000000000",
          "2020-04-07T00:00:00.000000000",
          "2020-04-08T00:00:00.000000000",
          "2020-04-09T00:00:00.000000000",
          "2020-04-13T00:00:00.000000000",
          "2020-04-14T00:00:00.000000000",
          "2020-04-15T00:00:00.000000000",
          "2020-04-16T00:00:00.000000000",
          "2020-04-17T00:00:00.000000000",
          "2020-06-11T00:00:00.000000000",
          "2020-06-12T00:00:00.000000000",
          "2020-06-15T00:00:00.000000000",
          "2020-06-16T00:00:00.000000000",
          "2020-09-03T00:00:00.000000000",
          "2020-09-04T00:00:00.000000000",
          "2020-09-08T00:00:00.000000000",
          "2020-09-09T00:00:00.000000000",
          "2020-09-10T00:00:00.000000000",
          "2020-09-11T00:00:00.000000000",
          "2020-09-14T00:00:00.000000000",
          "2020-09-15T00:00:00.000000000",
          "2020-10-28T00:00:00.000000000",
          "2020-10-29T00:00:00.000000000",
          "2020-10-30T00:00:00.000000000",
          "2020-11-02T00:00:00.000000000",
          "2020-11-03T00:00:00.000000000",
          "2020-11-04T00:00:00.000000000",
          "2020-11-05T00:00:00.000000000",
          "2020-11-06T00:00:00.000000000",
          "2020-11-09T00:00:00.000000000",
          "2020-11-10T00:00:00.000000000",
          "2020-11-11T00:00:00.000000000",
          "2020-11-12T00:00:00.000000000",
          "2020-11-13T00:00:00.000000000",
          "2021-01-27T00:00:00.000000000",
          "2021-01-28T00:00:00.000000000",
          "2021-01-29T00:00:00.000000000",
          "2021-02-01T00:00:00.000000000",
          "2021-05-12T00:00:00.000000000",
          "2021-11-26T00:00:00.000000000",
          "2021-11-29T00:00:00.000000000",
          "2021-11-30T00:00:00.000000000",
          "2021-12-01T00:00:00.000000000",
          "2021-12-02T00:00:00.000000000",
          "2021-12-03T00:00:00.000000000",
          "2021-12-06T00:00:00.000000000",
          "2022-01-20T00:00:00.000000000",
          "2022-01-21T00:00:00.000000000",
          "2022-01-24T00:00:00.000000000",
          "2022-01-25T00:00:00.000000000",
          "2022-01-26T00:00:00.000000000",
          "2022-01-27T00:00:00.000000000",
          "2022-01-28T00:00:00.000000000",
          "2022-01-31T00:00:00.000000000",
          "2022-02-01T00:00:00.000000000",
          "2022-02-02T00:00:00.000000000",
          "2022-02-03T00:00:00.000000000",
          "2022-02-04T00:00:00.000000000",
          "2022-02-07T00:00:00.000000000",
          "2022-02-08T00:00:00.000000000",
          "2022-02-09T00:00:00.000000000",
          "2022-02-22T00:00:00.000000000",
          "2022-02-23T00:00:00.000000000",
          "2022-02-24T00:00:00.000000000",
          "2022-02-25T00:00:00.000000000",
          "2022-02-28T00:00:00.000000000",
          "2022-03-01T00:00:00.000000000",
          "2022-03-02T00:00:00.000000000",
          "2022-03-07T00:00:00.000000000",
          "2022-03-08T00:00:00.000000000",
          "2022-03-09T00:00:00.000000000",
          "2022-03-10T00:00:00.000000000",
          "2022-03-11T00:00:00.000000000",
          "2022-03-14T00:00:00.000000000",
          "2022-03-15T00:00:00.000000000",
          "2022-03-16T00:00:00.000000000",
          "2022-03-17T00:00:00.000000000",
          "2022-03-18T00:00:00.000000000",
          "2022-03-21T00:00:00.000000000",
          "2022-03-22T00:00:00.000000000",
          "2022-03-23T00:00:00.000000000",
          "2022-03-24T00:00:00.000000000",
          "2022-03-25T00:00:00.000000000",
          "2022-03-28T00:00:00.000000000",
          "2022-03-29T00:00:00.000000000",
          "2022-04-22T00:00:00.000000000",
          "2022-04-25T00:00:00.000000000",
          "2022-04-26T00:00:00.000000000",
          "2022-04-27T00:00:00.000000000",
          "2022-04-28T00:00:00.000000000",
          "2022-04-29T00:00:00.000000000",
          "2022-05-02T00:00:00.000000000",
          "2022-05-03T00:00:00.000000000",
          "2022-05-04T00:00:00.000000000",
          "2022-05-05T00:00:00.000000000",
          "2022-05-06T00:00:00.000000000",
          "2022-05-09T00:00:00.000000000",
          "2022-05-10T00:00:00.000000000",
          "2022-05-11T00:00:00.000000000",
          "2022-05-12T00:00:00.000000000",
          "2022-05-13T00:00:00.000000000",
          "2022-05-16T00:00:00.000000000",
          "2022-05-17T00:00:00.000000000",
          "2022-05-18T00:00:00.000000000",
          "2022-05-27T00:00:00.000000000",
          "2022-05-31T00:00:00.000000000",
          "2022-06-01T00:00:00.000000000",
          "2022-06-02T00:00:00.000000000",
          "2022-06-03T00:00:00.000000000",
          "2022-06-06T00:00:00.000000000",
          "2022-06-07T00:00:00.000000000",
          "2022-06-08T00:00:00.000000000",
          "2022-06-09T00:00:00.000000000",
          "2022-06-10T00:00:00.000000000",
          "2022-06-13T00:00:00.000000000",
          "2022-06-14T00:00:00.000000000",
          "2022-06-15T00:00:00.000000000",
          "2022-06-16T00:00:00.000000000",
          "2022-06-17T00:00:00.000000000",
          "2022-06-21T00:00:00.000000000",
          "2022-06-22T00:00:00.000000000",
          "2022-06-23T00:00:00.000000000",
          "2022-06-24T00:00:00.000000000",
          "2022-06-27T00:00:00.000000000",
          "2022-06-28T00:00:00.000000000",
          "2022-06-29T00:00:00.000000000",
          "2022-06-30T00:00:00.000000000",
          "2022-07-25T00:00:00.000000000",
          "2022-07-26T00:00:00.000000000",
          "2022-07-27T00:00:00.000000000",
          "2022-07-28T00:00:00.000000000",
          "2022-07-29T00:00:00.000000000",
          "2022-08-01T00:00:00.000000000",
          "2022-08-02T00:00:00.000000000",
          "2022-08-03T00:00:00.000000000",
          "2022-08-04T00:00:00.000000000",
          "2022-08-05T00:00:00.000000000",
          "2022-08-26T00:00:00.000000000",
          "2022-08-29T00:00:00.000000000",
          "2022-08-30T00:00:00.000000000",
          "2022-08-31T00:00:00.000000000",
          "2022-09-01T00:00:00.000000000",
          "2022-09-02T00:00:00.000000000",
          "2022-09-06T00:00:00.000000000",
          "2022-09-07T00:00:00.000000000",
          "2022-09-08T00:00:00.000000000",
          "2022-09-13T00:00:00.000000000",
          "2022-09-14T00:00:00.000000000",
          "2022-09-15T00:00:00.000000000",
          "2022-09-16T00:00:00.000000000",
          "2022-09-19T00:00:00.000000000",
          "2022-09-20T00:00:00.000000000",
          "2022-09-21T00:00:00.000000000",
          "2022-09-22T00:00:00.000000000",
          "2022-09-23T00:00:00.000000000",
          "2022-09-26T00:00:00.000000000",
          "2022-09-27T00:00:00.000000000",
          "2022-09-28T00:00:00.000000000",
          "2022-09-29T00:00:00.000000000",
          "2022-09-30T00:00:00.000000000",
          "2022-10-03T00:00:00.000000000",
          "2022-10-04T00:00:00.000000000",
          "2022-10-05T00:00:00.000000000",
          "2022-10-06T00:00:00.000000000",
          "2022-10-07T00:00:00.000000000",
          "2022-10-10T00:00:00.000000000",
          "2022-10-11T00:00:00.000000000",
          "2022-10-12T00:00:00.000000000",
          "2022-10-13T00:00:00.000000000",
          "2022-10-14T00:00:00.000000000",
          "2022-10-17T00:00:00.000000000",
          "2022-10-25T00:00:00.000000000",
          "2022-10-26T00:00:00.000000000",
          "2022-10-27T00:00:00.000000000",
          "2022-10-28T00:00:00.000000000",
          "2022-10-31T00:00:00.000000000",
          "2022-11-01T00:00:00.000000000",
          "2022-11-02T00:00:00.000000000",
          "2022-11-10T00:00:00.000000000",
          "2022-11-11T00:00:00.000000000",
          "2022-11-14T00:00:00.000000000",
          "2022-11-15T00:00:00.000000000",
          "2022-11-16T00:00:00.000000000",
          "2022-11-17T00:00:00.000000000",
          "2022-11-18T00:00:00.000000000",
          "2022-11-21T00:00:00.000000000",
          "2023-03-13T00:00:00.000000000",
          "2023-03-14T00:00:00.000000000",
          "2023-03-15T00:00:00.000000000",
          "2023-03-16T00:00:00.000000000",
          "2023-09-21T00:00:00.000000000",
          "2023-09-22T00:00:00.000000000",
          "2023-09-25T00:00:00.000000000",
          "2023-09-26T00:00:00.000000000",
          "2023-09-27T00:00:00.000000000",
          "2023-09-28T00:00:00.000000000",
          "2023-10-26T00:00:00.000000000",
          "2023-10-27T00:00:00.000000000",
          "2023-10-30T00:00:00.000000000",
          "2023-11-03T00:00:00.000000000",
          "2023-11-06T00:00:00.000000000",
          "2023-11-07T00:00:00.000000000",
          "2023-11-08T00:00:00.000000000",
          "2023-11-09T00:00:00.000000000",
          "2023-11-10T00:00:00.000000000",
          "2024-04-18T00:00:00.000000000",
          "2024-04-19T00:00:00.000000000",
          "2024-04-22T00:00:00.000000000",
          "2024-07-24T00:00:00.000000000",
          "2024-07-25T00:00:00.000000000",
          "2024-07-26T00:00:00.000000000",
          "2024-07-29T00:00:00.000000000",
          "2024-08-02T00:00:00.000000000",
          "2024-08-05T00:00:00.000000000",
          "2024-08-06T00:00:00.000000000",
          "2024-08-07T00:00:00.000000000",
          "2024-08-08T00:00:00.000000000",
          "2024-08-09T00:00:00.000000000",
          "2024-08-12T00:00:00.000000000",
          "2024-08-13T00:00:00.000000000",
          "2024-08-14T00:00:00.000000000",
          "2024-08-15T00:00:00.000000000",
          "2024-08-16T00:00:00.000000000",
          "2024-08-19T00:00:00.000000000",
          "2024-08-20T00:00:00.000000000",
          "2024-08-21T00:00:00.000000000",
          "2024-08-22T00:00:00.000000000",
          "2024-08-23T00:00:00.000000000",
          "2024-09-03T00:00:00.000000000",
          "2024-09-04T00:00:00.000000000",
          "2024-09-05T00:00:00.000000000",
          "2024-09-06T00:00:00.000000000",
          "2024-09-09T00:00:00.000000000",
          "2024-09-10T00:00:00.000000000",
          "2024-09-17T00:00:00.000000000",
          "2024-09-18T00:00:00.000000000",
          "2024-09-19T00:00:00.000000000",
          "2024-09-20T00:00:00.000000000",
          "2024-11-07T00:00:00.000000000",
          "2024-11-08T00:00:00.000000000",
          "2024-11-11T00:00:00.000000000",
          "2024-11-12T00:00:00.000000000",
          "2024-11-13T00:00:00.000000000",
          "2024-11-14T00:00:00.000000000",
          "2024-11-15T00:00:00.000000000",
          "2024-12-18T00:00:00.000000000",
          "2024-12-19T00:00:00.000000000",
          "2024-12-20T00:00:00.000000000",
          "2024-12-23T00:00:00.000000000",
          "2024-12-24T00:00:00.000000000",
          "2024-12-26T00:00:00.000000000",
          "2024-12-27T00:00:00.000000000",
          "2024-12-30T00:00:00.000000000",
          "2024-12-31T00:00:00.000000000"
         ],
         "xaxis": "x3",
         "y": {
          "bdata": "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",
          "dtype": "f8"
         },
         "yaxis": "y3"
        },
        {
         "marker": {
          "color": "rgb(141,160,203)",
          "size": 6
         },
         "mode": "markers",
         "name": "Regime 2",
         "showlegend": false,
         "type": "scatter",
         "x": [
          "2018-02-14T00:00:00.000000000",
          "2018-02-15T00:00:00.000000000",
          "2018-02-16T00:00:00.000000000",
          "2018-02-20T00:00:00.000000000",
          "2018-02-21T00:00:00.000000000",
          "2018-02-22T00:00:00.000000000",
          "2018-02-23T00:00:00.000000000",
          "2018-03-27T00:00:00.000000000",
          "2018-03-28T00:00:00.000000000",
          "2018-03-29T00:00:00.000000000",
          "2018-04-02T00:00:00.000000000",
          "2018-04-03T00:00:00.000000000",
          "2018-04-04T00:00:00.000000000",
          "2018-10-17T00:00:00.000000000",
          "2018-10-18T00:00:00.000000000",
          "2018-10-19T00:00:00.000000000",
          "2018-10-22T00:00:00.000000000",
          "2018-10-23T00:00:00.000000000",
          "2018-10-24T00:00:00.000000000",
          "2018-10-25T00:00:00.000000000",
          "2018-10-26T00:00:00.000000000",
          "2018-10-29T00:00:00.000000000",
          "2018-10-30T00:00:00.000000000",
          "2018-10-31T00:00:00.000000000",
          "2018-11-01T00:00:00.000000000",
          "2018-11-02T00:00:00.000000000",
          "2018-11-05T00:00:00.000000000",
          "2018-11-06T00:00:00.000000000",
          "2018-11-07T00:00:00.000000000",
          "2018-11-08T00:00:00.000000000",
          "2018-11-09T00:00:00.000000000",
          "2018-11-12T00:00:00.000000000",
          "2018-11-13T00:00:00.000000000",
          "2018-11-14T00:00:00.000000000",
          "2018-11-15T00:00:00.000000000",
          "2018-11-16T00:00:00.000000000",
          "2018-11-19T00:00:00.000000000",
          "2018-11-20T00:00:00.000000000",
          "2018-11-21T00:00:00.000000000",
          "2018-11-23T00:00:00.000000000",
          "2018-11-26T00:00:00.000000000",
          "2018-11-27T00:00:00.000000000",
          "2018-11-28T00:00:00.000000000",
          "2018-11-29T00:00:00.000000000",
          "2018-11-30T00:00:00.000000000",
          "2018-12-03T00:00:00.000000000",
          "2018-12-04T00:00:00.000000000",
          "2018-12-06T00:00:00.000000000",
          "2018-12-07T00:00:00.000000000",
          "2018-12-10T00:00:00.000000000",
          "2018-12-11T00:00:00.000000000",
          "2018-12-12T00:00:00.000000000",
          "2018-12-13T00:00:00.000000000",
          "2018-12-14T00:00:00.000000000",
          "2018-12-17T00:00:00.000000000",
          "2018-12-18T00:00:00.000000000",
          "2018-12-19T00:00:00.000000000",
          "2018-12-20T00:00:00.000000000",
          "2018-12-28T00:00:00.000000000",
          "2018-12-31T00:00:00.000000000",
          "2019-01-02T00:00:00.000000000",
          "2019-01-03T00:00:00.000000000",
          "2019-01-04T00:00:00.000000000",
          "2019-01-07T00:00:00.000000000",
          "2019-01-08T00:00:00.000000000",
          "2019-01-09T00:00:00.000000000",
          "2019-01-10T00:00:00.000000000",
          "2019-01-11T00:00:00.000000000",
          "2019-01-14T00:00:00.000000000",
          "2019-01-15T00:00:00.000000000",
          "2019-01-16T00:00:00.000000000",
          "2019-05-13T00:00:00.000000000",
          "2019-05-14T00:00:00.000000000",
          "2019-05-15T00:00:00.000000000",
          "2019-05-16T00:00:00.000000000",
          "2019-05-31T00:00:00.000000000",
          "2019-06-03T00:00:00.000000000",
          "2019-06-04T00:00:00.000000000",
          "2019-06-05T00:00:00.000000000",
          "2019-06-06T00:00:00.000000000",
          "2019-06-07T00:00:00.000000000",
          "2019-06-10T00:00:00.000000000",
          "2019-06-11T00:00:00.000000000",
          "2019-06-12T00:00:00.000000000",
          "2019-06-13T00:00:00.000000000",
          "2019-06-14T00:00:00.000000000",
          "2019-08-08T00:00:00.000000000",
          "2019-08-09T00:00:00.000000000",
          "2019-08-12T00:00:00.000000000",
          "2019-08-13T00:00:00.000000000",
          "2019-08-14T00:00:00.000000000",
          "2019-08-15T00:00:00.000000000",
          "2019-08-16T00:00:00.000000000",
          "2019-08-23T00:00:00.000000000",
          "2019-08-26T00:00:00.000000000",
          "2019-09-05T00:00:00.000000000",
          "2019-09-06T00:00:00.000000000",
          "2019-09-09T00:00:00.000000000",
          "2019-09-10T00:00:00.000000000",
          "2020-01-31T00:00:00.000000000",
          "2020-02-03T00:00:00.000000000",
          "2020-02-04T00:00:00.000000000",
          "2020-02-05T00:00:00.000000000",
          "2020-02-06T00:00:00.000000000",
          "2020-02-07T00:00:00.000000000",
          "2020-02-10T00:00:00.000000000",
          "2020-02-11T00:00:00.000000000",
          "2020-02-12T00:00:00.000000000",
          "2020-02-13T00:00:00.000000000",
          "2020-02-14T00:00:00.000000000",
          "2020-04-20T00:00:00.000000000",
          "2020-04-21T00:00:00.000000000",
          "2020-04-22T00:00:00.000000000",
          "2020-04-23T00:00:00.000000000",
          "2020-04-24T00:00:00.000000000",
          "2020-04-27T00:00:00.000000000",
          "2020-04-28T00:00:00.000000000",
          "2020-04-29T00:00:00.000000000",
          "2020-04-30T00:00:00.000000000",
          "2020-05-01T00:00:00.000000000",
          "2020-05-04T00:00:00.000000000",
          "2020-05-05T00:00:00.000000000",
          "2020-05-06T00:00:00.000000000",
          "2020-05-07T00:00:00.000000000",
          "2020-05-08T00:00:00.000000000",
          "2020-05-11T00:00:00.000000000",
          "2020-05-12T00:00:00.000000000",
          "2020-05-13T00:00:00.000000000",
          "2020-05-14T00:00:00.000000000",
          "2020-05-15T00:00:00.000000000",
          "2020-05-18T00:00:00.000000000",
          "2020-05-19T00:00:00.000000000",
          "2020-05-20T00:00:00.000000000",
          "2020-05-21T00:00:00.000000000",
          "2020-05-22T00:00:00.000000000",
          "2020-05-26T00:00:00.000000000",
          "2020-05-27T00:00:00.000000000",
          "2020-05-28T00:00:00.000000000",
          "2020-05-29T00:00:00.000000000",
          "2020-06-01T00:00:00.000000000",
          "2020-06-02T00:00:00.000000000",
          "2020-06-03T00:00:00.000000000",
          "2020-06-04T00:00:00.000000000",
          "2020-06-05T00:00:00.000000000",
          "2020-06-08T00:00:00.000000000",
          "2020-06-09T00:00:00.000000000",
          "2020-06-10T00:00:00.000000000",
          "2020-06-17T00:00:00.000000000",
          "2020-06-18T00:00:00.000000000",
          "2020-06-19T00:00:00.000000000",
          "2020-06-22T00:00:00.000000000",
          "2020-06-23T00:00:00.000000000",
          "2020-06-24T00:00:00.000000000",
          "2020-06-25T00:00:00.000000000",
          "2020-06-26T00:00:00.000000000",
          "2020-06-29T00:00:00.000000000",
          "2020-06-30T00:00:00.000000000",
          "2020-07-01T00:00:00.000000000",
          "2020-07-02T00:00:00.000000000",
          "2020-07-06T00:00:00.000000000",
          "2020-07-07T00:00:00.000000000",
          "2020-07-08T00:00:00.000000000",
          "2020-07-09T00:00:00.000000000",
          "2020-07-10T00:00:00.000000000",
          "2020-07-13T00:00:00.000000000",
          "2020-07-14T00:00:00.000000000",
          "2020-08-05T00:00:00.000000000",
          "2020-08-06T00:00:00.000000000",
          "2020-08-07T00:00:00.000000000",
          "2020-08-10T00:00:00.000000000",
          "2020-08-11T00:00:00.000000000",
          "2020-08-12T00:00:00.000000000",
          "2020-08-26T00:00:00.000000000",
          "2020-08-27T00:00:00.000000000",
          "2020-08-28T00:00:00.000000000",
          "2020-08-31T00:00:00.000000000",
          "2020-09-01T00:00:00.000000000",
          "2020-09-02T00:00:00.000000000",
          "2020-09-16T00:00:00.000000000",
          "2020-09-17T00:00:00.000000000",
          "2020-09-18T00:00:00.000000000",
          "2020-09-21T00:00:00.000000000",
          "2020-09-22T00:00:00.000000000",
          "2020-09-23T00:00:00.000000000",
          "2020-09-24T00:00:00.000000000",
          "2020-09-25T00:00:00.000000000",
          "2020-09-28T00:00:00.000000000",
          "2020-09-29T00:00:00.000000000",
          "2020-09-30T00:00:00.000000000",
          "2020-10-01T00:00:00.000000000",
          "2020-10-02T00:00:00.000000000",
          "2020-10-05T00:00:00.000000000",
          "2020-10-06T00:00:00.000000000",
          "2020-10-07T00:00:00.000000000",
          "2020-10-08T00:00:00.000000000",
          "2020-10-09T00:00:00.000000000",
          "2020-10-12T00:00:00.000000000",
          "2020-10-13T00:00:00.000000000",
          "2020-10-14T00:00:00.000000000",
          "2020-10-15T00:00:00.000000000",
          "2020-10-16T00:00:00.000000000",
          "2020-10-19T00:00:00.000000000",
          "2020-10-20T00:00:00.000000000",
          "2020-11-16T00:00:00.000000000",
          "2020-11-17T00:00:00.000000000",
          "2020-11-18T00:00:00.000000000",
          "2020-12-01T00:00:00.000000000",
          "2020-12-02T00:00:00.000000000",
          "2020-12-03T00:00:00.000000000",
          "2020-12-04T00:00:00.000000000",
          "2020-12-07T00:00:00.000000000",
          "2021-01-07T00:00:00.000000000",
          "2021-01-08T00:00:00.000000000",
          "2021-01-11T00:00:00.000000000",
          "2021-01-12T00:00:00.000000000",
          "2021-01-13T00:00:00.000000000",
          "2021-01-14T00:00:00.000000000",
          "2021-01-15T00:00:00.000000000",
          "2021-02-02T00:00:00.000000000",
          "2021-02-03T00:00:00.000000000",
          "2021-02-04T00:00:00.000000000",
          "2021-02-05T00:00:00.000000000",
          "2021-02-08T00:00:00.000000000",
          "2021-02-09T00:00:00.000000000",
          "2021-02-10T00:00:00.000000000",
          "2021-02-11T00:00:00.000000000",
          "2021-02-12T00:00:00.000000000",
          "2021-02-16T00:00:00.000000000",
          "2021-02-25T00:00:00.000000000",
          "2021-02-26T00:00:00.000000000",
          "2021-03-01T00:00:00.000000000",
          "2021-03-02T00:00:00.000000000",
          "2021-03-03T00:00:00.000000000",
          "2021-03-04T00:00:00.000000000",
          "2021-03-05T00:00:00.000000000",
          "2021-03-08T00:00:00.000000000",
          "2021-03-09T00:00:00.000000000",
          "2021-03-10T00:00:00.000000000",
          "2021-03-11T00:00:00.000000000",
          "2021-03-12T00:00:00.000000000",
          "2021-03-15T00:00:00.000000000",
          "2021-03-16T00:00:00.000000000",
          "2021-03-17T00:00:00.000000000",
          "2021-03-18T00:00:00.000000000",
          "2021-03-19T00:00:00.000000000",
          "2021-04-01T00:00:00.000000000",
          "2021-04-05T00:00:00.000000000",
          "2021-04-06T00:00:00.000000000",
          "2021-04-07T00:00:00.000000000",
          "2021-04-08T00:00:00.000000000",
          "2021-04-09T00:00:00.000000000",
          "2021-04-12T00:00:00.000000000",
          "2021-04-13T00:00:00.000000000",
          "2021-04-14T00:00:00.000000000",
          "2021-04-15T00:00:00.000000000",
          "2021-04-16T00:00:00.000000000",
          "2021-04-19T00:00:00.000000000",
          "2021-05-13T00:00:00.000000000",
          "2021-05-14T00:00:00.000000000",
          "2021-05-17T00:00:00.000000000",
          "2021-05-18T00:00:00.000000000",
          "2021-05-19T00:00:00.000000000",
          "2021-05-20T00:00:00.000000000",
          "2021-05-21T00:00:00.000000000",
          "2021-05-24T00:00:00.000000000",
          "2021-05-25T00:00:00.000000000",
          "2021-06-29T00:00:00.000000000",
          "2021-06-30T00:00:00.000000000",
          "2021-07-01T00:00:00.000000000",
          "2021-07-02T00:00:00.000000000",
          "2021-07-06T00:00:00.000000000",
          "2021-07-07T00:00:00.000000000",
          "2021-07-19T00:00:00.000000000",
          "2021-07-20T00:00:00.000000000",
          "2021-07-21T00:00:00.000000000",
          "2021-07-22T00:00:00.000000000",
          "2021-07-23T00:00:00.000000000",
          "2021-07-26T00:00:00.000000000",
          "2021-07-27T00:00:00.000000000",
          "2021-07-28T00:00:00.000000000",
          "2021-07-29T00:00:00.000000000",
          "2021-07-30T00:00:00.000000000",
          "2021-08-27T00:00:00.000000000",
          "2021-08-30T00:00:00.000000000",
          "2021-08-31T00:00:00.000000000",
          "2021-09-01T00:00:00.000000000",
          "2021-09-20T00:00:00.000000000",
          "2021-09-21T00:00:00.000000000",
          "2021-09-22T00:00:00.000000000",
          "2021-09-23T00:00:00.000000000",
          "2021-09-24T00:00:00.000000000",
          "2021-09-27T00:00:00.000000000",
          "2021-09-28T00:00:00.000000000",
          "2021-09-29T00:00:00.000000000",
          "2021-09-30T00:00:00.000000000",
          "2021-10-01T00:00:00.000000000",
          "2021-10-04T00:00:00.000000000",
          "2021-10-05T00:00:00.000000000",
          "2021-10-06T00:00:00.000000000",
          "2021-10-07T00:00:00.000000000",
          "2021-10-08T00:00:00.000000000",
          "2021-10-11T00:00:00.000000000",
          "2021-10-12T00:00:00.000000000",
          "2021-10-13T00:00:00.000000000",
          "2021-10-14T00:00:00.000000000",
          "2021-10-15T00:00:00.000000000",
          "2021-10-18T00:00:00.000000000",
          "2021-10-19T00:00:00.000000000",
          "2021-10-20T00:00:00.000000000",
          "2021-10-21T00:00:00.000000000",
          "2021-10-22T00:00:00.000000000",
          "2021-10-25T00:00:00.000000000",
          "2021-10-26T00:00:00.000000000",
          "2021-10-27T00:00:00.000000000",
          "2021-10-28T00:00:00.000000000",
          "2021-10-29T00:00:00.000000000",
          "2021-11-01T00:00:00.000000000",
          "2021-11-02T00:00:00.000000000",
          "2021-11-03T00:00:00.000000000",
          "2021-11-04T00:00:00.000000000",
          "2021-11-05T00:00:00.000000000",
          "2021-11-08T00:00:00.000000000",
          "2021-11-09T00:00:00.000000000",
          "2021-11-10T00:00:00.000000000",
          "2021-12-07T00:00:00.000000000",
          "2021-12-08T00:00:00.000000000",
          "2021-12-09T00:00:00.000000000",
          "2021-12-10T00:00:00.000000000",
          "2021-12-13T00:00:00.000000000",
          "2021-12-14T00:00:00.000000000",
          "2021-12-15T00:00:00.000000000",
          "2021-12-16T00:00:00.000000000",
          "2021-12-17T00:00:00.000000000",
          "2021-12-20T00:00:00.000000000",
          "2021-12-21T00:00:00.000000000",
          "2021-12-22T00:00:00.000000000",
          "2021-12-23T00:00:00.000000000",
          "2021-12-27T00:00:00.000000000",
          "2021-12-28T00:00:00.000000000",
          "2021-12-29T00:00:00.000000000",
          "2021-12-30T00:00:00.000000000",
          "2021-12-31T00:00:00.000000000",
          "2022-01-03T00:00:00.000000000",
          "2022-01-04T00:00:00.000000000",
          "2022-01-05T00:00:00.000000000",
          "2022-01-06T00:00:00.000000000",
          "2022-01-07T00:00:00.000000000",
          "2022-01-10T00:00:00.000000000",
          "2022-01-11T00:00:00.000000000",
          "2022-01-12T00:00:00.000000000",
          "2022-01-13T00:00:00.000000000",
          "2022-01-14T00:00:00.000000000",
          "2022-01-18T00:00:00.000000000",
          "2022-01-19T00:00:00.000000000",
          "2022-02-10T00:00:00.000000000",
          "2022-02-11T00:00:00.000000000",
          "2022-02-14T00:00:00.000000000",
          "2022-02-15T00:00:00.000000000",
          "2022-02-16T00:00:00.000000000",
          "2022-02-17T00:00:00.000000000",
          "2022-02-18T00:00:00.000000000",
          "2022-03-03T00:00:00.000000000",
          "2022-03-04T00:00:00.000000000",
          "2022-03-30T00:00:00.000000000",
          "2022-03-31T00:00:00.000000000",
          "2022-04-01T00:00:00.000000000",
          "2022-04-04T00:00:00.000000000",
          "2022-04-05T00:00:00.000000000",
          "2022-04-06T00:00:00.000000000",
          "2022-04-07T00:00:00.000000000",
          "2022-04-08T00:00:00.000000000",
          "2022-04-11T00:00:00.000000000",
          "2022-04-12T00:00:00.000000000",
          "2022-04-13T00:00:00.000000000",
          "2022-04-14T00:00:00.000000000",
          "2022-04-18T00:00:00.000000000",
          "2022-04-19T00:00:00.000000000",
          "2022-04-20T00:00:00.000000000",
          "2022-04-21T00:00:00.000000000",
          "2022-05-19T00:00:00.000000000",
          "2022-05-20T00:00:00.000000000",
          "2022-05-23T00:00:00.000000000",
          "2022-05-24T00:00:00.000000000",
          "2022-05-25T00:00:00.000000000",
          "2022-05-26T00:00:00.000000000",
          "2022-07-01T00:00:00.000000000",
          "2022-07-05T00:00:00.000000000",
          "2022-07-06T00:00:00.000000000",
          "2022-07-07T00:00:00.000000000",
          "2022-07-08T00:00:00.000000000",
          "2022-07-11T00:00:00.000000000",
          "2022-07-12T00:00:00.000000000",
          "2022-07-13T00:00:00.000000000",
          "2022-07-14T00:00:00.000000000",
          "2022-07-15T00:00:00.000000000",
          "2022-07-18T00:00:00.000000000",
          "2022-07-19T00:00:00.000000000",
          "2022-07-20T00:00:00.000000000",
          "2022-07-21T00:00:00.000000000",
          "2022-07-22T00:00:00.000000000",
          "2022-08-08T00:00:00.000000000",
          "2022-08-09T00:00:00.000000000",
          "2022-08-10T00:00:00.000000000",
          "2022-08-11T00:00:00.000000000",
          "2022-08-12T00:00:00.000000000",
          "2022-08-15T00:00:00.000000000",
          "2022-08-16T00:00:00.000000000",
          "2022-08-17T00:00:00.000000000",
          "2022-08-18T00:00:00.000000000",
          "2022-08-19T00:00:00.000000000",
          "2022-08-22T00:00:00.000000000",
          "2022-08-23T00:00:00.000000000",
          "2022-08-24T00:00:00.000000000",
          "2022-08-25T00:00:00.000000000",
          "2022-09-09T00:00:00.000000000",
          "2022-09-12T00:00:00.000000000",
          "2022-10-18T00:00:00.000000000",
          "2022-10-19T00:00:00.000000000",
          "2022-10-20T00:00:00.000000000",
          "2022-10-21T00:00:00.000000000",
          "2022-10-24T00:00:00.000000000",
          "2022-11-03T00:00:00.000000000",
          "2022-11-04T00:00:00.000000000",
          "2022-11-07T00:00:00.000000000",
          "2022-11-08T00:00:00.000000000",
          "2022-11-09T00:00:00.000000000",
          "2022-11-22T00:00:00.000000000",
          "2022-11-30T00:00:00.000000000",
          "2022-12-01T00:00:00.000000000",
          "2022-12-02T00:00:00.000000000",
          "2022-12-05T00:00:00.000000000",
          "2022-12-06T00:00:00.000000000",
          "2022-12-07T00:00:00.000000000",
          "2022-12-08T00:00:00.000000000",
          "2022-12-09T00:00:00.000000000",
          "2022-12-12T00:00:00.000000000",
          "2022-12-13T00:00:00.000000000",
          "2022-12-14T00:00:00.000000000",
          "2022-12-15T00:00:00.000000000",
          "2022-12-16T00:00:00.000000000",
          "2022-12-19T00:00:00.000000000",
          "2022-12-20T00:00:00.000000000",
          "2022-12-21T00:00:00.000000000",
          "2022-12-22T00:00:00.000000000",
          "2022-12-23T00:00:00.000000000",
          "2022-12-27T00:00:00.000000000",
          "2022-12-28T00:00:00.000000000",
          "2022-12-29T00:00:00.000000000",
          "2023-01-06T00:00:00.000000000",
          "2023-01-09T00:00:00.000000000",
          "2023-01-10T00:00:00.000000000",
          "2023-01-11T00:00:00.000000000",
          "2023-01-12T00:00:00.000000000",
          "2023-01-13T00:00:00.000000000",
          "2023-01-17T00:00:00.000000000",
          "2023-01-18T00:00:00.000000000",
          "2023-01-19T00:00:00.000000000",
          "2023-01-20T00:00:00.000000000",
          "2023-01-23T00:00:00.000000000",
          "2023-01-24T00:00:00.000000000",
          "2023-01-25T00:00:00.000000000",
          "2023-01-26T00:00:00.000000000",
          "2023-01-27T00:00:00.000000000",
          "2023-01-30T00:00:00.000000000",
          "2023-01-31T00:00:00.000000000",
          "2023-02-01T00:00:00.000000000",
          "2023-02-02T00:00:00.000000000",
          "2023-02-03T00:00:00.000000000",
          "2023-02-06T00:00:00.000000000",
          "2023-02-07T00:00:00.000000000",
          "2023-02-08T00:00:00.000000000",
          "2023-02-09T00:00:00.000000000",
          "2023-02-10T00:00:00.000000000",
          "2023-02-13T00:00:00.000000000",
          "2023-02-21T00:00:00.000000000",
          "2023-02-22T00:00:00.000000000",
          "2023-02-23T00:00:00.000000000",
          "2023-02-24T00:00:00.000000000",
          "2023-02-27T00:00:00.000000000",
          "2023-02-28T00:00:00.000000000",
          "2023-03-01T00:00:00.000000000",
          "2023-03-02T00:00:00.000000000",
          "2023-03-03T00:00:00.000000000",
          "2023-03-06T00:00:00.000000000",
          "2023-03-07T00:00:00.000000000",
          "2023-03-08T00:00:00.000000000",
          "2023-03-09T00:00:00.000000000",
          "2023-03-10T00:00:00.000000000",
          "2023-03-17T00:00:00.000000000",
          "2023-03-20T00:00:00.000000000",
          "2023-03-21T00:00:00.000000000",
          "2023-03-22T00:00:00.000000000",
          "2023-03-23T00:00:00.000000000",
          "2023-03-24T00:00:00.000000000",
          "2023-03-27T00:00:00.000000000",
          "2023-03-28T00:00:00.000000000",
          "2023-03-29T00:00:00.000000000",
          "2023-03-30T00:00:00.000000000",
          "2023-03-31T00:00:00.000000000",
          "2023-04-03T00:00:00.000000000",
          "2023-04-04T00:00:00.000000000",
          "2023-04-05T00:00:00.000000000",
          "2023-04-06T00:00:00.000000000",
          "2023-04-10T00:00:00.000000000",
          "2023-04-11T00:00:00.000000000",
          "2023-04-27T00:00:00.000000000",
          "2023-04-28T00:00:00.000000000",
          "2023-05-01T00:00:00.000000000",
          "2023-05-02T00:00:00.000000000",
          "2023-05-03T00:00:00.000000000",
          "2023-05-04T00:00:00.000000000",
          "2023-05-05T00:00:00.000000000",
          "2023-05-08T00:00:00.000000000",
          "2023-05-09T00:00:00.000000000",
          "2023-05-25T00:00:00.000000000",
          "2023-05-26T00:00:00.000000000",
          "2023-05-30T00:00:00.000000000",
          "2023-05-31T00:00:00.000000000",
          "2023-06-01T00:00:00.000000000",
          "2023-06-02T00:00:00.000000000",
          "2023-06-05T00:00:00.000000000",
          "2023-06-06T00:00:00.000000000",
          "2023-06-07T00:00:00.000000000",
          "2023-06-08T00:00:00.000000000",
          "2023-06-09T00:00:00.000000000",
          "2023-06-12T00:00:00.000000000",
          "2023-06-13T00:00:00.000000000",
          "2023-06-14T00:00:00.000000000",
          "2023-06-15T00:00:00.000000000",
          "2023-06-16T00:00:00.000000000",
          "2023-06-20T00:00:00.000000000",
          "2023-06-21T00:00:00.000000000",
          "2023-06-22T00:00:00.000000000",
          "2023-06-23T00:00:00.000000000",
          "2023-06-30T00:00:00.000000000",
          "2023-07-03T00:00:00.000000000",
          "2023-07-05T00:00:00.000000000",
          "2023-07-06T00:00:00.000000000",
          "2023-07-07T00:00:00.000000000",
          "2023-07-10T00:00:00.000000000",
          "2023-07-11T00:00:00.000000000",
          "2023-07-12T00:00:00.000000000",
          "2023-07-13T00:00:00.000000000",
          "2023-07-14T00:00:00.000000000",
          "2023-07-17T00:00:00.000000000",
          "2023-07-18T00:00:00.000000000",
          "2023-07-19T00:00:00.000000000",
          "2023-07-20T00:00:00.000000000",
          "2023-07-21T00:00:00.000000000",
          "2023-07-24T00:00:00.000000000",
          "2023-08-04T00:00:00.000000000",
          "2023-08-07T00:00:00.000000000",
          "2023-08-08T00:00:00.000000000",
          "2023-08-09T00:00:00.000000000",
          "2023-08-10T00:00:00.000000000",
          "2023-08-11T00:00:00.000000000",
          "2023-08-14T00:00:00.000000000",
          "2023-08-15T00:00:00.000000000",
          "2023-08-16T00:00:00.000000000",
          "2023-08-17T00:00:00.000000000",
          "2023-08-18T00:00:00.000000000",
          "2023-08-21T00:00:00.000000000",
          "2023-08-22T00:00:00.000000000",
          "2023-08-23T00:00:00.000000000",
          "2023-08-24T00:00:00.000000000",
          "2023-08-25T00:00:00.000000000",
          "2023-08-28T00:00:00.000000000",
          "2023-08-29T00:00:00.000000000",
          "2023-08-30T00:00:00.000000000",
          "2023-08-31T00:00:00.000000000",
          "2023-09-01T00:00:00.000000000",
          "2023-09-05T00:00:00.000000000",
          "2023-09-06T00:00:00.000000000",
          "2023-09-07T00:00:00.000000000",
          "2023-09-08T00:00:00.000000000",
          "2023-09-29T00:00:00.000000000",
          "2023-10-02T00:00:00.000000000",
          "2023-10-03T00:00:00.000000000",
          "2023-10-04T00:00:00.000000000",
          "2023-10-05T00:00:00.000000000",
          "2023-10-06T00:00:00.000000000",
          "2023-10-09T00:00:00.000000000",
          "2023-10-10T00:00:00.000000000",
          "2023-10-11T00:00:00.000000000",
          "2023-10-12T00:00:00.000000000",
          "2023-10-13T00:00:00.000000000",
          "2023-10-16T00:00:00.000000000",
          "2023-10-17T00:00:00.000000000",
          "2023-10-18T00:00:00.000000000",
          "2023-10-19T00:00:00.000000000",
          "2023-10-20T00:00:00.000000000",
          "2023-10-23T00:00:00.000000000",
          "2023-10-24T00:00:00.000000000",
          "2023-10-25T00:00:00.000000000",
          "2023-10-31T00:00:00.000000000",
          "2023-11-01T00:00:00.000000000",
          "2023-11-02T00:00:00.000000000",
          "2023-11-13T00:00:00.000000000",
          "2023-11-14T00:00:00.000000000",
          "2023-11-15T00:00:00.000000000",
          "2023-11-16T00:00:00.000000000",
          "2023-11-17T00:00:00.000000000",
          "2023-11-20T00:00:00.000000000",
          "2023-11-21T00:00:00.000000000",
          "2023-11-22T00:00:00.000000000",
          "2023-11-24T00:00:00.000000000",
          "2023-11-27T00:00:00.000000000",
          "2023-12-13T00:00:00.000000000",
          "2023-12-14T00:00:00.000000000",
          "2023-12-15T00:00:00.000000000",
          "2023-12-18T00:00:00.000000000",
          "2023-12-19T00:00:00.000000000",
          "2023-12-20T00:00:00.000000000",
          "2023-12-21T00:00:00.000000000",
          "2023-12-22T00:00:00.000000000",
          "2023-12-26T00:00:00.000000000",
          "2024-01-04T00:00:00.000000000",
          "2024-01-05T00:00:00.000000000",
          "2024-01-08T00:00:00.000000000",
          "2024-01-09T00:00:00.000000000",
          "2024-01-10T00:00:00.000000000",
          "2024-01-11T00:00:00.000000000",
          "2024-01-12T00:00:00.000000000",
          "2024-01-16T00:00:00.000000000",
          "2024-01-17T00:00:00.000000000",
          "2024-01-18T00:00:00.000000000",
          "2024-01-19T00:00:00.000000000",
          "2024-01-22T00:00:00.000000000",
          "2024-01-23T00:00:00.000000000",
          "2024-01-24T00:00:00.000000000",
          "2024-01-25T00:00:00.000000000",
          "2024-01-26T00:00:00.000000000",
          "2024-01-29T00:00:00.000000000",
          "2024-01-30T00:00:00.000000000",
          "2024-01-31T00:00:00.000000000",
          "2024-02-01T00:00:00.000000000",
          "2024-02-02T00:00:00.000000000",
          "2024-02-05T00:00:00.000000000",
          "2024-02-06T00:00:00.000000000",
          "2024-02-07T00:00:00.000000000",
          "2024-02-08T00:00:00.000000000",
          "2024-02-09T00:00:00.000000000",
          "2024-02-12T00:00:00.000000000",
          "2024-02-13T00:00:00.000000000",
          "2024-02-14T00:00:00.000000000",
          "2024-02-15T00:00:00.000000000",
          "2024-02-22T00:00:00.000000000",
          "2024-02-23T00:00:00.000000000",
          "2024-02-26T00:00:00.000000000",
          "2024-02-27T00:00:00.000000000",
          "2024-02-28T00:00:00.000000000",
          "2024-02-29T00:00:00.000000000",
          "2024-03-01T00:00:00.000000000",
          "2024-03-04T00:00:00.000000000",
          "2024-03-05T00:00:00.000000000",
          "2024-03-21T00:00:00.000000000",
          "2024-03-22T00:00:00.000000000",
          "2024-03-25T00:00:00.000000000",
          "2024-03-26T00:00:00.000000000",
          "2024-03-27T00:00:00.000000000",
          "2024-03-28T00:00:00.000000000",
          "2024-04-12T00:00:00.000000000",
          "2024-04-15T00:00:00.000000000",
          "2024-04-16T00:00:00.000000000",
          "2024-04-17T00:00:00.000000000",
          "2024-04-23T00:00:00.000000000",
          "2024-04-24T00:00:00.000000000",
          "2024-04-25T00:00:00.000000000",
          "2024-04-26T00:00:00.000000000",
          "2024-04-29T00:00:00.000000000",
          "2024-04-30T00:00:00.000000000",
          "2024-05-01T00:00:00.000000000",
          "2024-05-02T00:00:00.000000000",
          "2024-05-03T00:00:00.000000000",
          "2024-05-06T00:00:00.000000000",
          "2024-05-07T00:00:00.000000000",
          "2024-05-08T00:00:00.000000000",
          "2024-05-09T00:00:00.000000000",
          "2024-05-10T00:00:00.000000000",
          "2024-05-13T00:00:00.000000000",
          "2024-05-14T00:00:00.000000000",
          "2024-05-15T00:00:00.000000000",
          "2024-05-16T00:00:00.000000000",
          "2024-05-17T00:00:00.000000000",
          "2024-05-20T00:00:00.000000000",
          "2024-05-21T00:00:00.000000000",
          "2024-05-22T00:00:00.000000000",
          "2024-05-23T00:00:00.000000000",
          "2024-06-06T00:00:00.000000000",
          "2024-06-07T00:00:00.000000000",
          "2024-06-10T00:00:00.000000000",
          "2024-06-11T00:00:00.000000000",
          "2024-06-12T00:00:00.000000000",
          "2024-06-13T00:00:00.000000000",
          "2024-06-14T00:00:00.000000000",
          "2024-06-17T00:00:00.000000000",
          "2024-06-18T00:00:00.000000000",
          "2024-06-20T00:00:00.000000000",
          "2024-06-21T00:00:00.000000000",
          "2024-06-24T00:00:00.000000000",
          "2024-06-25T00:00:00.000000000",
          "2024-07-05T00:00:00.000000000",
          "2024-07-08T00:00:00.000000000",
          "2024-07-09T00:00:00.000000000",
          "2024-07-10T00:00:00.000000000",
          "2024-07-11T00:00:00.000000000",
          "2024-07-12T00:00:00.000000000",
          "2024-07-15T00:00:00.000000000",
          "2024-07-16T00:00:00.000000000",
          "2024-07-17T00:00:00.000000000",
          "2024-07-18T00:00:00.000000000",
          "2024-07-19T00:00:00.000000000",
          "2024-07-22T00:00:00.000000000",
          "2024-07-23T00:00:00.000000000",
          "2024-07-30T00:00:00.000000000",
          "2024-07-31T00:00:00.000000000",
          "2024-08-01T00:00:00.000000000",
          "2024-08-26T00:00:00.000000000",
          "2024-08-27T00:00:00.000000000",
          "2024-09-11T00:00:00.000000000",
          "2024-09-12T00:00:00.000000000",
          "2024-09-13T00:00:00.000000000",
          "2024-09-16T00:00:00.000000000",
          "2024-09-23T00:00:00.000000000",
          "2024-09-24T00:00:00.000000000",
          "2024-09-25T00:00:00.000000000",
          "2024-09-26T00:00:00.000000000",
          "2024-09-27T00:00:00.000000000",
          "2024-09-30T00:00:00.000000000",
          "2024-10-01T00:00:00.000000000",
          "2024-10-10T00:00:00.000000000",
          "2024-10-11T00:00:00.000000000",
          "2024-10-14T00:00:00.000000000",
          "2024-10-15T00:00:00.000000000",
          "2024-10-16T00:00:00.000000000",
          "2024-10-17T00:00:00.000000000",
          "2024-10-18T00:00:00.000000000",
          "2024-10-21T00:00:00.000000000",
          "2024-10-31T00:00:00.000000000",
          "2024-11-01T00:00:00.000000000",
          "2024-11-04T00:00:00.000000000",
          "2024-11-05T00:00:00.000000000",
          "2024-11-06T00:00:00.000000000",
          "2024-11-18T00:00:00.000000000",
          "2024-11-19T00:00:00.000000000",
          "2024-11-20T00:00:00.000000000",
          "2024-11-21T00:00:00.000000000",
          "2024-11-22T00:00:00.000000000",
          "2024-11-25T00:00:00.000000000",
          "2024-11-26T00:00:00.000000000",
          "2024-11-27T00:00:00.000000000",
          "2024-11-29T00:00:00.000000000",
          "2024-12-02T00:00:00.000000000",
          "2024-12-03T00:00:00.000000000",
          "2024-12-04T00:00:00.000000000",
          "2024-12-05T00:00:00.000000000",
          "2024-12-06T00:00:00.000000000",
          "2024-12-09T00:00:00.000000000"
         ],
         "xaxis": "x3",
         "y": {
          "bdata": "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",
          "dtype": "f8"
         },
         "yaxis": "y3"
        }
       ],
       "layout": {
        "annotations": [
         {
          "font": {
           "size": 16
          },
          "showarrow": false,
          "text": "SPY Close Price by Regime",
          "x": 0.5,
          "xanchor": "center",
          "xref": "paper",
          "y": 1,
          "yanchor": "bottom",
          "yref": "paper"
         },
         {
          "font": {
           "size": 16
          },
          "showarrow": false,
          "text": "VIX by Regime",
          "x": 0.5,
          "xanchor": "center",
          "xref": "paper",
          "y": 0.6333333333333333,
          "yanchor": "bottom",
          "yref": "paper"
         },
         {
          "font": {
           "size": 16
          },
          "showarrow": false,
          "text": "LogVIX by Regime",
          "x": 0.5,
          "xanchor": "center",
          "xref": "paper",
          "y": 0.26666666666666666,
          "yanchor": "bottom",
          "yref": "paper"
         }
        ],
        "height": 1000,
        "hovermode": "closest",
        "legend": {
         "title": {
          "text": "Regime"
         }
        },
        "template": {
         "data": {
          "bar": [
           {
            "error_x": {
             "color": "#2a3f5f"
            },
            "error_y": {
             "color": "#2a3f5f"
            },
            "marker": {
             "line": {
              "color": "white",
              "width": 0.5
             },
             "pattern": {
              "fillmode": "overlay",
              "size": 10,
              "solidity": 0.2
             }
            },
            "type": "bar"
           }
          ],
          "barpolar": [
           {
            "marker": {
             "line": {
              "color": "white",
              "width": 0.5
             },
             "pattern": {
              "fillmode": "overlay",
              "size": 10,
              "solidity": 0.2
             }
            },
            "type": "barpolar"
           }
          ],
          "carpet": [
           {
            "aaxis": {
             "endlinecolor": "#2a3f5f",
             "gridcolor": "#C8D4E3",
             "linecolor": "#C8D4E3",
             "minorgridcolor": "#C8D4E3",
             "startlinecolor": "#2a3f5f"
            },
            "baxis": {
             "endlinecolor": "#2a3f5f",
             "gridcolor": "#C8D4E3",
             "linecolor": "#C8D4E3",
             "minorgridcolor": "#C8D4E3",
             "startlinecolor": "#2a3f5f"
            },
            "type": "carpet"
           }
          ],
          "choropleth": [
           {
            "colorbar": {
             "outlinewidth": 0,
             "ticks": ""
            },
            "type": "choropleth"
           }
          ],
          "contour": [
           {
            "colorbar": {
             "outlinewidth": 0,
             "ticks": ""
            },
            "colorscale": [
             [
              0,
              "#0d0887"
             ],
             [
              0.1111111111111111,
              "#46039f"
             ],
             [
              0.2222222222222222,
              "#7201a8"
             ],
             [
              0.3333333333333333,
              "#9c179e"
             ],
             [
              0.4444444444444444,
              "#bd3786"
             ],
             [
              0.5555555555555556,
              "#d8576b"
             ],
             [
              0.6666666666666666,
              "#ed7953"
             ],
             [
              0.7777777777777778,
              "#fb9f3a"
             ],
             [
              0.8888888888888888,
              "#fdca26"
             ],
             [
              1,
              "#f0f921"
             ]
            ],
            "type": "contour"
           }
          ],
          "contourcarpet": [
           {
            "colorbar": {
             "outlinewidth": 0,
             "ticks": ""
            },
            "type": "contourcarpet"
           }
          ],
          "heatmap": [
           {
            "colorbar": {
             "outlinewidth": 0,
             "ticks": ""
            },
            "colorscale": [
             [
              0,
              "#0d0887"
             ],
             [
              0.1111111111111111,
              "#46039f"
             ],
             [
              0.2222222222222222,
              "#7201a8"
             ],
             [
              0.3333333333333333,
              "#9c179e"
             ],
             [
              0.4444444444444444,
              "#bd3786"
             ],
             [
              0.5555555555555556,
              "#d8576b"
             ],
             [
              0.6666666666666666,
              "#ed7953"
             ],
             [
              0.7777777777777778,
              "#fb9f3a"
             ],
             [
              0.8888888888888888,
              "#fdca26"
             ],
             [
              1,
              "#f0f921"
             ]
            ],
            "type": "heatmap"
           }
          ],
          "histogram": [
           {
            "marker": {
             "pattern": {
              "fillmode": "overlay",
              "size": 10,
              "solidity": 0.2
             }
            },
            "type": "histogram"
           }
          ],
          "histogram2d": [
           {
            "colorbar": {
             "outlinewidth": 0,
             "ticks": ""
            },
            "colorscale": [
             [
              0,
              "#0d0887"
             ],
             [
              0.1111111111111111,
              "#46039f"
             ],
             [
              0.2222222222222222,
              "#7201a8"
             ],
             [
              0.3333333333333333,
              "#9c179e"
             ],
             [
              0.4444444444444444,
              "#bd3786"
             ],
             [
              0.5555555555555556,
              "#d8576b"
             ],
             [
              0.6666666666666666,
              "#ed7953"
             ],
             [
              0.7777777777777778,
              "#fb9f3a"
             ],
             [
              0.8888888888888888,
              "#fdca26"
             ],
             [
              1,
              "#f0f921"
             ]
            ],
            "type": "histogram2d"
           }
          ],
          "histogram2dcontour": [
           {
            "colorbar": {
             "outlinewidth": 0,
             "ticks": ""
            },
            "colorscale": [
             [
              0,
              "#0d0887"
             ],
             [
              0.1111111111111111,
              "#46039f"
             ],
             [
              0.2222222222222222,
              "#7201a8"
             ],
             [
              0.3333333333333333,
              "#9c179e"
             ],
             [
              0.4444444444444444,
              "#bd3786"
             ],
             [
              0.5555555555555556,
              "#d8576b"
             ],
             [
              0.6666666666666666,
              "#ed7953"
             ],
             [
              0.7777777777777778,
              "#fb9f3a"
             ],
             [
              0.8888888888888888,
              "#fdca26"
             ],
             [
              1,
              "#f0f921"
             ]
            ],
            "type": "histogram2dcontour"
           }
          ],
          "mesh3d": [
           {
            "colorbar": {
             "outlinewidth": 0,
             "ticks": ""
            },
            "type": "mesh3d"
           }
          ],
          "parcoords": [
           {
            "line": {
             "colorbar": {
              "outlinewidth": 0,
              "ticks": ""
             }
            },
            "type": "parcoords"
           }
          ],
          "pie": [
           {
            "automargin": true,
            "type": "pie"
           }
          ],
          "scatter": [
           {
            "fillpattern": {
             "fillmode": "overlay",
             "size": 10,
             "solidity": 0.2
            },
            "type": "scatter"
           }
          ],
          "scatter3d": [
           {
            "line": {
             "colorbar": {
              "outlinewidth": 0,
              "ticks": ""
             }
            },
            "marker": {
             "colorbar": {
              "outlinewidth": 0,
              "ticks": ""
             }
            },
            "type": "scatter3d"
           }
          ],
          "scattercarpet": [
           {
            "marker": {
             "colorbar": {
              "outlinewidth": 0,
              "ticks": ""
             }
            },
            "type": "scattercarpet"
           }
          ],
          "scattergeo": [
           {
            "marker": {
             "colorbar": {
              "outlinewidth": 0,
              "ticks": ""
             }
            },
            "type": "scattergeo"
           }
          ],
          "scattergl": [
           {
            "marker": {
             "colorbar": {
              "outlinewidth": 0,
              "ticks": ""
             }
            },
            "type": "scattergl"
           }
          ],
          "scattermap": [
           {
            "marker": {
             "colorbar": {
              "outlinewidth": 0,
              "ticks": ""
             }
            },
            "type": "scattermap"
           }
          ],
          "scattermapbox": [
           {
            "marker": {
             "colorbar": {
              "outlinewidth": 0,
              "ticks": ""
             }
            },
            "type": "scattermapbox"
           }
          ],
          "scatterpolar": [
           {
            "marker": {
             "colorbar": {
              "outlinewidth": 0,
              "ticks": ""
             }
            },
            "type": "scatterpolar"
           }
          ],
          "scatterpolargl": [
           {
            "marker": {
             "colorbar": {
              "outlinewidth": 0,
              "ticks": ""
             }
            },
            "type": "scatterpolargl"
           }
          ],
          "scatterternary": [
           {
            "marker": {
             "colorbar": {
              "outlinewidth": 0,
              "ticks": ""
             }
            },
            "type": "scatterternary"
           }
          ],
          "surface": [
           {
            "colorbar": {
             "outlinewidth": 0,
             "ticks": ""
            },
            "colorscale": [
             [
              0,
              "#0d0887"
             ],
             [
              0.1111111111111111,
              "#46039f"
             ],
             [
              0.2222222222222222,
              "#7201a8"
             ],
             [
              0.3333333333333333,
              "#9c179e"
             ],
             [
              0.4444444444444444,
              "#bd3786"
             ],
             [
              0.5555555555555556,
              "#d8576b"
             ],
             [
              0.6666666666666666,
              "#ed7953"
             ],
             [
              0.7777777777777778,
              "#fb9f3a"
             ],
             [
              0.8888888888888888,
              "#fdca26"
             ],
             [
              1,
              "#f0f921"
             ]
            ],
            "type": "surface"
           }
          ],
          "table": [
           {
            "cells": {
             "fill": {
              "color": "#EBF0F8"
             },
             "line": {
              "color": "white"
             }
            },
            "header": {
             "fill": {
              "color": "#C8D4E3"
             },
             "line": {
              "color": "white"
             }
            },
            "type": "table"
           }
          ]
         },
         "layout": {
          "annotationdefaults": {
           "arrowcolor": "#2a3f5f",
           "arrowhead": 0,
           "arrowwidth": 1
          },
          "autotypenumbers": "strict",
          "coloraxis": {
           "colorbar": {
            "outlinewidth": 0,
            "ticks": ""
           }
          },
          "colorscale": {
           "diverging": [
            [
             0,
             "#8e0152"
            ],
            [
             0.1,
             "#c51b7d"
            ],
            [
             0.2,
             "#de77ae"
            ],
            [
             0.3,
             "#f1b6da"
            ],
            [
             0.4,
             "#fde0ef"
            ],
            [
             0.5,
             "#f7f7f7"
            ],
            [
             0.6,
             "#e6f5d0"
            ],
            [
             0.7,
             "#b8e186"
            ],
            [
             0.8,
             "#7fbc41"
            ],
            [
             0.9,
             "#4d9221"
            ],
            [
             1,
             "#276419"
            ]
           ],
           "sequential": [
            [
             0,
             "#0d0887"
            ],
            [
             0.1111111111111111,
             "#46039f"
            ],
            [
             0.2222222222222222,
             "#7201a8"
            ],
            [
             0.3333333333333333,
             "#9c179e"
            ],
            [
             0.4444444444444444,
             "#bd3786"
            ],
            [
             0.5555555555555556,
             "#d8576b"
            ],
            [
             0.6666666666666666,
             "#ed7953"
            ],
            [
             0.7777777777777778,
             "#fb9f3a"
            ],
            [
             0.8888888888888888,
             "#fdca26"
            ],
            [
             1,
             "#f0f921"
            ]
           ],
           "sequentialminus": [
            [
             0,
             "#0d0887"
            ],
            [
             0.1111111111111111,
             "#46039f"
            ],
            [
             0.2222222222222222,
             "#7201a8"
            ],
            [
             0.3333333333333333,
             "#9c179e"
            ],
            [
             0.4444444444444444,
             "#bd3786"
            ],
            [
             0.5555555555555556,
             "#d8576b"
            ],
            [
             0.6666666666666666,
             "#ed7953"
            ],
            [
             0.7777777777777778,
             "#fb9f3a"
            ],
            [
             0.8888888888888888,
             "#fdca26"
            ],
            [
             1,
             "#f0f921"
            ]
           ]
          },
          "colorway": [
           "#636efa",
           "#EF553B",
           "#00cc96",
           "#ab63fa",
           "#FFA15A",
           "#19d3f3",
           "#FF6692",
           "#B6E880",
           "#FF97FF",
           "#FECB52"
          ],
          "font": {
           "color": "#2a3f5f"
          },
          "geo": {
           "bgcolor": "white",
           "lakecolor": "white",
           "landcolor": "white",
           "showlakes": true,
           "showland": true,
           "subunitcolor": "#C8D4E3"
          },
          "hoverlabel": {
           "align": "left"
          },
          "hovermode": "closest",
          "mapbox": {
           "style": "light"
          },
          "paper_bgcolor": "white",
          "plot_bgcolor": "white",
          "polar": {
           "angularaxis": {
            "gridcolor": "#EBF0F8",
            "linecolor": "#EBF0F8",
            "ticks": ""
           },
           "bgcolor": "white",
           "radialaxis": {
            "gridcolor": "#EBF0F8",
            "linecolor": "#EBF0F8",
            "ticks": ""
           }
          },
          "scene": {
           "xaxis": {
            "backgroundcolor": "white",
            "gridcolor": "#DFE8F3",
            "gridwidth": 2,
            "linecolor": "#EBF0F8",
            "showbackground": true,
            "ticks": "",
            "zerolinecolor": "#EBF0F8"
           },
           "yaxis": {
            "backgroundcolor": "white",
            "gridcolor": "#DFE8F3",
            "gridwidth": 2,
            "linecolor": "#EBF0F8",
            "showbackground": true,
            "ticks": "",
            "zerolinecolor": "#EBF0F8"
           },
           "zaxis": {
            "backgroundcolor": "white",
            "gridcolor": "#DFE8F3",
            "gridwidth": 2,
            "linecolor": "#EBF0F8",
            "showbackground": true,
            "ticks": "",
            "zerolinecolor": "#EBF0F8"
           }
          },
          "shapedefaults": {
           "line": {
            "color": "#2a3f5f"
           }
          },
          "ternary": {
           "aaxis": {
            "gridcolor": "#DFE8F3",
            "linecolor": "#A2B1C6",
            "ticks": ""
           },
           "baxis": {
            "gridcolor": "#DFE8F3",
            "linecolor": "#A2B1C6",
            "ticks": ""
           },
           "bgcolor": "white",
           "caxis": {
            "gridcolor": "#DFE8F3",
            "linecolor": "#A2B1C6",
            "ticks": ""
           }
          },
          "title": {
           "x": 0.05
          },
          "xaxis": {
           "automargin": true,
           "gridcolor": "#EBF0F8",
           "linecolor": "#EBF0F8",
           "ticks": "",
           "title": {
            "standoff": 15
           },
           "zerolinecolor": "#EBF0F8",
           "zerolinewidth": 2
          },
          "yaxis": {
           "automargin": true,
           "gridcolor": "#EBF0F8",
           "linecolor": "#EBF0F8",
           "ticks": "",
           "title": {
            "standoff": 15
           },
           "zerolinecolor": "#EBF0F8",
           "zerolinewidth": 2
          }
         }
        },
        "title": {
         "text": "Market Regimes with SPY, VIX, and LogVIX (Training Period: 2018-01-01 to 2024-12-31)"
        },
        "xaxis": {
         "anchor": "y",
         "domain": [
          0,
          1
         ],
         "matches": "x3",
         "showticklabels": false
        },
        "xaxis2": {
         "anchor": "y2",
         "domain": [
          0,
          1
         ],
         "matches": "x3",
         "showticklabels": false
        },
        "xaxis3": {
         "anchor": "y3",
         "domain": [
          0,
          1
         ],
         "title": {
          "text": "Date"
         }
        },
        "yaxis": {
         "anchor": "x",
         "domain": [
          0.7333333333333334,
          1
         ],
         "title": {
          "text": "SPY Price"
         }
        },
        "yaxis2": {
         "anchor": "x2",
         "domain": [
          0.3666666666666667,
          0.6333333333333333
         ],
         "title": {
          "text": "VIX"
         }
        },
        "yaxis3": {
         "anchor": "x3",
         "domain": [
          0,
          0.26666666666666666
         ],
         "title": {
          "text": "LogVIX"
         }
        }
       }
      }
     },
     "metadata": {},
     "output_type": "display_data"
    },
    {
     "data": {
      "application/vnd.plotly.v1+json": {
       "config": {
        "plotlyServerURL": "https://plot.ly"
       },
       "data": [
        {
         "colorscale": [
          [
           0,
           "rgb(247,251,255)"
          ],
          [
           0.125,
           "rgb(222,235,247)"
          ],
          [
           0.25,
           "rgb(198,219,239)"
          ],
          [
           0.375,
           "rgb(158,202,225)"
          ],
          [
           0.5,
           "rgb(107,174,214)"
          ],
          [
           0.625,
           "rgb(66,146,198)"
          ],
          [
           0.75,
           "rgb(33,113,181)"
          ],
          [
           0.875,
           "rgb(8,81,156)"
          ],
          [
           1,
           "rgb(8,48,107)"
          ]
         ],
         "text": {
          "bdata": "FK5H4XoU7j97FK5H4XqUP5qZmZmZmak/AAAAAAAAAAB7FK5H4XrsPylcj8L1KLw/uB6F61G4rj+4HoXrUbiePx+F61G4Hu0/",
          "dtype": "f8",
          "shape": "3, 3"
         },
         "textfont": {
          "size": 14
         },
         "texttemplate": "%{text:.2f}",
         "type": "heatmap",
         "x": [
          "Regime 0",
          "Regime 1",
          "Regime 2"
         ],
         "y": [
          "Regime 0",
          "Regime 1",
          "Regime 2"
         ],
         "z": {
          "bdata": "sfRrFLPr7T9AkCi1VPmQP95srF4kyKg/+uKlUe8Wvjn3eEdGEnfsPz44xM1tR7w/OcEwGjdUrT8sLHHLByqfP4tqAVBsMe0/",
          "dtype": "f8",
          "shape": "3, 3"
         }
        }
       ],
       "layout": {
        "height": 600,
        "template": {
         "data": {
          "bar": [
           {
            "error_x": {
             "color": "#2a3f5f"
            },
            "error_y": {
             "color": "#2a3f5f"
            },
            "marker": {
             "line": {
              "color": "white",
              "width": 0.5
             },
             "pattern": {
              "fillmode": "overlay",
              "size": 10,
              "solidity": 0.2
             }
            },
            "type": "bar"
           }
          ],
          "barpolar": [
           {
            "marker": {
             "line": {
              "color": "white",
              "width": 0.5
             },
             "pattern": {
              "fillmode": "overlay",
              "size": 10,
              "solidity": 0.2
             }
            },
            "type": "barpolar"
           }
          ],
          "carpet": [
           {
            "aaxis": {
             "endlinecolor": "#2a3f5f",
             "gridcolor": "#C8D4E3",
             "linecolor": "#C8D4E3",
             "minorgridcolor": "#C8D4E3",
             "startlinecolor": "#2a3f5f"
            },
            "baxis": {
             "endlinecolor": "#2a3f5f",
             "gridcolor": "#C8D4E3",
             "linecolor": "#C8D4E3",
             "minorgridcolor": "#C8D4E3",
             "startlinecolor": "#2a3f5f"
            },
            "type": "carpet"
           }
          ],
          "choropleth": [
           {
            "colorbar": {
             "outlinewidth": 0,
             "ticks": ""
            },
            "type": "choropleth"
           }
          ],
          "contour": [
           {
            "colorbar": {
             "outlinewidth": 0,
             "ticks": ""
            },
            "colorscale": [
             [
              0,
              "#0d0887"
             ],
             [
              0.1111111111111111,
              "#46039f"
             ],
             [
              0.2222222222222222,
              "#7201a8"
             ],
             [
              0.3333333333333333,
              "#9c179e"
             ],
             [
              0.4444444444444444,
              "#bd3786"
             ],
             [
              0.5555555555555556,
              "#d8576b"
             ],
             [
              0.6666666666666666,
              "#ed7953"
             ],
             [
              0.7777777777777778,
              "#fb9f3a"
             ],
             [
              0.8888888888888888,
              "#fdca26"
             ],
             [
              1,
              "#f0f921"
             ]
            ],
            "type": "contour"
           }
          ],
          "contourcarpet": [
           {
            "colorbar": {
             "outlinewidth": 0,
             "ticks": ""
            },
            "type": "contourcarpet"
           }
          ],
          "heatmap": [
           {
            "colorbar": {
             "outlinewidth": 0,
             "ticks": ""
            },
            "colorscale": [
             [
              0,
              "#0d0887"
             ],
             [
              0.1111111111111111,
              "#46039f"
             ],
             [
              0.2222222222222222,
              "#7201a8"
             ],
             [
              0.3333333333333333,
              "#9c179e"
             ],
             [
              0.4444444444444444,
              "#bd3786"
             ],
             [
              0.5555555555555556,
              "#d8576b"
             ],
             [
              0.6666666666666666,
              "#ed7953"
             ],
             [
              0.7777777777777778,
              "#fb9f3a"
             ],
             [
              0.8888888888888888,
              "#fdca26"
             ],
             [
              1,
              "#f0f921"
             ]
            ],
            "type": "heatmap"
           }
          ],
          "histogram": [
           {
            "marker": {
             "pattern": {
              "fillmode": "overlay",
              "size": 10,
              "solidity": 0.2
             }
            },
            "type": "histogram"
           }
          ],
          "histogram2d": [
           {
            "colorbar": {
             "outlinewidth": 0,
             "ticks": ""
            },
            "colorscale": [
             [
              0,
              "#0d0887"
             ],
             [
              0.1111111111111111,
              "#46039f"
             ],
             [
              0.2222222222222222,
              "#7201a8"
             ],
             [
              0.3333333333333333,
              "#9c179e"
             ],
             [
              0.4444444444444444,
              "#bd3786"
             ],
             [
              0.5555555555555556,
              "#d8576b"
             ],
             [
              0.6666666666666666,
              "#ed7953"
             ],
             [
              0.7777777777777778,
              "#fb9f3a"
             ],
             [
              0.8888888888888888,
              "#fdca26"
             ],
             [
              1,
              "#f0f921"
             ]
            ],
            "type": "histogram2d"
           }
          ],
          "histogram2dcontour": [
           {
            "colorbar": {
             "outlinewidth": 0,
             "ticks": ""
            },
            "colorscale": [
             [
              0,
              "#0d0887"
             ],
             [
              0.1111111111111111,
              "#46039f"
             ],
             [
              0.2222222222222222,
              "#7201a8"
             ],
             [
              0.3333333333333333,
              "#9c179e"
             ],
             [
              0.4444444444444444,
              "#bd3786"
             ],
             [
              0.5555555555555556,
              "#d8576b"
             ],
             [
              0.6666666666666666,
              "#ed7953"
             ],
             [
              0.7777777777777778,
              "#fb9f3a"
             ],
             [
              0.8888888888888888,
              "#fdca26"
             ],
             [
              1,
              "#f0f921"
             ]
            ],
            "type": "histogram2dcontour"
           }
          ],
          "mesh3d": [
           {
            "colorbar": {
             "outlinewidth": 0,
             "ticks": ""
            },
            "type": "mesh3d"
           }
          ],
          "parcoords": [
           {
            "line": {
             "colorbar": {
              "outlinewidth": 0,
              "ticks": ""
             }
            },
            "type": "parcoords"
           }
          ],
          "pie": [
           {
            "automargin": true,
            "type": "pie"
           }
          ],
          "scatter": [
           {
            "fillpattern": {
             "fillmode": "overlay",
             "size": 10,
             "solidity": 0.2
            },
            "type": "scatter"
           }
          ],
          "scatter3d": [
           {
            "line": {
             "colorbar": {
              "outlinewidth": 0,
              "ticks": ""
             }
            },
            "marker": {
             "colorbar": {
              "outlinewidth": 0,
              "ticks": ""
             }
            },
            "type": "scatter3d"
           }
          ],
          "scattercarpet": [
           {
            "marker": {
             "colorbar": {
              "outlinewidth": 0,
              "ticks": ""
             }
            },
            "type": "scattercarpet"
           }
          ],
          "scattergeo": [
           {
            "marker": {
             "colorbar": {
              "outlinewidth": 0,
              "ticks": ""
             }
            },
            "type": "scattergeo"
           }
          ],
          "scattergl": [
           {
            "marker": {
             "colorbar": {
              "outlinewidth": 0,
              "ticks": ""
             }
            },
            "type": "scattergl"
           }
          ],
          "scattermap": [
           {
            "marker": {
             "colorbar": {
              "outlinewidth": 0,
              "ticks": ""
             }
            },
            "type": "scattermap"
           }
          ],
          "scattermapbox": [
           {
            "marker": {
             "colorbar": {
              "outlinewidth": 0,
              "ticks": ""
             }
            },
            "type": "scattermapbox"
           }
          ],
          "scatterpolar": [
           {
            "marker": {
             "colorbar": {
              "outlinewidth": 0,
              "ticks": ""
             }
            },
            "type": "scatterpolar"
           }
          ],
          "scatterpolargl": [
           {
            "marker": {
             "colorbar": {
              "outlinewidth": 0,
              "ticks": ""
             }
            },
            "type": "scatterpolargl"
           }
          ],
          "scatterternary": [
           {
            "marker": {
             "colorbar": {
              "outlinewidth": 0,
              "ticks": ""
             }
            },
            "type": "scatterternary"
           }
          ],
          "surface": [
           {
            "colorbar": {
             "outlinewidth": 0,
             "ticks": ""
            },
            "colorscale": [
             [
              0,
              "#0d0887"
             ],
             [
              0.1111111111111111,
              "#46039f"
             ],
             [
              0.2222222222222222,
              "#7201a8"
             ],
             [
              0.3333333333333333,
              "#9c179e"
             ],
             [
              0.4444444444444444,
              "#bd3786"
             ],
             [
              0.5555555555555556,
              "#d8576b"
             ],
             [
              0.6666666666666666,
              "#ed7953"
             ],
             [
              0.7777777777777778,
              "#fb9f3a"
             ],
             [
              0.8888888888888888,
              "#fdca26"
             ],
             [
              1,
              "#f0f921"
             ]
            ],
            "type": "surface"
           }
          ],
          "table": [
           {
            "cells": {
             "fill": {
              "color": "#EBF0F8"
             },
             "line": {
              "color": "white"
             }
            },
            "header": {
             "fill": {
              "color": "#C8D4E3"
             },
             "line": {
              "color": "white"
             }
            },
            "type": "table"
           }
          ]
         },
         "layout": {
          "annotationdefaults": {
           "arrowcolor": "#2a3f5f",
           "arrowhead": 0,
           "arrowwidth": 1
          },
          "autotypenumbers": "strict",
          "coloraxis": {
           "colorbar": {
            "outlinewidth": 0,
            "ticks": ""
           }
          },
          "colorscale": {
           "diverging": [
            [
             0,
             "#8e0152"
            ],
            [
             0.1,
             "#c51b7d"
            ],
            [
             0.2,
             "#de77ae"
            ],
            [
             0.3,
             "#f1b6da"
            ],
            [
             0.4,
             "#fde0ef"
            ],
            [
             0.5,
             "#f7f7f7"
            ],
            [
             0.6,
             "#e6f5d0"
            ],
            [
             0.7,
             "#b8e186"
            ],
            [
             0.8,
             "#7fbc41"
            ],
            [
             0.9,
             "#4d9221"
            ],
            [
             1,
             "#276419"
            ]
           ],
           "sequential": [
            [
             0,
             "#0d0887"
            ],
            [
             0.1111111111111111,
             "#46039f"
            ],
            [
             0.2222222222222222,
             "#7201a8"
            ],
            [
             0.3333333333333333,
             "#9c179e"
            ],
            [
             0.4444444444444444,
             "#bd3786"
            ],
            [
             0.5555555555555556,
             "#d8576b"
            ],
            [
             0.6666666666666666,
             "#ed7953"
            ],
            [
             0.7777777777777778,
             "#fb9f3a"
            ],
            [
             0.8888888888888888,
             "#fdca26"
            ],
            [
             1,
             "#f0f921"
            ]
           ],
           "sequentialminus": [
            [
             0,
             "#0d0887"
            ],
            [
             0.1111111111111111,
             "#46039f"
            ],
            [
             0.2222222222222222,
             "#7201a8"
            ],
            [
             0.3333333333333333,
             "#9c179e"
            ],
            [
             0.4444444444444444,
             "#bd3786"
            ],
            [
             0.5555555555555556,
             "#d8576b"
            ],
            [
             0.6666666666666666,
             "#ed7953"
            ],
            [
             0.7777777777777778,
             "#fb9f3a"
            ],
            [
             0.8888888888888888,
             "#fdca26"
            ],
            [
             1,
             "#f0f921"
            ]
           ]
          },
          "colorway": [
           "#636efa",
           "#EF553B",
           "#00cc96",
           "#ab63fa",
           "#FFA15A",
           "#19d3f3",
           "#FF6692",
           "#B6E880",
           "#FF97FF",
           "#FECB52"
          ],
          "font": {
           "color": "#2a3f5f"
          },
          "geo": {
           "bgcolor": "white",
           "lakecolor": "white",
           "landcolor": "white",
           "showlakes": true,
           "showland": true,
           "subunitcolor": "#C8D4E3"
          },
          "hoverlabel": {
           "align": "left"
          },
          "hovermode": "closest",
          "mapbox": {
           "style": "light"
          },
          "paper_bgcolor": "white",
          "plot_bgcolor": "white",
          "polar": {
           "angularaxis": {
            "gridcolor": "#EBF0F8",
            "linecolor": "#EBF0F8",
            "ticks": ""
           },
           "bgcolor": "white",
           "radialaxis": {
            "gridcolor": "#EBF0F8",
            "linecolor": "#EBF0F8",
            "ticks": ""
           }
          },
          "scene": {
           "xaxis": {
            "backgroundcolor": "white",
            "gridcolor": "#DFE8F3",
            "gridwidth": 2,
            "linecolor": "#EBF0F8",
            "showbackground": true,
            "ticks": "",
            "zerolinecolor": "#EBF0F8"
           },
           "yaxis": {
            "backgroundcolor": "white",
            "gridcolor": "#DFE8F3",
            "gridwidth": 2,
            "linecolor": "#EBF0F8",
            "showbackground": true,
            "ticks": "",
            "zerolinecolor": "#EBF0F8"
           },
           "zaxis": {
            "backgroundcolor": "white",
            "gridcolor": "#DFE8F3",
            "gridwidth": 2,
            "linecolor": "#EBF0F8",
            "showbackground": true,
            "ticks": "",
            "zerolinecolor": "#EBF0F8"
           }
          },
          "shapedefaults": {
           "line": {
            "color": "#2a3f5f"
           }
          },
          "ternary": {
           "aaxis": {
            "gridcolor": "#DFE8F3",
            "linecolor": "#A2B1C6",
            "ticks": ""
           },
           "baxis": {
            "gridcolor": "#DFE8F3",
            "linecolor": "#A2B1C6",
            "ticks": ""
           },
           "bgcolor": "white",
           "caxis": {
            "gridcolor": "#DFE8F3",
            "linecolor": "#A2B1C6",
            "ticks": ""
           }
          },
          "title": {
           "x": 0.05
          },
          "xaxis": {
           "automargin": true,
           "gridcolor": "#EBF0F8",
           "linecolor": "#EBF0F8",
           "ticks": "",
           "title": {
            "standoff": 15
           },
           "zerolinecolor": "#EBF0F8",
           "zerolinewidth": 2
          },
          "yaxis": {
           "automargin": true,
           "gridcolor": "#EBF0F8",
           "linecolor": "#EBF0F8",
           "ticks": "",
           "title": {
            "standoff": 15
           },
           "zerolinecolor": "#EBF0F8",
           "zerolinewidth": 2
          }
         }
        },
        "title": {
         "text": "Regime Transition Probabilities"
        },
        "width": 700,
        "xaxis": {
         "title": {
          "text": "To Regime"
         }
        },
        "yaxis": {
         "title": {
          "text": "From Regime"
         }
        }
       }
      }
     },
     "metadata": {},
     "output_type": "display_data"
    },
    {
     "name": "stdout",
     "output_type": "stream",
     "text": [
      "\n",
      "Stationary Distribution:\n",
      "Regime 0: 38.51%\n",
      "Regime 1: 17.81%\n",
      "Regime 2: 43.68%\n"
     ]
    },
    {
     "data": {
      "application/vnd.plotly.v1+json": {
       "config": {
        "plotlyServerURL": "https://plot.ly"
       },
       "data": [
        {
         "domain": {
          "x": [
           0,
           1
          ],
          "y": [
           0,
           1
          ]
         },
         "hovertemplate": "label=%{label}<br>value=%{value}<extra></extra>",
         "labels": [
          "Regime 0",
          "Regime 1",
          "Regime 2"
         ],
         "legendgroup": "",
         "name": "",
         "showlegend": true,
         "textinfo": "percent+label",
         "textposition": "inside",
         "type": "pie",
         "values": {
          "bdata": "Rzw+sfFAQ0DL6vzT/s8xQFNOw+QO10VA",
          "dtype": "f8"
         }
        }
       ],
       "layout": {
        "legend": {
         "tracegroupgap": 0
        },
        "piecolorway": [
         "rgb(102,194,165)",
         "rgb(252,141,98)",
         "rgb(141,160,203)"
        ],
        "template": {
         "data": {
          "bar": [
           {
            "error_x": {
             "color": "#2a3f5f"
            },
            "error_y": {
             "color": "#2a3f5f"
            },
            "marker": {
             "line": {
              "color": "#E5ECF6",
              "width": 0.5
             },
             "pattern": {
              "fillmode": "overlay",
              "size": 10,
              "solidity": 0.2
             }
            },
            "type": "bar"
           }
          ],
          "barpolar": [
           {
            "marker": {
             "line": {
              "color": "#E5ECF6",
              "width": 0.5
             },
             "pattern": {
              "fillmode": "overlay",
              "size": 10,
              "solidity": 0.2
             }
            },
            "type": "barpolar"
           }
          ],
          "carpet": [
           {
            "aaxis": {
             "endlinecolor": "#2a3f5f",
             "gridcolor": "white",
             "linecolor": "white",
             "minorgridcolor": "white",
             "startlinecolor": "#2a3f5f"
            },
            "baxis": {
             "endlinecolor": "#2a3f5f",
             "gridcolor": "white",
             "linecolor": "white",
             "minorgridcolor": "white",
             "startlinecolor": "#2a3f5f"
            },
            "type": "carpet"
           }
          ],
          "choropleth": [
           {
            "colorbar": {
             "outlinewidth": 0,
             "ticks": ""
            },
            "type": "choropleth"
           }
          ],
          "contour": [
           {
            "colorbar": {
             "outlinewidth": 0,
             "ticks": ""
            },
            "colorscale": [
             [
              0,
              "#0d0887"
             ],
             [
              0.1111111111111111,
              "#46039f"
             ],
             [
              0.2222222222222222,
              "#7201a8"
             ],
             [
              0.3333333333333333,
              "#9c179e"
             ],
             [
              0.4444444444444444,
              "#bd3786"
             ],
             [
              0.5555555555555556,
              "#d8576b"
             ],
             [
              0.6666666666666666,
              "#ed7953"
             ],
             [
              0.7777777777777778,
              "#fb9f3a"
             ],
             [
              0.8888888888888888,
              "#fdca26"
             ],
             [
              1,
              "#f0f921"
             ]
            ],
            "type": "contour"
           }
          ],
          "contourcarpet": [
           {
            "colorbar": {
             "outlinewidth": 0,
             "ticks": ""
            },
            "type": "contourcarpet"
           }
          ],
          "heatmap": [
           {
            "colorbar": {
             "outlinewidth": 0,
             "ticks": ""
            },
            "colorscale": [
             [
              0,
              "#0d0887"
             ],
             [
              0.1111111111111111,
              "#46039f"
             ],
             [
              0.2222222222222222,
              "#7201a8"
             ],
             [
              0.3333333333333333,
              "#9c179e"
             ],
             [
              0.4444444444444444,
              "#bd3786"
             ],
             [
              0.5555555555555556,
              "#d8576b"
             ],
             [
              0.6666666666666666,
              "#ed7953"
             ],
             [
              0.7777777777777778,
              "#fb9f3a"
             ],
             [
              0.8888888888888888,
              "#fdca26"
             ],
             [
              1,
              "#f0f921"
             ]
            ],
            "type": "heatmap"
           }
          ],
          "histogram": [
           {
            "marker": {
             "pattern": {
              "fillmode": "overlay",
              "size": 10,
              "solidity": 0.2
             }
            },
            "type": "histogram"
           }
          ],
          "histogram2d": [
           {
            "colorbar": {
             "outlinewidth": 0,
             "ticks": ""
            },
            "colorscale": [
             [
              0,
              "#0d0887"
             ],
             [
              0.1111111111111111,
              "#46039f"
             ],
             [
              0.2222222222222222,
              "#7201a8"
             ],
             [
              0.3333333333333333,
              "#9c179e"
             ],
             [
              0.4444444444444444,
              "#bd3786"
             ],
             [
              0.5555555555555556,
              "#d8576b"
             ],
             [
              0.6666666666666666,
              "#ed7953"
             ],
             [
              0.7777777777777778,
              "#fb9f3a"
             ],
             [
              0.8888888888888888,
              "#fdca26"
             ],
             [
              1,
              "#f0f921"
             ]
            ],
            "type": "histogram2d"
           }
          ],
          "histogram2dcontour": [
           {
            "colorbar": {
             "outlinewidth": 0,
             "ticks": ""
            },
            "colorscale": [
             [
              0,
              "#0d0887"
             ],
             [
              0.1111111111111111,
              "#46039f"
             ],
             [
              0.2222222222222222,
              "#7201a8"
             ],
             [
              0.3333333333333333,
              "#9c179e"
             ],
             [
              0.4444444444444444,
              "#bd3786"
             ],
             [
              0.5555555555555556,
              "#d8576b"
             ],
             [
              0.6666666666666666,
              "#ed7953"
             ],
             [
              0.7777777777777778,
              "#fb9f3a"
             ],
             [
              0.8888888888888888,
              "#fdca26"
             ],
             [
              1,
              "#f0f921"
             ]
            ],
            "type": "histogram2dcontour"
           }
          ],
          "mesh3d": [
           {
            "colorbar": {
             "outlinewidth": 0,
             "ticks": ""
            },
            "type": "mesh3d"
           }
          ],
          "parcoords": [
           {
            "line": {
             "colorbar": {
              "outlinewidth": 0,
              "ticks": ""
             }
            },
            "type": "parcoords"
           }
          ],
          "pie": [
           {
            "automargin": true,
            "type": "pie"
           }
          ],
          "scatter": [
           {
            "fillpattern": {
             "fillmode": "overlay",
             "size": 10,
             "solidity": 0.2
            },
            "type": "scatter"
           }
          ],
          "scatter3d": [
           {
            "line": {
             "colorbar": {
              "outlinewidth": 0,
              "ticks": ""
             }
            },
            "marker": {
             "colorbar": {
              "outlinewidth": 0,
              "ticks": ""
             }
            },
            "type": "scatter3d"
           }
          ],
          "scattercarpet": [
           {
            "marker": {
             "colorbar": {
              "outlinewidth": 0,
              "ticks": ""
             }
            },
            "type": "scattercarpet"
           }
          ],
          "scattergeo": [
           {
            "marker": {
             "colorbar": {
              "outlinewidth": 0,
              "ticks": ""
             }
            },
            "type": "scattergeo"
           }
          ],
          "scattergl": [
           {
            "marker": {
             "colorbar": {
              "outlinewidth": 0,
              "ticks": ""
             }
            },
            "type": "scattergl"
           }
          ],
          "scattermap": [
           {
            "marker": {
             "colorbar": {
              "outlinewidth": 0,
              "ticks": ""
             }
            },
            "type": "scattermap"
           }
          ],
          "scattermapbox": [
           {
            "marker": {
             "colorbar": {
              "outlinewidth": 0,
              "ticks": ""
             }
            },
            "type": "scattermapbox"
           }
          ],
          "scatterpolar": [
           {
            "marker": {
             "colorbar": {
              "outlinewidth": 0,
              "ticks": ""
             }
            },
            "type": "scatterpolar"
           }
          ],
          "scatterpolargl": [
           {
            "marker": {
             "colorbar": {
              "outlinewidth": 0,
              "ticks": ""
             }
            },
            "type": "scatterpolargl"
           }
          ],
          "scatterternary": [
           {
            "marker": {
             "colorbar": {
              "outlinewidth": 0,
              "ticks": ""
             }
            },
            "type": "scatterternary"
           }
          ],
          "surface": [
           {
            "colorbar": {
             "outlinewidth": 0,
             "ticks": ""
            },
            "colorscale": [
             [
              0,
              "#0d0887"
             ],
             [
              0.1111111111111111,
              "#46039f"
             ],
             [
              0.2222222222222222,
              "#7201a8"
             ],
             [
              0.3333333333333333,
              "#9c179e"
             ],
             [
              0.4444444444444444,
              "#bd3786"
             ],
             [
              0.5555555555555556,
              "#d8576b"
             ],
             [
              0.6666666666666666,
              "#ed7953"
             ],
             [
              0.7777777777777778,
              "#fb9f3a"
             ],
             [
              0.8888888888888888,
              "#fdca26"
             ],
             [
              1,
              "#f0f921"
             ]
            ],
            "type": "surface"
           }
          ],
          "table": [
           {
            "cells": {
             "fill": {
              "color": "#EBF0F8"
             },
             "line": {
              "color": "white"
             }
            },
            "header": {
             "fill": {
              "color": "#C8D4E3"
             },
             "line": {
              "color": "white"
             }
            },
            "type": "table"
           }
          ]
         },
         "layout": {
          "annotationdefaults": {
           "arrowcolor": "#2a3f5f",
           "arrowhead": 0,
           "arrowwidth": 1
          },
          "autotypenumbers": "strict",
          "coloraxis": {
           "colorbar": {
            "outlinewidth": 0,
            "ticks": ""
           }
          },
          "colorscale": {
           "diverging": [
            [
             0,
             "#8e0152"
            ],
            [
             0.1,
             "#c51b7d"
            ],
            [
             0.2,
             "#de77ae"
            ],
            [
             0.3,
             "#f1b6da"
            ],
            [
             0.4,
             "#fde0ef"
            ],
            [
             0.5,
             "#f7f7f7"
            ],
            [
             0.6,
             "#e6f5d0"
            ],
            [
             0.7,
             "#b8e186"
            ],
            [
             0.8,
             "#7fbc41"
            ],
            [
             0.9,
             "#4d9221"
            ],
            [
             1,
             "#276419"
            ]
           ],
           "sequential": [
            [
             0,
             "#0d0887"
            ],
            [
             0.1111111111111111,
             "#46039f"
            ],
            [
             0.2222222222222222,
             "#7201a8"
            ],
            [
             0.3333333333333333,
             "#9c179e"
            ],
            [
             0.4444444444444444,
             "#bd3786"
            ],
            [
             0.5555555555555556,
             "#d8576b"
            ],
            [
             0.6666666666666666,
             "#ed7953"
            ],
            [
             0.7777777777777778,
             "#fb9f3a"
            ],
            [
             0.8888888888888888,
             "#fdca26"
            ],
            [
             1,
             "#f0f921"
            ]
           ],
           "sequentialminus": [
            [
             0,
             "#0d0887"
            ],
            [
             0.1111111111111111,
             "#46039f"
            ],
            [
             0.2222222222222222,
             "#7201a8"
            ],
            [
             0.3333333333333333,
             "#9c179e"
            ],
            [
             0.4444444444444444,
             "#bd3786"
            ],
            [
             0.5555555555555556,
             "#d8576b"
            ],
            [
             0.6666666666666666,
             "#ed7953"
            ],
            [
             0.7777777777777778,
             "#fb9f3a"
            ],
            [
             0.8888888888888888,
             "#fdca26"
            ],
            [
             1,
             "#f0f921"
            ]
           ]
          },
          "colorway": [
           "#636efa",
           "#EF553B",
           "#00cc96",
           "#ab63fa",
           "#FFA15A",
           "#19d3f3",
           "#FF6692",
           "#B6E880",
           "#FF97FF",
           "#FECB52"
          ],
          "font": {
           "color": "#2a3f5f"
          },
          "geo": {
           "bgcolor": "white",
           "lakecolor": "white",
           "landcolor": "#E5ECF6",
           "showlakes": true,
           "showland": true,
           "subunitcolor": "white"
          },
          "hoverlabel": {
           "align": "left"
          },
          "hovermode": "closest",
          "mapbox": {
           "style": "light"
          },
          "paper_bgcolor": "white",
          "plot_bgcolor": "#E5ECF6",
          "polar": {
           "angularaxis": {
            "gridcolor": "white",
            "linecolor": "white",
            "ticks": ""
           },
           "bgcolor": "#E5ECF6",
           "radialaxis": {
            "gridcolor": "white",
            "linecolor": "white",
            "ticks": ""
           }
          },
          "scene": {
           "xaxis": {
            "backgroundcolor": "#E5ECF6",
            "gridcolor": "white",
            "gridwidth": 2,
            "linecolor": "white",
            "showbackground": true,
            "ticks": "",
            "zerolinecolor": "white"
           },
           "yaxis": {
            "backgroundcolor": "#E5ECF6",
            "gridcolor": "white",
            "gridwidth": 2,
            "linecolor": "white",
            "showbackground": true,
            "ticks": "",
            "zerolinecolor": "white"
           },
           "zaxis": {
            "backgroundcolor": "#E5ECF6",
            "gridcolor": "white",
            "gridwidth": 2,
            "linecolor": "white",
            "showbackground": true,
            "ticks": "",
            "zerolinecolor": "white"
           }
          },
          "shapedefaults": {
           "line": {
            "color": "#2a3f5f"
           }
          },
          "ternary": {
           "aaxis": {
            "gridcolor": "white",
            "linecolor": "white",
            "ticks": ""
           },
           "baxis": {
            "gridcolor": "white",
            "linecolor": "white",
            "ticks": ""
           },
           "bgcolor": "#E5ECF6",
           "caxis": {
            "gridcolor": "white",
            "linecolor": "white",
            "ticks": ""
           }
          },
          "title": {
           "x": 0.05
          },
          "xaxis": {
           "automargin": true,
           "gridcolor": "white",
           "linecolor": "white",
           "ticks": "",
           "title": {
            "standoff": 15
           },
           "zerolinecolor": "white",
           "zerolinewidth": 2
          },
          "yaxis": {
           "automargin": true,
           "gridcolor": "white",
           "linecolor": "white",
           "ticks": "",
           "title": {
            "standoff": 15
           },
           "zerolinecolor": "white",
           "zerolinewidth": 2
          }
         }
        },
        "title": {
         "text": "Stationary Distribution of Regimes"
        },
        "uniformtext": {
         "minsize": 12,
         "mode": "hide"
        }
       }
      }
     },
     "metadata": {},
     "output_type": "display_data"
    }
   ],
   "source": [
    "# Visualize the training data with regime classifications using Plotly\n",
    "training_with_predictions = training_data.copy()\n",
    "training_with_predictions['Regime'] = train_predictions\n",
    "\n",
    "# Create a categorical color map for regimes\n",
    "regime_colors = px.colors.qualitative.Set2[:hidden_states]\n",
    "\n",
    "# Create subplot figures for SPY, VIX, and LogVIX\n",
    "fig = make_subplots(rows=3, cols=1, \n",
    "                   shared_xaxes=True,\n",
    "                   vertical_spacing=0.1,\n",
    "                   subplot_titles=('SPY Close Price by Regime', 'VIX by Regime', 'LogVIX by Regime'))\n",
    "\n",
    "# SPY price by regime\n",
    "for regime in range(hidden_states):\n",
    "    regime_data = training_with_predictions[training_with_predictions['Regime'] == regime]\n",
    "    fig.add_trace(\n",
    "        go.Scatter(\n",
    "            x=regime_data['Date'], \n",
    "            y=regime_data['Close'],\n",
    "            mode='markers',\n",
    "            marker=dict(color=regime_colors[regime], size=6),\n",
    "            name=f'Regime {regime}',\n",
    "            showlegend=True\n",
    "        ),\n",
    "        row=1, col=1\n",
    "    )\n",
    "\n",
    "# VIX by regime\n",
    "for regime in range(hidden_states):\n",
    "    regime_data = training_with_predictions[training_with_predictions['Regime'] == regime]\n",
    "    fig.add_trace(\n",
    "        go.Scatter(\n",
    "            x=regime_data['Date'], \n",
    "            y=regime_data['VIX'],\n",
    "            mode='markers',\n",
    "            marker=dict(color=regime_colors[regime], size=6),\n",
    "            name=f'Regime {regime}',\n",
    "            showlegend=False\n",
    "        ),\n",
    "        row=2, col=1\n",
    "    )\n",
    "\n",
    "# LogVIX by regime\n",
    "for regime in range(hidden_states):\n",
    "    regime_data = training_with_predictions[training_with_predictions['Regime'] == regime]\n",
    "    fig.add_trace(\n",
    "        go.Scatter(\n",
    "            x=regime_data['Date'], \n",
    "            y=regime_data['LogVIX'],\n",
    "            mode='markers',\n",
    "            marker=dict(color=regime_colors[regime], size=6),\n",
    "            name=f'Regime {regime}',\n",
    "            showlegend=False\n",
    "        ),\n",
    "        row=3, col=1\n",
    "    )\n",
    "\n",
    "fig.update_layout(\n",
    "    height=1000,\n",
    "    title_text=f'Market Regimes with SPY, VIX, and LogVIX (Training Period: {train_start_date} to {train_end_date})',\n",
    "    template='plotly_white',\n",
    "    legend_title='Regime',\n",
    "    hovermode='closest'\n",
    ")\n",
    "\n",
    "fig.update_xaxes(title_text=\"Date\", row=3, col=1)\n",
    "fig.update_yaxes(title_text=\"SPY Price\", row=1, col=1)\n",
    "fig.update_yaxes(title_text=\"VIX\", row=2, col=1)\n",
    "fig.update_yaxes(title_text=\"LogVIX\", row=3, col=1)\n",
    "\n",
    "fig.show()\n",
    "\n",
    "# Visualize transition probabilities with Plotly\n",
    "transition_matrix = model.transmat_\n",
    "regime_labels = [f\"Regime {i}\" for i in range(hidden_states)]\n",
    "\n",
    "# Create the heatmap\n",
    "fig_heatmap = go.Figure(data=go.Heatmap(\n",
    "    z=transition_matrix,\n",
    "    x=regime_labels,\n",
    "    y=regime_labels,\n",
    "    colorscale='Blues',\n",
    "    text=np.round(transition_matrix, 2),\n",
    "    texttemplate=\"%{text:.2f}\",\n",
    "    textfont={\"size\": 14}\n",
    "))\n",
    "\n",
    "fig_heatmap.update_layout(\n",
    "    title='Regime Transition Probabilities',\n",
    "    xaxis_title='To Regime',\n",
    "    yaxis_title='From Regime',\n",
    "    width=700,\n",
    "    height=600,\n",
    "    template='plotly_white'\n",
    ")\n",
    "\n",
    "fig_heatmap.show()\n",
    "\n",
    "# Show stationary distribution\n",
    "stationary_dist = model.get_stationary_distribution()\n",
    "print(\"\\nStationary Distribution:\")\n",
    "for i in range(hidden_states):\n",
    "    print(f\"Regime {i}: {stationary_dist[i]*100:.2f}%\")\n",
    "\n",
    "# Create a pie chart for the stationary distribution\n",
    "fig_pie = px.pie(\n",
    "    values=stationary_dist * 100,\n",
    "    names=regime_labels,\n",
    "    title='Stationary Distribution of Regimes',\n",
    "    color_discrete_sequence=regime_colors\n",
    ")\n",
    "\n",
    "fig_pie.update_traces(textinfo='percent+label', textposition='inside')\n",
    "fig_pie.update_layout(uniformtext_minsize=12, uniformtext_mode='hide')\n",
    "fig_pie.show()"
   ]
  },
  {
   "cell_type": "code",
   "execution_count": 25,
   "metadata": {},
   "outputs": [],
   "source": [
    "# Function to predict regimes for a specific date range\n",
    "def predict_regimes(model, data, start_date, end_date):\n",
    "    \"\"\"\n",
    "    Predict market regimes for a specific date range using the trained HMM model\n",
    "    \n",
    "    Parameters:\n",
    "    -----------\n",
    "    model : hmm.GaussianHMM\n",
    "        The trained HMM model\n",
    "    data : DataFrame\n",
    "        The full dataset with calculated indicators\n",
    "    start_date : str\n",
    "        Start date for prediction period in 'YYYY-MM-DD' format\n",
    "    end_date : str\n",
    "        End date for prediction period in 'YYYY-MM-DD' format\n",
    "        \n",
    "    Returns:\n",
    "    --------\n",
    "    DataFrame with date, close price, VIX, LogVIX, and predicted regime\n",
    "    \"\"\"\n",
    "    # Filter data for prediction period\n",
    "    pred_data = data[(data['Date'] >= start_date) & (data['Date'] <= end_date)].copy()\n",
    "    \n",
    "    if len(pred_data) == 0:\n",
    "        print(f\"No data available for period {start_date} to {end_date}\")\n",
    "        if end_date > data['Date'].max().strftime('%Y-%m-%d'):\n",
    "            print(\"NOTE: Prediction period extends into the future\")\n",
    "            # Generate future dates for forecasting\n",
    "            last_date = data['Date'].max()\n",
    "            future_end = datetime.strptime(end_date, '%Y-%m-%d')\n",
    "            \n",
    "            # Get the most recent 30 days of data for calculating indicators\n",
    "            recent_data = data.tail(30).copy()\n",
    "            \n",
    "            # For future dates, we'll extend from the last value and assume zero returns\n",
    "            # This is a simplification - in reality you might want to use a forecasting model\n",
    "            current_date = last_date + timedelta(days=1)\n",
    "            while current_date <= future_end:\n",
    "                if current_date.weekday() < 5:  # Only include weekdays\n",
    "                    new_row = {\n",
    "                        'Date': current_date,\n",
    "                        'Close': recent_data['Close'].iloc[-1],  # Use the last known close price\n",
    "                        'High': recent_data['Close'].iloc[-1],\n",
    "                        'Low': recent_data['Close'].iloc[-1],\n",
    "                        'Open': recent_data['Close'].iloc[-1],\n",
    "                        'Volume': recent_data['Volume'].mean(),  # Use average volume\n",
    "                        'VIX': recent_data['VIX'].mean(),  # Use average VIX\n",
    "                        'LogVIX': np.log(recent_data['VIX'].mean()),  # Calculate LogVIX from mean VIX\n",
    "                        'Volatility': recent_data['Volatility'].mean(),  # Use average volatility\n",
    "                        'MA': recent_data['MA'].iloc[-1],  # Use the last MA\n",
    "                        'Return': 0,  # Assume zero returns for future dates\n",
    "                        'LogVIX_Ratio': 1.0  # Assume neutral LogVIX ratio\n",
    "                    }\n",
    "                    recent_data = pd.concat([recent_data, pd.DataFrame([new_row])], ignore_index=True)\n",
    "                current_date += timedelta(days=1)\n",
    "            \n",
    "            # Keep only the future dates we generated\n",
    "            future_data = recent_data[recent_data['Date'] > last_date].copy()\n",
    "            pred_data = future_data[(future_data['Date'] >= start_date) & (future_data['Date'] <= end_date)].copy()\n",
    "    \n",
    "    # Prepare observations for prediction\n",
    "    obs = np.column_stack([\n",
    "        pred_data['Volatility'].values, \n",
    "        pred_data['Return'].values,\n",
    "        pred_data['LogVIX_Ratio'].values\n",
    "    ])\n",
    "    \n",
    "    # Predict regimes\n",
    "    predictions = model.predict(obs)\n",
    "    \n",
    "    # Add predictions to dataframe\n",
    "    pred_data['Predicted_Regime'] = predictions\n",
    "    \n",
    "    print(f\"Predicted regimes for period {start_date} to {end_date}\")\n",
    "    print(f\"Data points: {len(pred_data)}\")\n",
    "    \n",
    "    # Calculate regime distribution\n",
    "    regime_counts = pd.Series(predictions).value_counts(normalize=True) * 100\n",
    "    print(\"\\nRegime Distribution:\")\n",
    "    for regime, percentage in regime_counts.items():\n",
    "        print(f\"Regime {regime}: {percentage:.2f}%\")\n",
    "    \n",
    "    return pred_data[['Date', 'Close', 'VIX', 'LogVIX', 'Volatility', 'Return', 'Predicted_Regime']]"
   ]
  },
  {
   "cell_type": "code",
   "execution_count": 26,
   "metadata": {},
   "outputs": [
    {
     "name": "stdout",
     "output_type": "stream",
     "text": [
      "Predicted regimes for period 2025-01-11 to 2025-04-11\n",
      "Data points: 62\n",
      "\n",
      "Regime Distribution:\n",
      "Regime 1: 45.16%\n",
      "Regime 2: 43.55%\n",
      "Regime 0: 11.29%\n"
     ]
    },
    {
     "data": {
      "application/vnd.plotly.v1+json": {
       "config": {
        "plotlyServerURL": "https://plot.ly"
       },
       "data": [
        {
         "marker": {
          "color": "rgb(102,194,165)",
          "size": 6
         },
         "mode": "markers",
         "name": "Regime 0",
         "showlegend": true,
         "type": "scatter",
         "x": [
          "2025-01-13T00:00:00.000000000",
          "2025-02-06T00:00:00.000000000",
          "2025-02-07T00:00:00.000000000",
          "2025-02-10T00:00:00.000000000",
          "2025-02-11T00:00:00.000000000",
          "2025-02-12T00:00:00.000000000",
          "2025-02-13T00:00:00.000000000"
         ],
         "xaxis": "x",
         "y": {
          "bdata": "AAAAoCsdgkAAAAAgA+SCQAAAAOC+t4JAAAAAgEnYgkAAAADg9NuCQAAAAEBnzIJAAAAA4DX/gkA=",
          "dtype": "f8"
         },
         "yaxis": "y"
        },
        {
         "marker": {
          "color": "rgb(252,141,98)",
          "size": 6
         },
         "mode": "markers",
         "name": "Regime 1",
         "showlegend": true,
         "type": "scatter",
         "x": [
          "2025-01-22T00:00:00.000000000",
          "2025-01-23T00:00:00.000000000",
          "2025-01-24T00:00:00.000000000",
          "2025-01-27T00:00:00.000000000",
          "2025-01-28T00:00:00.000000000",
          "2025-02-25T00:00:00.000000000",
          "2025-02-26T00:00:00.000000000",
          "2025-02-27T00:00:00.000000000",
          "2025-02-28T00:00:00.000000000",
          "2025-03-03T00:00:00.000000000",
          "2025-03-04T00:00:00.000000000",
          "2025-03-05T00:00:00.000000000",
          "2025-03-06T00:00:00.000000000",
          "2025-03-07T00:00:00.000000000",
          "2025-03-10T00:00:00.000000000",
          "2025-03-11T00:00:00.000000000",
          "2025-03-12T00:00:00.000000000",
          "2025-03-13T00:00:00.000000000",
          "2025-03-14T00:00:00.000000000",
          "2025-03-17T00:00:00.000000000",
          "2025-03-18T00:00:00.000000000",
          "2025-03-19T00:00:00.000000000",
          "2025-04-03T00:00:00.000000000",
          "2025-04-04T00:00:00.000000000",
          "2025-04-07T00:00:00.000000000",
          "2025-04-08T00:00:00.000000000",
          "2025-04-09T00:00:00.000000000",
          "2025-04-10T00:00:00.000000000"
         ],
         "xaxis": "x",
         "y": {
          "bdata": "AAAAIPjkgkAAAADAXv+CQAAAACAs8YJAAAAAQJSsgkAAAADgp9WCQAAAAICpg4JAAAAAAA6GgkAAAADAXDqCQAAAAAAvg4JAAAAAQCcwgkAAAAAACvmBQAAAAIB9KoJAAAAAYPDXgUAAAACgivGBQAAAAKAwd4FAAAAAgAVSgUAAAAAAjWmBQAAAACAhLoFAAAAA4PmIgUAAAACgl6uBQAAAAACzeoFAAAAAwG6rgUAAAACgmcWAQAAAAOB6lH9AAAAAgBSGf0AAAAAgrgd/QAAAAMD1JIFAAAAA4KNkgEA=",
          "dtype": "f8"
         },
         "yaxis": "y"
        },
        {
         "marker": {
          "color": "rgb(141,160,203)",
          "size": 6
         },
         "mode": "markers",
         "name": "Regime 2",
         "showlegend": true,
         "type": "scatter",
         "x": [
          "2025-01-14T00:00:00.000000000",
          "2025-01-15T00:00:00.000000000",
          "2025-01-16T00:00:00.000000000",
          "2025-01-17T00:00:00.000000000",
          "2025-01-21T00:00:00.000000000",
          "2025-01-29T00:00:00.000000000",
          "2025-01-30T00:00:00.000000000",
          "2025-01-31T00:00:00.000000000",
          "2025-02-03T00:00:00.000000000",
          "2025-02-04T00:00:00.000000000",
          "2025-02-05T00:00:00.000000000",
          "2025-02-14T00:00:00.000000000",
          "2025-02-18T00:00:00.000000000",
          "2025-02-19T00:00:00.000000000",
          "2025-02-20T00:00:00.000000000",
          "2025-02-21T00:00:00.000000000",
          "2025-02-24T00:00:00.000000000",
          "2025-03-20T00:00:00.000000000",
          "2025-03-21T00:00:00.000000000",
          "2025-03-24T00:00:00.000000000",
          "2025-03-25T00:00:00.000000000",
          "2025-03-26T00:00:00.000000000",
          "2025-03-27T00:00:00.000000000",
          "2025-03-28T00:00:00.000000000",
          "2025-03-31T00:00:00.000000000",
          "2025-04-01T00:00:00.000000000",
          "2025-04-02T00:00:00.000000000"
         ],
         "xaxis": "x",
         "y": {
          "bdata": "AAAAII0jgkAAAACABHiCQAAAAMDsboJAAAAAYE2egkAAAABA7smCQAAAAGAKwIJAAAAAgM3ZgkAAAADAHsCCQAAAAEDRn4JAAAAAIM2/gkAAAAAgQ9OCQAAAAKD4/oJAAAAAgD8Ng0AAAADAuxiDQAAAACBlBINAAAAAICCxgkAAAADgWZuCQAAAACBanoFAAAAAANefgUAAAADgo/CBQAAAACCu+4FAAAAAYLjEgUAAAADgo7iBQAAAAKBHXYFAAAAAwB57gUAAAACAwoeBQAAAAAAppIFA",
          "dtype": "f8"
         },
         "yaxis": "y"
        },
        {
         "line": {
          "color": "rgba(0,0,0,0.3)"
         },
         "mode": "lines",
         "name": "SPY Price",
         "showlegend": true,
         "type": "scatter",
         "x": [
          "2025-01-13T00:00:00.000000000",
          "2025-01-14T00:00:00.000000000",
          "2025-01-15T00:00:00.000000000",
          "2025-01-16T00:00:00.000000000",
          "2025-01-17T00:00:00.000000000",
          "2025-01-21T00:00:00.000000000",
          "2025-01-22T00:00:00.000000000",
          "2025-01-23T00:00:00.000000000",
          "2025-01-24T00:00:00.000000000",
          "2025-01-27T00:00:00.000000000",
          "2025-01-28T00:00:00.000000000",
          "2025-01-29T00:00:00.000000000",
          "2025-01-30T00:00:00.000000000",
          "2025-01-31T00:00:00.000000000",
          "2025-02-03T00:00:00.000000000",
          "2025-02-04T00:00:00.000000000",
          "2025-02-05T00:00:00.000000000",
          "2025-02-06T00:00:00.000000000",
          "2025-02-07T00:00:00.000000000",
          "2025-02-10T00:00:00.000000000",
          "2025-02-11T00:00:00.000000000",
          "2025-02-12T00:00:00.000000000",
          "2025-02-13T00:00:00.000000000",
          "2025-02-14T00:00:00.000000000",
          "2025-02-18T00:00:00.000000000",
          "2025-02-19T00:00:00.000000000",
          "2025-02-20T00:00:00.000000000",
          "2025-02-21T00:00:00.000000000",
          "2025-02-24T00:00:00.000000000",
          "2025-02-25T00:00:00.000000000",
          "2025-02-26T00:00:00.000000000",
          "2025-02-27T00:00:00.000000000",
          "2025-02-28T00:00:00.000000000",
          "2025-03-03T00:00:00.000000000",
          "2025-03-04T00:00:00.000000000",
          "2025-03-05T00:00:00.000000000",
          "2025-03-06T00:00:00.000000000",
          "2025-03-07T00:00:00.000000000",
          "2025-03-10T00:00:00.000000000",
          "2025-03-11T00:00:00.000000000",
          "2025-03-12T00:00:00.000000000",
          "2025-03-13T00:00:00.000000000",
          "2025-03-14T00:00:00.000000000",
          "2025-03-17T00:00:00.000000000",
          "2025-03-18T00:00:00.000000000",
          "2025-03-19T00:00:00.000000000",
          "2025-03-20T00:00:00.000000000",
          "2025-03-21T00:00:00.000000000",
          "2025-03-24T00:00:00.000000000",
          "2025-03-25T00:00:00.000000000",
          "2025-03-26T00:00:00.000000000",
          "2025-03-27T00:00:00.000000000",
          "2025-03-28T00:00:00.000000000",
          "2025-03-31T00:00:00.000000000",
          "2025-04-01T00:00:00.000000000",
          "2025-04-02T00:00:00.000000000",
          "2025-04-03T00:00:00.000000000",
          "2025-04-04T00:00:00.000000000",
          "2025-04-07T00:00:00.000000000",
          "2025-04-08T00:00:00.000000000",
          "2025-04-09T00:00:00.000000000",
          "2025-04-10T00:00:00.000000000"
         ],
         "xaxis": "x",
         "y": {
          "bdata": "AAAAoCsdgkAAAAAgjSOCQAAAAIAEeIJAAAAAwOxugkAAAABgTZ6CQAAAAEDuyYJAAAAAIPjkgkAAAADAXv+CQAAAACAs8YJAAAAAQJSsgkAAAADgp9WCQAAAAGAKwIJAAAAAgM3ZgkAAAADAHsCCQAAAAEDRn4JAAAAAIM2/gkAAAAAgQ9OCQAAAACAD5IJAAAAA4L63gkAAAACASdiCQAAAAOD024JAAAAAQGfMgkAAAADgNf+CQAAAAKD4/oJAAAAAgD8Ng0AAAADAuxiDQAAAACBlBINAAAAAICCxgkAAAADgWZuCQAAAAICpg4JAAAAAAA6GgkAAAADAXDqCQAAAAAAvg4JAAAAAQCcwgkAAAAAACvmBQAAAAIB9KoJAAAAAYPDXgUAAAACgivGBQAAAAKAwd4FAAAAAgAVSgUAAAAAAjWmBQAAAACAhLoFAAAAA4PmIgUAAAACgl6uBQAAAAACzeoFAAAAAwG6rgUAAAAAgWp6BQAAAAADXn4FAAAAA4KPwgUAAAAAgrvuBQAAAAGC4xIFAAAAA4KO4gUAAAACgR12BQAAAAMAee4FAAAAAgMKHgUAAAAAAKaSBQAAAAKCZxYBAAAAA4HqUf0AAAACAFIZ/QAAAACCuB39AAAAAwPUkgUAAAADgo2SAQA==",
          "dtype": "f8"
         },
         "yaxis": "y"
        },
        {
         "marker": {
          "color": "rgb(102,194,165)",
          "size": 6
         },
         "mode": "markers",
         "name": "Regime 0",
         "showlegend": false,
         "type": "scatter",
         "x": [
          "2025-01-13T00:00:00.000000000",
          "2025-02-06T00:00:00.000000000",
          "2025-02-07T00:00:00.000000000",
          "2025-02-10T00:00:00.000000000",
          "2025-02-11T00:00:00.000000000",
          "2025-02-12T00:00:00.000000000",
          "2025-02-13T00:00:00.000000000"
         ],
         "xaxis": "x2",
         "y": {
          "bdata": "AAAA4KMwM0AAAAAAAAAvQAAAAIA9ijBAAAAAYLieL0AAAADAHgUwQAAAACCuxy9AAAAAQDMzLkA=",
          "dtype": "f8"
         },
         "yaxis": "y2"
        },
        {
         "marker": {
          "color": "rgb(252,141,98)",
          "size": 6
         },
         "mode": "markers",
         "name": "Regime 1",
         "showlegend": false,
         "type": "scatter",
         "x": [
          "2025-01-22T00:00:00.000000000",
          "2025-01-23T00:00:00.000000000",
          "2025-01-24T00:00:00.000000000",
          "2025-01-27T00:00:00.000000000",
          "2025-01-28T00:00:00.000000000",
          "2025-02-25T00:00:00.000000000",
          "2025-02-26T00:00:00.000000000",
          "2025-02-27T00:00:00.000000000",
          "2025-02-28T00:00:00.000000000",
          "2025-03-03T00:00:00.000000000",
          "2025-03-04T00:00:00.000000000",
          "2025-03-05T00:00:00.000000000",
          "2025-03-06T00:00:00.000000000",
          "2025-03-07T00:00:00.000000000",
          "2025-03-10T00:00:00.000000000",
          "2025-03-11T00:00:00.000000000",
          "2025-03-12T00:00:00.000000000",
          "2025-03-13T00:00:00.000000000",
          "2025-03-14T00:00:00.000000000",
          "2025-03-17T00:00:00.000000000",
          "2025-03-18T00:00:00.000000000",
          "2025-03-19T00:00:00.000000000",
          "2025-04-03T00:00:00.000000000",
          "2025-04-04T00:00:00.000000000",
          "2025-04-07T00:00:00.000000000",
          "2025-04-08T00:00:00.000000000",
          "2025-04-09T00:00:00.000000000",
          "2025-04-10T00:00:00.000000000"
         ],
         "xaxis": "x2",
         "y": {
          "bdata": "AAAAQDMzLkAAAACAPQouQAAAAEAzsy1AAAAAYGbmMUAAAADA9WgwQAAAAIAUbjNAAAAAoJkZM0AAAACgRyE1QAAAAKBHoTNAAAAAIK7HNkAAAABgj4I3QAAAAIAU7jVAAAAAYLjeOEAAAABguF43QAAAAAAp3DtAAAAAIIXrOkAAAABA4To4QAAAAMD1qDhAAAAAwB7FNUAAAABgj4I0QAAAAEAzszVAAAAAYGbmM0AAAADAHgU+QAAAACCup0ZAAAAAoHB9R0AAAACAPSpKQAAAACBcz0BAAAAAAClcREA=",
          "dtype": "f8"
         },
         "yaxis": "y2"
        },
        {
         "marker": {
          "color": "rgb(141,160,203)",
          "size": 6
         },
         "mode": "markers",
         "name": "Regime 2",
         "showlegend": false,
         "type": "scatter",
         "x": [
          "2025-01-14T00:00:00.000000000",
          "2025-01-15T00:00:00.000000000",
          "2025-01-16T00:00:00.000000000",
          "2025-01-17T00:00:00.000000000",
          "2025-01-21T00:00:00.000000000",
          "2025-01-29T00:00:00.000000000",
          "2025-01-30T00:00:00.000000000",
          "2025-01-31T00:00:00.000000000",
          "2025-02-03T00:00:00.000000000",
          "2025-02-04T00:00:00.000000000",
          "2025-02-05T00:00:00.000000000",
          "2025-02-14T00:00:00.000000000",
          "2025-02-18T00:00:00.000000000",
          "2025-02-19T00:00:00.000000000",
          "2025-02-20T00:00:00.000000000",
          "2025-02-21T00:00:00.000000000",
          "2025-02-24T00:00:00.000000000",
          "2025-03-20T00:00:00.000000000",
          "2025-03-21T00:00:00.000000000",
          "2025-03-24T00:00:00.000000000",
          "2025-03-25T00:00:00.000000000",
          "2025-03-26T00:00:00.000000000",
          "2025-03-27T00:00:00.000000000",
          "2025-03-28T00:00:00.000000000",
          "2025-03-31T00:00:00.000000000",
          "2025-04-01T00:00:00.000000000",
          "2025-04-02T00:00:00.000000000"
         ],
         "xaxis": "x2",
         "y": {
          "bdata": "AAAAgMK1MkAAAABguB4wQAAAAKCZmTBAAAAA4KPwL0AAAABguB4uQAAAACBcjzBAAAAAgBSuL0AAAACAFG4wQAAAAGC4njJAAAAAgMI1MUAAAACAPYovQAAAAIA9ii1AAAAAQDOzLkAAAACAPYouQAAAAIDrUS9AAAAAgMI1MkAAAABA4foyQAAAAMDMzDNAAAAAIK5HM0AAAABA4XoxQAAAAGBmJjFAAAAA4HpUMkAAAADgo7AyQAAAAGBmpjVAAAAAIK5HNkAAAADAHsU1QAAAAGCPgjVA",
          "dtype": "f8"
         },
         "yaxis": "y2"
        },
        {
         "line": {
          "color": "rgba(0,0,0,0.3)"
         },
         "mode": "lines",
         "name": "VIX",
         "showlegend": true,
         "type": "scatter",
         "x": [
          "2025-01-13T00:00:00.000000000",
          "2025-01-14T00:00:00.000000000",
          "2025-01-15T00:00:00.000000000",
          "2025-01-16T00:00:00.000000000",
          "2025-01-17T00:00:00.000000000",
          "2025-01-21T00:00:00.000000000",
          "2025-01-22T00:00:00.000000000",
          "2025-01-23T00:00:00.000000000",
          "2025-01-24T00:00:00.000000000",
          "2025-01-27T00:00:00.000000000",
          "2025-01-28T00:00:00.000000000",
          "2025-01-29T00:00:00.000000000",
          "2025-01-30T00:00:00.000000000",
          "2025-01-31T00:00:00.000000000",
          "2025-02-03T00:00:00.000000000",
          "2025-02-04T00:00:00.000000000",
          "2025-02-05T00:00:00.000000000",
          "2025-02-06T00:00:00.000000000",
          "2025-02-07T00:00:00.000000000",
          "2025-02-10T00:00:00.000000000",
          "2025-02-11T00:00:00.000000000",
          "2025-02-12T00:00:00.000000000",
          "2025-02-13T00:00:00.000000000",
          "2025-02-14T00:00:00.000000000",
          "2025-02-18T00:00:00.000000000",
          "2025-02-19T00:00:00.000000000",
          "2025-02-20T00:00:00.000000000",
          "2025-02-21T00:00:00.000000000",
          "2025-02-24T00:00:00.000000000",
          "2025-02-25T00:00:00.000000000",
          "2025-02-26T00:00:00.000000000",
          "2025-02-27T00:00:00.000000000",
          "2025-02-28T00:00:00.000000000",
          "2025-03-03T00:00:00.000000000",
          "2025-03-04T00:00:00.000000000",
          "2025-03-05T00:00:00.000000000",
          "2025-03-06T00:00:00.000000000",
          "2025-03-07T00:00:00.000000000",
          "2025-03-10T00:00:00.000000000",
          "2025-03-11T00:00:00.000000000",
          "2025-03-12T00:00:00.000000000",
          "2025-03-13T00:00:00.000000000",
          "2025-03-14T00:00:00.000000000",
          "2025-03-17T00:00:00.000000000",
          "2025-03-18T00:00:00.000000000",
          "2025-03-19T00:00:00.000000000",
          "2025-03-20T00:00:00.000000000",
          "2025-03-21T00:00:00.000000000",
          "2025-03-24T00:00:00.000000000",
          "2025-03-25T00:00:00.000000000",
          "2025-03-26T00:00:00.000000000",
          "2025-03-27T00:00:00.000000000",
          "2025-03-28T00:00:00.000000000",
          "2025-03-31T00:00:00.000000000",
          "2025-04-01T00:00:00.000000000",
          "2025-04-02T00:00:00.000000000",
          "2025-04-03T00:00:00.000000000",
          "2025-04-04T00:00:00.000000000",
          "2025-04-07T00:00:00.000000000",
          "2025-04-08T00:00:00.000000000",
          "2025-04-09T00:00:00.000000000",
          "2025-04-10T00:00:00.000000000"
         ],
         "xaxis": "x2",
         "y": {
          "bdata": "AAAA4KMwM0AAAACAwrUyQAAAAGC4HjBAAAAAoJmZMEAAAADgo/AvQAAAAGC4Hi5AAAAAQDMzLkAAAACAPQouQAAAAEAzsy1AAAAAYGbmMUAAAADA9WgwQAAAACBcjzBAAAAAgBSuL0AAAACAFG4wQAAAAGC4njJAAAAAgMI1MUAAAACAPYovQAAAAAAAAC9AAAAAgD2KMEAAAABguJ4vQAAAAMAeBTBAAAAAIK7HL0AAAABAMzMuQAAAAIA9ii1AAAAAQDOzLkAAAACAPYouQAAAAIDrUS9AAAAAgMI1MkAAAABA4foyQAAAAIAUbjNAAAAAoJkZM0AAAACgRyE1QAAAAKBHoTNAAAAAIK7HNkAAAABgj4I3QAAAAIAU7jVAAAAAYLjeOEAAAABguF43QAAAAAAp3DtAAAAAIIXrOkAAAABA4To4QAAAAMD1qDhAAAAAwB7FNUAAAABgj4I0QAAAAEAzszVAAAAAYGbmM0AAAADAzMwzQAAAACCuRzNAAAAAQOF6MUAAAABgZiYxQAAAAOB6VDJAAAAA4KOwMkAAAABgZqY1QAAAACCuRzZAAAAAwB7FNUAAAABgj4I1QAAAAMAeBT5AAAAAIK6nRkAAAACgcH1HQAAAAIA9KkpAAAAAIFzPQEAAAAAAKVxEQA==",
          "dtype": "f8"
         },
         "yaxis": "y2"
        },
        {
         "marker": {
          "color": "rgb(102,194,165)",
          "size": 6
         },
         "mode": "markers",
         "name": "Regime 0",
         "showlegend": false,
         "type": "scatter",
         "x": [
          "2025-01-13T00:00:00.000000000",
          "2025-02-06T00:00:00.000000000",
          "2025-02-07T00:00:00.000000000",
          "2025-02-10T00:00:00.000000000",
          "2025-02-11T00:00:00.000000000",
          "2025-02-12T00:00:00.000000000",
          "2025-02-13T00:00:00.000000000"
         ],
         "xaxis": "x3",
         "y": {
          "bdata": "nbiN4JaiB0DenNKIPe0FQHoeErM9cgZAOXUH1MsVBkBWzTP20TAGQJwIcRQiIAZAWLIe5LG3BUA=",
          "dtype": "f8"
         },
         "yaxis": "y3"
        },
        {
         "marker": {
          "color": "rgb(252,141,98)",
          "size": 6
         },
         "mode": "markers",
         "name": "Regime 1",
         "showlegend": false,
         "type": "scatter",
         "x": [
          "2025-01-22T00:00:00.000000000",
          "2025-01-23T00:00:00.000000000",
          "2025-01-24T00:00:00.000000000",
          "2025-01-27T00:00:00.000000000",
          "2025-01-28T00:00:00.000000000",
          "2025-02-25T00:00:00.000000000",
          "2025-02-26T00:00:00.000000000",
          "2025-02-27T00:00:00.000000000",
          "2025-02-28T00:00:00.000000000",
          "2025-03-03T00:00:00.000000000",
          "2025-03-04T00:00:00.000000000",
          "2025-03-05T00:00:00.000000000",
          "2025-03-06T00:00:00.000000000",
          "2025-03-07T00:00:00.000000000",
          "2025-03-10T00:00:00.000000000",
          "2025-03-11T00:00:00.000000000",
          "2025-03-12T00:00:00.000000000",
          "2025-03-13T00:00:00.000000000",
          "2025-03-14T00:00:00.000000000",
          "2025-03-17T00:00:00.000000000",
          "2025-03-18T00:00:00.000000000",
          "2025-03-19T00:00:00.000000000",
          "2025-04-03T00:00:00.000000000",
          "2025-04-04T00:00:00.000000000",
          "2025-04-07T00:00:00.000000000",
          "2025-04-08T00:00:00.000000000",
          "2025-04-09T00:00:00.000000000",
          "2025-04-10T00:00:00.000000000"
         ],
         "xaxis": "x3",
         "y": {
          "bdata": "WLIe5LG3BUBzFSrT0KwFQA98gfeAlQVArfyMYhIUB0C4BDqfFGIGQHUhzzgLvAdABspRNfaYB0DP65Il0mcIQAHreUoE0QdAITaq8M4BCUD7Juh+aEIJQHxo2Z/tswhA9RxVk5S1CUDPGFEWLTYJQKlrjdUWngpAUnfp98tXCkATng/7L4AJQEhN17c2pAlAhvtdbu6kCEBA22g31CoIQN8MrehVnghAup7ndP7sB0Cy6sNjBDcLQCm4gNsagg5AKB0tCDvMDkCwwWNiGqkPQP6eLc/3HgxAeuB/gFynDUA=",
          "dtype": "f8"
         },
         "yaxis": "y3"
        },
        {
         "marker": {
          "color": "rgb(141,160,203)",
          "size": 6
         },
         "mode": "markers",
         "name": "Regime 2",
         "showlegend": false,
         "type": "scatter",
         "x": [
          "2025-01-14T00:00:00.000000000",
          "2025-01-15T00:00:00.000000000",
          "2025-01-16T00:00:00.000000000",
          "2025-01-17T00:00:00.000000000",
          "2025-01-21T00:00:00.000000000",
          "2025-01-29T00:00:00.000000000",
          "2025-01-30T00:00:00.000000000",
          "2025-01-31T00:00:00.000000000",
          "2025-02-03T00:00:00.000000000",
          "2025-02-04T00:00:00.000000000",
          "2025-02-05T00:00:00.000000000",
          "2025-02-14T00:00:00.000000000",
          "2025-02-18T00:00:00.000000000",
          "2025-02-19T00:00:00.000000000",
          "2025-02-20T00:00:00.000000000",
          "2025-02-21T00:00:00.000000000",
          "2025-02-24T00:00:00.000000000",
          "2025-03-20T00:00:00.000000000",
          "2025-03-21T00:00:00.000000000",
          "2025-03-24T00:00:00.000000000",
          "2025-03-25T00:00:00.000000000",
          "2025-03-26T00:00:00.000000000",
          "2025-03-27T00:00:00.000000000",
          "2025-03-28T00:00:00.000000000",
          "2025-03-31T00:00:00.000000000",
          "2025-04-01T00:00:00.000000000",
          "2025-04-02T00:00:00.000000000"
         ],
         "xaxis": "x3",
         "y": {
          "bdata": "QJQzArZuB0Ba/dGCkD0GQIuZ5CGoeQZA3bjBCmsqBkAYBxE1Q7IFQIaf+zu3dAZAhMcGu60ZBkAj88Y7k2QGQOiXlwLWZAdAhQecjZDDBkCaMkWtmxAGQIVOGONwigVAbXcqFVPZBUCLtpp+n84FQKOb1spFAgZA0/dUfTw3B0BjHo3WDYwHQBN+CTGt4gdAyA2NAyysB0AeC2UIcuMGQEdf24ZpvAZA5FAfILBEB0CB6jdQhWwHQCacUXOcmQhAGuTXIVvUCECG+11u7qQIQNE2GiRTjAhA",
          "dtype": "f8"
         },
         "yaxis": "y3"
        },
        {
         "line": {
          "color": "rgba(0,0,0,0.3)"
         },
         "mode": "lines",
         "name": "LogVIX",
         "showlegend": true,
         "type": "scatter",
         "x": [
          "2025-01-13T00:00:00.000000000",
          "2025-01-14T00:00:00.000000000",
          "2025-01-15T00:00:00.000000000",
          "2025-01-16T00:00:00.000000000",
          "2025-01-17T00:00:00.000000000",
          "2025-01-21T00:00:00.000000000",
          "2025-01-22T00:00:00.000000000",
          "2025-01-23T00:00:00.000000000",
          "2025-01-24T00:00:00.000000000",
          "2025-01-27T00:00:00.000000000",
          "2025-01-28T00:00:00.000000000",
          "2025-01-29T00:00:00.000000000",
          "2025-01-30T00:00:00.000000000",
          "2025-01-31T00:00:00.000000000",
          "2025-02-03T00:00:00.000000000",
          "2025-02-04T00:00:00.000000000",
          "2025-02-05T00:00:00.000000000",
          "2025-02-06T00:00:00.000000000",
          "2025-02-07T00:00:00.000000000",
          "2025-02-10T00:00:00.000000000",
          "2025-02-11T00:00:00.000000000",
          "2025-02-12T00:00:00.000000000",
          "2025-02-13T00:00:00.000000000",
          "2025-02-14T00:00:00.000000000",
          "2025-02-18T00:00:00.000000000",
          "2025-02-19T00:00:00.000000000",
          "2025-02-20T00:00:00.000000000",
          "2025-02-21T00:00:00.000000000",
          "2025-02-24T00:00:00.000000000",
          "2025-02-25T00:00:00.000000000",
          "2025-02-26T00:00:00.000000000",
          "2025-02-27T00:00:00.000000000",
          "2025-02-28T00:00:00.000000000",
          "2025-03-03T00:00:00.000000000",
          "2025-03-04T00:00:00.000000000",
          "2025-03-05T00:00:00.000000000",
          "2025-03-06T00:00:00.000000000",
          "2025-03-07T00:00:00.000000000",
          "2025-03-10T00:00:00.000000000",
          "2025-03-11T00:00:00.000000000",
          "2025-03-12T00:00:00.000000000",
          "2025-03-13T00:00:00.000000000",
          "2025-03-14T00:00:00.000000000",
          "2025-03-17T00:00:00.000000000",
          "2025-03-18T00:00:00.000000000",
          "2025-03-19T00:00:00.000000000",
          "2025-03-20T00:00:00.000000000",
          "2025-03-21T00:00:00.000000000",
          "2025-03-24T00:00:00.000000000",
          "2025-03-25T00:00:00.000000000",
          "2025-03-26T00:00:00.000000000",
          "2025-03-27T00:00:00.000000000",
          "2025-03-28T00:00:00.000000000",
          "2025-03-31T00:00:00.000000000",
          "2025-04-01T00:00:00.000000000",
          "2025-04-02T00:00:00.000000000",
          "2025-04-03T00:00:00.000000000",
          "2025-04-04T00:00:00.000000000",
          "2025-04-07T00:00:00.000000000",
          "2025-04-08T00:00:00.000000000",
          "2025-04-09T00:00:00.000000000",
          "2025-04-10T00:00:00.000000000"
         ],
         "xaxis": "x3",
         "y": {
          "bdata": "nbiN4JaiB0BAlDMCtm4HQFr90YKQPQZAi5nkIah5BkDduMEKayoGQBgHETVDsgVAWLIe5LG3BUBzFSrT0KwFQA98gfeAlQVArfyMYhIUB0C4BDqfFGIGQIaf+zu3dAZAhMcGu60ZBkAj88Y7k2QGQOiXlwLWZAdAhQecjZDDBkCaMkWtmxAGQN6c0og97QVAeh4Ssz1yBkA5dQfUyxUGQFbNM/bRMAZAnAhxFCIgBkBYsh7ksbcFQIVOGONwigVAbXcqFVPZBUCLtpp+n84FQKOb1spFAgZA0/dUfTw3B0BjHo3WDYwHQHUhzzgLvAdABspRNfaYB0DP65Il0mcIQAHreUoE0QdAITaq8M4BCUD7Juh+aEIJQHxo2Z/tswhA9RxVk5S1CUDPGFEWLTYJQKlrjdUWngpAUnfp98tXCkATng/7L4AJQEhN17c2pAlAhvtdbu6kCEBA22g31CoIQN8MrehVnghAup7ndP7sB0ATfgkxreIHQMgNjQMsrAdAHgtlCHLjBkBHX9uGabwGQORQHyCwRAdAgeo3UIVsB0AmnFFznJkIQBrk1yFb1AhAhvtdbu6kCEDRNhokU4wIQLLqw2MENwtAKbiA2xqCDkAoHS0IO8wOQLDBY2IaqQ9A/p4tz/ceDEB64H+AXKcNQA==",
          "dtype": "f8"
         },
         "yaxis": "y3"
        }
       ],
       "layout": {
        "annotations": [
         {
          "font": {
           "size": 16
          },
          "showarrow": false,
          "text": "SPY Close Price by Regime",
          "x": 0.5,
          "xanchor": "center",
          "xref": "paper",
          "y": 1,
          "yanchor": "bottom",
          "yref": "paper"
         },
         {
          "font": {
           "size": 16
          },
          "showarrow": false,
          "text": "VIX by Regime",
          "x": 0.5,
          "xanchor": "center",
          "xref": "paper",
          "y": 0.6333333333333333,
          "yanchor": "bottom",
          "yref": "paper"
         },
         {
          "font": {
           "size": 16
          },
          "showarrow": false,
          "text": "LogVIX by Regime",
          "x": 0.5,
          "xanchor": "center",
          "xref": "paper",
          "y": 0.26666666666666666,
          "yanchor": "bottom",
          "yref": "paper"
         }
        ],
        "height": 1000,
        "hovermode": "closest",
        "legend": {
         "title": {
          "text": "Regime"
         }
        },
        "template": {
         "data": {
          "bar": [
           {
            "error_x": {
             "color": "#2a3f5f"
            },
            "error_y": {
             "color": "#2a3f5f"
            },
            "marker": {
             "line": {
              "color": "white",
              "width": 0.5
             },
             "pattern": {
              "fillmode": "overlay",
              "size": 10,
              "solidity": 0.2
             }
            },
            "type": "bar"
           }
          ],
          "barpolar": [
           {
            "marker": {
             "line": {
              "color": "white",
              "width": 0.5
             },
             "pattern": {
              "fillmode": "overlay",
              "size": 10,
              "solidity": 0.2
             }
            },
            "type": "barpolar"
           }
          ],
          "carpet": [
           {
            "aaxis": {
             "endlinecolor": "#2a3f5f",
             "gridcolor": "#C8D4E3",
             "linecolor": "#C8D4E3",
             "minorgridcolor": "#C8D4E3",
             "startlinecolor": "#2a3f5f"
            },
            "baxis": {
             "endlinecolor": "#2a3f5f",
             "gridcolor": "#C8D4E3",
             "linecolor": "#C8D4E3",
             "minorgridcolor": "#C8D4E3",
             "startlinecolor": "#2a3f5f"
            },
            "type": "carpet"
           }
          ],
          "choropleth": [
           {
            "colorbar": {
             "outlinewidth": 0,
             "ticks": ""
            },
            "type": "choropleth"
           }
          ],
          "contour": [
           {
            "colorbar": {
             "outlinewidth": 0,
             "ticks": ""
            },
            "colorscale": [
             [
              0,
              "#0d0887"
             ],
             [
              0.1111111111111111,
              "#46039f"
             ],
             [
              0.2222222222222222,
              "#7201a8"
             ],
             [
              0.3333333333333333,
              "#9c179e"
             ],
             [
              0.4444444444444444,
              "#bd3786"
             ],
             [
              0.5555555555555556,
              "#d8576b"
             ],
             [
              0.6666666666666666,
              "#ed7953"
             ],
             [
              0.7777777777777778,
              "#fb9f3a"
             ],
             [
              0.8888888888888888,
              "#fdca26"
             ],
             [
              1,
              "#f0f921"
             ]
            ],
            "type": "contour"
           }
          ],
          "contourcarpet": [
           {
            "colorbar": {
             "outlinewidth": 0,
             "ticks": ""
            },
            "type": "contourcarpet"
           }
          ],
          "heatmap": [
           {
            "colorbar": {
             "outlinewidth": 0,
             "ticks": ""
            },
            "colorscale": [
             [
              0,
              "#0d0887"
             ],
             [
              0.1111111111111111,
              "#46039f"
             ],
             [
              0.2222222222222222,
              "#7201a8"
             ],
             [
              0.3333333333333333,
              "#9c179e"
             ],
             [
              0.4444444444444444,
              "#bd3786"
             ],
             [
              0.5555555555555556,
              "#d8576b"
             ],
             [
              0.6666666666666666,
              "#ed7953"
             ],
             [
              0.7777777777777778,
              "#fb9f3a"
             ],
             [
              0.8888888888888888,
              "#fdca26"
             ],
             [
              1,
              "#f0f921"
             ]
            ],
            "type": "heatmap"
           }
          ],
          "histogram": [
           {
            "marker": {
             "pattern": {
              "fillmode": "overlay",
              "size": 10,
              "solidity": 0.2
             }
            },
            "type": "histogram"
           }
          ],
          "histogram2d": [
           {
            "colorbar": {
             "outlinewidth": 0,
             "ticks": ""
            },
            "colorscale": [
             [
              0,
              "#0d0887"
             ],
             [
              0.1111111111111111,
              "#46039f"
             ],
             [
              0.2222222222222222,
              "#7201a8"
             ],
             [
              0.3333333333333333,
              "#9c179e"
             ],
             [
              0.4444444444444444,
              "#bd3786"
             ],
             [
              0.5555555555555556,
              "#d8576b"
             ],
             [
              0.6666666666666666,
              "#ed7953"
             ],
             [
              0.7777777777777778,
              "#fb9f3a"
             ],
             [
              0.8888888888888888,
              "#fdca26"
             ],
             [
              1,
              "#f0f921"
             ]
            ],
            "type": "histogram2d"
           }
          ],
          "histogram2dcontour": [
           {
            "colorbar": {
             "outlinewidth": 0,
             "ticks": ""
            },
            "colorscale": [
             [
              0,
              "#0d0887"
             ],
             [
              0.1111111111111111,
              "#46039f"
             ],
             [
              0.2222222222222222,
              "#7201a8"
             ],
             [
              0.3333333333333333,
              "#9c179e"
             ],
             [
              0.4444444444444444,
              "#bd3786"
             ],
             [
              0.5555555555555556,
              "#d8576b"
             ],
             [
              0.6666666666666666,
              "#ed7953"
             ],
             [
              0.7777777777777778,
              "#fb9f3a"
             ],
             [
              0.8888888888888888,
              "#fdca26"
             ],
             [
              1,
              "#f0f921"
             ]
            ],
            "type": "histogram2dcontour"
           }
          ],
          "mesh3d": [
           {
            "colorbar": {
             "outlinewidth": 0,
             "ticks": ""
            },
            "type": "mesh3d"
           }
          ],
          "parcoords": [
           {
            "line": {
             "colorbar": {
              "outlinewidth": 0,
              "ticks": ""
             }
            },
            "type": "parcoords"
           }
          ],
          "pie": [
           {
            "automargin": true,
            "type": "pie"
           }
          ],
          "scatter": [
           {
            "fillpattern": {
             "fillmode": "overlay",
             "size": 10,
             "solidity": 0.2
            },
            "type": "scatter"
           }
          ],
          "scatter3d": [
           {
            "line": {
             "colorbar": {
              "outlinewidth": 0,
              "ticks": ""
             }
            },
            "marker": {
             "colorbar": {
              "outlinewidth": 0,
              "ticks": ""
             }
            },
            "type": "scatter3d"
           }
          ],
          "scattercarpet": [
           {
            "marker": {
             "colorbar": {
              "outlinewidth": 0,
              "ticks": ""
             }
            },
            "type": "scattercarpet"
           }
          ],
          "scattergeo": [
           {
            "marker": {
             "colorbar": {
              "outlinewidth": 0,
              "ticks": ""
             }
            },
            "type": "scattergeo"
           }
          ],
          "scattergl": [
           {
            "marker": {
             "colorbar": {
              "outlinewidth": 0,
              "ticks": ""
             }
            },
            "type": "scattergl"
           }
          ],
          "scattermap": [
           {
            "marker": {
             "colorbar": {
              "outlinewidth": 0,
              "ticks": ""
             }
            },
            "type": "scattermap"
           }
          ],
          "scattermapbox": [
           {
            "marker": {
             "colorbar": {
              "outlinewidth": 0,
              "ticks": ""
             }
            },
            "type": "scattermapbox"
           }
          ],
          "scatterpolar": [
           {
            "marker": {
             "colorbar": {
              "outlinewidth": 0,
              "ticks": ""
             }
            },
            "type": "scatterpolar"
           }
          ],
          "scatterpolargl": [
           {
            "marker": {
             "colorbar": {
              "outlinewidth": 0,
              "ticks": ""
             }
            },
            "type": "scatterpolargl"
           }
          ],
          "scatterternary": [
           {
            "marker": {
             "colorbar": {
              "outlinewidth": 0,
              "ticks": ""
             }
            },
            "type": "scatterternary"
           }
          ],
          "surface": [
           {
            "colorbar": {
             "outlinewidth": 0,
             "ticks": ""
            },
            "colorscale": [
             [
              0,
              "#0d0887"
             ],
             [
              0.1111111111111111,
              "#46039f"
             ],
             [
              0.2222222222222222,
              "#7201a8"
             ],
             [
              0.3333333333333333,
              "#9c179e"
             ],
             [
              0.4444444444444444,
              "#bd3786"
             ],
             [
              0.5555555555555556,
              "#d8576b"
             ],
             [
              0.6666666666666666,
              "#ed7953"
             ],
             [
              0.7777777777777778,
              "#fb9f3a"
             ],
             [
              0.8888888888888888,
              "#fdca26"
             ],
             [
              1,
              "#f0f921"
             ]
            ],
            "type": "surface"
           }
          ],
          "table": [
           {
            "cells": {
             "fill": {
              "color": "#EBF0F8"
             },
             "line": {
              "color": "white"
             }
            },
            "header": {
             "fill": {
              "color": "#C8D4E3"
             },
             "line": {
              "color": "white"
             }
            },
            "type": "table"
           }
          ]
         },
         "layout": {
          "annotationdefaults": {
           "arrowcolor": "#2a3f5f",
           "arrowhead": 0,
           "arrowwidth": 1
          },
          "autotypenumbers": "strict",
          "coloraxis": {
           "colorbar": {
            "outlinewidth": 0,
            "ticks": ""
           }
          },
          "colorscale": {
           "diverging": [
            [
             0,
             "#8e0152"
            ],
            [
             0.1,
             "#c51b7d"
            ],
            [
             0.2,
             "#de77ae"
            ],
            [
             0.3,
             "#f1b6da"
            ],
            [
             0.4,
             "#fde0ef"
            ],
            [
             0.5,
             "#f7f7f7"
            ],
            [
             0.6,
             "#e6f5d0"
            ],
            [
             0.7,
             "#b8e186"
            ],
            [
             0.8,
             "#7fbc41"
            ],
            [
             0.9,
             "#4d9221"
            ],
            [
             1,
             "#276419"
            ]
           ],
           "sequential": [
            [
             0,
             "#0d0887"
            ],
            [
             0.1111111111111111,
             "#46039f"
            ],
            [
             0.2222222222222222,
             "#7201a8"
            ],
            [
             0.3333333333333333,
             "#9c179e"
            ],
            [
             0.4444444444444444,
             "#bd3786"
            ],
            [
             0.5555555555555556,
             "#d8576b"
            ],
            [
             0.6666666666666666,
             "#ed7953"
            ],
            [
             0.7777777777777778,
             "#fb9f3a"
            ],
            [
             0.8888888888888888,
             "#fdca26"
            ],
            [
             1,
             "#f0f921"
            ]
           ],
           "sequentialminus": [
            [
             0,
             "#0d0887"
            ],
            [
             0.1111111111111111,
             "#46039f"
            ],
            [
             0.2222222222222222,
             "#7201a8"
            ],
            [
             0.3333333333333333,
             "#9c179e"
            ],
            [
             0.4444444444444444,
             "#bd3786"
            ],
            [
             0.5555555555555556,
             "#d8576b"
            ],
            [
             0.6666666666666666,
             "#ed7953"
            ],
            [
             0.7777777777777778,
             "#fb9f3a"
            ],
            [
             0.8888888888888888,
             "#fdca26"
            ],
            [
             1,
             "#f0f921"
            ]
           ]
          },
          "colorway": [
           "#636efa",
           "#EF553B",
           "#00cc96",
           "#ab63fa",
           "#FFA15A",
           "#19d3f3",
           "#FF6692",
           "#B6E880",
           "#FF97FF",
           "#FECB52"
          ],
          "font": {
           "color": "#2a3f5f"
          },
          "geo": {
           "bgcolor": "white",
           "lakecolor": "white",
           "landcolor": "white",
           "showlakes": true,
           "showland": true,
           "subunitcolor": "#C8D4E3"
          },
          "hoverlabel": {
           "align": "left"
          },
          "hovermode": "closest",
          "mapbox": {
           "style": "light"
          },
          "paper_bgcolor": "white",
          "plot_bgcolor": "white",
          "polar": {
           "angularaxis": {
            "gridcolor": "#EBF0F8",
            "linecolor": "#EBF0F8",
            "ticks": ""
           },
           "bgcolor": "white",
           "radialaxis": {
            "gridcolor": "#EBF0F8",
            "linecolor": "#EBF0F8",
            "ticks": ""
           }
          },
          "scene": {
           "xaxis": {
            "backgroundcolor": "white",
            "gridcolor": "#DFE8F3",
            "gridwidth": 2,
            "linecolor": "#EBF0F8",
            "showbackground": true,
            "ticks": "",
            "zerolinecolor": "#EBF0F8"
           },
           "yaxis": {
            "backgroundcolor": "white",
            "gridcolor": "#DFE8F3",
            "gridwidth": 2,
            "linecolor": "#EBF0F8",
            "showbackground": true,
            "ticks": "",
            "zerolinecolor": "#EBF0F8"
           },
           "zaxis": {
            "backgroundcolor": "white",
            "gridcolor": "#DFE8F3",
            "gridwidth": 2,
            "linecolor": "#EBF0F8",
            "showbackground": true,
            "ticks": "",
            "zerolinecolor": "#EBF0F8"
           }
          },
          "shapedefaults": {
           "line": {
            "color": "#2a3f5f"
           }
          },
          "ternary": {
           "aaxis": {
            "gridcolor": "#DFE8F3",
            "linecolor": "#A2B1C6",
            "ticks": ""
           },
           "baxis": {
            "gridcolor": "#DFE8F3",
            "linecolor": "#A2B1C6",
            "ticks": ""
           },
           "bgcolor": "white",
           "caxis": {
            "gridcolor": "#DFE8F3",
            "linecolor": "#A2B1C6",
            "ticks": ""
           }
          },
          "title": {
           "x": 0.05
          },
          "xaxis": {
           "automargin": true,
           "gridcolor": "#EBF0F8",
           "linecolor": "#EBF0F8",
           "ticks": "",
           "title": {
            "standoff": 15
           },
           "zerolinecolor": "#EBF0F8",
           "zerolinewidth": 2
          },
          "yaxis": {
           "automargin": true,
           "gridcolor": "#EBF0F8",
           "linecolor": "#EBF0F8",
           "ticks": "",
           "title": {
            "standoff": 15
           },
           "zerolinecolor": "#EBF0F8",
           "zerolinewidth": 2
          }
         }
        },
        "title": {
         "text": "Market Regimes in Recent 3 Months (2025-01-11 to 2025-04-11)"
        },
        "xaxis": {
         "anchor": "y",
         "domain": [
          0,
          1
         ],
         "matches": "x3",
         "showticklabels": false
        },
        "xaxis2": {
         "anchor": "y2",
         "domain": [
          0,
          1
         ],
         "matches": "x3",
         "showticklabels": false
        },
        "xaxis3": {
         "anchor": "y3",
         "domain": [
          0,
          1
         ],
         "title": {
          "text": "Date"
         }
        },
        "yaxis": {
         "anchor": "x",
         "domain": [
          0.7333333333333334,
          1
         ],
         "title": {
          "text": "SPY Price"
         }
        },
        "yaxis2": {
         "anchor": "x2",
         "domain": [
          0.3666666666666667,
          0.6333333333333333
         ],
         "title": {
          "text": "VIX"
         }
        },
        "yaxis3": {
         "anchor": "x3",
         "domain": [
          0,
          0.26666666666666666
         ],
         "title": {
          "text": "LogVIX"
         }
        }
       }
      }
     },
     "metadata": {},
     "output_type": "display_data"
    },
    {
     "data": {
      "application/vnd.plotly.v1+json": {
       "config": {
        "plotlyServerURL": "https://plot.ly"
       },
       "data": [
        {
         "domain": {
          "x": [
           0,
           1
          ],
          "y": [
           0,
           1
          ]
         },
         "hovertemplate": "label=%{label}<br>value=%{value}<extra></extra>",
         "labels": [
          "Regime 0",
          "Regime 1",
          "Regime 2"
         ],
         "legendgroup": "",
         "name": "",
         "showlegend": true,
         "textinfo": "percent+label",
         "textposition": "inside",
         "type": "pie",
         "values": {
          "bdata": "lFJKKaWURkDGGGOMMcZFQJRSSimllCZA",
          "dtype": "f8"
         }
        }
       ],
       "layout": {
        "legend": {
         "tracegroupgap": 0
        },
        "piecolorway": [
         "rgb(102,194,165)",
         "rgb(252,141,98)",
         "rgb(141,160,203)"
        ],
        "template": {
         "data": {
          "bar": [
           {
            "error_x": {
             "color": "#2a3f5f"
            },
            "error_y": {
             "color": "#2a3f5f"
            },
            "marker": {
             "line": {
              "color": "#E5ECF6",
              "width": 0.5
             },
             "pattern": {
              "fillmode": "overlay",
              "size": 10,
              "solidity": 0.2
             }
            },
            "type": "bar"
           }
          ],
          "barpolar": [
           {
            "marker": {
             "line": {
              "color": "#E5ECF6",
              "width": 0.5
             },
             "pattern": {
              "fillmode": "overlay",
              "size": 10,
              "solidity": 0.2
             }
            },
            "type": "barpolar"
           }
          ],
          "carpet": [
           {
            "aaxis": {
             "endlinecolor": "#2a3f5f",
             "gridcolor": "white",
             "linecolor": "white",
             "minorgridcolor": "white",
             "startlinecolor": "#2a3f5f"
            },
            "baxis": {
             "endlinecolor": "#2a3f5f",
             "gridcolor": "white",
             "linecolor": "white",
             "minorgridcolor": "white",
             "startlinecolor": "#2a3f5f"
            },
            "type": "carpet"
           }
          ],
          "choropleth": [
           {
            "colorbar": {
             "outlinewidth": 0,
             "ticks": ""
            },
            "type": "choropleth"
           }
          ],
          "contour": [
           {
            "colorbar": {
             "outlinewidth": 0,
             "ticks": ""
            },
            "colorscale": [
             [
              0,
              "#0d0887"
             ],
             [
              0.1111111111111111,
              "#46039f"
             ],
             [
              0.2222222222222222,
              "#7201a8"
             ],
             [
              0.3333333333333333,
              "#9c179e"
             ],
             [
              0.4444444444444444,
              "#bd3786"
             ],
             [
              0.5555555555555556,
              "#d8576b"
             ],
             [
              0.6666666666666666,
              "#ed7953"
             ],
             [
              0.7777777777777778,
              "#fb9f3a"
             ],
             [
              0.8888888888888888,
              "#fdca26"
             ],
             [
              1,
              "#f0f921"
             ]
            ],
            "type": "contour"
           }
          ],
          "contourcarpet": [
           {
            "colorbar": {
             "outlinewidth": 0,
             "ticks": ""
            },
            "type": "contourcarpet"
           }
          ],
          "heatmap": [
           {
            "colorbar": {
             "outlinewidth": 0,
             "ticks": ""
            },
            "colorscale": [
             [
              0,
              "#0d0887"
             ],
             [
              0.1111111111111111,
              "#46039f"
             ],
             [
              0.2222222222222222,
              "#7201a8"
             ],
             [
              0.3333333333333333,
              "#9c179e"
             ],
             [
              0.4444444444444444,
              "#bd3786"
             ],
             [
              0.5555555555555556,
              "#d8576b"
             ],
             [
              0.6666666666666666,
              "#ed7953"
             ],
             [
              0.7777777777777778,
              "#fb9f3a"
             ],
             [
              0.8888888888888888,
              "#fdca26"
             ],
             [
              1,
              "#f0f921"
             ]
            ],
            "type": "heatmap"
           }
          ],
          "histogram": [
           {
            "marker": {
             "pattern": {
              "fillmode": "overlay",
              "size": 10,
              "solidity": 0.2
             }
            },
            "type": "histogram"
           }
          ],
          "histogram2d": [
           {
            "colorbar": {
             "outlinewidth": 0,
             "ticks": ""
            },
            "colorscale": [
             [
              0,
              "#0d0887"
             ],
             [
              0.1111111111111111,
              "#46039f"
             ],
             [
              0.2222222222222222,
              "#7201a8"
             ],
             [
              0.3333333333333333,
              "#9c179e"
             ],
             [
              0.4444444444444444,
              "#bd3786"
             ],
             [
              0.5555555555555556,
              "#d8576b"
             ],
             [
              0.6666666666666666,
              "#ed7953"
             ],
             [
              0.7777777777777778,
              "#fb9f3a"
             ],
             [
              0.8888888888888888,
              "#fdca26"
             ],
             [
              1,
              "#f0f921"
             ]
            ],
            "type": "histogram2d"
           }
          ],
          "histogram2dcontour": [
           {
            "colorbar": {
             "outlinewidth": 0,
             "ticks": ""
            },
            "colorscale": [
             [
              0,
              "#0d0887"
             ],
             [
              0.1111111111111111,
              "#46039f"
             ],
             [
              0.2222222222222222,
              "#7201a8"
             ],
             [
              0.3333333333333333,
              "#9c179e"
             ],
             [
              0.4444444444444444,
              "#bd3786"
             ],
             [
              0.5555555555555556,
              "#d8576b"
             ],
             [
              0.6666666666666666,
              "#ed7953"
             ],
             [
              0.7777777777777778,
              "#fb9f3a"
             ],
             [
              0.8888888888888888,
              "#fdca26"
             ],
             [
              1,
              "#f0f921"
             ]
            ],
            "type": "histogram2dcontour"
           }
          ],
          "mesh3d": [
           {
            "colorbar": {
             "outlinewidth": 0,
             "ticks": ""
            },
            "type": "mesh3d"
           }
          ],
          "parcoords": [
           {
            "line": {
             "colorbar": {
              "outlinewidth": 0,
              "ticks": ""
             }
            },
            "type": "parcoords"
           }
          ],
          "pie": [
           {
            "automargin": true,
            "type": "pie"
           }
          ],
          "scatter": [
           {
            "fillpattern": {
             "fillmode": "overlay",
             "size": 10,
             "solidity": 0.2
            },
            "type": "scatter"
           }
          ],
          "scatter3d": [
           {
            "line": {
             "colorbar": {
              "outlinewidth": 0,
              "ticks": ""
             }
            },
            "marker": {
             "colorbar": {
              "outlinewidth": 0,
              "ticks": ""
             }
            },
            "type": "scatter3d"
           }
          ],
          "scattercarpet": [
           {
            "marker": {
             "colorbar": {
              "outlinewidth": 0,
              "ticks": ""
             }
            },
            "type": "scattercarpet"
           }
          ],
          "scattergeo": [
           {
            "marker": {
             "colorbar": {
              "outlinewidth": 0,
              "ticks": ""
             }
            },
            "type": "scattergeo"
           }
          ],
          "scattergl": [
           {
            "marker": {
             "colorbar": {
              "outlinewidth": 0,
              "ticks": ""
             }
            },
            "type": "scattergl"
           }
          ],
          "scattermap": [
           {
            "marker": {
             "colorbar": {
              "outlinewidth": 0,
              "ticks": ""
             }
            },
            "type": "scattermap"
           }
          ],
          "scattermapbox": [
           {
            "marker": {
             "colorbar": {
              "outlinewidth": 0,
              "ticks": ""
             }
            },
            "type": "scattermapbox"
           }
          ],
          "scatterpolar": [
           {
            "marker": {
             "colorbar": {
              "outlinewidth": 0,
              "ticks": ""
             }
            },
            "type": "scatterpolar"
           }
          ],
          "scatterpolargl": [
           {
            "marker": {
             "colorbar": {
              "outlinewidth": 0,
              "ticks": ""
             }
            },
            "type": "scatterpolargl"
           }
          ],
          "scatterternary": [
           {
            "marker": {
             "colorbar": {
              "outlinewidth": 0,
              "ticks": ""
             }
            },
            "type": "scatterternary"
           }
          ],
          "surface": [
           {
            "colorbar": {
             "outlinewidth": 0,
             "ticks": ""
            },
            "colorscale": [
             [
              0,
              "#0d0887"
             ],
             [
              0.1111111111111111,
              "#46039f"
             ],
             [
              0.2222222222222222,
              "#7201a8"
             ],
             [
              0.3333333333333333,
              "#9c179e"
             ],
             [
              0.4444444444444444,
              "#bd3786"
             ],
             [
              0.5555555555555556,
              "#d8576b"
             ],
             [
              0.6666666666666666,
              "#ed7953"
             ],
             [
              0.7777777777777778,
              "#fb9f3a"
             ],
             [
              0.8888888888888888,
              "#fdca26"
             ],
             [
              1,
              "#f0f921"
             ]
            ],
            "type": "surface"
           }
          ],
          "table": [
           {
            "cells": {
             "fill": {
              "color": "#EBF0F8"
             },
             "line": {
              "color": "white"
             }
            },
            "header": {
             "fill": {
              "color": "#C8D4E3"
             },
             "line": {
              "color": "white"
             }
            },
            "type": "table"
           }
          ]
         },
         "layout": {
          "annotationdefaults": {
           "arrowcolor": "#2a3f5f",
           "arrowhead": 0,
           "arrowwidth": 1
          },
          "autotypenumbers": "strict",
          "coloraxis": {
           "colorbar": {
            "outlinewidth": 0,
            "ticks": ""
           }
          },
          "colorscale": {
           "diverging": [
            [
             0,
             "#8e0152"
            ],
            [
             0.1,
             "#c51b7d"
            ],
            [
             0.2,
             "#de77ae"
            ],
            [
             0.3,
             "#f1b6da"
            ],
            [
             0.4,
             "#fde0ef"
            ],
            [
             0.5,
             "#f7f7f7"
            ],
            [
             0.6,
             "#e6f5d0"
            ],
            [
             0.7,
             "#b8e186"
            ],
            [
             0.8,
             "#7fbc41"
            ],
            [
             0.9,
             "#4d9221"
            ],
            [
             1,
             "#276419"
            ]
           ],
           "sequential": [
            [
             0,
             "#0d0887"
            ],
            [
             0.1111111111111111,
             "#46039f"
            ],
            [
             0.2222222222222222,
             "#7201a8"
            ],
            [
             0.3333333333333333,
             "#9c179e"
            ],
            [
             0.4444444444444444,
             "#bd3786"
            ],
            [
             0.5555555555555556,
             "#d8576b"
            ],
            [
             0.6666666666666666,
             "#ed7953"
            ],
            [
             0.7777777777777778,
             "#fb9f3a"
            ],
            [
             0.8888888888888888,
             "#fdca26"
            ],
            [
             1,
             "#f0f921"
            ]
           ],
           "sequentialminus": [
            [
             0,
             "#0d0887"
            ],
            [
             0.1111111111111111,
             "#46039f"
            ],
            [
             0.2222222222222222,
             "#7201a8"
            ],
            [
             0.3333333333333333,
             "#9c179e"
            ],
            [
             0.4444444444444444,
             "#bd3786"
            ],
            [
             0.5555555555555556,
             "#d8576b"
            ],
            [
             0.6666666666666666,
             "#ed7953"
            ],
            [
             0.7777777777777778,
             "#fb9f3a"
            ],
            [
             0.8888888888888888,
             "#fdca26"
            ],
            [
             1,
             "#f0f921"
            ]
           ]
          },
          "colorway": [
           "#636efa",
           "#EF553B",
           "#00cc96",
           "#ab63fa",
           "#FFA15A",
           "#19d3f3",
           "#FF6692",
           "#B6E880",
           "#FF97FF",
           "#FECB52"
          ],
          "font": {
           "color": "#2a3f5f"
          },
          "geo": {
           "bgcolor": "white",
           "lakecolor": "white",
           "landcolor": "#E5ECF6",
           "showlakes": true,
           "showland": true,
           "subunitcolor": "white"
          },
          "hoverlabel": {
           "align": "left"
          },
          "hovermode": "closest",
          "mapbox": {
           "style": "light"
          },
          "paper_bgcolor": "white",
          "plot_bgcolor": "#E5ECF6",
          "polar": {
           "angularaxis": {
            "gridcolor": "white",
            "linecolor": "white",
            "ticks": ""
           },
           "bgcolor": "#E5ECF6",
           "radialaxis": {
            "gridcolor": "white",
            "linecolor": "white",
            "ticks": ""
           }
          },
          "scene": {
           "xaxis": {
            "backgroundcolor": "#E5ECF6",
            "gridcolor": "white",
            "gridwidth": 2,
            "linecolor": "white",
            "showbackground": true,
            "ticks": "",
            "zerolinecolor": "white"
           },
           "yaxis": {
            "backgroundcolor": "#E5ECF6",
            "gridcolor": "white",
            "gridwidth": 2,
            "linecolor": "white",
            "showbackground": true,
            "ticks": "",
            "zerolinecolor": "white"
           },
           "zaxis": {
            "backgroundcolor": "#E5ECF6",
            "gridcolor": "white",
            "gridwidth": 2,
            "linecolor": "white",
            "showbackground": true,
            "ticks": "",
            "zerolinecolor": "white"
           }
          },
          "shapedefaults": {
           "line": {
            "color": "#2a3f5f"
           }
          },
          "ternary": {
           "aaxis": {
            "gridcolor": "white",
            "linecolor": "white",
            "ticks": ""
           },
           "baxis": {
            "gridcolor": "white",
            "linecolor": "white",
            "ticks": ""
           },
           "bgcolor": "#E5ECF6",
           "caxis": {
            "gridcolor": "white",
            "linecolor": "white",
            "ticks": ""
           }
          },
          "title": {
           "x": 0.05
          },
          "xaxis": {
           "automargin": true,
           "gridcolor": "white",
           "linecolor": "white",
           "ticks": "",
           "title": {
            "standoff": 15
           },
           "zerolinecolor": "white",
           "zerolinewidth": 2
          },
          "yaxis": {
           "automargin": true,
           "gridcolor": "white",
           "linecolor": "white",
           "ticks": "",
           "title": {
            "standoff": 15
           },
           "zerolinecolor": "white",
           "zerolinewidth": 2
          }
         }
        },
        "title": {
         "text": "Percentage of Time in Each Regime (2025-01-11 to 2025-04-11)"
        },
        "uniformtext": {
         "minsize": 12,
         "mode": "hide"
        }
       }
      }
     },
     "metadata": {},
     "output_type": "display_data"
    },
    {
     "data": {
      "application/vnd.plotly.v1+json": {
       "config": {
        "plotlyServerURL": "https://plot.ly"
       },
       "data": [
        {
         "hovertemplate": "Volatility=%{x}<br>Return (%)=%{y}<br>Log(VIX)=%{marker.size}<br>Predicted_Regime=%{marker.color}<extra></extra>",
         "legendgroup": "",
         "marker": {
          "color": {
           "bdata": "AAICAgICAQEBAQECAgICAgIAAAAAAAACAgICAgIBAQEBAQEBAQEBAQEBAQEBAQICAgICAgICAgIBAQEBAQE=",
           "dtype": "i1"
          },
          "coloraxis": "coloraxis",
          "opacity": 0.8,
          "size": {
           "bdata": "nbiN4JaiB0BAlDMCtm4HQFr90YKQPQZAi5nkIah5BkDduMEKayoGQBgHETVDsgVAWLIe5LG3BUBzFSrT0KwFQA98gfeAlQVArfyMYhIUB0C4BDqfFGIGQIaf+zu3dAZAhMcGu60ZBkAj88Y7k2QGQOiXlwLWZAdAhQecjZDDBkCaMkWtmxAGQN6c0og97QVAeh4Ssz1yBkA5dQfUyxUGQFbNM/bRMAZAnAhxFCIgBkBYsh7ksbcFQIVOGONwigVAbXcqFVPZBUCLtpp+n84FQKOb1spFAgZA0/dUfTw3B0BjHo3WDYwHQHUhzzgLvAdABspRNfaYB0DP65Il0mcIQAHreUoE0QdAITaq8M4BCUD7Juh+aEIJQHxo2Z/tswhA9RxVk5S1CUDPGFEWLTYJQKlrjdUWngpAUnfp98tXCkATng/7L4AJQEhN17c2pAlAhvtdbu6kCEBA22g31CoIQN8MrehVnghAup7ndP7sB0ATfgkxreIHQMgNjQMsrAdAHgtlCHLjBkBHX9uGabwGQORQHyCwRAdAgeo3UIVsB0AmnFFznJkIQBrk1yFb1AhAhvtdbu6kCEDRNhokU4wIQLLqw2MENwtAKbiA2xqCDkAoHS0IO8wOQLDBY2IaqQ9A/p4tz/ceDEB64H+AXKcNQA==",
           "dtype": "f8"
          },
          "sizemode": "area",
          "sizeref": 0.01758919935722067,
          "symbol": "circle"
         },
         "mode": "markers",
         "name": "",
         "orientation": "v",
         "showlegend": false,
         "type": "scatter",
         "x": {
          "bdata": "j8I5S9CBN0BwPSpSU6o0QPQo/J/jxTdACtdzHKkwOUDD9XxLi+U/QLkeJSyHjEhAkMK58SDUUUDC9exZRe5YQF2PBvtr51xAPgqgevXzVkAK17xPo7lQQOF69pmJ2kBA9ihg0S/sOUDNzNTZVo0pQLgeZXb7FylAHYUzwNy8KUBH4UKy9SIoQGZmBk2aliFAzczMVmWgGUAoXE9t5msXQKRw/bo0qxhAPQpnM5cZGECG69GD+Y4jQFO4Ru8QHSlAehTW9si6JkAWrqeDNFwrQLge5TvzqStAkMKlESHzMkDNzPxNOWI4QHsURrj09EJAuR5nxs9FSEAqXDgWholUQNejFGytX1RAwvU1dtAnWEA9CtymlGZcQPYooaSMmlVAo3D6wPfIUkDWoxUy/p5RQD4K1OkSxlpAZuYEbBc9YkAULq7sAwliQAAAkFO0BmZAAACRwjJvXkAAAFiQkb5XQPYo1PM+OVVASOFipJIdSUCF6/GqX7tEQAvXR9n2yTdAUrjA8za2REAzM/uCEbVJQDMznWWXS0hAZmbans7aN0AzM+0DmStAQO1RsLpJFkJArke5V6A8QUDhehRAekZBQDMzQ+YFRFtAKOxmsKg3eUDiwn3Rk7uCQB4lF/aYnIdA4boUCRhnhUBIIXuX5UODQA==",
          "dtype": "f8"
         },
         "xaxis": "x",
         "y": {
          "bdata": "HGXyJZ3Ywz+LPfTh9JzBP70UJECiGv0/yqGLe9adyL+dDpvHVRDwP1sH0S2PSu0/9mwkVQ794T+xpzfyT3fhP4yGX00Fr9K/wcJh6u+h9r8vC2Fs5X7rP5N379/csNy/Ffcmf7Ys4T81WKEKuwfhv+D/567ciOW/aeKouG135T8Wiy4T8fLZP6I9okp7PtY/NsECMJNK7b8lt9QpUbvlPyPdoSfHeLM/ysOFnRee1L9XlnYNXuTwP2Vw4Wy7JnS/SgNyPhDK0j/AM9iPeyTOP3l4q4gpoNq/oKx/ONdd+78oGR3Jbx/dvy2jNJQL1N+/GlO2YoHYqT/xdP2BAor5vzxafKML+Pg/WQgYNywI/L9wiL0+YfDyv51YPVhPMvE/z24mq9hm/L8Gy5Dbeu/hP7heQJb2TgXAmv655eiZ6r+C3VldHfvgPz3x7WAsVPW//nfOZ0yGAECggVQYKq3oP/uKri0lS/G/Yq8tN+ds8T8YFo9h0YHSv+5p/5+Q46A/HdutilKn/D/0Qe9h88TOP6oD3vnpGfO/HysYLB3/0L+9YDdsVBwAwJ8G9ewie+U/CGVKZIoT0j+oJroWPEDkP8chOQdbthPAZCAe3sxqF8ABB2vdkMzGv/LaDLJ5D/m/dow5/vwAJUAc/Va4EIcRwA==",
          "dtype": "f8"
         },
         "yaxis": "y"
        }
       ],
       "layout": {
        "coloraxis": {
         "colorbar": {
          "title": {
           "text": "Predicted_Regime"
          }
         },
         "colorscale": [
          [
           0,
           "#0d0887"
          ],
          [
           0.1111111111111111,
           "#46039f"
          ],
          [
           0.2222222222222222,
           "#7201a8"
          ],
          [
           0.3333333333333333,
           "#9c179e"
          ],
          [
           0.4444444444444444,
           "#bd3786"
          ],
          [
           0.5555555555555556,
           "#d8576b"
          ],
          [
           0.6666666666666666,
           "#ed7953"
          ],
          [
           0.7777777777777778,
           "#fb9f3a"
          ],
          [
           0.8888888888888888,
           "#fdca26"
          ],
          [
           1,
           "#f0f921"
          ]
         ]
        },
        "hovermode": "closest",
        "legend": {
         "itemsizing": "constant",
         "title": {
          "text": "Regime"
         },
         "tracegroupgap": 0
        },
        "template": {
         "data": {
          "bar": [
           {
            "error_x": {
             "color": "#2a3f5f"
            },
            "error_y": {
             "color": "#2a3f5f"
            },
            "marker": {
             "line": {
              "color": "white",
              "width": 0.5
             },
             "pattern": {
              "fillmode": "overlay",
              "size": 10,
              "solidity": 0.2
             }
            },
            "type": "bar"
           }
          ],
          "barpolar": [
           {
            "marker": {
             "line": {
              "color": "white",
              "width": 0.5
             },
             "pattern": {
              "fillmode": "overlay",
              "size": 10,
              "solidity": 0.2
             }
            },
            "type": "barpolar"
           }
          ],
          "carpet": [
           {
            "aaxis": {
             "endlinecolor": "#2a3f5f",
             "gridcolor": "#C8D4E3",
             "linecolor": "#C8D4E3",
             "minorgridcolor": "#C8D4E3",
             "startlinecolor": "#2a3f5f"
            },
            "baxis": {
             "endlinecolor": "#2a3f5f",
             "gridcolor": "#C8D4E3",
             "linecolor": "#C8D4E3",
             "minorgridcolor": "#C8D4E3",
             "startlinecolor": "#2a3f5f"
            },
            "type": "carpet"
           }
          ],
          "choropleth": [
           {
            "colorbar": {
             "outlinewidth": 0,
             "ticks": ""
            },
            "type": "choropleth"
           }
          ],
          "contour": [
           {
            "colorbar": {
             "outlinewidth": 0,
             "ticks": ""
            },
            "colorscale": [
             [
              0,
              "#0d0887"
             ],
             [
              0.1111111111111111,
              "#46039f"
             ],
             [
              0.2222222222222222,
              "#7201a8"
             ],
             [
              0.3333333333333333,
              "#9c179e"
             ],
             [
              0.4444444444444444,
              "#bd3786"
             ],
             [
              0.5555555555555556,
              "#d8576b"
             ],
             [
              0.6666666666666666,
              "#ed7953"
             ],
             [
              0.7777777777777778,
              "#fb9f3a"
             ],
             [
              0.8888888888888888,
              "#fdca26"
             ],
             [
              1,
              "#f0f921"
             ]
            ],
            "type": "contour"
           }
          ],
          "contourcarpet": [
           {
            "colorbar": {
             "outlinewidth": 0,
             "ticks": ""
            },
            "type": "contourcarpet"
           }
          ],
          "heatmap": [
           {
            "colorbar": {
             "outlinewidth": 0,
             "ticks": ""
            },
            "colorscale": [
             [
              0,
              "#0d0887"
             ],
             [
              0.1111111111111111,
              "#46039f"
             ],
             [
              0.2222222222222222,
              "#7201a8"
             ],
             [
              0.3333333333333333,
              "#9c179e"
             ],
             [
              0.4444444444444444,
              "#bd3786"
             ],
             [
              0.5555555555555556,
              "#d8576b"
             ],
             [
              0.6666666666666666,
              "#ed7953"
             ],
             [
              0.7777777777777778,
              "#fb9f3a"
             ],
             [
              0.8888888888888888,
              "#fdca26"
             ],
             [
              1,
              "#f0f921"
             ]
            ],
            "type": "heatmap"
           }
          ],
          "histogram": [
           {
            "marker": {
             "pattern": {
              "fillmode": "overlay",
              "size": 10,
              "solidity": 0.2
             }
            },
            "type": "histogram"
           }
          ],
          "histogram2d": [
           {
            "colorbar": {
             "outlinewidth": 0,
             "ticks": ""
            },
            "colorscale": [
             [
              0,
              "#0d0887"
             ],
             [
              0.1111111111111111,
              "#46039f"
             ],
             [
              0.2222222222222222,
              "#7201a8"
             ],
             [
              0.3333333333333333,
              "#9c179e"
             ],
             [
              0.4444444444444444,
              "#bd3786"
             ],
             [
              0.5555555555555556,
              "#d8576b"
             ],
             [
              0.6666666666666666,
              "#ed7953"
             ],
             [
              0.7777777777777778,
              "#fb9f3a"
             ],
             [
              0.8888888888888888,
              "#fdca26"
             ],
             [
              1,
              "#f0f921"
             ]
            ],
            "type": "histogram2d"
           }
          ],
          "histogram2dcontour": [
           {
            "colorbar": {
             "outlinewidth": 0,
             "ticks": ""
            },
            "colorscale": [
             [
              0,
              "#0d0887"
             ],
             [
              0.1111111111111111,
              "#46039f"
             ],
             [
              0.2222222222222222,
              "#7201a8"
             ],
             [
              0.3333333333333333,
              "#9c179e"
             ],
             [
              0.4444444444444444,
              "#bd3786"
             ],
             [
              0.5555555555555556,
              "#d8576b"
             ],
             [
              0.6666666666666666,
              "#ed7953"
             ],
             [
              0.7777777777777778,
              "#fb9f3a"
             ],
             [
              0.8888888888888888,
              "#fdca26"
             ],
             [
              1,
              "#f0f921"
             ]
            ],
            "type": "histogram2dcontour"
           }
          ],
          "mesh3d": [
           {
            "colorbar": {
             "outlinewidth": 0,
             "ticks": ""
            },
            "type": "mesh3d"
           }
          ],
          "parcoords": [
           {
            "line": {
             "colorbar": {
              "outlinewidth": 0,
              "ticks": ""
             }
            },
            "type": "parcoords"
           }
          ],
          "pie": [
           {
            "automargin": true,
            "type": "pie"
           }
          ],
          "scatter": [
           {
            "fillpattern": {
             "fillmode": "overlay",
             "size": 10,
             "solidity": 0.2
            },
            "type": "scatter"
           }
          ],
          "scatter3d": [
           {
            "line": {
             "colorbar": {
              "outlinewidth": 0,
              "ticks": ""
             }
            },
            "marker": {
             "colorbar": {
              "outlinewidth": 0,
              "ticks": ""
             }
            },
            "type": "scatter3d"
           }
          ],
          "scattercarpet": [
           {
            "marker": {
             "colorbar": {
              "outlinewidth": 0,
              "ticks": ""
             }
            },
            "type": "scattercarpet"
           }
          ],
          "scattergeo": [
           {
            "marker": {
             "colorbar": {
              "outlinewidth": 0,
              "ticks": ""
             }
            },
            "type": "scattergeo"
           }
          ],
          "scattergl": [
           {
            "marker": {
             "colorbar": {
              "outlinewidth": 0,
              "ticks": ""
             }
            },
            "type": "scattergl"
           }
          ],
          "scattermap": [
           {
            "marker": {
             "colorbar": {
              "outlinewidth": 0,
              "ticks": ""
             }
            },
            "type": "scattermap"
           }
          ],
          "scattermapbox": [
           {
            "marker": {
             "colorbar": {
              "outlinewidth": 0,
              "ticks": ""
             }
            },
            "type": "scattermapbox"
           }
          ],
          "scatterpolar": [
           {
            "marker": {
             "colorbar": {
              "outlinewidth": 0,
              "ticks": ""
             }
            },
            "type": "scatterpolar"
           }
          ],
          "scatterpolargl": [
           {
            "marker": {
             "colorbar": {
              "outlinewidth": 0,
              "ticks": ""
             }
            },
            "type": "scatterpolargl"
           }
          ],
          "scatterternary": [
           {
            "marker": {
             "colorbar": {
              "outlinewidth": 0,
              "ticks": ""
             }
            },
            "type": "scatterternary"
           }
          ],
          "surface": [
           {
            "colorbar": {
             "outlinewidth": 0,
             "ticks": ""
            },
            "colorscale": [
             [
              0,
              "#0d0887"
             ],
             [
              0.1111111111111111,
              "#46039f"
             ],
             [
              0.2222222222222222,
              "#7201a8"
             ],
             [
              0.3333333333333333,
              "#9c179e"
             ],
             [
              0.4444444444444444,
              "#bd3786"
             ],
             [
              0.5555555555555556,
              "#d8576b"
             ],
             [
              0.6666666666666666,
              "#ed7953"
             ],
             [
              0.7777777777777778,
              "#fb9f3a"
             ],
             [
              0.8888888888888888,
              "#fdca26"
             ],
             [
              1,
              "#f0f921"
             ]
            ],
            "type": "surface"
           }
          ],
          "table": [
           {
            "cells": {
             "fill": {
              "color": "#EBF0F8"
             },
             "line": {
              "color": "white"
             }
            },
            "header": {
             "fill": {
              "color": "#C8D4E3"
             },
             "line": {
              "color": "white"
             }
            },
            "type": "table"
           }
          ]
         },
         "layout": {
          "annotationdefaults": {
           "arrowcolor": "#2a3f5f",
           "arrowhead": 0,
           "arrowwidth": 1
          },
          "autotypenumbers": "strict",
          "coloraxis": {
           "colorbar": {
            "outlinewidth": 0,
            "ticks": ""
           }
          },
          "colorscale": {
           "diverging": [
            [
             0,
             "#8e0152"
            ],
            [
             0.1,
             "#c51b7d"
            ],
            [
             0.2,
             "#de77ae"
            ],
            [
             0.3,
             "#f1b6da"
            ],
            [
             0.4,
             "#fde0ef"
            ],
            [
             0.5,
             "#f7f7f7"
            ],
            [
             0.6,
             "#e6f5d0"
            ],
            [
             0.7,
             "#b8e186"
            ],
            [
             0.8,
             "#7fbc41"
            ],
            [
             0.9,
             "#4d9221"
            ],
            [
             1,
             "#276419"
            ]
           ],
           "sequential": [
            [
             0,
             "#0d0887"
            ],
            [
             0.1111111111111111,
             "#46039f"
            ],
            [
             0.2222222222222222,
             "#7201a8"
            ],
            [
             0.3333333333333333,
             "#9c179e"
            ],
            [
             0.4444444444444444,
             "#bd3786"
            ],
            [
             0.5555555555555556,
             "#d8576b"
            ],
            [
             0.6666666666666666,
             "#ed7953"
            ],
            [
             0.7777777777777778,
             "#fb9f3a"
            ],
            [
             0.8888888888888888,
             "#fdca26"
            ],
            [
             1,
             "#f0f921"
            ]
           ],
           "sequentialminus": [
            [
             0,
             "#0d0887"
            ],
            [
             0.1111111111111111,
             "#46039f"
            ],
            [
             0.2222222222222222,
             "#7201a8"
            ],
            [
             0.3333333333333333,
             "#9c179e"
            ],
            [
             0.4444444444444444,
             "#bd3786"
            ],
            [
             0.5555555555555556,
             "#d8576b"
            ],
            [
             0.6666666666666666,
             "#ed7953"
            ],
            [
             0.7777777777777778,
             "#fb9f3a"
            ],
            [
             0.8888888888888888,
             "#fdca26"
            ],
            [
             1,
             "#f0f921"
            ]
           ]
          },
          "colorway": [
           "#636efa",
           "#EF553B",
           "#00cc96",
           "#ab63fa",
           "#FFA15A",
           "#19d3f3",
           "#FF6692",
           "#B6E880",
           "#FF97FF",
           "#FECB52"
          ],
          "font": {
           "color": "#2a3f5f"
          },
          "geo": {
           "bgcolor": "white",
           "lakecolor": "white",
           "landcolor": "white",
           "showlakes": true,
           "showland": true,
           "subunitcolor": "#C8D4E3"
          },
          "hoverlabel": {
           "align": "left"
          },
          "hovermode": "closest",
          "mapbox": {
           "style": "light"
          },
          "paper_bgcolor": "white",
          "plot_bgcolor": "white",
          "polar": {
           "angularaxis": {
            "gridcolor": "#EBF0F8",
            "linecolor": "#EBF0F8",
            "ticks": ""
           },
           "bgcolor": "white",
           "radialaxis": {
            "gridcolor": "#EBF0F8",
            "linecolor": "#EBF0F8",
            "ticks": ""
           }
          },
          "scene": {
           "xaxis": {
            "backgroundcolor": "white",
            "gridcolor": "#DFE8F3",
            "gridwidth": 2,
            "linecolor": "#EBF0F8",
            "showbackground": true,
            "ticks": "",
            "zerolinecolor": "#EBF0F8"
           },
           "yaxis": {
            "backgroundcolor": "white",
            "gridcolor": "#DFE8F3",
            "gridwidth": 2,
            "linecolor": "#EBF0F8",
            "showbackground": true,
            "ticks": "",
            "zerolinecolor": "#EBF0F8"
           },
           "zaxis": {
            "backgroundcolor": "white",
            "gridcolor": "#DFE8F3",
            "gridwidth": 2,
            "linecolor": "#EBF0F8",
            "showbackground": true,
            "ticks": "",
            "zerolinecolor": "#EBF0F8"
           }
          },
          "shapedefaults": {
           "line": {
            "color": "#2a3f5f"
           }
          },
          "ternary": {
           "aaxis": {
            "gridcolor": "#DFE8F3",
            "linecolor": "#A2B1C6",
            "ticks": ""
           },
           "baxis": {
            "gridcolor": "#DFE8F3",
            "linecolor": "#A2B1C6",
            "ticks": ""
           },
           "bgcolor": "white",
           "caxis": {
            "gridcolor": "#DFE8F3",
            "linecolor": "#A2B1C6",
            "ticks": ""
           }
          },
          "title": {
           "x": 0.05
          },
          "xaxis": {
           "automargin": true,
           "gridcolor": "#EBF0F8",
           "linecolor": "#EBF0F8",
           "ticks": "",
           "title": {
            "standoff": 15
           },
           "zerolinecolor": "#EBF0F8",
           "zerolinewidth": 2
          },
          "yaxis": {
           "automargin": true,
           "gridcolor": "#EBF0F8",
           "linecolor": "#EBF0F8",
           "ticks": "",
           "title": {
            "standoff": 15
           },
           "zerolinecolor": "#EBF0F8",
           "zerolinewidth": 2
          }
         }
        },
        "title": {
         "text": "Volatility vs Return by Regime (2025-01-11 to 2025-04-11)"
        },
        "xaxis": {
         "anchor": "y",
         "domain": [
          0,
          1
         ],
         "rangemode": "tozero",
         "title": {
          "text": "Volatility"
         }
        },
        "yaxis": {
         "anchor": "x",
         "domain": [
          0,
          1
         ],
         "title": {
          "text": "Return (%)"
         }
        }
       }
      }
     },
     "metadata": {},
     "output_type": "display_data"
    }
   ],
   "source": [
    "# Unified function for regime prediction and visualization\n",
    "def analyze_market_regimes(start_date, end_date, title=None):\n",
    "    \"\"\"\n",
    "    Comprehensive function to predict and visualize market regimes for any date range\n",
    "    \n",
    "    Parameters:\n",
    "    -----------\n",
    "    start_date : str\n",
    "        Start date in 'YYYY-MM-DD' format\n",
    "    end_date : str\n",
    "        End date in 'YYYY-MM-DD' format\n",
    "    title : str, optional\n",
    "        Custom title for the plots\n",
    "    \n",
    "    Returns:\n",
    "    --------\n",
    "    DataFrame with prediction results\n",
    "    \"\"\"\n",
    "    # Get predictions\n",
    "    results = predict_regimes(model, df, start_date, end_date)\n",
    "    \n",
    "    if results is None or results.empty:\n",
    "        print(\"No data available for the specified period\")\n",
    "        return None\n",
    "    \n",
    "    # Set plot title\n",
    "    if title is None:\n",
    "        title = f'Market Regimes from {start_date} to {end_date}'\n",
    "    \n",
    "    # Create subplot figures for SPY, VIX, and LogVIX\n",
    "    fig = make_subplots(rows=3, cols=1, \n",
    "                       shared_xaxes=True,\n",
    "                       vertical_spacing=0.1,\n",
    "                       subplot_titles=('SPY Close Price by Regime', 'VIX by Regime', 'LogVIX by Regime'))\n",
    "    \n",
    "    # SPY price by regime\n",
    "    for regime in sorted(results['Predicted_Regime'].unique()):\n",
    "        regime_data = results[results['Predicted_Regime'] == regime]\n",
    "        fig.add_trace(\n",
    "            go.Scatter(\n",
    "                x=regime_data['Date'], \n",
    "                y=regime_data['Close'],\n",
    "                mode='markers',\n",
    "                marker=dict(color=regime_colors[regime], size=6),\n",
    "                name=f'Regime {regime}',\n",
    "                showlegend=True\n",
    "            ),\n",
    "            row=1, col=1\n",
    "        )\n",
    "    \n",
    "    # Add a line for the price trend\n",
    "    fig.add_trace(\n",
    "        go.Scatter(\n",
    "            x=results['Date'],\n",
    "            y=results['Close'],\n",
    "            mode='lines',\n",
    "            line=dict(color='rgba(0,0,0,0.3)'),\n",
    "            name='SPY Price',\n",
    "            showlegend=True\n",
    "        ),\n",
    "        row=1, col=1\n",
    "    )\n",
    "    \n",
    "    # VIX by regime\n",
    "    for regime in sorted(results['Predicted_Regime'].unique()):\n",
    "        regime_data = results[results['Predicted_Regime'] == regime]\n",
    "        fig.add_trace(\n",
    "            go.Scatter(\n",
    "                x=regime_data['Date'], \n",
    "                y=regime_data['VIX'],\n",
    "                mode='markers',\n",
    "                marker=dict(color=regime_colors[regime], size=6),\n",
    "                name=f'Regime {regime}',\n",
    "                showlegend=False\n",
    "            ),\n",
    "            row=2, col=1\n",
    "        )\n",
    "    \n",
    "    # Add a line for the VIX trend\n",
    "    fig.add_trace(\n",
    "        go.Scatter(\n",
    "            x=results['Date'],\n",
    "            y=results['VIX'],\n",
    "            mode='lines',\n",
    "            line=dict(color='rgba(0,0,0,0.3)'),\n",
    "            name='VIX',\n",
    "            showlegend=True\n",
    "        ),\n",
    "        row=2, col=1\n",
    "    )\n",
    "    \n",
    "    # LogVIX by regime\n",
    "    for regime in sorted(results['Predicted_Regime'].unique()):\n",
    "        regime_data = results[results['Predicted_Regime'] == regime]\n",
    "        fig.add_trace(\n",
    "            go.Scatter(\n",
    "                x=regime_data['Date'], \n",
    "                y=regime_data['LogVIX'],\n",
    "                mode='markers',\n",
    "                marker=dict(color=regime_colors[regime], size=6),\n",
    "                name=f'Regime {regime}',\n",
    "                showlegend=False\n",
    "            ),\n",
    "            row=3, col=1\n",
    "        )\n",
    "    \n",
    "    # Add a line for the LogVIX trend\n",
    "    fig.add_trace(\n",
    "        go.Scatter(\n",
    "            x=results['Date'],\n",
    "            y=results['LogVIX'],\n",
    "            mode='lines',\n",
    "            line=dict(color='rgba(0,0,0,0.3)'),\n",
    "            name='LogVIX',\n",
    "            showlegend=True\n",
    "        ),\n",
    "        row=3, col=1\n",
    "    )\n",
    "    \n",
    "    fig.update_layout(\n",
    "        height=1000,\n",
    "        title_text=title,\n",
    "        template='plotly_white',\n",
    "        legend_title='Regime',\n",
    "        hovermode='closest'\n",
    "    )\n",
    "    \n",
    "    fig.update_xaxes(title_text=\"Date\", row=3, col=1)\n",
    "    fig.update_yaxes(title_text=\"SPY Price\", row=1, col=1)\n",
    "    fig.update_yaxes(title_text=\"VIX\", row=2, col=1)\n",
    "    fig.update_yaxes(title_text=\"LogVIX\", row=3, col=1)\n",
    "    \n",
    "    fig.show()\n",
    "    \n",
    "    # Distribution of regimes pie chart\n",
    "    regime_percentages = results['Predicted_Regime'].value_counts(normalize=True) * 100\n",
    "    labels = [f\"Regime {i}\" for i in sorted(regime_percentages.index)]\n",
    "    \n",
    "    fig_pie = px.pie(\n",
    "        values=regime_percentages.values,\n",
    "        names=labels,\n",
    "        title=f'Percentage of Time in Each Regime ({start_date} to {end_date})',\n",
    "        color_discrete_sequence=[regime_colors[i] for i in sorted(regime_percentages.index)]\n",
    "    )\n",
    "    \n",
    "    fig_pie.update_traces(textinfo='percent+label', textposition='inside')\n",
    "    fig_pie.update_layout(uniformtext_minsize=12, uniformtext_mode='hide')\n",
    "    fig_pie.show()\n",
    "    \n",
    "    # Scatter plot of Volatility vs Return colored by regime\n",
    "    fig_scatter = px.scatter(\n",
    "        results,\n",
    "        x='Volatility',\n",
    "        y='Return',\n",
    "        color='Predicted_Regime',\n",
    "        color_discrete_sequence=regime_colors,\n",
    "        size='LogVIX',  # Use LogVIX for point size\n",
    "        size_max=15,\n",
    "        title=f'Volatility vs Return by Regime ({start_date} to {end_date})',\n",
    "        labels={'Volatility': 'Volatility', 'Return': 'Return (%)', 'LogVIX': 'Log(VIX)'},\n",
    "        opacity=0.8\n",
    "    )\n",
    "    \n",
    "    fig_scatter.update_layout(\n",
    "        legend_title='Regime',\n",
    "        hovermode='closest',\n",
    "        template='plotly_white'\n",
    "    )\n",
    "    \n",
    "    fig_scatter.update_xaxes(rangemode='tozero')\n",
    "    fig_scatter.show()\n",
    "    \n",
    "    return results\n",
    "\n",
    "# Example: Analyze the most recent 3 months\n",
    "from datetime import datetime, timedelta\n",
    "\n",
    "today = datetime.today()\n",
    "three_months_ago = today - timedelta(days=90)\n",
    "\n",
    "start_date = three_months_ago.strftime('%Y-%m-%d')\n",
    "end_date = today.strftime('%Y-%m-%d')\n",
    "\n",
    "recent_results = analyze_market_regimes(\n",
    "    start_date, \n",
    "    end_date, \n",
    "    title=f'Market Regimes in Recent 3 Months ({start_date} to {end_date})'\n",
    ")"
   ]
  }
 ],
 "metadata": {
  "kernelspec": {
   "display_name": "ml-env",
   "language": "python",
   "name": "python3"
  },
  "language_info": {
   "codemirror_mode": {
    "name": "ipython",
    "version": 3
   },
   "file_extension": ".py",
   "mimetype": "text/x-python",
   "name": "python",
   "nbconvert_exporter": "python",
   "pygments_lexer": "ipython3",
   "version": "3.9.18"
  }
 },
 "nbformat": 4,
 "nbformat_minor": 4
}
