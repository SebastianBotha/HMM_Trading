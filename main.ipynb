{
 "cells": [
  {
   "cell_type": "code",
   "execution_count": 12,
   "metadata": {},
   "outputs": [
    {
     "name": "stderr",
     "output_type": "stream",
     "text": [
      "[*********************100%***********************]  1 of 1 completed"
     ]
    },
    {
     "name": "stdout",
     "output_type": "stream",
     "text": [
      "Downloading market data from 1995-01-01 to 2025-04-11...\n",
      "YF.download() has changed argument auto_adjust default to True\n"
     ]
    },
    {
     "name": "stderr",
     "output_type": "stream",
     "text": [
      "\n",
      "[*********************100%***********************]  1 of 1 completed"
     ]
    },
    {
     "name": "stdout",
     "output_type": "stream",
     "text": [
      "DataFrame structure:\n",
      "Data shape: (7620, 7)\n",
      "Data columns: ['Date', 'Close', 'High', 'Low', 'Open', 'Volume', 'VIX']\n"
     ]
    },
    {
     "name": "stderr",
     "output_type": "stream",
     "text": [
      "\n"
     ]
    },
    {
     "data": {
      "application/vnd.microsoft.datawrangler.viewer.v0+json": {
       "columns": [
        {
         "name": "index",
         "rawType": "int64",
         "type": "integer"
        },
        {
         "name": "Date",
         "rawType": "datetime64[ns]",
         "type": "datetime"
        },
        {
         "name": "Close",
         "rawType": "float64",
         "type": "float"
        },
        {
         "name": "High",
         "rawType": "float64",
         "type": "float"
        },
        {
         "name": "Low",
         "rawType": "float64",
         "type": "float"
        },
        {
         "name": "Open",
         "rawType": "float64",
         "type": "float"
        },
        {
         "name": "Volume",
         "rawType": "int64",
         "type": "integer"
        },
        {
         "name": "VIX",
         "rawType": "float64",
         "type": "float"
        }
       ],
       "conversionMethod": "pd.DataFrame",
       "ref": "6b0cb539-0fca-42a8-b4a6-fc70cba0f001",
       "rows": [
        [
         "0",
         "1995-01-03 00:00:00",
         "26.815872192382812",
         "26.852480891621564",
         "26.760959143524694",
         "26.77011131833438",
         "324300",
         "14.25"
        ],
        [
         "1",
         "1995-01-04 00:00:00",
         "26.944002151489258",
         "26.944002151489258",
         "26.797567357187685",
         "26.93484997684541",
         "351800",
         "13.529999732971191"
        ],
        [
         "2",
         "1995-01-05 00:00:00",
         "26.944002151489258",
         "27.008067373996195",
         "26.916545627557714",
         "26.962306500776954",
         "89800",
         "13.5"
        ],
        [
         "3",
         "1995-01-06 00:00:00",
         "26.971464157104492",
         "27.09044245165568",
         "26.88909456856905",
         "26.9989206866163",
         "448400",
         "13.130000114440918"
        ],
        [
         "4",
         "1995-01-09 00:00:00",
         "26.998912811279297",
         "26.998912811279293",
         "26.9439997682733",
         "26.962304115941965",
         "36800",
         "13.329999923706055"
        ]
       ],
       "shape": {
        "columns": 7,
        "rows": 5
       }
      },
      "text/html": [
       "<div>\n",
       "<style scoped>\n",
       "    .dataframe tbody tr th:only-of-type {\n",
       "        vertical-align: middle;\n",
       "    }\n",
       "\n",
       "    .dataframe tbody tr th {\n",
       "        vertical-align: top;\n",
       "    }\n",
       "\n",
       "    .dataframe thead th {\n",
       "        text-align: right;\n",
       "    }\n",
       "</style>\n",
       "<table border=\"1\" class=\"dataframe\">\n",
       "  <thead>\n",
       "    <tr style=\"text-align: right;\">\n",
       "      <th>Price</th>\n",
       "      <th>Date</th>\n",
       "      <th>Close</th>\n",
       "      <th>High</th>\n",
       "      <th>Low</th>\n",
       "      <th>Open</th>\n",
       "      <th>Volume</th>\n",
       "      <th>VIX</th>\n",
       "    </tr>\n",
       "  </thead>\n",
       "  <tbody>\n",
       "    <tr>\n",
       "      <th>0</th>\n",
       "      <td>1995-01-03</td>\n",
       "      <td>26.815872</td>\n",
       "      <td>26.852481</td>\n",
       "      <td>26.760959</td>\n",
       "      <td>26.770111</td>\n",
       "      <td>324300</td>\n",
       "      <td>14.25</td>\n",
       "    </tr>\n",
       "    <tr>\n",
       "      <th>1</th>\n",
       "      <td>1995-01-04</td>\n",
       "      <td>26.944002</td>\n",
       "      <td>26.944002</td>\n",
       "      <td>26.797567</td>\n",
       "      <td>26.934850</td>\n",
       "      <td>351800</td>\n",
       "      <td>13.53</td>\n",
       "    </tr>\n",
       "    <tr>\n",
       "      <th>2</th>\n",
       "      <td>1995-01-05</td>\n",
       "      <td>26.944002</td>\n",
       "      <td>27.008067</td>\n",
       "      <td>26.916546</td>\n",
       "      <td>26.962307</td>\n",
       "      <td>89800</td>\n",
       "      <td>13.50</td>\n",
       "    </tr>\n",
       "    <tr>\n",
       "      <th>3</th>\n",
       "      <td>1995-01-06</td>\n",
       "      <td>26.971464</td>\n",
       "      <td>27.090442</td>\n",
       "      <td>26.889095</td>\n",
       "      <td>26.998921</td>\n",
       "      <td>448400</td>\n",
       "      <td>13.13</td>\n",
       "    </tr>\n",
       "    <tr>\n",
       "      <th>4</th>\n",
       "      <td>1995-01-09</td>\n",
       "      <td>26.998913</td>\n",
       "      <td>26.998913</td>\n",
       "      <td>26.944000</td>\n",
       "      <td>26.962304</td>\n",
       "      <td>36800</td>\n",
       "      <td>13.33</td>\n",
       "    </tr>\n",
       "  </tbody>\n",
       "</table>\n",
       "</div>"
      ],
      "text/plain": [
       "Price       Date      Close       High        Low       Open  Volume    VIX\n",
       "0     1995-01-03  26.815872  26.852481  26.760959  26.770111  324300  14.25\n",
       "1     1995-01-04  26.944002  26.944002  26.797567  26.934850  351800  13.53\n",
       "2     1995-01-05  26.944002  27.008067  26.916546  26.962307   89800  13.50\n",
       "3     1995-01-06  26.971464  27.090442  26.889095  26.998921  448400  13.13\n",
       "4     1995-01-09  26.998913  26.998913  26.944000  26.962304   36800  13.33"
      ]
     },
     "execution_count": 12,
     "metadata": {},
     "output_type": "execute_result"
    }
   ],
   "source": [
    "import pandas as pd\n",
    "import numpy as np\n",
    "import matplotlib.pyplot as plt\n",
    "from matplotlib import cm\n",
    "import seaborn as sns\n",
    "import plotly.graph_objects as go\n",
    "import plotly.express as px\n",
    "import plotly.figure_factory as ff\n",
    "from plotly.subplots import make_subplots\n",
    "from hmmlearn import hmm\n",
    "import yfinance as yf\n",
    "from datetime import datetime, timedelta\n",
    "import warnings\n",
    "warnings.filterwarnings('ignore')\n",
    "\n",
    "# Hidden Markov Model Modifiable Parameters\n",
    "hidden_states = 3\n",
    "em_iterations = 75\n",
    "\n",
    "# Fixed training period \n",
    "train_start_date = \"2018-01-01\"\n",
    "train_end_date = \"2024-12-31\"\n",
    "\n",
    "# Date parameters for yfinance API - download data from 1995 to present\n",
    "start_date = \"1995-01-01\"\n",
    "end_date = datetime.today().strftime(\"%Y-%m-%d\")\n",
    "\n",
    "print(f\"Downloading market data from {start_date} to {end_date}...\")\n",
    "# Download SPY and VIX data using yfinance\n",
    "df_spy = yf.download('SPY', start=start_date, end=end_date, auto_adjust=True)\n",
    "df_vix = yf.download('^VIX', start=start_date, end=end_date)\n",
    "\n",
    "# Fix the multi-level column structure\n",
    "df_spy.columns = df_spy.columns.droplevel(1) if len(df_spy.columns.names) > 1 else df_spy.columns\n",
    "df_vix.columns = df_vix.columns.droplevel(1) if len(df_vix.columns.names) > 1 else df_vix.columns\n",
    "\n",
    "# Reset index to make Date a column\n",
    "df_spy = df_spy.reset_index()\n",
    "df_vix = df_vix.reset_index()\n",
    "\n",
    "# Keep only the Date and Close columns from VIX\n",
    "df_vix = df_vix[['Date', 'Close']].rename(columns={'Close': 'VIX'})\n",
    "\n",
    "# Merge SPY and VIX data\n",
    "df = pd.merge(df_spy, df_vix, on='Date', how='left')\n",
    "\n",
    "# Forward fill any missing VIX values\n",
    "df['VIX'] = df['VIX'].fillna(method='ffill')\n",
    "\n",
    "# Display first few rows to check the structure\n",
    "print(\"DataFrame structure:\")\n",
    "print(\"Data shape:\", df.shape)\n",
    "print(\"Data columns:\", df.columns.tolist())\n",
    "df.head()"
   ]
  },
  {
   "cell_type": "code",
   "execution_count": 13,
   "metadata": {},
   "outputs": [
    {
     "data": {
      "application/vnd.microsoft.datawrangler.viewer.v0+json": {
       "columns": [
        {
         "name": "index",
         "rawType": "int64",
         "type": "integer"
        },
        {
         "name": "Date",
         "rawType": "datetime64[ns]",
         "type": "datetime"
        },
        {
         "name": "Close",
         "rawType": "float64",
         "type": "float"
        },
        {
         "name": "High",
         "rawType": "float64",
         "type": "float"
        },
        {
         "name": "Low",
         "rawType": "float64",
         "type": "float"
        },
        {
         "name": "Open",
         "rawType": "float64",
         "type": "float"
        },
        {
         "name": "Volume",
         "rawType": "int64",
         "type": "integer"
        },
        {
         "name": "VIX",
         "rawType": "float64",
         "type": "float"
        },
        {
         "name": "Volatility",
         "rawType": "float64",
         "type": "float"
        },
        {
         "name": "MA",
         "rawType": "float64",
         "type": "float"
        },
        {
         "name": "Return",
         "rawType": "float64",
         "type": "float"
        },
        {
         "name": "VIX_Ratio",
         "rawType": "float64",
         "type": "float"
        }
       ],
       "conversionMethod": "pd.DataFrame",
       "ref": "02586698-c86d-4e7d-b404-e896b296adfc",
       "rows": [
        [
         "0",
         "1995-01-03 00:00:00",
         "26.815872192382812",
         "26.852480891621564",
         "26.760959143524694",
         "26.77011131833438",
         "324300",
         "14.25",
         "0.0",
         "0.0",
         "0.0",
         "0.0"
        ],
        [
         "1",
         "1995-01-04 00:00:00",
         "26.944002151489258",
         "26.944002151489258",
         "26.797567357187685",
         "26.93484997684541",
         "351800",
         "13.529999732971191",
         "0.0",
         "0.0",
         "0.0",
         "0.0"
        ],
        [
         "2",
         "1995-01-05 00:00:00",
         "26.944002151489258",
         "27.008067373996195",
         "26.916545627557714",
         "26.962306500776954",
         "89800",
         "13.5",
         "0.0",
         "0.0",
         "0.0",
         "0.0"
        ],
        [
         "3",
         "1995-01-06 00:00:00",
         "26.971464157104492",
         "27.09044245165568",
         "26.88909456856905",
         "26.9989206866163",
         "448400",
         "13.130000114440918",
         "0.0",
         "0.0",
         "0.0",
         "0.0"
        ],
        [
         "4",
         "1995-01-09 00:00:00",
         "26.998912811279297",
         "26.998912811279293",
         "26.9439997682733",
         "26.962304115941965",
         "36800",
         "13.329999923706055",
         "0.0",
         "0.0",
         "0.0",
         "0.0"
        ],
        [
         "5",
         "1995-01-10 00:00:00",
         "27.02637481689453",
         "27.172809627957964",
         "27.02637481689453",
         "27.06298351966039",
         "229800",
         "12.520000457763672",
         "0.0",
         "0.0",
         "0.0",
         "0.0"
        ],
        [
         "6",
         "1995-01-11 00:00:00",
         "27.044675827026367",
         "27.117893223512393",
         "26.83417581212904",
         "27.117893223512393",
         "222400",
         "12.149999618530273",
         "0.0",
         "0.0",
         "0.0",
         "0.0"
        ],
        [
         "7",
         "1995-01-12 00:00:00",
         "27.053829193115234",
         "27.072133543042916",
         "26.96230744347682",
         "27.01722049325987",
         "40300",
         "12.829999923706055",
         "0.0",
         "0.0",
         "0.0",
         "0.0"
        ],
        [
         "8",
         "1995-01-13 00:00:00",
         "27.37415885925293",
         "27.37415885925293",
         "27.16365880784443",
         "27.200267512437215",
         "170600",
         "11.100000381469727",
         "0.0",
         "0.0",
         "0.0",
         "0.0"
        ],
        [
         "9",
         "1995-01-16 00:00:00",
         "27.538894653320312",
         "27.54804682834634",
         "27.365003327825768",
         "27.365003327825768",
         "105100",
         "11.140000343322754",
         "0.0",
         "0.0",
         "0.0",
         "0.0"
        ],
        [
         "10",
         "1995-01-17 00:00:00",
         "27.54804801940918",
         "27.56635237025264",
         "27.447374089770143",
         "27.483982791457066",
         "89500",
         "11.789999961853027",
         "0.053481672412308404",
         "27.144436264038085",
         "0.03323795745652262",
         "0.9248509504227082"
        ],
        [
         "11",
         "1995-01-18 00:00:00",
         "27.520587921142578",
         "27.57550096654559",
         "27.45652270150573",
         "27.52974009537641",
         "84500",
         "11.569999694824219",
         "0.0602887844815632",
         "27.20209484100342",
         "-0.099680740527439",
         "0.9254518998928486"
        ],
        [
         "12",
         "1995-01-19 00:00:00",
         "27.364988327026367",
         "27.456510027116757",
         "27.346683987008287",
         "27.42905351708964",
         "139100",
         "11.859999656677246",
         "0.05450873602243519",
         "27.244193458557127",
         "-0.5653934231422149",
         "0.9637574854734579"
        ],
        [
         "13",
         "1995-01-20 00:00:00",
         "27.26433753967285",
         "27.337554961733066",
         "27.20942447312769",
         "27.32840278397554",
         "78700",
         "12.149999618530273",
         "0.046253439053580224",
         "27.273480796813963",
         "-0.36780862520635654",
         "1.0006588379917518"
        ],
        [
         "14",
         "1995-01-23 00:00:00",
         "27.346689224243164",
         "27.34668922424316",
         "27.06297189962752",
         "27.08127624315111",
         "53700",
         "12.789999961853027",
         "0.03804114423604915",
         "27.30825843811035",
         "0.3020490941710247",
         "1.0619395554976572"
        ]
       ],
       "shape": {
        "columns": 11,
        "rows": 15
       }
      },
      "text/html": [
       "<div>\n",
       "<style scoped>\n",
       "    .dataframe tbody tr th:only-of-type {\n",
       "        vertical-align: middle;\n",
       "    }\n",
       "\n",
       "    .dataframe tbody tr th {\n",
       "        vertical-align: top;\n",
       "    }\n",
       "\n",
       "    .dataframe thead th {\n",
       "        text-align: right;\n",
       "    }\n",
       "</style>\n",
       "<table border=\"1\" class=\"dataframe\">\n",
       "  <thead>\n",
       "    <tr style=\"text-align: right;\">\n",
       "      <th>Price</th>\n",
       "      <th>Date</th>\n",
       "      <th>Close</th>\n",
       "      <th>High</th>\n",
       "      <th>Low</th>\n",
       "      <th>Open</th>\n",
       "      <th>Volume</th>\n",
       "      <th>VIX</th>\n",
       "      <th>Volatility</th>\n",
       "      <th>MA</th>\n",
       "      <th>Return</th>\n",
       "      <th>VIX_Ratio</th>\n",
       "    </tr>\n",
       "  </thead>\n",
       "  <tbody>\n",
       "    <tr>\n",
       "      <th>0</th>\n",
       "      <td>1995-01-03</td>\n",
       "      <td>26.815872</td>\n",
       "      <td>26.852481</td>\n",
       "      <td>26.760959</td>\n",
       "      <td>26.770111</td>\n",
       "      <td>324300</td>\n",
       "      <td>14.25</td>\n",
       "      <td>0.000000</td>\n",
       "      <td>0.000000</td>\n",
       "      <td>0.000000</td>\n",
       "      <td>0.000000</td>\n",
       "    </tr>\n",
       "    <tr>\n",
       "      <th>1</th>\n",
       "      <td>1995-01-04</td>\n",
       "      <td>26.944002</td>\n",
       "      <td>26.944002</td>\n",
       "      <td>26.797567</td>\n",
       "      <td>26.934850</td>\n",
       "      <td>351800</td>\n",
       "      <td>13.53</td>\n",
       "      <td>0.000000</td>\n",
       "      <td>0.000000</td>\n",
       "      <td>0.000000</td>\n",
       "      <td>0.000000</td>\n",
       "    </tr>\n",
       "    <tr>\n",
       "      <th>2</th>\n",
       "      <td>1995-01-05</td>\n",
       "      <td>26.944002</td>\n",
       "      <td>27.008067</td>\n",
       "      <td>26.916546</td>\n",
       "      <td>26.962307</td>\n",
       "      <td>89800</td>\n",
       "      <td>13.50</td>\n",
       "      <td>0.000000</td>\n",
       "      <td>0.000000</td>\n",
       "      <td>0.000000</td>\n",
       "      <td>0.000000</td>\n",
       "    </tr>\n",
       "    <tr>\n",
       "      <th>3</th>\n",
       "      <td>1995-01-06</td>\n",
       "      <td>26.971464</td>\n",
       "      <td>27.090442</td>\n",
       "      <td>26.889095</td>\n",
       "      <td>26.998921</td>\n",
       "      <td>448400</td>\n",
       "      <td>13.13</td>\n",
       "      <td>0.000000</td>\n",
       "      <td>0.000000</td>\n",
       "      <td>0.000000</td>\n",
       "      <td>0.000000</td>\n",
       "    </tr>\n",
       "    <tr>\n",
       "      <th>4</th>\n",
       "      <td>1995-01-09</td>\n",
       "      <td>26.998913</td>\n",
       "      <td>26.998913</td>\n",
       "      <td>26.944000</td>\n",
       "      <td>26.962304</td>\n",
       "      <td>36800</td>\n",
       "      <td>13.33</td>\n",
       "      <td>0.000000</td>\n",
       "      <td>0.000000</td>\n",
       "      <td>0.000000</td>\n",
       "      <td>0.000000</td>\n",
       "    </tr>\n",
       "    <tr>\n",
       "      <th>5</th>\n",
       "      <td>1995-01-10</td>\n",
       "      <td>27.026375</td>\n",
       "      <td>27.172810</td>\n",
       "      <td>27.026375</td>\n",
       "      <td>27.062984</td>\n",
       "      <td>229800</td>\n",
       "      <td>12.52</td>\n",
       "      <td>0.000000</td>\n",
       "      <td>0.000000</td>\n",
       "      <td>0.000000</td>\n",
       "      <td>0.000000</td>\n",
       "    </tr>\n",
       "    <tr>\n",
       "      <th>6</th>\n",
       "      <td>1995-01-11</td>\n",
       "      <td>27.044676</td>\n",
       "      <td>27.117893</td>\n",
       "      <td>26.834176</td>\n",
       "      <td>27.117893</td>\n",
       "      <td>222400</td>\n",
       "      <td>12.15</td>\n",
       "      <td>0.000000</td>\n",
       "      <td>0.000000</td>\n",
       "      <td>0.000000</td>\n",
       "      <td>0.000000</td>\n",
       "    </tr>\n",
       "    <tr>\n",
       "      <th>7</th>\n",
       "      <td>1995-01-12</td>\n",
       "      <td>27.053829</td>\n",
       "      <td>27.072134</td>\n",
       "      <td>26.962307</td>\n",
       "      <td>27.017220</td>\n",
       "      <td>40300</td>\n",
       "      <td>12.83</td>\n",
       "      <td>0.000000</td>\n",
       "      <td>0.000000</td>\n",
       "      <td>0.000000</td>\n",
       "      <td>0.000000</td>\n",
       "    </tr>\n",
       "    <tr>\n",
       "      <th>8</th>\n",
       "      <td>1995-01-13</td>\n",
       "      <td>27.374159</td>\n",
       "      <td>27.374159</td>\n",
       "      <td>27.163659</td>\n",
       "      <td>27.200268</td>\n",
       "      <td>170600</td>\n",
       "      <td>11.10</td>\n",
       "      <td>0.000000</td>\n",
       "      <td>0.000000</td>\n",
       "      <td>0.000000</td>\n",
       "      <td>0.000000</td>\n",
       "    </tr>\n",
       "    <tr>\n",
       "      <th>9</th>\n",
       "      <td>1995-01-16</td>\n",
       "      <td>27.538895</td>\n",
       "      <td>27.548047</td>\n",
       "      <td>27.365003</td>\n",
       "      <td>27.365003</td>\n",
       "      <td>105100</td>\n",
       "      <td>11.14</td>\n",
       "      <td>0.000000</td>\n",
       "      <td>0.000000</td>\n",
       "      <td>0.000000</td>\n",
       "      <td>0.000000</td>\n",
       "    </tr>\n",
       "    <tr>\n",
       "      <th>10</th>\n",
       "      <td>1995-01-17</td>\n",
       "      <td>27.548048</td>\n",
       "      <td>27.566352</td>\n",
       "      <td>27.447374</td>\n",
       "      <td>27.483983</td>\n",
       "      <td>89500</td>\n",
       "      <td>11.79</td>\n",
       "      <td>0.053482</td>\n",
       "      <td>27.144436</td>\n",
       "      <td>0.033238</td>\n",
       "      <td>0.924851</td>\n",
       "    </tr>\n",
       "    <tr>\n",
       "      <th>11</th>\n",
       "      <td>1995-01-18</td>\n",
       "      <td>27.520588</td>\n",
       "      <td>27.575501</td>\n",
       "      <td>27.456523</td>\n",
       "      <td>27.529740</td>\n",
       "      <td>84500</td>\n",
       "      <td>11.57</td>\n",
       "      <td>0.060289</td>\n",
       "      <td>27.202095</td>\n",
       "      <td>-0.099681</td>\n",
       "      <td>0.925452</td>\n",
       "    </tr>\n",
       "    <tr>\n",
       "      <th>12</th>\n",
       "      <td>1995-01-19</td>\n",
       "      <td>27.364988</td>\n",
       "      <td>27.456510</td>\n",
       "      <td>27.346684</td>\n",
       "      <td>27.429054</td>\n",
       "      <td>139100</td>\n",
       "      <td>11.86</td>\n",
       "      <td>0.054509</td>\n",
       "      <td>27.244193</td>\n",
       "      <td>-0.565393</td>\n",
       "      <td>0.963757</td>\n",
       "    </tr>\n",
       "    <tr>\n",
       "      <th>13</th>\n",
       "      <td>1995-01-20</td>\n",
       "      <td>27.264338</td>\n",
       "      <td>27.337555</td>\n",
       "      <td>27.209424</td>\n",
       "      <td>27.328403</td>\n",
       "      <td>78700</td>\n",
       "      <td>12.15</td>\n",
       "      <td>0.046253</td>\n",
       "      <td>27.273481</td>\n",
       "      <td>-0.367809</td>\n",
       "      <td>1.000659</td>\n",
       "    </tr>\n",
       "    <tr>\n",
       "      <th>14</th>\n",
       "      <td>1995-01-23</td>\n",
       "      <td>27.346689</td>\n",
       "      <td>27.346689</td>\n",
       "      <td>27.062972</td>\n",
       "      <td>27.081276</td>\n",
       "      <td>53700</td>\n",
       "      <td>12.79</td>\n",
       "      <td>0.038041</td>\n",
       "      <td>27.308258</td>\n",
       "      <td>0.302049</td>\n",
       "      <td>1.061940</td>\n",
       "    </tr>\n",
       "  </tbody>\n",
       "</table>\n",
       "</div>"
      ],
      "text/plain": [
       "Price       Date      Close       High        Low       Open  Volume    VIX  \\\n",
       "0     1995-01-03  26.815872  26.852481  26.760959  26.770111  324300  14.25   \n",
       "1     1995-01-04  26.944002  26.944002  26.797567  26.934850  351800  13.53   \n",
       "2     1995-01-05  26.944002  27.008067  26.916546  26.962307   89800  13.50   \n",
       "3     1995-01-06  26.971464  27.090442  26.889095  26.998921  448400  13.13   \n",
       "4     1995-01-09  26.998913  26.998913  26.944000  26.962304   36800  13.33   \n",
       "5     1995-01-10  27.026375  27.172810  27.026375  27.062984  229800  12.52   \n",
       "6     1995-01-11  27.044676  27.117893  26.834176  27.117893  222400  12.15   \n",
       "7     1995-01-12  27.053829  27.072134  26.962307  27.017220   40300  12.83   \n",
       "8     1995-01-13  27.374159  27.374159  27.163659  27.200268  170600  11.10   \n",
       "9     1995-01-16  27.538895  27.548047  27.365003  27.365003  105100  11.14   \n",
       "10    1995-01-17  27.548048  27.566352  27.447374  27.483983   89500  11.79   \n",
       "11    1995-01-18  27.520588  27.575501  27.456523  27.529740   84500  11.57   \n",
       "12    1995-01-19  27.364988  27.456510  27.346684  27.429054  139100  11.86   \n",
       "13    1995-01-20  27.264338  27.337555  27.209424  27.328403   78700  12.15   \n",
       "14    1995-01-23  27.346689  27.346689  27.062972  27.081276   53700  12.79   \n",
       "\n",
       "Price  Volatility         MA    Return  VIX_Ratio  \n",
       "0        0.000000   0.000000  0.000000   0.000000  \n",
       "1        0.000000   0.000000  0.000000   0.000000  \n",
       "2        0.000000   0.000000  0.000000   0.000000  \n",
       "3        0.000000   0.000000  0.000000   0.000000  \n",
       "4        0.000000   0.000000  0.000000   0.000000  \n",
       "5        0.000000   0.000000  0.000000   0.000000  \n",
       "6        0.000000   0.000000  0.000000   0.000000  \n",
       "7        0.000000   0.000000  0.000000   0.000000  \n",
       "8        0.000000   0.000000  0.000000   0.000000  \n",
       "9        0.000000   0.000000  0.000000   0.000000  \n",
       "10       0.053482  27.144436  0.033238   0.924851  \n",
       "11       0.060289  27.202095 -0.099681   0.925452  \n",
       "12       0.054509  27.244193 -0.565393   0.963757  \n",
       "13       0.046253  27.273481 -0.367809   1.000659  \n",
       "14       0.038041  27.308258  0.302049   1.061940  "
      ]
     },
     "execution_count": 13,
     "metadata": {},
     "output_type": "execute_result"
    }
   ],
   "source": [
    "# Function to calculate technical indicators\n",
    "def calculate_indicators(data):\n",
    "    # Create a copy of the dataframe to avoid modifying original\n",
    "    df_copy = data.copy()\n",
    "    \n",
    "    # Volatility is computed by obtaining variance between current close and prices of past 10 days\n",
    "    volatility = []\n",
    "    # MA is the 10 day SMA\n",
    "    ma = []\n",
    "    # Return is the single-day percentage return\n",
    "    returns = []\n",
    "    ma_sum = 0\n",
    "    \n",
    "    # Normalize VIX relative to its recent history (10-day window)\n",
    "    vix_ratio = []\n",
    "    \n",
    "    # Warming up data for calculations\n",
    "    for i in range(0, 10):\n",
    "        volatility.append(0)\n",
    "        ma.append(0)\n",
    "        returns.append(0)\n",
    "        vix_ratio.append(0)\n",
    "        ma_sum += df_copy['Close'].iloc[i]\n",
    "    \n",
    "    # Filling in data for return, moving average, and volatility\n",
    "    for ind in range(len(df_copy)):\n",
    "        if ind >= 10:\n",
    "            # SPY indicators\n",
    "            tail_close = df_copy['Close'].iloc[ind-10]\n",
    "            prev_close = df_copy['Close'].iloc[ind-1]\n",
    "            head_close = df_copy['Close'].iloc[ind]\n",
    "            ma_sum = (ma_sum - tail_close + head_close)\n",
    "            ma_curr = ma_sum/10\n",
    "            ma.append(ma_curr)\n",
    "            returns.append(((head_close-prev_close)/prev_close)*100)\n",
    "            \n",
    "            # Computing Volatility\n",
    "            vol_sum = 0\n",
    "            for i in range(0, 10):\n",
    "                curr_vol = abs(ma_curr - df_copy['Close'].iloc[ind-i])\n",
    "                vol_sum += (curr_vol ** 2)\n",
    "            volatility.append(vol_sum/10)\n",
    "            \n",
    "            # VIX-based indicator: current VIX relative to 10-day average\n",
    "            vix_10day_avg = sum(df_copy['VIX'].iloc[ind-10:ind]) / 10\n",
    "            vix_ratio.append(df_copy['VIX'].iloc[ind] / vix_10day_avg if vix_10day_avg > 0 else 1)\n",
    "    \n",
    "    # Adding columns to dataframe\n",
    "    df_copy['Volatility'] = volatility\n",
    "    df_copy['MA'] = ma\n",
    "    df_copy['Return'] = returns\n",
    "    df_copy['VIX_Ratio'] = vix_ratio\n",
    "    \n",
    "    return df_copy\n",
    "\n",
    "# Calculate indicators for the entire dataset\n",
    "df = calculate_indicators(df)\n",
    "df.head(15)"
   ]
  },
  {
   "cell_type": "code",
   "execution_count": 14,
   "metadata": {},
   "outputs": [
    {
     "name": "stdout",
     "output_type": "stream",
     "text": [
      "Training model on data from 2018-01-01 to 2024-12-31\n",
      "Training data shape: (1761, 11)\n",
      "Regime 0\n",
      "Avg Vol: 5.6755\n",
      "Avg Return: 0.1116%\n",
      "Avg VIX: 16.24\n",
      "Occurrence: 811 days\n",
      "\n",
      "Regime 1\n",
      "Avg Vol: 98.6563\n",
      "Avg Return: -0.1834%\n",
      "Avg VIX: 30.90\n",
      "Occurrence: 199 days\n",
      "\n",
      "Regime 2\n",
      "Avg Vol: 27.1617\n",
      "Avg Return: 0.0656%\n",
      "Avg VIX: 20.87\n",
      "Occurrence: 751 days\n",
      "\n"
     ]
    }
   ],
   "source": [
    "# Function to train HMM model on specified period\n",
    "def train_hmm_model(data, start_date, end_date, n_states=3, n_iter=75):\n",
    "    # Filter data to training period\n",
    "    training = data[(data['Date'] >= start_date) & (data['Date'] <= end_date)].copy()\n",
    "    \n",
    "    print(f\"Training model on data from {start_date} to {end_date}\")\n",
    "    print(f\"Training data shape: {training.shape}\")\n",
    "    \n",
    "    # Prepare observations for HMM (using Volatility, Return, and VIX_Ratio)\n",
    "    obs = np.column_stack([\n",
    "        training['Volatility'].values, \n",
    "        training['Return'].values,\n",
    "        training['VIX_Ratio'].values\n",
    "    ])\n",
    "    \n",
    "    # Create and train the HMM model\n",
    "    model = hmm.GaussianHMM(n_components=n_states, covariance_type=\"full\", n_iter=n_iter)\n",
    "    model.fit(obs)\n",
    "    \n",
    "    # Get predictions for training data\n",
    "    predictions = model.predict(obs)\n",
    "    \n",
    "    # Analyze regime characteristics\n",
    "    regime_vol = [0] * n_states\n",
    "    regime_ret = [0] * n_states\n",
    "    regime_vix = [0] * n_states\n",
    "    regime_count = [0] * n_states\n",
    "    \n",
    "    for i in range(len(predictions)):\n",
    "        regime = predictions[i]\n",
    "        regime_count[regime] += 1\n",
    "        regime_vol[regime] += training['Volatility'].iloc[i]\n",
    "        regime_ret[regime] += training['Return'].iloc[i]\n",
    "        regime_vix[regime] += training['VIX'].iloc[i]\n",
    "    \n",
    "    # Calculate averages\n",
    "    for i in range(n_states):\n",
    "        if regime_count[i] > 0:  # Prevent division by zero\n",
    "            regime_vol[i] = regime_vol[i] / regime_count[i]\n",
    "            regime_ret[i] = regime_ret[i] / regime_count[i]\n",
    "            regime_vix[i] = regime_vix[i] / regime_count[i]\n",
    "    \n",
    "    # Print regime characteristics\n",
    "    for i in range(n_states):\n",
    "        print(f\"Regime {i}\")\n",
    "        print(f\"Avg Vol: {regime_vol[i]:.4f}\")\n",
    "        print(f\"Avg Return: {regime_ret[i]:.4f}%\")\n",
    "        print(f\"Avg VIX: {regime_vix[i]:.2f}\")\n",
    "        print(f\"Occurrence: {regime_count[i]} days\\n\")\n",
    "    \n",
    "    return model, training, predictions\n",
    "\n",
    "# Train the model on the fixed period\n",
    "model, training_data, train_predictions = train_hmm_model(df, train_start_date, train_end_date, \n",
    "                                                         hidden_states, em_iterations)"
   ]
  },
  {
   "cell_type": "code",
   "execution_count": 15,
   "metadata": {},
   "outputs": [
    {
     "data": {
      "application/vnd.plotly.v1+json": {
       "config": {
        "plotlyServerURL": "https://plot.ly"
       },
       "data": [
        {
         "marker": {
          "color": "rgb(102,194,165)",
          "size": 6
         },
         "mode": "markers",
         "name": "Regime 0",
         "showlegend": true,
         "type": "scatter",
         "x": [
          "2018-01-02T00:00:00.000000000",
          "2018-01-03T00:00:00.000000000",
          "2018-01-04T00:00:00.000000000",
          "2018-01-05T00:00:00.000000000",
          "2018-01-08T00:00:00.000000000",
          "2018-01-09T00:00:00.000000000",
          "2018-01-10T00:00:00.000000000",
          "2018-01-11T00:00:00.000000000",
          "2018-01-12T00:00:00.000000000",
          "2018-01-16T00:00:00.000000000",
          "2018-01-17T00:00:00.000000000",
          "2018-01-18T00:00:00.000000000",
          "2018-01-19T00:00:00.000000000",
          "2018-01-22T00:00:00.000000000",
          "2018-01-23T00:00:00.000000000",
          "2018-01-24T00:00:00.000000000",
          "2018-01-25T00:00:00.000000000",
          "2018-01-26T00:00:00.000000000",
          "2018-01-29T00:00:00.000000000",
          "2018-01-30T00:00:00.000000000",
          "2018-01-31T00:00:00.000000000",
          "2018-02-01T00:00:00.000000000",
          "2018-02-23T00:00:00.000000000",
          "2018-02-26T00:00:00.000000000",
          "2018-02-27T00:00:00.000000000",
          "2018-02-28T00:00:00.000000000",
          "2018-03-01T00:00:00.000000000",
          "2018-03-02T00:00:00.000000000",
          "2018-03-05T00:00:00.000000000",
          "2018-03-06T00:00:00.000000000",
          "2018-03-07T00:00:00.000000000",
          "2018-03-08T00:00:00.000000000",
          "2018-03-09T00:00:00.000000000",
          "2018-03-12T00:00:00.000000000",
          "2018-03-13T00:00:00.000000000",
          "2018-03-14T00:00:00.000000000",
          "2018-03-15T00:00:00.000000000",
          "2018-03-16T00:00:00.000000000",
          "2018-03-19T00:00:00.000000000",
          "2018-03-20T00:00:00.000000000",
          "2018-03-21T00:00:00.000000000",
          "2018-04-04T00:00:00.000000000",
          "2018-04-05T00:00:00.000000000",
          "2018-04-06T00:00:00.000000000",
          "2018-04-09T00:00:00.000000000",
          "2018-04-10T00:00:00.000000000",
          "2018-04-11T00:00:00.000000000",
          "2018-04-12T00:00:00.000000000",
          "2018-04-13T00:00:00.000000000",
          "2018-04-16T00:00:00.000000000",
          "2018-04-17T00:00:00.000000000",
          "2018-04-18T00:00:00.000000000",
          "2018-04-19T00:00:00.000000000",
          "2018-04-20T00:00:00.000000000",
          "2018-04-23T00:00:00.000000000",
          "2018-04-24T00:00:00.000000000",
          "2018-04-25T00:00:00.000000000",
          "2018-04-26T00:00:00.000000000",
          "2018-04-27T00:00:00.000000000",
          "2018-04-30T00:00:00.000000000",
          "2018-05-01T00:00:00.000000000",
          "2018-05-02T00:00:00.000000000",
          "2018-05-03T00:00:00.000000000",
          "2018-05-04T00:00:00.000000000",
          "2018-05-07T00:00:00.000000000",
          "2018-05-08T00:00:00.000000000",
          "2018-05-09T00:00:00.000000000",
          "2018-05-10T00:00:00.000000000",
          "2018-05-11T00:00:00.000000000",
          "2018-05-14T00:00:00.000000000",
          "2018-05-15T00:00:00.000000000",
          "2018-05-16T00:00:00.000000000",
          "2018-05-17T00:00:00.000000000",
          "2018-05-18T00:00:00.000000000",
          "2018-05-21T00:00:00.000000000",
          "2018-05-22T00:00:00.000000000",
          "2018-05-23T00:00:00.000000000",
          "2018-05-24T00:00:00.000000000",
          "2018-05-25T00:00:00.000000000",
          "2018-05-29T00:00:00.000000000",
          "2018-05-30T00:00:00.000000000",
          "2018-05-31T00:00:00.000000000",
          "2018-06-01T00:00:00.000000000",
          "2018-06-04T00:00:00.000000000",
          "2018-06-05T00:00:00.000000000",
          "2018-06-06T00:00:00.000000000",
          "2018-06-07T00:00:00.000000000",
          "2018-06-08T00:00:00.000000000",
          "2018-06-11T00:00:00.000000000",
          "2018-06-12T00:00:00.000000000",
          "2018-06-13T00:00:00.000000000",
          "2018-06-14T00:00:00.000000000",
          "2018-06-15T00:00:00.000000000",
          "2018-06-18T00:00:00.000000000",
          "2018-06-19T00:00:00.000000000",
          "2018-06-20T00:00:00.000000000",
          "2018-06-21T00:00:00.000000000",
          "2018-06-22T00:00:00.000000000",
          "2018-06-25T00:00:00.000000000",
          "2018-06-26T00:00:00.000000000",
          "2018-06-27T00:00:00.000000000",
          "2018-06-28T00:00:00.000000000",
          "2018-06-29T00:00:00.000000000",
          "2018-07-02T00:00:00.000000000",
          "2018-07-03T00:00:00.000000000",
          "2018-07-05T00:00:00.000000000",
          "2018-07-06T00:00:00.000000000",
          "2018-07-09T00:00:00.000000000",
          "2018-07-10T00:00:00.000000000",
          "2018-07-11T00:00:00.000000000",
          "2018-07-12T00:00:00.000000000",
          "2018-07-13T00:00:00.000000000",
          "2018-07-16T00:00:00.000000000",
          "2018-07-17T00:00:00.000000000",
          "2018-07-18T00:00:00.000000000",
          "2018-07-19T00:00:00.000000000",
          "2018-07-20T00:00:00.000000000",
          "2018-07-23T00:00:00.000000000",
          "2018-07-24T00:00:00.000000000",
          "2018-07-25T00:00:00.000000000",
          "2018-07-26T00:00:00.000000000",
          "2018-07-27T00:00:00.000000000",
          "2018-07-30T00:00:00.000000000",
          "2018-07-31T00:00:00.000000000",
          "2018-08-01T00:00:00.000000000",
          "2018-08-02T00:00:00.000000000",
          "2018-08-03T00:00:00.000000000",
          "2018-08-06T00:00:00.000000000",
          "2018-08-07T00:00:00.000000000",
          "2018-08-08T00:00:00.000000000",
          "2018-08-09T00:00:00.000000000",
          "2018-08-10T00:00:00.000000000",
          "2018-08-13T00:00:00.000000000",
          "2018-08-14T00:00:00.000000000",
          "2018-08-15T00:00:00.000000000",
          "2018-08-16T00:00:00.000000000",
          "2018-08-17T00:00:00.000000000",
          "2018-08-20T00:00:00.000000000",
          "2018-08-21T00:00:00.000000000",
          "2018-08-22T00:00:00.000000000",
          "2018-08-23T00:00:00.000000000",
          "2018-08-24T00:00:00.000000000",
          "2018-08-27T00:00:00.000000000",
          "2018-08-28T00:00:00.000000000",
          "2018-08-29T00:00:00.000000000",
          "2018-08-30T00:00:00.000000000",
          "2018-08-31T00:00:00.000000000",
          "2018-09-04T00:00:00.000000000",
          "2018-09-05T00:00:00.000000000",
          "2018-09-06T00:00:00.000000000",
          "2018-09-07T00:00:00.000000000",
          "2018-09-10T00:00:00.000000000",
          "2018-09-11T00:00:00.000000000",
          "2018-09-12T00:00:00.000000000",
          "2018-09-13T00:00:00.000000000",
          "2018-09-14T00:00:00.000000000",
          "2018-09-17T00:00:00.000000000",
          "2018-09-18T00:00:00.000000000",
          "2018-09-19T00:00:00.000000000",
          "2018-09-20T00:00:00.000000000",
          "2018-09-21T00:00:00.000000000",
          "2018-09-24T00:00:00.000000000",
          "2018-09-25T00:00:00.000000000",
          "2018-09-26T00:00:00.000000000",
          "2018-09-27T00:00:00.000000000",
          "2018-09-28T00:00:00.000000000",
          "2018-10-01T00:00:00.000000000",
          "2018-10-02T00:00:00.000000000",
          "2018-10-03T00:00:00.000000000",
          "2018-10-04T00:00:00.000000000",
          "2018-10-05T00:00:00.000000000",
          "2018-10-08T00:00:00.000000000",
          "2018-10-09T00:00:00.000000000",
          "2018-11-13T00:00:00.000000000",
          "2018-11-14T00:00:00.000000000",
          "2018-11-15T00:00:00.000000000",
          "2018-11-16T00:00:00.000000000",
          "2019-01-17T00:00:00.000000000",
          "2019-01-18T00:00:00.000000000",
          "2019-01-22T00:00:00.000000000",
          "2019-01-23T00:00:00.000000000",
          "2019-01-24T00:00:00.000000000",
          "2019-01-25T00:00:00.000000000",
          "2019-01-28T00:00:00.000000000",
          "2019-01-29T00:00:00.000000000",
          "2019-01-30T00:00:00.000000000",
          "2019-01-31T00:00:00.000000000",
          "2019-02-01T00:00:00.000000000",
          "2019-02-04T00:00:00.000000000",
          "2019-02-05T00:00:00.000000000",
          "2019-02-06T00:00:00.000000000",
          "2019-02-07T00:00:00.000000000",
          "2019-02-08T00:00:00.000000000",
          "2019-02-11T00:00:00.000000000",
          "2019-02-12T00:00:00.000000000",
          "2019-02-13T00:00:00.000000000",
          "2019-02-14T00:00:00.000000000",
          "2019-02-15T00:00:00.000000000",
          "2019-02-19T00:00:00.000000000",
          "2019-02-20T00:00:00.000000000",
          "2019-02-21T00:00:00.000000000",
          "2019-02-22T00:00:00.000000000",
          "2019-02-25T00:00:00.000000000",
          "2019-02-26T00:00:00.000000000",
          "2019-02-27T00:00:00.000000000",
          "2019-02-28T00:00:00.000000000",
          "2019-03-01T00:00:00.000000000",
          "2019-03-04T00:00:00.000000000",
          "2019-03-05T00:00:00.000000000",
          "2019-03-06T00:00:00.000000000",
          "2019-03-07T00:00:00.000000000",
          "2019-03-08T00:00:00.000000000",
          "2019-03-11T00:00:00.000000000",
          "2019-03-12T00:00:00.000000000",
          "2019-03-13T00:00:00.000000000",
          "2019-03-14T00:00:00.000000000",
          "2019-03-15T00:00:00.000000000",
          "2019-03-18T00:00:00.000000000",
          "2019-03-19T00:00:00.000000000",
          "2019-03-20T00:00:00.000000000",
          "2019-03-21T00:00:00.000000000",
          "2019-03-22T00:00:00.000000000",
          "2019-03-25T00:00:00.000000000",
          "2019-03-26T00:00:00.000000000",
          "2019-03-27T00:00:00.000000000",
          "2019-03-28T00:00:00.000000000",
          "2019-03-29T00:00:00.000000000",
          "2019-04-01T00:00:00.000000000",
          "2019-04-02T00:00:00.000000000",
          "2019-04-03T00:00:00.000000000",
          "2019-04-04T00:00:00.000000000",
          "2019-04-05T00:00:00.000000000",
          "2019-04-08T00:00:00.000000000",
          "2019-04-09T00:00:00.000000000",
          "2019-04-10T00:00:00.000000000",
          "2019-04-11T00:00:00.000000000",
          "2019-04-12T00:00:00.000000000",
          "2019-04-15T00:00:00.000000000",
          "2019-04-16T00:00:00.000000000",
          "2019-04-17T00:00:00.000000000",
          "2019-04-18T00:00:00.000000000",
          "2019-04-22T00:00:00.000000000",
          "2019-04-23T00:00:00.000000000",
          "2019-04-24T00:00:00.000000000",
          "2019-04-25T00:00:00.000000000",
          "2019-04-26T00:00:00.000000000",
          "2019-04-29T00:00:00.000000000",
          "2019-04-30T00:00:00.000000000",
          "2019-05-01T00:00:00.000000000",
          "2019-05-02T00:00:00.000000000",
          "2019-05-03T00:00:00.000000000",
          "2019-05-06T00:00:00.000000000",
          "2019-05-07T00:00:00.000000000",
          "2019-05-08T00:00:00.000000000",
          "2019-05-09T00:00:00.000000000",
          "2019-05-10T00:00:00.000000000",
          "2019-05-15T00:00:00.000000000",
          "2019-05-16T00:00:00.000000000",
          "2019-05-17T00:00:00.000000000",
          "2019-05-20T00:00:00.000000000",
          "2019-05-21T00:00:00.000000000",
          "2019-05-22T00:00:00.000000000",
          "2019-05-23T00:00:00.000000000",
          "2019-05-24T00:00:00.000000000",
          "2019-05-28T00:00:00.000000000",
          "2019-05-29T00:00:00.000000000",
          "2019-05-30T00:00:00.000000000",
          "2019-05-31T00:00:00.000000000",
          "2019-06-03T00:00:00.000000000",
          "2019-06-04T00:00:00.000000000",
          "2019-06-05T00:00:00.000000000",
          "2019-06-06T00:00:00.000000000",
          "2019-06-07T00:00:00.000000000",
          "2019-06-17T00:00:00.000000000",
          "2019-06-18T00:00:00.000000000",
          "2019-06-19T00:00:00.000000000",
          "2019-06-20T00:00:00.000000000",
          "2019-06-21T00:00:00.000000000",
          "2019-06-24T00:00:00.000000000",
          "2019-06-25T00:00:00.000000000",
          "2019-06-26T00:00:00.000000000",
          "2019-06-27T00:00:00.000000000",
          "2019-06-28T00:00:00.000000000",
          "2019-07-01T00:00:00.000000000",
          "2019-07-02T00:00:00.000000000",
          "2019-07-03T00:00:00.000000000",
          "2019-07-05T00:00:00.000000000",
          "2019-07-08T00:00:00.000000000",
          "2019-07-09T00:00:00.000000000",
          "2019-07-10T00:00:00.000000000",
          "2019-07-11T00:00:00.000000000",
          "2019-07-12T00:00:00.000000000",
          "2019-07-15T00:00:00.000000000",
          "2019-07-16T00:00:00.000000000",
          "2019-07-17T00:00:00.000000000",
          "2019-07-18T00:00:00.000000000",
          "2019-07-19T00:00:00.000000000",
          "2019-07-22T00:00:00.000000000",
          "2019-07-23T00:00:00.000000000",
          "2019-07-24T00:00:00.000000000",
          "2019-07-25T00:00:00.000000000",
          "2019-07-26T00:00:00.000000000",
          "2019-07-29T00:00:00.000000000",
          "2019-07-30T00:00:00.000000000",
          "2019-07-31T00:00:00.000000000",
          "2019-08-01T00:00:00.000000000",
          "2019-08-02T00:00:00.000000000",
          "2019-08-15T00:00:00.000000000",
          "2019-08-16T00:00:00.000000000",
          "2019-08-19T00:00:00.000000000",
          "2019-08-20T00:00:00.000000000",
          "2019-08-21T00:00:00.000000000",
          "2019-08-22T00:00:00.000000000",
          "2019-08-23T00:00:00.000000000",
          "2019-08-26T00:00:00.000000000",
          "2019-08-27T00:00:00.000000000",
          "2019-08-28T00:00:00.000000000",
          "2019-08-29T00:00:00.000000000",
          "2019-08-30T00:00:00.000000000",
          "2019-09-03T00:00:00.000000000",
          "2019-09-04T00:00:00.000000000",
          "2019-09-05T00:00:00.000000000",
          "2019-09-06T00:00:00.000000000",
          "2019-09-09T00:00:00.000000000",
          "2019-09-10T00:00:00.000000000",
          "2019-09-11T00:00:00.000000000",
          "2019-09-12T00:00:00.000000000",
          "2019-09-13T00:00:00.000000000",
          "2019-09-16T00:00:00.000000000",
          "2019-09-17T00:00:00.000000000",
          "2019-09-18T00:00:00.000000000",
          "2019-09-19T00:00:00.000000000",
          "2019-09-20T00:00:00.000000000",
          "2019-09-23T00:00:00.000000000",
          "2019-09-24T00:00:00.000000000",
          "2019-09-25T00:00:00.000000000",
          "2019-09-26T00:00:00.000000000",
          "2019-09-27T00:00:00.000000000",
          "2019-09-30T00:00:00.000000000",
          "2019-10-01T00:00:00.000000000",
          "2019-10-02T00:00:00.000000000",
          "2019-10-03T00:00:00.000000000",
          "2019-10-04T00:00:00.000000000",
          "2019-10-07T00:00:00.000000000",
          "2019-10-08T00:00:00.000000000",
          "2019-10-09T00:00:00.000000000",
          "2019-10-10T00:00:00.000000000",
          "2019-10-11T00:00:00.000000000",
          "2019-10-14T00:00:00.000000000",
          "2019-10-15T00:00:00.000000000",
          "2019-10-16T00:00:00.000000000",
          "2019-10-17T00:00:00.000000000",
          "2019-10-18T00:00:00.000000000",
          "2019-10-21T00:00:00.000000000",
          "2019-10-22T00:00:00.000000000",
          "2019-10-23T00:00:00.000000000",
          "2019-10-24T00:00:00.000000000",
          "2019-10-25T00:00:00.000000000",
          "2019-10-28T00:00:00.000000000",
          "2019-10-29T00:00:00.000000000",
          "2019-10-30T00:00:00.000000000",
          "2019-10-31T00:00:00.000000000",
          "2019-11-01T00:00:00.000000000",
          "2019-11-04T00:00:00.000000000",
          "2019-11-05T00:00:00.000000000",
          "2019-11-06T00:00:00.000000000",
          "2019-11-07T00:00:00.000000000",
          "2019-11-08T00:00:00.000000000",
          "2019-11-11T00:00:00.000000000",
          "2019-11-12T00:00:00.000000000",
          "2019-11-13T00:00:00.000000000",
          "2019-11-14T00:00:00.000000000",
          "2019-11-15T00:00:00.000000000",
          "2019-11-18T00:00:00.000000000",
          "2019-11-19T00:00:00.000000000",
          "2019-11-20T00:00:00.000000000",
          "2019-11-21T00:00:00.000000000",
          "2019-11-22T00:00:00.000000000",
          "2019-11-25T00:00:00.000000000",
          "2019-11-26T00:00:00.000000000",
          "2019-11-27T00:00:00.000000000",
          "2019-11-29T00:00:00.000000000",
          "2019-12-02T00:00:00.000000000",
          "2019-12-03T00:00:00.000000000",
          "2019-12-04T00:00:00.000000000",
          "2019-12-05T00:00:00.000000000",
          "2019-12-06T00:00:00.000000000",
          "2019-12-09T00:00:00.000000000",
          "2019-12-10T00:00:00.000000000",
          "2019-12-11T00:00:00.000000000",
          "2019-12-12T00:00:00.000000000",
          "2019-12-13T00:00:00.000000000",
          "2019-12-16T00:00:00.000000000",
          "2019-12-17T00:00:00.000000000",
          "2019-12-18T00:00:00.000000000",
          "2019-12-19T00:00:00.000000000",
          "2019-12-20T00:00:00.000000000",
          "2019-12-23T00:00:00.000000000",
          "2019-12-24T00:00:00.000000000",
          "2019-12-26T00:00:00.000000000",
          "2019-12-27T00:00:00.000000000",
          "2019-12-30T00:00:00.000000000",
          "2019-12-31T00:00:00.000000000",
          "2020-01-02T00:00:00.000000000",
          "2020-01-03T00:00:00.000000000",
          "2020-01-06T00:00:00.000000000",
          "2020-01-07T00:00:00.000000000",
          "2020-01-08T00:00:00.000000000",
          "2020-01-09T00:00:00.000000000",
          "2020-01-10T00:00:00.000000000",
          "2020-01-13T00:00:00.000000000",
          "2020-01-14T00:00:00.000000000",
          "2020-01-15T00:00:00.000000000",
          "2020-01-16T00:00:00.000000000",
          "2020-01-17T00:00:00.000000000",
          "2020-01-21T00:00:00.000000000",
          "2020-01-22T00:00:00.000000000",
          "2020-01-23T00:00:00.000000000",
          "2020-01-24T00:00:00.000000000",
          "2020-01-27T00:00:00.000000000",
          "2020-01-28T00:00:00.000000000",
          "2020-01-29T00:00:00.000000000",
          "2020-01-30T00:00:00.000000000",
          "2020-01-31T00:00:00.000000000",
          "2020-02-03T00:00:00.000000000",
          "2020-02-04T00:00:00.000000000",
          "2020-02-05T00:00:00.000000000",
          "2020-02-06T00:00:00.000000000",
          "2020-02-18T00:00:00.000000000",
          "2020-02-19T00:00:00.000000000",
          "2020-02-20T00:00:00.000000000",
          "2020-02-21T00:00:00.000000000",
          "2020-07-14T00:00:00.000000000",
          "2020-07-15T00:00:00.000000000",
          "2020-07-16T00:00:00.000000000",
          "2020-07-17T00:00:00.000000000",
          "2020-07-20T00:00:00.000000000",
          "2020-07-21T00:00:00.000000000",
          "2020-07-22T00:00:00.000000000",
          "2020-07-23T00:00:00.000000000",
          "2020-07-24T00:00:00.000000000",
          "2020-07-27T00:00:00.000000000",
          "2020-07-28T00:00:00.000000000",
          "2020-07-29T00:00:00.000000000",
          "2020-07-30T00:00:00.000000000",
          "2020-07-31T00:00:00.000000000",
          "2020-08-03T00:00:00.000000000",
          "2020-08-04T00:00:00.000000000",
          "2020-08-05T00:00:00.000000000",
          "2020-08-13T00:00:00.000000000",
          "2020-08-14T00:00:00.000000000",
          "2020-08-17T00:00:00.000000000",
          "2020-08-18T00:00:00.000000000",
          "2020-08-19T00:00:00.000000000",
          "2020-08-20T00:00:00.000000000",
          "2020-08-21T00:00:00.000000000",
          "2020-08-24T00:00:00.000000000",
          "2020-08-25T00:00:00.000000000",
          "2020-08-26T00:00:00.000000000",
          "2020-10-20T00:00:00.000000000",
          "2020-10-21T00:00:00.000000000",
          "2020-10-22T00:00:00.000000000",
          "2020-10-23T00:00:00.000000000",
          "2020-10-26T00:00:00.000000000",
          "2020-10-27T00:00:00.000000000",
          "2020-11-19T00:00:00.000000000",
          "2020-11-20T00:00:00.000000000",
          "2020-11-23T00:00:00.000000000",
          "2020-11-24T00:00:00.000000000",
          "2020-11-25T00:00:00.000000000",
          "2020-11-27T00:00:00.000000000",
          "2020-11-30T00:00:00.000000000",
          "2020-12-01T00:00:00.000000000",
          "2020-12-02T00:00:00.000000000",
          "2020-12-03T00:00:00.000000000",
          "2020-12-04T00:00:00.000000000",
          "2020-12-07T00:00:00.000000000",
          "2020-12-08T00:00:00.000000000",
          "2020-12-09T00:00:00.000000000",
          "2020-12-10T00:00:00.000000000",
          "2020-12-11T00:00:00.000000000",
          "2020-12-14T00:00:00.000000000",
          "2020-12-15T00:00:00.000000000",
          "2020-12-16T00:00:00.000000000",
          "2020-12-17T00:00:00.000000000",
          "2020-12-18T00:00:00.000000000",
          "2020-12-21T00:00:00.000000000",
          "2020-12-22T00:00:00.000000000",
          "2020-12-23T00:00:00.000000000",
          "2020-12-24T00:00:00.000000000",
          "2020-12-28T00:00:00.000000000",
          "2020-12-29T00:00:00.000000000",
          "2020-12-30T00:00:00.000000000",
          "2020-12-31T00:00:00.000000000",
          "2021-01-04T00:00:00.000000000",
          "2021-01-05T00:00:00.000000000",
          "2021-01-06T00:00:00.000000000",
          "2021-01-07T00:00:00.000000000",
          "2021-01-08T00:00:00.000000000",
          "2021-01-11T00:00:00.000000000",
          "2021-01-12T00:00:00.000000000",
          "2021-01-13T00:00:00.000000000",
          "2021-01-14T00:00:00.000000000",
          "2021-01-15T00:00:00.000000000",
          "2021-01-19T00:00:00.000000000",
          "2021-01-20T00:00:00.000000000",
          "2021-01-21T00:00:00.000000000",
          "2021-01-22T00:00:00.000000000",
          "2021-01-25T00:00:00.000000000",
          "2021-01-26T00:00:00.000000000",
          "2021-02-16T00:00:00.000000000",
          "2021-02-17T00:00:00.000000000",
          "2021-02-18T00:00:00.000000000",
          "2021-02-19T00:00:00.000000000",
          "2021-02-22T00:00:00.000000000",
          "2021-02-23T00:00:00.000000000",
          "2021-02-24T00:00:00.000000000",
          "2021-03-22T00:00:00.000000000",
          "2021-03-23T00:00:00.000000000",
          "2021-03-24T00:00:00.000000000",
          "2021-03-25T00:00:00.000000000",
          "2021-03-26T00:00:00.000000000",
          "2021-03-29T00:00:00.000000000",
          "2021-03-30T00:00:00.000000000",
          "2021-03-31T00:00:00.000000000",
          "2021-04-16T00:00:00.000000000",
          "2021-04-19T00:00:00.000000000",
          "2021-04-20T00:00:00.000000000",
          "2021-04-21T00:00:00.000000000",
          "2021-04-22T00:00:00.000000000",
          "2021-04-23T00:00:00.000000000",
          "2021-04-26T00:00:00.000000000",
          "2021-04-27T00:00:00.000000000",
          "2021-04-28T00:00:00.000000000",
          "2021-04-29T00:00:00.000000000",
          "2021-04-30T00:00:00.000000000",
          "2021-05-03T00:00:00.000000000",
          "2021-05-04T00:00:00.000000000",
          "2021-05-05T00:00:00.000000000",
          "2021-05-06T00:00:00.000000000",
          "2021-05-07T00:00:00.000000000",
          "2021-05-10T00:00:00.000000000",
          "2021-05-11T00:00:00.000000000",
          "2021-05-21T00:00:00.000000000",
          "2021-05-24T00:00:00.000000000",
          "2021-05-25T00:00:00.000000000",
          "2021-05-26T00:00:00.000000000",
          "2021-05-27T00:00:00.000000000",
          "2021-05-28T00:00:00.000000000",
          "2021-06-01T00:00:00.000000000",
          "2021-06-02T00:00:00.000000000",
          "2021-06-03T00:00:00.000000000",
          "2021-06-04T00:00:00.000000000",
          "2021-06-07T00:00:00.000000000",
          "2021-06-08T00:00:00.000000000",
          "2021-06-09T00:00:00.000000000",
          "2021-06-10T00:00:00.000000000",
          "2021-06-11T00:00:00.000000000",
          "2021-06-14T00:00:00.000000000",
          "2021-06-15T00:00:00.000000000",
          "2021-06-16T00:00:00.000000000",
          "2021-06-17T00:00:00.000000000",
          "2021-06-18T00:00:00.000000000",
          "2021-06-21T00:00:00.000000000",
          "2021-06-22T00:00:00.000000000",
          "2021-06-23T00:00:00.000000000",
          "2021-06-24T00:00:00.000000000",
          "2021-06-25T00:00:00.000000000",
          "2021-06-28T00:00:00.000000000",
          "2021-06-29T00:00:00.000000000",
          "2021-06-30T00:00:00.000000000",
          "2021-07-01T00:00:00.000000000",
          "2021-07-02T00:00:00.000000000",
          "2021-07-06T00:00:00.000000000",
          "2021-07-07T00:00:00.000000000",
          "2021-07-08T00:00:00.000000000",
          "2021-07-09T00:00:00.000000000",
          "2021-07-12T00:00:00.000000000",
          "2021-07-13T00:00:00.000000000",
          "2021-07-14T00:00:00.000000000",
          "2021-07-15T00:00:00.000000000",
          "2021-07-16T00:00:00.000000000",
          "2021-07-19T00:00:00.000000000",
          "2021-07-20T00:00:00.000000000",
          "2021-07-21T00:00:00.000000000",
          "2021-07-22T00:00:00.000000000",
          "2021-08-02T00:00:00.000000000",
          "2021-08-03T00:00:00.000000000",
          "2021-08-04T00:00:00.000000000",
          "2021-08-05T00:00:00.000000000",
          "2021-08-06T00:00:00.000000000",
          "2021-08-09T00:00:00.000000000",
          "2021-08-10T00:00:00.000000000",
          "2021-08-11T00:00:00.000000000",
          "2021-08-12T00:00:00.000000000",
          "2021-08-13T00:00:00.000000000",
          "2021-08-16T00:00:00.000000000",
          "2021-08-17T00:00:00.000000000",
          "2021-08-18T00:00:00.000000000",
          "2021-08-19T00:00:00.000000000",
          "2021-08-20T00:00:00.000000000",
          "2021-08-23T00:00:00.000000000",
          "2021-08-24T00:00:00.000000000",
          "2021-08-25T00:00:00.000000000",
          "2021-08-26T00:00:00.000000000",
          "2021-08-27T00:00:00.000000000",
          "2021-08-30T00:00:00.000000000",
          "2021-08-31T00:00:00.000000000",
          "2021-09-01T00:00:00.000000000",
          "2021-09-02T00:00:00.000000000",
          "2021-09-03T00:00:00.000000000",
          "2021-09-07T00:00:00.000000000",
          "2021-09-08T00:00:00.000000000",
          "2021-09-09T00:00:00.000000000",
          "2021-09-10T00:00:00.000000000",
          "2021-09-13T00:00:00.000000000",
          "2021-09-14T00:00:00.000000000",
          "2021-09-15T00:00:00.000000000",
          "2021-09-16T00:00:00.000000000",
          "2021-09-17T00:00:00.000000000",
          "2021-10-11T00:00:00.000000000",
          "2021-10-12T00:00:00.000000000",
          "2021-10-13T00:00:00.000000000",
          "2021-10-14T00:00:00.000000000",
          "2021-10-29T00:00:00.000000000",
          "2021-11-01T00:00:00.000000000",
          "2021-11-02T00:00:00.000000000",
          "2021-11-03T00:00:00.000000000",
          "2021-11-11T00:00:00.000000000",
          "2021-11-12T00:00:00.000000000",
          "2021-11-15T00:00:00.000000000",
          "2021-11-16T00:00:00.000000000",
          "2021-11-17T00:00:00.000000000",
          "2021-11-18T00:00:00.000000000",
          "2021-11-19T00:00:00.000000000",
          "2021-11-22T00:00:00.000000000",
          "2021-11-23T00:00:00.000000000",
          "2021-11-24T00:00:00.000000000",
          "2022-11-23T00:00:00.000000000",
          "2022-11-25T00:00:00.000000000",
          "2022-11-28T00:00:00.000000000",
          "2022-11-29T00:00:00.000000000",
          "2022-12-30T00:00:00.000000000",
          "2023-01-03T00:00:00.000000000",
          "2023-01-04T00:00:00.000000000",
          "2023-01-05T00:00:00.000000000",
          "2023-01-06T00:00:00.000000000",
          "2023-01-09T00:00:00.000000000",
          "2023-02-13T00:00:00.000000000",
          "2023-02-14T00:00:00.000000000",
          "2023-02-15T00:00:00.000000000",
          "2023-02-16T00:00:00.000000000",
          "2023-02-17T00:00:00.000000000",
          "2023-04-12T00:00:00.000000000",
          "2023-04-13T00:00:00.000000000",
          "2023-04-14T00:00:00.000000000",
          "2023-04-17T00:00:00.000000000",
          "2023-04-18T00:00:00.000000000",
          "2023-04-19T00:00:00.000000000",
          "2023-04-20T00:00:00.000000000",
          "2023-04-21T00:00:00.000000000",
          "2023-04-24T00:00:00.000000000",
          "2023-04-25T00:00:00.000000000",
          "2023-04-26T00:00:00.000000000",
          "2023-04-27T00:00:00.000000000",
          "2023-04-28T00:00:00.000000000",
          "2023-05-01T00:00:00.000000000",
          "2023-05-10T00:00:00.000000000",
          "2023-05-11T00:00:00.000000000",
          "2023-05-12T00:00:00.000000000",
          "2023-05-15T00:00:00.000000000",
          "2023-05-16T00:00:00.000000000",
          "2023-05-17T00:00:00.000000000",
          "2023-05-18T00:00:00.000000000",
          "2023-05-19T00:00:00.000000000",
          "2023-05-22T00:00:00.000000000",
          "2023-05-23T00:00:00.000000000",
          "2023-05-24T00:00:00.000000000",
          "2023-05-25T00:00:00.000000000",
          "2023-05-26T00:00:00.000000000",
          "2023-05-30T00:00:00.000000000",
          "2023-05-31T00:00:00.000000000",
          "2023-06-01T00:00:00.000000000",
          "2023-06-23T00:00:00.000000000",
          "2023-06-26T00:00:00.000000000",
          "2023-06-27T00:00:00.000000000",
          "2023-06-28T00:00:00.000000000",
          "2023-06-29T00:00:00.000000000",
          "2023-06-30T00:00:00.000000000",
          "2023-07-11T00:00:00.000000000",
          "2023-07-12T00:00:00.000000000",
          "2023-07-13T00:00:00.000000000",
          "2023-07-14T00:00:00.000000000",
          "2023-07-25T00:00:00.000000000",
          "2023-07-26T00:00:00.000000000",
          "2023-07-27T00:00:00.000000000",
          "2023-07-28T00:00:00.000000000",
          "2023-07-31T00:00:00.000000000",
          "2023-08-01T00:00:00.000000000",
          "2023-08-02T00:00:00.000000000",
          "2023-08-03T00:00:00.000000000",
          "2023-08-14T00:00:00.000000000",
          "2023-08-15T00:00:00.000000000",
          "2023-08-16T00:00:00.000000000",
          "2023-09-08T00:00:00.000000000",
          "2023-09-11T00:00:00.000000000",
          "2023-09-12T00:00:00.000000000",
          "2023-09-13T00:00:00.000000000",
          "2023-09-14T00:00:00.000000000",
          "2023-09-15T00:00:00.000000000",
          "2023-09-18T00:00:00.000000000",
          "2023-09-19T00:00:00.000000000",
          "2023-09-20T00:00:00.000000000",
          "2023-10-04T00:00:00.000000000",
          "2023-10-05T00:00:00.000000000",
          "2023-10-06T00:00:00.000000000",
          "2023-10-09T00:00:00.000000000",
          "2023-10-10T00:00:00.000000000",
          "2023-11-28T00:00:00.000000000",
          "2023-11-29T00:00:00.000000000",
          "2023-11-30T00:00:00.000000000",
          "2023-12-01T00:00:00.000000000",
          "2023-12-04T00:00:00.000000000",
          "2023-12-05T00:00:00.000000000",
          "2023-12-06T00:00:00.000000000",
          "2023-12-07T00:00:00.000000000",
          "2023-12-08T00:00:00.000000000",
          "2023-12-11T00:00:00.000000000",
          "2023-12-12T00:00:00.000000000",
          "2023-12-27T00:00:00.000000000",
          "2023-12-28T00:00:00.000000000",
          "2023-12-29T00:00:00.000000000",
          "2024-01-02T00:00:00.000000000",
          "2024-01-03T00:00:00.000000000",
          "2024-01-04T00:00:00.000000000",
          "2024-01-05T00:00:00.000000000",
          "2024-01-08T00:00:00.000000000",
          "2024-01-09T00:00:00.000000000",
          "2024-01-10T00:00:00.000000000",
          "2024-01-11T00:00:00.000000000",
          "2024-01-12T00:00:00.000000000",
          "2024-01-16T00:00:00.000000000",
          "2024-01-17T00:00:00.000000000",
          "2024-01-18T00:00:00.000000000",
          "2024-01-19T00:00:00.000000000",
          "2024-01-22T00:00:00.000000000",
          "2024-02-15T00:00:00.000000000",
          "2024-02-16T00:00:00.000000000",
          "2024-02-20T00:00:00.000000000",
          "2024-02-21T00:00:00.000000000",
          "2024-03-06T00:00:00.000000000",
          "2024-03-07T00:00:00.000000000",
          "2024-03-08T00:00:00.000000000",
          "2024-03-11T00:00:00.000000000",
          "2024-03-12T00:00:00.000000000",
          "2024-03-13T00:00:00.000000000",
          "2024-03-14T00:00:00.000000000",
          "2024-03-15T00:00:00.000000000",
          "2024-03-18T00:00:00.000000000",
          "2024-03-19T00:00:00.000000000",
          "2024-03-20T00:00:00.000000000",
          "2024-04-01T00:00:00.000000000",
          "2024-04-02T00:00:00.000000000",
          "2024-04-03T00:00:00.000000000",
          "2024-04-04T00:00:00.000000000",
          "2024-04-05T00:00:00.000000000",
          "2024-04-08T00:00:00.000000000",
          "2024-04-09T00:00:00.000000000",
          "2024-04-10T00:00:00.000000000",
          "2024-04-11T00:00:00.000000000",
          "2024-05-24T00:00:00.000000000",
          "2024-05-28T00:00:00.000000000",
          "2024-05-29T00:00:00.000000000",
          "2024-05-30T00:00:00.000000000",
          "2024-05-31T00:00:00.000000000",
          "2024-06-03T00:00:00.000000000",
          "2024-06-04T00:00:00.000000000",
          "2024-06-05T00:00:00.000000000",
          "2024-06-06T00:00:00.000000000",
          "2024-06-25T00:00:00.000000000",
          "2024-06-26T00:00:00.000000000",
          "2024-06-27T00:00:00.000000000",
          "2024-06-28T00:00:00.000000000",
          "2024-07-01T00:00:00.000000000",
          "2024-07-02T00:00:00.000000000",
          "2024-07-03T00:00:00.000000000",
          "2024-07-05T00:00:00.000000000",
          "2024-08-28T00:00:00.000000000",
          "2024-08-29T00:00:00.000000000",
          "2024-08-30T00:00:00.000000000",
          "2024-10-02T00:00:00.000000000",
          "2024-10-03T00:00:00.000000000",
          "2024-10-04T00:00:00.000000000",
          "2024-10-07T00:00:00.000000000",
          "2024-10-08T00:00:00.000000000",
          "2024-10-09T00:00:00.000000000",
          "2024-10-10T00:00:00.000000000",
          "2024-10-22T00:00:00.000000000",
          "2024-10-23T00:00:00.000000000",
          "2024-10-24T00:00:00.000000000",
          "2024-10-25T00:00:00.000000000",
          "2024-10-28T00:00:00.000000000",
          "2024-10-29T00:00:00.000000000",
          "2024-10-30T00:00:00.000000000",
          "2024-12-09T00:00:00.000000000",
          "2024-12-10T00:00:00.000000000",
          "2024-12-11T00:00:00.000000000",
          "2024-12-12T00:00:00.000000000",
          "2024-12-13T00:00:00.000000000",
          "2024-12-16T00:00:00.000000000",
          "2024-12-17T00:00:00.000000000"
         ],
         "xaxis": "x",
         "y": {
          "bdata": "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",
          "dtype": "f8"
         },
         "yaxis": "y"
        },
        {
         "marker": {
          "color": "rgb(252,141,98)",
          "size": 6
         },
         "mode": "markers",
         "name": "Regime 1",
         "showlegend": true,
         "type": "scatter",
         "x": [
          "2018-02-02T00:00:00.000000000",
          "2018-02-05T00:00:00.000000000",
          "2018-02-06T00:00:00.000000000",
          "2018-02-07T00:00:00.000000000",
          "2018-02-08T00:00:00.000000000",
          "2018-02-09T00:00:00.000000000",
          "2018-02-12T00:00:00.000000000",
          "2018-03-22T00:00:00.000000000",
          "2018-03-23T00:00:00.000000000",
          "2018-03-26T00:00:00.000000000",
          "2018-10-10T00:00:00.000000000",
          "2018-10-11T00:00:00.000000000",
          "2018-10-12T00:00:00.000000000",
          "2018-10-15T00:00:00.000000000",
          "2018-12-21T00:00:00.000000000",
          "2018-12-24T00:00:00.000000000",
          "2018-12-26T00:00:00.000000000",
          "2018-12-27T00:00:00.000000000",
          "2019-08-05T00:00:00.000000000",
          "2019-08-06T00:00:00.000000000",
          "2020-02-24T00:00:00.000000000",
          "2020-02-25T00:00:00.000000000",
          "2020-02-26T00:00:00.000000000",
          "2020-02-27T00:00:00.000000000",
          "2020-02-28T00:00:00.000000000",
          "2020-03-02T00:00:00.000000000",
          "2020-03-03T00:00:00.000000000",
          "2020-03-04T00:00:00.000000000",
          "2020-03-05T00:00:00.000000000",
          "2020-03-06T00:00:00.000000000",
          "2020-03-09T00:00:00.000000000",
          "2020-03-10T00:00:00.000000000",
          "2020-03-11T00:00:00.000000000",
          "2020-03-12T00:00:00.000000000",
          "2020-03-13T00:00:00.000000000",
          "2020-03-16T00:00:00.000000000",
          "2020-03-17T00:00:00.000000000",
          "2020-03-18T00:00:00.000000000",
          "2020-03-19T00:00:00.000000000",
          "2020-03-20T00:00:00.000000000",
          "2020-03-23T00:00:00.000000000",
          "2020-03-24T00:00:00.000000000",
          "2020-03-25T00:00:00.000000000",
          "2020-03-26T00:00:00.000000000",
          "2020-03-27T00:00:00.000000000",
          "2020-03-30T00:00:00.000000000",
          "2020-03-31T00:00:00.000000000",
          "2020-04-01T00:00:00.000000000",
          "2020-04-02T00:00:00.000000000",
          "2020-04-03T00:00:00.000000000",
          "2020-04-06T00:00:00.000000000",
          "2020-04-07T00:00:00.000000000",
          "2020-04-08T00:00:00.000000000",
          "2020-04-09T00:00:00.000000000",
          "2020-04-13T00:00:00.000000000",
          "2020-04-14T00:00:00.000000000",
          "2020-04-15T00:00:00.000000000",
          "2020-04-16T00:00:00.000000000",
          "2020-04-17T00:00:00.000000000",
          "2020-06-11T00:00:00.000000000",
          "2020-06-12T00:00:00.000000000",
          "2020-06-15T00:00:00.000000000",
          "2020-06-16T00:00:00.000000000",
          "2020-10-28T00:00:00.000000000",
          "2020-10-29T00:00:00.000000000",
          "2020-10-30T00:00:00.000000000",
          "2020-11-02T00:00:00.000000000",
          "2020-11-03T00:00:00.000000000",
          "2020-11-04T00:00:00.000000000",
          "2020-11-05T00:00:00.000000000",
          "2020-11-06T00:00:00.000000000",
          "2020-11-09T00:00:00.000000000",
          "2020-11-10T00:00:00.000000000",
          "2020-11-11T00:00:00.000000000",
          "2020-11-12T00:00:00.000000000",
          "2020-11-13T00:00:00.000000000",
          "2021-01-27T00:00:00.000000000",
          "2021-01-28T00:00:00.000000000",
          "2021-01-29T00:00:00.000000000",
          "2021-05-12T00:00:00.000000000",
          "2021-11-26T00:00:00.000000000",
          "2021-11-29T00:00:00.000000000",
          "2021-11-30T00:00:00.000000000",
          "2021-12-01T00:00:00.000000000",
          "2021-12-02T00:00:00.000000000",
          "2021-12-03T00:00:00.000000000",
          "2022-01-20T00:00:00.000000000",
          "2022-01-21T00:00:00.000000000",
          "2022-01-24T00:00:00.000000000",
          "2022-01-25T00:00:00.000000000",
          "2022-01-26T00:00:00.000000000",
          "2022-01-27T00:00:00.000000000",
          "2022-01-28T00:00:00.000000000",
          "2022-01-31T00:00:00.000000000",
          "2022-02-01T00:00:00.000000000",
          "2022-02-02T00:00:00.000000000",
          "2022-02-03T00:00:00.000000000",
          "2022-02-04T00:00:00.000000000",
          "2022-02-07T00:00:00.000000000",
          "2022-02-22T00:00:00.000000000",
          "2022-02-23T00:00:00.000000000",
          "2022-02-24T00:00:00.000000000",
          "2022-03-18T00:00:00.000000000",
          "2022-03-21T00:00:00.000000000",
          "2022-03-22T00:00:00.000000000",
          "2022-03-23T00:00:00.000000000",
          "2022-03-24T00:00:00.000000000",
          "2022-03-25T00:00:00.000000000",
          "2022-03-28T00:00:00.000000000",
          "2022-04-26T00:00:00.000000000",
          "2022-04-27T00:00:00.000000000",
          "2022-04-28T00:00:00.000000000",
          "2022-04-29T00:00:00.000000000",
          "2022-05-02T00:00:00.000000000",
          "2022-05-03T00:00:00.000000000",
          "2022-05-04T00:00:00.000000000",
          "2022-05-05T00:00:00.000000000",
          "2022-05-06T00:00:00.000000000",
          "2022-05-09T00:00:00.000000000",
          "2022-05-10T00:00:00.000000000",
          "2022-05-11T00:00:00.000000000",
          "2022-05-12T00:00:00.000000000",
          "2022-05-13T00:00:00.000000000",
          "2022-05-16T00:00:00.000000000",
          "2022-05-17T00:00:00.000000000",
          "2022-05-18T00:00:00.000000000",
          "2022-05-27T00:00:00.000000000",
          "2022-05-31T00:00:00.000000000",
          "2022-06-01T00:00:00.000000000",
          "2022-06-02T00:00:00.000000000",
          "2022-06-03T00:00:00.000000000",
          "2022-06-10T00:00:00.000000000",
          "2022-06-13T00:00:00.000000000",
          "2022-06-14T00:00:00.000000000",
          "2022-06-15T00:00:00.000000000",
          "2022-06-16T00:00:00.000000000",
          "2022-06-17T00:00:00.000000000",
          "2022-06-21T00:00:00.000000000",
          "2022-06-22T00:00:00.000000000",
          "2022-06-23T00:00:00.000000000",
          "2022-06-24T00:00:00.000000000",
          "2022-08-26T00:00:00.000000000",
          "2022-08-29T00:00:00.000000000",
          "2022-08-30T00:00:00.000000000",
          "2022-08-31T00:00:00.000000000",
          "2022-09-01T00:00:00.000000000",
          "2022-09-02T00:00:00.000000000",
          "2022-09-06T00:00:00.000000000",
          "2022-09-07T00:00:00.000000000",
          "2022-09-21T00:00:00.000000000",
          "2022-09-22T00:00:00.000000000",
          "2022-09-23T00:00:00.000000000",
          "2022-09-26T00:00:00.000000000",
          "2022-09-27T00:00:00.000000000",
          "2022-09-28T00:00:00.000000000",
          "2022-09-29T00:00:00.000000000",
          "2022-09-30T00:00:00.000000000",
          "2022-10-03T00:00:00.000000000",
          "2022-10-04T00:00:00.000000000",
          "2022-11-10T00:00:00.000000000",
          "2022-11-11T00:00:00.000000000",
          "2022-11-14T00:00:00.000000000",
          "2022-11-15T00:00:00.000000000",
          "2022-11-16T00:00:00.000000000",
          "2022-11-17T00:00:00.000000000",
          "2023-11-06T00:00:00.000000000",
          "2023-11-07T00:00:00.000000000",
          "2023-11-08T00:00:00.000000000",
          "2023-11-09T00:00:00.000000000",
          "2023-11-10T00:00:00.000000000",
          "2024-07-24T00:00:00.000000000",
          "2024-07-25T00:00:00.000000000",
          "2024-07-26T00:00:00.000000000",
          "2024-08-02T00:00:00.000000000",
          "2024-08-05T00:00:00.000000000",
          "2024-08-06T00:00:00.000000000",
          "2024-08-07T00:00:00.000000000",
          "2024-08-08T00:00:00.000000000",
          "2024-08-09T00:00:00.000000000",
          "2024-08-12T00:00:00.000000000",
          "2024-08-13T00:00:00.000000000",
          "2024-08-14T00:00:00.000000000",
          "2024-08-15T00:00:00.000000000",
          "2024-08-16T00:00:00.000000000",
          "2024-08-19T00:00:00.000000000",
          "2024-08-20T00:00:00.000000000",
          "2024-08-21T00:00:00.000000000",
          "2024-08-22T00:00:00.000000000",
          "2024-08-23T00:00:00.000000000",
          "2024-11-07T00:00:00.000000000",
          "2024-11-08T00:00:00.000000000",
          "2024-11-11T00:00:00.000000000",
          "2024-11-12T00:00:00.000000000",
          "2024-11-13T00:00:00.000000000",
          "2024-11-14T00:00:00.000000000",
          "2024-11-15T00:00:00.000000000",
          "2024-12-18T00:00:00.000000000",
          "2024-12-19T00:00:00.000000000",
          "2024-12-20T00:00:00.000000000"
         ],
         "xaxis": "x",
         "y": {
          "bdata": "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",
          "dtype": "f8"
         },
         "yaxis": "y"
        },
        {
         "marker": {
          "color": "rgb(141,160,203)",
          "size": 6
         },
         "mode": "markers",
         "name": "Regime 2",
         "showlegend": true,
         "type": "scatter",
         "x": [
          "2018-02-13T00:00:00.000000000",
          "2018-02-14T00:00:00.000000000",
          "2018-02-15T00:00:00.000000000",
          "2018-02-16T00:00:00.000000000",
          "2018-02-20T00:00:00.000000000",
          "2018-02-21T00:00:00.000000000",
          "2018-02-22T00:00:00.000000000",
          "2018-03-27T00:00:00.000000000",
          "2018-03-28T00:00:00.000000000",
          "2018-03-29T00:00:00.000000000",
          "2018-04-02T00:00:00.000000000",
          "2018-04-03T00:00:00.000000000",
          "2018-10-16T00:00:00.000000000",
          "2018-10-17T00:00:00.000000000",
          "2018-10-18T00:00:00.000000000",
          "2018-10-19T00:00:00.000000000",
          "2018-10-22T00:00:00.000000000",
          "2018-10-23T00:00:00.000000000",
          "2018-10-24T00:00:00.000000000",
          "2018-10-25T00:00:00.000000000",
          "2018-10-26T00:00:00.000000000",
          "2018-10-29T00:00:00.000000000",
          "2018-10-30T00:00:00.000000000",
          "2018-10-31T00:00:00.000000000",
          "2018-11-01T00:00:00.000000000",
          "2018-11-02T00:00:00.000000000",
          "2018-11-05T00:00:00.000000000",
          "2018-11-06T00:00:00.000000000",
          "2018-11-07T00:00:00.000000000",
          "2018-11-08T00:00:00.000000000",
          "2018-11-09T00:00:00.000000000",
          "2018-11-12T00:00:00.000000000",
          "2018-11-19T00:00:00.000000000",
          "2018-11-20T00:00:00.000000000",
          "2018-11-21T00:00:00.000000000",
          "2018-11-23T00:00:00.000000000",
          "2018-11-26T00:00:00.000000000",
          "2018-11-27T00:00:00.000000000",
          "2018-11-28T00:00:00.000000000",
          "2018-11-29T00:00:00.000000000",
          "2018-11-30T00:00:00.000000000",
          "2018-12-03T00:00:00.000000000",
          "2018-12-04T00:00:00.000000000",
          "2018-12-06T00:00:00.000000000",
          "2018-12-07T00:00:00.000000000",
          "2018-12-10T00:00:00.000000000",
          "2018-12-11T00:00:00.000000000",
          "2018-12-12T00:00:00.000000000",
          "2018-12-13T00:00:00.000000000",
          "2018-12-14T00:00:00.000000000",
          "2018-12-17T00:00:00.000000000",
          "2018-12-18T00:00:00.000000000",
          "2018-12-19T00:00:00.000000000",
          "2018-12-20T00:00:00.000000000",
          "2018-12-28T00:00:00.000000000",
          "2018-12-31T00:00:00.000000000",
          "2019-01-02T00:00:00.000000000",
          "2019-01-03T00:00:00.000000000",
          "2019-01-04T00:00:00.000000000",
          "2019-01-07T00:00:00.000000000",
          "2019-01-08T00:00:00.000000000",
          "2019-01-09T00:00:00.000000000",
          "2019-01-10T00:00:00.000000000",
          "2019-01-11T00:00:00.000000000",
          "2019-01-14T00:00:00.000000000",
          "2019-01-15T00:00:00.000000000",
          "2019-01-16T00:00:00.000000000",
          "2019-05-13T00:00:00.000000000",
          "2019-05-14T00:00:00.000000000",
          "2019-06-10T00:00:00.000000000",
          "2019-06-11T00:00:00.000000000",
          "2019-06-12T00:00:00.000000000",
          "2019-06-13T00:00:00.000000000",
          "2019-06-14T00:00:00.000000000",
          "2019-08-07T00:00:00.000000000",
          "2019-08-08T00:00:00.000000000",
          "2019-08-09T00:00:00.000000000",
          "2019-08-12T00:00:00.000000000",
          "2019-08-13T00:00:00.000000000",
          "2019-08-14T00:00:00.000000000",
          "2020-02-07T00:00:00.000000000",
          "2020-02-10T00:00:00.000000000",
          "2020-02-11T00:00:00.000000000",
          "2020-02-12T00:00:00.000000000",
          "2020-02-13T00:00:00.000000000",
          "2020-02-14T00:00:00.000000000",
          "2020-04-20T00:00:00.000000000",
          "2020-04-21T00:00:00.000000000",
          "2020-04-22T00:00:00.000000000",
          "2020-04-23T00:00:00.000000000",
          "2020-04-24T00:00:00.000000000",
          "2020-04-27T00:00:00.000000000",
          "2020-04-28T00:00:00.000000000",
          "2020-04-29T00:00:00.000000000",
          "2020-04-30T00:00:00.000000000",
          "2020-05-01T00:00:00.000000000",
          "2020-05-04T00:00:00.000000000",
          "2020-05-05T00:00:00.000000000",
          "2020-05-06T00:00:00.000000000",
          "2020-05-07T00:00:00.000000000",
          "2020-05-08T00:00:00.000000000",
          "2020-05-11T00:00:00.000000000",
          "2020-05-12T00:00:00.000000000",
          "2020-05-13T00:00:00.000000000",
          "2020-05-14T00:00:00.000000000",
          "2020-05-15T00:00:00.000000000",
          "2020-05-18T00:00:00.000000000",
          "2020-05-19T00:00:00.000000000",
          "2020-05-20T00:00:00.000000000",
          "2020-05-21T00:00:00.000000000",
          "2020-05-22T00:00:00.000000000",
          "2020-05-26T00:00:00.000000000",
          "2020-05-27T00:00:00.000000000",
          "2020-05-28T00:00:00.000000000",
          "2020-05-29T00:00:00.000000000",
          "2020-06-01T00:00:00.000000000",
          "2020-06-02T00:00:00.000000000",
          "2020-06-03T00:00:00.000000000",
          "2020-06-04T00:00:00.000000000",
          "2020-06-05T00:00:00.000000000",
          "2020-06-08T00:00:00.000000000",
          "2020-06-09T00:00:00.000000000",
          "2020-06-10T00:00:00.000000000",
          "2020-06-17T00:00:00.000000000",
          "2020-06-18T00:00:00.000000000",
          "2020-06-19T00:00:00.000000000",
          "2020-06-22T00:00:00.000000000",
          "2020-06-23T00:00:00.000000000",
          "2020-06-24T00:00:00.000000000",
          "2020-06-25T00:00:00.000000000",
          "2020-06-26T00:00:00.000000000",
          "2020-06-29T00:00:00.000000000",
          "2020-06-30T00:00:00.000000000",
          "2020-07-01T00:00:00.000000000",
          "2020-07-02T00:00:00.000000000",
          "2020-07-06T00:00:00.000000000",
          "2020-07-07T00:00:00.000000000",
          "2020-07-08T00:00:00.000000000",
          "2020-07-09T00:00:00.000000000",
          "2020-07-10T00:00:00.000000000",
          "2020-07-13T00:00:00.000000000",
          "2020-08-06T00:00:00.000000000",
          "2020-08-07T00:00:00.000000000",
          "2020-08-10T00:00:00.000000000",
          "2020-08-11T00:00:00.000000000",
          "2020-08-12T00:00:00.000000000",
          "2020-08-27T00:00:00.000000000",
          "2020-08-28T00:00:00.000000000",
          "2020-08-31T00:00:00.000000000",
          "2020-09-01T00:00:00.000000000",
          "2020-09-02T00:00:00.000000000",
          "2020-09-03T00:00:00.000000000",
          "2020-09-04T00:00:00.000000000",
          "2020-09-08T00:00:00.000000000",
          "2020-09-09T00:00:00.000000000",
          "2020-09-10T00:00:00.000000000",
          "2020-09-11T00:00:00.000000000",
          "2020-09-14T00:00:00.000000000",
          "2020-09-15T00:00:00.000000000",
          "2020-09-16T00:00:00.000000000",
          "2020-09-17T00:00:00.000000000",
          "2020-09-18T00:00:00.000000000",
          "2020-09-21T00:00:00.000000000",
          "2020-09-22T00:00:00.000000000",
          "2020-09-23T00:00:00.000000000",
          "2020-09-24T00:00:00.000000000",
          "2020-09-25T00:00:00.000000000",
          "2020-09-28T00:00:00.000000000",
          "2020-09-29T00:00:00.000000000",
          "2020-09-30T00:00:00.000000000",
          "2020-10-01T00:00:00.000000000",
          "2020-10-02T00:00:00.000000000",
          "2020-10-05T00:00:00.000000000",
          "2020-10-06T00:00:00.000000000",
          "2020-10-07T00:00:00.000000000",
          "2020-10-08T00:00:00.000000000",
          "2020-10-09T00:00:00.000000000",
          "2020-10-12T00:00:00.000000000",
          "2020-10-13T00:00:00.000000000",
          "2020-10-14T00:00:00.000000000",
          "2020-10-15T00:00:00.000000000",
          "2020-10-16T00:00:00.000000000",
          "2020-10-19T00:00:00.000000000",
          "2020-11-16T00:00:00.000000000",
          "2020-11-17T00:00:00.000000000",
          "2020-11-18T00:00:00.000000000",
          "2021-02-01T00:00:00.000000000",
          "2021-02-02T00:00:00.000000000",
          "2021-02-03T00:00:00.000000000",
          "2021-02-04T00:00:00.000000000",
          "2021-02-05T00:00:00.000000000",
          "2021-02-08T00:00:00.000000000",
          "2021-02-09T00:00:00.000000000",
          "2021-02-10T00:00:00.000000000",
          "2021-02-11T00:00:00.000000000",
          "2021-02-12T00:00:00.000000000",
          "2021-02-25T00:00:00.000000000",
          "2021-02-26T00:00:00.000000000",
          "2021-03-01T00:00:00.000000000",
          "2021-03-02T00:00:00.000000000",
          "2021-03-03T00:00:00.000000000",
          "2021-03-04T00:00:00.000000000",
          "2021-03-05T00:00:00.000000000",
          "2021-03-08T00:00:00.000000000",
          "2021-03-09T00:00:00.000000000",
          "2021-03-10T00:00:00.000000000",
          "2021-03-11T00:00:00.000000000",
          "2021-03-12T00:00:00.000000000",
          "2021-03-15T00:00:00.000000000",
          "2021-03-16T00:00:00.000000000",
          "2021-03-17T00:00:00.000000000",
          "2021-03-18T00:00:00.000000000",
          "2021-03-19T00:00:00.000000000",
          "2021-04-01T00:00:00.000000000",
          "2021-04-05T00:00:00.000000000",
          "2021-04-06T00:00:00.000000000",
          "2021-04-07T00:00:00.000000000",
          "2021-04-08T00:00:00.000000000",
          "2021-04-09T00:00:00.000000000",
          "2021-04-12T00:00:00.000000000",
          "2021-04-13T00:00:00.000000000",
          "2021-04-14T00:00:00.000000000",
          "2021-04-15T00:00:00.000000000",
          "2021-05-13T00:00:00.000000000",
          "2021-05-14T00:00:00.000000000",
          "2021-05-17T00:00:00.000000000",
          "2021-05-18T00:00:00.000000000",
          "2021-05-19T00:00:00.000000000",
          "2021-05-20T00:00:00.000000000",
          "2021-07-23T00:00:00.000000000",
          "2021-07-26T00:00:00.000000000",
          "2021-07-27T00:00:00.000000000",
          "2021-07-28T00:00:00.000000000",
          "2021-07-29T00:00:00.000000000",
          "2021-07-30T00:00:00.000000000",
          "2021-09-20T00:00:00.000000000",
          "2021-09-21T00:00:00.000000000",
          "2021-09-22T00:00:00.000000000",
          "2021-09-23T00:00:00.000000000",
          "2021-09-24T00:00:00.000000000",
          "2021-09-27T00:00:00.000000000",
          "2021-09-28T00:00:00.000000000",
          "2021-09-29T00:00:00.000000000",
          "2021-09-30T00:00:00.000000000",
          "2021-10-01T00:00:00.000000000",
          "2021-10-04T00:00:00.000000000",
          "2021-10-05T00:00:00.000000000",
          "2021-10-06T00:00:00.000000000",
          "2021-10-07T00:00:00.000000000",
          "2021-10-08T00:00:00.000000000",
          "2021-10-15T00:00:00.000000000",
          "2021-10-18T00:00:00.000000000",
          "2021-10-19T00:00:00.000000000",
          "2021-10-20T00:00:00.000000000",
          "2021-10-21T00:00:00.000000000",
          "2021-10-22T00:00:00.000000000",
          "2021-10-25T00:00:00.000000000",
          "2021-10-26T00:00:00.000000000",
          "2021-10-27T00:00:00.000000000",
          "2021-10-28T00:00:00.000000000",
          "2021-11-04T00:00:00.000000000",
          "2021-11-05T00:00:00.000000000",
          "2021-11-08T00:00:00.000000000",
          "2021-11-09T00:00:00.000000000",
          "2021-11-10T00:00:00.000000000",
          "2021-12-06T00:00:00.000000000",
          "2021-12-07T00:00:00.000000000",
          "2021-12-08T00:00:00.000000000",
          "2021-12-09T00:00:00.000000000",
          "2021-12-10T00:00:00.000000000",
          "2021-12-13T00:00:00.000000000",
          "2021-12-14T00:00:00.000000000",
          "2021-12-15T00:00:00.000000000",
          "2021-12-16T00:00:00.000000000",
          "2021-12-17T00:00:00.000000000",
          "2021-12-20T00:00:00.000000000",
          "2021-12-21T00:00:00.000000000",
          "2021-12-22T00:00:00.000000000",
          "2021-12-23T00:00:00.000000000",
          "2021-12-27T00:00:00.000000000",
          "2021-12-28T00:00:00.000000000",
          "2021-12-29T00:00:00.000000000",
          "2021-12-30T00:00:00.000000000",
          "2021-12-31T00:00:00.000000000",
          "2022-01-03T00:00:00.000000000",
          "2022-01-04T00:00:00.000000000",
          "2022-01-05T00:00:00.000000000",
          "2022-01-06T00:00:00.000000000",
          "2022-01-07T00:00:00.000000000",
          "2022-01-10T00:00:00.000000000",
          "2022-01-11T00:00:00.000000000",
          "2022-01-12T00:00:00.000000000",
          "2022-01-13T00:00:00.000000000",
          "2022-01-14T00:00:00.000000000",
          "2022-01-18T00:00:00.000000000",
          "2022-01-19T00:00:00.000000000",
          "2022-02-08T00:00:00.000000000",
          "2022-02-09T00:00:00.000000000",
          "2022-02-10T00:00:00.000000000",
          "2022-02-11T00:00:00.000000000",
          "2022-02-14T00:00:00.000000000",
          "2022-02-15T00:00:00.000000000",
          "2022-02-16T00:00:00.000000000",
          "2022-02-17T00:00:00.000000000",
          "2022-02-18T00:00:00.000000000",
          "2022-02-25T00:00:00.000000000",
          "2022-02-28T00:00:00.000000000",
          "2022-03-01T00:00:00.000000000",
          "2022-03-02T00:00:00.000000000",
          "2022-03-03T00:00:00.000000000",
          "2022-03-04T00:00:00.000000000",
          "2022-03-07T00:00:00.000000000",
          "2022-03-08T00:00:00.000000000",
          "2022-03-09T00:00:00.000000000",
          "2022-03-10T00:00:00.000000000",
          "2022-03-11T00:00:00.000000000",
          "2022-03-14T00:00:00.000000000",
          "2022-03-15T00:00:00.000000000",
          "2022-03-16T00:00:00.000000000",
          "2022-03-17T00:00:00.000000000",
          "2022-03-29T00:00:00.000000000",
          "2022-03-30T00:00:00.000000000",
          "2022-03-31T00:00:00.000000000",
          "2022-04-01T00:00:00.000000000",
          "2022-04-04T00:00:00.000000000",
          "2022-04-05T00:00:00.000000000",
          "2022-04-06T00:00:00.000000000",
          "2022-04-07T00:00:00.000000000",
          "2022-04-08T00:00:00.000000000",
          "2022-04-11T00:00:00.000000000",
          "2022-04-12T00:00:00.000000000",
          "2022-04-13T00:00:00.000000000",
          "2022-04-14T00:00:00.000000000",
          "2022-04-18T00:00:00.000000000",
          "2022-04-19T00:00:00.000000000",
          "2022-04-20T00:00:00.000000000",
          "2022-04-21T00:00:00.000000000",
          "2022-04-22T00:00:00.000000000",
          "2022-04-25T00:00:00.000000000",
          "2022-05-19T00:00:00.000000000",
          "2022-05-20T00:00:00.000000000",
          "2022-05-23T00:00:00.000000000",
          "2022-05-24T00:00:00.000000000",
          "2022-05-25T00:00:00.000000000",
          "2022-05-26T00:00:00.000000000",
          "2022-06-06T00:00:00.000000000",
          "2022-06-07T00:00:00.000000000",
          "2022-06-08T00:00:00.000000000",
          "2022-06-09T00:00:00.000000000",
          "2022-06-27T00:00:00.000000000",
          "2022-06-28T00:00:00.000000000",
          "2022-06-29T00:00:00.000000000",
          "2022-06-30T00:00:00.000000000",
          "2022-07-01T00:00:00.000000000",
          "2022-07-05T00:00:00.000000000",
          "2022-07-06T00:00:00.000000000",
          "2022-07-07T00:00:00.000000000",
          "2022-07-08T00:00:00.000000000",
          "2022-07-11T00:00:00.000000000",
          "2022-07-12T00:00:00.000000000",
          "2022-07-13T00:00:00.000000000",
          "2022-07-14T00:00:00.000000000",
          "2022-07-15T00:00:00.000000000",
          "2022-07-18T00:00:00.000000000",
          "2022-07-19T00:00:00.000000000",
          "2022-07-20T00:00:00.000000000",
          "2022-07-21T00:00:00.000000000",
          "2022-07-22T00:00:00.000000000",
          "2022-07-25T00:00:00.000000000",
          "2022-07-26T00:00:00.000000000",
          "2022-07-27T00:00:00.000000000",
          "2022-07-28T00:00:00.000000000",
          "2022-07-29T00:00:00.000000000",
          "2022-08-01T00:00:00.000000000",
          "2022-08-02T00:00:00.000000000",
          "2022-08-03T00:00:00.000000000",
          "2022-08-04T00:00:00.000000000",
          "2022-08-05T00:00:00.000000000",
          "2022-08-08T00:00:00.000000000",
          "2022-08-09T00:00:00.000000000",
          "2022-08-10T00:00:00.000000000",
          "2022-08-11T00:00:00.000000000",
          "2022-08-12T00:00:00.000000000",
          "2022-08-15T00:00:00.000000000",
          "2022-08-16T00:00:00.000000000",
          "2022-08-17T00:00:00.000000000",
          "2022-08-18T00:00:00.000000000",
          "2022-08-19T00:00:00.000000000",
          "2022-08-22T00:00:00.000000000",
          "2022-08-23T00:00:00.000000000",
          "2022-08-24T00:00:00.000000000",
          "2022-08-25T00:00:00.000000000",
          "2022-09-08T00:00:00.000000000",
          "2022-09-09T00:00:00.000000000",
          "2022-09-12T00:00:00.000000000",
          "2022-09-13T00:00:00.000000000",
          "2022-09-14T00:00:00.000000000",
          "2022-09-15T00:00:00.000000000",
          "2022-09-16T00:00:00.000000000",
          "2022-09-19T00:00:00.000000000",
          "2022-09-20T00:00:00.000000000",
          "2022-10-05T00:00:00.000000000",
          "2022-10-06T00:00:00.000000000",
          "2022-10-07T00:00:00.000000000",
          "2022-10-10T00:00:00.000000000",
          "2022-10-11T00:00:00.000000000",
          "2022-10-12T00:00:00.000000000",
          "2022-10-13T00:00:00.000000000",
          "2022-10-14T00:00:00.000000000",
          "2022-10-17T00:00:00.000000000",
          "2022-10-18T00:00:00.000000000",
          "2022-10-19T00:00:00.000000000",
          "2022-10-20T00:00:00.000000000",
          "2022-10-21T00:00:00.000000000",
          "2022-10-24T00:00:00.000000000",
          "2022-10-25T00:00:00.000000000",
          "2022-10-26T00:00:00.000000000",
          "2022-10-27T00:00:00.000000000",
          "2022-10-28T00:00:00.000000000",
          "2022-10-31T00:00:00.000000000",
          "2022-11-01T00:00:00.000000000",
          "2022-11-02T00:00:00.000000000",
          "2022-11-03T00:00:00.000000000",
          "2022-11-04T00:00:00.000000000",
          "2022-11-07T00:00:00.000000000",
          "2022-11-08T00:00:00.000000000",
          "2022-11-09T00:00:00.000000000",
          "2022-11-18T00:00:00.000000000",
          "2022-11-21T00:00:00.000000000",
          "2022-11-22T00:00:00.000000000",
          "2022-11-30T00:00:00.000000000",
          "2022-12-01T00:00:00.000000000",
          "2022-12-02T00:00:00.000000000",
          "2022-12-05T00:00:00.000000000",
          "2022-12-06T00:00:00.000000000",
          "2022-12-07T00:00:00.000000000",
          "2022-12-08T00:00:00.000000000",
          "2022-12-09T00:00:00.000000000",
          "2022-12-12T00:00:00.000000000",
          "2022-12-13T00:00:00.000000000",
          "2022-12-14T00:00:00.000000000",
          "2022-12-15T00:00:00.000000000",
          "2022-12-16T00:00:00.000000000",
          "2022-12-19T00:00:00.000000000",
          "2022-12-20T00:00:00.000000000",
          "2022-12-21T00:00:00.000000000",
          "2022-12-22T00:00:00.000000000",
          "2022-12-23T00:00:00.000000000",
          "2022-12-27T00:00:00.000000000",
          "2022-12-28T00:00:00.000000000",
          "2022-12-29T00:00:00.000000000",
          "2023-01-10T00:00:00.000000000",
          "2023-01-11T00:00:00.000000000",
          "2023-01-12T00:00:00.000000000",
          "2023-01-13T00:00:00.000000000",
          "2023-01-17T00:00:00.000000000",
          "2023-01-18T00:00:00.000000000",
          "2023-01-19T00:00:00.000000000",
          "2023-01-20T00:00:00.000000000",
          "2023-01-23T00:00:00.000000000",
          "2023-01-24T00:00:00.000000000",
          "2023-01-25T00:00:00.000000000",
          "2023-01-26T00:00:00.000000000",
          "2023-01-27T00:00:00.000000000",
          "2023-01-30T00:00:00.000000000",
          "2023-01-31T00:00:00.000000000",
          "2023-02-01T00:00:00.000000000",
          "2023-02-02T00:00:00.000000000",
          "2023-02-03T00:00:00.000000000",
          "2023-02-06T00:00:00.000000000",
          "2023-02-07T00:00:00.000000000",
          "2023-02-08T00:00:00.000000000",
          "2023-02-09T00:00:00.000000000",
          "2023-02-10T00:00:00.000000000",
          "2023-02-21T00:00:00.000000000",
          "2023-02-22T00:00:00.000000000",
          "2023-02-23T00:00:00.000000000",
          "2023-02-24T00:00:00.000000000",
          "2023-02-27T00:00:00.000000000",
          "2023-02-28T00:00:00.000000000",
          "2023-03-01T00:00:00.000000000",
          "2023-03-02T00:00:00.000000000",
          "2023-03-03T00:00:00.000000000",
          "2023-03-06T00:00:00.000000000",
          "2023-03-07T00:00:00.000000000",
          "2023-03-08T00:00:00.000000000",
          "2023-03-09T00:00:00.000000000",
          "2023-03-10T00:00:00.000000000",
          "2023-03-13T00:00:00.000000000",
          "2023-03-14T00:00:00.000000000",
          "2023-03-15T00:00:00.000000000",
          "2023-03-16T00:00:00.000000000",
          "2023-03-17T00:00:00.000000000",
          "2023-03-20T00:00:00.000000000",
          "2023-03-21T00:00:00.000000000",
          "2023-03-22T00:00:00.000000000",
          "2023-03-23T00:00:00.000000000",
          "2023-03-24T00:00:00.000000000",
          "2023-03-27T00:00:00.000000000",
          "2023-03-28T00:00:00.000000000",
          "2023-03-29T00:00:00.000000000",
          "2023-03-30T00:00:00.000000000",
          "2023-03-31T00:00:00.000000000",
          "2023-04-03T00:00:00.000000000",
          "2023-04-04T00:00:00.000000000",
          "2023-04-05T00:00:00.000000000",
          "2023-04-06T00:00:00.000000000",
          "2023-04-10T00:00:00.000000000",
          "2023-04-11T00:00:00.000000000",
          "2023-05-02T00:00:00.000000000",
          "2023-05-03T00:00:00.000000000",
          "2023-05-04T00:00:00.000000000",
          "2023-05-05T00:00:00.000000000",
          "2023-05-08T00:00:00.000000000",
          "2023-05-09T00:00:00.000000000",
          "2023-06-02T00:00:00.000000000",
          "2023-06-05T00:00:00.000000000",
          "2023-06-06T00:00:00.000000000",
          "2023-06-07T00:00:00.000000000",
          "2023-06-08T00:00:00.000000000",
          "2023-06-09T00:00:00.000000000",
          "2023-06-12T00:00:00.000000000",
          "2023-06-13T00:00:00.000000000",
          "2023-06-14T00:00:00.000000000",
          "2023-06-15T00:00:00.000000000",
          "2023-06-16T00:00:00.000000000",
          "2023-06-20T00:00:00.000000000",
          "2023-06-21T00:00:00.000000000",
          "2023-06-22T00:00:00.000000000",
          "2023-07-03T00:00:00.000000000",
          "2023-07-05T00:00:00.000000000",
          "2023-07-06T00:00:00.000000000",
          "2023-07-07T00:00:00.000000000",
          "2023-07-10T00:00:00.000000000",
          "2023-07-17T00:00:00.000000000",
          "2023-07-18T00:00:00.000000000",
          "2023-07-19T00:00:00.000000000",
          "2023-07-20T00:00:00.000000000",
          "2023-07-21T00:00:00.000000000",
          "2023-07-24T00:00:00.000000000",
          "2023-08-04T00:00:00.000000000",
          "2023-08-07T00:00:00.000000000",
          "2023-08-08T00:00:00.000000000",
          "2023-08-09T00:00:00.000000000",
          "2023-08-10T00:00:00.000000000",
          "2023-08-11T00:00:00.000000000",
          "2023-08-17T00:00:00.000000000",
          "2023-08-18T00:00:00.000000000",
          "2023-08-21T00:00:00.000000000",
          "2023-08-22T00:00:00.000000000",
          "2023-08-23T00:00:00.000000000",
          "2023-08-24T00:00:00.000000000",
          "2023-08-25T00:00:00.000000000",
          "2023-08-28T00:00:00.000000000",
          "2023-08-29T00:00:00.000000000",
          "2023-08-30T00:00:00.000000000",
          "2023-08-31T00:00:00.000000000",
          "2023-09-01T00:00:00.000000000",
          "2023-09-05T00:00:00.000000000",
          "2023-09-06T00:00:00.000000000",
          "2023-09-07T00:00:00.000000000",
          "2023-09-21T00:00:00.000000000",
          "2023-09-22T00:00:00.000000000",
          "2023-09-25T00:00:00.000000000",
          "2023-09-26T00:00:00.000000000",
          "2023-09-27T00:00:00.000000000",
          "2023-09-28T00:00:00.000000000",
          "2023-09-29T00:00:00.000000000",
          "2023-10-02T00:00:00.000000000",
          "2023-10-03T00:00:00.000000000",
          "2023-10-11T00:00:00.000000000",
          "2023-10-12T00:00:00.000000000",
          "2023-10-13T00:00:00.000000000",
          "2023-10-16T00:00:00.000000000",
          "2023-10-17T00:00:00.000000000",
          "2023-10-18T00:00:00.000000000",
          "2023-10-19T00:00:00.000000000",
          "2023-10-20T00:00:00.000000000",
          "2023-10-23T00:00:00.000000000",
          "2023-10-24T00:00:00.000000000",
          "2023-10-25T00:00:00.000000000",
          "2023-10-26T00:00:00.000000000",
          "2023-10-27T00:00:00.000000000",
          "2023-10-30T00:00:00.000000000",
          "2023-10-31T00:00:00.000000000",
          "2023-11-01T00:00:00.000000000",
          "2023-11-02T00:00:00.000000000",
          "2023-11-03T00:00:00.000000000",
          "2023-11-13T00:00:00.000000000",
          "2023-11-14T00:00:00.000000000",
          "2023-11-15T00:00:00.000000000",
          "2023-11-16T00:00:00.000000000",
          "2023-11-17T00:00:00.000000000",
          "2023-11-20T00:00:00.000000000",
          "2023-11-21T00:00:00.000000000",
          "2023-11-22T00:00:00.000000000",
          "2023-11-24T00:00:00.000000000",
          "2023-11-27T00:00:00.000000000",
          "2023-12-13T00:00:00.000000000",
          "2023-12-14T00:00:00.000000000",
          "2023-12-15T00:00:00.000000000",
          "2023-12-18T00:00:00.000000000",
          "2023-12-19T00:00:00.000000000",
          "2023-12-20T00:00:00.000000000",
          "2023-12-21T00:00:00.000000000",
          "2023-12-22T00:00:00.000000000",
          "2023-12-26T00:00:00.000000000",
          "2024-01-23T00:00:00.000000000",
          "2024-01-24T00:00:00.000000000",
          "2024-01-25T00:00:00.000000000",
          "2024-01-26T00:00:00.000000000",
          "2024-01-29T00:00:00.000000000",
          "2024-01-30T00:00:00.000000000",
          "2024-01-31T00:00:00.000000000",
          "2024-02-01T00:00:00.000000000",
          "2024-02-02T00:00:00.000000000",
          "2024-02-05T00:00:00.000000000",
          "2024-02-06T00:00:00.000000000",
          "2024-02-07T00:00:00.000000000",
          "2024-02-08T00:00:00.000000000",
          "2024-02-09T00:00:00.000000000",
          "2024-02-12T00:00:00.000000000",
          "2024-02-13T00:00:00.000000000",
          "2024-02-14T00:00:00.000000000",
          "2024-02-22T00:00:00.000000000",
          "2024-02-23T00:00:00.000000000",
          "2024-02-26T00:00:00.000000000",
          "2024-02-27T00:00:00.000000000",
          "2024-02-28T00:00:00.000000000",
          "2024-02-29T00:00:00.000000000",
          "2024-03-01T00:00:00.000000000",
          "2024-03-04T00:00:00.000000000",
          "2024-03-05T00:00:00.000000000",
          "2024-03-21T00:00:00.000000000",
          "2024-03-22T00:00:00.000000000",
          "2024-03-25T00:00:00.000000000",
          "2024-03-26T00:00:00.000000000",
          "2024-03-27T00:00:00.000000000",
          "2024-03-28T00:00:00.000000000",
          "2024-04-12T00:00:00.000000000",
          "2024-04-15T00:00:00.000000000",
          "2024-04-16T00:00:00.000000000",
          "2024-04-17T00:00:00.000000000",
          "2024-04-18T00:00:00.000000000",
          "2024-04-19T00:00:00.000000000",
          "2024-04-22T00:00:00.000000000",
          "2024-04-23T00:00:00.000000000",
          "2024-04-24T00:00:00.000000000",
          "2024-04-25T00:00:00.000000000",
          "2024-04-26T00:00:00.000000000",
          "2024-04-29T00:00:00.000000000",
          "2024-04-30T00:00:00.000000000",
          "2024-05-01T00:00:00.000000000",
          "2024-05-02T00:00:00.000000000",
          "2024-05-03T00:00:00.000000000",
          "2024-05-06T00:00:00.000000000",
          "2024-05-07T00:00:00.000000000",
          "2024-05-08T00:00:00.000000000",
          "2024-05-09T00:00:00.000000000",
          "2024-05-10T00:00:00.000000000",
          "2024-05-13T00:00:00.000000000",
          "2024-05-14T00:00:00.000000000",
          "2024-05-15T00:00:00.000000000",
          "2024-05-16T00:00:00.000000000",
          "2024-05-17T00:00:00.000000000",
          "2024-05-20T00:00:00.000000000",
          "2024-05-21T00:00:00.000000000",
          "2024-05-22T00:00:00.000000000",
          "2024-05-23T00:00:00.000000000",
          "2024-06-07T00:00:00.000000000",
          "2024-06-10T00:00:00.000000000",
          "2024-06-11T00:00:00.000000000",
          "2024-06-12T00:00:00.000000000",
          "2024-06-13T00:00:00.000000000",
          "2024-06-14T00:00:00.000000000",
          "2024-06-17T00:00:00.000000000",
          "2024-06-18T00:00:00.000000000",
          "2024-06-20T00:00:00.000000000",
          "2024-06-21T00:00:00.000000000",
          "2024-06-24T00:00:00.000000000",
          "2024-07-08T00:00:00.000000000",
          "2024-07-09T00:00:00.000000000",
          "2024-07-10T00:00:00.000000000",
          "2024-07-11T00:00:00.000000000",
          "2024-07-12T00:00:00.000000000",
          "2024-07-15T00:00:00.000000000",
          "2024-07-16T00:00:00.000000000",
          "2024-07-17T00:00:00.000000000",
          "2024-07-18T00:00:00.000000000",
          "2024-07-19T00:00:00.000000000",
          "2024-07-22T00:00:00.000000000",
          "2024-07-23T00:00:00.000000000",
          "2024-07-29T00:00:00.000000000",
          "2024-07-30T00:00:00.000000000",
          "2024-07-31T00:00:00.000000000",
          "2024-08-01T00:00:00.000000000",
          "2024-08-26T00:00:00.000000000",
          "2024-08-27T00:00:00.000000000",
          "2024-09-03T00:00:00.000000000",
          "2024-09-04T00:00:00.000000000",
          "2024-09-05T00:00:00.000000000",
          "2024-09-06T00:00:00.000000000",
          "2024-09-09T00:00:00.000000000",
          "2024-09-10T00:00:00.000000000",
          "2024-09-11T00:00:00.000000000",
          "2024-09-12T00:00:00.000000000",
          "2024-09-13T00:00:00.000000000",
          "2024-09-16T00:00:00.000000000",
          "2024-09-17T00:00:00.000000000",
          "2024-09-18T00:00:00.000000000",
          "2024-09-19T00:00:00.000000000",
          "2024-09-20T00:00:00.000000000",
          "2024-09-23T00:00:00.000000000",
          "2024-09-24T00:00:00.000000000",
          "2024-09-25T00:00:00.000000000",
          "2024-09-26T00:00:00.000000000",
          "2024-09-27T00:00:00.000000000",
          "2024-09-30T00:00:00.000000000",
          "2024-10-01T00:00:00.000000000",
          "2024-10-11T00:00:00.000000000",
          "2024-10-14T00:00:00.000000000",
          "2024-10-15T00:00:00.000000000",
          "2024-10-16T00:00:00.000000000",
          "2024-10-17T00:00:00.000000000",
          "2024-10-18T00:00:00.000000000",
          "2024-10-21T00:00:00.000000000",
          "2024-10-31T00:00:00.000000000",
          "2024-11-01T00:00:00.000000000",
          "2024-11-04T00:00:00.000000000",
          "2024-11-05T00:00:00.000000000",
          "2024-11-06T00:00:00.000000000",
          "2024-11-18T00:00:00.000000000",
          "2024-11-19T00:00:00.000000000",
          "2024-11-20T00:00:00.000000000",
          "2024-11-21T00:00:00.000000000",
          "2024-11-22T00:00:00.000000000",
          "2024-11-25T00:00:00.000000000",
          "2024-11-26T00:00:00.000000000",
          "2024-11-27T00:00:00.000000000",
          "2024-11-29T00:00:00.000000000",
          "2024-12-02T00:00:00.000000000",
          "2024-12-03T00:00:00.000000000",
          "2024-12-04T00:00:00.000000000",
          "2024-12-05T00:00:00.000000000",
          "2024-12-06T00:00:00.000000000",
          "2024-12-23T00:00:00.000000000",
          "2024-12-24T00:00:00.000000000",
          "2024-12-26T00:00:00.000000000",
          "2024-12-27T00:00:00.000000000",
          "2024-12-30T00:00:00.000000000",
          "2024-12-31T00:00:00.000000000"
         ],
         "xaxis": "x",
         "y": {
          "bdata": "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",
          "dtype": "f8"
         },
         "yaxis": "y"
        },
        {
         "marker": {
          "color": "rgb(102,194,165)",
          "size": 6
         },
         "mode": "markers",
         "name": "Regime 0",
         "showlegend": false,
         "type": "scatter",
         "x": [
          "2018-01-02T00:00:00.000000000",
          "2018-01-03T00:00:00.000000000",
          "2018-01-04T00:00:00.000000000",
          "2018-01-05T00:00:00.000000000",
          "2018-01-08T00:00:00.000000000",
          "2018-01-09T00:00:00.000000000",
          "2018-01-10T00:00:00.000000000",
          "2018-01-11T00:00:00.000000000",
          "2018-01-12T00:00:00.000000000",
          "2018-01-16T00:00:00.000000000",
          "2018-01-17T00:00:00.000000000",
          "2018-01-18T00:00:00.000000000",
          "2018-01-19T00:00:00.000000000",
          "2018-01-22T00:00:00.000000000",
          "2018-01-23T00:00:00.000000000",
          "2018-01-24T00:00:00.000000000",
          "2018-01-25T00:00:00.000000000",
          "2018-01-26T00:00:00.000000000",
          "2018-01-29T00:00:00.000000000",
          "2018-01-30T00:00:00.000000000",
          "2018-01-31T00:00:00.000000000",
          "2018-02-01T00:00:00.000000000",
          "2018-02-23T00:00:00.000000000",
          "2018-02-26T00:00:00.000000000",
          "2018-02-27T00:00:00.000000000",
          "2018-02-28T00:00:00.000000000",
          "2018-03-01T00:00:00.000000000",
          "2018-03-02T00:00:00.000000000",
          "2018-03-05T00:00:00.000000000",
          "2018-03-06T00:00:00.000000000",
          "2018-03-07T00:00:00.000000000",
          "2018-03-08T00:00:00.000000000",
          "2018-03-09T00:00:00.000000000",
          "2018-03-12T00:00:00.000000000",
          "2018-03-13T00:00:00.000000000",
          "2018-03-14T00:00:00.000000000",
          "2018-03-15T00:00:00.000000000",
          "2018-03-16T00:00:00.000000000",
          "2018-03-19T00:00:00.000000000",
          "2018-03-20T00:00:00.000000000",
          "2018-03-21T00:00:00.000000000",
          "2018-04-04T00:00:00.000000000",
          "2018-04-05T00:00:00.000000000",
          "2018-04-06T00:00:00.000000000",
          "2018-04-09T00:00:00.000000000",
          "2018-04-10T00:00:00.000000000",
          "2018-04-11T00:00:00.000000000",
          "2018-04-12T00:00:00.000000000",
          "2018-04-13T00:00:00.000000000",
          "2018-04-16T00:00:00.000000000",
          "2018-04-17T00:00:00.000000000",
          "2018-04-18T00:00:00.000000000",
          "2018-04-19T00:00:00.000000000",
          "2018-04-20T00:00:00.000000000",
          "2018-04-23T00:00:00.000000000",
          "2018-04-24T00:00:00.000000000",
          "2018-04-25T00:00:00.000000000",
          "2018-04-26T00:00:00.000000000",
          "2018-04-27T00:00:00.000000000",
          "2018-04-30T00:00:00.000000000",
          "2018-05-01T00:00:00.000000000",
          "2018-05-02T00:00:00.000000000",
          "2018-05-03T00:00:00.000000000",
          "2018-05-04T00:00:00.000000000",
          "2018-05-07T00:00:00.000000000",
          "2018-05-08T00:00:00.000000000",
          "2018-05-09T00:00:00.000000000",
          "2018-05-10T00:00:00.000000000",
          "2018-05-11T00:00:00.000000000",
          "2018-05-14T00:00:00.000000000",
          "2018-05-15T00:00:00.000000000",
          "2018-05-16T00:00:00.000000000",
          "2018-05-17T00:00:00.000000000",
          "2018-05-18T00:00:00.000000000",
          "2018-05-21T00:00:00.000000000",
          "2018-05-22T00:00:00.000000000",
          "2018-05-23T00:00:00.000000000",
          "2018-05-24T00:00:00.000000000",
          "2018-05-25T00:00:00.000000000",
          "2018-05-29T00:00:00.000000000",
          "2018-05-30T00:00:00.000000000",
          "2018-05-31T00:00:00.000000000",
          "2018-06-01T00:00:00.000000000",
          "2018-06-04T00:00:00.000000000",
          "2018-06-05T00:00:00.000000000",
          "2018-06-06T00:00:00.000000000",
          "2018-06-07T00:00:00.000000000",
          "2018-06-08T00:00:00.000000000",
          "2018-06-11T00:00:00.000000000",
          "2018-06-12T00:00:00.000000000",
          "2018-06-13T00:00:00.000000000",
          "2018-06-14T00:00:00.000000000",
          "2018-06-15T00:00:00.000000000",
          "2018-06-18T00:00:00.000000000",
          "2018-06-19T00:00:00.000000000",
          "2018-06-20T00:00:00.000000000",
          "2018-06-21T00:00:00.000000000",
          "2018-06-22T00:00:00.000000000",
          "2018-06-25T00:00:00.000000000",
          "2018-06-26T00:00:00.000000000",
          "2018-06-27T00:00:00.000000000",
          "2018-06-28T00:00:00.000000000",
          "2018-06-29T00:00:00.000000000",
          "2018-07-02T00:00:00.000000000",
          "2018-07-03T00:00:00.000000000",
          "2018-07-05T00:00:00.000000000",
          "2018-07-06T00:00:00.000000000",
          "2018-07-09T00:00:00.000000000",
          "2018-07-10T00:00:00.000000000",
          "2018-07-11T00:00:00.000000000",
          "2018-07-12T00:00:00.000000000",
          "2018-07-13T00:00:00.000000000",
          "2018-07-16T00:00:00.000000000",
          "2018-07-17T00:00:00.000000000",
          "2018-07-18T00:00:00.000000000",
          "2018-07-19T00:00:00.000000000",
          "2018-07-20T00:00:00.000000000",
          "2018-07-23T00:00:00.000000000",
          "2018-07-24T00:00:00.000000000",
          "2018-07-25T00:00:00.000000000",
          "2018-07-26T00:00:00.000000000",
          "2018-07-27T00:00:00.000000000",
          "2018-07-30T00:00:00.000000000",
          "2018-07-31T00:00:00.000000000",
          "2018-08-01T00:00:00.000000000",
          "2018-08-02T00:00:00.000000000",
          "2018-08-03T00:00:00.000000000",
          "2018-08-06T00:00:00.000000000",
          "2018-08-07T00:00:00.000000000",
          "2018-08-08T00:00:00.000000000",
          "2018-08-09T00:00:00.000000000",
          "2018-08-10T00:00:00.000000000",
          "2018-08-13T00:00:00.000000000",
          "2018-08-14T00:00:00.000000000",
          "2018-08-15T00:00:00.000000000",
          "2018-08-16T00:00:00.000000000",
          "2018-08-17T00:00:00.000000000",
          "2018-08-20T00:00:00.000000000",
          "2018-08-21T00:00:00.000000000",
          "2018-08-22T00:00:00.000000000",
          "2018-08-23T00:00:00.000000000",
          "2018-08-24T00:00:00.000000000",
          "2018-08-27T00:00:00.000000000",
          "2018-08-28T00:00:00.000000000",
          "2018-08-29T00:00:00.000000000",
          "2018-08-30T00:00:00.000000000",
          "2018-08-31T00:00:00.000000000",
          "2018-09-04T00:00:00.000000000",
          "2018-09-05T00:00:00.000000000",
          "2018-09-06T00:00:00.000000000",
          "2018-09-07T00:00:00.000000000",
          "2018-09-10T00:00:00.000000000",
          "2018-09-11T00:00:00.000000000",
          "2018-09-12T00:00:00.000000000",
          "2018-09-13T00:00:00.000000000",
          "2018-09-14T00:00:00.000000000",
          "2018-09-17T00:00:00.000000000",
          "2018-09-18T00:00:00.000000000",
          "2018-09-19T00:00:00.000000000",
          "2018-09-20T00:00:00.000000000",
          "2018-09-21T00:00:00.000000000",
          "2018-09-24T00:00:00.000000000",
          "2018-09-25T00:00:00.000000000",
          "2018-09-26T00:00:00.000000000",
          "2018-09-27T00:00:00.000000000",
          "2018-09-28T00:00:00.000000000",
          "2018-10-01T00:00:00.000000000",
          "2018-10-02T00:00:00.000000000",
          "2018-10-03T00:00:00.000000000",
          "2018-10-04T00:00:00.000000000",
          "2018-10-05T00:00:00.000000000",
          "2018-10-08T00:00:00.000000000",
          "2018-10-09T00:00:00.000000000",
          "2018-11-13T00:00:00.000000000",
          "2018-11-14T00:00:00.000000000",
          "2018-11-15T00:00:00.000000000",
          "2018-11-16T00:00:00.000000000",
          "2019-01-17T00:00:00.000000000",
          "2019-01-18T00:00:00.000000000",
          "2019-01-22T00:00:00.000000000",
          "2019-01-23T00:00:00.000000000",
          "2019-01-24T00:00:00.000000000",
          "2019-01-25T00:00:00.000000000",
          "2019-01-28T00:00:00.000000000",
          "2019-01-29T00:00:00.000000000",
          "2019-01-30T00:00:00.000000000",
          "2019-01-31T00:00:00.000000000",
          "2019-02-01T00:00:00.000000000",
          "2019-02-04T00:00:00.000000000",
          "2019-02-05T00:00:00.000000000",
          "2019-02-06T00:00:00.000000000",
          "2019-02-07T00:00:00.000000000",
          "2019-02-08T00:00:00.000000000",
          "2019-02-11T00:00:00.000000000",
          "2019-02-12T00:00:00.000000000",
          "2019-02-13T00:00:00.000000000",
          "2019-02-14T00:00:00.000000000",
          "2019-02-15T00:00:00.000000000",
          "2019-02-19T00:00:00.000000000",
          "2019-02-20T00:00:00.000000000",
          "2019-02-21T00:00:00.000000000",
          "2019-02-22T00:00:00.000000000",
          "2019-02-25T00:00:00.000000000",
          "2019-02-26T00:00:00.000000000",
          "2019-02-27T00:00:00.000000000",
          "2019-02-28T00:00:00.000000000",
          "2019-03-01T00:00:00.000000000",
          "2019-03-04T00:00:00.000000000",
          "2019-03-05T00:00:00.000000000",
          "2019-03-06T00:00:00.000000000",
          "2019-03-07T00:00:00.000000000",
          "2019-03-08T00:00:00.000000000",
          "2019-03-11T00:00:00.000000000",
          "2019-03-12T00:00:00.000000000",
          "2019-03-13T00:00:00.000000000",
          "2019-03-14T00:00:00.000000000",
          "2019-03-15T00:00:00.000000000",
          "2019-03-18T00:00:00.000000000",
          "2019-03-19T00:00:00.000000000",
          "2019-03-20T00:00:00.000000000",
          "2019-03-21T00:00:00.000000000",
          "2019-03-22T00:00:00.000000000",
          "2019-03-25T00:00:00.000000000",
          "2019-03-26T00:00:00.000000000",
          "2019-03-27T00:00:00.000000000",
          "2019-03-28T00:00:00.000000000",
          "2019-03-29T00:00:00.000000000",
          "2019-04-01T00:00:00.000000000",
          "2019-04-02T00:00:00.000000000",
          "2019-04-03T00:00:00.000000000",
          "2019-04-04T00:00:00.000000000",
          "2019-04-05T00:00:00.000000000",
          "2019-04-08T00:00:00.000000000",
          "2019-04-09T00:00:00.000000000",
          "2019-04-10T00:00:00.000000000",
          "2019-04-11T00:00:00.000000000",
          "2019-04-12T00:00:00.000000000",
          "2019-04-15T00:00:00.000000000",
          "2019-04-16T00:00:00.000000000",
          "2019-04-17T00:00:00.000000000",
          "2019-04-18T00:00:00.000000000",
          "2019-04-22T00:00:00.000000000",
          "2019-04-23T00:00:00.000000000",
          "2019-04-24T00:00:00.000000000",
          "2019-04-25T00:00:00.000000000",
          "2019-04-26T00:00:00.000000000",
          "2019-04-29T00:00:00.000000000",
          "2019-04-30T00:00:00.000000000",
          "2019-05-01T00:00:00.000000000",
          "2019-05-02T00:00:00.000000000",
          "2019-05-03T00:00:00.000000000",
          "2019-05-06T00:00:00.000000000",
          "2019-05-07T00:00:00.000000000",
          "2019-05-08T00:00:00.000000000",
          "2019-05-09T00:00:00.000000000",
          "2019-05-10T00:00:00.000000000",
          "2019-05-15T00:00:00.000000000",
          "2019-05-16T00:00:00.000000000",
          "2019-05-17T00:00:00.000000000",
          "2019-05-20T00:00:00.000000000",
          "2019-05-21T00:00:00.000000000",
          "2019-05-22T00:00:00.000000000",
          "2019-05-23T00:00:00.000000000",
          "2019-05-24T00:00:00.000000000",
          "2019-05-28T00:00:00.000000000",
          "2019-05-29T00:00:00.000000000",
          "2019-05-30T00:00:00.000000000",
          "2019-05-31T00:00:00.000000000",
          "2019-06-03T00:00:00.000000000",
          "2019-06-04T00:00:00.000000000",
          "2019-06-05T00:00:00.000000000",
          "2019-06-06T00:00:00.000000000",
          "2019-06-07T00:00:00.000000000",
          "2019-06-17T00:00:00.000000000",
          "2019-06-18T00:00:00.000000000",
          "2019-06-19T00:00:00.000000000",
          "2019-06-20T00:00:00.000000000",
          "2019-06-21T00:00:00.000000000",
          "2019-06-24T00:00:00.000000000",
          "2019-06-25T00:00:00.000000000",
          "2019-06-26T00:00:00.000000000",
          "2019-06-27T00:00:00.000000000",
          "2019-06-28T00:00:00.000000000",
          "2019-07-01T00:00:00.000000000",
          "2019-07-02T00:00:00.000000000",
          "2019-07-03T00:00:00.000000000",
          "2019-07-05T00:00:00.000000000",
          "2019-07-08T00:00:00.000000000",
          "2019-07-09T00:00:00.000000000",
          "2019-07-10T00:00:00.000000000",
          "2019-07-11T00:00:00.000000000",
          "2019-07-12T00:00:00.000000000",
          "2019-07-15T00:00:00.000000000",
          "2019-07-16T00:00:00.000000000",
          "2019-07-17T00:00:00.000000000",
          "2019-07-18T00:00:00.000000000",
          "2019-07-19T00:00:00.000000000",
          "2019-07-22T00:00:00.000000000",
          "2019-07-23T00:00:00.000000000",
          "2019-07-24T00:00:00.000000000",
          "2019-07-25T00:00:00.000000000",
          "2019-07-26T00:00:00.000000000",
          "2019-07-29T00:00:00.000000000",
          "2019-07-30T00:00:00.000000000",
          "2019-07-31T00:00:00.000000000",
          "2019-08-01T00:00:00.000000000",
          "2019-08-02T00:00:00.000000000",
          "2019-08-15T00:00:00.000000000",
          "2019-08-16T00:00:00.000000000",
          "2019-08-19T00:00:00.000000000",
          "2019-08-20T00:00:00.000000000",
          "2019-08-21T00:00:00.000000000",
          "2019-08-22T00:00:00.000000000",
          "2019-08-23T00:00:00.000000000",
          "2019-08-26T00:00:00.000000000",
          "2019-08-27T00:00:00.000000000",
          "2019-08-28T00:00:00.000000000",
          "2019-08-29T00:00:00.000000000",
          "2019-08-30T00:00:00.000000000",
          "2019-09-03T00:00:00.000000000",
          "2019-09-04T00:00:00.000000000",
          "2019-09-05T00:00:00.000000000",
          "2019-09-06T00:00:00.000000000",
          "2019-09-09T00:00:00.000000000",
          "2019-09-10T00:00:00.000000000",
          "2019-09-11T00:00:00.000000000",
          "2019-09-12T00:00:00.000000000",
          "2019-09-13T00:00:00.000000000",
          "2019-09-16T00:00:00.000000000",
          "2019-09-17T00:00:00.000000000",
          "2019-09-18T00:00:00.000000000",
          "2019-09-19T00:00:00.000000000",
          "2019-09-20T00:00:00.000000000",
          "2019-09-23T00:00:00.000000000",
          "2019-09-24T00:00:00.000000000",
          "2019-09-25T00:00:00.000000000",
          "2019-09-26T00:00:00.000000000",
          "2019-09-27T00:00:00.000000000",
          "2019-09-30T00:00:00.000000000",
          "2019-10-01T00:00:00.000000000",
          "2019-10-02T00:00:00.000000000",
          "2019-10-03T00:00:00.000000000",
          "2019-10-04T00:00:00.000000000",
          "2019-10-07T00:00:00.000000000",
          "2019-10-08T00:00:00.000000000",
          "2019-10-09T00:00:00.000000000",
          "2019-10-10T00:00:00.000000000",
          "2019-10-11T00:00:00.000000000",
          "2019-10-14T00:00:00.000000000",
          "2019-10-15T00:00:00.000000000",
          "2019-10-16T00:00:00.000000000",
          "2019-10-17T00:00:00.000000000",
          "2019-10-18T00:00:00.000000000",
          "2019-10-21T00:00:00.000000000",
          "2019-10-22T00:00:00.000000000",
          "2019-10-23T00:00:00.000000000",
          "2019-10-24T00:00:00.000000000",
          "2019-10-25T00:00:00.000000000",
          "2019-10-28T00:00:00.000000000",
          "2019-10-29T00:00:00.000000000",
          "2019-10-30T00:00:00.000000000",
          "2019-10-31T00:00:00.000000000",
          "2019-11-01T00:00:00.000000000",
          "2019-11-04T00:00:00.000000000",
          "2019-11-05T00:00:00.000000000",
          "2019-11-06T00:00:00.000000000",
          "2019-11-07T00:00:00.000000000",
          "2019-11-08T00:00:00.000000000",
          "2019-11-11T00:00:00.000000000",
          "2019-11-12T00:00:00.000000000",
          "2019-11-13T00:00:00.000000000",
          "2019-11-14T00:00:00.000000000",
          "2019-11-15T00:00:00.000000000",
          "2019-11-18T00:00:00.000000000",
          "2019-11-19T00:00:00.000000000",
          "2019-11-20T00:00:00.000000000",
          "2019-11-21T00:00:00.000000000",
          "2019-11-22T00:00:00.000000000",
          "2019-11-25T00:00:00.000000000",
          "2019-11-26T00:00:00.000000000",
          "2019-11-27T00:00:00.000000000",
          "2019-11-29T00:00:00.000000000",
          "2019-12-02T00:00:00.000000000",
          "2019-12-03T00:00:00.000000000",
          "2019-12-04T00:00:00.000000000",
          "2019-12-05T00:00:00.000000000",
          "2019-12-06T00:00:00.000000000",
          "2019-12-09T00:00:00.000000000",
          "2019-12-10T00:00:00.000000000",
          "2019-12-11T00:00:00.000000000",
          "2019-12-12T00:00:00.000000000",
          "2019-12-13T00:00:00.000000000",
          "2019-12-16T00:00:00.000000000",
          "2019-12-17T00:00:00.000000000",
          "2019-12-18T00:00:00.000000000",
          "2019-12-19T00:00:00.000000000",
          "2019-12-20T00:00:00.000000000",
          "2019-12-23T00:00:00.000000000",
          "2019-12-24T00:00:00.000000000",
          "2019-12-26T00:00:00.000000000",
          "2019-12-27T00:00:00.000000000",
          "2019-12-30T00:00:00.000000000",
          "2019-12-31T00:00:00.000000000",
          "2020-01-02T00:00:00.000000000",
          "2020-01-03T00:00:00.000000000",
          "2020-01-06T00:00:00.000000000",
          "2020-01-07T00:00:00.000000000",
          "2020-01-08T00:00:00.000000000",
          "2020-01-09T00:00:00.000000000",
          "2020-01-10T00:00:00.000000000",
          "2020-01-13T00:00:00.000000000",
          "2020-01-14T00:00:00.000000000",
          "2020-01-15T00:00:00.000000000",
          "2020-01-16T00:00:00.000000000",
          "2020-01-17T00:00:00.000000000",
          "2020-01-21T00:00:00.000000000",
          "2020-01-22T00:00:00.000000000",
          "2020-01-23T00:00:00.000000000",
          "2020-01-24T00:00:00.000000000",
          "2020-01-27T00:00:00.000000000",
          "2020-01-28T00:00:00.000000000",
          "2020-01-29T00:00:00.000000000",
          "2020-01-30T00:00:00.000000000",
          "2020-01-31T00:00:00.000000000",
          "2020-02-03T00:00:00.000000000",
          "2020-02-04T00:00:00.000000000",
          "2020-02-05T00:00:00.000000000",
          "2020-02-06T00:00:00.000000000",
          "2020-02-18T00:00:00.000000000",
          "2020-02-19T00:00:00.000000000",
          "2020-02-20T00:00:00.000000000",
          "2020-02-21T00:00:00.000000000",
          "2020-07-14T00:00:00.000000000",
          "2020-07-15T00:00:00.000000000",
          "2020-07-16T00:00:00.000000000",
          "2020-07-17T00:00:00.000000000",
          "2020-07-20T00:00:00.000000000",
          "2020-07-21T00:00:00.000000000",
          "2020-07-22T00:00:00.000000000",
          "2020-07-23T00:00:00.000000000",
          "2020-07-24T00:00:00.000000000",
          "2020-07-27T00:00:00.000000000",
          "2020-07-28T00:00:00.000000000",
          "2020-07-29T00:00:00.000000000",
          "2020-07-30T00:00:00.000000000",
          "2020-07-31T00:00:00.000000000",
          "2020-08-03T00:00:00.000000000",
          "2020-08-04T00:00:00.000000000",
          "2020-08-05T00:00:00.000000000",
          "2020-08-13T00:00:00.000000000",
          "2020-08-14T00:00:00.000000000",
          "2020-08-17T00:00:00.000000000",
          "2020-08-18T00:00:00.000000000",
          "2020-08-19T00:00:00.000000000",
          "2020-08-20T00:00:00.000000000",
          "2020-08-21T00:00:00.000000000",
          "2020-08-24T00:00:00.000000000",
          "2020-08-25T00:00:00.000000000",
          "2020-08-26T00:00:00.000000000",
          "2020-10-20T00:00:00.000000000",
          "2020-10-21T00:00:00.000000000",
          "2020-10-22T00:00:00.000000000",
          "2020-10-23T00:00:00.000000000",
          "2020-10-26T00:00:00.000000000",
          "2020-10-27T00:00:00.000000000",
          "2020-11-19T00:00:00.000000000",
          "2020-11-20T00:00:00.000000000",
          "2020-11-23T00:00:00.000000000",
          "2020-11-24T00:00:00.000000000",
          "2020-11-25T00:00:00.000000000",
          "2020-11-27T00:00:00.000000000",
          "2020-11-30T00:00:00.000000000",
          "2020-12-01T00:00:00.000000000",
          "2020-12-02T00:00:00.000000000",
          "2020-12-03T00:00:00.000000000",
          "2020-12-04T00:00:00.000000000",
          "2020-12-07T00:00:00.000000000",
          "2020-12-08T00:00:00.000000000",
          "2020-12-09T00:00:00.000000000",
          "2020-12-10T00:00:00.000000000",
          "2020-12-11T00:00:00.000000000",
          "2020-12-14T00:00:00.000000000",
          "2020-12-15T00:00:00.000000000",
          "2020-12-16T00:00:00.000000000",
          "2020-12-17T00:00:00.000000000",
          "2020-12-18T00:00:00.000000000",
          "2020-12-21T00:00:00.000000000",
          "2020-12-22T00:00:00.000000000",
          "2020-12-23T00:00:00.000000000",
          "2020-12-24T00:00:00.000000000",
          "2020-12-28T00:00:00.000000000",
          "2020-12-29T00:00:00.000000000",
          "2020-12-30T00:00:00.000000000",
          "2020-12-31T00:00:00.000000000",
          "2021-01-04T00:00:00.000000000",
          "2021-01-05T00:00:00.000000000",
          "2021-01-06T00:00:00.000000000",
          "2021-01-07T00:00:00.000000000",
          "2021-01-08T00:00:00.000000000",
          "2021-01-11T00:00:00.000000000",
          "2021-01-12T00:00:00.000000000",
          "2021-01-13T00:00:00.000000000",
          "2021-01-14T00:00:00.000000000",
          "2021-01-15T00:00:00.000000000",
          "2021-01-19T00:00:00.000000000",
          "2021-01-20T00:00:00.000000000",
          "2021-01-21T00:00:00.000000000",
          "2021-01-22T00:00:00.000000000",
          "2021-01-25T00:00:00.000000000",
          "2021-01-26T00:00:00.000000000",
          "2021-02-16T00:00:00.000000000",
          "2021-02-17T00:00:00.000000000",
          "2021-02-18T00:00:00.000000000",
          "2021-02-19T00:00:00.000000000",
          "2021-02-22T00:00:00.000000000",
          "2021-02-23T00:00:00.000000000",
          "2021-02-24T00:00:00.000000000",
          "2021-03-22T00:00:00.000000000",
          "2021-03-23T00:00:00.000000000",
          "2021-03-24T00:00:00.000000000",
          "2021-03-25T00:00:00.000000000",
          "2021-03-26T00:00:00.000000000",
          "2021-03-29T00:00:00.000000000",
          "2021-03-30T00:00:00.000000000",
          "2021-03-31T00:00:00.000000000",
          "2021-04-16T00:00:00.000000000",
          "2021-04-19T00:00:00.000000000",
          "2021-04-20T00:00:00.000000000",
          "2021-04-21T00:00:00.000000000",
          "2021-04-22T00:00:00.000000000",
          "2021-04-23T00:00:00.000000000",
          "2021-04-26T00:00:00.000000000",
          "2021-04-27T00:00:00.000000000",
          "2021-04-28T00:00:00.000000000",
          "2021-04-29T00:00:00.000000000",
          "2021-04-30T00:00:00.000000000",
          "2021-05-03T00:00:00.000000000",
          "2021-05-04T00:00:00.000000000",
          "2021-05-05T00:00:00.000000000",
          "2021-05-06T00:00:00.000000000",
          "2021-05-07T00:00:00.000000000",
          "2021-05-10T00:00:00.000000000",
          "2021-05-11T00:00:00.000000000",
          "2021-05-21T00:00:00.000000000",
          "2021-05-24T00:00:00.000000000",
          "2021-05-25T00:00:00.000000000",
          "2021-05-26T00:00:00.000000000",
          "2021-05-27T00:00:00.000000000",
          "2021-05-28T00:00:00.000000000",
          "2021-06-01T00:00:00.000000000",
          "2021-06-02T00:00:00.000000000",
          "2021-06-03T00:00:00.000000000",
          "2021-06-04T00:00:00.000000000",
          "2021-06-07T00:00:00.000000000",
          "2021-06-08T00:00:00.000000000",
          "2021-06-09T00:00:00.000000000",
          "2021-06-10T00:00:00.000000000",
          "2021-06-11T00:00:00.000000000",
          "2021-06-14T00:00:00.000000000",
          "2021-06-15T00:00:00.000000000",
          "2021-06-16T00:00:00.000000000",
          "2021-06-17T00:00:00.000000000",
          "2021-06-18T00:00:00.000000000",
          "2021-06-21T00:00:00.000000000",
          "2021-06-22T00:00:00.000000000",
          "2021-06-23T00:00:00.000000000",
          "2021-06-24T00:00:00.000000000",
          "2021-06-25T00:00:00.000000000",
          "2021-06-28T00:00:00.000000000",
          "2021-06-29T00:00:00.000000000",
          "2021-06-30T00:00:00.000000000",
          "2021-07-01T00:00:00.000000000",
          "2021-07-02T00:00:00.000000000",
          "2021-07-06T00:00:00.000000000",
          "2021-07-07T00:00:00.000000000",
          "2021-07-08T00:00:00.000000000",
          "2021-07-09T00:00:00.000000000",
          "2021-07-12T00:00:00.000000000",
          "2021-07-13T00:00:00.000000000",
          "2021-07-14T00:00:00.000000000",
          "2021-07-15T00:00:00.000000000",
          "2021-07-16T00:00:00.000000000",
          "2021-07-19T00:00:00.000000000",
          "2021-07-20T00:00:00.000000000",
          "2021-07-21T00:00:00.000000000",
          "2021-07-22T00:00:00.000000000",
          "2021-08-02T00:00:00.000000000",
          "2021-08-03T00:00:00.000000000",
          "2021-08-04T00:00:00.000000000",
          "2021-08-05T00:00:00.000000000",
          "2021-08-06T00:00:00.000000000",
          "2021-08-09T00:00:00.000000000",
          "2021-08-10T00:00:00.000000000",
          "2021-08-11T00:00:00.000000000",
          "2021-08-12T00:00:00.000000000",
          "2021-08-13T00:00:00.000000000",
          "2021-08-16T00:00:00.000000000",
          "2021-08-17T00:00:00.000000000",
          "2021-08-18T00:00:00.000000000",
          "2021-08-19T00:00:00.000000000",
          "2021-08-20T00:00:00.000000000",
          "2021-08-23T00:00:00.000000000",
          "2021-08-24T00:00:00.000000000",
          "2021-08-25T00:00:00.000000000",
          "2021-08-26T00:00:00.000000000",
          "2021-08-27T00:00:00.000000000",
          "2021-08-30T00:00:00.000000000",
          "2021-08-31T00:00:00.000000000",
          "2021-09-01T00:00:00.000000000",
          "2021-09-02T00:00:00.000000000",
          "2021-09-03T00:00:00.000000000",
          "2021-09-07T00:00:00.000000000",
          "2021-09-08T00:00:00.000000000",
          "2021-09-09T00:00:00.000000000",
          "2021-09-10T00:00:00.000000000",
          "2021-09-13T00:00:00.000000000",
          "2021-09-14T00:00:00.000000000",
          "2021-09-15T00:00:00.000000000",
          "2021-09-16T00:00:00.000000000",
          "2021-09-17T00:00:00.000000000",
          "2021-10-11T00:00:00.000000000",
          "2021-10-12T00:00:00.000000000",
          "2021-10-13T00:00:00.000000000",
          "2021-10-14T00:00:00.000000000",
          "2021-10-29T00:00:00.000000000",
          "2021-11-01T00:00:00.000000000",
          "2021-11-02T00:00:00.000000000",
          "2021-11-03T00:00:00.000000000",
          "2021-11-11T00:00:00.000000000",
          "2021-11-12T00:00:00.000000000",
          "2021-11-15T00:00:00.000000000",
          "2021-11-16T00:00:00.000000000",
          "2021-11-17T00:00:00.000000000",
          "2021-11-18T00:00:00.000000000",
          "2021-11-19T00:00:00.000000000",
          "2021-11-22T00:00:00.000000000",
          "2021-11-23T00:00:00.000000000",
          "2021-11-24T00:00:00.000000000",
          "2022-11-23T00:00:00.000000000",
          "2022-11-25T00:00:00.000000000",
          "2022-11-28T00:00:00.000000000",
          "2022-11-29T00:00:00.000000000",
          "2022-12-30T00:00:00.000000000",
          "2023-01-03T00:00:00.000000000",
          "2023-01-04T00:00:00.000000000",
          "2023-01-05T00:00:00.000000000",
          "2023-01-06T00:00:00.000000000",
          "2023-01-09T00:00:00.000000000",
          "2023-02-13T00:00:00.000000000",
          "2023-02-14T00:00:00.000000000",
          "2023-02-15T00:00:00.000000000",
          "2023-02-16T00:00:00.000000000",
          "2023-02-17T00:00:00.000000000",
          "2023-04-12T00:00:00.000000000",
          "2023-04-13T00:00:00.000000000",
          "2023-04-14T00:00:00.000000000",
          "2023-04-17T00:00:00.000000000",
          "2023-04-18T00:00:00.000000000",
          "2023-04-19T00:00:00.000000000",
          "2023-04-20T00:00:00.000000000",
          "2023-04-21T00:00:00.000000000",
          "2023-04-24T00:00:00.000000000",
          "2023-04-25T00:00:00.000000000",
          "2023-04-26T00:00:00.000000000",
          "2023-04-27T00:00:00.000000000",
          "2023-04-28T00:00:00.000000000",
          "2023-05-01T00:00:00.000000000",
          "2023-05-10T00:00:00.000000000",
          "2023-05-11T00:00:00.000000000",
          "2023-05-12T00:00:00.000000000",
          "2023-05-15T00:00:00.000000000",
          "2023-05-16T00:00:00.000000000",
          "2023-05-17T00:00:00.000000000",
          "2023-05-18T00:00:00.000000000",
          "2023-05-19T00:00:00.000000000",
          "2023-05-22T00:00:00.000000000",
          "2023-05-23T00:00:00.000000000",
          "2023-05-24T00:00:00.000000000",
          "2023-05-25T00:00:00.000000000",
          "2023-05-26T00:00:00.000000000",
          "2023-05-30T00:00:00.000000000",
          "2023-05-31T00:00:00.000000000",
          "2023-06-01T00:00:00.000000000",
          "2023-06-23T00:00:00.000000000",
          "2023-06-26T00:00:00.000000000",
          "2023-06-27T00:00:00.000000000",
          "2023-06-28T00:00:00.000000000",
          "2023-06-29T00:00:00.000000000",
          "2023-06-30T00:00:00.000000000",
          "2023-07-11T00:00:00.000000000",
          "2023-07-12T00:00:00.000000000",
          "2023-07-13T00:00:00.000000000",
          "2023-07-14T00:00:00.000000000",
          "2023-07-25T00:00:00.000000000",
          "2023-07-26T00:00:00.000000000",
          "2023-07-27T00:00:00.000000000",
          "2023-07-28T00:00:00.000000000",
          "2023-07-31T00:00:00.000000000",
          "2023-08-01T00:00:00.000000000",
          "2023-08-02T00:00:00.000000000",
          "2023-08-03T00:00:00.000000000",
          "2023-08-14T00:00:00.000000000",
          "2023-08-15T00:00:00.000000000",
          "2023-08-16T00:00:00.000000000",
          "2023-09-08T00:00:00.000000000",
          "2023-09-11T00:00:00.000000000",
          "2023-09-12T00:00:00.000000000",
          "2023-09-13T00:00:00.000000000",
          "2023-09-14T00:00:00.000000000",
          "2023-09-15T00:00:00.000000000",
          "2023-09-18T00:00:00.000000000",
          "2023-09-19T00:00:00.000000000",
          "2023-09-20T00:00:00.000000000",
          "2023-10-04T00:00:00.000000000",
          "2023-10-05T00:00:00.000000000",
          "2023-10-06T00:00:00.000000000",
          "2023-10-09T00:00:00.000000000",
          "2023-10-10T00:00:00.000000000",
          "2023-11-28T00:00:00.000000000",
          "2023-11-29T00:00:00.000000000",
          "2023-11-30T00:00:00.000000000",
          "2023-12-01T00:00:00.000000000",
          "2023-12-04T00:00:00.000000000",
          "2023-12-05T00:00:00.000000000",
          "2023-12-06T00:00:00.000000000",
          "2023-12-07T00:00:00.000000000",
          "2023-12-08T00:00:00.000000000",
          "2023-12-11T00:00:00.000000000",
          "2023-12-12T00:00:00.000000000",
          "2023-12-27T00:00:00.000000000",
          "2023-12-28T00:00:00.000000000",
          "2023-12-29T00:00:00.000000000",
          "2024-01-02T00:00:00.000000000",
          "2024-01-03T00:00:00.000000000",
          "2024-01-04T00:00:00.000000000",
          "2024-01-05T00:00:00.000000000",
          "2024-01-08T00:00:00.000000000",
          "2024-01-09T00:00:00.000000000",
          "2024-01-10T00:00:00.000000000",
          "2024-01-11T00:00:00.000000000",
          "2024-01-12T00:00:00.000000000",
          "2024-01-16T00:00:00.000000000",
          "2024-01-17T00:00:00.000000000",
          "2024-01-18T00:00:00.000000000",
          "2024-01-19T00:00:00.000000000",
          "2024-01-22T00:00:00.000000000",
          "2024-02-15T00:00:00.000000000",
          "2024-02-16T00:00:00.000000000",
          "2024-02-20T00:00:00.000000000",
          "2024-02-21T00:00:00.000000000",
          "2024-03-06T00:00:00.000000000",
          "2024-03-07T00:00:00.000000000",
          "2024-03-08T00:00:00.000000000",
          "2024-03-11T00:00:00.000000000",
          "2024-03-12T00:00:00.000000000",
          "2024-03-13T00:00:00.000000000",
          "2024-03-14T00:00:00.000000000",
          "2024-03-15T00:00:00.000000000",
          "2024-03-18T00:00:00.000000000",
          "2024-03-19T00:00:00.000000000",
          "2024-03-20T00:00:00.000000000",
          "2024-04-01T00:00:00.000000000",
          "2024-04-02T00:00:00.000000000",
          "2024-04-03T00:00:00.000000000",
          "2024-04-04T00:00:00.000000000",
          "2024-04-05T00:00:00.000000000",
          "2024-04-08T00:00:00.000000000",
          "2024-04-09T00:00:00.000000000",
          "2024-04-10T00:00:00.000000000",
          "2024-04-11T00:00:00.000000000",
          "2024-05-24T00:00:00.000000000",
          "2024-05-28T00:00:00.000000000",
          "2024-05-29T00:00:00.000000000",
          "2024-05-30T00:00:00.000000000",
          "2024-05-31T00:00:00.000000000",
          "2024-06-03T00:00:00.000000000",
          "2024-06-04T00:00:00.000000000",
          "2024-06-05T00:00:00.000000000",
          "2024-06-06T00:00:00.000000000",
          "2024-06-25T00:00:00.000000000",
          "2024-06-26T00:00:00.000000000",
          "2024-06-27T00:00:00.000000000",
          "2024-06-28T00:00:00.000000000",
          "2024-07-01T00:00:00.000000000",
          "2024-07-02T00:00:00.000000000",
          "2024-07-03T00:00:00.000000000",
          "2024-07-05T00:00:00.000000000",
          "2024-08-28T00:00:00.000000000",
          "2024-08-29T00:00:00.000000000",
          "2024-08-30T00:00:00.000000000",
          "2024-10-02T00:00:00.000000000",
          "2024-10-03T00:00:00.000000000",
          "2024-10-04T00:00:00.000000000",
          "2024-10-07T00:00:00.000000000",
          "2024-10-08T00:00:00.000000000",
          "2024-10-09T00:00:00.000000000",
          "2024-10-10T00:00:00.000000000",
          "2024-10-22T00:00:00.000000000",
          "2024-10-23T00:00:00.000000000",
          "2024-10-24T00:00:00.000000000",
          "2024-10-25T00:00:00.000000000",
          "2024-10-28T00:00:00.000000000",
          "2024-10-29T00:00:00.000000000",
          "2024-10-30T00:00:00.000000000",
          "2024-12-09T00:00:00.000000000",
          "2024-12-10T00:00:00.000000000",
          "2024-12-11T00:00:00.000000000",
          "2024-12-12T00:00:00.000000000",
          "2024-12-13T00:00:00.000000000",
          "2024-12-16T00:00:00.000000000",
          "2024-12-17T00:00:00.000000000"
         ],
         "xaxis": "x2",
         "y": {
          "bdata": "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",
          "dtype": "f8"
         },
         "yaxis": "y2"
        },
        {
         "marker": {
          "color": "rgb(252,141,98)",
          "size": 6
         },
         "mode": "markers",
         "name": "Regime 1",
         "showlegend": false,
         "type": "scatter",
         "x": [
          "2018-02-02T00:00:00.000000000",
          "2018-02-05T00:00:00.000000000",
          "2018-02-06T00:00:00.000000000",
          "2018-02-07T00:00:00.000000000",
          "2018-02-08T00:00:00.000000000",
          "2018-02-09T00:00:00.000000000",
          "2018-02-12T00:00:00.000000000",
          "2018-03-22T00:00:00.000000000",
          "2018-03-23T00:00:00.000000000",
          "2018-03-26T00:00:00.000000000",
          "2018-10-10T00:00:00.000000000",
          "2018-10-11T00:00:00.000000000",
          "2018-10-12T00:00:00.000000000",
          "2018-10-15T00:00:00.000000000",
          "2018-12-21T00:00:00.000000000",
          "2018-12-24T00:00:00.000000000",
          "2018-12-26T00:00:00.000000000",
          "2018-12-27T00:00:00.000000000",
          "2019-08-05T00:00:00.000000000",
          "2019-08-06T00:00:00.000000000",
          "2020-02-24T00:00:00.000000000",
          "2020-02-25T00:00:00.000000000",
          "2020-02-26T00:00:00.000000000",
          "2020-02-27T00:00:00.000000000",
          "2020-02-28T00:00:00.000000000",
          "2020-03-02T00:00:00.000000000",
          "2020-03-03T00:00:00.000000000",
          "2020-03-04T00:00:00.000000000",
          "2020-03-05T00:00:00.000000000",
          "2020-03-06T00:00:00.000000000",
          "2020-03-09T00:00:00.000000000",
          "2020-03-10T00:00:00.000000000",
          "2020-03-11T00:00:00.000000000",
          "2020-03-12T00:00:00.000000000",
          "2020-03-13T00:00:00.000000000",
          "2020-03-16T00:00:00.000000000",
          "2020-03-17T00:00:00.000000000",
          "2020-03-18T00:00:00.000000000",
          "2020-03-19T00:00:00.000000000",
          "2020-03-20T00:00:00.000000000",
          "2020-03-23T00:00:00.000000000",
          "2020-03-24T00:00:00.000000000",
          "2020-03-25T00:00:00.000000000",
          "2020-03-26T00:00:00.000000000",
          "2020-03-27T00:00:00.000000000",
          "2020-03-30T00:00:00.000000000",
          "2020-03-31T00:00:00.000000000",
          "2020-04-01T00:00:00.000000000",
          "2020-04-02T00:00:00.000000000",
          "2020-04-03T00:00:00.000000000",
          "2020-04-06T00:00:00.000000000",
          "2020-04-07T00:00:00.000000000",
          "2020-04-08T00:00:00.000000000",
          "2020-04-09T00:00:00.000000000",
          "2020-04-13T00:00:00.000000000",
          "2020-04-14T00:00:00.000000000",
          "2020-04-15T00:00:00.000000000",
          "2020-04-16T00:00:00.000000000",
          "2020-04-17T00:00:00.000000000",
          "2020-06-11T00:00:00.000000000",
          "2020-06-12T00:00:00.000000000",
          "2020-06-15T00:00:00.000000000",
          "2020-06-16T00:00:00.000000000",
          "2020-10-28T00:00:00.000000000",
          "2020-10-29T00:00:00.000000000",
          "2020-10-30T00:00:00.000000000",
          "2020-11-02T00:00:00.000000000",
          "2020-11-03T00:00:00.000000000",
          "2020-11-04T00:00:00.000000000",
          "2020-11-05T00:00:00.000000000",
          "2020-11-06T00:00:00.000000000",
          "2020-11-09T00:00:00.000000000",
          "2020-11-10T00:00:00.000000000",
          "2020-11-11T00:00:00.000000000",
          "2020-11-12T00:00:00.000000000",
          "2020-11-13T00:00:00.000000000",
          "2021-01-27T00:00:00.000000000",
          "2021-01-28T00:00:00.000000000",
          "2021-01-29T00:00:00.000000000",
          "2021-05-12T00:00:00.000000000",
          "2021-11-26T00:00:00.000000000",
          "2021-11-29T00:00:00.000000000",
          "2021-11-30T00:00:00.000000000",
          "2021-12-01T00:00:00.000000000",
          "2021-12-02T00:00:00.000000000",
          "2021-12-03T00:00:00.000000000",
          "2022-01-20T00:00:00.000000000",
          "2022-01-21T00:00:00.000000000",
          "2022-01-24T00:00:00.000000000",
          "2022-01-25T00:00:00.000000000",
          "2022-01-26T00:00:00.000000000",
          "2022-01-27T00:00:00.000000000",
          "2022-01-28T00:00:00.000000000",
          "2022-01-31T00:00:00.000000000",
          "2022-02-01T00:00:00.000000000",
          "2022-02-02T00:00:00.000000000",
          "2022-02-03T00:00:00.000000000",
          "2022-02-04T00:00:00.000000000",
          "2022-02-07T00:00:00.000000000",
          "2022-02-22T00:00:00.000000000",
          "2022-02-23T00:00:00.000000000",
          "2022-02-24T00:00:00.000000000",
          "2022-03-18T00:00:00.000000000",
          "2022-03-21T00:00:00.000000000",
          "2022-03-22T00:00:00.000000000",
          "2022-03-23T00:00:00.000000000",
          "2022-03-24T00:00:00.000000000",
          "2022-03-25T00:00:00.000000000",
          "2022-03-28T00:00:00.000000000",
          "2022-04-26T00:00:00.000000000",
          "2022-04-27T00:00:00.000000000",
          "2022-04-28T00:00:00.000000000",
          "2022-04-29T00:00:00.000000000",
          "2022-05-02T00:00:00.000000000",
          "2022-05-03T00:00:00.000000000",
          "2022-05-04T00:00:00.000000000",
          "2022-05-05T00:00:00.000000000",
          "2022-05-06T00:00:00.000000000",
          "2022-05-09T00:00:00.000000000",
          "2022-05-10T00:00:00.000000000",
          "2022-05-11T00:00:00.000000000",
          "2022-05-12T00:00:00.000000000",
          "2022-05-13T00:00:00.000000000",
          "2022-05-16T00:00:00.000000000",
          "2022-05-17T00:00:00.000000000",
          "2022-05-18T00:00:00.000000000",
          "2022-05-27T00:00:00.000000000",
          "2022-05-31T00:00:00.000000000",
          "2022-06-01T00:00:00.000000000",
          "2022-06-02T00:00:00.000000000",
          "2022-06-03T00:00:00.000000000",
          "2022-06-10T00:00:00.000000000",
          "2022-06-13T00:00:00.000000000",
          "2022-06-14T00:00:00.000000000",
          "2022-06-15T00:00:00.000000000",
          "2022-06-16T00:00:00.000000000",
          "2022-06-17T00:00:00.000000000",
          "2022-06-21T00:00:00.000000000",
          "2022-06-22T00:00:00.000000000",
          "2022-06-23T00:00:00.000000000",
          "2022-06-24T00:00:00.000000000",
          "2022-08-26T00:00:00.000000000",
          "2022-08-29T00:00:00.000000000",
          "2022-08-30T00:00:00.000000000",
          "2022-08-31T00:00:00.000000000",
          "2022-09-01T00:00:00.000000000",
          "2022-09-02T00:00:00.000000000",
          "2022-09-06T00:00:00.000000000",
          "2022-09-07T00:00:00.000000000",
          "2022-09-21T00:00:00.000000000",
          "2022-09-22T00:00:00.000000000",
          "2022-09-23T00:00:00.000000000",
          "2022-09-26T00:00:00.000000000",
          "2022-09-27T00:00:00.000000000",
          "2022-09-28T00:00:00.000000000",
          "2022-09-29T00:00:00.000000000",
          "2022-09-30T00:00:00.000000000",
          "2022-10-03T00:00:00.000000000",
          "2022-10-04T00:00:00.000000000",
          "2022-11-10T00:00:00.000000000",
          "2022-11-11T00:00:00.000000000",
          "2022-11-14T00:00:00.000000000",
          "2022-11-15T00:00:00.000000000",
          "2022-11-16T00:00:00.000000000",
          "2022-11-17T00:00:00.000000000",
          "2023-11-06T00:00:00.000000000",
          "2023-11-07T00:00:00.000000000",
          "2023-11-08T00:00:00.000000000",
          "2023-11-09T00:00:00.000000000",
          "2023-11-10T00:00:00.000000000",
          "2024-07-24T00:00:00.000000000",
          "2024-07-25T00:00:00.000000000",
          "2024-07-26T00:00:00.000000000",
          "2024-08-02T00:00:00.000000000",
          "2024-08-05T00:00:00.000000000",
          "2024-08-06T00:00:00.000000000",
          "2024-08-07T00:00:00.000000000",
          "2024-08-08T00:00:00.000000000",
          "2024-08-09T00:00:00.000000000",
          "2024-08-12T00:00:00.000000000",
          "2024-08-13T00:00:00.000000000",
          "2024-08-14T00:00:00.000000000",
          "2024-08-15T00:00:00.000000000",
          "2024-08-16T00:00:00.000000000",
          "2024-08-19T00:00:00.000000000",
          "2024-08-20T00:00:00.000000000",
          "2024-08-21T00:00:00.000000000",
          "2024-08-22T00:00:00.000000000",
          "2024-08-23T00:00:00.000000000",
          "2024-11-07T00:00:00.000000000",
          "2024-11-08T00:00:00.000000000",
          "2024-11-11T00:00:00.000000000",
          "2024-11-12T00:00:00.000000000",
          "2024-11-13T00:00:00.000000000",
          "2024-11-14T00:00:00.000000000",
          "2024-11-15T00:00:00.000000000",
          "2024-12-18T00:00:00.000000000",
          "2024-12-19T00:00:00.000000000",
          "2024-12-20T00:00:00.000000000"
         ],
         "xaxis": "x2",
         "y": {
          "bdata": "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",
          "dtype": "f8"
         },
         "yaxis": "y2"
        },
        {
         "marker": {
          "color": "rgb(141,160,203)",
          "size": 6
         },
         "mode": "markers",
         "name": "Regime 2",
         "showlegend": false,
         "type": "scatter",
         "x": [
          "2018-02-13T00:00:00.000000000",
          "2018-02-14T00:00:00.000000000",
          "2018-02-15T00:00:00.000000000",
          "2018-02-16T00:00:00.000000000",
          "2018-02-20T00:00:00.000000000",
          "2018-02-21T00:00:00.000000000",
          "2018-02-22T00:00:00.000000000",
          "2018-03-27T00:00:00.000000000",
          "2018-03-28T00:00:00.000000000",
          "2018-03-29T00:00:00.000000000",
          "2018-04-02T00:00:00.000000000",
          "2018-04-03T00:00:00.000000000",
          "2018-10-16T00:00:00.000000000",
          "2018-10-17T00:00:00.000000000",
          "2018-10-18T00:00:00.000000000",
          "2018-10-19T00:00:00.000000000",
          "2018-10-22T00:00:00.000000000",
          "2018-10-23T00:00:00.000000000",
          "2018-10-24T00:00:00.000000000",
          "2018-10-25T00:00:00.000000000",
          "2018-10-26T00:00:00.000000000",
          "2018-10-29T00:00:00.000000000",
          "2018-10-30T00:00:00.000000000",
          "2018-10-31T00:00:00.000000000",
          "2018-11-01T00:00:00.000000000",
          "2018-11-02T00:00:00.000000000",
          "2018-11-05T00:00:00.000000000",
          "2018-11-06T00:00:00.000000000",
          "2018-11-07T00:00:00.000000000",
          "2018-11-08T00:00:00.000000000",
          "2018-11-09T00:00:00.000000000",
          "2018-11-12T00:00:00.000000000",
          "2018-11-19T00:00:00.000000000",
          "2018-11-20T00:00:00.000000000",
          "2018-11-21T00:00:00.000000000",
          "2018-11-23T00:00:00.000000000",
          "2018-11-26T00:00:00.000000000",
          "2018-11-27T00:00:00.000000000",
          "2018-11-28T00:00:00.000000000",
          "2018-11-29T00:00:00.000000000",
          "2018-11-30T00:00:00.000000000",
          "2018-12-03T00:00:00.000000000",
          "2018-12-04T00:00:00.000000000",
          "2018-12-06T00:00:00.000000000",
          "2018-12-07T00:00:00.000000000",
          "2018-12-10T00:00:00.000000000",
          "2018-12-11T00:00:00.000000000",
          "2018-12-12T00:00:00.000000000",
          "2018-12-13T00:00:00.000000000",
          "2018-12-14T00:00:00.000000000",
          "2018-12-17T00:00:00.000000000",
          "2018-12-18T00:00:00.000000000",
          "2018-12-19T00:00:00.000000000",
          "2018-12-20T00:00:00.000000000",
          "2018-12-28T00:00:00.000000000",
          "2018-12-31T00:00:00.000000000",
          "2019-01-02T00:00:00.000000000",
          "2019-01-03T00:00:00.000000000",
          "2019-01-04T00:00:00.000000000",
          "2019-01-07T00:00:00.000000000",
          "2019-01-08T00:00:00.000000000",
          "2019-01-09T00:00:00.000000000",
          "2019-01-10T00:00:00.000000000",
          "2019-01-11T00:00:00.000000000",
          "2019-01-14T00:00:00.000000000",
          "2019-01-15T00:00:00.000000000",
          "2019-01-16T00:00:00.000000000",
          "2019-05-13T00:00:00.000000000",
          "2019-05-14T00:00:00.000000000",
          "2019-06-10T00:00:00.000000000",
          "2019-06-11T00:00:00.000000000",
          "2019-06-12T00:00:00.000000000",
          "2019-06-13T00:00:00.000000000",
          "2019-06-14T00:00:00.000000000",
          "2019-08-07T00:00:00.000000000",
          "2019-08-08T00:00:00.000000000",
          "2019-08-09T00:00:00.000000000",
          "2019-08-12T00:00:00.000000000",
          "2019-08-13T00:00:00.000000000",
          "2019-08-14T00:00:00.000000000",
          "2020-02-07T00:00:00.000000000",
          "2020-02-10T00:00:00.000000000",
          "2020-02-11T00:00:00.000000000",
          "2020-02-12T00:00:00.000000000",
          "2020-02-13T00:00:00.000000000",
          "2020-02-14T00:00:00.000000000",
          "2020-04-20T00:00:00.000000000",
          "2020-04-21T00:00:00.000000000",
          "2020-04-22T00:00:00.000000000",
          "2020-04-23T00:00:00.000000000",
          "2020-04-24T00:00:00.000000000",
          "2020-04-27T00:00:00.000000000",
          "2020-04-28T00:00:00.000000000",
          "2020-04-29T00:00:00.000000000",
          "2020-04-30T00:00:00.000000000",
          "2020-05-01T00:00:00.000000000",
          "2020-05-04T00:00:00.000000000",
          "2020-05-05T00:00:00.000000000",
          "2020-05-06T00:00:00.000000000",
          "2020-05-07T00:00:00.000000000",
          "2020-05-08T00:00:00.000000000",
          "2020-05-11T00:00:00.000000000",
          "2020-05-12T00:00:00.000000000",
          "2020-05-13T00:00:00.000000000",
          "2020-05-14T00:00:00.000000000",
          "2020-05-15T00:00:00.000000000",
          "2020-05-18T00:00:00.000000000",
          "2020-05-19T00:00:00.000000000",
          "2020-05-20T00:00:00.000000000",
          "2020-05-21T00:00:00.000000000",
          "2020-05-22T00:00:00.000000000",
          "2020-05-26T00:00:00.000000000",
          "2020-05-27T00:00:00.000000000",
          "2020-05-28T00:00:00.000000000",
          "2020-05-29T00:00:00.000000000",
          "2020-06-01T00:00:00.000000000",
          "2020-06-02T00:00:00.000000000",
          "2020-06-03T00:00:00.000000000",
          "2020-06-04T00:00:00.000000000",
          "2020-06-05T00:00:00.000000000",
          "2020-06-08T00:00:00.000000000",
          "2020-06-09T00:00:00.000000000",
          "2020-06-10T00:00:00.000000000",
          "2020-06-17T00:00:00.000000000",
          "2020-06-18T00:00:00.000000000",
          "2020-06-19T00:00:00.000000000",
          "2020-06-22T00:00:00.000000000",
          "2020-06-23T00:00:00.000000000",
          "2020-06-24T00:00:00.000000000",
          "2020-06-25T00:00:00.000000000",
          "2020-06-26T00:00:00.000000000",
          "2020-06-29T00:00:00.000000000",
          "2020-06-30T00:00:00.000000000",
          "2020-07-01T00:00:00.000000000",
          "2020-07-02T00:00:00.000000000",
          "2020-07-06T00:00:00.000000000",
          "2020-07-07T00:00:00.000000000",
          "2020-07-08T00:00:00.000000000",
          "2020-07-09T00:00:00.000000000",
          "2020-07-10T00:00:00.000000000",
          "2020-07-13T00:00:00.000000000",
          "2020-08-06T00:00:00.000000000",
          "2020-08-07T00:00:00.000000000",
          "2020-08-10T00:00:00.000000000",
          "2020-08-11T00:00:00.000000000",
          "2020-08-12T00:00:00.000000000",
          "2020-08-27T00:00:00.000000000",
          "2020-08-28T00:00:00.000000000",
          "2020-08-31T00:00:00.000000000",
          "2020-09-01T00:00:00.000000000",
          "2020-09-02T00:00:00.000000000",
          "2020-09-03T00:00:00.000000000",
          "2020-09-04T00:00:00.000000000",
          "2020-09-08T00:00:00.000000000",
          "2020-09-09T00:00:00.000000000",
          "2020-09-10T00:00:00.000000000",
          "2020-09-11T00:00:00.000000000",
          "2020-09-14T00:00:00.000000000",
          "2020-09-15T00:00:00.000000000",
          "2020-09-16T00:00:00.000000000",
          "2020-09-17T00:00:00.000000000",
          "2020-09-18T00:00:00.000000000",
          "2020-09-21T00:00:00.000000000",
          "2020-09-22T00:00:00.000000000",
          "2020-09-23T00:00:00.000000000",
          "2020-09-24T00:00:00.000000000",
          "2020-09-25T00:00:00.000000000",
          "2020-09-28T00:00:00.000000000",
          "2020-09-29T00:00:00.000000000",
          "2020-09-30T00:00:00.000000000",
          "2020-10-01T00:00:00.000000000",
          "2020-10-02T00:00:00.000000000",
          "2020-10-05T00:00:00.000000000",
          "2020-10-06T00:00:00.000000000",
          "2020-10-07T00:00:00.000000000",
          "2020-10-08T00:00:00.000000000",
          "2020-10-09T00:00:00.000000000",
          "2020-10-12T00:00:00.000000000",
          "2020-10-13T00:00:00.000000000",
          "2020-10-14T00:00:00.000000000",
          "2020-10-15T00:00:00.000000000",
          "2020-10-16T00:00:00.000000000",
          "2020-10-19T00:00:00.000000000",
          "2020-11-16T00:00:00.000000000",
          "2020-11-17T00:00:00.000000000",
          "2020-11-18T00:00:00.000000000",
          "2021-02-01T00:00:00.000000000",
          "2021-02-02T00:00:00.000000000",
          "2021-02-03T00:00:00.000000000",
          "2021-02-04T00:00:00.000000000",
          "2021-02-05T00:00:00.000000000",
          "2021-02-08T00:00:00.000000000",
          "2021-02-09T00:00:00.000000000",
          "2021-02-10T00:00:00.000000000",
          "2021-02-11T00:00:00.000000000",
          "2021-02-12T00:00:00.000000000",
          "2021-02-25T00:00:00.000000000",
          "2021-02-26T00:00:00.000000000",
          "2021-03-01T00:00:00.000000000",
          "2021-03-02T00:00:00.000000000",
          "2021-03-03T00:00:00.000000000",
          "2021-03-04T00:00:00.000000000",
          "2021-03-05T00:00:00.000000000",
          "2021-03-08T00:00:00.000000000",
          "2021-03-09T00:00:00.000000000",
          "2021-03-10T00:00:00.000000000",
          "2021-03-11T00:00:00.000000000",
          "2021-03-12T00:00:00.000000000",
          "2021-03-15T00:00:00.000000000",
          "2021-03-16T00:00:00.000000000",
          "2021-03-17T00:00:00.000000000",
          "2021-03-18T00:00:00.000000000",
          "2021-03-19T00:00:00.000000000",
          "2021-04-01T00:00:00.000000000",
          "2021-04-05T00:00:00.000000000",
          "2021-04-06T00:00:00.000000000",
          "2021-04-07T00:00:00.000000000",
          "2021-04-08T00:00:00.000000000",
          "2021-04-09T00:00:00.000000000",
          "2021-04-12T00:00:00.000000000",
          "2021-04-13T00:00:00.000000000",
          "2021-04-14T00:00:00.000000000",
          "2021-04-15T00:00:00.000000000",
          "2021-05-13T00:00:00.000000000",
          "2021-05-14T00:00:00.000000000",
          "2021-05-17T00:00:00.000000000",
          "2021-05-18T00:00:00.000000000",
          "2021-05-19T00:00:00.000000000",
          "2021-05-20T00:00:00.000000000",
          "2021-07-23T00:00:00.000000000",
          "2021-07-26T00:00:00.000000000",
          "2021-07-27T00:00:00.000000000",
          "2021-07-28T00:00:00.000000000",
          "2021-07-29T00:00:00.000000000",
          "2021-07-30T00:00:00.000000000",
          "2021-09-20T00:00:00.000000000",
          "2021-09-21T00:00:00.000000000",
          "2021-09-22T00:00:00.000000000",
          "2021-09-23T00:00:00.000000000",
          "2021-09-24T00:00:00.000000000",
          "2021-09-27T00:00:00.000000000",
          "2021-09-28T00:00:00.000000000",
          "2021-09-29T00:00:00.000000000",
          "2021-09-30T00:00:00.000000000",
          "2021-10-01T00:00:00.000000000",
          "2021-10-04T00:00:00.000000000",
          "2021-10-05T00:00:00.000000000",
          "2021-10-06T00:00:00.000000000",
          "2021-10-07T00:00:00.000000000",
          "2021-10-08T00:00:00.000000000",
          "2021-10-15T00:00:00.000000000",
          "2021-10-18T00:00:00.000000000",
          "2021-10-19T00:00:00.000000000",
          "2021-10-20T00:00:00.000000000",
          "2021-10-21T00:00:00.000000000",
          "2021-10-22T00:00:00.000000000",
          "2021-10-25T00:00:00.000000000",
          "2021-10-26T00:00:00.000000000",
          "2021-10-27T00:00:00.000000000",
          "2021-10-28T00:00:00.000000000",
          "2021-11-04T00:00:00.000000000",
          "2021-11-05T00:00:00.000000000",
          "2021-11-08T00:00:00.000000000",
          "2021-11-09T00:00:00.000000000",
          "2021-11-10T00:00:00.000000000",
          "2021-12-06T00:00:00.000000000",
          "2021-12-07T00:00:00.000000000",
          "2021-12-08T00:00:00.000000000",
          "2021-12-09T00:00:00.000000000",
          "2021-12-10T00:00:00.000000000",
          "2021-12-13T00:00:00.000000000",
          "2021-12-14T00:00:00.000000000",
          "2021-12-15T00:00:00.000000000",
          "2021-12-16T00:00:00.000000000",
          "2021-12-17T00:00:00.000000000",
          "2021-12-20T00:00:00.000000000",
          "2021-12-21T00:00:00.000000000",
          "2021-12-22T00:00:00.000000000",
          "2021-12-23T00:00:00.000000000",
          "2021-12-27T00:00:00.000000000",
          "2021-12-28T00:00:00.000000000",
          "2021-12-29T00:00:00.000000000",
          "2021-12-30T00:00:00.000000000",
          "2021-12-31T00:00:00.000000000",
          "2022-01-03T00:00:00.000000000",
          "2022-01-04T00:00:00.000000000",
          "2022-01-05T00:00:00.000000000",
          "2022-01-06T00:00:00.000000000",
          "2022-01-07T00:00:00.000000000",
          "2022-01-10T00:00:00.000000000",
          "2022-01-11T00:00:00.000000000",
          "2022-01-12T00:00:00.000000000",
          "2022-01-13T00:00:00.000000000",
          "2022-01-14T00:00:00.000000000",
          "2022-01-18T00:00:00.000000000",
          "2022-01-19T00:00:00.000000000",
          "2022-02-08T00:00:00.000000000",
          "2022-02-09T00:00:00.000000000",
          "2022-02-10T00:00:00.000000000",
          "2022-02-11T00:00:00.000000000",
          "2022-02-14T00:00:00.000000000",
          "2022-02-15T00:00:00.000000000",
          "2022-02-16T00:00:00.000000000",
          "2022-02-17T00:00:00.000000000",
          "2022-02-18T00:00:00.000000000",
          "2022-02-25T00:00:00.000000000",
          "2022-02-28T00:00:00.000000000",
          "2022-03-01T00:00:00.000000000",
          "2022-03-02T00:00:00.000000000",
          "2022-03-03T00:00:00.000000000",
          "2022-03-04T00:00:00.000000000",
          "2022-03-07T00:00:00.000000000",
          "2022-03-08T00:00:00.000000000",
          "2022-03-09T00:00:00.000000000",
          "2022-03-10T00:00:00.000000000",
          "2022-03-11T00:00:00.000000000",
          "2022-03-14T00:00:00.000000000",
          "2022-03-15T00:00:00.000000000",
          "2022-03-16T00:00:00.000000000",
          "2022-03-17T00:00:00.000000000",
          "2022-03-29T00:00:00.000000000",
          "2022-03-30T00:00:00.000000000",
          "2022-03-31T00:00:00.000000000",
          "2022-04-01T00:00:00.000000000",
          "2022-04-04T00:00:00.000000000",
          "2022-04-05T00:00:00.000000000",
          "2022-04-06T00:00:00.000000000",
          "2022-04-07T00:00:00.000000000",
          "2022-04-08T00:00:00.000000000",
          "2022-04-11T00:00:00.000000000",
          "2022-04-12T00:00:00.000000000",
          "2022-04-13T00:00:00.000000000",
          "2022-04-14T00:00:00.000000000",
          "2022-04-18T00:00:00.000000000",
          "2022-04-19T00:00:00.000000000",
          "2022-04-20T00:00:00.000000000",
          "2022-04-21T00:00:00.000000000",
          "2022-04-22T00:00:00.000000000",
          "2022-04-25T00:00:00.000000000",
          "2022-05-19T00:00:00.000000000",
          "2022-05-20T00:00:00.000000000",
          "2022-05-23T00:00:00.000000000",
          "2022-05-24T00:00:00.000000000",
          "2022-05-25T00:00:00.000000000",
          "2022-05-26T00:00:00.000000000",
          "2022-06-06T00:00:00.000000000",
          "2022-06-07T00:00:00.000000000",
          "2022-06-08T00:00:00.000000000",
          "2022-06-09T00:00:00.000000000",
          "2022-06-27T00:00:00.000000000",
          "2022-06-28T00:00:00.000000000",
          "2022-06-29T00:00:00.000000000",
          "2022-06-30T00:00:00.000000000",
          "2022-07-01T00:00:00.000000000",
          "2022-07-05T00:00:00.000000000",
          "2022-07-06T00:00:00.000000000",
          "2022-07-07T00:00:00.000000000",
          "2022-07-08T00:00:00.000000000",
          "2022-07-11T00:00:00.000000000",
          "2022-07-12T00:00:00.000000000",
          "2022-07-13T00:00:00.000000000",
          "2022-07-14T00:00:00.000000000",
          "2022-07-15T00:00:00.000000000",
          "2022-07-18T00:00:00.000000000",
          "2022-07-19T00:00:00.000000000",
          "2022-07-20T00:00:00.000000000",
          "2022-07-21T00:00:00.000000000",
          "2022-07-22T00:00:00.000000000",
          "2022-07-25T00:00:00.000000000",
          "2022-07-26T00:00:00.000000000",
          "2022-07-27T00:00:00.000000000",
          "2022-07-28T00:00:00.000000000",
          "2022-07-29T00:00:00.000000000",
          "2022-08-01T00:00:00.000000000",
          "2022-08-02T00:00:00.000000000",
          "2022-08-03T00:00:00.000000000",
          "2022-08-04T00:00:00.000000000",
          "2022-08-05T00:00:00.000000000",
          "2022-08-08T00:00:00.000000000",
          "2022-08-09T00:00:00.000000000",
          "2022-08-10T00:00:00.000000000",
          "2022-08-11T00:00:00.000000000",
          "2022-08-12T00:00:00.000000000",
          "2022-08-15T00:00:00.000000000",
          "2022-08-16T00:00:00.000000000",
          "2022-08-17T00:00:00.000000000",
          "2022-08-18T00:00:00.000000000",
          "2022-08-19T00:00:00.000000000",
          "2022-08-22T00:00:00.000000000",
          "2022-08-23T00:00:00.000000000",
          "2022-08-24T00:00:00.000000000",
          "2022-08-25T00:00:00.000000000",
          "2022-09-08T00:00:00.000000000",
          "2022-09-09T00:00:00.000000000",
          "2022-09-12T00:00:00.000000000",
          "2022-09-13T00:00:00.000000000",
          "2022-09-14T00:00:00.000000000",
          "2022-09-15T00:00:00.000000000",
          "2022-09-16T00:00:00.000000000",
          "2022-09-19T00:00:00.000000000",
          "2022-09-20T00:00:00.000000000",
          "2022-10-05T00:00:00.000000000",
          "2022-10-06T00:00:00.000000000",
          "2022-10-07T00:00:00.000000000",
          "2022-10-10T00:00:00.000000000",
          "2022-10-11T00:00:00.000000000",
          "2022-10-12T00:00:00.000000000",
          "2022-10-13T00:00:00.000000000",
          "2022-10-14T00:00:00.000000000",
          "2022-10-17T00:00:00.000000000",
          "2022-10-18T00:00:00.000000000",
          "2022-10-19T00:00:00.000000000",
          "2022-10-20T00:00:00.000000000",
          "2022-10-21T00:00:00.000000000",
          "2022-10-24T00:00:00.000000000",
          "2022-10-25T00:00:00.000000000",
          "2022-10-26T00:00:00.000000000",
          "2022-10-27T00:00:00.000000000",
          "2022-10-28T00:00:00.000000000",
          "2022-10-31T00:00:00.000000000",
          "2022-11-01T00:00:00.000000000",
          "2022-11-02T00:00:00.000000000",
          "2022-11-03T00:00:00.000000000",
          "2022-11-04T00:00:00.000000000",
          "2022-11-07T00:00:00.000000000",
          "2022-11-08T00:00:00.000000000",
          "2022-11-09T00:00:00.000000000",
          "2022-11-18T00:00:00.000000000",
          "2022-11-21T00:00:00.000000000",
          "2022-11-22T00:00:00.000000000",
          "2022-11-30T00:00:00.000000000",
          "2022-12-01T00:00:00.000000000",
          "2022-12-02T00:00:00.000000000",
          "2022-12-05T00:00:00.000000000",
          "2022-12-06T00:00:00.000000000",
          "2022-12-07T00:00:00.000000000",
          "2022-12-08T00:00:00.000000000",
          "2022-12-09T00:00:00.000000000",
          "2022-12-12T00:00:00.000000000",
          "2022-12-13T00:00:00.000000000",
          "2022-12-14T00:00:00.000000000",
          "2022-12-15T00:00:00.000000000",
          "2022-12-16T00:00:00.000000000",
          "2022-12-19T00:00:00.000000000",
          "2022-12-20T00:00:00.000000000",
          "2022-12-21T00:00:00.000000000",
          "2022-12-22T00:00:00.000000000",
          "2022-12-23T00:00:00.000000000",
          "2022-12-27T00:00:00.000000000",
          "2022-12-28T00:00:00.000000000",
          "2022-12-29T00:00:00.000000000",
          "2023-01-10T00:00:00.000000000",
          "2023-01-11T00:00:00.000000000",
          "2023-01-12T00:00:00.000000000",
          "2023-01-13T00:00:00.000000000",
          "2023-01-17T00:00:00.000000000",
          "2023-01-18T00:00:00.000000000",
          "2023-01-19T00:00:00.000000000",
          "2023-01-20T00:00:00.000000000",
          "2023-01-23T00:00:00.000000000",
          "2023-01-24T00:00:00.000000000",
          "2023-01-25T00:00:00.000000000",
          "2023-01-26T00:00:00.000000000",
          "2023-01-27T00:00:00.000000000",
          "2023-01-30T00:00:00.000000000",
          "2023-01-31T00:00:00.000000000",
          "2023-02-01T00:00:00.000000000",
          "2023-02-02T00:00:00.000000000",
          "2023-02-03T00:00:00.000000000",
          "2023-02-06T00:00:00.000000000",
          "2023-02-07T00:00:00.000000000",
          "2023-02-08T00:00:00.000000000",
          "2023-02-09T00:00:00.000000000",
          "2023-02-10T00:00:00.000000000",
          "2023-02-21T00:00:00.000000000",
          "2023-02-22T00:00:00.000000000",
          "2023-02-23T00:00:00.000000000",
          "2023-02-24T00:00:00.000000000",
          "2023-02-27T00:00:00.000000000",
          "2023-02-28T00:00:00.000000000",
          "2023-03-01T00:00:00.000000000",
          "2023-03-02T00:00:00.000000000",
          "2023-03-03T00:00:00.000000000",
          "2023-03-06T00:00:00.000000000",
          "2023-03-07T00:00:00.000000000",
          "2023-03-08T00:00:00.000000000",
          "2023-03-09T00:00:00.000000000",
          "2023-03-10T00:00:00.000000000",
          "2023-03-13T00:00:00.000000000",
          "2023-03-14T00:00:00.000000000",
          "2023-03-15T00:00:00.000000000",
          "2023-03-16T00:00:00.000000000",
          "2023-03-17T00:00:00.000000000",
          "2023-03-20T00:00:00.000000000",
          "2023-03-21T00:00:00.000000000",
          "2023-03-22T00:00:00.000000000",
          "2023-03-23T00:00:00.000000000",
          "2023-03-24T00:00:00.000000000",
          "2023-03-27T00:00:00.000000000",
          "2023-03-28T00:00:00.000000000",
          "2023-03-29T00:00:00.000000000",
          "2023-03-30T00:00:00.000000000",
          "2023-03-31T00:00:00.000000000",
          "2023-04-03T00:00:00.000000000",
          "2023-04-04T00:00:00.000000000",
          "2023-04-05T00:00:00.000000000",
          "2023-04-06T00:00:00.000000000",
          "2023-04-10T00:00:00.000000000",
          "2023-04-11T00:00:00.000000000",
          "2023-05-02T00:00:00.000000000",
          "2023-05-03T00:00:00.000000000",
          "2023-05-04T00:00:00.000000000",
          "2023-05-05T00:00:00.000000000",
          "2023-05-08T00:00:00.000000000",
          "2023-05-09T00:00:00.000000000",
          "2023-06-02T00:00:00.000000000",
          "2023-06-05T00:00:00.000000000",
          "2023-06-06T00:00:00.000000000",
          "2023-06-07T00:00:00.000000000",
          "2023-06-08T00:00:00.000000000",
          "2023-06-09T00:00:00.000000000",
          "2023-06-12T00:00:00.000000000",
          "2023-06-13T00:00:00.000000000",
          "2023-06-14T00:00:00.000000000",
          "2023-06-15T00:00:00.000000000",
          "2023-06-16T00:00:00.000000000",
          "2023-06-20T00:00:00.000000000",
          "2023-06-21T00:00:00.000000000",
          "2023-06-22T00:00:00.000000000",
          "2023-07-03T00:00:00.000000000",
          "2023-07-05T00:00:00.000000000",
          "2023-07-06T00:00:00.000000000",
          "2023-07-07T00:00:00.000000000",
          "2023-07-10T00:00:00.000000000",
          "2023-07-17T00:00:00.000000000",
          "2023-07-18T00:00:00.000000000",
          "2023-07-19T00:00:00.000000000",
          "2023-07-20T00:00:00.000000000",
          "2023-07-21T00:00:00.000000000",
          "2023-07-24T00:00:00.000000000",
          "2023-08-04T00:00:00.000000000",
          "2023-08-07T00:00:00.000000000",
          "2023-08-08T00:00:00.000000000",
          "2023-08-09T00:00:00.000000000",
          "2023-08-10T00:00:00.000000000",
          "2023-08-11T00:00:00.000000000",
          "2023-08-17T00:00:00.000000000",
          "2023-08-18T00:00:00.000000000",
          "2023-08-21T00:00:00.000000000",
          "2023-08-22T00:00:00.000000000",
          "2023-08-23T00:00:00.000000000",
          "2023-08-24T00:00:00.000000000",
          "2023-08-25T00:00:00.000000000",
          "2023-08-28T00:00:00.000000000",
          "2023-08-29T00:00:00.000000000",
          "2023-08-30T00:00:00.000000000",
          "2023-08-31T00:00:00.000000000",
          "2023-09-01T00:00:00.000000000",
          "2023-09-05T00:00:00.000000000",
          "2023-09-06T00:00:00.000000000",
          "2023-09-07T00:00:00.000000000",
          "2023-09-21T00:00:00.000000000",
          "2023-09-22T00:00:00.000000000",
          "2023-09-25T00:00:00.000000000",
          "2023-09-26T00:00:00.000000000",
          "2023-09-27T00:00:00.000000000",
          "2023-09-28T00:00:00.000000000",
          "2023-09-29T00:00:00.000000000",
          "2023-10-02T00:00:00.000000000",
          "2023-10-03T00:00:00.000000000",
          "2023-10-11T00:00:00.000000000",
          "2023-10-12T00:00:00.000000000",
          "2023-10-13T00:00:00.000000000",
          "2023-10-16T00:00:00.000000000",
          "2023-10-17T00:00:00.000000000",
          "2023-10-18T00:00:00.000000000",
          "2023-10-19T00:00:00.000000000",
          "2023-10-20T00:00:00.000000000",
          "2023-10-23T00:00:00.000000000",
          "2023-10-24T00:00:00.000000000",
          "2023-10-25T00:00:00.000000000",
          "2023-10-26T00:00:00.000000000",
          "2023-10-27T00:00:00.000000000",
          "2023-10-30T00:00:00.000000000",
          "2023-10-31T00:00:00.000000000",
          "2023-11-01T00:00:00.000000000",
          "2023-11-02T00:00:00.000000000",
          "2023-11-03T00:00:00.000000000",
          "2023-11-13T00:00:00.000000000",
          "2023-11-14T00:00:00.000000000",
          "2023-11-15T00:00:00.000000000",
          "2023-11-16T00:00:00.000000000",
          "2023-11-17T00:00:00.000000000",
          "2023-11-20T00:00:00.000000000",
          "2023-11-21T00:00:00.000000000",
          "2023-11-22T00:00:00.000000000",
          "2023-11-24T00:00:00.000000000",
          "2023-11-27T00:00:00.000000000",
          "2023-12-13T00:00:00.000000000",
          "2023-12-14T00:00:00.000000000",
          "2023-12-15T00:00:00.000000000",
          "2023-12-18T00:00:00.000000000",
          "2023-12-19T00:00:00.000000000",
          "2023-12-20T00:00:00.000000000",
          "2023-12-21T00:00:00.000000000",
          "2023-12-22T00:00:00.000000000",
          "2023-12-26T00:00:00.000000000",
          "2024-01-23T00:00:00.000000000",
          "2024-01-24T00:00:00.000000000",
          "2024-01-25T00:00:00.000000000",
          "2024-01-26T00:00:00.000000000",
          "2024-01-29T00:00:00.000000000",
          "2024-01-30T00:00:00.000000000",
          "2024-01-31T00:00:00.000000000",
          "2024-02-01T00:00:00.000000000",
          "2024-02-02T00:00:00.000000000",
          "2024-02-05T00:00:00.000000000",
          "2024-02-06T00:00:00.000000000",
          "2024-02-07T00:00:00.000000000",
          "2024-02-08T00:00:00.000000000",
          "2024-02-09T00:00:00.000000000",
          "2024-02-12T00:00:00.000000000",
          "2024-02-13T00:00:00.000000000",
          "2024-02-14T00:00:00.000000000",
          "2024-02-22T00:00:00.000000000",
          "2024-02-23T00:00:00.000000000",
          "2024-02-26T00:00:00.000000000",
          "2024-02-27T00:00:00.000000000",
          "2024-02-28T00:00:00.000000000",
          "2024-02-29T00:00:00.000000000",
          "2024-03-01T00:00:00.000000000",
          "2024-03-04T00:00:00.000000000",
          "2024-03-05T00:00:00.000000000",
          "2024-03-21T00:00:00.000000000",
          "2024-03-22T00:00:00.000000000",
          "2024-03-25T00:00:00.000000000",
          "2024-03-26T00:00:00.000000000",
          "2024-03-27T00:00:00.000000000",
          "2024-03-28T00:00:00.000000000",
          "2024-04-12T00:00:00.000000000",
          "2024-04-15T00:00:00.000000000",
          "2024-04-16T00:00:00.000000000",
          "2024-04-17T00:00:00.000000000",
          "2024-04-18T00:00:00.000000000",
          "2024-04-19T00:00:00.000000000",
          "2024-04-22T00:00:00.000000000",
          "2024-04-23T00:00:00.000000000",
          "2024-04-24T00:00:00.000000000",
          "2024-04-25T00:00:00.000000000",
          "2024-04-26T00:00:00.000000000",
          "2024-04-29T00:00:00.000000000",
          "2024-04-30T00:00:00.000000000",
          "2024-05-01T00:00:00.000000000",
          "2024-05-02T00:00:00.000000000",
          "2024-05-03T00:00:00.000000000",
          "2024-05-06T00:00:00.000000000",
          "2024-05-07T00:00:00.000000000",
          "2024-05-08T00:00:00.000000000",
          "2024-05-09T00:00:00.000000000",
          "2024-05-10T00:00:00.000000000",
          "2024-05-13T00:00:00.000000000",
          "2024-05-14T00:00:00.000000000",
          "2024-05-15T00:00:00.000000000",
          "2024-05-16T00:00:00.000000000",
          "2024-05-17T00:00:00.000000000",
          "2024-05-20T00:00:00.000000000",
          "2024-05-21T00:00:00.000000000",
          "2024-05-22T00:00:00.000000000",
          "2024-05-23T00:00:00.000000000",
          "2024-06-07T00:00:00.000000000",
          "2024-06-10T00:00:00.000000000",
          "2024-06-11T00:00:00.000000000",
          "2024-06-12T00:00:00.000000000",
          "2024-06-13T00:00:00.000000000",
          "2024-06-14T00:00:00.000000000",
          "2024-06-17T00:00:00.000000000",
          "2024-06-18T00:00:00.000000000",
          "2024-06-20T00:00:00.000000000",
          "2024-06-21T00:00:00.000000000",
          "2024-06-24T00:00:00.000000000",
          "2024-07-08T00:00:00.000000000",
          "2024-07-09T00:00:00.000000000",
          "2024-07-10T00:00:00.000000000",
          "2024-07-11T00:00:00.000000000",
          "2024-07-12T00:00:00.000000000",
          "2024-07-15T00:00:00.000000000",
          "2024-07-16T00:00:00.000000000",
          "2024-07-17T00:00:00.000000000",
          "2024-07-18T00:00:00.000000000",
          "2024-07-19T00:00:00.000000000",
          "2024-07-22T00:00:00.000000000",
          "2024-07-23T00:00:00.000000000",
          "2024-07-29T00:00:00.000000000",
          "2024-07-30T00:00:00.000000000",
          "2024-07-31T00:00:00.000000000",
          "2024-08-01T00:00:00.000000000",
          "2024-08-26T00:00:00.000000000",
          "2024-08-27T00:00:00.000000000",
          "2024-09-03T00:00:00.000000000",
          "2024-09-04T00:00:00.000000000",
          "2024-09-05T00:00:00.000000000",
          "2024-09-06T00:00:00.000000000",
          "2024-09-09T00:00:00.000000000",
          "2024-09-10T00:00:00.000000000",
          "2024-09-11T00:00:00.000000000",
          "2024-09-12T00:00:00.000000000",
          "2024-09-13T00:00:00.000000000",
          "2024-09-16T00:00:00.000000000",
          "2024-09-17T00:00:00.000000000",
          "2024-09-18T00:00:00.000000000",
          "2024-09-19T00:00:00.000000000",
          "2024-09-20T00:00:00.000000000",
          "2024-09-23T00:00:00.000000000",
          "2024-09-24T00:00:00.000000000",
          "2024-09-25T00:00:00.000000000",
          "2024-09-26T00:00:00.000000000",
          "2024-09-27T00:00:00.000000000",
          "2024-09-30T00:00:00.000000000",
          "2024-10-01T00:00:00.000000000",
          "2024-10-11T00:00:00.000000000",
          "2024-10-14T00:00:00.000000000",
          "2024-10-15T00:00:00.000000000",
          "2024-10-16T00:00:00.000000000",
          "2024-10-17T00:00:00.000000000",
          "2024-10-18T00:00:00.000000000",
          "2024-10-21T00:00:00.000000000",
          "2024-10-31T00:00:00.000000000",
          "2024-11-01T00:00:00.000000000",
          "2024-11-04T00:00:00.000000000",
          "2024-11-05T00:00:00.000000000",
          "2024-11-06T00:00:00.000000000",
          "2024-11-18T00:00:00.000000000",
          "2024-11-19T00:00:00.000000000",
          "2024-11-20T00:00:00.000000000",
          "2024-11-21T00:00:00.000000000",
          "2024-11-22T00:00:00.000000000",
          "2024-11-25T00:00:00.000000000",
          "2024-11-26T00:00:00.000000000",
          "2024-11-27T00:00:00.000000000",
          "2024-11-29T00:00:00.000000000",
          "2024-12-02T00:00:00.000000000",
          "2024-12-03T00:00:00.000000000",
          "2024-12-04T00:00:00.000000000",
          "2024-12-05T00:00:00.000000000",
          "2024-12-06T00:00:00.000000000",
          "2024-12-23T00:00:00.000000000",
          "2024-12-24T00:00:00.000000000",
          "2024-12-26T00:00:00.000000000",
          "2024-12-27T00:00:00.000000000",
          "2024-12-30T00:00:00.000000000",
          "2024-12-31T00:00:00.000000000"
         ],
         "xaxis": "x2",
         "y": {
          "bdata": "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",
          "dtype": "f8"
         },
         "yaxis": "y2"
        }
       ],
       "layout": {
        "annotations": [
         {
          "font": {
           "size": 16
          },
          "showarrow": false,
          "text": "SPY Close Price by Regime",
          "x": 0.5,
          "xanchor": "center",
          "xref": "paper",
          "y": 1,
          "yanchor": "bottom",
          "yref": "paper"
         },
         {
          "font": {
           "size": 16
          },
          "showarrow": false,
          "text": "VIX by Regime",
          "x": 0.5,
          "xanchor": "center",
          "xref": "paper",
          "y": 0.45,
          "yanchor": "bottom",
          "yref": "paper"
         }
        ],
        "height": 800,
        "hovermode": "closest",
        "legend": {
         "title": {
          "text": "Regime"
         }
        },
        "template": {
         "data": {
          "bar": [
           {
            "error_x": {
             "color": "#2a3f5f"
            },
            "error_y": {
             "color": "#2a3f5f"
            },
            "marker": {
             "line": {
              "color": "white",
              "width": 0.5
             },
             "pattern": {
              "fillmode": "overlay",
              "size": 10,
              "solidity": 0.2
             }
            },
            "type": "bar"
           }
          ],
          "barpolar": [
           {
            "marker": {
             "line": {
              "color": "white",
              "width": 0.5
             },
             "pattern": {
              "fillmode": "overlay",
              "size": 10,
              "solidity": 0.2
             }
            },
            "type": "barpolar"
           }
          ],
          "carpet": [
           {
            "aaxis": {
             "endlinecolor": "#2a3f5f",
             "gridcolor": "#C8D4E3",
             "linecolor": "#C8D4E3",
             "minorgridcolor": "#C8D4E3",
             "startlinecolor": "#2a3f5f"
            },
            "baxis": {
             "endlinecolor": "#2a3f5f",
             "gridcolor": "#C8D4E3",
             "linecolor": "#C8D4E3",
             "minorgridcolor": "#C8D4E3",
             "startlinecolor": "#2a3f5f"
            },
            "type": "carpet"
           }
          ],
          "choropleth": [
           {
            "colorbar": {
             "outlinewidth": 0,
             "ticks": ""
            },
            "type": "choropleth"
           }
          ],
          "contour": [
           {
            "colorbar": {
             "outlinewidth": 0,
             "ticks": ""
            },
            "colorscale": [
             [
              0,
              "#0d0887"
             ],
             [
              0.1111111111111111,
              "#46039f"
             ],
             [
              0.2222222222222222,
              "#7201a8"
             ],
             [
              0.3333333333333333,
              "#9c179e"
             ],
             [
              0.4444444444444444,
              "#bd3786"
             ],
             [
              0.5555555555555556,
              "#d8576b"
             ],
             [
              0.6666666666666666,
              "#ed7953"
             ],
             [
              0.7777777777777778,
              "#fb9f3a"
             ],
             [
              0.8888888888888888,
              "#fdca26"
             ],
             [
              1,
              "#f0f921"
             ]
            ],
            "type": "contour"
           }
          ],
          "contourcarpet": [
           {
            "colorbar": {
             "outlinewidth": 0,
             "ticks": ""
            },
            "type": "contourcarpet"
           }
          ],
          "heatmap": [
           {
            "colorbar": {
             "outlinewidth": 0,
             "ticks": ""
            },
            "colorscale": [
             [
              0,
              "#0d0887"
             ],
             [
              0.1111111111111111,
              "#46039f"
             ],
             [
              0.2222222222222222,
              "#7201a8"
             ],
             [
              0.3333333333333333,
              "#9c179e"
             ],
             [
              0.4444444444444444,
              "#bd3786"
             ],
             [
              0.5555555555555556,
              "#d8576b"
             ],
             [
              0.6666666666666666,
              "#ed7953"
             ],
             [
              0.7777777777777778,
              "#fb9f3a"
             ],
             [
              0.8888888888888888,
              "#fdca26"
             ],
             [
              1,
              "#f0f921"
             ]
            ],
            "type": "heatmap"
           }
          ],
          "histogram": [
           {
            "marker": {
             "pattern": {
              "fillmode": "overlay",
              "size": 10,
              "solidity": 0.2
             }
            },
            "type": "histogram"
           }
          ],
          "histogram2d": [
           {
            "colorbar": {
             "outlinewidth": 0,
             "ticks": ""
            },
            "colorscale": [
             [
              0,
              "#0d0887"
             ],
             [
              0.1111111111111111,
              "#46039f"
             ],
             [
              0.2222222222222222,
              "#7201a8"
             ],
             [
              0.3333333333333333,
              "#9c179e"
             ],
             [
              0.4444444444444444,
              "#bd3786"
             ],
             [
              0.5555555555555556,
              "#d8576b"
             ],
             [
              0.6666666666666666,
              "#ed7953"
             ],
             [
              0.7777777777777778,
              "#fb9f3a"
             ],
             [
              0.8888888888888888,
              "#fdca26"
             ],
             [
              1,
              "#f0f921"
             ]
            ],
            "type": "histogram2d"
           }
          ],
          "histogram2dcontour": [
           {
            "colorbar": {
             "outlinewidth": 0,
             "ticks": ""
            },
            "colorscale": [
             [
              0,
              "#0d0887"
             ],
             [
              0.1111111111111111,
              "#46039f"
             ],
             [
              0.2222222222222222,
              "#7201a8"
             ],
             [
              0.3333333333333333,
              "#9c179e"
             ],
             [
              0.4444444444444444,
              "#bd3786"
             ],
             [
              0.5555555555555556,
              "#d8576b"
             ],
             [
              0.6666666666666666,
              "#ed7953"
             ],
             [
              0.7777777777777778,
              "#fb9f3a"
             ],
             [
              0.8888888888888888,
              "#fdca26"
             ],
             [
              1,
              "#f0f921"
             ]
            ],
            "type": "histogram2dcontour"
           }
          ],
          "mesh3d": [
           {
            "colorbar": {
             "outlinewidth": 0,
             "ticks": ""
            },
            "type": "mesh3d"
           }
          ],
          "parcoords": [
           {
            "line": {
             "colorbar": {
              "outlinewidth": 0,
              "ticks": ""
             }
            },
            "type": "parcoords"
           }
          ],
          "pie": [
           {
            "automargin": true,
            "type": "pie"
           }
          ],
          "scatter": [
           {
            "fillpattern": {
             "fillmode": "overlay",
             "size": 10,
             "solidity": 0.2
            },
            "type": "scatter"
           }
          ],
          "scatter3d": [
           {
            "line": {
             "colorbar": {
              "outlinewidth": 0,
              "ticks": ""
             }
            },
            "marker": {
             "colorbar": {
              "outlinewidth": 0,
              "ticks": ""
             }
            },
            "type": "scatter3d"
           }
          ],
          "scattercarpet": [
           {
            "marker": {
             "colorbar": {
              "outlinewidth": 0,
              "ticks": ""
             }
            },
            "type": "scattercarpet"
           }
          ],
          "scattergeo": [
           {
            "marker": {
             "colorbar": {
              "outlinewidth": 0,
              "ticks": ""
             }
            },
            "type": "scattergeo"
           }
          ],
          "scattergl": [
           {
            "marker": {
             "colorbar": {
              "outlinewidth": 0,
              "ticks": ""
             }
            },
            "type": "scattergl"
           }
          ],
          "scattermap": [
           {
            "marker": {
             "colorbar": {
              "outlinewidth": 0,
              "ticks": ""
             }
            },
            "type": "scattermap"
           }
          ],
          "scattermapbox": [
           {
            "marker": {
             "colorbar": {
              "outlinewidth": 0,
              "ticks": ""
             }
            },
            "type": "scattermapbox"
           }
          ],
          "scatterpolar": [
           {
            "marker": {
             "colorbar": {
              "outlinewidth": 0,
              "ticks": ""
             }
            },
            "type": "scatterpolar"
           }
          ],
          "scatterpolargl": [
           {
            "marker": {
             "colorbar": {
              "outlinewidth": 0,
              "ticks": ""
             }
            },
            "type": "scatterpolargl"
           }
          ],
          "scatterternary": [
           {
            "marker": {
             "colorbar": {
              "outlinewidth": 0,
              "ticks": ""
             }
            },
            "type": "scatterternary"
           }
          ],
          "surface": [
           {
            "colorbar": {
             "outlinewidth": 0,
             "ticks": ""
            },
            "colorscale": [
             [
              0,
              "#0d0887"
             ],
             [
              0.1111111111111111,
              "#46039f"
             ],
             [
              0.2222222222222222,
              "#7201a8"
             ],
             [
              0.3333333333333333,
              "#9c179e"
             ],
             [
              0.4444444444444444,
              "#bd3786"
             ],
             [
              0.5555555555555556,
              "#d8576b"
             ],
             [
              0.6666666666666666,
              "#ed7953"
             ],
             [
              0.7777777777777778,
              "#fb9f3a"
             ],
             [
              0.8888888888888888,
              "#fdca26"
             ],
             [
              1,
              "#f0f921"
             ]
            ],
            "type": "surface"
           }
          ],
          "table": [
           {
            "cells": {
             "fill": {
              "color": "#EBF0F8"
             },
             "line": {
              "color": "white"
             }
            },
            "header": {
             "fill": {
              "color": "#C8D4E3"
             },
             "line": {
              "color": "white"
             }
            },
            "type": "table"
           }
          ]
         },
         "layout": {
          "annotationdefaults": {
           "arrowcolor": "#2a3f5f",
           "arrowhead": 0,
           "arrowwidth": 1
          },
          "autotypenumbers": "strict",
          "coloraxis": {
           "colorbar": {
            "outlinewidth": 0,
            "ticks": ""
           }
          },
          "colorscale": {
           "diverging": [
            [
             0,
             "#8e0152"
            ],
            [
             0.1,
             "#c51b7d"
            ],
            [
             0.2,
             "#de77ae"
            ],
            [
             0.3,
             "#f1b6da"
            ],
            [
             0.4,
             "#fde0ef"
            ],
            [
             0.5,
             "#f7f7f7"
            ],
            [
             0.6,
             "#e6f5d0"
            ],
            [
             0.7,
             "#b8e186"
            ],
            [
             0.8,
             "#7fbc41"
            ],
            [
             0.9,
             "#4d9221"
            ],
            [
             1,
             "#276419"
            ]
           ],
           "sequential": [
            [
             0,
             "#0d0887"
            ],
            [
             0.1111111111111111,
             "#46039f"
            ],
            [
             0.2222222222222222,
             "#7201a8"
            ],
            [
             0.3333333333333333,
             "#9c179e"
            ],
            [
             0.4444444444444444,
             "#bd3786"
            ],
            [
             0.5555555555555556,
             "#d8576b"
            ],
            [
             0.6666666666666666,
             "#ed7953"
            ],
            [
             0.7777777777777778,
             "#fb9f3a"
            ],
            [
             0.8888888888888888,
             "#fdca26"
            ],
            [
             1,
             "#f0f921"
            ]
           ],
           "sequentialminus": [
            [
             0,
             "#0d0887"
            ],
            [
             0.1111111111111111,
             "#46039f"
            ],
            [
             0.2222222222222222,
             "#7201a8"
            ],
            [
             0.3333333333333333,
             "#9c179e"
            ],
            [
             0.4444444444444444,
             "#bd3786"
            ],
            [
             0.5555555555555556,
             "#d8576b"
            ],
            [
             0.6666666666666666,
             "#ed7953"
            ],
            [
             0.7777777777777778,
             "#fb9f3a"
            ],
            [
             0.8888888888888888,
             "#fdca26"
            ],
            [
             1,
             "#f0f921"
            ]
           ]
          },
          "colorway": [
           "#636efa",
           "#EF553B",
           "#00cc96",
           "#ab63fa",
           "#FFA15A",
           "#19d3f3",
           "#FF6692",
           "#B6E880",
           "#FF97FF",
           "#FECB52"
          ],
          "font": {
           "color": "#2a3f5f"
          },
          "geo": {
           "bgcolor": "white",
           "lakecolor": "white",
           "landcolor": "white",
           "showlakes": true,
           "showland": true,
           "subunitcolor": "#C8D4E3"
          },
          "hoverlabel": {
           "align": "left"
          },
          "hovermode": "closest",
          "mapbox": {
           "style": "light"
          },
          "paper_bgcolor": "white",
          "plot_bgcolor": "white",
          "polar": {
           "angularaxis": {
            "gridcolor": "#EBF0F8",
            "linecolor": "#EBF0F8",
            "ticks": ""
           },
           "bgcolor": "white",
           "radialaxis": {
            "gridcolor": "#EBF0F8",
            "linecolor": "#EBF0F8",
            "ticks": ""
           }
          },
          "scene": {
           "xaxis": {
            "backgroundcolor": "white",
            "gridcolor": "#DFE8F3",
            "gridwidth": 2,
            "linecolor": "#EBF0F8",
            "showbackground": true,
            "ticks": "",
            "zerolinecolor": "#EBF0F8"
           },
           "yaxis": {
            "backgroundcolor": "white",
            "gridcolor": "#DFE8F3",
            "gridwidth": 2,
            "linecolor": "#EBF0F8",
            "showbackground": true,
            "ticks": "",
            "zerolinecolor": "#EBF0F8"
           },
           "zaxis": {
            "backgroundcolor": "white",
            "gridcolor": "#DFE8F3",
            "gridwidth": 2,
            "linecolor": "#EBF0F8",
            "showbackground": true,
            "ticks": "",
            "zerolinecolor": "#EBF0F8"
           }
          },
          "shapedefaults": {
           "line": {
            "color": "#2a3f5f"
           }
          },
          "ternary": {
           "aaxis": {
            "gridcolor": "#DFE8F3",
            "linecolor": "#A2B1C6",
            "ticks": ""
           },
           "baxis": {
            "gridcolor": "#DFE8F3",
            "linecolor": "#A2B1C6",
            "ticks": ""
           },
           "bgcolor": "white",
           "caxis": {
            "gridcolor": "#DFE8F3",
            "linecolor": "#A2B1C6",
            "ticks": ""
           }
          },
          "title": {
           "x": 0.05
          },
          "xaxis": {
           "automargin": true,
           "gridcolor": "#EBF0F8",
           "linecolor": "#EBF0F8",
           "ticks": "",
           "title": {
            "standoff": 15
           },
           "zerolinecolor": "#EBF0F8",
           "zerolinewidth": 2
          },
          "yaxis": {
           "automargin": true,
           "gridcolor": "#EBF0F8",
           "linecolor": "#EBF0F8",
           "ticks": "",
           "title": {
            "standoff": 15
           },
           "zerolinecolor": "#EBF0F8",
           "zerolinewidth": 2
          }
         }
        },
        "title": {
         "text": "Market Regimes with SPY and VIX (Training Period: 2018-01-01 to 2024-12-31)"
        },
        "xaxis": {
         "anchor": "y",
         "domain": [
          0,
          1
         ],
         "matches": "x2",
         "showticklabels": false
        },
        "xaxis2": {
         "anchor": "y2",
         "domain": [
          0,
          1
         ],
         "title": {
          "text": "Date"
         }
        },
        "yaxis": {
         "anchor": "x",
         "domain": [
          0.55,
          1
         ],
         "title": {
          "text": "SPY Price"
         }
        },
        "yaxis2": {
         "anchor": "x2",
         "domain": [
          0,
          0.45
         ],
         "title": {
          "text": "VIX"
         }
        }
       }
      }
     },
     "metadata": {},
     "output_type": "display_data"
    },
    {
     "data": {
      "application/vnd.plotly.v1+json": {
       "config": {
        "plotlyServerURL": "https://plot.ly"
       },
       "data": [
        {
         "colorscale": [
          [
           0,
           "rgb(247,251,255)"
          ],
          [
           0.125,
           "rgb(222,235,247)"
          ],
          [
           0.25,
           "rgb(198,219,239)"
          ],
          [
           0.375,
           "rgb(158,202,225)"
          ],
          [
           0.5,
           "rgb(107,174,214)"
          ],
          [
           0.625,
           "rgb(66,146,198)"
          ],
          [
           0.75,
           "rgb(33,113,181)"
          ],
          [
           0.875,
           "rgb(8,81,156)"
          ],
          [
           1,
           "rgb(8,48,107)"
          ]
         ],
         "text": {
          "bdata": "FK5H4XoU7j97FK5H4XqEP3sUrkfheqQ/AAAAAAAAAACF61G4HoXrP+xRuB6F68E/uB6F61G4rj97FK5H4XqUP3E9CtejcO0/",
          "dtype": "f8",
          "shape": "3, 3"
         },
         "textfont": {
          "size": 14
         },
         "texttemplate": "%{text:.2f}",
         "type": "heatmap",
         "x": [
          "Regime 0",
          "Regime 1",
          "Regime 2"
         ],
         "y": [
          "Regime 0",
          "Regime 1",
          "Regime 2"
         ],
         "z": {
          "bdata": "re8hHRkl7j9QLi6JaDmLP615lQsU4KY/6TCTthjjAzWUksgRYpjrP7C13bh3nsE/vHEgyS9nrj83q2hI7i+XP4uzKpENYO0/",
          "dtype": "f8",
          "shape": "3, 3"
         }
        }
       ],
       "layout": {
        "height": 600,
        "template": {
         "data": {
          "bar": [
           {
            "error_x": {
             "color": "#2a3f5f"
            },
            "error_y": {
             "color": "#2a3f5f"
            },
            "marker": {
             "line": {
              "color": "white",
              "width": 0.5
             },
             "pattern": {
              "fillmode": "overlay",
              "size": 10,
              "solidity": 0.2
             }
            },
            "type": "bar"
           }
          ],
          "barpolar": [
           {
            "marker": {
             "line": {
              "color": "white",
              "width": 0.5
             },
             "pattern": {
              "fillmode": "overlay",
              "size": 10,
              "solidity": 0.2
             }
            },
            "type": "barpolar"
           }
          ],
          "carpet": [
           {
            "aaxis": {
             "endlinecolor": "#2a3f5f",
             "gridcolor": "#C8D4E3",
             "linecolor": "#C8D4E3",
             "minorgridcolor": "#C8D4E3",
             "startlinecolor": "#2a3f5f"
            },
            "baxis": {
             "endlinecolor": "#2a3f5f",
             "gridcolor": "#C8D4E3",
             "linecolor": "#C8D4E3",
             "minorgridcolor": "#C8D4E3",
             "startlinecolor": "#2a3f5f"
            },
            "type": "carpet"
           }
          ],
          "choropleth": [
           {
            "colorbar": {
             "outlinewidth": 0,
             "ticks": ""
            },
            "type": "choropleth"
           }
          ],
          "contour": [
           {
            "colorbar": {
             "outlinewidth": 0,
             "ticks": ""
            },
            "colorscale": [
             [
              0,
              "#0d0887"
             ],
             [
              0.1111111111111111,
              "#46039f"
             ],
             [
              0.2222222222222222,
              "#7201a8"
             ],
             [
              0.3333333333333333,
              "#9c179e"
             ],
             [
              0.4444444444444444,
              "#bd3786"
             ],
             [
              0.5555555555555556,
              "#d8576b"
             ],
             [
              0.6666666666666666,
              "#ed7953"
             ],
             [
              0.7777777777777778,
              "#fb9f3a"
             ],
             [
              0.8888888888888888,
              "#fdca26"
             ],
             [
              1,
              "#f0f921"
             ]
            ],
            "type": "contour"
           }
          ],
          "contourcarpet": [
           {
            "colorbar": {
             "outlinewidth": 0,
             "ticks": ""
            },
            "type": "contourcarpet"
           }
          ],
          "heatmap": [
           {
            "colorbar": {
             "outlinewidth": 0,
             "ticks": ""
            },
            "colorscale": [
             [
              0,
              "#0d0887"
             ],
             [
              0.1111111111111111,
              "#46039f"
             ],
             [
              0.2222222222222222,
              "#7201a8"
             ],
             [
              0.3333333333333333,
              "#9c179e"
             ],
             [
              0.4444444444444444,
              "#bd3786"
             ],
             [
              0.5555555555555556,
              "#d8576b"
             ],
             [
              0.6666666666666666,
              "#ed7953"
             ],
             [
              0.7777777777777778,
              "#fb9f3a"
             ],
             [
              0.8888888888888888,
              "#fdca26"
             ],
             [
              1,
              "#f0f921"
             ]
            ],
            "type": "heatmap"
           }
          ],
          "histogram": [
           {
            "marker": {
             "pattern": {
              "fillmode": "overlay",
              "size": 10,
              "solidity": 0.2
             }
            },
            "type": "histogram"
           }
          ],
          "histogram2d": [
           {
            "colorbar": {
             "outlinewidth": 0,
             "ticks": ""
            },
            "colorscale": [
             [
              0,
              "#0d0887"
             ],
             [
              0.1111111111111111,
              "#46039f"
             ],
             [
              0.2222222222222222,
              "#7201a8"
             ],
             [
              0.3333333333333333,
              "#9c179e"
             ],
             [
              0.4444444444444444,
              "#bd3786"
             ],
             [
              0.5555555555555556,
              "#d8576b"
             ],
             [
              0.6666666666666666,
              "#ed7953"
             ],
             [
              0.7777777777777778,
              "#fb9f3a"
             ],
             [
              0.8888888888888888,
              "#fdca26"
             ],
             [
              1,
              "#f0f921"
             ]
            ],
            "type": "histogram2d"
           }
          ],
          "histogram2dcontour": [
           {
            "colorbar": {
             "outlinewidth": 0,
             "ticks": ""
            },
            "colorscale": [
             [
              0,
              "#0d0887"
             ],
             [
              0.1111111111111111,
              "#46039f"
             ],
             [
              0.2222222222222222,
              "#7201a8"
             ],
             [
              0.3333333333333333,
              "#9c179e"
             ],
             [
              0.4444444444444444,
              "#bd3786"
             ],
             [
              0.5555555555555556,
              "#d8576b"
             ],
             [
              0.6666666666666666,
              "#ed7953"
             ],
             [
              0.7777777777777778,
              "#fb9f3a"
             ],
             [
              0.8888888888888888,
              "#fdca26"
             ],
             [
              1,
              "#f0f921"
             ]
            ],
            "type": "histogram2dcontour"
           }
          ],
          "mesh3d": [
           {
            "colorbar": {
             "outlinewidth": 0,
             "ticks": ""
            },
            "type": "mesh3d"
           }
          ],
          "parcoords": [
           {
            "line": {
             "colorbar": {
              "outlinewidth": 0,
              "ticks": ""
             }
            },
            "type": "parcoords"
           }
          ],
          "pie": [
           {
            "automargin": true,
            "type": "pie"
           }
          ],
          "scatter": [
           {
            "fillpattern": {
             "fillmode": "overlay",
             "size": 10,
             "solidity": 0.2
            },
            "type": "scatter"
           }
          ],
          "scatter3d": [
           {
            "line": {
             "colorbar": {
              "outlinewidth": 0,
              "ticks": ""
             }
            },
            "marker": {
             "colorbar": {
              "outlinewidth": 0,
              "ticks": ""
             }
            },
            "type": "scatter3d"
           }
          ],
          "scattercarpet": [
           {
            "marker": {
             "colorbar": {
              "outlinewidth": 0,
              "ticks": ""
             }
            },
            "type": "scattercarpet"
           }
          ],
          "scattergeo": [
           {
            "marker": {
             "colorbar": {
              "outlinewidth": 0,
              "ticks": ""
             }
            },
            "type": "scattergeo"
           }
          ],
          "scattergl": [
           {
            "marker": {
             "colorbar": {
              "outlinewidth": 0,
              "ticks": ""
             }
            },
            "type": "scattergl"
           }
          ],
          "scattermap": [
           {
            "marker": {
             "colorbar": {
              "outlinewidth": 0,
              "ticks": ""
             }
            },
            "type": "scattermap"
           }
          ],
          "scattermapbox": [
           {
            "marker": {
             "colorbar": {
              "outlinewidth": 0,
              "ticks": ""
             }
            },
            "type": "scattermapbox"
           }
          ],
          "scatterpolar": [
           {
            "marker": {
             "colorbar": {
              "outlinewidth": 0,
              "ticks": ""
             }
            },
            "type": "scatterpolar"
           }
          ],
          "scatterpolargl": [
           {
            "marker": {
             "colorbar": {
              "outlinewidth": 0,
              "ticks": ""
             }
            },
            "type": "scatterpolargl"
           }
          ],
          "scatterternary": [
           {
            "marker": {
             "colorbar": {
              "outlinewidth": 0,
              "ticks": ""
             }
            },
            "type": "scatterternary"
           }
          ],
          "surface": [
           {
            "colorbar": {
             "outlinewidth": 0,
             "ticks": ""
            },
            "colorscale": [
             [
              0,
              "#0d0887"
             ],
             [
              0.1111111111111111,
              "#46039f"
             ],
             [
              0.2222222222222222,
              "#7201a8"
             ],
             [
              0.3333333333333333,
              "#9c179e"
             ],
             [
              0.4444444444444444,
              "#bd3786"
             ],
             [
              0.5555555555555556,
              "#d8576b"
             ],
             [
              0.6666666666666666,
              "#ed7953"
             ],
             [
              0.7777777777777778,
              "#fb9f3a"
             ],
             [
              0.8888888888888888,
              "#fdca26"
             ],
             [
              1,
              "#f0f921"
             ]
            ],
            "type": "surface"
           }
          ],
          "table": [
           {
            "cells": {
             "fill": {
              "color": "#EBF0F8"
             },
             "line": {
              "color": "white"
             }
            },
            "header": {
             "fill": {
              "color": "#C8D4E3"
             },
             "line": {
              "color": "white"
             }
            },
            "type": "table"
           }
          ]
         },
         "layout": {
          "annotationdefaults": {
           "arrowcolor": "#2a3f5f",
           "arrowhead": 0,
           "arrowwidth": 1
          },
          "autotypenumbers": "strict",
          "coloraxis": {
           "colorbar": {
            "outlinewidth": 0,
            "ticks": ""
           }
          },
          "colorscale": {
           "diverging": [
            [
             0,
             "#8e0152"
            ],
            [
             0.1,
             "#c51b7d"
            ],
            [
             0.2,
             "#de77ae"
            ],
            [
             0.3,
             "#f1b6da"
            ],
            [
             0.4,
             "#fde0ef"
            ],
            [
             0.5,
             "#f7f7f7"
            ],
            [
             0.6,
             "#e6f5d0"
            ],
            [
             0.7,
             "#b8e186"
            ],
            [
             0.8,
             "#7fbc41"
            ],
            [
             0.9,
             "#4d9221"
            ],
            [
             1,
             "#276419"
            ]
           ],
           "sequential": [
            [
             0,
             "#0d0887"
            ],
            [
             0.1111111111111111,
             "#46039f"
            ],
            [
             0.2222222222222222,
             "#7201a8"
            ],
            [
             0.3333333333333333,
             "#9c179e"
            ],
            [
             0.4444444444444444,
             "#bd3786"
            ],
            [
             0.5555555555555556,
             "#d8576b"
            ],
            [
             0.6666666666666666,
             "#ed7953"
            ],
            [
             0.7777777777777778,
             "#fb9f3a"
            ],
            [
             0.8888888888888888,
             "#fdca26"
            ],
            [
             1,
             "#f0f921"
            ]
           ],
           "sequentialminus": [
            [
             0,
             "#0d0887"
            ],
            [
             0.1111111111111111,
             "#46039f"
            ],
            [
             0.2222222222222222,
             "#7201a8"
            ],
            [
             0.3333333333333333,
             "#9c179e"
            ],
            [
             0.4444444444444444,
             "#bd3786"
            ],
            [
             0.5555555555555556,
             "#d8576b"
            ],
            [
             0.6666666666666666,
             "#ed7953"
            ],
            [
             0.7777777777777778,
             "#fb9f3a"
            ],
            [
             0.8888888888888888,
             "#fdca26"
            ],
            [
             1,
             "#f0f921"
            ]
           ]
          },
          "colorway": [
           "#636efa",
           "#EF553B",
           "#00cc96",
           "#ab63fa",
           "#FFA15A",
           "#19d3f3",
           "#FF6692",
           "#B6E880",
           "#FF97FF",
           "#FECB52"
          ],
          "font": {
           "color": "#2a3f5f"
          },
          "geo": {
           "bgcolor": "white",
           "lakecolor": "white",
           "landcolor": "white",
           "showlakes": true,
           "showland": true,
           "subunitcolor": "#C8D4E3"
          },
          "hoverlabel": {
           "align": "left"
          },
          "hovermode": "closest",
          "mapbox": {
           "style": "light"
          },
          "paper_bgcolor": "white",
          "plot_bgcolor": "white",
          "polar": {
           "angularaxis": {
            "gridcolor": "#EBF0F8",
            "linecolor": "#EBF0F8",
            "ticks": ""
           },
           "bgcolor": "white",
           "radialaxis": {
            "gridcolor": "#EBF0F8",
            "linecolor": "#EBF0F8",
            "ticks": ""
           }
          },
          "scene": {
           "xaxis": {
            "backgroundcolor": "white",
            "gridcolor": "#DFE8F3",
            "gridwidth": 2,
            "linecolor": "#EBF0F8",
            "showbackground": true,
            "ticks": "",
            "zerolinecolor": "#EBF0F8"
           },
           "yaxis": {
            "backgroundcolor": "white",
            "gridcolor": "#DFE8F3",
            "gridwidth": 2,
            "linecolor": "#EBF0F8",
            "showbackground": true,
            "ticks": "",
            "zerolinecolor": "#EBF0F8"
           },
           "zaxis": {
            "backgroundcolor": "white",
            "gridcolor": "#DFE8F3",
            "gridwidth": 2,
            "linecolor": "#EBF0F8",
            "showbackground": true,
            "ticks": "",
            "zerolinecolor": "#EBF0F8"
           }
          },
          "shapedefaults": {
           "line": {
            "color": "#2a3f5f"
           }
          },
          "ternary": {
           "aaxis": {
            "gridcolor": "#DFE8F3",
            "linecolor": "#A2B1C6",
            "ticks": ""
           },
           "baxis": {
            "gridcolor": "#DFE8F3",
            "linecolor": "#A2B1C6",
            "ticks": ""
           },
           "bgcolor": "white",
           "caxis": {
            "gridcolor": "#DFE8F3",
            "linecolor": "#A2B1C6",
            "ticks": ""
           }
          },
          "title": {
           "x": 0.05
          },
          "xaxis": {
           "automargin": true,
           "gridcolor": "#EBF0F8",
           "linecolor": "#EBF0F8",
           "ticks": "",
           "title": {
            "standoff": 15
           },
           "zerolinecolor": "#EBF0F8",
           "zerolinewidth": 2
          },
          "yaxis": {
           "automargin": true,
           "gridcolor": "#EBF0F8",
           "linecolor": "#EBF0F8",
           "ticks": "",
           "title": {
            "standoff": 15
           },
           "zerolinecolor": "#EBF0F8",
           "zerolinewidth": 2
          }
         }
        },
        "title": {
         "text": "Regime Transition Probabilities"
        },
        "width": 700,
        "xaxis": {
         "title": {
          "text": "To Regime"
         }
        },
        "yaxis": {
         "title": {
          "text": "From Regime"
         }
        }
       }
      }
     },
     "metadata": {},
     "output_type": "display_data"
    },
    {
     "name": "stdout",
     "output_type": "stream",
     "text": [
      "\n",
      "Stationary Distribution:\n",
      "Regime 0: 44.77%\n",
      "Regime 1: 11.51%\n",
      "Regime 2: 43.71%\n"
     ]
    },
    {
     "data": {
      "application/vnd.plotly.v1+json": {
       "config": {
        "plotlyServerURL": "https://plot.ly"
       },
       "data": [
        {
         "domain": {
          "x": [
           0,
           1
          ],
          "y": [
           0,
           1
          ]
         },
         "hovertemplate": "label=%{label}<br>value=%{value}<extra></extra>",
         "labels": [
          "Regime 0",
          "Regime 1",
          "Regime 2"
         ],
         "legendgroup": "",
         "name": "",
         "showlegend": true,
         "textinfo": "percent+label",
         "textposition": "inside",
         "type": "pie",
         "values": {
          "bdata": "QXS5phVjRkBhh+uUfwcnQOepC3QK20VA",
          "dtype": "f8"
         }
        }
       ],
       "layout": {
        "legend": {
         "tracegroupgap": 0
        },
        "piecolorway": [
         "rgb(102,194,165)",
         "rgb(252,141,98)",
         "rgb(141,160,203)"
        ],
        "template": {
         "data": {
          "bar": [
           {
            "error_x": {
             "color": "#2a3f5f"
            },
            "error_y": {
             "color": "#2a3f5f"
            },
            "marker": {
             "line": {
              "color": "#E5ECF6",
              "width": 0.5
             },
             "pattern": {
              "fillmode": "overlay",
              "size": 10,
              "solidity": 0.2
             }
            },
            "type": "bar"
           }
          ],
          "barpolar": [
           {
            "marker": {
             "line": {
              "color": "#E5ECF6",
              "width": 0.5
             },
             "pattern": {
              "fillmode": "overlay",
              "size": 10,
              "solidity": 0.2
             }
            },
            "type": "barpolar"
           }
          ],
          "carpet": [
           {
            "aaxis": {
             "endlinecolor": "#2a3f5f",
             "gridcolor": "white",
             "linecolor": "white",
             "minorgridcolor": "white",
             "startlinecolor": "#2a3f5f"
            },
            "baxis": {
             "endlinecolor": "#2a3f5f",
             "gridcolor": "white",
             "linecolor": "white",
             "minorgridcolor": "white",
             "startlinecolor": "#2a3f5f"
            },
            "type": "carpet"
           }
          ],
          "choropleth": [
           {
            "colorbar": {
             "outlinewidth": 0,
             "ticks": ""
            },
            "type": "choropleth"
           }
          ],
          "contour": [
           {
            "colorbar": {
             "outlinewidth": 0,
             "ticks": ""
            },
            "colorscale": [
             [
              0,
              "#0d0887"
             ],
             [
              0.1111111111111111,
              "#46039f"
             ],
             [
              0.2222222222222222,
              "#7201a8"
             ],
             [
              0.3333333333333333,
              "#9c179e"
             ],
             [
              0.4444444444444444,
              "#bd3786"
             ],
             [
              0.5555555555555556,
              "#d8576b"
             ],
             [
              0.6666666666666666,
              "#ed7953"
             ],
             [
              0.7777777777777778,
              "#fb9f3a"
             ],
             [
              0.8888888888888888,
              "#fdca26"
             ],
             [
              1,
              "#f0f921"
             ]
            ],
            "type": "contour"
           }
          ],
          "contourcarpet": [
           {
            "colorbar": {
             "outlinewidth": 0,
             "ticks": ""
            },
            "type": "contourcarpet"
           }
          ],
          "heatmap": [
           {
            "colorbar": {
             "outlinewidth": 0,
             "ticks": ""
            },
            "colorscale": [
             [
              0,
              "#0d0887"
             ],
             [
              0.1111111111111111,
              "#46039f"
             ],
             [
              0.2222222222222222,
              "#7201a8"
             ],
             [
              0.3333333333333333,
              "#9c179e"
             ],
             [
              0.4444444444444444,
              "#bd3786"
             ],
             [
              0.5555555555555556,
              "#d8576b"
             ],
             [
              0.6666666666666666,
              "#ed7953"
             ],
             [
              0.7777777777777778,
              "#fb9f3a"
             ],
             [
              0.8888888888888888,
              "#fdca26"
             ],
             [
              1,
              "#f0f921"
             ]
            ],
            "type": "heatmap"
           }
          ],
          "histogram": [
           {
            "marker": {
             "pattern": {
              "fillmode": "overlay",
              "size": 10,
              "solidity": 0.2
             }
            },
            "type": "histogram"
           }
          ],
          "histogram2d": [
           {
            "colorbar": {
             "outlinewidth": 0,
             "ticks": ""
            },
            "colorscale": [
             [
              0,
              "#0d0887"
             ],
             [
              0.1111111111111111,
              "#46039f"
             ],
             [
              0.2222222222222222,
              "#7201a8"
             ],
             [
              0.3333333333333333,
              "#9c179e"
             ],
             [
              0.4444444444444444,
              "#bd3786"
             ],
             [
              0.5555555555555556,
              "#d8576b"
             ],
             [
              0.6666666666666666,
              "#ed7953"
             ],
             [
              0.7777777777777778,
              "#fb9f3a"
             ],
             [
              0.8888888888888888,
              "#fdca26"
             ],
             [
              1,
              "#f0f921"
             ]
            ],
            "type": "histogram2d"
           }
          ],
          "histogram2dcontour": [
           {
            "colorbar": {
             "outlinewidth": 0,
             "ticks": ""
            },
            "colorscale": [
             [
              0,
              "#0d0887"
             ],
             [
              0.1111111111111111,
              "#46039f"
             ],
             [
              0.2222222222222222,
              "#7201a8"
             ],
             [
              0.3333333333333333,
              "#9c179e"
             ],
             [
              0.4444444444444444,
              "#bd3786"
             ],
             [
              0.5555555555555556,
              "#d8576b"
             ],
             [
              0.6666666666666666,
              "#ed7953"
             ],
             [
              0.7777777777777778,
              "#fb9f3a"
             ],
             [
              0.8888888888888888,
              "#fdca26"
             ],
             [
              1,
              "#f0f921"
             ]
            ],
            "type": "histogram2dcontour"
           }
          ],
          "mesh3d": [
           {
            "colorbar": {
             "outlinewidth": 0,
             "ticks": ""
            },
            "type": "mesh3d"
           }
          ],
          "parcoords": [
           {
            "line": {
             "colorbar": {
              "outlinewidth": 0,
              "ticks": ""
             }
            },
            "type": "parcoords"
           }
          ],
          "pie": [
           {
            "automargin": true,
            "type": "pie"
           }
          ],
          "scatter": [
           {
            "fillpattern": {
             "fillmode": "overlay",
             "size": 10,
             "solidity": 0.2
            },
            "type": "scatter"
           }
          ],
          "scatter3d": [
           {
            "line": {
             "colorbar": {
              "outlinewidth": 0,
              "ticks": ""
             }
            },
            "marker": {
             "colorbar": {
              "outlinewidth": 0,
              "ticks": ""
             }
            },
            "type": "scatter3d"
           }
          ],
          "scattercarpet": [
           {
            "marker": {
             "colorbar": {
              "outlinewidth": 0,
              "ticks": ""
             }
            },
            "type": "scattercarpet"
           }
          ],
          "scattergeo": [
           {
            "marker": {
             "colorbar": {
              "outlinewidth": 0,
              "ticks": ""
             }
            },
            "type": "scattergeo"
           }
          ],
          "scattergl": [
           {
            "marker": {
             "colorbar": {
              "outlinewidth": 0,
              "ticks": ""
             }
            },
            "type": "scattergl"
           }
          ],
          "scattermap": [
           {
            "marker": {
             "colorbar": {
              "outlinewidth": 0,
              "ticks": ""
             }
            },
            "type": "scattermap"
           }
          ],
          "scattermapbox": [
           {
            "marker": {
             "colorbar": {
              "outlinewidth": 0,
              "ticks": ""
             }
            },
            "type": "scattermapbox"
           }
          ],
          "scatterpolar": [
           {
            "marker": {
             "colorbar": {
              "outlinewidth": 0,
              "ticks": ""
             }
            },
            "type": "scatterpolar"
           }
          ],
          "scatterpolargl": [
           {
            "marker": {
             "colorbar": {
              "outlinewidth": 0,
              "ticks": ""
             }
            },
            "type": "scatterpolargl"
           }
          ],
          "scatterternary": [
           {
            "marker": {
             "colorbar": {
              "outlinewidth": 0,
              "ticks": ""
             }
            },
            "type": "scatterternary"
           }
          ],
          "surface": [
           {
            "colorbar": {
             "outlinewidth": 0,
             "ticks": ""
            },
            "colorscale": [
             [
              0,
              "#0d0887"
             ],
             [
              0.1111111111111111,
              "#46039f"
             ],
             [
              0.2222222222222222,
              "#7201a8"
             ],
             [
              0.3333333333333333,
              "#9c179e"
             ],
             [
              0.4444444444444444,
              "#bd3786"
             ],
             [
              0.5555555555555556,
              "#d8576b"
             ],
             [
              0.6666666666666666,
              "#ed7953"
             ],
             [
              0.7777777777777778,
              "#fb9f3a"
             ],
             [
              0.8888888888888888,
              "#fdca26"
             ],
             [
              1,
              "#f0f921"
             ]
            ],
            "type": "surface"
           }
          ],
          "table": [
           {
            "cells": {
             "fill": {
              "color": "#EBF0F8"
             },
             "line": {
              "color": "white"
             }
            },
            "header": {
             "fill": {
              "color": "#C8D4E3"
             },
             "line": {
              "color": "white"
             }
            },
            "type": "table"
           }
          ]
         },
         "layout": {
          "annotationdefaults": {
           "arrowcolor": "#2a3f5f",
           "arrowhead": 0,
           "arrowwidth": 1
          },
          "autotypenumbers": "strict",
          "coloraxis": {
           "colorbar": {
            "outlinewidth": 0,
            "ticks": ""
           }
          },
          "colorscale": {
           "diverging": [
            [
             0,
             "#8e0152"
            ],
            [
             0.1,
             "#c51b7d"
            ],
            [
             0.2,
             "#de77ae"
            ],
            [
             0.3,
             "#f1b6da"
            ],
            [
             0.4,
             "#fde0ef"
            ],
            [
             0.5,
             "#f7f7f7"
            ],
            [
             0.6,
             "#e6f5d0"
            ],
            [
             0.7,
             "#b8e186"
            ],
            [
             0.8,
             "#7fbc41"
            ],
            [
             0.9,
             "#4d9221"
            ],
            [
             1,
             "#276419"
            ]
           ],
           "sequential": [
            [
             0,
             "#0d0887"
            ],
            [
             0.1111111111111111,
             "#46039f"
            ],
            [
             0.2222222222222222,
             "#7201a8"
            ],
            [
             0.3333333333333333,
             "#9c179e"
            ],
            [
             0.4444444444444444,
             "#bd3786"
            ],
            [
             0.5555555555555556,
             "#d8576b"
            ],
            [
             0.6666666666666666,
             "#ed7953"
            ],
            [
             0.7777777777777778,
             "#fb9f3a"
            ],
            [
             0.8888888888888888,
             "#fdca26"
            ],
            [
             1,
             "#f0f921"
            ]
           ],
           "sequentialminus": [
            [
             0,
             "#0d0887"
            ],
            [
             0.1111111111111111,
             "#46039f"
            ],
            [
             0.2222222222222222,
             "#7201a8"
            ],
            [
             0.3333333333333333,
             "#9c179e"
            ],
            [
             0.4444444444444444,
             "#bd3786"
            ],
            [
             0.5555555555555556,
             "#d8576b"
            ],
            [
             0.6666666666666666,
             "#ed7953"
            ],
            [
             0.7777777777777778,
             "#fb9f3a"
            ],
            [
             0.8888888888888888,
             "#fdca26"
            ],
            [
             1,
             "#f0f921"
            ]
           ]
          },
          "colorway": [
           "#636efa",
           "#EF553B",
           "#00cc96",
           "#ab63fa",
           "#FFA15A",
           "#19d3f3",
           "#FF6692",
           "#B6E880",
           "#FF97FF",
           "#FECB52"
          ],
          "font": {
           "color": "#2a3f5f"
          },
          "geo": {
           "bgcolor": "white",
           "lakecolor": "white",
           "landcolor": "#E5ECF6",
           "showlakes": true,
           "showland": true,
           "subunitcolor": "white"
          },
          "hoverlabel": {
           "align": "left"
          },
          "hovermode": "closest",
          "mapbox": {
           "style": "light"
          },
          "paper_bgcolor": "white",
          "plot_bgcolor": "#E5ECF6",
          "polar": {
           "angularaxis": {
            "gridcolor": "white",
            "linecolor": "white",
            "ticks": ""
           },
           "bgcolor": "#E5ECF6",
           "radialaxis": {
            "gridcolor": "white",
            "linecolor": "white",
            "ticks": ""
           }
          },
          "scene": {
           "xaxis": {
            "backgroundcolor": "#E5ECF6",
            "gridcolor": "white",
            "gridwidth": 2,
            "linecolor": "white",
            "showbackground": true,
            "ticks": "",
            "zerolinecolor": "white"
           },
           "yaxis": {
            "backgroundcolor": "#E5ECF6",
            "gridcolor": "white",
            "gridwidth": 2,
            "linecolor": "white",
            "showbackground": true,
            "ticks": "",
            "zerolinecolor": "white"
           },
           "zaxis": {
            "backgroundcolor": "#E5ECF6",
            "gridcolor": "white",
            "gridwidth": 2,
            "linecolor": "white",
            "showbackground": true,
            "ticks": "",
            "zerolinecolor": "white"
           }
          },
          "shapedefaults": {
           "line": {
            "color": "#2a3f5f"
           }
          },
          "ternary": {
           "aaxis": {
            "gridcolor": "white",
            "linecolor": "white",
            "ticks": ""
           },
           "baxis": {
            "gridcolor": "white",
            "linecolor": "white",
            "ticks": ""
           },
           "bgcolor": "#E5ECF6",
           "caxis": {
            "gridcolor": "white",
            "linecolor": "white",
            "ticks": ""
           }
          },
          "title": {
           "x": 0.05
          },
          "xaxis": {
           "automargin": true,
           "gridcolor": "white",
           "linecolor": "white",
           "ticks": "",
           "title": {
            "standoff": 15
           },
           "zerolinecolor": "white",
           "zerolinewidth": 2
          },
          "yaxis": {
           "automargin": true,
           "gridcolor": "white",
           "linecolor": "white",
           "ticks": "",
           "title": {
            "standoff": 15
           },
           "zerolinecolor": "white",
           "zerolinewidth": 2
          }
         }
        },
        "title": {
         "text": "Stationary Distribution of Regimes"
        },
        "uniformtext": {
         "minsize": 12,
         "mode": "hide"
        }
       }
      }
     },
     "metadata": {},
     "output_type": "display_data"
    }
   ],
   "source": [
    "# Visualize the training data with regime classifications using Plotly\n",
    "training_with_predictions = training_data.copy()\n",
    "training_with_predictions['Regime'] = train_predictions\n",
    "\n",
    "# Create a categorical color map for regimes\n",
    "regime_colors = px.colors.qualitative.Set2[:hidden_states]\n",
    "\n",
    "# Create subplot figures for SPY and VIX\n",
    "fig = make_subplots(rows=2, cols=1, \n",
    "                   shared_xaxes=True,\n",
    "                   vertical_spacing=0.1,\n",
    "                   subplot_titles=('SPY Close Price by Regime', 'VIX by Regime'))\n",
    "\n",
    "# SPY price by regime\n",
    "for regime in range(hidden_states):\n",
    "    regime_data = training_with_predictions[training_with_predictions['Regime'] == regime]\n",
    "    fig.add_trace(\n",
    "        go.Scatter(\n",
    "            x=regime_data['Date'], \n",
    "            y=regime_data['Close'],\n",
    "            mode='markers',\n",
    "            marker=dict(color=regime_colors[regime], size=6),\n",
    "            name=f'Regime {regime}',\n",
    "            showlegend=True\n",
    "        ),\n",
    "        row=1, col=1\n",
    "    )\n",
    "\n",
    "# VIX by regime\n",
    "for regime in range(hidden_states):\n",
    "    regime_data = training_with_predictions[training_with_predictions['Regime'] == regime]\n",
    "    fig.add_trace(\n",
    "        go.Scatter(\n",
    "            x=regime_data['Date'], \n",
    "            y=regime_data['VIX'],\n",
    "            mode='markers',\n",
    "            marker=dict(color=regime_colors[regime], size=6),\n",
    "            name=f'Regime {regime}',\n",
    "            showlegend=False\n",
    "        ),\n",
    "        row=2, col=1\n",
    "    )\n",
    "\n",
    "fig.update_layout(\n",
    "    height=800,\n",
    "    title_text=f'Market Regimes with SPY and VIX (Training Period: {train_start_date} to {train_end_date})',\n",
    "    template='plotly_white',\n",
    "    legend_title='Regime',\n",
    "    hovermode='closest'\n",
    ")\n",
    "\n",
    "fig.update_xaxes(title_text=\"Date\", row=2, col=1)\n",
    "fig.update_yaxes(title_text=\"SPY Price\", row=1, col=1)\n",
    "fig.update_yaxes(title_text=\"VIX\", row=2, col=1)\n",
    "\n",
    "fig.show()\n",
    "\n",
    "# Visualize transition probabilities with Plotly\n",
    "transition_matrix = model.transmat_\n",
    "regime_labels = [f\"Regime {i}\" for i in range(hidden_states)]\n",
    "\n",
    "# Create the heatmap\n",
    "fig_heatmap = go.Figure(data=go.Heatmap(\n",
    "    z=transition_matrix,\n",
    "    x=regime_labels,\n",
    "    y=regime_labels,\n",
    "    colorscale='Blues',\n",
    "    text=np.round(transition_matrix, 2),\n",
    "    texttemplate=\"%{text:.2f}\",\n",
    "    textfont={\"size\": 14}\n",
    "))\n",
    "\n",
    "fig_heatmap.update_layout(\n",
    "    title='Regime Transition Probabilities',\n",
    "    xaxis_title='To Regime',\n",
    "    yaxis_title='From Regime',\n",
    "    width=700,\n",
    "    height=600,\n",
    "    template='plotly_white'\n",
    ")\n",
    "\n",
    "fig_heatmap.show()\n",
    "\n",
    "# Show stationary distribution\n",
    "stationary_dist = model.get_stationary_distribution()\n",
    "print(\"\\nStationary Distribution:\")\n",
    "for i in range(hidden_states):\n",
    "    print(f\"Regime {i}: {stationary_dist[i]*100:.2f}%\")\n",
    "\n",
    "# Create a pie chart for the stationary distribution\n",
    "fig_pie = px.pie(\n",
    "    values=stationary_dist * 100,\n",
    "    names=regime_labels,\n",
    "    title='Stationary Distribution of Regimes',\n",
    "    color_discrete_sequence=regime_colors\n",
    ")\n",
    "\n",
    "fig_pie.update_traces(textinfo='percent+label', textposition='inside')\n",
    "fig_pie.update_layout(uniformtext_minsize=12, uniformtext_mode='hide')\n",
    "fig_pie.show()"
   ]
  },
  {
   "cell_type": "code",
   "execution_count": 16,
   "metadata": {},
   "outputs": [],
   "source": [
    "# Function to predict regimes for a specific date range\n",
    "def predict_regimes(model, data, start_date, end_date):\n",
    "    \"\"\"\n",
    "    Predict market regimes for a specific date range using the trained HMM model\n",
    "    \n",
    "    Parameters:\n",
    "    -----------\n",
    "    model : hmm.GaussianHMM\n",
    "        The trained HMM model\n",
    "    data : DataFrame\n",
    "        The full dataset with calculated indicators\n",
    "    start_date : str\n",
    "        Start date for prediction period in 'YYYY-MM-DD' format\n",
    "    end_date : str\n",
    "        End date for prediction period in 'YYYY-MM-DD' format\n",
    "        \n",
    "    Returns:\n",
    "    --------\n",
    "    DataFrame with date, close price, VIX, and predicted regime\n",
    "    \"\"\"\n",
    "    # Filter data for prediction period\n",
    "    pred_data = data[(data['Date'] >= start_date) & (data['Date'] <= end_date)].copy()\n",
    "    \n",
    "    if len(pred_data) == 0:\n",
    "        print(f\"No data available for period {start_date} to {end_date}\")\n",
    "        if end_date > data['Date'].max().strftime('%Y-%m-%d'):\n",
    "            print(\"NOTE: Prediction period extends into the future\")\n",
    "            # Generate future dates for forecasting\n",
    "            last_date = data['Date'].max()\n",
    "            future_end = datetime.strptime(end_date, '%Y-%m-%d')\n",
    "            \n",
    "            # Get the most recent 30 days of data for calculating indicators\n",
    "            recent_data = data.tail(30).copy()\n",
    "            \n",
    "            # For future dates, we'll extend from the last value and assume zero returns\n",
    "            # This is a simplification - in reality you might want to use a forecasting model\n",
    "            current_date = last_date + timedelta(days=1)\n",
    "            while current_date <= future_end:\n",
    "                if current_date.weekday() < 5:  # Only include weekdays\n",
    "                    new_row = {\n",
    "                        'Date': current_date,\n",
    "                        'Close': recent_data['Close'].iloc[-1],  # Use the last known close price\n",
    "                        'High': recent_data['Close'].iloc[-1],\n",
    "                        'Low': recent_data['Close'].iloc[-1],\n",
    "                        'Open': recent_data['Close'].iloc[-1],\n",
    "                        'Volume': recent_data['Volume'].mean(),  # Use average volume\n",
    "                        'VIX': recent_data['VIX'].mean(),  # Use average VIX\n",
    "                        'Volatility': recent_data['Volatility'].mean(),  # Use average volatility\n",
    "                        'MA': recent_data['MA'].iloc[-1],  # Use the last MA\n",
    "                        'Return': 0,  # Assume zero returns for future dates\n",
    "                        'VIX_Ratio': 1.0  # Assume neutral VIX ratio\n",
    "                    }\n",
    "                    recent_data = pd.concat([recent_data, pd.DataFrame([new_row])], ignore_index=True)\n",
    "                current_date += timedelta(days=1)\n",
    "            \n",
    "            # Keep only the future dates we generated\n",
    "            future_data = recent_data[recent_data['Date'] > last_date].copy()\n",
    "            pred_data = future_data[(future_data['Date'] >= start_date) & (future_data['Date'] <= end_date)].copy()\n",
    "    \n",
    "    # Prepare observations for prediction\n",
    "    obs = np.column_stack([\n",
    "        pred_data['Volatility'].values, \n",
    "        pred_data['Return'].values,\n",
    "        pred_data['VIX_Ratio'].values\n",
    "    ])\n",
    "    \n",
    "    # Predict regimes\n",
    "    predictions = model.predict(obs)\n",
    "    \n",
    "    # Add predictions to dataframe\n",
    "    pred_data['Predicted_Regime'] = predictions\n",
    "    \n",
    "    print(f\"Predicted regimes for period {start_date} to {end_date}\")\n",
    "    print(f\"Data points: {len(pred_data)}\")\n",
    "    \n",
    "    # Calculate regime distribution\n",
    "    regime_counts = pd.Series(predictions).value_counts(normalize=True) * 100\n",
    "    print(\"\\nRegime Distribution:\")\n",
    "    for regime, percentage in regime_counts.items():\n",
    "        print(f\"Regime {regime}: {percentage:.2f}%\")\n",
    "    \n",
    "    return pred_data[['Date', 'Close', 'VIX', 'Volatility', 'Return', 'Predicted_Regime']]"
   ]
  },
  {
   "cell_type": "code",
   "execution_count": 17,
   "metadata": {},
   "outputs": [
    {
     "name": "stdout",
     "output_type": "stream",
     "text": [
      "Predicted regimes for period 2025-01-11 to 2025-04-11\n",
      "Data points: 62\n",
      "\n",
      "Regime Distribution:\n",
      "Regime 2: 43.55%\n",
      "Regime 1: 40.32%\n",
      "Regime 0: 16.13%\n"
     ]
    },
    {
     "data": {
      "application/vnd.plotly.v1+json": {
       "config": {
        "plotlyServerURL": "https://plot.ly"
       },
       "data": [
        {
         "marker": {
          "color": "rgb(102,194,165)",
          "size": 6
         },
         "mode": "markers",
         "name": "Regime 0",
         "showlegend": true,
         "type": "scatter",
         "x": [
          "2025-01-13T00:00:00.000000000",
          "2025-02-05T00:00:00.000000000",
          "2025-02-06T00:00:00.000000000",
          "2025-02-07T00:00:00.000000000",
          "2025-02-10T00:00:00.000000000",
          "2025-02-11T00:00:00.000000000",
          "2025-02-12T00:00:00.000000000",
          "2025-02-13T00:00:00.000000000",
          "2025-02-14T00:00:00.000000000",
          "2025-02-18T00:00:00.000000000"
         ],
         "xaxis": "x",
         "y": {
          "bdata": "AAAAoCsdgkAAAAAgQ9OCQAAAACAD5IJAAAAA4L63gkAAAACASdiCQAAAAOD024JAAAAAQGfMgkAAAADgNf+CQAAAAKD4/oJAAAAAgD8Ng0A=",
          "dtype": "f8"
         },
         "yaxis": "y"
        },
        {
         "marker": {
          "color": "rgb(252,141,98)",
          "size": 6
         },
         "mode": "markers",
         "name": "Regime 1",
         "showlegend": true,
         "type": "scatter",
         "x": [
          "2025-01-22T00:00:00.000000000",
          "2025-01-23T00:00:00.000000000",
          "2025-01-24T00:00:00.000000000",
          "2025-01-27T00:00:00.000000000",
          "2025-01-28T00:00:00.000000000",
          "2025-02-27T00:00:00.000000000",
          "2025-02-28T00:00:00.000000000",
          "2025-03-03T00:00:00.000000000",
          "2025-03-04T00:00:00.000000000",
          "2025-03-05T00:00:00.000000000",
          "2025-03-06T00:00:00.000000000",
          "2025-03-07T00:00:00.000000000",
          "2025-03-10T00:00:00.000000000",
          "2025-03-11T00:00:00.000000000",
          "2025-03-12T00:00:00.000000000",
          "2025-03-13T00:00:00.000000000",
          "2025-03-14T00:00:00.000000000",
          "2025-03-17T00:00:00.000000000",
          "2025-03-18T00:00:00.000000000",
          "2025-04-03T00:00:00.000000000",
          "2025-04-04T00:00:00.000000000",
          "2025-04-07T00:00:00.000000000",
          "2025-04-08T00:00:00.000000000",
          "2025-04-09T00:00:00.000000000",
          "2025-04-10T00:00:00.000000000"
         ],
         "xaxis": "x",
         "y": {
          "bdata": "AAAAIPjkgkAAAADAXv+CQAAAACAs8YJAAAAAQJSsgkAAAADgp9WCQAAAAMBcOoJAAAAAAC+DgkAAAABAJzCCQAAAAAAK+YFAAAAAgH0qgkAAAABg8NeBQAAAAKCK8YFAAAAAoDB3gUAAAACABVKBQAAAAACNaYFAAAAAICEugUAAAADg+YiBQAAAAKCXq4FAAAAAALN6gUAAAACgmcWAQAAAAOB6lH9AAAAAgBSGf0AAAAAgrgd/QAAAAMD1JIFAAAAA4KNkgEA=",
          "dtype": "f8"
         },
         "yaxis": "y"
        },
        {
         "marker": {
          "color": "rgb(141,160,203)",
          "size": 6
         },
         "mode": "markers",
         "name": "Regime 2",
         "showlegend": true,
         "type": "scatter",
         "x": [
          "2025-01-14T00:00:00.000000000",
          "2025-01-15T00:00:00.000000000",
          "2025-01-16T00:00:00.000000000",
          "2025-01-17T00:00:00.000000000",
          "2025-01-21T00:00:00.000000000",
          "2025-01-29T00:00:00.000000000",
          "2025-01-30T00:00:00.000000000",
          "2025-01-31T00:00:00.000000000",
          "2025-02-03T00:00:00.000000000",
          "2025-02-04T00:00:00.000000000",
          "2025-02-19T00:00:00.000000000",
          "2025-02-20T00:00:00.000000000",
          "2025-02-21T00:00:00.000000000",
          "2025-02-24T00:00:00.000000000",
          "2025-02-25T00:00:00.000000000",
          "2025-02-26T00:00:00.000000000",
          "2025-03-19T00:00:00.000000000",
          "2025-03-20T00:00:00.000000000",
          "2025-03-21T00:00:00.000000000",
          "2025-03-24T00:00:00.000000000",
          "2025-03-25T00:00:00.000000000",
          "2025-03-26T00:00:00.000000000",
          "2025-03-27T00:00:00.000000000",
          "2025-03-28T00:00:00.000000000",
          "2025-03-31T00:00:00.000000000",
          "2025-04-01T00:00:00.000000000",
          "2025-04-02T00:00:00.000000000"
         ],
         "xaxis": "x",
         "y": {
          "bdata": "AAAAII0jgkAAAACABHiCQAAAAMDsboJAAAAAYE2egkAAAABA7smCQAAAAGAKwIJAAAAAgM3ZgkAAAADAHsCCQAAAAEDRn4JAAAAAIM2/gkAAAADAuxiDQAAAACBlBINAAAAAICCxgkAAAADgWZuCQAAAAICpg4JAAAAAAA6GgkAAAADAbquBQAAAACBanoFAAAAAANefgUAAAADgo/CBQAAAACCu+4FAAAAAYLjEgUAAAADgo7iBQAAAAKBHXYFAAAAAwB57gUAAAACAwoeBQAAAAAAppIFA",
          "dtype": "f8"
         },
         "yaxis": "y"
        },
        {
         "line": {
          "color": "rgba(0,0,0,0.3)"
         },
         "mode": "lines",
         "name": "SPY Price",
         "showlegend": true,
         "type": "scatter",
         "x": [
          "2025-01-13T00:00:00.000000000",
          "2025-01-14T00:00:00.000000000",
          "2025-01-15T00:00:00.000000000",
          "2025-01-16T00:00:00.000000000",
          "2025-01-17T00:00:00.000000000",
          "2025-01-21T00:00:00.000000000",
          "2025-01-22T00:00:00.000000000",
          "2025-01-23T00:00:00.000000000",
          "2025-01-24T00:00:00.000000000",
          "2025-01-27T00:00:00.000000000",
          "2025-01-28T00:00:00.000000000",
          "2025-01-29T00:00:00.000000000",
          "2025-01-30T00:00:00.000000000",
          "2025-01-31T00:00:00.000000000",
          "2025-02-03T00:00:00.000000000",
          "2025-02-04T00:00:00.000000000",
          "2025-02-05T00:00:00.000000000",
          "2025-02-06T00:00:00.000000000",
          "2025-02-07T00:00:00.000000000",
          "2025-02-10T00:00:00.000000000",
          "2025-02-11T00:00:00.000000000",
          "2025-02-12T00:00:00.000000000",
          "2025-02-13T00:00:00.000000000",
          "2025-02-14T00:00:00.000000000",
          "2025-02-18T00:00:00.000000000",
          "2025-02-19T00:00:00.000000000",
          "2025-02-20T00:00:00.000000000",
          "2025-02-21T00:00:00.000000000",
          "2025-02-24T00:00:00.000000000",
          "2025-02-25T00:00:00.000000000",
          "2025-02-26T00:00:00.000000000",
          "2025-02-27T00:00:00.000000000",
          "2025-02-28T00:00:00.000000000",
          "2025-03-03T00:00:00.000000000",
          "2025-03-04T00:00:00.000000000",
          "2025-03-05T00:00:00.000000000",
          "2025-03-06T00:00:00.000000000",
          "2025-03-07T00:00:00.000000000",
          "2025-03-10T00:00:00.000000000",
          "2025-03-11T00:00:00.000000000",
          "2025-03-12T00:00:00.000000000",
          "2025-03-13T00:00:00.000000000",
          "2025-03-14T00:00:00.000000000",
          "2025-03-17T00:00:00.000000000",
          "2025-03-18T00:00:00.000000000",
          "2025-03-19T00:00:00.000000000",
          "2025-03-20T00:00:00.000000000",
          "2025-03-21T00:00:00.000000000",
          "2025-03-24T00:00:00.000000000",
          "2025-03-25T00:00:00.000000000",
          "2025-03-26T00:00:00.000000000",
          "2025-03-27T00:00:00.000000000",
          "2025-03-28T00:00:00.000000000",
          "2025-03-31T00:00:00.000000000",
          "2025-04-01T00:00:00.000000000",
          "2025-04-02T00:00:00.000000000",
          "2025-04-03T00:00:00.000000000",
          "2025-04-04T00:00:00.000000000",
          "2025-04-07T00:00:00.000000000",
          "2025-04-08T00:00:00.000000000",
          "2025-04-09T00:00:00.000000000",
          "2025-04-10T00:00:00.000000000"
         ],
         "xaxis": "x",
         "y": {
          "bdata": "AAAAoCsdgkAAAAAgjSOCQAAAAIAEeIJAAAAAwOxugkAAAABgTZ6CQAAAAEDuyYJAAAAAIPjkgkAAAADAXv+CQAAAACAs8YJAAAAAQJSsgkAAAADgp9WCQAAAAGAKwIJAAAAAgM3ZgkAAAADAHsCCQAAAAEDRn4JAAAAAIM2/gkAAAAAgQ9OCQAAAACAD5IJAAAAA4L63gkAAAACASdiCQAAAAOD024JAAAAAQGfMgkAAAADgNf+CQAAAAKD4/oJAAAAAgD8Ng0AAAADAuxiDQAAAACBlBINAAAAAICCxgkAAAADgWZuCQAAAAICpg4JAAAAAAA6GgkAAAADAXDqCQAAAAAAvg4JAAAAAQCcwgkAAAAAACvmBQAAAAIB9KoJAAAAAYPDXgUAAAACgivGBQAAAAKAwd4FAAAAAgAVSgUAAAAAAjWmBQAAAACAhLoFAAAAA4PmIgUAAAACgl6uBQAAAAACzeoFAAAAAwG6rgUAAAAAgWp6BQAAAAADXn4FAAAAA4KPwgUAAAAAgrvuBQAAAAGC4xIFAAAAA4KO4gUAAAACgR12BQAAAAMAee4FAAAAAgMKHgUAAAAAAKaSBQAAAAKCZxYBAAAAA4HqUf0AAAACAFIZ/QAAAACCuB39AAAAAwPUkgUAAAADgo2SAQA==",
          "dtype": "f8"
         },
         "yaxis": "y"
        },
        {
         "marker": {
          "color": "rgb(102,194,165)",
          "size": 6
         },
         "mode": "markers",
         "name": "Regime 0",
         "showlegend": false,
         "type": "scatter",
         "x": [
          "2025-01-13T00:00:00.000000000",
          "2025-02-05T00:00:00.000000000",
          "2025-02-06T00:00:00.000000000",
          "2025-02-07T00:00:00.000000000",
          "2025-02-10T00:00:00.000000000",
          "2025-02-11T00:00:00.000000000",
          "2025-02-12T00:00:00.000000000",
          "2025-02-13T00:00:00.000000000",
          "2025-02-14T00:00:00.000000000",
          "2025-02-18T00:00:00.000000000"
         ],
         "xaxis": "x2",
         "y": {
          "bdata": "AAAA4KMwM0AAAACAPYovQAAAAAAAAC9AAAAAgD2KMEAAAABguJ4vQAAAAMAeBTBAAAAAIK7HL0AAAABAMzMuQAAAAIA9ii1AAAAAQDOzLkA=",
          "dtype": "f8"
         },
         "yaxis": "y2"
        },
        {
         "marker": {
          "color": "rgb(252,141,98)",
          "size": 6
         },
         "mode": "markers",
         "name": "Regime 1",
         "showlegend": false,
         "type": "scatter",
         "x": [
          "2025-01-22T00:00:00.000000000",
          "2025-01-23T00:00:00.000000000",
          "2025-01-24T00:00:00.000000000",
          "2025-01-27T00:00:00.000000000",
          "2025-01-28T00:00:00.000000000",
          "2025-02-27T00:00:00.000000000",
          "2025-02-28T00:00:00.000000000",
          "2025-03-03T00:00:00.000000000",
          "2025-03-04T00:00:00.000000000",
          "2025-03-05T00:00:00.000000000",
          "2025-03-06T00:00:00.000000000",
          "2025-03-07T00:00:00.000000000",
          "2025-03-10T00:00:00.000000000",
          "2025-03-11T00:00:00.000000000",
          "2025-03-12T00:00:00.000000000",
          "2025-03-13T00:00:00.000000000",
          "2025-03-14T00:00:00.000000000",
          "2025-03-17T00:00:00.000000000",
          "2025-03-18T00:00:00.000000000",
          "2025-04-03T00:00:00.000000000",
          "2025-04-04T00:00:00.000000000",
          "2025-04-07T00:00:00.000000000",
          "2025-04-08T00:00:00.000000000",
          "2025-04-09T00:00:00.000000000",
          "2025-04-10T00:00:00.000000000"
         ],
         "xaxis": "x2",
         "y": {
          "bdata": "AAAAQDMzLkAAAACAPQouQAAAAEAzsy1AAAAAYGbmMUAAAADA9WgwQAAAAKBHITVAAAAAoEehM0AAAAAgrsc2QAAAAGCPgjdAAAAAgBTuNUAAAABguN44QAAAAGC4XjdAAAAAACncO0AAAAAghes6QAAAAEDhOjhAAAAAwPWoOEAAAADAHsU1QAAAAGCPgjRAAAAAQDOzNUAAAADAHgU+QAAAACCup0ZAAAAAoHB9R0AAAACAPSpKQAAAACBcz0BAAAAAAClcREA=",
          "dtype": "f8"
         },
         "yaxis": "y2"
        },
        {
         "marker": {
          "color": "rgb(141,160,203)",
          "size": 6
         },
         "mode": "markers",
         "name": "Regime 2",
         "showlegend": false,
         "type": "scatter",
         "x": [
          "2025-01-14T00:00:00.000000000",
          "2025-01-15T00:00:00.000000000",
          "2025-01-16T00:00:00.000000000",
          "2025-01-17T00:00:00.000000000",
          "2025-01-21T00:00:00.000000000",
          "2025-01-29T00:00:00.000000000",
          "2025-01-30T00:00:00.000000000",
          "2025-01-31T00:00:00.000000000",
          "2025-02-03T00:00:00.000000000",
          "2025-02-04T00:00:00.000000000",
          "2025-02-19T00:00:00.000000000",
          "2025-02-20T00:00:00.000000000",
          "2025-02-21T00:00:00.000000000",
          "2025-02-24T00:00:00.000000000",
          "2025-02-25T00:00:00.000000000",
          "2025-02-26T00:00:00.000000000",
          "2025-03-19T00:00:00.000000000",
          "2025-03-20T00:00:00.000000000",
          "2025-03-21T00:00:00.000000000",
          "2025-03-24T00:00:00.000000000",
          "2025-03-25T00:00:00.000000000",
          "2025-03-26T00:00:00.000000000",
          "2025-03-27T00:00:00.000000000",
          "2025-03-28T00:00:00.000000000",
          "2025-03-31T00:00:00.000000000",
          "2025-04-01T00:00:00.000000000",
          "2025-04-02T00:00:00.000000000"
         ],
         "xaxis": "x2",
         "y": {
          "bdata": "AAAAgMK1MkAAAABguB4wQAAAAKCZmTBAAAAA4KPwL0AAAABguB4uQAAAACBcjzBAAAAAgBSuL0AAAACAFG4wQAAAAGC4njJAAAAAgMI1MUAAAACAPYouQAAAAIDrUS9AAAAAgMI1MkAAAABA4foyQAAAAIAUbjNAAAAAoJkZM0AAAABgZuYzQAAAAMDMzDNAAAAAIK5HM0AAAABA4XoxQAAAAGBmJjFAAAAA4HpUMkAAAADgo7AyQAAAAGBmpjVAAAAAIK5HNkAAAADAHsU1QAAAAGCPgjVA",
          "dtype": "f8"
         },
         "yaxis": "y2"
        },
        {
         "line": {
          "color": "rgba(0,0,0,0.3)"
         },
         "mode": "lines",
         "name": "VIX",
         "showlegend": true,
         "type": "scatter",
         "x": [
          "2025-01-13T00:00:00.000000000",
          "2025-01-14T00:00:00.000000000",
          "2025-01-15T00:00:00.000000000",
          "2025-01-16T00:00:00.000000000",
          "2025-01-17T00:00:00.000000000",
          "2025-01-21T00:00:00.000000000",
          "2025-01-22T00:00:00.000000000",
          "2025-01-23T00:00:00.000000000",
          "2025-01-24T00:00:00.000000000",
          "2025-01-27T00:00:00.000000000",
          "2025-01-28T00:00:00.000000000",
          "2025-01-29T00:00:00.000000000",
          "2025-01-30T00:00:00.000000000",
          "2025-01-31T00:00:00.000000000",
          "2025-02-03T00:00:00.000000000",
          "2025-02-04T00:00:00.000000000",
          "2025-02-05T00:00:00.000000000",
          "2025-02-06T00:00:00.000000000",
          "2025-02-07T00:00:00.000000000",
          "2025-02-10T00:00:00.000000000",
          "2025-02-11T00:00:00.000000000",
          "2025-02-12T00:00:00.000000000",
          "2025-02-13T00:00:00.000000000",
          "2025-02-14T00:00:00.000000000",
          "2025-02-18T00:00:00.000000000",
          "2025-02-19T00:00:00.000000000",
          "2025-02-20T00:00:00.000000000",
          "2025-02-21T00:00:00.000000000",
          "2025-02-24T00:00:00.000000000",
          "2025-02-25T00:00:00.000000000",
          "2025-02-26T00:00:00.000000000",
          "2025-02-27T00:00:00.000000000",
          "2025-02-28T00:00:00.000000000",
          "2025-03-03T00:00:00.000000000",
          "2025-03-04T00:00:00.000000000",
          "2025-03-05T00:00:00.000000000",
          "2025-03-06T00:00:00.000000000",
          "2025-03-07T00:00:00.000000000",
          "2025-03-10T00:00:00.000000000",
          "2025-03-11T00:00:00.000000000",
          "2025-03-12T00:00:00.000000000",
          "2025-03-13T00:00:00.000000000",
          "2025-03-14T00:00:00.000000000",
          "2025-03-17T00:00:00.000000000",
          "2025-03-18T00:00:00.000000000",
          "2025-03-19T00:00:00.000000000",
          "2025-03-20T00:00:00.000000000",
          "2025-03-21T00:00:00.000000000",
          "2025-03-24T00:00:00.000000000",
          "2025-03-25T00:00:00.000000000",
          "2025-03-26T00:00:00.000000000",
          "2025-03-27T00:00:00.000000000",
          "2025-03-28T00:00:00.000000000",
          "2025-03-31T00:00:00.000000000",
          "2025-04-01T00:00:00.000000000",
          "2025-04-02T00:00:00.000000000",
          "2025-04-03T00:00:00.000000000",
          "2025-04-04T00:00:00.000000000",
          "2025-04-07T00:00:00.000000000",
          "2025-04-08T00:00:00.000000000",
          "2025-04-09T00:00:00.000000000",
          "2025-04-10T00:00:00.000000000"
         ],
         "xaxis": "x2",
         "y": {
          "bdata": "AAAA4KMwM0AAAACAwrUyQAAAAGC4HjBAAAAAoJmZMEAAAADgo/AvQAAAAGC4Hi5AAAAAQDMzLkAAAACAPQouQAAAAEAzsy1AAAAAYGbmMUAAAADA9WgwQAAAACBcjzBAAAAAgBSuL0AAAACAFG4wQAAAAGC4njJAAAAAgMI1MUAAAACAPYovQAAAAAAAAC9AAAAAgD2KMEAAAABguJ4vQAAAAMAeBTBAAAAAIK7HL0AAAABAMzMuQAAAAIA9ii1AAAAAQDOzLkAAAACAPYouQAAAAIDrUS9AAAAAgMI1MkAAAABA4foyQAAAAIAUbjNAAAAAoJkZM0AAAACgRyE1QAAAAKBHoTNAAAAAIK7HNkAAAABgj4I3QAAAAIAU7jVAAAAAYLjeOEAAAABguF43QAAAAAAp3DtAAAAAIIXrOkAAAABA4To4QAAAAMD1qDhAAAAAwB7FNUAAAABgj4I0QAAAAEAzszVAAAAAYGbmM0AAAADAzMwzQAAAACCuRzNAAAAAQOF6MUAAAABgZiYxQAAAAOB6VDJAAAAA4KOwMkAAAABgZqY1QAAAACCuRzZAAAAAwB7FNUAAAABgj4I1QAAAAMAeBT5AAAAAIK6nRkAAAACgcH1HQAAAAIA9KkpAAAAAIFzPQEAAAAAAKVxEQA==",
          "dtype": "f8"
         },
         "yaxis": "y2"
        }
       ],
       "layout": {
        "annotations": [
         {
          "font": {
           "size": 16
          },
          "showarrow": false,
          "text": "SPY Close Price by Regime",
          "x": 0.5,
          "xanchor": "center",
          "xref": "paper",
          "y": 1,
          "yanchor": "bottom",
          "yref": "paper"
         },
         {
          "font": {
           "size": 16
          },
          "showarrow": false,
          "text": "VIX by Regime",
          "x": 0.5,
          "xanchor": "center",
          "xref": "paper",
          "y": 0.45,
          "yanchor": "bottom",
          "yref": "paper"
         }
        ],
        "height": 800,
        "hovermode": "closest",
        "legend": {
         "title": {
          "text": "Regime"
         }
        },
        "template": {
         "data": {
          "bar": [
           {
            "error_x": {
             "color": "#2a3f5f"
            },
            "error_y": {
             "color": "#2a3f5f"
            },
            "marker": {
             "line": {
              "color": "white",
              "width": 0.5
             },
             "pattern": {
              "fillmode": "overlay",
              "size": 10,
              "solidity": 0.2
             }
            },
            "type": "bar"
           }
          ],
          "barpolar": [
           {
            "marker": {
             "line": {
              "color": "white",
              "width": 0.5
             },
             "pattern": {
              "fillmode": "overlay",
              "size": 10,
              "solidity": 0.2
             }
            },
            "type": "barpolar"
           }
          ],
          "carpet": [
           {
            "aaxis": {
             "endlinecolor": "#2a3f5f",
             "gridcolor": "#C8D4E3",
             "linecolor": "#C8D4E3",
             "minorgridcolor": "#C8D4E3",
             "startlinecolor": "#2a3f5f"
            },
            "baxis": {
             "endlinecolor": "#2a3f5f",
             "gridcolor": "#C8D4E3",
             "linecolor": "#C8D4E3",
             "minorgridcolor": "#C8D4E3",
             "startlinecolor": "#2a3f5f"
            },
            "type": "carpet"
           }
          ],
          "choropleth": [
           {
            "colorbar": {
             "outlinewidth": 0,
             "ticks": ""
            },
            "type": "choropleth"
           }
          ],
          "contour": [
           {
            "colorbar": {
             "outlinewidth": 0,
             "ticks": ""
            },
            "colorscale": [
             [
              0,
              "#0d0887"
             ],
             [
              0.1111111111111111,
              "#46039f"
             ],
             [
              0.2222222222222222,
              "#7201a8"
             ],
             [
              0.3333333333333333,
              "#9c179e"
             ],
             [
              0.4444444444444444,
              "#bd3786"
             ],
             [
              0.5555555555555556,
              "#d8576b"
             ],
             [
              0.6666666666666666,
              "#ed7953"
             ],
             [
              0.7777777777777778,
              "#fb9f3a"
             ],
             [
              0.8888888888888888,
              "#fdca26"
             ],
             [
              1,
              "#f0f921"
             ]
            ],
            "type": "contour"
           }
          ],
          "contourcarpet": [
           {
            "colorbar": {
             "outlinewidth": 0,
             "ticks": ""
            },
            "type": "contourcarpet"
           }
          ],
          "heatmap": [
           {
            "colorbar": {
             "outlinewidth": 0,
             "ticks": ""
            },
            "colorscale": [
             [
              0,
              "#0d0887"
             ],
             [
              0.1111111111111111,
              "#46039f"
             ],
             [
              0.2222222222222222,
              "#7201a8"
             ],
             [
              0.3333333333333333,
              "#9c179e"
             ],
             [
              0.4444444444444444,
              "#bd3786"
             ],
             [
              0.5555555555555556,
              "#d8576b"
             ],
             [
              0.6666666666666666,
              "#ed7953"
             ],
             [
              0.7777777777777778,
              "#fb9f3a"
             ],
             [
              0.8888888888888888,
              "#fdca26"
             ],
             [
              1,
              "#f0f921"
             ]
            ],
            "type": "heatmap"
           }
          ],
          "histogram": [
           {
            "marker": {
             "pattern": {
              "fillmode": "overlay",
              "size": 10,
              "solidity": 0.2
             }
            },
            "type": "histogram"
           }
          ],
          "histogram2d": [
           {
            "colorbar": {
             "outlinewidth": 0,
             "ticks": ""
            },
            "colorscale": [
             [
              0,
              "#0d0887"
             ],
             [
              0.1111111111111111,
              "#46039f"
             ],
             [
              0.2222222222222222,
              "#7201a8"
             ],
             [
              0.3333333333333333,
              "#9c179e"
             ],
             [
              0.4444444444444444,
              "#bd3786"
             ],
             [
              0.5555555555555556,
              "#d8576b"
             ],
             [
              0.6666666666666666,
              "#ed7953"
             ],
             [
              0.7777777777777778,
              "#fb9f3a"
             ],
             [
              0.8888888888888888,
              "#fdca26"
             ],
             [
              1,
              "#f0f921"
             ]
            ],
            "type": "histogram2d"
           }
          ],
          "histogram2dcontour": [
           {
            "colorbar": {
             "outlinewidth": 0,
             "ticks": ""
            },
            "colorscale": [
             [
              0,
              "#0d0887"
             ],
             [
              0.1111111111111111,
              "#46039f"
             ],
             [
              0.2222222222222222,
              "#7201a8"
             ],
             [
              0.3333333333333333,
              "#9c179e"
             ],
             [
              0.4444444444444444,
              "#bd3786"
             ],
             [
              0.5555555555555556,
              "#d8576b"
             ],
             [
              0.6666666666666666,
              "#ed7953"
             ],
             [
              0.7777777777777778,
              "#fb9f3a"
             ],
             [
              0.8888888888888888,
              "#fdca26"
             ],
             [
              1,
              "#f0f921"
             ]
            ],
            "type": "histogram2dcontour"
           }
          ],
          "mesh3d": [
           {
            "colorbar": {
             "outlinewidth": 0,
             "ticks": ""
            },
            "type": "mesh3d"
           }
          ],
          "parcoords": [
           {
            "line": {
             "colorbar": {
              "outlinewidth": 0,
              "ticks": ""
             }
            },
            "type": "parcoords"
           }
          ],
          "pie": [
           {
            "automargin": true,
            "type": "pie"
           }
          ],
          "scatter": [
           {
            "fillpattern": {
             "fillmode": "overlay",
             "size": 10,
             "solidity": 0.2
            },
            "type": "scatter"
           }
          ],
          "scatter3d": [
           {
            "line": {
             "colorbar": {
              "outlinewidth": 0,
              "ticks": ""
             }
            },
            "marker": {
             "colorbar": {
              "outlinewidth": 0,
              "ticks": ""
             }
            },
            "type": "scatter3d"
           }
          ],
          "scattercarpet": [
           {
            "marker": {
             "colorbar": {
              "outlinewidth": 0,
              "ticks": ""
             }
            },
            "type": "scattercarpet"
           }
          ],
          "scattergeo": [
           {
            "marker": {
             "colorbar": {
              "outlinewidth": 0,
              "ticks": ""
             }
            },
            "type": "scattergeo"
           }
          ],
          "scattergl": [
           {
            "marker": {
             "colorbar": {
              "outlinewidth": 0,
              "ticks": ""
             }
            },
            "type": "scattergl"
           }
          ],
          "scattermap": [
           {
            "marker": {
             "colorbar": {
              "outlinewidth": 0,
              "ticks": ""
             }
            },
            "type": "scattermap"
           }
          ],
          "scattermapbox": [
           {
            "marker": {
             "colorbar": {
              "outlinewidth": 0,
              "ticks": ""
             }
            },
            "type": "scattermapbox"
           }
          ],
          "scatterpolar": [
           {
            "marker": {
             "colorbar": {
              "outlinewidth": 0,
              "ticks": ""
             }
            },
            "type": "scatterpolar"
           }
          ],
          "scatterpolargl": [
           {
            "marker": {
             "colorbar": {
              "outlinewidth": 0,
              "ticks": ""
             }
            },
            "type": "scatterpolargl"
           }
          ],
          "scatterternary": [
           {
            "marker": {
             "colorbar": {
              "outlinewidth": 0,
              "ticks": ""
             }
            },
            "type": "scatterternary"
           }
          ],
          "surface": [
           {
            "colorbar": {
             "outlinewidth": 0,
             "ticks": ""
            },
            "colorscale": [
             [
              0,
              "#0d0887"
             ],
             [
              0.1111111111111111,
              "#46039f"
             ],
             [
              0.2222222222222222,
              "#7201a8"
             ],
             [
              0.3333333333333333,
              "#9c179e"
             ],
             [
              0.4444444444444444,
              "#bd3786"
             ],
             [
              0.5555555555555556,
              "#d8576b"
             ],
             [
              0.6666666666666666,
              "#ed7953"
             ],
             [
              0.7777777777777778,
              "#fb9f3a"
             ],
             [
              0.8888888888888888,
              "#fdca26"
             ],
             [
              1,
              "#f0f921"
             ]
            ],
            "type": "surface"
           }
          ],
          "table": [
           {
            "cells": {
             "fill": {
              "color": "#EBF0F8"
             },
             "line": {
              "color": "white"
             }
            },
            "header": {
             "fill": {
              "color": "#C8D4E3"
             },
             "line": {
              "color": "white"
             }
            },
            "type": "table"
           }
          ]
         },
         "layout": {
          "annotationdefaults": {
           "arrowcolor": "#2a3f5f",
           "arrowhead": 0,
           "arrowwidth": 1
          },
          "autotypenumbers": "strict",
          "coloraxis": {
           "colorbar": {
            "outlinewidth": 0,
            "ticks": ""
           }
          },
          "colorscale": {
           "diverging": [
            [
             0,
             "#8e0152"
            ],
            [
             0.1,
             "#c51b7d"
            ],
            [
             0.2,
             "#de77ae"
            ],
            [
             0.3,
             "#f1b6da"
            ],
            [
             0.4,
             "#fde0ef"
            ],
            [
             0.5,
             "#f7f7f7"
            ],
            [
             0.6,
             "#e6f5d0"
            ],
            [
             0.7,
             "#b8e186"
            ],
            [
             0.8,
             "#7fbc41"
            ],
            [
             0.9,
             "#4d9221"
            ],
            [
             1,
             "#276419"
            ]
           ],
           "sequential": [
            [
             0,
             "#0d0887"
            ],
            [
             0.1111111111111111,
             "#46039f"
            ],
            [
             0.2222222222222222,
             "#7201a8"
            ],
            [
             0.3333333333333333,
             "#9c179e"
            ],
            [
             0.4444444444444444,
             "#bd3786"
            ],
            [
             0.5555555555555556,
             "#d8576b"
            ],
            [
             0.6666666666666666,
             "#ed7953"
            ],
            [
             0.7777777777777778,
             "#fb9f3a"
            ],
            [
             0.8888888888888888,
             "#fdca26"
            ],
            [
             1,
             "#f0f921"
            ]
           ],
           "sequentialminus": [
            [
             0,
             "#0d0887"
            ],
            [
             0.1111111111111111,
             "#46039f"
            ],
            [
             0.2222222222222222,
             "#7201a8"
            ],
            [
             0.3333333333333333,
             "#9c179e"
            ],
            [
             0.4444444444444444,
             "#bd3786"
            ],
            [
             0.5555555555555556,
             "#d8576b"
            ],
            [
             0.6666666666666666,
             "#ed7953"
            ],
            [
             0.7777777777777778,
             "#fb9f3a"
            ],
            [
             0.8888888888888888,
             "#fdca26"
            ],
            [
             1,
             "#f0f921"
            ]
           ]
          },
          "colorway": [
           "#636efa",
           "#EF553B",
           "#00cc96",
           "#ab63fa",
           "#FFA15A",
           "#19d3f3",
           "#FF6692",
           "#B6E880",
           "#FF97FF",
           "#FECB52"
          ],
          "font": {
           "color": "#2a3f5f"
          },
          "geo": {
           "bgcolor": "white",
           "lakecolor": "white",
           "landcolor": "white",
           "showlakes": true,
           "showland": true,
           "subunitcolor": "#C8D4E3"
          },
          "hoverlabel": {
           "align": "left"
          },
          "hovermode": "closest",
          "mapbox": {
           "style": "light"
          },
          "paper_bgcolor": "white",
          "plot_bgcolor": "white",
          "polar": {
           "angularaxis": {
            "gridcolor": "#EBF0F8",
            "linecolor": "#EBF0F8",
            "ticks": ""
           },
           "bgcolor": "white",
           "radialaxis": {
            "gridcolor": "#EBF0F8",
            "linecolor": "#EBF0F8",
            "ticks": ""
           }
          },
          "scene": {
           "xaxis": {
            "backgroundcolor": "white",
            "gridcolor": "#DFE8F3",
            "gridwidth": 2,
            "linecolor": "#EBF0F8",
            "showbackground": true,
            "ticks": "",
            "zerolinecolor": "#EBF0F8"
           },
           "yaxis": {
            "backgroundcolor": "white",
            "gridcolor": "#DFE8F3",
            "gridwidth": 2,
            "linecolor": "#EBF0F8",
            "showbackground": true,
            "ticks": "",
            "zerolinecolor": "#EBF0F8"
           },
           "zaxis": {
            "backgroundcolor": "white",
            "gridcolor": "#DFE8F3",
            "gridwidth": 2,
            "linecolor": "#EBF0F8",
            "showbackground": true,
            "ticks": "",
            "zerolinecolor": "#EBF0F8"
           }
          },
          "shapedefaults": {
           "line": {
            "color": "#2a3f5f"
           }
          },
          "ternary": {
           "aaxis": {
            "gridcolor": "#DFE8F3",
            "linecolor": "#A2B1C6",
            "ticks": ""
           },
           "baxis": {
            "gridcolor": "#DFE8F3",
            "linecolor": "#A2B1C6",
            "ticks": ""
           },
           "bgcolor": "white",
           "caxis": {
            "gridcolor": "#DFE8F3",
            "linecolor": "#A2B1C6",
            "ticks": ""
           }
          },
          "title": {
           "x": 0.05
          },
          "xaxis": {
           "automargin": true,
           "gridcolor": "#EBF0F8",
           "linecolor": "#EBF0F8",
           "ticks": "",
           "title": {
            "standoff": 15
           },
           "zerolinecolor": "#EBF0F8",
           "zerolinewidth": 2
          },
          "yaxis": {
           "automargin": true,
           "gridcolor": "#EBF0F8",
           "linecolor": "#EBF0F8",
           "ticks": "",
           "title": {
            "standoff": 15
           },
           "zerolinecolor": "#EBF0F8",
           "zerolinewidth": 2
          }
         }
        },
        "title": {
         "text": "Market Regimes in Recent 3 Months (2025-01-11 to 2025-04-11)"
        },
        "xaxis": {
         "anchor": "y",
         "domain": [
          0,
          1
         ],
         "matches": "x2",
         "showticklabels": false
        },
        "xaxis2": {
         "anchor": "y2",
         "domain": [
          0,
          1
         ],
         "title": {
          "text": "Date"
         }
        },
        "yaxis": {
         "anchor": "x",
         "domain": [
          0.55,
          1
         ],
         "title": {
          "text": "SPY Price"
         }
        },
        "yaxis2": {
         "anchor": "x2",
         "domain": [
          0,
          0.45
         ],
         "title": {
          "text": "VIX"
         }
        }
       }
      }
     },
     "metadata": {},
     "output_type": "display_data"
    },
    {
     "data": {
      "application/vnd.plotly.v1+json": {
       "config": {
        "plotlyServerURL": "https://plot.ly"
       },
       "data": [
        {
         "domain": {
          "x": [
           0,
           1
          ],
          "y": [
           0,
           1
          ]
         },
         "hovertemplate": "label=%{label}<br>value=%{value}<extra></extra>",
         "labels": [
          "Regime 0",
          "Regime 1",
          "Regime 2"
         ],
         "legendgroup": "",
         "name": "",
         "showlegend": true,
         "textinfo": "percent+label",
         "textposition": "inside",
         "type": "pie",
         "values": {
          "bdata": "xhhjjDHGRUAppZRSSilEQCGEEEIIITBA",
          "dtype": "f8"
         }
        }
       ],
       "layout": {
        "legend": {
         "tracegroupgap": 0
        },
        "piecolorway": [
         "rgb(102,194,165)",
         "rgb(252,141,98)",
         "rgb(141,160,203)"
        ],
        "template": {
         "data": {
          "bar": [
           {
            "error_x": {
             "color": "#2a3f5f"
            },
            "error_y": {
             "color": "#2a3f5f"
            },
            "marker": {
             "line": {
              "color": "#E5ECF6",
              "width": 0.5
             },
             "pattern": {
              "fillmode": "overlay",
              "size": 10,
              "solidity": 0.2
             }
            },
            "type": "bar"
           }
          ],
          "barpolar": [
           {
            "marker": {
             "line": {
              "color": "#E5ECF6",
              "width": 0.5
             },
             "pattern": {
              "fillmode": "overlay",
              "size": 10,
              "solidity": 0.2
             }
            },
            "type": "barpolar"
           }
          ],
          "carpet": [
           {
            "aaxis": {
             "endlinecolor": "#2a3f5f",
             "gridcolor": "white",
             "linecolor": "white",
             "minorgridcolor": "white",
             "startlinecolor": "#2a3f5f"
            },
            "baxis": {
             "endlinecolor": "#2a3f5f",
             "gridcolor": "white",
             "linecolor": "white",
             "minorgridcolor": "white",
             "startlinecolor": "#2a3f5f"
            },
            "type": "carpet"
           }
          ],
          "choropleth": [
           {
            "colorbar": {
             "outlinewidth": 0,
             "ticks": ""
            },
            "type": "choropleth"
           }
          ],
          "contour": [
           {
            "colorbar": {
             "outlinewidth": 0,
             "ticks": ""
            },
            "colorscale": [
             [
              0,
              "#0d0887"
             ],
             [
              0.1111111111111111,
              "#46039f"
             ],
             [
              0.2222222222222222,
              "#7201a8"
             ],
             [
              0.3333333333333333,
              "#9c179e"
             ],
             [
              0.4444444444444444,
              "#bd3786"
             ],
             [
              0.5555555555555556,
              "#d8576b"
             ],
             [
              0.6666666666666666,
              "#ed7953"
             ],
             [
              0.7777777777777778,
              "#fb9f3a"
             ],
             [
              0.8888888888888888,
              "#fdca26"
             ],
             [
              1,
              "#f0f921"
             ]
            ],
            "type": "contour"
           }
          ],
          "contourcarpet": [
           {
            "colorbar": {
             "outlinewidth": 0,
             "ticks": ""
            },
            "type": "contourcarpet"
           }
          ],
          "heatmap": [
           {
            "colorbar": {
             "outlinewidth": 0,
             "ticks": ""
            },
            "colorscale": [
             [
              0,
              "#0d0887"
             ],
             [
              0.1111111111111111,
              "#46039f"
             ],
             [
              0.2222222222222222,
              "#7201a8"
             ],
             [
              0.3333333333333333,
              "#9c179e"
             ],
             [
              0.4444444444444444,
              "#bd3786"
             ],
             [
              0.5555555555555556,
              "#d8576b"
             ],
             [
              0.6666666666666666,
              "#ed7953"
             ],
             [
              0.7777777777777778,
              "#fb9f3a"
             ],
             [
              0.8888888888888888,
              "#fdca26"
             ],
             [
              1,
              "#f0f921"
             ]
            ],
            "type": "heatmap"
           }
          ],
          "histogram": [
           {
            "marker": {
             "pattern": {
              "fillmode": "overlay",
              "size": 10,
              "solidity": 0.2
             }
            },
            "type": "histogram"
           }
          ],
          "histogram2d": [
           {
            "colorbar": {
             "outlinewidth": 0,
             "ticks": ""
            },
            "colorscale": [
             [
              0,
              "#0d0887"
             ],
             [
              0.1111111111111111,
              "#46039f"
             ],
             [
              0.2222222222222222,
              "#7201a8"
             ],
             [
              0.3333333333333333,
              "#9c179e"
             ],
             [
              0.4444444444444444,
              "#bd3786"
             ],
             [
              0.5555555555555556,
              "#d8576b"
             ],
             [
              0.6666666666666666,
              "#ed7953"
             ],
             [
              0.7777777777777778,
              "#fb9f3a"
             ],
             [
              0.8888888888888888,
              "#fdca26"
             ],
             [
              1,
              "#f0f921"
             ]
            ],
            "type": "histogram2d"
           }
          ],
          "histogram2dcontour": [
           {
            "colorbar": {
             "outlinewidth": 0,
             "ticks": ""
            },
            "colorscale": [
             [
              0,
              "#0d0887"
             ],
             [
              0.1111111111111111,
              "#46039f"
             ],
             [
              0.2222222222222222,
              "#7201a8"
             ],
             [
              0.3333333333333333,
              "#9c179e"
             ],
             [
              0.4444444444444444,
              "#bd3786"
             ],
             [
              0.5555555555555556,
              "#d8576b"
             ],
             [
              0.6666666666666666,
              "#ed7953"
             ],
             [
              0.7777777777777778,
              "#fb9f3a"
             ],
             [
              0.8888888888888888,
              "#fdca26"
             ],
             [
              1,
              "#f0f921"
             ]
            ],
            "type": "histogram2dcontour"
           }
          ],
          "mesh3d": [
           {
            "colorbar": {
             "outlinewidth": 0,
             "ticks": ""
            },
            "type": "mesh3d"
           }
          ],
          "parcoords": [
           {
            "line": {
             "colorbar": {
              "outlinewidth": 0,
              "ticks": ""
             }
            },
            "type": "parcoords"
           }
          ],
          "pie": [
           {
            "automargin": true,
            "type": "pie"
           }
          ],
          "scatter": [
           {
            "fillpattern": {
             "fillmode": "overlay",
             "size": 10,
             "solidity": 0.2
            },
            "type": "scatter"
           }
          ],
          "scatter3d": [
           {
            "line": {
             "colorbar": {
              "outlinewidth": 0,
              "ticks": ""
             }
            },
            "marker": {
             "colorbar": {
              "outlinewidth": 0,
              "ticks": ""
             }
            },
            "type": "scatter3d"
           }
          ],
          "scattercarpet": [
           {
            "marker": {
             "colorbar": {
              "outlinewidth": 0,
              "ticks": ""
             }
            },
            "type": "scattercarpet"
           }
          ],
          "scattergeo": [
           {
            "marker": {
             "colorbar": {
              "outlinewidth": 0,
              "ticks": ""
             }
            },
            "type": "scattergeo"
           }
          ],
          "scattergl": [
           {
            "marker": {
             "colorbar": {
              "outlinewidth": 0,
              "ticks": ""
             }
            },
            "type": "scattergl"
           }
          ],
          "scattermap": [
           {
            "marker": {
             "colorbar": {
              "outlinewidth": 0,
              "ticks": ""
             }
            },
            "type": "scattermap"
           }
          ],
          "scattermapbox": [
           {
            "marker": {
             "colorbar": {
              "outlinewidth": 0,
              "ticks": ""
             }
            },
            "type": "scattermapbox"
           }
          ],
          "scatterpolar": [
           {
            "marker": {
             "colorbar": {
              "outlinewidth": 0,
              "ticks": ""
             }
            },
            "type": "scatterpolar"
           }
          ],
          "scatterpolargl": [
           {
            "marker": {
             "colorbar": {
              "outlinewidth": 0,
              "ticks": ""
             }
            },
            "type": "scatterpolargl"
           }
          ],
          "scatterternary": [
           {
            "marker": {
             "colorbar": {
              "outlinewidth": 0,
              "ticks": ""
             }
            },
            "type": "scatterternary"
           }
          ],
          "surface": [
           {
            "colorbar": {
             "outlinewidth": 0,
             "ticks": ""
            },
            "colorscale": [
             [
              0,
              "#0d0887"
             ],
             [
              0.1111111111111111,
              "#46039f"
             ],
             [
              0.2222222222222222,
              "#7201a8"
             ],
             [
              0.3333333333333333,
              "#9c179e"
             ],
             [
              0.4444444444444444,
              "#bd3786"
             ],
             [
              0.5555555555555556,
              "#d8576b"
             ],
             [
              0.6666666666666666,
              "#ed7953"
             ],
             [
              0.7777777777777778,
              "#fb9f3a"
             ],
             [
              0.8888888888888888,
              "#fdca26"
             ],
             [
              1,
              "#f0f921"
             ]
            ],
            "type": "surface"
           }
          ],
          "table": [
           {
            "cells": {
             "fill": {
              "color": "#EBF0F8"
             },
             "line": {
              "color": "white"
             }
            },
            "header": {
             "fill": {
              "color": "#C8D4E3"
             },
             "line": {
              "color": "white"
             }
            },
            "type": "table"
           }
          ]
         },
         "layout": {
          "annotationdefaults": {
           "arrowcolor": "#2a3f5f",
           "arrowhead": 0,
           "arrowwidth": 1
          },
          "autotypenumbers": "strict",
          "coloraxis": {
           "colorbar": {
            "outlinewidth": 0,
            "ticks": ""
           }
          },
          "colorscale": {
           "diverging": [
            [
             0,
             "#8e0152"
            ],
            [
             0.1,
             "#c51b7d"
            ],
            [
             0.2,
             "#de77ae"
            ],
            [
             0.3,
             "#f1b6da"
            ],
            [
             0.4,
             "#fde0ef"
            ],
            [
             0.5,
             "#f7f7f7"
            ],
            [
             0.6,
             "#e6f5d0"
            ],
            [
             0.7,
             "#b8e186"
            ],
            [
             0.8,
             "#7fbc41"
            ],
            [
             0.9,
             "#4d9221"
            ],
            [
             1,
             "#276419"
            ]
           ],
           "sequential": [
            [
             0,
             "#0d0887"
            ],
            [
             0.1111111111111111,
             "#46039f"
            ],
            [
             0.2222222222222222,
             "#7201a8"
            ],
            [
             0.3333333333333333,
             "#9c179e"
            ],
            [
             0.4444444444444444,
             "#bd3786"
            ],
            [
             0.5555555555555556,
             "#d8576b"
            ],
            [
             0.6666666666666666,
             "#ed7953"
            ],
            [
             0.7777777777777778,
             "#fb9f3a"
            ],
            [
             0.8888888888888888,
             "#fdca26"
            ],
            [
             1,
             "#f0f921"
            ]
           ],
           "sequentialminus": [
            [
             0,
             "#0d0887"
            ],
            [
             0.1111111111111111,
             "#46039f"
            ],
            [
             0.2222222222222222,
             "#7201a8"
            ],
            [
             0.3333333333333333,
             "#9c179e"
            ],
            [
             0.4444444444444444,
             "#bd3786"
            ],
            [
             0.5555555555555556,
             "#d8576b"
            ],
            [
             0.6666666666666666,
             "#ed7953"
            ],
            [
             0.7777777777777778,
             "#fb9f3a"
            ],
            [
             0.8888888888888888,
             "#fdca26"
            ],
            [
             1,
             "#f0f921"
            ]
           ]
          },
          "colorway": [
           "#636efa",
           "#EF553B",
           "#00cc96",
           "#ab63fa",
           "#FFA15A",
           "#19d3f3",
           "#FF6692",
           "#B6E880",
           "#FF97FF",
           "#FECB52"
          ],
          "font": {
           "color": "#2a3f5f"
          },
          "geo": {
           "bgcolor": "white",
           "lakecolor": "white",
           "landcolor": "#E5ECF6",
           "showlakes": true,
           "showland": true,
           "subunitcolor": "white"
          },
          "hoverlabel": {
           "align": "left"
          },
          "hovermode": "closest",
          "mapbox": {
           "style": "light"
          },
          "paper_bgcolor": "white",
          "plot_bgcolor": "#E5ECF6",
          "polar": {
           "angularaxis": {
            "gridcolor": "white",
            "linecolor": "white",
            "ticks": ""
           },
           "bgcolor": "#E5ECF6",
           "radialaxis": {
            "gridcolor": "white",
            "linecolor": "white",
            "ticks": ""
           }
          },
          "scene": {
           "xaxis": {
            "backgroundcolor": "#E5ECF6",
            "gridcolor": "white",
            "gridwidth": 2,
            "linecolor": "white",
            "showbackground": true,
            "ticks": "",
            "zerolinecolor": "white"
           },
           "yaxis": {
            "backgroundcolor": "#E5ECF6",
            "gridcolor": "white",
            "gridwidth": 2,
            "linecolor": "white",
            "showbackground": true,
            "ticks": "",
            "zerolinecolor": "white"
           },
           "zaxis": {
            "backgroundcolor": "#E5ECF6",
            "gridcolor": "white",
            "gridwidth": 2,
            "linecolor": "white",
            "showbackground": true,
            "ticks": "",
            "zerolinecolor": "white"
           }
          },
          "shapedefaults": {
           "line": {
            "color": "#2a3f5f"
           }
          },
          "ternary": {
           "aaxis": {
            "gridcolor": "white",
            "linecolor": "white",
            "ticks": ""
           },
           "baxis": {
            "gridcolor": "white",
            "linecolor": "white",
            "ticks": ""
           },
           "bgcolor": "#E5ECF6",
           "caxis": {
            "gridcolor": "white",
            "linecolor": "white",
            "ticks": ""
           }
          },
          "title": {
           "x": 0.05
          },
          "xaxis": {
           "automargin": true,
           "gridcolor": "white",
           "linecolor": "white",
           "ticks": "",
           "title": {
            "standoff": 15
           },
           "zerolinecolor": "white",
           "zerolinewidth": 2
          },
          "yaxis": {
           "automargin": true,
           "gridcolor": "white",
           "linecolor": "white",
           "ticks": "",
           "title": {
            "standoff": 15
           },
           "zerolinecolor": "white",
           "zerolinewidth": 2
          }
         }
        },
        "title": {
         "text": "Percentage of Time in Each Regime (2025-01-11 to 2025-04-11)"
        },
        "uniformtext": {
         "minsize": 12,
         "mode": "hide"
        }
       }
      }
     },
     "metadata": {},
     "output_type": "display_data"
    },
    {
     "data": {
      "application/vnd.plotly.v1+json": {
       "config": {
        "plotlyServerURL": "https://plot.ly"
       },
       "data": [
        {
         "hovertemplate": "Volatility=%{x}<br>Return (%)=%{y}<br>VIX=%{marker.size}<br>Predicted_Regime=%{marker.color}<extra></extra>",
         "legendgroup": "",
         "marker": {
          "color": {
           "bdata": "AAICAgICAQEBAQECAgICAgAAAAAAAAAAAAICAgICAgEBAQEBAQEBAQEBAQEBAgICAgICAgICAgIBAQEBAQE=",
           "dtype": "i1"
          },
          "coloraxis": "coloraxis",
          "opacity": 0.8,
          "size": {
           "bdata": "AAAA4KMwM0AAAACAwrUyQAAAAGC4HjBAAAAAoJmZMEAAAADgo/AvQAAAAGC4Hi5AAAAAQDMzLkAAAACAPQouQAAAAEAzsy1AAAAAYGbmMUAAAADA9WgwQAAAACBcjzBAAAAAgBSuL0AAAACAFG4wQAAAAGC4njJAAAAAgMI1MUAAAACAPYovQAAAAAAAAC9AAAAAgD2KMEAAAABguJ4vQAAAAMAeBTBAAAAAIK7HL0AAAABAMzMuQAAAAIA9ii1AAAAAQDOzLkAAAACAPYouQAAAAIDrUS9AAAAAgMI1MkAAAABA4foyQAAAAIAUbjNAAAAAoJkZM0AAAACgRyE1QAAAAKBHoTNAAAAAIK7HNkAAAABgj4I3QAAAAIAU7jVAAAAAYLjeOEAAAABguF43QAAAAAAp3DtAAAAAIIXrOkAAAABA4To4QAAAAMD1qDhAAAAAwB7FNUAAAABgj4I0QAAAAEAzszVAAAAAYGbmM0AAAADAzMwzQAAAACCuRzNAAAAAQOF6MUAAAABgZiYxQAAAAOB6VDJAAAAA4KOwMkAAAABgZqY1QAAAACCuRzZAAAAAwB7FNUAAAABgj4I1QAAAAMAeBT5AAAAAIK6nRkAAAACgcH1HQAAAAIA9KkpAAAAAIFzPQEAAAAAAKVxEQA==",
           "dtype": "f8"
          },
          "sizemode": "area",
          "sizeref": 0.1308250045776367,
          "symbol": "circle"
         },
         "mode": "markers",
         "name": "",
         "orientation": "v",
         "showlegend": false,
         "type": "scatter",
         "x": {
          "bdata": "j8I5S9CBN0BwPSpSU6o0QPQo/J/jxTdACtdzHKkwOUDD9XxLi+U/QLkeJSyHjEhAkMK58SDUUUDC9exZRe5YQF2PBvtr51xAPgqgevXzVkAK17xPo7lQQOF69pmJ2kBA9ihg0S/sOUDNzNTZVo0pQLgeZXb7FylAHYUzwNy8KUBH4UKy9SIoQGZmBk2aliFAzczMVmWgGUAoXE9t5msXQKRw/bo0qxhAPQpnM5cZGECG69GD+Y4jQFO4Ru8QHSlAehTW9si6JkAWrqeDNFwrQLge5TvzqStAkMKlESHzMkDNzPxNOWI4QHsURrj09EJAuR5nxs9FSEAqXDgWholUQNejFGytX1RAwvU1dtAnWEA9CtymlGZcQPYooaSMmlVAo3D6wPfIUkDWoxUy/p5RQD4K1OkSxlpAZuYEbBc9YkAULq7sAwliQAAAkFO0BmZAAACRwjJvXkAAAFiQkb5XQPYo1PM+OVVASOFipJIdSUCF6/GqX7tEQAvXR9n2yTdAUrjA8za2REAzM/uCEbVJQDMznWWXS0hAZmbans7aN0AzM+0DmStAQO1RsLpJFkJArke5V6A8QUDhehRAekZBQDMzQ+YFRFtAKOxmsKg3eUDiwn3Rk7uCQB4lF/aYnIdA4boUCRhnhUBIIXuX5UODQA==",
          "dtype": "f8"
         },
         "xaxis": "x",
         "y": {
          "bdata": "HGXyJZ3Ywz+LPfTh9JzBP70UJECiGv0/yqGLe9adyL+dDpvHVRDwP1sH0S2PSu0/9mwkVQ794T+xpzfyT3fhP4yGX00Fr9K/wcJh6u+h9r8vC2Fs5X7rP5N379/csNy/Ffcmf7Ys4T81WKEKuwfhv+D/567ciOW/aeKouG135T8Wiy4T8fLZP6I9okp7PtY/NsECMJNK7b8lt9QpUbvlPyPdoSfHeLM/ysOFnRee1L9XlnYNXuTwP2Vw4Wy7JnS/SgNyPhDK0j/AM9iPeyTOP3l4q4gpoNq/oKx/ONdd+78oGR3Jbx/dvy2jNJQL1N+/GlO2YoHYqT/xdP2BAor5vzxafKML+Pg/WQgYNywI/L9wiL0+YfDyv51YPVhPMvE/z24mq9hm/L8Gy5Dbeu/hP7heQJb2TgXAmv655eiZ6r+C3VldHfvgPz3x7WAsVPW//nfOZ0yGAECggVQYKq3oP/uKri0lS/G/Yq8tN+ds8T8YFo9h0YHSv+5p/5+Q46A/HdutilKn/D/0Qe9h88TOP6oD3vnpGfO/HysYLB3/0L+9YDdsVBwAwJ8G9ewie+U/CGVKZIoT0j+oJroWPEDkP8chOQdbthPAZCAe3sxqF8ABB2vdkMzGv/LaDLJ5D/m/dow5/vwAJUAc/Va4EIcRwA==",
          "dtype": "f8"
         },
         "yaxis": "y"
        }
       ],
       "layout": {
        "coloraxis": {
         "colorbar": {
          "title": {
           "text": "Predicted_Regime"
          }
         },
         "colorscale": [
          [
           0,
           "#0d0887"
          ],
          [
           0.1111111111111111,
           "#46039f"
          ],
          [
           0.2222222222222222,
           "#7201a8"
          ],
          [
           0.3333333333333333,
           "#9c179e"
          ],
          [
           0.4444444444444444,
           "#bd3786"
          ],
          [
           0.5555555555555556,
           "#d8576b"
          ],
          [
           0.6666666666666666,
           "#ed7953"
          ],
          [
           0.7777777777777778,
           "#fb9f3a"
          ],
          [
           0.8888888888888888,
           "#fdca26"
          ],
          [
           1,
           "#f0f921"
          ]
         ]
        },
        "hovermode": "closest",
        "legend": {
         "itemsizing": "constant",
         "title": {
          "text": "Regime"
         },
         "tracegroupgap": 0
        },
        "template": {
         "data": {
          "bar": [
           {
            "error_x": {
             "color": "#2a3f5f"
            },
            "error_y": {
             "color": "#2a3f5f"
            },
            "marker": {
             "line": {
              "color": "white",
              "width": 0.5
             },
             "pattern": {
              "fillmode": "overlay",
              "size": 10,
              "solidity": 0.2
             }
            },
            "type": "bar"
           }
          ],
          "barpolar": [
           {
            "marker": {
             "line": {
              "color": "white",
              "width": 0.5
             },
             "pattern": {
              "fillmode": "overlay",
              "size": 10,
              "solidity": 0.2
             }
            },
            "type": "barpolar"
           }
          ],
          "carpet": [
           {
            "aaxis": {
             "endlinecolor": "#2a3f5f",
             "gridcolor": "#C8D4E3",
             "linecolor": "#C8D4E3",
             "minorgridcolor": "#C8D4E3",
             "startlinecolor": "#2a3f5f"
            },
            "baxis": {
             "endlinecolor": "#2a3f5f",
             "gridcolor": "#C8D4E3",
             "linecolor": "#C8D4E3",
             "minorgridcolor": "#C8D4E3",
             "startlinecolor": "#2a3f5f"
            },
            "type": "carpet"
           }
          ],
          "choropleth": [
           {
            "colorbar": {
             "outlinewidth": 0,
             "ticks": ""
            },
            "type": "choropleth"
           }
          ],
          "contour": [
           {
            "colorbar": {
             "outlinewidth": 0,
             "ticks": ""
            },
            "colorscale": [
             [
              0,
              "#0d0887"
             ],
             [
              0.1111111111111111,
              "#46039f"
             ],
             [
              0.2222222222222222,
              "#7201a8"
             ],
             [
              0.3333333333333333,
              "#9c179e"
             ],
             [
              0.4444444444444444,
              "#bd3786"
             ],
             [
              0.5555555555555556,
              "#d8576b"
             ],
             [
              0.6666666666666666,
              "#ed7953"
             ],
             [
              0.7777777777777778,
              "#fb9f3a"
             ],
             [
              0.8888888888888888,
              "#fdca26"
             ],
             [
              1,
              "#f0f921"
             ]
            ],
            "type": "contour"
           }
          ],
          "contourcarpet": [
           {
            "colorbar": {
             "outlinewidth": 0,
             "ticks": ""
            },
            "type": "contourcarpet"
           }
          ],
          "heatmap": [
           {
            "colorbar": {
             "outlinewidth": 0,
             "ticks": ""
            },
            "colorscale": [
             [
              0,
              "#0d0887"
             ],
             [
              0.1111111111111111,
              "#46039f"
             ],
             [
              0.2222222222222222,
              "#7201a8"
             ],
             [
              0.3333333333333333,
              "#9c179e"
             ],
             [
              0.4444444444444444,
              "#bd3786"
             ],
             [
              0.5555555555555556,
              "#d8576b"
             ],
             [
              0.6666666666666666,
              "#ed7953"
             ],
             [
              0.7777777777777778,
              "#fb9f3a"
             ],
             [
              0.8888888888888888,
              "#fdca26"
             ],
             [
              1,
              "#f0f921"
             ]
            ],
            "type": "heatmap"
           }
          ],
          "histogram": [
           {
            "marker": {
             "pattern": {
              "fillmode": "overlay",
              "size": 10,
              "solidity": 0.2
             }
            },
            "type": "histogram"
           }
          ],
          "histogram2d": [
           {
            "colorbar": {
             "outlinewidth": 0,
             "ticks": ""
            },
            "colorscale": [
             [
              0,
              "#0d0887"
             ],
             [
              0.1111111111111111,
              "#46039f"
             ],
             [
              0.2222222222222222,
              "#7201a8"
             ],
             [
              0.3333333333333333,
              "#9c179e"
             ],
             [
              0.4444444444444444,
              "#bd3786"
             ],
             [
              0.5555555555555556,
              "#d8576b"
             ],
             [
              0.6666666666666666,
              "#ed7953"
             ],
             [
              0.7777777777777778,
              "#fb9f3a"
             ],
             [
              0.8888888888888888,
              "#fdca26"
             ],
             [
              1,
              "#f0f921"
             ]
            ],
            "type": "histogram2d"
           }
          ],
          "histogram2dcontour": [
           {
            "colorbar": {
             "outlinewidth": 0,
             "ticks": ""
            },
            "colorscale": [
             [
              0,
              "#0d0887"
             ],
             [
              0.1111111111111111,
              "#46039f"
             ],
             [
              0.2222222222222222,
              "#7201a8"
             ],
             [
              0.3333333333333333,
              "#9c179e"
             ],
             [
              0.4444444444444444,
              "#bd3786"
             ],
             [
              0.5555555555555556,
              "#d8576b"
             ],
             [
              0.6666666666666666,
              "#ed7953"
             ],
             [
              0.7777777777777778,
              "#fb9f3a"
             ],
             [
              0.8888888888888888,
              "#fdca26"
             ],
             [
              1,
              "#f0f921"
             ]
            ],
            "type": "histogram2dcontour"
           }
          ],
          "mesh3d": [
           {
            "colorbar": {
             "outlinewidth": 0,
             "ticks": ""
            },
            "type": "mesh3d"
           }
          ],
          "parcoords": [
           {
            "line": {
             "colorbar": {
              "outlinewidth": 0,
              "ticks": ""
             }
            },
            "type": "parcoords"
           }
          ],
          "pie": [
           {
            "automargin": true,
            "type": "pie"
           }
          ],
          "scatter": [
           {
            "fillpattern": {
             "fillmode": "overlay",
             "size": 10,
             "solidity": 0.2
            },
            "type": "scatter"
           }
          ],
          "scatter3d": [
           {
            "line": {
             "colorbar": {
              "outlinewidth": 0,
              "ticks": ""
             }
            },
            "marker": {
             "colorbar": {
              "outlinewidth": 0,
              "ticks": ""
             }
            },
            "type": "scatter3d"
           }
          ],
          "scattercarpet": [
           {
            "marker": {
             "colorbar": {
              "outlinewidth": 0,
              "ticks": ""
             }
            },
            "type": "scattercarpet"
           }
          ],
          "scattergeo": [
           {
            "marker": {
             "colorbar": {
              "outlinewidth": 0,
              "ticks": ""
             }
            },
            "type": "scattergeo"
           }
          ],
          "scattergl": [
           {
            "marker": {
             "colorbar": {
              "outlinewidth": 0,
              "ticks": ""
             }
            },
            "type": "scattergl"
           }
          ],
          "scattermap": [
           {
            "marker": {
             "colorbar": {
              "outlinewidth": 0,
              "ticks": ""
             }
            },
            "type": "scattermap"
           }
          ],
          "scattermapbox": [
           {
            "marker": {
             "colorbar": {
              "outlinewidth": 0,
              "ticks": ""
             }
            },
            "type": "scattermapbox"
           }
          ],
          "scatterpolar": [
           {
            "marker": {
             "colorbar": {
              "outlinewidth": 0,
              "ticks": ""
             }
            },
            "type": "scatterpolar"
           }
          ],
          "scatterpolargl": [
           {
            "marker": {
             "colorbar": {
              "outlinewidth": 0,
              "ticks": ""
             }
            },
            "type": "scatterpolargl"
           }
          ],
          "scatterternary": [
           {
            "marker": {
             "colorbar": {
              "outlinewidth": 0,
              "ticks": ""
             }
            },
            "type": "scatterternary"
           }
          ],
          "surface": [
           {
            "colorbar": {
             "outlinewidth": 0,
             "ticks": ""
            },
            "colorscale": [
             [
              0,
              "#0d0887"
             ],
             [
              0.1111111111111111,
              "#46039f"
             ],
             [
              0.2222222222222222,
              "#7201a8"
             ],
             [
              0.3333333333333333,
              "#9c179e"
             ],
             [
              0.4444444444444444,
              "#bd3786"
             ],
             [
              0.5555555555555556,
              "#d8576b"
             ],
             [
              0.6666666666666666,
              "#ed7953"
             ],
             [
              0.7777777777777778,
              "#fb9f3a"
             ],
             [
              0.8888888888888888,
              "#fdca26"
             ],
             [
              1,
              "#f0f921"
             ]
            ],
            "type": "surface"
           }
          ],
          "table": [
           {
            "cells": {
             "fill": {
              "color": "#EBF0F8"
             },
             "line": {
              "color": "white"
             }
            },
            "header": {
             "fill": {
              "color": "#C8D4E3"
             },
             "line": {
              "color": "white"
             }
            },
            "type": "table"
           }
          ]
         },
         "layout": {
          "annotationdefaults": {
           "arrowcolor": "#2a3f5f",
           "arrowhead": 0,
           "arrowwidth": 1
          },
          "autotypenumbers": "strict",
          "coloraxis": {
           "colorbar": {
            "outlinewidth": 0,
            "ticks": ""
           }
          },
          "colorscale": {
           "diverging": [
            [
             0,
             "#8e0152"
            ],
            [
             0.1,
             "#c51b7d"
            ],
            [
             0.2,
             "#de77ae"
            ],
            [
             0.3,
             "#f1b6da"
            ],
            [
             0.4,
             "#fde0ef"
            ],
            [
             0.5,
             "#f7f7f7"
            ],
            [
             0.6,
             "#e6f5d0"
            ],
            [
             0.7,
             "#b8e186"
            ],
            [
             0.8,
             "#7fbc41"
            ],
            [
             0.9,
             "#4d9221"
            ],
            [
             1,
             "#276419"
            ]
           ],
           "sequential": [
            [
             0,
             "#0d0887"
            ],
            [
             0.1111111111111111,
             "#46039f"
            ],
            [
             0.2222222222222222,
             "#7201a8"
            ],
            [
             0.3333333333333333,
             "#9c179e"
            ],
            [
             0.4444444444444444,
             "#bd3786"
            ],
            [
             0.5555555555555556,
             "#d8576b"
            ],
            [
             0.6666666666666666,
             "#ed7953"
            ],
            [
             0.7777777777777778,
             "#fb9f3a"
            ],
            [
             0.8888888888888888,
             "#fdca26"
            ],
            [
             1,
             "#f0f921"
            ]
           ],
           "sequentialminus": [
            [
             0,
             "#0d0887"
            ],
            [
             0.1111111111111111,
             "#46039f"
            ],
            [
             0.2222222222222222,
             "#7201a8"
            ],
            [
             0.3333333333333333,
             "#9c179e"
            ],
            [
             0.4444444444444444,
             "#bd3786"
            ],
            [
             0.5555555555555556,
             "#d8576b"
            ],
            [
             0.6666666666666666,
             "#ed7953"
            ],
            [
             0.7777777777777778,
             "#fb9f3a"
            ],
            [
             0.8888888888888888,
             "#fdca26"
            ],
            [
             1,
             "#f0f921"
            ]
           ]
          },
          "colorway": [
           "#636efa",
           "#EF553B",
           "#00cc96",
           "#ab63fa",
           "#FFA15A",
           "#19d3f3",
           "#FF6692",
           "#B6E880",
           "#FF97FF",
           "#FECB52"
          ],
          "font": {
           "color": "#2a3f5f"
          },
          "geo": {
           "bgcolor": "white",
           "lakecolor": "white",
           "landcolor": "white",
           "showlakes": true,
           "showland": true,
           "subunitcolor": "#C8D4E3"
          },
          "hoverlabel": {
           "align": "left"
          },
          "hovermode": "closest",
          "mapbox": {
           "style": "light"
          },
          "paper_bgcolor": "white",
          "plot_bgcolor": "white",
          "polar": {
           "angularaxis": {
            "gridcolor": "#EBF0F8",
            "linecolor": "#EBF0F8",
            "ticks": ""
           },
           "bgcolor": "white",
           "radialaxis": {
            "gridcolor": "#EBF0F8",
            "linecolor": "#EBF0F8",
            "ticks": ""
           }
          },
          "scene": {
           "xaxis": {
            "backgroundcolor": "white",
            "gridcolor": "#DFE8F3",
            "gridwidth": 2,
            "linecolor": "#EBF0F8",
            "showbackground": true,
            "ticks": "",
            "zerolinecolor": "#EBF0F8"
           },
           "yaxis": {
            "backgroundcolor": "white",
            "gridcolor": "#DFE8F3",
            "gridwidth": 2,
            "linecolor": "#EBF0F8",
            "showbackground": true,
            "ticks": "",
            "zerolinecolor": "#EBF0F8"
           },
           "zaxis": {
            "backgroundcolor": "white",
            "gridcolor": "#DFE8F3",
            "gridwidth": 2,
            "linecolor": "#EBF0F8",
            "showbackground": true,
            "ticks": "",
            "zerolinecolor": "#EBF0F8"
           }
          },
          "shapedefaults": {
           "line": {
            "color": "#2a3f5f"
           }
          },
          "ternary": {
           "aaxis": {
            "gridcolor": "#DFE8F3",
            "linecolor": "#A2B1C6",
            "ticks": ""
           },
           "baxis": {
            "gridcolor": "#DFE8F3",
            "linecolor": "#A2B1C6",
            "ticks": ""
           },
           "bgcolor": "white",
           "caxis": {
            "gridcolor": "#DFE8F3",
            "linecolor": "#A2B1C6",
            "ticks": ""
           }
          },
          "title": {
           "x": 0.05
          },
          "xaxis": {
           "automargin": true,
           "gridcolor": "#EBF0F8",
           "linecolor": "#EBF0F8",
           "ticks": "",
           "title": {
            "standoff": 15
           },
           "zerolinecolor": "#EBF0F8",
           "zerolinewidth": 2
          },
          "yaxis": {
           "automargin": true,
           "gridcolor": "#EBF0F8",
           "linecolor": "#EBF0F8",
           "ticks": "",
           "title": {
            "standoff": 15
           },
           "zerolinecolor": "#EBF0F8",
           "zerolinewidth": 2
          }
         }
        },
        "title": {
         "text": "Volatility vs Return by Regime (2025-01-11 to 2025-04-11)"
        },
        "xaxis": {
         "anchor": "y",
         "domain": [
          0,
          1
         ],
         "rangemode": "tozero",
         "title": {
          "text": "Volatility"
         }
        },
        "yaxis": {
         "anchor": "x",
         "domain": [
          0,
          1
         ],
         "title": {
          "text": "Return (%)"
         }
        }
       }
      }
     },
     "metadata": {},
     "output_type": "display_data"
    }
   ],
   "source": [
    "# Unified function for regime prediction and visualization\n",
    "def analyze_market_regimes(start_date, end_date, title=None):\n",
    "    \"\"\"\n",
    "    Comprehensive function to predict and visualize market regimes for any date range\n",
    "    \n",
    "    Parameters:\n",
    "    -----------\n",
    "    start_date : str\n",
    "        Start date in 'YYYY-MM-DD' format\n",
    "    end_date : str\n",
    "        End date in 'YYYY-MM-DD' format\n",
    "    title : str, optional\n",
    "        Custom title for the plots\n",
    "    \n",
    "    Returns:\n",
    "    --------\n",
    "    DataFrame with prediction results\n",
    "    \"\"\"\n",
    "    # Get predictions\n",
    "    results = predict_regimes(model, df, start_date, end_date)\n",
    "    \n",
    "    if results is None or results.empty:\n",
    "        print(\"No data available for the specified period\")\n",
    "        return None\n",
    "    \n",
    "    # Set plot title\n",
    "    if title is None:\n",
    "        title = f'Market Regimes from {start_date} to {end_date}'\n",
    "    \n",
    "    # Create subplot figures for SPY and VIX\n",
    "    fig = make_subplots(rows=2, cols=1, \n",
    "                       shared_xaxes=True,\n",
    "                       vertical_spacing=0.1,\n",
    "                       subplot_titles=('SPY Close Price by Regime', 'VIX by Regime'))\n",
    "    \n",
    "    # SPY price by regime\n",
    "    for regime in sorted(results['Predicted_Regime'].unique()):\n",
    "        regime_data = results[results['Predicted_Regime'] == regime]\n",
    "        fig.add_trace(\n",
    "            go.Scatter(\n",
    "                x=regime_data['Date'], \n",
    "                y=regime_data['Close'],\n",
    "                mode='markers',\n",
    "                marker=dict(color=regime_colors[regime], size=6),\n",
    "                name=f'Regime {regime}',\n",
    "                showlegend=True\n",
    "            ),\n",
    "            row=1, col=1\n",
    "        )\n",
    "    \n",
    "    # Add a line for the price trend\n",
    "    fig.add_trace(\n",
    "        go.Scatter(\n",
    "            x=results['Date'],\n",
    "            y=results['Close'],\n",
    "            mode='lines',\n",
    "            line=dict(color='rgba(0,0,0,0.3)'),\n",
    "            name='SPY Price',\n",
    "            showlegend=True\n",
    "        ),\n",
    "        row=1, col=1\n",
    "    )\n",
    "    \n",
    "    # VIX by regime\n",
    "    for regime in sorted(results['Predicted_Regime'].unique()):\n",
    "        regime_data = results[results['Predicted_Regime'] == regime]\n",
    "        fig.add_trace(\n",
    "            go.Scatter(\n",
    "                x=regime_data['Date'], \n",
    "                y=regime_data['VIX'],\n",
    "                mode='markers',\n",
    "                marker=dict(color=regime_colors[regime], size=6),\n",
    "                name=f'Regime {regime}',\n",
    "                showlegend=False\n",
    "            ),\n",
    "            row=2, col=1\n",
    "        )\n",
    "    \n",
    "    # Add a line for the VIX trend\n",
    "    fig.add_trace(\n",
    "        go.Scatter(\n",
    "            x=results['Date'],\n",
    "            y=results['VIX'],\n",
    "            mode='lines',\n",
    "            line=dict(color='rgba(0,0,0,0.3)'),\n",
    "            name='VIX',\n",
    "            showlegend=True\n",
    "        ),\n",
    "        row=2, col=1\n",
    "    )\n",
    "    \n",
    "    fig.update_layout(\n",
    "        height=800,\n",
    "        title_text=title,\n",
    "        template='plotly_white',\n",
    "        legend_title='Regime',\n",
    "        hovermode='closest'\n",
    "    )\n",
    "    \n",
    "    fig.update_xaxes(title_text=\"Date\", row=2, col=1)\n",
    "    fig.update_yaxes(title_text=\"SPY Price\", row=1, col=1)\n",
    "    fig.update_yaxes(title_text=\"VIX\", row=2, col=1)\n",
    "    \n",
    "    fig.show()\n",
    "    \n",
    "    # Distribution of regimes pie chart\n",
    "    regime_percentages = results['Predicted_Regime'].value_counts(normalize=True) * 100\n",
    "    labels = [f\"Regime {i}\" for i in sorted(regime_percentages.index)]\n",
    "    \n",
    "    fig_pie = px.pie(\n",
    "        values=regime_percentages.values,\n",
    "        names=labels,\n",
    "        title=f'Percentage of Time in Each Regime ({start_date} to {end_date})',\n",
    "        color_discrete_sequence=[regime_colors[i] for i in sorted(regime_percentages.index)]\n",
    "    )\n",
    "    \n",
    "    fig_pie.update_traces(textinfo='percent+label', textposition='inside')\n",
    "    fig_pie.update_layout(uniformtext_minsize=12, uniformtext_mode='hide')\n",
    "    fig_pie.show()\n",
    "    \n",
    "    # Scatter plot of Volatility vs Return colored by regime\n",
    "    fig_scatter = px.scatter(\n",
    "        results,\n",
    "        x='Volatility',\n",
    "        y='Return',\n",
    "        color='Predicted_Regime',\n",
    "        color_discrete_sequence=regime_colors,\n",
    "        size='VIX',  # Use VIX for point size\n",
    "        title=f'Volatility vs Return by Regime ({start_date} to {end_date})',\n",
    "        labels={'Volatility': 'Volatility', 'Return': 'Return (%)', 'VIX': 'VIX'},\n",
    "        opacity=0.8\n",
    "    )\n",
    "    \n",
    "    fig_scatter.update_layout(\n",
    "        legend_title='Regime',\n",
    "        hovermode='closest',\n",
    "        template='plotly_white'\n",
    "    )\n",
    "    \n",
    "    fig_scatter.update_xaxes(rangemode='tozero')\n",
    "    fig_scatter.show()\n",
    "    \n",
    "    return results\n",
    "\n",
    "# Example: Analyze the most recent 3 months\n",
    "from datetime import datetime, timedelta\n",
    "\n",
    "today = datetime.today()\n",
    "three_months_ago = today - timedelta(days=90)\n",
    "\n",
    "start_date = three_months_ago.strftime('%Y-%m-%d')\n",
    "end_date = today.strftime('%Y-%m-%d')\n",
    "\n",
    "recent_results = analyze_market_regimes(\n",
    "    start_date, \n",
    "    end_date, \n",
    "    title=f'Market Regimes in Recent 3 Months ({start_date} to {end_date})'\n",
    ")"
   ]
  }
 ],
 "metadata": {
  "kernelspec": {
   "display_name": "ml-env",
   "language": "python",
   "name": "python3"
  },
  "language_info": {
   "codemirror_mode": {
    "name": "ipython",
    "version": 3
   },
   "file_extension": ".py",
   "mimetype": "text/x-python",
   "name": "python",
   "nbconvert_exporter": "python",
   "pygments_lexer": "ipython3",
   "version": "3.9.18"
  }
 },
 "nbformat": 4,
 "nbformat_minor": 4
}
