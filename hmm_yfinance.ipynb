{
 "cells": [
  {
   "cell_type": "code",
   "execution_count": null,
   "metadata": {},
   "outputs": [],
   "source": [
    "import pandas as pd\n",
    "import numpy as np\n",
    "import matplotlib.pyplot as plt\n",
    "from matplotlib import cm\n",
    "import seaborn as sns\n",
    "from hmmlearn import hmm\n",
    "import yfinance as yf"
   ]
  },
  {
   "cell_type": "code",
   "execution_count": null,
   "metadata": {},
   "outputs": [],
   "source": [
    "# Hidden Markov Model Modifiable Parameters\n",
    "hidden_states = 3\n",
    "em_iterations = 75\n",
    "num_models = 8\n",
    "\n",
    "# Date parameters for yfinance API\n",
    "start_date = \"1995-01-01\"\n",
    "end_date = \"2025-04-04\"\n",
    "\n",
    "# Download data using yfinance instead of reading from CSV\n",
    "# Use auto_adjust=True to get adjusted prices\n",
    "df = yf.download('SPY', start=start_date, end=end_date, auto_adjust=True)\n",
    "\n",
    "# Fix the multi-level column structure\n",
    "df.columns = df.columns.droplevel(1)  # Remove the ticker level\n",
    "\n",
    "# Reset index to make Date a column\n",
    "df = df.reset_index()\n",
    "\n",
    "# Display first few rows to check the structure\n",
    "print(\"DataFrame structure after fixing:\")\n",
    "print(\"Data shape:\", df.shape)\n",
    "print(\"Data columns:\", df.columns.tolist())\n",
    "df.head()\n"
   ]
  },
  {
   "cell_type": "code",
   "execution_count": null,
   "metadata": {},
   "outputs": [],
   "source": [
    "# Print column names to verify what we have\n",
    "print(\"Column names:\", df.columns.tolist())\n",
    "\n",
    "# Check if necessary columns exist\n",
    "required_columns = ['Open', 'High', 'Low', 'Close', 'Volume']\n",
    "for col in required_columns:\n",
    "    if col not in df.columns:\n",
    "        print(f\"Warning: '{col}' column is missing!\")"
   ]
  },
  {
   "cell_type": "code",
   "execution_count": null,
   "metadata": {},
   "outputs": [],
   "source": [
    "# Volatility is computed by obtaining variance between current close and prices of past 10 days\n",
    "Volatility = []\n",
    "\n",
    "# MA is the 10 day SMA\n",
    "MA = []\n",
    "\n",
    "# Return is the single-day percentage return\n",
    "Return = []\n",
    "ma_sum = 0;\n",
    "\n",
    "# Warming up data for moving average and volatility calculations\n",
    "for i in range (0, 10):\n",
    "    Volatility.append(0);\n",
    "    MA.append(0);\n",
    "    Return.append(0);\n",
    "    ma_sum += df['Close'][i];\n",
    "\n",
    "# Filling in data for return, moving average, and volatility\n",
    "for ind in df.index: \n",
    "    if ind >= 10:\n",
    "        tail_close = df['Close'][ind-10];\n",
    "        prev_close = df['Close'][ind-1];\n",
    "        head_close = df['Close'][ind];\n",
    "        ma_sum = (ma_sum - tail_close + head_close);\n",
    "        ma_curr = ma_sum/10;\n",
    "        MA.append(ma_curr);\n",
    "        Return.append(((head_close-prev_close)/prev_close)*100);\n",
    "        #Computing Volatility\n",
    "        vol_sum = 0;\n",
    "        for i in range (0,10):\n",
    "            curr_vol = abs(ma_curr - df['Close'][ind-i]);\n",
    "            vol_sum += (curr_vol ** 2);\n",
    "        Volatility.append(vol_sum/10);\n",
    "\n",
    "# Adding columns to dataframe\n",
    "df['Volatility'] = Volatility;\n",
    "df['MA'] = MA;\n",
    "df['Return'] = Return;\n",
    "\n",
    "\"\"\"# With these calculations:\n",
    "# Calculate Moving Average (10-day)\n",
    "window = 10\n",
    "df['MA'] = df['Close'].rolling(window=window).mean()\n",
    "\n",
    "# Calculate Volatility (10-day)\n",
    "df['Volatility'] = df['Close'].rolling(window=window).apply(lambda x: np.sqrt(np.sum((x - x.mean())**2)/len(x)))\n",
    "\n",
    "# Calculate daily returns as percentage\n",
    "df['Return'] = df['Close'].pct_change() * 100\n",
    "\n",
    "# Drop rows with NaN values (first 'window' rows will have NaNs)\n",
    "df = df.dropna().reset_index(drop=True)\n",
    "\n",
    "print(\"Column names:\", df.columns.tolist())\n",
    "print(\"Data length:\", len(df))\n",
    "df.head()\"\"\"\n"
   ]
  },
  {
   "cell_type": "code",
   "execution_count": null,
   "metadata": {},
   "outputs": [],
   "source": [
    "# Calculate total length of the dataframe\n",
    "total_length = len(df)\n",
    "\n",
    "# Determine drop and training lengths to match original analysis\n",
    "# Original proportions: \n",
    "# total_length = 6843\n",
    "# drop_length = 3508 (51.3% of total)\n",
    "# training_length = 2706 (39.5% of total)\n",
    "# test_length = 629 (9.2% of total)\n",
    "\n",
    "drop_length = int(total_length * 0.513)\n",
    "training_length = int(total_length * 0.395)\n",
    "test_length = total_length - drop_length - training_length\n",
    "data_length = training_length + test_length\n",
    "\n",
    "print(f\"Total length: {total_length}\")\n",
    "print(f\"Drop length: {drop_length}\")\n",
    "print(f\"Training length: {training_length}\")\n",
    "print(f\"Test length: {test_length}\")\n",
    "print(f\"Data length: {data_length}\")\n",
    "\n",
    "# Dataframe readjustment\n",
    "df = df.iloc[drop_length:].copy()  # Use iloc instead of drop for cleaner index handling\n",
    "df = df.reset_index(drop=True)  # Reset the index after dropping rows"
   ]
  },
  {
   "cell_type": "code",
   "execution_count": null,
   "metadata": {},
   "outputs": [],
   "source": [
    "# Creating testing and training dataset\n",
    "test = df.iloc[training_length:].copy()\n",
    "test = test.reset_index(drop=True)\n",
    "training = df.iloc[:training_length].copy()"
   ]
  },
  {
   "cell_type": "code",
   "execution_count": null,
   "metadata": {},
   "outputs": [],
   "source": [
    "# Check available columns in training data\n",
    "print(\"Available columns in training data:\", training.columns.tolist())\n",
    "\n",
    "fig, a = plt.subplots(3, 3, figsize=(15, 12))\n",
    "x = np.arange(1, 5)\n",
    "fig.tight_layout()\n",
    "a[0][0].plot(range(0, len(training)), training['Open'])\n",
    "a[0][0].set_title('Open')\n",
    "a[0][1].plot(range(0, len(training)), training['High'])\n",
    "a[0][1].set_title('High')\n",
    "a[0][2].plot(range(0, len(training)), training['Low'])\n",
    "a[0][2].set_title('Low')\n",
    "a[1][0].plot(range(0, len(training)), training['Close'])\n",
    "a[1][0].set_title('Close')\n",
    "a[1][1].plot(range(0, len(training)), training['Volatility'])\n",
    "a[1][1].set_title('Volatility')\n",
    "a[1][2].plot(range(0, len(training)), training['Return'])\n",
    "a[1][2].set_title('Return')\n",
    "a[2][0].plot(range(0, len(training)), training['MA'])\n",
    "a[2][0].set_title('MA')\n",
    "a[2][1].plot(range(0, len(training)), training['Volume'])\n",
    "a[2][1].set_title('Volume')\n",
    "# Use third plot for date information\n",
    "a[2][2].plot(range(0, len(training)), training['Close'])\n",
    "a[2][2].set_title('Close (Second View)')\n",
    "plt.show()"
   ]
  },
  {
   "cell_type": "code",
   "execution_count": null,
   "metadata": {},
   "outputs": [],
   "source": [
    "df.head()"
   ]
  },
  {
   "cell_type": "code",
   "execution_count": null,
   "metadata": {},
   "outputs": [],
   "source": [
    "# Creating the Hidden Markov Model\n",
    "model = hmm.GaussianHMM(n_components=hidden_states, covariance_type=\"full\", n_iter=em_iterations)\n",
    "obs = np.column_stack([training['Volatility'].values, training['Return'].values])\n",
    "\n",
    "# Fitting the model and obtaining predictions\n",
    "model.fit(obs)\n",
    "predictions = model.predict(obs)"
   ]
  },
  {
   "cell_type": "code",
   "execution_count": null,
   "metadata": {},
   "outputs": [],
   "source": [
    "plt.figure(figsize=(12, 6))\n",
    "plt.plot(predictions, 'ro')\n",
    "plt.title('Regime Predictions')\n",
    "plt.xlabel('Time')\n",
    "plt.ylabel('Regime')\n",
    "plt.show()"
   ]
  },
  {
   "cell_type": "code",
   "execution_count": null,
   "metadata": {},
   "outputs": [],
   "source": [
    "# Regime Classification\n",
    "regime_vol = [0] * hidden_states\n",
    "regime_ret = [0] * hidden_states\n",
    "regime_count = [0] * hidden_states\n",
    "return_map = {i: [] for i in range(hidden_states)}\n",
    "\n",
    "for i in range(len(predictions)):\n",
    "    regime = predictions[i]\n",
    "    regime_count[regime] += 1\n",
    "    regime_vol[regime] += training['Volatility'].iloc[i]\n",
    "    regime_ret[regime] += training['Return'].iloc[i]\n",
    "    return_map[regime].append(training['Return'].iloc[i])\n",
    "    \n",
    "for i in range(hidden_states):\n",
    "    if regime_count[i] > 0:  # Prevent division by zero\n",
    "        regime_vol[i] = regime_vol[i] / regime_count[i]\n",
    "        regime_ret[i] = regime_ret[i] / regime_count[i]"
   ]
  },
  {
   "cell_type": "code",
   "execution_count": null,
   "metadata": {},
   "outputs": [],
   "source": [
    "max_occurrence = np.argmax(regime_count)\n",
    "for i in range(0, hidden_states):\n",
    "    print(f\"Regime {i}\")\n",
    "    print(f\"Avg Vol: {regime_vol[i]}\")\n",
    "    print(f\"Avg Return: {regime_ret[i]}\")\n",
    "    print(f\"Occurrence: {regime_count[i]}\\n\")"
   ]
  },
  {
   "cell_type": "code",
   "execution_count": null,
   "metadata": {},
   "outputs": [],
   "source": [
    "# Add the predictions to the training dataframe for visualization\n",
    "training_with_predictions = training.copy()\n",
    "training_with_predictions['Regime'] = predictions\n",
    "\n",
    "# Create scatterplot with regimes\n",
    "plt.figure(figsize=(18, 10))\n",
    "sns.scatterplot(x=training_with_predictions.index, y='Close', \n",
    "                hue='Regime', data=training_with_predictions, \n",
    "                palette=\"Set2\", s=40)\n",
    "plt.title('SPY Close Price Colored by Regime')\n",
    "plt.xlabel('Time')\n",
    "plt.ylabel('Price')\n",
    "plt.show()"
   ]
  },
  {
   "cell_type": "code",
   "execution_count": null,
   "metadata": {},
   "outputs": [],
   "source": [
    "# Prepare returns dataframe for analysis\n",
    "returns_data = {}\n",
    "for i in range(hidden_states):\n",
    "    returns_data[f'Regime_{i}'] = return_map[i]\n",
    "    \n",
    "# Create returns dataframe with the maximum length across all regimes\n",
    "max_len = max(len(v) for v in return_map.values())\n",
    "returns = pd.DataFrame()\n",
    "for i in range(hidden_states):\n",
    "    regime_returns = return_map[i] + [np.nan] * (max_len - len(return_map[i]))\n",
    "    returns[f'Regime_{i}'] = regime_returns"
   ]
  },
  {
   "cell_type": "code",
   "execution_count": null,
   "metadata": {},
   "outputs": [],
   "source": [
    "distribution = model.get_stationary_distribution()\n",
    "for i in range(0, hidden_states):\n",
    "    print(f\"Regime {i}: {distribution[i]}\")"
   ]
  },
  {
   "cell_type": "code",
   "execution_count": null,
   "metadata": {},
   "outputs": [],
   "source": [
    "print(f\"Model Score: {model.score(obs)}\")"
   ]
  },
  {
   "cell_type": "code",
   "execution_count": null,
   "metadata": {},
   "outputs": [],
   "source": [
    "# Boxplot of returns\n",
    "plt.figure(figsize=(10, 6))\n",
    "data_to_plot = [return_map[i] for i in range(hidden_states)]\n",
    "plt.boxplot(data_to_plot, notch=True, sym='o', vert=True, whis=1.5)\n",
    "plt.ylim(-15, 15)\n",
    "plt.title(\"Boxplot of Returns by Regime\")\n",
    "plt.xticks(range(1, hidden_states + 1), [f'Regime {i}' for i in range(hidden_states)])\n",
    "plt.xlabel('Regime')\n",
    "plt.ylabel('Return (%)')\n",
    "plt.grid(True, linestyle='--', alpha=0.7)\n",
    "plt.show()"
   ]
  },
  {
   "cell_type": "code",
   "execution_count": null,
   "metadata": {},
   "outputs": [],
   "source": [
    "# Calculate transition matrix\n",
    "transition = pd.DataFrame(data=model.transmat_)\n",
    "transition.index = [f'From Regime {i}' for i in range(hidden_states)]\n",
    "transition.columns = [f'To Regime {i}' for i in range(hidden_states)]\n",
    "print(\"Transition Matrix:\")\n",
    "transition"
   ]
  },
  {
   "cell_type": "code",
   "execution_count": null,
   "metadata": {},
   "outputs": [],
   "source": [
    "# Create a nicer visualization of the transition matrix\n",
    "plt.figure(figsize=(8, 6))\n",
    "sns.heatmap(model.transmat_, annot=True, cmap=\"YlGnBu\", fmt=\".3f\",\n",
    "            xticklabels=[f'To Regime {i}' for i in range(hidden_states)],\n",
    "            yticklabels=[f'From Regime {i}' for i in range(hidden_states)])\n",
    "plt.title('Regime Transition Probabilities')\n",
    "plt.tight_layout()\n",
    "plt.show()"
   ]
  },
  {
   "cell_type": "code",
   "execution_count": null,
   "metadata": {},
   "outputs": [],
   "source": [
    "# Create a function to predict the current regime\n",
    "def predict_regime(close_prices, volatility_window=10):\n",
    "    # Ensure we have enough data\n",
    "    if len(close_prices) < volatility_window + 1:\n",
    "        raise ValueError(f\"Need at least {volatility_window + 1} price points\")\n",
    "        \n",
    "    # Calculate MA\n",
    "    ma = sum(close_prices[:volatility_window]) / volatility_window\n",
    "    \n",
    "    # Calculate volatility\n",
    "    volatility = 0\n",
    "    for i in range(volatility_window):\n",
    "        curr_vol = abs(ma - close_prices[i])\n",
    "        volatility += (curr_vol ** 2)\n",
    "    volatility /= volatility_window\n",
    "    \n",
    "    # Calculate return\n",
    "    ret = ((close_prices[-1] - close_prices[-2]) / close_prices[-2]) * 100\n",
    "    \n",
    "    # Predict regime\n",
    "    observation = np.array([[volatility, ret]])\n",
    "    regime = model.predict(observation)[0]\n",
    "    \n",
    "    return regime, volatility, ret"
   ]
  },
  {
   "cell_type": "code",
   "execution_count": null,
   "metadata": {},
   "outputs": [],
   "source": [
    "# Test the prediction function with the latest data from our dataset\n",
    "latest_prices = df['Close'].iloc[-11:].values\n",
    "current_regime, vol_value, ret_value = predict_regime(latest_prices)\n",
    "\n",
    "print(f\"Current Regime: {current_regime}\")\n",
    "print(f\"Current Volatility: {vol_value:.4f}\")\n",
    "print(f\"Current Return: {ret_value:.4f}%\")\n",
    "print(f\"Expected Average Return in this Regime: {regime_ret[current_regime]:.4f}%\")"
   ]
  },
  {
   "cell_type": "code",
   "execution_count": null,
   "metadata": {},
   "outputs": [],
   "source": [
    "# Let's also get some recent data to test our model on current market conditions\n",
    "import datetime as dt\n",
    "\n",
    "# Get today's date\n",
    "today = dt.datetime.now().strftime('%Y-%m-%d')\n",
    "# Get data for the last 30 days\n",
    "recent_data = yf.download('SPY', start=dt.datetime.now() - dt.timedelta(days=30), end=today, auto_adjust=True)\n",
    "\n",
    "# Apply our regime detection to recent data if we have enough data points\n",
    "if len(recent_data) > 11:\n",
    "    latest_prices_recent = recent_data['Close'].tail(11).values\n",
    "    current_regime_recent, vol_value_recent, ret_value_recent = predict_regime(latest_prices_recent)\n",
    "    \n",
    "    print(f\"Current Market Regime (Recent Data): {current_regime_recent}\")\n",
    "    print(f\"Current Volatility: {vol_value_recent:.4f}\")\n",
    "    print(f\"Current Return: {ret_value_recent:.4f}%\")\n",
    "    print(f\"Expected Average Return in this Regime: {regime_ret[current_regime_recent]:.4f}%\")\n",
    "    \n",
    "    # Compare with regime characteristics\n",
    "    print(\"\\nRegime Characteristics:\")\n",
    "    for i in range(hidden_states):\n",
    "        print(f\"Regime {i}: Volatility = {regime_vol[i]:.4f}, Return = {regime_ret[i]:.4f}%\")\n",
    "else:\n",
    "    print(\"Not enough recent data points for regime prediction\")\n"
   ]
  },
  {
   "cell_type": "code",
   "execution_count": null,
   "metadata": {},
   "outputs": [],
   "source": [
    "# Optional: Save model for future use\n",
    "import joblib\n",
    "joblib.dump(model, 'hmm_market_regime_model.pkl')\n",
    "print(\"Model saved to 'hmm_market_regime_model.pkl'\")\n",
    "\n",
    "# Also save the regime statistics for reference\n",
    "regime_stats = pd.DataFrame({\n",
    "    'Volatility': regime_vol,\n",
    "    'Return': regime_ret,\n",
    "    'Occurrence': regime_count,\n",
    "    'Probability': distribution\n",
    "})\n",
    "regime_stats.index = [f'Regime_{i}' for i in range(hidden_states)]\n",
    "regime_stats.to_csv('hmm_regime_statistics.csv')\n",
    "print(\"Regime statistics saved to 'hmm_regime_statistics.csv'\")"
   ]
  }
 ],
 "metadata": {
  "kernelspec": {
   "display_name": "Python 3",
   "language": "python",
   "name": "python3"
  },
  "language_info": {
   "codemirror_mode": {
    "name": "ipython",
    "version": 3
   },
   "file_extension": ".py",
   "mimetype": "text/x-python",
   "name": "python",
   "nbconvert_exporter": "python",
   "pygments_lexer": "ipython3",
   "version": "3.8.5"
  }
 },
 "nbformat": 4,
 "nbformat_minor": 4
}
